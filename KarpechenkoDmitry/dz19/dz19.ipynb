{
 "cells": [
  {
   "cell_type": "markdown",
   "id": "d04fe081",
   "metadata": {},
   "source": [
    "Карпеченко Д.М., dz19, v.0.1, 24.12.2022"
   ]
  },
  {
   "cell_type": "code",
   "execution_count": 358,
   "id": "6f41158b",
   "metadata": {},
   "outputs": [],
   "source": [
    "import numpy as np\n",
    "import pandas as pd\n",
    "from scipy import stats\n",
    "from math import *\n",
    "import seaborn as sns\n",
    "import matplotlib.pyplot as plt\n",
    "from sklearn.preprocessing import MinMaxScaler as MMScaler\n",
    "from sklearn.pipeline import Pipeline\n",
    "\n",
    "\n",
    "#Снять ограничения на вывод колонок\n",
    "pd.set_option('display.max_columns', None)\n",
    "#Снять ограничения на вывод строк\n",
    "pd.set_option('display.max_rows', 15)\n",
    "data = pd.read_csv('D:\\TeachMeSkills\\DZ\\dz19\\winequality-white.csv',sep = ';', decimal='.')\n"
   ]
  },
  {
   "cell_type": "code",
   "execution_count": 359,
   "id": "db351ad5",
   "metadata": {},
   "outputs": [
    {
     "data": {
      "text/html": [
       "<div>\n",
       "<style scoped>\n",
       "    .dataframe tbody tr th:only-of-type {\n",
       "        vertical-align: middle;\n",
       "    }\n",
       "\n",
       "    .dataframe tbody tr th {\n",
       "        vertical-align: top;\n",
       "    }\n",
       "\n",
       "    .dataframe thead th {\n",
       "        text-align: right;\n",
       "    }\n",
       "</style>\n",
       "<table border=\"1\" class=\"dataframe\">\n",
       "  <thead>\n",
       "    <tr style=\"text-align: right;\">\n",
       "      <th></th>\n",
       "      <th>fixed acidity</th>\n",
       "      <th>volatile acidity</th>\n",
       "      <th>citric acid</th>\n",
       "      <th>residual sugar</th>\n",
       "      <th>chlorides</th>\n",
       "      <th>free sulfur dioxide</th>\n",
       "      <th>total sulfur dioxide</th>\n",
       "      <th>density</th>\n",
       "      <th>pH</th>\n",
       "      <th>sulphates</th>\n",
       "      <th>alcohol</th>\n",
       "      <th>quality</th>\n",
       "    </tr>\n",
       "  </thead>\n",
       "  <tbody>\n",
       "    <tr>\n",
       "      <th>0</th>\n",
       "      <td>7.0</td>\n",
       "      <td>0.27</td>\n",
       "      <td>0.36</td>\n",
       "      <td>20.7</td>\n",
       "      <td>0.045</td>\n",
       "      <td>45.0</td>\n",
       "      <td>170.0</td>\n",
       "      <td>1.00100</td>\n",
       "      <td>3.00</td>\n",
       "      <td>0.45</td>\n",
       "      <td>8.8</td>\n",
       "      <td>6</td>\n",
       "    </tr>\n",
       "    <tr>\n",
       "      <th>1</th>\n",
       "      <td>6.3</td>\n",
       "      <td>0.30</td>\n",
       "      <td>0.34</td>\n",
       "      <td>1.6</td>\n",
       "      <td>0.049</td>\n",
       "      <td>14.0</td>\n",
       "      <td>132.0</td>\n",
       "      <td>0.99400</td>\n",
       "      <td>3.30</td>\n",
       "      <td>0.49</td>\n",
       "      <td>9.5</td>\n",
       "      <td>6</td>\n",
       "    </tr>\n",
       "    <tr>\n",
       "      <th>2</th>\n",
       "      <td>8.1</td>\n",
       "      <td>0.28</td>\n",
       "      <td>0.40</td>\n",
       "      <td>6.9</td>\n",
       "      <td>0.050</td>\n",
       "      <td>30.0</td>\n",
       "      <td>97.0</td>\n",
       "      <td>0.99510</td>\n",
       "      <td>3.26</td>\n",
       "      <td>0.44</td>\n",
       "      <td>10.1</td>\n",
       "      <td>6</td>\n",
       "    </tr>\n",
       "    <tr>\n",
       "      <th>3</th>\n",
       "      <td>7.2</td>\n",
       "      <td>0.23</td>\n",
       "      <td>0.32</td>\n",
       "      <td>8.5</td>\n",
       "      <td>0.058</td>\n",
       "      <td>47.0</td>\n",
       "      <td>186.0</td>\n",
       "      <td>0.99560</td>\n",
       "      <td>3.19</td>\n",
       "      <td>0.40</td>\n",
       "      <td>9.9</td>\n",
       "      <td>6</td>\n",
       "    </tr>\n",
       "    <tr>\n",
       "      <th>4</th>\n",
       "      <td>7.2</td>\n",
       "      <td>0.23</td>\n",
       "      <td>0.32</td>\n",
       "      <td>8.5</td>\n",
       "      <td>0.058</td>\n",
       "      <td>47.0</td>\n",
       "      <td>186.0</td>\n",
       "      <td>0.99560</td>\n",
       "      <td>3.19</td>\n",
       "      <td>0.40</td>\n",
       "      <td>9.9</td>\n",
       "      <td>6</td>\n",
       "    </tr>\n",
       "    <tr>\n",
       "      <th>...</th>\n",
       "      <td>...</td>\n",
       "      <td>...</td>\n",
       "      <td>...</td>\n",
       "      <td>...</td>\n",
       "      <td>...</td>\n",
       "      <td>...</td>\n",
       "      <td>...</td>\n",
       "      <td>...</td>\n",
       "      <td>...</td>\n",
       "      <td>...</td>\n",
       "      <td>...</td>\n",
       "      <td>...</td>\n",
       "    </tr>\n",
       "    <tr>\n",
       "      <th>4893</th>\n",
       "      <td>6.2</td>\n",
       "      <td>0.21</td>\n",
       "      <td>0.29</td>\n",
       "      <td>1.6</td>\n",
       "      <td>0.039</td>\n",
       "      <td>24.0</td>\n",
       "      <td>92.0</td>\n",
       "      <td>0.99114</td>\n",
       "      <td>3.27</td>\n",
       "      <td>0.50</td>\n",
       "      <td>11.2</td>\n",
       "      <td>6</td>\n",
       "    </tr>\n",
       "    <tr>\n",
       "      <th>4894</th>\n",
       "      <td>6.6</td>\n",
       "      <td>0.32</td>\n",
       "      <td>0.36</td>\n",
       "      <td>8.0</td>\n",
       "      <td>0.047</td>\n",
       "      <td>57.0</td>\n",
       "      <td>168.0</td>\n",
       "      <td>0.99490</td>\n",
       "      <td>3.15</td>\n",
       "      <td>0.46</td>\n",
       "      <td>9.6</td>\n",
       "      <td>5</td>\n",
       "    </tr>\n",
       "    <tr>\n",
       "      <th>4895</th>\n",
       "      <td>6.5</td>\n",
       "      <td>0.24</td>\n",
       "      <td>0.19</td>\n",
       "      <td>1.2</td>\n",
       "      <td>0.041</td>\n",
       "      <td>30.0</td>\n",
       "      <td>111.0</td>\n",
       "      <td>0.99254</td>\n",
       "      <td>2.99</td>\n",
       "      <td>0.46</td>\n",
       "      <td>9.4</td>\n",
       "      <td>6</td>\n",
       "    </tr>\n",
       "    <tr>\n",
       "      <th>4896</th>\n",
       "      <td>5.5</td>\n",
       "      <td>0.29</td>\n",
       "      <td>0.30</td>\n",
       "      <td>1.1</td>\n",
       "      <td>0.022</td>\n",
       "      <td>20.0</td>\n",
       "      <td>110.0</td>\n",
       "      <td>0.98869</td>\n",
       "      <td>3.34</td>\n",
       "      <td>0.38</td>\n",
       "      <td>12.8</td>\n",
       "      <td>7</td>\n",
       "    </tr>\n",
       "    <tr>\n",
       "      <th>4897</th>\n",
       "      <td>6.0</td>\n",
       "      <td>0.21</td>\n",
       "      <td>0.38</td>\n",
       "      <td>0.8</td>\n",
       "      <td>0.020</td>\n",
       "      <td>22.0</td>\n",
       "      <td>98.0</td>\n",
       "      <td>0.98941</td>\n",
       "      <td>3.26</td>\n",
       "      <td>0.32</td>\n",
       "      <td>11.8</td>\n",
       "      <td>6</td>\n",
       "    </tr>\n",
       "  </tbody>\n",
       "</table>\n",
       "<p>4898 rows × 12 columns</p>\n",
       "</div>"
      ],
      "text/plain": [
       "      fixed acidity  volatile acidity  citric acid  residual sugar  chlorides  \\\n",
       "0               7.0              0.27         0.36            20.7      0.045   \n",
       "1               6.3              0.30         0.34             1.6      0.049   \n",
       "2               8.1              0.28         0.40             6.9      0.050   \n",
       "3               7.2              0.23         0.32             8.5      0.058   \n",
       "4               7.2              0.23         0.32             8.5      0.058   \n",
       "...             ...               ...          ...             ...        ...   \n",
       "4893            6.2              0.21         0.29             1.6      0.039   \n",
       "4894            6.6              0.32         0.36             8.0      0.047   \n",
       "4895            6.5              0.24         0.19             1.2      0.041   \n",
       "4896            5.5              0.29         0.30             1.1      0.022   \n",
       "4897            6.0              0.21         0.38             0.8      0.020   \n",
       "\n",
       "      free sulfur dioxide  total sulfur dioxide  density    pH  sulphates  \\\n",
       "0                    45.0                 170.0  1.00100  3.00       0.45   \n",
       "1                    14.0                 132.0  0.99400  3.30       0.49   \n",
       "2                    30.0                  97.0  0.99510  3.26       0.44   \n",
       "3                    47.0                 186.0  0.99560  3.19       0.40   \n",
       "4                    47.0                 186.0  0.99560  3.19       0.40   \n",
       "...                   ...                   ...      ...   ...        ...   \n",
       "4893                 24.0                  92.0  0.99114  3.27       0.50   \n",
       "4894                 57.0                 168.0  0.99490  3.15       0.46   \n",
       "4895                 30.0                 111.0  0.99254  2.99       0.46   \n",
       "4896                 20.0                 110.0  0.98869  3.34       0.38   \n",
       "4897                 22.0                  98.0  0.98941  3.26       0.32   \n",
       "\n",
       "      alcohol  quality  \n",
       "0         8.8        6  \n",
       "1         9.5        6  \n",
       "2        10.1        6  \n",
       "3         9.9        6  \n",
       "4         9.9        6  \n",
       "...       ...      ...  \n",
       "4893     11.2        6  \n",
       "4894      9.6        5  \n",
       "4895      9.4        6  \n",
       "4896     12.8        7  \n",
       "4897     11.8        6  \n",
       "\n",
       "[4898 rows x 12 columns]"
      ]
     },
     "execution_count": 359,
     "metadata": {},
     "output_type": "execute_result"
    }
   ],
   "source": [
    "data"
   ]
  },
  {
   "cell_type": "code",
   "execution_count": 360,
   "id": "59544261",
   "metadata": {},
   "outputs": [
    {
     "name": "stdout",
     "output_type": "stream",
     "text": [
      "<class 'pandas.core.frame.DataFrame'>\n",
      "RangeIndex: 4898 entries, 0 to 4897\n",
      "Data columns (total 12 columns):\n",
      " #   Column                Non-Null Count  Dtype  \n",
      "---  ------                --------------  -----  \n",
      " 0   fixed acidity         4898 non-null   float64\n",
      " 1   volatile acidity      4898 non-null   float64\n",
      " 2   citric acid           4898 non-null   float64\n",
      " 3   residual sugar        4898 non-null   float64\n",
      " 4   chlorides             4898 non-null   float64\n",
      " 5   free sulfur dioxide   4898 non-null   float64\n",
      " 6   total sulfur dioxide  4898 non-null   float64\n",
      " 7   density               4898 non-null   float64\n",
      " 8   pH                    4898 non-null   float64\n",
      " 9   sulphates             4898 non-null   float64\n",
      " 10  alcohol               4898 non-null   float64\n",
      " 11  quality               4898 non-null   int64  \n",
      "dtypes: float64(11), int64(1)\n",
      "memory usage: 459.3 KB\n"
     ]
    }
   ],
   "source": [
    "data.info()"
   ]
  },
  {
   "cell_type": "code",
   "execution_count": 363,
   "id": "b5ae5ea8",
   "metadata": {},
   "outputs": [],
   "source": [
    "data['quality']=data['quality'].astype('category')"
   ]
  },
  {
   "cell_type": "code",
   "execution_count": 364,
   "id": "7a2e7e1b",
   "metadata": {},
   "outputs": [
    {
     "data": {
      "text/html": [
       "<div>\n",
       "<style scoped>\n",
       "    .dataframe tbody tr th:only-of-type {\n",
       "        vertical-align: middle;\n",
       "    }\n",
       "\n",
       "    .dataframe tbody tr th {\n",
       "        vertical-align: top;\n",
       "    }\n",
       "\n",
       "    .dataframe thead th {\n",
       "        text-align: right;\n",
       "    }\n",
       "</style>\n",
       "<table border=\"1\" class=\"dataframe\">\n",
       "  <thead>\n",
       "    <tr style=\"text-align: right;\">\n",
       "      <th></th>\n",
       "      <th>fixed acidity</th>\n",
       "      <th>volatile acidity</th>\n",
       "      <th>citric acid</th>\n",
       "      <th>residual sugar</th>\n",
       "      <th>chlorides</th>\n",
       "      <th>free sulfur dioxide</th>\n",
       "      <th>total sulfur dioxide</th>\n",
       "      <th>density</th>\n",
       "      <th>pH</th>\n",
       "      <th>sulphates</th>\n",
       "      <th>alcohol</th>\n",
       "    </tr>\n",
       "  </thead>\n",
       "  <tbody>\n",
       "    <tr>\n",
       "      <th>count</th>\n",
       "      <td>4898.000000</td>\n",
       "      <td>4898.000000</td>\n",
       "      <td>4898.000000</td>\n",
       "      <td>4898.000000</td>\n",
       "      <td>4898.000000</td>\n",
       "      <td>4898.000000</td>\n",
       "      <td>4898.000000</td>\n",
       "      <td>4898.000000</td>\n",
       "      <td>4898.000000</td>\n",
       "      <td>4898.000000</td>\n",
       "      <td>4898.000000</td>\n",
       "    </tr>\n",
       "    <tr>\n",
       "      <th>mean</th>\n",
       "      <td>6.854788</td>\n",
       "      <td>0.278241</td>\n",
       "      <td>0.334192</td>\n",
       "      <td>6.391415</td>\n",
       "      <td>0.045772</td>\n",
       "      <td>35.308085</td>\n",
       "      <td>138.360657</td>\n",
       "      <td>0.994027</td>\n",
       "      <td>3.188267</td>\n",
       "      <td>0.489847</td>\n",
       "      <td>10.514267</td>\n",
       "    </tr>\n",
       "    <tr>\n",
       "      <th>std</th>\n",
       "      <td>0.843868</td>\n",
       "      <td>0.100795</td>\n",
       "      <td>0.121020</td>\n",
       "      <td>5.072058</td>\n",
       "      <td>0.021848</td>\n",
       "      <td>17.007137</td>\n",
       "      <td>42.498065</td>\n",
       "      <td>0.002991</td>\n",
       "      <td>0.151001</td>\n",
       "      <td>0.114126</td>\n",
       "      <td>1.230621</td>\n",
       "    </tr>\n",
       "    <tr>\n",
       "      <th>min</th>\n",
       "      <td>3.800000</td>\n",
       "      <td>0.080000</td>\n",
       "      <td>0.000000</td>\n",
       "      <td>0.600000</td>\n",
       "      <td>0.009000</td>\n",
       "      <td>2.000000</td>\n",
       "      <td>9.000000</td>\n",
       "      <td>0.987110</td>\n",
       "      <td>2.720000</td>\n",
       "      <td>0.220000</td>\n",
       "      <td>8.000000</td>\n",
       "    </tr>\n",
       "    <tr>\n",
       "      <th>25%</th>\n",
       "      <td>6.300000</td>\n",
       "      <td>0.210000</td>\n",
       "      <td>0.270000</td>\n",
       "      <td>1.700000</td>\n",
       "      <td>0.036000</td>\n",
       "      <td>23.000000</td>\n",
       "      <td>108.000000</td>\n",
       "      <td>0.991723</td>\n",
       "      <td>3.090000</td>\n",
       "      <td>0.410000</td>\n",
       "      <td>9.500000</td>\n",
       "    </tr>\n",
       "    <tr>\n",
       "      <th>50%</th>\n",
       "      <td>6.800000</td>\n",
       "      <td>0.260000</td>\n",
       "      <td>0.320000</td>\n",
       "      <td>5.200000</td>\n",
       "      <td>0.043000</td>\n",
       "      <td>34.000000</td>\n",
       "      <td>134.000000</td>\n",
       "      <td>0.993740</td>\n",
       "      <td>3.180000</td>\n",
       "      <td>0.470000</td>\n",
       "      <td>10.400000</td>\n",
       "    </tr>\n",
       "    <tr>\n",
       "      <th>75%</th>\n",
       "      <td>7.300000</td>\n",
       "      <td>0.320000</td>\n",
       "      <td>0.390000</td>\n",
       "      <td>9.900000</td>\n",
       "      <td>0.050000</td>\n",
       "      <td>46.000000</td>\n",
       "      <td>167.000000</td>\n",
       "      <td>0.996100</td>\n",
       "      <td>3.280000</td>\n",
       "      <td>0.550000</td>\n",
       "      <td>11.400000</td>\n",
       "    </tr>\n",
       "    <tr>\n",
       "      <th>max</th>\n",
       "      <td>14.200000</td>\n",
       "      <td>1.100000</td>\n",
       "      <td>1.660000</td>\n",
       "      <td>65.800000</td>\n",
       "      <td>0.346000</td>\n",
       "      <td>289.000000</td>\n",
       "      <td>440.000000</td>\n",
       "      <td>1.038980</td>\n",
       "      <td>3.820000</td>\n",
       "      <td>1.080000</td>\n",
       "      <td>14.200000</td>\n",
       "    </tr>\n",
       "  </tbody>\n",
       "</table>\n",
       "</div>"
      ],
      "text/plain": [
       "       fixed acidity  volatile acidity  citric acid  residual sugar  \\\n",
       "count    4898.000000       4898.000000  4898.000000     4898.000000   \n",
       "mean        6.854788          0.278241     0.334192        6.391415   \n",
       "std         0.843868          0.100795     0.121020        5.072058   \n",
       "min         3.800000          0.080000     0.000000        0.600000   \n",
       "25%         6.300000          0.210000     0.270000        1.700000   \n",
       "50%         6.800000          0.260000     0.320000        5.200000   \n",
       "75%         7.300000          0.320000     0.390000        9.900000   \n",
       "max        14.200000          1.100000     1.660000       65.800000   \n",
       "\n",
       "         chlorides  free sulfur dioxide  total sulfur dioxide      density  \\\n",
       "count  4898.000000          4898.000000           4898.000000  4898.000000   \n",
       "mean      0.045772            35.308085            138.360657     0.994027   \n",
       "std       0.021848            17.007137             42.498065     0.002991   \n",
       "min       0.009000             2.000000              9.000000     0.987110   \n",
       "25%       0.036000            23.000000            108.000000     0.991723   \n",
       "50%       0.043000            34.000000            134.000000     0.993740   \n",
       "75%       0.050000            46.000000            167.000000     0.996100   \n",
       "max       0.346000           289.000000            440.000000     1.038980   \n",
       "\n",
       "                pH    sulphates      alcohol  \n",
       "count  4898.000000  4898.000000  4898.000000  \n",
       "mean      3.188267     0.489847    10.514267  \n",
       "std       0.151001     0.114126     1.230621  \n",
       "min       2.720000     0.220000     8.000000  \n",
       "25%       3.090000     0.410000     9.500000  \n",
       "50%       3.180000     0.470000    10.400000  \n",
       "75%       3.280000     0.550000    11.400000  \n",
       "max       3.820000     1.080000    14.200000  "
      ]
     },
     "execution_count": 364,
     "metadata": {},
     "output_type": "execute_result"
    }
   ],
   "source": [
    "data.describe()"
   ]
  },
  {
   "cell_type": "code",
   "execution_count": 366,
   "id": "c39b456a",
   "metadata": {},
   "outputs": [
    {
     "data": {
      "text/plain": [
       "array([[<AxesSubplot:title={'center':'fixed acidity'}>,\n",
       "        <AxesSubplot:title={'center':'volatile acidity'}>,\n",
       "        <AxesSubplot:title={'center':'citric acid'}>],\n",
       "       [<AxesSubplot:title={'center':'residual sugar'}>,\n",
       "        <AxesSubplot:title={'center':'chlorides'}>,\n",
       "        <AxesSubplot:title={'center':'free sulfur dioxide'}>],\n",
       "       [<AxesSubplot:title={'center':'total sulfur dioxide'}>,\n",
       "        <AxesSubplot:title={'center':'density'}>,\n",
       "        <AxesSubplot:title={'center':'pH'}>],\n",
       "       [<AxesSubplot:title={'center':'sulphates'}>,\n",
       "        <AxesSubplot:title={'center':'alcohol'}>, <AxesSubplot:>]],\n",
       "      dtype=object)"
      ]
     },
     "execution_count": 366,
     "metadata": {},
     "output_type": "execute_result"
    },
    {
     "data": {
      "image/png": "[encoded data removed]",
      "text/plain": [
       "<Figure size 1000x1000 with 12 Axes>"
      ]
     },
     "metadata": {},
     "output_type": "display_data"
    }
   ],
   "source": [
    "data.hist(bins = 30, figsize = (10, 10))"
   ]
  },
  {
   "cell_type": "code",
   "execution_count": 367,
   "id": "779e4384",
   "metadata": {},
   "outputs": [
    {
     "data": {
      "text/plain": [
       "(937, 12)"
      ]
     },
     "execution_count": 367,
     "metadata": {},
     "output_type": "execute_result"
    }
   ],
   "source": [
    "data_dubl=data[data.duplicated()]\n",
    "data_dubl.shape"
   ]
  },
  {
   "cell_type": "code",
   "execution_count": 368,
   "id": "dbb8e9ab",
   "metadata": {},
   "outputs": [],
   "source": [
    "data=data.drop_duplicates(keep='first')"
   ]
  },
  {
   "cell_type": "code",
   "execution_count": 369,
   "id": "f2f5244e",
   "metadata": {},
   "outputs": [
    {
     "name": "stdout",
     "output_type": "stream",
     "text": [
      "<class 'pandas.core.frame.DataFrame'>\n",
      "Int64Index: 3961 entries, 0 to 4897\n",
      "Data columns (total 12 columns):\n",
      " #   Column                Non-Null Count  Dtype   \n",
      "---  ------                --------------  -----   \n",
      " 0   fixed acidity         3961 non-null   float64 \n",
      " 1   volatile acidity      3961 non-null   float64 \n",
      " 2   citric acid           3961 non-null   float64 \n",
      " 3   residual sugar        3961 non-null   float64 \n",
      " 4   chlorides             3961 non-null   float64 \n",
      " 5   free sulfur dioxide   3961 non-null   float64 \n",
      " 6   total sulfur dioxide  3961 non-null   float64 \n",
      " 7   density               3961 non-null   float64 \n",
      " 8   pH                    3961 non-null   float64 \n",
      " 9   sulphates             3961 non-null   float64 \n",
      " 10  alcohol               3961 non-null   float64 \n",
      " 11  quality               3961 non-null   category\n",
      "dtypes: category(1), float64(11)\n",
      "memory usage: 375.6 KB\n"
     ]
    }
   ],
   "source": [
    "data.info()"
   ]
  },
  {
   "cell_type": "code",
   "execution_count": 370,
   "id": "4ba4c080",
   "metadata": {},
   "outputs": [
    {
     "name": "stderr",
     "output_type": "stream",
     "text": [
      "C:\\Users\\HP\\AppData\\Local\\Temp\\ipykernel_11820\\962194556.py:1: FutureWarning: The default value of numeric_only in DataFrame.corr is deprecated. In a future version, it will default to False. Select only valid columns or specify the value of numeric_only to silence this warning.\n",
      "  corr_matrix = data.corr()\n"
     ]
    }
   ],
   "source": [
    "corr_matrix = data.corr()"
   ]
  },
  {
   "cell_type": "code",
   "execution_count": 371,
   "id": "fc0f5f41",
   "metadata": {},
   "outputs": [
    {
     "data": {
      "image/png": "[encoded data removed]",
      "text/plain": [
       "<Figure size 640x480 with 2 Axes>"
      ]
     },
     "metadata": {},
     "output_type": "display_data"
    }
   ],
   "source": [
    "sns.heatmap(corr_matrix, annot=True, linewidths=1, fmt=\".1f\");"
   ]
  },
  {
   "cell_type": "code",
   "execution_count": 372,
   "id": "e751d5a0",
   "metadata": {},
   "outputs": [],
   "source": [
    "X=data.copy()\n",
    "X=X.drop(['quality'], axis=1)\n",
    "Y=data['quality']"
   ]
  },
  {
   "cell_type": "code",
   "execution_count": 373,
   "id": "4e151b9d",
   "metadata": {},
   "outputs": [],
   "source": [
    "from sklearn.model_selection import train_test_split\n",
    "X_train, X_test, Y_train, Y_test  = train_test_split(X,Y, train_size=0.7, random_state=42)"
   ]
  },
  {
   "cell_type": "code",
   "execution_count": 374,
   "id": "916ea560",
   "metadata": {},
   "outputs": [],
   "source": [
    "from catboost import CatBoostClassifier"
   ]
  },
  {
   "cell_type": "code",
   "execution_count": 375,
   "id": "5401778e",
   "metadata": {},
   "outputs": [],
   "source": [
    "model = CatBoostClassifier(\n",
    "    iterations=500,\n",
    "    custom_loss=['AUC', 'Accuracy'],\n",
    "    use_best_model=True)"
   ]
  },
  {
   "cell_type": "code",
   "execution_count": 376,
   "id": "146e8a56",
   "metadata": {},
   "outputs": [
    {
     "name": "stdout",
     "output_type": "stream",
     "text": [
      "Learning rate set to 0.143608\n",
      "0:\tlearn: 1.7377462\ttest: 1.7448627\tbest: 1.7448627 (0)\ttotal: 10.4ms\tremaining: 5.18s\n",
      "1:\tlearn: 1.6044757\ttest: 1.6123575\tbest: 1.6123575 (1)\ttotal: 19ms\tremaining: 4.72s\n",
      "2:\tlearn: 1.4961174\ttest: 1.5122222\tbest: 1.5122222 (2)\ttotal: 27.8ms\tremaining: 4.6s\n",
      "3:\tlearn: 1.4265486\ttest: 1.4514365\tbest: 1.4514365 (3)\ttotal: 36.9ms\tremaining: 4.58s\n",
      "4:\tlearn: 1.3657498\ttest: 1.3951771\tbest: 1.3951771 (4)\ttotal: 46.2ms\tremaining: 4.57s\n",
      "5:\tlearn: 1.3188306\ttest: 1.3540819\tbest: 1.3540819 (5)\ttotal: 54.6ms\tremaining: 4.49s\n",
      "6:\tlearn: 1.2763755\ttest: 1.3148203\tbest: 1.3148203 (6)\ttotal: 63.3ms\tremaining: 4.45s\n",
      "7:\tlearn: 1.2416373\ttest: 1.2837573\tbest: 1.2837573 (7)\ttotal: 72.3ms\tremaining: 4.45s\n",
      "8:\tlearn: 1.2130159\ttest: 1.2582220\tbest: 1.2582220 (8)\ttotal: 81.2ms\tremaining: 4.43s\n",
      "9:\tlearn: 1.1862118\ttest: 1.2361585\tbest: 1.2361585 (9)\ttotal: 90.1ms\tremaining: 4.41s\n",
      "10:\tlearn: 1.1628854\ttest: 1.2186762\tbest: 1.2186762 (10)\ttotal: 98.8ms\tremaining: 4.39s\n",
      "11:\tlearn: 1.1417933\ttest: 1.2014658\tbest: 1.2014658 (11)\ttotal: 107ms\tremaining: 4.35s\n",
      "12:\tlearn: 1.1269386\ttest: 1.1891205\tbest: 1.1891205 (12)\ttotal: 115ms\tremaining: 4.31s\n",
      "13:\tlearn: 1.1135536\ttest: 1.1776355\tbest: 1.1776355 (13)\ttotal: 123ms\tremaining: 4.26s\n",
      "14:\tlearn: 1.0982961\ttest: 1.1652647\tbest: 1.1652647 (14)\ttotal: 139ms\tremaining: 4.49s\n",
      "15:\tlearn: 1.0882998\ttest: 1.1575216\tbest: 1.1575216 (15)\ttotal: 148ms\tremaining: 4.48s\n",
      "16:\tlearn: 1.0781034\ttest: 1.1520659\tbest: 1.1520659 (16)\ttotal: 157ms\tremaining: 4.46s\n",
      "17:\tlearn: 1.0656071\ttest: 1.1425674\tbest: 1.1425674 (17)\ttotal: 166ms\tremaining: 4.45s\n",
      "18:\tlearn: 1.0535320\ttest: 1.1342064\tbest: 1.1342064 (18)\ttotal: 175ms\tremaining: 4.42s\n",
      "19:\tlearn: 1.0445923\ttest: 1.1290355\tbest: 1.1290355 (19)\ttotal: 183ms\tremaining: 4.38s\n",
      "20:\tlearn: 1.0380724\ttest: 1.1242049\tbest: 1.1242049 (20)\ttotal: 190ms\tremaining: 4.34s\n",
      "21:\tlearn: 1.0303531\ttest: 1.1206596\tbest: 1.1206596 (21)\ttotal: 199ms\tremaining: 4.32s\n",
      "22:\tlearn: 1.0237773\ttest: 1.1159781\tbest: 1.1159781 (22)\ttotal: 209ms\tremaining: 4.33s\n",
      "23:\tlearn: 1.0168545\ttest: 1.1115996\tbest: 1.1115996 (23)\ttotal: 219ms\tremaining: 4.33s\n",
      "24:\tlearn: 1.0114064\ttest: 1.1075109\tbest: 1.1075109 (24)\ttotal: 228ms\tremaining: 4.33s\n",
      "25:\tlearn: 1.0069708\ttest: 1.1053229\tbest: 1.1053229 (25)\ttotal: 236ms\tremaining: 4.31s\n",
      "26:\tlearn: 1.0010914\ttest: 1.1030806\tbest: 1.1030806 (26)\ttotal: 245ms\tremaining: 4.29s\n",
      "27:\tlearn: 0.9962470\ttest: 1.1008354\tbest: 1.1008354 (27)\ttotal: 254ms\tremaining: 4.28s\n",
      "28:\tlearn: 0.9916888\ttest: 1.0985493\tbest: 1.0985493 (28)\ttotal: 262ms\tremaining: 4.26s\n",
      "29:\tlearn: 0.9879086\ttest: 1.0968375\tbest: 1.0968375 (29)\ttotal: 270ms\tremaining: 4.24s\n",
      "30:\tlearn: 0.9832661\ttest: 1.0952606\tbest: 1.0952606 (30)\ttotal: 279ms\tremaining: 4.22s\n",
      "31:\tlearn: 0.9794662\ttest: 1.0946796\tbest: 1.0946796 (31)\ttotal: 288ms\tremaining: 4.21s\n",
      "32:\tlearn: 0.9744620\ttest: 1.0923124\tbest: 1.0923124 (32)\ttotal: 296ms\tremaining: 4.18s\n",
      "33:\tlearn: 0.9700192\ttest: 1.0911153\tbest: 1.0911153 (33)\ttotal: 303ms\tremaining: 4.16s\n",
      "34:\tlearn: 0.9661570\ttest: 1.0878904\tbest: 1.0878904 (34)\ttotal: 311ms\tremaining: 4.13s\n",
      "35:\tlearn: 0.9633403\ttest: 1.0866791\tbest: 1.0866791 (35)\ttotal: 320ms\tremaining: 4.12s\n",
      "36:\tlearn: 0.9603895\ttest: 1.0843039\tbest: 1.0843039 (36)\ttotal: 328ms\tremaining: 4.11s\n",
      "37:\tlearn: 0.9570693\ttest: 1.0833960\tbest: 1.0833960 (37)\ttotal: 336ms\tremaining: 4.09s\n",
      "38:\tlearn: 0.9534556\ttest: 1.0823238\tbest: 1.0823238 (38)\ttotal: 344ms\tremaining: 4.07s\n",
      "39:\tlearn: 0.9492515\ttest: 1.0812259\tbest: 1.0812259 (39)\ttotal: 353ms\tremaining: 4.06s\n",
      "40:\tlearn: 0.9449467\ttest: 1.0797675\tbest: 1.0797675 (40)\ttotal: 362ms\tremaining: 4.05s\n",
      "41:\tlearn: 0.9435602\ttest: 1.0788665\tbest: 1.0788665 (41)\ttotal: 370ms\tremaining: 4.04s\n",
      "42:\tlearn: 0.9412690\ttest: 1.0794910\tbest: 1.0788665 (41)\ttotal: 379ms\tremaining: 4.02s\n",
      "43:\tlearn: 0.9367517\ttest: 1.0797425\tbest: 1.0788665 (41)\ttotal: 387ms\tremaining: 4.01s\n",
      "44:\tlearn: 0.9340304\ttest: 1.0795518\tbest: 1.0788665 (41)\ttotal: 395ms\tremaining: 3.99s\n",
      "45:\tlearn: 0.9291447\ttest: 1.0783566\tbest: 1.0783566 (45)\ttotal: 404ms\tremaining: 3.99s\n",
      "46:\tlearn: 0.9271437\ttest: 1.0772953\tbest: 1.0772953 (46)\ttotal: 413ms\tremaining: 3.98s\n",
      "47:\tlearn: 0.9232320\ttest: 1.0771900\tbest: 1.0771900 (47)\ttotal: 422ms\tremaining: 3.98s\n",
      "48:\tlearn: 0.9215209\ttest: 1.0770221\tbest: 1.0770221 (48)\ttotal: 432ms\tremaining: 3.98s\n",
      "49:\tlearn: 0.9189463\ttest: 1.0762474\tbest: 1.0762474 (49)\ttotal: 441ms\tremaining: 3.97s\n",
      "50:\tlearn: 0.9168481\ttest: 1.0761626\tbest: 1.0761626 (50)\ttotal: 450ms\tremaining: 3.96s\n",
      "51:\tlearn: 0.9141442\ttest: 1.0759974\tbest: 1.0759974 (51)\ttotal: 460ms\tremaining: 3.96s\n",
      "52:\tlearn: 0.9115969\ttest: 1.0759808\tbest: 1.0759808 (52)\ttotal: 469ms\tremaining: 3.95s\n",
      "53:\tlearn: 0.9086835\ttest: 1.0760574\tbest: 1.0759808 (52)\ttotal: 478ms\tremaining: 3.95s\n",
      "54:\tlearn: 0.9058236\ttest: 1.0757564\tbest: 1.0757564 (54)\ttotal: 487ms\tremaining: 3.94s\n",
      "55:\tlearn: 0.9028371\ttest: 1.0758318\tbest: 1.0757564 (54)\ttotal: 497ms\tremaining: 3.94s\n",
      "56:\tlearn: 0.9016161\ttest: 1.0754119\tbest: 1.0754119 (56)\ttotal: 506ms\tremaining: 3.93s\n",
      "57:\tlearn: 0.8976022\ttest: 1.0752925\tbest: 1.0752925 (57)\ttotal: 514ms\tremaining: 3.92s\n",
      "58:\tlearn: 0.8960400\ttest: 1.0746335\tbest: 1.0746335 (58)\ttotal: 523ms\tremaining: 3.91s\n",
      "59:\tlearn: 0.8936136\ttest: 1.0742214\tbest: 1.0742214 (59)\ttotal: 531ms\tremaining: 3.89s\n",
      "60:\tlearn: 0.8903383\ttest: 1.0734333\tbest: 1.0734333 (60)\ttotal: 539ms\tremaining: 3.88s\n",
      "61:\tlearn: 0.8855646\ttest: 1.0731815\tbest: 1.0731815 (61)\ttotal: 548ms\tremaining: 3.87s\n",
      "62:\tlearn: 0.8820541\ttest: 1.0728148\tbest: 1.0728148 (62)\ttotal: 556ms\tremaining: 3.85s\n",
      "63:\tlearn: 0.8787357\ttest: 1.0725225\tbest: 1.0725225 (63)\ttotal: 564ms\tremaining: 3.85s\n",
      "64:\tlearn: 0.8757733\ttest: 1.0722627\tbest: 1.0722627 (64)\ttotal: 572ms\tremaining: 3.83s\n",
      "65:\tlearn: 0.8741392\ttest: 1.0721957\tbest: 1.0721957 (65)\ttotal: 581ms\tremaining: 3.82s\n",
      "66:\tlearn: 0.8721561\ttest: 1.0719685\tbest: 1.0719685 (66)\ttotal: 589ms\tremaining: 3.81s\n",
      "67:\tlearn: 0.8701088\ttest: 1.0717141\tbest: 1.0717141 (67)\ttotal: 597ms\tremaining: 3.79s\n",
      "68:\tlearn: 0.8678477\ttest: 1.0714513\tbest: 1.0714513 (68)\ttotal: 605ms\tremaining: 3.78s\n",
      "69:\tlearn: 0.8642809\ttest: 1.0711678\tbest: 1.0711678 (69)\ttotal: 613ms\tremaining: 3.77s\n",
      "70:\tlearn: 0.8624495\ttest: 1.0717090\tbest: 1.0711678 (69)\ttotal: 622ms\tremaining: 3.75s\n",
      "71:\tlearn: 0.8601282\ttest: 1.0722514\tbest: 1.0711678 (69)\ttotal: 631ms\tremaining: 3.75s\n",
      "72:\tlearn: 0.8564163\ttest: 1.0721272\tbest: 1.0711678 (69)\ttotal: 641ms\tremaining: 3.75s\n",
      "73:\tlearn: 0.8527432\ttest: 1.0720780\tbest: 1.0711678 (69)\ttotal: 651ms\tremaining: 3.75s\n",
      "74:\tlearn: 0.8511828\ttest: 1.0721261\tbest: 1.0711678 (69)\ttotal: 660ms\tremaining: 3.74s\n",
      "75:\tlearn: 0.8496651\ttest: 1.0712807\tbest: 1.0711678 (69)\ttotal: 669ms\tremaining: 3.73s\n",
      "76:\tlearn: 0.8475334\ttest: 1.0713223\tbest: 1.0711678 (69)\ttotal: 677ms\tremaining: 3.72s\n",
      "77:\tlearn: 0.8451449\ttest: 1.0710778\tbest: 1.0710778 (77)\ttotal: 686ms\tremaining: 3.71s\n",
      "78:\tlearn: 0.8419850\ttest: 1.0718624\tbest: 1.0710778 (77)\ttotal: 694ms\tremaining: 3.7s\n",
      "79:\tlearn: 0.8400610\ttest: 1.0717269\tbest: 1.0710778 (77)\ttotal: 702ms\tremaining: 3.69s\n",
      "80:\tlearn: 0.8378152\ttest: 1.0717236\tbest: 1.0710778 (77)\ttotal: 710ms\tremaining: 3.67s\n",
      "81:\tlearn: 0.8333817\ttest: 1.0714097\tbest: 1.0710778 (77)\ttotal: 718ms\tremaining: 3.66s\n",
      "82:\tlearn: 0.8306401\ttest: 1.0717436\tbest: 1.0710778 (77)\ttotal: 726ms\tremaining: 3.65s\n",
      "83:\tlearn: 0.8276573\ttest: 1.0716654\tbest: 1.0710778 (77)\ttotal: 734ms\tremaining: 3.63s\n",
      "84:\tlearn: 0.8232342\ttest: 1.0715078\tbest: 1.0710778 (77)\ttotal: 742ms\tremaining: 3.62s\n",
      "85:\tlearn: 0.8211344\ttest: 1.0717056\tbest: 1.0710778 (77)\ttotal: 750ms\tremaining: 3.61s\n",
      "86:\tlearn: 0.8195199\ttest: 1.0714732\tbest: 1.0710778 (77)\ttotal: 757ms\tremaining: 3.6s\n",
      "87:\tlearn: 0.8174968\ttest: 1.0715230\tbest: 1.0710778 (77)\ttotal: 766ms\tremaining: 3.58s\n",
      "88:\tlearn: 0.8139570\ttest: 1.0711924\tbest: 1.0710778 (77)\ttotal: 774ms\tremaining: 3.57s\n",
      "89:\tlearn: 0.8121698\ttest: 1.0704738\tbest: 1.0704738 (89)\ttotal: 782ms\tremaining: 3.56s\n",
      "90:\tlearn: 0.8100649\ttest: 1.0701373\tbest: 1.0701373 (90)\ttotal: 790ms\tremaining: 3.55s\n",
      "91:\tlearn: 0.8094816\ttest: 1.0701349\tbest: 1.0701349 (91)\ttotal: 798ms\tremaining: 3.54s\n",
      "92:\tlearn: 0.8069632\ttest: 1.0695955\tbest: 1.0695955 (92)\ttotal: 806ms\tremaining: 3.53s\n",
      "93:\tlearn: 0.8053923\ttest: 1.0698366\tbest: 1.0695955 (92)\ttotal: 815ms\tremaining: 3.52s\n",
      "94:\tlearn: 0.8019105\ttest: 1.0695884\tbest: 1.0695884 (94)\ttotal: 824ms\tremaining: 3.51s\n",
      "95:\tlearn: 0.7991741\ttest: 1.0699799\tbest: 1.0695884 (94)\ttotal: 833ms\tremaining: 3.5s\n",
      "96:\tlearn: 0.7970634\ttest: 1.0701797\tbest: 1.0695884 (94)\ttotal: 843ms\tremaining: 3.5s\n",
      "97:\tlearn: 0.7964627\ttest: 1.0700694\tbest: 1.0695884 (94)\ttotal: 852ms\tremaining: 3.49s\n",
      "98:\tlearn: 0.7948704\ttest: 1.0692412\tbest: 1.0692412 (98)\ttotal: 863ms\tremaining: 3.49s\n",
      "99:\tlearn: 0.7928203\ttest: 1.0685244\tbest: 1.0685244 (99)\ttotal: 873ms\tremaining: 3.49s\n",
      "100:\tlearn: 0.7909389\ttest: 1.0685966\tbest: 1.0685244 (99)\ttotal: 882ms\tremaining: 3.48s\n",
      "101:\tlearn: 0.7884087\ttest: 1.0677521\tbest: 1.0677521 (101)\ttotal: 891ms\tremaining: 3.48s\n",
      "102:\tlearn: 0.7870073\ttest: 1.0680961\tbest: 1.0677521 (101)\ttotal: 900ms\tremaining: 3.47s\n",
      "103:\tlearn: 0.7844891\ttest: 1.0674935\tbest: 1.0674935 (103)\ttotal: 910ms\tremaining: 3.46s\n",
      "104:\tlearn: 0.7801154\ttest: 1.0668667\tbest: 1.0668667 (104)\ttotal: 920ms\tremaining: 3.46s\n",
      "105:\tlearn: 0.7763010\ttest: 1.0672426\tbest: 1.0668667 (104)\ttotal: 930ms\tremaining: 3.46s\n",
      "106:\tlearn: 0.7749669\ttest: 1.0673096\tbest: 1.0668667 (104)\ttotal: 939ms\tremaining: 3.45s\n",
      "107:\tlearn: 0.7722139\ttest: 1.0674847\tbest: 1.0668667 (104)\ttotal: 949ms\tremaining: 3.44s\n",
      "108:\tlearn: 0.7681139\ttest: 1.0681101\tbest: 1.0668667 (104)\ttotal: 958ms\tremaining: 3.44s\n",
      "109:\tlearn: 0.7661243\ttest: 1.0686015\tbest: 1.0668667 (104)\ttotal: 967ms\tremaining: 3.43s\n",
      "110:\tlearn: 0.7647170\ttest: 1.0681573\tbest: 1.0668667 (104)\ttotal: 976ms\tremaining: 3.42s\n",
      "111:\tlearn: 0.7623804\ttest: 1.0684687\tbest: 1.0668667 (104)\ttotal: 985ms\tremaining: 3.41s\n",
      "112:\tlearn: 0.7601719\ttest: 1.0695007\tbest: 1.0668667 (104)\ttotal: 995ms\tremaining: 3.41s\n",
      "113:\tlearn: 0.7590520\ttest: 1.0696200\tbest: 1.0668667 (104)\ttotal: 1s\tremaining: 3.4s\n",
      "114:\tlearn: 0.7567483\ttest: 1.0706994\tbest: 1.0668667 (104)\ttotal: 1.01s\tremaining: 3.39s\n",
      "115:\tlearn: 0.7544909\ttest: 1.0704478\tbest: 1.0668667 (104)\ttotal: 1.02s\tremaining: 3.39s\n",
      "116:\tlearn: 0.7531789\ttest: 1.0702915\tbest: 1.0668667 (104)\ttotal: 1.03s\tremaining: 3.38s\n",
      "117:\tlearn: 0.7526415\ttest: 1.0700591\tbest: 1.0668667 (104)\ttotal: 1.04s\tremaining: 3.37s\n",
      "118:\tlearn: 0.7501562\ttest: 1.0698298\tbest: 1.0668667 (104)\ttotal: 1.05s\tremaining: 3.36s\n",
      "119:\tlearn: 0.7495357\ttest: 1.0698047\tbest: 1.0668667 (104)\ttotal: 1.06s\tremaining: 3.35s\n",
      "120:\tlearn: 0.7468778\ttest: 1.0696809\tbest: 1.0668667 (104)\ttotal: 1.07s\tremaining: 3.34s\n",
      "121:\tlearn: 0.7449445\ttest: 1.0696514\tbest: 1.0668667 (104)\ttotal: 1.08s\tremaining: 3.33s\n",
      "122:\tlearn: 0.7428682\ttest: 1.0696721\tbest: 1.0668667 (104)\ttotal: 1.09s\tremaining: 3.33s\n",
      "123:\tlearn: 0.7406996\ttest: 1.0708303\tbest: 1.0668667 (104)\ttotal: 1.1s\tremaining: 3.33s\n",
      "124:\tlearn: 0.7372620\ttest: 1.0700258\tbest: 1.0668667 (104)\ttotal: 1.11s\tremaining: 3.33s\n",
      "125:\tlearn: 0.7360385\ttest: 1.0697090\tbest: 1.0668667 (104)\ttotal: 1.12s\tremaining: 3.33s\n",
      "126:\tlearn: 0.7339603\ttest: 1.0696875\tbest: 1.0668667 (104)\ttotal: 1.13s\tremaining: 3.32s\n",
      "127:\tlearn: 0.7323742\ttest: 1.0697186\tbest: 1.0668667 (104)\ttotal: 1.14s\tremaining: 3.32s\n",
      "128:\tlearn: 0.7299372\ttest: 1.0694432\tbest: 1.0668667 (104)\ttotal: 1.15s\tremaining: 3.31s\n",
      "129:\tlearn: 0.7281449\ttest: 1.0698169\tbest: 1.0668667 (104)\ttotal: 1.16s\tremaining: 3.31s\n",
      "130:\tlearn: 0.7268068\ttest: 1.0697206\tbest: 1.0668667 (104)\ttotal: 1.18s\tremaining: 3.31s\n",
      "131:\tlearn: 0.7247537\ttest: 1.0699068\tbest: 1.0668667 (104)\ttotal: 1.19s\tremaining: 3.31s\n",
      "132:\tlearn: 0.7232117\ttest: 1.0701274\tbest: 1.0668667 (104)\ttotal: 1.2s\tremaining: 3.3s\n",
      "133:\tlearn: 0.7216787\ttest: 1.0700428\tbest: 1.0668667 (104)\ttotal: 1.21s\tremaining: 3.29s\n",
      "134:\tlearn: 0.7199110\ttest: 1.0699654\tbest: 1.0668667 (104)\ttotal: 1.21s\tremaining: 3.28s\n",
      "135:\tlearn: 0.7184876\ttest: 1.0699040\tbest: 1.0668667 (104)\ttotal: 1.22s\tremaining: 3.27s\n",
      "136:\tlearn: 0.7174292\ttest: 1.0699101\tbest: 1.0668667 (104)\ttotal: 1.23s\tremaining: 3.26s\n",
      "137:\tlearn: 0.7152852\ttest: 1.0702816\tbest: 1.0668667 (104)\ttotal: 1.24s\tremaining: 3.25s\n",
      "138:\tlearn: 0.7136483\ttest: 1.0704334\tbest: 1.0668667 (104)\ttotal: 1.25s\tremaining: 3.24s\n",
      "139:\tlearn: 0.7113175\ttest: 1.0704838\tbest: 1.0668667 (104)\ttotal: 1.26s\tremaining: 3.23s\n",
      "140:\tlearn: 0.7100243\ttest: 1.0701899\tbest: 1.0668667 (104)\ttotal: 1.26s\tremaining: 3.22s\n",
      "141:\tlearn: 0.7085095\ttest: 1.0704510\tbest: 1.0668667 (104)\ttotal: 1.27s\tremaining: 3.21s\n",
      "142:\tlearn: 0.7074033\ttest: 1.0702833\tbest: 1.0668667 (104)\ttotal: 1.28s\tremaining: 3.21s\n",
      "143:\tlearn: 0.7043354\ttest: 1.0712936\tbest: 1.0668667 (104)\ttotal: 1.29s\tremaining: 3.2s\n",
      "144:\tlearn: 0.7031103\ttest: 1.0709525\tbest: 1.0668667 (104)\ttotal: 1.3s\tremaining: 3.19s\n",
      "145:\tlearn: 0.7009665\ttest: 1.0717720\tbest: 1.0668667 (104)\ttotal: 1.31s\tremaining: 3.18s\n",
      "146:\tlearn: 0.6996490\ttest: 1.0716465\tbest: 1.0668667 (104)\ttotal: 1.32s\tremaining: 3.17s\n",
      "147:\tlearn: 0.6980575\ttest: 1.0722478\tbest: 1.0668667 (104)\ttotal: 1.33s\tremaining: 3.16s\n",
      "148:\tlearn: 0.6972513\ttest: 1.0723780\tbest: 1.0668667 (104)\ttotal: 1.34s\tremaining: 3.15s\n",
      "149:\tlearn: 0.6965618\ttest: 1.0724129\tbest: 1.0668667 (104)\ttotal: 1.34s\tremaining: 3.14s\n",
      "150:\tlearn: 0.6937880\ttest: 1.0726322\tbest: 1.0668667 (104)\ttotal: 1.35s\tremaining: 3.13s\n",
      "151:\tlearn: 0.6921301\ttest: 1.0720467\tbest: 1.0668667 (104)\ttotal: 1.36s\tremaining: 3.12s\n",
      "152:\tlearn: 0.6907625\ttest: 1.0723338\tbest: 1.0668667 (104)\ttotal: 1.37s\tremaining: 3.11s\n",
      "153:\tlearn: 0.6886128\ttest: 1.0729229\tbest: 1.0668667 (104)\ttotal: 1.38s\tremaining: 3.1s\n",
      "154:\tlearn: 0.6873676\ttest: 1.0734325\tbest: 1.0668667 (104)\ttotal: 1.39s\tremaining: 3.09s\n",
      "155:\tlearn: 0.6844500\ttest: 1.0732124\tbest: 1.0668667 (104)\ttotal: 1.4s\tremaining: 3.08s\n",
      "156:\tlearn: 0.6811445\ttest: 1.0731199\tbest: 1.0668667 (104)\ttotal: 1.4s\tremaining: 3.07s\n",
      "157:\tlearn: 0.6782707\ttest: 1.0733037\tbest: 1.0668667 (104)\ttotal: 1.41s\tremaining: 3.06s\n",
      "158:\tlearn: 0.6769452\ttest: 1.0735719\tbest: 1.0668667 (104)\ttotal: 1.42s\tremaining: 3.05s\n",
      "159:\tlearn: 0.6755289\ttest: 1.0743372\tbest: 1.0668667 (104)\ttotal: 1.43s\tremaining: 3.04s\n",
      "160:\tlearn: 0.6727998\ttest: 1.0747926\tbest: 1.0668667 (104)\ttotal: 1.44s\tremaining: 3.02s\n",
      "161:\tlearn: 0.6717345\ttest: 1.0748737\tbest: 1.0668667 (104)\ttotal: 1.44s\tremaining: 3.01s\n",
      "162:\tlearn: 0.6707012\ttest: 1.0748470\tbest: 1.0668667 (104)\ttotal: 1.45s\tremaining: 3s\n",
      "163:\tlearn: 0.6684712\ttest: 1.0742010\tbest: 1.0668667 (104)\ttotal: 1.46s\tremaining: 3s\n",
      "164:\tlearn: 0.6664298\ttest: 1.0736496\tbest: 1.0668667 (104)\ttotal: 1.47s\tremaining: 2.99s\n",
      "165:\tlearn: 0.6645544\ttest: 1.0735244\tbest: 1.0668667 (104)\ttotal: 1.48s\tremaining: 2.98s\n",
      "166:\tlearn: 0.6627693\ttest: 1.0745309\tbest: 1.0668667 (104)\ttotal: 1.49s\tremaining: 2.97s\n",
      "167:\tlearn: 0.6613624\ttest: 1.0746597\tbest: 1.0668667 (104)\ttotal: 1.5s\tremaining: 2.96s\n",
      "168:\tlearn: 0.6599781\ttest: 1.0751723\tbest: 1.0668667 (104)\ttotal: 1.51s\tremaining: 2.95s\n",
      "169:\tlearn: 0.6585090\ttest: 1.0750732\tbest: 1.0668667 (104)\ttotal: 1.51s\tremaining: 2.94s\n",
      "170:\tlearn: 0.6569579\ttest: 1.0748594\tbest: 1.0668667 (104)\ttotal: 1.52s\tremaining: 2.93s\n",
      "171:\tlearn: 0.6548815\ttest: 1.0754946\tbest: 1.0668667 (104)\ttotal: 1.53s\tremaining: 2.92s\n",
      "172:\tlearn: 0.6537966\ttest: 1.0754719\tbest: 1.0668667 (104)\ttotal: 1.54s\tremaining: 2.91s\n",
      "173:\tlearn: 0.6514471\ttest: 1.0753015\tbest: 1.0668667 (104)\ttotal: 1.55s\tremaining: 2.9s\n",
      "174:\tlearn: 0.6490161\ttest: 1.0760289\tbest: 1.0668667 (104)\ttotal: 1.56s\tremaining: 2.89s\n",
      "175:\tlearn: 0.6478773\ttest: 1.0754754\tbest: 1.0668667 (104)\ttotal: 1.57s\tremaining: 2.88s\n",
      "176:\tlearn: 0.6462747\ttest: 1.0755520\tbest: 1.0668667 (104)\ttotal: 1.57s\tremaining: 2.88s\n",
      "177:\tlearn: 0.6438856\ttest: 1.0766593\tbest: 1.0668667 (104)\ttotal: 1.58s\tremaining: 2.87s\n",
      "178:\tlearn: 0.6430173\ttest: 1.0764850\tbest: 1.0668667 (104)\ttotal: 1.59s\tremaining: 2.86s\n",
      "179:\tlearn: 0.6413853\ttest: 1.0767599\tbest: 1.0668667 (104)\ttotal: 1.6s\tremaining: 2.85s\n",
      "180:\tlearn: 0.6391910\ttest: 1.0770085\tbest: 1.0668667 (104)\ttotal: 1.61s\tremaining: 2.84s\n",
      "181:\tlearn: 0.6378189\ttest: 1.0769279\tbest: 1.0668667 (104)\ttotal: 1.62s\tremaining: 2.83s\n",
      "182:\tlearn: 0.6364537\ttest: 1.0770331\tbest: 1.0668667 (104)\ttotal: 1.63s\tremaining: 2.82s\n",
      "183:\tlearn: 0.6356996\ttest: 1.0768495\tbest: 1.0668667 (104)\ttotal: 1.64s\tremaining: 2.81s\n",
      "184:\tlearn: 0.6346752\ttest: 1.0772098\tbest: 1.0668667 (104)\ttotal: 1.65s\tremaining: 2.8s\n",
      "185:\tlearn: 0.6325084\ttest: 1.0770745\tbest: 1.0668667 (104)\ttotal: 1.65s\tremaining: 2.79s\n",
      "186:\tlearn: 0.6301878\ttest: 1.0777919\tbest: 1.0668667 (104)\ttotal: 1.66s\tremaining: 2.79s\n",
      "187:\tlearn: 0.6293155\ttest: 1.0782765\tbest: 1.0668667 (104)\ttotal: 1.67s\tremaining: 2.78s\n",
      "188:\tlearn: 0.6278801\ttest: 1.0782800\tbest: 1.0668667 (104)\ttotal: 1.68s\tremaining: 2.77s\n",
      "189:\tlearn: 0.6257636\ttest: 1.0783325\tbest: 1.0668667 (104)\ttotal: 1.69s\tremaining: 2.76s\n",
      "190:\tlearn: 0.6237634\ttest: 1.0785790\tbest: 1.0668667 (104)\ttotal: 1.7s\tremaining: 2.76s\n",
      "191:\tlearn: 0.6220618\ttest: 1.0782948\tbest: 1.0668667 (104)\ttotal: 1.71s\tremaining: 2.75s\n",
      "192:\tlearn: 0.6201608\ttest: 1.0788518\tbest: 1.0668667 (104)\ttotal: 1.72s\tremaining: 2.74s\n",
      "193:\tlearn: 0.6183872\ttest: 1.0782119\tbest: 1.0668667 (104)\ttotal: 1.73s\tremaining: 2.73s\n",
      "194:\tlearn: 0.6163786\ttest: 1.0789790\tbest: 1.0668667 (104)\ttotal: 1.74s\tremaining: 2.73s\n",
      "195:\tlearn: 0.6151989\ttest: 1.0796084\tbest: 1.0668667 (104)\ttotal: 1.75s\tremaining: 2.72s\n",
      "196:\tlearn: 0.6136861\ttest: 1.0796408\tbest: 1.0668667 (104)\ttotal: 1.76s\tremaining: 2.71s\n",
      "197:\tlearn: 0.6119356\ttest: 1.0793795\tbest: 1.0668667 (104)\ttotal: 1.77s\tremaining: 2.7s\n",
      "198:\tlearn: 0.6104159\ttest: 1.0790488\tbest: 1.0668667 (104)\ttotal: 1.78s\tremaining: 2.69s\n",
      "199:\tlearn: 0.6088146\ttest: 1.0807560\tbest: 1.0668667 (104)\ttotal: 1.78s\tremaining: 2.68s\n",
      "200:\tlearn: 0.6073835\ttest: 1.0810501\tbest: 1.0668667 (104)\ttotal: 1.79s\tremaining: 2.67s\n",
      "201:\tlearn: 0.6057094\ttest: 1.0808500\tbest: 1.0668667 (104)\ttotal: 1.8s\tremaining: 2.66s\n",
      "202:\tlearn: 0.6026352\ttest: 1.0811903\tbest: 1.0668667 (104)\ttotal: 1.81s\tremaining: 2.65s\n",
      "203:\tlearn: 0.6019820\ttest: 1.0809891\tbest: 1.0668667 (104)\ttotal: 1.82s\tremaining: 2.64s\n",
      "204:\tlearn: 0.6007405\ttest: 1.0812972\tbest: 1.0668667 (104)\ttotal: 1.82s\tremaining: 2.63s\n",
      "205:\tlearn: 0.5989142\ttest: 1.0812664\tbest: 1.0668667 (104)\ttotal: 1.83s\tremaining: 2.62s\n",
      "206:\tlearn: 0.5980185\ttest: 1.0813833\tbest: 1.0668667 (104)\ttotal: 1.84s\tremaining: 2.61s\n",
      "207:\tlearn: 0.5962709\ttest: 1.0810060\tbest: 1.0668667 (104)\ttotal: 1.85s\tremaining: 2.6s\n",
      "208:\tlearn: 0.5933946\ttest: 1.0811787\tbest: 1.0668667 (104)\ttotal: 1.86s\tremaining: 2.59s\n",
      "209:\tlearn: 0.5915789\ttest: 1.0814183\tbest: 1.0668667 (104)\ttotal: 1.87s\tremaining: 2.58s\n",
      "210:\tlearn: 0.5901480\ttest: 1.0813647\tbest: 1.0668667 (104)\ttotal: 1.87s\tremaining: 2.57s\n",
      "211:\tlearn: 0.5885671\ttest: 1.0810492\tbest: 1.0668667 (104)\ttotal: 1.88s\tremaining: 2.56s\n",
      "212:\tlearn: 0.5860971\ttest: 1.0814285\tbest: 1.0668667 (104)\ttotal: 1.89s\tremaining: 2.55s\n",
      "213:\tlearn: 0.5847802\ttest: 1.0822619\tbest: 1.0668667 (104)\ttotal: 1.9s\tremaining: 2.54s\n",
      "214:\tlearn: 0.5826415\ttest: 1.0821704\tbest: 1.0668667 (104)\ttotal: 1.91s\tremaining: 2.53s\n",
      "215:\tlearn: 0.5812686\ttest: 1.0825225\tbest: 1.0668667 (104)\ttotal: 1.92s\tremaining: 2.52s\n",
      "216:\tlearn: 0.5785740\ttest: 1.0830643\tbest: 1.0668667 (104)\ttotal: 1.93s\tremaining: 2.51s\n",
      "217:\tlearn: 0.5778448\ttest: 1.0832197\tbest: 1.0668667 (104)\ttotal: 1.93s\tremaining: 2.5s\n",
      "218:\tlearn: 0.5760850\ttest: 1.0840433\tbest: 1.0668667 (104)\ttotal: 1.94s\tremaining: 2.49s\n",
      "219:\tlearn: 0.5749750\ttest: 1.0839834\tbest: 1.0668667 (104)\ttotal: 1.95s\tremaining: 2.48s\n",
      "220:\tlearn: 0.5741928\ttest: 1.0840446\tbest: 1.0668667 (104)\ttotal: 1.96s\tremaining: 2.47s\n",
      "221:\tlearn: 0.5723353\ttest: 1.0838744\tbest: 1.0668667 (104)\ttotal: 1.97s\tremaining: 2.46s\n",
      "222:\tlearn: 0.5717137\ttest: 1.0840497\tbest: 1.0668667 (104)\ttotal: 1.97s\tremaining: 2.45s\n",
      "223:\tlearn: 0.5702353\ttest: 1.0838427\tbest: 1.0668667 (104)\ttotal: 1.98s\tremaining: 2.44s\n",
      "224:\tlearn: 0.5694700\ttest: 1.0845725\tbest: 1.0668667 (104)\ttotal: 1.99s\tremaining: 2.43s\n",
      "225:\tlearn: 0.5685558\ttest: 1.0851163\tbest: 1.0668667 (104)\ttotal: 2s\tremaining: 2.42s\n",
      "226:\tlearn: 0.5670305\ttest: 1.0848441\tbest: 1.0668667 (104)\ttotal: 2s\tremaining: 2.41s\n",
      "227:\tlearn: 0.5662913\ttest: 1.0842777\tbest: 1.0668667 (104)\ttotal: 2.01s\tremaining: 2.4s\n",
      "228:\tlearn: 0.5642394\ttest: 1.0847775\tbest: 1.0668667 (104)\ttotal: 2.02s\tremaining: 2.39s\n",
      "229:\tlearn: 0.5628106\ttest: 1.0854237\tbest: 1.0668667 (104)\ttotal: 2.03s\tremaining: 2.38s\n",
      "230:\tlearn: 0.5615201\ttest: 1.0848847\tbest: 1.0668667 (104)\ttotal: 2.04s\tremaining: 2.37s\n",
      "231:\tlearn: 0.5592430\ttest: 1.0850144\tbest: 1.0668667 (104)\ttotal: 2.04s\tremaining: 2.36s\n",
      "232:\tlearn: 0.5582364\ttest: 1.0853751\tbest: 1.0668667 (104)\ttotal: 2.05s\tremaining: 2.35s\n",
      "233:\tlearn: 0.5561724\ttest: 1.0854573\tbest: 1.0668667 (104)\ttotal: 2.06s\tremaining: 2.34s\n",
      "234:\tlearn: 0.5546289\ttest: 1.0856442\tbest: 1.0668667 (104)\ttotal: 2.07s\tremaining: 2.33s\n",
      "235:\tlearn: 0.5534037\ttest: 1.0862270\tbest: 1.0668667 (104)\ttotal: 2.08s\tremaining: 2.33s\n",
      "236:\tlearn: 0.5516473\ttest: 1.0867075\tbest: 1.0668667 (104)\ttotal: 2.09s\tremaining: 2.32s\n",
      "237:\tlearn: 0.5508393\ttest: 1.0863972\tbest: 1.0668667 (104)\ttotal: 2.1s\tremaining: 2.31s\n",
      "238:\tlearn: 0.5495526\ttest: 1.0861583\tbest: 1.0668667 (104)\ttotal: 2.1s\tremaining: 2.3s\n",
      "239:\tlearn: 0.5487219\ttest: 1.0861714\tbest: 1.0668667 (104)\ttotal: 2.11s\tremaining: 2.29s\n",
      "240:\tlearn: 0.5471873\ttest: 1.0867005\tbest: 1.0668667 (104)\ttotal: 2.12s\tremaining: 2.28s\n",
      "241:\tlearn: 0.5461224\ttest: 1.0865844\tbest: 1.0668667 (104)\ttotal: 2.13s\tremaining: 2.27s\n",
      "242:\tlearn: 0.5442807\ttest: 1.0863202\tbest: 1.0668667 (104)\ttotal: 2.13s\tremaining: 2.26s\n",
      "243:\tlearn: 0.5429778\ttest: 1.0872905\tbest: 1.0668667 (104)\ttotal: 2.14s\tremaining: 2.25s\n",
      "244:\tlearn: 0.5421443\ttest: 1.0873663\tbest: 1.0668667 (104)\ttotal: 2.15s\tremaining: 2.24s\n",
      "245:\tlearn: 0.5409413\ttest: 1.0875091\tbest: 1.0668667 (104)\ttotal: 2.16s\tremaining: 2.23s\n",
      "246:\tlearn: 0.5401622\ttest: 1.0881419\tbest: 1.0668667 (104)\ttotal: 2.17s\tremaining: 2.22s\n",
      "247:\tlearn: 0.5391354\ttest: 1.0879937\tbest: 1.0668667 (104)\ttotal: 2.18s\tremaining: 2.21s\n",
      "248:\tlearn: 0.5385723\ttest: 1.0881561\tbest: 1.0668667 (104)\ttotal: 2.19s\tremaining: 2.21s\n",
      "249:\tlearn: 0.5366339\ttest: 1.0889174\tbest: 1.0668667 (104)\ttotal: 2.2s\tremaining: 2.2s\n",
      "250:\tlearn: 0.5353490\ttest: 1.0896106\tbest: 1.0668667 (104)\ttotal: 2.21s\tremaining: 2.19s\n",
      "251:\tlearn: 0.5338088\ttest: 1.0893391\tbest: 1.0668667 (104)\ttotal: 2.22s\tremaining: 2.18s\n",
      "252:\tlearn: 0.5323482\ttest: 1.0900655\tbest: 1.0668667 (104)\ttotal: 2.23s\tremaining: 2.17s\n",
      "253:\tlearn: 0.5307043\ttest: 1.0903704\tbest: 1.0668667 (104)\ttotal: 2.23s\tremaining: 2.16s\n",
      "254:\tlearn: 0.5299217\ttest: 1.0906399\tbest: 1.0668667 (104)\ttotal: 2.24s\tremaining: 2.15s\n",
      "255:\tlearn: 0.5291443\ttest: 1.0906194\tbest: 1.0668667 (104)\ttotal: 2.25s\tremaining: 2.15s\n",
      "256:\tlearn: 0.5274449\ttest: 1.0903303\tbest: 1.0668667 (104)\ttotal: 2.26s\tremaining: 2.14s\n",
      "257:\tlearn: 0.5261869\ttest: 1.0910302\tbest: 1.0668667 (104)\ttotal: 2.27s\tremaining: 2.13s\n",
      "258:\tlearn: 0.5241738\ttest: 1.0916870\tbest: 1.0668667 (104)\ttotal: 2.28s\tremaining: 2.12s\n",
      "259:\tlearn: 0.5230927\ttest: 1.0912876\tbest: 1.0668667 (104)\ttotal: 2.28s\tremaining: 2.11s\n",
      "260:\tlearn: 0.5219996\ttest: 1.0917537\tbest: 1.0668667 (104)\ttotal: 2.29s\tremaining: 2.1s\n",
      "261:\tlearn: 0.5214780\ttest: 1.0920936\tbest: 1.0668667 (104)\ttotal: 2.3s\tremaining: 2.09s\n",
      "262:\tlearn: 0.5205847\ttest: 1.0920508\tbest: 1.0668667 (104)\ttotal: 2.31s\tremaining: 2.08s\n",
      "263:\tlearn: 0.5192061\ttest: 1.0921896\tbest: 1.0668667 (104)\ttotal: 2.32s\tremaining: 2.07s\n",
      "264:\tlearn: 0.5184283\ttest: 1.0926141\tbest: 1.0668667 (104)\ttotal: 2.33s\tremaining: 2.06s\n",
      "265:\tlearn: 0.5176106\ttest: 1.0930927\tbest: 1.0668667 (104)\ttotal: 2.33s\tremaining: 2.05s\n",
      "266:\tlearn: 0.5168966\ttest: 1.0930455\tbest: 1.0668667 (104)\ttotal: 2.34s\tremaining: 2.04s\n",
      "267:\tlearn: 0.5158288\ttest: 1.0927815\tbest: 1.0668667 (104)\ttotal: 2.35s\tremaining: 2.04s\n",
      "268:\tlearn: 0.5149461\ttest: 1.0930298\tbest: 1.0668667 (104)\ttotal: 2.36s\tremaining: 2.03s\n",
      "269:\tlearn: 0.5145610\ttest: 1.0929763\tbest: 1.0668667 (104)\ttotal: 2.37s\tremaining: 2.02s\n",
      "270:\tlearn: 0.5136519\ttest: 1.0936109\tbest: 1.0668667 (104)\ttotal: 2.38s\tremaining: 2.01s\n",
      "271:\tlearn: 0.5119788\ttest: 1.0937517\tbest: 1.0668667 (104)\ttotal: 2.39s\tremaining: 2s\n",
      "272:\tlearn: 0.5112554\ttest: 1.0939064\tbest: 1.0668667 (104)\ttotal: 2.4s\tremaining: 1.99s\n",
      "273:\tlearn: 0.5097329\ttest: 1.0936861\tbest: 1.0668667 (104)\ttotal: 2.4s\tremaining: 1.98s\n",
      "274:\tlearn: 0.5087350\ttest: 1.0945973\tbest: 1.0668667 (104)\ttotal: 2.41s\tremaining: 1.97s\n",
      "275:\tlearn: 0.5070844\ttest: 1.0949370\tbest: 1.0668667 (104)\ttotal: 2.42s\tremaining: 1.96s\n",
      "276:\tlearn: 0.5062785\ttest: 1.0946464\tbest: 1.0668667 (104)\ttotal: 2.43s\tremaining: 1.95s\n",
      "277:\tlearn: 0.5050187\ttest: 1.0944681\tbest: 1.0668667 (104)\ttotal: 2.44s\tremaining: 1.95s\n",
      "278:\tlearn: 0.5043012\ttest: 1.0945001\tbest: 1.0668667 (104)\ttotal: 2.44s\tremaining: 1.94s\n",
      "279:\tlearn: 0.5026441\ttest: 1.0941700\tbest: 1.0668667 (104)\ttotal: 2.45s\tremaining: 1.93s\n",
      "280:\tlearn: 0.5015301\ttest: 1.0941324\tbest: 1.0668667 (104)\ttotal: 2.46s\tremaining: 1.92s\n",
      "281:\tlearn: 0.5004090\ttest: 1.0944067\tbest: 1.0668667 (104)\ttotal: 2.47s\tremaining: 1.91s\n",
      "282:\tlearn: 0.4990745\ttest: 1.0950985\tbest: 1.0668667 (104)\ttotal: 2.48s\tremaining: 1.9s\n",
      "283:\tlearn: 0.4984922\ttest: 1.0952249\tbest: 1.0668667 (104)\ttotal: 2.48s\tremaining: 1.89s\n",
      "284:\tlearn: 0.4976721\ttest: 1.0958037\tbest: 1.0668667 (104)\ttotal: 2.49s\tremaining: 1.88s\n",
      "285:\tlearn: 0.4967595\ttest: 1.0960468\tbest: 1.0668667 (104)\ttotal: 2.5s\tremaining: 1.87s\n",
      "286:\tlearn: 0.4952679\ttest: 1.0951306\tbest: 1.0668667 (104)\ttotal: 2.51s\tremaining: 1.86s\n",
      "287:\tlearn: 0.4946777\ttest: 1.0948686\tbest: 1.0668667 (104)\ttotal: 2.52s\tremaining: 1.85s\n",
      "288:\tlearn: 0.4931595\ttest: 1.0950084\tbest: 1.0668667 (104)\ttotal: 2.53s\tremaining: 1.84s\n",
      "289:\tlearn: 0.4914249\ttest: 1.0949050\tbest: 1.0668667 (104)\ttotal: 2.54s\tremaining: 1.84s\n",
      "290:\tlearn: 0.4906192\ttest: 1.0958071\tbest: 1.0668667 (104)\ttotal: 2.54s\tremaining: 1.83s\n",
      "291:\tlearn: 0.4897665\ttest: 1.0961283\tbest: 1.0668667 (104)\ttotal: 2.55s\tremaining: 1.82s\n",
      "292:\tlearn: 0.4879695\ttest: 1.0958169\tbest: 1.0668667 (104)\ttotal: 2.56s\tremaining: 1.81s\n",
      "293:\tlearn: 0.4865238\ttest: 1.0960736\tbest: 1.0668667 (104)\ttotal: 2.57s\tremaining: 1.8s\n",
      "294:\tlearn: 0.4854741\ttest: 1.0966573\tbest: 1.0668667 (104)\ttotal: 2.58s\tremaining: 1.79s\n",
      "295:\tlearn: 0.4844117\ttest: 1.0970243\tbest: 1.0668667 (104)\ttotal: 2.59s\tremaining: 1.78s\n",
      "296:\tlearn: 0.4835639\ttest: 1.0973519\tbest: 1.0668667 (104)\ttotal: 2.6s\tremaining: 1.78s\n",
      "297:\tlearn: 0.4828450\ttest: 1.0973168\tbest: 1.0668667 (104)\ttotal: 2.61s\tremaining: 1.77s\n",
      "298:\tlearn: 0.4820700\ttest: 1.0976153\tbest: 1.0668667 (104)\ttotal: 2.62s\tremaining: 1.76s\n",
      "299:\tlearn: 0.4814396\ttest: 1.0976981\tbest: 1.0668667 (104)\ttotal: 2.63s\tremaining: 1.75s\n",
      "300:\tlearn: 0.4800530\ttest: 1.0979841\tbest: 1.0668667 (104)\ttotal: 2.64s\tremaining: 1.75s\n",
      "301:\tlearn: 0.4790923\ttest: 1.0976079\tbest: 1.0668667 (104)\ttotal: 2.65s\tremaining: 1.74s\n",
      "302:\tlearn: 0.4769259\ttest: 1.0970681\tbest: 1.0668667 (104)\ttotal: 2.66s\tremaining: 1.73s\n",
      "303:\tlearn: 0.4762549\ttest: 1.0973316\tbest: 1.0668667 (104)\ttotal: 2.67s\tremaining: 1.72s\n",
      "304:\tlearn: 0.4755249\ttest: 1.0973155\tbest: 1.0668667 (104)\ttotal: 2.68s\tremaining: 1.71s\n",
      "305:\tlearn: 0.4741494\ttest: 1.0976635\tbest: 1.0668667 (104)\ttotal: 2.69s\tremaining: 1.7s\n",
      "306:\tlearn: 0.4732608\ttest: 1.0982741\tbest: 1.0668667 (104)\ttotal: 2.69s\tremaining: 1.69s\n",
      "307:\tlearn: 0.4722578\ttest: 1.0981848\tbest: 1.0668667 (104)\ttotal: 2.7s\tremaining: 1.69s\n",
      "308:\tlearn: 0.4711776\ttest: 1.0987220\tbest: 1.0668667 (104)\ttotal: 2.71s\tremaining: 1.68s\n",
      "309:\tlearn: 0.4703896\ttest: 1.0988934\tbest: 1.0668667 (104)\ttotal: 2.72s\tremaining: 1.67s\n",
      "310:\tlearn: 0.4693683\ttest: 1.0991034\tbest: 1.0668667 (104)\ttotal: 2.73s\tremaining: 1.66s\n",
      "311:\tlearn: 0.4675857\ttest: 1.0994115\tbest: 1.0668667 (104)\ttotal: 2.74s\tremaining: 1.65s\n",
      "312:\tlearn: 0.4663508\ttest: 1.0991331\tbest: 1.0668667 (104)\ttotal: 2.75s\tremaining: 1.65s\n",
      "313:\tlearn: 0.4655856\ttest: 1.0998685\tbest: 1.0668667 (104)\ttotal: 2.76s\tremaining: 1.64s\n",
      "314:\tlearn: 0.4644238\ttest: 1.1001772\tbest: 1.0668667 (104)\ttotal: 2.77s\tremaining: 1.63s\n",
      "315:\tlearn: 0.4636577\ttest: 1.1006643\tbest: 1.0668667 (104)\ttotal: 2.78s\tremaining: 1.62s\n",
      "316:\tlearn: 0.4625424\ttest: 1.1006572\tbest: 1.0668667 (104)\ttotal: 2.79s\tremaining: 1.61s\n",
      "317:\tlearn: 0.4611283\ttest: 1.1007636\tbest: 1.0668667 (104)\ttotal: 2.8s\tremaining: 1.6s\n",
      "318:\tlearn: 0.4600308\ttest: 1.1010455\tbest: 1.0668667 (104)\ttotal: 2.81s\tremaining: 1.6s\n",
      "319:\tlearn: 0.4589156\ttest: 1.1010681\tbest: 1.0668667 (104)\ttotal: 2.82s\tremaining: 1.59s\n",
      "320:\tlearn: 0.4583201\ttest: 1.1009549\tbest: 1.0668667 (104)\ttotal: 2.83s\tremaining: 1.58s\n",
      "321:\tlearn: 0.4579896\ttest: 1.1013197\tbest: 1.0668667 (104)\ttotal: 2.84s\tremaining: 1.57s\n",
      "322:\tlearn: 0.4573711\ttest: 1.1017513\tbest: 1.0668667 (104)\ttotal: 2.85s\tremaining: 1.56s\n",
      "323:\tlearn: 0.4560297\ttest: 1.1024316\tbest: 1.0668667 (104)\ttotal: 2.85s\tremaining: 1.55s\n",
      "324:\tlearn: 0.4551841\ttest: 1.1024699\tbest: 1.0668667 (104)\ttotal: 2.86s\tremaining: 1.54s\n",
      "325:\tlearn: 0.4541547\ttest: 1.1027805\tbest: 1.0668667 (104)\ttotal: 2.87s\tremaining: 1.53s\n",
      "326:\tlearn: 0.4537188\ttest: 1.1031724\tbest: 1.0668667 (104)\ttotal: 2.88s\tremaining: 1.52s\n",
      "327:\tlearn: 0.4517353\ttest: 1.1034330\tbest: 1.0668667 (104)\ttotal: 2.89s\tremaining: 1.51s\n",
      "328:\tlearn: 0.4502367\ttest: 1.1032045\tbest: 1.0668667 (104)\ttotal: 2.9s\tremaining: 1.51s\n",
      "329:\tlearn: 0.4491009\ttest: 1.1033031\tbest: 1.0668667 (104)\ttotal: 2.91s\tremaining: 1.5s\n",
      "330:\tlearn: 0.4483312\ttest: 1.1034757\tbest: 1.0668667 (104)\ttotal: 2.92s\tremaining: 1.49s\n",
      "331:\tlearn: 0.4470349\ttest: 1.1041424\tbest: 1.0668667 (104)\ttotal: 2.92s\tremaining: 1.48s\n",
      "332:\tlearn: 0.4458692\ttest: 1.1041769\tbest: 1.0668667 (104)\ttotal: 2.93s\tremaining: 1.47s\n",
      "333:\tlearn: 0.4442339\ttest: 1.1042974\tbest: 1.0668667 (104)\ttotal: 2.94s\tremaining: 1.46s\n",
      "334:\tlearn: 0.4435267\ttest: 1.1044597\tbest: 1.0668667 (104)\ttotal: 2.95s\tremaining: 1.45s\n",
      "335:\tlearn: 0.4430416\ttest: 1.1043216\tbest: 1.0668667 (104)\ttotal: 2.96s\tremaining: 1.45s\n",
      "336:\tlearn: 0.4414047\ttest: 1.1043571\tbest: 1.0668667 (104)\ttotal: 2.97s\tremaining: 1.44s\n",
      "337:\tlearn: 0.4401777\ttest: 1.1045577\tbest: 1.0668667 (104)\ttotal: 2.98s\tremaining: 1.43s\n",
      "338:\tlearn: 0.4394610\ttest: 1.1046765\tbest: 1.0668667 (104)\ttotal: 2.99s\tremaining: 1.42s\n",
      "339:\tlearn: 0.4372323\ttest: 1.1050496\tbest: 1.0668667 (104)\ttotal: 3s\tremaining: 1.41s\n",
      "340:\tlearn: 0.4364363\ttest: 1.1050068\tbest: 1.0668667 (104)\ttotal: 3.01s\tremaining: 1.4s\n",
      "341:\tlearn: 0.4350319\ttest: 1.1050094\tbest: 1.0668667 (104)\ttotal: 3.02s\tremaining: 1.39s\n",
      "342:\tlearn: 0.4343041\ttest: 1.1048966\tbest: 1.0668667 (104)\ttotal: 3.02s\tremaining: 1.38s\n",
      "343:\tlearn: 0.4328918\ttest: 1.1047921\tbest: 1.0668667 (104)\ttotal: 3.03s\tremaining: 1.37s\n",
      "344:\tlearn: 0.4318747\ttest: 1.1050447\tbest: 1.0668667 (104)\ttotal: 3.04s\tremaining: 1.37s\n",
      "345:\tlearn: 0.4303674\ttest: 1.1055501\tbest: 1.0668667 (104)\ttotal: 3.05s\tremaining: 1.36s\n",
      "346:\tlearn: 0.4294289\ttest: 1.1050793\tbest: 1.0668667 (104)\ttotal: 3.06s\tremaining: 1.35s\n",
      "347:\tlearn: 0.4286261\ttest: 1.1057593\tbest: 1.0668667 (104)\ttotal: 3.07s\tremaining: 1.34s\n",
      "348:\tlearn: 0.4279476\ttest: 1.1060180\tbest: 1.0668667 (104)\ttotal: 3.07s\tremaining: 1.33s\n",
      "349:\tlearn: 0.4276767\ttest: 1.1060569\tbest: 1.0668667 (104)\ttotal: 3.08s\tremaining: 1.32s\n",
      "350:\tlearn: 0.4267515\ttest: 1.1064093\tbest: 1.0668667 (104)\ttotal: 3.09s\tremaining: 1.31s\n",
      "351:\tlearn: 0.4257205\ttest: 1.1063813\tbest: 1.0668667 (104)\ttotal: 3.1s\tremaining: 1.3s\n",
      "352:\tlearn: 0.4239379\ttest: 1.1065450\tbest: 1.0668667 (104)\ttotal: 3.11s\tremaining: 1.29s\n",
      "353:\tlearn: 0.4231752\ttest: 1.1070986\tbest: 1.0668667 (104)\ttotal: 3.12s\tremaining: 1.29s\n",
      "354:\tlearn: 0.4222939\ttest: 1.1078616\tbest: 1.0668667 (104)\ttotal: 3.13s\tremaining: 1.28s\n",
      "355:\tlearn: 0.4211388\ttest: 1.1077785\tbest: 1.0668667 (104)\ttotal: 3.14s\tremaining: 1.27s\n",
      "356:\tlearn: 0.4203889\ttest: 1.1078743\tbest: 1.0668667 (104)\ttotal: 3.15s\tremaining: 1.26s\n",
      "357:\tlearn: 0.4191716\ttest: 1.1082578\tbest: 1.0668667 (104)\ttotal: 3.16s\tremaining: 1.25s\n",
      "358:\tlearn: 0.4187847\ttest: 1.1084530\tbest: 1.0668667 (104)\ttotal: 3.17s\tremaining: 1.24s\n",
      "359:\tlearn: 0.4178958\ttest: 1.1088545\tbest: 1.0668667 (104)\ttotal: 3.17s\tremaining: 1.23s\n",
      "360:\tlearn: 0.4174101\ttest: 1.1087477\tbest: 1.0668667 (104)\ttotal: 3.18s\tremaining: 1.23s\n",
      "361:\tlearn: 0.4167933\ttest: 1.1087977\tbest: 1.0668667 (104)\ttotal: 3.19s\tremaining: 1.22s\n",
      "362:\tlearn: 0.4156043\ttest: 1.1084430\tbest: 1.0668667 (104)\ttotal: 3.2s\tremaining: 1.21s\n",
      "363:\tlearn: 0.4152002\ttest: 1.1084538\tbest: 1.0668667 (104)\ttotal: 3.21s\tremaining: 1.2s\n",
      "364:\tlearn: 0.4145548\ttest: 1.1087620\tbest: 1.0668667 (104)\ttotal: 3.23s\tremaining: 1.19s\n",
      "365:\tlearn: 0.4133903\ttest: 1.1088610\tbest: 1.0668667 (104)\ttotal: 3.23s\tremaining: 1.18s\n",
      "366:\tlearn: 0.4130499\ttest: 1.1089752\tbest: 1.0668667 (104)\ttotal: 3.24s\tremaining: 1.18s\n",
      "367:\tlearn: 0.4119353\ttest: 1.1091930\tbest: 1.0668667 (104)\ttotal: 3.25s\tremaining: 1.17s\n",
      "368:\tlearn: 0.4113642\ttest: 1.1092639\tbest: 1.0668667 (104)\ttotal: 3.26s\tremaining: 1.16s\n",
      "369:\tlearn: 0.4101577\ttest: 1.1092318\tbest: 1.0668667 (104)\ttotal: 3.27s\tremaining: 1.15s\n",
      "370:\tlearn: 0.4092508\ttest: 1.1098119\tbest: 1.0668667 (104)\ttotal: 3.28s\tremaining: 1.14s\n",
      "371:\tlearn: 0.4084987\ttest: 1.1101768\tbest: 1.0668667 (104)\ttotal: 3.29s\tremaining: 1.13s\n",
      "372:\tlearn: 0.4077226\ttest: 1.1102323\tbest: 1.0668667 (104)\ttotal: 3.3s\tremaining: 1.12s\n",
      "373:\tlearn: 0.4067426\ttest: 1.1104514\tbest: 1.0668667 (104)\ttotal: 3.31s\tremaining: 1.11s\n",
      "374:\tlearn: 0.4058500\ttest: 1.1101684\tbest: 1.0668667 (104)\ttotal: 3.32s\tremaining: 1.11s\n",
      "375:\tlearn: 0.4051807\ttest: 1.1106971\tbest: 1.0668667 (104)\ttotal: 3.33s\tremaining: 1.1s\n",
      "376:\tlearn: 0.4045357\ttest: 1.1107769\tbest: 1.0668667 (104)\ttotal: 3.34s\tremaining: 1.09s\n",
      "377:\tlearn: 0.4035980\ttest: 1.1105748\tbest: 1.0668667 (104)\ttotal: 3.34s\tremaining: 1.08s\n",
      "378:\tlearn: 0.4026593\ttest: 1.1109727\tbest: 1.0668667 (104)\ttotal: 3.35s\tremaining: 1.07s\n",
      "379:\tlearn: 0.4024294\ttest: 1.1112115\tbest: 1.0668667 (104)\ttotal: 3.36s\tremaining: 1.06s\n",
      "380:\tlearn: 0.4017388\ttest: 1.1114566\tbest: 1.0668667 (104)\ttotal: 3.37s\tremaining: 1.05s\n",
      "381:\tlearn: 0.4014673\ttest: 1.1115565\tbest: 1.0668667 (104)\ttotal: 3.38s\tremaining: 1.04s\n",
      "382:\tlearn: 0.4008172\ttest: 1.1115419\tbest: 1.0668667 (104)\ttotal: 3.39s\tremaining: 1.03s\n",
      "383:\tlearn: 0.4002120\ttest: 1.1121723\tbest: 1.0668667 (104)\ttotal: 3.4s\tremaining: 1.03s\n",
      "384:\tlearn: 0.3996764\ttest: 1.1121759\tbest: 1.0668667 (104)\ttotal: 3.41s\tremaining: 1.02s\n",
      "385:\tlearn: 0.3982442\ttest: 1.1130767\tbest: 1.0668667 (104)\ttotal: 3.42s\tremaining: 1.01s\n",
      "386:\tlearn: 0.3973119\ttest: 1.1131999\tbest: 1.0668667 (104)\ttotal: 3.42s\tremaining: 1s\n",
      "387:\tlearn: 0.3963132\ttest: 1.1131487\tbest: 1.0668667 (104)\ttotal: 3.44s\tremaining: 992ms\n",
      "388:\tlearn: 0.3953888\ttest: 1.1136510\tbest: 1.0668667 (104)\ttotal: 3.45s\tremaining: 984ms\n",
      "389:\tlearn: 0.3948174\ttest: 1.1137642\tbest: 1.0668667 (104)\ttotal: 3.46s\tremaining: 975ms\n",
      "390:\tlearn: 0.3943140\ttest: 1.1134576\tbest: 1.0668667 (104)\ttotal: 3.47s\tremaining: 967ms\n",
      "391:\tlearn: 0.3937749\ttest: 1.1137846\tbest: 1.0668667 (104)\ttotal: 3.48s\tremaining: 958ms\n",
      "392:\tlearn: 0.3931652\ttest: 1.1142603\tbest: 1.0668667 (104)\ttotal: 3.49s\tremaining: 949ms\n",
      "393:\tlearn: 0.3925112\ttest: 1.1144688\tbest: 1.0668667 (104)\ttotal: 3.5s\tremaining: 941ms\n",
      "394:\tlearn: 0.3916176\ttest: 1.1147073\tbest: 1.0668667 (104)\ttotal: 3.51s\tremaining: 932ms\n",
      "395:\tlearn: 0.3906179\ttest: 1.1152208\tbest: 1.0668667 (104)\ttotal: 3.52s\tremaining: 924ms\n",
      "396:\tlearn: 0.3898854\ttest: 1.1161531\tbest: 1.0668667 (104)\ttotal: 3.52s\tremaining: 915ms\n",
      "397:\tlearn: 0.3894038\ttest: 1.1167839\tbest: 1.0668667 (104)\ttotal: 3.53s\tremaining: 906ms\n",
      "398:\tlearn: 0.3887739\ttest: 1.1170092\tbest: 1.0668667 (104)\ttotal: 3.54s\tremaining: 897ms\n",
      "399:\tlearn: 0.3880590\ttest: 1.1172685\tbest: 1.0668667 (104)\ttotal: 3.55s\tremaining: 888ms\n",
      "400:\tlearn: 0.3874093\ttest: 1.1172946\tbest: 1.0668667 (104)\ttotal: 3.56s\tremaining: 879ms\n",
      "401:\tlearn: 0.3865269\ttest: 1.1176430\tbest: 1.0668667 (104)\ttotal: 3.57s\tremaining: 870ms\n",
      "402:\tlearn: 0.3858436\ttest: 1.1180291\tbest: 1.0668667 (104)\ttotal: 3.58s\tremaining: 861ms\n",
      "403:\tlearn: 0.3849918\ttest: 1.1183954\tbest: 1.0668667 (104)\ttotal: 3.58s\tremaining: 852ms\n",
      "404:\tlearn: 0.3841614\ttest: 1.1188257\tbest: 1.0668667 (104)\ttotal: 3.59s\tremaining: 843ms\n",
      "405:\tlearn: 0.3838361\ttest: 1.1191205\tbest: 1.0668667 (104)\ttotal: 3.6s\tremaining: 834ms\n",
      "406:\tlearn: 0.3830956\ttest: 1.1194594\tbest: 1.0668667 (104)\ttotal: 3.61s\tremaining: 825ms\n",
      "407:\tlearn: 0.3818453\ttest: 1.1192910\tbest: 1.0668667 (104)\ttotal: 3.62s\tremaining: 817ms\n",
      "408:\tlearn: 0.3808440\ttest: 1.1189641\tbest: 1.0668667 (104)\ttotal: 3.63s\tremaining: 808ms\n",
      "409:\tlearn: 0.3797365\ttest: 1.1183965\tbest: 1.0668667 (104)\ttotal: 3.64s\tremaining: 799ms\n",
      "410:\tlearn: 0.3788429\ttest: 1.1180106\tbest: 1.0668667 (104)\ttotal: 3.65s\tremaining: 790ms\n",
      "411:\tlearn: 0.3776931\ttest: 1.1178308\tbest: 1.0668667 (104)\ttotal: 3.66s\tremaining: 781ms\n",
      "412:\tlearn: 0.3769822\ttest: 1.1182116\tbest: 1.0668667 (104)\ttotal: 3.67s\tremaining: 772ms\n",
      "413:\tlearn: 0.3759918\ttest: 1.1185544\tbest: 1.0668667 (104)\ttotal: 3.67s\tremaining: 763ms\n",
      "414:\tlearn: 0.3750510\ttest: 1.1190529\tbest: 1.0668667 (104)\ttotal: 3.68s\tremaining: 754ms\n",
      "415:\tlearn: 0.3743495\ttest: 1.1191665\tbest: 1.0668667 (104)\ttotal: 3.69s\tremaining: 745ms\n",
      "416:\tlearn: 0.3741293\ttest: 1.1195846\tbest: 1.0668667 (104)\ttotal: 3.7s\tremaining: 736ms\n",
      "417:\tlearn: 0.3736682\ttest: 1.1195869\tbest: 1.0668667 (104)\ttotal: 3.71s\tremaining: 728ms\n",
      "418:\tlearn: 0.3723651\ttest: 1.1191181\tbest: 1.0668667 (104)\ttotal: 3.72s\tremaining: 719ms\n",
      "419:\tlearn: 0.3718609\ttest: 1.1194906\tbest: 1.0668667 (104)\ttotal: 3.73s\tremaining: 710ms\n",
      "420:\tlearn: 0.3714812\ttest: 1.1197790\tbest: 1.0668667 (104)\ttotal: 3.73s\tremaining: 701ms\n",
      "421:\tlearn: 0.3711575\ttest: 1.1199449\tbest: 1.0668667 (104)\ttotal: 3.74s\tremaining: 692ms\n",
      "422:\tlearn: 0.3706645\ttest: 1.1206756\tbest: 1.0668667 (104)\ttotal: 3.75s\tremaining: 683ms\n",
      "423:\tlearn: 0.3695499\ttest: 1.1217281\tbest: 1.0668667 (104)\ttotal: 3.76s\tremaining: 674ms\n",
      "424:\tlearn: 0.3688623\ttest: 1.1216531\tbest: 1.0668667 (104)\ttotal: 3.77s\tremaining: 665ms\n",
      "425:\tlearn: 0.3685232\ttest: 1.1217322\tbest: 1.0668667 (104)\ttotal: 3.78s\tremaining: 656ms\n",
      "426:\tlearn: 0.3680439\ttest: 1.1219063\tbest: 1.0668667 (104)\ttotal: 3.79s\tremaining: 647ms\n",
      "427:\tlearn: 0.3674902\ttest: 1.1221567\tbest: 1.0668667 (104)\ttotal: 3.79s\tremaining: 638ms\n",
      "428:\tlearn: 0.3663101\ttest: 1.1221499\tbest: 1.0668667 (104)\ttotal: 3.8s\tremaining: 630ms\n",
      "429:\tlearn: 0.3655471\ttest: 1.1229918\tbest: 1.0668667 (104)\ttotal: 3.81s\tremaining: 621ms\n",
      "430:\tlearn: 0.3649678\ttest: 1.1233577\tbest: 1.0668667 (104)\ttotal: 3.82s\tremaining: 612ms\n",
      "431:\tlearn: 0.3642638\ttest: 1.1227249\tbest: 1.0668667 (104)\ttotal: 3.83s\tremaining: 603ms\n",
      "432:\tlearn: 0.3634015\ttest: 1.1231868\tbest: 1.0668667 (104)\ttotal: 3.84s\tremaining: 595ms\n",
      "433:\tlearn: 0.3628815\ttest: 1.1234525\tbest: 1.0668667 (104)\ttotal: 3.85s\tremaining: 586ms\n",
      "434:\tlearn: 0.3625591\ttest: 1.1234509\tbest: 1.0668667 (104)\ttotal: 3.86s\tremaining: 577ms\n",
      "435:\tlearn: 0.3615850\ttest: 1.1237366\tbest: 1.0668667 (104)\ttotal: 3.87s\tremaining: 569ms\n",
      "436:\tlearn: 0.3607338\ttest: 1.1233439\tbest: 1.0668667 (104)\ttotal: 3.88s\tremaining: 560ms\n",
      "437:\tlearn: 0.3599757\ttest: 1.1234022\tbest: 1.0668667 (104)\ttotal: 3.89s\tremaining: 551ms\n",
      "438:\tlearn: 0.3591750\ttest: 1.1233009\tbest: 1.0668667 (104)\ttotal: 3.9s\tremaining: 542ms\n",
      "439:\tlearn: 0.3583908\ttest: 1.1232098\tbest: 1.0668667 (104)\ttotal: 3.91s\tremaining: 534ms\n",
      "440:\tlearn: 0.3572102\ttest: 1.1239076\tbest: 1.0668667 (104)\ttotal: 3.92s\tremaining: 525ms\n",
      "441:\tlearn: 0.3568589\ttest: 1.1240213\tbest: 1.0668667 (104)\ttotal: 3.93s\tremaining: 516ms\n",
      "442:\tlearn: 0.3559031\ttest: 1.1241943\tbest: 1.0668667 (104)\ttotal: 3.94s\tremaining: 507ms\n",
      "443:\tlearn: 0.3552921\ttest: 1.1242285\tbest: 1.0668667 (104)\ttotal: 3.95s\tremaining: 498ms\n",
      "444:\tlearn: 0.3541423\ttest: 1.1246916\tbest: 1.0668667 (104)\ttotal: 3.96s\tremaining: 490ms\n",
      "445:\tlearn: 0.3531541\ttest: 1.1251992\tbest: 1.0668667 (104)\ttotal: 3.97s\tremaining: 481ms\n",
      "446:\tlearn: 0.3521023\ttest: 1.1253059\tbest: 1.0668667 (104)\ttotal: 3.98s\tremaining: 472ms\n",
      "447:\tlearn: 0.3510023\ttest: 1.1253236\tbest: 1.0668667 (104)\ttotal: 3.99s\tremaining: 463ms\n",
      "448:\tlearn: 0.3500001\ttest: 1.1258271\tbest: 1.0668667 (104)\ttotal: 4s\tremaining: 454ms\n",
      "449:\tlearn: 0.3487767\ttest: 1.1265470\tbest: 1.0668667 (104)\ttotal: 4.01s\tremaining: 446ms\n",
      "450:\tlearn: 0.3479698\ttest: 1.1265628\tbest: 1.0668667 (104)\ttotal: 4.02s\tremaining: 437ms\n",
      "451:\tlearn: 0.3472153\ttest: 1.1268873\tbest: 1.0668667 (104)\ttotal: 4.03s\tremaining: 428ms\n",
      "452:\tlearn: 0.3462947\ttest: 1.1272799\tbest: 1.0668667 (104)\ttotal: 4.04s\tremaining: 419ms\n",
      "453:\tlearn: 0.3459853\ttest: 1.1274990\tbest: 1.0668667 (104)\ttotal: 4.05s\tremaining: 410ms\n",
      "454:\tlearn: 0.3453807\ttest: 1.1279229\tbest: 1.0668667 (104)\ttotal: 4.06s\tremaining: 401ms\n",
      "455:\tlearn: 0.3445776\ttest: 1.1282873\tbest: 1.0668667 (104)\ttotal: 4.07s\tremaining: 392ms\n",
      "456:\tlearn: 0.3442638\ttest: 1.1280985\tbest: 1.0668667 (104)\ttotal: 4.08s\tremaining: 383ms\n",
      "457:\tlearn: 0.3435796\ttest: 1.1284178\tbest: 1.0668667 (104)\ttotal: 4.08s\tremaining: 375ms\n",
      "458:\tlearn: 0.3428382\ttest: 1.1284607\tbest: 1.0668667 (104)\ttotal: 4.09s\tremaining: 366ms\n",
      "459:\tlearn: 0.3423261\ttest: 1.1291714\tbest: 1.0668667 (104)\ttotal: 4.1s\tremaining: 357ms\n",
      "460:\tlearn: 0.3411474\ttest: 1.1301345\tbest: 1.0668667 (104)\ttotal: 4.11s\tremaining: 348ms\n",
      "461:\tlearn: 0.3402567\ttest: 1.1296294\tbest: 1.0668667 (104)\ttotal: 4.12s\tremaining: 339ms\n",
      "462:\tlearn: 0.3394657\ttest: 1.1302042\tbest: 1.0668667 (104)\ttotal: 4.13s\tremaining: 330ms\n",
      "463:\tlearn: 0.3388704\ttest: 1.1306602\tbest: 1.0668667 (104)\ttotal: 4.13s\tremaining: 321ms\n",
      "464:\tlearn: 0.3379701\ttest: 1.1307232\tbest: 1.0668667 (104)\ttotal: 4.14s\tremaining: 312ms\n",
      "465:\tlearn: 0.3373998\ttest: 1.1307392\tbest: 1.0668667 (104)\ttotal: 4.15s\tremaining: 303ms\n",
      "466:\tlearn: 0.3365458\ttest: 1.1311707\tbest: 1.0668667 (104)\ttotal: 4.16s\tremaining: 294ms\n",
      "467:\tlearn: 0.3357578\ttest: 1.1314664\tbest: 1.0668667 (104)\ttotal: 4.17s\tremaining: 285ms\n",
      "468:\tlearn: 0.3347971\ttest: 1.1319575\tbest: 1.0668667 (104)\ttotal: 4.18s\tremaining: 276ms\n",
      "469:\tlearn: 0.3339878\ttest: 1.1318300\tbest: 1.0668667 (104)\ttotal: 4.18s\tremaining: 267ms\n",
      "470:\tlearn: 0.3334197\ttest: 1.1319554\tbest: 1.0668667 (104)\ttotal: 4.19s\tremaining: 258ms\n",
      "471:\tlearn: 0.3328906\ttest: 1.1320253\tbest: 1.0668667 (104)\ttotal: 4.2s\tremaining: 249ms\n",
      "472:\tlearn: 0.3324060\ttest: 1.1319545\tbest: 1.0668667 (104)\ttotal: 4.21s\tremaining: 240ms\n",
      "473:\tlearn: 0.3316761\ttest: 1.1319658\tbest: 1.0668667 (104)\ttotal: 4.22s\tremaining: 231ms\n",
      "474:\tlearn: 0.3308608\ttest: 1.1320643\tbest: 1.0668667 (104)\ttotal: 4.23s\tremaining: 223ms\n",
      "475:\tlearn: 0.3304196\ttest: 1.1318035\tbest: 1.0668667 (104)\ttotal: 4.24s\tremaining: 214ms\n",
      "476:\tlearn: 0.3296247\ttest: 1.1326070\tbest: 1.0668667 (104)\ttotal: 4.25s\tremaining: 205ms\n",
      "477:\tlearn: 0.3291282\ttest: 1.1328829\tbest: 1.0668667 (104)\ttotal: 4.26s\tremaining: 196ms\n",
      "478:\tlearn: 0.3286885\ttest: 1.1337569\tbest: 1.0668667 (104)\ttotal: 4.27s\tremaining: 187ms\n",
      "479:\tlearn: 0.3282222\ttest: 1.1341723\tbest: 1.0668667 (104)\ttotal: 4.28s\tremaining: 178ms\n",
      "480:\tlearn: 0.3279001\ttest: 1.1344059\tbest: 1.0668667 (104)\ttotal: 4.29s\tremaining: 169ms\n",
      "481:\tlearn: 0.3276683\ttest: 1.1342392\tbest: 1.0668667 (104)\ttotal: 4.29s\tremaining: 160ms\n",
      "482:\tlearn: 0.3270160\ttest: 1.1345075\tbest: 1.0668667 (104)\ttotal: 4.3s\tremaining: 151ms\n",
      "483:\tlearn: 0.3267094\ttest: 1.1343556\tbest: 1.0668667 (104)\ttotal: 4.31s\tremaining: 143ms\n",
      "484:\tlearn: 0.3262250\ttest: 1.1343875\tbest: 1.0668667 (104)\ttotal: 4.32s\tremaining: 134ms\n",
      "485:\tlearn: 0.3258382\ttest: 1.1341958\tbest: 1.0668667 (104)\ttotal: 4.33s\tremaining: 125ms\n",
      "486:\tlearn: 0.3255561\ttest: 1.1341989\tbest: 1.0668667 (104)\ttotal: 4.33s\tremaining: 116ms\n",
      "487:\tlearn: 0.3249673\ttest: 1.1343006\tbest: 1.0668667 (104)\ttotal: 4.34s\tremaining: 107ms\n",
      "488:\tlearn: 0.3248040\ttest: 1.1341542\tbest: 1.0668667 (104)\ttotal: 4.35s\tremaining: 97.9ms\n",
      "489:\tlearn: 0.3242224\ttest: 1.1341992\tbest: 1.0668667 (104)\ttotal: 4.36s\tremaining: 89ms\n",
      "490:\tlearn: 0.3238267\ttest: 1.1344471\tbest: 1.0668667 (104)\ttotal: 4.37s\tremaining: 80.1ms\n",
      "491:\tlearn: 0.3232838\ttest: 1.1350059\tbest: 1.0668667 (104)\ttotal: 4.38s\tremaining: 71.2ms\n",
      "492:\tlearn: 0.3226483\ttest: 1.1351352\tbest: 1.0668667 (104)\ttotal: 4.38s\tremaining: 62.3ms\n",
      "493:\tlearn: 0.3220209\ttest: 1.1351813\tbest: 1.0668667 (104)\ttotal: 4.39s\tremaining: 53.4ms\n",
      "494:\tlearn: 0.3211218\ttest: 1.1351913\tbest: 1.0668667 (104)\ttotal: 4.4s\tremaining: 44.5ms\n",
      "495:\tlearn: 0.3204761\ttest: 1.1350151\tbest: 1.0668667 (104)\ttotal: 4.41s\tremaining: 35.6ms\n",
      "496:\tlearn: 0.3203055\ttest: 1.1354667\tbest: 1.0668667 (104)\ttotal: 4.42s\tremaining: 26.7ms\n",
      "497:\tlearn: 0.3195764\ttest: 1.1351493\tbest: 1.0668667 (104)\ttotal: 4.43s\tremaining: 17.8ms\n",
      "498:\tlearn: 0.3190167\ttest: 1.1354855\tbest: 1.0668667 (104)\ttotal: 4.44s\tremaining: 8.89ms\n",
      "499:\tlearn: 0.3182945\ttest: 1.1361100\tbest: 1.0668667 (104)\ttotal: 4.45s\tremaining: 0us\n",
      "\n",
      "bestTest = 1.066866693\n",
      "bestIteration = 104\n",
      "\n",
      "Shrink model to first 105 iterations.\n"
     ]
    },
    {
     "data": {
      "text/plain": [
       "<catboost.core.CatBoostClassifier at 0x20e80189760>"
      ]
     },
     "execution_count": 376,
     "metadata": {},
     "output_type": "execute_result"
    }
   ],
   "source": [
    "model.fit(\n",
    "   X_train, Y_train,\n",
    "   eval_set=(X_test, Y_test),\n",
    "   plot=False\n",
    ")"
   ]
  },
  {
   "cell_type": "code",
   "execution_count": 377,
   "id": "8d9d53a8",
   "metadata": {},
   "outputs": [
    {
     "data": {
      "text/plain": [
       "0.552565180824222"
      ]
     },
     "execution_count": 377,
     "metadata": {},
     "output_type": "execute_result"
    }
   ],
   "source": [
    "from sklearn.metrics import f1_score, roc_auc_score\n",
    "\n",
    "f1_score(Y_test, model.predict(X_test),average='micro')"
   ]
  },
  {
   "cell_type": "markdown",
   "id": "7d99f62a",
   "metadata": {},
   "source": [
    "# Реализуем стэкинг на основе войтинга трех моделей"
   ]
  },
  {
   "cell_type": "code",
   "execution_count": 379,
   "id": "da49669a",
   "metadata": {},
   "outputs": [],
   "source": [
    "from sklearn.ensemble import VotingClassifier\n",
    "from sklearn.linear_model import LogisticRegression\n",
    "from sklearn.ensemble import RandomForestClassifier\n",
    "from sklearn.neighbors import KNeighborsClassifier"
   ]
  },
  {
   "cell_type": "code",
   "execution_count": 380,
   "id": "8e18a3d6",
   "metadata": {},
   "outputs": [],
   "source": [
    "log_clf = LogisticRegression(solver=\"liblinear\", random_state=42)\n",
    "rf_1 = RandomForestClassifier(n_estimators=100, random_state=42)\n",
    "knn_1 = KNeighborsClassifier(n_neighbors=7)"
   ]
  },
  {
   "cell_type": "code",
   "execution_count": 381,
   "id": "0ffd7509",
   "metadata": {},
   "outputs": [],
   "source": [
    "voting_clf = VotingClassifier(\n",
    "    estimators=[('lr', log_clf),  ('rf_1', rf_1), ('knn_1', knn_1)],\n",
    "    voting='soft')"
   ]
  },
  {
   "cell_type": "code",
   "execution_count": 382,
   "id": "0fe3f47f",
   "metadata": {},
   "outputs": [
    {
     "data": {
      "text/html": [
       "<style>#sk-container-id-49 {color: black;background-color: white;}#sk-container-id-49 pre{padding: 0;}#sk-container-id-49 div.sk-toggleable {background-color: white;}#sk-container-id-49 label.sk-toggleable__label {cursor: pointer;display: block;width: 100%;margin-bottom: 0;padding: 0.3em;box-sizing: border-box;text-align: center;}#sk-container-id-49 label.sk-toggleable__label-arrow:before {content: \"▸\";float: left;margin-right: 0.25em;color: #696969;}#sk-container-id-49 label.sk-toggleable__label-arrow:hover:before {color: black;}#sk-container-id-49 div.sk-estimator:hover label.sk-toggleable__label-arrow:before {color: black;}#sk-container-id-49 div.sk-toggleable__content {max-height: 0;max-width: 0;overflow: hidden;text-align: left;background-color: #f0f8ff;}#sk-container-id-49 div.sk-toggleable__content pre {margin: 0.2em;color: black;border-radius: 0.25em;background-color: #f0f8ff;}#sk-container-id-49 input.sk-toggleable__control:checked~div.sk-toggleable__content {max-height: 200px;max-width: 100%;overflow: auto;}#sk-container-id-49 input.sk-toggleable__control:checked~label.sk-toggleable__label-arrow:before {content: \"▾\";}#sk-container-id-49 div.sk-estimator input.sk-toggleable__control:checked~label.sk-toggleable__label {background-color: #d4ebff;}#sk-container-id-49 div.sk-label input.sk-toggleable__control:checked~label.sk-toggleable__label {background-color: #d4ebff;}#sk-container-id-49 input.sk-hidden--visually {border: 0;clip: rect(1px 1px 1px 1px);clip: rect(1px, 1px, 1px, 1px);height: 1px;margin: -1px;overflow: hidden;padding: 0;position: absolute;width: 1px;}#sk-container-id-49 div.sk-estimator {font-family: monospace;background-color: #f0f8ff;border: 1px dotted black;border-radius: 0.25em;box-sizing: border-box;margin-bottom: 0.5em;}#sk-container-id-49 div.sk-estimator:hover {background-color: #d4ebff;}#sk-container-id-49 div.sk-parallel-item::after {content: \"\";width: 100%;border-bottom: 1px solid gray;flex-grow: 1;}#sk-container-id-49 div.sk-label:hover label.sk-toggleable__label {background-color: #d4ebff;}#sk-container-id-49 div.sk-serial::before {content: \"\";position: absolute;border-left: 1px solid gray;box-sizing: border-box;top: 0;bottom: 0;left: 50%;z-index: 0;}#sk-container-id-49 div.sk-serial {display: flex;flex-direction: column;align-items: center;background-color: white;padding-right: 0.2em;padding-left: 0.2em;position: relative;}#sk-container-id-49 div.sk-item {position: relative;z-index: 1;}#sk-container-id-49 div.sk-parallel {display: flex;align-items: stretch;justify-content: center;background-color: white;position: relative;}#sk-container-id-49 div.sk-item::before, #sk-container-id-49 div.sk-parallel-item::before {content: \"\";position: absolute;border-left: 1px solid gray;box-sizing: border-box;top: 0;bottom: 0;left: 50%;z-index: -1;}#sk-container-id-49 div.sk-parallel-item {display: flex;flex-direction: column;z-index: 1;position: relative;background-color: white;}#sk-container-id-49 div.sk-parallel-item:first-child::after {align-self: flex-end;width: 50%;}#sk-container-id-49 div.sk-parallel-item:last-child::after {align-self: flex-start;width: 50%;}#sk-container-id-49 div.sk-parallel-item:only-child::after {width: 0;}#sk-container-id-49 div.sk-dashed-wrapped {border: 1px dashed gray;margin: 0 0.4em 0.5em 0.4em;box-sizing: border-box;padding-bottom: 0.4em;background-color: white;}#sk-container-id-49 div.sk-label label {font-family: monospace;font-weight: bold;display: inline-block;line-height: 1.2em;}#sk-container-id-49 div.sk-label-container {text-align: center;}#sk-container-id-49 div.sk-container {/* jupyter's `normalize.less` sets `[hidden] { display: none; }` but bootstrap.min.css set `[hidden] { display: none !important; }` so we also need the `!important` here to be able to override the default hidden behavior on the sphinx rendered scikit-learn.org. See: https://github.com/scikit-learn/scikit-learn/issues/21755 */display: inline-block !important;position: relative;}#sk-container-id-49 div.sk-text-repr-fallback {display: none;}</style><div id=\"sk-container-id-49\" class=\"sk-top-container\"><div class=\"sk-text-repr-fallback\"><pre>VotingClassifier(estimators=[(&#x27;lr&#x27;,\n",
       "                              LogisticRegression(random_state=42,\n",
       "                                                 solver=&#x27;liblinear&#x27;)),\n",
       "                             (&#x27;rf_1&#x27;, RandomForestClassifier(random_state=42)),\n",
       "                             (&#x27;knn_1&#x27;, KNeighborsClassifier(n_neighbors=7))],\n",
       "                 voting=&#x27;soft&#x27;)</pre><b>In a Jupyter environment, please rerun this cell to show the HTML representation or trust the notebook. <br />On GitHub, the HTML representation is unable to render, please try loading this page with nbviewer.org.</b></div><div class=\"sk-container\" hidden><div class=\"sk-item sk-dashed-wrapped\"><div class=\"sk-label-container\"><div class=\"sk-label sk-toggleable\"><input class=\"sk-toggleable__control sk-hidden--visually\" id=\"sk-estimator-id-52\" type=\"checkbox\" ><label for=\"sk-estimator-id-52\" class=\"sk-toggleable__label sk-toggleable__label-arrow\">VotingClassifier</label><div class=\"sk-toggleable__content\"><pre>VotingClassifier(estimators=[(&#x27;lr&#x27;,\n",
       "                              LogisticRegression(random_state=42,\n",
       "                                                 solver=&#x27;liblinear&#x27;)),\n",
       "                             (&#x27;rf_1&#x27;, RandomForestClassifier(random_state=42)),\n",
       "                             (&#x27;knn_1&#x27;, KNeighborsClassifier(n_neighbors=7))],\n",
       "                 voting=&#x27;soft&#x27;)</pre></div></div></div><div class=\"sk-parallel\"><div class=\"sk-parallel-item\"><div class=\"sk-item\"><div class=\"sk-label-container\"><div class=\"sk-label sk-toggleable\"><label>lr</label></div></div><div class=\"sk-serial\"><div class=\"sk-item\"><div class=\"sk-estimator sk-toggleable\"><input class=\"sk-toggleable__control sk-hidden--visually\" id=\"sk-estimator-id-53\" type=\"checkbox\" ><label for=\"sk-estimator-id-53\" class=\"sk-toggleable__label sk-toggleable__label-arrow\">LogisticRegression</label><div class=\"sk-toggleable__content\"><pre>LogisticRegression(random_state=42, solver=&#x27;liblinear&#x27;)</pre></div></div></div></div></div></div><div class=\"sk-parallel-item\"><div class=\"sk-item\"><div class=\"sk-label-container\"><div class=\"sk-label sk-toggleable\"><label>rf_1</label></div></div><div class=\"sk-serial\"><div class=\"sk-item\"><div class=\"sk-estimator sk-toggleable\"><input class=\"sk-toggleable__control sk-hidden--visually\" id=\"sk-estimator-id-54\" type=\"checkbox\" ><label for=\"sk-estimator-id-54\" class=\"sk-toggleable__label sk-toggleable__label-arrow\">RandomForestClassifier</label><div class=\"sk-toggleable__content\"><pre>RandomForestClassifier(random_state=42)</pre></div></div></div></div></div></div><div class=\"sk-parallel-item\"><div class=\"sk-item\"><div class=\"sk-label-container\"><div class=\"sk-label sk-toggleable\"><label>knn_1</label></div></div><div class=\"sk-serial\"><div class=\"sk-item\"><div class=\"sk-estimator sk-toggleable\"><input class=\"sk-toggleable__control sk-hidden--visually\" id=\"sk-estimator-id-55\" type=\"checkbox\" ><label for=\"sk-estimator-id-55\" class=\"sk-toggleable__label sk-toggleable__label-arrow\">KNeighborsClassifier</label><div class=\"sk-toggleable__content\"><pre>KNeighborsClassifier(n_neighbors=7)</pre></div></div></div></div></div></div></div></div></div></div>"
      ],
      "text/plain": [
       "VotingClassifier(estimators=[('lr',\n",
       "                              LogisticRegression(random_state=42,\n",
       "                                                 solver='liblinear')),\n",
       "                             ('rf_1', RandomForestClassifier(random_state=42)),\n",
       "                             ('knn_1', KNeighborsClassifier(n_neighbors=7))],\n",
       "                 voting='soft')"
      ]
     },
     "execution_count": 382,
     "metadata": {},
     "output_type": "execute_result"
    }
   ],
   "source": [
    "voting_clf.fit(X_train, Y_train)"
   ]
  },
  {
   "cell_type": "code",
   "execution_count": 383,
   "id": "4c91b0be",
   "metadata": {},
   "outputs": [
    {
     "name": "stdout",
     "output_type": "stream",
     "text": [
      "LogisticRegression 0.5231286795626577\n",
      "RandomForestClassifier 0.5407905803195963\n",
      "KNeighborsClassifier 0.4238856181665265\n",
      "VotingClassifier 0.5164003364171573\n"
     ]
    }
   ],
   "source": [
    "from sklearn.metrics import accuracy_score\n",
    "\n",
    "for clf in (log_clf, rf_1,knn_1, voting_clf):\n",
    "    clf.fit(X_train, Y_train)\n",
    "    Y_pred = clf.predict(X_test)\n",
    "    print(clf.__class__.__name__, accuracy_score(Y_test, Y_pred))"
   ]
  },
  {
   "cell_type": "markdown",
   "id": "458a8339",
   "metadata": {},
   "source": [
    "# Реализуем бэггинг"
   ]
  },
  {
   "cell_type": "code",
   "execution_count": 418,
   "id": "0f7ac1e3",
   "metadata": {},
   "outputs": [
    {
     "ename": "ValueError",
     "evalue": "Found input variables with inconsistent numbers of samples: [2641, 3961]",
     "output_type": "error",
     "traceback": [
      "\u001b[1;31m---------------------------------------------------------------------------\u001b[0m",
      "\u001b[1;31mValueError\u001b[0m                                Traceback (most recent call last)",
      "Cell \u001b[1;32mIn [418], line 4\u001b[0m\n\u001b[0;32m      1\u001b[0m \u001b[38;5;28;01mfrom\u001b[39;00m \u001b[38;5;21;01msklearn\u001b[39;00m\u001b[38;5;21;01m.\u001b[39;00m\u001b[38;5;21;01mmodel_selection\u001b[39;00m \u001b[38;5;28;01mimport\u001b[39;00m train_test_split\n\u001b[0;32m      3\u001b[0m x, x_1, y, y_1 \u001b[38;5;241m=\u001b[39m train_test_split(X,Y,test_size\u001b[38;5;241m=\u001b[39m\u001b[38;5;241m0.333\u001b[39m,stratify\u001b[38;5;241m=\u001b[39mY)\n\u001b[1;32m----> 4\u001b[0m x_2, x_3, y_2, y_3 \u001b[38;5;241m=\u001b[39m \u001b[43mtrain_test_split\u001b[49m\u001b[43m(\u001b[49m\u001b[43mx\u001b[49m\u001b[43m,\u001b[49m\u001b[43my\u001b[49m\u001b[43m,\u001b[49m\u001b[43mtest_size\u001b[49m\u001b[43m \u001b[49m\u001b[38;5;241;43m=\u001b[39;49m\u001b[43m \u001b[49m\u001b[38;5;241;43m0.5\u001b[39;49m\u001b[43m,\u001b[49m\u001b[43mtrain_size\u001b[49m\u001b[43m \u001b[49m\u001b[38;5;241;43m=\u001b[39;49m\u001b[38;5;241;43m0.5\u001b[39;49m\u001b[43m,\u001b[49m\u001b[43mstratify\u001b[49m\u001b[38;5;241;43m=\u001b[39;49m\u001b[43mY\u001b[49m\u001b[43m)\u001b[49m\n",
      "File \u001b[1;32m~\\anaconda3\\envs\\My\\lib\\site-packages\\sklearn\\model_selection\\_split.py:2469\u001b[0m, in \u001b[0;36mtrain_test_split\u001b[1;34m(test_size, train_size, random_state, shuffle, stratify, *arrays)\u001b[0m\n\u001b[0;32m   2465\u001b[0m         CVClass \u001b[38;5;241m=\u001b[39m ShuffleSplit\n\u001b[0;32m   2467\u001b[0m     cv \u001b[38;5;241m=\u001b[39m CVClass(test_size\u001b[38;5;241m=\u001b[39mn_test, train_size\u001b[38;5;241m=\u001b[39mn_train, random_state\u001b[38;5;241m=\u001b[39mrandom_state)\n\u001b[1;32m-> 2469\u001b[0m     train, test \u001b[38;5;241m=\u001b[39m \u001b[38;5;28;43mnext\u001b[39;49m\u001b[43m(\u001b[49m\u001b[43mcv\u001b[49m\u001b[38;5;241;43m.\u001b[39;49m\u001b[43msplit\u001b[49m\u001b[43m(\u001b[49m\u001b[43mX\u001b[49m\u001b[38;5;241;43m=\u001b[39;49m\u001b[43marrays\u001b[49m\u001b[43m[\u001b[49m\u001b[38;5;241;43m0\u001b[39;49m\u001b[43m]\u001b[49m\u001b[43m,\u001b[49m\u001b[43m \u001b[49m\u001b[43my\u001b[49m\u001b[38;5;241;43m=\u001b[39;49m\u001b[43mstratify\u001b[49m\u001b[43m)\u001b[49m\u001b[43m)\u001b[49m\n\u001b[0;32m   2471\u001b[0m \u001b[38;5;28;01mreturn\u001b[39;00m \u001b[38;5;28mlist\u001b[39m(\n\u001b[0;32m   2472\u001b[0m     chain\u001b[38;5;241m.\u001b[39mfrom_iterable(\n\u001b[0;32m   2473\u001b[0m         (_safe_indexing(a, train), _safe_indexing(a, test)) \u001b[38;5;28;01mfor\u001b[39;00m a \u001b[38;5;129;01min\u001b[39;00m arrays\n\u001b[0;32m   2474\u001b[0m     )\n\u001b[0;32m   2475\u001b[0m )\n",
      "File \u001b[1;32m~\\anaconda3\\envs\\My\\lib\\site-packages\\sklearn\\model_selection\\_split.py:1621\u001b[0m, in \u001b[0;36mBaseShuffleSplit.split\u001b[1;34m(self, X, y, groups)\u001b[0m\n\u001b[0;32m   1591\u001b[0m \u001b[38;5;28;01mdef\u001b[39;00m \u001b[38;5;21msplit\u001b[39m(\u001b[38;5;28mself\u001b[39m, X, y\u001b[38;5;241m=\u001b[39m\u001b[38;5;28;01mNone\u001b[39;00m, groups\u001b[38;5;241m=\u001b[39m\u001b[38;5;28;01mNone\u001b[39;00m):\n\u001b[0;32m   1592\u001b[0m     \u001b[38;5;124;03m\"\"\"Generate indices to split data into training and test set.\u001b[39;00m\n\u001b[0;32m   1593\u001b[0m \n\u001b[0;32m   1594\u001b[0m \u001b[38;5;124;03m    Parameters\u001b[39;00m\n\u001b[1;32m   (...)\u001b[0m\n\u001b[0;32m   1619\u001b[0m \u001b[38;5;124;03m    to an integer.\u001b[39;00m\n\u001b[0;32m   1620\u001b[0m \u001b[38;5;124;03m    \"\"\"\u001b[39;00m\n\u001b[1;32m-> 1621\u001b[0m     X, y, groups \u001b[38;5;241m=\u001b[39m \u001b[43mindexable\u001b[49m\u001b[43m(\u001b[49m\u001b[43mX\u001b[49m\u001b[43m,\u001b[49m\u001b[43m \u001b[49m\u001b[43my\u001b[49m\u001b[43m,\u001b[49m\u001b[43m \u001b[49m\u001b[43mgroups\u001b[49m\u001b[43m)\u001b[49m\n\u001b[0;32m   1622\u001b[0m     \u001b[38;5;28;01mfor\u001b[39;00m train, test \u001b[38;5;129;01min\u001b[39;00m \u001b[38;5;28mself\u001b[39m\u001b[38;5;241m.\u001b[39m_iter_indices(X, y, groups):\n\u001b[0;32m   1623\u001b[0m         \u001b[38;5;28;01myield\u001b[39;00m train, test\n",
      "File \u001b[1;32m~\\anaconda3\\envs\\My\\lib\\site-packages\\sklearn\\utils\\validation.py:433\u001b[0m, in \u001b[0;36mindexable\u001b[1;34m(*iterables)\u001b[0m\n\u001b[0;32m    414\u001b[0m \u001b[38;5;124;03m\"\"\"Make arrays indexable for cross-validation.\u001b[39;00m\n\u001b[0;32m    415\u001b[0m \n\u001b[0;32m    416\u001b[0m \u001b[38;5;124;03mChecks consistent length, passes through None, and ensures that everything\u001b[39;00m\n\u001b[1;32m   (...)\u001b[0m\n\u001b[0;32m    429\u001b[0m \u001b[38;5;124;03m    sparse matrix, or dataframe) or `None`.\u001b[39;00m\n\u001b[0;32m    430\u001b[0m \u001b[38;5;124;03m\"\"\"\u001b[39;00m\n\u001b[0;32m    432\u001b[0m result \u001b[38;5;241m=\u001b[39m [_make_indexable(X) \u001b[38;5;28;01mfor\u001b[39;00m X \u001b[38;5;129;01min\u001b[39;00m iterables]\n\u001b[1;32m--> 433\u001b[0m \u001b[43mcheck_consistent_length\u001b[49m\u001b[43m(\u001b[49m\u001b[38;5;241;43m*\u001b[39;49m\u001b[43mresult\u001b[49m\u001b[43m)\u001b[49m\n\u001b[0;32m    434\u001b[0m \u001b[38;5;28;01mreturn\u001b[39;00m result\n",
      "File \u001b[1;32m~\\anaconda3\\envs\\My\\lib\\site-packages\\sklearn\\utils\\validation.py:387\u001b[0m, in \u001b[0;36mcheck_consistent_length\u001b[1;34m(*arrays)\u001b[0m\n\u001b[0;32m    385\u001b[0m uniques \u001b[38;5;241m=\u001b[39m np\u001b[38;5;241m.\u001b[39munique(lengths)\n\u001b[0;32m    386\u001b[0m \u001b[38;5;28;01mif\u001b[39;00m \u001b[38;5;28mlen\u001b[39m(uniques) \u001b[38;5;241m>\u001b[39m \u001b[38;5;241m1\u001b[39m:\n\u001b[1;32m--> 387\u001b[0m     \u001b[38;5;28;01mraise\u001b[39;00m \u001b[38;5;167;01mValueError\u001b[39;00m(\n\u001b[0;32m    388\u001b[0m         \u001b[38;5;124m\"\u001b[39m\u001b[38;5;124mFound input variables with inconsistent numbers of samples: \u001b[39m\u001b[38;5;132;01m%r\u001b[39;00m\u001b[38;5;124m\"\u001b[39m\n\u001b[0;32m    389\u001b[0m         \u001b[38;5;241m%\u001b[39m [\u001b[38;5;28mint\u001b[39m(l) \u001b[38;5;28;01mfor\u001b[39;00m l \u001b[38;5;129;01min\u001b[39;00m lengths]\n\u001b[0;32m    390\u001b[0m     )\n",
      "\u001b[1;31mValueError\u001b[0m: Found input variables with inconsistent numbers of samples: [2641, 3961]"
     ]
    }
   ],
   "source": [
    "from sklearn.model_selection import train_test_split\n",
    "\n",
    "x, x_1, y, y_1 = train_test_split(X,Y,test_size=0.333,stratify=Y)\n",
    "x_2, x_3, y_2, y_3 = train_test_split(x,y,test_size = 0.5,train_size =0.5,stratify=Y)"
   ]
  },
  {
   "cell_type": "code",
   "execution_count": 404,
   "id": "e5bc4e0f",
   "metadata": {},
   "outputs": [],
   "source": [
    "rf_1 = RandomForestClassifier(n_estimators=100, random_state=42)"
   ]
  },
  {
   "cell_type": "code",
   "execution_count": 405,
   "id": "29ce7db2",
   "metadata": {},
   "outputs": [],
   "source": [
    "X_train, X_test, Y_train, Y_test  = train_test_split(x_1,y_1, train_size=0.7, random_state=42)"
   ]
  },
  {
   "cell_type": "code",
   "execution_count": 406,
   "id": "a7d2de6b",
   "metadata": {},
   "outputs": [
    {
     "data": {
      "text/html": [
       "<style>#sk-container-id-53 {color: black;background-color: white;}#sk-container-id-53 pre{padding: 0;}#sk-container-id-53 div.sk-toggleable {background-color: white;}#sk-container-id-53 label.sk-toggleable__label {cursor: pointer;display: block;width: 100%;margin-bottom: 0;padding: 0.3em;box-sizing: border-box;text-align: center;}#sk-container-id-53 label.sk-toggleable__label-arrow:before {content: \"▸\";float: left;margin-right: 0.25em;color: #696969;}#sk-container-id-53 label.sk-toggleable__label-arrow:hover:before {color: black;}#sk-container-id-53 div.sk-estimator:hover label.sk-toggleable__label-arrow:before {color: black;}#sk-container-id-53 div.sk-toggleable__content {max-height: 0;max-width: 0;overflow: hidden;text-align: left;background-color: #f0f8ff;}#sk-container-id-53 div.sk-toggleable__content pre {margin: 0.2em;color: black;border-radius: 0.25em;background-color: #f0f8ff;}#sk-container-id-53 input.sk-toggleable__control:checked~div.sk-toggleable__content {max-height: 200px;max-width: 100%;overflow: auto;}#sk-container-id-53 input.sk-toggleable__control:checked~label.sk-toggleable__label-arrow:before {content: \"▾\";}#sk-container-id-53 div.sk-estimator input.sk-toggleable__control:checked~label.sk-toggleable__label {background-color: #d4ebff;}#sk-container-id-53 div.sk-label input.sk-toggleable__control:checked~label.sk-toggleable__label {background-color: #d4ebff;}#sk-container-id-53 input.sk-hidden--visually {border: 0;clip: rect(1px 1px 1px 1px);clip: rect(1px, 1px, 1px, 1px);height: 1px;margin: -1px;overflow: hidden;padding: 0;position: absolute;width: 1px;}#sk-container-id-53 div.sk-estimator {font-family: monospace;background-color: #f0f8ff;border: 1px dotted black;border-radius: 0.25em;box-sizing: border-box;margin-bottom: 0.5em;}#sk-container-id-53 div.sk-estimator:hover {background-color: #d4ebff;}#sk-container-id-53 div.sk-parallel-item::after {content: \"\";width: 100%;border-bottom: 1px solid gray;flex-grow: 1;}#sk-container-id-53 div.sk-label:hover label.sk-toggleable__label {background-color: #d4ebff;}#sk-container-id-53 div.sk-serial::before {content: \"\";position: absolute;border-left: 1px solid gray;box-sizing: border-box;top: 0;bottom: 0;left: 50%;z-index: 0;}#sk-container-id-53 div.sk-serial {display: flex;flex-direction: column;align-items: center;background-color: white;padding-right: 0.2em;padding-left: 0.2em;position: relative;}#sk-container-id-53 div.sk-item {position: relative;z-index: 1;}#sk-container-id-53 div.sk-parallel {display: flex;align-items: stretch;justify-content: center;background-color: white;position: relative;}#sk-container-id-53 div.sk-item::before, #sk-container-id-53 div.sk-parallel-item::before {content: \"\";position: absolute;border-left: 1px solid gray;box-sizing: border-box;top: 0;bottom: 0;left: 50%;z-index: -1;}#sk-container-id-53 div.sk-parallel-item {display: flex;flex-direction: column;z-index: 1;position: relative;background-color: white;}#sk-container-id-53 div.sk-parallel-item:first-child::after {align-self: flex-end;width: 50%;}#sk-container-id-53 div.sk-parallel-item:last-child::after {align-self: flex-start;width: 50%;}#sk-container-id-53 div.sk-parallel-item:only-child::after {width: 0;}#sk-container-id-53 div.sk-dashed-wrapped {border: 1px dashed gray;margin: 0 0.4em 0.5em 0.4em;box-sizing: border-box;padding-bottom: 0.4em;background-color: white;}#sk-container-id-53 div.sk-label label {font-family: monospace;font-weight: bold;display: inline-block;line-height: 1.2em;}#sk-container-id-53 div.sk-label-container {text-align: center;}#sk-container-id-53 div.sk-container {/* jupyter's `normalize.less` sets `[hidden] { display: none; }` but bootstrap.min.css set `[hidden] { display: none !important; }` so we also need the `!important` here to be able to override the default hidden behavior on the sphinx rendered scikit-learn.org. See: https://github.com/scikit-learn/scikit-learn/issues/21755 */display: inline-block !important;position: relative;}#sk-container-id-53 div.sk-text-repr-fallback {display: none;}</style><div id=\"sk-container-id-53\" class=\"sk-top-container\"><div class=\"sk-text-repr-fallback\"><pre>RandomForestClassifier(random_state=42)</pre><b>In a Jupyter environment, please rerun this cell to show the HTML representation or trust the notebook. <br />On GitHub, the HTML representation is unable to render, please try loading this page with nbviewer.org.</b></div><div class=\"sk-container\" hidden><div class=\"sk-item\"><div class=\"sk-estimator sk-toggleable\"><input class=\"sk-toggleable__control sk-hidden--visually\" id=\"sk-estimator-id-59\" type=\"checkbox\" checked><label for=\"sk-estimator-id-59\" class=\"sk-toggleable__label sk-toggleable__label-arrow\">RandomForestClassifier</label><div class=\"sk-toggleable__content\"><pre>RandomForestClassifier(random_state=42)</pre></div></div></div></div></div>"
      ],
      "text/plain": [
       "RandomForestClassifier(random_state=42)"
      ]
     },
     "execution_count": 406,
     "metadata": {},
     "output_type": "execute_result"
    }
   ],
   "source": [
    "rf_1.fit(X_train,Y_train)"
   ]
  },
  {
   "cell_type": "code",
   "execution_count": 407,
   "id": "ffaedd95",
   "metadata": {},
   "outputs": [],
   "source": [
    "y_pred1 = rf_1.predict_proba(X_test)"
   ]
  },
  {
   "cell_type": "code",
   "execution_count": 408,
   "id": "7dacd7b6",
   "metadata": {},
   "outputs": [
    {
     "data": {
      "text/plain": [
       "(397, 6)"
      ]
     },
     "execution_count": 408,
     "metadata": {},
     "output_type": "execute_result"
    }
   ],
   "source": [
    "y_pred1.shape"
   ]
  },
  {
   "cell_type": "code",
   "execution_count": 409,
   "id": "91ca4f20",
   "metadata": {},
   "outputs": [],
   "source": [
    "X_train, X_test, Y_train, Y_test  = train_test_split(x_2,y_2, train_size=0.7, random_state=42)"
   ]
  },
  {
   "cell_type": "code",
   "execution_count": 410,
   "id": "14197737",
   "metadata": {},
   "outputs": [
    {
     "data": {
      "text/html": [
       "<style>#sk-container-id-54 {color: black;background-color: white;}#sk-container-id-54 pre{padding: 0;}#sk-container-id-54 div.sk-toggleable {background-color: white;}#sk-container-id-54 label.sk-toggleable__label {cursor: pointer;display: block;width: 100%;margin-bottom: 0;padding: 0.3em;box-sizing: border-box;text-align: center;}#sk-container-id-54 label.sk-toggleable__label-arrow:before {content: \"▸\";float: left;margin-right: 0.25em;color: #696969;}#sk-container-id-54 label.sk-toggleable__label-arrow:hover:before {color: black;}#sk-container-id-54 div.sk-estimator:hover label.sk-toggleable__label-arrow:before {color: black;}#sk-container-id-54 div.sk-toggleable__content {max-height: 0;max-width: 0;overflow: hidden;text-align: left;background-color: #f0f8ff;}#sk-container-id-54 div.sk-toggleable__content pre {margin: 0.2em;color: black;border-radius: 0.25em;background-color: #f0f8ff;}#sk-container-id-54 input.sk-toggleable__control:checked~div.sk-toggleable__content {max-height: 200px;max-width: 100%;overflow: auto;}#sk-container-id-54 input.sk-toggleable__control:checked~label.sk-toggleable__label-arrow:before {content: \"▾\";}#sk-container-id-54 div.sk-estimator input.sk-toggleable__control:checked~label.sk-toggleable__label {background-color: #d4ebff;}#sk-container-id-54 div.sk-label input.sk-toggleable__control:checked~label.sk-toggleable__label {background-color: #d4ebff;}#sk-container-id-54 input.sk-hidden--visually {border: 0;clip: rect(1px 1px 1px 1px);clip: rect(1px, 1px, 1px, 1px);height: 1px;margin: -1px;overflow: hidden;padding: 0;position: absolute;width: 1px;}#sk-container-id-54 div.sk-estimator {font-family: monospace;background-color: #f0f8ff;border: 1px dotted black;border-radius: 0.25em;box-sizing: border-box;margin-bottom: 0.5em;}#sk-container-id-54 div.sk-estimator:hover {background-color: #d4ebff;}#sk-container-id-54 div.sk-parallel-item::after {content: \"\";width: 100%;border-bottom: 1px solid gray;flex-grow: 1;}#sk-container-id-54 div.sk-label:hover label.sk-toggleable__label {background-color: #d4ebff;}#sk-container-id-54 div.sk-serial::before {content: \"\";position: absolute;border-left: 1px solid gray;box-sizing: border-box;top: 0;bottom: 0;left: 50%;z-index: 0;}#sk-container-id-54 div.sk-serial {display: flex;flex-direction: column;align-items: center;background-color: white;padding-right: 0.2em;padding-left: 0.2em;position: relative;}#sk-container-id-54 div.sk-item {position: relative;z-index: 1;}#sk-container-id-54 div.sk-parallel {display: flex;align-items: stretch;justify-content: center;background-color: white;position: relative;}#sk-container-id-54 div.sk-item::before, #sk-container-id-54 div.sk-parallel-item::before {content: \"\";position: absolute;border-left: 1px solid gray;box-sizing: border-box;top: 0;bottom: 0;left: 50%;z-index: -1;}#sk-container-id-54 div.sk-parallel-item {display: flex;flex-direction: column;z-index: 1;position: relative;background-color: white;}#sk-container-id-54 div.sk-parallel-item:first-child::after {align-self: flex-end;width: 50%;}#sk-container-id-54 div.sk-parallel-item:last-child::after {align-self: flex-start;width: 50%;}#sk-container-id-54 div.sk-parallel-item:only-child::after {width: 0;}#sk-container-id-54 div.sk-dashed-wrapped {border: 1px dashed gray;margin: 0 0.4em 0.5em 0.4em;box-sizing: border-box;padding-bottom: 0.4em;background-color: white;}#sk-container-id-54 div.sk-label label {font-family: monospace;font-weight: bold;display: inline-block;line-height: 1.2em;}#sk-container-id-54 div.sk-label-container {text-align: center;}#sk-container-id-54 div.sk-container {/* jupyter's `normalize.less` sets `[hidden] { display: none; }` but bootstrap.min.css set `[hidden] { display: none !important; }` so we also need the `!important` here to be able to override the default hidden behavior on the sphinx rendered scikit-learn.org. See: https://github.com/scikit-learn/scikit-learn/issues/21755 */display: inline-block !important;position: relative;}#sk-container-id-54 div.sk-text-repr-fallback {display: none;}</style><div id=\"sk-container-id-54\" class=\"sk-top-container\"><div class=\"sk-text-repr-fallback\"><pre>RandomForestClassifier(random_state=42)</pre><b>In a Jupyter environment, please rerun this cell to show the HTML representation or trust the notebook. <br />On GitHub, the HTML representation is unable to render, please try loading this page with nbviewer.org.</b></div><div class=\"sk-container\" hidden><div class=\"sk-item\"><div class=\"sk-estimator sk-toggleable\"><input class=\"sk-toggleable__control sk-hidden--visually\" id=\"sk-estimator-id-60\" type=\"checkbox\" checked><label for=\"sk-estimator-id-60\" class=\"sk-toggleable__label sk-toggleable__label-arrow\">RandomForestClassifier</label><div class=\"sk-toggleable__content\"><pre>RandomForestClassifier(random_state=42)</pre></div></div></div></div></div>"
      ],
      "text/plain": [
       "RandomForestClassifier(random_state=42)"
      ]
     },
     "execution_count": 410,
     "metadata": {},
     "output_type": "execute_result"
    }
   ],
   "source": [
    "rf_1.fit(X_train,Y_train)"
   ]
  },
  {
   "cell_type": "code",
   "execution_count": 411,
   "id": "1df497e6",
   "metadata": {},
   "outputs": [],
   "source": [
    "y_pred2 = rf_1.predict_proba(X_test)"
   ]
  },
  {
   "cell_type": "code",
   "execution_count": 412,
   "id": "1af4aa83",
   "metadata": {},
   "outputs": [
    {
     "data": {
      "text/plain": [
       "(397, 6)"
      ]
     },
     "execution_count": 412,
     "metadata": {},
     "output_type": "execute_result"
    }
   ],
   "source": [
    "y_pred2.shape"
   ]
  },
  {
   "cell_type": "code",
   "execution_count": 413,
   "id": "386a3cd1",
   "metadata": {},
   "outputs": [],
   "source": [
    "X_train, X_test, Y_train, Y_test  = train_test_split(x_3,y_3, train_size=0.7, random_state=42)"
   ]
  },
  {
   "cell_type": "code",
   "execution_count": 414,
   "id": "3a69fd4a",
   "metadata": {},
   "outputs": [
    {
     "data": {
      "text/html": [
       "<style>#sk-container-id-55 {color: black;background-color: white;}#sk-container-id-55 pre{padding: 0;}#sk-container-id-55 div.sk-toggleable {background-color: white;}#sk-container-id-55 label.sk-toggleable__label {cursor: pointer;display: block;width: 100%;margin-bottom: 0;padding: 0.3em;box-sizing: border-box;text-align: center;}#sk-container-id-55 label.sk-toggleable__label-arrow:before {content: \"▸\";float: left;margin-right: 0.25em;color: #696969;}#sk-container-id-55 label.sk-toggleable__label-arrow:hover:before {color: black;}#sk-container-id-55 div.sk-estimator:hover label.sk-toggleable__label-arrow:before {color: black;}#sk-container-id-55 div.sk-toggleable__content {max-height: 0;max-width: 0;overflow: hidden;text-align: left;background-color: #f0f8ff;}#sk-container-id-55 div.sk-toggleable__content pre {margin: 0.2em;color: black;border-radius: 0.25em;background-color: #f0f8ff;}#sk-container-id-55 input.sk-toggleable__control:checked~div.sk-toggleable__content {max-height: 200px;max-width: 100%;overflow: auto;}#sk-container-id-55 input.sk-toggleable__control:checked~label.sk-toggleable__label-arrow:before {content: \"▾\";}#sk-container-id-55 div.sk-estimator input.sk-toggleable__control:checked~label.sk-toggleable__label {background-color: #d4ebff;}#sk-container-id-55 div.sk-label input.sk-toggleable__control:checked~label.sk-toggleable__label {background-color: #d4ebff;}#sk-container-id-55 input.sk-hidden--visually {border: 0;clip: rect(1px 1px 1px 1px);clip: rect(1px, 1px, 1px, 1px);height: 1px;margin: -1px;overflow: hidden;padding: 0;position: absolute;width: 1px;}#sk-container-id-55 div.sk-estimator {font-family: monospace;background-color: #f0f8ff;border: 1px dotted black;border-radius: 0.25em;box-sizing: border-box;margin-bottom: 0.5em;}#sk-container-id-55 div.sk-estimator:hover {background-color: #d4ebff;}#sk-container-id-55 div.sk-parallel-item::after {content: \"\";width: 100%;border-bottom: 1px solid gray;flex-grow: 1;}#sk-container-id-55 div.sk-label:hover label.sk-toggleable__label {background-color: #d4ebff;}#sk-container-id-55 div.sk-serial::before {content: \"\";position: absolute;border-left: 1px solid gray;box-sizing: border-box;top: 0;bottom: 0;left: 50%;z-index: 0;}#sk-container-id-55 div.sk-serial {display: flex;flex-direction: column;align-items: center;background-color: white;padding-right: 0.2em;padding-left: 0.2em;position: relative;}#sk-container-id-55 div.sk-item {position: relative;z-index: 1;}#sk-container-id-55 div.sk-parallel {display: flex;align-items: stretch;justify-content: center;background-color: white;position: relative;}#sk-container-id-55 div.sk-item::before, #sk-container-id-55 div.sk-parallel-item::before {content: \"\";position: absolute;border-left: 1px solid gray;box-sizing: border-box;top: 0;bottom: 0;left: 50%;z-index: -1;}#sk-container-id-55 div.sk-parallel-item {display: flex;flex-direction: column;z-index: 1;position: relative;background-color: white;}#sk-container-id-55 div.sk-parallel-item:first-child::after {align-self: flex-end;width: 50%;}#sk-container-id-55 div.sk-parallel-item:last-child::after {align-self: flex-start;width: 50%;}#sk-container-id-55 div.sk-parallel-item:only-child::after {width: 0;}#sk-container-id-55 div.sk-dashed-wrapped {border: 1px dashed gray;margin: 0 0.4em 0.5em 0.4em;box-sizing: border-box;padding-bottom: 0.4em;background-color: white;}#sk-container-id-55 div.sk-label label {font-family: monospace;font-weight: bold;display: inline-block;line-height: 1.2em;}#sk-container-id-55 div.sk-label-container {text-align: center;}#sk-container-id-55 div.sk-container {/* jupyter's `normalize.less` sets `[hidden] { display: none; }` but bootstrap.min.css set `[hidden] { display: none !important; }` so we also need the `!important` here to be able to override the default hidden behavior on the sphinx rendered scikit-learn.org. See: https://github.com/scikit-learn/scikit-learn/issues/21755 */display: inline-block !important;position: relative;}#sk-container-id-55 div.sk-text-repr-fallback {display: none;}</style><div id=\"sk-container-id-55\" class=\"sk-top-container\"><div class=\"sk-text-repr-fallback\"><pre>RandomForestClassifier(random_state=42)</pre><b>In a Jupyter environment, please rerun this cell to show the HTML representation or trust the notebook. <br />On GitHub, the HTML representation is unable to render, please try loading this page with nbviewer.org.</b></div><div class=\"sk-container\" hidden><div class=\"sk-item\"><div class=\"sk-estimator sk-toggleable\"><input class=\"sk-toggleable__control sk-hidden--visually\" id=\"sk-estimator-id-61\" type=\"checkbox\" checked><label for=\"sk-estimator-id-61\" class=\"sk-toggleable__label sk-toggleable__label-arrow\">RandomForestClassifier</label><div class=\"sk-toggleable__content\"><pre>RandomForestClassifier(random_state=42)</pre></div></div></div></div></div>"
      ],
      "text/plain": [
       "RandomForestClassifier(random_state=42)"
      ]
     },
     "execution_count": 414,
     "metadata": {},
     "output_type": "execute_result"
    }
   ],
   "source": [
    "rf_1.fit(X_train,Y_train)"
   ]
  },
  {
   "cell_type": "code",
   "execution_count": 415,
   "id": "d63630e8",
   "metadata": {},
   "outputs": [],
   "source": [
    "y_pred3 = rf_1.predict_proba(X_test)"
   ]
  },
  {
   "cell_type": "code",
   "execution_count": 416,
   "id": "b157c940",
   "metadata": {},
   "outputs": [
    {
     "data": {
      "text/plain": [
       "(397, 7)"
      ]
     },
     "execution_count": 416,
     "metadata": {},
     "output_type": "execute_result"
    }
   ],
   "source": [
    "y_pred3.shape"
   ]
  },
  {
   "cell_type": "code",
   "execution_count": 417,
   "id": "1ed73d42",
   "metadata": {},
   "outputs": [
    {
     "data": {
      "text/plain": [
       "array([[0.05, 0.04, 0.17, ..., 0.12, 0.03, 0.  ],\n",
       "       [0.01, 0.02, 0.7 , ..., 0.02, 0.  , 0.  ],\n",
       "       [0.  , 0.  , 0.74, ..., 0.04, 0.  , 0.  ],\n",
       "       ...,\n",
       "       [0.  , 0.01, 0.1 , ..., 0.33, 0.14, 0.04],\n",
       "       [0.  , 0.01, 0.02, ..., 0.27, 0.06, 0.01],\n",
       "       [0.  , 0.01, 0.1 , ..., 0.44, 0.03, 0.  ]])"
      ]
     },
     "execution_count": 417,
     "metadata": {},
     "output_type": "execute_result"
    }
   ],
   "source": [
    "y_pred3"
   ]
  },
  {
   "cell_type": "code",
   "execution_count": 349,
   "id": "e98e1dde",
   "metadata": {},
   "outputs": [
    {
     "ename": "ValueError",
     "evalue": "operands could not be broadcast together with shapes (397,7) (397,6) ",
     "output_type": "error",
     "traceback": [
      "\u001b[1;31m---------------------------------------------------------------------------\u001b[0m",
      "\u001b[1;31mValueError\u001b[0m                                Traceback (most recent call last)",
      "Cell \u001b[1;32mIn [349], line 1\u001b[0m\n\u001b[1;32m----> 1\u001b[0m a \u001b[38;5;241m=\u001b[39m np\u001b[38;5;241m.\u001b[39marray((\u001b[43my_pred1\u001b[49m\u001b[38;5;241;43m+\u001b[39;49m\u001b[43my_pred2\u001b[49m\u001b[38;5;241;43m+\u001b[39;49m\u001b[43my_pred3\u001b[49m))\n",
      "\u001b[1;31mValueError\u001b[0m: operands could not be broadcast together with shapes (397,7) (397,6) "
     ]
    }
   ],
   "source": [
    "a = np.array((y_pred1+y_pred2+y_pred3))"
   ]
  },
  {
   "cell_type": "code",
   "execution_count": 227,
   "id": "02f01b28",
   "metadata": {},
   "outputs": [
    {
     "data": {
      "text/plain": [
       "array([[0.  , 0.09, 0.51, 0.99, 0.37, 0.04],\n",
       "       [0.  , 0.18, 0.61, 0.81, 0.34, 0.06],\n",
       "       [0.  , 0.01, 0.3 , 0.93, 0.69, 0.06],\n",
       "       ...,\n",
       "       [0.  , 0.03, 0.23, 1.15, 0.43, 0.16],\n",
       "       [0.04, 0.07, 0.66, 1.05, 0.18, 0.  ],\n",
       "       [0.  , 0.04, 0.25, 1.47, 0.22, 0.02]])"
      ]
     },
     "execution_count": 227,
     "metadata": {},
     "output_type": "execute_result"
    }
   ],
   "source": [
    "a"
   ]
  },
  {
   "cell_type": "code",
   "execution_count": 228,
   "id": "1ccf2b06",
   "metadata": {
    "scrolled": true
   },
   "outputs": [
    {
     "data": {
      "text/plain": [
       "array([3, 3, 3, 3, 3, 3, 3, 3, 2, 3, 3, 3, 2, 2, 2, 3, 2, 3, 3, 3, 2, 3,\n",
       "       3, 3, 3, 3, 3, 3, 3, 2, 2, 3, 3, 3, 3, 3, 3, 1, 3, 2, 3, 2, 2, 3,\n",
       "       3, 2, 3, 1, 2, 3, 3, 4, 2, 3, 2, 3, 3, 3, 3, 3, 3, 3, 2, 2, 3, 2,\n",
       "       3, 3, 3, 4, 2, 3, 3, 3, 2, 3, 2, 2, 3, 2, 3, 3, 3, 2, 3, 3, 3, 3,\n",
       "       3, 3, 3, 3, 2, 3, 2, 2, 3, 3, 4, 3, 3, 2, 3, 2, 2, 2, 3, 3, 3, 2,\n",
       "       3, 3, 3, 3, 2, 3, 3, 3, 3, 3, 3, 4, 3, 3, 3, 3, 2, 3, 3, 2, 3, 3,\n",
       "       3, 2, 3, 2, 2, 3, 3, 4, 3, 3, 3, 2, 2, 3, 3, 3, 3, 3, 3, 3, 3, 3,\n",
       "       2, 3, 3, 3, 3, 2, 4, 2, 3, 3, 3, 3, 3, 3, 3, 2, 3, 3, 3, 3, 2, 3,\n",
       "       3, 3, 4, 3, 3, 3, 3, 3, 2, 3, 3, 3, 3, 3, 3, 3, 3, 3, 3, 3, 3, 2,\n",
       "       3, 2, 2, 3, 4, 3, 3, 2, 3, 3, 3, 3, 2, 2, 3, 3, 3, 3, 3, 3, 3, 3,\n",
       "       3, 3, 3, 3, 3, 2, 3, 3, 2, 3, 2, 3, 2, 3, 3, 3, 3, 3, 3, 3, 4, 4,\n",
       "       2, 3, 3, 3, 3, 3, 3, 3, 3, 3, 3, 3, 3, 2, 3, 4, 3, 3, 3, 4, 3, 3,\n",
       "       3, 3, 3, 2, 4, 3, 3, 3, 4, 3, 2, 2, 3, 4, 3, 3, 3, 3, 3, 3, 3, 3,\n",
       "       3, 3, 2, 3, 3, 4, 3, 3, 2, 2, 3, 3, 2, 3, 3, 3, 3, 3, 3, 3, 2, 2,\n",
       "       3, 3, 3, 3, 3, 3, 2, 3, 2, 3, 3, 2, 2, 3, 3, 3, 3, 3, 3, 3, 3, 3,\n",
       "       2, 3, 2, 3, 2, 3, 3, 3, 2, 2, 3, 2, 2, 2, 3, 4, 3, 3, 3, 2, 2, 3,\n",
       "       2, 3, 2, 2, 3, 3, 4, 3, 3, 3, 4, 3, 3, 4, 3, 3, 3, 3, 3, 3, 3, 3,\n",
       "       3, 3, 2, 3, 3, 3, 3, 3, 3, 3, 3, 3, 3], dtype=int64)"
      ]
     },
     "execution_count": 228,
     "metadata": {},
     "output_type": "execute_result"
    }
   ],
   "source": [
    "np.argmax(a,axis=1)"
   ]
  },
  {
   "cell_type": "code",
   "execution_count": 241,
   "id": "0c99359d",
   "metadata": {},
   "outputs": [
    {
     "data": {
      "text/plain": [
       "(297, 6)"
      ]
     },
     "execution_count": 241,
     "metadata": {},
     "output_type": "execute_result"
    }
   ],
   "source": [
    "y_pred1.shape"
   ]
  },
  {
   "cell_type": "code",
   "execution_count": null,
   "id": "fccf4fae",
   "metadata": {},
   "outputs": [],
   "source": []
  },
  {
   "cell_type": "code",
   "execution_count": null,
   "id": "15e09d45",
   "metadata": {},
   "outputs": [],
   "source": []
  },
  {
   "cell_type": "code",
   "execution_count": null,
   "id": "c4e10c84",
   "metadata": {},
   "outputs": [],
   "source": []
  }
 ],
 "metadata": {
  "kernelspec": {
   "display_name": "Python 3 (ipykernel)",
   "language": "python",
   "name": "python3"
  },
  "language_info": {
   "codemirror_mode": {
    "name": "ipython",
    "version": 3
   },
   "file_extension": ".py",
   "mimetype": "text/x-python",
   "name": "python",
   "nbconvert_exporter": "python",
   "pygments_lexer": "ipython3",
   "version": "3.9.13"
  }
 },
 "nbformat": 4,
 "nbformat_minor": 5
}
