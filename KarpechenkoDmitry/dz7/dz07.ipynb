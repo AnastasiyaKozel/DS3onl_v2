{
 "cells": [
  {
   "cell_type": "markdown",
   "id": "661220db",
   "metadata": {},
   "source": [
    "Карпеченко Д.М., dz07, v.0.1, 01.10.2022"
   ]
  },
  {
   "cell_type": "code",
   "execution_count": null,
   "id": "de1ef2ee",
   "metadata": {},
   "outputs": [],
   "source": []
  },
  {
   "cell_type": "code",
   "execution_count": 12,
   "id": "875c957c",
   "metadata": {},
   "outputs": [],
   "source": [
    "import random\n",
    "#создаем лист со случайной переменной\n",
    "a = [random.randint(1,10)]\n",
    "#создаем декоратор\n",
    "def count_calls(func):\n",
    "\n",
    "    def wrapper_count_calls(*args, **kwargs):\n",
    "# Проверяем, если наш счетчик вызова функции кратен 3, то сбрасываем наши значения листа\n",
    "# и выполняем функцию дальше\n",
    "                if wrapper_count_calls.num_calls%3==0:\n",
    "                    global a\n",
    "                    a=[random.randint(1,10)]\n",
    "                    wrapper_count_calls.num_calls += 1\n",
    "                    print(f\"Call {wrapper_count_calls.num_calls} of {func.__name__!r}\")\n",
    "                    print(a)\n",
    "                    return func(*args, **kwargs) \n",
    "# Если счетчик вызова не кратен трем, то увеличиваем на один и выводим результат\n",
    "                else:\n",
    "                    wrapper_count_calls.num_calls += 1\n",
    "                    print(f\"Call {wrapper_count_calls.num_calls} of {func.__name__!r}\")\n",
    "                    print(a)\n",
    "                    return func(*args, **kwargs)\n",
    "\n",
    "    wrapper_count_calls.num_calls = 0\n",
    "    wrapper_count_calls.counter = 0\n",
    "    return wrapper_count_calls\n",
    "\n",
    "#наша декорируемая функция которая просто генерирует случайные числа\n",
    "@count_calls\n",
    "def a1():\n",
    "    return a.append(random.randint(1,10))"
   ]
  },
  {
   "cell_type": "code",
   "execution_count": null,
   "id": "eed3666b",
   "metadata": {},
   "outputs": [],
   "source": []
  },
  {
   "cell_type": "code",
   "execution_count": 13,
   "id": "503ff8a9",
   "metadata": {},
   "outputs": [
    {
     "name": "stdout",
     "output_type": "stream",
     "text": [
      "Call 1 of 'a1'\n",
      "[10]\n"
     ]
    }
   ],
   "source": [
    "a1()"
   ]
  },
  {
   "cell_type": "code",
   "execution_count": 14,
   "id": "e8c7570e",
   "metadata": {},
   "outputs": [
    {
     "name": "stdout",
     "output_type": "stream",
     "text": [
      "Call 2 of 'a1'\n",
      "[10, 7]\n"
     ]
    }
   ],
   "source": [
    "a1()"
   ]
  },
  {
   "cell_type": "code",
   "execution_count": 15,
   "id": "1beba8e2",
   "metadata": {},
   "outputs": [
    {
     "name": "stdout",
     "output_type": "stream",
     "text": [
      "Call 3 of 'a1'\n",
      "[10, 7, 7]\n"
     ]
    }
   ],
   "source": [
    "a1()"
   ]
  },
  {
   "cell_type": "code",
   "execution_count": 16,
   "id": "03043d10",
   "metadata": {},
   "outputs": [
    {
     "name": "stdout",
     "output_type": "stream",
     "text": [
      "Call 4 of 'a1'\n",
      "[3]\n"
     ]
    }
   ],
   "source": [
    "a1()"
   ]
  },
  {
   "cell_type": "code",
   "execution_count": 17,
   "id": "27bc1291",
   "metadata": {},
   "outputs": [
    {
     "name": "stdout",
     "output_type": "stream",
     "text": [
      "Call 5 of 'a1'\n",
      "[3, 3]\n"
     ]
    }
   ],
   "source": [
    "a1()"
   ]
  },
  {
   "cell_type": "code",
   "execution_count": 18,
   "id": "3fc7161d",
   "metadata": {},
   "outputs": [
    {
     "name": "stdout",
     "output_type": "stream",
     "text": [
      "Call 6 of 'a1'\n",
      "[3, 3, 8]\n"
     ]
    }
   ],
   "source": [
    "a1()"
   ]
  },
  {
   "cell_type": "code",
   "execution_count": 19,
   "id": "6c1cffe9",
   "metadata": {},
   "outputs": [
    {
     "name": "stdout",
     "output_type": "stream",
     "text": [
      "Call 7 of 'a1'\n",
      "[10]\n"
     ]
    }
   ],
   "source": [
    "a1()"
   ]
  },
  {
   "cell_type": "code",
   "execution_count": 20,
   "id": "f5dd4227",
   "metadata": {},
   "outputs": [
    {
     "name": "stdout",
     "output_type": "stream",
     "text": [
      "Call 8 of 'a1'\n",
      "[10, 4]\n"
     ]
    }
   ],
   "source": [
    "a1()"
   ]
  },
  {
   "cell_type": "code",
   "execution_count": 21,
   "id": "ea9e0075",
   "metadata": {},
   "outputs": [
    {
     "name": "stdout",
     "output_type": "stream",
     "text": [
      "Call 9 of 'a1'\n",
      "[10, 4, 2]\n"
     ]
    }
   ],
   "source": [
    "a1()"
   ]
  },
  {
   "cell_type": "code",
   "execution_count": null,
   "id": "696a634e",
   "metadata": {},
   "outputs": [],
   "source": []
  },
  {
   "cell_type": "code",
   "execution_count": null,
   "id": "9fb1311e",
   "metadata": {},
   "outputs": [],
   "source": []
  }
 ],
 "metadata": {
  "kernelspec": {
   "display_name": "Python 3 (ipykernel)",
   "language": "python",
   "name": "python3"
  },
  "language_info": {
   "codemirror_mode": {
    "name": "ipython",
    "version": 3
   },
   "file_extension": ".py",
   "mimetype": "text/x-python",
   "name": "python",
   "nbconvert_exporter": "python",
   "pygments_lexer": "ipython3",
   "version": "3.9.13"
  }
 },
 "nbformat": 4,
 "nbformat_minor": 5
}
