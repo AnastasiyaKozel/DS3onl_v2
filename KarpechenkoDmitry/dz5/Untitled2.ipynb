{
 "cells": [
  {
   "cell_type": "markdown",
   "id": "37e9f1ee",
   "metadata": {},
   "source": [
    "Карпеченко Дмитрий, DZ05, 2022/09/24, v.0.1"
   ]
  },
  {
   "cell_type": "code",
   "execution_count": 2,
   "id": "5dee200a",
   "metadata": {},
   "outputs": [],
   "source": [
    "import string"
   ]
  },
  {
   "cell_type": "markdown",
   "id": "3d6247a6",
   "metadata": {},
   "source": [
    "Создаю класс Alphabet. Определяем метод  __init__ с двумя параметрами.\n",
    "Так же определяю значения параметров по умолчанию"
   ]
  },
  {
   "cell_type": "code",
   "execution_count": 3,
   "id": "8511f44d",
   "metadata": {},
   "outputs": [],
   "source": [
    "class Alphabet:\n",
    "    def __init__(self, *args, **kwargs):\n",
    "            self.lang = args[0] if len(args)>0 else 'RU'\n",
    "            self.let = args[1] if len(args)>1 else 'щщщщщ'"
   ]
  },
  {
   "cell_type": "markdown",
   "id": "bbd5ad11",
   "metadata": {},
   "source": [
    "Создаю метод print, который выводит все буквы алфавита"
   ]
  },
  {
   "cell_type": "code",
   "execution_count": 4,
   "id": "68d37eb6",
   "metadata": {},
   "outputs": [],
   "source": [
    "    def print(self):\n",
    "        print(self.let)"
   ]
  },
  {
   "cell_type": "markdown",
   "id": "c3a2cb03",
   "metadata": {},
   "source": [
    "Создаю метод letters_num, который выводит количество букв"
   ]
  },
  {
   "cell_type": "code",
   "execution_count": 5,
   "id": "e195e716",
   "metadata": {},
   "outputs": [],
   "source": [
    "    def letters_num(self):\n",
    "        print(len(self.let))"
   ]
  },
  {
   "cell_type": "markdown",
   "id": "d0d04890",
   "metadata": {},
   "source": [
    "Создаю класс EngAlphabet, который наследуется от класса Alphabet.\n",
    "Определяем метод  __init__ , который вызывает метод __init__ родительского класса и задаю значения переменным."
   ]
  },
  {
   "cell_type": "code",
   "execution_count": 6,
   "id": "9cdc27ac",
   "metadata": {},
   "outputs": [],
   "source": [
    "class EngAlphabet(Alphabet):\n",
    "    def __init__(self, *args, **kwargs):\n",
    "        super().__init__('EN', string.ascii_lowercase)"
   ]
  },
  {
   "cell_type": "markdown",
   "id": "99c49c2c",
   "metadata": {},
   "source": [
    "Создаю приватный метод __letters_num, который выводит количество букв алфавита."
   ]
  },
  {
   "cell_type": "code",
   "execution_count": 7,
   "id": "ea7f779a",
   "metadata": {},
   "outputs": [],
   "source": [
    " def __letters_num(self):\n",
    "        return len(self.let)"
   ]
  },
  {
   "cell_type": "markdown",
   "id": "56cd2dc7",
   "metadata": {},
   "source": [
    "Создаю метод is_en_letter, который на вход принимает букву и определяет буква английского алфавита или нет."
   ]
  },
  {
   "cell_type": "code",
   "execution_count": 14,
   "id": "520ae85b",
   "metadata": {},
   "outputs": [],
   "source": [
    "    def is_en_letter(self, let1):\n",
    "        self.let1=let1\n",
    "        if let1 in string.ascii_lowercase or let1 in string.ascii_uppercase:\n",
    "            print('Буква английского алфавита!')\n",
    "        else:\n",
    "            print('Буква не английского алфавита!')"
   ]
  },
  {
   "cell_type": "markdown",
   "id": "d7d9ac75",
   "metadata": {},
   "source": [
    "Переопределяю метод letters_num"
   ]
  },
  {
   "cell_type": "code",
   "execution_count": 15,
   "id": "f6312abc",
   "metadata": {},
   "outputs": [],
   "source": [
    "    def letters_num(self):\n",
    "        super().letters_num()"
   ]
  },
  {
   "cell_type": "markdown",
   "id": "43bb481e",
   "metadata": {},
   "source": [
    "Создаю статический метод example, выводящий строку на английском языке"
   ]
  },
  {
   "cell_type": "code",
   "execution_count": 16,
   "id": "681a9d46",
   "metadata": {},
   "outputs": [],
   "source": [
    "    @staticmethod\n",
    "    def example():\n",
    "        print(\"This is example in english\")"
   ]
  },
  {
   "cell_type": "markdown",
   "id": "238badcb",
   "metadata": {},
   "source": [
    "1. Создайте объект класса EngAlphabet"
   ]
  },
  {
   "cell_type": "code",
   "execution_count": 17,
   "id": "832b29f3",
   "metadata": {},
   "outputs": [
    {
     "data": {
      "text/plain": [
       "<__main__.EngAlphabet at 0x258b15be070>"
      ]
     },
     "execution_count": 17,
     "metadata": {},
     "output_type": "execute_result"
    }
   ],
   "source": [
    "a=EngAlphabet()\n",
    "a"
   ]
  },
  {
   "cell_type": "markdown",
   "id": "a3cd104f",
   "metadata": {},
   "source": [
    "2. Напечатайте буквы алфавита для этого объекта"
   ]
  },
  {
   "cell_type": "code",
   "execution_count": 18,
   "id": "7e90387c",
   "metadata": {},
   "outputs": [
    {
     "ename": "AttributeError",
     "evalue": "'EngAlphabet' object has no attribute 'print'",
     "output_type": "error",
     "traceback": [
      "\u001b[1;31m---------------------------------------------------------------------------\u001b[0m",
      "\u001b[1;31mAttributeError\u001b[0m                            Traceback (most recent call last)",
      "Input \u001b[1;32mIn [18]\u001b[0m, in \u001b[0;36m<cell line: 1>\u001b[1;34m()\u001b[0m\n\u001b[1;32m----> 1\u001b[0m \u001b[43ma\u001b[49m\u001b[38;5;241;43m.\u001b[39;49m\u001b[43mprint\u001b[49m()\n",
      "\u001b[1;31mAttributeError\u001b[0m: 'EngAlphabet' object has no attribute 'print'"
     ]
    }
   ],
   "source": [
    "a.print()"
   ]
  },
  {
   "cell_type": "markdown",
   "id": "969a1277",
   "metadata": {},
   "source": [
    "3. Выведите количество букв в алфавите"
   ]
  },
  {
   "cell_type": "code",
   "execution_count": 13,
   "id": "378b2179",
   "metadata": {},
   "outputs": [
    {
     "ename": "AttributeError",
     "evalue": "'EngAlphabet' object has no attribute 'letters_num'",
     "output_type": "error",
     "traceback": [
      "\u001b[1;31m---------------------------------------------------------------------------\u001b[0m",
      "\u001b[1;31mAttributeError\u001b[0m                            Traceback (most recent call last)",
      "Input \u001b[1;32mIn [13]\u001b[0m, in \u001b[0;36m<cell line: 1>\u001b[1;34m()\u001b[0m\n\u001b[1;32m----> 1\u001b[0m \u001b[43ma\u001b[49m\u001b[38;5;241;43m.\u001b[39;49m\u001b[43mletters_num\u001b[49m()\n",
      "\u001b[1;31mAttributeError\u001b[0m: 'EngAlphabet' object has no attribute 'letters_num'"
     ]
    }
   ],
   "source": [
    "a.letters_num()"
   ]
  },
  {
   "cell_type": "markdown",
   "id": "ac8beefc",
   "metadata": {},
   "source": [
    "4. Проверьте, относится ли буква F к английскому алфавиту"
   ]
  },
  {
   "cell_type": "code",
   "execution_count": 27,
   "id": "1fa180fd",
   "metadata": {},
   "outputs": [
    {
     "ename": "AttributeError",
     "evalue": "'EngAlphabet' object has no attribute 'is_en_letter'",
     "output_type": "error",
     "traceback": [
      "\u001b[1;31m---------------------------------------------------------------------------\u001b[0m",
      "\u001b[1;31mAttributeError\u001b[0m                            Traceback (most recent call last)",
      "Input \u001b[1;32mIn [27]\u001b[0m, in \u001b[0;36m<cell line: 1>\u001b[1;34m()\u001b[0m\n\u001b[1;32m----> 1\u001b[0m \u001b[43ma\u001b[49m\u001b[38;5;241;43m.\u001b[39;49m\u001b[43mis_en_letter\u001b[49m(\u001b[38;5;124m'\u001b[39m\u001b[38;5;124mF\u001b[39m\u001b[38;5;124m'\u001b[39m)\n",
      "\u001b[1;31mAttributeError\u001b[0m: 'EngAlphabet' object has no attribute 'is_en_letter'"
     ]
    }
   ],
   "source": [
    "a.is_en_letter('F')"
   ]
  },
  {
   "cell_type": "markdown",
   "id": "4ffd9996",
   "metadata": {},
   "source": [
    "5. Проверьте, относится ли буква Щ к английскому алфавиту"
   ]
  },
  {
   "cell_type": "code",
   "execution_count": 28,
   "id": "9076d598",
   "metadata": {},
   "outputs": [
    {
     "ename": "AttributeError",
     "evalue": "'EngAlphabet' object has no attribute 'is_en_letter'",
     "output_type": "error",
     "traceback": [
      "\u001b[1;31m---------------------------------------------------------------------------\u001b[0m",
      "\u001b[1;31mAttributeError\u001b[0m                            Traceback (most recent call last)",
      "Input \u001b[1;32mIn [28]\u001b[0m, in \u001b[0;36m<cell line: 1>\u001b[1;34m()\u001b[0m\n\u001b[1;32m----> 1\u001b[0m \u001b[43ma\u001b[49m\u001b[38;5;241;43m.\u001b[39;49m\u001b[43mis_en_letter\u001b[49m(\u001b[38;5;124m'\u001b[39m\u001b[38;5;124mЩ\u001b[39m\u001b[38;5;124m'\u001b[39m)\n",
      "\u001b[1;31mAttributeError\u001b[0m: 'EngAlphabet' object has no attribute 'is_en_letter'"
     ]
    }
   ],
   "source": [
    "a.is_en_letter('Щ')"
   ]
  },
  {
   "cell_type": "markdown",
   "id": "9336dc27",
   "metadata": {},
   "source": [
    "6. Выведите пример текста на английском языке"
   ]
  },
  {
   "cell_type": "code",
   "execution_count": 29,
   "id": "3bf774bb",
   "metadata": {},
   "outputs": [
    {
     "ename": "AttributeError",
     "evalue": "'EngAlphabet' object has no attribute 'example'",
     "output_type": "error",
     "traceback": [
      "\u001b[1;31m---------------------------------------------------------------------------\u001b[0m",
      "\u001b[1;31mAttributeError\u001b[0m                            Traceback (most recent call last)",
      "Input \u001b[1;32mIn [29]\u001b[0m, in \u001b[0;36m<cell line: 1>\u001b[1;34m()\u001b[0m\n\u001b[1;32m----> 1\u001b[0m \u001b[43ma\u001b[49m\u001b[38;5;241;43m.\u001b[39;49m\u001b[43mexample\u001b[49m()\n",
      "\u001b[1;31mAttributeError\u001b[0m: 'EngAlphabet' object has no attribute 'example'"
     ]
    }
   ],
   "source": [
    "a.example()"
   ]
  },
  {
   "cell_type": "code",
   "execution_count": null,
   "id": "c4455ba7",
   "metadata": {},
   "outputs": [],
   "source": []
  }
 ],
 "metadata": {
  "kernelspec": {
   "display_name": "Python 3 (ipykernel)",
   "language": "python",
   "name": "python3"
  },
  "language_info": {
   "codemirror_mode": {
    "name": "ipython",
    "version": 3
   },
   "file_extension": ".py",
   "mimetype": "text/x-python",
   "name": "python",
   "nbconvert_exporter": "python",
   "pygments_lexer": "ipython3",
   "version": "3.9.13"
  }
 },
 "nbformat": 4,
 "nbformat_minor": 5
}
