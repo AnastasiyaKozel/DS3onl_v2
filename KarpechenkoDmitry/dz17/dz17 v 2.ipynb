{
 "cells": [
  {
   "cell_type": "markdown",
   "id": "b31cc5c2",
   "metadata": {},
   "source": [
    "Карпеченко Д.М., dz17, v.0.2, 07.12.2022"
   ]
  },
  {
   "cell_type": "markdown",
   "id": "cc4b26c7",
   "metadata": {},
   "source": [
    "Используем изображения цветов разбитые на 5 классов dandelion', 'daisy','tulip','sunflower','rose (1 класс-1 папка). В папке по 21 шт картинок"
   ]
  },
  {
   "cell_type": "code",
   "execution_count": 1,
   "id": "d849c4fb",
   "metadata": {},
   "outputs": [],
   "source": [
    "import pandas as pd\n",
    "import matplotlib.pyplot as plt\n",
    "import seaborn as sns\n",
    "%matplotlib inline\n",
    "from sklearn.metrics import mean_squared_error\n",
    "from sklearn.metrics import mean_absolute_error\n",
    "import numpy as np\n",
    "from sklearn.model_selection import train_test_split\n",
    "from PIL import Image, ImageFilter\n",
    "import os\n",
    "import cv2\n",
    "import random\n",
    "import tensorflow as tf\n",
    "import tensorflow_hub as hub"
   ]
  },
  {
   "cell_type": "code",
   "execution_count": 2,
   "id": "3e57819e",
   "metadata": {},
   "outputs": [],
   "source": [
    "test=[r'https://tfhub.dev/google/bit/s-r50x1/1']"
   ]
  },
  {
   "cell_type": "code",
   "execution_count": 3,
   "id": "780d5579",
   "metadata": {},
   "outputs": [],
   "source": [
    "model = tf.keras.Sequential([hub.KerasLayer(test[0], trainable=False)])"
   ]
  },
  {
   "cell_type": "code",
   "execution_count": 4,
   "id": "2e77a81c",
   "metadata": {},
   "outputs": [],
   "source": [
    "model.build([None, 50,50,3])"
   ]
  },
  {
   "cell_type": "markdown",
   "id": "8d62ca9a",
   "metadata": {},
   "source": [
    "Получим список всех файлов в папках с изображениями"
   ]
  },
  {
   "cell_type": "code",
   "execution_count": 5,
   "id": "dfb451c2",
   "metadata": {},
   "outputs": [
    {
     "name": "stdout",
     "output_type": "stream",
     "text": [
      "D:\\TeachMeSkills\\DZ\\dz17\\flowers\\daisy\\100080576_f52e8ee070_n.jpg\n",
      "D:\\TeachMeSkills\\DZ\\dz17\\flowers\\daisy\\102841525_bd6628ae3c.jpg\n",
      "D:\\TeachMeSkills\\DZ\\dz17\\flowers\\daisy\\105806915_a9c13e2106_n.jpg\n",
      "D:\\TeachMeSkills\\DZ\\dz17\\flowers\\daisy\\107592979_aaa9cdfe78_m.jpg\n",
      "D:\\TeachMeSkills\\DZ\\dz17\\flowers\\daisy\\11642632_1e7627a2cc.jpg\n",
      "D:\\TeachMeSkills\\DZ\\dz17\\flowers\\daisy\\134409839_71069a95d1_m.jpg\n",
      "D:\\TeachMeSkills\\DZ\\dz17\\flowers\\daisy\\144076848_57e1d662e3_m.jpg\n",
      "D:\\TeachMeSkills\\DZ\\dz17\\flowers\\daisy\\144099102_bf63a41e4f_n.jpg\n",
      "D:\\TeachMeSkills\\DZ\\dz17\\flowers\\daisy\\144603918_b9de002f60_m.jpg\n",
      "D:\\TeachMeSkills\\DZ\\dz17\\flowers\\daisy\\147068564_32bb4350cc.jpg\n",
      "D:\\TeachMeSkills\\DZ\\dz17\\flowers\\daisy\\15207766_fc2f1d692c_n.jpg\n",
      "D:\\TeachMeSkills\\DZ\\dz17\\flowers\\daisy\\21652746_cc379e0eea_m.jpg\n",
      "D:\\TeachMeSkills\\DZ\\dz17\\flowers\\daisy\\25360380_1a881a5648.jpg\n",
      "D:\\TeachMeSkills\\DZ\\dz17\\flowers\\daisy\\43474673_7bb4465a86.jpg\n",
      "D:\\TeachMeSkills\\DZ\\dz17\\flowers\\daisy\\54377391_15648e8d18.jpg\n",
      "D:\\TeachMeSkills\\DZ\\dz17\\flowers\\daisy\\5547758_eea9edfd54_n.jpg\n",
      "D:\\TeachMeSkills\\DZ\\dz17\\flowers\\daisy\\5673551_01d1ea993e_n.jpg\n",
      "D:\\TeachMeSkills\\DZ\\dz17\\flowers\\daisy\\5673728_71b8cb57eb.jpg\n",
      "D:\\TeachMeSkills\\DZ\\dz17\\flowers\\daisy\\5794835_d15905c7c8_n.jpg\n",
      "D:\\TeachMeSkills\\DZ\\dz17\\flowers\\daisy\\5794839_200acd910c_n.jpg\n",
      "D:\\TeachMeSkills\\DZ\\dz17\\flowers\\daisy\\99306615_739eb94b9e_m.jpg\n",
      "D:\\TeachMeSkills\\DZ\\dz17\\flowers\\dandelion\\10443973_aeb97513fc_m.jpg\n",
      "D:\\TeachMeSkills\\DZ\\dz17\\flowers\\dandelion\\10683189_bd6e371b97.jpg\n",
      "D:\\TeachMeSkills\\DZ\\dz17\\flowers\\dandelion\\10919961_0af657c4e8.jpg\n",
      "D:\\TeachMeSkills\\DZ\\dz17\\flowers\\dandelion\\11405573_24a8a838cc_n.jpg\n",
      "D:\\TeachMeSkills\\DZ\\dz17\\flowers\\dandelion\\11545123_50a340b473_m.jpg\n",
      "D:\\TeachMeSkills\\DZ\\dz17\\flowers\\dandelion\\13290033_ebd7c7abba_n.jpg\n",
      "D:\\TeachMeSkills\\DZ\\dz17\\flowers\\dandelion\\13920113_f03e867ea7_m.jpg\n",
      "D:\\TeachMeSkills\\DZ\\dz17\\flowers\\dandelion\\14283011_3e7452c5b2_n.jpg\n",
      "D:\\TeachMeSkills\\DZ\\dz17\\flowers\\dandelion\\14829055_2a2e646a8f_m.jpg\n",
      "D:\\TeachMeSkills\\DZ\\dz17\\flowers\\dandelion\\15987457_49dc11bf4b.jpg\n",
      "D:\\TeachMeSkills\\DZ\\dz17\\flowers\\dandelion\\16041975_2f6c1596e5.jpg\n",
      "D:\\TeachMeSkills\\DZ\\dz17\\flowers\\dandelion\\16159487_3a6615a565_n.jpg\n",
      "D:\\TeachMeSkills\\DZ\\dz17\\flowers\\dandelion\\16987075_9a690a2183.jpg\n",
      "D:\\TeachMeSkills\\DZ\\dz17\\flowers\\dandelion\\7355522_b66e5d3078_m.jpg\n",
      "D:\\TeachMeSkills\\DZ\\dz17\\flowers\\dandelion\\8181477_8cb77d2e0f_n.jpg\n",
      "D:\\TeachMeSkills\\DZ\\dz17\\flowers\\dandelion\\8223949_2928d3f6f6_n.jpg\n",
      "D:\\TeachMeSkills\\DZ\\dz17\\flowers\\dandelion\\8223968_6b51555d2f_n.jpg\n",
      "D:\\TeachMeSkills\\DZ\\dz17\\flowers\\dandelion\\8475758_4c861ab268_m.jpg\n",
      "D:\\TeachMeSkills\\DZ\\dz17\\flowers\\dandelion\\8475769_3dea463364_m.jpg\n",
      "D:\\TeachMeSkills\\DZ\\dz17\\flowers\\dandelion\\8684108_a85764b22d_n.jpg\n",
      "D:\\TeachMeSkills\\DZ\\dz17\\flowers\\dandelion\\9818247_e2eac18894.jpg\n",
      "D:\\TeachMeSkills\\DZ\\dz17\\flowers\\rose\\102501987_3cdb8e5394_n.jpg\n",
      "D:\\TeachMeSkills\\DZ\\dz17\\flowers\\rose\\110472418_87b6a3aa98_m.jpg\n",
      "D:\\TeachMeSkills\\DZ\\dz17\\flowers\\rose\\118974357_0faa23cce9_n.jpg\n",
      "D:\\TeachMeSkills\\DZ\\dz17\\flowers\\rose\\12240303_80d87f77a3_n.jpg\n",
      "D:\\TeachMeSkills\\DZ\\dz17\\flowers\\rose\\123128873_546b8b7355_n.jpg\n",
      "D:\\TeachMeSkills\\DZ\\dz17\\flowers\\rose\\145862135_ab710de93c_n.jpg\n",
      "D:\\TeachMeSkills\\DZ\\dz17\\flowers\\rose\\159079265_d77a9ac920_n.jpg\n",
      "D:\\TeachMeSkills\\DZ\\dz17\\flowers\\rose\\160954292_6c2b4fda65_n.jpg\n",
      "D:\\TeachMeSkills\\DZ\\dz17\\flowers\\rose\\172311368_49412f881b.jpg\n",
      "D:\\TeachMeSkills\\DZ\\dz17\\flowers\\rose\\174109630_3c544b8a2f.jpg\n",
      "D:\\TeachMeSkills\\DZ\\dz17\\flowers\\rose\\180613732_3a7aba0b80_n.jpg\n",
      "D:\\TeachMeSkills\\DZ\\dz17\\flowers\\rose\\218630974_5646dafc63_m.jpg\n",
      "D:\\TeachMeSkills\\DZ\\dz17\\flowers\\rose\\22679076_bdb4c24401_m.jpg\n",
      "D:\\TeachMeSkills\\DZ\\dz17\\flowers\\rose\\229488796_21ac6ee16d_n.jpg\n",
      "D:\\TeachMeSkills\\DZ\\dz17\\flowers\\rose\\272481307_1eb47ba3e0_n.jpg\n",
      "D:\\TeachMeSkills\\DZ\\dz17\\flowers\\rose\\295257304_de893fc94d.jpg\n",
      "D:\\TeachMeSkills\\DZ\\dz17\\flowers\\rose\\298670754_f25edda891.jpg\n",
      "D:\\TeachMeSkills\\DZ\\dz17\\flowers\\rose\\323872063_7264e7e018_m.jpg\n",
      "D:\\TeachMeSkills\\DZ\\dz17\\flowers\\rose\\353897245_5453f35a8e.jpg\n",
      "D:\\TeachMeSkills\\DZ\\dz17\\flowers\\rose\\388405293_4db1d71f21_n.jpg\n",
      "D:\\TeachMeSkills\\DZ\\dz17\\flowers\\rose\\99383371_37a5ac12a3_n.jpg\n",
      "D:\\TeachMeSkills\\DZ\\dz17\\flowers\\sunflower\\127192624_afa3d9cb84.jpg\n",
      "D:\\TeachMeSkills\\DZ\\dz17\\flowers\\sunflower\\145303599_2627e23815_n.jpg\n",
      "D:\\TeachMeSkills\\DZ\\dz17\\flowers\\sunflower\\24459548_27a783feda.jpg\n",
      "D:\\TeachMeSkills\\DZ\\dz17\\flowers\\sunflower\\24459750_eb49f6e4cb_m.jpg\n",
      "D:\\TeachMeSkills\\DZ\\dz17\\flowers\\sunflower\\26254755_1bfc494ef1_n.jpg\n",
      "D:\\TeachMeSkills\\DZ\\dz17\\flowers\\sunflower\\27465811_9477c9d044.jpg\n",
      "D:\\TeachMeSkills\\DZ\\dz17\\flowers\\sunflower\\27466794_57e4fe5656.jpg\n",
      "D:\\TeachMeSkills\\DZ\\dz17\\flowers\\sunflower\\29972905_4cc537ff4b_n.jpg\n",
      "D:\\TeachMeSkills\\DZ\\dz17\\flowers\\sunflower\\35477171_13cb52115c_n.jpg\n",
      "D:\\TeachMeSkills\\DZ\\dz17\\flowers\\sunflower\\39271782_b4335d09ae_n.jpg\n",
      "D:\\TeachMeSkills\\DZ\\dz17\\flowers\\sunflower\\40410686_272bc66faf_m.jpg\n",
      "D:\\TeachMeSkills\\DZ\\dz17\\flowers\\sunflower\\40410814_fba3837226_n.jpg\n",
      "D:\\TeachMeSkills\\DZ\\dz17\\flowers\\sunflower\\40410963_3ac280f23a_n.jpg\n",
      "D:\\TeachMeSkills\\DZ\\dz17\\flowers\\sunflower\\40411019_526f3fc8d9_m.jpg\n",
      "D:\\TeachMeSkills\\DZ\\dz17\\flowers\\sunflower\\40411100_7fbe10ec0f_n.jpg\n",
      "D:\\TeachMeSkills\\DZ\\dz17\\flowers\\sunflower\\44079668_34dfee3da1_n.jpg\n",
      "D:\\TeachMeSkills\\DZ\\dz17\\flowers\\sunflower\\45045003_30bbd0a142_m.jpg\n",
      "D:\\TeachMeSkills\\DZ\\dz17\\flowers\\sunflower\\45045005_57354ee844.jpg\n",
      "D:\\TeachMeSkills\\DZ\\dz17\\flowers\\sunflower\\50987813_7484bfbcdf.jpg\n",
      "D:\\TeachMeSkills\\DZ\\dz17\\flowers\\sunflower\\58636535_bc53ef0a21_m.jpg\n",
      "D:\\TeachMeSkills\\DZ\\dz17\\flowers\\sunflower\\6953297_8576bf4ea3.jpg\n",
      "D:\\TeachMeSkills\\DZ\\dz17\\flowers\\tulip\\100930342_92e8746431_n.jpg\n",
      "D:\\TeachMeSkills\\DZ\\dz17\\flowers\\tulip\\107693873_86021ac4ea_n.jpg\n",
      "D:\\TeachMeSkills\\DZ\\dz17\\flowers\\tulip\\10791227_7168491604.jpg\n",
      "D:\\TeachMeSkills\\DZ\\dz17\\flowers\\tulip\\110147301_ad921e2828.jpg\n",
      "D:\\TeachMeSkills\\DZ\\dz17\\flowers\\tulip\\112334842_3ecf7585dd.jpg\n",
      "D:\\TeachMeSkills\\DZ\\dz17\\flowers\\tulip\\112428665_d8f3632f36_n.jpg\n",
      "D:\\TeachMeSkills\\DZ\\dz17\\flowers\\tulip\\112428919_f0c5ad7d9d_n.jpg\n",
      "D:\\TeachMeSkills\\DZ\\dz17\\flowers\\tulip\\112650879_82adc2cc04_n.jpg\n",
      "D:\\TeachMeSkills\\DZ\\dz17\\flowers\\tulip\\112651128_7b5d39a346_m.jpg\n",
      "D:\\TeachMeSkills\\DZ\\dz17\\flowers\\tulip\\112951022_4892b1348b_n.jpg\n",
      "D:\\TeachMeSkills\\DZ\\dz17\\flowers\\tulip\\112951086_150a59d499_n.jpg\n",
      "D:\\TeachMeSkills\\DZ\\dz17\\flowers\\tulip\\113291410_1bdc718ed8_n.jpg\n",
      "D:\\TeachMeSkills\\DZ\\dz17\\flowers\\tulip\\113902743_8f537f769b_n.jpg\n",
      "D:\\TeachMeSkills\\DZ\\dz17\\flowers\\tulip\\11746080_963537acdc.jpg\n",
      "D:\\TeachMeSkills\\DZ\\dz17\\flowers\\tulip\\11746276_de3dec8201.jpg\n",
      "D:\\TeachMeSkills\\DZ\\dz17\\flowers\\tulip\\11746367_d23a35b085_n.jpg\n",
      "D:\\TeachMeSkills\\DZ\\dz17\\flowers\\tulip\\11746452_5bc1749a36.jpg\n",
      "D:\\TeachMeSkills\\DZ\\dz17\\flowers\\tulip\\11746548_26b3256922_n.jpg\n",
      "D:\\TeachMeSkills\\DZ\\dz17\\flowers\\tulip\\14957470_6a8c272a87_m.jpg\n",
      "D:\\TeachMeSkills\\DZ\\dz17\\flowers\\tulip\\38287568_627de6ca20.jpg\n",
      "D:\\TeachMeSkills\\DZ\\dz17\\flowers\\tulip\\65347450_53658c63bd_n.jpg\n"
     ]
    }
   ],
   "source": [
    "for dirname, _,filenames in os.walk(r'D:\\TeachMeSkills\\DZ\\dz17\\flowers'):\n",
    "    for filename in filenames:\n",
    "        print(os.path.join(dirname, filename))"
   ]
  },
  {
   "cell_type": "markdown",
   "id": "59d226f6",
   "metadata": {},
   "source": [
    "Загружаем наши изображения и получаем для каждого векторное представление. В переменной data верторное представление изображения + номер класса"
   ]
  },
  {
   "cell_type": "code",
   "execution_count": 155,
   "id": "e3dcd113",
   "metadata": {},
   "outputs": [],
   "source": [
    "labels = ['dandelion', 'daisy','tulip','sunflower','rose']\n",
    "img_size = 50\n",
    "def get_data(data_dir):\n",
    "    data = [] \n",
    "    for label in labels: \n",
    "        path = os.path.join(data_dir, label)\n",
    "        class_num = labels.index(label)\n",
    "        for img in os.listdir(path):\n",
    "            try:\n",
    "                img_arr = cv2.imread(os.path.join(path, img), cv2.IMREAD_COLOR)\n",
    "                resized_arr = cv2.resize(img_arr, (img_size, img_size)) # Reshaping images to preferred size\n",
    "                data.append([model.predict(np.expand_dims(resized_arr, axis=0)), class_num])\n",
    "            except Exception as e:\n",
    "                print(e)\n",
    "    return np.array(data)"
   ]
  },
  {
   "cell_type": "code",
   "execution_count": 156,
   "id": "19dec2ca",
   "metadata": {},
   "outputs": [
    {
     "name": "stdout",
     "output_type": "stream",
     "text": [
      "1/1 [==============================] - 0s 138ms/step\n",
      "1/1 [==============================] - 0s 141ms/step\n",
      "1/1 [==============================] - 0s 132ms/step\n",
      "1/1 [==============================] - 0s 128ms/step\n",
      "1/1 [==============================] - 0s 128ms/step\n",
      "1/1 [==============================] - 0s 125ms/step\n",
      "1/1 [==============================] - 0s 127ms/step\n",
      "1/1 [==============================] - 0s 121ms/step\n",
      "1/1 [==============================] - 0s 142ms/step\n",
      "1/1 [==============================] - 0s 128ms/step\n",
      "1/1 [==============================] - 0s 133ms/step\n",
      "1/1 [==============================] - 0s 143ms/step\n",
      "1/1 [==============================] - 0s 134ms/step\n",
      "1/1 [==============================] - 0s 128ms/step\n",
      "1/1 [==============================] - 0s 124ms/step\n",
      "1/1 [==============================] - 0s 128ms/step\n",
      "1/1 [==============================] - 0s 128ms/step\n",
      "1/1 [==============================] - 0s 124ms/step\n",
      "1/1 [==============================] - 0s 138ms/step\n",
      "1/1 [==============================] - 0s 127ms/step\n",
      "1/1 [==============================] - 0s 128ms/step\n",
      "1/1 [==============================] - 0s 118ms/step\n",
      "1/1 [==============================] - 0s 117ms/step\n",
      "1/1 [==============================] - 0s 119ms/step\n",
      "1/1 [==============================] - 0s 121ms/step\n",
      "1/1 [==============================] - 0s 133ms/step\n",
      "1/1 [==============================] - 0s 131ms/step\n",
      "1/1 [==============================] - 0s 128ms/step\n",
      "1/1 [==============================] - 0s 125ms/step\n",
      "1/1 [==============================] - 0s 126ms/step\n",
      "1/1 [==============================] - 0s 126ms/step\n",
      "1/1 [==============================] - 0s 123ms/step\n",
      "1/1 [==============================] - 0s 128ms/step\n",
      "1/1 [==============================] - 0s 123ms/step\n",
      "1/1 [==============================] - 0s 119ms/step\n",
      "1/1 [==============================] - 0s 129ms/step\n",
      "1/1 [==============================] - 0s 118ms/step\n",
      "1/1 [==============================] - 0s 147ms/step\n",
      "1/1 [==============================] - 0s 118ms/step\n",
      "1/1 [==============================] - 0s 121ms/step\n",
      "1/1 [==============================] - 0s 124ms/step\n",
      "1/1 [==============================] - 0s 125ms/step\n",
      "1/1 [==============================] - 0s 127ms/step\n",
      "1/1 [==============================] - 0s 130ms/step\n",
      "1/1 [==============================] - 0s 123ms/step\n",
      "1/1 [==============================] - 0s 118ms/step\n",
      "1/1 [==============================] - 0s 125ms/step\n",
      "1/1 [==============================] - 0s 139ms/step\n",
      "1/1 [==============================] - 0s 159ms/step\n",
      "1/1 [==============================] - 0s 127ms/step\n",
      "1/1 [==============================] - 0s 119ms/step\n",
      "1/1 [==============================] - 0s 119ms/step\n",
      "1/1 [==============================] - 0s 124ms/step\n",
      "1/1 [==============================] - 0s 135ms/step\n",
      "1/1 [==============================] - 0s 134ms/step\n",
      "1/1 [==============================] - 0s 128ms/step\n",
      "1/1 [==============================] - 0s 132ms/step\n",
      "1/1 [==============================] - 0s 127ms/step\n",
      "1/1 [==============================] - 0s 143ms/step\n",
      "1/1 [==============================] - 0s 127ms/step\n",
      "1/1 [==============================] - 0s 128ms/step\n",
      "1/1 [==============================] - 0s 129ms/step\n",
      "1/1 [==============================] - 0s 127ms/step\n",
      "1/1 [==============================] - 0s 130ms/step\n",
      "1/1 [==============================] - 0s 127ms/step\n",
      "1/1 [==============================] - 0s 127ms/step\n",
      "1/1 [==============================] - 0s 130ms/step\n",
      "1/1 [==============================] - 0s 128ms/step\n",
      "1/1 [==============================] - 0s 134ms/step\n",
      "1/1 [==============================] - 0s 135ms/step\n",
      "1/1 [==============================] - 0s 127ms/step\n",
      "1/1 [==============================] - 0s 131ms/step\n",
      "1/1 [==============================] - 0s 137ms/step\n",
      "1/1 [==============================] - 0s 142ms/step\n",
      "1/1 [==============================] - 0s 176ms/step\n",
      "1/1 [==============================] - 0s 136ms/step\n",
      "1/1 [==============================] - 0s 129ms/step\n",
      "1/1 [==============================] - 0s 129ms/step\n",
      "1/1 [==============================] - 0s 128ms/step\n",
      "1/1 [==============================] - 0s 128ms/step\n",
      "1/1 [==============================] - 0s 127ms/step\n",
      "1/1 [==============================] - 0s 133ms/step\n",
      "1/1 [==============================] - 0s 133ms/step\n",
      "1/1 [==============================] - 0s 138ms/step\n",
      "1/1 [==============================] - 0s 136ms/step\n",
      "1/1 [==============================] - 0s 143ms/step\n",
      "1/1 [==============================] - 0s 136ms/step\n",
      "1/1 [==============================] - 0s 134ms/step\n",
      "1/1 [==============================] - 0s 136ms/step\n",
      "1/1 [==============================] - 0s 138ms/step\n",
      "1/1 [==============================] - 0s 141ms/step\n",
      "1/1 [==============================] - 0s 134ms/step\n",
      "1/1 [==============================] - 0s 136ms/step\n",
      "1/1 [==============================] - 0s 132ms/step\n",
      "1/1 [==============================] - 0s 130ms/step\n",
      "1/1 [==============================] - 0s 137ms/step\n",
      "1/1 [==============================] - 0s 132ms/step\n",
      "1/1 [==============================] - 0s 132ms/step\n",
      "1/1 [==============================] - 0s 136ms/step\n",
      "1/1 [==============================] - 0s 128ms/step\n",
      "1/1 [==============================] - 0s 140ms/step\n",
      "1/1 [==============================] - 0s 151ms/step\n",
      "1/1 [==============================] - 0s 129ms/step\n",
      "1/1 [==============================] - 0s 132ms/step\n",
      "1/1 [==============================] - 0s 130ms/step\n"
     ]
    },
    {
     "name": "stderr",
     "output_type": "stream",
     "text": [
      "C:\\Users\\HP\\AppData\\Local\\Temp\\ipykernel_17020\\819706320.py:15: VisibleDeprecationWarning: Creating an ndarray from ragged nested sequences (which is a list-or-tuple of lists-or-tuples-or ndarrays with different lengths or shapes) is deprecated. If you meant to do this, you must specify 'dtype=object' when creating the ndarray.\n",
      "  return np.array(data)\n"
     ]
    }
   ],
   "source": [
    "data = get_data(r\"D:\\TeachMeSkills\\DZ\\dz17\\flowers\")"
   ]
  },
  {
   "cell_type": "code",
   "execution_count": 157,
   "id": "3e4ea4d5",
   "metadata": {},
   "outputs": [
    {
     "data": {
      "text/plain": [
       "array([[array([[0., 0., 0., ..., 0., 0., 0.]], dtype=float32), 0],\n",
       "       [array([[1.7325912 , 0.        , 0.        , ..., 0.        , 0.        ,\n",
       "                0.22979224]], dtype=float32)                                    ,\n",
       "        0],\n",
       "       [array([[0.        , 0.11837459, 0.647705  , ..., 0.        , 0.        ,\n",
       "                0.        ]], dtype=float32)                                    ,\n",
       "        0],\n",
       "       [array([[0.31729585, 0.        , 0.        , ..., 0.        , 0.        ,\n",
       "                0.08354181]], dtype=float32)                                    ,\n",
       "        0],\n",
       "       [array([[0.        , 0.29319182, 0.        , ..., 0.        , 0.        ,\n",
       "                0.08275735]], dtype=float32)                                    ,\n",
       "        0],\n",
       "       [array([[1.573014  , 0.01519412, 0.        , ..., 0.        , 0.        ,\n",
       "                0.        ]], dtype=float32)                                    ,\n",
       "        0],\n",
       "       [array([[1.3906143 , 0.        , 0.        , ..., 0.        , 0.        ,\n",
       "                0.24882475]], dtype=float32)                                    ,\n",
       "        0],\n",
       "       [array([[0.1511558 , 0.09866735, 0.        , ..., 0.        , 0.        ,\n",
       "                0.        ]], dtype=float32)                                    ,\n",
       "        0],\n",
       "       [array([[0.        , 0.        , 0.        , ..., 0.        , 0.        ,\n",
       "                0.31488484]], dtype=float32)                                    ,\n",
       "        0],\n",
       "       [array([[1.7483077, 0.       , 0.       , ..., 0.       , 0.       ,\n",
       "                0.       ]], dtype=float32)                                ,\n",
       "        0],\n",
       "       [array([[1.140655 , 0.       , 0.       , ..., 0.       , 0.       ,\n",
       "                1.2649109]], dtype=float32)                                ,\n",
       "        0],\n",
       "       [array([[0.47332639, 0.        , 0.        , ..., 0.        , 0.        ,\n",
       "                0.293006  ]], dtype=float32)                                    ,\n",
       "        0],\n",
       "       [array([[0.1976077 , 0.07891104, 0.        , ..., 0.        , 0.        ,\n",
       "                0.        ]], dtype=float32)                                    ,\n",
       "        0],\n",
       "       [array([[0.        , 0.13914123, 0.        , ..., 0.        , 0.        ,\n",
       "                0.4923746 ]], dtype=float32)                                    ,\n",
       "        0],\n",
       "       [array([[3.7828946, 0.       , 0.       , ..., 0.       , 0.       ,\n",
       "                0.       ]], dtype=float32)                                ,\n",
       "        0],\n",
       "       [array([[1.3137476, 0.       , 0.       , ..., 0.       , 0.       ,\n",
       "                0.       ]], dtype=float32)                                ,\n",
       "        0],\n",
       "       [array([[2.474107  , 0.        , 0.        , ..., 0.        , 0.        ,\n",
       "                0.02820244]], dtype=float32)                                    ,\n",
       "        0],\n",
       "       [array([[1.5195559 , 0.        , 0.        , ..., 0.        , 0.        ,\n",
       "                0.31378126]], dtype=float32)                                    ,\n",
       "        0],\n",
       "       [array([[2.3103726, 0.       , 0.       , ..., 0.       , 0.       ,\n",
       "                2.8415813]], dtype=float32)                                ,\n",
       "        0],\n",
       "       [array([[0.76326877, 0.        , 0.        , ..., 0.        , 0.        ,\n",
       "                1.853272  ]], dtype=float32)                                    ,\n",
       "        0],\n",
       "       [array([[0.        , 0.24052799, 0.        , ..., 0.        , 0.        ,\n",
       "                0.34684163]], dtype=float32)                                    ,\n",
       "        0],\n",
       "       [array([[0.5163528, 0.       , 0.       , ..., 0.       , 0.       ,\n",
       "                0.7829725]], dtype=float32)                                ,\n",
       "        1],\n",
       "       [array([[2.533324, 0.      , 0.      , ..., 0.      , 0.      , 0.      ]],\n",
       "              dtype=float32)                                                      ,\n",
       "        1],\n",
       "       [array([[1.7300631 , 0.        , 0.        , ..., 0.        , 0.        ,\n",
       "                0.09899268]], dtype=float32)                                    ,\n",
       "        1],\n",
       "       [array([[2.4792135 , 0.        , 0.        , ..., 0.        , 0.        ,\n",
       "                0.14312455]], dtype=float32)                                    ,\n",
       "        1],\n",
       "       [array([[5.3351097 , 0.        , 0.        , ..., 0.        , 0.        ,\n",
       "                0.10892934]], dtype=float32)                                    ,\n",
       "        1],\n",
       "       [array([[3.6884775, 0.       , 0.       , ..., 0.       , 0.       ,\n",
       "                2.76472  ]], dtype=float32)                                ,\n",
       "        1],\n",
       "       [array([[0.34576386, 0.        , 0.        , ..., 0.        , 0.        ,\n",
       "                0.        ]], dtype=float32)                                    ,\n",
       "        1],\n",
       "       [array([[2.3175826, 0.       , 0.       , ..., 0.       , 0.       ,\n",
       "                0.       ]], dtype=float32)                                ,\n",
       "        1],\n",
       "       [array([[1.8803158 , 0.        , 0.46817902, ..., 0.        , 0.        ,\n",
       "                0.7506197 ]], dtype=float32)                                    ,\n",
       "        1],\n",
       "       [array([[2.224516 , 0.       , 0.       , ..., 0.       , 0.       ,\n",
       "                2.5043068]], dtype=float32)                                ,\n",
       "        1],\n",
       "       [array([[0.2214956, 0.       , 0.       , ..., 0.       , 0.       ,\n",
       "                0.       ]], dtype=float32)                                ,\n",
       "        1],\n",
       "       [array([[1.977882 , 0.       , 0.       , ..., 0.       , 0.       ,\n",
       "                1.2919937]], dtype=float32)                                ,\n",
       "        1],\n",
       "       [array([[2.5180495, 0.       , 0.       , ..., 0.       , 0.       ,\n",
       "                1.4380305]], dtype=float32)                                ,\n",
       "        1],\n",
       "       [array([[2.2108173, 0.       , 0.       , ..., 0.       , 0.       ,\n",
       "                2.7448318]], dtype=float32)                                ,\n",
       "        1],\n",
       "       [array([[2.7948296 , 0.        , 0.28944302, ..., 0.        , 0.        ,\n",
       "                1.4358089 ]], dtype=float32)                                    ,\n",
       "        1],\n",
       "       [array([[0.5511924, 0.       , 0.       , ..., 0.       , 0.       ,\n",
       "                1.5289676]], dtype=float32)                                ,\n",
       "        1],\n",
       "       [array([[0.        , 0.        , 0.86518043, ..., 0.        , 0.        ,\n",
       "                2.20137   ]], dtype=float32)                                    ,\n",
       "        1],\n",
       "       [array([[2.974793 , 0.       , 0.       , ..., 0.       , 0.       ,\n",
       "                0.6447637]], dtype=float32)                                ,\n",
       "        1],\n",
       "       [array([[2.2465506, 0.       , 0.       , ..., 0.       , 0.       ,\n",
       "                2.9810994]], dtype=float32)                                ,\n",
       "        1],\n",
       "       [array([[0.        , 0.        , 0.        , ..., 0.        , 0.        ,\n",
       "                0.00645706]], dtype=float32)                                    ,\n",
       "        1],\n",
       "       [array([[0.1748085, 0.       , 0.       , ..., 0.       , 0.       ,\n",
       "                0.       ]], dtype=float32)                                ,\n",
       "        1],\n",
       "       [array([[0.5934574 , 0.        , 0.16448551, ..., 0.        , 0.        ,\n",
       "                0.91263807]], dtype=float32)                                    ,\n",
       "        2],\n",
       "       [array([[0.5473851, 0.       , 0.       , ..., 0.       , 0.       ,\n",
       "                0.       ]], dtype=float32)                                ,\n",
       "        2],\n",
       "       [array([[1.0565805 , 0.        , 0.        , ..., 0.        , 0.        ,\n",
       "                0.58178824]], dtype=float32)                                    ,\n",
       "        2],\n",
       "       [array([[2.1566525, 0.       , 0.       , ..., 0.       , 0.       ,\n",
       "                1.0020684]], dtype=float32)                                ,\n",
       "        2],\n",
       "       [array([[1.039604 , 0.       , 0.       , ..., 0.       , 0.       ,\n",
       "                4.3189006]], dtype=float32)                                ,\n",
       "        2],\n",
       "       [array([[3.5546339 , 0.        , 0.        , ..., 0.        , 0.        ,\n",
       "                0.05928797]], dtype=float32)                                    ,\n",
       "        2],\n",
       "       [array([[1.7876962, 0.       , 0.       , ..., 0.       , 0.       ,\n",
       "                1.0453453]], dtype=float32)                                ,\n",
       "        2],\n",
       "       [array([[0.8550967, 0.       , 0.       , ..., 0.       , 0.       ,\n",
       "                1.6176594]], dtype=float32)                                ,\n",
       "        2],\n",
       "       [array([[2.379373, 0.      , 0.      , ..., 0.      , 0.      , 0.      ]],\n",
       "              dtype=float32)                                                      ,\n",
       "        2],\n",
       "       [array([[0., 0., 0., ..., 0., 0., 0.]], dtype=float32), 2],\n",
       "       [array([[0.562069, 0.      , 0.      , ..., 0.      , 0.      , 0.      ]],\n",
       "              dtype=float32)                                                      ,\n",
       "        2],\n",
       "       [array([[0.02623376, 0.        , 0.        , ..., 0.        , 0.        ,\n",
       "                0.46853238]], dtype=float32)                                    ,\n",
       "        2],\n",
       "       [array([[1.6121106, 0.       , 0.       , ..., 0.       , 0.       ,\n",
       "                2.7774868]], dtype=float32)                                ,\n",
       "        2],\n",
       "       [array([[0., 0., 0., ..., 0., 0., 0.]], dtype=float32), 2],\n",
       "       [array([[1.5213165, 0.       , 0.       , ..., 0.       , 0.       ,\n",
       "                0.       ]], dtype=float32)                                ,\n",
       "        2],\n",
       "       [array([[0.        , 0.00046244, 0.        , ..., 0.        , 0.        ,\n",
       "                0.        ]], dtype=float32)                                    ,\n",
       "        2],\n",
       "       [array([[0.72704244, 0.        , 0.        , ..., 0.        , 0.        ,\n",
       "                0.        ]], dtype=float32)                                    ,\n",
       "        2],\n",
       "       [array([[0.3351264 , 0.        , 0.        , ..., 0.        , 0.        ,\n",
       "                0.00586104]], dtype=float32)                                    ,\n",
       "        2],\n",
       "       [array([[4.2708583, 0.       , 0.       , ..., 0.       , 0.       ,\n",
       "                1.5695624]], dtype=float32)                                ,\n",
       "        2],\n",
       "       [array([[3.3869944, 0.       , 0.       , ..., 0.       , 0.       ,\n",
       "                0.       ]], dtype=float32)                                ,\n",
       "        2],\n",
       "       [array([[1.0654018 , 0.        , 0.        , ..., 0.        , 0.        ,\n",
       "                0.17360526]], dtype=float32)                                    ,\n",
       "        2],\n",
       "       [array([[0.        , 0.        , 0.        , ..., 0.        , 0.        ,\n",
       "                0.14879936]], dtype=float32)                                    ,\n",
       "        3],\n",
       "       [array([[5.9478273, 0.       , 0.       , ..., 0.       , 0.       ,\n",
       "                2.996006 ]], dtype=float32)                                ,\n",
       "        3],\n",
       "       [array([[2.623068 , 0.       , 0.       , ..., 0.       , 0.       ,\n",
       "                0.4029337]], dtype=float32)                                ,\n",
       "        3],\n",
       "       [array([[0.       , 0.       , 0.       , ..., 0.       , 0.       ,\n",
       "                0.9225561]], dtype=float32)                                ,\n",
       "        3],\n",
       "       [array([[3.5168076, 0.       , 0.       , ..., 0.       , 0.       ,\n",
       "                0.7740763]], dtype=float32)                                ,\n",
       "        3],\n",
       "       [array([[3.8359022, 0.       , 0.       , ..., 0.       , 0.       ,\n",
       "                3.571576 ]], dtype=float32)                                ,\n",
       "        3],\n",
       "       [array([[4.797024 , 0.       , 0.       , ..., 0.       , 0.       ,\n",
       "                1.5406108]], dtype=float32)                                ,\n",
       "        3],\n",
       "       [array([[0.        , 0.        , 0.        , ..., 0.        , 0.        ,\n",
       "                0.14323527]], dtype=float32)                                    ,\n",
       "        3],\n",
       "       [array([[1.291323  , 0.        , 0.05147362, ..., 0.        , 0.        ,\n",
       "                3.3579292 ]], dtype=float32)                                    ,\n",
       "        3],\n",
       "       [array([[1.4365811 , 0.        , 0.00186408, ..., 0.        , 0.        ,\n",
       "                0.        ]], dtype=float32)                                    ,\n",
       "        3],\n",
       "       [array([[0.8885816, 0.       , 0.       , ..., 0.       , 0.       ,\n",
       "                0.       ]], dtype=float32)                                ,\n",
       "        3],\n",
       "       [array([[1.3497726, 0.       , 0.       , ..., 0.       , 0.       ,\n",
       "                0.7743722]], dtype=float32)                                ,\n",
       "        3],\n",
       "       [array([[0.6600332, 0.       , 0.       , ..., 0.       , 0.       ,\n",
       "                0.285705 ]], dtype=float32)                                ,\n",
       "        3],\n",
       "       [array([[0.10881233, 0.        , 0.        , ..., 0.        , 0.        ,\n",
       "                0.9185034 ]], dtype=float32)                                    ,\n",
       "        3],\n",
       "       [array([[0.6483323 , 0.01581085, 0.        , ..., 0.        , 0.        ,\n",
       "                0.60935533]], dtype=float32)                                    ,\n",
       "        3],\n",
       "       [array([[0.38292772, 0.        , 0.        , ..., 0.        , 0.        ,\n",
       "                2.480987  ]], dtype=float32)                                    ,\n",
       "        3],\n",
       "       [array([[1.1159606 , 0.        , 0.        , ..., 0.        , 0.        ,\n",
       "                0.38312492]], dtype=float32)                                    ,\n",
       "        3],\n",
       "       [array([[2.7118661, 0.       , 0.       , ..., 0.       , 0.       ,\n",
       "                1.1894302]], dtype=float32)                                ,\n",
       "        3],\n",
       "       [array([[0.22059256, 0.        , 0.        , ..., 0.        , 0.        ,\n",
       "                0.        ]], dtype=float32)                                    ,\n",
       "        3],\n",
       "       [array([[0.       , 0.       , 0.       , ..., 0.       , 0.       ,\n",
       "                1.4258171]], dtype=float32)                                ,\n",
       "        3],\n",
       "       [array([[0., 0., 0., ..., 0., 0., 0.]], dtype=float32), 3],\n",
       "       [array([[0.81446826, 0.        , 0.        , ..., 0.        , 0.        ,\n",
       "                0.        ]], dtype=float32)                                    ,\n",
       "        4],\n",
       "       [array([[0.21399784, 0.        , 0.        , ..., 0.        , 0.        ,\n",
       "                0.        ]], dtype=float32)                                    ,\n",
       "        4],\n",
       "       [array([[2.495984 , 0.       , 0.       , ..., 0.       , 0.       ,\n",
       "                1.1799128]], dtype=float32)                                ,\n",
       "        4],\n",
       "       [array([[0.       , 0.       , 0.       , ..., 0.       , 0.       ,\n",
       "                1.6961365]], dtype=float32)                                ,\n",
       "        4],\n",
       "       [array([[1.3473855 , 0.        , 0.07822552, ..., 0.        , 0.        ,\n",
       "                1.0244182 ]], dtype=float32)                                    ,\n",
       "        4],\n",
       "       [array([[0.1381073, 0.       , 0.       , ..., 0.       , 0.       ,\n",
       "                2.7191281]], dtype=float32)                                ,\n",
       "        4],\n",
       "       [array([[0.8353152 , 0.        , 0.21741241, ..., 0.        , 0.        ,\n",
       "                0.17955017]], dtype=float32)                                    ,\n",
       "        4],\n",
       "       [array([[0.        , 0.        , 0.        , ..., 0.        , 0.        ,\n",
       "                0.68538284]], dtype=float32)                                    ,\n",
       "        4],\n",
       "       [array([[1.1967387, 0.       , 0.       , ..., 0.       , 0.       ,\n",
       "                2.4866166]], dtype=float32)                                ,\n",
       "        4],\n",
       "       [array([[0.        , 0.01950586, 0.        , ..., 0.        , 0.        ,\n",
       "                0.29938126]], dtype=float32)                                    ,\n",
       "        4],\n",
       "       [array([[0., 0., 0., ..., 0., 0., 0.]], dtype=float32), 4],\n",
       "       [array([[1.2284776, 0.       , 0.       , ..., 0.       , 0.       ,\n",
       "                1.0648004]], dtype=float32)                                ,\n",
       "        4],\n",
       "       [array([[1.6125715 , 0.        , 0.09473339, ..., 0.        , 0.        ,\n",
       "                0.70778626]], dtype=float32)                                    ,\n",
       "        4],\n",
       "       [array([[1.7579839, 0.       , 0.       , ..., 0.       , 0.       ,\n",
       "                1.539989 ]], dtype=float32)                                ,\n",
       "        4],\n",
       "       [array([[0.03982836, 0.08462361, 0.        , ..., 0.        , 0.        ,\n",
       "                0.24412301]], dtype=float32)                                    ,\n",
       "        4],\n",
       "       [array([[1.727139  , 0.        , 0.        , ..., 0.        , 0.        ,\n",
       "                0.05765921]], dtype=float32)                                    ,\n",
       "        4],\n",
       "       [array([[1.428066  , 0.        , 0.        , ..., 0.        , 0.        ,\n",
       "                0.15814483]], dtype=float32)                                    ,\n",
       "        4],\n",
       "       [array([[0.64840466, 0.        , 0.        , ..., 0.        , 0.        ,\n",
       "                0.        ]], dtype=float32)                                    ,\n",
       "        4],\n",
       "       [array([[2.627047, 0.      , 0.      , ..., 0.      , 0.      , 0.      ]],\n",
       "              dtype=float32)                                                      ,\n",
       "        4],\n",
       "       [array([[0.       , 0.       , 0.       , ..., 0.       , 0.       ,\n",
       "                0.7668746]], dtype=float32)                                ,\n",
       "        4],\n",
       "       [array([[0.14893365, 0.01016021, 0.        , ..., 0.        , 0.        ,\n",
       "                0.        ]], dtype=float32)                                    ,\n",
       "        4]], dtype=object)"
      ]
     },
     "execution_count": 157,
     "metadata": {},
     "output_type": "execute_result"
    }
   ],
   "source": [
    "data"
   ]
  },
  {
   "cell_type": "markdown",
   "id": "262142dd",
   "metadata": {},
   "source": [
    "Отобразим классы и количество изображений в нем"
   ]
  },
  {
   "cell_type": "code",
   "execution_count": 158,
   "id": "b9e11ee4",
   "metadata": {},
   "outputs": [
    {
     "name": "stderr",
     "output_type": "stream",
     "text": [
      "C:\\Users\\HP\\anaconda3\\envs\\My\\lib\\site-packages\\seaborn\\_decorators.py:36: FutureWarning: Pass the following variable as a keyword arg: x. From version 0.12, the only valid positional argument will be `data`, and passing other arguments without an explicit keyword will result in an error or misinterpretation.\n",
      "  warnings.warn(\n"
     ]
    },
    {
     "data": {
      "text/plain": [
       "<AxesSubplot:ylabel='count'>"
      ]
     },
     "execution_count": 158,
     "metadata": {},
     "output_type": "execute_result"
    },
    {
     "data": {
      "image/png": "[encoded data removed]",
      "text/plain": [
       "<Figure size 640x480 with 1 Axes>"
      ]
     },
     "metadata": {},
     "output_type": "display_data"
    }
   ],
   "source": [
    "l = []\n",
    "for i in data:\n",
    "    l.append(labels[i[1]])\n",
    "sns.set_style('dark')\n",
    "sns.countplot(l)"
   ]
  },
  {
   "cell_type": "markdown",
   "id": "f05d5460",
   "metadata": {},
   "source": [
    "Разобьем переменную data на две части. Одна будет хранить наши вектора изображений (X), вторая - наши лейблы классов (Y)"
   ]
  },
  {
   "cell_type": "code",
   "execution_count": 271,
   "id": "4805cc27",
   "metadata": {},
   "outputs": [],
   "source": [
    "X=data[:,0]\n",
    "Y=data[:,1]"
   ]
  },
  {
   "cell_type": "code",
   "execution_count": 275,
   "id": "0d537db7",
   "metadata": {},
   "outputs": [
    {
     "data": {
      "text/plain": [
       "array([0, 0, 0, 0, 0, 0, 0, 0, 0, 0, 0, 0, 0, 0, 0, 0, 0, 0, 0, 0, 0, 1,\n",
       "       1, 1, 1, 1, 1, 1, 1, 1, 1, 1, 1, 1, 1, 1, 1, 1, 1, 1, 1, 1, 2, 2,\n",
       "       2, 2, 2, 2, 2, 2, 2, 2, 2, 2, 2, 2, 2, 2, 2, 2, 2, 2, 2, 3, 3, 3,\n",
       "       3, 3, 3, 3, 3, 3, 3, 3, 3, 3, 3, 3, 3, 3, 3, 3, 3, 3, 4, 4, 4, 4,\n",
       "       4, 4, 4, 4, 4, 4, 4, 4, 4, 4, 4, 4, 4, 4, 4, 4, 4], dtype=object)"
      ]
     },
     "execution_count": 275,
     "metadata": {},
     "output_type": "execute_result"
    }
   ],
   "source": [
    "Y"
   ]
  },
  {
   "cell_type": "markdown",
   "id": "4872d789",
   "metadata": {},
   "source": [
    "После многодневных попыток как то привести размерности моего массива массивов с массивами X к нужному, чтобы модель его съела пришлось влоб отобрать случайные вектора изображений и их метриками таким кровожадным способом. Сил уже не было"
   ]
  },
  {
   "cell_type": "code",
   "execution_count": 274,
   "id": "7a74913b",
   "metadata": {},
   "outputs": [],
   "source": [
    "Ax=np.concatenate((X[0], X[2],X[16],X[25], X[32],X[40],X[46], X[52],X[61],X[73], X[83],X[91],X[95],X[32], X[104],X[20]), axis=0)"
   ]
  },
  {
   "cell_type": "code",
   "execution_count": 279,
   "id": "a7b8aa1c",
   "metadata": {},
   "outputs": [],
   "source": [
    "Ay=[]\n",
    "Ay=(Y[0], Y[2],Y[16],Y[25], Y[32],Y[40],Y[46], Y[52],Y[61],Y[73], Y[83],Y[91],Y[95],Y[32], Y[104],Y[20])"
   ]
  },
  {
   "cell_type": "code",
   "execution_count": 280,
   "id": "9a244b93",
   "metadata": {},
   "outputs": [
    {
     "data": {
      "text/plain": [
       "(0, 0, 0, 1, 1, 1, 2, 2, 2, 3, 3, 4, 4, 1, 4, 0)"
      ]
     },
     "execution_count": 280,
     "metadata": {},
     "output_type": "execute_result"
    }
   ],
   "source": [
    "Ay"
   ]
  },
  {
   "cell_type": "code",
   "execution_count": 227,
   "id": "b9639915",
   "metadata": {},
   "outputs": [
    {
     "data": {
      "text/plain": [
       "(16, 2048)"
      ]
     },
     "execution_count": 227,
     "metadata": {},
     "output_type": "execute_result"
    }
   ],
   "source": [
    "A.shape"
   ]
  },
  {
   "cell_type": "code",
   "execution_count": 256,
   "id": "3afd87f4",
   "metadata": {},
   "outputs": [
    {
     "data": {
      "text/plain": [
       "array([0, 0, 0, 1, 1, 1, 2, 2, 2, 3, 3, 4, 4, 1, 4, 0])"
      ]
     },
     "execution_count": 256,
     "metadata": {},
     "output_type": "execute_result"
    }
   ],
   "source": [
    "np.array(Ay)"
   ]
  },
  {
   "cell_type": "code",
   "execution_count": 70,
   "id": "4ba5119f",
   "metadata": {},
   "outputs": [
    {
     "data": {
      "text/plain": [
       "(105,)"
      ]
     },
     "execution_count": 70,
     "metadata": {},
     "output_type": "execute_result"
    }
   ],
   "source": [
    "X.shape"
   ]
  },
  {
   "cell_type": "markdown",
   "id": "75791235",
   "metadata": {},
   "source": [
    "Обучал модель на необработанных данных и на данных прошедших TruncatedSVD"
   ]
  },
  {
   "cell_type": "code",
   "execution_count": 351,
   "id": "c5b2ba0d",
   "metadata": {},
   "outputs": [],
   "source": [
    "from sklearn.decomposition import TruncatedSVD\n",
    "svd = TruncatedSVD(n_components=2, n_iter=7, random_state=42)\n",
    "X_1=svd.fit_transform(Ax)"
   ]
  },
  {
   "cell_type": "code",
   "execution_count": 358,
   "id": "8482ed15",
   "metadata": {},
   "outputs": [
    {
     "name": "stderr",
     "output_type": "stream",
     "text": [
      "C:\\Users\\HP\\anaconda3\\envs\\My\\lib\\site-packages\\sklearn\\cluster\\_kmeans.py:1334: UserWarning: KMeans is known to have a memory leak on Windows with MKL, when there are less chunks than available threads. You can avoid it by setting the environment variable OMP_NUM_THREADS=1.\n",
      "  warnings.warn(\n",
      "C:\\Users\\HP\\anaconda3\\envs\\My\\lib\\site-packages\\sklearn\\cluster\\_kmeans.py:1334: UserWarning: KMeans is known to have a memory leak on Windows with MKL, when there are less chunks than available threads. You can avoid it by setting the environment variable OMP_NUM_THREADS=1.\n",
      "  warnings.warn(\n"
     ]
    }
   ],
   "source": [
    "from sklearn.cluster import KMeans\n",
    "kmeans = KMeans(n_clusters=5, random_state=4)\n",
    "y_kmeans=kmeans.fit_predict(Ax)\n",
    "y2_kmeans=kmeans.fit_predict(X_1)"
   ]
  },
  {
   "cell_type": "code",
   "execution_count": 359,
   "id": "c26e2553",
   "metadata": {},
   "outputs": [
    {
     "data": {
      "text/plain": [
       "array([0, 0, 4, 2, 1, 0, 1, 4, 4, 3, 4, 0, 3, 1, 2, 0])"
      ]
     },
     "execution_count": 359,
     "metadata": {},
     "output_type": "execute_result"
    }
   ],
   "source": [
    "y_kmeans"
   ]
  },
  {
   "cell_type": "code",
   "execution_count": 360,
   "id": "f996419d",
   "metadata": {},
   "outputs": [
    {
     "data": {
      "text/plain": [
       "array([4, 3, 1, 2, 0, 4, 2, 1, 1, 1, 1, 4, 4, 0, 3, 3])"
      ]
     },
     "execution_count": 360,
     "metadata": {},
     "output_type": "execute_result"
    }
   ],
   "source": [
    "y2_kmeans"
   ]
  },
  {
   "cell_type": "markdown",
   "id": "07b7b8e2",
   "metadata": {},
   "source": [
    "Построим матрицу ошибок для необработанных данных (с полным количеством компонент)"
   ]
  },
  {
   "cell_type": "code",
   "execution_count": 361,
   "id": "8b356adf",
   "metadata": {},
   "outputs": [
    {
     "data": {
      "image/png": "[encoded data removed]",
      "text/plain": [
       "<Figure size 640x480 with 1 Axes>"
      ]
     },
     "metadata": {},
     "output_type": "display_data"
    }
   ],
   "source": [
    "from sklearn.metrics import confusion_matrix\n",
    "mat = confusion_matrix(Ay, y_kmeans)\n",
    "sns.heatmap(mat.T, square=True, annot=True, fmt='d', cbar=False,\n",
    "            xticklabels=['dandelion', 'daisy','tulip','sunflower','rose'],\n",
    "            yticklabels=['dandelion', 'daisy','tulip','sunflower','rose'])\n",
    "plt.xlabel('true label')\n",
    "plt.ylabel('predicted label');"
   ]
  },
  {
   "cell_type": "markdown",
   "id": "e7765f60",
   "metadata": {},
   "source": [
    "Построим матрицу ошибок для данных TruncatedSVD (n_components=2)"
   ]
  },
  {
   "cell_type": "code",
   "execution_count": 362,
   "id": "16c971dc",
   "metadata": {},
   "outputs": [
    {
     "data": {
      "image/png": "[encoded data removed]",
      "text/plain": [
       "<Figure size 640x480 with 1 Axes>"
      ]
     },
     "metadata": {},
     "output_type": "display_data"
    }
   ],
   "source": [
    "from sklearn.metrics import confusion_matrix\n",
    "mat = confusion_matrix(Ay, y2_kmeans)\n",
    "sns.heatmap(mat.T, square=True, annot=True, fmt='d', cbar=False,\n",
    "            xticklabels=['dandelion', 'daisy','tulip','sunflower','rose'],\n",
    "            yticklabels=['dandelion', 'daisy','tulip','sunflower','rose'])\n",
    "plt.xlabel('true label')\n",
    "plt.ylabel('predicted label');"
   ]
  },
  {
   "cell_type": "markdown",
   "id": "c75e8aea",
   "metadata": {},
   "source": [
    "Посмотрим метрики accuracy_score, precision_score (со всеми компонентами)"
   ]
  },
  {
   "cell_type": "code",
   "execution_count": 374,
   "id": "f4ce130c",
   "metadata": {},
   "outputs": [
    {
     "name": "stdout",
     "output_type": "stream",
     "text": [
      "0.375\n",
      "0.37916666666666665\n"
     ]
    }
   ],
   "source": [
    "from sklearn.metrics import accuracy_score, precision_score\n",
    "print(accuracy_score(Ay, y_kmeans))\n",
    "print(precision_score(Ay, y_kmeans, average='weighted'))"
   ]
  },
  {
   "cell_type": "markdown",
   "id": "c16b41f1",
   "metadata": {},
   "source": [
    "Посмотрим метрики accuracy_score, precision_score (n_components=2)"
   ]
  },
  {
   "cell_type": "code",
   "execution_count": 377,
   "id": "08b9fcf5",
   "metadata": {},
   "outputs": [
    {
     "name": "stdout",
     "output_type": "stream",
     "text": [
      "0.1875\n",
      "0.2\n"
     ]
    }
   ],
   "source": [
    "print(accuracy_score(Ay, y2_kmeans))\n",
    "print(precision_score(Ay, y2_kmeans, average='macro'))"
   ]
  },
  {
   "cell_type": "markdown",
   "id": "5fa22fc6",
   "metadata": {},
   "source": [
    "Выводы: До текста не добрался. С изображениями невыносимо работать :) но возможно. На такой маленькой выборке тяжело оценить качества, но что то ищет и классифицирует. Боль "
   ]
  },
  {
   "cell_type": "code",
   "execution_count": null,
   "id": "beddd2bd",
   "metadata": {},
   "outputs": [],
   "source": []
  }
 ],
 "metadata": {
  "kernelspec": {
   "display_name": "Python 3 (ipykernel)",
   "language": "python",
   "name": "python3"
  },
  "language_info": {
   "codemirror_mode": {
    "name": "ipython",
    "version": 3
   },
   "file_extension": ".py",
   "mimetype": "text/x-python",
   "name": "python",
   "nbconvert_exporter": "python",
   "pygments_lexer": "ipython3",
   "version": "3.9.13"
  }
 },
 "nbformat": 4,
 "nbformat_minor": 5
}
