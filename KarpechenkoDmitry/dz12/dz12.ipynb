{
 "cells": [
  {
   "cell_type": "markdown",
   "id": "d04fe081",
   "metadata": {},
   "source": [
    "Карпеченко Д.М., dz11, v.0.1, 30.10.2022"
   ]
  },
  {
   "cell_type": "code",
   "execution_count": 1,
   "id": "6f41158b",
   "metadata": {},
   "outputs": [],
   "source": [
    "import numpy as np\n",
    "import pandas as pd\n",
    "from scipy import stats\n",
    "import seaborn as sns\n",
    "import matplotlib.pyplot as plt\n",
    "from sklearn.compose import ColumnTransformer\n",
    "from sklearn.preprocessing import QuantileTransformer\n",
    "from sklearn.preprocessing import MinMaxScaler as MMScaler\n",
    "from sklearn.pipeline import Pipeline\n",
    "\n",
    "\n",
    "#Снять ограничения на вывод колонок\n",
    "pd.set_option('display.max_columns', None)\n",
    "#Снять ограничения на вывод строк\n",
    "pd.set_option('display.max_rows', 15)\n",
    "data = pd.read_csv('D:\\TeachMeSkills\\DZ\\dz11\\MFOcredit.csv', sep = ';')\n"
   ]
  },
  {
   "cell_type": "code",
   "execution_count": 2,
   "id": "db351ad5",
   "metadata": {},
   "outputs": [
    {
     "data": {
      "text/html": [
       "<div>\n",
       "<style scoped>\n",
       "    .dataframe tbody tr th:only-of-type {\n",
       "        vertical-align: middle;\n",
       "    }\n",
       "\n",
       "    .dataframe tbody tr th {\n",
       "        vertical-align: top;\n",
       "    }\n",
       "\n",
       "    .dataframe thead th {\n",
       "        text-align: right;\n",
       "    }\n",
       "</style>\n",
       "<table border=\"1\" class=\"dataframe\">\n",
       "  <thead>\n",
       "    <tr style=\"text-align: right;\">\n",
       "      <th></th>\n",
       "      <th>id</th>\n",
       "      <th>date_start</th>\n",
       "      <th>date_end</th>\n",
       "      <th>gender</th>\n",
       "      <th>age</th>\n",
       "      <th>auto</th>\n",
       "      <th>housing</th>\n",
       "      <th>marstatus</th>\n",
       "      <th>regclient</th>\n",
       "      <th>jobtype</th>\n",
       "      <th>region</th>\n",
       "      <th>credits</th>\n",
       "      <th>children</th>\n",
       "      <th>delinq60plus</th>\n",
       "    </tr>\n",
       "  </thead>\n",
       "  <tbody>\n",
       "    <tr>\n",
       "      <th>0</th>\n",
       "      <td>1</td>\n",
       "      <td>03-Jan-2013</td>\n",
       "      <td>12-Jan-2013</td>\n",
       "      <td>Мужской</td>\n",
       "      <td>44</td>\n",
       "      <td>Нет</td>\n",
       "      <td>Собственное</td>\n",
       "      <td>Гражданский брак/женат/замужем</td>\n",
       "      <td>Нет</td>\n",
       "      <td>Официальное</td>\n",
       "      <td>Новосибирская область</td>\n",
       "      <td>Нет</td>\n",
       "      <td>Да</td>\n",
       "      <td>Нет</td>\n",
       "    </tr>\n",
       "    <tr>\n",
       "      <th>1</th>\n",
       "      <td>2</td>\n",
       "      <td>03-Jan-2013</td>\n",
       "      <td>17-Jan-2013</td>\n",
       "      <td>Мужской</td>\n",
       "      <td>21</td>\n",
       "      <td>Пропуск поля</td>\n",
       "      <td>Живут с родителями</td>\n",
       "      <td>Холост</td>\n",
       "      <td>Нет</td>\n",
       "      <td>Официальное</td>\n",
       "      <td>Кемеровская область юг</td>\n",
       "      <td>Да</td>\n",
       "      <td>Нет</td>\n",
       "      <td>Нет</td>\n",
       "    </tr>\n",
       "    <tr>\n",
       "      <th>2</th>\n",
       "      <td>3</td>\n",
       "      <td>03-Jan-2013</td>\n",
       "      <td>17-Jan-2013</td>\n",
       "      <td>Мужской</td>\n",
       "      <td>25</td>\n",
       "      <td>Пропуск поля</td>\n",
       "      <td>Собственное</td>\n",
       "      <td>Холост</td>\n",
       "      <td>Да</td>\n",
       "      <td>Официальное</td>\n",
       "      <td>Кемеровская область север</td>\n",
       "      <td>Пропуск поля</td>\n",
       "      <td>Нет</td>\n",
       "      <td>Нет</td>\n",
       "    </tr>\n",
       "    <tr>\n",
       "      <th>3</th>\n",
       "      <td>4</td>\n",
       "      <td>03-Jan-2013</td>\n",
       "      <td>17-Jan-2013</td>\n",
       "      <td>Женский</td>\n",
       "      <td>47</td>\n",
       "      <td>Пропуск поля</td>\n",
       "      <td>Собственное</td>\n",
       "      <td>Гражданский брак/женат/замужем</td>\n",
       "      <td>Да</td>\n",
       "      <td>Официальное</td>\n",
       "      <td>Кемеровская область север</td>\n",
       "      <td>Нет</td>\n",
       "      <td>Нет</td>\n",
       "      <td>Нет</td>\n",
       "    </tr>\n",
       "    <tr>\n",
       "      <th>4</th>\n",
       "      <td>5</td>\n",
       "      <td>03-Jan-2013</td>\n",
       "      <td>17-Jan-2013</td>\n",
       "      <td>Мужской</td>\n",
       "      <td>22</td>\n",
       "      <td>Нет</td>\n",
       "      <td>Арендуемое</td>\n",
       "      <td>Гражданский брак/женат/замужем</td>\n",
       "      <td>Нет</td>\n",
       "      <td>Официальное</td>\n",
       "      <td>Кемеровская область север</td>\n",
       "      <td>Да</td>\n",
       "      <td>Да</td>\n",
       "      <td>Нет</td>\n",
       "    </tr>\n",
       "    <tr>\n",
       "      <th>...</th>\n",
       "      <td>...</td>\n",
       "      <td>...</td>\n",
       "      <td>...</td>\n",
       "      <td>...</td>\n",
       "      <td>...</td>\n",
       "      <td>...</td>\n",
       "      <td>...</td>\n",
       "      <td>...</td>\n",
       "      <td>...</td>\n",
       "      <td>...</td>\n",
       "      <td>...</td>\n",
       "      <td>...</td>\n",
       "      <td>...</td>\n",
       "      <td>...</td>\n",
       "    </tr>\n",
       "    <tr>\n",
       "      <th>35207</th>\n",
       "      <td>35208</td>\n",
       "      <td>03-Jan-2014</td>\n",
       "      <td>17-Jan-2014</td>\n",
       "      <td>Мужской</td>\n",
       "      <td>30</td>\n",
       "      <td>Да</td>\n",
       "      <td>Долевая собственность</td>\n",
       "      <td>Гражданский брак/женат/замужем</td>\n",
       "      <td>Да</td>\n",
       "      <td>Официальное</td>\n",
       "      <td>Алтайский край</td>\n",
       "      <td>Да</td>\n",
       "      <td>Да</td>\n",
       "      <td>Нет</td>\n",
       "    </tr>\n",
       "    <tr>\n",
       "      <th>35208</th>\n",
       "      <td>35209</td>\n",
       "      <td>03-Jan-2014</td>\n",
       "      <td>17-Jan-2014</td>\n",
       "      <td>Женский</td>\n",
       "      <td>57</td>\n",
       "      <td>Нет</td>\n",
       "      <td>Собственное</td>\n",
       "      <td>Разведен</td>\n",
       "      <td>Да</td>\n",
       "      <td>Пропуск поля</td>\n",
       "      <td>Алтайский край</td>\n",
       "      <td>Да</td>\n",
       "      <td>Нет</td>\n",
       "      <td>Нет</td>\n",
       "    </tr>\n",
       "    <tr>\n",
       "      <th>35209</th>\n",
       "      <td>35210</td>\n",
       "      <td>03-Jan-2014</td>\n",
       "      <td>17-Jan-2014</td>\n",
       "      <td>Женский</td>\n",
       "      <td>38</td>\n",
       "      <td>Пропуск поля</td>\n",
       "      <td>Пропуск поля</td>\n",
       "      <td>Пропуск поля</td>\n",
       "      <td>Да</td>\n",
       "      <td>Пропуск поля</td>\n",
       "      <td>Новосибирская область</td>\n",
       "      <td>Нет</td>\n",
       "      <td>Да</td>\n",
       "      <td>Нет</td>\n",
       "    </tr>\n",
       "    <tr>\n",
       "      <th>35210</th>\n",
       "      <td>35211</td>\n",
       "      <td>03-Jan-2014</td>\n",
       "      <td>17-Jan-2014</td>\n",
       "      <td>Женский</td>\n",
       "      <td>19</td>\n",
       "      <td>Пропуск поля</td>\n",
       "      <td>Пропуск поля</td>\n",
       "      <td>Пропуск поля</td>\n",
       "      <td>Да</td>\n",
       "      <td>Пропуск поля</td>\n",
       "      <td>Кемеровская область юг</td>\n",
       "      <td>Нет</td>\n",
       "      <td>Нет</td>\n",
       "      <td>Нет</td>\n",
       "    </tr>\n",
       "    <tr>\n",
       "      <th>35211</th>\n",
       "      <td>35212</td>\n",
       "      <td>03-Jan-2014</td>\n",
       "      <td>17-Jan-2014</td>\n",
       "      <td>Мужской</td>\n",
       "      <td>25</td>\n",
       "      <td>Пропуск поля</td>\n",
       "      <td>Пропуск поля</td>\n",
       "      <td>Пропуск поля</td>\n",
       "      <td>Да</td>\n",
       "      <td>Пропуск поля</td>\n",
       "      <td>Кемеровская область север</td>\n",
       "      <td>Нет</td>\n",
       "      <td>Нет</td>\n",
       "      <td>Нет</td>\n",
       "    </tr>\n",
       "  </tbody>\n",
       "</table>\n",
       "<p>35212 rows × 14 columns</p>\n",
       "</div>"
      ],
      "text/plain": [
       "          id   date_start     date_end   gender  age          auto  \\\n",
       "0          1  03-Jan-2013  12-Jan-2013  Мужской   44           Нет   \n",
       "1          2  03-Jan-2013  17-Jan-2013  Мужской   21  Пропуск поля   \n",
       "2          3  03-Jan-2013  17-Jan-2013  Мужской   25  Пропуск поля   \n",
       "3          4  03-Jan-2013  17-Jan-2013  Женский   47  Пропуск поля   \n",
       "4          5  03-Jan-2013  17-Jan-2013  Мужской   22           Нет   \n",
       "...      ...          ...          ...      ...  ...           ...   \n",
       "35207  35208  03-Jan-2014  17-Jan-2014  Мужской   30            Да   \n",
       "35208  35209  03-Jan-2014  17-Jan-2014  Женский   57           Нет   \n",
       "35209  35210  03-Jan-2014  17-Jan-2014  Женский   38  Пропуск поля   \n",
       "35210  35211  03-Jan-2014  17-Jan-2014  Женский   19  Пропуск поля   \n",
       "35211  35212  03-Jan-2014  17-Jan-2014  Мужской   25  Пропуск поля   \n",
       "\n",
       "                     housing                       marstatus regclient  \\\n",
       "0                Собственное  Гражданский брак/женат/замужем       Нет   \n",
       "1         Живут с родителями                          Холост       Нет   \n",
       "2                Собственное                          Холост        Да   \n",
       "3                Собственное  Гражданский брак/женат/замужем        Да   \n",
       "4                 Арендуемое  Гражданский брак/женат/замужем       Нет   \n",
       "...                      ...                             ...       ...   \n",
       "35207  Долевая собственность  Гражданский брак/женат/замужем        Да   \n",
       "35208            Собственное                        Разведен        Да   \n",
       "35209           Пропуск поля                    Пропуск поля        Да   \n",
       "35210           Пропуск поля                    Пропуск поля        Да   \n",
       "35211           Пропуск поля                    Пропуск поля        Да   \n",
       "\n",
       "            jobtype                     region       credits children  \\\n",
       "0       Официальное      Новосибирская область           Нет       Да   \n",
       "1       Официальное     Кемеровская область юг            Да      Нет   \n",
       "2       Официальное  Кемеровская область север  Пропуск поля      Нет   \n",
       "3       Официальное  Кемеровская область север           Нет      Нет   \n",
       "4       Официальное  Кемеровская область север            Да       Да   \n",
       "...             ...                        ...           ...      ...   \n",
       "35207   Официальное             Алтайский край            Да       Да   \n",
       "35208  Пропуск поля             Алтайский край            Да      Нет   \n",
       "35209  Пропуск поля      Новосибирская область           Нет       Да   \n",
       "35210  Пропуск поля     Кемеровская область юг           Нет      Нет   \n",
       "35211  Пропуск поля  Кемеровская область север           Нет      Нет   \n",
       "\n",
       "      delinq60plus  \n",
       "0              Нет  \n",
       "1              Нет  \n",
       "2              Нет  \n",
       "3              Нет  \n",
       "4              Нет  \n",
       "...            ...  \n",
       "35207          Нет  \n",
       "35208          Нет  \n",
       "35209          Нет  \n",
       "35210          Нет  \n",
       "35211          Нет  \n",
       "\n",
       "[35212 rows x 14 columns]"
      ]
     },
     "execution_count": 2,
     "metadata": {},
     "output_type": "execute_result"
    }
   ],
   "source": [
    "data"
   ]
  },
  {
   "cell_type": "markdown",
   "id": "ab870ad2",
   "metadata": {},
   "source": [
    "Удалим столбец id и установим тип datetime64 для столбцов date_start и date_end"
   ]
  },
  {
   "cell_type": "code",
   "execution_count": 3,
   "id": "96a5f96f",
   "metadata": {},
   "outputs": [],
   "source": [
    "col = data.columns.tolist()\n",
    "col_del=col[1:]"
   ]
  },
  {
   "cell_type": "code",
   "execution_count": 4,
   "id": "59544261",
   "metadata": {},
   "outputs": [
    {
     "name": "stdout",
     "output_type": "stream",
     "text": [
      "<class 'pandas.core.frame.DataFrame'>\n",
      "RangeIndex: 35212 entries, 0 to 35211\n",
      "Data columns (total 14 columns):\n",
      " #   Column        Non-Null Count  Dtype \n",
      "---  ------        --------------  ----- \n",
      " 0   id            35212 non-null  int64 \n",
      " 1   date_start    35212 non-null  object\n",
      " 2   date_end      35212 non-null  object\n",
      " 3   gender        35212 non-null  object\n",
      " 4   age           35212 non-null  int64 \n",
      " 5   auto          35212 non-null  object\n",
      " 6   housing       35212 non-null  object\n",
      " 7   marstatus     35212 non-null  object\n",
      " 8   regclient     35212 non-null  object\n",
      " 9   jobtype       35212 non-null  object\n",
      " 10  region        35212 non-null  object\n",
      " 11  credits       35212 non-null  object\n",
      " 12  children      35212 non-null  object\n",
      " 13  delinq60plus  35212 non-null  object\n",
      "dtypes: int64(2), object(12)\n",
      "memory usage: 3.8+ MB\n"
     ]
    }
   ],
   "source": [
    "data.info()"
   ]
  },
  {
   "cell_type": "code",
   "execution_count": 5,
   "id": "7d2e56b7",
   "metadata": {},
   "outputs": [],
   "source": [
    "data = pd.read_csv('D:\\TeachMeSkills\\DZ\\dz11\\MFOcredit.csv', usecols = col_del, parse_dates = ['date_start','date_end'],sep = ';', dayfirst=True)"
   ]
  },
  {
   "cell_type": "code",
   "execution_count": 6,
   "id": "4a0a6e7f",
   "metadata": {},
   "outputs": [
    {
     "name": "stdout",
     "output_type": "stream",
     "text": [
      "<class 'pandas.core.frame.DataFrame'>\n",
      "RangeIndex: 35212 entries, 0 to 35211\n",
      "Data columns (total 13 columns):\n",
      " #   Column        Non-Null Count  Dtype         \n",
      "---  ------        --------------  -----         \n",
      " 0   date_start    35212 non-null  datetime64[ns]\n",
      " 1   date_end      35212 non-null  datetime64[ns]\n",
      " 2   gender        35212 non-null  object        \n",
      " 3   age           35212 non-null  int64         \n",
      " 4   auto          35212 non-null  object        \n",
      " 5   housing       35212 non-null  object        \n",
      " 6   marstatus     35212 non-null  object        \n",
      " 7   regclient     35212 non-null  object        \n",
      " 8   jobtype       35212 non-null  object        \n",
      " 9   region        35212 non-null  object        \n",
      " 10  credits       35212 non-null  object        \n",
      " 11  children      35212 non-null  object        \n",
      " 12  delinq60plus  35212 non-null  object        \n",
      "dtypes: datetime64[ns](2), int64(1), object(10)\n",
      "memory usage: 3.5+ MB\n"
     ]
    }
   ],
   "source": [
    "data.info()"
   ]
  },
  {
   "cell_type": "markdown",
   "id": "341035e9",
   "metadata": {},
   "source": [
    "Обработаем наши данные на дублирующие строки и удалим их"
   ]
  },
  {
   "cell_type": "code",
   "execution_count": 7,
   "id": "0bd1e641",
   "metadata": {},
   "outputs": [
    {
     "data": {
      "text/plain": [
       "(107, 13)"
      ]
     },
     "execution_count": 7,
     "metadata": {},
     "output_type": "execute_result"
    }
   ],
   "source": [
    "data_dubl=data[data.duplicated()]\n",
    "data_dubl.shape"
   ]
  },
  {
   "cell_type": "code",
   "execution_count": 8,
   "id": "1de5394f",
   "metadata": {},
   "outputs": [],
   "source": [
    "data=data.drop_duplicates(keep='first')\n",
    "data2=data.copy()"
   ]
  },
  {
   "cell_type": "code",
   "execution_count": 9,
   "id": "20c81826",
   "metadata": {},
   "outputs": [],
   "source": [
    "viewDate = pd.to_datetime(data2['date_start']) \n",
    "data2['year'] = viewDate.dt.year.astype(\"category\") \n",
    "data2['quarter'] = viewDate.dt.quarter.astype(\"category\")\n",
    "data2['month'] = viewDate.dt.month.astype(\"category\")\n",
    "data2['weekday'] = viewDate.dt.dayofweek.astype(\"category\")"
   ]
  },
  {
   "cell_type": "code",
   "execution_count": 10,
   "id": "e67b9063",
   "metadata": {},
   "outputs": [
    {
     "data": {
      "text/plain": [
       "\"del data3['date_start'], data3['date_end']\""
      ]
     },
     "execution_count": 10,
     "metadata": {},
     "output_type": "execute_result"
    }
   ],
   "source": [
    "'''del data3['date_start'], data3['date_end']'''"
   ]
  },
  {
   "cell_type": "markdown",
   "id": "6cadce9a",
   "metadata": {},
   "source": [
    "Заменим столбцы с датами начала и окончания кредита, на разность (срок), т.к. сами даты не информативны"
   ]
  },
  {
   "cell_type": "code",
   "execution_count": 11,
   "id": "af7958f0",
   "metadata": {},
   "outputs": [],
   "source": [
    "t=(data['date_end']-data['date_start']).dt.days\n",
    "data.insert(2,'days',t)\n",
    "data.drop(labels=['date_start','date_end'], axis=1, inplace=True)\n",
    "t2=(data2['date_end']-data2['date_start']).dt.days\n",
    "data2.insert(2,'days',t2)\n",
    "data2.drop(labels=['date_start','date_end'], axis=1, inplace=True)"
   ]
  },
  {
   "cell_type": "code",
   "execution_count": 12,
   "id": "5e6b247c",
   "metadata": {},
   "outputs": [
    {
     "name": "stdout",
     "output_type": "stream",
     "text": [
      "<class 'pandas.core.frame.DataFrame'>\n",
      "Int64Index: 35105 entries, 0 to 35211\n",
      "Data columns (total 16 columns):\n",
      " #   Column        Non-Null Count  Dtype   \n",
      "---  ------        --------------  -----   \n",
      " 0   days          35105 non-null  int64   \n",
      " 1   gender        35105 non-null  object  \n",
      " 2   age           35105 non-null  int64   \n",
      " 3   auto          35105 non-null  object  \n",
      " 4   housing       35105 non-null  object  \n",
      " 5   marstatus     35105 non-null  object  \n",
      " 6   regclient     35105 non-null  object  \n",
      " 7   jobtype       35105 non-null  object  \n",
      " 8   region        35105 non-null  object  \n",
      " 9   credits       35105 non-null  object  \n",
      " 10  children      35105 non-null  object  \n",
      " 11  delinq60plus  35105 non-null  object  \n",
      " 12  year          35105 non-null  category\n",
      " 13  quarter       35105 non-null  category\n",
      " 14  month         35105 non-null  category\n",
      " 15  weekday       35105 non-null  category\n",
      "dtypes: category(4), int64(2), object(10)\n",
      "memory usage: 3.6+ MB\n"
     ]
    }
   ],
   "source": [
    "data2.info()"
   ]
  },
  {
   "cell_type": "code",
   "execution_count": 13,
   "id": "8f87ba41",
   "metadata": {},
   "outputs": [
    {
     "data": {
      "text/plain": [
       "35105"
      ]
     },
     "execution_count": 13,
     "metadata": {},
     "output_type": "execute_result"
    }
   ],
   "source": [
    "import sqlite3\n",
    "#MFOcredit='D:\\TeachMeSkills\\DZ\\dz11\\MFOcredit.csv'\n",
    "con = sqlite3.connect('db')\n",
    "data.to_sql('MFOcredit', con, index=False, if_exists='replace')"
   ]
  },
  {
   "cell_type": "code",
   "execution_count": 14,
   "id": "58199d10",
   "metadata": {},
   "outputs": [
    {
     "data": {
      "text/html": [
       "<div>\n",
       "<style scoped>\n",
       "    .dataframe tbody tr th:only-of-type {\n",
       "        vertical-align: middle;\n",
       "    }\n",
       "\n",
       "    .dataframe tbody tr th {\n",
       "        vertical-align: top;\n",
       "    }\n",
       "\n",
       "    .dataframe thead th {\n",
       "        text-align: right;\n",
       "    }\n",
       "</style>\n",
       "<table border=\"1\" class=\"dataframe\">\n",
       "  <thead>\n",
       "    <tr style=\"text-align: right;\">\n",
       "      <th></th>\n",
       "      <th>age</th>\n",
       "      <th>cnt</th>\n",
       "    </tr>\n",
       "  </thead>\n",
       "  <tbody>\n",
       "    <tr>\n",
       "      <th>0</th>\n",
       "      <td>18</td>\n",
       "      <td>6</td>\n",
       "    </tr>\n",
       "    <tr>\n",
       "      <th>1</th>\n",
       "      <td>19</td>\n",
       "      <td>424</td>\n",
       "    </tr>\n",
       "    <tr>\n",
       "      <th>2</th>\n",
       "      <td>20</td>\n",
       "      <td>661</td>\n",
       "    </tr>\n",
       "    <tr>\n",
       "      <th>3</th>\n",
       "      <td>21</td>\n",
       "      <td>1124</td>\n",
       "    </tr>\n",
       "    <tr>\n",
       "      <th>4</th>\n",
       "      <td>22</td>\n",
       "      <td>1301</td>\n",
       "    </tr>\n",
       "    <tr>\n",
       "      <th>...</th>\n",
       "      <td>...</td>\n",
       "      <td>...</td>\n",
       "    </tr>\n",
       "    <tr>\n",
       "      <th>53</th>\n",
       "      <td>71</td>\n",
       "      <td>4</td>\n",
       "    </tr>\n",
       "    <tr>\n",
       "      <th>54</th>\n",
       "      <td>72</td>\n",
       "      <td>5</td>\n",
       "    </tr>\n",
       "    <tr>\n",
       "      <th>55</th>\n",
       "      <td>73</td>\n",
       "      <td>6</td>\n",
       "    </tr>\n",
       "    <tr>\n",
       "      <th>56</th>\n",
       "      <td>74</td>\n",
       "      <td>2</td>\n",
       "    </tr>\n",
       "    <tr>\n",
       "      <th>57</th>\n",
       "      <td>75</td>\n",
       "      <td>4</td>\n",
       "    </tr>\n",
       "  </tbody>\n",
       "</table>\n",
       "<p>58 rows × 2 columns</p>\n",
       "</div>"
      ],
      "text/plain": [
       "    age   cnt\n",
       "0    18     6\n",
       "1    19   424\n",
       "2    20   661\n",
       "3    21  1124\n",
       "4    22  1301\n",
       "..  ...   ...\n",
       "53   71     4\n",
       "54   72     5\n",
       "55   73     6\n",
       "56   74     2\n",
       "57   75     4\n",
       "\n",
       "[58 rows x 2 columns]"
      ]
     },
     "execution_count": 14,
     "metadata": {},
     "output_type": "execute_result"
    }
   ],
   "source": [
    "sql2 = '''select age, count(*) as cnt from MFOcredit group by age'''\n",
    "graf=pd.read_sql(sql2,con)\n",
    "graf"
   ]
  },
  {
   "cell_type": "code",
   "execution_count": 15,
   "id": "7b41c3a2",
   "metadata": {},
   "outputs": [
    {
     "data": {
      "text/plain": [
       "<seaborn.axisgrid.FacetGrid at 0x1dc8decfb50>"
      ]
     },
     "execution_count": 15,
     "metadata": {},
     "output_type": "execute_result"
    },
    {
     "data": {
      "image/png": "[encoded data removed]",
      "text/plain": [
       "<Figure size 500x500 with 1 Axes>"
      ]
     },
     "metadata": {},
     "output_type": "display_data"
    }
   ],
   "source": [
    "# Apply the default theme\n",
    "sns.set_theme()\n",
    "\n",
    "# Create a visualization\n",
    "sns.relplot(\n",
    "    data=graf,\n",
    "    x=\"age\", y=\"cnt\"\n",
    ")"
   ]
  },
  {
   "cell_type": "code",
   "execution_count": 16,
   "id": "cceeefcf",
   "metadata": {},
   "outputs": [
    {
     "data": {
      "text/plain": [
       "array([[<AxesSubplot:title={'center':'days'}>,\n",
       "        <AxesSubplot:title={'center':'age'}>]], dtype=object)"
      ]
     },
     "execution_count": 16,
     "metadata": {},
     "output_type": "execute_result"
    }
   ],
   "source": [
    "data.hist(bins = 20, figsize = (10, 10))"
   ]
  },
  {
   "cell_type": "markdown",
   "id": "fec6d19a",
   "metadata": {},
   "source": [
    "# Обработаем пропуски полей"
   ]
  },
  {
   "cell_type": "markdown",
   "id": "ede9a1dd",
   "metadata": {},
   "source": [
    "В поле auto 13998 строк со значением Пропуск поля, housing - 7536,marstatus - 7497, jobtype - 14377, credits - 945, children - 744."
   ]
  },
  {
   "cell_type": "code",
   "execution_count": 17,
   "id": "6c9265f1",
   "metadata": {},
   "outputs": [
    {
     "data": {
      "text/html": [
       "<div>\n",
       "<style scoped>\n",
       "    .dataframe tbody tr th:only-of-type {\n",
       "        vertical-align: middle;\n",
       "    }\n",
       "\n",
       "    .dataframe tbody tr th {\n",
       "        vertical-align: top;\n",
       "    }\n",
       "\n",
       "    .dataframe thead th {\n",
       "        text-align: right;\n",
       "    }\n",
       "</style>\n",
       "<table border=\"1\" class=\"dataframe\">\n",
       "  <thead>\n",
       "    <tr style=\"text-align: right;\">\n",
       "      <th></th>\n",
       "      <th>auto</th>\n",
       "      <th>cnt</th>\n",
       "    </tr>\n",
       "  </thead>\n",
       "  <tbody>\n",
       "    <tr>\n",
       "      <th>0</th>\n",
       "      <td>Да</td>\n",
       "      <td>3668</td>\n",
       "    </tr>\n",
       "    <tr>\n",
       "      <th>1</th>\n",
       "      <td>Нет</td>\n",
       "      <td>17439</td>\n",
       "    </tr>\n",
       "    <tr>\n",
       "      <th>2</th>\n",
       "      <td>Пропуск поля</td>\n",
       "      <td>13998</td>\n",
       "    </tr>\n",
       "  </tbody>\n",
       "</table>\n",
       "</div>"
      ],
      "text/plain": [
       "           auto    cnt\n",
       "0            Да   3668\n",
       "1           Нет  17439\n",
       "2  Пропуск поля  13998"
      ]
     },
     "execution_count": 17,
     "metadata": {},
     "output_type": "execute_result"
    }
   ],
   "source": [
    "sql2 = '''select auto, count(*) as cnt from MFOcredit group by auto'''\n",
    "pd.read_sql(sql2,con)"
   ]
  },
  {
   "cell_type": "code",
   "execution_count": 18,
   "id": "e5d725a7",
   "metadata": {},
   "outputs": [
    {
     "data": {
      "text/html": [
       "<div>\n",
       "<style scoped>\n",
       "    .dataframe tbody tr th:only-of-type {\n",
       "        vertical-align: middle;\n",
       "    }\n",
       "\n",
       "    .dataframe tbody tr th {\n",
       "        vertical-align: top;\n",
       "    }\n",
       "\n",
       "    .dataframe thead th {\n",
       "        text-align: right;\n",
       "    }\n",
       "</style>\n",
       "<table border=\"1\" class=\"dataframe\">\n",
       "  <thead>\n",
       "    <tr style=\"text-align: right;\">\n",
       "      <th></th>\n",
       "      <th>auto</th>\n",
       "      <th>cnt</th>\n",
       "    </tr>\n",
       "  </thead>\n",
       "  <tbody>\n",
       "    <tr>\n",
       "      <th>0</th>\n",
       "      <td>Да</td>\n",
       "      <td>985</td>\n",
       "    </tr>\n",
       "    <tr>\n",
       "      <th>1</th>\n",
       "      <td>Нет</td>\n",
       "      <td>9870</td>\n",
       "    </tr>\n",
       "    <tr>\n",
       "      <th>2</th>\n",
       "      <td>Пропуск поля</td>\n",
       "      <td>7373</td>\n",
       "    </tr>\n",
       "  </tbody>\n",
       "</table>\n",
       "</div>"
      ],
      "text/plain": [
       "           auto   cnt\n",
       "0            Да   985\n",
       "1           Нет  9870\n",
       "2  Пропуск поля  7373"
      ]
     },
     "execution_count": 18,
     "metadata": {},
     "output_type": "execute_result"
    }
   ],
   "source": [
    "sql3 = '''select auto, count(*) as cnt from MFOcredit where gender=='Женский' group by auto'''\n",
    "pd.read_sql(sql3,con)"
   ]
  },
  {
   "cell_type": "code",
   "execution_count": 19,
   "id": "537ffce4",
   "metadata": {},
   "outputs": [
    {
     "data": {
      "text/html": [
       "<div>\n",
       "<style scoped>\n",
       "    .dataframe tbody tr th:only-of-type {\n",
       "        vertical-align: middle;\n",
       "    }\n",
       "\n",
       "    .dataframe tbody tr th {\n",
       "        vertical-align: top;\n",
       "    }\n",
       "\n",
       "    .dataframe thead th {\n",
       "        text-align: right;\n",
       "    }\n",
       "</style>\n",
       "<table border=\"1\" class=\"dataframe\">\n",
       "  <thead>\n",
       "    <tr style=\"text-align: right;\">\n",
       "      <th></th>\n",
       "      <th>auto</th>\n",
       "      <th>cnt</th>\n",
       "    </tr>\n",
       "  </thead>\n",
       "  <tbody>\n",
       "    <tr>\n",
       "      <th>0</th>\n",
       "      <td>Да</td>\n",
       "      <td>2387</td>\n",
       "    </tr>\n",
       "    <tr>\n",
       "      <th>1</th>\n",
       "      <td>Нет</td>\n",
       "      <td>10744</td>\n",
       "    </tr>\n",
       "    <tr>\n",
       "      <th>2</th>\n",
       "      <td>Пропуск поля</td>\n",
       "      <td>4936</td>\n",
       "    </tr>\n",
       "  </tbody>\n",
       "</table>\n",
       "</div>"
      ],
      "text/plain": [
       "           auto    cnt\n",
       "0            Да   2387\n",
       "1           Нет  10744\n",
       "2  Пропуск поля   4936"
      ]
     },
     "execution_count": 19,
     "metadata": {},
     "output_type": "execute_result"
    }
   ],
   "source": [
    "sql3 = '''select auto, count(*) as cnt from MFOcredit where housing=='Собственное' group by auto'''\n",
    "pd.read_sql(sql3,con)"
   ]
  },
  {
   "cell_type": "markdown",
   "id": "582a3213",
   "metadata": {},
   "source": [
    "Минутка сексизма) В поле auto для женщин заменим пропуски на Нет, для мужчин - Да. Т.к. из 17439 строк Нет в поле auto 9870 приходится на женщин и больше половину всех пропусков в этом поле у женщин."
   ]
  },
  {
   "cell_type": "code",
   "execution_count": 20,
   "id": "9d1c1981",
   "metadata": {},
   "outputs": [],
   "source": [
    "data.loc[(data['auto']=='Пропуск поля')&(data['gender']=='Женский'), 'auto']='Нет'\n",
    "data.loc[(data['auto']=='Пропуск поля')&(data['gender']=='Мужской'), 'auto']='Да'  "
   ]
  },
  {
   "cell_type": "markdown",
   "id": "8e7dc008",
   "metadata": {},
   "source": [
    "По колонке housing Пропущенные поля распределились примерно одинаково, если рассматривать по половому признаку, поэтому впринципе заменю все на собственное, т.к. это саммое большое значения в двух выборках"
   ]
  },
  {
   "cell_type": "code",
   "execution_count": 21,
   "id": "93021d9c",
   "metadata": {},
   "outputs": [
    {
     "data": {
      "text/html": [
       "<div>\n",
       "<style scoped>\n",
       "    .dataframe tbody tr th:only-of-type {\n",
       "        vertical-align: middle;\n",
       "    }\n",
       "\n",
       "    .dataframe tbody tr th {\n",
       "        vertical-align: top;\n",
       "    }\n",
       "\n",
       "    .dataframe thead th {\n",
       "        text-align: right;\n",
       "    }\n",
       "</style>\n",
       "<table border=\"1\" class=\"dataframe\">\n",
       "  <thead>\n",
       "    <tr style=\"text-align: right;\">\n",
       "      <th></th>\n",
       "      <th>housing</th>\n",
       "      <th>gender</th>\n",
       "      <th>cnt</th>\n",
       "    </tr>\n",
       "  </thead>\n",
       "  <tbody>\n",
       "    <tr>\n",
       "      <th>0</th>\n",
       "      <td>Арендуемое</td>\n",
       "      <td>Женский</td>\n",
       "      <td>785</td>\n",
       "    </tr>\n",
       "    <tr>\n",
       "      <th>1</th>\n",
       "      <td>Долевая собственность</td>\n",
       "      <td>Женский</td>\n",
       "      <td>1328</td>\n",
       "    </tr>\n",
       "    <tr>\n",
       "      <th>2</th>\n",
       "      <td>Живут с родителями</td>\n",
       "      <td>Женский</td>\n",
       "      <td>1161</td>\n",
       "    </tr>\n",
       "    <tr>\n",
       "      <th>3</th>\n",
       "      <td>Муниципальное</td>\n",
       "      <td>Женский</td>\n",
       "      <td>836</td>\n",
       "    </tr>\n",
       "    <tr>\n",
       "      <th>4</th>\n",
       "      <td>Пропуск поля</td>\n",
       "      <td>Женский</td>\n",
       "      <td>3775</td>\n",
       "    </tr>\n",
       "    <tr>\n",
       "      <th>5</th>\n",
       "      <td>Собственное</td>\n",
       "      <td>Женский</td>\n",
       "      <td>10343</td>\n",
       "    </tr>\n",
       "  </tbody>\n",
       "</table>\n",
       "</div>"
      ],
      "text/plain": [
       "                 housing   gender    cnt\n",
       "0             Арендуемое  Женский    785\n",
       "1  Долевая собственность  Женский   1328\n",
       "2     Живут с родителями  Женский   1161\n",
       "3          Муниципальное  Женский    836\n",
       "4           Пропуск поля  Женский   3775\n",
       "5            Собственное  Женский  10343"
      ]
     },
     "execution_count": 21,
     "metadata": {},
     "output_type": "execute_result"
    }
   ],
   "source": [
    "con = sqlite3.connect('db')\n",
    "data.to_sql('MFOcredit', con, index=False, if_exists='replace')\n",
    "sql2 = '''select housing,gender, count(*) as cnt from MFOcredit where gender = 'Женский' group by housing'''\n",
    "sql3 = '''select housing,gender, count(*) as cnt from MFOcredit where gender = 'Мужской' group by housing'''\n",
    "pd.read_sql(sql2,con)\n"
   ]
  },
  {
   "cell_type": "code",
   "execution_count": 22,
   "id": "970c4a3e",
   "metadata": {},
   "outputs": [
    {
     "data": {
      "text/html": [
       "<div>\n",
       "<style scoped>\n",
       "    .dataframe tbody tr th:only-of-type {\n",
       "        vertical-align: middle;\n",
       "    }\n",
       "\n",
       "    .dataframe tbody tr th {\n",
       "        vertical-align: top;\n",
       "    }\n",
       "\n",
       "    .dataframe thead th {\n",
       "        text-align: right;\n",
       "    }\n",
       "</style>\n",
       "<table border=\"1\" class=\"dataframe\">\n",
       "  <thead>\n",
       "    <tr style=\"text-align: right;\">\n",
       "      <th></th>\n",
       "      <th>housing</th>\n",
       "      <th>gender</th>\n",
       "      <th>cnt</th>\n",
       "    </tr>\n",
       "  </thead>\n",
       "  <tbody>\n",
       "    <tr>\n",
       "      <th>0</th>\n",
       "      <td>Арендуемое</td>\n",
       "      <td>Мужской</td>\n",
       "      <td>1233</td>\n",
       "    </tr>\n",
       "    <tr>\n",
       "      <th>1</th>\n",
       "      <td>Долевая собственность</td>\n",
       "      <td>Мужской</td>\n",
       "      <td>1626</td>\n",
       "    </tr>\n",
       "    <tr>\n",
       "      <th>2</th>\n",
       "      <td>Живут с родителями</td>\n",
       "      <td>Мужской</td>\n",
       "      <td>2011</td>\n",
       "    </tr>\n",
       "    <tr>\n",
       "      <th>3</th>\n",
       "      <td>Муниципальное</td>\n",
       "      <td>Мужской</td>\n",
       "      <td>522</td>\n",
       "    </tr>\n",
       "    <tr>\n",
       "      <th>4</th>\n",
       "      <td>Пропуск поля</td>\n",
       "      <td>Мужской</td>\n",
       "      <td>3761</td>\n",
       "    </tr>\n",
       "    <tr>\n",
       "      <th>5</th>\n",
       "      <td>Собственное</td>\n",
       "      <td>Мужской</td>\n",
       "      <td>7724</td>\n",
       "    </tr>\n",
       "  </tbody>\n",
       "</table>\n",
       "</div>"
      ],
      "text/plain": [
       "                 housing   gender   cnt\n",
       "0             Арендуемое  Мужской  1233\n",
       "1  Долевая собственность  Мужской  1626\n",
       "2     Живут с родителями  Мужской  2011\n",
       "3          Муниципальное  Мужской   522\n",
       "4           Пропуск поля  Мужской  3761\n",
       "5            Собственное  Мужской  7724"
      ]
     },
     "execution_count": 22,
     "metadata": {},
     "output_type": "execute_result"
    }
   ],
   "source": [
    "pd.read_sql(sql3,con)"
   ]
  },
  {
   "cell_type": "code",
   "execution_count": 23,
   "id": "c2dfc659",
   "metadata": {},
   "outputs": [],
   "source": [
    "data.loc[(data['housing']=='Пропуск поля'), 'housing']='Собственное'"
   ]
  },
  {
   "cell_type": "code",
   "execution_count": 24,
   "id": "23bbb7a1",
   "metadata": {},
   "outputs": [
    {
     "data": {
      "text/html": [
       "<div>\n",
       "<style scoped>\n",
       "    .dataframe tbody tr th:only-of-type {\n",
       "        vertical-align: middle;\n",
       "    }\n",
       "\n",
       "    .dataframe tbody tr th {\n",
       "        vertical-align: top;\n",
       "    }\n",
       "\n",
       "    .dataframe thead th {\n",
       "        text-align: right;\n",
       "    }\n",
       "</style>\n",
       "<table border=\"1\" class=\"dataframe\">\n",
       "  <thead>\n",
       "    <tr style=\"text-align: right;\">\n",
       "      <th></th>\n",
       "      <th>days</th>\n",
       "      <th>gender</th>\n",
       "      <th>age</th>\n",
       "      <th>auto</th>\n",
       "      <th>housing</th>\n",
       "      <th>marstatus</th>\n",
       "      <th>regclient</th>\n",
       "      <th>jobtype</th>\n",
       "      <th>region</th>\n",
       "      <th>credits</th>\n",
       "      <th>children</th>\n",
       "      <th>delinq60plus</th>\n",
       "    </tr>\n",
       "  </thead>\n",
       "  <tbody>\n",
       "  </tbody>\n",
       "</table>\n",
       "</div>"
      ],
      "text/plain": [
       "Empty DataFrame\n",
       "Columns: [days, gender, age, auto, housing, marstatus, regclient, jobtype, region, credits, children, delinq60plus]\n",
       "Index: []"
      ]
     },
     "execution_count": 24,
     "metadata": {},
     "output_type": "execute_result"
    }
   ],
   "source": [
    "data[data['housing']=='Пропуск поля']"
   ]
  },
  {
   "cell_type": "markdown",
   "id": "97cf73a6",
   "metadata": {},
   "source": [
    "В колонке jobtype заменим все пропуски на Официальное"
   ]
  },
  {
   "cell_type": "code",
   "execution_count": 25,
   "id": "7bc35a59",
   "metadata": {},
   "outputs": [
    {
     "data": {
      "text/html": [
       "<div>\n",
       "<style scoped>\n",
       "    .dataframe tbody tr th:only-of-type {\n",
       "        vertical-align: middle;\n",
       "    }\n",
       "\n",
       "    .dataframe tbody tr th {\n",
       "        vertical-align: top;\n",
       "    }\n",
       "\n",
       "    .dataframe thead th {\n",
       "        text-align: right;\n",
       "    }\n",
       "</style>\n",
       "<table border=\"1\" class=\"dataframe\">\n",
       "  <thead>\n",
       "    <tr style=\"text-align: right;\">\n",
       "      <th></th>\n",
       "      <th>jobtype</th>\n",
       "      <th>cnt</th>\n",
       "    </tr>\n",
       "  </thead>\n",
       "  <tbody>\n",
       "    <tr>\n",
       "      <th>0</th>\n",
       "      <td>Неофициальное</td>\n",
       "      <td>1167</td>\n",
       "    </tr>\n",
       "    <tr>\n",
       "      <th>1</th>\n",
       "      <td>Официальное</td>\n",
       "      <td>19561</td>\n",
       "    </tr>\n",
       "    <tr>\n",
       "      <th>2</th>\n",
       "      <td>Пропуск поля</td>\n",
       "      <td>14377</td>\n",
       "    </tr>\n",
       "  </tbody>\n",
       "</table>\n",
       "</div>"
      ],
      "text/plain": [
       "         jobtype    cnt\n",
       "0  Неофициальное   1167\n",
       "1    Официальное  19561\n",
       "2   Пропуск поля  14377"
      ]
     },
     "execution_count": 25,
     "metadata": {},
     "output_type": "execute_result"
    }
   ],
   "source": [
    "sql2 = '''select jobtype, count(*) as cnt from MFOcredit group by jobtype'''\n",
    "pd.read_sql(sql2,con)"
   ]
  },
  {
   "cell_type": "code",
   "execution_count": 26,
   "id": "6f9e2114",
   "metadata": {},
   "outputs": [],
   "source": [
    "data.loc[(data['jobtype']=='Пропуск поля'), 'jobtype']='Официальное'"
   ]
  },
  {
   "cell_type": "code",
   "execution_count": 27,
   "id": "0178e23e",
   "metadata": {},
   "outputs": [
    {
     "data": {
      "text/html": [
       "<div>\n",
       "<style scoped>\n",
       "    .dataframe tbody tr th:only-of-type {\n",
       "        vertical-align: middle;\n",
       "    }\n",
       "\n",
       "    .dataframe tbody tr th {\n",
       "        vertical-align: top;\n",
       "    }\n",
       "\n",
       "    .dataframe thead th {\n",
       "        text-align: right;\n",
       "    }\n",
       "</style>\n",
       "<table border=\"1\" class=\"dataframe\">\n",
       "  <thead>\n",
       "    <tr style=\"text-align: right;\">\n",
       "      <th></th>\n",
       "      <th>days</th>\n",
       "      <th>gender</th>\n",
       "      <th>age</th>\n",
       "      <th>auto</th>\n",
       "      <th>housing</th>\n",
       "      <th>marstatus</th>\n",
       "      <th>regclient</th>\n",
       "      <th>jobtype</th>\n",
       "      <th>region</th>\n",
       "      <th>credits</th>\n",
       "      <th>children</th>\n",
       "      <th>delinq60plus</th>\n",
       "    </tr>\n",
       "  </thead>\n",
       "  <tbody>\n",
       "  </tbody>\n",
       "</table>\n",
       "</div>"
      ],
      "text/plain": [
       "Empty DataFrame\n",
       "Columns: [days, gender, age, auto, housing, marstatus, regclient, jobtype, region, credits, children, delinq60plus]\n",
       "Index: []"
      ]
     },
     "execution_count": 27,
     "metadata": {},
     "output_type": "execute_result"
    }
   ],
   "source": [
    "data[data['jobtype']=='Пропуск поля']"
   ]
  },
  {
   "cell_type": "markdown",
   "id": "231f2c0e",
   "metadata": {},
   "source": [
    "В поле credits заменим на нет"
   ]
  },
  {
   "cell_type": "code",
   "execution_count": 28,
   "id": "0b117731",
   "metadata": {},
   "outputs": [
    {
     "data": {
      "text/html": [
       "<div>\n",
       "<style scoped>\n",
       "    .dataframe tbody tr th:only-of-type {\n",
       "        vertical-align: middle;\n",
       "    }\n",
       "\n",
       "    .dataframe tbody tr th {\n",
       "        vertical-align: top;\n",
       "    }\n",
       "\n",
       "    .dataframe thead th {\n",
       "        text-align: right;\n",
       "    }\n",
       "</style>\n",
       "<table border=\"1\" class=\"dataframe\">\n",
       "  <thead>\n",
       "    <tr style=\"text-align: right;\">\n",
       "      <th></th>\n",
       "      <th>credits</th>\n",
       "      <th>cnt</th>\n",
       "    </tr>\n",
       "  </thead>\n",
       "  <tbody>\n",
       "    <tr>\n",
       "      <th>0</th>\n",
       "      <td>Да</td>\n",
       "      <td>16087</td>\n",
       "    </tr>\n",
       "    <tr>\n",
       "      <th>1</th>\n",
       "      <td>Нет</td>\n",
       "      <td>18073</td>\n",
       "    </tr>\n",
       "    <tr>\n",
       "      <th>2</th>\n",
       "      <td>Пропуск поля</td>\n",
       "      <td>945</td>\n",
       "    </tr>\n",
       "  </tbody>\n",
       "</table>\n",
       "</div>"
      ],
      "text/plain": [
       "        credits    cnt\n",
       "0            Да  16087\n",
       "1           Нет  18073\n",
       "2  Пропуск поля    945"
      ]
     },
     "execution_count": 28,
     "metadata": {},
     "output_type": "execute_result"
    }
   ],
   "source": [
    "sql2 = '''select credits, count(*) as cnt from MFOcredit group by credits'''\n",
    "pd.read_sql(sql2,con)"
   ]
  },
  {
   "cell_type": "code",
   "execution_count": 29,
   "id": "1bab0eba",
   "metadata": {},
   "outputs": [],
   "source": [
    "data.loc[(data['credits']=='Пропуск поля'), 'credits']='Нет'"
   ]
  },
  {
   "cell_type": "code",
   "execution_count": 30,
   "id": "926d6129",
   "metadata": {},
   "outputs": [
    {
     "data": {
      "text/html": [
       "<div>\n",
       "<style scoped>\n",
       "    .dataframe tbody tr th:only-of-type {\n",
       "        vertical-align: middle;\n",
       "    }\n",
       "\n",
       "    .dataframe tbody tr th {\n",
       "        vertical-align: top;\n",
       "    }\n",
       "\n",
       "    .dataframe thead th {\n",
       "        text-align: right;\n",
       "    }\n",
       "</style>\n",
       "<table border=\"1\" class=\"dataframe\">\n",
       "  <thead>\n",
       "    <tr style=\"text-align: right;\">\n",
       "      <th></th>\n",
       "      <th>days</th>\n",
       "      <th>gender</th>\n",
       "      <th>age</th>\n",
       "      <th>auto</th>\n",
       "      <th>housing</th>\n",
       "      <th>marstatus</th>\n",
       "      <th>regclient</th>\n",
       "      <th>jobtype</th>\n",
       "      <th>region</th>\n",
       "      <th>credits</th>\n",
       "      <th>children</th>\n",
       "      <th>delinq60plus</th>\n",
       "    </tr>\n",
       "  </thead>\n",
       "  <tbody>\n",
       "  </tbody>\n",
       "</table>\n",
       "</div>"
      ],
      "text/plain": [
       "Empty DataFrame\n",
       "Columns: [days, gender, age, auto, housing, marstatus, regclient, jobtype, region, credits, children, delinq60plus]\n",
       "Index: []"
      ]
     },
     "execution_count": 30,
     "metadata": {},
     "output_type": "execute_result"
    }
   ],
   "source": [
    "data[data['credits']=='Пропуск поля']"
   ]
  },
  {
   "cell_type": "markdown",
   "id": "95c82c4c",
   "metadata": {},
   "source": [
    "Аналогично поступим с детьми"
   ]
  },
  {
   "cell_type": "code",
   "execution_count": 31,
   "id": "69cf8c03",
   "metadata": {},
   "outputs": [
    {
     "data": {
      "text/html": [
       "<div>\n",
       "<style scoped>\n",
       "    .dataframe tbody tr th:only-of-type {\n",
       "        vertical-align: middle;\n",
       "    }\n",
       "\n",
       "    .dataframe tbody tr th {\n",
       "        vertical-align: top;\n",
       "    }\n",
       "\n",
       "    .dataframe thead th {\n",
       "        text-align: right;\n",
       "    }\n",
       "</style>\n",
       "<table border=\"1\" class=\"dataframe\">\n",
       "  <thead>\n",
       "    <tr style=\"text-align: right;\">\n",
       "      <th></th>\n",
       "      <th>children</th>\n",
       "      <th>cnt</th>\n",
       "    </tr>\n",
       "  </thead>\n",
       "  <tbody>\n",
       "    <tr>\n",
       "      <th>0</th>\n",
       "      <td>Да</td>\n",
       "      <td>13292</td>\n",
       "    </tr>\n",
       "    <tr>\n",
       "      <th>1</th>\n",
       "      <td>Нет</td>\n",
       "      <td>21069</td>\n",
       "    </tr>\n",
       "    <tr>\n",
       "      <th>2</th>\n",
       "      <td>Пропуск поля</td>\n",
       "      <td>744</td>\n",
       "    </tr>\n",
       "  </tbody>\n",
       "</table>\n",
       "</div>"
      ],
      "text/plain": [
       "       children    cnt\n",
       "0            Да  13292\n",
       "1           Нет  21069\n",
       "2  Пропуск поля    744"
      ]
     },
     "execution_count": 31,
     "metadata": {},
     "output_type": "execute_result"
    }
   ],
   "source": [
    "sql2 = '''select children, count(*) as cnt from MFOcredit group by children'''\n",
    "pd.read_sql(sql2,con)"
   ]
  },
  {
   "cell_type": "code",
   "execution_count": 32,
   "id": "12ae48a9",
   "metadata": {},
   "outputs": [],
   "source": [
    "data.loc[(data['children']=='Пропуск поля'), 'children']='Нет'"
   ]
  },
  {
   "cell_type": "code",
   "execution_count": 33,
   "id": "e3b901ce",
   "metadata": {},
   "outputs": [
    {
     "data": {
      "text/html": [
       "<div>\n",
       "<style scoped>\n",
       "    .dataframe tbody tr th:only-of-type {\n",
       "        vertical-align: middle;\n",
       "    }\n",
       "\n",
       "    .dataframe tbody tr th {\n",
       "        vertical-align: top;\n",
       "    }\n",
       "\n",
       "    .dataframe thead th {\n",
       "        text-align: right;\n",
       "    }\n",
       "</style>\n",
       "<table border=\"1\" class=\"dataframe\">\n",
       "  <thead>\n",
       "    <tr style=\"text-align: right;\">\n",
       "      <th></th>\n",
       "      <th>days</th>\n",
       "      <th>gender</th>\n",
       "      <th>age</th>\n",
       "      <th>auto</th>\n",
       "      <th>housing</th>\n",
       "      <th>marstatus</th>\n",
       "      <th>regclient</th>\n",
       "      <th>jobtype</th>\n",
       "      <th>region</th>\n",
       "      <th>credits</th>\n",
       "      <th>children</th>\n",
       "      <th>delinq60plus</th>\n",
       "    </tr>\n",
       "  </thead>\n",
       "  <tbody>\n",
       "  </tbody>\n",
       "</table>\n",
       "</div>"
      ],
      "text/plain": [
       "Empty DataFrame\n",
       "Columns: [days, gender, age, auto, housing, marstatus, regclient, jobtype, region, credits, children, delinq60plus]\n",
       "Index: []"
      ]
     },
     "execution_count": 33,
     "metadata": {},
     "output_type": "execute_result"
    }
   ],
   "source": [
    "data[data['children']=='Пропуск поля']"
   ]
  },
  {
   "cell_type": "code",
   "execution_count": 34,
   "id": "79e558f2",
   "metadata": {},
   "outputs": [],
   "source": [
    "data.delinq60plus=np.where(data.delinq60plus=='Нет', 0,1)\n",
    "data2.delinq60plus=np.where(data2.delinq60plus=='Нет', 0,1)\n",
    "x,y=data.copy(),data.copy()\n",
    "y=data.delinq60plus\n",
    "x.drop(labels=['delinq60plus'],axis=1, inplace=True)\n",
    "x_2,y_2=data2.copy(), data2.delinq60plus\n",
    "x_2.drop(labels=['delinq60plus'],axis=1, inplace=True)"
   ]
  },
  {
   "cell_type": "markdown",
   "id": "7a888a30",
   "metadata": {},
   "source": [
    "Почистим копию датасета"
   ]
  },
  {
   "cell_type": "code",
   "execution_count": 35,
   "id": "d0449c21",
   "metadata": {},
   "outputs": [],
   "source": [
    "#x.drop(labels='days', axis=1, inplace=True)"
   ]
  },
  {
   "cell_type": "code",
   "execution_count": 36,
   "id": "925a6ba5",
   "metadata": {},
   "outputs": [],
   "source": [
    "x=pd.concat([x, \n",
    "            pd.get_dummies(x['gender'], prefix='gender'),\n",
    "            pd.get_dummies(x['auto'], prefix='auto'),\n",
    "            pd.get_dummies(x['housing'], prefix='housing'),\n",
    "            pd.get_dummies(x['marstatus'], prefix='marstatus'),\n",
    "            pd.get_dummies(x['regclient'], prefix='regclient'),\n",
    "            pd.get_dummies(x['jobtype'], prefix='jobtype'),\n",
    "            pd.get_dummies(x['region'], prefix='region'),\n",
    "            pd.get_dummies(x['credits'], prefix='credits'),\n",
    "            pd.get_dummies(x['children'], prefix='children')], axis=1)"
   ]
  },
  {
   "cell_type": "code",
   "execution_count": 37,
   "id": "b31582ad",
   "metadata": {},
   "outputs": [],
   "source": [
    "x=x.drop(['gender','auto','housing','marstatus','regclient','jobtype','region','credits','children'],axis=1)"
   ]
  },
  {
   "cell_type": "code",
   "execution_count": 38,
   "id": "cd6e6d31",
   "metadata": {},
   "outputs": [
    {
     "data": {
      "text/html": [
       "<div>\n",
       "<style scoped>\n",
       "    .dataframe tbody tr th:only-of-type {\n",
       "        vertical-align: middle;\n",
       "    }\n",
       "\n",
       "    .dataframe tbody tr th {\n",
       "        vertical-align: top;\n",
       "    }\n",
       "\n",
       "    .dataframe thead th {\n",
       "        text-align: right;\n",
       "    }\n",
       "</style>\n",
       "<table border=\"1\" class=\"dataframe\">\n",
       "  <thead>\n",
       "    <tr style=\"text-align: right;\">\n",
       "      <th></th>\n",
       "      <th>days</th>\n",
       "      <th>age</th>\n",
       "      <th>gender_Женский</th>\n",
       "      <th>gender_Мужской</th>\n",
       "      <th>auto_Да</th>\n",
       "      <th>auto_Нет</th>\n",
       "      <th>housing_Арендуемое</th>\n",
       "      <th>housing_Долевая собственность</th>\n",
       "      <th>housing_Живут с родителями</th>\n",
       "      <th>housing_Муниципальное</th>\n",
       "      <th>housing_Собственное</th>\n",
       "      <th>marstatus_Вдова/вдовец</th>\n",
       "      <th>marstatus_Гражданский брак/женат/замужем</th>\n",
       "      <th>marstatus_Пропуск поля</th>\n",
       "      <th>marstatus_Разведен</th>\n",
       "      <th>marstatus_Холост</th>\n",
       "      <th>regclient_Да</th>\n",
       "      <th>regclient_Нет</th>\n",
       "      <th>jobtype_Неофициальное</th>\n",
       "      <th>jobtype_Официальное</th>\n",
       "      <th>region_Алтайский край</th>\n",
       "      <th>region_Кемеровская область север</th>\n",
       "      <th>region_Кемеровская область юг</th>\n",
       "      <th>region_Красноярский край</th>\n",
       "      <th>region_Новосибирская область</th>\n",
       "      <th>credits_Да</th>\n",
       "      <th>credits_Нет</th>\n",
       "      <th>children_Да</th>\n",
       "      <th>children_Нет</th>\n",
       "    </tr>\n",
       "  </thead>\n",
       "  <tbody>\n",
       "    <tr>\n",
       "      <th>0</th>\n",
       "      <td>9</td>\n",
       "      <td>44</td>\n",
       "      <td>0</td>\n",
       "      <td>1</td>\n",
       "      <td>0</td>\n",
       "      <td>1</td>\n",
       "      <td>0</td>\n",
       "      <td>0</td>\n",
       "      <td>0</td>\n",
       "      <td>0</td>\n",
       "      <td>1</td>\n",
       "      <td>0</td>\n",
       "      <td>1</td>\n",
       "      <td>0</td>\n",
       "      <td>0</td>\n",
       "      <td>0</td>\n",
       "      <td>0</td>\n",
       "      <td>1</td>\n",
       "      <td>0</td>\n",
       "      <td>1</td>\n",
       "      <td>0</td>\n",
       "      <td>0</td>\n",
       "      <td>0</td>\n",
       "      <td>0</td>\n",
       "      <td>1</td>\n",
       "      <td>0</td>\n",
       "      <td>1</td>\n",
       "      <td>1</td>\n",
       "      <td>0</td>\n",
       "    </tr>\n",
       "    <tr>\n",
       "      <th>1</th>\n",
       "      <td>14</td>\n",
       "      <td>21</td>\n",
       "      <td>0</td>\n",
       "      <td>1</td>\n",
       "      <td>1</td>\n",
       "      <td>0</td>\n",
       "      <td>0</td>\n",
       "      <td>0</td>\n",
       "      <td>1</td>\n",
       "      <td>0</td>\n",
       "      <td>0</td>\n",
       "      <td>0</td>\n",
       "      <td>0</td>\n",
       "      <td>0</td>\n",
       "      <td>0</td>\n",
       "      <td>1</td>\n",
       "      <td>0</td>\n",
       "      <td>1</td>\n",
       "      <td>0</td>\n",
       "      <td>1</td>\n",
       "      <td>0</td>\n",
       "      <td>0</td>\n",
       "      <td>1</td>\n",
       "      <td>0</td>\n",
       "      <td>0</td>\n",
       "      <td>1</td>\n",
       "      <td>0</td>\n",
       "      <td>0</td>\n",
       "      <td>1</td>\n",
       "    </tr>\n",
       "    <tr>\n",
       "      <th>2</th>\n",
       "      <td>14</td>\n",
       "      <td>25</td>\n",
       "      <td>0</td>\n",
       "      <td>1</td>\n",
       "      <td>1</td>\n",
       "      <td>0</td>\n",
       "      <td>0</td>\n",
       "      <td>0</td>\n",
       "      <td>0</td>\n",
       "      <td>0</td>\n",
       "      <td>1</td>\n",
       "      <td>0</td>\n",
       "      <td>0</td>\n",
       "      <td>0</td>\n",
       "      <td>0</td>\n",
       "      <td>1</td>\n",
       "      <td>1</td>\n",
       "      <td>0</td>\n",
       "      <td>0</td>\n",
       "      <td>1</td>\n",
       "      <td>0</td>\n",
       "      <td>1</td>\n",
       "      <td>0</td>\n",
       "      <td>0</td>\n",
       "      <td>0</td>\n",
       "      <td>0</td>\n",
       "      <td>1</td>\n",
       "      <td>0</td>\n",
       "      <td>1</td>\n",
       "    </tr>\n",
       "    <tr>\n",
       "      <th>3</th>\n",
       "      <td>14</td>\n",
       "      <td>47</td>\n",
       "      <td>1</td>\n",
       "      <td>0</td>\n",
       "      <td>0</td>\n",
       "      <td>1</td>\n",
       "      <td>0</td>\n",
       "      <td>0</td>\n",
       "      <td>0</td>\n",
       "      <td>0</td>\n",
       "      <td>1</td>\n",
       "      <td>0</td>\n",
       "      <td>1</td>\n",
       "      <td>0</td>\n",
       "      <td>0</td>\n",
       "      <td>0</td>\n",
       "      <td>1</td>\n",
       "      <td>0</td>\n",
       "      <td>0</td>\n",
       "      <td>1</td>\n",
       "      <td>0</td>\n",
       "      <td>1</td>\n",
       "      <td>0</td>\n",
       "      <td>0</td>\n",
       "      <td>0</td>\n",
       "      <td>0</td>\n",
       "      <td>1</td>\n",
       "      <td>0</td>\n",
       "      <td>1</td>\n",
       "    </tr>\n",
       "    <tr>\n",
       "      <th>4</th>\n",
       "      <td>14</td>\n",
       "      <td>22</td>\n",
       "      <td>0</td>\n",
       "      <td>1</td>\n",
       "      <td>0</td>\n",
       "      <td>1</td>\n",
       "      <td>1</td>\n",
       "      <td>0</td>\n",
       "      <td>0</td>\n",
       "      <td>0</td>\n",
       "      <td>0</td>\n",
       "      <td>0</td>\n",
       "      <td>1</td>\n",
       "      <td>0</td>\n",
       "      <td>0</td>\n",
       "      <td>0</td>\n",
       "      <td>0</td>\n",
       "      <td>1</td>\n",
       "      <td>0</td>\n",
       "      <td>1</td>\n",
       "      <td>0</td>\n",
       "      <td>1</td>\n",
       "      <td>0</td>\n",
       "      <td>0</td>\n",
       "      <td>0</td>\n",
       "      <td>1</td>\n",
       "      <td>0</td>\n",
       "      <td>1</td>\n",
       "      <td>0</td>\n",
       "    </tr>\n",
       "    <tr>\n",
       "      <th>...</th>\n",
       "      <td>...</td>\n",
       "      <td>...</td>\n",
       "      <td>...</td>\n",
       "      <td>...</td>\n",
       "      <td>...</td>\n",
       "      <td>...</td>\n",
       "      <td>...</td>\n",
       "      <td>...</td>\n",
       "      <td>...</td>\n",
       "      <td>...</td>\n",
       "      <td>...</td>\n",
       "      <td>...</td>\n",
       "      <td>...</td>\n",
       "      <td>...</td>\n",
       "      <td>...</td>\n",
       "      <td>...</td>\n",
       "      <td>...</td>\n",
       "      <td>...</td>\n",
       "      <td>...</td>\n",
       "      <td>...</td>\n",
       "      <td>...</td>\n",
       "      <td>...</td>\n",
       "      <td>...</td>\n",
       "      <td>...</td>\n",
       "      <td>...</td>\n",
       "      <td>...</td>\n",
       "      <td>...</td>\n",
       "      <td>...</td>\n",
       "      <td>...</td>\n",
       "    </tr>\n",
       "    <tr>\n",
       "      <th>35207</th>\n",
       "      <td>14</td>\n",
       "      <td>30</td>\n",
       "      <td>0</td>\n",
       "      <td>1</td>\n",
       "      <td>1</td>\n",
       "      <td>0</td>\n",
       "      <td>0</td>\n",
       "      <td>1</td>\n",
       "      <td>0</td>\n",
       "      <td>0</td>\n",
       "      <td>0</td>\n",
       "      <td>0</td>\n",
       "      <td>1</td>\n",
       "      <td>0</td>\n",
       "      <td>0</td>\n",
       "      <td>0</td>\n",
       "      <td>1</td>\n",
       "      <td>0</td>\n",
       "      <td>0</td>\n",
       "      <td>1</td>\n",
       "      <td>1</td>\n",
       "      <td>0</td>\n",
       "      <td>0</td>\n",
       "      <td>0</td>\n",
       "      <td>0</td>\n",
       "      <td>1</td>\n",
       "      <td>0</td>\n",
       "      <td>1</td>\n",
       "      <td>0</td>\n",
       "    </tr>\n",
       "    <tr>\n",
       "      <th>35208</th>\n",
       "      <td>14</td>\n",
       "      <td>57</td>\n",
       "      <td>1</td>\n",
       "      <td>0</td>\n",
       "      <td>0</td>\n",
       "      <td>1</td>\n",
       "      <td>0</td>\n",
       "      <td>0</td>\n",
       "      <td>0</td>\n",
       "      <td>0</td>\n",
       "      <td>1</td>\n",
       "      <td>0</td>\n",
       "      <td>0</td>\n",
       "      <td>0</td>\n",
       "      <td>1</td>\n",
       "      <td>0</td>\n",
       "      <td>1</td>\n",
       "      <td>0</td>\n",
       "      <td>0</td>\n",
       "      <td>1</td>\n",
       "      <td>1</td>\n",
       "      <td>0</td>\n",
       "      <td>0</td>\n",
       "      <td>0</td>\n",
       "      <td>0</td>\n",
       "      <td>1</td>\n",
       "      <td>0</td>\n",
       "      <td>0</td>\n",
       "      <td>1</td>\n",
       "    </tr>\n",
       "    <tr>\n",
       "      <th>35209</th>\n",
       "      <td>14</td>\n",
       "      <td>38</td>\n",
       "      <td>1</td>\n",
       "      <td>0</td>\n",
       "      <td>0</td>\n",
       "      <td>1</td>\n",
       "      <td>0</td>\n",
       "      <td>0</td>\n",
       "      <td>0</td>\n",
       "      <td>0</td>\n",
       "      <td>1</td>\n",
       "      <td>0</td>\n",
       "      <td>0</td>\n",
       "      <td>1</td>\n",
       "      <td>0</td>\n",
       "      <td>0</td>\n",
       "      <td>1</td>\n",
       "      <td>0</td>\n",
       "      <td>0</td>\n",
       "      <td>1</td>\n",
       "      <td>0</td>\n",
       "      <td>0</td>\n",
       "      <td>0</td>\n",
       "      <td>0</td>\n",
       "      <td>1</td>\n",
       "      <td>0</td>\n",
       "      <td>1</td>\n",
       "      <td>1</td>\n",
       "      <td>0</td>\n",
       "    </tr>\n",
       "    <tr>\n",
       "      <th>35210</th>\n",
       "      <td>14</td>\n",
       "      <td>19</td>\n",
       "      <td>1</td>\n",
       "      <td>0</td>\n",
       "      <td>0</td>\n",
       "      <td>1</td>\n",
       "      <td>0</td>\n",
       "      <td>0</td>\n",
       "      <td>0</td>\n",
       "      <td>0</td>\n",
       "      <td>1</td>\n",
       "      <td>0</td>\n",
       "      <td>0</td>\n",
       "      <td>1</td>\n",
       "      <td>0</td>\n",
       "      <td>0</td>\n",
       "      <td>1</td>\n",
       "      <td>0</td>\n",
       "      <td>0</td>\n",
       "      <td>1</td>\n",
       "      <td>0</td>\n",
       "      <td>0</td>\n",
       "      <td>1</td>\n",
       "      <td>0</td>\n",
       "      <td>0</td>\n",
       "      <td>0</td>\n",
       "      <td>1</td>\n",
       "      <td>0</td>\n",
       "      <td>1</td>\n",
       "    </tr>\n",
       "    <tr>\n",
       "      <th>35211</th>\n",
       "      <td>14</td>\n",
       "      <td>25</td>\n",
       "      <td>0</td>\n",
       "      <td>1</td>\n",
       "      <td>1</td>\n",
       "      <td>0</td>\n",
       "      <td>0</td>\n",
       "      <td>0</td>\n",
       "      <td>0</td>\n",
       "      <td>0</td>\n",
       "      <td>1</td>\n",
       "      <td>0</td>\n",
       "      <td>0</td>\n",
       "      <td>1</td>\n",
       "      <td>0</td>\n",
       "      <td>0</td>\n",
       "      <td>1</td>\n",
       "      <td>0</td>\n",
       "      <td>0</td>\n",
       "      <td>1</td>\n",
       "      <td>0</td>\n",
       "      <td>1</td>\n",
       "      <td>0</td>\n",
       "      <td>0</td>\n",
       "      <td>0</td>\n",
       "      <td>0</td>\n",
       "      <td>1</td>\n",
       "      <td>0</td>\n",
       "      <td>1</td>\n",
       "    </tr>\n",
       "  </tbody>\n",
       "</table>\n",
       "<p>35105 rows × 29 columns</p>\n",
       "</div>"
      ],
      "text/plain": [
       "       days  age  gender_Женский  gender_Мужской  auto_Да  auto_Нет  \\\n",
       "0         9   44               0               1        0         1   \n",
       "1        14   21               0               1        1         0   \n",
       "2        14   25               0               1        1         0   \n",
       "3        14   47               1               0        0         1   \n",
       "4        14   22               0               1        0         1   \n",
       "...     ...  ...             ...             ...      ...       ...   \n",
       "35207    14   30               0               1        1         0   \n",
       "35208    14   57               1               0        0         1   \n",
       "35209    14   38               1               0        0         1   \n",
       "35210    14   19               1               0        0         1   \n",
       "35211    14   25               0               1        1         0   \n",
       "\n",
       "       housing_Арендуемое  housing_Долевая собственность  \\\n",
       "0                       0                              0   \n",
       "1                       0                              0   \n",
       "2                       0                              0   \n",
       "3                       0                              0   \n",
       "4                       1                              0   \n",
       "...                   ...                            ...   \n",
       "35207                   0                              1   \n",
       "35208                   0                              0   \n",
       "35209                   0                              0   \n",
       "35210                   0                              0   \n",
       "35211                   0                              0   \n",
       "\n",
       "       housing_Живут с родителями  housing_Муниципальное  housing_Собственное  \\\n",
       "0                               0                      0                    1   \n",
       "1                               1                      0                    0   \n",
       "2                               0                      0                    1   \n",
       "3                               0                      0                    1   \n",
       "4                               0                      0                    0   \n",
       "...                           ...                    ...                  ...   \n",
       "35207                           0                      0                    0   \n",
       "35208                           0                      0                    1   \n",
       "35209                           0                      0                    1   \n",
       "35210                           0                      0                    1   \n",
       "35211                           0                      0                    1   \n",
       "\n",
       "       marstatus_Вдова/вдовец  marstatus_Гражданский брак/женат/замужем  \\\n",
       "0                           0                                         1   \n",
       "1                           0                                         0   \n",
       "2                           0                                         0   \n",
       "3                           0                                         1   \n",
       "4                           0                                         1   \n",
       "...                       ...                                       ...   \n",
       "35207                       0                                         1   \n",
       "35208                       0                                         0   \n",
       "35209                       0                                         0   \n",
       "35210                       0                                         0   \n",
       "35211                       0                                         0   \n",
       "\n",
       "       marstatus_Пропуск поля  marstatus_Разведен  marstatus_Холост  \\\n",
       "0                           0                   0                 0   \n",
       "1                           0                   0                 1   \n",
       "2                           0                   0                 1   \n",
       "3                           0                   0                 0   \n",
       "4                           0                   0                 0   \n",
       "...                       ...                 ...               ...   \n",
       "35207                       0                   0                 0   \n",
       "35208                       0                   1                 0   \n",
       "35209                       1                   0                 0   \n",
       "35210                       1                   0                 0   \n",
       "35211                       1                   0                 0   \n",
       "\n",
       "       regclient_Да  regclient_Нет  jobtype_Неофициальное  \\\n",
       "0                 0              1                      0   \n",
       "1                 0              1                      0   \n",
       "2                 1              0                      0   \n",
       "3                 1              0                      0   \n",
       "4                 0              1                      0   \n",
       "...             ...            ...                    ...   \n",
       "35207             1              0                      0   \n",
       "35208             1              0                      0   \n",
       "35209             1              0                      0   \n",
       "35210             1              0                      0   \n",
       "35211             1              0                      0   \n",
       "\n",
       "       jobtype_Официальное  region_Алтайский край  \\\n",
       "0                        1                      0   \n",
       "1                        1                      0   \n",
       "2                        1                      0   \n",
       "3                        1                      0   \n",
       "4                        1                      0   \n",
       "...                    ...                    ...   \n",
       "35207                    1                      1   \n",
       "35208                    1                      1   \n",
       "35209                    1                      0   \n",
       "35210                    1                      0   \n",
       "35211                    1                      0   \n",
       "\n",
       "       region_Кемеровская область север  region_Кемеровская область юг  \\\n",
       "0                                     0                              0   \n",
       "1                                     0                              1   \n",
       "2                                     1                              0   \n",
       "3                                     1                              0   \n",
       "4                                     1                              0   \n",
       "...                                 ...                            ...   \n",
       "35207                                 0                              0   \n",
       "35208                                 0                              0   \n",
       "35209                                 0                              0   \n",
       "35210                                 0                              1   \n",
       "35211                                 1                              0   \n",
       "\n",
       "       region_Красноярский край  region_Новосибирская область  credits_Да  \\\n",
       "0                             0                             1           0   \n",
       "1                             0                             0           1   \n",
       "2                             0                             0           0   \n",
       "3                             0                             0           0   \n",
       "4                             0                             0           1   \n",
       "...                         ...                           ...         ...   \n",
       "35207                         0                             0           1   \n",
       "35208                         0                             0           1   \n",
       "35209                         0                             1           0   \n",
       "35210                         0                             0           0   \n",
       "35211                         0                             0           0   \n",
       "\n",
       "       credits_Нет  children_Да  children_Нет  \n",
       "0                1            1             0  \n",
       "1                0            0             1  \n",
       "2                1            0             1  \n",
       "3                1            0             1  \n",
       "4                0            1             0  \n",
       "...            ...          ...           ...  \n",
       "35207            0            1             0  \n",
       "35208            0            0             1  \n",
       "35209            1            1             0  \n",
       "35210            1            0             1  \n",
       "35211            1            0             1  \n",
       "\n",
       "[35105 rows x 29 columns]"
      ]
     },
     "execution_count": 38,
     "metadata": {},
     "output_type": "execute_result"
    }
   ],
   "source": [
    "x"
   ]
  },
  {
   "cell_type": "code",
   "execution_count": 39,
   "id": "cb6e375d",
   "metadata": {},
   "outputs": [
    {
     "data": {
      "text/plain": [
       "0    21614\n",
       "1    13491\n",
       "Name: delinq60plus, dtype: int64"
      ]
     },
     "execution_count": 39,
     "metadata": {},
     "output_type": "execute_result"
    }
   ],
   "source": [
    "y.value_counts()"
   ]
  },
  {
   "cell_type": "code",
   "execution_count": 40,
   "id": "ba7cb5f2",
   "metadata": {},
   "outputs": [],
   "source": [
    "#y=pd.concat([y,\n",
    "#            pd.get_dummies(y, prefix='delinq60plus')], axis=1)\n",
    "#y=y.drop(['delinq60plus'],axis=1)\n"
   ]
  },
  {
   "cell_type": "code",
   "execution_count": 41,
   "id": "e1423da1",
   "metadata": {},
   "outputs": [],
   "source": [
    "from sklearn.model_selection import train_test_split\n",
    "x_train, x_test, y_train, y_test  = train_test_split(x,y, train_size=0.7, random_state=42)\n",
    "x_2_train, x_2_test, y_2_train, y_2_test  = train_test_split(x_2,y_2, train_size=0.7, random_state=42)"
   ]
  },
  {
   "cell_type": "code",
   "execution_count": 42,
   "id": "d3f4a7df",
   "metadata": {},
   "outputs": [],
   "source": [
    "x_2_train.loc[(x_2_train['auto']=='Пропуск поля'), 'auto']='Да'\n",
    "x_2_train.loc[(x_2_train['auto']=='Пропуск поля')&(x_2_train['gender']=='Мужской'), 'auto']='Да'  \n",
    "x_2_train.loc[(x_2_train['housing']!='Собственное'), 'housing']='Не собственное'\n",
    "x_2_train.loc[(x_2_train['jobtype']=='Пропуск поля'), 'jobtype']='Официальное'\n",
    "x_2_train.loc[(x_2_train['credits']=='Пропуск поля'), 'credits']='Нет'\n",
    "x_2_train.loc[(x_2_train['children']=='Пропуск поля'), 'children']='Нет'\n",
    "\n",
    "x_2_test.loc[(x_2_test['auto']=='Пропуск поля'), 'auto']='Нет'\n",
    "x_2_test.loc[(x_2_test['auto']=='Пропуск поля')&(x_2['gender']=='Мужской'), 'auto']='Да'  \n",
    "x_2_test.loc[(x_2_test['housing']!='Собственное'), 'housing']='Не собственное'\n",
    "x_2_test.loc[(x_2_test['jobtype']=='Пропуск поля'), 'jobtype']='Официальное'\n",
    "x_2_test.loc[(x_2_test['credits']=='Пропуск поля'), 'credits']='Нет'\n",
    "x_2_test.loc[(x_2_test['children']=='Пропуск поля'), 'children']='Нет'"
   ]
  },
  {
   "cell_type": "markdown",
   "id": "3153b9b9",
   "metadata": {},
   "source": [
    "Кодировка данных"
   ]
  },
  {
   "cell_type": "code",
   "execution_count": 43,
   "id": "0b809d5f",
   "metadata": {},
   "outputs": [],
   "source": [
    "x_2_train=pd.concat([x_2_train, \n",
    "            pd.get_dummies(x_2_train['gender'], prefix='gender'),\n",
    "            pd.get_dummies(x_2_train['auto'], prefix='auto'),\n",
    "            pd.get_dummies(x_2_train['housing'], prefix='housing'),\n",
    "            pd.get_dummies(x_2_train['marstatus'], prefix='marstatus'),\n",
    "            pd.get_dummies(x_2_train['regclient'], prefix='regclient'),\n",
    "            pd.get_dummies(x_2_train['jobtype'], prefix='jobtype'),\n",
    "            pd.get_dummies(x_2_train['region'], prefix='region'),\n",
    "            pd.get_dummies(x_2_train['credits'], prefix='credits'),\n",
    "            pd.get_dummies(x_2_train['children'], prefix='children'),\n",
    "                    pd.get_dummies(x_2_train['year'], prefix='year'),\n",
    "                    pd.get_dummies(x_2_train['quarter'], prefix='quarter'),\n",
    "                    pd.get_dummies(x_2_train['month'], prefix='month'),\n",
    "                    pd.get_dummies(x_2_train['weekday'], prefix='weekday')], axis=1)\n",
    "\n",
    "x_2_test=pd.concat([x_2_test, \n",
    "            pd.get_dummies(x_2_test['gender'], prefix='gender'),\n",
    "            pd.get_dummies(x_2_test['auto'], prefix='auto'),\n",
    "            pd.get_dummies(x_2_test['housing'], prefix='housing'),\n",
    "            pd.get_dummies(x_2_test['marstatus'], prefix='marstatus'),\n",
    "            pd.get_dummies(x_2_test['regclient'], prefix='regclient'),\n",
    "            pd.get_dummies(x_2_test['jobtype'], prefix='jobtype'),\n",
    "            pd.get_dummies(x_2_test['region'], prefix='region'),\n",
    "            pd.get_dummies(x_2_test['credits'], prefix='credits'),\n",
    "            pd.get_dummies(x_2_test['children'], prefix='children'),\n",
    "                   pd.get_dummies(x_2_test['year'], prefix='year'),\n",
    "                    pd.get_dummies(x_2_test['quarter'], prefix='quarter'),\n",
    "                    pd.get_dummies(x_2_test['month'], prefix='month'),\n",
    "                    pd.get_dummies(x_2_test['weekday'], prefix='weekday')], axis=1)"
   ]
  },
  {
   "cell_type": "code",
   "execution_count": 44,
   "id": "19a060b6",
   "metadata": {},
   "outputs": [],
   "source": [
    "x_2_train=x_2_train.drop(['gender','auto','housing','marstatus','regclient','jobtype','region','credits','children','year','quarter','month','weekday' ],axis=1)\n",
    "x_2_test=x_2_test.drop(['gender','auto','housing','marstatus','regclient','jobtype','region','credits','children','year','quarter','month','weekday'],axis=1)"
   ]
  },
  {
   "cell_type": "code",
   "execution_count": 45,
   "id": "4af542ba",
   "metadata": {},
   "outputs": [
    {
     "data": {
      "text/plain": [
       "\"y_2_train=pd.concat([y_2_train,\\n            pd.get_dummies(y_2_train, prefix='delinq60plus')], axis=1)\\ny_2_train=y_2_train.drop(['delinq60plus'],axis=1)\\ny_2_test=pd.concat([y_2_test,\\n            pd.get_dummies(y_2_test, prefix='delinq60plus')], axis=1)\\ny_2_test=y_2_test.drop(['delinq60plus'],axis=1)\""
      ]
     },
     "execution_count": 45,
     "metadata": {},
     "output_type": "execute_result"
    }
   ],
   "source": [
    "'''y_2_train=pd.concat([y_2_train,\n",
    "            pd.get_dummies(y_2_train, prefix='delinq60plus')], axis=1)\n",
    "y_2_train=y_2_train.drop(['delinq60plus'],axis=1)\n",
    "y_2_test=pd.concat([y_2_test,\n",
    "            pd.get_dummies(y_2_test, prefix='delinq60plus')], axis=1)\n",
    "y_2_test=y_2_test.drop(['delinq60plus'],axis=1)'''"
   ]
  },
  {
   "cell_type": "code",
   "execution_count": 46,
   "id": "921bed00",
   "metadata": {},
   "outputs": [
    {
     "data": {
      "text/plain": [
       "13827    1\n",
       "22141    0\n",
       "27600    0\n",
       "16006    0\n",
       "16191    1\n",
       "        ..\n",
       "13343    1\n",
       "11518    0\n",
       "22028    1\n",
       "16838    1\n",
       "14795    1\n",
       "Name: delinq60plus, Length: 10532, dtype: int32"
      ]
     },
     "execution_count": 46,
     "metadata": {},
     "output_type": "execute_result"
    }
   ],
   "source": [
    "y_2_test"
   ]
  },
  {
   "cell_type": "code",
   "execution_count": 47,
   "id": "79a3775c",
   "metadata": {},
   "outputs": [
    {
     "data": {
      "text/plain": [
       "'mm_scaler = MMScaler(feature_range=(-1,1))\\nx_train=mm_scaler.fit_transform(x_train)\\nx_test=mm_scaler.fit_transform(x_test)\\n\\nx_2_train=mm_scaler.fit_transform(x_2_train)\\nx_2_test=mm_scaler.fit_transform(x_2_test)'"
      ]
     },
     "execution_count": 47,
     "metadata": {},
     "output_type": "execute_result"
    }
   ],
   "source": [
    "'''mm_scaler = MMScaler(feature_range=(-1,1))\n",
    "x_train=mm_scaler.fit_transform(x_train)\n",
    "x_test=mm_scaler.fit_transform(x_test)\n",
    "\n",
    "x_2_train=mm_scaler.fit_transform(x_2_train)\n",
    "x_2_test=mm_scaler.fit_transform(x_2_test)'''"
   ]
  },
  {
   "cell_type": "code",
   "execution_count": null,
   "id": "e3a82945",
   "metadata": {},
   "outputs": [],
   "source": []
  },
  {
   "cell_type": "markdown",
   "id": "872928a1",
   "metadata": {},
   "source": [
    "# Моделирование"
   ]
  },
  {
   "cell_type": "code",
   "execution_count": 48,
   "id": "f069f743",
   "metadata": {},
   "outputs": [],
   "source": [
    "from sklearn.ensemble import RandomForestClassifier\n",
    "from sklearn.metrics import roc_auc_score"
   ]
  },
  {
   "cell_type": "markdown",
   "id": "0b44209a",
   "metadata": {},
   "source": [
    "x_train, x_test, y_train, y_test из даты в которой замена пропусков была до разбиения"
   ]
  },
  {
   "cell_type": "code",
   "execution_count": 49,
   "id": "1adf8f30",
   "metadata": {},
   "outputs": [
    {
     "name": "stdout",
     "output_type": "stream",
     "text": [
      "AUC на обучающей выборке: 0.758\n",
      "AUC на контрольной выборке: 0.687\n"
     ]
    }
   ],
   "source": [
    "forest = RandomForestClassifier(max_depth=10, n_estimators=990, random_state=2020, n_jobs=-1)\n",
    "forest.fit(x_train, y_train);\n",
    "\n",
    "print('AUC на обучающей выборке: {:.3f}'.\n",
    "      format(roc_auc_score(y_train, forest.predict_proba(x_train)[:, 1])))\n",
    "print('AUC на контрольной выборке: {:.3f}'.\n",
    "      format(roc_auc_score(y_test, forest.predict_proba(x_test)[:, 1])))"
   ]
  },
  {
   "cell_type": "markdown",
   "id": "32df3f92",
   "metadata": {},
   "source": [
    "x_2_train, x_2_test, y_2_train, y_2_test из даты в которой замена пропусков была после разбиения и с добавлением чудо-колонок   ['year'],['quarter'], ['month'], ['weekday']"
   ]
  },
  {
   "cell_type": "code",
   "execution_count": 50,
   "id": "5bd4539c",
   "metadata": {},
   "outputs": [
    {
     "name": "stdout",
     "output_type": "stream",
     "text": [
      "AUC на обучающей выборке: 0.886\n",
      "AUC на контрольной выборке: 0.854\n"
     ]
    }
   ],
   "source": [
    "forest.fit(x_2_train, y_2_train);\n",
    "\n",
    "print('AUC на обучающей выборке: {:.3f}'.\n",
    "      format(roc_auc_score(y_2_train, forest.predict_proba(x_2_train)[:, 1])))\n",
    "print('AUC на контрольной выборке: {:.3f}'.\n",
    "      format(roc_auc_score(y_2_test, forest.predict_proba(x_2_test)[:, 1])))"
   ]
  },
  {
   "cell_type": "markdown",
   "id": "cb4db1fa",
   "metadata": {},
   "source": [
    "Подбор гиперпараметров"
   ]
  },
  {
   "cell_type": "code",
   "execution_count": 51,
   "id": "3bb560b1",
   "metadata": {},
   "outputs": [
    {
     "data": {
      "text/plain": [
       "{'max_depth': 10, 'n_estimators': 990}"
      ]
     },
     "execution_count": 51,
     "metadata": {},
     "output_type": "execute_result"
    }
   ],
   "source": [
    "from sklearn.model_selection import GridSearchCV\n",
    "parametrs = {'n_estimators': range (990, 1010,5),\n",
    "                'max_depth': range (1,13,1)}\n",
    "grid = GridSearchCV(forest, parametrs).fit(x_2_train, y_2_train)\n",
    "grid.best_params_            "
   ]
  },
  {
   "cell_type": "markdown",
   "id": "78769906",
   "metadata": {},
   "source": [
    "Выводы: на AUC замена значений до разбиения на тестовую и тренеровочную выборки и после не повлияло. Так же не повлияло замена значений по категориям (например, для мужчин наличие машины замена пропусков на да, а у женщин на нет И просто намена всех пропусков на нет/да). \n",
    "До подбора гиперпараметров\n",
    "0,886\n",
    "0,854"
   ]
  },
  {
   "cell_type": "code",
   "execution_count": 51,
   "id": "5fc514b5",
   "metadata": {},
   "outputs": [],
   "source": [
    "from sklearn.feature_extraction.text import TfidfVectorizer\n",
    "from sklearn.pipeline import make_pipeline"
   ]
  },
  {
   "cell_type": "markdown",
   "id": "dd2d2738",
   "metadata": {},
   "source": [
    "LinearRegression"
   ]
  },
  {
   "cell_type": "code",
   "execution_count": 61,
   "id": "3dd10bb1",
   "metadata": {},
   "outputs": [
    {
     "name": "stdout",
     "output_type": "stream",
     "text": [
      "AUC на контрольной выборке: 0.850\n"
     ]
    }
   ],
   "source": [
    "from sklearn.linear_model import LinearRegression\n",
    "reg = make_pipeline(LinearRegression(fit_intercept=True))\n",
    "reg.fit(x_2_train, y_2_train)\n",
    "print('AUC на контрольной выборке: {:.3f}'.\n",
    "      format(roc_auc_score(y_2_test, reg.predict(x_2_test))))"
   ]
  },
  {
   "cell_type": "code",
   "execution_count": 68,
   "id": "e3ca0dbd",
   "metadata": {},
   "outputs": [
    {
     "data": {
      "text/plain": [
       "{'memory': None,\n",
       " 'steps': [('linearregression', LinearRegression())],\n",
       " 'verbose': False,\n",
       " 'linearregression': LinearRegression(),\n",
       " 'linearregression__copy_X': True,\n",
       " 'linearregression__fit_intercept': True,\n",
       " 'linearregression__n_jobs': None,\n",
       " 'linearregression__normalize': 'deprecated',\n",
       " 'linearregression__positive': False}"
      ]
     },
     "execution_count": 68,
     "metadata": {},
     "output_type": "execute_result"
    }
   ],
   "source": [
    "reg.get_params()"
   ]
  },
  {
   "cell_type": "markdown",
   "id": "4ccc68cd",
   "metadata": {},
   "source": [
    "Наивный Байес"
   ]
  },
  {
   "cell_type": "code",
   "execution_count": 67,
   "id": "7b297e07",
   "metadata": {},
   "outputs": [
    {
     "name": "stdout",
     "output_type": "stream",
     "text": [
      "AUC на контрольной выборке: 0.831\n"
     ]
    }
   ],
   "source": [
    "from sklearn.naive_bayes  import GaussianNB\n",
    "clf = make_pipeline(GaussianNB(var_smoothing=0.0007390722033525783))\n",
    "clf.fit(x_2_train, y_2_train)\n",
    "print('AUC на контрольной выборке: {:.3f}'.\n",
    "      format(roc_auc_score(y_2_test, clf.predict_proba(x_2_test)[:, 1])))"
   ]
  },
  {
   "cell_type": "code",
   "execution_count": 60,
   "id": "f9300b3e",
   "metadata": {},
   "outputs": [
    {
     "data": {
      "text/plain": [
       "{'priors': None, 'var_smoothing': 1e-09}"
      ]
     },
     "execution_count": 60,
     "metadata": {},
     "output_type": "execute_result"
    }
   ],
   "source": [
    "clf.get_params()"
   ]
  },
  {
   "cell_type": "code",
   "execution_count": 64,
   "id": "37054850",
   "metadata": {},
   "outputs": [
    {
     "data": {
      "text/plain": [
       "{'var_smoothing': 0.0007390722033525783}"
      ]
     },
     "execution_count": 64,
     "metadata": {},
     "output_type": "execute_result"
    }
   ],
   "source": [
    "from sklearn.model_selection import GridSearchCV\n",
    "parametrs = {'var_smoothing': np.logspace (0, -10,num=100)}\n",
    "grid = GridSearchCV(clf, parametrs).fit(x_2_train, y_2_train)\n",
    "grid.best_params_         "
   ]
  },
  {
   "cell_type": "markdown",
   "id": "c16f764a",
   "metadata": {},
   "source": [
    "PolynomialFeatures"
   ]
  },
  {
   "cell_type": "code",
   "execution_count": 58,
   "id": "62907bf9",
   "metadata": {},
   "outputs": [
    {
     "name": "stdout",
     "output_type": "stream",
     "text": [
      "AUC на контрольной выборке: 0.852\n"
     ]
    }
   ],
   "source": [
    "from sklearn.preprocessing import PolynomialFeatures\n",
    "poly_model = make_pipeline(PolynomialFeatures(2),\n",
    "                           LinearRegression())\n",
    "poly_model.fit(x_2_train, y_2_train)\n",
    "\n",
    "print('AUC на контрольной выборке: {:.3f}'.\n",
    "      format(roc_auc_score(y_2_test, poly_model.predict(x_2_test))))"
   ]
  },
  {
   "cell_type": "code",
   "execution_count": 69,
   "id": "b004737b",
   "metadata": {},
   "outputs": [
    {
     "data": {
      "text/plain": [
       "{'memory': None,\n",
       " 'steps': [('polynomialfeatures', PolynomialFeatures()),\n",
       "  ('linearregression', LinearRegression())],\n",
       " 'verbose': False,\n",
       " 'polynomialfeatures': PolynomialFeatures(),\n",
       " 'linearregression': LinearRegression(),\n",
       " 'polynomialfeatures__degree': 2,\n",
       " 'polynomialfeatures__include_bias': True,\n",
       " 'polynomialfeatures__interaction_only': False,\n",
       " 'polynomialfeatures__order': 'C',\n",
       " 'linearregression__copy_X': True,\n",
       " 'linearregression__fit_intercept': True,\n",
       " 'linearregression__n_jobs': None,\n",
       " 'linearregression__normalize': 'deprecated',\n",
       " 'linearregression__positive': False}"
      ]
     },
     "execution_count": 69,
     "metadata": {},
     "output_type": "execute_result"
    }
   ],
   "source": [
    "poly_model.get_params()"
   ]
  },
  {
   "cell_type": "code",
   "execution_count": null,
   "id": "8d21cfa6",
   "metadata": {},
   "outputs": [],
   "source": []
  }
 ],
 "metadata": {
  "kernelspec": {
   "display_name": "Python 3 (ipykernel)",
   "language": "python",
   "name": "python3"
  },
  "language_info": {
   "codemirror_mode": {
    "name": "ipython",
    "version": 3
   },
   "file_extension": ".py",
   "mimetype": "text/x-python",
   "name": "python",
   "nbconvert_exporter": "python",
   "pygments_lexer": "ipython3",
   "version": "3.9.13"
  }
 },
 "nbformat": 4,
 "nbformat_minor": 5
}
