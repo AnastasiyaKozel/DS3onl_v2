{
 "cells": [
  {
   "cell_type": "markdown",
   "id": "29aca33b",
   "metadata": {},
   "source": [
    "Карпеченко Д.М. дз09, 2022/10/16 v.0.1"
   ]
  },
  {
   "cell_type": "code",
   "execution_count": null,
   "id": "3c067069",
   "metadata": {},
   "outputs": [],
   "source": [
    "import cv2\n",
    "from PIL import Image, ImageFilter\n",
    "import os\n",
    "\n",
    "#Список наших картинок, с которыми будут происходить изменения (путь к папке с картинками)\n",
    "img_set = os.listdir(r'./car/')\n",
    "\n",
    "#Прогоняем по всем картинкам из нашего листа\n",
    "for i in img_set:\n",
    "#Переменная с для имени)\n",
    "    c=0\n",
    "#Загружаем картинку для работы\n",
    "    img = Image.open(r'./car/'+i)\n",
    "    img.load()\n",
    "#Используем фильтр размытия\n",
    "    img1 = img.filter(ImageFilter.BLUR)\n",
    "    c+=1\n",
    "\n",
    "#Сохраняем картинку в папку под именем 2)\n",
    "    img1.save(r'./2/'+str(c)+i)\n",
    "#Делаем из цветной картинки черно-белую\n",
    "    img1 = img.convert('L')\n",
    "    c+=1\n",
    "    img1.save(r'./2/'+str(c)+i)\n",
    "    #img1.show()\n",
    "#Делаем из картинки красивую гравюрную штуку\n",
    "    img1 = img.filter(ImageFilter.FIND_EDGES)\n",
    "    c+=1\n",
    "    img1.save(r'./2/'+str(c)+i)\n",
    "    c+=1\n",
    "#Меняем масштаб картинки\n",
    "    img1 = img.reduce(3)\n",
    "    img1.save(r'./2/' + str(c) + i)\n",
    "    c=0"
   ]
  }
 ],
 "metadata": {
  "kernelspec": {
   "display_name": "Python 3 (ipykernel)",
   "language": "python",
   "name": "python3"
  },
  "language_info": {
   "codemirror_mode": {
    "name": "ipython",
    "version": 3
   },
   "file_extension": ".py",
   "mimetype": "text/x-python",
   "name": "python",
   "nbconvert_exporter": "python",
   "pygments_lexer": "ipython3",
   "version": "3.9.13"
  }
 },
 "nbformat": 4,
 "nbformat_minor": 5
}
