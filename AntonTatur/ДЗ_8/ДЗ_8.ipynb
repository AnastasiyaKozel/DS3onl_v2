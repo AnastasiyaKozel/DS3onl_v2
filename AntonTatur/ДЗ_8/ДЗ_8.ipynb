{
 "cells": [
  {
   "cell_type": "markdown",
   "id": "25814185",
   "metadata": {},
   "source": [
    "###### Татур А.А.\n",
    "###### ver 0.1\n",
    "###### 02.10.2022"
   ]
  },
  {
   "cell_type": "markdown",
   "id": "4d735ec0",
   "metadata": {},
   "source": [
    "###### Задание\n",
    "Напишите декоратор, оптимизирующий работу декорируемой функции. Декоратор должен сохранять результат работы функции на ближайшие три запуска и вместо выполнения функции возвращать сохранённый результат. \n",
    "После трёх запусков функция должна вызываться вновь, а результат работы функции — вновь кешироваться."
   ]
  },
  {
   "cell_type": "code",
   "execution_count": 155,
   "id": "d6034d3e",
   "metadata": {},
   "outputs": [],
   "source": [
    "# Создаем декоратор\n",
    "def decorator(funk):\n",
    "    # Создаем две переменные\n",
    "    attemps={} # Словарь для хранения числа открытий функции\n",
    "    results={} # Словарь для хранения результатов работы функции \n",
    "\n",
    "    def wrapper(*args,**kwargs):\n",
    "        # Выполняем проверку, сколько раз была запущена функция, проверяя по словарю, сколько было попыток\n",
    "        if attemps.get(funk.__name__,0)<3:\n",
    "            \n",
    "            return inner_call(*args,**kwargs)\n",
    "        else:\n",
    "            # Если число попыток более 3х, то выполняем очистку словарей\n",
    "            attemps.clear()\n",
    "            results.clear()\n",
    "            return inner_call(*args,**kwargs)\n",
    "    \n",
    "    # Сам процесс занесения результатов в словари вынес в отдельную функцию, чтобы не нагромождать цикл if.\n",
    "    def inner_call(*args,**kwargs):\n",
    "            result = funk(*args, **kwargs)\n",
    "            attemps[funk.__name__]=attemps.get(funk.__name__,0) + 1\n",
    "            results[funk.__name__ + \" №\" + str(attemps[funk.__name__])] = result\n",
    "            \n",
    "            print (\"Функция {} вызвана {} раз\".format(funk.__name__, attemps[funk.__name__]))\n",
    "            print (\"Результаты ее работы {}\".format(results))\n",
    "            \n",
    "            return result\n",
    "        \n",
    "    return wrapper"
   ]
  },
  {
   "cell_type": "code",
   "execution_count": 156,
   "id": "b8cdb39a",
   "metadata": {},
   "outputs": [],
   "source": [
    "@decorator\n",
    "def square(x):\n",
    "    return x**2\n",
    "\n",
    "@decorator\n",
    "def cube(x):\n",
    "    return x**3"
   ]
  },
  {
   "cell_type": "code",
   "execution_count": 166,
   "id": "fb323d10",
   "metadata": {},
   "outputs": [
    {
     "name": "stdout",
     "output_type": "stream",
     "text": [
      "Функция square вызвана 3 раз\n",
      "Результаты ее работы {'square №1': 2500, 'square №2': 2500, 'square №3': 2500}\n"
     ]
    },
    {
     "data": {
      "text/plain": [
       "2500"
      ]
     },
     "execution_count": 166,
     "metadata": {},
     "output_type": "execute_result"
    }
   ],
   "source": [
    "square(50)"
   ]
  },
  {
   "cell_type": "code",
   "execution_count": 165,
   "id": "87d09d40",
   "metadata": {},
   "outputs": [
    {
     "name": "stdout",
     "output_type": "stream",
     "text": [
      "Функция cube вызвана 1 раз\n",
      "Результаты ее работы {'cube №1': 125}\n"
     ]
    },
    {
     "data": {
      "text/plain": [
       "125"
      ]
     },
     "execution_count": 165,
     "metadata": {},
     "output_type": "execute_result"
    }
   ],
   "source": [
    "cube(5)"
   ]
  },
  {
   "cell_type": "code",
   "execution_count": 144,
   "id": "3dc0ec0a",
   "metadata": {},
   "outputs": [
    {
     "name": "stdout",
     "output_type": "stream",
     "text": [
      "Функция square вызвана 3 раз\n",
      "Результаты ее работы {'square №1': '2500', 'square №2': '400', 'square №3': '400'}\n"
     ]
    },
    {
     "data": {
      "text/plain": [
       "400"
      ]
     },
     "execution_count": 144,
     "metadata": {},
     "output_type": "execute_result"
    }
   ],
   "source": [
    "square(20)"
   ]
  },
  {
   "cell_type": "code",
   "execution_count": 145,
   "id": "96969f73",
   "metadata": {},
   "outputs": [
    {
     "name": "stdout",
     "output_type": "stream",
     "text": [
      "Функция cube вызвана 2 раз\n",
      "Результаты ее работы {'cube №1': '125', 'cube №2': '64'}\n"
     ]
    },
    {
     "data": {
      "text/plain": [
       "64"
      ]
     },
     "execution_count": 145,
     "metadata": {},
     "output_type": "execute_result"
    }
   ],
   "source": [
    "cube()"
   ]
  }
 ],
 "metadata": {
  "kernelspec": {
   "display_name": "Python 3 (ipykernel)",
   "language": "python",
   "name": "python3"
  },
  "language_info": {
   "codemirror_mode": {
    "name": "ipython",
    "version": 3
   },
   "file_extension": ".py",
   "mimetype": "text/x-python",
   "name": "python",
   "nbconvert_exporter": "python",
   "pygments_lexer": "ipython3",
   "version": "3.9.12"
  }
 },
 "nbformat": 4,
 "nbformat_minor": 5
}
