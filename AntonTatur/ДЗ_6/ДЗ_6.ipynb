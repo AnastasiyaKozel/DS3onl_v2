{
 "cells": [
  {
   "cell_type": "markdown",
   "id": "a4353f54",
   "metadata": {},
   "source": [
    "###### Татур А.А.\n",
    "###### 25/09/2022\n",
    "###### Ver. 0.1"
   ]
  },
  {
   "cell_type": "markdown",
   "id": "e878b6c3",
   "metadata": {},
   "source": [
    "###### Цели\n",
    "\n",
    "1. Создать класс Alphabet, который будет инициализироваться двумя переменными Lang, Letter\n",
    "2. Реализовать методы класса Alphabet, которые будут 1) Напечатает все буквы алфавита 2) Посчитает количество букв\n",
    "3. На базе класса Alphabet реализовать класс EngAlphabet, который будет инициализироваться перменными Lang, Letter, LetterNum\n",
    "4. Реализовать методы для EngAlphabet 1) Посчитать количество букв 2) Определить, относится ли буква к английскому алфавиту 3) Получить пример текста на английском языке\n"
   ]
  },
  {
   "cell_type": "markdown",
   "id": "3762d720",
   "metadata": {},
   "source": [
    "Класс Alphabet"
   ]
  },
  {
   "cell_type": "code",
   "execution_count": 161,
   "id": "391415d3",
   "metadata": {},
   "outputs": [],
   "source": [
    "# Создаем класс Alphabet\n",
    "\n",
    "class Alphabet():\n",
    "    def __init__ (self, lang, letters):\n",
    "        '''\n",
    "        Метод инициализации. Принимает название языка и буквы алфавита в виде строк\n",
    "        '''\n",
    "        self.__lang = lang\n",
    "        self.__letters = letters\n",
    "    \n",
    "    @property\n",
    "    def print (self):\n",
    "        '''\n",
    "        Метод-свойство. Выводит на печать буквы алфавита\n",
    "        '''\n",
    "        if self.__letters:\n",
    "            for i in self.__letters:\n",
    "                print (i, end = ', ')\n",
    "        else:\n",
    "            print (\"Введите буквы алфавита\")\n",
    "        print ('\\n')\n",
    "    @property\n",
    "    def letters_num(self):\n",
    "        '''\n",
    "        Метод-свойство. Выводит на печать количество букв в алфавите\n",
    "        '''\n",
    "        if self.__letters:\n",
    "            print (\"Количество букв в алфавите {}\".format(len(self.__letters)))\n",
    "        else:\n",
    "            print (\"Введите буквы алфавита\")\n",
    "    \n",
    "    @property\n",
    "    def letters(self):\n",
    "        '''\n",
    "        Геттер. Для обеспечения доступа к буквам алфавита в дочерних классах.\n",
    "        '''\n",
    "        return self.__letters\n",
    "    \n",
    "    @property\n",
    "    def lang(self):\n",
    "        '''\n",
    "        Геттер. Для обеспечения доступа к названию языка в дочерних классах.\n",
    "        '''\n",
    "        return self.__lang"
   ]
  },
  {
   "cell_type": "code",
   "execution_count": 162,
   "id": "e7fee4e0",
   "metadata": {},
   "outputs": [
    {
     "name": "stdout",
     "output_type": "stream",
     "text": [
      "Количество букв в алфавите 30\n",
      "А, Б, В, Г, Д, Е, Ё, Ж, З, И, К, Л, М, Н, О, П, Р, С, Т, У, Ф, Х, Ц, Ч, Щ, Ь, Э, Ъ, Ю, Я, \n",
      "\n"
     ]
    }
   ],
   "source": [
    "Rus = Alphabet ('Rus', 'АБВГДЕЁЖЗИКЛМНОПРСТУФХЦЧЩЬЭЪЮЯ')\n",
    "\n",
    "Rus.letters_num\n",
    "Rus.print"
   ]
  },
  {
   "cell_type": "code",
   "execution_count": 163,
   "id": "41f08ab0",
   "metadata": {},
   "outputs": [],
   "source": [
    "import string\n",
    "\n",
    "# Создаем дочерний класс EngAlphabet\n",
    "class EngAlphabet (Alphabet):\n",
    "    \n",
    "    def __init__ (self, lang=\"En\", letters=string.ascii_uppercase, letters_num=len(string.ascii_uppercase)):\n",
    "        '''\n",
    "        Инициализация\n",
    "        '''\n",
    "        super().__init__(lang,letters)\n",
    "        self.__letters_num = letters_num\n",
    "    \n",
    "    def is_en_letter(self, inp_letter):\n",
    "        '''\n",
    "        Метод для проверки принадлежности буквы к английскому алфавиту.\n",
    "        '''\n",
    "        if inp_letter:\n",
    "            if str(inp_letter).capitalize() in self.letters:\n",
    "                print (\"Указанная буква относится к английскому алфавиту\")\n",
    "            else:\n",
    "                print (\"Указанная буква не относится к английскому алфавиту\")\n",
    "        else:\n",
    "            print (\"Введите какую-то букву\")\n",
    "    \n",
    "    @property\n",
    "    def letters_num(self):\n",
    "        '''\n",
    "        Свойство. Выводит на печать количество букв в алфавите\n",
    "        '''\n",
    "        print (\"Количество букв в алфавите {}\".format(self.__letters_num))\n",
    "    \n",
    "    \n",
    "    @staticmethod\n",
    "    def example():\n",
    "        '''\n",
    "        Статический метод. Выводит на печать простой текст на английском\n",
    "        '''\n",
    "        print ('Here is an example of a simple text in English')\n",
    "    "
   ]
  },
  {
   "cell_type": "code",
   "execution_count": 166,
   "id": "3cc5fcc8",
   "metadata": {},
   "outputs": [],
   "source": [
    "# Создаем объект класса EngAlphabet\n",
    "\n",
    "Eng = EngAlphabet()"
   ]
  },
  {
   "cell_type": "code",
   "execution_count": 168,
   "id": "dc2e1d21",
   "metadata": {},
   "outputs": [
    {
     "name": "stdout",
     "output_type": "stream",
     "text": [
      "A, B, C, D, E, F, G, H, I, J, K, L, M, N, O, P, Q, R, S, T, U, V, W, X, Y, Z, \n",
      "\n"
     ]
    }
   ],
   "source": [
    "# Напечатайте буквы алфавита для этого объекта\n",
    "\n",
    "Eng.print"
   ]
  },
  {
   "cell_type": "code",
   "execution_count": 170,
   "id": "e09c0a5a",
   "metadata": {},
   "outputs": [
    {
     "name": "stdout",
     "output_type": "stream",
     "text": [
      "Количество букв в алфавите 26\n"
     ]
    }
   ],
   "source": [
    "# Выведите количество букв в алфавите\n",
    "\n",
    "Eng.letters_num"
   ]
  },
  {
   "cell_type": "code",
   "execution_count": 171,
   "id": "24fff029",
   "metadata": {},
   "outputs": [],
   "source": [
    "# Проверьте, относится ли буква F к английскому алфавиту"
   ]
  },
  {
   "cell_type": "code",
   "execution_count": 172,
   "id": "2625a427",
   "metadata": {},
   "outputs": [
    {
     "name": "stdout",
     "output_type": "stream",
     "text": [
      "Указанная буква относится к английскому алфавиту\n"
     ]
    }
   ],
   "source": [
    "Eng.is_en_letter('F')"
   ]
  },
  {
   "cell_type": "code",
   "execution_count": 173,
   "id": "48a20b05",
   "metadata": {},
   "outputs": [
    {
     "name": "stdout",
     "output_type": "stream",
     "text": [
      "Указанная буква не относится к английскому алфавиту\n"
     ]
    }
   ],
   "source": [
    "# Проверьте, относится ли буква Щ к английскому алфавиту\n",
    "\n",
    "Eng.is_en_letter('Щ')"
   ]
  },
  {
   "cell_type": "code",
   "execution_count": 174,
   "id": "75523698",
   "metadata": {},
   "outputs": [
    {
     "name": "stdout",
     "output_type": "stream",
     "text": [
      "Here is an example of a simple text in English\n"
     ]
    }
   ],
   "source": [
    "# Выведите пример текста на английском языке\n",
    "EngAlphabet.example()"
   ]
  }
 ],
 "metadata": {
  "kernelspec": {
   "display_name": "Python 3 (ipykernel)",
   "language": "python",
   "name": "python3"
  },
  "language_info": {
   "codemirror_mode": {
    "name": "ipython",
    "version": 3
   },
   "file_extension": ".py",
   "mimetype": "text/x-python",
   "name": "python",
   "nbconvert_exporter": "python",
   "pygments_lexer": "ipython3",
   "version": "3.9.12"
  }
 },
 "nbformat": 4,
 "nbformat_minor": 5
}
