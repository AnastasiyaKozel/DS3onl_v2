{
 "cells": [
  {
   "cell_type": "markdown",
   "id": "fdd06a32",
   "metadata": {},
   "source": [
    "###### Татур А.А.\n",
    "###### 27.09.2021\n",
    "###### ver 0.1"
   ]
  },
  {
   "cell_type": "markdown",
   "id": "9b35cae0",
   "metadata": {},
   "source": [
    "###### Цели:\n",
    "1. Реализовать скачивание и сохранение файлов с использованием BeautifulSoup И Requests\n",
    "2. Измерить количество времени, которое требуется для этого процесса без участия Thread И Multiprocessing.\n",
    "3. Повторить, используя Thread\n",
    "4. Повторить, Используя Muliprocessing\n",
    "5. Оценить время.\n",
    "6. Подобрать оптимальное число потоков/процессов"
   ]
  },
  {
   "cell_type": "markdown",
   "id": "42c6815c",
   "metadata": {},
   "source": [
    "Загружаем модули"
   ]
  },
  {
   "cell_type": "code",
   "execution_count": 1,
   "id": "72e54fcf",
   "metadata": {},
   "outputs": [],
   "source": [
    "import requests\n",
    "from bs4 import BeautifulSoup\n",
    "import os\n",
    "import shutil\n",
    "import time"
   ]
  },
  {
   "cell_type": "markdown",
   "id": "cc4abeb5",
   "metadata": {},
   "source": [
    "###### Выполняем построение первичного списка изображений"
   ]
  },
  {
   "cell_type": "code",
   "execution_count": 4,
   "id": "25ae4dbe",
   "metadata": {},
   "outputs": [],
   "source": [
    "list_url = [\"https://lenta.ru/\"] \n",
    "images = []\n",
    "for url in list_url:\n",
    "    response = requests.get(url)\n",
    "    soup = BeautifulSoup(response.text, features=\"html.parser\")\n",
    "    for img in soup.findAll('img'):\n",
    "        images.append(img.get('src'))"
   ]
  },
  {
   "cell_type": "markdown",
   "id": "a295e4aa",
   "metadata": {},
   "source": [
    "###### Очищаем список файлов, сотавляем только картинки"
   ]
  },
  {
   "cell_type": "code",
   "execution_count": 6,
   "id": "46965097",
   "metadata": {},
   "outputs": [
    {
     "data": {
      "text/plain": [
       "133"
      ]
     },
     "execution_count": 6,
     "metadata": {},
     "output_type": "execute_result"
    }
   ],
   "source": [
    "img_list_cleaned=[]\n",
    "for i in range(len(images)):\n",
    "    if images[i]==None or images[i].startswith('//'):\n",
    "        continue\n",
    "    elif images[i].endswith('jpg'):\n",
    "        img_list_cleaned.append(images[i])\n",
    "len(img_list_cleaned)"
   ]
  },
  {
   "cell_type": "markdown",
   "id": "b47fb0b1",
   "metadata": {},
   "source": [
    "###### Создаем фунцию для скачивания изображения. На вход принимает - ссылку, номер картинки и директорию, в которую происходит скачивание"
   ]
  },
  {
   "cell_type": "code",
   "execution_count": 7,
   "id": "99fdb3d5",
   "metadata": {},
   "outputs": [],
   "source": [
    "def img_downl(url,pic_num,dir_name):\n",
    "    # Начинаем загрузку.\n",
    "        file_path=dir_name+'\\\\image'+str(pic_num)+'.jpg'\n",
    "        img=requests.get(url)\n",
    "        open(file_path,\"wb\").write(img.content)"
   ]
  },
  {
   "cell_type": "markdown",
   "id": "3d20c343",
   "metadata": {},
   "source": [
    "##### Создаем папку для скачки без процессов и потоков. Если она существует, то будет перезаписана."
   ]
  },
  {
   "cell_type": "code",
   "execution_count": 8,
   "id": "1557753f",
   "metadata": {},
   "outputs": [],
   "source": [
    "try: \n",
    "    os.mkdir('Images')\n",
    "except FileExistsError:\n",
    "    shutil.rmtree ('Images')\n",
    "    os.mkdir ('Images')"
   ]
  },
  {
   "cell_type": "markdown",
   "id": "447a790e",
   "metadata": {},
   "source": [
    "###### Загружаем файлы без потоков и процессов="
   ]
  },
  {
   "cell_type": "code",
   "execution_count": 9,
   "id": "fb5af6fd",
   "metadata": {},
   "outputs": [
    {
     "name": "stdout",
     "output_type": "stream",
     "text": [
      "На загрузку потрачено -  17.865105628967285  секунд\n",
      "Скачано -  133  файлов\n"
     ]
    }
   ],
   "source": [
    "# Начинаем загрузку.\n",
    "start=time.time()\n",
    "for i in img_list_cleaned:\n",
    "    img_downl(i,img_list_cleaned.index(i),'Images')\n",
    "end = time.time()\n",
    "# Оканчиваем загрузку.\n",
    "print (\"На загрузку потрачено - \", end-start, ' секунд')\n",
    "print (\"Скачано - \", len(img_list_cleaned), \" файлов\")"
   ]
  },
  {
   "cell_type": "markdown",
   "id": "829ce17d",
   "metadata": {},
   "source": [
    "######  Создаем папку для загрузки с потоками"
   ]
  },
  {
   "cell_type": "code",
   "execution_count": 10,
   "id": "4c0a223c",
   "metadata": {},
   "outputs": [],
   "source": [
    "try: \n",
    "    os.mkdir('ImagesThreads')\n",
    "except FileExistsError:\n",
    "    shutil.rmtree ('ImagesThreads')\n",
    "    os.mkdir ('ImagesThreads')"
   ]
  },
  {
   "cell_type": "markdown",
   "id": "20b98828",
   "metadata": {},
   "source": [
    "######  Проводим загрузку с потоками. Особой разницы при игре с количеством потоков не заметил,\n",
    "######  но сильно усложняется код из-за необходимости дробить список ссылок, что также приводит к \n",
    "###### потере файлов"
   ]
  },
  {
   "cell_type": "code",
   "execution_count": 11,
   "id": "a26c1be4",
   "metadata": {},
   "outputs": [
    {
     "name": "stdout",
     "output_type": "stream",
     "text": [
      "На загрузку потрачено -  1.292853832244873  секунд\n"
     ]
    }
   ],
   "source": [
    "import threading\n",
    "\n",
    "start_time=time.time()\n",
    "\n",
    "threads=[]\n",
    "\n",
    "for i in img_list_cleaned:\n",
    "    t1= threading.Thread(target=img_downl, args=[i, img_list_cleaned.index(i),'ImagesThreads'])\n",
    "    t1.start()\n",
    "    threads.append(t1)    \n",
    "    \n",
    "for thread in threads:\n",
    "    thread.join()\n",
    "\n",
    "\n",
    "end_time=time.time()\n",
    "exec_time= end_time-start_time\n",
    "print(\"На загрузку потрачено - \", end_time-start_time, ' секунд')"
   ]
  },
  {
   "cell_type": "markdown",
   "id": "77704f84",
   "metadata": {},
   "source": [
    "######  Создаем папку для загрузки с мультипроцессами"
   ]
  },
  {
   "cell_type": "code",
   "execution_count": 12,
   "id": "a2fdbfa9",
   "metadata": {},
   "outputs": [],
   "source": [
    "try: \n",
    "    os.mkdir('ImagesMulti')\n",
    "except FileExistsError:\n",
    "    shutil.rmtree ('ImagesMulti')\n",
    "    os.mkdir ('ImagesMulti')"
   ]
  },
  {
   "cell_type": "markdown",
   "id": "5f356a43",
   "metadata": {},
   "source": [
    "######  Старт загрузки. Оптимально 8 процессов"
   ]
  },
  {
   "cell_type": "code",
   "execution_count": null,
   "id": "1baddce2",
   "metadata": {},
   "outputs": [],
   "source": [
    "from multiprocessing import Pool, cpu_count\n",
    "\n",
    "\n",
    "# Создал отдельную функцию,т.к. с мультипроцессами получилось их запустить только с помощью функции pool.map. Поэтому упростил\n",
    "# до одного аргумента\n",
    "\n",
    "def img_downl_mult(url):\n",
    "        file_path='ImagesMulti\\\\image'+str(img_list_cleaned.index(url))+'.jpg'\n",
    "        img=requests.get(url)\n",
    "        open(file_path,\"wb\").write(img.content)\n",
    "\n",
    "if __name__ == '__main__':\n",
    "    pool = Pool(8)\n",
    "    start = time.time()\n",
    "    results = pool.map(img_downl_mult, img_list_cleaned)\n",
    "    pool.close()\n",
    "    pool.join()\n",
    "    end = time.time()\n",
    "    print('Time taken in seconds -', end - start)"
   ]
  }
 ],
 "metadata": {
  "kernelspec": {
   "display_name": "Python 3 (ipykernel)",
   "language": "python",
   "name": "python3"
  },
  "language_info": {
   "codemirror_mode": {
    "name": "ipython",
    "version": 3
   },
   "file_extension": ".py",
   "mimetype": "text/x-python",
   "name": "python",
   "nbconvert_exporter": "python",
   "pygments_lexer": "ipython3",
   "version": "3.9.12"
  }
 },
 "nbformat": 4,
 "nbformat_minor": 5
}
