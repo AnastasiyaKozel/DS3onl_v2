{
 "cells": [
  {
   "cell_type": "markdown",
   "id": "6ba7d8d0",
   "metadata": {},
   "source": [
    "#### Татур А.А.\n",
    "#### 18.09.2022\n",
    "#### ver 0.1"
   ]
  },
  {
   "cell_type": "markdown",
   "id": "2c1e72b1",
   "metadata": {},
   "source": [
    "# Задание\n",
    "\n",
    "## C использованием библиотек Numpy и Pandas написать программу реализующую:\n",
    "\n",
    "1. Загрузку текстового файла из корневого каталога объемом не менее 20000 символов включая пробелы и все символы.\n",
    "\n",
    "2. Подсчет частоты встречаемости слов в загруженном файле (критерий схожести слов выбрать самостоятельно).\n",
    "\n",
    "3. Подсчет длин предложений и их количества.\n",
    "\n",
    "4. Ввод полученных данных в объект DataFrame и Series, а также отображение полученных результатов в виде таблицы \"объекты - признаки\".\n",
    "\n",
    "5. Построение гистограммы частоты встречаемости слов."
   ]
  },
  {
   "cell_type": "markdown",
   "id": "21fad604",
   "metadata": {},
   "source": [
    "# Цели\n",
    "\n",
    "#### Анализ числа слов и самых часто встречающихся\n",
    "\n",
    "1. Открываем текстовый файл, читаем построчно, заносим результат в список.\n",
    "2. Выполняем пословное чтение списка (при помощи вложенных циклов for)\n",
    "3. С помощью регулярных выражений убираем специальные символы\n",
    "4. С помощью заранее сформированного файла с \"мусорными\" словами проверяем не относится ли анализируемое слово к числу, предлогу, междометию, местоимению и др. и убираем лишнее.\n",
    "5. Добавляем отобранные слова в отдельный список. Все слова ставим в нижний регистр. Сортируем список по алфавиту\n",
    "6. Проводим лемматизацию с помощтю модуля pymystem3\n",
    "7. Заносим полученные слова в DataFrame. 1-я колонка - слово с окончанием, 2-я колонка - Лемматизированные\n",
    "8. Строим график для 20 самых частых слов используя seaborn\n",
    "\n",
    "\n",
    "##### Анализ длины предложений и их числа.\n",
    "\n",
    "1. Открываем файл, читаем построчно, заносим результат в список.\n",
    "2. Анализируем построчно с помощью регулярных выражений. В места конца строки (.?1 + пробел, слово+.?1) вставляем специальный символ \"|\"\n",
    "3. Объединяем все элементы списка в один строчный файл, выполняем его разделением по символу \"|\". Получаем список, состоящий из отдельных предложений.\n",
    "4. Выполняем их подсчет.\n",
    "5. Заносим в DataSeries, где index - само предложение, а значение - его длина, посчитанная при помощи функции map()"
   ]
  },
  {
   "cell_type": "code",
   "execution_count": 18,
   "id": "f0e7c272",
   "metadata": {},
   "outputs": [],
   "source": [
    "import pandas as pd\n",
    "import codecs\n",
    "import re\n",
    "import matplotlib.pyplot as plt\n",
    "import seaborn as sns\n",
    "\n",
    "from pymystem3 import Mystem"
   ]
  },
  {
   "cell_type": "markdown",
   "id": "ecfd0938",
   "metadata": {},
   "source": [
    "# Считаем слова"
   ]
  },
  {
   "cell_type": "markdown",
   "id": "c766681a",
   "metadata": {},
   "source": [
    "##### Открываем файл"
   ]
  },
  {
   "cell_type": "code",
   "execution_count": 19,
   "id": "c6b6ae37",
   "metadata": {},
   "outputs": [],
   "source": [
    "with open(\"MyText.txt\", \"r\", encoding = \"UTF8\") as text_file:\n",
    "    text=text_file.readlines()"
   ]
  },
  {
   "cell_type": "markdown",
   "id": "99749b47",
   "metadata": {},
   "source": [
    "#### Создаем переменную, которая будет содержать обработанный текст.\n",
    "#### Подгружаем файл, содержащий пустые по смыслу слова"
   ]
  },
  {
   "cell_type": "code",
   "execution_count": 37,
   "id": "34ea8a10",
   "metadata": {},
   "outputs": [],
   "source": [
    "with open (\"Trash.txt\", \"r\", encoding = \"UTF8\") as trash_file:\n",
    "    trash_word = tuple(trash_file.readlines()[0].split())"
   ]
  },
  {
   "cell_type": "markdown",
   "id": "2b10c331",
   "metadata": {},
   "source": [
    "##### Выполняем построчное чтение, разбиваем предложения по пробелам для вычленения отдельных слов, чистим от специальных символов, пустых слов, переводим все в нижний регистр, сортируем по алфавиту"
   ]
  },
  {
   "cell_type": "code",
   "execution_count": 50,
   "id": "7f6d8f81",
   "metadata": {},
   "outputs": [],
   "source": [
    "text_cleaned=[] #пустой лист, где будет содержаться наш очищенный от мусорных слов текст\n",
    "\n",
    "for line in text: #Выделяем отдельные строки\n",
    "    for word in line.split(): #Разбиваем на части по пробелам\n",
    "        word = re.sub(\"[!#$%^&*\\(\\)...''\\\"«»–\\'\\'?,-<>1234567890]\", '', word) #удаляем специальные символы и цифры\n",
    "        if word.lower() in trash_word or len(word)<1: #удаляем слова без смысла, пустые символы\n",
    "            continue\n",
    "        else:\n",
    "            text_cleaned.append(word.lower())\n",
    "            \n",
    "sorted_and_cleaned = sorted(text_cleaned) #очищенный лист, который отсортирован по алфавиту"
   ]
  },
  {
   "cell_type": "markdown",
   "id": "c98a494f",
   "metadata": {},
   "source": [
    "#### Выполняем лемматизацию"
   ]
  },
  {
   "cell_type": "code",
   "execution_count": 25,
   "id": "dd3ce3bf",
   "metadata": {},
   "outputs": [],
   "source": [
    "string=' '.join(sorted_and_cleaned) #объединяем все слова в единую строку для скорости работы PyMystream3. Если выдергивать\n",
    "mystem = Mystem()                   # по одному слову из списка, то получается очень долго\n",
    "text_lemma=mystem.lemmatize(string)"
   ]
  },
  {
   "cell_type": "code",
   "execution_count": 44,
   "id": "04ec72e3",
   "metadata": {},
   "outputs": [],
   "source": [
    "text_lemma=[word for word in text_lemma if word!=' ' or word!=''] # Разделяем строку обратно на отдельные слова."
   ]
  },
  {
   "cell_type": "markdown",
   "id": "60d04141",
   "metadata": {},
   "source": [
    "#### Вносим в объект DataFrame два списка - лемматизированные и нет. Записываем в файл."
   ]
  },
  {
   "cell_type": "code",
   "execution_count": 64,
   "id": "83caea7b",
   "metadata": {},
   "outputs": [
    {
     "data": {
      "text/plain": [
       "<bound method NDFrame.tail of            Orig       Mod\n",
       "0       абабков   абабков\n",
       "1       абабков   абабков\n",
       "2      абадонна  абадонна\n",
       "3      абадонна  абадонна\n",
       "4      абадонна  абадонна\n",
       "...         ...       ...\n",
       "66928     ящике      ящик\n",
       "66929     ящике      ящик\n",
       "66930     ящике      ящик\n",
       "66931     ящики      ящик\n",
       "66932     ящики      ящик\n",
       "\n",
       "[66933 rows x 2 columns]>"
      ]
     },
     "execution_count": 64,
     "metadata": {},
     "output_type": "execute_result"
    }
   ],
   "source": [
    "Word_Data=pd.DataFrame({\"Orig\": sorted_and_cleaned, \"Mod\":text_lemma[:-1]}) # лемматизированный список не включает последний \n",
    "Word_Data.to_csv('Word_Data.csv')                                           # пустой элемент, который добавляет\n",
    "Word_Data.tail                                                            # лемматизатор   \n"
   ]
  },
  {
   "cell_type": "markdown",
   "id": "b1dcaa9b",
   "metadata": {},
   "source": [
    "#### Выдергиваем 20 самых частых"
   ]
  },
  {
   "cell_type": "code",
   "execution_count": 65,
   "id": "bc53deff",
   "metadata": {},
   "outputs": [
    {
     "data": {
      "text/plain": [
       "маргарита      621\n",
       "сказать        469\n",
       "рука           368\n",
       "иван           353\n",
       "человек        349\n",
       "глаз           346\n",
       "отвечать       341\n",
       "быть           274\n",
       "говорить       268\n",
       "прокуратор     267\n",
       "воланд         265\n",
       "знать          255\n",
       "спрашивать     247\n",
       "голова         246\n",
       "кот            233\n",
       "лицо           230\n",
       "становиться    225\n",
       "коровьев       224\n",
       "время          214\n",
       "пилат          196\n",
       "Name: Mod, dtype: int64"
      ]
     },
     "execution_count": 65,
     "metadata": {},
     "output_type": "execute_result"
    }
   ],
   "source": [
    "mf = Word_Data['Mod'].value_counts()\n",
    "mf.head(20)"
   ]
  },
  {
   "cell_type": "markdown",
   "id": "2e8d2066",
   "metadata": {},
   "source": [
    "#### Строим график для 20 наиболее часто встречающихся "
   ]
  },
  {
   "cell_type": "code",
   "execution_count": 66,
   "id": "91041f56",
   "metadata": {},
   "outputs": [
    {
     "data": {
      "text/plain": [
       "<AxesSubplot:title={'center':'Сколько раз встретились самые популярные слова?'}, xlabel='Название слова', ylabel='Mod'>"
      ]
     },
     "execution_count": 66,
     "metadata": {},
     "output_type": "execute_result"
    },
    {
     "data": {
      "image/png": "[encoded data removed]",
      "text/plain": [
       "<Figure size 1440x720 with 1 Axes>"
      ]
     },
     "metadata": {
      "needs_background": "light"
     },
     "output_type": "display_data"
    }
   ],
   "source": [
    "## настройки графика\n",
    "\n",
    "plt.figure(figsize=(20,10))\n",
    "plt.title(\"Сколько раз встретились самые популярные слова?\")\n",
    "plt.ylabel(\"Число упоминаний\")\n",
    "plt.xlabel(\"Название слова\")\n",
    "\n",
    "x=20 # Переменная для определения, частоту скольких первых слов отобразить на графике\n",
    "sns.barplot(x=mf.head(x).index, y=mf.head(x))"
   ]
  },
  {
   "cell_type": "markdown",
   "id": "0c9d14b5",
   "metadata": {},
   "source": [
    "# Считаем предложения"
   ]
  },
  {
   "cell_type": "markdown",
   "id": "b9c2c833",
   "metadata": {},
   "source": [
    "#### Открываем файл"
   ]
  },
  {
   "cell_type": "code",
   "execution_count": 2,
   "id": "f7d12e08",
   "metadata": {},
   "outputs": [],
   "source": [
    "with open(\"MyText.txt\", \"r\", encoding = \"UTF8\") as text_file:\n",
    "    text=text_file.readlines()"
   ]
  },
  {
   "cell_type": "markdown",
   "id": "9e95390b",
   "metadata": {},
   "source": [
    "#### Убираем из файла все символы новой строки, а также дефисы, которые обозначают диалоги.  Используем гипотезу, что все предложения заканчиваются на \". \", \"! \" или \"? \". Выполняем их поиск по тексту и заменяем специальным символом \"|\""
   ]
  },
  {
   "cell_type": "code",
   "execution_count": 51,
   "id": "1062139f",
   "metadata": {},
   "outputs": [],
   "source": [
    "new_text=[]\n",
    "for line in text:\n",
    "    line=re.sub(r'[–]', '',line) #убираем начальные символы диалогов\n",
    "    line=re.sub(r'[.!?»]\\n', r'|', line) #обозначаем конец предложений, где знака идет новая строка\n",
    "    line=re.sub(r'[.!?]\\s', r'|', line) #бозначаем конец предложений, где после точки, восклицательного знака или вопроса идет пробел\n",
    "    line=re.sub(r\"[\\w']+[\\.?!]\", r'|', line) #обозначаем, где после слова идет точка как конеч предложения. \n",
    "    line=re.sub(r'\\n', '',line) #убираем символ новой строки\n",
    "    new_text.append(line)"
   ]
  },
  {
   "cell_type": "markdown",
   "id": "db12fe3f",
   "metadata": {},
   "source": [
    "#### Соединяем все элементы листа в строку и преобразуем ее в новый лист по делителю \"|\". Считаем количество предложений как длину списка"
   ]
  },
  {
   "cell_type": "code",
   "execution_count": 52,
   "id": "8f5ca4a0",
   "metadata": {},
   "outputs": [
    {
     "data": {
      "text/plain": [
       "10054"
      ]
     },
     "execution_count": 52,
     "metadata": {},
     "output_type": "execute_result"
    }
   ],
   "source": [
    "new_file=(''.join(new_text)).split('|')\n",
    "len(new_file)"
   ]
  },
  {
   "cell_type": "markdown",
   "id": "9e43b9ac",
   "metadata": {},
   "source": [
    "#### Добавляем все сведения в DataSeries, где индекс - само предложение, а значение - его длина."
   ]
  },
  {
   "cell_type": "code",
   "execution_count": 53,
   "id": "80961dbc",
   "metadata": {},
   "outputs": [
    {
     "data": {
      "text/plain": [
       "Михаил БулгаковМастер и МаргаритаМосква 1984ЧАСТЬ ПЕРВАЯ...Так кто ж ты, наконец                                                                                                                                                                                                                                80\n",
       " Я  часть той силы,что вечно хочетзла и вечно совершает благо                                                                                                                                                                                                                                                   61\n",
       "Гете                                                                                                                                                                                                                                                                                                             4\n",
       "«Фауст                                                                                                                                                                                                                                                                                                           6\n",
       "Глава 1Никогда не разговаривайте с неизвестнымиОднажды весною, в час небывало жаркого заката, в Москве, на Патриарших прудах, появились два гражданина                                                                                                                                                         150\n",
       "Первый из них, одетый в летнюю серенькую пару, был маленького роста, упитан, лыс, свою приличную шляпу пирожком нес в руке, а на хорошо выбритом лице его помещались сверхъестественных размеров очки в черной роговой оправе                                                                                  221\n",
       "Второй  плечистый, рыжеватый, вихрастый молодой человек в заломленной на затылок клетчатой кепке  был в ковбойке, жеваных белых брюках и в черных тапочках                                                                                                                                                     154\n",
       "Первый был не кто иной, как Михаил Александрович Берлиоз, председатель правления одной из крупнейших московских литературных ассоциаций, сокращенно именуемой МАССОЛИТ, и редактор толстого художественного журнала, а молодой спутник его  поэт Иван Николаевич Понырев, пишущий под псевдонимом Бездомный    299\n",
       "Попав в тень чуть зеленеющих лип, писатели первым долгом бросились к пестро раскрашенной будочке с надписью «Пиво и воды»                                                                                                                                                                                      121\n",
       "Да, следует отметить первую странность этого страшного майского вечера                                                                                                                                                                                                                                          70\n",
       "Не только у будочки, но и во всей аллее, параллельной Малой Бронной улице, не оказалось ни одного человека                                                                                                                                                                                                     106\n",
       "В тот час, когда уж, кажется, и сил не было дышать, когда солнце, раскалив Москву, в сухом тумане валилось куда-то за Садовое кольцо,  никто не пришел под липы, никто не сел на скамейку, пуста была аллея                                                                                                    203\n",
       " Дайте нарзану,  попросил Берлиоз                                                                                                                                                                                                                                                                               33\n",
       " Нарзану нету,  ответила женщина в будочке и почему-то обиделась                                                                                                                                                                                                                                                64\n",
       " Пиво есть                                                                                                                                                                                                                                                                                                      10\n",
       " сиплым голосом осведомился Бездомный                                                                                                                                                                                                                                                                           37\n",
       " Пиво привезут к вечеру,  ответила женщина                                                                                                                                                                                                                                                                      42\n",
       " А что есть                                                                                                                                                                                                                                                                                                     11\n",
       " спросил Берлиоз                                                                                                                                                                                                                                                                                                16\n",
       " Абрикосовая, только теплая,  сказала женщина                                                                                                                                                                                                                                                                   45\n",
       "dtype: int64"
      ]
     },
     "execution_count": 53,
     "metadata": {},
     "output_type": "execute_result"
    }
   ],
   "source": [
    "Sent_Data=pd.Series(list(map(len, new_file)), index=new_file) \n",
    "Sent_Data.to_csv('Sent_Data.csv')\n",
    "Sent_Data.head(20)"
   ]
  }
 ],
 "metadata": {
  "kernelspec": {
   "display_name": "Python 3 (ipykernel)",
   "language": "python",
   "name": "python3"
  },
  "language_info": {
   "codemirror_mode": {
    "name": "ipython",
    "version": 3
   },
   "file_extension": ".py",
   "mimetype": "text/x-python",
   "name": "python",
   "nbconvert_exporter": "python",
   "pygments_lexer": "ipython3",
   "version": "3.9.12"
  }
 },
 "nbformat": 4,
 "nbformat_minor": 5
}
