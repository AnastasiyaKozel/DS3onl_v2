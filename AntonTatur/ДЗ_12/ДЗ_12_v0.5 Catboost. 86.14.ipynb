{
 "cells": [
  {
   "cell_type": "markdown",
   "id": "9453e22d",
   "metadata": {},
   "source": [
    "##### Татур А.А.\n",
    "##### v.0.5\n",
    "##### Данные: бинарные преобразованы в 1-да, 0-нет; Пропуски - заменены на np.NaN. Для качественных перменных применено pd_dummies (после этого все замены np.nan автоматически выкидывались, т.о. строка полностью не удалялась, просто для нее отсутствует значение, где было Np.NaN).\n",
    "##### Модель: CatBoost. Гиперпараметры дефолтные.\n",
    "##### AUC 86.14"
   ]
  },
  {
   "cell_type": "markdown",
   "id": "8d217e66",
   "metadata": {},
   "source": [
    "##### Цели:\n",
    "1. разбить выборку на обучающую и тестовую\n",
    "2. проанализировать пропуски и решить, что с ними делать\n",
    "3. проанализировать выбросы\n",
    "4. создать/ удалить переменные\n",
    "5. закодировать категориальные переменные\n",
    "6. нормализовать числовые переменные (при необходимости)"
   ]
  },
  {
   "cell_type": "code",
   "execution_count": 37,
   "id": "3386a14d",
   "metadata": {},
   "outputs": [],
   "source": [
    "import pandas as pd\n",
    "import numpy as np\n",
    "import seaborn as sns\n",
    "import matplotlib.pyplot as plt\n",
    "\n",
    "from sklearn.model_selection import train_test_split\n",
    "from sklearn.metrics import roc_auc_score\n",
    "from sklearn.preprocessing import MinMaxScaler\n",
    "from catboost import CatBoostClassifier, Pool, metrics, cv\n",
    "from sklearn.metrics import accuracy_score\n",
    "from sklearn.preprocessing import StandardScaler"
   ]
  },
  {
   "cell_type": "code",
   "execution_count": 38,
   "id": "d5b5ef5c",
   "metadata": {},
   "outputs": [],
   "source": [
    "# Читаем файл. Сразу убираем колонку id, формируем фрэйм с фичами и серию с целевым признаком\n",
    "df = pd.read_csv('MFOCredit.csv',\n",
    "                 encoding = 'cp1251',\n",
    "                 sep=';')\n",
    "df=df.drop('id',axis=1)\n",
    "\n",
    "X=df.drop(['delinq60plus'], axis=1)\n",
    "X.age=X.age.astype(np.float16)\n",
    "y=df['delinq60plus']"
   ]
  },
  {
   "cell_type": "code",
   "execution_count": 10,
   "id": "b558c4b7",
   "metadata": {},
   "outputs": [],
   "source": [
    "X_train, X_test, y_train, y_test = train_test_split(X,y, train_size=0.7, random_state=42)"
   ]
  },
  {
   "cell_type": "markdown",
   "id": "59525bb7",
   "metadata": {},
   "source": [
    "#### Обрабатываем пропуски. Кодируем бинарные колонки в цифровые вручную. Походу приводим типы к float"
   ]
  },
  {
   "cell_type": "markdown",
   "id": "fa12024a",
   "metadata": {},
   "source": [
    "##### 1. Кодируем целевую переменную"
   ]
  },
  {
   "cell_type": "code",
   "execution_count": 11,
   "id": "ef77d6ab",
   "metadata": {},
   "outputs": [],
   "source": [
    "#Кодируем целевую колонку. Да=1, Нет=0\n",
    "y_train.loc[(y_train=='Да')] = 1\n",
    "y_train.loc[(y_train=='Нет')] = 0\n",
    "\n",
    "y_test.loc[(y_test=='Да')] = 1\n",
    "y_test.loc[(y_test=='Нет')] = 0\n",
    "\n",
    "#Приводим к типу int\n",
    "y_train=y_train.astype(np.float16)\n",
    "y_test=y_test.astype(np.float16)"
   ]
  },
  {
   "cell_type": "markdown",
   "id": "023f8a46",
   "metadata": {},
   "source": [
    "##### 2. Обрабатываем даты. "
   ]
  },
  {
   "cell_type": "code",
   "execution_count": 12,
   "id": "c2b4f792",
   "metadata": {},
   "outputs": [],
   "source": [
    "#Меняем типы на дату в тренировочных колонках\n",
    "X_train.date_start=X_train.date_start.astype('datetime64[ns]')\n",
    "X_train.date_end=X_train.date_end.astype('datetime64[ns]')\n",
    "\n",
    "#Меняем типы на дату в тестовых колонках\n",
    "X_test.date_start=X_test.date_start.astype('datetime64[ns]')\n",
    "X_test.date_end=X_test.date_end.astype('datetime64[ns]')"
   ]
  },
  {
   "cell_type": "code",
   "execution_count": 13,
   "id": "76dedb4c",
   "metadata": {},
   "outputs": [],
   "source": [
    "# Этот ужас переводит дату в формат \"Год.Дни недели с начала года\", чтобы их можно было запихивать в модельку.\n",
    "# Такое усложнение понадобилось, т.к. если просто вызвать функцию dayofyear для числа, если прошло меньше чем 100 дней\n",
    "# c начала года, то происходит следующее, допустим 30 января 2010 года превратится в 2010.30, т.е. 300й день. Поэтому циклы\n",
    "# проверяют и если дней меньше ста допихивают ноль спереди.\n",
    "\n",
    "for i in X_train.index:\n",
    "    if X_train.loc[i, 'date_start'].dayofyear<100:\n",
    "        X_train.loc[i, 'y.days_start'] = str(X_train.loc[i, 'date_start'].year)+'.0'+\\\n",
    "        str(X_train.loc[i, 'date_start'].dayofyear)\n",
    "    else:\n",
    "        X_train.loc[i, 'y.days_start'] = str(X_train.loc[i, 'date_start'].year)+'.'+\\\n",
    "        str(X_train.loc[i, 'date_start'].dayofyear)\n",
    "X_train['y.days_start']=X_train['y.days_start'].astype(float)\n",
    "\n",
    "for i in X_train.index:\n",
    "    if X_train.loc[i, 'date_end'].dayofyear<100:\n",
    "        X_train.loc[i, 'y.days_end'] = str(X_train.loc[i, 'date_end'].year)+'.0'+\\\n",
    "        str(X_train.loc[i, 'date_end'].dayofyear)\n",
    "    else:\n",
    "        X_train.loc[i, 'y.days_end'] = str(X_train.loc[i, 'date_end'].year)+'.'+\\\n",
    "        str(X_train.loc[i, 'date_end'].dayofyear)\n",
    "X_train['y.days_end']=X_train['y.days_end'].astype(float)\n",
    "\n",
    "for i in X_test.index:\n",
    "    if X_test.loc[i, 'date_start'].dayofyear<100:\n",
    "        X_test.loc[i, 'y.days_start'] = str(X_test.loc[i, 'date_start'].year)+'.0'+\\\n",
    "        str(X_test.loc[i, 'date_start'].dayofyear)\n",
    "    else:\n",
    "        X_test.loc[i, 'y.days_start'] = str(X_test.loc[i, 'date_start'].year)+'.'+\\\n",
    "        str(X_test.loc[i, 'date_start'].dayofyear)\n",
    "X_test['y.days_start']=X_test['y.days_start'].astype(float)\n",
    "\n",
    "for i in X_test.index:\n",
    "    if X_test.loc[i, 'date_end'].dayofyear<100:\n",
    "        X_test.loc[i, 'y.days_end'] = str(X_test.loc[i, 'date_end'].year)+'.0'+\\\n",
    "        str(X_test.loc[i, 'date_end'].dayofyear)\n",
    "    else:\n",
    "        X_test.loc[i, 'y.days_end'] = str(X_test.loc[i, 'date_end'].year)+'.'+\\\n",
    "        str(X_test.loc[i, 'date_end'].dayofyear)\n",
    "X_test['y.days_end']=X_test['y.days_end'].astype(float)"
   ]
  },
  {
   "cell_type": "code",
   "execution_count": 14,
   "id": "e3fecd48",
   "metadata": {},
   "outputs": [],
   "source": [
    "#Вытаскиваем разность между датами. Получаем длину контракта.\n",
    "X_train['credit_duration']=(X_train['date_end']-X_train['date_start']).dt.days\n",
    "X_test['credit_duration']=(X_test['date_end']-X_test['date_start']).dt.days"
   ]
  },
  {
   "cell_type": "code",
   "execution_count": 15,
   "id": "267ac6db",
   "metadata": {},
   "outputs": [],
   "source": [
    "#Выкидываем исходные колонки\n",
    "X_train=X_train.drop(['date_start', 'date_end'], axis=1)\n",
    "X_test=X_test.drop(['date_start', 'date_end'], axis=1)"
   ]
  },
  {
   "cell_type": "markdown",
   "id": "cb54aed4",
   "metadata": {},
   "source": [
    "##### 3. Кодируем пол"
   ]
  },
  {
   "cell_type": "code",
   "execution_count": 16,
   "id": "5bc72a3b",
   "metadata": {},
   "outputs": [],
   "source": [
    "#Обработка колонки пола. 0 - Женский, 1 - Мужской\n",
    "\n",
    "X_train.loc[(X_train.gender == 'Женский'), 'gender'] = '0'\n",
    "X_train.loc[(X_train.gender == 'Мужской'), 'gender'] = '1'\n",
    "\n",
    "X_test.loc[(X_test.gender == 'Женский'), 'gender'] = '0'\n",
    "X_test.loc[(X_test.gender == 'Мужской'), 'gender'] = '1'\n",
    "\n",
    "#Приводим к типу int\n",
    "X_train.gender=X_train.gender.astype(np.float16)\n",
    "X_test.gender=X_test.gender.astype(np.float16)"
   ]
  },
  {
   "cell_type": "markdown",
   "id": "3673db75",
   "metadata": {},
   "source": [
    "##### 4. Обрабатываем пропуски, кодируем колонку auto"
   ]
  },
  {
   "cell_type": "code",
   "execution_count": 17,
   "id": "4088e2eb",
   "metadata": {},
   "outputs": [],
   "source": [
    "#Заменяем пропуски в колонке \"auto\" на np.nan.\n",
    "X_train.loc[(X_train.auto == 'Пропуск поля'), 'auto'] = np.nan\n",
    "X_test.loc[(X_test.auto == 'Пропуск поля'), 'auto'] = np.nan\n",
    "\n",
    "#Кодируем все в бинарные значения. 0 - нет авто. 1 - есть авто\n",
    "X_train.loc[(X_train.auto == 'Нет'), 'auto'] = '0'\n",
    "X_train.loc[(X_train.auto == 'Да'), 'auto'] = '1'\n",
    "\n",
    "X_test.loc[(X_test.auto == 'Нет'), 'auto'] = '0'\n",
    "X_test.loc[(X_test.auto == 'Да'), 'auto'] = '1'\n",
    "\n",
    "#Конвертируем тип в int\n",
    "X_test['auto']=X_test['auto'].astype(np.float16)\n",
    "X_train['auto']=X_train['auto'].astype(np.float16)"
   ]
  },
  {
   "cell_type": "markdown",
   "id": "bd11c6f1",
   "metadata": {},
   "source": [
    "#####  5. Обарабываем пропуски в колонке housing"
   ]
  },
  {
   "cell_type": "code",
   "execution_count": 18,
   "id": "9f81c6cb",
   "metadata": {},
   "outputs": [],
   "source": [
    "#Заменяем пропуски в колонке 'housing' на np.nan\n",
    "X_train.loc[(X_train.housing=='Пропуск поля'), 'housing'] = np.nan\n",
    "X_test.loc[(X_test.housing=='Пропуск поля'), 'housing'] = np.nan"
   ]
  },
  {
   "cell_type": "markdown",
   "id": "f8dd69cb",
   "metadata": {},
   "source": [
    "##### 6. Обарабываем пропуски в колонке marstatus"
   ]
  },
  {
   "cell_type": "code",
   "execution_count": 19,
   "id": "3a306dfc",
   "metadata": {},
   "outputs": [],
   "source": [
    "#Заменяем пропуски в 'marstatus' на np.nan\n",
    "X_train.loc[(X_train.marstatus == 'Пропуск поля'), 'marstatus'] =np.nan\n",
    "X_test.loc[(X_test.marstatus == 'Пропуск поля'), 'marstatus'] = np.nan"
   ]
  },
  {
   "cell_type": "markdown",
   "id": "ef215e65",
   "metadata": {},
   "source": [
    "#####  7. Кодируем колонку regclient"
   ]
  },
  {
   "cell_type": "code",
   "execution_count": 20,
   "id": "9e24ad6f",
   "metadata": {},
   "outputs": [],
   "source": [
    "#Кодируем regclien в бинарные значения. Да = 1, нет=0. Приводим к типу int16\n",
    "\n",
    "X_train.loc[(X_train.regclient == 'Нет'), 'regclient'] = '0'\n",
    "X_train.loc[(X_train.regclient == 'Да'), 'regclient'] = '1'\n",
    "\n",
    "X_test.loc[(X_test.regclient == 'Нет'), 'regclient'] = '0'\n",
    "X_test.loc[(X_test.regclient == 'Да'), 'regclient'] = '1'\n",
    "\n",
    "#Приводим к типу int\n",
    "X_train.regclient=X_train.regclient.astype(np.float16)\n",
    "X_test.regclient=X_test.regclient.astype(np.float16)"
   ]
  },
  {
   "cell_type": "markdown",
   "id": "69ab4056",
   "metadata": {},
   "source": [
    "#####  8. Обарабываем пропуски в колонке jobtype и кодируем"
   ]
  },
  {
   "cell_type": "code",
   "execution_count": 21,
   "id": "1f7671a0",
   "metadata": {},
   "outputs": [],
   "source": [
    "#Заменяем пропуски в колонке \"jobtype\" на np.nan\n",
    "X_train.loc[(X_train.jobtype == 'Пропуск поля'), 'jobtype'] = np.nan\n",
    "X_test.loc[(X_test.jobtype == 'Пропуск поля'), 'jobtype'] = np.nan\n",
    "\n",
    "#Кодируем все в бинарные значения. 0 - неоффициальное. 1 - оффициальное\n",
    "X_train.loc[(X_train.jobtype == 'Неофициальное'), 'jobtype'] = '0'\n",
    "X_train.loc[(X_train.jobtype == 'Официальное'), 'jobtype'] = '1'\n",
    "\n",
    "X_test.loc[(X_test.jobtype == 'Неофициальное'), 'jobtype'] = '0'\n",
    "X_test.loc[(X_test.jobtype == 'Официальное'), 'jobtype'] = '1'\n",
    "\n",
    "#Конвертируем тип в int\n",
    "X_test['jobtype']=X_test['jobtype'].astype(np.float16)\n",
    "X_train['jobtype']=X_train['jobtype'].astype(np.float16)"
   ]
  },
  {
   "cell_type": "markdown",
   "id": "90921238",
   "metadata": {},
   "source": [
    "#####  9. Обарабываем пропуски в колонке credis и кодируем"
   ]
  },
  {
   "cell_type": "code",
   "execution_count": 22,
   "id": "5e5b924d",
   "metadata": {},
   "outputs": [],
   "source": [
    "#Заменяем пропуски в колонке \"credits\" на np.nan\n",
    "X_train.loc[(X_train.credits == 'Пропуск поля'), 'credits'] = np.nan\n",
    "X_test.loc[(X_test.credits == 'Пропуск поля'), 'credits'] = np.nan\n",
    "\n",
    "#Кодируем все в бинарные значения. 0 - нет. 1 - да\n",
    "X_train.loc[(X_train.credits == 'Нет'), 'credits'] = '0'\n",
    "X_train.loc[(X_train.credits == 'Да'), 'credits'] = '1'\n",
    "\n",
    "X_test.loc[(X_test.credits == 'Нет'), 'credits'] = '0'\n",
    "X_test.loc[(X_test.credits == 'Да'), 'credits'] = '1'\n",
    "\n",
    "#Конвертируем тип в int\n",
    "X_test['credits']=X_test['credits'].astype(np.float16)\n",
    "X_train['credits']=X_train['credits'].astype(np.float16)"
   ]
  },
  {
   "cell_type": "markdown",
   "id": "54d99a17",
   "metadata": {},
   "source": [
    "#####  9. Обарабываем пропуски в колонке children и кодируем"
   ]
  },
  {
   "cell_type": "code",
   "execution_count": 23,
   "id": "8ab66ad9",
   "metadata": {},
   "outputs": [],
   "source": [
    "#Заменяем пропуски в колонке \"children\" на np.nan.\n",
    "X_train.loc[(X_train.children == 'Пропуск поля'), 'children'] = np.nan\n",
    "X_test.loc[(X_test.children == 'Пропуск поля'), 'children'] = np.nan\n",
    "\n",
    "#Кодируем все в бинарные значения. 0 - нет. 1 - да\n",
    "X_train.loc[(X_train.children == 'Нет'), 'children'] = '0'\n",
    "X_train.loc[(X_train.children == 'Да'), 'children'] = '1'\n",
    "\n",
    "X_test.loc[(X_test.children == 'Нет'), 'children'] = '0'\n",
    "X_test.loc[(X_test.children == 'Да'), 'children'] = '1'\n",
    "\n",
    "#Конвертируем тип в int\n",
    "X_test['children']=X_test['children'].astype(np.float16)\n",
    "X_train['children']=X_train['children'].astype(np.float16)"
   ]
  },
  {
   "cell_type": "markdown",
   "id": "b04797a5",
   "metadata": {},
   "source": [
    "#####  10. Применяем Dummies кодирование к вещественным колонкам с более чем 2-мя признаками."
   ]
  },
  {
   "cell_type": "code",
   "execution_count": 28,
   "id": "f7389b12",
   "metadata": {},
   "outputs": [],
   "source": [
    "X_train_dummie = pd.concat([X_train,\n",
    "                           pd.get_dummies(X_train['auto'], prefix='auto'),\n",
    "                           pd.get_dummies(X_train['housing'], prefix='housing'),\n",
    "                           pd.get_dummies(X_train['marstatus'], prefix='marstatus'),\n",
    "                           pd.get_dummies(X_train['jobtype'], prefix='jobtype'),\n",
    "                           pd.get_dummies(X_train['credits'], prefix='credits'),\n",
    "                           pd.get_dummies(X_train['children'], prefix='children'),\n",
    "                           pd.get_dummies(X_train['region'], prefix='region')], axis=1)\n",
    "X_test_dummie = pd.concat([X_test,\n",
    "                           pd.get_dummies(X_test['auto'], prefix='auto'),\n",
    "                           pd.get_dummies(X_test['housing'], prefix='housing'),\n",
    "                           pd.get_dummies(X_test['marstatus'], prefix='marstatus'),\n",
    "                           pd.get_dummies(X_test['jobtype'], prefix='jobtype'),\n",
    "                           pd.get_dummies(X_test['credits'], prefix='credits'),\n",
    "                           pd.get_dummies(X_test['children'], prefix='children'),\n",
    "                           pd.get_dummies(X_test['region'], prefix='region')], axis=1)"
   ]
  },
  {
   "cell_type": "markdown",
   "id": "007e300a",
   "metadata": {},
   "source": [
    "#####  11. Удаляем вещественные колонки"
   ]
  },
  {
   "cell_type": "code",
   "execution_count": 29,
   "id": "d1b9db73",
   "metadata": {},
   "outputs": [],
   "source": [
    "X_train_dummie = X_train_dummie.drop(['auto','housing','marstatus','jobtype','credits','children','region'],axis=1)\n",
    "X_test_dummie = X_test_dummie.drop(['auto','housing','marstatus','jobtype','credits','children','region'],axis=1)"
   ]
  },
  {
   "cell_type": "markdown",
   "id": "416640fa",
   "metadata": {},
   "source": [
    "#####  12. Скалируем"
   ]
  },
  {
   "cell_type": "code",
   "execution_count": 30,
   "id": "375a031e",
   "metadata": {},
   "outputs": [],
   "source": [
    "SSC=StandardScaler()\n",
    "X_train_dummie_scaled= pd.DataFrame(SSC.fit_transform(X_train_dummie))\n",
    "X_test_dummie_scaled = pd.DataFrame(SSC.transform(X_test_dummie))"
   ]
  },
  {
   "cell_type": "markdown",
   "id": "22c12412",
   "metadata": {},
   "source": [
    "##### 13. Обучаем модельку на нескалированных данных"
   ]
  },
  {
   "cell_type": "code",
   "execution_count": 31,
   "id": "37cdd0e8",
   "metadata": {},
   "outputs": [],
   "source": [
    "model=CatBoostClassifier(\n",
    "    custom_loss=[metrics.Accuracy()],\n",
    "    random_seed=42,\n",
    "    logging_level='Silent'\n",
    "    )"
   ]
  },
  {
   "cell_type": "code",
   "execution_count": 32,
   "id": "e7793b3d",
   "metadata": {},
   "outputs": [
    {
     "data": {
      "application/vnd.jupyter.widget-view+json": {
       "model_id": "bdaedb8e313145c08df7f602e39d6802",
       "version_major": 2,
       "version_minor": 0
      },
      "text/plain": [
       "MetricVisualizer(layout=Layout(align_self='stretch', height='500px'))"
      ]
     },
     "metadata": {},
     "output_type": "display_data"
    },
    {
     "data": {
      "text/plain": [
       "<catboost.core.CatBoostClassifier at 0x2d14cf6e700>"
      ]
     },
     "execution_count": 32,
     "metadata": {},
     "output_type": "execute_result"
    }
   ],
   "source": [
    "model.fit(\n",
    "    X_train_dummie, y_train,\n",
    "    eval_set=(X_test_dummie, y_test),\n",
    "    plot=True)"
   ]
  },
  {
   "cell_type": "code",
   "execution_count": 34,
   "id": "2c3f2efc",
   "metadata": {},
   "outputs": [
    {
     "data": {
      "text/plain": [
       "0.8614669420504444"
      ]
     },
     "execution_count": 34,
     "metadata": {},
     "output_type": "execute_result"
    }
   ],
   "source": [
    "pred_CatBoost = model.predict_proba(X_test_dummie)[:,1]\n",
    "roc_auc_score(y_test, pred_CatBoost)"
   ]
  },
  {
   "cell_type": "markdown",
   "id": "0c55d4d7",
   "metadata": {},
   "source": [
    "##### 14. Обучаем модельку на скалированных данных"
   ]
  },
  {
   "cell_type": "code",
   "execution_count": 35,
   "id": "1d0e2f24",
   "metadata": {},
   "outputs": [
    {
     "data": {
      "application/vnd.jupyter.widget-view+json": {
       "model_id": "8115fdc89cf447e193e4318ec25e7614",
       "version_major": 2,
       "version_minor": 0
      },
      "text/plain": [
       "MetricVisualizer(layout=Layout(align_self='stretch', height='500px'))"
      ]
     },
     "metadata": {},
     "output_type": "display_data"
    },
    {
     "data": {
      "text/plain": [
       "<catboost.core.CatBoostClassifier at 0x2d14cf6e700>"
      ]
     },
     "execution_count": 35,
     "metadata": {},
     "output_type": "execute_result"
    }
   ],
   "source": [
    "model.fit(\n",
    "    X_train_dummie_scaled, y_train,\n",
    "    eval_set=(X_test_dummie_scaled, y_test),\n",
    "    plot=True)"
   ]
  },
  {
   "cell_type": "code",
   "execution_count": 36,
   "id": "7dba0c5e",
   "metadata": {},
   "outputs": [
    {
     "data": {
      "text/plain": [
       "0.8614669420504444"
      ]
     },
     "execution_count": 36,
     "metadata": {},
     "output_type": "execute_result"
    }
   ],
   "source": [
    "pred_CatBoost = model.predict_proba(X_test_dummie_scaled)[:,1]\n",
    "roc_auc_score(y_test, pred_CatBoost)"
   ]
  }
 ],
 "metadata": {
  "kernelspec": {
   "display_name": "Python 3 (ipykernel)",
   "language": "python",
   "name": "python3"
  },
  "language_info": {
   "codemirror_mode": {
    "name": "ipython",
    "version": 3
   },
   "file_extension": ".py",
   "mimetype": "text/x-python",
   "name": "python",
   "nbconvert_exporter": "python",
   "pygments_lexer": "ipython3",
   "version": "3.9.12"
  }
 },
 "nbformat": 4,
 "nbformat_minor": 5
}
