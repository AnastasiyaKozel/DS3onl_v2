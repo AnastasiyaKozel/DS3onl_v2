{
 "cells": [
  {
   "cell_type": "code",
   "execution_count": 1,
   "id": "f621a960",
   "metadata": {},
   "outputs": [
    {
     "name": "stdout",
     "output_type": "stream",
     "text": [
      "Находим кминимльное и максимальное значение функции y=26x2+25x-9 на отрезке[-5,5]\n",
      "минимальное значение:  -15.0\n",
      "максимальное значение:  794.7599999999991\n"
     ]
    }
   ],
   "source": [
    "print('Находим минимльное и максимальное значения функции y=26x2+25x-9 на отрезке[-5,5] с шагом 0.1')\n",
    "   \n",
    "x=-5\n",
    "y = 26*x**2+25*x-9\n",
    "min = y\n",
    "max = y\n",
    "\n",
    "while (x<=5):\n",
    "    x += 0.1\n",
    "    y = 26*x**2+25*x-9\n",
    "    \n",
    "    if (y<min):\n",
    "        min = y\n",
    "    if (y>max):\n",
    "        max = y\n",
    "print('минимальное значение: ',min)    \n",
    "print('максимальное значение: ',max)    \n",
    "  \n",
    "    "
   ]
  },
  {
   "cell_type": "code",
   "execution_count": 2,
   "id": "98e44ef4",
   "metadata": {},
   "outputs": [
    {
     "data": {
      "text/plain": [
       "5.099999999999997"
      ]
     },
     "execution_count": 2,
     "metadata": {},
     "output_type": "execute_result"
    }
   ],
   "source": [
    "x"
   ]
  },
  {
   "cell_type": "code",
   "execution_count": null,
   "id": "4c6157da",
   "metadata": {},
   "outputs": [],
   "source": []
  }
 ],
 "metadata": {
  "kernelspec": {
   "display_name": "Python 3 (ipykernel)",
   "language": "python",
   "name": "python3"
  },
  "language_info": {
   "codemirror_mode": {
    "name": "ipython",
    "version": 3
   },
   "file_extension": ".py",
   "mimetype": "text/x-python",
   "name": "python",
   "nbconvert_exporter": "python",
   "pygments_lexer": "ipython3",
   "version": "3.9.12"
  }
 },
 "nbformat": 4,
 "nbformat_minor": 5
}
