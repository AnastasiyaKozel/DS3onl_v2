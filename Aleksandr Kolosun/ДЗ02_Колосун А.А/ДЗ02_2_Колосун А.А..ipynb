{
 "cells": [
  {
   "cell_type": "code",
   "execution_count": 3,
   "id": "06c5f131",
   "metadata": {},
   "outputs": [
    {
     "name": "stdout",
     "output_type": "stream",
     "text": [
      "ax2+bx+c=0  Введите коэффициенты квадратного уравнения\n",
      "a=2\n",
      "b=3\n",
      "c=-4\n",
      "Уравнение имеет два корня: x1= -2.350781059358212  ; x2= 0.8507810593582121\n"
     ]
    }
   ],
   "source": [
    "print('ax2+bx+c=0  Введите коэффициенты квадратного уравнения')\n",
    "a = input('a=')\n",
    "b = input('b=')\n",
    "c = input('c=')\n",
    "try:\n",
    "    a = float(a)\n",
    "    b = float(b)\n",
    "    c = float(c)\n",
    "    D = b**2-4*a*c\n",
    "    if (D<0):\n",
    "        print('Корней нет')\n",
    "    elif (D==0):\n",
    "        x1 = -b/(2*a)\n",
    "        print('Уравнение имеет одни корень: ',x1)\n",
    "    else:\n",
    "        x1 = -(b+D**0.5)/(2*a)\n",
    "        x2 = -(b-D**0.5)/(2*a)\n",
    "        print('Уравнение имеет два корня: x1=',x1,' ; x2=',x2)\n",
    "except:\n",
    "    print('Не верно введены коэффициенты')\n",
    "        \n",
    "    \n"
   ]
  },
  {
   "cell_type": "code",
   "execution_count": 2,
   "id": "fc14b1ae",
   "metadata": {},
   "outputs": [
    {
     "data": {
      "text/plain": [
       "-23.0"
      ]
     },
     "execution_count": 2,
     "metadata": {},
     "output_type": "execute_result"
    }
   ],
   "source": [
    "D"
   ]
  }
 ],
 "metadata": {
  "kernelspec": {
   "display_name": "Python 3 (ipykernel)",
   "language": "python",
   "name": "python3"
  },
  "language_info": {
   "codemirror_mode": {
    "name": "ipython",
    "version": 3
   },
   "file_extension": ".py",
   "mimetype": "text/x-python",
   "name": "python",
   "nbconvert_exporter": "python",
   "pygments_lexer": "ipython3",
   "version": "3.9.12"
  }
 },
 "nbformat": 4,
 "nbformat_minor": 5
}
