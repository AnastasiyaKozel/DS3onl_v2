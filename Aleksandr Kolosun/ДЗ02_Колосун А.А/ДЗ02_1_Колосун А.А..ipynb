{
 "cells": [
  {
   "cell_type": "code",
   "execution_count": 31,
   "id": "e7c53ce4",
   "metadata": {},
   "outputs": [
    {
     "name": "stdout",
     "output_type": "stream",
     "text": [
      "Введите длину маршрута в км\n",
      "500\n"
     ]
    }
   ],
   "source": [
    "print('Введите длину маршрута в км')\n",
    "s = input()"
   ]
  },
  {
   "cell_type": "code",
   "execution_count": 32,
   "id": "68e22633",
   "metadata": {},
   "outputs": [
    {
     "name": "stdout",
     "output_type": "stream",
     "text": [
      "Введите расход топлива в л/100км\n",
      "9\n"
     ]
    }
   ],
   "source": [
    "print('Введите расход топлива в л/100км')\n",
    "r = input()"
   ]
  },
  {
   "cell_type": "code",
   "execution_count": 33,
   "id": "ccd3468d",
   "metadata": {},
   "outputs": [
    {
     "name": "stdout",
     "output_type": "stream",
     "text": [
      "На маршрут потребуется 45.0 л топлива\n"
     ]
    }
   ],
   "source": [
    "try:\n",
    "    s = float(s)\n",
    "    r = float(r)\n",
    "    if (s<=0):\n",
    "        print('Не правильно введена длина')\n",
    "    elif (r<=0):\n",
    "        print('Не правильно введён расход')    \n",
    "    else:\n",
    "        V = (s*r)/100\n",
    "        print('На маршрут потребуется', V, 'л топлива')\n",
    "except:\n",
    "        print('Введите число')\n"
   ]
  }
 ],
 "metadata": {
  "kernelspec": {
   "display_name": "Python 3 (ipykernel)",
   "language": "python",
   "name": "python3"
  },
  "language_info": {
   "codemirror_mode": {
    "name": "ipython",
    "version": 3
   },
   "file_extension": ".py",
   "mimetype": "text/x-python",
   "name": "python",
   "nbconvert_exporter": "python",
   "pygments_lexer": "ipython3",
   "version": "3.9.12"
  }
 },
 "nbformat": 4,
 "nbformat_minor": 5
}
