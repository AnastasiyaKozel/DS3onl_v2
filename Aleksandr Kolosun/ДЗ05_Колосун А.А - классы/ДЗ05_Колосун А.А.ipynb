{
 "cells": [
  {
   "cell_type": "code",
   "execution_count": null,
   "id": "fe1edbe2",
   "metadata": {},
   "outputs": [],
   "source": [
    "# ДЗ05_Колосун А.А.\n",
    "# Тема - классы"
   ]
  },
  {
   "cell_type": "code",
   "execution_count": 2,
   "id": "1df1b7d0",
   "metadata": {},
   "outputs": [
    {
     "data": {
      "text/plain": [
       "'ABCDEFGHIJKLMNOPQRSTUVWXYZ'"
      ]
     },
     "execution_count": 2,
     "metadata": {},
     "output_type": "execute_result"
    }
   ],
   "source": [
    "import string\n",
    "string.ascii_uppercase"
   ]
  },
  {
   "cell_type": "code",
   "execution_count": 3,
   "id": "3d93048e",
   "metadata": {},
   "outputs": [],
   "source": [
    "class Alphabet():\n",
    "    def __init__(self, lang, letters):\n",
    "        self.lang = lang\n",
    "        self.letters = letters\n",
    "            \n",
    "    def __str__(self):\n",
    "        return f\"{self.lang} - {self.letters}\"\n",
    "    \n",
    "    def print(self):\n",
    "        print(f\"В алфавите {self.lang} содержатся буквы:  {self.letters}\")\n",
    "    \n",
    "    def letters_num(self):\n",
    "        self.letters_len = len(self.letters)\n",
    "        return self.letters_len\n",
    "            "
   ]
  },
  {
   "cell_type": "code",
   "execution_count": 16,
   "id": "6186ea80",
   "metadata": {},
   "outputs": [],
   "source": [
    "class EngAlphabet(Alphabet):\n",
    "#    __letters_num = 0\n",
    "    def __init__(self, lang, letters):\n",
    "        super().__init__(lang, letters)\n",
    "        self.__letters_num = Alphabet.letters_num(self)\n",
    "        \n",
    "    def letters_num(self):\n",
    "        return self.__letters_num \n",
    "    \n",
    "    def is_en_letter(self,x):\n",
    "        if x in self.letters:\n",
    "            print(f\"{x} является буквой английского алфавита\")\n",
    "        else:\n",
    "            print(f\"{x} не является буквой английского алфавита\")\n",
    "        \n",
    "    @staticmethod \n",
    "    def example():\n",
    "        print(\"sample text in english\")"
   ]
  },
  {
   "cell_type": "code",
   "execution_count": 17,
   "id": "bdd1f5e8",
   "metadata": {},
   "outputs": [],
   "source": [
    "abc_en = string.ascii_uppercase"
   ]
  },
  {
   "cell_type": "code",
   "execution_count": 18,
   "id": "575d074b",
   "metadata": {},
   "outputs": [],
   "source": [
    "abc_ru = 'абвгдеёжзийклмнопрстуфхцчшщьыъэюя'"
   ]
  },
  {
   "cell_type": "code",
   "execution_count": 19,
   "id": "d4a4c0f9",
   "metadata": {},
   "outputs": [],
   "source": [
    "# 1. Создаём объект класса EngAlphabet\n",
    "en = EngAlphabet('En',abc_en)"
   ]
  },
  {
   "cell_type": "code",
   "execution_count": 28,
   "id": "71cb4eeb",
   "metadata": {},
   "outputs": [
    {
     "data": {
      "text/plain": [
       "'ABCDEFGHIJKLMNOPQRSTUVWXYZ'"
      ]
     },
     "execution_count": 28,
     "metadata": {},
     "output_type": "execute_result"
    }
   ],
   "source": [
    "# 2. Напечатаем буквы алфавита для этого объекта\n",
    "en.letters"
   ]
  },
  {
   "cell_type": "code",
   "execution_count": 34,
   "id": "5d22212a",
   "metadata": {},
   "outputs": [
    {
     "data": {
      "text/plain": [
       "26"
      ]
     },
     "execution_count": 34,
     "metadata": {},
     "output_type": "execute_result"
    }
   ],
   "source": [
    "# 3. Выводим количество букв в алфавите\n",
    "en.letters_num()"
   ]
  },
  {
   "cell_type": "code",
   "execution_count": 35,
   "id": "b7c31c53",
   "metadata": {},
   "outputs": [
    {
     "name": "stdout",
     "output_type": "stream",
     "text": [
      "F является буквой английского алфавита\n"
     ]
    }
   ],
   "source": [
    "# 4. Проверяем, относится ли буква F к английскому алфавиту\n",
    "en.is_en_letter('F')"
   ]
  },
  {
   "cell_type": "code",
   "execution_count": 36,
   "id": "5265df58",
   "metadata": {},
   "outputs": [
    {
     "name": "stdout",
     "output_type": "stream",
     "text": [
      "Щ не является буквой английского алфавита\n"
     ]
    }
   ],
   "source": [
    "# 5. Проверяем, относится ли буква Щ к английскому алфавиту\n",
    "en.is_en_letter('Щ')"
   ]
  },
  {
   "cell_type": "code",
   "execution_count": 38,
   "id": "b547c930",
   "metadata": {},
   "outputs": [
    {
     "name": "stdout",
     "output_type": "stream",
     "text": [
      "sample text in english\n"
     ]
    }
   ],
   "source": [
    "# 6. Выводим пример текста на английском языке\n",
    "en.example()"
   ]
  }
 ],
 "metadata": {
  "kernelspec": {
   "display_name": "Python 3 (ipykernel)",
   "language": "python",
   "name": "python3"
  },
  "language_info": {
   "codemirror_mode": {
    "name": "ipython",
    "version": 3
   },
   "file_extension": ".py",
   "mimetype": "text/x-python",
   "name": "python",
   "nbconvert_exporter": "python",
   "pygments_lexer": "ipython3",
   "version": "3.9.12"
  }
 },
 "nbformat": 4,
 "nbformat_minor": 5
}
