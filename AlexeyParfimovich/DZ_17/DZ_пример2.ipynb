{
 "cells": [
  {
   "cell_type": "markdown",
   "id": "efc584f9",
   "metadata": {},
   "source": [
    "###### Татур А.А.\n",
    "###### ДЗ_18 часть 2. Кластеризация текстов.\n",
    "###### v0.1\n",
    "###### 07.12.22\n",
    "###### Данные - https://www.kaggle.com/competitions/nlp-getting-started/data . Набор представляет собой более 11000 твитов о каких-то катастрофах. Таргетная колонка имеет два значения (0 - нереальная катастрофа, 1-реальная катастрофа). Для простоты набор взят частично (первые 3000 строк)\n",
    "###### Инструменты обработки - Векторизация -TF-IDF, Понижение размерности PCA, Embedding TSNE."
   ]
  },
  {
   "cell_type": "markdown",
   "id": "cb67f5f4",
   "metadata": {},
   "source": [
    "###### Цели\n",
    "Из текстуальных данных с использованием алгоритмов кластеризации найти похожие.\n",
    "В выводах обосновать какие метрики и алгоритмы лучше использовать для решения вышеизложенных задач."
   ]
  },
  {
   "cell_type": "markdown",
   "id": "9f43b2dd",
   "metadata": {},
   "source": [
    "\n",
    "###### Задачи\n",
    "\n",
    "1. Загрузка текста\n",
    "2. Токенизацию\n",
    "3. Очистка текста (числа, знаки препинания, символы, стоп-слова)\n",
    "4. Лемматизация\n",
    "5. Получить обработанную версию текста\n",
    "6. Выполнить кластеризацию текста различными методами.\n",
    "7. Выводы"
   ]
  },
  {
   "cell_type": "code",
   "execution_count": 19,
   "id": "2142ffd2",
   "metadata": {},
   "outputs": [],
   "source": [
    "import pandas as pd\n",
    "from sklearn.model_selection import train_test_split\n",
    "from sklearn.decomposition import PCA\n",
    "import matplotlib.pyplot as plt\n",
    "import numpy as np\n",
    "from sklearn.manifold import TSNE\n",
    "\n",
    "from sklearn.cluster import KMeans\n",
    "from sklearn.cluster import DBSCAN\n",
    "from sklearn.cluster import AgglomerativeClustering\n",
    "from sklearn.cluster import MeanShift\n",
    "\n",
    "from sklearn.metrics import silhouette_score, v_measure_score"
   ]
  },
  {
   "cell_type": "markdown",
   "id": "c8ac5d27",
   "metadata": {},
   "source": [
    "#### 01. Определяем собственные функции"
   ]
  },
  {
   "cell_type": "code",
   "execution_count": 2,
   "id": "ae2fb54f",
   "metadata": {},
   "outputs": [],
   "source": [
    "#функция для удаления эмодзи\n",
    "def remove_emoji(string):\n",
    "    import re\n",
    "    emoji_pattern = re.compile(\"[\"\n",
    "                               u\"\\U0001F600-\\U0001F64F\"  # emoticons\n",
    "                               u\"\\U0001F300-\\U0001F5FF\"  # symbols & pictographs\n",
    "                               u\"\\U0001F680-\\U0001F6FF\"  # transport & map symbols\n",
    "                               u\"\\U0001F1E0-\\U0001F1FF\"  # flags (iOS)\n",
    "                               u\"\\U00002500-\\U00002BEF\"  # chinese char\n",
    "                               u\"\\U00002702-\\U000027B0\"\n",
    "                               u\"\\U00002702-\\U000027B0\"\n",
    "                               u\"\\U000024C2-\\U0001F251\"\n",
    "                               u\"\\U0001f926-\\U0001f937\"\n",
    "                               u\"\\U00010000-\\U0010ffff\"\n",
    "                               u\"\\u2640-\\u2642\"\n",
    "                               u\"\\u2600-\\u2B55\"\n",
    "                               u\"\\u200d\"\n",
    "                               u\"\\u23cf\"\n",
    "                               u\"\\u23e9\"\n",
    "                               u\"\\u231a\"\n",
    "                               u\"\\ufe0f\"  # dingbats\n",
    "                               u\"\\u3030\"\n",
    "                               \"]+\", flags=re.UNICODE)\n",
    "    return emoji_pattern.sub(r'', string)"
   ]
  },
  {
   "cell_type": "code",
   "execution_count": 3,
   "id": "108450af",
   "metadata": {},
   "outputs": [],
   "source": [
    "#обработка текста. Удаление мусорных слов, знаков препинания, приведение к нижнему регистру.\n",
    "def text_preprocessing(text: str) ->str:\n",
    "    \n",
    "    from nltk.corpus import stopwords\n",
    "    from nltk.stem import WordNetLemmatizer\n",
    "    import string\n",
    "    import re\n",
    "\n",
    "    text=text.lower()#.replace(' \\'s','')\n",
    "    STOPWORDS  = stopwords.words('english')\n",
    "    \n",
    "      \n",
    "    #Убираем эмоджи\n",
    "    text = remove_emoji(text)\n",
    "    \n",
    "    #Убираем ссылки\n",
    "    text = re.sub(r'\\w+:\\/{2}[\\d\\w-]+(\\.[\\d\\w-]+)*(?:(?:\\/[^\\s/]*))*', '', text)\n",
    "\n",
    "    \n",
    "    #Убираем мусорные слова + лемматизация\n",
    "    no_trash = [word for word in text.split(' ') if word not in STOPWORDS]\n",
    "    no_trash = ' '.join(no_trash)\n",
    "    \n",
    "    #Вычленяем посимвольно знаки препинания и цифры\n",
    "    no_punct_nodigits = [letter for letter in no_trash if letter not in string.punctuation \n",
    "                                                  and letter not in string.digits\n",
    "                                                  and letter not in '“”']\n",
    "    no_punct_nodigits = ''.join(no_punct_nodigits)\n",
    "    \n",
    "    \n",
    "    #лемматизация\n",
    "    lemmatizer = WordNetLemmatizer()\n",
    "    one_lemma = [lemmatizer.lemmatize(word) for word in no_punct_nodigits]\n",
    "    text=''.join(one_lemma)\n",
    "    #после удаления апострофов появляются бесхозные буквы s и t\n",
    "    \n",
    "    text=text.replace(' s', '')\n",
    "    text=text.replace(' t ','')\n",
    "    \n",
    "    return text"
   ]
  },
  {
   "cell_type": "code",
   "execution_count": 4,
   "id": "a67c2fbb",
   "metadata": {},
   "outputs": [],
   "source": [
    "#Приводим все к векторному виду. на выход pd.DataFrame.\n",
    "def vectorization(pdseries: pd.Series) ->pd.DataFrame:\n",
    "    from sklearn.feature_extraction.text import TfidfVectorizer\n",
    "    \n",
    "    vectorizer = TfidfVectorizer()\n",
    "    corp_vect = vectorizer.fit_transform(pdseries)\n",
    "    \n",
    "    return pd.DataFrame (corp_vect.toarray(), columns = vectorizer.get_feature_names_out())"
   ]
  },
  {
   "cell_type": "code",
   "execution_count": 17,
   "id": "f64caa54",
   "metadata": {},
   "outputs": [],
   "source": [
    "def measure(X, y, predict, n_clusters=None):\n",
    "    '''\n",
    "        Function for clusterization model assesement. On input takes:\n",
    "        X - np.array with features\n",
    "        y - np.array with lables\n",
    "        n_clusters - number of clusters (default = None)\n",
    "    '''\n",
    "    if n_clusters:\n",
    "        print (' For {} clusters'.format(n_clusters))\n",
    "    print ('Silhouetter score is {}'.format (silhouette_score(X, predict)))\n",
    "    print ('V_score is {}'.format (v_measure_score(y, predict)))"
   ]
  },
  {
   "cell_type": "markdown",
   "id": "af2bdc2d",
   "metadata": {},
   "source": [
    "#### 02. Загружаем данные"
   ]
  },
  {
   "cell_type": "code",
   "execution_count": 5,
   "id": "68478284",
   "metadata": {},
   "outputs": [],
   "source": [
    "df=pd.read_csv ('tweets.csv').drop (['id','location','keyword'],axis=1)\n",
    "df=df.iloc[:1000]"
   ]
  },
  {
   "cell_type": "code",
   "execution_count": 6,
   "id": "8218d12d",
   "metadata": {},
   "outputs": [],
   "source": [
    "df['text_preprocessing']=df.text.apply(text_preprocessing)\n",
    "\n",
    "#### целевой параметр и свойства для обучения модельки\n",
    "X=df.drop(['target','text'], axis=1)\n",
    "y=df.target"
   ]
  },
  {
   "cell_type": "markdown",
   "id": "68c1ff4a",
   "metadata": {},
   "source": [
    "#### 03. Векторизация, понижение размерности."
   ]
  },
  {
   "cell_type": "code",
   "execution_count": 7,
   "id": "df2ffc1d",
   "metadata": {},
   "outputs": [],
   "source": [
    "#Выполняем векторизацию\n",
    "df_vectorized = vectorization(df.text_preprocessing)"
   ]
  },
  {
   "cell_type": "code",
   "execution_count": 8,
   "id": "876a6b44",
   "metadata": {},
   "outputs": [
    {
     "data": {
      "text/plain": [
       "(1000, 3847)"
      ]
     },
     "execution_count": 8,
     "metadata": {},
     "output_type": "execute_result"
    }
   ],
   "source": [
    "df_vectorized.shape"
   ]
  },
  {
   "cell_type": "code",
   "execution_count": 9,
   "id": "492ace95",
   "metadata": {},
   "outputs": [],
   "source": [
    "df_vectorized=df_vectorized.astype(np.uint8)"
   ]
  },
  {
   "cell_type": "code",
   "execution_count": 10,
   "id": "eda83934",
   "metadata": {
    "scrolled": true
   },
   "outputs": [],
   "source": [
    "#Выполняем понижение размерности c сохранением 80% информации\n",
    "model_PCA = PCA(0.8)\n",
    "new_df_PCA = model_PCA.fit_transform(df_vectorized)"
   ]
  },
  {
   "cell_type": "code",
   "execution_count": 11,
   "id": "087aea33",
   "metadata": {},
   "outputs": [
    {
     "data": {
      "image/png": "[encoded data removed]",
      "text/plain": [
       "<Figure size 640x480 with 1 Axes>"
      ]
     },
     "metadata": {},
     "output_type": "display_data"
    }
   ],
   "source": [
    "model_PCA.n_components_\n",
    "plt.plot(np.cumsum(model_PCA.explained_variance_ratio_))\n",
    "plt.xlabel('number of components')\n",
    "plt.ylabel('cumulative explained variance');"
   ]
  },
  {
   "cell_type": "code",
   "execution_count": 13,
   "id": "45167aaf",
   "metadata": {},
   "outputs": [],
   "source": [
    "new_df_PCA_TSNE = TSNE(n_components=2, init='random', learning_rate='auto').fit_transform(new_df_PCA)"
   ]
  },
  {
   "cell_type": "code",
   "execution_count": 24,
   "id": "4ed333f8",
   "metadata": {},
   "outputs": [],
   "source": [
    "new_df_TSNE = TSNE(n_components=2, init='random', learning_rate='auto').fit_transform(df_vectorized)"
   ]
  },
  {
   "cell_type": "markdown",
   "id": "57befbd1",
   "metadata": {},
   "source": [
    "### 04. Clusterization"
   ]
  },
  {
   "cell_type": "markdown",
   "id": "8d3e375f",
   "metadata": {},
   "source": [
    "#### 4.1. Кластеризация при помощи KMeans"
   ]
  },
  {
   "cell_type": "code",
   "execution_count": 20,
   "id": "f6d600b3",
   "metadata": {},
   "outputs": [],
   "source": [
    "kmeans=KMeans(n_clusters=2)"
   ]
  },
  {
   "cell_type": "markdown",
   "id": "916ac95e",
   "metadata": {},
   "source": [
    "#### 4.1.1 KMeans on initial data"
   ]
  },
  {
   "cell_type": "code",
   "execution_count": 21,
   "id": "32723459",
   "metadata": {},
   "outputs": [
    {
     "name": "stdout",
     "output_type": "stream",
     "text": [
      " For 2 clusters\n",
      "Silhouetter score is 0.9812998412002585\n",
      "V_score is 0.002314860230184979\n"
     ]
    }
   ],
   "source": [
    "k_pred_init = kmeans.fit_predict(df_vectorized)\n",
    "measure(df_vectorized,y,\n",
    "       k_pred_init,\n",
    "       n_clusters=kmeans.n_clusters)"
   ]
  },
  {
   "cell_type": "markdown",
   "id": "12cf8b44",
   "metadata": {},
   "source": [
    "#### 4.1.1 KMeans after PCA"
   ]
  },
  {
   "cell_type": "code",
   "execution_count": 22,
   "id": "f80d7952",
   "metadata": {},
   "outputs": [
    {
     "name": "stdout",
     "output_type": "stream",
     "text": [
      " For 2 clusters\n",
      "Silhouetter score is 0.9828052965745975\n",
      "V_score is 0.002314860230184979\n"
     ]
    }
   ],
   "source": [
    "k_pred_PCA = kmeans.fit_predict(new_df_PCA)\n",
    "measure(new_df_PCA,y,\n",
    "       k_pred_PCA,\n",
    "       n_clusters=kmeans.n_clusters)"
   ]
  },
  {
   "cell_type": "markdown",
   "id": "23371819",
   "metadata": {},
   "source": [
    "#### 4.1.1 KMeans after TSNE"
   ]
  },
  {
   "cell_type": "code",
   "execution_count": 25,
   "id": "dc1c33e9",
   "metadata": {},
   "outputs": [
    {
     "name": "stdout",
     "output_type": "stream",
     "text": [
      " For 2 clusters\n",
      "Silhouetter score is 0.948013186454773\n",
      "V_score is 0.004846952479969998\n"
     ]
    }
   ],
   "source": [
    "k_pred_TSNE = kmeans.fit_predict(new_df_TSNE)\n",
    "measure(new_df_TSNE,y,\n",
    "       k_pred_TSNE,\n",
    "       n_clusters=kmeans.n_clusters)"
   ]
  },
  {
   "cell_type": "markdown",
   "id": "b3ba6f7a",
   "metadata": {},
   "source": [
    "#### 4.1.1 KMeans after PCA_TSNE"
   ]
  },
  {
   "cell_type": "code",
   "execution_count": 26,
   "id": "6a59e5ab",
   "metadata": {},
   "outputs": [
    {
     "name": "stdout",
     "output_type": "stream",
     "text": [
      " For 2 clusters\n",
      "Silhouetter score is 0.40477100014686584\n",
      "V_score is 0.0286570424980365\n"
     ]
    }
   ],
   "source": [
    "k_pred_PCA_TSNE = kmeans.fit_predict(new_df_PCA_TSNE)\n",
    "measure(new_df_PCA_TSNE,y,\n",
    "       k_pred_PCA_TSNE,\n",
    "       n_clusters=kmeans.n_clusters)"
   ]
  },
  {
   "cell_type": "markdown",
   "id": "5ddcb61d",
   "metadata": {},
   "source": [
    "#### 4.2. Кластеризация при помощи AgglomerativeClustering"
   ]
  },
  {
   "cell_type": "code",
   "execution_count": 28,
   "id": "509d4093",
   "metadata": {},
   "outputs": [],
   "source": [
    "aggl = AgglomerativeClustering(n_clusters=3)"
   ]
  },
  {
   "cell_type": "markdown",
   "id": "7e5d504e",
   "metadata": {},
   "source": [
    "#### 4.2.1 AgglomerativeClustering on initial data"
   ]
  },
  {
   "cell_type": "code",
   "execution_count": 29,
   "id": "1bd52395",
   "metadata": {},
   "outputs": [
    {
     "name": "stdout",
     "output_type": "stream",
     "text": [
      " For 3 clusters\n",
      "Silhouetter score is 0.9819928273792059\n",
      "V_score is 0.0034312980601611805\n"
     ]
    }
   ],
   "source": [
    "aggl_pred_init = aggl.fit_predict(df_vectorized)\n",
    "measure(df_vectorized,y,\n",
    "       aggl_pred_init,\n",
    "       n_clusters=aggl.n_clusters)"
   ]
  },
  {
   "cell_type": "markdown",
   "id": "76bc9911",
   "metadata": {},
   "source": [
    "#### 4.2.2 AgglomerativeClustering on data after PCA"
   ]
  },
  {
   "cell_type": "code",
   "execution_count": 30,
   "id": "3135a038",
   "metadata": {},
   "outputs": [
    {
     "name": "stdout",
     "output_type": "stream",
     "text": [
      " For 3 clusters\n",
      "Silhouetter score is 0.98297690165017\n",
      "V_score is 0.006009494267430447\n"
     ]
    }
   ],
   "source": [
    "aggl_pred_PCA = aggl.fit_predict(new_df_PCA)\n",
    "measure(new_df_PCA,y,\n",
    "       aggl_pred_PCA,\n",
    "       n_clusters=aggl.n_clusters)"
   ]
  },
  {
   "cell_type": "markdown",
   "id": "3957d694",
   "metadata": {},
   "source": [
    "#### 4.2.3 AgglomerativeClustering on data after TSNE"
   ]
  },
  {
   "cell_type": "code",
   "execution_count": 31,
   "id": "cd5d71c2",
   "metadata": {},
   "outputs": [
    {
     "name": "stdout",
     "output_type": "stream",
     "text": [
      " For 3 clusters\n",
      "Silhouetter score is 0.9834740161895752\n",
      "V_score is 0.007263410500069263\n"
     ]
    }
   ],
   "source": [
    "aggl_pred_TSNE = aggl.fit_predict(new_df_TSNE)\n",
    "measure(new_df_TSNE,y,\n",
    "       aggl_pred_TSNE,\n",
    "       n_clusters=aggl.n_clusters)"
   ]
  },
  {
   "cell_type": "markdown",
   "id": "93475bfd",
   "metadata": {},
   "source": [
    "#### 4.2.5 AgglomerativeClustering on data after TSNE+PCA"
   ]
  },
  {
   "cell_type": "code",
   "execution_count": 32,
   "id": "2b77b4cb",
   "metadata": {},
   "outputs": [
    {
     "name": "stdout",
     "output_type": "stream",
     "text": [
      " For 3 clusters\n",
      "Silhouetter score is 0.4248792231082916\n",
      "V_score is 0.017351638513299798\n"
     ]
    }
   ],
   "source": [
    "aggl_pred_PCA_TSNE = aggl.fit_predict(new_df_PCA_TSNE)\n",
    "measure(new_df_PCA_TSNE,y,\n",
    "       aggl_pred_PCA_TSNE,\n",
    "       n_clusters=aggl.n_clusters)"
   ]
  },
  {
   "cell_type": "markdown",
   "id": "622f2d2f",
   "metadata": {},
   "source": [
    "##### Вывод:\n",
    "\n",
    "Методы кластеризации показывают крайне низкий вариант предсказательной способности на продемонстрированном наборе текстов. Что вероятно может быть связано с плохой очисткой, а также неверным выбором feature extraction методов. В данной работе применен TfIDF, который учитывает лишь сам факт наличия слова в предложении, но ничего не может сказать о контексте в котором оно употреблено."
   ]
  }
 ],
 "metadata": {
  "kernelspec": {
   "display_name": "Python 3 (ipykernel)",
   "language": "python",
   "name": "python3"
  },
  "language_info": {
   "codemirror_mode": {
    "name": "ipython",
    "version": 3
   },
   "file_extension": ".py",
   "mimetype": "text/x-python",
   "name": "python",
   "nbconvert_exporter": "python",
   "pygments_lexer": "ipython3",
   "version": "3.9.13"
  }
 },
 "nbformat": 4,
 "nbformat_minor": 5
}