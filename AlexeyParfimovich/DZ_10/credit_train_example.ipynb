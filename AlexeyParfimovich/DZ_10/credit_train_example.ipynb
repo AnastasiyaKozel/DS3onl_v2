{
 "cells": [
  {
   "cell_type": "markdown",
   "metadata": {},
   "source": [
    "# <center>Домашнее задание </center>"
   ]
  },
  {
   "cell_type": "markdown",
   "metadata": {},
   "source": [
    "#### Текст домашнего задания\n",
    "<div class=\"alert alert-block alert-info\">\n",
    "Подготовить данные для модели:\n",
    "    \n",
    "1. Анализ данных, необходимые корректировки. \n",
    "2. Обработать пропуски. \n",
    "3. Оценить выбросы. \n",
    "4. Корреляция. \n",
    "5. Тест на нормальность распределения.\n",
    "6. Масштабировать и стандартизировать данные.\n",
    "</div>"
   ]
  },
  {
   "cell_type": "code",
   "execution_count": 1,
   "metadata": {},
   "outputs": [],
   "source": [
    "import numpy as np\n",
    "import pandas as pd\n",
    "import pandas_profiling\n",
    "\n",
    "pd.set_option('display.notebook_repr_html', True)\n",
    "pd.set_option('display.max_columns', 100)\n",
    "pd.set_option('display.max_rows', 320)\n",
    "pd.set_option('display.width', 80)\n",
    "\n",
    "import re\n",
    "\n",
    "from sklearn.model_selection import train_test_split\n",
    "\n",
    "from sklearn.compose import ColumnTransformer\n",
    "from sklearn.preprocessing import QuantileTransformer\n",
    "from sklearn.pipeline import Pipeline\n",
    "\n",
    "from sklearn.ensemble import RandomForestClassifier\n",
    "from sklearn.metrics import roc_auc_score\n",
    "\n",
    "from scipy import stats\n",
    "from scipy.stats import normaltest, norm\n",
    "\n",
    "# Позволяет выводить несколько результатов \n",
    "# из одной ячейки кода без print\n",
    "from IPython.core.interactiveshell import InteractiveShell \n",
    "InteractiveShell.ast_node_interactivity = \"all\"\n",
    "\n",
    "import seaborn as sns\n",
    "import matplotlib.pyplot as plt\n",
    "%matplotlib inline\n",
    "\n",
    "#%config InlineBackend.figure_format = 'svg'"
   ]
  },
  {
   "cell_type": "markdown",
   "metadata": {},
   "source": [
    "## Выполнение задания"
   ]
  },
  {
   "cell_type": "markdown",
   "metadata": {},
   "source": [
    "### Загрузка и анализ данных <a id=\"1\"></a>"
   ]
  },
  {
   "cell_type": "code",
   "execution_count": 2,
   "metadata": {},
   "outputs": [
    {
     "data": {
      "text/html": [
       "<div>\n",
       "<style scoped>\n",
       "    .dataframe tbody tr th:only-of-type {\n",
       "        vertical-align: middle;\n",
       "    }\n",
       "\n",
       "    .dataframe tbody tr th {\n",
       "        vertical-align: top;\n",
       "    }\n",
       "\n",
       "    .dataframe thead th {\n",
       "        text-align: right;\n",
       "    }\n",
       "</style>\n",
       "<table border=\"1\" class=\"dataframe\">\n",
       "  <thead>\n",
       "    <tr style=\"text-align: right;\">\n",
       "      <th></th>\n",
       "      <th>client_id</th>\n",
       "      <th>gender</th>\n",
       "      <th>age</th>\n",
       "      <th>marital_status</th>\n",
       "      <th>job_position</th>\n",
       "      <th>credit_sum</th>\n",
       "      <th>credit_month</th>\n",
       "      <th>tariff_id</th>\n",
       "      <th>score_shk</th>\n",
       "      <th>education</th>\n",
       "      <th>living_region</th>\n",
       "      <th>monthly_income</th>\n",
       "      <th>credit_count</th>\n",
       "      <th>overdue_credit_count</th>\n",
       "      <th>open_account_flg</th>\n",
       "    </tr>\n",
       "  </thead>\n",
       "  <tbody>\n",
       "    <tr>\n",
       "      <th>0</th>\n",
       "      <td>1</td>\n",
       "      <td>M</td>\n",
       "      <td>NaN</td>\n",
       "      <td>NaN</td>\n",
       "      <td>UMN</td>\n",
       "      <td>59998,00</td>\n",
       "      <td>10</td>\n",
       "      <td>1.6</td>\n",
       "      <td>NaN</td>\n",
       "      <td>GRD</td>\n",
       "      <td>КРАСНОДАРСКИЙ КРАЙ</td>\n",
       "      <td>30000.0</td>\n",
       "      <td>1</td>\n",
       "      <td>1</td>\n",
       "      <td>0</td>\n",
       "    </tr>\n",
       "    <tr>\n",
       "      <th>1</th>\n",
       "      <td>2</td>\n",
       "      <td>F</td>\n",
       "      <td>NaN</td>\n",
       "      <td>MAR</td>\n",
       "      <td>UMN</td>\n",
       "      <td>10889,00</td>\n",
       "      <td>6</td>\n",
       "      <td>1.1</td>\n",
       "      <td>NaN</td>\n",
       "      <td>NaN</td>\n",
       "      <td>МОСКВА</td>\n",
       "      <td>NaN</td>\n",
       "      <td>2</td>\n",
       "      <td>0</td>\n",
       "      <td>0</td>\n",
       "    </tr>\n",
       "    <tr>\n",
       "      <th>2</th>\n",
       "      <td>3</td>\n",
       "      <td>M</td>\n",
       "      <td>32.0</td>\n",
       "      <td>MAR</td>\n",
       "      <td>SPC</td>\n",
       "      <td>10728,00</td>\n",
       "      <td>12</td>\n",
       "      <td>1.1</td>\n",
       "      <td>NaN</td>\n",
       "      <td>NaN</td>\n",
       "      <td>ОБЛ САРАТОВСКАЯ</td>\n",
       "      <td>NaN</td>\n",
       "      <td>5</td>\n",
       "      <td>0</td>\n",
       "      <td>0</td>\n",
       "    </tr>\n",
       "  </tbody>\n",
       "</table>\n",
       "</div>"
      ],
      "text/plain": [
       "   client_id gender   age marital_status job_position credit_sum  \\\n",
       "0          1      M   NaN            NaN          UMN   59998,00   \n",
       "1          2      F   NaN            MAR          UMN   10889,00   \n",
       "2          3      M  32.0            MAR          SPC   10728,00   \n",
       "\n",
       "   credit_month  tariff_id  score_shk education       living_region  \\\n",
       "0            10        1.6        NaN       GRD  КРАСНОДАРСКИЙ КРАЙ   \n",
       "1             6        1.1        NaN       NaN              МОСКВА   \n",
       "2            12        1.1        NaN       NaN     ОБЛ САРАТОВСКАЯ   \n",
       "\n",
       "   monthly_income  credit_count  overdue_credit_count  open_account_flg  \n",
       "0         30000.0             1                     1                 0  \n",
       "1             NaN             2                     0                 0  \n",
       "2             NaN             5                     0                 0  "
      ]
     },
     "execution_count": 2,
     "metadata": {},
     "output_type": "execute_result"
    }
   ],
   "source": [
    "# Загружаем часть данных для предварительного просмотра. \n",
    "# Кодировка выбрана здесь: \n",
    "# https://docs.python.org/3/library/codecs.html#standard-encodings,\n",
    "# для кириллицы \"cp1251\"\n",
    "\n",
    "raw_df = pd.read_csv('credit_train.csv', sep=';', encoding=\"cp1251\", \n",
    "                     nrows=3)\n",
    "raw_df"
   ]
  },
  {
   "cell_type": "code",
   "execution_count": 3,
   "metadata": {},
   "outputs": [
    {
     "name": "stdout",
     "output_type": "stream",
     "text": [
      "['client_id', 'gender', 'age', 'marital_status', 'job_position', 'credit_sum', 'credit_month', 'tariff_id', 'score_shk', 'education', 'living_region', 'monthly_income', 'credit_count', 'overdue_credit_count', 'open_account_flg']\n"
     ]
    }
   ],
   "source": [
    "# Извлечение списка столбцов\n",
    "col_list = raw_df.columns.tolist()\n",
    "print(col_list)"
   ]
  },
  {
   "cell_type": "code",
   "execution_count": 4,
   "metadata": {},
   "outputs": [],
   "source": [
    "# Переменная 'client_id' не нужна\n",
    "my_cols = col_list[1:]"
   ]
  },
  {
   "cell_type": "code",
   "execution_count": 5,
   "metadata": {},
   "outputs": [
    {
     "name": "stdout",
     "output_type": "stream",
     "text": [
      "<class 'pandas.core.frame.DataFrame'>\n",
      "RangeIndex: 3 entries, 0 to 2\n",
      "Data columns (total 15 columns):\n",
      " #   Column                Non-Null Count  Dtype  \n",
      "---  ------                --------------  -----  \n",
      " 0   client_id             3 non-null      int64  \n",
      " 1   gender                3 non-null      object \n",
      " 2   age                   1 non-null      float64\n",
      " 3   marital_status        2 non-null      object \n",
      " 4   job_position          3 non-null      object \n",
      " 5   credit_sum            3 non-null      object \n",
      " 6   credit_month          3 non-null      int64  \n",
      " 7   tariff_id             3 non-null      float64\n",
      " 8   score_shk             0 non-null      float64\n",
      " 9   education             1 non-null      object \n",
      " 10  living_region         3 non-null      object \n",
      " 11  monthly_income        1 non-null      float64\n",
      " 12  credit_count          3 non-null      int64  \n",
      " 13  overdue_credit_count  3 non-null      int64  \n",
      " 14  open_account_flg      3 non-null      int64  \n",
      "dtypes: float64(4), int64(5), object(6)\n",
      "memory usage: 488.0+ bytes\n"
     ]
    }
   ],
   "source": [
    "raw_df.info()"
   ]
  },
  {
   "cell_type": "code",
   "execution_count": 6,
   "metadata": {},
   "outputs": [],
   "source": [
    "my_dtype={\"gender\": object, \"age\": float, \"marital_status\": object,\n",
    "          \"job_position\": object, \"credit_sum\": float,\n",
    "          \"credit_month\": object, \"tariff_id\": object, \n",
    "          \"score_shk\": float, \"education\": object, \"living_region\": object, \n",
    "          \"monthly_income\": float, \"open_account_flg\": object}"
   ]
  },
  {
   "cell_type": "markdown",
   "metadata": {},
   "source": [
    "Загружаем все данные с необходимыми столбцами. В переменных `credit_sum` и `score_shk` в качестве десятичного разделителя используется запятая, добавим аргумент `decimal = \",\"`. "
   ]
  },
  {
   "cell_type": "code",
   "execution_count": 7,
   "metadata": {},
   "outputs": [],
   "source": [
    "df_beta = pd.read_csv('credit_train.csv', usecols = my_cols, dtype = my_dtype,\n",
    "                      sep=';', encoding=\"cp1251\", decimal = \",\")"
   ]
  },
  {
   "cell_type": "code",
   "execution_count": 8,
   "metadata": {},
   "outputs": [
    {
     "name": "stdout",
     "output_type": "stream",
     "text": [
      "<class 'pandas.core.frame.DataFrame'>\n",
      "RangeIndex: 170746 entries, 0 to 170745\n",
      "Data columns (total 14 columns):\n",
      " #   Column                Non-Null Count   Dtype  \n",
      "---  ------                --------------   -----  \n",
      " 0   gender                170746 non-null  object \n",
      " 1   age                   170743 non-null  float64\n",
      " 2   marital_status        170743 non-null  object \n",
      " 3   job_position          170746 non-null  object \n",
      " 4   credit_sum            170744 non-null  float64\n",
      " 5   credit_month          170746 non-null  object \n",
      " 6   tariff_id             170746 non-null  object \n",
      " 7   score_shk             170739 non-null  float64\n",
      " 8   education             170741 non-null  object \n",
      " 9   living_region         170554 non-null  object \n",
      " 10  monthly_income        170741 non-null  float64\n",
      " 11  credit_count          161516 non-null  float64\n",
      " 12  overdue_credit_count  161516 non-null  float64\n",
      " 13  open_account_flg      170746 non-null  object \n",
      "dtypes: float64(6), object(8)\n",
      "memory usage: 18.2+ MB\n"
     ]
    }
   ],
   "source": [
    "df_beta.info()"
   ]
  },
  {
   "cell_type": "markdown",
   "metadata": {},
   "source": [
    "С использованием библиотеки __[Pandas Profiling](https://github.com/pandas-profiling/pandas-profiling)__ можно быстро сделать развернутый анализ данных."
   ]
  },
  {
   "cell_type": "markdown",
   "metadata": {},
   "source": [
    "<div class=\"alert alert-block alert-danger\">\n",
    "Время выполнения следующей ячейки кода зависит от конфигурации компьютера, у меня ориентировочно <b>42 сек</b> (проц. Intel Core i7-9700K). Можно не запускать эту ячейку, далее информация о получении данных будет дополнена выводом из стандартных методов <b>info</b> и <b>describe</b>.\n",
    "</div>"
   ]
  },
  {
   "cell_type": "code",
   "execution_count": 9,
   "metadata": {},
   "outputs": [],
   "source": [
    "#%%time\n",
    "#pandas_profiling.ProfileReport(df_beta)"
   ]
  },
  {
   "cell_type": "code",
   "execution_count": 10,
   "metadata": {},
   "outputs": [
    {
     "data": {
      "text/html": [
       "<div>\n",
       "<style scoped>\n",
       "    .dataframe tbody tr th:only-of-type {\n",
       "        vertical-align: middle;\n",
       "    }\n",
       "\n",
       "    .dataframe tbody tr th {\n",
       "        vertical-align: top;\n",
       "    }\n",
       "\n",
       "    .dataframe thead th {\n",
       "        text-align: right;\n",
       "    }\n",
       "</style>\n",
       "<table border=\"1\" class=\"dataframe\">\n",
       "  <thead>\n",
       "    <tr style=\"text-align: right;\">\n",
       "      <th></th>\n",
       "      <th>gender</th>\n",
       "      <th>age</th>\n",
       "      <th>marital_status</th>\n",
       "      <th>job_position</th>\n",
       "      <th>credit_sum</th>\n",
       "      <th>credit_month</th>\n",
       "      <th>tariff_id</th>\n",
       "      <th>score_shk</th>\n",
       "      <th>education</th>\n",
       "      <th>living_region</th>\n",
       "      <th>monthly_income</th>\n",
       "      <th>credit_count</th>\n",
       "      <th>overdue_credit_count</th>\n",
       "      <th>open_account_flg</th>\n",
       "    </tr>\n",
       "  </thead>\n",
       "  <tbody>\n",
       "    <tr>\n",
       "      <th>0</th>\n",
       "      <td>M</td>\n",
       "      <td>NaN</td>\n",
       "      <td>NaN</td>\n",
       "      <td>UMN</td>\n",
       "      <td>59998.00</td>\n",
       "      <td>10</td>\n",
       "      <td>1.6</td>\n",
       "      <td>NaN</td>\n",
       "      <td>GRD</td>\n",
       "      <td>КРАСНОДАРСКИЙ КРАЙ</td>\n",
       "      <td>30000.0</td>\n",
       "      <td>1.0</td>\n",
       "      <td>1.0</td>\n",
       "      <td>0</td>\n",
       "    </tr>\n",
       "    <tr>\n",
       "      <th>1</th>\n",
       "      <td>F</td>\n",
       "      <td>NaN</td>\n",
       "      <td>MAR</td>\n",
       "      <td>UMN</td>\n",
       "      <td>10889.00</td>\n",
       "      <td>6</td>\n",
       "      <td>1.1</td>\n",
       "      <td>NaN</td>\n",
       "      <td>NaN</td>\n",
       "      <td>МОСКВА</td>\n",
       "      <td>NaN</td>\n",
       "      <td>2.0</td>\n",
       "      <td>0.0</td>\n",
       "      <td>0</td>\n",
       "    </tr>\n",
       "    <tr>\n",
       "      <th>2</th>\n",
       "      <td>M</td>\n",
       "      <td>32.0</td>\n",
       "      <td>MAR</td>\n",
       "      <td>SPC</td>\n",
       "      <td>10728.00</td>\n",
       "      <td>12</td>\n",
       "      <td>1.1</td>\n",
       "      <td>NaN</td>\n",
       "      <td>NaN</td>\n",
       "      <td>ОБЛ САРАТОВСКАЯ</td>\n",
       "      <td>NaN</td>\n",
       "      <td>5.0</td>\n",
       "      <td>0.0</td>\n",
       "      <td>0</td>\n",
       "    </tr>\n",
       "    <tr>\n",
       "      <th>3</th>\n",
       "      <td>F</td>\n",
       "      <td>27.0</td>\n",
       "      <td>NaN</td>\n",
       "      <td>SPC</td>\n",
       "      <td>12009.09</td>\n",
       "      <td>12</td>\n",
       "      <td>1.1</td>\n",
       "      <td>NaN</td>\n",
       "      <td>NaN</td>\n",
       "      <td>ОБЛ ВОЛГОГРАДСКАЯ</td>\n",
       "      <td>NaN</td>\n",
       "      <td>2.0</td>\n",
       "      <td>0.0</td>\n",
       "      <td>0</td>\n",
       "    </tr>\n",
       "    <tr>\n",
       "      <th>4</th>\n",
       "      <td>M</td>\n",
       "      <td>45.0</td>\n",
       "      <td>NaN</td>\n",
       "      <td>SPC</td>\n",
       "      <td>NaN</td>\n",
       "      <td>10</td>\n",
       "      <td>1.1</td>\n",
       "      <td>0.421385</td>\n",
       "      <td>SCH</td>\n",
       "      <td>ЧЕЛЯБИНСКАЯ ОБЛАСТЬ</td>\n",
       "      <td>NaN</td>\n",
       "      <td>1.0</td>\n",
       "      <td>0.0</td>\n",
       "      <td>0</td>\n",
       "    </tr>\n",
       "  </tbody>\n",
       "</table>\n",
       "</div>"
      ],
      "text/plain": [
       "  gender   age marital_status job_position  credit_sum credit_month tariff_id  \\\n",
       "0      M   NaN            NaN          UMN    59998.00           10       1.6   \n",
       "1      F   NaN            MAR          UMN    10889.00            6       1.1   \n",
       "2      M  32.0            MAR          SPC    10728.00           12       1.1   \n",
       "3      F  27.0            NaN          SPC    12009.09           12       1.1   \n",
       "4      M  45.0            NaN          SPC         NaN           10       1.1   \n",
       "\n",
       "   score_shk education        living_region  monthly_income  credit_count  \\\n",
       "0        NaN       GRD   КРАСНОДАРСКИЙ КРАЙ         30000.0           1.0   \n",
       "1        NaN       NaN               МОСКВА             NaN           2.0   \n",
       "2        NaN       NaN      ОБЛ САРАТОВСКАЯ             NaN           5.0   \n",
       "3        NaN       NaN    ОБЛ ВОЛГОГРАДСКАЯ             NaN           2.0   \n",
       "4   0.421385       SCH  ЧЕЛЯБИНСКАЯ ОБЛАСТЬ             NaN           1.0   \n",
       "\n",
       "   overdue_credit_count open_account_flg  \n",
       "0                   1.0                0  \n",
       "1                   0.0                0  \n",
       "2                   0.0                0  \n",
       "3                   0.0                0  \n",
       "4                   0.0                0  "
      ]
     },
     "execution_count": 10,
     "metadata": {},
     "output_type": "execute_result"
    }
   ],
   "source": [
    "df_beta.head()"
   ]
  },
  {
   "cell_type": "code",
   "execution_count": 11,
   "metadata": {},
   "outputs": [
    {
     "name": "stdout",
     "output_type": "stream",
     "text": [
      "<class 'pandas.core.frame.DataFrame'>\n",
      "RangeIndex: 170746 entries, 0 to 170745\n",
      "Data columns (total 14 columns):\n",
      " #   Column                Non-Null Count   Dtype  \n",
      "---  ------                --------------   -----  \n",
      " 0   gender                170746 non-null  object \n",
      " 1   age                   170743 non-null  float64\n",
      " 2   marital_status        170743 non-null  object \n",
      " 3   job_position          170746 non-null  object \n",
      " 4   credit_sum            170744 non-null  float64\n",
      " 5   credit_month          170746 non-null  object \n",
      " 6   tariff_id             170746 non-null  object \n",
      " 7   score_shk             170739 non-null  float64\n",
      " 8   education             170741 non-null  object \n",
      " 9   living_region         170554 non-null  object \n",
      " 10  monthly_income        170741 non-null  float64\n",
      " 11  credit_count          161516 non-null  float64\n",
      " 12  overdue_credit_count  161516 non-null  float64\n",
      " 13  open_account_flg      170746 non-null  object \n",
      "dtypes: float64(6), object(8)\n",
      "memory usage: 18.2+ MB\n"
     ]
    }
   ],
   "source": [
    "df_beta.info()"
   ]
  },
  {
   "cell_type": "markdown",
   "metadata": {},
   "source": [
    "Предварительный анализ от `Pandas Profiling` показывает, что датасет содержит 1145 дублирующихся строк. \n",
    "Дубликаты строк на основе всех столбцов также можно найти с помощью метода `duplicated`."
   ]
  },
  {
   "cell_type": "code",
   "execution_count": 12,
   "metadata": {},
   "outputs": [
    {
     "data": {
      "text/plain": [
       "(1145, 14)"
      ]
     },
     "execution_count": 12,
     "metadata": {},
     "output_type": "execute_result"
    }
   ],
   "source": [
    "df_duplicateRows = df_beta[df_beta.duplicated()]\n",
    "df_duplicateRows.shape"
   ]
  },
  {
   "cell_type": "markdown",
   "metadata": {},
   "source": [
    " Удалим дубликаты, сохранив только первый вариант из строк-дублей (`keep='first'`)."
   ]
  },
  {
   "cell_type": "code",
   "execution_count": 13,
   "metadata": {},
   "outputs": [
    {
     "data": {
      "text/plain": [
       "(169601, 15)"
      ]
     },
     "execution_count": 13,
     "metadata": {},
     "output_type": "execute_result"
    }
   ],
   "source": [
    "df_beta[\"is_duplicate\"] = df_beta.duplicated(keep='first')\n",
    "df = df_beta[df_beta[\"is_duplicate\"]==False]\n",
    "df = df.drop([\"is_duplicate\"], axis=1).reset_index()\n",
    "df.shape"
   ]
  },
  {
   "cell_type": "markdown",
   "metadata": {},
   "source": [
    "В соответствии с информацией от `Pandas Profiling` значения зависимой переменной распределяются следующим образом:\n",
    "* Количество значений \"0\" - 140690, т.е., 82.4% от всех наблюдений;\n",
    "* Количество значений \"1\" - 30056, т.е., 17.6% от всех наблюдений."
   ]
  },
  {
   "cell_type": "code",
   "execution_count": 14,
   "metadata": {},
   "outputs": [
    {
     "data": {
      "text/plain": [
       "0    139545\n",
       "1     30056\n",
       "Name: open_account_flg, dtype: int64"
      ]
     },
     "execution_count": 14,
     "metadata": {},
     "output_type": "execute_result"
    }
   ],
   "source": [
    "# Распределение классов после удаления дублей\n",
    "df.open_account_flg.value_counts()"
   ]
  },
  {
   "cell_type": "markdown",
   "metadata": {},
   "source": [
    "В датасете несбалансированное распределение классов."
   ]
  },
  {
   "cell_type": "markdown",
   "metadata": {},
   "source": [
    "### Анализ и обработка пропущенных данных."
   ]
  },
  {
   "cell_type": "code",
   "execution_count": 15,
   "metadata": {},
   "outputs": [
    {
     "data": {
      "text/plain": [
       "index                      0\n",
       "gender                     0\n",
       "age                        3\n",
       "marital_status             3\n",
       "job_position               0\n",
       "credit_sum                 2\n",
       "credit_month               0\n",
       "tariff_id                  0\n",
       "score_shk                  7\n",
       "education                  5\n",
       "living_region            189\n",
       "monthly_income             5\n",
       "credit_count            9190\n",
       "overdue_credit_count    9190\n",
       "open_account_flg           0\n",
       "dtype: int64"
      ]
     },
     "execution_count": 15,
     "metadata": {},
     "output_type": "execute_result"
    }
   ],
   "source": [
    "df.isnull().sum()"
   ]
  },
  {
   "cell_type": "code",
   "execution_count": 16,
   "metadata": {},
   "outputs": [
    {
     "data": {
      "text/html": [
       "<div>\n",
       "<style scoped>\n",
       "    .dataframe tbody tr th:only-of-type {\n",
       "        vertical-align: middle;\n",
       "    }\n",
       "\n",
       "    .dataframe tbody tr th {\n",
       "        vertical-align: top;\n",
       "    }\n",
       "\n",
       "    .dataframe thead th {\n",
       "        text-align: right;\n",
       "    }\n",
       "</style>\n",
       "<table border=\"1\" class=\"dataframe\">\n",
       "  <thead>\n",
       "    <tr style=\"text-align: right;\">\n",
       "      <th></th>\n",
       "      <th>index</th>\n",
       "      <th>gender</th>\n",
       "      <th>age</th>\n",
       "      <th>marital_status</th>\n",
       "      <th>job_position</th>\n",
       "      <th>credit_sum</th>\n",
       "      <th>credit_month</th>\n",
       "      <th>tariff_id</th>\n",
       "      <th>score_shk</th>\n",
       "      <th>education</th>\n",
       "      <th>living_region</th>\n",
       "      <th>monthly_income</th>\n",
       "      <th>credit_count</th>\n",
       "      <th>overdue_credit_count</th>\n",
       "      <th>open_account_flg</th>\n",
       "    </tr>\n",
       "  </thead>\n",
       "  <tbody>\n",
       "    <tr>\n",
       "      <th>0</th>\n",
       "      <td>0</td>\n",
       "      <td>M</td>\n",
       "      <td>NaN</td>\n",
       "      <td>NaN</td>\n",
       "      <td>UMN</td>\n",
       "      <td>59998.00</td>\n",
       "      <td>10</td>\n",
       "      <td>1.6</td>\n",
       "      <td>NaN</td>\n",
       "      <td>GRD</td>\n",
       "      <td>КРАСНОДАРСКИЙ КРАЙ</td>\n",
       "      <td>30000.0</td>\n",
       "      <td>1.0</td>\n",
       "      <td>1.0</td>\n",
       "      <td>0</td>\n",
       "    </tr>\n",
       "    <tr>\n",
       "      <th>1</th>\n",
       "      <td>1</td>\n",
       "      <td>F</td>\n",
       "      <td>NaN</td>\n",
       "      <td>MAR</td>\n",
       "      <td>UMN</td>\n",
       "      <td>10889.00</td>\n",
       "      <td>6</td>\n",
       "      <td>1.1</td>\n",
       "      <td>NaN</td>\n",
       "      <td>NaN</td>\n",
       "      <td>МОСКВА</td>\n",
       "      <td>NaN</td>\n",
       "      <td>2.0</td>\n",
       "      <td>0.0</td>\n",
       "      <td>0</td>\n",
       "    </tr>\n",
       "    <tr>\n",
       "      <th>2</th>\n",
       "      <td>2</td>\n",
       "      <td>M</td>\n",
       "      <td>32.0</td>\n",
       "      <td>MAR</td>\n",
       "      <td>SPC</td>\n",
       "      <td>10728.00</td>\n",
       "      <td>12</td>\n",
       "      <td>1.1</td>\n",
       "      <td>NaN</td>\n",
       "      <td>NaN</td>\n",
       "      <td>ОБЛ САРАТОВСКАЯ</td>\n",
       "      <td>NaN</td>\n",
       "      <td>5.0</td>\n",
       "      <td>0.0</td>\n",
       "      <td>0</td>\n",
       "    </tr>\n",
       "    <tr>\n",
       "      <th>3</th>\n",
       "      <td>3</td>\n",
       "      <td>F</td>\n",
       "      <td>27.0</td>\n",
       "      <td>NaN</td>\n",
       "      <td>SPC</td>\n",
       "      <td>12009.09</td>\n",
       "      <td>12</td>\n",
       "      <td>1.1</td>\n",
       "      <td>NaN</td>\n",
       "      <td>NaN</td>\n",
       "      <td>ОБЛ ВОЛГОГРАДСКАЯ</td>\n",
       "      <td>NaN</td>\n",
       "      <td>2.0</td>\n",
       "      <td>0.0</td>\n",
       "      <td>0</td>\n",
       "    </tr>\n",
       "    <tr>\n",
       "      <th>4</th>\n",
       "      <td>4</td>\n",
       "      <td>M</td>\n",
       "      <td>45.0</td>\n",
       "      <td>NaN</td>\n",
       "      <td>SPC</td>\n",
       "      <td>NaN</td>\n",
       "      <td>10</td>\n",
       "      <td>1.1</td>\n",
       "      <td>0.421385</td>\n",
       "      <td>SCH</td>\n",
       "      <td>ЧЕЛЯБИНСКАЯ ОБЛАСТЬ</td>\n",
       "      <td>NaN</td>\n",
       "      <td>1.0</td>\n",
       "      <td>0.0</td>\n",
       "      <td>0</td>\n",
       "    </tr>\n",
       "    <tr>\n",
       "      <th>5</th>\n",
       "      <td>5</td>\n",
       "      <td>F</td>\n",
       "      <td>NaN</td>\n",
       "      <td>MAR</td>\n",
       "      <td>SPC</td>\n",
       "      <td>NaN</td>\n",
       "      <td>10</td>\n",
       "      <td>1.1</td>\n",
       "      <td>NaN</td>\n",
       "      <td>SCH</td>\n",
       "      <td>СТАВРОПОЛЬСКИЙ КРАЙ</td>\n",
       "      <td>30000.0</td>\n",
       "      <td>0.0</td>\n",
       "      <td>0.0</td>\n",
       "      <td>0</td>\n",
       "    </tr>\n",
       "    <tr>\n",
       "      <th>6</th>\n",
       "      <td>6</td>\n",
       "      <td>M</td>\n",
       "      <td>34.0</td>\n",
       "      <td>MAR</td>\n",
       "      <td>SPC</td>\n",
       "      <td>10317.00</td>\n",
       "      <td>6</td>\n",
       "      <td>1.5</td>\n",
       "      <td>NaN</td>\n",
       "      <td>SCH</td>\n",
       "      <td>ОБЛ НИЖЕГОРОДСКАЯ</td>\n",
       "      <td>28000.0</td>\n",
       "      <td>3.0</td>\n",
       "      <td>0.0</td>\n",
       "      <td>0</td>\n",
       "    </tr>\n",
       "    <tr>\n",
       "      <th>8</th>\n",
       "      <td>8</td>\n",
       "      <td>M</td>\n",
       "      <td>23.0</td>\n",
       "      <td>UNM</td>\n",
       "      <td>SPC</td>\n",
       "      <td>37577.16</td>\n",
       "      <td>12</td>\n",
       "      <td>1.6</td>\n",
       "      <td>NaN</td>\n",
       "      <td>SCH</td>\n",
       "      <td>ХАНТЫ-МАНСИЙСКИЙ АВТОНОМНЫЙ ОКРУГ - ЮГРА</td>\n",
       "      <td>50000.0</td>\n",
       "      <td>3.0</td>\n",
       "      <td>0.0</td>\n",
       "      <td>0</td>\n",
       "    </tr>\n",
       "    <tr>\n",
       "      <th>11</th>\n",
       "      <td>11</td>\n",
       "      <td>F</td>\n",
       "      <td>26.0</td>\n",
       "      <td>UNM</td>\n",
       "      <td>SPC</td>\n",
       "      <td>18936.00</td>\n",
       "      <td>10</td>\n",
       "      <td>1.32</td>\n",
       "      <td>0.455774</td>\n",
       "      <td>NaN</td>\n",
       "      <td>РЕСП. БАШКОРТОСТАН</td>\n",
       "      <td>30000.0</td>\n",
       "      <td>0.0</td>\n",
       "      <td>0.0</td>\n",
       "      <td>0</td>\n",
       "    </tr>\n",
       "    <tr>\n",
       "      <th>14</th>\n",
       "      <td>14</td>\n",
       "      <td>F</td>\n",
       "      <td>32.0</td>\n",
       "      <td>MAR</td>\n",
       "      <td>SPC</td>\n",
       "      <td>12711.00</td>\n",
       "      <td>12</td>\n",
       "      <td>1.5</td>\n",
       "      <td>0.411186</td>\n",
       "      <td>NaN</td>\n",
       "      <td>РЕСП БАШКОРТОСТАН</td>\n",
       "      <td>30000.0</td>\n",
       "      <td>3.0</td>\n",
       "      <td>0.0</td>\n",
       "      <td>0</td>\n",
       "    </tr>\n",
       "    <tr>\n",
       "      <th>19623</th>\n",
       "      <td>19639</td>\n",
       "      <td>F</td>\n",
       "      <td>33.0</td>\n",
       "      <td>MAR</td>\n",
       "      <td>BIS</td>\n",
       "      <td>13009.00</td>\n",
       "      <td>10</td>\n",
       "      <td>1.6</td>\n",
       "      <td>0.535834</td>\n",
       "      <td>SCH</td>\n",
       "      <td>ПРИМОРСКИЙ КРАЙ</td>\n",
       "      <td>NaN</td>\n",
       "      <td>2.0</td>\n",
       "      <td>0.0</td>\n",
       "      <td>0</td>\n",
       "    </tr>\n",
       "  </tbody>\n",
       "</table>\n",
       "</div>"
      ],
      "text/plain": [
       "       index gender   age marital_status job_position  credit_sum  \\\n",
       "0          0      M   NaN            NaN          UMN    59998.00   \n",
       "1          1      F   NaN            MAR          UMN    10889.00   \n",
       "2          2      M  32.0            MAR          SPC    10728.00   \n",
       "3          3      F  27.0            NaN          SPC    12009.09   \n",
       "4          4      M  45.0            NaN          SPC         NaN   \n",
       "5          5      F   NaN            MAR          SPC         NaN   \n",
       "6          6      M  34.0            MAR          SPC    10317.00   \n",
       "8          8      M  23.0            UNM          SPC    37577.16   \n",
       "11        11      F  26.0            UNM          SPC    18936.00   \n",
       "14        14      F  32.0            MAR          SPC    12711.00   \n",
       "19623  19639      F  33.0            MAR          BIS    13009.00   \n",
       "\n",
       "      credit_month tariff_id  score_shk education  \\\n",
       "0               10       1.6        NaN       GRD   \n",
       "1                6       1.1        NaN       NaN   \n",
       "2               12       1.1        NaN       NaN   \n",
       "3               12       1.1        NaN       NaN   \n",
       "4               10       1.1   0.421385       SCH   \n",
       "5               10       1.1        NaN       SCH   \n",
       "6                6       1.5        NaN       SCH   \n",
       "8               12       1.6        NaN       SCH   \n",
       "11              10      1.32   0.455774       NaN   \n",
       "14              12       1.5   0.411186       NaN   \n",
       "19623           10       1.6   0.535834       SCH   \n",
       "\n",
       "                                  living_region  monthly_income  credit_count  \\\n",
       "0                            КРАСНОДАРСКИЙ КРАЙ         30000.0           1.0   \n",
       "1                                        МОСКВА             NaN           2.0   \n",
       "2                               ОБЛ САРАТОВСКАЯ             NaN           5.0   \n",
       "3                             ОБЛ ВОЛГОГРАДСКАЯ             NaN           2.0   \n",
       "4                           ЧЕЛЯБИНСКАЯ ОБЛАСТЬ             NaN           1.0   \n",
       "5                           СТАВРОПОЛЬСКИЙ КРАЙ         30000.0           0.0   \n",
       "6                             ОБЛ НИЖЕГОРОДСКАЯ         28000.0           3.0   \n",
       "8      ХАНТЫ-МАНСИЙСКИЙ АВТОНОМНЫЙ ОКРУГ - ЮГРА         50000.0           3.0   \n",
       "11                           РЕСП. БАШКОРТОСТАН         30000.0           0.0   \n",
       "14                            РЕСП БАШКОРТОСТАН         30000.0           3.0   \n",
       "19623                           ПРИМОРСКИЙ КРАЙ             NaN           2.0   \n",
       "\n",
       "       overdue_credit_count open_account_flg  \n",
       "0                       1.0                0  \n",
       "1                       0.0                0  \n",
       "2                       0.0                0  \n",
       "3                       0.0                0  \n",
       "4                       0.0                0  \n",
       "5                       0.0                0  \n",
       "6                       0.0                0  \n",
       "8                       0.0                0  \n",
       "11                      0.0                0  \n",
       "14                      0.0                0  \n",
       "19623                   0.0                0  "
      ]
     },
     "execution_count": 16,
     "metadata": {},
     "output_type": "execute_result"
    },
    {
     "data": {
      "text/plain": [
       "11"
      ]
     },
     "execution_count": 16,
     "metadata": {},
     "output_type": "execute_result"
    }
   ],
   "source": [
    "df_na_small = df[df.age.isna() | df.marital_status.isna() | \n",
    "                 df.credit_sum.isna() | df.score_shk.isna() | \n",
    "                 df.education.isna() | df.monthly_income.isna()]\n",
    "df_na_small\n",
    "\n",
    "# Количество наблюдений с пропущенными значениями в переменных, исключая\n",
    "# переменные \"living_region\", \"credit_count\", \"overdue_credit_count\"\n",
    "df_na_small.shape[0]"
   ]
  },
  {
   "cell_type": "markdown",
   "metadata": {},
   "source": [
    "Один из вариантов дальнейших действий с этими пропусками - после разделения датасета на обучающую и тестовую выборки заполнить пропуски медианами для переменных `age`, `credit_sum`, `score_shk`, `monthly_income` и модами для `marital_status` и `education`.\n",
    "Однако, количество наблюдений с пропущенными значениями в переменных датасета, исключая переменные `living_region`, `credit_count` и`overdue_credit_count`, составляет 11, это всего 0.0064 % от всех наблюдений. Удаление столь незначительного количества наблюдений не должно оказать заметного влияния на точность прогнозирования с учетом того, что значения целевой переменной для этих наблюдений принадлежат мажоритарному классу (\"0\"). \n",
    "\n",
    "Удаляем 11 выделенных строк с пропущенными значениями.  "
   ]
  },
  {
   "cell_type": "code",
   "execution_count": 17,
   "metadata": {},
   "outputs": [],
   "source": [
    "ind_drop = list(df_na_small.index)\n",
    "df.drop(df.index[ind_drop], inplace=True)\n",
    "df = df.drop([\"index\"], axis=1)"
   ]
  },
  {
   "cell_type": "markdown",
   "metadata": {},
   "source": [
    "##### Обработка переменных `overdue_credit_count`  и  `credit_count`"
   ]
  },
  {
   "cell_type": "markdown",
   "metadata": {},
   "source": [
    "Переменные `overdue_credit_count` и `credit_count` содержат одинаковое количество пропущенных значений. Проверим - в одних и тех же строках? Ответ - да."
   ]
  },
  {
   "cell_type": "code",
   "execution_count": 18,
   "metadata": {},
   "outputs": [
    {
     "data": {
      "text/plain": [
       "9190"
      ]
     },
     "execution_count": 18,
     "metadata": {},
     "output_type": "execute_result"
    }
   ],
   "source": [
    "df['credit_count'][df['overdue_credit_count'].isnull()].isnull().sum()"
   ]
  },
  {
   "cell_type": "markdown",
   "metadata": {},
   "source": [
    "Создаем новую переменную \"no_creditInfo\" - со значениями 1, если значение 'credit_count' и 'overdue_credit_count' == nan, и 0, если нет."
   ]
  },
  {
   "cell_type": "code",
   "execution_count": 19,
   "metadata": {},
   "outputs": [],
   "source": [
    "df['no_creditInfo'] = np.where(df.credit_count.isna(), 1, 0)\n",
    "df['no_creditInfo'] = df['no_creditInfo'].astype('object')"
   ]
  },
  {
   "cell_type": "code",
   "execution_count": 20,
   "metadata": {},
   "outputs": [
    {
     "data": {
      "text/html": [
       "<div>\n",
       "<style scoped>\n",
       "    .dataframe tbody tr th:only-of-type {\n",
       "        vertical-align: middle;\n",
       "    }\n",
       "\n",
       "    .dataframe tbody tr th {\n",
       "        vertical-align: top;\n",
       "    }\n",
       "\n",
       "    .dataframe thead th {\n",
       "        text-align: right;\n",
       "    }\n",
       "</style>\n",
       "<table border=\"1\" class=\"dataframe\">\n",
       "  <thead>\n",
       "    <tr style=\"text-align: right;\">\n",
       "      <th></th>\n",
       "      <th>gender</th>\n",
       "      <th>age</th>\n",
       "      <th>marital_status</th>\n",
       "      <th>job_position</th>\n",
       "      <th>credit_sum</th>\n",
       "      <th>credit_month</th>\n",
       "      <th>tariff_id</th>\n",
       "      <th>score_shk</th>\n",
       "      <th>education</th>\n",
       "      <th>living_region</th>\n",
       "      <th>monthly_income</th>\n",
       "      <th>credit_count</th>\n",
       "      <th>overdue_credit_count</th>\n",
       "      <th>open_account_flg</th>\n",
       "      <th>no_creditInfo</th>\n",
       "    </tr>\n",
       "  </thead>\n",
       "  <tbody>\n",
       "    <tr>\n",
       "      <th>25</th>\n",
       "      <td>F</td>\n",
       "      <td>22.0</td>\n",
       "      <td>UNM</td>\n",
       "      <td>SPC</td>\n",
       "      <td>30000.0</td>\n",
       "      <td>18</td>\n",
       "      <td>1.1</td>\n",
       "      <td>0.550770</td>\n",
       "      <td>UGR</td>\n",
       "      <td>РЕСП. БАШКОРТОСТАН</td>\n",
       "      <td>30000.0</td>\n",
       "      <td>NaN</td>\n",
       "      <td>NaN</td>\n",
       "      <td>1</td>\n",
       "      <td>1</td>\n",
       "    </tr>\n",
       "    <tr>\n",
       "      <th>50</th>\n",
       "      <td>F</td>\n",
       "      <td>35.0</td>\n",
       "      <td>MAR</td>\n",
       "      <td>SPC</td>\n",
       "      <td>13779.0</td>\n",
       "      <td>10</td>\n",
       "      <td>1.6</td>\n",
       "      <td>0.677837</td>\n",
       "      <td>GRD</td>\n",
       "      <td>ОБЛ НОВОСИБИРСКАЯ</td>\n",
       "      <td>28000.0</td>\n",
       "      <td>NaN</td>\n",
       "      <td>NaN</td>\n",
       "      <td>0</td>\n",
       "      <td>1</td>\n",
       "    </tr>\n",
       "    <tr>\n",
       "      <th>52</th>\n",
       "      <td>F</td>\n",
       "      <td>33.0</td>\n",
       "      <td>DIV</td>\n",
       "      <td>DIR</td>\n",
       "      <td>15379.2</td>\n",
       "      <td>10</td>\n",
       "      <td>1.22</td>\n",
       "      <td>0.566717</td>\n",
       "      <td>GRD</td>\n",
       "      <td>САНКТ-ПЕТЕРБУРГ</td>\n",
       "      <td>60000.0</td>\n",
       "      <td>NaN</td>\n",
       "      <td>NaN</td>\n",
       "      <td>0</td>\n",
       "      <td>1</td>\n",
       "    </tr>\n",
       "    <tr>\n",
       "      <th>72</th>\n",
       "      <td>M</td>\n",
       "      <td>21.0</td>\n",
       "      <td>UNM</td>\n",
       "      <td>ATP</td>\n",
       "      <td>14309.0</td>\n",
       "      <td>10</td>\n",
       "      <td>1.1</td>\n",
       "      <td>0.293619</td>\n",
       "      <td>SCH</td>\n",
       "      <td>МОСКВА</td>\n",
       "      <td>30000.0</td>\n",
       "      <td>NaN</td>\n",
       "      <td>NaN</td>\n",
       "      <td>1</td>\n",
       "      <td>1</td>\n",
       "    </tr>\n",
       "    <tr>\n",
       "      <th>74</th>\n",
       "      <td>F</td>\n",
       "      <td>27.0</td>\n",
       "      <td>MAR</td>\n",
       "      <td>SPC</td>\n",
       "      <td>15248.0</td>\n",
       "      <td>10</td>\n",
       "      <td>1.6</td>\n",
       "      <td>0.591578</td>\n",
       "      <td>SCH</td>\n",
       "      <td>ОРЕНБУРГСКАЯ ОБЛ</td>\n",
       "      <td>10000.0</td>\n",
       "      <td>NaN</td>\n",
       "      <td>NaN</td>\n",
       "      <td>0</td>\n",
       "      <td>1</td>\n",
       "    </tr>\n",
       "  </tbody>\n",
       "</table>\n",
       "</div>"
      ],
      "text/plain": [
       "   gender   age marital_status job_position  credit_sum credit_month  \\\n",
       "25      F  22.0            UNM          SPC     30000.0           18   \n",
       "50      F  35.0            MAR          SPC     13779.0           10   \n",
       "52      F  33.0            DIV          DIR     15379.2           10   \n",
       "72      M  21.0            UNM          ATP     14309.0           10   \n",
       "74      F  27.0            MAR          SPC     15248.0           10   \n",
       "\n",
       "   tariff_id  score_shk education       living_region  monthly_income  \\\n",
       "25       1.1   0.550770       UGR  РЕСП. БАШКОРТОСТАН         30000.0   \n",
       "50       1.6   0.677837       GRD   ОБЛ НОВОСИБИРСКАЯ         28000.0   \n",
       "52      1.22   0.566717       GRD     САНКТ-ПЕТЕРБУРГ         60000.0   \n",
       "72       1.1   0.293619       SCH              МОСКВА         30000.0   \n",
       "74       1.6   0.591578       SCH    ОРЕНБУРГСКАЯ ОБЛ         10000.0   \n",
       "\n",
       "    credit_count  overdue_credit_count open_account_flg no_creditInfo  \n",
       "25           NaN                   NaN                1             1  \n",
       "50           NaN                   NaN                0             1  \n",
       "52           NaN                   NaN                0             1  \n",
       "72           NaN                   NaN                1             1  \n",
       "74           NaN                   NaN                0             1  "
      ]
     },
     "execution_count": 20,
     "metadata": {},
     "output_type": "execute_result"
    }
   ],
   "source": [
    "df[df[\"no_creditInfo\"]==1].head()"
   ]
  },
  {
   "cell_type": "code",
   "execution_count": 21,
   "metadata": {},
   "outputs": [
    {
     "data": {
      "text/plain": [
       "array([ 3.,  7.,  2.,  1.,  4.,  6.,  0.,  5., nan,  8., 10.,  9., 12.,\n",
       "       11., 14., 15., 13., 16., 19., 17., 18., 21.])"
      ]
     },
     "execution_count": 21,
     "metadata": {},
     "output_type": "execute_result"
    },
    {
     "data": {
      "text/plain": [
       "count    160400.000000\n",
       "mean          2.107332\n",
       "std           1.776505\n",
       "min           0.000000\n",
       "25%           1.000000\n",
       "50%           2.000000\n",
       "75%           3.000000\n",
       "max          21.000000\n",
       "Name: credit_count, dtype: float64"
      ]
     },
     "execution_count": 21,
     "metadata": {},
     "output_type": "execute_result"
    }
   ],
   "source": [
    "df['credit_count'].unique()\n",
    "df['credit_count'].describe()"
   ]
  },
  {
   "cell_type": "code",
   "execution_count": 22,
   "metadata": {},
   "outputs": [
    {
     "data": {
      "text/plain": [
       "1.0     44980\n",
       "2.0     36730\n",
       "0.0     25616\n",
       "3.0     23756\n",
       "4.0     14011\n",
       "5.0      7509\n",
       "6.0      3889\n",
       "7.0      1945\n",
       "8.0      1000\n",
       "9.0       472\n",
       "10.0      219\n",
       "11.0      127\n",
       "12.0       72\n",
       "13.0       31\n",
       "14.0       15\n",
       "15.0       13\n",
       "17.0        5\n",
       "16.0        4\n",
       "19.0        3\n",
       "18.0        2\n",
       "21.0        1\n",
       "Name: credit_count, dtype: int64"
      ]
     },
     "execution_count": 22,
     "metadata": {},
     "output_type": "execute_result"
    }
   ],
   "source": [
    "df['credit_count'].value_counts()"
   ]
  },
  {
   "cell_type": "code",
   "execution_count": 23,
   "metadata": {},
   "outputs": [
    {
     "data": {
      "text/plain": [
       "0.0    153066\n",
       "1.0      7282\n",
       "2.0        47\n",
       "3.0         5\n",
       "Name: overdue_credit_count, dtype: int64"
      ]
     },
     "execution_count": 23,
     "metadata": {},
     "output_type": "execute_result"
    }
   ],
   "source": [
    "df['overdue_credit_count'].value_counts()"
   ]
  },
  {
   "cell_type": "code",
   "execution_count": 24,
   "metadata": {},
   "outputs": [
    {
     "data": {
      "text/plain": [
       "array([ 0., nan,  1.,  2.,  3.])"
      ]
     },
     "execution_count": 24,
     "metadata": {},
     "output_type": "execute_result"
    },
    {
     "data": {
      "text/plain": [
       "count    160400.000000\n",
       "mean          0.046079\n",
       "std           0.211492\n",
       "min           0.000000\n",
       "25%           0.000000\n",
       "50%           0.000000\n",
       "75%           0.000000\n",
       "max           3.000000\n",
       "Name: overdue_credit_count, dtype: float64"
      ]
     },
     "execution_count": 24,
     "metadata": {},
     "output_type": "execute_result"
    }
   ],
   "source": [
    "df['overdue_credit_count'].unique()\n",
    "df['overdue_credit_count'].describe()"
   ]
  },
  {
   "cell_type": "markdown",
   "metadata": {},
   "source": [
    "Самое популярное значение `overdue_credit_count` **0**, заполняем этим значением пропущенные в `overdue_credit_count` и `credit_count`."
   ]
  },
  {
   "cell_type": "code",
   "execution_count": 25,
   "metadata": {},
   "outputs": [],
   "source": [
    "df['credit_count'] = df['credit_count'].fillna(0).astype('int')\n",
    "df['overdue_credit_count'] = df['overdue_credit_count'].fillna(0).astype('int')"
   ]
  },
  {
   "cell_type": "code",
   "execution_count": 26,
   "metadata": {},
   "outputs": [
    {
     "data": {
      "text/plain": [
       "array([3, 7, 2, 1, 4, 6, 0, 5, 8, 10, 9, 12, 11, 14, 15, 13, 16, 19, 17,\n",
       "       18, 21], dtype=object)"
      ]
     },
     "execution_count": 26,
     "metadata": {},
     "output_type": "execute_result"
    },
    {
     "data": {
      "text/plain": [
       "array([0, 1, 2, 3], dtype=object)"
      ]
     },
     "execution_count": 26,
     "metadata": {},
     "output_type": "execute_result"
    }
   ],
   "source": [
    "df['credit_count'] = df['credit_count'].astype('object')\n",
    "df['overdue_credit_count'] = df['overdue_credit_count'].astype('object')\n",
    "\n",
    "df['credit_count'].unique()\n",
    "df['overdue_credit_count'].unique()"
   ]
  },
  {
   "cell_type": "markdown",
   "metadata": {},
   "source": [
    "##### Обработка переменной ` living_region `"
   ]
  },
  {
   "cell_type": "markdown",
   "metadata": {},
   "source": [
    "Обработка этой переменной сделана не мной, я только немного корректировала код под свое мнение. Благодарность написавшему, из-за ограничений по времени вообще удалила бы этот столбец. "
   ]
  },
  {
   "cell_type": "code",
   "execution_count": 27,
   "metadata": {},
   "outputs": [
    {
     "name": "stdout",
     "output_type": "stream",
     "text": [
      "Количество уникальных значений переменной \"living_region\": 301.\n",
      "\n"
     ]
    }
   ],
   "source": [
    "# Уникальные значения переменной living_region\n",
    "# и их количество\n",
    "print('Количество уникальных значений переменной '\n",
    "          '\"living_region\": {}.\\n'.format(df['living_region'].nunique()))"
   ]
  },
  {
   "cell_type": "code",
   "execution_count": 28,
   "metadata": {},
   "outputs": [],
   "source": [
    "# уникальные значения переменной living_region\n",
    "regions = df['living_region'].unique()"
   ]
  },
  {
   "cell_type": "code",
   "execution_count": 29,
   "metadata": {},
   "outputs": [
    {
     "data": {
      "text/plain": [
       "301"
      ]
     },
     "execution_count": 29,
     "metadata": {},
     "output_type": "execute_result"
    }
   ],
   "source": [
    "len(df['living_region'].value_counts())"
   ]
  },
  {
   "cell_type": "code",
   "execution_count": 30,
   "metadata": {},
   "outputs": [],
   "source": [
    "regions = pd.Series(data=regions, \n",
    "                    index=regions, name='regions')"
   ]
  },
  {
   "cell_type": "code",
   "execution_count": 31,
   "metadata": {},
   "outputs": [],
   "source": [
    "# задаем список стоп-слов\n",
    "stopwrds = set(['ОБЛ','ОБЛАСТЬ', 'РЕСП', 'РЕСПУБЛИКА', \n",
    "                'КРАЙ', 'Г', 'АО', 'АОБЛ', 'АВТОНОМНАЯ'])"
   ]
  },
  {
   "cell_type": "code",
   "execution_count": 32,
   "metadata": {},
   "outputs": [],
   "source": [
    "def clean_region(x):\n",
    "    '''\n",
    "    Функция для предобработки значений серии\n",
    "    Аргумент:\n",
    "    x - pd.Series\n",
    "    '''\n",
    "    x = re.sub('[.,]+', ' ', str(x))\n",
    "    wrds = x.split(' ')\n",
    "    wrds_new = []\n",
    "    for w in wrds:\n",
    "        if not w in stopwrds:\n",
    "            wrds_new.append(w)\n",
    "    x = ''.join(wrds_new)\n",
    "    return x\n",
    "\n",
    "regions = regions.map(clean_region)"
   ]
  },
  {
   "cell_type": "markdown",
   "metadata": {},
   "source": [
    "Есть числовые значения в форме строки, переопределены согласно __[Автомобильные коды регионов России](https://autotraveler.ru/russia/avtomobilnye-kody-regionov-rossii.html#.XhXiO0f7RPY)__."
   ]
  },
  {
   "cell_type": "code",
   "execution_count": 33,
   "metadata": {},
   "outputs": [],
   "source": [
    "# корректировки в regions\n",
    "regions['ЧУКОТСКИЙ АO'] = 'ЧУКОТСКИЙ'\n",
    "regions['ЧУВАШСКАЯ РЕСПУБЛИКА - ЧУВАШИЯ'] = 'ЧУВАШСКАЯ'\n",
    "regions['ЧУВАШИЯ ЧУВАШСКАЯ РЕСПУБЛИКА -'] = 'ЧУВАШСКАЯ'\n",
    "regions['ЧУВАШСКАЯ - ЧУВАШИЯ РЕСП'] = 'ЧУВАШСКАЯ'\n",
    "regions['РЕСП ЧУВАШСКАЯ - ЧУВАШИЯ'] = 'ЧУВАШСКАЯ'\n",
    "regions['ЧУВАШСКАЯ - ЧУВАШИЯ РЕСП'] = 'ЧУВАШСКАЯ'\n",
    "regions['ЧУВАШСКАЯ-ЧУВАШИЯ'] = 'ЧУВАШСКАЯ'\n",
    "regions['ЧУВАШИЯЧУВАШСКАЯ-'] = 'ЧУВАШСКАЯ'\n",
    "regions['РЕСПУБЛИКАТАТАРСТАН'] = 'ТАТАРСТАН'\n",
    "regions['ПРИВОЛЖСКИЙ ФЕДЕРАЛЬНЫЙ ОКРУГ'] = 'МОСКОВСКАЯ'\n",
    "regions['ПРИВОЛЖСКИЙФЕДЕРАЛЬНЫЙОКРУГ'] = 'МОСКОВСКАЯ'\n",
    "regions['ПЕРМСКАЯ ОБЛ'] = 'ПЕРМСКИЙ'\n",
    "regions['ОРЁЛ'] = 'ОРЛОВСКАЯ'\n",
    "regions['Г.ОДИНЦОВО МОСКОВСКАЯ ОБЛ'] = 'МОСКОВСКАЯ'\n",
    "regions['ОДИНЦОВОМОСКОВСКАЯ'] = 'МОСКОВСКАЯ'\n",
    "regions['МЫТИЩИНСКИЙ Р-Н'] = 'МОСКОВСКАЯ'\n",
    "regions['МОСКОВСКИЙ П'] = 'МОСКОВСКАЯ'\n",
    "regions['КАМЧАТСКАЯ ОБЛАСТЬ'] = 'КАМЧАТСКИЙ'\n",
    "regions['ДАЛЬНИЙ ВОСТОК'] = 'ДАЛЬНИЙВОСТОК'\n",
    "regions['ГУСЬ-ХРУСТАЛЬНЫЙ Р-Н'] = 'ВЛАДИМИРСКАЯ'\n",
    "regions['ГУСЬ-ХРУСТАЛЬНЫЙР-Н'] = 'ВЛАДИМИРСКАЯ'\n",
    "regions['ГОРЬКОВСКАЯ ОБЛ'] = 'НИЖЕГОРОДСКАЯ'\n",
    "regions['ЭВЕНКИЙСКИЙ АО'] = 'КРАСНОЯРСКИЙ'\n",
    "regions['ХАНТЫ-МАНСИЙСКИЙ АВТОНОМНЫЙ ОКРУГ - ЮГРА'] = 'ХАНТЫ-МАНСИЙСКИЙ'\n",
    "regions['ХАНТЫ-МАНСИЙСКИЙАВТОНОМНЫЙОКРУГ-ЮГРА'] = 'ХАНТЫ-МАНСИЙСКИЙ'\n",
    "regions['АО ХАНТЫ-МАНСИЙСКИЙ АВТОНОМНЫЙ ОКРУГ - Ю'] = 'ХАНТЫ-МАНСИЙСКИЙ'\n",
    "regions['ХАНТЫ-МАНСИЙСКИЙАВТОНОМНЫЙОКРУГ-Ю'] = 'ХАНТЫ-МАНСИЙСКИЙ'\n",
    "regions['АО ХАНТЫ-МАНСИЙСКИЙ-ЮГРА'] = 'ХАНТЫ-МАНСИЙСКИЙ'\n",
    "regions['СЕВ. ОСЕТИЯ - АЛАНИЯ'] = 'СЕВЕРНАЯОСЕТИЯ-АЛАНИЯ'\n",
    "regions['РЕСП. САХА (ЯКУТИЯ)'] ='САХА/ЯКУТИЯ/'\n",
    "regions['РЕСПУБЛИКА САХА'] = 'САХА/ЯКУТИЯ/'\n",
    "regions['САХА'] = 'САХА/ЯКУТИЯ/'\n",
    "regions['98'] = 'САНКТ-ПЕТЕРБУРГ'\n",
    "regions['74'] = 'ЧЕЛЯБИНСКАЯ'\n",
    "regions['РОССИЯ'] = 'МОСКОВСКАЯ'\n",
    "regions['МОСКВОСКАЯ'] = 'МОСКОВСКАЯ'\n",
    "regions['МОСКВОСКАЯ ОБЛ'] = 'МОСКОВСКАЯ'\n",
    "regions['ЧЕЛЯБИНСК'] = 'ЧЕЛЯБИНСКАЯ'\n",
    "regions['Г. ЧЕЛЯБИНСК'] = 'ЧЕЛЯБИНСКАЯ'\n",
    "regions['БРЯНСКИЙ'] = 'БРЯНСКАЯ'"
   ]
  },
  {
   "cell_type": "code",
   "execution_count": 34,
   "metadata": {},
   "outputs": [
    {
     "data": {
      "text/plain": [
       "pandas.core.series.Series"
      ]
     },
     "execution_count": 34,
     "metadata": {},
     "output_type": "execute_result"
    }
   ],
   "source": [
    "type(regions)"
   ]
  },
  {
   "cell_type": "code",
   "execution_count": 35,
   "metadata": {},
   "outputs": [],
   "source": [
    "df['living_region'] = df['living_region'].map(regions)\n",
    "df['living_region'] = df['living_region'].fillna(\"IDN\")"
   ]
  },
  {
   "cell_type": "code",
   "execution_count": 36,
   "metadata": {},
   "outputs": [
    {
     "data": {
      "text/plain": [
       "86"
      ]
     },
     "execution_count": 36,
     "metadata": {},
     "output_type": "execute_result"
    }
   ],
   "source": [
    "df['living_region'].nunique()"
   ]
  },
  {
   "cell_type": "code",
   "execution_count": 37,
   "metadata": {},
   "outputs": [],
   "source": [
    "df = df.reset_index(drop=True)"
   ]
  },
  {
   "cell_type": "code",
   "execution_count": 38,
   "metadata": {},
   "outputs": [
    {
     "data": {
      "text/plain": [
       "gender                  0\n",
       "age                     0\n",
       "marital_status          0\n",
       "job_position            0\n",
       "credit_sum              0\n",
       "credit_month            0\n",
       "tariff_id               0\n",
       "score_shk               0\n",
       "education               0\n",
       "living_region           0\n",
       "monthly_income          0\n",
       "credit_count            0\n",
       "overdue_credit_count    0\n",
       "open_account_flg        0\n",
       "no_creditInfo           0\n",
       "dtype: int64"
      ]
     },
     "execution_count": 38,
     "metadata": {},
     "output_type": "execute_result"
    }
   ],
   "source": [
    "df.isnull().sum()"
   ]
  },
  {
   "cell_type": "markdown",
   "metadata": {},
   "source": [
    "### Дополнительная обработка переменных"
   ]
  },
  {
   "cell_type": "code",
   "execution_count": 39,
   "metadata": {},
   "outputs": [
    {
     "data": {
      "text/html": [
       "<div>\n",
       "<style scoped>\n",
       "    .dataframe tbody tr th:only-of-type {\n",
       "        vertical-align: middle;\n",
       "    }\n",
       "\n",
       "    .dataframe tbody tr th {\n",
       "        vertical-align: top;\n",
       "    }\n",
       "\n",
       "    .dataframe thead th {\n",
       "        text-align: right;\n",
       "    }\n",
       "</style>\n",
       "<table border=\"1\" class=\"dataframe\">\n",
       "  <thead>\n",
       "    <tr style=\"text-align: right;\">\n",
       "      <th></th>\n",
       "      <th>gender</th>\n",
       "      <th>marital_status</th>\n",
       "      <th>job_position</th>\n",
       "      <th>credit_month</th>\n",
       "      <th>tariff_id</th>\n",
       "      <th>education</th>\n",
       "      <th>living_region</th>\n",
       "      <th>credit_count</th>\n",
       "      <th>overdue_credit_count</th>\n",
       "      <th>open_account_flg</th>\n",
       "      <th>no_creditInfo</th>\n",
       "    </tr>\n",
       "  </thead>\n",
       "  <tbody>\n",
       "    <tr>\n",
       "      <th>count</th>\n",
       "      <td>169590</td>\n",
       "      <td>169590</td>\n",
       "      <td>169590</td>\n",
       "      <td>169590</td>\n",
       "      <td>169590</td>\n",
       "      <td>169590</td>\n",
       "      <td>169590</td>\n",
       "      <td>169590</td>\n",
       "      <td>169590</td>\n",
       "      <td>169590</td>\n",
       "      <td>169590</td>\n",
       "    </tr>\n",
       "    <tr>\n",
       "      <th>unique</th>\n",
       "      <td>2</td>\n",
       "      <td>5</td>\n",
       "      <td>18</td>\n",
       "      <td>31</td>\n",
       "      <td>33</td>\n",
       "      <td>5</td>\n",
       "      <td>86</td>\n",
       "      <td>21</td>\n",
       "      <td>4</td>\n",
       "      <td>2</td>\n",
       "      <td>2</td>\n",
       "    </tr>\n",
       "    <tr>\n",
       "      <th>top</th>\n",
       "      <td>F</td>\n",
       "      <td>MAR</td>\n",
       "      <td>SPC</td>\n",
       "      <td>10</td>\n",
       "      <td>1.1</td>\n",
       "      <td>SCH</td>\n",
       "      <td>МОСКОВСКАЯ</td>\n",
       "      <td>1</td>\n",
       "      <td>0</td>\n",
       "      <td>0</td>\n",
       "      <td>0</td>\n",
       "    </tr>\n",
       "    <tr>\n",
       "      <th>freq</th>\n",
       "      <td>88092</td>\n",
       "      <td>93307</td>\n",
       "      <td>133711</td>\n",
       "      <td>94875</td>\n",
       "      <td>68892</td>\n",
       "      <td>86986</td>\n",
       "      <td>12735</td>\n",
       "      <td>44980</td>\n",
       "      <td>162256</td>\n",
       "      <td>139534</td>\n",
       "      <td>160400</td>\n",
       "    </tr>\n",
       "  </tbody>\n",
       "</table>\n",
       "</div>"
      ],
      "text/plain": [
       "        gender marital_status job_position credit_month tariff_id education  \\\n",
       "count   169590         169590       169590       169590    169590    169590   \n",
       "unique       2              5           18           31        33         5   \n",
       "top          F            MAR          SPC           10       1.1       SCH   \n",
       "freq     88092          93307       133711        94875     68892     86986   \n",
       "\n",
       "       living_region  credit_count  overdue_credit_count open_account_flg  \\\n",
       "count         169590        169590                169590           169590   \n",
       "unique            86            21                     4                2   \n",
       "top       МОСКОВСКАЯ             1                     0                0   \n",
       "freq           12735         44980                162256           139534   \n",
       "\n",
       "        no_creditInfo  \n",
       "count          169590  \n",
       "unique              2  \n",
       "top                 0  \n",
       "freq           160400  "
      ]
     },
     "execution_count": 39,
     "metadata": {},
     "output_type": "execute_result"
    }
   ],
   "source": [
    "# Общая информация по категориальным признакам\n",
    "df.describe(include=[object])"
   ]
  },
  {
   "cell_type": "markdown",
   "metadata": {},
   "source": [
    "По переменным `job_position`, `tariff_id` и `living_region` можно рассмотреть возможность уменьшения количества категорий."
   ]
  },
  {
   "cell_type": "markdown",
   "metadata": {},
   "source": [
    "###### `job_position`"
   ]
  },
  {
   "cell_type": "code",
   "execution_count": 40,
   "metadata": {},
   "outputs": [
    {
     "data": {
      "text/plain": [
       "WOI    351\n",
       "INP    240\n",
       "BIU    125\n",
       "WRP    110\n",
       "PNI     65\n",
       "PNV     40\n",
       "PNS     12\n",
       "HSK      8\n",
       "INV      5\n",
       "ONB      1\n",
       "Name: job_position, dtype: int64"
      ]
     },
     "execution_count": 40,
     "metadata": {},
     "output_type": "execute_result"
    }
   ],
   "source": [
    "df['job_position'].value_counts().tail(10)"
   ]
  },
  {
   "cell_type": "code",
   "execution_count": 41,
   "metadata": {},
   "outputs": [],
   "source": [
    "df.loc[df['job_position'].value_counts()[df['job_position']].values < 60,\n",
    "             'job_position'] = 'OTH'"
   ]
  },
  {
   "cell_type": "code",
   "execution_count": 42,
   "metadata": {},
   "outputs": [
    {
     "data": {
      "text/plain": [
       "count     169590\n",
       "unique        14\n",
       "top          SPC\n",
       "freq      133711\n",
       "Name: job_position, dtype: object"
      ]
     },
     "execution_count": 42,
     "metadata": {},
     "output_type": "execute_result"
    }
   ],
   "source": [
    "df['job_position'].describe()"
   ]
  },
  {
   "cell_type": "markdown",
   "metadata": {},
   "source": [
    "###### `tariff_id`"
   ]
  },
  {
   "cell_type": "code",
   "execution_count": 43,
   "metadata": {},
   "outputs": [
    {
     "data": {
      "text/plain": [
       "1.25    54\n",
       "1.18    36\n",
       "1.26    11\n",
       "1.28    10\n",
       "1.52     7\n",
       "1.27     6\n",
       "1.48     5\n",
       "1.56     2\n",
       "1.96     1\n",
       "1.29     1\n",
       "Name: tariff_id, dtype: int64"
      ]
     },
     "execution_count": 43,
     "metadata": {},
     "output_type": "execute_result"
    }
   ],
   "source": [
    "df['tariff_id'].value_counts().tail(10)"
   ]
  },
  {
   "cell_type": "code",
   "execution_count": 44,
   "metadata": {},
   "outputs": [],
   "source": [
    "df.loc[df['tariff_id'].value_counts()[df['tariff_id']].values < 30, \n",
    "         'tariff_id'] = 1.99"
   ]
  },
  {
   "cell_type": "code",
   "execution_count": 45,
   "metadata": {},
   "outputs": [
    {
     "data": {
      "text/plain": [
       "count     169590\n",
       "unique        26\n",
       "top          1.1\n",
       "freq       68892\n",
       "Name: tariff_id, dtype: object"
      ]
     },
     "execution_count": 45,
     "metadata": {},
     "output_type": "execute_result"
    }
   ],
   "source": [
    "df['tariff_id'].describe()"
   ]
  },
  {
   "cell_type": "markdown",
   "metadata": {},
   "source": [
    "###### `living_region`"
   ]
  },
  {
   "cell_type": "code",
   "execution_count": 46,
   "metadata": {},
   "outputs": [
    {
     "data": {
      "text/plain": [
       "ХАКАСИЯ                  476\n",
       "КАМЧАТСКИЙ               407\n",
       "СЕВЕРНАЯОСЕТИЯ-АЛАНИЯ    377\n",
       "КАЛМЫКИЯ                 304\n",
       "ЕВРЕЙСКАЯ                201\n",
       "nan                      189\n",
       "НЕНЕЦКИЙ                 172\n",
       "МАГАДАНСКАЯ              159\n",
       "ДАГЕСТАН                  69\n",
       "АЛТАЙ                     54\n",
       "ЧЕЧЕНСКАЯ                 31\n",
       "ЧУКОТСКИЙ                 31\n",
       "ИНГУШЕТИЯ                 19\n",
       "ЧИТИНСКАЯ                 17\n",
       "ДАЛЬНИЙВОСТОК              1\n",
       "Name: living_region, dtype: int64"
      ]
     },
     "execution_count": 46,
     "metadata": {},
     "output_type": "execute_result"
    }
   ],
   "source": [
    "df['living_region'].value_counts().tail(15)"
   ]
  },
  {
   "cell_type": "code",
   "execution_count": 47,
   "metadata": {},
   "outputs": [],
   "source": [
    "df.loc[df['living_region'].value_counts()[df['living_region']].values < 70, \n",
    "         'living_region'] = 'OTHERS'"
   ]
  },
  {
   "cell_type": "code",
   "execution_count": 48,
   "metadata": {},
   "outputs": [
    {
     "data": {
      "text/plain": [
       "count         169590\n",
       "unique            80\n",
       "top       МОСКОВСКАЯ\n",
       "freq           12735\n",
       "Name: living_region, dtype: object"
      ]
     },
     "execution_count": 48,
     "metadata": {},
     "output_type": "execute_result"
    }
   ],
   "source": [
    "df['living_region'].describe()"
   ]
  },
  {
   "cell_type": "code",
   "execution_count": 49,
   "metadata": {},
   "outputs": [
    {
     "data": {
      "text/html": [
       "<div>\n",
       "<style scoped>\n",
       "    .dataframe tbody tr th:only-of-type {\n",
       "        vertical-align: middle;\n",
       "    }\n",
       "\n",
       "    .dataframe tbody tr th {\n",
       "        vertical-align: top;\n",
       "    }\n",
       "\n",
       "    .dataframe thead th {\n",
       "        text-align: right;\n",
       "    }\n",
       "</style>\n",
       "<table border=\"1\" class=\"dataframe\">\n",
       "  <thead>\n",
       "    <tr style=\"text-align: right;\">\n",
       "      <th></th>\n",
       "      <th>gender</th>\n",
       "      <th>age</th>\n",
       "      <th>marital_status</th>\n",
       "      <th>job_position</th>\n",
       "      <th>credit_sum</th>\n",
       "      <th>credit_month</th>\n",
       "      <th>tariff_id</th>\n",
       "      <th>score_shk</th>\n",
       "      <th>education</th>\n",
       "      <th>living_region</th>\n",
       "      <th>monthly_income</th>\n",
       "      <th>credit_count</th>\n",
       "      <th>overdue_credit_count</th>\n",
       "      <th>open_account_flg</th>\n",
       "      <th>no_creditInfo</th>\n",
       "    </tr>\n",
       "  </thead>\n",
       "  <tbody>\n",
       "    <tr>\n",
       "      <th>0</th>\n",
       "      <td>F</td>\n",
       "      <td>26.0</td>\n",
       "      <td>UNM</td>\n",
       "      <td>SPC</td>\n",
       "      <td>47878.0</td>\n",
       "      <td>10</td>\n",
       "      <td>1.1</td>\n",
       "      <td>0.512525</td>\n",
       "      <td>GRD</td>\n",
       "      <td>МОСКОВСКАЯ</td>\n",
       "      <td>60000.0</td>\n",
       "      <td>3</td>\n",
       "      <td>0</td>\n",
       "      <td>0</td>\n",
       "      <td>0</td>\n",
       "    </tr>\n",
       "    <tr>\n",
       "      <th>1</th>\n",
       "      <td>F</td>\n",
       "      <td>32.0</td>\n",
       "      <td>UNM</td>\n",
       "      <td>SPC</td>\n",
       "      <td>26268.0</td>\n",
       "      <td>10</td>\n",
       "      <td>1.1</td>\n",
       "      <td>0.465026</td>\n",
       "      <td>GRD</td>\n",
       "      <td>СТАВРОПОЛЬСКИЙ</td>\n",
       "      <td>39500.0</td>\n",
       "      <td>7</td>\n",
       "      <td>0</td>\n",
       "      <td>0</td>\n",
       "      <td>0</td>\n",
       "    </tr>\n",
       "    <tr>\n",
       "      <th>2</th>\n",
       "      <td>M</td>\n",
       "      <td>26.0</td>\n",
       "      <td>MAR</td>\n",
       "      <td>SPC</td>\n",
       "      <td>16793.0</td>\n",
       "      <td>14</td>\n",
       "      <td>1.0</td>\n",
       "      <td>0.445430</td>\n",
       "      <td>SCH</td>\n",
       "      <td>САНКТ-ПЕТЕРБУРГ</td>\n",
       "      <td>36000.0</td>\n",
       "      <td>2</td>\n",
       "      <td>0</td>\n",
       "      <td>0</td>\n",
       "      <td>0</td>\n",
       "    </tr>\n",
       "    <tr>\n",
       "      <th>3</th>\n",
       "      <td>M</td>\n",
       "      <td>37.0</td>\n",
       "      <td>MAR</td>\n",
       "      <td>SPC</td>\n",
       "      <td>42289.0</td>\n",
       "      <td>10</td>\n",
       "      <td>1.6</td>\n",
       "      <td>0.691609</td>\n",
       "      <td>SCH</td>\n",
       "      <td>АРХАНГЕЛЬСКАЯ</td>\n",
       "      <td>70000.0</td>\n",
       "      <td>1</td>\n",
       "      <td>0</td>\n",
       "      <td>0</td>\n",
       "      <td>0</td>\n",
       "    </tr>\n",
       "    <tr>\n",
       "      <th>4</th>\n",
       "      <td>M</td>\n",
       "      <td>43.0</td>\n",
       "      <td>MAR</td>\n",
       "      <td>INP</td>\n",
       "      <td>57567.0</td>\n",
       "      <td>10</td>\n",
       "      <td>1.1</td>\n",
       "      <td>0.341164</td>\n",
       "      <td>GRD</td>\n",
       "      <td>ХАНТЫ-МАНСИЙСКИЙ</td>\n",
       "      <td>60000.0</td>\n",
       "      <td>7</td>\n",
       "      <td>0</td>\n",
       "      <td>0</td>\n",
       "      <td>0</td>\n",
       "    </tr>\n",
       "  </tbody>\n",
       "</table>\n",
       "</div>"
      ],
      "text/plain": [
       "  gender   age marital_status job_position  credit_sum credit_month tariff_id  \\\n",
       "0      F  26.0            UNM          SPC     47878.0           10       1.1   \n",
       "1      F  32.0            UNM          SPC     26268.0           10       1.1   \n",
       "2      M  26.0            MAR          SPC     16793.0           14       1.0   \n",
       "3      M  37.0            MAR          SPC     42289.0           10       1.6   \n",
       "4      M  43.0            MAR          INP     57567.0           10       1.1   \n",
       "\n",
       "   score_shk education     living_region  monthly_income credit_count  \\\n",
       "0   0.512525       GRD        МОСКОВСКАЯ         60000.0            3   \n",
       "1   0.465026       GRD    СТАВРОПОЛЬСКИЙ         39500.0            7   \n",
       "2   0.445430       SCH   САНКТ-ПЕТЕРБУРГ         36000.0            2   \n",
       "3   0.691609       SCH     АРХАНГЕЛЬСКАЯ         70000.0            1   \n",
       "4   0.341164       GRD  ХАНТЫ-МАНСИЙСКИЙ         60000.0            7   \n",
       "\n",
       "  overdue_credit_count open_account_flg no_creditInfo  \n",
       "0                    0                0             0  \n",
       "1                    0                0             0  \n",
       "2                    0                0             0  \n",
       "3                    0                0             0  \n",
       "4                    0                0             0  "
      ]
     },
     "execution_count": 49,
     "metadata": {},
     "output_type": "execute_result"
    }
   ],
   "source": [
    "df.head()"
   ]
  },
  {
   "cell_type": "markdown",
   "metadata": {},
   "source": [
    "##### Корреляция числовых признаков"
   ]
  },
  {
   "cell_type": "code",
   "execution_count": 50,
   "metadata": {},
   "outputs": [
    {
     "data": {
      "text/plain": [
       "age             age               0.000000\n",
       "credit_sum      credit_sum        0.000000\n",
       "score_shk       score_shk         0.000000\n",
       "monthly_income  monthly_income    0.000000\n",
       "age             monthly_income    0.014507\n",
       "monthly_income  age               0.014507\n",
       "credit_sum      score_shk         0.054172\n",
       "score_shk       credit_sum        0.054172\n",
       "age             credit_sum        0.096189\n",
       "credit_sum      age               0.096189\n",
       "score_shk       monthly_income    0.107393\n",
       "monthly_income  score_shk         0.107393\n",
       "age             score_shk         0.166599\n",
       "score_shk       age               0.166599\n",
       "credit_sum      monthly_income    0.351102\n",
       "monthly_income  credit_sum        0.351102\n",
       "dtype: float64"
      ]
     },
     "execution_count": 50,
     "metadata": {},
     "output_type": "execute_result"
    }
   ],
   "source": [
    "# Матрицу корреляции заменим более компактным и\n",
    "# достаточно информативным вариантом представления\n",
    "corrs = df.corr().abs()\n",
    "np.fill_diagonal(corrs.values, 0)\n",
    "\n",
    "s = corrs.unstack()\n",
    "so = s.sort_values(kind=\"quicksort\")\n",
    "so"
   ]
  },
  {
   "cell_type": "markdown",
   "metadata": {},
   "source": [
    "Переменные для списков по типам признаков:"
   ]
  },
  {
   "cell_type": "code",
   "execution_count": 51,
   "metadata": {},
   "outputs": [
    {
     "name": "stdout",
     "output_type": "stream",
     "text": [
      "Категориальные признаки: ['gender', 'marital_status', 'job_position', 'credit_month', 'tariff_id', 'education', 'living_region', 'credit_count', 'overdue_credit_count', 'no_creditInfo']\n"
     ]
    }
   ],
   "source": [
    "num_columns = [i for i in df.columns if df[i].dtype.name!='object']\n",
    "cat_columns = [i for i in df.columns if df[i].dtype.name=='object']\n",
    "\n",
    "cat_columns.remove('open_account_flg')\n",
    "print('Категориальные признаки: ' + str(cat_columns))"
   ]
  },
  {
   "cell_type": "code",
   "execution_count": 52,
   "metadata": {},
   "outputs": [
    {
     "name": "stdout",
     "output_type": "stream",
     "text": [
      "Числовые признаки: ['age', 'credit_sum', 'score_shk', 'monthly_income']\n"
     ]
    }
   ],
   "source": [
    "print('Числовые признаки: ' + str(num_columns))"
   ]
  },
  {
   "cell_type": "markdown",
   "metadata": {},
   "source": [
    "##### Проверка нормальности распределения числовых предикторов"
   ]
  },
  {
   "cell_type": "markdown",
   "metadata": {},
   "source": [
    "Проверка наличия выбросов и графики распределения. "
   ]
  },
  {
   "cell_type": "code",
   "execution_count": 53,
   "metadata": {},
   "outputs": [
    {
     "name": "stderr",
     "output_type": "stream",
     "text": [
      "c:\\Users\\biaspaltsau_aa\\Anaconda3\\lib\\site-packages\\seaborn\\_decorators.py:36: FutureWarning: Pass the following variable as a keyword arg: x. From version 0.12, the only valid positional argument will be `data`, and passing other arguments without an explicit keyword will result in an error or misinterpretation.\n",
      "  warnings.warn(\n"
     ]
    },
    {
     "data": {
      "text/plain": [
       "[Text(0.5, 0, 'age')]"
      ]
     },
     "execution_count": 53,
     "metadata": {},
     "output_type": "execute_result"
    },
    {
     "name": "stderr",
     "output_type": "stream",
     "text": [
      "c:\\Users\\biaspaltsau_aa\\Anaconda3\\lib\\site-packages\\seaborn\\_decorators.py:36: FutureWarning: Pass the following variable as a keyword arg: x. From version 0.12, the only valid positional argument will be `data`, and passing other arguments without an explicit keyword will result in an error or misinterpretation.\n",
      "  warnings.warn(\n"
     ]
    },
    {
     "data": {
      "text/plain": [
       "[Text(0.5, 0, 'credit_sum')]"
      ]
     },
     "execution_count": 53,
     "metadata": {},
     "output_type": "execute_result"
    },
    {
     "name": "stderr",
     "output_type": "stream",
     "text": [
      "c:\\Users\\biaspaltsau_aa\\Anaconda3\\lib\\site-packages\\seaborn\\_decorators.py:36: FutureWarning: Pass the following variable as a keyword arg: x. From version 0.12, the only valid positional argument will be `data`, and passing other arguments without an explicit keyword will result in an error or misinterpretation.\n",
      "  warnings.warn(\n"
     ]
    },
    {
     "data": {
      "text/plain": [
       "[Text(0.5, 0, 'score_shk')]"
      ]
     },
     "execution_count": 53,
     "metadata": {},
     "output_type": "execute_result"
    },
    {
     "name": "stderr",
     "output_type": "stream",
     "text": [
      "c:\\Users\\biaspaltsau_aa\\Anaconda3\\lib\\site-packages\\seaborn\\_decorators.py:36: FutureWarning: Pass the following variable as a keyword arg: x. From version 0.12, the only valid positional argument will be `data`, and passing other arguments without an explicit keyword will result in an error or misinterpretation.\n",
      "  warnings.warn(\n"
     ]
    },
    {
     "data": {
      "text/plain": [
       "[Text(0.5, 0, 'monthly_income')]"
      ]
     },
     "execution_count": 53,
     "metadata": {},
     "output_type": "execute_result"
    },
    {
     "data": {
      "image/png": "[encoded data removed]",
      "text/plain": [
       "<Figure size 864x158.4 with 4 Axes>"
      ]
     },
     "metadata": {
      "needs_background": "light"
     },
     "output_type": "display_data"
    }
   ],
   "source": [
    "fig, ax = plt.subplots(2,2,figsize=(12,2.2))\n",
    "fig.subplots_adjust(hspace=0.5, wspace=0.2)\n",
    "k=0;\n",
    "for i in num_columns:\n",
    "    axes = sns.boxplot(df[i], ax=ax[k//2,k%2]);\n",
    "    axes.set(xlabel=i)\n",
    "    k += 1"
   ]
  },
  {
   "cell_type": "code",
   "execution_count": 54,
   "metadata": {},
   "outputs": [
    {
     "name": "stderr",
     "output_type": "stream",
     "text": [
      "c:\\Users\\biaspaltsau_aa\\Anaconda3\\lib\\site-packages\\seaborn\\distributions.py:2619: FutureWarning: `distplot` is a deprecated function and will be removed in a future version. Please adapt your code to use either `displot` (a figure-level function with similar flexibility) or `histplot` (an axes-level function for histograms).\n",
      "  warnings.warn(msg, FutureWarning)\n"
     ]
    },
    {
     "data": {
      "text/plain": [
       "<AxesSubplot:xlabel='age', ylabel='Density'>"
      ]
     },
     "execution_count": 54,
     "metadata": {},
     "output_type": "execute_result"
    },
    {
     "name": "stderr",
     "output_type": "stream",
     "text": [
      "c:\\Users\\biaspaltsau_aa\\Anaconda3\\lib\\site-packages\\seaborn\\distributions.py:2619: FutureWarning: `distplot` is a deprecated function and will be removed in a future version. Please adapt your code to use either `displot` (a figure-level function with similar flexibility) or `histplot` (an axes-level function for histograms).\n",
      "  warnings.warn(msg, FutureWarning)\n"
     ]
    },
    {
     "data": {
      "text/plain": [
       "<AxesSubplot:xlabel='credit_sum', ylabel='Density'>"
      ]
     },
     "execution_count": 54,
     "metadata": {},
     "output_type": "execute_result"
    },
    {
     "name": "stderr",
     "output_type": "stream",
     "text": [
      "c:\\Users\\biaspaltsau_aa\\Anaconda3\\lib\\site-packages\\seaborn\\distributions.py:2619: FutureWarning: `distplot` is a deprecated function and will be removed in a future version. Please adapt your code to use either `displot` (a figure-level function with similar flexibility) or `histplot` (an axes-level function for histograms).\n",
      "  warnings.warn(msg, FutureWarning)\n"
     ]
    },
    {
     "data": {
      "text/plain": [
       "<AxesSubplot:xlabel='score_shk', ylabel='Density'>"
      ]
     },
     "execution_count": 54,
     "metadata": {},
     "output_type": "execute_result"
    },
    {
     "name": "stderr",
     "output_type": "stream",
     "text": [
      "c:\\Users\\biaspaltsau_aa\\Anaconda3\\lib\\site-packages\\seaborn\\distributions.py:2619: FutureWarning: `distplot` is a deprecated function and will be removed in a future version. Please adapt your code to use either `displot` (a figure-level function with similar flexibility) or `histplot` (an axes-level function for histograms).\n",
      "  warnings.warn(msg, FutureWarning)\n"
     ]
    },
    {
     "data": {
      "text/plain": [
       "<AxesSubplot:xlabel='monthly_income', ylabel='Density'>"
      ]
     },
     "execution_count": 54,
     "metadata": {},
     "output_type": "execute_result"
    },
    {
     "data": {
      "image/png": "[encoded data removed]",
      "text/plain": [
       "<Figure size 864x180 with 4 Axes>"
      ]
     },
     "metadata": {
      "needs_background": "light"
     },
     "output_type": "display_data"
    }
   ],
   "source": [
    "names = list(num_columns)\n",
    "fig, axes = plt.subplots(1, 4, constrained_layout=True, figsize=(12,2.5))\n",
    "\n",
    "for i,t in enumerate(names):\n",
    "    sns.distplot(df[t], fit=norm, bins=50, ax=axes[i % 4]);"
   ]
  },
  {
   "cell_type": "markdown",
   "metadata": {},
   "source": [
    "После перебора различных методов скалирования выбран QuantileTransformer, который дал лучший результат. "
   ]
  },
  {
   "cell_type": "code",
   "execution_count": 55,
   "metadata": {},
   "outputs": [],
   "source": [
    "df_norm = df.copy()\n",
    "transform_feature = QuantileTransformer(output_distribution='normal')\n",
    "df_norm[names] = transform_feature.fit_transform(df[names])"
   ]
  },
  {
   "cell_type": "code",
   "execution_count": 56,
   "metadata": {},
   "outputs": [
    {
     "name": "stderr",
     "output_type": "stream",
     "text": [
      "c:\\Users\\biaspaltsau_aa\\Anaconda3\\lib\\site-packages\\seaborn\\distributions.py:2619: FutureWarning: `distplot` is a deprecated function and will be removed in a future version. Please adapt your code to use either `displot` (a figure-level function with similar flexibility) or `histplot` (an axes-level function for histograms).\n",
      "  warnings.warn(msg, FutureWarning)\n"
     ]
    },
    {
     "data": {
      "text/plain": [
       "<AxesSubplot:xlabel='age', ylabel='Density'>"
      ]
     },
     "execution_count": 56,
     "metadata": {},
     "output_type": "execute_result"
    },
    {
     "name": "stderr",
     "output_type": "stream",
     "text": [
      "c:\\Users\\biaspaltsau_aa\\Anaconda3\\lib\\site-packages\\seaborn\\distributions.py:2619: FutureWarning: `distplot` is a deprecated function and will be removed in a future version. Please adapt your code to use either `displot` (a figure-level function with similar flexibility) or `histplot` (an axes-level function for histograms).\n",
      "  warnings.warn(msg, FutureWarning)\n"
     ]
    },
    {
     "data": {
      "text/plain": [
       "<AxesSubplot:xlabel='credit_sum', ylabel='Density'>"
      ]
     },
     "execution_count": 56,
     "metadata": {},
     "output_type": "execute_result"
    },
    {
     "name": "stderr",
     "output_type": "stream",
     "text": [
      "c:\\Users\\biaspaltsau_aa\\Anaconda3\\lib\\site-packages\\seaborn\\distributions.py:2619: FutureWarning: `distplot` is a deprecated function and will be removed in a future version. Please adapt your code to use either `displot` (a figure-level function with similar flexibility) or `histplot` (an axes-level function for histograms).\n",
      "  warnings.warn(msg, FutureWarning)\n"
     ]
    },
    {
     "data": {
      "text/plain": [
       "<AxesSubplot:xlabel='score_shk', ylabel='Density'>"
      ]
     },
     "execution_count": 56,
     "metadata": {},
     "output_type": "execute_result"
    },
    {
     "name": "stderr",
     "output_type": "stream",
     "text": [
      "c:\\Users\\biaspaltsau_aa\\Anaconda3\\lib\\site-packages\\seaborn\\distributions.py:2619: FutureWarning: `distplot` is a deprecated function and will be removed in a future version. Please adapt your code to use either `displot` (a figure-level function with similar flexibility) or `histplot` (an axes-level function for histograms).\n",
      "  warnings.warn(msg, FutureWarning)\n"
     ]
    },
    {
     "data": {
      "text/plain": [
       "<AxesSubplot:xlabel='monthly_income', ylabel='Density'>"
      ]
     },
     "execution_count": 56,
     "metadata": {},
     "output_type": "execute_result"
    },
    {
     "data": {
      "image/png": "[encoded data removed]",
      "text/plain": [
       "<Figure size 720x144 with 4 Axes>"
      ]
     },
     "metadata": {
      "needs_background": "light"
     },
     "output_type": "display_data"
    }
   ],
   "source": [
    "fig, axes = plt.subplots(1, 4, constrained_layout=True, figsize=(10,2.0))\n",
    "\n",
    "for i,t in enumerate(names):\n",
    "    sns.distplot(df_norm[t], fit=norm, bins=50, ax=axes[i % 4])"
   ]
  },
  {
   "cell_type": "markdown",
   "metadata": {},
   "source": [
    "Применим тест `jarque_bera` и `normaltest` (from scipy.stats) для проверки нормальности распределения после применения QuantileTransformer. "
   ]
  },
  {
   "cell_type": "code",
   "execution_count": 57,
   "metadata": {},
   "outputs": [
    {
     "data": {
      "text/html": [
       "<div>\n",
       "<style scoped>\n",
       "    .dataframe tbody tr th:only-of-type {\n",
       "        vertical-align: middle;\n",
       "    }\n",
       "\n",
       "    .dataframe tbody tr th {\n",
       "        vertical-align: top;\n",
       "    }\n",
       "\n",
       "    .dataframe thead th {\n",
       "        text-align: right;\n",
       "    }\n",
       "</style>\n",
       "<table border=\"1\" class=\"dataframe\">\n",
       "  <thead>\n",
       "    <tr style=\"text-align: right;\">\n",
       "      <th></th>\n",
       "      <th>p_value</th>\n",
       "      <th>dist_type</th>\n",
       "    </tr>\n",
       "  </thead>\n",
       "  <tbody>\n",
       "    <tr>\n",
       "      <th>age</th>\n",
       "      <td>0.0</td>\n",
       "      <td>not normal</td>\n",
       "    </tr>\n",
       "    <tr>\n",
       "      <th>credit_sum</th>\n",
       "      <td>0.416749</td>\n",
       "      <td>normal</td>\n",
       "    </tr>\n",
       "    <tr>\n",
       "      <th>score_shk</th>\n",
       "      <td>0.030182</td>\n",
       "      <td>not normal</td>\n",
       "    </tr>\n",
       "    <tr>\n",
       "      <th>monthly_income</th>\n",
       "      <td>0.000832</td>\n",
       "      <td>not normal</td>\n",
       "    </tr>\n",
       "  </tbody>\n",
       "</table>\n",
       "</div>"
      ],
      "text/plain": [
       "                 p_value   dist_type\n",
       "age                  0.0  not normal\n",
       "credit_sum      0.416749      normal\n",
       "score_shk       0.030182  not normal\n",
       "monthly_income  0.000832  not normal"
      ]
     },
     "execution_count": 57,
     "metadata": {},
     "output_type": "execute_result"
    }
   ],
   "source": [
    "# тест jarque_bera, позаимствовала из ДЗ2 Павла Дубовика) \n",
    "\n",
    "norm_test = pd.DataFrame(index=names, columns=['p_value','dist_type'])\n",
    "for i in names:\n",
    "    norm_test.loc[i, ['p_value']] = stats.jarque_bera(df_norm[i])[1]\n",
    "    if stats.jarque_bera(df_norm[i])[1] >= 0.05:\n",
    "        norm_test.loc[i, ['dist_type']] = 'normal'\n",
    "    else:\n",
    "        norm_test.loc[i, ['dist_type']] = 'not normal'\n",
    "        \n",
    "norm_test        "
   ]
  },
  {
   "cell_type": "code",
   "execution_count": 58,
   "metadata": {},
   "outputs": [
    {
     "data": {
      "text/plain": [
       "array([3.13457027e-126, 4.18027753e-001, 2.77561479e-002, 6.24148622e-004])"
      ]
     },
     "execution_count": 58,
     "metadata": {},
     "output_type": "execute_result"
    }
   ],
   "source": [
    "transformed_k2, transformed_p = normaltest(df_norm[names])\n",
    "transformed_p"
   ]
  },
  {
   "cell_type": "markdown",
   "metadata": {},
   "source": [
    "Распределение соответствует нормальному, если значение p > 0.05. Условие соблюдается не для всех переменных, даже если визуально распределение практически нормальное.  "
   ]
  },
  {
   "cell_type": "markdown",
   "metadata": {},
   "source": [
    "Для категориальных переменных применяем дамми-кодирование."
   ]
  },
  {
   "cell_type": "code",
   "execution_count": 59,
   "metadata": {},
   "outputs": [],
   "source": [
    "#df = pd.DataFrame({'A': ['a', 'b', 'a'], 'B': ['b', 'a', 'c'],\n",
    "#                   'C': [1, 2, 3]})"
   ]
  },
  {
   "cell_type": "code",
   "execution_count": 60,
   "metadata": {},
   "outputs": [],
   "source": [
    "#df"
   ]
  },
  {
   "cell_type": "code",
   "execution_count": 61,
   "metadata": {},
   "outputs": [],
   "source": [
    "#pd.get_dummies(df, prefix=['A', 'B'])"
   ]
  },
  {
   "cell_type": "code",
   "execution_count": null,
   "metadata": {},
   "outputs": [],
   "source": []
  },
  {
   "cell_type": "code",
   "execution_count": null,
   "metadata": {},
   "outputs": [],
   "source": []
  },
  {
   "cell_type": "code",
   "execution_count": 62,
   "metadata": {},
   "outputs": [],
   "source": [
    "df_cat = pd.get_dummies(df[cat_columns])"
   ]
  },
  {
   "cell_type": "code",
   "execution_count": 63,
   "metadata": {},
   "outputs": [],
   "source": [
    "df_num = df[num_columns]"
   ]
  },
  {
   "cell_type": "code",
   "execution_count": 64,
   "metadata": {},
   "outputs": [],
   "source": [
    "df_target = df.open_account_flg"
   ]
  },
  {
   "cell_type": "markdown",
   "metadata": {},
   "source": [
    "Объединение:"
   ]
  },
  {
   "cell_type": "code",
   "execution_count": 65,
   "metadata": {},
   "outputs": [],
   "source": [
    "data = pd.concat((df_num, df_cat, df_target), axis=1)"
   ]
  },
  {
   "cell_type": "code",
   "execution_count": 66,
   "metadata": {},
   "outputs": [
    {
     "data": {
      "text/html": [
       "<div>\n",
       "<style scoped>\n",
       "    .dataframe tbody tr th:only-of-type {\n",
       "        vertical-align: middle;\n",
       "    }\n",
       "\n",
       "    .dataframe tbody tr th {\n",
       "        vertical-align: top;\n",
       "    }\n",
       "\n",
       "    .dataframe thead th {\n",
       "        text-align: right;\n",
       "    }\n",
       "</style>\n",
       "<table border=\"1\" class=\"dataframe\">\n",
       "  <thead>\n",
       "    <tr style=\"text-align: right;\">\n",
       "      <th></th>\n",
       "      <th>age</th>\n",
       "      <th>credit_sum</th>\n",
       "      <th>score_shk</th>\n",
       "      <th>monthly_income</th>\n",
       "      <th>gender_F</th>\n",
       "      <th>gender_M</th>\n",
       "      <th>marital_status_CIV</th>\n",
       "      <th>marital_status_DIV</th>\n",
       "      <th>marital_status_MAR</th>\n",
       "      <th>marital_status_UNM</th>\n",
       "      <th>marital_status_WID</th>\n",
       "      <th>job_position_ATP</th>\n",
       "      <th>job_position_BIS</th>\n",
       "      <th>job_position_BIU</th>\n",
       "      <th>job_position_DIR</th>\n",
       "      <th>job_position_INP</th>\n",
       "      <th>job_position_NOR</th>\n",
       "      <th>job_position_OTH</th>\n",
       "      <th>job_position_PNA</th>\n",
       "      <th>job_position_PNI</th>\n",
       "      <th>job_position_SPC</th>\n",
       "      <th>job_position_UMN</th>\n",
       "      <th>job_position_WOI</th>\n",
       "      <th>job_position_WRK</th>\n",
       "      <th>job_position_WRP</th>\n",
       "      <th>credit_month_10</th>\n",
       "      <th>credit_month_11</th>\n",
       "      <th>credit_month_12</th>\n",
       "      <th>credit_month_13</th>\n",
       "      <th>credit_month_14</th>\n",
       "      <th>credit_month_15</th>\n",
       "      <th>credit_month_16</th>\n",
       "      <th>credit_month_17</th>\n",
       "      <th>credit_month_18</th>\n",
       "      <th>credit_month_19</th>\n",
       "      <th>credit_month_20</th>\n",
       "      <th>credit_month_21</th>\n",
       "      <th>credit_month_22</th>\n",
       "      <th>credit_month_23</th>\n",
       "      <th>credit_month_24</th>\n",
       "      <th>credit_month_25</th>\n",
       "      <th>credit_month_26</th>\n",
       "      <th>credit_month_27</th>\n",
       "      <th>credit_month_28</th>\n",
       "      <th>credit_month_29</th>\n",
       "      <th>credit_month_3</th>\n",
       "      <th>credit_month_30</th>\n",
       "      <th>credit_month_31</th>\n",
       "      <th>credit_month_32</th>\n",
       "      <th>credit_month_36</th>\n",
       "      <th>...</th>\n",
       "      <th>living_region_САХА/ЯКУТИЯ/</th>\n",
       "      <th>living_region_САХАЛИНСКАЯ</th>\n",
       "      <th>living_region_СВЕРДЛОВСКАЯ</th>\n",
       "      <th>living_region_СЕВЕРНАЯОСЕТИЯ-АЛАНИЯ</th>\n",
       "      <th>living_region_СМОЛЕНСКАЯ</th>\n",
       "      <th>living_region_СТАВРОПОЛЬСКИЙ</th>\n",
       "      <th>living_region_ТАМБОВСКАЯ</th>\n",
       "      <th>living_region_ТАТАРСТАН</th>\n",
       "      <th>living_region_ТВЕРСКАЯ</th>\n",
       "      <th>living_region_ТОМСКАЯ</th>\n",
       "      <th>living_region_ТУЛЬСКАЯ</th>\n",
       "      <th>living_region_ТЫВА</th>\n",
       "      <th>living_region_ТЮМЕНСКАЯ</th>\n",
       "      <th>living_region_УДМУРТСКАЯ</th>\n",
       "      <th>living_region_УЛЬЯНОВСКАЯ</th>\n",
       "      <th>living_region_ХАБАРОВСКИЙ</th>\n",
       "      <th>living_region_ХАКАСИЯ</th>\n",
       "      <th>living_region_ХАНТЫ-МАНСИЙСКИЙ</th>\n",
       "      <th>living_region_ЧЕЛЯБИНСКАЯ</th>\n",
       "      <th>living_region_ЧУВАШСКАЯ</th>\n",
       "      <th>living_region_ЯМАЛО-НЕНЕЦКИЙ</th>\n",
       "      <th>living_region_ЯРОСЛАВСКАЯ</th>\n",
       "      <th>credit_count_0</th>\n",
       "      <th>credit_count_1</th>\n",
       "      <th>credit_count_2</th>\n",
       "      <th>credit_count_3</th>\n",
       "      <th>credit_count_4</th>\n",
       "      <th>credit_count_5</th>\n",
       "      <th>credit_count_6</th>\n",
       "      <th>credit_count_7</th>\n",
       "      <th>credit_count_8</th>\n",
       "      <th>credit_count_9</th>\n",
       "      <th>credit_count_10</th>\n",
       "      <th>credit_count_11</th>\n",
       "      <th>credit_count_12</th>\n",
       "      <th>credit_count_13</th>\n",
       "      <th>credit_count_14</th>\n",
       "      <th>credit_count_15</th>\n",
       "      <th>credit_count_16</th>\n",
       "      <th>credit_count_17</th>\n",
       "      <th>credit_count_18</th>\n",
       "      <th>credit_count_19</th>\n",
       "      <th>credit_count_21</th>\n",
       "      <th>overdue_credit_count_0</th>\n",
       "      <th>overdue_credit_count_1</th>\n",
       "      <th>overdue_credit_count_2</th>\n",
       "      <th>overdue_credit_count_3</th>\n",
       "      <th>no_creditInfo_0</th>\n",
       "      <th>no_creditInfo_1</th>\n",
       "      <th>open_account_flg</th>\n",
       "    </tr>\n",
       "  </thead>\n",
       "  <tbody>\n",
       "    <tr>\n",
       "      <th>0</th>\n",
       "      <td>26.0</td>\n",
       "      <td>47878.0</td>\n",
       "      <td>0.512525</td>\n",
       "      <td>60000.0</td>\n",
       "      <td>1</td>\n",
       "      <td>0</td>\n",
       "      <td>0</td>\n",
       "      <td>0</td>\n",
       "      <td>0</td>\n",
       "      <td>1</td>\n",
       "      <td>0</td>\n",
       "      <td>0</td>\n",
       "      <td>0</td>\n",
       "      <td>0</td>\n",
       "      <td>0</td>\n",
       "      <td>0</td>\n",
       "      <td>0</td>\n",
       "      <td>0</td>\n",
       "      <td>0</td>\n",
       "      <td>0</td>\n",
       "      <td>1</td>\n",
       "      <td>0</td>\n",
       "      <td>0</td>\n",
       "      <td>0</td>\n",
       "      <td>0</td>\n",
       "      <td>1</td>\n",
       "      <td>0</td>\n",
       "      <td>0</td>\n",
       "      <td>0</td>\n",
       "      <td>0</td>\n",
       "      <td>0</td>\n",
       "      <td>0</td>\n",
       "      <td>0</td>\n",
       "      <td>0</td>\n",
       "      <td>0</td>\n",
       "      <td>0</td>\n",
       "      <td>0</td>\n",
       "      <td>0</td>\n",
       "      <td>0</td>\n",
       "      <td>0</td>\n",
       "      <td>0</td>\n",
       "      <td>0</td>\n",
       "      <td>0</td>\n",
       "      <td>0</td>\n",
       "      <td>0</td>\n",
       "      <td>0</td>\n",
       "      <td>0</td>\n",
       "      <td>0</td>\n",
       "      <td>0</td>\n",
       "      <td>0</td>\n",
       "      <td>...</td>\n",
       "      <td>0</td>\n",
       "      <td>0</td>\n",
       "      <td>0</td>\n",
       "      <td>0</td>\n",
       "      <td>0</td>\n",
       "      <td>0</td>\n",
       "      <td>0</td>\n",
       "      <td>0</td>\n",
       "      <td>0</td>\n",
       "      <td>0</td>\n",
       "      <td>0</td>\n",
       "      <td>0</td>\n",
       "      <td>0</td>\n",
       "      <td>0</td>\n",
       "      <td>0</td>\n",
       "      <td>0</td>\n",
       "      <td>0</td>\n",
       "      <td>0</td>\n",
       "      <td>0</td>\n",
       "      <td>0</td>\n",
       "      <td>0</td>\n",
       "      <td>0</td>\n",
       "      <td>0</td>\n",
       "      <td>0</td>\n",
       "      <td>0</td>\n",
       "      <td>1</td>\n",
       "      <td>0</td>\n",
       "      <td>0</td>\n",
       "      <td>0</td>\n",
       "      <td>0</td>\n",
       "      <td>0</td>\n",
       "      <td>0</td>\n",
       "      <td>0</td>\n",
       "      <td>0</td>\n",
       "      <td>0</td>\n",
       "      <td>0</td>\n",
       "      <td>0</td>\n",
       "      <td>0</td>\n",
       "      <td>0</td>\n",
       "      <td>0</td>\n",
       "      <td>0</td>\n",
       "      <td>0</td>\n",
       "      <td>0</td>\n",
       "      <td>1</td>\n",
       "      <td>0</td>\n",
       "      <td>0</td>\n",
       "      <td>0</td>\n",
       "      <td>1</td>\n",
       "      <td>0</td>\n",
       "      <td>0</td>\n",
       "    </tr>\n",
       "    <tr>\n",
       "      <th>1</th>\n",
       "      <td>32.0</td>\n",
       "      <td>26268.0</td>\n",
       "      <td>0.465026</td>\n",
       "      <td>39500.0</td>\n",
       "      <td>1</td>\n",
       "      <td>0</td>\n",
       "      <td>0</td>\n",
       "      <td>0</td>\n",
       "      <td>0</td>\n",
       "      <td>1</td>\n",
       "      <td>0</td>\n",
       "      <td>0</td>\n",
       "      <td>0</td>\n",
       "      <td>0</td>\n",
       "      <td>0</td>\n",
       "      <td>0</td>\n",
       "      <td>0</td>\n",
       "      <td>0</td>\n",
       "      <td>0</td>\n",
       "      <td>0</td>\n",
       "      <td>1</td>\n",
       "      <td>0</td>\n",
       "      <td>0</td>\n",
       "      <td>0</td>\n",
       "      <td>0</td>\n",
       "      <td>1</td>\n",
       "      <td>0</td>\n",
       "      <td>0</td>\n",
       "      <td>0</td>\n",
       "      <td>0</td>\n",
       "      <td>0</td>\n",
       "      <td>0</td>\n",
       "      <td>0</td>\n",
       "      <td>0</td>\n",
       "      <td>0</td>\n",
       "      <td>0</td>\n",
       "      <td>0</td>\n",
       "      <td>0</td>\n",
       "      <td>0</td>\n",
       "      <td>0</td>\n",
       "      <td>0</td>\n",
       "      <td>0</td>\n",
       "      <td>0</td>\n",
       "      <td>0</td>\n",
       "      <td>0</td>\n",
       "      <td>0</td>\n",
       "      <td>0</td>\n",
       "      <td>0</td>\n",
       "      <td>0</td>\n",
       "      <td>0</td>\n",
       "      <td>...</td>\n",
       "      <td>0</td>\n",
       "      <td>0</td>\n",
       "      <td>0</td>\n",
       "      <td>0</td>\n",
       "      <td>0</td>\n",
       "      <td>1</td>\n",
       "      <td>0</td>\n",
       "      <td>0</td>\n",
       "      <td>0</td>\n",
       "      <td>0</td>\n",
       "      <td>0</td>\n",
       "      <td>0</td>\n",
       "      <td>0</td>\n",
       "      <td>0</td>\n",
       "      <td>0</td>\n",
       "      <td>0</td>\n",
       "      <td>0</td>\n",
       "      <td>0</td>\n",
       "      <td>0</td>\n",
       "      <td>0</td>\n",
       "      <td>0</td>\n",
       "      <td>0</td>\n",
       "      <td>0</td>\n",
       "      <td>0</td>\n",
       "      <td>0</td>\n",
       "      <td>0</td>\n",
       "      <td>0</td>\n",
       "      <td>0</td>\n",
       "      <td>0</td>\n",
       "      <td>1</td>\n",
       "      <td>0</td>\n",
       "      <td>0</td>\n",
       "      <td>0</td>\n",
       "      <td>0</td>\n",
       "      <td>0</td>\n",
       "      <td>0</td>\n",
       "      <td>0</td>\n",
       "      <td>0</td>\n",
       "      <td>0</td>\n",
       "      <td>0</td>\n",
       "      <td>0</td>\n",
       "      <td>0</td>\n",
       "      <td>0</td>\n",
       "      <td>1</td>\n",
       "      <td>0</td>\n",
       "      <td>0</td>\n",
       "      <td>0</td>\n",
       "      <td>1</td>\n",
       "      <td>0</td>\n",
       "      <td>0</td>\n",
       "    </tr>\n",
       "    <tr>\n",
       "      <th>2</th>\n",
       "      <td>26.0</td>\n",
       "      <td>16793.0</td>\n",
       "      <td>0.445430</td>\n",
       "      <td>36000.0</td>\n",
       "      <td>0</td>\n",
       "      <td>1</td>\n",
       "      <td>0</td>\n",
       "      <td>0</td>\n",
       "      <td>1</td>\n",
       "      <td>0</td>\n",
       "      <td>0</td>\n",
       "      <td>0</td>\n",
       "      <td>0</td>\n",
       "      <td>0</td>\n",
       "      <td>0</td>\n",
       "      <td>0</td>\n",
       "      <td>0</td>\n",
       "      <td>0</td>\n",
       "      <td>0</td>\n",
       "      <td>0</td>\n",
       "      <td>1</td>\n",
       "      <td>0</td>\n",
       "      <td>0</td>\n",
       "      <td>0</td>\n",
       "      <td>0</td>\n",
       "      <td>0</td>\n",
       "      <td>0</td>\n",
       "      <td>0</td>\n",
       "      <td>0</td>\n",
       "      <td>1</td>\n",
       "      <td>0</td>\n",
       "      <td>0</td>\n",
       "      <td>0</td>\n",
       "      <td>0</td>\n",
       "      <td>0</td>\n",
       "      <td>0</td>\n",
       "      <td>0</td>\n",
       "      <td>0</td>\n",
       "      <td>0</td>\n",
       "      <td>0</td>\n",
       "      <td>0</td>\n",
       "      <td>0</td>\n",
       "      <td>0</td>\n",
       "      <td>0</td>\n",
       "      <td>0</td>\n",
       "      <td>0</td>\n",
       "      <td>0</td>\n",
       "      <td>0</td>\n",
       "      <td>0</td>\n",
       "      <td>0</td>\n",
       "      <td>...</td>\n",
       "      <td>0</td>\n",
       "      <td>0</td>\n",
       "      <td>0</td>\n",
       "      <td>0</td>\n",
       "      <td>0</td>\n",
       "      <td>0</td>\n",
       "      <td>0</td>\n",
       "      <td>0</td>\n",
       "      <td>0</td>\n",
       "      <td>0</td>\n",
       "      <td>0</td>\n",
       "      <td>0</td>\n",
       "      <td>0</td>\n",
       "      <td>0</td>\n",
       "      <td>0</td>\n",
       "      <td>0</td>\n",
       "      <td>0</td>\n",
       "      <td>0</td>\n",
       "      <td>0</td>\n",
       "      <td>0</td>\n",
       "      <td>0</td>\n",
       "      <td>0</td>\n",
       "      <td>0</td>\n",
       "      <td>0</td>\n",
       "      <td>1</td>\n",
       "      <td>0</td>\n",
       "      <td>0</td>\n",
       "      <td>0</td>\n",
       "      <td>0</td>\n",
       "      <td>0</td>\n",
       "      <td>0</td>\n",
       "      <td>0</td>\n",
       "      <td>0</td>\n",
       "      <td>0</td>\n",
       "      <td>0</td>\n",
       "      <td>0</td>\n",
       "      <td>0</td>\n",
       "      <td>0</td>\n",
       "      <td>0</td>\n",
       "      <td>0</td>\n",
       "      <td>0</td>\n",
       "      <td>0</td>\n",
       "      <td>0</td>\n",
       "      <td>1</td>\n",
       "      <td>0</td>\n",
       "      <td>0</td>\n",
       "      <td>0</td>\n",
       "      <td>1</td>\n",
       "      <td>0</td>\n",
       "      <td>0</td>\n",
       "    </tr>\n",
       "    <tr>\n",
       "      <th>3</th>\n",
       "      <td>37.0</td>\n",
       "      <td>42289.0</td>\n",
       "      <td>0.691609</td>\n",
       "      <td>70000.0</td>\n",
       "      <td>0</td>\n",
       "      <td>1</td>\n",
       "      <td>0</td>\n",
       "      <td>0</td>\n",
       "      <td>1</td>\n",
       "      <td>0</td>\n",
       "      <td>0</td>\n",
       "      <td>0</td>\n",
       "      <td>0</td>\n",
       "      <td>0</td>\n",
       "      <td>0</td>\n",
       "      <td>0</td>\n",
       "      <td>0</td>\n",
       "      <td>0</td>\n",
       "      <td>0</td>\n",
       "      <td>0</td>\n",
       "      <td>1</td>\n",
       "      <td>0</td>\n",
       "      <td>0</td>\n",
       "      <td>0</td>\n",
       "      <td>0</td>\n",
       "      <td>1</td>\n",
       "      <td>0</td>\n",
       "      <td>0</td>\n",
       "      <td>0</td>\n",
       "      <td>0</td>\n",
       "      <td>0</td>\n",
       "      <td>0</td>\n",
       "      <td>0</td>\n",
       "      <td>0</td>\n",
       "      <td>0</td>\n",
       "      <td>0</td>\n",
       "      <td>0</td>\n",
       "      <td>0</td>\n",
       "      <td>0</td>\n",
       "      <td>0</td>\n",
       "      <td>0</td>\n",
       "      <td>0</td>\n",
       "      <td>0</td>\n",
       "      <td>0</td>\n",
       "      <td>0</td>\n",
       "      <td>0</td>\n",
       "      <td>0</td>\n",
       "      <td>0</td>\n",
       "      <td>0</td>\n",
       "      <td>0</td>\n",
       "      <td>...</td>\n",
       "      <td>0</td>\n",
       "      <td>0</td>\n",
       "      <td>0</td>\n",
       "      <td>0</td>\n",
       "      <td>0</td>\n",
       "      <td>0</td>\n",
       "      <td>0</td>\n",
       "      <td>0</td>\n",
       "      <td>0</td>\n",
       "      <td>0</td>\n",
       "      <td>0</td>\n",
       "      <td>0</td>\n",
       "      <td>0</td>\n",
       "      <td>0</td>\n",
       "      <td>0</td>\n",
       "      <td>0</td>\n",
       "      <td>0</td>\n",
       "      <td>0</td>\n",
       "      <td>0</td>\n",
       "      <td>0</td>\n",
       "      <td>0</td>\n",
       "      <td>0</td>\n",
       "      <td>0</td>\n",
       "      <td>1</td>\n",
       "      <td>0</td>\n",
       "      <td>0</td>\n",
       "      <td>0</td>\n",
       "      <td>0</td>\n",
       "      <td>0</td>\n",
       "      <td>0</td>\n",
       "      <td>0</td>\n",
       "      <td>0</td>\n",
       "      <td>0</td>\n",
       "      <td>0</td>\n",
       "      <td>0</td>\n",
       "      <td>0</td>\n",
       "      <td>0</td>\n",
       "      <td>0</td>\n",
       "      <td>0</td>\n",
       "      <td>0</td>\n",
       "      <td>0</td>\n",
       "      <td>0</td>\n",
       "      <td>0</td>\n",
       "      <td>1</td>\n",
       "      <td>0</td>\n",
       "      <td>0</td>\n",
       "      <td>0</td>\n",
       "      <td>1</td>\n",
       "      <td>0</td>\n",
       "      <td>0</td>\n",
       "    </tr>\n",
       "    <tr>\n",
       "      <th>4</th>\n",
       "      <td>43.0</td>\n",
       "      <td>57567.0</td>\n",
       "      <td>0.341164</td>\n",
       "      <td>60000.0</td>\n",
       "      <td>0</td>\n",
       "      <td>1</td>\n",
       "      <td>0</td>\n",
       "      <td>0</td>\n",
       "      <td>1</td>\n",
       "      <td>0</td>\n",
       "      <td>0</td>\n",
       "      <td>0</td>\n",
       "      <td>0</td>\n",
       "      <td>0</td>\n",
       "      <td>0</td>\n",
       "      <td>1</td>\n",
       "      <td>0</td>\n",
       "      <td>0</td>\n",
       "      <td>0</td>\n",
       "      <td>0</td>\n",
       "      <td>0</td>\n",
       "      <td>0</td>\n",
       "      <td>0</td>\n",
       "      <td>0</td>\n",
       "      <td>0</td>\n",
       "      <td>1</td>\n",
       "      <td>0</td>\n",
       "      <td>0</td>\n",
       "      <td>0</td>\n",
       "      <td>0</td>\n",
       "      <td>0</td>\n",
       "      <td>0</td>\n",
       "      <td>0</td>\n",
       "      <td>0</td>\n",
       "      <td>0</td>\n",
       "      <td>0</td>\n",
       "      <td>0</td>\n",
       "      <td>0</td>\n",
       "      <td>0</td>\n",
       "      <td>0</td>\n",
       "      <td>0</td>\n",
       "      <td>0</td>\n",
       "      <td>0</td>\n",
       "      <td>0</td>\n",
       "      <td>0</td>\n",
       "      <td>0</td>\n",
       "      <td>0</td>\n",
       "      <td>0</td>\n",
       "      <td>0</td>\n",
       "      <td>0</td>\n",
       "      <td>...</td>\n",
       "      <td>0</td>\n",
       "      <td>0</td>\n",
       "      <td>0</td>\n",
       "      <td>0</td>\n",
       "      <td>0</td>\n",
       "      <td>0</td>\n",
       "      <td>0</td>\n",
       "      <td>0</td>\n",
       "      <td>0</td>\n",
       "      <td>0</td>\n",
       "      <td>0</td>\n",
       "      <td>0</td>\n",
       "      <td>0</td>\n",
       "      <td>0</td>\n",
       "      <td>0</td>\n",
       "      <td>0</td>\n",
       "      <td>0</td>\n",
       "      <td>1</td>\n",
       "      <td>0</td>\n",
       "      <td>0</td>\n",
       "      <td>0</td>\n",
       "      <td>0</td>\n",
       "      <td>0</td>\n",
       "      <td>0</td>\n",
       "      <td>0</td>\n",
       "      <td>0</td>\n",
       "      <td>0</td>\n",
       "      <td>0</td>\n",
       "      <td>0</td>\n",
       "      <td>1</td>\n",
       "      <td>0</td>\n",
       "      <td>0</td>\n",
       "      <td>0</td>\n",
       "      <td>0</td>\n",
       "      <td>0</td>\n",
       "      <td>0</td>\n",
       "      <td>0</td>\n",
       "      <td>0</td>\n",
       "      <td>0</td>\n",
       "      <td>0</td>\n",
       "      <td>0</td>\n",
       "      <td>0</td>\n",
       "      <td>0</td>\n",
       "      <td>1</td>\n",
       "      <td>0</td>\n",
       "      <td>0</td>\n",
       "      <td>0</td>\n",
       "      <td>1</td>\n",
       "      <td>0</td>\n",
       "      <td>0</td>\n",
       "    </tr>\n",
       "  </tbody>\n",
       "</table>\n",
       "<p>5 rows × 195 columns</p>\n",
       "</div>"
      ],
      "text/plain": [
       "    age  credit_sum  score_shk  monthly_income  gender_F  gender_M  \\\n",
       "0  26.0     47878.0   0.512525         60000.0         1         0   \n",
       "1  32.0     26268.0   0.465026         39500.0         1         0   \n",
       "2  26.0     16793.0   0.445430         36000.0         0         1   \n",
       "3  37.0     42289.0   0.691609         70000.0         0         1   \n",
       "4  43.0     57567.0   0.341164         60000.0         0         1   \n",
       "\n",
       "   marital_status_CIV  marital_status_DIV  marital_status_MAR  \\\n",
       "0                   0                   0                   0   \n",
       "1                   0                   0                   0   \n",
       "2                   0                   0                   1   \n",
       "3                   0                   0                   1   \n",
       "4                   0                   0                   1   \n",
       "\n",
       "   marital_status_UNM  marital_status_WID  job_position_ATP  job_position_BIS  \\\n",
       "0                   1                   0                 0                 0   \n",
       "1                   1                   0                 0                 0   \n",
       "2                   0                   0                 0                 0   \n",
       "3                   0                   0                 0                 0   \n",
       "4                   0                   0                 0                 0   \n",
       "\n",
       "   job_position_BIU  job_position_DIR  job_position_INP  job_position_NOR  \\\n",
       "0                 0                 0                 0                 0   \n",
       "1                 0                 0                 0                 0   \n",
       "2                 0                 0                 0                 0   \n",
       "3                 0                 0                 0                 0   \n",
       "4                 0                 0                 1                 0   \n",
       "\n",
       "   job_position_OTH  job_position_PNA  job_position_PNI  job_position_SPC  \\\n",
       "0                 0                 0                 0                 1   \n",
       "1                 0                 0                 0                 1   \n",
       "2                 0                 0                 0                 1   \n",
       "3                 0                 0                 0                 1   \n",
       "4                 0                 0                 0                 0   \n",
       "\n",
       "   job_position_UMN  job_position_WOI  job_position_WRK  job_position_WRP  \\\n",
       "0                 0                 0                 0                 0   \n",
       "1                 0                 0                 0                 0   \n",
       "2                 0                 0                 0                 0   \n",
       "3                 0                 0                 0                 0   \n",
       "4                 0                 0                 0                 0   \n",
       "\n",
       "   credit_month_10  credit_month_11  credit_month_12  credit_month_13  \\\n",
       "0                1                0                0                0   \n",
       "1                1                0                0                0   \n",
       "2                0                0                0                0   \n",
       "3                1                0                0                0   \n",
       "4                1                0                0                0   \n",
       "\n",
       "   credit_month_14  credit_month_15  credit_month_16  credit_month_17  \\\n",
       "0                0                0                0                0   \n",
       "1                0                0                0                0   \n",
       "2                1                0                0                0   \n",
       "3                0                0                0                0   \n",
       "4                0                0                0                0   \n",
       "\n",
       "   credit_month_18  credit_month_19  credit_month_20  credit_month_21  \\\n",
       "0                0                0                0                0   \n",
       "1                0                0                0                0   \n",
       "2                0                0                0                0   \n",
       "3                0                0                0                0   \n",
       "4                0                0                0                0   \n",
       "\n",
       "   credit_month_22  credit_month_23  credit_month_24  credit_month_25  \\\n",
       "0                0                0                0                0   \n",
       "1                0                0                0                0   \n",
       "2                0                0                0                0   \n",
       "3                0                0                0                0   \n",
       "4                0                0                0                0   \n",
       "\n",
       "   credit_month_26  credit_month_27  credit_month_28  credit_month_29  \\\n",
       "0                0                0                0                0   \n",
       "1                0                0                0                0   \n",
       "2                0                0                0                0   \n",
       "3                0                0                0                0   \n",
       "4                0                0                0                0   \n",
       "\n",
       "   credit_month_3  credit_month_30  credit_month_31  credit_month_32  \\\n",
       "0               0                0                0                0   \n",
       "1               0                0                0                0   \n",
       "2               0                0                0                0   \n",
       "3               0                0                0                0   \n",
       "4               0                0                0                0   \n",
       "\n",
       "   credit_month_36  ...  living_region_САХА/ЯКУТИЯ/  \\\n",
       "0                0  ...                           0   \n",
       "1                0  ...                           0   \n",
       "2                0  ...                           0   \n",
       "3                0  ...                           0   \n",
       "4                0  ...                           0   \n",
       "\n",
       "   living_region_САХАЛИНСКАЯ  living_region_СВЕРДЛОВСКАЯ  \\\n",
       "0                          0                           0   \n",
       "1                          0                           0   \n",
       "2                          0                           0   \n",
       "3                          0                           0   \n",
       "4                          0                           0   \n",
       "\n",
       "   living_region_СЕВЕРНАЯОСЕТИЯ-АЛАНИЯ  living_region_СМОЛЕНСКАЯ  \\\n",
       "0                                    0                         0   \n",
       "1                                    0                         0   \n",
       "2                                    0                         0   \n",
       "3                                    0                         0   \n",
       "4                                    0                         0   \n",
       "\n",
       "   living_region_СТАВРОПОЛЬСКИЙ  living_region_ТАМБОВСКАЯ  \\\n",
       "0                             0                         0   \n",
       "1                             1                         0   \n",
       "2                             0                         0   \n",
       "3                             0                         0   \n",
       "4                             0                         0   \n",
       "\n",
       "   living_region_ТАТАРСТАН  living_region_ТВЕРСКАЯ  living_region_ТОМСКАЯ  \\\n",
       "0                        0                       0                      0   \n",
       "1                        0                       0                      0   \n",
       "2                        0                       0                      0   \n",
       "3                        0                       0                      0   \n",
       "4                        0                       0                      0   \n",
       "\n",
       "   living_region_ТУЛЬСКАЯ  living_region_ТЫВА  living_region_ТЮМЕНСКАЯ  \\\n",
       "0                       0                   0                        0   \n",
       "1                       0                   0                        0   \n",
       "2                       0                   0                        0   \n",
       "3                       0                   0                        0   \n",
       "4                       0                   0                        0   \n",
       "\n",
       "   living_region_УДМУРТСКАЯ  living_region_УЛЬЯНОВСКАЯ  \\\n",
       "0                         0                          0   \n",
       "1                         0                          0   \n",
       "2                         0                          0   \n",
       "3                         0                          0   \n",
       "4                         0                          0   \n",
       "\n",
       "   living_region_ХАБАРОВСКИЙ  living_region_ХАКАСИЯ  \\\n",
       "0                          0                      0   \n",
       "1                          0                      0   \n",
       "2                          0                      0   \n",
       "3                          0                      0   \n",
       "4                          0                      0   \n",
       "\n",
       "   living_region_ХАНТЫ-МАНСИЙСКИЙ  living_region_ЧЕЛЯБИНСКАЯ  \\\n",
       "0                               0                          0   \n",
       "1                               0                          0   \n",
       "2                               0                          0   \n",
       "3                               0                          0   \n",
       "4                               1                          0   \n",
       "\n",
       "   living_region_ЧУВАШСКАЯ  living_region_ЯМАЛО-НЕНЕЦКИЙ  \\\n",
       "0                        0                             0   \n",
       "1                        0                             0   \n",
       "2                        0                             0   \n",
       "3                        0                             0   \n",
       "4                        0                             0   \n",
       "\n",
       "   living_region_ЯРОСЛАВСКАЯ  credit_count_0  credit_count_1  credit_count_2  \\\n",
       "0                          0               0               0               0   \n",
       "1                          0               0               0               0   \n",
       "2                          0               0               0               1   \n",
       "3                          0               0               1               0   \n",
       "4                          0               0               0               0   \n",
       "\n",
       "   credit_count_3  credit_count_4  credit_count_5  credit_count_6  \\\n",
       "0               1               0               0               0   \n",
       "1               0               0               0               0   \n",
       "2               0               0               0               0   \n",
       "3               0               0               0               0   \n",
       "4               0               0               0               0   \n",
       "\n",
       "   credit_count_7  credit_count_8  credit_count_9  credit_count_10  \\\n",
       "0               0               0               0                0   \n",
       "1               1               0               0                0   \n",
       "2               0               0               0                0   \n",
       "3               0               0               0                0   \n",
       "4               1               0               0                0   \n",
       "\n",
       "   credit_count_11  credit_count_12  credit_count_13  credit_count_14  \\\n",
       "0                0                0                0                0   \n",
       "1                0                0                0                0   \n",
       "2                0                0                0                0   \n",
       "3                0                0                0                0   \n",
       "4                0                0                0                0   \n",
       "\n",
       "   credit_count_15  credit_count_16  credit_count_17  credit_count_18  \\\n",
       "0                0                0                0                0   \n",
       "1                0                0                0                0   \n",
       "2                0                0                0                0   \n",
       "3                0                0                0                0   \n",
       "4                0                0                0                0   \n",
       "\n",
       "   credit_count_19  credit_count_21  overdue_credit_count_0  \\\n",
       "0                0                0                       1   \n",
       "1                0                0                       1   \n",
       "2                0                0                       1   \n",
       "3                0                0                       1   \n",
       "4                0                0                       1   \n",
       "\n",
       "   overdue_credit_count_1  overdue_credit_count_2  overdue_credit_count_3  \\\n",
       "0                       0                       0                       0   \n",
       "1                       0                       0                       0   \n",
       "2                       0                       0                       0   \n",
       "3                       0                       0                       0   \n",
       "4                       0                       0                       0   \n",
       "\n",
       "   no_creditInfo_0  no_creditInfo_1  open_account_flg  \n",
       "0                1                0                 0  \n",
       "1                1                0                 0  \n",
       "2                1                0                 0  \n",
       "3                1                0                 0  \n",
       "4                1                0                 0  \n",
       "\n",
       "[5 rows x 195 columns]"
      ]
     },
     "execution_count": 66,
     "metadata": {},
     "output_type": "execute_result"
    }
   ],
   "source": [
    "data.head()"
   ]
  },
  {
   "cell_type": "code",
   "execution_count": 67,
   "metadata": {},
   "outputs": [],
   "source": [
    "# Разделение данных на обучающую и тестовую выборки\n",
    "y = data.open_account_flg\n",
    "X = data.drop(['open_account_flg'], axis=1)\n",
    "\n",
    "X_train, X_test, y_train, y_test = train_test_split(X, y, \n",
    "                                                      train_size=0.8, \n",
    "                                                      random_state=42)"
   ]
  },
  {
   "cell_type": "code",
   "execution_count": 68,
   "metadata": {},
   "outputs": [
    {
     "data": {
      "text/plain": [
       "13842     0\n",
       "13358     0\n",
       "30722     1\n",
       "149341    1\n",
       "53358     1\n",
       "         ..\n",
       "119879    0\n",
       "103694    1\n",
       "131932    0\n",
       "146867    0\n",
       "121958    0\n",
       "Name: open_account_flg, Length: 135672, dtype: object"
      ]
     },
     "execution_count": 68,
     "metadata": {},
     "output_type": "execute_result"
    }
   ],
   "source": [
    "y_train"
   ]
  },
  {
   "cell_type": "markdown",
   "metadata": {},
   "source": [
    "### Моделирование"
   ]
  },
  {
   "cell_type": "markdown",
   "metadata": {},
   "source": [
    "#### Pipeline"
   ]
  },
  {
   "cell_type": "markdown",
   "metadata": {},
   "source": [
    "QuantileTransformer\n",
    "- Преобразуйте функции, используя информацию квантилей.\n",
    "\n",
    "- Этот метод преобразует объекты, чтобы они соответствовали равномерному или нормальному распределению. Следовательно, для данной функции это преобразование имеет тенденцию распространять наиболее часто встречающиеся значения. Это также уменьшает влияние (маргинальных) выбросов: поэтому это надежная схема предварительной обработки."
   ]
  },
  {
   "cell_type": "code",
   "execution_count": 69,
   "metadata": {},
   "outputs": [],
   "source": [
    "# Препроцессинг для числовых переменных\n",
    "numerical_transformer = QuantileTransformer(output_distribution='normal')\n",
    "\n",
    "preprocessor = ColumnTransformer(transformers=[('num', \n",
    "                                                numerical_transformer, \n",
    "                                                num_columns)])"
   ]
  },
  {
   "cell_type": "markdown",
   "metadata": {},
   "source": [
    "ColumnTransformer\n",
    "- Применяет преобразователи к столбцам массива или pandas DataFrame.\n",
    "\n",
    "- Этот оценщик позволяет отдельно преобразовывать различные столбцы или подмножества столбцов входных данных, а признаки, сгенерированные каждым преобразователем, будут объединяться для формирования единого пространства признаков. Это полезно для разнородных или столбчатых данных, чтобы объединить несколько механизмов извлечения признаков или преобразований в один преобразователь."
   ]
  },
  {
   "cell_type": "code",
   "execution_count": 70,
   "metadata": {},
   "outputs": [],
   "source": [
    "# Модель RandomForest\n",
    "forest = RandomForestClassifier(n_estimators=800, max_depth=17, \n",
    "                                random_state=2020, n_jobs=-1)"
   ]
  },
  {
   "cell_type": "code",
   "execution_count": 71,
   "metadata": {},
   "outputs": [
    {
     "data": {
      "text/plain": [
       "Pipeline(steps=[('preprocessor',\n",
       "                 ColumnTransformer(transformers=[('num',\n",
       "                                                  QuantileTransformer(output_distribution='normal'),\n",
       "                                                  ['age', 'credit_sum',\n",
       "                                                   'score_shk',\n",
       "                                                   'monthly_income'])])),\n",
       "                ('model',\n",
       "                 RandomForestClassifier(max_depth=17, n_estimators=800,\n",
       "                                        n_jobs=-1, random_state=2020))])"
      ]
     },
     "execution_count": 71,
     "metadata": {},
     "output_type": "execute_result"
    },
    {
     "name": "stdout",
     "output_type": "stream",
     "text": [
      "AUC:  0.5151337840306488\n"
     ]
    }
   ],
   "source": [
    "my_pipeline = Pipeline(steps=[('preprocessor', preprocessor),\n",
    "                              ('model', forest)])\n",
    "my_pipeline.fit(X_train, y_train);\n",
    "\n",
    "preds = my_pipeline.predict(X_test)\n",
    "\n",
    "# Оценка модели\n",
    "score_auc = roc_auc_score(y_test, preds)\n",
    "print('AUC: ', score_auc)"
   ]
  },
  {
   "cell_type": "markdown",
   "metadata": {},
   "source": [
    "#### RandomForest"
   ]
  },
  {
   "cell_type": "markdown",
   "metadata": {},
   "source": [
    "##### На переменных без масштабирования"
   ]
  },
  {
   "cell_type": "code",
   "execution_count": 72,
   "metadata": {},
   "outputs": [
    {
     "data": {
      "text/plain": [
       "RandomForestClassifier(max_depth=17, n_estimators=800, n_jobs=-1,\n",
       "                       random_state=2020)"
      ]
     },
     "execution_count": 72,
     "metadata": {},
     "output_type": "execute_result"
    },
    {
     "name": "stdout",
     "output_type": "stream",
     "text": [
      "AUC на обучающей выборке: 0.849\n",
      "AUC на контрольной выборке: 0.754\n"
     ]
    }
   ],
   "source": [
    "forest.fit(X_train, y_train);\n",
    "\n",
    "print('AUC на обучающей выборке: {:.3f}'.\n",
    "      format(roc_auc_score(y_train, forest.predict_proba(X_train)[:, 1])))\n",
    "print('AUC на контрольной выборке: {:.3f}'.\n",
    "      format(roc_auc_score(y_test, forest.predict_proba(X_test)[:, 1])))"
   ]
  },
  {
   "cell_type": "markdown",
   "metadata": {},
   "source": [
    "##### Масштабируем переменные"
   ]
  },
  {
   "cell_type": "code",
   "execution_count": 73,
   "metadata": {},
   "outputs": [
    {
     "data": {
      "text/plain": [
       "QuantileTransformer(output_distribution='normal')"
      ]
     },
     "execution_count": 73,
     "metadata": {},
     "output_type": "execute_result"
    }
   ],
   "source": [
    "# transform_feature определена ранее в проверке нормальности распределения\n",
    "# transform_feature = QuantileTransformer(output_distribution='normal')\n",
    "transform_feature.fit(X_train)\n",
    "X_train_scaled = transform_feature.transform(X_train)\n",
    "X_test_scaled = transform_feature.transform(X_test)"
   ]
  },
  {
   "cell_type": "code",
   "execution_count": 74,
   "metadata": {},
   "outputs": [
    {
     "data": {
      "text/plain": [
       "RandomForestClassifier(max_depth=17, n_estimators=800, n_jobs=-1,\n",
       "                       random_state=2020)"
      ]
     },
     "execution_count": 74,
     "metadata": {},
     "output_type": "execute_result"
    },
    {
     "name": "stdout",
     "output_type": "stream",
     "text": [
      "AUC на обучающей выборке: 0.732\n",
      "AUC на контрольной выборке: 0.693\n"
     ]
    }
   ],
   "source": [
    "forest.fit(X_train, y_train);\n",
    "\n",
    "print('AUC на обучающей выборке: {:.3f}'.\n",
    "      format(roc_auc_score(y_train, forest.predict_proba(X_train_scaled)[:, 1])))\n",
    "print('AUC на контрольной выборке: {:.3f}'.\n",
    "      format(roc_auc_score(y_test, forest.predict_proba(X_test_scaled)[:, 1])))"
   ]
  },
  {
   "cell_type": "markdown",
   "metadata": {},
   "source": [
    "### Выводы"
   ]
  },
  {
   "cell_type": "markdown",
   "metadata": {},
   "source": [
    "1. Недостаточно знаний для объяснения, почему масштабирование переменных или масштабирование только числовых переменных (в Pipeline) не привело к улучшению оценки работы модели RandomForest.\n",
    "2. В качестве учебной работы такое представление обработки данных имеет право быть, но, возможно, на определенном этапе лучше обернуть обработку в функцию или класс.  "
   ]
  },
  {
   "cell_type": "code",
   "execution_count": null,
   "metadata": {},
   "outputs": [],
   "source": []
  }
 ],
 "metadata": {
  "kernelspec": {
   "display_name": "Python 3.9.13 64-bit",
   "language": "python",
   "name": "python3"
  },
  "language_info": {
   "codemirror_mode": {
    "name": "ipython",
    "version": 3
   },
   "file_extension": ".py",
   "mimetype": "text/x-python",
   "name": "python",
   "nbconvert_exporter": "python",
   "pygments_lexer": "ipython3",
   "version": "3.9.13"
  },
  "vscode": {
   "interpreter": {
    "hash": "11938c6bc6919ae2720b4d5011047913343b08a43b18698fd82dedb0d4417594"
   }
  }
 },
 "nbformat": 4,
 "nbformat_minor": 2
}
