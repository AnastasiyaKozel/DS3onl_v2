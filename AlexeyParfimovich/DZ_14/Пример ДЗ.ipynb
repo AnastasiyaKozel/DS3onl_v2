{
 "cells": [
  {
   "cell_type": "markdown",
   "metadata": {},
   "source": [
    "## <center>Обучение с учителем. Методы классификации\n",
    "### <center>Практика. Дерево решений в задаче предсказания выживания пассажиров \"Титаника\". Решение"
   ]
  },
  {
   "cell_type": "code",
   "execution_count": 95,
   "metadata": {},
   "outputs": [],
   "source": [
    "import numpy as np\n",
    "import pandas as pd\n",
    "\n",
    "pd.set_option('display.notebook_repr_html', True)\n",
    "pd.set_option('display.max_columns', 45)\n",
    "pd.set_option('display.max_rows', 50)\n",
    "pd.set_option('display.width', 80)\n",
    "\n",
    "import gc\n",
    "import pickle\n",
    "\n",
    "from sklearn.tree import DecisionTreeClassifier, export_graphviz\n",
    "from sklearn.ensemble import RandomForestClassifier\n",
    "from sklearn.svm import SVC\n",
    "from catboost import CatBoostClassifier\n",
    "\n",
    "from hyperopt import hp, tpe\n",
    "from hyperopt.fmin import fmin\n",
    "\n",
    "from sklearn.model_selection import (GridSearchCV, cross_val_score,\n",
    "                                     train_test_split, StratifiedKFold)\n",
    "\n",
    "from sklearn.metrics import accuracy_score, confusion_matrix, make_scorer\n",
    "from scipy.stats import normaltest, norm\n",
    "\n",
    "from sklearn.preprocessing import QuantileTransformer\n",
    "\n",
    "from IPython.core.interactiveshell import InteractiveShell \n",
    "InteractiveShell.ast_node_interactivity = \"all\"\n",
    "\n",
    "import graphviz\n",
    "from matplotlib import pyplot as plt\n",
    "%matplotlib inline\n",
    "import seaborn as sns"
   ]
  },
  {
   "cell_type": "markdown",
   "metadata": {},
   "source": [
    "**Считываем обучающую и тестовую выборки.**"
   ]
  },
  {
   "cell_type": "code",
   "execution_count": 96,
   "metadata": {},
   "outputs": [],
   "source": [
    "train_df = pd.read_csv(\"titanic_train.csv\") \n",
    "test_df = pd.read_csv(\"titanic_test.csv\") "
   ]
  },
  {
   "cell_type": "code",
   "execution_count": 97,
   "metadata": {},
   "outputs": [
    {
     "data": {
      "text/plain": [
       "(891, 12)"
      ]
     },
     "execution_count": 97,
     "metadata": {},
     "output_type": "execute_result"
    },
    {
     "data": {
      "text/plain": [
       "(418, 11)"
      ]
     },
     "execution_count": 97,
     "metadata": {},
     "output_type": "execute_result"
    }
   ],
   "source": [
    "train_df.shape\n",
    "test_df.shape"
   ]
  },
  {
   "cell_type": "code",
   "execution_count": 98,
   "metadata": {},
   "outputs": [
    {
     "name": "stdout",
     "output_type": "stream",
     "text": [
      "<class 'pandas.core.frame.DataFrame'>\n",
      "RangeIndex: 891 entries, 0 to 890\n",
      "Data columns (total 12 columns):\n",
      " #   Column       Non-Null Count  Dtype  \n",
      "---  ------       --------------  -----  \n",
      " 0   PassengerId  891 non-null    int64  \n",
      " 1   Survived     891 non-null    int64  \n",
      " 2   Pclass       891 non-null    int64  \n",
      " 3   Name         891 non-null    object \n",
      " 4   Sex          891 non-null    object \n",
      " 5   Age          714 non-null    float64\n",
      " 6   SibSp        891 non-null    int64  \n",
      " 7   Parch        891 non-null    int64  \n",
      " 8   Ticket       891 non-null    object \n",
      " 9   Fare         891 non-null    float64\n",
      " 10  Cabin        204 non-null    object \n",
      " 11  Embarked     889 non-null    object \n",
      "dtypes: float64(2), int64(5), object(5)\n",
      "memory usage: 83.7+ KB\n"
     ]
    }
   ],
   "source": [
    "train_df.info()"
   ]
  },
  {
   "cell_type": "code",
   "execution_count": 99,
   "metadata": {},
   "outputs": [
    {
     "data": {
      "text/html": [
       "<div>\n",
       "<style scoped>\n",
       "    .dataframe tbody tr th:only-of-type {\n",
       "        vertical-align: middle;\n",
       "    }\n",
       "\n",
       "    .dataframe tbody tr th {\n",
       "        vertical-align: top;\n",
       "    }\n",
       "\n",
       "    .dataframe thead th {\n",
       "        text-align: right;\n",
       "    }\n",
       "</style>\n",
       "<table border=\"1\" class=\"dataframe\">\n",
       "  <thead>\n",
       "    <tr style=\"text-align: right;\">\n",
       "      <th></th>\n",
       "      <th>PassengerId</th>\n",
       "      <th>Survived</th>\n",
       "      <th>Pclass</th>\n",
       "      <th>Name</th>\n",
       "      <th>Sex</th>\n",
       "      <th>Age</th>\n",
       "      <th>SibSp</th>\n",
       "      <th>Parch</th>\n",
       "      <th>Ticket</th>\n",
       "      <th>Fare</th>\n",
       "      <th>Cabin</th>\n",
       "      <th>Embarked</th>\n",
       "    </tr>\n",
       "  </thead>\n",
       "  <tbody>\n",
       "    <tr>\n",
       "      <th>0</th>\n",
       "      <td>1</td>\n",
       "      <td>0</td>\n",
       "      <td>3</td>\n",
       "      <td>Braund, Mr. Owen Harris</td>\n",
       "      <td>male</td>\n",
       "      <td>22.0</td>\n",
       "      <td>1</td>\n",
       "      <td>0</td>\n",
       "      <td>A/5 21171</td>\n",
       "      <td>7.2500</td>\n",
       "      <td>NaN</td>\n",
       "      <td>S</td>\n",
       "    </tr>\n",
       "    <tr>\n",
       "      <th>1</th>\n",
       "      <td>2</td>\n",
       "      <td>1</td>\n",
       "      <td>1</td>\n",
       "      <td>Cumings, Mrs. John Bradley (Florence Briggs Th...</td>\n",
       "      <td>female</td>\n",
       "      <td>38.0</td>\n",
       "      <td>1</td>\n",
       "      <td>0</td>\n",
       "      <td>PC 17599</td>\n",
       "      <td>71.2833</td>\n",
       "      <td>C85</td>\n",
       "      <td>C</td>\n",
       "    </tr>\n",
       "    <tr>\n",
       "      <th>2</th>\n",
       "      <td>3</td>\n",
       "      <td>1</td>\n",
       "      <td>3</td>\n",
       "      <td>Heikkinen, Miss. Laina</td>\n",
       "      <td>female</td>\n",
       "      <td>26.0</td>\n",
       "      <td>0</td>\n",
       "      <td>0</td>\n",
       "      <td>STON/O2. 3101282</td>\n",
       "      <td>7.9250</td>\n",
       "      <td>NaN</td>\n",
       "      <td>S</td>\n",
       "    </tr>\n",
       "  </tbody>\n",
       "</table>\n",
       "</div>"
      ],
      "text/plain": [
       "   PassengerId  Survived  Pclass  \\\n",
       "0            1         0       3   \n",
       "1            2         1       1   \n",
       "2            3         1       3   \n",
       "\n",
       "                                                Name     Sex   Age  SibSp  \\\n",
       "0                            Braund, Mr. Owen Harris    male  22.0      1   \n",
       "1  Cumings, Mrs. John Bradley (Florence Briggs Th...  female  38.0      1   \n",
       "2                             Heikkinen, Miss. Laina  female  26.0      0   \n",
       "\n",
       "   Parch            Ticket     Fare Cabin Embarked  \n",
       "0      0         A/5 21171   7.2500   NaN        S  \n",
       "1      0          PC 17599  71.2833   C85        C  \n",
       "2      0  STON/O2. 3101282   7.9250   NaN        S  "
      ]
     },
     "execution_count": 99,
     "metadata": {},
     "output_type": "execute_result"
    }
   ],
   "source": [
    "train_df.head(3)"
   ]
  },
  {
   "cell_type": "code",
   "execution_count": 100,
   "metadata": {},
   "outputs": [
    {
     "data": {
      "text/html": [
       "<div>\n",
       "<style scoped>\n",
       "    .dataframe tbody tr th:only-of-type {\n",
       "        vertical-align: middle;\n",
       "    }\n",
       "\n",
       "    .dataframe tbody tr th {\n",
       "        vertical-align: top;\n",
       "    }\n",
       "\n",
       "    .dataframe thead th {\n",
       "        text-align: right;\n",
       "    }\n",
       "</style>\n",
       "<table border=\"1\" class=\"dataframe\">\n",
       "  <thead>\n",
       "    <tr style=\"text-align: right;\">\n",
       "      <th></th>\n",
       "      <th>PassengerId</th>\n",
       "      <th>Pclass</th>\n",
       "      <th>Name</th>\n",
       "      <th>Sex</th>\n",
       "      <th>Age</th>\n",
       "      <th>SibSp</th>\n",
       "      <th>Parch</th>\n",
       "      <th>Ticket</th>\n",
       "      <th>Fare</th>\n",
       "      <th>Cabin</th>\n",
       "      <th>Embarked</th>\n",
       "    </tr>\n",
       "  </thead>\n",
       "  <tbody>\n",
       "    <tr>\n",
       "      <th>0</th>\n",
       "      <td>892</td>\n",
       "      <td>3</td>\n",
       "      <td>Kelly, Mr. James</td>\n",
       "      <td>male</td>\n",
       "      <td>34.5</td>\n",
       "      <td>0</td>\n",
       "      <td>0</td>\n",
       "      <td>330911</td>\n",
       "      <td>7.8292</td>\n",
       "      <td>NaN</td>\n",
       "      <td>Q</td>\n",
       "    </tr>\n",
       "    <tr>\n",
       "      <th>1</th>\n",
       "      <td>893</td>\n",
       "      <td>3</td>\n",
       "      <td>Wilkes, Mrs. James (Ellen Needs)</td>\n",
       "      <td>female</td>\n",
       "      <td>47.0</td>\n",
       "      <td>1</td>\n",
       "      <td>0</td>\n",
       "      <td>363272</td>\n",
       "      <td>7.0000</td>\n",
       "      <td>NaN</td>\n",
       "      <td>S</td>\n",
       "    </tr>\n",
       "    <tr>\n",
       "      <th>2</th>\n",
       "      <td>894</td>\n",
       "      <td>2</td>\n",
       "      <td>Myles, Mr. Thomas Francis</td>\n",
       "      <td>male</td>\n",
       "      <td>62.0</td>\n",
       "      <td>0</td>\n",
       "      <td>0</td>\n",
       "      <td>240276</td>\n",
       "      <td>9.6875</td>\n",
       "      <td>NaN</td>\n",
       "      <td>Q</td>\n",
       "    </tr>\n",
       "  </tbody>\n",
       "</table>\n",
       "</div>"
      ],
      "text/plain": [
       "   PassengerId  Pclass                              Name     Sex   Age  SibSp  \\\n",
       "0          892       3                  Kelly, Mr. James    male  34.5      0   \n",
       "1          893       3  Wilkes, Mrs. James (Ellen Needs)  female  47.0      1   \n",
       "2          894       2         Myles, Mr. Thomas Francis    male  62.0      0   \n",
       "\n",
       "   Parch  Ticket    Fare Cabin Embarked  \n",
       "0      0  330911  7.8292   NaN        Q  \n",
       "1      0  363272  7.0000   NaN        S  \n",
       "2      0  240276  9.6875   NaN        Q  "
      ]
     },
     "execution_count": 100,
     "metadata": {},
     "output_type": "execute_result"
    }
   ],
   "source": [
    "test_df.head(3)"
   ]
  },
  {
   "cell_type": "code",
   "execution_count": 101,
   "metadata": {},
   "outputs": [
    {
     "data": {
      "text/html": [
       "<div>\n",
       "<style scoped>\n",
       "    .dataframe tbody tr th:only-of-type {\n",
       "        vertical-align: middle;\n",
       "    }\n",
       "\n",
       "    .dataframe tbody tr th {\n",
       "        vertical-align: top;\n",
       "    }\n",
       "\n",
       "    .dataframe thead th {\n",
       "        text-align: right;\n",
       "    }\n",
       "</style>\n",
       "<table border=\"1\" class=\"dataframe\">\n",
       "  <thead>\n",
       "    <tr style=\"text-align: right;\">\n",
       "      <th></th>\n",
       "      <th>PassengerId</th>\n",
       "      <th>Survived</th>\n",
       "      <th>Pclass</th>\n",
       "      <th>Name</th>\n",
       "      <th>Sex</th>\n",
       "      <th>Age</th>\n",
       "      <th>SibSp</th>\n",
       "      <th>Parch</th>\n",
       "      <th>Ticket</th>\n",
       "      <th>Fare</th>\n",
       "      <th>Cabin</th>\n",
       "      <th>Embarked</th>\n",
       "    </tr>\n",
       "  </thead>\n",
       "  <tbody>\n",
       "    <tr>\n",
       "      <th>count</th>\n",
       "      <td>891.000000</td>\n",
       "      <td>891.000000</td>\n",
       "      <td>891.000000</td>\n",
       "      <td>891</td>\n",
       "      <td>891</td>\n",
       "      <td>714.000000</td>\n",
       "      <td>891.000000</td>\n",
       "      <td>891.000000</td>\n",
       "      <td>891</td>\n",
       "      <td>891.000000</td>\n",
       "      <td>204</td>\n",
       "      <td>889</td>\n",
       "    </tr>\n",
       "    <tr>\n",
       "      <th>unique</th>\n",
       "      <td>NaN</td>\n",
       "      <td>NaN</td>\n",
       "      <td>NaN</td>\n",
       "      <td>891</td>\n",
       "      <td>2</td>\n",
       "      <td>NaN</td>\n",
       "      <td>NaN</td>\n",
       "      <td>NaN</td>\n",
       "      <td>681</td>\n",
       "      <td>NaN</td>\n",
       "      <td>147</td>\n",
       "      <td>3</td>\n",
       "    </tr>\n",
       "    <tr>\n",
       "      <th>top</th>\n",
       "      <td>NaN</td>\n",
       "      <td>NaN</td>\n",
       "      <td>NaN</td>\n",
       "      <td>Braund, Mr. Owen Harris</td>\n",
       "      <td>male</td>\n",
       "      <td>NaN</td>\n",
       "      <td>NaN</td>\n",
       "      <td>NaN</td>\n",
       "      <td>347082</td>\n",
       "      <td>NaN</td>\n",
       "      <td>B96 B98</td>\n",
       "      <td>S</td>\n",
       "    </tr>\n",
       "    <tr>\n",
       "      <th>freq</th>\n",
       "      <td>NaN</td>\n",
       "      <td>NaN</td>\n",
       "      <td>NaN</td>\n",
       "      <td>1</td>\n",
       "      <td>577</td>\n",
       "      <td>NaN</td>\n",
       "      <td>NaN</td>\n",
       "      <td>NaN</td>\n",
       "      <td>7</td>\n",
       "      <td>NaN</td>\n",
       "      <td>4</td>\n",
       "      <td>644</td>\n",
       "    </tr>\n",
       "    <tr>\n",
       "      <th>mean</th>\n",
       "      <td>446.000000</td>\n",
       "      <td>0.383838</td>\n",
       "      <td>2.308642</td>\n",
       "      <td>NaN</td>\n",
       "      <td>NaN</td>\n",
       "      <td>29.699118</td>\n",
       "      <td>0.523008</td>\n",
       "      <td>0.381594</td>\n",
       "      <td>NaN</td>\n",
       "      <td>32.204208</td>\n",
       "      <td>NaN</td>\n",
       "      <td>NaN</td>\n",
       "    </tr>\n",
       "    <tr>\n",
       "      <th>std</th>\n",
       "      <td>257.353842</td>\n",
       "      <td>0.486592</td>\n",
       "      <td>0.836071</td>\n",
       "      <td>NaN</td>\n",
       "      <td>NaN</td>\n",
       "      <td>14.526497</td>\n",
       "      <td>1.102743</td>\n",
       "      <td>0.806057</td>\n",
       "      <td>NaN</td>\n",
       "      <td>49.693429</td>\n",
       "      <td>NaN</td>\n",
       "      <td>NaN</td>\n",
       "    </tr>\n",
       "    <tr>\n",
       "      <th>min</th>\n",
       "      <td>1.000000</td>\n",
       "      <td>0.000000</td>\n",
       "      <td>1.000000</td>\n",
       "      <td>NaN</td>\n",
       "      <td>NaN</td>\n",
       "      <td>0.420000</td>\n",
       "      <td>0.000000</td>\n",
       "      <td>0.000000</td>\n",
       "      <td>NaN</td>\n",
       "      <td>0.000000</td>\n",
       "      <td>NaN</td>\n",
       "      <td>NaN</td>\n",
       "    </tr>\n",
       "    <tr>\n",
       "      <th>25%</th>\n",
       "      <td>223.500000</td>\n",
       "      <td>0.000000</td>\n",
       "      <td>2.000000</td>\n",
       "      <td>NaN</td>\n",
       "      <td>NaN</td>\n",
       "      <td>20.125000</td>\n",
       "      <td>0.000000</td>\n",
       "      <td>0.000000</td>\n",
       "      <td>NaN</td>\n",
       "      <td>7.910400</td>\n",
       "      <td>NaN</td>\n",
       "      <td>NaN</td>\n",
       "    </tr>\n",
       "    <tr>\n",
       "      <th>50%</th>\n",
       "      <td>446.000000</td>\n",
       "      <td>0.000000</td>\n",
       "      <td>3.000000</td>\n",
       "      <td>NaN</td>\n",
       "      <td>NaN</td>\n",
       "      <td>28.000000</td>\n",
       "      <td>0.000000</td>\n",
       "      <td>0.000000</td>\n",
       "      <td>NaN</td>\n",
       "      <td>14.454200</td>\n",
       "      <td>NaN</td>\n",
       "      <td>NaN</td>\n",
       "    </tr>\n",
       "    <tr>\n",
       "      <th>75%</th>\n",
       "      <td>668.500000</td>\n",
       "      <td>1.000000</td>\n",
       "      <td>3.000000</td>\n",
       "      <td>NaN</td>\n",
       "      <td>NaN</td>\n",
       "      <td>38.000000</td>\n",
       "      <td>1.000000</td>\n",
       "      <td>0.000000</td>\n",
       "      <td>NaN</td>\n",
       "      <td>31.000000</td>\n",
       "      <td>NaN</td>\n",
       "      <td>NaN</td>\n",
       "    </tr>\n",
       "    <tr>\n",
       "      <th>max</th>\n",
       "      <td>891.000000</td>\n",
       "      <td>1.000000</td>\n",
       "      <td>3.000000</td>\n",
       "      <td>NaN</td>\n",
       "      <td>NaN</td>\n",
       "      <td>80.000000</td>\n",
       "      <td>8.000000</td>\n",
       "      <td>6.000000</td>\n",
       "      <td>NaN</td>\n",
       "      <td>512.329200</td>\n",
       "      <td>NaN</td>\n",
       "      <td>NaN</td>\n",
       "    </tr>\n",
       "  </tbody>\n",
       "</table>\n",
       "</div>"
      ],
      "text/plain": [
       "        PassengerId    Survived      Pclass                     Name   Sex  \\\n",
       "count    891.000000  891.000000  891.000000                      891   891   \n",
       "unique          NaN         NaN         NaN                      891     2   \n",
       "top             NaN         NaN         NaN  Braund, Mr. Owen Harris  male   \n",
       "freq            NaN         NaN         NaN                        1   577   \n",
       "mean     446.000000    0.383838    2.308642                      NaN   NaN   \n",
       "std      257.353842    0.486592    0.836071                      NaN   NaN   \n",
       "min        1.000000    0.000000    1.000000                      NaN   NaN   \n",
       "25%      223.500000    0.000000    2.000000                      NaN   NaN   \n",
       "50%      446.000000    0.000000    3.000000                      NaN   NaN   \n",
       "75%      668.500000    1.000000    3.000000                      NaN   NaN   \n",
       "max      891.000000    1.000000    3.000000                      NaN   NaN   \n",
       "\n",
       "               Age       SibSp       Parch  Ticket        Fare    Cabin  \\\n",
       "count   714.000000  891.000000  891.000000     891  891.000000      204   \n",
       "unique         NaN         NaN         NaN     681         NaN      147   \n",
       "top            NaN         NaN         NaN  347082         NaN  B96 B98   \n",
       "freq           NaN         NaN         NaN       7         NaN        4   \n",
       "mean     29.699118    0.523008    0.381594     NaN   32.204208      NaN   \n",
       "std      14.526497    1.102743    0.806057     NaN   49.693429      NaN   \n",
       "min       0.420000    0.000000    0.000000     NaN    0.000000      NaN   \n",
       "25%      20.125000    0.000000    0.000000     NaN    7.910400      NaN   \n",
       "50%      28.000000    0.000000    0.000000     NaN   14.454200      NaN   \n",
       "75%      38.000000    1.000000    0.000000     NaN   31.000000      NaN   \n",
       "max      80.000000    8.000000    6.000000     NaN  512.329200      NaN   \n",
       "\n",
       "       Embarked  \n",
       "count       889  \n",
       "unique        3  \n",
       "top           S  \n",
       "freq        644  \n",
       "mean        NaN  \n",
       "std         NaN  \n",
       "min         NaN  \n",
       "25%         NaN  \n",
       "50%         NaN  \n",
       "75%         NaN  \n",
       "max         NaN  "
      ]
     },
     "execution_count": 101,
     "metadata": {},
     "output_type": "execute_result"
    }
   ],
   "source": [
    "train_df.describe(include='all')"
   ]
  },
  {
   "cell_type": "code",
   "execution_count": 102,
   "metadata": {},
   "outputs": [
    {
     "data": {
      "text/html": [
       "<div>\n",
       "<style scoped>\n",
       "    .dataframe tbody tr th:only-of-type {\n",
       "        vertical-align: middle;\n",
       "    }\n",
       "\n",
       "    .dataframe tbody tr th {\n",
       "        vertical-align: top;\n",
       "    }\n",
       "\n",
       "    .dataframe thead th {\n",
       "        text-align: right;\n",
       "    }\n",
       "</style>\n",
       "<table border=\"1\" class=\"dataframe\">\n",
       "  <thead>\n",
       "    <tr style=\"text-align: right;\">\n",
       "      <th></th>\n",
       "      <th>PassengerId</th>\n",
       "      <th>Pclass</th>\n",
       "      <th>Name</th>\n",
       "      <th>Sex</th>\n",
       "      <th>Age</th>\n",
       "      <th>SibSp</th>\n",
       "      <th>Parch</th>\n",
       "      <th>Ticket</th>\n",
       "      <th>Fare</th>\n",
       "      <th>Cabin</th>\n",
       "      <th>Embarked</th>\n",
       "    </tr>\n",
       "  </thead>\n",
       "  <tbody>\n",
       "    <tr>\n",
       "      <th>count</th>\n",
       "      <td>418.000000</td>\n",
       "      <td>418.000000</td>\n",
       "      <td>418</td>\n",
       "      <td>418</td>\n",
       "      <td>332.000000</td>\n",
       "      <td>418.000000</td>\n",
       "      <td>418.000000</td>\n",
       "      <td>418</td>\n",
       "      <td>417.000000</td>\n",
       "      <td>91</td>\n",
       "      <td>418</td>\n",
       "    </tr>\n",
       "    <tr>\n",
       "      <th>unique</th>\n",
       "      <td>NaN</td>\n",
       "      <td>NaN</td>\n",
       "      <td>418</td>\n",
       "      <td>2</td>\n",
       "      <td>NaN</td>\n",
       "      <td>NaN</td>\n",
       "      <td>NaN</td>\n",
       "      <td>363</td>\n",
       "      <td>NaN</td>\n",
       "      <td>76</td>\n",
       "      <td>3</td>\n",
       "    </tr>\n",
       "    <tr>\n",
       "      <th>top</th>\n",
       "      <td>NaN</td>\n",
       "      <td>NaN</td>\n",
       "      <td>Kelly, Mr. James</td>\n",
       "      <td>male</td>\n",
       "      <td>NaN</td>\n",
       "      <td>NaN</td>\n",
       "      <td>NaN</td>\n",
       "      <td>PC 17608</td>\n",
       "      <td>NaN</td>\n",
       "      <td>B57 B59 B63 B66</td>\n",
       "      <td>S</td>\n",
       "    </tr>\n",
       "    <tr>\n",
       "      <th>freq</th>\n",
       "      <td>NaN</td>\n",
       "      <td>NaN</td>\n",
       "      <td>1</td>\n",
       "      <td>266</td>\n",
       "      <td>NaN</td>\n",
       "      <td>NaN</td>\n",
       "      <td>NaN</td>\n",
       "      <td>5</td>\n",
       "      <td>NaN</td>\n",
       "      <td>3</td>\n",
       "      <td>270</td>\n",
       "    </tr>\n",
       "    <tr>\n",
       "      <th>mean</th>\n",
       "      <td>1100.500000</td>\n",
       "      <td>2.265550</td>\n",
       "      <td>NaN</td>\n",
       "      <td>NaN</td>\n",
       "      <td>30.272590</td>\n",
       "      <td>0.447368</td>\n",
       "      <td>0.392344</td>\n",
       "      <td>NaN</td>\n",
       "      <td>35.627188</td>\n",
       "      <td>NaN</td>\n",
       "      <td>NaN</td>\n",
       "    </tr>\n",
       "    <tr>\n",
       "      <th>std</th>\n",
       "      <td>120.810458</td>\n",
       "      <td>0.841838</td>\n",
       "      <td>NaN</td>\n",
       "      <td>NaN</td>\n",
       "      <td>14.181209</td>\n",
       "      <td>0.896760</td>\n",
       "      <td>0.981429</td>\n",
       "      <td>NaN</td>\n",
       "      <td>55.907576</td>\n",
       "      <td>NaN</td>\n",
       "      <td>NaN</td>\n",
       "    </tr>\n",
       "    <tr>\n",
       "      <th>min</th>\n",
       "      <td>892.000000</td>\n",
       "      <td>1.000000</td>\n",
       "      <td>NaN</td>\n",
       "      <td>NaN</td>\n",
       "      <td>0.170000</td>\n",
       "      <td>0.000000</td>\n",
       "      <td>0.000000</td>\n",
       "      <td>NaN</td>\n",
       "      <td>0.000000</td>\n",
       "      <td>NaN</td>\n",
       "      <td>NaN</td>\n",
       "    </tr>\n",
       "    <tr>\n",
       "      <th>25%</th>\n",
       "      <td>996.250000</td>\n",
       "      <td>1.000000</td>\n",
       "      <td>NaN</td>\n",
       "      <td>NaN</td>\n",
       "      <td>21.000000</td>\n",
       "      <td>0.000000</td>\n",
       "      <td>0.000000</td>\n",
       "      <td>NaN</td>\n",
       "      <td>7.895800</td>\n",
       "      <td>NaN</td>\n",
       "      <td>NaN</td>\n",
       "    </tr>\n",
       "    <tr>\n",
       "      <th>50%</th>\n",
       "      <td>1100.500000</td>\n",
       "      <td>3.000000</td>\n",
       "      <td>NaN</td>\n",
       "      <td>NaN</td>\n",
       "      <td>27.000000</td>\n",
       "      <td>0.000000</td>\n",
       "      <td>0.000000</td>\n",
       "      <td>NaN</td>\n",
       "      <td>14.454200</td>\n",
       "      <td>NaN</td>\n",
       "      <td>NaN</td>\n",
       "    </tr>\n",
       "    <tr>\n",
       "      <th>75%</th>\n",
       "      <td>1204.750000</td>\n",
       "      <td>3.000000</td>\n",
       "      <td>NaN</td>\n",
       "      <td>NaN</td>\n",
       "      <td>39.000000</td>\n",
       "      <td>1.000000</td>\n",
       "      <td>0.000000</td>\n",
       "      <td>NaN</td>\n",
       "      <td>31.500000</td>\n",
       "      <td>NaN</td>\n",
       "      <td>NaN</td>\n",
       "    </tr>\n",
       "    <tr>\n",
       "      <th>max</th>\n",
       "      <td>1309.000000</td>\n",
       "      <td>3.000000</td>\n",
       "      <td>NaN</td>\n",
       "      <td>NaN</td>\n",
       "      <td>76.000000</td>\n",
       "      <td>8.000000</td>\n",
       "      <td>9.000000</td>\n",
       "      <td>NaN</td>\n",
       "      <td>512.329200</td>\n",
       "      <td>NaN</td>\n",
       "      <td>NaN</td>\n",
       "    </tr>\n",
       "  </tbody>\n",
       "</table>\n",
       "</div>"
      ],
      "text/plain": [
       "        PassengerId      Pclass              Name   Sex         Age  \\\n",
       "count    418.000000  418.000000               418   418  332.000000   \n",
       "unique          NaN         NaN               418     2         NaN   \n",
       "top             NaN         NaN  Kelly, Mr. James  male         NaN   \n",
       "freq            NaN         NaN                 1   266         NaN   \n",
       "mean    1100.500000    2.265550               NaN   NaN   30.272590   \n",
       "std      120.810458    0.841838               NaN   NaN   14.181209   \n",
       "min      892.000000    1.000000               NaN   NaN    0.170000   \n",
       "25%      996.250000    1.000000               NaN   NaN   21.000000   \n",
       "50%     1100.500000    3.000000               NaN   NaN   27.000000   \n",
       "75%     1204.750000    3.000000               NaN   NaN   39.000000   \n",
       "max     1309.000000    3.000000               NaN   NaN   76.000000   \n",
       "\n",
       "             SibSp       Parch    Ticket        Fare            Cabin Embarked  \n",
       "count   418.000000  418.000000       418  417.000000               91      418  \n",
       "unique         NaN         NaN       363         NaN               76        3  \n",
       "top            NaN         NaN  PC 17608         NaN  B57 B59 B63 B66        S  \n",
       "freq           NaN         NaN         5         NaN                3      270  \n",
       "mean      0.447368    0.392344       NaN   35.627188              NaN      NaN  \n",
       "std       0.896760    0.981429       NaN   55.907576              NaN      NaN  \n",
       "min       0.000000    0.000000       NaN    0.000000              NaN      NaN  \n",
       "25%       0.000000    0.000000       NaN    7.895800              NaN      NaN  \n",
       "50%       0.000000    0.000000       NaN   14.454200              NaN      NaN  \n",
       "75%       1.000000    0.000000       NaN   31.500000              NaN      NaN  \n",
       "max       8.000000    9.000000       NaN  512.329200              NaN      NaN  "
      ]
     },
     "execution_count": 102,
     "metadata": {},
     "output_type": "execute_result"
    }
   ],
   "source": [
    "test_df.describe(include='all')"
   ]
  },
  {
   "cell_type": "code",
   "execution_count": 103,
   "metadata": {},
   "outputs": [],
   "source": [
    "y = train_df['Survived']"
   ]
  },
  {
   "cell_type": "code",
   "execution_count": 104,
   "metadata": {},
   "outputs": [
    {
     "data": {
      "text/plain": [
       "0    549\n",
       "1    342\n",
       "Name: Survived, dtype: int64"
      ]
     },
     "execution_count": 104,
     "metadata": {},
     "output_type": "execute_result"
    }
   ],
   "source": [
    "y.value_counts()"
   ]
  },
  {
   "cell_type": "markdown",
   "metadata": {},
   "source": [
    "### Обработка пропущенных значений"
   ]
  },
  {
   "cell_type": "code",
   "execution_count": 105,
   "metadata": {},
   "outputs": [],
   "source": [
    "# Функция скопированна (считаем число пропущенных значений)\n",
    "def missing_values_table(df):\n",
    "        mis_val = df.isnull().sum()        \n",
    "        mis_val_percent = 100 * df.isnull().sum() / len(df)        \n",
    "        mis_val_table = pd.concat([mis_val, mis_val_percent], axis=1)\n",
    "        \n",
    "        mis_val_table_ren_columns = mis_val_table.rename(\n",
    "        columns = {0 : 'Пропущенные значения', \n",
    "                   1 : '% от общего количества значений'})\n",
    "        \n",
    "        mis_val_table_ren_columns = mis_val_table_ren_columns[\n",
    "            mis_val_table_ren_columns.iloc[:,1] != 0].sort_values(\n",
    "        '% от общего количества значений', ascending=False).round(1)\n",
    "        \n",
    "        return mis_val_table_ren_columns"
   ]
  },
  {
   "cell_type": "code",
   "execution_count": 106,
   "metadata": {},
   "outputs": [
    {
     "data": {
      "text/html": [
       "<div>\n",
       "<style scoped>\n",
       "    .dataframe tbody tr th:only-of-type {\n",
       "        vertical-align: middle;\n",
       "    }\n",
       "\n",
       "    .dataframe tbody tr th {\n",
       "        vertical-align: top;\n",
       "    }\n",
       "\n",
       "    .dataframe thead th {\n",
       "        text-align: right;\n",
       "    }\n",
       "</style>\n",
       "<table border=\"1\" class=\"dataframe\">\n",
       "  <thead>\n",
       "    <tr style=\"text-align: right;\">\n",
       "      <th></th>\n",
       "      <th>Пропущенные значения</th>\n",
       "      <th>% от общего количества значений</th>\n",
       "    </tr>\n",
       "  </thead>\n",
       "  <tbody>\n",
       "    <tr>\n",
       "      <th>Cabin</th>\n",
       "      <td>687</td>\n",
       "      <td>77.1</td>\n",
       "    </tr>\n",
       "    <tr>\n",
       "      <th>Age</th>\n",
       "      <td>177</td>\n",
       "      <td>19.9</td>\n",
       "    </tr>\n",
       "    <tr>\n",
       "      <th>Embarked</th>\n",
       "      <td>2</td>\n",
       "      <td>0.2</td>\n",
       "    </tr>\n",
       "  </tbody>\n",
       "</table>\n",
       "</div>"
      ],
      "text/plain": [
       "          Пропущенные значения  % от общего количества значений\n",
       "Cabin                      687                             77.1\n",
       "Age                        177                             19.9\n",
       "Embarked                     2                              0.2"
      ]
     },
     "execution_count": 106,
     "metadata": {},
     "output_type": "execute_result"
    }
   ],
   "source": [
    "missing_values_table(train_df)"
   ]
  },
  {
   "cell_type": "code",
   "execution_count": 107,
   "metadata": {},
   "outputs": [
    {
     "data": {
      "text/html": [
       "<div>\n",
       "<style scoped>\n",
       "    .dataframe tbody tr th:only-of-type {\n",
       "        vertical-align: middle;\n",
       "    }\n",
       "\n",
       "    .dataframe tbody tr th {\n",
       "        vertical-align: top;\n",
       "    }\n",
       "\n",
       "    .dataframe thead th {\n",
       "        text-align: right;\n",
       "    }\n",
       "</style>\n",
       "<table border=\"1\" class=\"dataframe\">\n",
       "  <thead>\n",
       "    <tr style=\"text-align: right;\">\n",
       "      <th></th>\n",
       "      <th>Пропущенные значения</th>\n",
       "      <th>% от общего количества значений</th>\n",
       "    </tr>\n",
       "  </thead>\n",
       "  <tbody>\n",
       "    <tr>\n",
       "      <th>Cabin</th>\n",
       "      <td>327</td>\n",
       "      <td>78.2</td>\n",
       "    </tr>\n",
       "    <tr>\n",
       "      <th>Age</th>\n",
       "      <td>86</td>\n",
       "      <td>20.6</td>\n",
       "    </tr>\n",
       "    <tr>\n",
       "      <th>Fare</th>\n",
       "      <td>1</td>\n",
       "      <td>0.2</td>\n",
       "    </tr>\n",
       "  </tbody>\n",
       "</table>\n",
       "</div>"
      ],
      "text/plain": [
       "       Пропущенные значения  % от общего количества значений\n",
       "Cabin                   327                             78.2\n",
       "Age                      86                             20.6\n",
       "Fare                      1                              0.2"
      ]
     },
     "execution_count": 107,
     "metadata": {},
     "output_type": "execute_result"
    }
   ],
   "source": [
    "missing_values_table(test_df)"
   ]
  },
  {
   "cell_type": "markdown",
   "metadata": {},
   "source": [
    "**`train_df.Embarked`**"
   ]
  },
  {
   "cell_type": "code",
   "execution_count": 108,
   "metadata": {},
   "outputs": [
    {
     "data": {
      "text/plain": [
       "S    644\n",
       "C    168\n",
       "Q     77\n",
       "Name: Embarked, dtype: int64"
      ]
     },
     "execution_count": 108,
     "metadata": {},
     "output_type": "execute_result"
    }
   ],
   "source": [
    "train_df.Embarked.value_counts()"
   ]
  },
  {
   "cell_type": "code",
   "execution_count": 109,
   "metadata": {},
   "outputs": [
    {
     "data": {
      "text/plain": [
       "'S'"
      ]
     },
     "execution_count": 109,
     "metadata": {},
     "output_type": "execute_result"
    }
   ],
   "source": [
    "# 2 пропущенных значения Embarked заполняем модой\n",
    "train_df.Embarked.mode()[0]\n",
    "train_df.Embarked.fillna(train_df.Embarked.mode()[0], inplace = True)"
   ]
  },
  {
   "cell_type": "markdown",
   "metadata": {},
   "source": [
    "**`test_df.Fare`**"
   ]
  },
  {
   "cell_type": "code",
   "execution_count": 110,
   "metadata": {},
   "outputs": [
    {
     "data": {
      "text/html": [
       "<div>\n",
       "<style scoped>\n",
       "    .dataframe tbody tr th:only-of-type {\n",
       "        vertical-align: middle;\n",
       "    }\n",
       "\n",
       "    .dataframe tbody tr th {\n",
       "        vertical-align: top;\n",
       "    }\n",
       "\n",
       "    .dataframe thead th {\n",
       "        text-align: right;\n",
       "    }\n",
       "</style>\n",
       "<table border=\"1\" class=\"dataframe\">\n",
       "  <thead>\n",
       "    <tr style=\"text-align: right;\">\n",
       "      <th></th>\n",
       "      <th>PassengerId</th>\n",
       "      <th>Pclass</th>\n",
       "      <th>Name</th>\n",
       "      <th>Sex</th>\n",
       "      <th>Age</th>\n",
       "      <th>SibSp</th>\n",
       "      <th>Parch</th>\n",
       "      <th>Ticket</th>\n",
       "      <th>Fare</th>\n",
       "      <th>Cabin</th>\n",
       "      <th>Embarked</th>\n",
       "    </tr>\n",
       "  </thead>\n",
       "  <tbody>\n",
       "    <tr>\n",
       "      <th>152</th>\n",
       "      <td>1044</td>\n",
       "      <td>3</td>\n",
       "      <td>Storey, Mr. Thomas</td>\n",
       "      <td>male</td>\n",
       "      <td>60.5</td>\n",
       "      <td>0</td>\n",
       "      <td>0</td>\n",
       "      <td>3701</td>\n",
       "      <td>NaN</td>\n",
       "      <td>NaN</td>\n",
       "      <td>S</td>\n",
       "    </tr>\n",
       "  </tbody>\n",
       "</table>\n",
       "</div>"
      ],
      "text/plain": [
       "     PassengerId  Pclass                Name   Sex   Age  SibSp  Parch Ticket  \\\n",
       "152         1044       3  Storey, Mr. Thomas  male  60.5      0      0   3701   \n",
       "\n",
       "     Fare Cabin Embarked  \n",
       "152   NaN   NaN        S  "
      ]
     },
     "execution_count": 110,
     "metadata": {},
     "output_type": "execute_result"
    }
   ],
   "source": [
    "test_df[test_df['Fare'].isnull()]"
   ]
  },
  {
   "cell_type": "markdown",
   "metadata": {},
   "source": [
    "Пропущенное значение стоимости билета заполним медианой с учетом имеющихся условий - путешествующий 3-м классом (`'Pclass'`) мужчина (`'Sex'`) без детей (`'Parch'`), родственников и супруги (`'SibSp'`)."
   ]
  },
  {
   "cell_type": "code",
   "execution_count": 111,
   "metadata": {},
   "outputs": [
    {
     "data": {
      "text/plain": [
       "7.8208"
      ]
     },
     "execution_count": 111,
     "metadata": {},
     "output_type": "execute_result"
    }
   ],
   "source": [
    "fare_median = test_df.groupby(['Pclass', 'Sex', 'Parch', 'SibSp']).median()['Fare'][3]['male'][0][0]\n",
    "fare_median"
   ]
  },
  {
   "cell_type": "code",
   "execution_count": 112,
   "metadata": {},
   "outputs": [],
   "source": [
    "test_df['Fare'] = test_df['Fare'].fillna(fare_median)"
   ]
  },
  {
   "cell_type": "markdown",
   "metadata": {},
   "source": [
    "**`train_df.Age`**"
   ]
  },
  {
   "cell_type": "markdown",
   "metadata": {},
   "source": [
    "Для понимания, как эффективнее заполнять пропущенные значения `Age`, рассмотрим подробнее распределение и зависимость переменных."
   ]
  },
  {
   "cell_type": "code",
   "execution_count": 113,
   "metadata": {},
   "outputs": [
    {
     "name": "stderr",
     "output_type": "stream",
     "text": [
      "c:\\Users\\biaspaltsau_aa\\Anaconda3\\lib\\site-packages\\seaborn\\distributions.py:2619: FutureWarning: `distplot` is a deprecated function and will be removed in a future version. Please adapt your code to use either `displot` (a figure-level function with similar flexibility) or `histplot` (an axes-level function for histograms).\n",
      "  warnings.warn(msg, FutureWarning)\n",
      "C:\\Users\\BIASPA~1\\AppData\\Local\\Temp/ipykernel_20964/3508972688.py:3: MatplotlibDeprecationWarning: The 'b' parameter of grid() has been renamed 'visible' since Matplotlib 3.5; support for the old name will be dropped two minor releases later.\n",
      "  plt.grid(b=None);\n"
     ]
    },
    {
     "data": {
      "image/png": "[encoded data removed]",
      "text/plain": [
       "<Figure size 432x288 with 1 Axes>"
      ]
     },
     "metadata": {},
     "output_type": "display_data"
    }
   ],
   "source": [
    "sns.set_style(style='white')\n",
    "sns.distplot(train_df['Age'].dropna(), bins=50)\n",
    "plt.grid(b=None);"
   ]
  },
  {
   "cell_type": "code",
   "execution_count": 114,
   "metadata": {},
   "outputs": [
    {
     "data": {
      "image/png": "[encoded data removed]",
      "text/plain": [
       "<Figure size 432x288 with 1 Axes>"
      ]
     },
     "metadata": {},
     "output_type": "display_data"
    }
   ],
   "source": [
    "for x in [1,2,3]: \n",
    "    train_df.Age[train_df.Pclass == x].plot(kind=\"kde\")\n",
    "plt.title(\"Распределение возрастов по классам\")\n",
    "plt.legend((\"1\",\"2\",\"3\"))\n",
    "plt.grid();"
   ]
  },
  {
   "cell_type": "markdown",
   "metadata": {},
   "source": [
    "В среднем чем выше класс, тем старше пассажиры."
   ]
  },
  {
   "cell_type": "code",
   "execution_count": 115,
   "metadata": {},
   "outputs": [
    {
     "data": {
      "image/png": "[encoded data removed]",
      "text/plain": [
       "<Figure size 858.125x360 with 1 Axes>"
      ]
     },
     "metadata": {},
     "output_type": "display_data"
    }
   ],
   "source": [
    "sns.lmplot(x='Age', y='Survived', hue=\"Sex\", data=train_df, x_estimator=np.mean, \n",
    "           height=5.0, aspect=11.0/5.0);"
   ]
  },
  {
   "cell_type": "markdown",
   "metadata": {},
   "source": [
    "Зависимость переменных `Age` и `Survived` разная в зависимости от пола пассажира."
   ]
  },
  {
   "cell_type": "markdown",
   "metadata": {},
   "source": [
    "Корреляция числовых переменных:"
   ]
  },
  {
   "cell_type": "code",
   "execution_count": 116,
   "metadata": {},
   "outputs": [
    {
     "data": {
      "text/plain": [
       "Pclass    Fare        0.549500\n",
       "Fare      Pclass      0.549500\n",
       "Parch     SibSp       0.414838\n",
       "SibSp     Parch       0.414838\n",
       "Pclass    Age         0.369226\n",
       "Age       Pclass      0.369226\n",
       "Pclass    Survived    0.338481\n",
       "Survived  Pclass      0.338481\n",
       "Age       SibSp       0.308247\n",
       "SibSp     Age         0.308247\n",
       "Survived  Fare        0.257307\n",
       "Fare      Survived    0.257307\n",
       "          Parch       0.216225\n",
       "Parch     Fare        0.216225\n",
       "          Age         0.189119\n",
       "Age       Parch       0.189119\n",
       "SibSp     Fare        0.159651\n",
       "Fare      SibSp       0.159651\n",
       "dtype: float64"
      ]
     },
     "execution_count": 116,
     "metadata": {},
     "output_type": "execute_result"
    }
   ],
   "source": [
    "corrs = train_df.corr().abs()\n",
    "np.fill_diagonal(corrs.values, 0)\n",
    "\n",
    "s = corrs.unstack()\n",
    "so = s.sort_values(kind=\"quicksort\", ascending=False)\n",
    "so[so > 0.1] # только корреляция выше 0.1"
   ]
  },
  {
   "cell_type": "markdown",
   "metadata": {},
   "source": [
    "Переменная `Age` показывает относительно высокую корреляцию с `Pclass` (~ 0.37) и с `SibSp` (~ 0.31). \n",
    "\n",
    "Заполнять пропущенные значения `Age` будем медианой после группировки по классу, количеству братьев-сестер и супругов, полу пассажира."
   ]
  },
  {
   "cell_type": "code",
   "execution_count": 117,
   "metadata": {},
   "outputs": [],
   "source": [
    "age_pclass_sib_sex = train_df.groupby(['Pclass', 'SibSp', 'Sex']).median()"
   ]
  },
  {
   "cell_type": "code",
   "execution_count": 118,
   "metadata": {},
   "outputs": [
    {
     "data": {
      "text/plain": [
       "Pclass  SibSp  Sex   \n",
       "1       0      female    31.5\n",
       "               male      40.0\n",
       "        1      female    37.0\n",
       "               male      38.0\n",
       "        2      female    21.0\n",
       "               male      47.0\n",
       "        3      female    23.5\n",
       "               male      19.0\n",
       "2       0      female    30.0\n",
       "               male      30.0\n",
       "        1      female    27.5\n",
       "               male      31.0\n",
       "        2      female    24.0\n",
       "               male      23.0\n",
       "        3      female    30.0\n",
       "3       0      female    22.0\n",
       "               male      27.0\n",
       "        1      female    28.5\n",
       "               male      25.0\n",
       "        2      female     7.0\n",
       "               male      27.0\n",
       "        3      female     8.0\n",
       "               male       4.0\n",
       "        4      female     7.5\n",
       "               male       5.5\n",
       "        5      female    16.0\n",
       "               male      10.0\n",
       "        8      female     NaN\n",
       "               male       NaN\n",
       "Name: Age, dtype: float64"
      ]
     },
     "execution_count": 118,
     "metadata": {},
     "output_type": "execute_result"
    }
   ],
   "source": [
    "age_pclass_sib_sex.Age"
   ]
  },
  {
   "cell_type": "markdown",
   "metadata": {},
   "source": [
    "И после вычисления медианы есть отсутствующие значения переменной `Age` для значения `SibSp` **8**, рассмотрим их отдельно, а пока заполним пропущенные значения."
   ]
  },
  {
   "cell_type": "code",
   "execution_count": 119,
   "metadata": {},
   "outputs": [],
   "source": [
    "train_df['Age'] = train_df.groupby(\n",
    "    ['Pclass', 'SibSp', 'Sex'])['Age'].apply(lambda x: x.fillna(x.median()))"
   ]
  },
  {
   "cell_type": "markdown",
   "metadata": {},
   "source": [
    "**`test_df.Age`**"
   ]
  },
  {
   "cell_type": "code",
   "execution_count": 120,
   "metadata": {},
   "outputs": [],
   "source": [
    "# По аналогии с train_df.Age\n",
    "test_df['Age'] = test_df.groupby(\n",
    "    ['Pclass', 'SibSp', 'Sex'])['Age'].apply(lambda x: x.fillna(x.median()))"
   ]
  },
  {
   "cell_type": "markdown",
   "metadata": {},
   "source": [
    "Проверка:"
   ]
  },
  {
   "cell_type": "code",
   "execution_count": 121,
   "metadata": {},
   "outputs": [
    {
     "data": {
      "text/html": [
       "<div>\n",
       "<style scoped>\n",
       "    .dataframe tbody tr th:only-of-type {\n",
       "        vertical-align: middle;\n",
       "    }\n",
       "\n",
       "    .dataframe tbody tr th {\n",
       "        vertical-align: top;\n",
       "    }\n",
       "\n",
       "    .dataframe thead th {\n",
       "        text-align: right;\n",
       "    }\n",
       "</style>\n",
       "<table border=\"1\" class=\"dataframe\">\n",
       "  <thead>\n",
       "    <tr style=\"text-align: right;\">\n",
       "      <th></th>\n",
       "      <th>PassengerId</th>\n",
       "      <th>Survived</th>\n",
       "      <th>Pclass</th>\n",
       "      <th>Name</th>\n",
       "      <th>Sex</th>\n",
       "      <th>Age</th>\n",
       "      <th>SibSp</th>\n",
       "      <th>Parch</th>\n",
       "      <th>Ticket</th>\n",
       "      <th>Fare</th>\n",
       "      <th>Cabin</th>\n",
       "      <th>Embarked</th>\n",
       "    </tr>\n",
       "  </thead>\n",
       "  <tbody>\n",
       "    <tr>\n",
       "      <th>159</th>\n",
       "      <td>160</td>\n",
       "      <td>0</td>\n",
       "      <td>3</td>\n",
       "      <td>Sage, Master. Thomas Henry</td>\n",
       "      <td>male</td>\n",
       "      <td>NaN</td>\n",
       "      <td>8</td>\n",
       "      <td>2</td>\n",
       "      <td>CA. 2343</td>\n",
       "      <td>69.55</td>\n",
       "      <td>NaN</td>\n",
       "      <td>S</td>\n",
       "    </tr>\n",
       "    <tr>\n",
       "      <th>180</th>\n",
       "      <td>181</td>\n",
       "      <td>0</td>\n",
       "      <td>3</td>\n",
       "      <td>Sage, Miss. Constance Gladys</td>\n",
       "      <td>female</td>\n",
       "      <td>NaN</td>\n",
       "      <td>8</td>\n",
       "      <td>2</td>\n",
       "      <td>CA. 2343</td>\n",
       "      <td>69.55</td>\n",
       "      <td>NaN</td>\n",
       "      <td>S</td>\n",
       "    </tr>\n",
       "    <tr>\n",
       "      <th>201</th>\n",
       "      <td>202</td>\n",
       "      <td>0</td>\n",
       "      <td>3</td>\n",
       "      <td>Sage, Mr. Frederick</td>\n",
       "      <td>male</td>\n",
       "      <td>NaN</td>\n",
       "      <td>8</td>\n",
       "      <td>2</td>\n",
       "      <td>CA. 2343</td>\n",
       "      <td>69.55</td>\n",
       "      <td>NaN</td>\n",
       "      <td>S</td>\n",
       "    </tr>\n",
       "    <tr>\n",
       "      <th>324</th>\n",
       "      <td>325</td>\n",
       "      <td>0</td>\n",
       "      <td>3</td>\n",
       "      <td>Sage, Mr. George John Jr</td>\n",
       "      <td>male</td>\n",
       "      <td>NaN</td>\n",
       "      <td>8</td>\n",
       "      <td>2</td>\n",
       "      <td>CA. 2343</td>\n",
       "      <td>69.55</td>\n",
       "      <td>NaN</td>\n",
       "      <td>S</td>\n",
       "    </tr>\n",
       "    <tr>\n",
       "      <th>792</th>\n",
       "      <td>793</td>\n",
       "      <td>0</td>\n",
       "      <td>3</td>\n",
       "      <td>Sage, Miss. Stella Anna</td>\n",
       "      <td>female</td>\n",
       "      <td>NaN</td>\n",
       "      <td>8</td>\n",
       "      <td>2</td>\n",
       "      <td>CA. 2343</td>\n",
       "      <td>69.55</td>\n",
       "      <td>NaN</td>\n",
       "      <td>S</td>\n",
       "    </tr>\n",
       "    <tr>\n",
       "      <th>846</th>\n",
       "      <td>847</td>\n",
       "      <td>0</td>\n",
       "      <td>3</td>\n",
       "      <td>Sage, Mr. Douglas Bullen</td>\n",
       "      <td>male</td>\n",
       "      <td>NaN</td>\n",
       "      <td>8</td>\n",
       "      <td>2</td>\n",
       "      <td>CA. 2343</td>\n",
       "      <td>69.55</td>\n",
       "      <td>NaN</td>\n",
       "      <td>S</td>\n",
       "    </tr>\n",
       "    <tr>\n",
       "      <th>863</th>\n",
       "      <td>864</td>\n",
       "      <td>0</td>\n",
       "      <td>3</td>\n",
       "      <td>Sage, Miss. Dorothy Edith \"Dolly\"</td>\n",
       "      <td>female</td>\n",
       "      <td>NaN</td>\n",
       "      <td>8</td>\n",
       "      <td>2</td>\n",
       "      <td>CA. 2343</td>\n",
       "      <td>69.55</td>\n",
       "      <td>NaN</td>\n",
       "      <td>S</td>\n",
       "    </tr>\n",
       "  </tbody>\n",
       "</table>\n",
       "</div>"
      ],
      "text/plain": [
       "     PassengerId  Survived  Pclass                               Name     Sex  \\\n",
       "159          160         0       3         Sage, Master. Thomas Henry    male   \n",
       "180          181         0       3       Sage, Miss. Constance Gladys  female   \n",
       "201          202         0       3                Sage, Mr. Frederick    male   \n",
       "324          325         0       3           Sage, Mr. George John Jr    male   \n",
       "792          793         0       3            Sage, Miss. Stella Anna  female   \n",
       "846          847         0       3           Sage, Mr. Douglas Bullen    male   \n",
       "863          864         0       3  Sage, Miss. Dorothy Edith \"Dolly\"  female   \n",
       "\n",
       "     Age  SibSp  Parch    Ticket   Fare Cabin Embarked  \n",
       "159  NaN      8      2  CA. 2343  69.55   NaN        S  \n",
       "180  NaN      8      2  CA. 2343  69.55   NaN        S  \n",
       "201  NaN      8      2  CA. 2343  69.55   NaN        S  \n",
       "324  NaN      8      2  CA. 2343  69.55   NaN        S  \n",
       "792  NaN      8      2  CA. 2343  69.55   NaN        S  \n",
       "846  NaN      8      2  CA. 2343  69.55   NaN        S  \n",
       "863  NaN      8      2  CA. 2343  69.55   NaN        S  "
      ]
     },
     "execution_count": 121,
     "metadata": {},
     "output_type": "execute_result"
    },
    {
     "data": {
      "text/html": [
       "<div>\n",
       "<style scoped>\n",
       "    .dataframe tbody tr th:only-of-type {\n",
       "        vertical-align: middle;\n",
       "    }\n",
       "\n",
       "    .dataframe tbody tr th {\n",
       "        vertical-align: top;\n",
       "    }\n",
       "\n",
       "    .dataframe thead th {\n",
       "        text-align: right;\n",
       "    }\n",
       "</style>\n",
       "<table border=\"1\" class=\"dataframe\">\n",
       "  <thead>\n",
       "    <tr style=\"text-align: right;\">\n",
       "      <th></th>\n",
       "      <th>PassengerId</th>\n",
       "      <th>Pclass</th>\n",
       "      <th>Name</th>\n",
       "      <th>Sex</th>\n",
       "      <th>Age</th>\n",
       "      <th>SibSp</th>\n",
       "      <th>Parch</th>\n",
       "      <th>Ticket</th>\n",
       "      <th>Fare</th>\n",
       "      <th>Cabin</th>\n",
       "      <th>Embarked</th>\n",
       "    </tr>\n",
       "  </thead>\n",
       "  <tbody>\n",
       "    <tr>\n",
       "      <th>188</th>\n",
       "      <td>1080</td>\n",
       "      <td>3</td>\n",
       "      <td>Sage, Miss. Ada</td>\n",
       "      <td>female</td>\n",
       "      <td>NaN</td>\n",
       "      <td>8</td>\n",
       "      <td>2</td>\n",
       "      <td>CA. 2343</td>\n",
       "      <td>69.55</td>\n",
       "      <td>NaN</td>\n",
       "      <td>S</td>\n",
       "    </tr>\n",
       "  </tbody>\n",
       "</table>\n",
       "</div>"
      ],
      "text/plain": [
       "     PassengerId  Pclass             Name     Sex  Age  SibSp  Parch  \\\n",
       "188         1080       3  Sage, Miss. Ada  female  NaN      8      2   \n",
       "\n",
       "       Ticket   Fare Cabin Embarked  \n",
       "188  CA. 2343  69.55   NaN        S  "
      ]
     },
     "execution_count": 121,
     "metadata": {},
     "output_type": "execute_result"
    }
   ],
   "source": [
    "train_df[train_df['Age'].isnull()]\n",
    "test_df[test_df['Age'].isnull()]"
   ]
  },
  {
   "cell_type": "markdown",
   "metadata": {},
   "source": [
    "Оставшиеся незаполненными сведения о возрасте относятся к членам одной семьи - Sage. По запросу в поиске Google \"Sage, Master. Thomas Henry titanic\" первая ссылка: https://www.encyclopedia-titanica.org/titanic-victim/thomas-henry-sage.html.\n",
    "\n",
    "Интересно, что **номер билета один и тот же для членов одной семьи**, следовательно, информация о номере билета может быть использована для генерации информативного признака. "
   ]
  },
  {
   "cell_type": "markdown",
   "metadata": {},
   "source": [
    "Так как у нас уже есть информация о возрасте членов семьи Sage, внесем ее вручную."
   ]
  },
  {
   "cell_type": "code",
   "execution_count": 122,
   "metadata": {},
   "outputs": [],
   "source": [
    "train_df.loc[train_df.index == 159,'Age'] = 5.0         \n",
    "train_df.loc[train_df.index == 180,'Age'] = 8.0                  \n",
    "train_df.loc[train_df.index == 201,'Age'] = 17.0       \n",
    "train_df.loc[train_df.index == 324,'Age'] = 20.0       \n",
    "train_df.loc[train_df.index == 792,'Age'] = 21.0     \n",
    "train_df.loc[train_df.index == 846,'Age'] = 19.0      \n",
    "train_df.loc[train_df.index == 863,'Age'] = 15.0\n",
    "\n",
    "test_df.loc[test_df.index == 188,'Age'] = 11.0  "
   ]
  },
  {
   "cell_type": "markdown",
   "metadata": {},
   "source": [
    "**`train_df.Cabin`**, **`test_df.Cabin`**"
   ]
  },
  {
   "cell_type": "code",
   "execution_count": 123,
   "metadata": {},
   "outputs": [
    {
     "data": {
      "text/plain": [
       "{'A10',\n",
       " 'A14',\n",
       " 'A16',\n",
       " 'A19',\n",
       " 'A20',\n",
       " 'A23',\n",
       " 'A24',\n",
       " 'A26',\n",
       " 'A31',\n",
       " 'A32',\n",
       " 'A34',\n",
       " 'A36',\n",
       " 'A5',\n",
       " 'A6',\n",
       " 'A7',\n",
       " 'B101',\n",
       " 'B102',\n",
       " 'B18',\n",
       " 'B19',\n",
       " 'B20',\n",
       " 'B22',\n",
       " 'B28',\n",
       " 'B3',\n",
       " 'B30',\n",
       " 'B35',\n",
       " 'B37',\n",
       " 'B38',\n",
       " 'B39',\n",
       " 'B4',\n",
       " 'B41',\n",
       " 'B42',\n",
       " 'B49',\n",
       " 'B5',\n",
       " 'B50',\n",
       " 'B51 B53 B55',\n",
       " 'B57 B59 B63 B66',\n",
       " 'B58 B60',\n",
       " 'B69',\n",
       " 'B71',\n",
       " 'B73',\n",
       " 'B77',\n",
       " 'B78',\n",
       " 'B79',\n",
       " 'B80',\n",
       " 'B82 B84',\n",
       " 'B86',\n",
       " 'B94',\n",
       " 'B96 B98',\n",
       " 'C101',\n",
       " 'C103',\n",
       " 'C104',\n",
       " 'C106',\n",
       " 'C110',\n",
       " 'C111',\n",
       " 'C118',\n",
       " 'C123',\n",
       " 'C124',\n",
       " 'C125',\n",
       " 'C126',\n",
       " 'C128',\n",
       " 'C148',\n",
       " 'C2',\n",
       " 'C22 C26',\n",
       " 'C23 C25 C27',\n",
       " 'C30',\n",
       " 'C32',\n",
       " 'C45',\n",
       " 'C46',\n",
       " 'C47',\n",
       " 'C49',\n",
       " 'C50',\n",
       " 'C52',\n",
       " 'C54',\n",
       " 'C62 C64',\n",
       " 'C65',\n",
       " 'C68',\n",
       " 'C7',\n",
       " 'C70',\n",
       " 'C78',\n",
       " 'C82',\n",
       " 'C83',\n",
       " 'C85',\n",
       " 'C86',\n",
       " 'C87',\n",
       " 'C90',\n",
       " 'C91',\n",
       " 'C92',\n",
       " 'C93',\n",
       " 'C95',\n",
       " 'C99',\n",
       " 'D',\n",
       " 'D10 D12',\n",
       " 'D11',\n",
       " 'D15',\n",
       " 'D17',\n",
       " 'D19',\n",
       " 'D20',\n",
       " 'D21',\n",
       " 'D26',\n",
       " 'D28',\n",
       " 'D30',\n",
       " 'D33',\n",
       " 'D35',\n",
       " 'D36',\n",
       " 'D37',\n",
       " 'D45',\n",
       " 'D46',\n",
       " 'D47',\n",
       " 'D48',\n",
       " 'D49',\n",
       " 'D50',\n",
       " 'D56',\n",
       " 'D6',\n",
       " 'D7',\n",
       " 'D9',\n",
       " 'E10',\n",
       " 'E101',\n",
       " 'E12',\n",
       " 'E121',\n",
       " 'E17',\n",
       " 'E24',\n",
       " 'E25',\n",
       " 'E31',\n",
       " 'E33',\n",
       " 'E34',\n",
       " 'E36',\n",
       " 'E38',\n",
       " 'E40',\n",
       " 'E44',\n",
       " 'E46',\n",
       " 'E49',\n",
       " 'E50',\n",
       " 'E58',\n",
       " 'E63',\n",
       " 'E67',\n",
       " 'E68',\n",
       " 'E77',\n",
       " 'E8',\n",
       " 'F E69',\n",
       " 'F G63',\n",
       " 'F G73',\n",
       " 'F2',\n",
       " 'F33',\n",
       " 'F38',\n",
       " 'F4',\n",
       " 'G6',\n",
       " 'T',\n",
       " nan}"
      ]
     },
     "execution_count": 123,
     "metadata": {},
     "output_type": "execute_result"
    }
   ],
   "source": [
    "# Номера кают\n",
    "set(train_df.Cabin)"
   ]
  },
  {
   "cell_type": "markdown",
   "metadata": {},
   "source": [
    "В сети есть информация о том, что буква в начале номера каюты определяет палубу, на которой она расположена. Создадим новую переменную `Deck`, которая будет содержать букву из переменной `Cabin`, если значение существует, и значение `abs`, если отсутствует.    "
   ]
  },
  {
   "cell_type": "code",
   "execution_count": 124,
   "metadata": {},
   "outputs": [],
   "source": [
    "train_df['Deck'] = train_df.Cabin.str.slice(0,1)\n",
    "train_df['Deck'] = train_df['Deck'].fillna('abs')"
   ]
  },
  {
   "cell_type": "code",
   "execution_count": 125,
   "metadata": {},
   "outputs": [
    {
     "data": {
      "text/plain": [
       "abs    687\n",
       "C       59\n",
       "B       47\n",
       "D       33\n",
       "E       32\n",
       "A       15\n",
       "F       13\n",
       "G        4\n",
       "T        1\n",
       "Name: Deck, dtype: int64"
      ]
     },
     "execution_count": 125,
     "metadata": {},
     "output_type": "execute_result"
    }
   ],
   "source": [
    "train_df.Deck.value_counts()"
   ]
  },
  {
   "cell_type": "code",
   "execution_count": 126,
   "metadata": {},
   "outputs": [],
   "source": [
    "test_df['Deck'] = test_df.Cabin.str.slice(0,1)\n",
    "test_df['Deck'] = test_df['Deck'].fillna('abs')"
   ]
  },
  {
   "cell_type": "code",
   "execution_count": 127,
   "metadata": {},
   "outputs": [
    {
     "data": {
      "text/plain": [
       "abs    327\n",
       "C       35\n",
       "B       18\n",
       "D       13\n",
       "E        9\n",
       "F        8\n",
       "A        7\n",
       "G        1\n",
       "Name: Deck, dtype: int64"
      ]
     },
     "execution_count": 127,
     "metadata": {},
     "output_type": "execute_result"
    }
   ],
   "source": [
    "test_df.Deck.value_counts()"
   ]
  },
  {
   "cell_type": "code",
   "execution_count": 128,
   "metadata": {},
   "outputs": [
    {
     "data": {
      "text/html": [
       "<div>\n",
       "<style scoped>\n",
       "    .dataframe tbody tr th:only-of-type {\n",
       "        vertical-align: middle;\n",
       "    }\n",
       "\n",
       "    .dataframe tbody tr th {\n",
       "        vertical-align: top;\n",
       "    }\n",
       "\n",
       "    .dataframe thead th {\n",
       "        text-align: right;\n",
       "    }\n",
       "</style>\n",
       "<table border=\"1\" class=\"dataframe\">\n",
       "  <thead>\n",
       "    <tr style=\"text-align: right;\">\n",
       "      <th></th>\n",
       "      <th>PassengerId</th>\n",
       "      <th>Survived</th>\n",
       "      <th>Pclass</th>\n",
       "      <th>Name</th>\n",
       "      <th>Sex</th>\n",
       "      <th>Age</th>\n",
       "      <th>SibSp</th>\n",
       "      <th>Parch</th>\n",
       "      <th>Ticket</th>\n",
       "      <th>Fare</th>\n",
       "      <th>Cabin</th>\n",
       "      <th>Embarked</th>\n",
       "      <th>Deck</th>\n",
       "    </tr>\n",
       "  </thead>\n",
       "  <tbody>\n",
       "    <tr>\n",
       "      <th>339</th>\n",
       "      <td>340</td>\n",
       "      <td>0</td>\n",
       "      <td>1</td>\n",
       "      <td>Blackwell, Mr. Stephen Weart</td>\n",
       "      <td>male</td>\n",
       "      <td>45.0</td>\n",
       "      <td>0</td>\n",
       "      <td>0</td>\n",
       "      <td>113784</td>\n",
       "      <td>35.5</td>\n",
       "      <td>T</td>\n",
       "      <td>S</td>\n",
       "      <td>T</td>\n",
       "    </tr>\n",
       "  </tbody>\n",
       "</table>\n",
       "</div>"
      ],
      "text/plain": [
       "     PassengerId  Survived  Pclass                          Name   Sex   Age  \\\n",
       "339          340         0       1  Blackwell, Mr. Stephen Weart  male  45.0   \n",
       "\n",
       "     SibSp  Parch  Ticket  Fare Cabin Embarked Deck  \n",
       "339      0      0  113784  35.5     T        S    T  "
      ]
     },
     "execution_count": 128,
     "metadata": {},
     "output_type": "execute_result"
    }
   ],
   "source": [
    "# Только одно значение \"Т\" на обе выборки\n",
    "train_df[train_df.Deck=='T']"
   ]
  },
  {
   "cell_type": "markdown",
   "metadata": {},
   "source": [
    "Заменим единичное значение **'T'** переменной `Deck` на значение **'С'** как самое частое из известных. "
   ]
  },
  {
   "cell_type": "code",
   "execution_count": 129,
   "metadata": {},
   "outputs": [],
   "source": [
    "train_df['Deck'] = train_df['Deck'].replace('T', 'C')"
   ]
  },
  {
   "cell_type": "code",
   "execution_count": 130,
   "metadata": {},
   "outputs": [
    {
     "data": {
      "image/png": "[encoded data removed]",
      "text/plain": [
       "<Figure size 576x576 with 1 Axes>"
      ]
     },
     "metadata": {},
     "output_type": "display_data"
    }
   ],
   "source": [
    "plt.figure(figsize=(8,8))\n",
    "sns.countplot(x = \"Deck\", hue = \"Survived\", data = train_df)\n",
    "plt.grid();"
   ]
  },
  {
   "cell_type": "markdown",
   "metadata": {},
   "source": [
    "Зависимость выживаемости от палубы есть, оставляем переменную `Deck` вместо `Cabin`."
   ]
  },
  {
   "cell_type": "code",
   "execution_count": 131,
   "metadata": {},
   "outputs": [],
   "source": [
    "train_df.drop('Cabin', axis=1, inplace=True)\n",
    "test_df.drop('Cabin', axis=1, inplace=True)"
   ]
  },
  {
   "cell_type": "code",
   "execution_count": 132,
   "metadata": {},
   "outputs": [
    {
     "data": {
      "text/plain": [
       "0"
      ]
     },
     "execution_count": 132,
     "metadata": {},
     "output_type": "execute_result"
    },
    {
     "data": {
      "text/plain": [
       "0"
      ]
     },
     "execution_count": 132,
     "metadata": {},
     "output_type": "execute_result"
    }
   ],
   "source": [
    "train_df.isnull().sum().sum()\n",
    "test_df.isnull().sum().sum()"
   ]
  },
  {
   "cell_type": "markdown",
   "metadata": {},
   "source": [
    "### Создание новых переменных"
   ]
  },
  {
   "cell_type": "code",
   "execution_count": 133,
   "metadata": {},
   "outputs": [
    {
     "data": {
      "image/png": "[encoded data removed]",
      "text/plain": [
       "<Figure size 600x500 with 2 Axes>"
      ]
     },
     "metadata": {},
     "output_type": "display_data"
    }
   ],
   "source": [
    "plt.figure(figsize=(6,5), dpi=100)\n",
    "corr = train_df.corr(method='spearman')\n",
    "sns.heatmap(corr, annot=True, linewidths=1);"
   ]
  },
  {
   "cell_type": "markdown",
   "metadata": {},
   "source": [
    "**`Fare`**"
   ]
  },
  {
   "cell_type": "markdown",
   "metadata": {},
   "source": [
    "У переменной `Fare` высокая прямая корреляция с `Survived`."
   ]
  },
  {
   "cell_type": "code",
   "execution_count": 134,
   "metadata": {},
   "outputs": [
    {
     "data": {
      "text/plain": [
       "count    891.000000\n",
       "mean      32.204208\n",
       "std       49.693429\n",
       "min        0.000000\n",
       "25%        7.910400\n",
       "50%       14.454200\n",
       "75%       31.000000\n",
       "max      512.329200\n",
       "Name: Fare, dtype: float64"
      ]
     },
     "execution_count": 134,
     "metadata": {},
     "output_type": "execute_result"
    }
   ],
   "source": [
    "train_df.Fare.describe()"
   ]
  },
  {
   "cell_type": "code",
   "execution_count": 135,
   "metadata": {},
   "outputs": [
    {
     "data": {
      "text/plain": [
       "count    418.000000\n",
       "mean      35.560666\n",
       "std       55.857061\n",
       "min        0.000000\n",
       "25%        7.895800\n",
       "50%       14.454200\n",
       "75%       31.471875\n",
       "max      512.329200\n",
       "Name: Fare, dtype: float64"
      ]
     },
     "execution_count": 135,
     "metadata": {},
     "output_type": "execute_result"
    }
   ],
   "source": [
    "test_df.Fare.describe()"
   ]
  },
  {
   "cell_type": "code",
   "execution_count": 136,
   "metadata": {},
   "outputs": [
    {
     "data": {
      "text/plain": [
       "222"
      ]
     },
     "execution_count": 136,
     "metadata": {},
     "output_type": "execute_result"
    },
    {
     "data": {
      "text/plain": [
       "38"
      ]
     },
     "execution_count": 136,
     "metadata": {},
     "output_type": "execute_result"
    },
    {
     "data": {
      "text/plain": [
       "3"
      ]
     },
     "execution_count": 136,
     "metadata": {},
     "output_type": "execute_result"
    },
    {
     "data": {
      "text/plain": [
       "0"
      ]
     },
     "execution_count": 136,
     "metadata": {},
     "output_type": "execute_result"
    }
   ],
   "source": [
    "len(train_df[train_df.Fare > 31])\n",
    "len(train_df[train_df.Fare > 120])\n",
    "len(train_df[train_df.Fare > 263])  # 3 пассажира со стоимостью билетов > 263\n",
    "len(train_df[train_df.Fare > 512.3292])  # 3"
   ]
  },
  {
   "cell_type": "markdown",
   "metadata": {},
   "source": [
    "Сделаем биннинг переменной `Fare`, результатом будет переменная `Fare_range`, определяемая диапазоном стоимости билета. При разбиении будем руководствоваться значениями квантилей и максимальной ценой билетов. "
   ]
  },
  {
   "cell_type": "code",
   "execution_count": 137,
   "metadata": {},
   "outputs": [
    {
     "data": {
      "image/png": "[encoded data removed]",
      "text/plain": [
       "<Figure size 432x288 with 1 Axes>"
      ]
     },
     "metadata": {},
     "output_type": "display_data"
    }
   ],
   "source": [
    "train_df['Fare_range'] = pd.cut(train_df['Fare'],\n",
    "                                bins=[-np.inf, 7.90, 14.46,\n",
    "                                      31.28, 120, np.inf],\n",
    "                                labels=['Low', 'Middle', 'Up_middle',\n",
    "                                        'High', 'Extra_high'])\n",
    "\n",
    "# Рассмотрим переменную Survived в каждом диапазоне\n",
    "sns.countplot(x = \"Fare_range\", hue = \"Survived\", data = train_df)\n",
    "plt.grid();"
   ]
  },
  {
   "cell_type": "code",
   "execution_count": 138,
   "metadata": {},
   "outputs": [],
   "source": [
    "test_df['Fare_range'] = pd.cut(test_df['Fare'],\n",
    "                               bins=[-np.inf, 7.90, 14.46,\n",
    "                                     31.28, 120, np.inf],\n",
    "                                labels=['Low', 'Middle', 'Up_middle',\n",
    "                                        'High', 'Extra_high'])"
   ]
  },
  {
   "cell_type": "markdown",
   "metadata": {},
   "source": [
    "**`Family`**"
   ]
  },
  {
   "cell_type": "markdown",
   "metadata": {},
   "source": [
    "Введем новую переменную `Family_size`, полученную сложением `Parch` (количество родителей, детей на корабле), `SibSp` (количество братьев, сестер, супругов на корабле) и 1, чтобы, если человек путешествовал один, размер семьи был равен 1."
   ]
  },
  {
   "cell_type": "code",
   "execution_count": 139,
   "metadata": {},
   "outputs": [],
   "source": [
    "train_df['Family_size'] = train_df.Parch + train_df.SibSp + 1"
   ]
  },
  {
   "cell_type": "code",
   "execution_count": 140,
   "metadata": {},
   "outputs": [
    {
     "data": {
      "image/png": "[encoded data removed]",
      "text/plain": [
       "<Figure size 576x432 with 1 Axes>"
      ]
     },
     "metadata": {},
     "output_type": "display_data"
    }
   ],
   "source": [
    "fig, ax = plt.subplots(figsize=(8, 6))\n",
    "sns.countplot(x = \"Family_size\", hue = \"Survived\", data = train_df)\n",
    "ax.set_xlabel('Family_size', fontdict={'fontsize':13})\n",
    "plt.grid();"
   ]
  },
  {
   "cell_type": "code",
   "execution_count": 141,
   "metadata": {},
   "outputs": [],
   "source": [
    "test_df['Family_size'] = test_df.Parch + test_df.SibSp + 1"
   ]
  },
  {
   "cell_type": "markdown",
   "metadata": {},
   "source": [
    "Судя по распределению можно выделить группы: \n",
    "\n",
    "1. низкая вероятность выжить у одиноких пассажиров, \n",
    "2. выше вероятность выжить у семей размером от 2 до 4, \n",
    "3. снова низкая вероятность выжить у семей размером от 5 и выше. \n",
    "\n",
    "Сделаем биннинг переменной `Family_size` и введем переменную `Family_range`."
   ]
  },
  {
   "cell_type": "code",
   "execution_count": 142,
   "metadata": {},
   "outputs": [
    {
     "data": {
      "image/png": "[encoded data removed]",
      "text/plain": [
       "<Figure size 576x432 with 1 Axes>"
      ]
     },
     "metadata": {},
     "output_type": "display_data"
    }
   ],
   "source": [
    "train_df['Family_range'] = pd.cut(train_df.Family_size, bins=[0, 1, 4, np.inf],\n",
    "                                 labels=['Alone', 'Small', 'Large'])\n",
    "\n",
    "fig, ax = plt.subplots(figsize=(8, 6))\n",
    "sns.countplot(x = \"Family_range\", hue = \"Survived\", data = train_df)\n",
    "ax.set_xlabel('Family_range', fontdict={'fontsize':12})\n",
    "plt.grid();"
   ]
  },
  {
   "cell_type": "code",
   "execution_count": 143,
   "metadata": {},
   "outputs": [],
   "source": [
    "test_df['Family_range'] = pd.cut(test_df.Family_size, bins=[0, 1, 4, np.inf],\n",
    "                                 labels=['Alone', 'Small', 'Large'])"
   ]
  },
  {
   "cell_type": "code",
   "execution_count": 144,
   "metadata": {},
   "outputs": [],
   "source": [
    "train_df.drop('Family_size', axis=1, inplace=True) \n",
    "test_df.drop('Family_size', axis=1, inplace=True)"
   ]
  },
  {
   "cell_type": "code",
   "execution_count": 145,
   "metadata": {},
   "outputs": [],
   "source": [
    "train_df.drop(['SibSp', 'Parch'], axis=1, inplace=True) \n",
    "test_df.drop(['SibSp', 'Parch'], axis=1, inplace=True) "
   ]
  },
  {
   "cell_type": "markdown",
   "metadata": {},
   "source": [
    "**`Age`**"
   ]
  },
  {
   "cell_type": "markdown",
   "metadata": {},
   "source": [
    "Введем переменную, определяемую возрастным диапазоном, и рассмотрим целевую переменную в каждом возрастном диапазоне."
   ]
  },
  {
   "cell_type": "code",
   "execution_count": 146,
   "metadata": {},
   "outputs": [
    {
     "data": {
      "image/png": "[encoded data removed]",
      "text/plain": [
       "<Figure size 936x432 with 1 Axes>"
      ]
     },
     "metadata": {},
     "output_type": "display_data"
    }
   ],
   "source": [
    "train_df['Age_range'] = pd.cut(train_df.Age, 10,\n",
    "                               labels=['1', '2', '3', '4', '5',\n",
    "                                       '6', '7', '8', '9', '10'])\n",
    "\n",
    "fig, ax = plt.subplots(figsize=(13, 6))\n",
    "sns.countplot(x = \"Age_range\", hue = \"Survived\", data = train_df)\n",
    "ax.set_xlabel('Age_range', fontdict={'fontsize':12})\n",
    "plt.grid();"
   ]
  },
  {
   "cell_type": "markdown",
   "metadata": {},
   "source": [
    "Во всех возрастных категориях погибших было больше, чем выживших, кроме детей до 10 лет."
   ]
  },
  {
   "cell_type": "code",
   "execution_count": 147,
   "metadata": {},
   "outputs": [],
   "source": [
    "test_df['Age_range'] = pd.cut(test_df.Age, 10,\n",
    "                              labels=['1', '2', '3', '4', '5',\n",
    "                                      '6', '7', '8', '9', '10'])"
   ]
  },
  {
   "cell_type": "markdown",
   "metadata": {},
   "source": [
    "**`Ticket`**"
   ]
  },
  {
   "cell_type": "code",
   "execution_count": 148,
   "metadata": {},
   "outputs": [
    {
     "data": {
      "text/plain": [
       "array([1, 2, 3, 4, 5, 6, 7], dtype=int64)"
      ]
     },
     "execution_count": 148,
     "metadata": {},
     "output_type": "execute_result"
    },
    {
     "data": {
      "text/plain": [
       "681"
      ]
     },
     "execution_count": 148,
     "metadata": {},
     "output_type": "execute_result"
    }
   ],
   "source": [
    "np.unique(train_df.Ticket.value_counts())\n",
    "len(train_df.Ticket.value_counts())"
   ]
  },
  {
   "cell_type": "code",
   "execution_count": 149,
   "metadata": {},
   "outputs": [],
   "source": [
    "ticket_count = train_df.Ticket.value_counts()"
   ]
  },
  {
   "cell_type": "markdown",
   "metadata": {},
   "source": [
    "Посмотрим на некоторые группы с одинаковым номером билета."
   ]
  },
  {
   "cell_type": "code",
   "execution_count": 150,
   "metadata": {},
   "outputs": [
    {
     "data": {
      "text/plain": [
       "Index(['347082', 'CA. 2343', '1601', '3101295', 'CA 2144', '347088',\n",
       "       'S.O.C. 14879', '382652', 'LINE', 'PC 17757', '17421', '349909',\n",
       "       '113760', '4133', '113781', 'W./C. 6608', '2666', '19950', '347077'],\n",
       "      dtype='object')"
      ]
     },
     "execution_count": 150,
     "metadata": {},
     "output_type": "execute_result"
    }
   ],
   "source": [
    "ticket_count.index[ticket_count > 3]"
   ]
  },
  {
   "cell_type": "code",
   "execution_count": 151,
   "metadata": {},
   "outputs": [
    {
     "data": {
      "text/html": [
       "<div>\n",
       "<style scoped>\n",
       "    .dataframe tbody tr th:only-of-type {\n",
       "        vertical-align: middle;\n",
       "    }\n",
       "\n",
       "    .dataframe tbody tr th {\n",
       "        vertical-align: top;\n",
       "    }\n",
       "\n",
       "    .dataframe thead th {\n",
       "        text-align: right;\n",
       "    }\n",
       "</style>\n",
       "<table border=\"1\" class=\"dataframe\">\n",
       "  <thead>\n",
       "    <tr style=\"text-align: right;\">\n",
       "      <th></th>\n",
       "      <th>PassengerId</th>\n",
       "      <th>Survived</th>\n",
       "      <th>Pclass</th>\n",
       "      <th>Name</th>\n",
       "      <th>Sex</th>\n",
       "      <th>Age</th>\n",
       "      <th>Ticket</th>\n",
       "      <th>Fare</th>\n",
       "      <th>Embarked</th>\n",
       "      <th>Deck</th>\n",
       "      <th>Fare_range</th>\n",
       "      <th>Family_range</th>\n",
       "      <th>Age_range</th>\n",
       "    </tr>\n",
       "  </thead>\n",
       "  <tbody>\n",
       "    <tr>\n",
       "      <th>297</th>\n",
       "      <td>298</td>\n",
       "      <td>0</td>\n",
       "      <td>1</td>\n",
       "      <td>Allison, Miss. Helen Loraine</td>\n",
       "      <td>female</td>\n",
       "      <td>2.00</td>\n",
       "      <td>113781</td>\n",
       "      <td>151.55</td>\n",
       "      <td>S</td>\n",
       "      <td>C</td>\n",
       "      <td>Extra_high</td>\n",
       "      <td>Small</td>\n",
       "      <td>1</td>\n",
       "    </tr>\n",
       "    <tr>\n",
       "      <th>305</th>\n",
       "      <td>306</td>\n",
       "      <td>1</td>\n",
       "      <td>1</td>\n",
       "      <td>Allison, Master. Hudson Trevor</td>\n",
       "      <td>male</td>\n",
       "      <td>0.92</td>\n",
       "      <td>113781</td>\n",
       "      <td>151.55</td>\n",
       "      <td>S</td>\n",
       "      <td>C</td>\n",
       "      <td>Extra_high</td>\n",
       "      <td>Small</td>\n",
       "      <td>1</td>\n",
       "    </tr>\n",
       "    <tr>\n",
       "      <th>498</th>\n",
       "      <td>499</td>\n",
       "      <td>0</td>\n",
       "      <td>1</td>\n",
       "      <td>Allison, Mrs. Hudson J C (Bessie Waldo Daniels)</td>\n",
       "      <td>female</td>\n",
       "      <td>25.00</td>\n",
       "      <td>113781</td>\n",
       "      <td>151.55</td>\n",
       "      <td>S</td>\n",
       "      <td>C</td>\n",
       "      <td>Extra_high</td>\n",
       "      <td>Small</td>\n",
       "      <td>4</td>\n",
       "    </tr>\n",
       "    <tr>\n",
       "      <th>708</th>\n",
       "      <td>709</td>\n",
       "      <td>1</td>\n",
       "      <td>1</td>\n",
       "      <td>Cleaver, Miss. Alice</td>\n",
       "      <td>female</td>\n",
       "      <td>22.00</td>\n",
       "      <td>113781</td>\n",
       "      <td>151.55</td>\n",
       "      <td>S</td>\n",
       "      <td>abs</td>\n",
       "      <td>Extra_high</td>\n",
       "      <td>Alone</td>\n",
       "      <td>3</td>\n",
       "    </tr>\n",
       "  </tbody>\n",
       "</table>\n",
       "</div>"
      ],
      "text/plain": [
       "     PassengerId  Survived  Pclass  \\\n",
       "297          298         0       1   \n",
       "305          306         1       1   \n",
       "498          499         0       1   \n",
       "708          709         1       1   \n",
       "\n",
       "                                                Name     Sex    Age  Ticket  \\\n",
       "297                     Allison, Miss. Helen Loraine  female   2.00  113781   \n",
       "305                   Allison, Master. Hudson Trevor    male   0.92  113781   \n",
       "498  Allison, Mrs. Hudson J C (Bessie Waldo Daniels)  female  25.00  113781   \n",
       "708                             Cleaver, Miss. Alice  female  22.00  113781   \n",
       "\n",
       "       Fare Embarked Deck  Fare_range Family_range Age_range  \n",
       "297  151.55        S    C  Extra_high        Small         1  \n",
       "305  151.55        S    C  Extra_high        Small         1  \n",
       "498  151.55        S    C  Extra_high        Small         4  \n",
       "708  151.55        S  abs  Extra_high        Alone         3  "
      ]
     },
     "execution_count": 151,
     "metadata": {},
     "output_type": "execute_result"
    }
   ],
   "source": [
    "train_df[train_df['Ticket']=='113781']"
   ]
  },
  {
   "cell_type": "code",
   "execution_count": 152,
   "metadata": {},
   "outputs": [
    {
     "data": {
      "text/html": [
       "<div>\n",
       "<style scoped>\n",
       "    .dataframe tbody tr th:only-of-type {\n",
       "        vertical-align: middle;\n",
       "    }\n",
       "\n",
       "    .dataframe tbody tr th {\n",
       "        vertical-align: top;\n",
       "    }\n",
       "\n",
       "    .dataframe thead th {\n",
       "        text-align: right;\n",
       "    }\n",
       "</style>\n",
       "<table border=\"1\" class=\"dataframe\">\n",
       "  <thead>\n",
       "    <tr style=\"text-align: right;\">\n",
       "      <th></th>\n",
       "      <th>PassengerId</th>\n",
       "      <th>Survived</th>\n",
       "      <th>Pclass</th>\n",
       "      <th>Name</th>\n",
       "      <th>Sex</th>\n",
       "      <th>Age</th>\n",
       "      <th>Ticket</th>\n",
       "      <th>Fare</th>\n",
       "      <th>Embarked</th>\n",
       "      <th>Deck</th>\n",
       "      <th>Fare_range</th>\n",
       "      <th>Family_range</th>\n",
       "      <th>Age_range</th>\n",
       "    </tr>\n",
       "  </thead>\n",
       "  <tbody>\n",
       "    <tr>\n",
       "      <th>72</th>\n",
       "      <td>73</td>\n",
       "      <td>0</td>\n",
       "      <td>2</td>\n",
       "      <td>Hood, Mr. Ambrose Jr</td>\n",
       "      <td>male</td>\n",
       "      <td>21.0</td>\n",
       "      <td>S.O.C. 14879</td>\n",
       "      <td>73.5</td>\n",
       "      <td>S</td>\n",
       "      <td>abs</td>\n",
       "      <td>High</td>\n",
       "      <td>Alone</td>\n",
       "      <td>3</td>\n",
       "    </tr>\n",
       "    <tr>\n",
       "      <th>120</th>\n",
       "      <td>121</td>\n",
       "      <td>0</td>\n",
       "      <td>2</td>\n",
       "      <td>Hickman, Mr. Stanley George</td>\n",
       "      <td>male</td>\n",
       "      <td>21.0</td>\n",
       "      <td>S.O.C. 14879</td>\n",
       "      <td>73.5</td>\n",
       "      <td>S</td>\n",
       "      <td>abs</td>\n",
       "      <td>High</td>\n",
       "      <td>Small</td>\n",
       "      <td>3</td>\n",
       "    </tr>\n",
       "    <tr>\n",
       "      <th>385</th>\n",
       "      <td>386</td>\n",
       "      <td>0</td>\n",
       "      <td>2</td>\n",
       "      <td>Davies, Mr. Charles Henry</td>\n",
       "      <td>male</td>\n",
       "      <td>18.0</td>\n",
       "      <td>S.O.C. 14879</td>\n",
       "      <td>73.5</td>\n",
       "      <td>S</td>\n",
       "      <td>abs</td>\n",
       "      <td>High</td>\n",
       "      <td>Alone</td>\n",
       "      <td>3</td>\n",
       "    </tr>\n",
       "    <tr>\n",
       "      <th>655</th>\n",
       "      <td>656</td>\n",
       "      <td>0</td>\n",
       "      <td>2</td>\n",
       "      <td>Hickman, Mr. Leonard Mark</td>\n",
       "      <td>male</td>\n",
       "      <td>24.0</td>\n",
       "      <td>S.O.C. 14879</td>\n",
       "      <td>73.5</td>\n",
       "      <td>S</td>\n",
       "      <td>abs</td>\n",
       "      <td>High</td>\n",
       "      <td>Small</td>\n",
       "      <td>3</td>\n",
       "    </tr>\n",
       "    <tr>\n",
       "      <th>665</th>\n",
       "      <td>666</td>\n",
       "      <td>0</td>\n",
       "      <td>2</td>\n",
       "      <td>Hickman, Mr. Lewis</td>\n",
       "      <td>male</td>\n",
       "      <td>32.0</td>\n",
       "      <td>S.O.C. 14879</td>\n",
       "      <td>73.5</td>\n",
       "      <td>S</td>\n",
       "      <td>abs</td>\n",
       "      <td>High</td>\n",
       "      <td>Small</td>\n",
       "      <td>4</td>\n",
       "    </tr>\n",
       "  </tbody>\n",
       "</table>\n",
       "</div>"
      ],
      "text/plain": [
       "     PassengerId  Survived  Pclass                         Name   Sex   Age  \\\n",
       "72            73         0       2         Hood, Mr. Ambrose Jr  male  21.0   \n",
       "120          121         0       2  Hickman, Mr. Stanley George  male  21.0   \n",
       "385          386         0       2    Davies, Mr. Charles Henry  male  18.0   \n",
       "655          656         0       2    Hickman, Mr. Leonard Mark  male  24.0   \n",
       "665          666         0       2           Hickman, Mr. Lewis  male  32.0   \n",
       "\n",
       "           Ticket  Fare Embarked Deck Fare_range Family_range Age_range  \n",
       "72   S.O.C. 14879  73.5        S  abs       High        Alone         3  \n",
       "120  S.O.C. 14879  73.5        S  abs       High        Small         3  \n",
       "385  S.O.C. 14879  73.5        S  abs       High        Alone         3  \n",
       "655  S.O.C. 14879  73.5        S  abs       High        Small         3  \n",
       "665  S.O.C. 14879  73.5        S  abs       High        Small         4  "
      ]
     },
     "execution_count": 152,
     "metadata": {},
     "output_type": "execute_result"
    }
   ],
   "source": [
    "train_df[train_df['Ticket']=='S.O.C. 14879']"
   ]
  },
  {
   "cell_type": "markdown",
   "metadata": {},
   "source": [
    "Судя по фамилиям, одинаковый номер билета может означать не только семью, но также людей, путешествующих вместе, т.е. номер билета можно использовать для создания переменной с учетом групп по билетам. "
   ]
  },
  {
   "cell_type": "code",
   "execution_count": 153,
   "metadata": {},
   "outputs": [],
   "source": [
    "train_df['Ticket_range'] = train_df.groupby('Ticket')['Ticket'].transform('count')"
   ]
  },
  {
   "cell_type": "code",
   "execution_count": 154,
   "metadata": {},
   "outputs": [
    {
     "data": {
      "image/png": "[encoded data removed]",
      "text/plain": [
       "<Figure size 576x432 with 1 Axes>"
      ]
     },
     "metadata": {},
     "output_type": "display_data"
    }
   ],
   "source": [
    "fig, ax = plt.subplots(figsize=(8, 6))\n",
    "sns.countplot(x = \"Ticket_range\", hue = \"Survived\", data = train_df)\n",
    "ax.set_xlabel('Ticket_range', fontdict={'fontsize':12})\n",
    "plt.grid();"
   ]
  },
  {
   "cell_type": "markdown",
   "metadata": {},
   "source": [
    "Есть зависимость выживаемости, похожая на зависимость от размера семьи, но есть отличия.\n",
    "\n",
    "Путем биннинга создадим новую переменную `Ticket_group`, в соответствии с найденными паттернами."
   ]
  },
  {
   "cell_type": "code",
   "execution_count": 155,
   "metadata": {},
   "outputs": [
    {
     "data": {
      "image/png": "[encoded data removed]",
      "text/plain": [
       "<Figure size 576x432 with 1 Axes>"
      ]
     },
     "metadata": {},
     "output_type": "display_data"
    }
   ],
   "source": [
    "train_df['Ticket_group'] = pd.cut(train_df.Ticket_range, \n",
    "                                  bins=[-np.inf, 1, 2, 4, np.inf],\n",
    "                                  labels=['Alone', 'Small', \n",
    "                                          'Medium', 'Large'])\n",
    "\n",
    "fig, ax = plt.subplots(figsize=(8, 6))\n",
    "sns.countplot(x = \"Ticket_group\", hue = \"Survived\", data = train_df)\n",
    "ax.set_xlabel('Ticket_group', fontdict={'fontsize':12})\n",
    "plt.grid();"
   ]
  },
  {
   "cell_type": "code",
   "execution_count": 156,
   "metadata": {},
   "outputs": [],
   "source": [
    "test_df['Ticket_range'] = test_df.groupby('Ticket')['Ticket'].transform('count')\n",
    "test_df['Ticket_group'] = pd.cut(test_df.Ticket_range, \n",
    "                                  bins=[-np.inf, 1, 2, 4, np.inf],\n",
    "                                  labels=['Alone', 'Small', \n",
    "                                          'Medium', 'Large'])"
   ]
  },
  {
   "cell_type": "code",
   "execution_count": 157,
   "metadata": {},
   "outputs": [],
   "source": [
    "train_df.drop('Ticket', axis=1, inplace=True) \n",
    "test_df.drop('Ticket', axis=1, inplace=True)\n",
    "\n",
    "train_df.drop('Ticket_range', axis=1, inplace=True) \n",
    "test_df.drop('Ticket_range', axis=1, inplace=True)"
   ]
  },
  {
   "cell_type": "code",
   "execution_count": 158,
   "metadata": {},
   "outputs": [
    {
     "data": {
      "text/plain": [
       "31176"
      ]
     },
     "execution_count": 158,
     "metadata": {},
     "output_type": "execute_result"
    }
   ],
   "source": [
    "gc.collect()"
   ]
  },
  {
   "cell_type": "markdown",
   "metadata": {},
   "source": [
    "**`Name`**"
   ]
  },
  {
   "cell_type": "code",
   "execution_count": 159,
   "metadata": {},
   "outputs": [
    {
     "data": {
      "text/plain": [
       "0                              Braund, Mr. Owen Harris\n",
       "1    Cumings, Mrs. John Bradley (Florence Briggs Th...\n",
       "2                               Heikkinen, Miss. Laina\n",
       "3         Futrelle, Mrs. Jacques Heath (Lily May Peel)\n",
       "4                             Allen, Mr. William Henry\n",
       "Name: Name, dtype: object"
      ]
     },
     "execution_count": 159,
     "metadata": {},
     "output_type": "execute_result"
    }
   ],
   "source": [
    "train_df['Name'].head()"
   ]
  },
  {
   "cell_type": "markdown",
   "metadata": {},
   "source": [
    "В переменной `Name` слово до запятой - фамилия - относится к семье, которая учтена ранее. Полезным может быть префикс перед именем."
   ]
  },
  {
   "cell_type": "code",
   "execution_count": 160,
   "metadata": {},
   "outputs": [],
   "source": [
    "train_df['Title'] = train_df['Name'].apply(\n",
    "    lambda x: x.split(\",\")[1].split('.')[0]).to_frame('title')\n",
    "train_df['Title'] = train_df['Title'].apply(lambda x: x.strip())\n",
    "\n",
    "test_df['Title'] = test_df['Name'].apply(\n",
    "    lambda x: x.split(\",\")[1].split('.')[0]).to_frame('title')\n",
    "test_df['Title'] = test_df['Title'].apply(lambda x: x.strip())"
   ]
  },
  {
   "cell_type": "code",
   "execution_count": 161,
   "metadata": {},
   "outputs": [
    {
     "data": {
      "text/plain": [
       "Mr              517\n",
       "Miss            182\n",
       "Mrs             125\n",
       "Master           40\n",
       "Dr                7\n",
       "Rev               6\n",
       "Mlle              2\n",
       "Major             2\n",
       "Col               2\n",
       "the Countess      1\n",
       "Capt              1\n",
       "Ms                1\n",
       "Sir               1\n",
       "Lady              1\n",
       "Mme               1\n",
       "Don               1\n",
       "Jonkheer          1\n",
       "Name: Title, dtype: int64"
      ]
     },
     "execution_count": 161,
     "metadata": {},
     "output_type": "execute_result"
    }
   ],
   "source": [
    "train_df['Title'].value_counts()"
   ]
  },
  {
   "cell_type": "code",
   "execution_count": 162,
   "metadata": {},
   "outputs": [
    {
     "data": {
      "text/plain": [
       "Mr        240\n",
       "Miss       78\n",
       "Mrs        72\n",
       "Master     21\n",
       "Col         2\n",
       "Rev         2\n",
       "Ms          1\n",
       "Dr          1\n",
       "Dona        1\n",
       "Name: Title, dtype: int64"
      ]
     },
     "execution_count": 162,
     "metadata": {},
     "output_type": "execute_result"
    }
   ],
   "source": [
    "test_df['Title'].value_counts()"
   ]
  },
  {
   "cell_type": "code",
   "execution_count": 163,
   "metadata": {},
   "outputs": [
    {
     "data": {
      "image/png": "[encoded data removed]",
      "text/plain": [
       "<Figure size 720x432 with 1 Axes>"
      ]
     },
     "metadata": {},
     "output_type": "display_data"
    }
   ],
   "source": [
    "fig, ax = plt.subplots(figsize=(10, 6))\n",
    "sns.countplot(x = \"Title\", hue = \"Survived\", data = train_df)\n",
    "ax.set_xlabel('Title', fontdict={'fontsize':13})\n",
    "ax.set_xticklabels(ax.get_xticklabels(), rotation=40, ha=\"right\")\n",
    "plt.legend(loc ='upper right', title = 'Survived')\n",
    "plt.grid();"
   ]
  },
  {
   "cell_type": "markdown",
   "metadata": {},
   "source": [
    "Значения нужно сгруппировать, уточнив смысл некоторых слов и к какому полу они относятся."
   ]
  },
  {
   "cell_type": "code",
   "execution_count": 164,
   "metadata": {},
   "outputs": [
    {
     "data": {
      "text/html": [
       "<div>\n",
       "<style scoped>\n",
       "    .dataframe tbody tr th:only-of-type {\n",
       "        vertical-align: middle;\n",
       "    }\n",
       "\n",
       "    .dataframe tbody tr th {\n",
       "        vertical-align: top;\n",
       "    }\n",
       "\n",
       "    .dataframe thead th {\n",
       "        text-align: right;\n",
       "    }\n",
       "</style>\n",
       "<table border=\"1\" class=\"dataframe\">\n",
       "  <thead>\n",
       "    <tr style=\"text-align: right;\">\n",
       "      <th></th>\n",
       "      <th>PassengerId</th>\n",
       "      <th>Survived</th>\n",
       "      <th>Pclass</th>\n",
       "      <th>Name</th>\n",
       "      <th>Sex</th>\n",
       "      <th>Age</th>\n",
       "      <th>Fare</th>\n",
       "      <th>Embarked</th>\n",
       "      <th>Deck</th>\n",
       "      <th>Fare_range</th>\n",
       "      <th>Family_range</th>\n",
       "      <th>Age_range</th>\n",
       "      <th>Ticket_group</th>\n",
       "      <th>Title</th>\n",
       "    </tr>\n",
       "  </thead>\n",
       "  <tbody>\n",
       "    <tr>\n",
       "      <th>7</th>\n",
       "      <td>8</td>\n",
       "      <td>0</td>\n",
       "      <td>3</td>\n",
       "      <td>Palsson, Master. Gosta Leonard</td>\n",
       "      <td>male</td>\n",
       "      <td>2.00</td>\n",
       "      <td>21.0750</td>\n",
       "      <td>S</td>\n",
       "      <td>abs</td>\n",
       "      <td>Up_middle</td>\n",
       "      <td>Large</td>\n",
       "      <td>1</td>\n",
       "      <td>Medium</td>\n",
       "      <td>Master</td>\n",
       "    </tr>\n",
       "    <tr>\n",
       "      <th>16</th>\n",
       "      <td>17</td>\n",
       "      <td>0</td>\n",
       "      <td>3</td>\n",
       "      <td>Rice, Master. Eugene</td>\n",
       "      <td>male</td>\n",
       "      <td>2.00</td>\n",
       "      <td>29.1250</td>\n",
       "      <td>Q</td>\n",
       "      <td>abs</td>\n",
       "      <td>Up_middle</td>\n",
       "      <td>Large</td>\n",
       "      <td>1</td>\n",
       "      <td>Large</td>\n",
       "      <td>Master</td>\n",
       "    </tr>\n",
       "    <tr>\n",
       "      <th>50</th>\n",
       "      <td>51</td>\n",
       "      <td>0</td>\n",
       "      <td>3</td>\n",
       "      <td>Panula, Master. Juha Niilo</td>\n",
       "      <td>male</td>\n",
       "      <td>7.00</td>\n",
       "      <td>39.6875</td>\n",
       "      <td>S</td>\n",
       "      <td>abs</td>\n",
       "      <td>High</td>\n",
       "      <td>Large</td>\n",
       "      <td>1</td>\n",
       "      <td>Large</td>\n",
       "      <td>Master</td>\n",
       "    </tr>\n",
       "    <tr>\n",
       "      <th>59</th>\n",
       "      <td>60</td>\n",
       "      <td>0</td>\n",
       "      <td>3</td>\n",
       "      <td>Goodwin, Master. William Frederick</td>\n",
       "      <td>male</td>\n",
       "      <td>11.00</td>\n",
       "      <td>46.9000</td>\n",
       "      <td>S</td>\n",
       "      <td>abs</td>\n",
       "      <td>High</td>\n",
       "      <td>Large</td>\n",
       "      <td>2</td>\n",
       "      <td>Large</td>\n",
       "      <td>Master</td>\n",
       "    </tr>\n",
       "    <tr>\n",
       "      <th>63</th>\n",
       "      <td>64</td>\n",
       "      <td>0</td>\n",
       "      <td>3</td>\n",
       "      <td>Skoog, Master. Harald</td>\n",
       "      <td>male</td>\n",
       "      <td>4.00</td>\n",
       "      <td>27.9000</td>\n",
       "      <td>S</td>\n",
       "      <td>abs</td>\n",
       "      <td>Up_middle</td>\n",
       "      <td>Large</td>\n",
       "      <td>1</td>\n",
       "      <td>Large</td>\n",
       "      <td>Master</td>\n",
       "    </tr>\n",
       "    <tr>\n",
       "      <th>65</th>\n",
       "      <td>66</td>\n",
       "      <td>1</td>\n",
       "      <td>3</td>\n",
       "      <td>Moubarek, Master. Gerios</td>\n",
       "      <td>male</td>\n",
       "      <td>25.00</td>\n",
       "      <td>15.2458</td>\n",
       "      <td>C</td>\n",
       "      <td>abs</td>\n",
       "      <td>Up_middle</td>\n",
       "      <td>Small</td>\n",
       "      <td>4</td>\n",
       "      <td>Small</td>\n",
       "      <td>Master</td>\n",
       "    </tr>\n",
       "    <tr>\n",
       "      <th>78</th>\n",
       "      <td>79</td>\n",
       "      <td>1</td>\n",
       "      <td>2</td>\n",
       "      <td>Caldwell, Master. Alden Gates</td>\n",
       "      <td>male</td>\n",
       "      <td>0.83</td>\n",
       "      <td>29.0000</td>\n",
       "      <td>S</td>\n",
       "      <td>abs</td>\n",
       "      <td>Up_middle</td>\n",
       "      <td>Small</td>\n",
       "      <td>1</td>\n",
       "      <td>Small</td>\n",
       "      <td>Master</td>\n",
       "    </tr>\n",
       "    <tr>\n",
       "      <th>125</th>\n",
       "      <td>126</td>\n",
       "      <td>1</td>\n",
       "      <td>3</td>\n",
       "      <td>Nicola-Yarred, Master. Elias</td>\n",
       "      <td>male</td>\n",
       "      <td>12.00</td>\n",
       "      <td>11.2417</td>\n",
       "      <td>C</td>\n",
       "      <td>abs</td>\n",
       "      <td>Middle</td>\n",
       "      <td>Small</td>\n",
       "      <td>2</td>\n",
       "      <td>Small</td>\n",
       "      <td>Master</td>\n",
       "    </tr>\n",
       "    <tr>\n",
       "      <th>159</th>\n",
       "      <td>160</td>\n",
       "      <td>0</td>\n",
       "      <td>3</td>\n",
       "      <td>Sage, Master. Thomas Henry</td>\n",
       "      <td>male</td>\n",
       "      <td>5.00</td>\n",
       "      <td>69.5500</td>\n",
       "      <td>S</td>\n",
       "      <td>abs</td>\n",
       "      <td>High</td>\n",
       "      <td>Large</td>\n",
       "      <td>1</td>\n",
       "      <td>Large</td>\n",
       "      <td>Master</td>\n",
       "    </tr>\n",
       "    <tr>\n",
       "      <th>164</th>\n",
       "      <td>165</td>\n",
       "      <td>0</td>\n",
       "      <td>3</td>\n",
       "      <td>Panula, Master. Eino Viljami</td>\n",
       "      <td>male</td>\n",
       "      <td>1.00</td>\n",
       "      <td>39.6875</td>\n",
       "      <td>S</td>\n",
       "      <td>abs</td>\n",
       "      <td>High</td>\n",
       "      <td>Large</td>\n",
       "      <td>1</td>\n",
       "      <td>Large</td>\n",
       "      <td>Master</td>\n",
       "    </tr>\n",
       "    <tr>\n",
       "      <th>165</th>\n",
       "      <td>166</td>\n",
       "      <td>1</td>\n",
       "      <td>3</td>\n",
       "      <td>Goldsmith, Master. Frank John William \"Frankie\"</td>\n",
       "      <td>male</td>\n",
       "      <td>9.00</td>\n",
       "      <td>20.5250</td>\n",
       "      <td>S</td>\n",
       "      <td>abs</td>\n",
       "      <td>Up_middle</td>\n",
       "      <td>Small</td>\n",
       "      <td>2</td>\n",
       "      <td>Medium</td>\n",
       "      <td>Master</td>\n",
       "    </tr>\n",
       "    <tr>\n",
       "      <th>171</th>\n",
       "      <td>172</td>\n",
       "      <td>0</td>\n",
       "      <td>3</td>\n",
       "      <td>Rice, Master. Arthur</td>\n",
       "      <td>male</td>\n",
       "      <td>4.00</td>\n",
       "      <td>29.1250</td>\n",
       "      <td>Q</td>\n",
       "      <td>abs</td>\n",
       "      <td>Up_middle</td>\n",
       "      <td>Large</td>\n",
       "      <td>1</td>\n",
       "      <td>Large</td>\n",
       "      <td>Master</td>\n",
       "    </tr>\n",
       "    <tr>\n",
       "      <th>176</th>\n",
       "      <td>177</td>\n",
       "      <td>0</td>\n",
       "      <td>3</td>\n",
       "      <td>Lefebre, Master. Henry Forbes</td>\n",
       "      <td>male</td>\n",
       "      <td>4.00</td>\n",
       "      <td>25.4667</td>\n",
       "      <td>S</td>\n",
       "      <td>abs</td>\n",
       "      <td>Up_middle</td>\n",
       "      <td>Large</td>\n",
       "      <td>1</td>\n",
       "      <td>Medium</td>\n",
       "      <td>Master</td>\n",
       "    </tr>\n",
       "    <tr>\n",
       "      <th>182</th>\n",
       "      <td>183</td>\n",
       "      <td>0</td>\n",
       "      <td>3</td>\n",
       "      <td>Asplund, Master. Clarence Gustaf Hugo</td>\n",
       "      <td>male</td>\n",
       "      <td>9.00</td>\n",
       "      <td>31.3875</td>\n",
       "      <td>S</td>\n",
       "      <td>abs</td>\n",
       "      <td>High</td>\n",
       "      <td>Large</td>\n",
       "      <td>2</td>\n",
       "      <td>Medium</td>\n",
       "      <td>Master</td>\n",
       "    </tr>\n",
       "    <tr>\n",
       "      <th>183</th>\n",
       "      <td>184</td>\n",
       "      <td>1</td>\n",
       "      <td>2</td>\n",
       "      <td>Becker, Master. Richard F</td>\n",
       "      <td>male</td>\n",
       "      <td>1.00</td>\n",
       "      <td>39.0000</td>\n",
       "      <td>S</td>\n",
       "      <td>F</td>\n",
       "      <td>High</td>\n",
       "      <td>Small</td>\n",
       "      <td>1</td>\n",
       "      <td>Small</td>\n",
       "      <td>Master</td>\n",
       "    </tr>\n",
       "    <tr>\n",
       "      <th>193</th>\n",
       "      <td>194</td>\n",
       "      <td>1</td>\n",
       "      <td>2</td>\n",
       "      <td>Navratil, Master. Michel M</td>\n",
       "      <td>male</td>\n",
       "      <td>3.00</td>\n",
       "      <td>26.0000</td>\n",
       "      <td>S</td>\n",
       "      <td>F</td>\n",
       "      <td>Up_middle</td>\n",
       "      <td>Small</td>\n",
       "      <td>1</td>\n",
       "      <td>Medium</td>\n",
       "      <td>Master</td>\n",
       "    </tr>\n",
       "    <tr>\n",
       "      <th>261</th>\n",
       "      <td>262</td>\n",
       "      <td>1</td>\n",
       "      <td>3</td>\n",
       "      <td>Asplund, Master. Edvin Rojj Felix</td>\n",
       "      <td>male</td>\n",
       "      <td>3.00</td>\n",
       "      <td>31.3875</td>\n",
       "      <td>S</td>\n",
       "      <td>abs</td>\n",
       "      <td>High</td>\n",
       "      <td>Large</td>\n",
       "      <td>1</td>\n",
       "      <td>Medium</td>\n",
       "      <td>Master</td>\n",
       "    </tr>\n",
       "    <tr>\n",
       "      <th>278</th>\n",
       "      <td>279</td>\n",
       "      <td>0</td>\n",
       "      <td>3</td>\n",
       "      <td>Rice, Master. Eric</td>\n",
       "      <td>male</td>\n",
       "      <td>7.00</td>\n",
       "      <td>29.1250</td>\n",
       "      <td>Q</td>\n",
       "      <td>abs</td>\n",
       "      <td>Up_middle</td>\n",
       "      <td>Large</td>\n",
       "      <td>1</td>\n",
       "      <td>Large</td>\n",
       "      <td>Master</td>\n",
       "    </tr>\n",
       "    <tr>\n",
       "      <th>305</th>\n",
       "      <td>306</td>\n",
       "      <td>1</td>\n",
       "      <td>1</td>\n",
       "      <td>Allison, Master. Hudson Trevor</td>\n",
       "      <td>male</td>\n",
       "      <td>0.92</td>\n",
       "      <td>151.5500</td>\n",
       "      <td>S</td>\n",
       "      <td>C</td>\n",
       "      <td>Extra_high</td>\n",
       "      <td>Small</td>\n",
       "      <td>1</td>\n",
       "      <td>Medium</td>\n",
       "      <td>Master</td>\n",
       "    </tr>\n",
       "    <tr>\n",
       "      <th>340</th>\n",
       "      <td>341</td>\n",
       "      <td>1</td>\n",
       "      <td>2</td>\n",
       "      <td>Navratil, Master. Edmond Roger</td>\n",
       "      <td>male</td>\n",
       "      <td>2.00</td>\n",
       "      <td>26.0000</td>\n",
       "      <td>S</td>\n",
       "      <td>F</td>\n",
       "      <td>Up_middle</td>\n",
       "      <td>Small</td>\n",
       "      <td>1</td>\n",
       "      <td>Medium</td>\n",
       "      <td>Master</td>\n",
       "    </tr>\n",
       "    <tr>\n",
       "      <th>348</th>\n",
       "      <td>349</td>\n",
       "      <td>1</td>\n",
       "      <td>3</td>\n",
       "      <td>Coutts, Master. William Loch \"William\"</td>\n",
       "      <td>male</td>\n",
       "      <td>3.00</td>\n",
       "      <td>15.9000</td>\n",
       "      <td>S</td>\n",
       "      <td>abs</td>\n",
       "      <td>Up_middle</td>\n",
       "      <td>Small</td>\n",
       "      <td>1</td>\n",
       "      <td>Small</td>\n",
       "      <td>Master</td>\n",
       "    </tr>\n",
       "    <tr>\n",
       "      <th>386</th>\n",
       "      <td>387</td>\n",
       "      <td>0</td>\n",
       "      <td>3</td>\n",
       "      <td>Goodwin, Master. Sidney Leonard</td>\n",
       "      <td>male</td>\n",
       "      <td>1.00</td>\n",
       "      <td>46.9000</td>\n",
       "      <td>S</td>\n",
       "      <td>abs</td>\n",
       "      <td>High</td>\n",
       "      <td>Large</td>\n",
       "      <td>1</td>\n",
       "      <td>Large</td>\n",
       "      <td>Master</td>\n",
       "    </tr>\n",
       "    <tr>\n",
       "      <th>407</th>\n",
       "      <td>408</td>\n",
       "      <td>1</td>\n",
       "      <td>2</td>\n",
       "      <td>Richards, Master. William Rowe</td>\n",
       "      <td>male</td>\n",
       "      <td>3.00</td>\n",
       "      <td>18.7500</td>\n",
       "      <td>S</td>\n",
       "      <td>abs</td>\n",
       "      <td>Up_middle</td>\n",
       "      <td>Small</td>\n",
       "      <td>1</td>\n",
       "      <td>Medium</td>\n",
       "      <td>Master</td>\n",
       "    </tr>\n",
       "    <tr>\n",
       "      <th>445</th>\n",
       "      <td>446</td>\n",
       "      <td>1</td>\n",
       "      <td>1</td>\n",
       "      <td>Dodge, Master. Washington</td>\n",
       "      <td>male</td>\n",
       "      <td>4.00</td>\n",
       "      <td>81.8583</td>\n",
       "      <td>S</td>\n",
       "      <td>A</td>\n",
       "      <td>High</td>\n",
       "      <td>Small</td>\n",
       "      <td>1</td>\n",
       "      <td>Alone</td>\n",
       "      <td>Master</td>\n",
       "    </tr>\n",
       "    <tr>\n",
       "      <th>480</th>\n",
       "      <td>481</td>\n",
       "      <td>0</td>\n",
       "      <td>3</td>\n",
       "      <td>Goodwin, Master. Harold Victor</td>\n",
       "      <td>male</td>\n",
       "      <td>9.00</td>\n",
       "      <td>46.9000</td>\n",
       "      <td>S</td>\n",
       "      <td>abs</td>\n",
       "      <td>High</td>\n",
       "      <td>Large</td>\n",
       "      <td>2</td>\n",
       "      <td>Large</td>\n",
       "      <td>Master</td>\n",
       "    </tr>\n",
       "    <tr>\n",
       "      <th>489</th>\n",
       "      <td>490</td>\n",
       "      <td>1</td>\n",
       "      <td>3</td>\n",
       "      <td>Coutts, Master. Eden Leslie \"Neville\"</td>\n",
       "      <td>male</td>\n",
       "      <td>9.00</td>\n",
       "      <td>15.9000</td>\n",
       "      <td>S</td>\n",
       "      <td>abs</td>\n",
       "      <td>Up_middle</td>\n",
       "      <td>Small</td>\n",
       "      <td>2</td>\n",
       "      <td>Small</td>\n",
       "      <td>Master</td>\n",
       "    </tr>\n",
       "    <tr>\n",
       "      <th>549</th>\n",
       "      <td>550</td>\n",
       "      <td>1</td>\n",
       "      <td>2</td>\n",
       "      <td>Davies, Master. John Morgan Jr</td>\n",
       "      <td>male</td>\n",
       "      <td>8.00</td>\n",
       "      <td>36.7500</td>\n",
       "      <td>S</td>\n",
       "      <td>abs</td>\n",
       "      <td>High</td>\n",
       "      <td>Small</td>\n",
       "      <td>1</td>\n",
       "      <td>Small</td>\n",
       "      <td>Master</td>\n",
       "    </tr>\n",
       "    <tr>\n",
       "      <th>709</th>\n",
       "      <td>710</td>\n",
       "      <td>1</td>\n",
       "      <td>3</td>\n",
       "      <td>Moubarek, Master. Halim Gonios (\"William George\")</td>\n",
       "      <td>male</td>\n",
       "      <td>25.00</td>\n",
       "      <td>15.2458</td>\n",
       "      <td>C</td>\n",
       "      <td>abs</td>\n",
       "      <td>Up_middle</td>\n",
       "      <td>Small</td>\n",
       "      <td>4</td>\n",
       "      <td>Small</td>\n",
       "      <td>Master</td>\n",
       "    </tr>\n",
       "    <tr>\n",
       "      <th>751</th>\n",
       "      <td>752</td>\n",
       "      <td>1</td>\n",
       "      <td>3</td>\n",
       "      <td>Moor, Master. Meier</td>\n",
       "      <td>male</td>\n",
       "      <td>6.00</td>\n",
       "      <td>12.4750</td>\n",
       "      <td>S</td>\n",
       "      <td>E</td>\n",
       "      <td>Middle</td>\n",
       "      <td>Small</td>\n",
       "      <td>1</td>\n",
       "      <td>Small</td>\n",
       "      <td>Master</td>\n",
       "    </tr>\n",
       "    <tr>\n",
       "      <th>755</th>\n",
       "      <td>756</td>\n",
       "      <td>1</td>\n",
       "      <td>2</td>\n",
       "      <td>Hamalainen, Master. Viljo</td>\n",
       "      <td>male</td>\n",
       "      <td>0.67</td>\n",
       "      <td>14.5000</td>\n",
       "      <td>S</td>\n",
       "      <td>abs</td>\n",
       "      <td>Up_middle</td>\n",
       "      <td>Small</td>\n",
       "      <td>1</td>\n",
       "      <td>Small</td>\n",
       "      <td>Master</td>\n",
       "    </tr>\n",
       "    <tr>\n",
       "      <th>787</th>\n",
       "      <td>788</td>\n",
       "      <td>0</td>\n",
       "      <td>3</td>\n",
       "      <td>Rice, Master. George Hugh</td>\n",
       "      <td>male</td>\n",
       "      <td>8.00</td>\n",
       "      <td>29.1250</td>\n",
       "      <td>Q</td>\n",
       "      <td>abs</td>\n",
       "      <td>Up_middle</td>\n",
       "      <td>Large</td>\n",
       "      <td>1</td>\n",
       "      <td>Large</td>\n",
       "      <td>Master</td>\n",
       "    </tr>\n",
       "    <tr>\n",
       "      <th>788</th>\n",
       "      <td>789</td>\n",
       "      <td>1</td>\n",
       "      <td>3</td>\n",
       "      <td>Dean, Master. Bertram Vere</td>\n",
       "      <td>male</td>\n",
       "      <td>1.00</td>\n",
       "      <td>20.5750</td>\n",
       "      <td>S</td>\n",
       "      <td>abs</td>\n",
       "      <td>Up_middle</td>\n",
       "      <td>Small</td>\n",
       "      <td>1</td>\n",
       "      <td>Small</td>\n",
       "      <td>Master</td>\n",
       "    </tr>\n",
       "    <tr>\n",
       "      <th>802</th>\n",
       "      <td>803</td>\n",
       "      <td>1</td>\n",
       "      <td>1</td>\n",
       "      <td>Carter, Master. William Thornton II</td>\n",
       "      <td>male</td>\n",
       "      <td>11.00</td>\n",
       "      <td>120.0000</td>\n",
       "      <td>S</td>\n",
       "      <td>B</td>\n",
       "      <td>High</td>\n",
       "      <td>Small</td>\n",
       "      <td>2</td>\n",
       "      <td>Medium</td>\n",
       "      <td>Master</td>\n",
       "    </tr>\n",
       "    <tr>\n",
       "      <th>803</th>\n",
       "      <td>804</td>\n",
       "      <td>1</td>\n",
       "      <td>3</td>\n",
       "      <td>Thomas, Master. Assad Alexander</td>\n",
       "      <td>male</td>\n",
       "      <td>0.42</td>\n",
       "      <td>8.5167</td>\n",
       "      <td>C</td>\n",
       "      <td>abs</td>\n",
       "      <td>Middle</td>\n",
       "      <td>Small</td>\n",
       "      <td>1</td>\n",
       "      <td>Alone</td>\n",
       "      <td>Master</td>\n",
       "    </tr>\n",
       "    <tr>\n",
       "      <th>819</th>\n",
       "      <td>820</td>\n",
       "      <td>0</td>\n",
       "      <td>3</td>\n",
       "      <td>Skoog, Master. Karl Thorsten</td>\n",
       "      <td>male</td>\n",
       "      <td>10.00</td>\n",
       "      <td>27.9000</td>\n",
       "      <td>S</td>\n",
       "      <td>abs</td>\n",
       "      <td>Up_middle</td>\n",
       "      <td>Large</td>\n",
       "      <td>2</td>\n",
       "      <td>Large</td>\n",
       "      <td>Master</td>\n",
       "    </tr>\n",
       "    <tr>\n",
       "      <th>824</th>\n",
       "      <td>825</td>\n",
       "      <td>0</td>\n",
       "      <td>3</td>\n",
       "      <td>Panula, Master. Urho Abraham</td>\n",
       "      <td>male</td>\n",
       "      <td>2.00</td>\n",
       "      <td>39.6875</td>\n",
       "      <td>S</td>\n",
       "      <td>abs</td>\n",
       "      <td>High</td>\n",
       "      <td>Large</td>\n",
       "      <td>1</td>\n",
       "      <td>Large</td>\n",
       "      <td>Master</td>\n",
       "    </tr>\n",
       "    <tr>\n",
       "      <th>827</th>\n",
       "      <td>828</td>\n",
       "      <td>1</td>\n",
       "      <td>2</td>\n",
       "      <td>Mallet, Master. Andre</td>\n",
       "      <td>male</td>\n",
       "      <td>1.00</td>\n",
       "      <td>37.0042</td>\n",
       "      <td>C</td>\n",
       "      <td>abs</td>\n",
       "      <td>High</td>\n",
       "      <td>Small</td>\n",
       "      <td>1</td>\n",
       "      <td>Small</td>\n",
       "      <td>Master</td>\n",
       "    </tr>\n",
       "    <tr>\n",
       "      <th>831</th>\n",
       "      <td>832</td>\n",
       "      <td>1</td>\n",
       "      <td>2</td>\n",
       "      <td>Richards, Master. George Sibley</td>\n",
       "      <td>male</td>\n",
       "      <td>0.83</td>\n",
       "      <td>18.7500</td>\n",
       "      <td>S</td>\n",
       "      <td>abs</td>\n",
       "      <td>Up_middle</td>\n",
       "      <td>Small</td>\n",
       "      <td>1</td>\n",
       "      <td>Medium</td>\n",
       "      <td>Master</td>\n",
       "    </tr>\n",
       "    <tr>\n",
       "      <th>850</th>\n",
       "      <td>851</td>\n",
       "      <td>0</td>\n",
       "      <td>3</td>\n",
       "      <td>Andersson, Master. Sigvard Harald Elias</td>\n",
       "      <td>male</td>\n",
       "      <td>4.00</td>\n",
       "      <td>31.2750</td>\n",
       "      <td>S</td>\n",
       "      <td>abs</td>\n",
       "      <td>Up_middle</td>\n",
       "      <td>Large</td>\n",
       "      <td>1</td>\n",
       "      <td>Large</td>\n",
       "      <td>Master</td>\n",
       "    </tr>\n",
       "    <tr>\n",
       "      <th>869</th>\n",
       "      <td>870</td>\n",
       "      <td>1</td>\n",
       "      <td>3</td>\n",
       "      <td>Johnson, Master. Harold Theodor</td>\n",
       "      <td>male</td>\n",
       "      <td>4.00</td>\n",
       "      <td>11.1333</td>\n",
       "      <td>S</td>\n",
       "      <td>abs</td>\n",
       "      <td>Middle</td>\n",
       "      <td>Small</td>\n",
       "      <td>1</td>\n",
       "      <td>Medium</td>\n",
       "      <td>Master</td>\n",
       "    </tr>\n",
       "  </tbody>\n",
       "</table>\n",
       "</div>"
      ],
      "text/plain": [
       "     PassengerId  Survived  Pclass  \\\n",
       "7              8         0       3   \n",
       "16            17         0       3   \n",
       "50            51         0       3   \n",
       "59            60         0       3   \n",
       "63            64         0       3   \n",
       "65            66         1       3   \n",
       "78            79         1       2   \n",
       "125          126         1       3   \n",
       "159          160         0       3   \n",
       "164          165         0       3   \n",
       "165          166         1       3   \n",
       "171          172         0       3   \n",
       "176          177         0       3   \n",
       "182          183         0       3   \n",
       "183          184         1       2   \n",
       "193          194         1       2   \n",
       "261          262         1       3   \n",
       "278          279         0       3   \n",
       "305          306         1       1   \n",
       "340          341         1       2   \n",
       "348          349         1       3   \n",
       "386          387         0       3   \n",
       "407          408         1       2   \n",
       "445          446         1       1   \n",
       "480          481         0       3   \n",
       "489          490         1       3   \n",
       "549          550         1       2   \n",
       "709          710         1       3   \n",
       "751          752         1       3   \n",
       "755          756         1       2   \n",
       "787          788         0       3   \n",
       "788          789         1       3   \n",
       "802          803         1       1   \n",
       "803          804         1       3   \n",
       "819          820         0       3   \n",
       "824          825         0       3   \n",
       "827          828         1       2   \n",
       "831          832         1       2   \n",
       "850          851         0       3   \n",
       "869          870         1       3   \n",
       "\n",
       "                                                  Name   Sex    Age      Fare  \\\n",
       "7                       Palsson, Master. Gosta Leonard  male   2.00   21.0750   \n",
       "16                                Rice, Master. Eugene  male   2.00   29.1250   \n",
       "50                          Panula, Master. Juha Niilo  male   7.00   39.6875   \n",
       "59                  Goodwin, Master. William Frederick  male  11.00   46.9000   \n",
       "63                               Skoog, Master. Harald  male   4.00   27.9000   \n",
       "65                            Moubarek, Master. Gerios  male  25.00   15.2458   \n",
       "78                       Caldwell, Master. Alden Gates  male   0.83   29.0000   \n",
       "125                       Nicola-Yarred, Master. Elias  male  12.00   11.2417   \n",
       "159                         Sage, Master. Thomas Henry  male   5.00   69.5500   \n",
       "164                       Panula, Master. Eino Viljami  male   1.00   39.6875   \n",
       "165    Goldsmith, Master. Frank John William \"Frankie\"  male   9.00   20.5250   \n",
       "171                               Rice, Master. Arthur  male   4.00   29.1250   \n",
       "176                      Lefebre, Master. Henry Forbes  male   4.00   25.4667   \n",
       "182              Asplund, Master. Clarence Gustaf Hugo  male   9.00   31.3875   \n",
       "183                          Becker, Master. Richard F  male   1.00   39.0000   \n",
       "193                         Navratil, Master. Michel M  male   3.00   26.0000   \n",
       "261                  Asplund, Master. Edvin Rojj Felix  male   3.00   31.3875   \n",
       "278                                 Rice, Master. Eric  male   7.00   29.1250   \n",
       "305                     Allison, Master. Hudson Trevor  male   0.92  151.5500   \n",
       "340                     Navratil, Master. Edmond Roger  male   2.00   26.0000   \n",
       "348             Coutts, Master. William Loch \"William\"  male   3.00   15.9000   \n",
       "386                    Goodwin, Master. Sidney Leonard  male   1.00   46.9000   \n",
       "407                     Richards, Master. William Rowe  male   3.00   18.7500   \n",
       "445                          Dodge, Master. Washington  male   4.00   81.8583   \n",
       "480                     Goodwin, Master. Harold Victor  male   9.00   46.9000   \n",
       "489              Coutts, Master. Eden Leslie \"Neville\"  male   9.00   15.9000   \n",
       "549                     Davies, Master. John Morgan Jr  male   8.00   36.7500   \n",
       "709  Moubarek, Master. Halim Gonios (\"William George\")  male  25.00   15.2458   \n",
       "751                                Moor, Master. Meier  male   6.00   12.4750   \n",
       "755                          Hamalainen, Master. Viljo  male   0.67   14.5000   \n",
       "787                          Rice, Master. George Hugh  male   8.00   29.1250   \n",
       "788                         Dean, Master. Bertram Vere  male   1.00   20.5750   \n",
       "802                Carter, Master. William Thornton II  male  11.00  120.0000   \n",
       "803                    Thomas, Master. Assad Alexander  male   0.42    8.5167   \n",
       "819                       Skoog, Master. Karl Thorsten  male  10.00   27.9000   \n",
       "824                       Panula, Master. Urho Abraham  male   2.00   39.6875   \n",
       "827                              Mallet, Master. Andre  male   1.00   37.0042   \n",
       "831                    Richards, Master. George Sibley  male   0.83   18.7500   \n",
       "850            Andersson, Master. Sigvard Harald Elias  male   4.00   31.2750   \n",
       "869                    Johnson, Master. Harold Theodor  male   4.00   11.1333   \n",
       "\n",
       "    Embarked Deck  Fare_range Family_range Age_range Ticket_group   Title  \n",
       "7          S  abs   Up_middle        Large         1       Medium  Master  \n",
       "16         Q  abs   Up_middle        Large         1        Large  Master  \n",
       "50         S  abs        High        Large         1        Large  Master  \n",
       "59         S  abs        High        Large         2        Large  Master  \n",
       "63         S  abs   Up_middle        Large         1        Large  Master  \n",
       "65         C  abs   Up_middle        Small         4        Small  Master  \n",
       "78         S  abs   Up_middle        Small         1        Small  Master  \n",
       "125        C  abs      Middle        Small         2        Small  Master  \n",
       "159        S  abs        High        Large         1        Large  Master  \n",
       "164        S  abs        High        Large         1        Large  Master  \n",
       "165        S  abs   Up_middle        Small         2       Medium  Master  \n",
       "171        Q  abs   Up_middle        Large         1        Large  Master  \n",
       "176        S  abs   Up_middle        Large         1       Medium  Master  \n",
       "182        S  abs        High        Large         2       Medium  Master  \n",
       "183        S    F        High        Small         1        Small  Master  \n",
       "193        S    F   Up_middle        Small         1       Medium  Master  \n",
       "261        S  abs        High        Large         1       Medium  Master  \n",
       "278        Q  abs   Up_middle        Large         1        Large  Master  \n",
       "305        S    C  Extra_high        Small         1       Medium  Master  \n",
       "340        S    F   Up_middle        Small         1       Medium  Master  \n",
       "348        S  abs   Up_middle        Small         1        Small  Master  \n",
       "386        S  abs        High        Large         1        Large  Master  \n",
       "407        S  abs   Up_middle        Small         1       Medium  Master  \n",
       "445        S    A        High        Small         1        Alone  Master  \n",
       "480        S  abs        High        Large         2        Large  Master  \n",
       "489        S  abs   Up_middle        Small         2        Small  Master  \n",
       "549        S  abs        High        Small         1        Small  Master  \n",
       "709        C  abs   Up_middle        Small         4        Small  Master  \n",
       "751        S    E      Middle        Small         1        Small  Master  \n",
       "755        S  abs   Up_middle        Small         1        Small  Master  \n",
       "787        Q  abs   Up_middle        Large         1        Large  Master  \n",
       "788        S  abs   Up_middle        Small         1        Small  Master  \n",
       "802        S    B        High        Small         2       Medium  Master  \n",
       "803        C  abs      Middle        Small         1        Alone  Master  \n",
       "819        S  abs   Up_middle        Large         2        Large  Master  \n",
       "824        S  abs        High        Large         1        Large  Master  \n",
       "827        C  abs        High        Small         1        Small  Master  \n",
       "831        S  abs   Up_middle        Small         1       Medium  Master  \n",
       "850        S  abs   Up_middle        Large         1        Large  Master  \n",
       "869        S  abs      Middle        Small         1       Medium  Master  "
      ]
     },
     "execution_count": 164,
     "metadata": {},
     "output_type": "execute_result"
    }
   ],
   "source": [
    "train_df[train_df.Title =='Master']"
   ]
  },
  {
   "cell_type": "markdown",
   "metadata": {},
   "source": [
    "`Master` - такой префикс относится к мальчикам и юношам.\n",
    "\n",
    "Утотчним еще префикс `Rev`, по остальным пол пассажира понятен. "
   ]
  },
  {
   "cell_type": "code",
   "execution_count": 165,
   "metadata": {},
   "outputs": [
    {
     "data": {
      "text/html": [
       "<div>\n",
       "<style scoped>\n",
       "    .dataframe tbody tr th:only-of-type {\n",
       "        vertical-align: middle;\n",
       "    }\n",
       "\n",
       "    .dataframe tbody tr th {\n",
       "        vertical-align: top;\n",
       "    }\n",
       "\n",
       "    .dataframe thead th {\n",
       "        text-align: right;\n",
       "    }\n",
       "</style>\n",
       "<table border=\"1\" class=\"dataframe\">\n",
       "  <thead>\n",
       "    <tr style=\"text-align: right;\">\n",
       "      <th></th>\n",
       "      <th>PassengerId</th>\n",
       "      <th>Survived</th>\n",
       "      <th>Pclass</th>\n",
       "      <th>Name</th>\n",
       "      <th>Sex</th>\n",
       "      <th>Age</th>\n",
       "      <th>Fare</th>\n",
       "      <th>Embarked</th>\n",
       "      <th>Deck</th>\n",
       "      <th>Fare_range</th>\n",
       "      <th>Family_range</th>\n",
       "      <th>Age_range</th>\n",
       "      <th>Ticket_group</th>\n",
       "      <th>Title</th>\n",
       "    </tr>\n",
       "  </thead>\n",
       "  <tbody>\n",
       "    <tr>\n",
       "      <th>149</th>\n",
       "      <td>150</td>\n",
       "      <td>0</td>\n",
       "      <td>2</td>\n",
       "      <td>Byles, Rev. Thomas Roussel Davids</td>\n",
       "      <td>male</td>\n",
       "      <td>42.0</td>\n",
       "      <td>13.000</td>\n",
       "      <td>S</td>\n",
       "      <td>abs</td>\n",
       "      <td>Middle</td>\n",
       "      <td>Alone</td>\n",
       "      <td>6</td>\n",
       "      <td>Alone</td>\n",
       "      <td>Rev</td>\n",
       "    </tr>\n",
       "    <tr>\n",
       "      <th>150</th>\n",
       "      <td>151</td>\n",
       "      <td>0</td>\n",
       "      <td>2</td>\n",
       "      <td>Bateman, Rev. Robert James</td>\n",
       "      <td>male</td>\n",
       "      <td>51.0</td>\n",
       "      <td>12.525</td>\n",
       "      <td>S</td>\n",
       "      <td>abs</td>\n",
       "      <td>Middle</td>\n",
       "      <td>Alone</td>\n",
       "      <td>7</td>\n",
       "      <td>Alone</td>\n",
       "      <td>Rev</td>\n",
       "    </tr>\n",
       "    <tr>\n",
       "      <th>249</th>\n",
       "      <td>250</td>\n",
       "      <td>0</td>\n",
       "      <td>2</td>\n",
       "      <td>Carter, Rev. Ernest Courtenay</td>\n",
       "      <td>male</td>\n",
       "      <td>54.0</td>\n",
       "      <td>26.000</td>\n",
       "      <td>S</td>\n",
       "      <td>abs</td>\n",
       "      <td>Up_middle</td>\n",
       "      <td>Small</td>\n",
       "      <td>7</td>\n",
       "      <td>Small</td>\n",
       "      <td>Rev</td>\n",
       "    </tr>\n",
       "    <tr>\n",
       "      <th>626</th>\n",
       "      <td>627</td>\n",
       "      <td>0</td>\n",
       "      <td>2</td>\n",
       "      <td>Kirkland, Rev. Charles Leonard</td>\n",
       "      <td>male</td>\n",
       "      <td>57.0</td>\n",
       "      <td>12.350</td>\n",
       "      <td>Q</td>\n",
       "      <td>abs</td>\n",
       "      <td>Middle</td>\n",
       "      <td>Alone</td>\n",
       "      <td>8</td>\n",
       "      <td>Alone</td>\n",
       "      <td>Rev</td>\n",
       "    </tr>\n",
       "    <tr>\n",
       "      <th>848</th>\n",
       "      <td>849</td>\n",
       "      <td>0</td>\n",
       "      <td>2</td>\n",
       "      <td>Harper, Rev. John</td>\n",
       "      <td>male</td>\n",
       "      <td>28.0</td>\n",
       "      <td>33.000</td>\n",
       "      <td>S</td>\n",
       "      <td>abs</td>\n",
       "      <td>High</td>\n",
       "      <td>Small</td>\n",
       "      <td>4</td>\n",
       "      <td>Medium</td>\n",
       "      <td>Rev</td>\n",
       "    </tr>\n",
       "    <tr>\n",
       "      <th>886</th>\n",
       "      <td>887</td>\n",
       "      <td>0</td>\n",
       "      <td>2</td>\n",
       "      <td>Montvila, Rev. Juozas</td>\n",
       "      <td>male</td>\n",
       "      <td>27.0</td>\n",
       "      <td>13.000</td>\n",
       "      <td>S</td>\n",
       "      <td>abs</td>\n",
       "      <td>Middle</td>\n",
       "      <td>Alone</td>\n",
       "      <td>4</td>\n",
       "      <td>Alone</td>\n",
       "      <td>Rev</td>\n",
       "    </tr>\n",
       "  </tbody>\n",
       "</table>\n",
       "</div>"
      ],
      "text/plain": [
       "     PassengerId  Survived  Pclass                               Name   Sex  \\\n",
       "149          150         0       2  Byles, Rev. Thomas Roussel Davids  male   \n",
       "150          151         0       2         Bateman, Rev. Robert James  male   \n",
       "249          250         0       2      Carter, Rev. Ernest Courtenay  male   \n",
       "626          627         0       2     Kirkland, Rev. Charles Leonard  male   \n",
       "848          849         0       2                  Harper, Rev. John  male   \n",
       "886          887         0       2              Montvila, Rev. Juozas  male   \n",
       "\n",
       "      Age    Fare Embarked Deck Fare_range Family_range Age_range  \\\n",
       "149  42.0  13.000        S  abs     Middle        Alone         6   \n",
       "150  51.0  12.525        S  abs     Middle        Alone         7   \n",
       "249  54.0  26.000        S  abs  Up_middle        Small         7   \n",
       "626  57.0  12.350        Q  abs     Middle        Alone         8   \n",
       "848  28.0  33.000        S  abs       High        Small         4   \n",
       "886  27.0  13.000        S  abs     Middle        Alone         4   \n",
       "\n",
       "    Ticket_group Title  \n",
       "149        Alone   Rev  \n",
       "150        Alone   Rev  \n",
       "249        Small   Rev  \n",
       "626        Alone   Rev  \n",
       "848       Medium   Rev  \n",
       "886        Alone   Rev  "
      ]
     },
     "execution_count": 165,
     "metadata": {},
     "output_type": "execute_result"
    }
   ],
   "source": [
    "train_df[train_df.Title =='Rev']"
   ]
  },
  {
   "cell_type": "markdown",
   "metadata": {},
   "source": [
    "Объединяем префиксы, относящиеся к женскому полу - `Lady` (выживших больше, чем погибших). Из префиксов для мужского пола выделяем группу `Master` (выживших больше, чем погибших), остальные префиксы для мужского пола объединяем - `Mr` (выживших меньше, чем погибших). "
   ]
  },
  {
   "cell_type": "code",
   "execution_count": 166,
   "metadata": {},
   "outputs": [],
   "source": [
    "train_df['Title'] = train_df['Title'].replace(['Miss', 'Mrs', 'Mlle', \n",
    "                                               'Lady', 'Ms', 'the Countess',\n",
    "                                               'Mme', 'Dona'],\n",
    "                                              'Lady')\n",
    "train_df['Title'] = train_df['Title'].replace(['Dr', 'Rev', 'Col', \n",
    "                                               'Major', 'Don', \n",
    "                                               'Jonkheer', 'Capt', 'Sir'], \n",
    "                                              'Mr')"
   ]
  },
  {
   "cell_type": "code",
   "execution_count": 167,
   "metadata": {},
   "outputs": [
    {
     "data": {
      "text/plain": [
       "Mr        538\n",
       "Lady      313\n",
       "Master     40\n",
       "Name: Title, dtype: int64"
      ]
     },
     "execution_count": 167,
     "metadata": {},
     "output_type": "execute_result"
    }
   ],
   "source": [
    "train_df['Title'].value_counts()"
   ]
  },
  {
   "cell_type": "code",
   "execution_count": 168,
   "metadata": {},
   "outputs": [],
   "source": [
    "test_df['Title'] = test_df['Title'].replace(['Miss', 'Mrs', 'Mlle', \n",
    "                                               'Lady', 'Ms', 'the Countess',\n",
    "                                               'Mme', 'Dona'],\n",
    "                                              'Lady')\n",
    "test_df['Title'] = test_df['Title'].replace(['Dr', 'Rev', 'Col', \n",
    "                                               'Major', 'Don', \n",
    "                                               'Jonkheer', 'Capt', 'Sir'], \n",
    "                                              'Mr')"
   ]
  },
  {
   "cell_type": "code",
   "execution_count": 169,
   "metadata": {},
   "outputs": [
    {
     "data": {
      "text/plain": [
       "Mr        245\n",
       "Lady      152\n",
       "Master     21\n",
       "Name: Title, dtype: int64"
      ]
     },
     "execution_count": 169,
     "metadata": {},
     "output_type": "execute_result"
    }
   ],
   "source": [
    "test_df['Title'].value_counts()"
   ]
  },
  {
   "cell_type": "code",
   "execution_count": 170,
   "metadata": {},
   "outputs": [],
   "source": [
    "train_df.drop('Name', axis=1, inplace=True) \n",
    "test_df.drop('Name', axis=1, inplace=True)"
   ]
  },
  {
   "cell_type": "code",
   "execution_count": 171,
   "metadata": {},
   "outputs": [
    {
     "data": {
      "image/png": "[encoded data removed]",
      "text/plain": [
       "<Figure size 432x432 with 1 Axes>"
      ]
     },
     "metadata": {},
     "output_type": "display_data"
    }
   ],
   "source": [
    "fig, ax = plt.subplots(figsize=(6, 6))\n",
    "sns.countplot(x = \"Title\", hue = \"Survived\", data = train_df)\n",
    "ax.set_xlabel('Title', fontdict={'fontsize':13})\n",
    "plt.grid();"
   ]
  },
  {
   "cell_type": "code",
   "execution_count": 172,
   "metadata": {},
   "outputs": [
    {
     "data": {
      "text/plain": [
       "0"
      ]
     },
     "execution_count": 172,
     "metadata": {},
     "output_type": "execute_result"
    },
    {
     "data": {
      "text/plain": [
       "0"
      ]
     },
     "execution_count": 172,
     "metadata": {},
     "output_type": "execute_result"
    }
   ],
   "source": [
    "train_df.isnull().sum().sum()\n",
    "test_df.isnull().sum().sum()"
   ]
  },
  {
   "cell_type": "markdown",
   "metadata": {},
   "source": [
    "**Числовые переменные**"
   ]
  },
  {
   "cell_type": "code",
   "execution_count": 173,
   "metadata": {},
   "outputs": [
    {
     "name": "stderr",
     "output_type": "stream",
     "text": [
      "c:\\Users\\biaspaltsau_aa\\Anaconda3\\lib\\site-packages\\seaborn\\distributions.py:2619: FutureWarning: `distplot` is a deprecated function and will be removed in a future version. Please adapt your code to use either `displot` (a figure-level function with similar flexibility) or `histplot` (an axes-level function for histograms).\n",
      "  warnings.warn(msg, FutureWarning)\n"
     ]
    },
    {
     "data": {
      "image/png": "[encoded data removed]",
      "text/plain": [
       "<Figure size 432x288 with 1 Axes>"
      ]
     },
     "metadata": {},
     "output_type": "display_data"
    }
   ],
   "source": [
    "sns.distplot(train_df['Age'], fit=norm);"
   ]
  },
  {
   "cell_type": "code",
   "execution_count": 174,
   "metadata": {},
   "outputs": [],
   "source": [
    "tr_age_norm = pd.DataFrame(train_df['Age'])\n",
    "transform_feature = QuantileTransformer(output_distribution='normal',\n",
    "                                        n_quantiles=418, random_state=0)\n",
    "\n",
    "tr_age_norm['Age_scaled'] = transform_feature.fit_transform(tr_age_norm[['Age']])"
   ]
  },
  {
   "cell_type": "code",
   "execution_count": 175,
   "metadata": {},
   "outputs": [
    {
     "name": "stderr",
     "output_type": "stream",
     "text": [
      "c:\\Users\\biaspaltsau_aa\\Anaconda3\\lib\\site-packages\\seaborn\\distributions.py:2619: FutureWarning: `distplot` is a deprecated function and will be removed in a future version. Please adapt your code to use either `displot` (a figure-level function with similar flexibility) or `histplot` (an axes-level function for histograms).\n",
      "  warnings.warn(msg, FutureWarning)\n"
     ]
    },
    {
     "data": {
      "image/png": "[encoded data removed]",
      "text/plain": [
       "<Figure size 432x288 with 1 Axes>"
      ]
     },
     "metadata": {},
     "output_type": "display_data"
    }
   ],
   "source": [
    "sns.distplot(tr_age_norm['Age_scaled'], fit=norm);"
   ]
  },
  {
   "cell_type": "code",
   "execution_count": 176,
   "metadata": {},
   "outputs": [
    {
     "name": "stderr",
     "output_type": "stream",
     "text": [
      "c:\\Users\\biaspaltsau_aa\\Anaconda3\\lib\\site-packages\\seaborn\\distributions.py:2619: FutureWarning: `distplot` is a deprecated function and will be removed in a future version. Please adapt your code to use either `displot` (a figure-level function with similar flexibility) or `histplot` (an axes-level function for histograms).\n",
      "  warnings.warn(msg, FutureWarning)\n"
     ]
    },
    {
     "data": {
      "image/png": "[encoded data removed]",
      "text/plain": [
       "<Figure size 432x288 with 1 Axes>"
      ]
     },
     "metadata": {},
     "output_type": "display_data"
    }
   ],
   "source": [
    "sns.distplot(train_df['Fare'], fit=norm);"
   ]
  },
  {
   "cell_type": "code",
   "execution_count": 177,
   "metadata": {},
   "outputs": [],
   "source": [
    "tr_fare_norm = pd.DataFrame(train_df['Fare'])\n",
    "\n",
    "tr_fare_norm['Fare_scaled'] = transform_feature.fit_transform(tr_fare_norm[['Fare']])"
   ]
  },
  {
   "cell_type": "code",
   "execution_count": 178,
   "metadata": {},
   "outputs": [
    {
     "name": "stderr",
     "output_type": "stream",
     "text": [
      "c:\\Users\\biaspaltsau_aa\\Anaconda3\\lib\\site-packages\\seaborn\\distributions.py:2619: FutureWarning: `distplot` is a deprecated function and will be removed in a future version. Please adapt your code to use either `displot` (a figure-level function with similar flexibility) or `histplot` (an axes-level function for histograms).\n",
      "  warnings.warn(msg, FutureWarning)\n"
     ]
    },
    {
     "data": {
      "image/png": "[encoded data removed]",
      "text/plain": [
       "<Figure size 432x288 with 1 Axes>"
      ]
     },
     "metadata": {},
     "output_type": "display_data"
    }
   ],
   "source": [
    "sns.distplot(tr_fare_norm['Fare_scaled'], fit=norm);"
   ]
  },
  {
   "cell_type": "markdown",
   "metadata": {},
   "source": [
    "Масштабирование переменных `Age` и `Fare` не помогло привести распределение к нормальному, в случае `Fare` это понятно и визуально. Пробовался также `RobustScaler`, результат был примерно тот же."
   ]
  },
  {
   "cell_type": "code",
   "execution_count": 179,
   "metadata": {},
   "outputs": [],
   "source": [
    "train_df['Age_scaled'] = transform_feature.fit_transform(train_df[['Age']])\n",
    "test_df['Age_scaled'] = transform_feature.transform(test_df[['Age']])\n",
    "\n",
    "train_df['Fare_scaled'] = transform_feature.fit_transform(train_df[['Fare']])\n",
    "test_df['Fare_scaled'] = transform_feature.transform(test_df[['Fare']])"
   ]
  },
  {
   "cell_type": "code",
   "execution_count": 180,
   "metadata": {},
   "outputs": [],
   "source": [
    "train_df_num = pd.concat((train_df['Age_scaled'], \n",
    "                          train_df['Fare_scaled']), axis=1)\n",
    "test_df_num = pd.concat((test_df['Age_scaled'], \n",
    "                          test_df['Fare_scaled']), axis=1)"
   ]
  },
  {
   "cell_type": "code",
   "execution_count": 181,
   "metadata": {},
   "outputs": [],
   "source": [
    "train_df.drop(['Age', 'Fare'], axis=1, inplace=True) \n",
    "test_df.drop(['Age', 'Fare'], axis=1, inplace=True) "
   ]
  },
  {
   "cell_type": "code",
   "execution_count": 182,
   "metadata": {},
   "outputs": [
    {
     "data": {
      "text/html": [
       "<div>\n",
       "<style scoped>\n",
       "    .dataframe tbody tr th:only-of-type {\n",
       "        vertical-align: middle;\n",
       "    }\n",
       "\n",
       "    .dataframe tbody tr th {\n",
       "        vertical-align: top;\n",
       "    }\n",
       "\n",
       "    .dataframe thead th {\n",
       "        text-align: right;\n",
       "    }\n",
       "</style>\n",
       "<table border=\"1\" class=\"dataframe\">\n",
       "  <thead>\n",
       "    <tr style=\"text-align: right;\">\n",
       "      <th></th>\n",
       "      <th>PassengerId</th>\n",
       "      <th>Survived</th>\n",
       "      <th>Pclass</th>\n",
       "      <th>Sex</th>\n",
       "      <th>Embarked</th>\n",
       "      <th>Deck</th>\n",
       "      <th>Fare_range</th>\n",
       "      <th>Family_range</th>\n",
       "      <th>Age_range</th>\n",
       "      <th>Ticket_group</th>\n",
       "      <th>Title</th>\n",
       "      <th>Age_scaled</th>\n",
       "      <th>Fare_scaled</th>\n",
       "    </tr>\n",
       "  </thead>\n",
       "  <tbody>\n",
       "    <tr>\n",
       "      <th>0</th>\n",
       "      <td>1</td>\n",
       "      <td>0</td>\n",
       "      <td>3</td>\n",
       "      <td>male</td>\n",
       "      <td>S</td>\n",
       "      <td>abs</td>\n",
       "      <td>Low</td>\n",
       "      <td>Small</td>\n",
       "      <td>3</td>\n",
       "      <td>Alone</td>\n",
       "      <td>Mr</td>\n",
       "      <td>-0.606226</td>\n",
       "      <td>-1.371357</td>\n",
       "    </tr>\n",
       "    <tr>\n",
       "      <th>1</th>\n",
       "      <td>2</td>\n",
       "      <td>1</td>\n",
       "      <td>1</td>\n",
       "      <td>female</td>\n",
       "      <td>C</td>\n",
       "      <td>C</td>\n",
       "      <td>High</td>\n",
       "      <td>Small</td>\n",
       "      <td>5</td>\n",
       "      <td>Alone</td>\n",
       "      <td>Lady</td>\n",
       "      <td>0.746053</td>\n",
       "      <td>1.200469</td>\n",
       "    </tr>\n",
       "    <tr>\n",
       "      <th>2</th>\n",
       "      <td>3</td>\n",
       "      <td>1</td>\n",
       "      <td>3</td>\n",
       "      <td>female</td>\n",
       "      <td>S</td>\n",
       "      <td>abs</td>\n",
       "      <td>Middle</td>\n",
       "      <td>Alone</td>\n",
       "      <td>4</td>\n",
       "      <td>Alone</td>\n",
       "      <td>Lady</td>\n",
       "      <td>-0.249004</td>\n",
       "      <td>-0.642754</td>\n",
       "    </tr>\n",
       "    <tr>\n",
       "      <th>3</th>\n",
       "      <td>4</td>\n",
       "      <td>1</td>\n",
       "      <td>1</td>\n",
       "      <td>female</td>\n",
       "      <td>S</td>\n",
       "      <td>C</td>\n",
       "      <td>High</td>\n",
       "      <td>Small</td>\n",
       "      <td>5</td>\n",
       "      <td>Small</td>\n",
       "      <td>Lady</td>\n",
       "      <td>0.570490</td>\n",
       "      <td>0.991702</td>\n",
       "    </tr>\n",
       "    <tr>\n",
       "      <th>4</th>\n",
       "      <td>5</td>\n",
       "      <td>0</td>\n",
       "      <td>3</td>\n",
       "      <td>male</td>\n",
       "      <td>S</td>\n",
       "      <td>abs</td>\n",
       "      <td>Middle</td>\n",
       "      <td>Alone</td>\n",
       "      <td>5</td>\n",
       "      <td>Alone</td>\n",
       "      <td>Mr</td>\n",
       "      <td>0.570490</td>\n",
       "      <td>-0.535468</td>\n",
       "    </tr>\n",
       "  </tbody>\n",
       "</table>\n",
       "</div>"
      ],
      "text/plain": [
       "   PassengerId  Survived  Pclass     Sex Embarked Deck Fare_range  \\\n",
       "0            1         0       3    male        S  abs        Low   \n",
       "1            2         1       1  female        C    C       High   \n",
       "2            3         1       3  female        S  abs     Middle   \n",
       "3            4         1       1  female        S    C       High   \n",
       "4            5         0       3    male        S  abs     Middle   \n",
       "\n",
       "  Family_range Age_range Ticket_group Title  Age_scaled  Fare_scaled  \n",
       "0        Small         3        Alone    Mr   -0.606226    -1.371357  \n",
       "1        Small         5        Alone  Lady    0.746053     1.200469  \n",
       "2        Alone         4        Alone  Lady   -0.249004    -0.642754  \n",
       "3        Small         5        Small  Lady    0.570490     0.991702  \n",
       "4        Alone         5        Alone    Mr    0.570490    -0.535468  "
      ]
     },
     "execution_count": 182,
     "metadata": {},
     "output_type": "execute_result"
    }
   ],
   "source": [
    "train_df.head()"
   ]
  },
  {
   "cell_type": "code",
   "execution_count": 183,
   "metadata": {},
   "outputs": [
    {
     "name": "stdout",
     "output_type": "stream",
     "text": [
      "<class 'pandas.core.frame.DataFrame'>\n",
      "RangeIndex: 891 entries, 0 to 890\n",
      "Data columns (total 13 columns):\n",
      " #   Column        Non-Null Count  Dtype   \n",
      "---  ------        --------------  -----   \n",
      " 0   PassengerId   891 non-null    int64   \n",
      " 1   Survived      891 non-null    int64   \n",
      " 2   Pclass        891 non-null    int64   \n",
      " 3   Sex           891 non-null    object  \n",
      " 4   Embarked      891 non-null    object  \n",
      " 5   Deck          891 non-null    object  \n",
      " 6   Fare_range    891 non-null    category\n",
      " 7   Family_range  891 non-null    category\n",
      " 8   Age_range     891 non-null    category\n",
      " 9   Ticket_group  891 non-null    category\n",
      " 10  Title         891 non-null    object  \n",
      " 11  Age_scaled    891 non-null    float64 \n",
      " 12  Fare_scaled   891 non-null    float64 \n",
      "dtypes: category(4), float64(2), int64(3), object(4)\n",
      "memory usage: 67.2+ KB\n"
     ]
    }
   ],
   "source": [
    "train_df.info()"
   ]
  },
  {
   "cell_type": "code",
   "execution_count": 184,
   "metadata": {},
   "outputs": [],
   "source": [
    "train_df.Pclass = train_df.Pclass.astype(\"category\")\n",
    "test_df.Pclass = test_df.Pclass.astype(\"category\")"
   ]
  },
  {
   "cell_type": "code",
   "execution_count": 185,
   "metadata": {},
   "outputs": [],
   "source": [
    "cat_columns = [i for i in train_df.columns if \n",
    "               train_df[i].dtype.name=='category' or \n",
    "               train_df[i].dtype.name=='object']"
   ]
  },
  {
   "cell_type": "code",
   "execution_count": 186,
   "metadata": {},
   "outputs": [
    {
     "data": {
      "text/plain": [
       "['Pclass',\n",
       " 'Sex',\n",
       " 'Embarked',\n",
       " 'Deck',\n",
       " 'Fare_range',\n",
       " 'Family_range',\n",
       " 'Age_range',\n",
       " 'Ticket_group',\n",
       " 'Title']"
      ]
     },
     "execution_count": 186,
     "metadata": {},
     "output_type": "execute_result"
    }
   ],
   "source": [
    "cat_columns"
   ]
  },
  {
   "cell_type": "code",
   "execution_count": 187,
   "metadata": {},
   "outputs": [],
   "source": [
    "train_df_catdummy = pd.get_dummies(train_df[cat_columns])\n",
    "test_df_catdummy = pd.get_dummies(test_df[cat_columns])"
   ]
  },
  {
   "cell_type": "code",
   "execution_count": 188,
   "metadata": {},
   "outputs": [],
   "source": [
    "train_df_all = pd.concat((train_df_num, train_df_catdummy), axis=1)\n",
    "test_df_all = pd.concat((test_df_num, test_df_catdummy), axis=1)"
   ]
  },
  {
   "cell_type": "code",
   "execution_count": 189,
   "metadata": {},
   "outputs": [
    {
     "data": {
      "text/html": [
       "<div>\n",
       "<style scoped>\n",
       "    .dataframe tbody tr th:only-of-type {\n",
       "        vertical-align: middle;\n",
       "    }\n",
       "\n",
       "    .dataframe tbody tr th {\n",
       "        vertical-align: top;\n",
       "    }\n",
       "\n",
       "    .dataframe thead th {\n",
       "        text-align: right;\n",
       "    }\n",
       "</style>\n",
       "<table border=\"1\" class=\"dataframe\">\n",
       "  <thead>\n",
       "    <tr style=\"text-align: right;\">\n",
       "      <th></th>\n",
       "      <th>Age_scaled</th>\n",
       "      <th>Fare_scaled</th>\n",
       "      <th>Pclass_1</th>\n",
       "      <th>Pclass_2</th>\n",
       "      <th>Pclass_3</th>\n",
       "      <th>Sex_female</th>\n",
       "      <th>Sex_male</th>\n",
       "      <th>Embarked_C</th>\n",
       "      <th>Embarked_Q</th>\n",
       "      <th>Embarked_S</th>\n",
       "      <th>Deck_A</th>\n",
       "      <th>Deck_B</th>\n",
       "      <th>Deck_C</th>\n",
       "      <th>Deck_D</th>\n",
       "      <th>Deck_E</th>\n",
       "      <th>Deck_F</th>\n",
       "      <th>Deck_G</th>\n",
       "      <th>Deck_abs</th>\n",
       "      <th>Fare_range_Low</th>\n",
       "      <th>Fare_range_Middle</th>\n",
       "      <th>Fare_range_Up_middle</th>\n",
       "      <th>Fare_range_High</th>\n",
       "      <th>Fare_range_Extra_high</th>\n",
       "      <th>Family_range_Alone</th>\n",
       "      <th>Family_range_Small</th>\n",
       "      <th>Family_range_Large</th>\n",
       "      <th>Age_range_1</th>\n",
       "      <th>Age_range_2</th>\n",
       "      <th>Age_range_3</th>\n",
       "      <th>Age_range_4</th>\n",
       "      <th>Age_range_5</th>\n",
       "      <th>Age_range_6</th>\n",
       "      <th>Age_range_7</th>\n",
       "      <th>Age_range_8</th>\n",
       "      <th>Age_range_9</th>\n",
       "      <th>Age_range_10</th>\n",
       "      <th>Ticket_group_Alone</th>\n",
       "      <th>Ticket_group_Small</th>\n",
       "      <th>Ticket_group_Medium</th>\n",
       "      <th>Ticket_group_Large</th>\n",
       "      <th>Title_Lady</th>\n",
       "      <th>Title_Master</th>\n",
       "      <th>Title_Mr</th>\n",
       "    </tr>\n",
       "  </thead>\n",
       "  <tbody>\n",
       "    <tr>\n",
       "      <th>0</th>\n",
       "      <td>-0.606226</td>\n",
       "      <td>-1.371357</td>\n",
       "      <td>0</td>\n",
       "      <td>0</td>\n",
       "      <td>1</td>\n",
       "      <td>0</td>\n",
       "      <td>1</td>\n",
       "      <td>0</td>\n",
       "      <td>0</td>\n",
       "      <td>1</td>\n",
       "      <td>0</td>\n",
       "      <td>0</td>\n",
       "      <td>0</td>\n",
       "      <td>0</td>\n",
       "      <td>0</td>\n",
       "      <td>0</td>\n",
       "      <td>0</td>\n",
       "      <td>1</td>\n",
       "      <td>1</td>\n",
       "      <td>0</td>\n",
       "      <td>0</td>\n",
       "      <td>0</td>\n",
       "      <td>0</td>\n",
       "      <td>0</td>\n",
       "      <td>1</td>\n",
       "      <td>0</td>\n",
       "      <td>0</td>\n",
       "      <td>0</td>\n",
       "      <td>1</td>\n",
       "      <td>0</td>\n",
       "      <td>0</td>\n",
       "      <td>0</td>\n",
       "      <td>0</td>\n",
       "      <td>0</td>\n",
       "      <td>0</td>\n",
       "      <td>0</td>\n",
       "      <td>1</td>\n",
       "      <td>0</td>\n",
       "      <td>0</td>\n",
       "      <td>0</td>\n",
       "      <td>0</td>\n",
       "      <td>0</td>\n",
       "      <td>1</td>\n",
       "    </tr>\n",
       "    <tr>\n",
       "      <th>1</th>\n",
       "      <td>0.746053</td>\n",
       "      <td>1.200469</td>\n",
       "      <td>1</td>\n",
       "      <td>0</td>\n",
       "      <td>0</td>\n",
       "      <td>1</td>\n",
       "      <td>0</td>\n",
       "      <td>1</td>\n",
       "      <td>0</td>\n",
       "      <td>0</td>\n",
       "      <td>0</td>\n",
       "      <td>0</td>\n",
       "      <td>1</td>\n",
       "      <td>0</td>\n",
       "      <td>0</td>\n",
       "      <td>0</td>\n",
       "      <td>0</td>\n",
       "      <td>0</td>\n",
       "      <td>0</td>\n",
       "      <td>0</td>\n",
       "      <td>0</td>\n",
       "      <td>1</td>\n",
       "      <td>0</td>\n",
       "      <td>0</td>\n",
       "      <td>1</td>\n",
       "      <td>0</td>\n",
       "      <td>0</td>\n",
       "      <td>0</td>\n",
       "      <td>0</td>\n",
       "      <td>0</td>\n",
       "      <td>1</td>\n",
       "      <td>0</td>\n",
       "      <td>0</td>\n",
       "      <td>0</td>\n",
       "      <td>0</td>\n",
       "      <td>0</td>\n",
       "      <td>1</td>\n",
       "      <td>0</td>\n",
       "      <td>0</td>\n",
       "      <td>0</td>\n",
       "      <td>1</td>\n",
       "      <td>0</td>\n",
       "      <td>0</td>\n",
       "    </tr>\n",
       "    <tr>\n",
       "      <th>2</th>\n",
       "      <td>-0.249004</td>\n",
       "      <td>-0.642754</td>\n",
       "      <td>0</td>\n",
       "      <td>0</td>\n",
       "      <td>1</td>\n",
       "      <td>1</td>\n",
       "      <td>0</td>\n",
       "      <td>0</td>\n",
       "      <td>0</td>\n",
       "      <td>1</td>\n",
       "      <td>0</td>\n",
       "      <td>0</td>\n",
       "      <td>0</td>\n",
       "      <td>0</td>\n",
       "      <td>0</td>\n",
       "      <td>0</td>\n",
       "      <td>0</td>\n",
       "      <td>1</td>\n",
       "      <td>0</td>\n",
       "      <td>1</td>\n",
       "      <td>0</td>\n",
       "      <td>0</td>\n",
       "      <td>0</td>\n",
       "      <td>1</td>\n",
       "      <td>0</td>\n",
       "      <td>0</td>\n",
       "      <td>0</td>\n",
       "      <td>0</td>\n",
       "      <td>0</td>\n",
       "      <td>1</td>\n",
       "      <td>0</td>\n",
       "      <td>0</td>\n",
       "      <td>0</td>\n",
       "      <td>0</td>\n",
       "      <td>0</td>\n",
       "      <td>0</td>\n",
       "      <td>1</td>\n",
       "      <td>0</td>\n",
       "      <td>0</td>\n",
       "      <td>0</td>\n",
       "      <td>1</td>\n",
       "      <td>0</td>\n",
       "      <td>0</td>\n",
       "    </tr>\n",
       "    <tr>\n",
       "      <th>3</th>\n",
       "      <td>0.570490</td>\n",
       "      <td>0.991702</td>\n",
       "      <td>1</td>\n",
       "      <td>0</td>\n",
       "      <td>0</td>\n",
       "      <td>1</td>\n",
       "      <td>0</td>\n",
       "      <td>0</td>\n",
       "      <td>0</td>\n",
       "      <td>1</td>\n",
       "      <td>0</td>\n",
       "      <td>0</td>\n",
       "      <td>1</td>\n",
       "      <td>0</td>\n",
       "      <td>0</td>\n",
       "      <td>0</td>\n",
       "      <td>0</td>\n",
       "      <td>0</td>\n",
       "      <td>0</td>\n",
       "      <td>0</td>\n",
       "      <td>0</td>\n",
       "      <td>1</td>\n",
       "      <td>0</td>\n",
       "      <td>0</td>\n",
       "      <td>1</td>\n",
       "      <td>0</td>\n",
       "      <td>0</td>\n",
       "      <td>0</td>\n",
       "      <td>0</td>\n",
       "      <td>0</td>\n",
       "      <td>1</td>\n",
       "      <td>0</td>\n",
       "      <td>0</td>\n",
       "      <td>0</td>\n",
       "      <td>0</td>\n",
       "      <td>0</td>\n",
       "      <td>0</td>\n",
       "      <td>1</td>\n",
       "      <td>0</td>\n",
       "      <td>0</td>\n",
       "      <td>1</td>\n",
       "      <td>0</td>\n",
       "      <td>0</td>\n",
       "    </tr>\n",
       "    <tr>\n",
       "      <th>4</th>\n",
       "      <td>0.570490</td>\n",
       "      <td>-0.535468</td>\n",
       "      <td>0</td>\n",
       "      <td>0</td>\n",
       "      <td>1</td>\n",
       "      <td>0</td>\n",
       "      <td>1</td>\n",
       "      <td>0</td>\n",
       "      <td>0</td>\n",
       "      <td>1</td>\n",
       "      <td>0</td>\n",
       "      <td>0</td>\n",
       "      <td>0</td>\n",
       "      <td>0</td>\n",
       "      <td>0</td>\n",
       "      <td>0</td>\n",
       "      <td>0</td>\n",
       "      <td>1</td>\n",
       "      <td>0</td>\n",
       "      <td>1</td>\n",
       "      <td>0</td>\n",
       "      <td>0</td>\n",
       "      <td>0</td>\n",
       "      <td>1</td>\n",
       "      <td>0</td>\n",
       "      <td>0</td>\n",
       "      <td>0</td>\n",
       "      <td>0</td>\n",
       "      <td>0</td>\n",
       "      <td>0</td>\n",
       "      <td>1</td>\n",
       "      <td>0</td>\n",
       "      <td>0</td>\n",
       "      <td>0</td>\n",
       "      <td>0</td>\n",
       "      <td>0</td>\n",
       "      <td>1</td>\n",
       "      <td>0</td>\n",
       "      <td>0</td>\n",
       "      <td>0</td>\n",
       "      <td>0</td>\n",
       "      <td>0</td>\n",
       "      <td>1</td>\n",
       "    </tr>\n",
       "  </tbody>\n",
       "</table>\n",
       "</div>"
      ],
      "text/plain": [
       "   Age_scaled  Fare_scaled  Pclass_1  Pclass_2  Pclass_3  Sex_female  \\\n",
       "0   -0.606226    -1.371357         0         0         1           0   \n",
       "1    0.746053     1.200469         1         0         0           1   \n",
       "2   -0.249004    -0.642754         0         0         1           1   \n",
       "3    0.570490     0.991702         1         0         0           1   \n",
       "4    0.570490    -0.535468         0         0         1           0   \n",
       "\n",
       "   Sex_male  Embarked_C  Embarked_Q  Embarked_S  Deck_A  Deck_B  Deck_C  \\\n",
       "0         1           0           0           1       0       0       0   \n",
       "1         0           1           0           0       0       0       1   \n",
       "2         0           0           0           1       0       0       0   \n",
       "3         0           0           0           1       0       0       1   \n",
       "4         1           0           0           1       0       0       0   \n",
       "\n",
       "   Deck_D  Deck_E  Deck_F  Deck_G  Deck_abs  Fare_range_Low  \\\n",
       "0       0       0       0       0         1               1   \n",
       "1       0       0       0       0         0               0   \n",
       "2       0       0       0       0         1               0   \n",
       "3       0       0       0       0         0               0   \n",
       "4       0       0       0       0         1               0   \n",
       "\n",
       "   Fare_range_Middle  Fare_range_Up_middle  Fare_range_High  \\\n",
       "0                  0                     0                0   \n",
       "1                  0                     0                1   \n",
       "2                  1                     0                0   \n",
       "3                  0                     0                1   \n",
       "4                  1                     0                0   \n",
       "\n",
       "   Fare_range_Extra_high  Family_range_Alone  Family_range_Small  \\\n",
       "0                      0                   0                   1   \n",
       "1                      0                   0                   1   \n",
       "2                      0                   1                   0   \n",
       "3                      0                   0                   1   \n",
       "4                      0                   1                   0   \n",
       "\n",
       "   Family_range_Large  Age_range_1  Age_range_2  Age_range_3  Age_range_4  \\\n",
       "0                   0            0            0            1            0   \n",
       "1                   0            0            0            0            0   \n",
       "2                   0            0            0            0            1   \n",
       "3                   0            0            0            0            0   \n",
       "4                   0            0            0            0            0   \n",
       "\n",
       "   Age_range_5  Age_range_6  Age_range_7  Age_range_8  Age_range_9  \\\n",
       "0            0            0            0            0            0   \n",
       "1            1            0            0            0            0   \n",
       "2            0            0            0            0            0   \n",
       "3            1            0            0            0            0   \n",
       "4            1            0            0            0            0   \n",
       "\n",
       "   Age_range_10  Ticket_group_Alone  Ticket_group_Small  Ticket_group_Medium  \\\n",
       "0             0                   1                   0                    0   \n",
       "1             0                   1                   0                    0   \n",
       "2             0                   1                   0                    0   \n",
       "3             0                   0                   1                    0   \n",
       "4             0                   1                   0                    0   \n",
       "\n",
       "   Ticket_group_Large  Title_Lady  Title_Master  Title_Mr  \n",
       "0                   0           0             0         1  \n",
       "1                   0           1             0         0  \n",
       "2                   0           1             0         0  \n",
       "3                   0           1             0         0  \n",
       "4                   0           0             0         1  "
      ]
     },
     "execution_count": 189,
     "metadata": {},
     "output_type": "execute_result"
    },
    {
     "data": {
      "text/plain": [
       "(891, 43)"
      ]
     },
     "execution_count": 189,
     "metadata": {},
     "output_type": "execute_result"
    }
   ],
   "source": [
    "train_df_all.head()\n",
    "train_df_all.shape"
   ]
  },
  {
   "cell_type": "code",
   "execution_count": 190,
   "metadata": {},
   "outputs": [
    {
     "data": {
      "text/html": [
       "<div>\n",
       "<style scoped>\n",
       "    .dataframe tbody tr th:only-of-type {\n",
       "        vertical-align: middle;\n",
       "    }\n",
       "\n",
       "    .dataframe tbody tr th {\n",
       "        vertical-align: top;\n",
       "    }\n",
       "\n",
       "    .dataframe thead th {\n",
       "        text-align: right;\n",
       "    }\n",
       "</style>\n",
       "<table border=\"1\" class=\"dataframe\">\n",
       "  <thead>\n",
       "    <tr style=\"text-align: right;\">\n",
       "      <th></th>\n",
       "      <th>Age_scaled</th>\n",
       "      <th>Fare_scaled</th>\n",
       "      <th>Pclass_1</th>\n",
       "      <th>Pclass_2</th>\n",
       "      <th>Pclass_3</th>\n",
       "      <th>Sex_female</th>\n",
       "      <th>Sex_male</th>\n",
       "      <th>Embarked_C</th>\n",
       "      <th>Embarked_Q</th>\n",
       "      <th>Embarked_S</th>\n",
       "      <th>Deck_A</th>\n",
       "      <th>Deck_B</th>\n",
       "      <th>Deck_C</th>\n",
       "      <th>Deck_D</th>\n",
       "      <th>Deck_E</th>\n",
       "      <th>Deck_F</th>\n",
       "      <th>Deck_G</th>\n",
       "      <th>Deck_abs</th>\n",
       "      <th>Fare_range_Low</th>\n",
       "      <th>Fare_range_Middle</th>\n",
       "      <th>Fare_range_Up_middle</th>\n",
       "      <th>Fare_range_High</th>\n",
       "      <th>Fare_range_Extra_high</th>\n",
       "      <th>Family_range_Alone</th>\n",
       "      <th>Family_range_Small</th>\n",
       "      <th>Family_range_Large</th>\n",
       "      <th>Age_range_1</th>\n",
       "      <th>Age_range_2</th>\n",
       "      <th>Age_range_3</th>\n",
       "      <th>Age_range_4</th>\n",
       "      <th>Age_range_5</th>\n",
       "      <th>Age_range_6</th>\n",
       "      <th>Age_range_7</th>\n",
       "      <th>Age_range_8</th>\n",
       "      <th>Age_range_9</th>\n",
       "      <th>Age_range_10</th>\n",
       "      <th>Ticket_group_Alone</th>\n",
       "      <th>Ticket_group_Small</th>\n",
       "      <th>Ticket_group_Medium</th>\n",
       "      <th>Ticket_group_Large</th>\n",
       "      <th>Title_Lady</th>\n",
       "      <th>Title_Master</th>\n",
       "      <th>Title_Mr</th>\n",
       "    </tr>\n",
       "  </thead>\n",
       "  <tbody>\n",
       "    <tr>\n",
       "      <th>0</th>\n",
       "      <td>0.541314</td>\n",
       "      <td>-0.897777</td>\n",
       "      <td>0</td>\n",
       "      <td>0</td>\n",
       "      <td>1</td>\n",
       "      <td>0</td>\n",
       "      <td>1</td>\n",
       "      <td>0</td>\n",
       "      <td>1</td>\n",
       "      <td>0</td>\n",
       "      <td>0</td>\n",
       "      <td>0</td>\n",
       "      <td>0</td>\n",
       "      <td>0</td>\n",
       "      <td>0</td>\n",
       "      <td>0</td>\n",
       "      <td>0</td>\n",
       "      <td>1</td>\n",
       "      <td>1</td>\n",
       "      <td>0</td>\n",
       "      <td>0</td>\n",
       "      <td>0</td>\n",
       "      <td>0</td>\n",
       "      <td>1</td>\n",
       "      <td>0</td>\n",
       "      <td>0</td>\n",
       "      <td>0</td>\n",
       "      <td>0</td>\n",
       "      <td>0</td>\n",
       "      <td>0</td>\n",
       "      <td>1</td>\n",
       "      <td>0</td>\n",
       "      <td>0</td>\n",
       "      <td>0</td>\n",
       "      <td>0</td>\n",
       "      <td>0</td>\n",
       "      <td>1</td>\n",
       "      <td>0</td>\n",
       "      <td>0</td>\n",
       "      <td>0</td>\n",
       "      <td>0</td>\n",
       "      <td>0</td>\n",
       "      <td>1</td>\n",
       "    </tr>\n",
       "    <tr>\n",
       "      <th>1</th>\n",
       "      <td>1.257333</td>\n",
       "      <td>-1.879201</td>\n",
       "      <td>0</td>\n",
       "      <td>0</td>\n",
       "      <td>1</td>\n",
       "      <td>1</td>\n",
       "      <td>0</td>\n",
       "      <td>0</td>\n",
       "      <td>0</td>\n",
       "      <td>1</td>\n",
       "      <td>0</td>\n",
       "      <td>0</td>\n",
       "      <td>0</td>\n",
       "      <td>0</td>\n",
       "      <td>0</td>\n",
       "      <td>0</td>\n",
       "      <td>0</td>\n",
       "      <td>1</td>\n",
       "      <td>1</td>\n",
       "      <td>0</td>\n",
       "      <td>0</td>\n",
       "      <td>0</td>\n",
       "      <td>0</td>\n",
       "      <td>0</td>\n",
       "      <td>1</td>\n",
       "      <td>0</td>\n",
       "      <td>0</td>\n",
       "      <td>0</td>\n",
       "      <td>0</td>\n",
       "      <td>0</td>\n",
       "      <td>0</td>\n",
       "      <td>0</td>\n",
       "      <td>1</td>\n",
       "      <td>0</td>\n",
       "      <td>0</td>\n",
       "      <td>0</td>\n",
       "      <td>1</td>\n",
       "      <td>0</td>\n",
       "      <td>0</td>\n",
       "      <td>0</td>\n",
       "      <td>1</td>\n",
       "      <td>0</td>\n",
       "      <td>0</td>\n",
       "    </tr>\n",
       "    <tr>\n",
       "      <th>2</th>\n",
       "      <td>2.070888</td>\n",
       "      <td>-0.330029</td>\n",
       "      <td>0</td>\n",
       "      <td>1</td>\n",
       "      <td>0</td>\n",
       "      <td>0</td>\n",
       "      <td>1</td>\n",
       "      <td>0</td>\n",
       "      <td>1</td>\n",
       "      <td>0</td>\n",
       "      <td>0</td>\n",
       "      <td>0</td>\n",
       "      <td>0</td>\n",
       "      <td>0</td>\n",
       "      <td>0</td>\n",
       "      <td>0</td>\n",
       "      <td>0</td>\n",
       "      <td>1</td>\n",
       "      <td>0</td>\n",
       "      <td>1</td>\n",
       "      <td>0</td>\n",
       "      <td>0</td>\n",
       "      <td>0</td>\n",
       "      <td>1</td>\n",
       "      <td>0</td>\n",
       "      <td>0</td>\n",
       "      <td>0</td>\n",
       "      <td>0</td>\n",
       "      <td>0</td>\n",
       "      <td>0</td>\n",
       "      <td>0</td>\n",
       "      <td>0</td>\n",
       "      <td>0</td>\n",
       "      <td>0</td>\n",
       "      <td>1</td>\n",
       "      <td>0</td>\n",
       "      <td>1</td>\n",
       "      <td>0</td>\n",
       "      <td>0</td>\n",
       "      <td>0</td>\n",
       "      <td>0</td>\n",
       "      <td>0</td>\n",
       "      <td>1</td>\n",
       "    </tr>\n",
       "    <tr>\n",
       "      <th>3</th>\n",
       "      <td>-0.087272</td>\n",
       "      <td>-0.417573</td>\n",
       "      <td>0</td>\n",
       "      <td>0</td>\n",
       "      <td>1</td>\n",
       "      <td>0</td>\n",
       "      <td>1</td>\n",
       "      <td>0</td>\n",
       "      <td>0</td>\n",
       "      <td>1</td>\n",
       "      <td>0</td>\n",
       "      <td>0</td>\n",
       "      <td>0</td>\n",
       "      <td>0</td>\n",
       "      <td>0</td>\n",
       "      <td>0</td>\n",
       "      <td>0</td>\n",
       "      <td>1</td>\n",
       "      <td>0</td>\n",
       "      <td>1</td>\n",
       "      <td>0</td>\n",
       "      <td>0</td>\n",
       "      <td>0</td>\n",
       "      <td>1</td>\n",
       "      <td>0</td>\n",
       "      <td>0</td>\n",
       "      <td>0</td>\n",
       "      <td>0</td>\n",
       "      <td>0</td>\n",
       "      <td>1</td>\n",
       "      <td>0</td>\n",
       "      <td>0</td>\n",
       "      <td>0</td>\n",
       "      <td>0</td>\n",
       "      <td>0</td>\n",
       "      <td>0</td>\n",
       "      <td>1</td>\n",
       "      <td>0</td>\n",
       "      <td>0</td>\n",
       "      <td>0</td>\n",
       "      <td>0</td>\n",
       "      <td>0</td>\n",
       "      <td>1</td>\n",
       "    </tr>\n",
       "    <tr>\n",
       "      <th>4</th>\n",
       "      <td>-0.606226</td>\n",
       "      <td>-0.197906</td>\n",
       "      <td>0</td>\n",
       "      <td>0</td>\n",
       "      <td>1</td>\n",
       "      <td>1</td>\n",
       "      <td>0</td>\n",
       "      <td>0</td>\n",
       "      <td>0</td>\n",
       "      <td>1</td>\n",
       "      <td>0</td>\n",
       "      <td>0</td>\n",
       "      <td>0</td>\n",
       "      <td>0</td>\n",
       "      <td>0</td>\n",
       "      <td>0</td>\n",
       "      <td>0</td>\n",
       "      <td>1</td>\n",
       "      <td>0</td>\n",
       "      <td>1</td>\n",
       "      <td>0</td>\n",
       "      <td>0</td>\n",
       "      <td>0</td>\n",
       "      <td>0</td>\n",
       "      <td>1</td>\n",
       "      <td>0</td>\n",
       "      <td>0</td>\n",
       "      <td>0</td>\n",
       "      <td>1</td>\n",
       "      <td>0</td>\n",
       "      <td>0</td>\n",
       "      <td>0</td>\n",
       "      <td>0</td>\n",
       "      <td>0</td>\n",
       "      <td>0</td>\n",
       "      <td>0</td>\n",
       "      <td>1</td>\n",
       "      <td>0</td>\n",
       "      <td>0</td>\n",
       "      <td>0</td>\n",
       "      <td>1</td>\n",
       "      <td>0</td>\n",
       "      <td>0</td>\n",
       "    </tr>\n",
       "  </tbody>\n",
       "</table>\n",
       "</div>"
      ],
      "text/plain": [
       "   Age_scaled  Fare_scaled  Pclass_1  Pclass_2  Pclass_3  Sex_female  \\\n",
       "0    0.541314    -0.897777         0         0         1           0   \n",
       "1    1.257333    -1.879201         0         0         1           1   \n",
       "2    2.070888    -0.330029         0         1         0           0   \n",
       "3   -0.087272    -0.417573         0         0         1           0   \n",
       "4   -0.606226    -0.197906         0         0         1           1   \n",
       "\n",
       "   Sex_male  Embarked_C  Embarked_Q  Embarked_S  Deck_A  Deck_B  Deck_C  \\\n",
       "0         1           0           1           0       0       0       0   \n",
       "1         0           0           0           1       0       0       0   \n",
       "2         1           0           1           0       0       0       0   \n",
       "3         1           0           0           1       0       0       0   \n",
       "4         0           0           0           1       0       0       0   \n",
       "\n",
       "   Deck_D  Deck_E  Deck_F  Deck_G  Deck_abs  Fare_range_Low  \\\n",
       "0       0       0       0       0         1               1   \n",
       "1       0       0       0       0         1               1   \n",
       "2       0       0       0       0         1               0   \n",
       "3       0       0       0       0         1               0   \n",
       "4       0       0       0       0         1               0   \n",
       "\n",
       "   Fare_range_Middle  Fare_range_Up_middle  Fare_range_High  \\\n",
       "0                  0                     0                0   \n",
       "1                  0                     0                0   \n",
       "2                  1                     0                0   \n",
       "3                  1                     0                0   \n",
       "4                  1                     0                0   \n",
       "\n",
       "   Fare_range_Extra_high  Family_range_Alone  Family_range_Small  \\\n",
       "0                      0                   1                   0   \n",
       "1                      0                   0                   1   \n",
       "2                      0                   1                   0   \n",
       "3                      0                   1                   0   \n",
       "4                      0                   0                   1   \n",
       "\n",
       "   Family_range_Large  Age_range_1  Age_range_2  Age_range_3  Age_range_4  \\\n",
       "0                   0            0            0            0            0   \n",
       "1                   0            0            0            0            0   \n",
       "2                   0            0            0            0            0   \n",
       "3                   0            0            0            0            1   \n",
       "4                   0            0            0            1            0   \n",
       "\n",
       "   Age_range_5  Age_range_6  Age_range_7  Age_range_8  Age_range_9  \\\n",
       "0            1            0            0            0            0   \n",
       "1            0            0            1            0            0   \n",
       "2            0            0            0            0            1   \n",
       "3            0            0            0            0            0   \n",
       "4            0            0            0            0            0   \n",
       "\n",
       "   Age_range_10  Ticket_group_Alone  Ticket_group_Small  Ticket_group_Medium  \\\n",
       "0             0                   1                   0                    0   \n",
       "1             0                   1                   0                    0   \n",
       "2             0                   1                   0                    0   \n",
       "3             0                   1                   0                    0   \n",
       "4             0                   1                   0                    0   \n",
       "\n",
       "   Ticket_group_Large  Title_Lady  Title_Master  Title_Mr  \n",
       "0                   0           0             0         1  \n",
       "1                   0           1             0         0  \n",
       "2                   0           0             0         1  \n",
       "3                   0           0             0         1  \n",
       "4                   0           1             0         0  "
      ]
     },
     "execution_count": 190,
     "metadata": {},
     "output_type": "execute_result"
    },
    {
     "data": {
      "text/plain": [
       "(418, 43)"
      ]
     },
     "execution_count": 190,
     "metadata": {},
     "output_type": "execute_result"
    }
   ],
   "source": [
    "test_df_all.head()\n",
    "test_df_all.shape"
   ]
  },
  {
   "cell_type": "markdown",
   "metadata": {},
   "source": [
    "## Дополнительно - примеры задач."
   ]
  },
  {
   "cell_type": "markdown",
   "metadata": {},
   "source": [
    "## 1. Дерево решений без настройки параметров "
   ]
  },
  {
   "cell_type": "markdown",
   "metadata": {},
   "source": [
    "**Обучите на имеющейся выборке дерево решений (`DecisionTreeClassifier`) максимальной глубины 2. "
   ]
  },
  {
   "cell_type": "code",
   "execution_count": 191,
   "metadata": {},
   "outputs": [
    {
     "data": {
      "text/html": [
       "<style>#sk-container-id-1 {color: black;background-color: white;}#sk-container-id-1 pre{padding: 0;}#sk-container-id-1 div.sk-toggleable {background-color: white;}#sk-container-id-1 label.sk-toggleable__label {cursor: pointer;display: block;width: 100%;margin-bottom: 0;padding: 0.3em;box-sizing: border-box;text-align: center;}#sk-container-id-1 label.sk-toggleable__label-arrow:before {content: \"▸\";float: left;margin-right: 0.25em;color: #696969;}#sk-container-id-1 label.sk-toggleable__label-arrow:hover:before {color: black;}#sk-container-id-1 div.sk-estimator:hover label.sk-toggleable__label-arrow:before {color: black;}#sk-container-id-1 div.sk-toggleable__content {max-height: 0;max-width: 0;overflow: hidden;text-align: left;background-color: #f0f8ff;}#sk-container-id-1 div.sk-toggleable__content pre {margin: 0.2em;color: black;border-radius: 0.25em;background-color: #f0f8ff;}#sk-container-id-1 input.sk-toggleable__control:checked~div.sk-toggleable__content {max-height: 200px;max-width: 100%;overflow: auto;}#sk-container-id-1 input.sk-toggleable__control:checked~label.sk-toggleable__label-arrow:before {content: \"▾\";}#sk-container-id-1 div.sk-estimator input.sk-toggleable__control:checked~label.sk-toggleable__label {background-color: #d4ebff;}#sk-container-id-1 div.sk-label input.sk-toggleable__control:checked~label.sk-toggleable__label {background-color: #d4ebff;}#sk-container-id-1 input.sk-hidden--visually {border: 0;clip: rect(1px 1px 1px 1px);clip: rect(1px, 1px, 1px, 1px);height: 1px;margin: -1px;overflow: hidden;padding: 0;position: absolute;width: 1px;}#sk-container-id-1 div.sk-estimator {font-family: monospace;background-color: #f0f8ff;border: 1px dotted black;border-radius: 0.25em;box-sizing: border-box;margin-bottom: 0.5em;}#sk-container-id-1 div.sk-estimator:hover {background-color: #d4ebff;}#sk-container-id-1 div.sk-parallel-item::after {content: \"\";width: 100%;border-bottom: 1px solid gray;flex-grow: 1;}#sk-container-id-1 div.sk-label:hover label.sk-toggleable__label {background-color: #d4ebff;}#sk-container-id-1 div.sk-serial::before {content: \"\";position: absolute;border-left: 1px solid gray;box-sizing: border-box;top: 0;bottom: 0;left: 50%;z-index: 0;}#sk-container-id-1 div.sk-serial {display: flex;flex-direction: column;align-items: center;background-color: white;padding-right: 0.2em;padding-left: 0.2em;position: relative;}#sk-container-id-1 div.sk-item {position: relative;z-index: 1;}#sk-container-id-1 div.sk-parallel {display: flex;align-items: stretch;justify-content: center;background-color: white;position: relative;}#sk-container-id-1 div.sk-item::before, #sk-container-id-1 div.sk-parallel-item::before {content: \"\";position: absolute;border-left: 1px solid gray;box-sizing: border-box;top: 0;bottom: 0;left: 50%;z-index: -1;}#sk-container-id-1 div.sk-parallel-item {display: flex;flex-direction: column;z-index: 1;position: relative;background-color: white;}#sk-container-id-1 div.sk-parallel-item:first-child::after {align-self: flex-end;width: 50%;}#sk-container-id-1 div.sk-parallel-item:last-child::after {align-self: flex-start;width: 50%;}#sk-container-id-1 div.sk-parallel-item:only-child::after {width: 0;}#sk-container-id-1 div.sk-dashed-wrapped {border: 1px dashed gray;margin: 0 0.4em 0.5em 0.4em;box-sizing: border-box;padding-bottom: 0.4em;background-color: white;}#sk-container-id-1 div.sk-label label {font-family: monospace;font-weight: bold;display: inline-block;line-height: 1.2em;}#sk-container-id-1 div.sk-label-container {text-align: center;}#sk-container-id-1 div.sk-container {/* jupyter's `normalize.less` sets `[hidden] { display: none; }` but bootstrap.min.css set `[hidden] { display: none !important; }` so we also need the `!important` here to be able to override the default hidden behavior on the sphinx rendered scikit-learn.org. See: https://github.com/scikit-learn/scikit-learn/issues/21755 */display: inline-block !important;position: relative;}#sk-container-id-1 div.sk-text-repr-fallback {display: none;}</style><div id=\"sk-container-id-1\" class=\"sk-top-container\"><div class=\"sk-text-repr-fallback\"><pre>DecisionTreeClassifier(max_depth=2, random_state=17)</pre><b>In a Jupyter environment, please rerun this cell to show the HTML representation or trust the notebook. <br />On GitHub, the HTML representation is unable to render, please try loading this page with nbviewer.org.</b></div><div class=\"sk-container\" hidden><div class=\"sk-item\"><div class=\"sk-estimator sk-toggleable\"><input class=\"sk-toggleable__control sk-hidden--visually\" id=\"sk-estimator-id-1\" type=\"checkbox\" checked><label for=\"sk-estimator-id-1\" class=\"sk-toggleable__label sk-toggleable__label-arrow\">DecisionTreeClassifier</label><div class=\"sk-toggleable__content\"><pre>DecisionTreeClassifier(max_depth=2, random_state=17)</pre></div></div></div></div></div>"
      ],
      "text/plain": [
       "DecisionTreeClassifier(max_depth=2, random_state=17)"
      ]
     },
     "execution_count": 191,
     "metadata": {},
     "output_type": "execute_result"
    }
   ],
   "source": [
    "X_train, X_val, y_train, y_val = train_test_split(\n",
    "    train_df_all, y, test_size=0.3, random_state=17)\n",
    "\n",
    "dtree = DecisionTreeClassifier(max_depth=2, random_state=17)\n",
    "dtree.fit(X_train, y_train)"
   ]
  },
  {
   "cell_type": "markdown",
   "metadata": {},
   "source": [
    "**Сделайте с помощью полученной модели прогноз для тестовой выборки **"
   ]
  },
  {
   "cell_type": "code",
   "execution_count": 192,
   "metadata": {},
   "outputs": [],
   "source": [
    "y_pred_dtree = dtree.predict(test_df_all)"
   ]
  },
  {
   "cell_type": "code",
   "execution_count": 193,
   "metadata": {},
   "outputs": [],
   "source": [
    "submission_dtree = pd.DataFrame({\n",
    "    'PassengerId': test_df.PassengerId,\n",
    "    'Survived': y_pred_dtree\n",
    "})\n",
    "submission_dtree.Survived = submission_dtree.Survived.astype(int)\n",
    "submission_dtree.to_csv(\"submission_dtree.csv\", index=False)"
   ]
  },
  {
   "cell_type": "markdown",
   "metadata": {},
   "source": [
    "**0.78468**"
   ]
  },
  {
   "cell_type": "markdown",
   "metadata": {},
   "source": [
    "**Отобразите дерево с помощью `export_graphviz` и `dot`.**"
   ]
  },
  {
   "cell_type": "code",
   "execution_count": 194,
   "metadata": {},
   "outputs": [
    {
     "data": {
      "image/svg+xml": "<?xml version=\"1.0\" encoding=\"UTF-8\" standalone=\"no\"?>\n<!DOCTYPE svg PUBLIC \"-//W3C//DTD SVG 1.1//EN\"\n \"http://www.w3.org/Graphics/SVG/1.1/DTD/svg11.dtd\">\n<!-- Generated by graphviz version 3.0.0 (20220226.1711)\n -->\n<!-- Title: Tree Pages: 1 -->\n<svg width=\"631pt\" height=\"314pt\"\n viewBox=\"0.00 0.00 631.00 314.00\" xmlns=\"http://www.w3.org/2000/svg\" xmlns:xlink=\"http://www.w3.org/1999/xlink\">\n<g id=\"graph0\" class=\"graph\" transform=\"scale(1 1) rotate(0) translate(4 310)\">\n<title>Tree</title>\n<polygon fill=\"white\" stroke=\"transparent\" points=\"-4,4 -4,-310 627,-310 627,4 -4,4\"/>\n<!-- 0 -->\n<g id=\"node1\" class=\"node\">\n<title>0</title>\n<path fill=\"#f4cbae\" stroke=\"black\" d=\"M360,-306C360,-306 238,-306 238,-306 232,-306 226,-300 226,-294 226,-294 226,-235 226,-235 226,-229 232,-223 238,-223 238,-223 360,-223 360,-223 366,-223 372,-229 372,-235 372,-235 372,-294 372,-294 372,-300 366,-306 360,-306\"/>\n<text text-anchor=\"start\" x=\"255.5\" y=\"-290.8\" font-family=\"Helvetica,sans-Serif\" font-size=\"14.00\">Title_Mr ≤ 0.5</text>\n<text text-anchor=\"start\" x=\"261.5\" y=\"-275.8\" font-family=\"Helvetica,sans-Serif\" font-size=\"14.00\">gini = 0.467</text>\n<text text-anchor=\"start\" x=\"251.5\" y=\"-260.8\" font-family=\"Helvetica,sans-Serif\" font-size=\"14.00\">samples = 623</text>\n<text text-anchor=\"start\" x=\"242\" y=\"-245.8\" font-family=\"Helvetica,sans-Serif\" font-size=\"14.00\">value = [392, 231]</text>\n<text text-anchor=\"start\" x=\"234\" y=\"-230.8\" font-family=\"Helvetica,sans-Serif\" font-size=\"14.00\">class = not_survived</text>\n</g>\n<!-- 1 -->\n<g id=\"node2\" class=\"node\">\n<title>1</title>\n<path fill=\"#83c2ef\" stroke=\"black\" d=\"M287,-187C287,-187 129,-187 129,-187 123,-187 117,-181 117,-175 117,-175 117,-116 117,-116 117,-110 123,-104 129,-104 129,-104 287,-104 287,-104 293,-104 299,-110 299,-116 299,-116 299,-175 299,-175 299,-181 293,-187 287,-187\"/>\n<text text-anchor=\"start\" x=\"125\" y=\"-171.8\" font-family=\"Helvetica,sans-Serif\" font-size=\"14.00\">Family_range_Large ≤ 0.5</text>\n<text text-anchor=\"start\" x=\"170.5\" y=\"-156.8\" font-family=\"Helvetica,sans-Serif\" font-size=\"14.00\">gini = 0.396</text>\n<text text-anchor=\"start\" x=\"160.5\" y=\"-141.8\" font-family=\"Helvetica,sans-Serif\" font-size=\"14.00\">samples = 239</text>\n<text text-anchor=\"start\" x=\"155\" y=\"-126.8\" font-family=\"Helvetica,sans-Serif\" font-size=\"14.00\">value = [65, 174]</text>\n<text text-anchor=\"start\" x=\"157\" y=\"-111.8\" font-family=\"Helvetica,sans-Serif\" font-size=\"14.00\">class = survived</text>\n</g>\n<!-- 0&#45;&gt;1 -->\n<g id=\"edge1\" class=\"edge\">\n<title>0&#45;&gt;1</title>\n<path fill=\"none\" stroke=\"black\" d=\"M267.43,-222.91C260.44,-213.92 252.97,-204.32 245.76,-195.05\"/>\n<polygon fill=\"black\" stroke=\"black\" points=\"248.42,-192.77 239.52,-187.02 242.89,-197.06 248.42,-192.77\"/>\n<text text-anchor=\"middle\" x=\"236.42\" y=\"-208.13\" font-family=\"Helvetica,sans-Serif\" font-size=\"14.00\">True</text>\n</g>\n<!-- 4 -->\n<g id=\"node5\" class=\"node\">\n<title>4</title>\n<path fill=\"#ea975c\" stroke=\"black\" d=\"M451,-187C451,-187 329,-187 329,-187 323,-187 317,-181 317,-175 317,-175 317,-116 317,-116 317,-110 323,-104 329,-104 329,-104 451,-104 451,-104 457,-104 463,-110 463,-116 463,-116 463,-175 463,-175 463,-181 457,-187 451,-187\"/>\n<text text-anchor=\"start\" x=\"340\" y=\"-171.8\" font-family=\"Helvetica,sans-Serif\" font-size=\"14.00\">Deck_abs ≤ 0.5</text>\n<text text-anchor=\"start\" x=\"352.5\" y=\"-156.8\" font-family=\"Helvetica,sans-Serif\" font-size=\"14.00\">gini = 0.253</text>\n<text text-anchor=\"start\" x=\"342.5\" y=\"-141.8\" font-family=\"Helvetica,sans-Serif\" font-size=\"14.00\">samples = 384</text>\n<text text-anchor=\"start\" x=\"337\" y=\"-126.8\" font-family=\"Helvetica,sans-Serif\" font-size=\"14.00\">value = [327, 57]</text>\n<text text-anchor=\"start\" x=\"325\" y=\"-111.8\" font-family=\"Helvetica,sans-Serif\" font-size=\"14.00\">class = not_survived</text>\n</g>\n<!-- 0&#45;&gt;4 -->\n<g id=\"edge4\" class=\"edge\">\n<title>0&#45;&gt;4</title>\n<path fill=\"none\" stroke=\"black\" d=\"M330.57,-222.91C337.56,-213.92 345.03,-204.32 352.24,-195.05\"/>\n<polygon fill=\"black\" stroke=\"black\" points=\"355.11,-197.06 358.48,-187.02 349.58,-192.77 355.11,-197.06\"/>\n<text text-anchor=\"middle\" x=\"361.58\" y=\"-208.13\" font-family=\"Helvetica,sans-Serif\" font-size=\"14.00\">False</text>\n</g>\n<!-- 2 -->\n<g id=\"node3\" class=\"node\">\n<title>2</title>\n<path fill=\"#63b2eb\" stroke=\"black\" d=\"M110,-68C110,-68 12,-68 12,-68 6,-68 0,-62 0,-56 0,-56 0,-12 0,-12 0,-6 6,0 12,0 12,0 110,0 110,0 116,0 122,-6 122,-12 122,-12 122,-56 122,-56 122,-62 116,-68 110,-68\"/>\n<text text-anchor=\"start\" x=\"27.5\" y=\"-52.8\" font-family=\"Helvetica,sans-Serif\" font-size=\"14.00\">gini = 0.29</text>\n<text text-anchor=\"start\" x=\"13.5\" y=\"-37.8\" font-family=\"Helvetica,sans-Serif\" font-size=\"14.00\">samples = 205</text>\n<text text-anchor=\"start\" x=\"8\" y=\"-22.8\" font-family=\"Helvetica,sans-Serif\" font-size=\"14.00\">value = [36, 169]</text>\n<text text-anchor=\"start\" x=\"10\" y=\"-7.8\" font-family=\"Helvetica,sans-Serif\" font-size=\"14.00\">class = survived</text>\n</g>\n<!-- 1&#45;&gt;2 -->\n<g id=\"edge2\" class=\"edge\">\n<title>1&#45;&gt;2</title>\n<path fill=\"none\" stroke=\"black\" d=\"M153.26,-103.73C140.41,-94.15 126.73,-83.96 113.95,-74.44\"/>\n<polygon fill=\"black\" stroke=\"black\" points=\"115.81,-71.47 105.7,-68.3 111.63,-77.08 115.81,-71.47\"/>\n</g>\n<!-- 3 -->\n<g id=\"node4\" class=\"node\">\n<title>3</title>\n<path fill=\"#e9975b\" stroke=\"black\" d=\"M274,-68C274,-68 152,-68 152,-68 146,-68 140,-62 140,-56 140,-56 140,-12 140,-12 140,-6 146,0 152,0 152,0 274,0 274,0 280,0 286,-6 286,-12 286,-12 286,-56 286,-56 286,-62 280,-68 274,-68\"/>\n<text text-anchor=\"start\" x=\"175.5\" y=\"-52.8\" font-family=\"Helvetica,sans-Serif\" font-size=\"14.00\">gini = 0.251</text>\n<text text-anchor=\"start\" x=\"169.5\" y=\"-37.8\" font-family=\"Helvetica,sans-Serif\" font-size=\"14.00\">samples = 34</text>\n<text text-anchor=\"start\" x=\"168.5\" y=\"-22.8\" font-family=\"Helvetica,sans-Serif\" font-size=\"14.00\">value = [29, 5]</text>\n<text text-anchor=\"start\" x=\"148\" y=\"-7.8\" font-family=\"Helvetica,sans-Serif\" font-size=\"14.00\">class = not_survived</text>\n</g>\n<!-- 1&#45;&gt;3 -->\n<g id=\"edge3\" class=\"edge\">\n<title>1&#45;&gt;3</title>\n<path fill=\"none\" stroke=\"black\" d=\"M209.86,-103.73C210.24,-95.52 210.63,-86.86 211.01,-78.56\"/>\n<polygon fill=\"black\" stroke=\"black\" points=\"214.52,-78.45 211.48,-68.3 207.53,-78.13 214.52,-78.45\"/>\n</g>\n<!-- 5 -->\n<g id=\"node6\" class=\"node\">\n<title>5</title>\n<path fill=\"#f4caac\" stroke=\"black\" d=\"M447,-68C447,-68 325,-68 325,-68 319,-68 313,-62 313,-56 313,-56 313,-12 313,-12 313,-6 319,0 325,0 325,0 447,0 447,0 453,0 459,-6 459,-12 459,-12 459,-56 459,-56 459,-62 453,-68 447,-68\"/>\n<text text-anchor=\"start\" x=\"348.5\" y=\"-52.8\" font-family=\"Helvetica,sans-Serif\" font-size=\"14.00\">gini = 0.465</text>\n<text text-anchor=\"start\" x=\"342.5\" y=\"-37.8\" font-family=\"Helvetica,sans-Serif\" font-size=\"14.00\">samples = 76</text>\n<text text-anchor=\"start\" x=\"337.5\" y=\"-22.8\" font-family=\"Helvetica,sans-Serif\" font-size=\"14.00\">value = [48, 28]</text>\n<text text-anchor=\"start\" x=\"321\" y=\"-7.8\" font-family=\"Helvetica,sans-Serif\" font-size=\"14.00\">class = not_survived</text>\n</g>\n<!-- 4&#45;&gt;5 -->\n<g id=\"edge5\" class=\"edge\">\n<title>4&#45;&gt;5</title>\n<path fill=\"none\" stroke=\"black\" d=\"M388.51,-103.73C388.21,-95.52 387.89,-86.86 387.59,-78.56\"/>\n<polygon fill=\"black\" stroke=\"black\" points=\"391.08,-78.17 387.22,-68.3 384.08,-78.42 391.08,-78.17\"/>\n</g>\n<!-- 6 -->\n<g id=\"node7\" class=\"node\">\n<title>6</title>\n<path fill=\"#e88e4e\" stroke=\"black\" d=\"M611,-68C611,-68 489,-68 489,-68 483,-68 477,-62 477,-56 477,-56 477,-12 477,-12 477,-6 483,0 489,0 489,0 611,0 611,0 617,0 623,-6 623,-12 623,-12 623,-56 623,-56 623,-62 617,-68 611,-68\"/>\n<text text-anchor=\"start\" x=\"512.5\" y=\"-52.8\" font-family=\"Helvetica,sans-Serif\" font-size=\"14.00\">gini = 0.171</text>\n<text text-anchor=\"start\" x=\"502.5\" y=\"-37.8\" font-family=\"Helvetica,sans-Serif\" font-size=\"14.00\">samples = 308</text>\n<text text-anchor=\"start\" x=\"497\" y=\"-22.8\" font-family=\"Helvetica,sans-Serif\" font-size=\"14.00\">value = [279, 29]</text>\n<text text-anchor=\"start\" x=\"485\" y=\"-7.8\" font-family=\"Helvetica,sans-Serif\" font-size=\"14.00\">class = not_survived</text>\n</g>\n<!-- 4&#45;&gt;6 -->\n<g id=\"edge6\" class=\"edge\">\n<title>4&#45;&gt;6</title>\n<path fill=\"none\" stroke=\"black\" d=\"M449.58,-103.73C463.78,-94.01 478.9,-83.66 492.98,-74.02\"/>\n<polygon fill=\"black\" stroke=\"black\" points=\"495.32,-76.66 501.6,-68.13 491.37,-70.88 495.32,-76.66\"/>\n</g>\n</g>\n</svg>\n",
      "text/plain": [
       "<graphviz.sources.Source at 0x1f56af5e190>"
      ]
     },
     "execution_count": 194,
     "metadata": {},
     "output_type": "execute_result"
    }
   ],
   "source": [
    "# Для отображения в дереве сделаем строковый вариант целевой переменной\n",
    "y_str = np.where(y == 0, \"not_survived\", \"survived\")\n",
    "\n",
    "dot_data = export_graphviz(\n",
    "    dtree,\n",
    "    out_file=None,\n",
    "    feature_names=train_df_all.columns,\n",
    "    class_names=y_str,\n",
    "    filled=True,\n",
    "    rounded=True,\n",
    "    special_characters=True)\n",
    "graph = graphviz.Source(dot_data)\n",
    "graph"
   ]
  },
  {
   "cell_type": "markdown",
   "metadata": {},
   "source": [
    "***Цвет узлов***: чем больше объектов класса \"1\", тем цвет узла ближе к темно-оранжевому, чем больше объектов класса \"0\", тем ближе цвет к темно-синему. Если объектов одного класса поровну, то узел дерева белого цвета."
   ]
  },
  {
   "cell_type": "markdown",
   "metadata": {},
   "source": [
    "## 2. Дерево решений с настройкой параметров "
   ]
  },
  {
   "cell_type": "markdown",
   "metadata": {},
   "source": [
    "**Обучите на имеющейся выборке дерево решений (`DecisionTreeClassifier`). Максимальную глубину и минимальное число элементов в листе настройте на 5-кратной кросс-валидации с помощью `GridSearchCV`.**"
   ]
  },
  {
   "cell_type": "code",
   "execution_count": 195,
   "metadata": {},
   "outputs": [
    {
     "name": "stdout",
     "output_type": "stream",
     "text": [
      "Fitting 5 folds for each of 16 candidates, totalling 80 fits\n"
     ]
    },
    {
     "data": {
      "text/html": [
       "<style>#sk-container-id-2 {color: black;background-color: white;}#sk-container-id-2 pre{padding: 0;}#sk-container-id-2 div.sk-toggleable {background-color: white;}#sk-container-id-2 label.sk-toggleable__label {cursor: pointer;display: block;width: 100%;margin-bottom: 0;padding: 0.3em;box-sizing: border-box;text-align: center;}#sk-container-id-2 label.sk-toggleable__label-arrow:before {content: \"▸\";float: left;margin-right: 0.25em;color: #696969;}#sk-container-id-2 label.sk-toggleable__label-arrow:hover:before {color: black;}#sk-container-id-2 div.sk-estimator:hover label.sk-toggleable__label-arrow:before {color: black;}#sk-container-id-2 div.sk-toggleable__content {max-height: 0;max-width: 0;overflow: hidden;text-align: left;background-color: #f0f8ff;}#sk-container-id-2 div.sk-toggleable__content pre {margin: 0.2em;color: black;border-radius: 0.25em;background-color: #f0f8ff;}#sk-container-id-2 input.sk-toggleable__control:checked~div.sk-toggleable__content {max-height: 200px;max-width: 100%;overflow: auto;}#sk-container-id-2 input.sk-toggleable__control:checked~label.sk-toggleable__label-arrow:before {content: \"▾\";}#sk-container-id-2 div.sk-estimator input.sk-toggleable__control:checked~label.sk-toggleable__label {background-color: #d4ebff;}#sk-container-id-2 div.sk-label input.sk-toggleable__control:checked~label.sk-toggleable__label {background-color: #d4ebff;}#sk-container-id-2 input.sk-hidden--visually {border: 0;clip: rect(1px 1px 1px 1px);clip: rect(1px, 1px, 1px, 1px);height: 1px;margin: -1px;overflow: hidden;padding: 0;position: absolute;width: 1px;}#sk-container-id-2 div.sk-estimator {font-family: monospace;background-color: #f0f8ff;border: 1px dotted black;border-radius: 0.25em;box-sizing: border-box;margin-bottom: 0.5em;}#sk-container-id-2 div.sk-estimator:hover {background-color: #d4ebff;}#sk-container-id-2 div.sk-parallel-item::after {content: \"\";width: 100%;border-bottom: 1px solid gray;flex-grow: 1;}#sk-container-id-2 div.sk-label:hover label.sk-toggleable__label {background-color: #d4ebff;}#sk-container-id-2 div.sk-serial::before {content: \"\";position: absolute;border-left: 1px solid gray;box-sizing: border-box;top: 0;bottom: 0;left: 50%;z-index: 0;}#sk-container-id-2 div.sk-serial {display: flex;flex-direction: column;align-items: center;background-color: white;padding-right: 0.2em;padding-left: 0.2em;position: relative;}#sk-container-id-2 div.sk-item {position: relative;z-index: 1;}#sk-container-id-2 div.sk-parallel {display: flex;align-items: stretch;justify-content: center;background-color: white;position: relative;}#sk-container-id-2 div.sk-item::before, #sk-container-id-2 div.sk-parallel-item::before {content: \"\";position: absolute;border-left: 1px solid gray;box-sizing: border-box;top: 0;bottom: 0;left: 50%;z-index: -1;}#sk-container-id-2 div.sk-parallel-item {display: flex;flex-direction: column;z-index: 1;position: relative;background-color: white;}#sk-container-id-2 div.sk-parallel-item:first-child::after {align-self: flex-end;width: 50%;}#sk-container-id-2 div.sk-parallel-item:last-child::after {align-self: flex-start;width: 50%;}#sk-container-id-2 div.sk-parallel-item:only-child::after {width: 0;}#sk-container-id-2 div.sk-dashed-wrapped {border: 1px dashed gray;margin: 0 0.4em 0.5em 0.4em;box-sizing: border-box;padding-bottom: 0.4em;background-color: white;}#sk-container-id-2 div.sk-label label {font-family: monospace;font-weight: bold;display: inline-block;line-height: 1.2em;}#sk-container-id-2 div.sk-label-container {text-align: center;}#sk-container-id-2 div.sk-container {/* jupyter's `normalize.less` sets `[hidden] { display: none; }` but bootstrap.min.css set `[hidden] { display: none !important; }` so we also need the `!important` here to be able to override the default hidden behavior on the sphinx rendered scikit-learn.org. See: https://github.com/scikit-learn/scikit-learn/issues/21755 */display: inline-block !important;position: relative;}#sk-container-id-2 div.sk-text-repr-fallback {display: none;}</style><div id=\"sk-container-id-2\" class=\"sk-top-container\"><div class=\"sk-text-repr-fallback\"><pre>GridSearchCV(estimator=DecisionTreeClassifier(max_depth=2, random_state=17),\n",
       "             n_jobs=-1,\n",
       "             param_grid={&#x27;max_depth&#x27;: [1, 2, 3, 4],\n",
       "                         &#x27;min_samples_leaf&#x27;: [1, 2, 3, 4]},\n",
       "             verbose=True)</pre><b>In a Jupyter environment, please rerun this cell to show the HTML representation or trust the notebook. <br />On GitHub, the HTML representation is unable to render, please try loading this page with nbviewer.org.</b></div><div class=\"sk-container\" hidden><div class=\"sk-item sk-dashed-wrapped\"><div class=\"sk-label-container\"><div class=\"sk-label sk-toggleable\"><input class=\"sk-toggleable__control sk-hidden--visually\" id=\"sk-estimator-id-2\" type=\"checkbox\" ><label for=\"sk-estimator-id-2\" class=\"sk-toggleable__label sk-toggleable__label-arrow\">GridSearchCV</label><div class=\"sk-toggleable__content\"><pre>GridSearchCV(estimator=DecisionTreeClassifier(max_depth=2, random_state=17),\n",
       "             n_jobs=-1,\n",
       "             param_grid={&#x27;max_depth&#x27;: [1, 2, 3, 4],\n",
       "                         &#x27;min_samples_leaf&#x27;: [1, 2, 3, 4]},\n",
       "             verbose=True)</pre></div></div></div><div class=\"sk-parallel\"><div class=\"sk-parallel-item\"><div class=\"sk-item\"><div class=\"sk-label-container\"><div class=\"sk-label sk-toggleable\"><input class=\"sk-toggleable__control sk-hidden--visually\" id=\"sk-estimator-id-3\" type=\"checkbox\" ><label for=\"sk-estimator-id-3\" class=\"sk-toggleable__label sk-toggleable__label-arrow\">estimator: DecisionTreeClassifier</label><div class=\"sk-toggleable__content\"><pre>DecisionTreeClassifier(max_depth=2, random_state=17)</pre></div></div></div><div class=\"sk-serial\"><div class=\"sk-item\"><div class=\"sk-estimator sk-toggleable\"><input class=\"sk-toggleable__control sk-hidden--visually\" id=\"sk-estimator-id-4\" type=\"checkbox\" ><label for=\"sk-estimator-id-4\" class=\"sk-toggleable__label sk-toggleable__label-arrow\">DecisionTreeClassifier</label><div class=\"sk-toggleable__content\"><pre>DecisionTreeClassifier(max_depth=2, random_state=17)</pre></div></div></div></div></div></div></div></div></div></div>"
      ],
      "text/plain": [
       "GridSearchCV(estimator=DecisionTreeClassifier(max_depth=2, random_state=17),\n",
       "             n_jobs=-1,\n",
       "             param_grid={'max_depth': [1, 2, 3, 4],\n",
       "                         'min_samples_leaf': [1, 2, 3, 4]},\n",
       "             verbose=True)"
      ]
     },
     "execution_count": 195,
     "metadata": {},
     "output_type": "execute_result"
    },
    {
     "data": {
      "text/plain": [
       "{'max_depth': 3, 'min_samples_leaf': 2}"
      ]
     },
     "execution_count": 195,
     "metadata": {},
     "output_type": "execute_result"
    },
    {
     "data": {
      "text/plain": [
       "0.8362451612903226"
      ]
     },
     "execution_count": 195,
     "metadata": {},
     "output_type": "execute_result"
    }
   ],
   "source": [
    "# tree params for grid search\n",
    "tree_params = {\n",
    "    'max_depth': list(range(1, 5)),\n",
    "    'min_samples_leaf': list(range(1, 5))\n",
    "}\n",
    "\n",
    "# 5-кратная кросс-валидация установлена по умолчанию (параметр cv=5)\n",
    "dtree_grid = GridSearchCV(dtree, tree_params, n_jobs=-1, verbose=True)\n",
    "dtree_grid.fit(X_train, y_train)\n",
    "\n",
    "dtree_grid.best_params_\n",
    "dtree_grid.best_score_"
   ]
  },
  {
   "cell_type": "markdown",
   "metadata": {},
   "source": [
    "<font color='red'>Вопрос 3. </font> Каковы лучшие параметры дерева, настроенные на кросс-валидации с помощью `GridSearchCV`?"
   ]
  },
  {
   "cell_type": "code",
   "execution_count": 196,
   "metadata": {},
   "outputs": [
    {
     "data": {
      "text/plain": [
       "{'max_depth': 3, 'min_samples_leaf': 2}"
      ]
     },
     "execution_count": 196,
     "metadata": {},
     "output_type": "execute_result"
    }
   ],
   "source": [
    "dtree_grid.best_params_"
   ]
  },
  {
   "cell_type": "markdown",
   "metadata": {},
   "source": [
    "<font color='red'>Вопрос 4. </font> Какой получилась средняя доля верных ответов на кросс-валидации для дерева решений с лучшим сочетанием гиперпараметров `max_depth` и `min_samples_leaf`?"
   ]
  },
  {
   "cell_type": "code",
   "execution_count": 197,
   "metadata": {},
   "outputs": [
    {
     "data": {
      "text/plain": [
       "0.8362451612903226"
      ]
     },
     "execution_count": 197,
     "metadata": {},
     "output_type": "execute_result"
    }
   ],
   "source": [
    "dtree_grid.best_score_"
   ]
  },
  {
   "cell_type": "code",
   "execution_count": 198,
   "metadata": {},
   "outputs": [
    {
     "name": "stdout",
     "output_type": "stream",
     "text": [
      "Fitting 5 folds for each of 16 candidates, totalling 80 fits\n",
      "Fitting 5 folds for each of 16 candidates, totalling 80 fits\n",
      "Fitting 5 folds for each of 16 candidates, totalling 80 fits\n",
      "Fitting 5 folds for each of 16 candidates, totalling 80 fits\n",
      "Fitting 5 folds for each of 16 candidates, totalling 80 fits\n"
     ]
    },
    {
     "data": {
      "text/plain": [
       "0.8215240725629277"
      ]
     },
     "execution_count": 198,
     "metadata": {},
     "output_type": "execute_result"
    }
   ],
   "source": [
    "cross_val_score(dtree_grid, train_df_all, y).mean()"
   ]
  },
  {
   "cell_type": "markdown",
   "metadata": {},
   "source": [
    "**Сделайте с помощью полученной модели прогноз для тестовой выборки.**"
   ]
  },
  {
   "cell_type": "code",
   "execution_count": 199,
   "metadata": {},
   "outputs": [],
   "source": [
    "y_pred = dtree_grid.predict(test_df_all)"
   ]
  },
  {
   "cell_type": "markdown",
   "metadata": {},
   "source": [
    "**Сформируйте файл посылки и отправьте на Kaggle.**"
   ]
  },
  {
   "cell_type": "code",
   "execution_count": 200,
   "metadata": {},
   "outputs": [],
   "source": [
    "submission_dt_grid = pd.DataFrame({\n",
    "    'PassengerId': test_df.PassengerId,\n",
    "    'Survived': y_pred\n",
    "})\n",
    "submission_dt_grid.Survived = submission_dt_grid.Survived.astype(int)\n",
    "submission_dt_grid.to_csv(\"submission_dt_grid.csv\", index=False)"
   ]
  },
  {
   "cell_type": "markdown",
   "metadata": {},
   "source": [
    "<font color='red'>Вопрос 5. </font> Каков результат второй посылки (дерево решений с настройкой гиперпараметров) в публичном рейтинге соревнования Titanic?"
   ]
  },
  {
   "cell_type": "markdown",
   "metadata": {},
   "source": [
    "**0.78947**"
   ]
  },
  {
   "cell_type": "markdown",
   "metadata": {},
   "source": [
    "## 3. Дополнительные модели, сравнение эффективности после настройки параметров."
   ]
  },
  {
   "cell_type": "markdown",
   "metadata": {},
   "source": [
    "### RandomForest"
   ]
  },
  {
   "cell_type": "code",
   "execution_count": 201,
   "metadata": {},
   "outputs": [
    {
     "data": {
      "text/html": [
       "<style>#sk-container-id-3 {color: black;background-color: white;}#sk-container-id-3 pre{padding: 0;}#sk-container-id-3 div.sk-toggleable {background-color: white;}#sk-container-id-3 label.sk-toggleable__label {cursor: pointer;display: block;width: 100%;margin-bottom: 0;padding: 0.3em;box-sizing: border-box;text-align: center;}#sk-container-id-3 label.sk-toggleable__label-arrow:before {content: \"▸\";float: left;margin-right: 0.25em;color: #696969;}#sk-container-id-3 label.sk-toggleable__label-arrow:hover:before {color: black;}#sk-container-id-3 div.sk-estimator:hover label.sk-toggleable__label-arrow:before {color: black;}#sk-container-id-3 div.sk-toggleable__content {max-height: 0;max-width: 0;overflow: hidden;text-align: left;background-color: #f0f8ff;}#sk-container-id-3 div.sk-toggleable__content pre {margin: 0.2em;color: black;border-radius: 0.25em;background-color: #f0f8ff;}#sk-container-id-3 input.sk-toggleable__control:checked~div.sk-toggleable__content {max-height: 200px;max-width: 100%;overflow: auto;}#sk-container-id-3 input.sk-toggleable__control:checked~label.sk-toggleable__label-arrow:before {content: \"▾\";}#sk-container-id-3 div.sk-estimator input.sk-toggleable__control:checked~label.sk-toggleable__label {background-color: #d4ebff;}#sk-container-id-3 div.sk-label input.sk-toggleable__control:checked~label.sk-toggleable__label {background-color: #d4ebff;}#sk-container-id-3 input.sk-hidden--visually {border: 0;clip: rect(1px 1px 1px 1px);clip: rect(1px, 1px, 1px, 1px);height: 1px;margin: -1px;overflow: hidden;padding: 0;position: absolute;width: 1px;}#sk-container-id-3 div.sk-estimator {font-family: monospace;background-color: #f0f8ff;border: 1px dotted black;border-radius: 0.25em;box-sizing: border-box;margin-bottom: 0.5em;}#sk-container-id-3 div.sk-estimator:hover {background-color: #d4ebff;}#sk-container-id-3 div.sk-parallel-item::after {content: \"\";width: 100%;border-bottom: 1px solid gray;flex-grow: 1;}#sk-container-id-3 div.sk-label:hover label.sk-toggleable__label {background-color: #d4ebff;}#sk-container-id-3 div.sk-serial::before {content: \"\";position: absolute;border-left: 1px solid gray;box-sizing: border-box;top: 0;bottom: 0;left: 50%;z-index: 0;}#sk-container-id-3 div.sk-serial {display: flex;flex-direction: column;align-items: center;background-color: white;padding-right: 0.2em;padding-left: 0.2em;position: relative;}#sk-container-id-3 div.sk-item {position: relative;z-index: 1;}#sk-container-id-3 div.sk-parallel {display: flex;align-items: stretch;justify-content: center;background-color: white;position: relative;}#sk-container-id-3 div.sk-item::before, #sk-container-id-3 div.sk-parallel-item::before {content: \"\";position: absolute;border-left: 1px solid gray;box-sizing: border-box;top: 0;bottom: 0;left: 50%;z-index: -1;}#sk-container-id-3 div.sk-parallel-item {display: flex;flex-direction: column;z-index: 1;position: relative;background-color: white;}#sk-container-id-3 div.sk-parallel-item:first-child::after {align-self: flex-end;width: 50%;}#sk-container-id-3 div.sk-parallel-item:last-child::after {align-self: flex-start;width: 50%;}#sk-container-id-3 div.sk-parallel-item:only-child::after {width: 0;}#sk-container-id-3 div.sk-dashed-wrapped {border: 1px dashed gray;margin: 0 0.4em 0.5em 0.4em;box-sizing: border-box;padding-bottom: 0.4em;background-color: white;}#sk-container-id-3 div.sk-label label {font-family: monospace;font-weight: bold;display: inline-block;line-height: 1.2em;}#sk-container-id-3 div.sk-label-container {text-align: center;}#sk-container-id-3 div.sk-container {/* jupyter's `normalize.less` sets `[hidden] { display: none; }` but bootstrap.min.css set `[hidden] { display: none !important; }` so we also need the `!important` here to be able to override the default hidden behavior on the sphinx rendered scikit-learn.org. See: https://github.com/scikit-learn/scikit-learn/issues/21755 */display: inline-block !important;position: relative;}#sk-container-id-3 div.sk-text-repr-fallback {display: none;}</style><div id=\"sk-container-id-3\" class=\"sk-top-container\"><div class=\"sk-text-repr-fallback\"><pre>RandomForestClassifier(max_depth=17, n_estimators=1000, n_jobs=-1,\n",
       "                       random_state=2020)</pre><b>In a Jupyter environment, please rerun this cell to show the HTML representation or trust the notebook. <br />On GitHub, the HTML representation is unable to render, please try loading this page with nbviewer.org.</b></div><div class=\"sk-container\" hidden><div class=\"sk-item\"><div class=\"sk-estimator sk-toggleable\"><input class=\"sk-toggleable__control sk-hidden--visually\" id=\"sk-estimator-id-5\" type=\"checkbox\" checked><label for=\"sk-estimator-id-5\" class=\"sk-toggleable__label sk-toggleable__label-arrow\">RandomForestClassifier</label><div class=\"sk-toggleable__content\"><pre>RandomForestClassifier(max_depth=17, n_estimators=1000, n_jobs=-1,\n",
       "                       random_state=2020)</pre></div></div></div></div></div>"
      ],
      "text/plain": [
       "RandomForestClassifier(max_depth=17, n_estimators=1000, n_jobs=-1,\n",
       "                       random_state=2020)"
      ]
     },
     "execution_count": 201,
     "metadata": {},
     "output_type": "execute_result"
    }
   ],
   "source": [
    "rf = RandomForestClassifier(\n",
    "    n_estimators=1000, max_depth=17, random_state=2020, n_jobs=-1)\n",
    "rf.fit(X_train, y_train)"
   ]
  },
  {
   "cell_type": "code",
   "execution_count": 202,
   "metadata": {},
   "outputs": [
    {
     "data": {
      "text/plain": [
       "0.8059701492537313"
      ]
     },
     "execution_count": 202,
     "metadata": {},
     "output_type": "execute_result"
    }
   ],
   "source": [
    "y_val_pred_rf = rf.predict(X_val)\n",
    "accuracy_score(y_val, y_val_pred_rf)"
   ]
  },
  {
   "cell_type": "code",
   "execution_count": 203,
   "metadata": {},
   "outputs": [
    {
     "data": {
      "text/plain": [
       "0.8170673529596384"
      ]
     },
     "execution_count": 203,
     "metadata": {},
     "output_type": "execute_result"
    }
   ],
   "source": [
    "cross_val_score(rf, train_df_all, y).mean()"
   ]
  },
  {
   "cell_type": "code",
   "execution_count": 204,
   "metadata": {},
   "outputs": [],
   "source": [
    "y_pred_rf = rf.predict(test_df_all)"
   ]
  },
  {
   "cell_type": "code",
   "execution_count": 205,
   "metadata": {},
   "outputs": [],
   "source": [
    "submission_rf = pd.DataFrame({\n",
    "    'PassengerId': test_df.PassengerId,\n",
    "    'Survived': y_pred_rf\n",
    "})\n",
    "submission_rf.Survived = submission_rf.Survived.astype(int)\n",
    "submission_rf.to_csv(\"submission_rf.csv\", index=False)"
   ]
  },
  {
   "cell_type": "markdown",
   "metadata": {},
   "source": [
    "**Результат посылки** \n",
    "\n",
    "**0.77033**"
   ]
  },
  {
   "cell_type": "markdown",
   "metadata": {},
   "source": [
    "Настройка параметров `RandomForestClassifier` с **hyperopt**, потому что `GridSearchCV` слишком долго обрабатывал. "
   ]
  },
  {
   "cell_type": "code",
   "execution_count": 206,
   "metadata": {},
   "outputs": [],
   "source": [
    "my_scorer = make_scorer(accuracy_score)"
   ]
  },
  {
   "cell_type": "code",
   "execution_count": 207,
   "metadata": {},
   "outputs": [],
   "source": [
    "def hyperopt_forest_score(params):\n",
    "    clf = RandomForestClassifier(**params, n_jobs=-1)\n",
    "    current_score = cross_val_score(\n",
    "        clf, train_df_all, y, scoring=my_scorer).mean()\n",
    "    print(current_score, params)\n",
    "    return -current_score\n",
    "\n",
    "\n",
    "space_forest = {\n",
    "    'max_depth': hp.choice('max_depth', range(5, 20)),\n",
    "    'n_estimators': hp.choice('n_estimators', range(500, 1500)),\n",
    "    'criterion': hp.choice('criterion', [\"gini\", \"entropy\"])\n",
    "}"
   ]
  },
  {
   "cell_type": "code",
   "execution_count": 208,
   "metadata": {},
   "outputs": [
    {
     "name": "stdout",
     "output_type": "stream",
     "text": [
      "0.8125729709371665 {'criterion': 'entropy', 'max_depth': 19, 'n_estimators': 1202}\n",
      "0.8103320569957944 {'criterion': 'gini', 'max_depth': 19, 'n_estimators': 792}\n",
      "0.824913690289373 {'criterion': 'gini', 'max_depth': 13, 'n_estimators': 726}\n",
      "0.822666499278137 {'criterion': 'gini', 'max_depth': 14, 'n_estimators': 545}\n",
      "0.8170610758897746 {'criterion': 'entropy', 'max_depth': 16, 'n_estimators': 994}\n",
      "0.8383717280773336 {'criterion': 'gini', 'max_depth': 8, 'n_estimators': 1263}\n",
      "0.838390559286925 {'criterion': 'entropy', 'max_depth': 11, 'n_estimators': 884}\n",
      "0.8260372857949909 {'criterion': 'entropy', 'max_depth': 13, 'n_estimators': 858}\n",
      "0.8372481325717155 {'criterion': 'entropy', 'max_depth': 11, 'n_estimators': 717}\n",
      "0.8316364321134895 {'criterion': 'entropy', 'max_depth': 8, 'n_estimators': 776}\n",
      "0.8148264390182662 {'criterion': 'entropy', 'max_depth': 17, 'n_estimators': 1189}\n",
      "0.824913690289373 {'criterion': 'gini', 'max_depth': 14, 'n_estimators': 911}\n",
      "0.8170736300295023 {'criterion': 'entropy', 'max_depth': 15, 'n_estimators': 612}\n",
      "0.8159437574540205 {'criterion': 'gini', 'max_depth': 15, 'n_estimators': 708}\n",
      "0.8125855250768941 {'criterion': 'entropy', 'max_depth': 19, 'n_estimators': 557}\n",
      "0.8428598330299415 {'criterion': 'entropy', 'max_depth': 9, 'n_estimators': 1004}\n",
      "0.8148201619484023 {'criterion': 'entropy', 'max_depth': 19, 'n_estimators': 1294}\n",
      "0.8361308141359614 {'criterion': 'gini', 'max_depth': 11, 'n_estimators': 1311}\n",
      "0.8316364321134893 {'criterion': 'gini', 'max_depth': 7, 'n_estimators': 1306}\n",
      "0.8316364321134895 {'criterion': 'gini', 'max_depth': 5, 'n_estimators': 809}\n",
      "best: {'criterion': 1, 'max_depth': 4, 'n_estimators': 504}\n"
     ]
    }
   ],
   "source": [
    "best = fmin(\n",
    "    fn=hyperopt_forest_score,\n",
    "    space=space_forest,\n",
    "    algo=tpe.suggest,\n",
    "    max_evals=20,\n",
    "    verbose=0)\n",
    "print('best:', best)"
   ]
  },
  {
   "cell_type": "code",
   "execution_count": 209,
   "metadata": {},
   "outputs": [
    {
     "data": {
      "text/html": [
       "<style>#sk-container-id-4 {color: black;background-color: white;}#sk-container-id-4 pre{padding: 0;}#sk-container-id-4 div.sk-toggleable {background-color: white;}#sk-container-id-4 label.sk-toggleable__label {cursor: pointer;display: block;width: 100%;margin-bottom: 0;padding: 0.3em;box-sizing: border-box;text-align: center;}#sk-container-id-4 label.sk-toggleable__label-arrow:before {content: \"▸\";float: left;margin-right: 0.25em;color: #696969;}#sk-container-id-4 label.sk-toggleable__label-arrow:hover:before {color: black;}#sk-container-id-4 div.sk-estimator:hover label.sk-toggleable__label-arrow:before {color: black;}#sk-container-id-4 div.sk-toggleable__content {max-height: 0;max-width: 0;overflow: hidden;text-align: left;background-color: #f0f8ff;}#sk-container-id-4 div.sk-toggleable__content pre {margin: 0.2em;color: black;border-radius: 0.25em;background-color: #f0f8ff;}#sk-container-id-4 input.sk-toggleable__control:checked~div.sk-toggleable__content {max-height: 200px;max-width: 100%;overflow: auto;}#sk-container-id-4 input.sk-toggleable__control:checked~label.sk-toggleable__label-arrow:before {content: \"▾\";}#sk-container-id-4 div.sk-estimator input.sk-toggleable__control:checked~label.sk-toggleable__label {background-color: #d4ebff;}#sk-container-id-4 div.sk-label input.sk-toggleable__control:checked~label.sk-toggleable__label {background-color: #d4ebff;}#sk-container-id-4 input.sk-hidden--visually {border: 0;clip: rect(1px 1px 1px 1px);clip: rect(1px, 1px, 1px, 1px);height: 1px;margin: -1px;overflow: hidden;padding: 0;position: absolute;width: 1px;}#sk-container-id-4 div.sk-estimator {font-family: monospace;background-color: #f0f8ff;border: 1px dotted black;border-radius: 0.25em;box-sizing: border-box;margin-bottom: 0.5em;}#sk-container-id-4 div.sk-estimator:hover {background-color: #d4ebff;}#sk-container-id-4 div.sk-parallel-item::after {content: \"\";width: 100%;border-bottom: 1px solid gray;flex-grow: 1;}#sk-container-id-4 div.sk-label:hover label.sk-toggleable__label {background-color: #d4ebff;}#sk-container-id-4 div.sk-serial::before {content: \"\";position: absolute;border-left: 1px solid gray;box-sizing: border-box;top: 0;bottom: 0;left: 50%;z-index: 0;}#sk-container-id-4 div.sk-serial {display: flex;flex-direction: column;align-items: center;background-color: white;padding-right: 0.2em;padding-left: 0.2em;position: relative;}#sk-container-id-4 div.sk-item {position: relative;z-index: 1;}#sk-container-id-4 div.sk-parallel {display: flex;align-items: stretch;justify-content: center;background-color: white;position: relative;}#sk-container-id-4 div.sk-item::before, #sk-container-id-4 div.sk-parallel-item::before {content: \"\";position: absolute;border-left: 1px solid gray;box-sizing: border-box;top: 0;bottom: 0;left: 50%;z-index: -1;}#sk-container-id-4 div.sk-parallel-item {display: flex;flex-direction: column;z-index: 1;position: relative;background-color: white;}#sk-container-id-4 div.sk-parallel-item:first-child::after {align-self: flex-end;width: 50%;}#sk-container-id-4 div.sk-parallel-item:last-child::after {align-self: flex-start;width: 50%;}#sk-container-id-4 div.sk-parallel-item:only-child::after {width: 0;}#sk-container-id-4 div.sk-dashed-wrapped {border: 1px dashed gray;margin: 0 0.4em 0.5em 0.4em;box-sizing: border-box;padding-bottom: 0.4em;background-color: white;}#sk-container-id-4 div.sk-label label {font-family: monospace;font-weight: bold;display: inline-block;line-height: 1.2em;}#sk-container-id-4 div.sk-label-container {text-align: center;}#sk-container-id-4 div.sk-container {/* jupyter's `normalize.less` sets `[hidden] { display: none; }` but bootstrap.min.css set `[hidden] { display: none !important; }` so we also need the `!important` here to be able to override the default hidden behavior on the sphinx rendered scikit-learn.org. See: https://github.com/scikit-learn/scikit-learn/issues/21755 */display: inline-block !important;position: relative;}#sk-container-id-4 div.sk-text-repr-fallback {display: none;}</style><div id=\"sk-container-id-4\" class=\"sk-top-container\"><div class=\"sk-text-repr-fallback\"><pre>RandomForestClassifier(max_depth=4, n_estimators=193, n_jobs=-1,\n",
       "                       random_state=42)</pre><b>In a Jupyter environment, please rerun this cell to show the HTML representation or trust the notebook. <br />On GitHub, the HTML representation is unable to render, please try loading this page with nbviewer.org.</b></div><div class=\"sk-container\" hidden><div class=\"sk-item\"><div class=\"sk-estimator sk-toggleable\"><input class=\"sk-toggleable__control sk-hidden--visually\" id=\"sk-estimator-id-6\" type=\"checkbox\" checked><label for=\"sk-estimator-id-6\" class=\"sk-toggleable__label sk-toggleable__label-arrow\">RandomForestClassifier</label><div class=\"sk-toggleable__content\"><pre>RandomForestClassifier(max_depth=4, n_estimators=193, n_jobs=-1,\n",
       "                       random_state=42)</pre></div></div></div></div></div>"
      ],
      "text/plain": [
       "RandomForestClassifier(max_depth=4, n_estimators=193, n_jobs=-1,\n",
       "                       random_state=42)"
      ]
     },
     "execution_count": 209,
     "metadata": {},
     "output_type": "execute_result"
    }
   ],
   "source": [
    "# Модель RandomForest после подбора параметров\n",
    "forest_tuned = RandomForestClassifier(\n",
    "    n_estimators=193,\n",
    "    max_depth=4,\n",
    "    random_state=42,\n",
    "    n_jobs=-1,\n",
    "    criterion=\"gini\")\n",
    "forest_tuned.fit(X_train, y_train)"
   ]
  },
  {
   "cell_type": "code",
   "execution_count": 210,
   "metadata": {},
   "outputs": [
    {
     "data": {
      "text/plain": [
       "0.8022388059701493"
      ]
     },
     "execution_count": 210,
     "metadata": {},
     "output_type": "execute_result"
    }
   ],
   "source": [
    "y_val_pred_rftuned = forest_tuned.predict(X_val)\n",
    "accuracy_score(y_val, y_val_pred_rftuned)"
   ]
  },
  {
   "cell_type": "code",
   "execution_count": 211,
   "metadata": {},
   "outputs": [
    {
     "data": {
      "text/plain": [
       "0.8271420500910175"
      ]
     },
     "execution_count": 211,
     "metadata": {},
     "output_type": "execute_result"
    }
   ],
   "source": [
    "cross_val_score(forest_tuned, train_df_all, y).mean()"
   ]
  },
  {
   "cell_type": "code",
   "execution_count": 212,
   "metadata": {},
   "outputs": [],
   "source": [
    "y_pred_rf_tuned = forest_tuned.predict(test_df_all)"
   ]
  },
  {
   "cell_type": "code",
   "execution_count": 213,
   "metadata": {},
   "outputs": [],
   "source": [
    "submission_rf_tuned = pd.DataFrame({\n",
    "    'PassengerId': test_df.PassengerId,\n",
    "    'Survived': y_pred_rf_tuned\n",
    "})\n",
    "submission_rf_tuned.Survived = submission_rf_tuned.Survived.astype(int)\n",
    "submission_rf_tuned.to_csv(\"submission_rf_tuned.csv\", index=False)"
   ]
  },
  {
   "cell_type": "markdown",
   "metadata": {},
   "source": [
    "**Результат посылки после подбора параметров**\n",
    "\n",
    "**0.79425**"
   ]
  },
  {
   "cell_type": "markdown",
   "metadata": {},
   "source": [
    "### SVC"
   ]
  },
  {
   "cell_type": "code",
   "execution_count": 214,
   "metadata": {},
   "outputs": [],
   "source": [
    "skf = StratifiedKFold(n_splits=5, shuffle=True, random_state=5)"
   ]
  },
  {
   "cell_type": "code",
   "execution_count": 215,
   "metadata": {},
   "outputs": [
    {
     "data": {
      "text/plain": [
       "0.8305630531667818"
      ]
     },
     "execution_count": 215,
     "metadata": {},
     "output_type": "execute_result"
    }
   ],
   "source": [
    "svm_rbf = SVC(kernel='rbf', class_weight='balanced').fit(train_df_all, y)\n",
    "\n",
    "cross_val_score(svm_rbf, train_df_all, y, cv=skf).mean()"
   ]
  },
  {
   "cell_type": "code",
   "execution_count": 216,
   "metadata": {},
   "outputs": [],
   "source": [
    "y_pred_svm = svm_rbf.predict(test_df_all)"
   ]
  },
  {
   "cell_type": "code",
   "execution_count": 217,
   "metadata": {},
   "outputs": [],
   "source": [
    "submission_svm = pd.DataFrame({'PassengerId': test_df.PassengerId,\n",
    "                           'Survived': y_pred_svm})\n",
    "submission_svm.Survived = submission_svm.Survived.astype(int)\n",
    "submission_svm.to_csv(\"submission_svm.csv\", index=False)"
   ]
  },
  {
   "cell_type": "markdown",
   "metadata": {},
   "source": [
    "**Результат посылки**\n",
    "\n",
    "**0.77511**"
   ]
  },
  {
   "cell_type": "code",
   "execution_count": 218,
   "metadata": {},
   "outputs": [
    {
     "name": "stdout",
     "output_type": "stream",
     "text": [
      "Fitting 5 folds for each of 80 candidates, totalling 400 fits\n"
     ]
    },
    {
     "data": {
      "text/html": [
       "<style>#sk-container-id-5 {color: black;background-color: white;}#sk-container-id-5 pre{padding: 0;}#sk-container-id-5 div.sk-toggleable {background-color: white;}#sk-container-id-5 label.sk-toggleable__label {cursor: pointer;display: block;width: 100%;margin-bottom: 0;padding: 0.3em;box-sizing: border-box;text-align: center;}#sk-container-id-5 label.sk-toggleable__label-arrow:before {content: \"▸\";float: left;margin-right: 0.25em;color: #696969;}#sk-container-id-5 label.sk-toggleable__label-arrow:hover:before {color: black;}#sk-container-id-5 div.sk-estimator:hover label.sk-toggleable__label-arrow:before {color: black;}#sk-container-id-5 div.sk-toggleable__content {max-height: 0;max-width: 0;overflow: hidden;text-align: left;background-color: #f0f8ff;}#sk-container-id-5 div.sk-toggleable__content pre {margin: 0.2em;color: black;border-radius: 0.25em;background-color: #f0f8ff;}#sk-container-id-5 input.sk-toggleable__control:checked~div.sk-toggleable__content {max-height: 200px;max-width: 100%;overflow: auto;}#sk-container-id-5 input.sk-toggleable__control:checked~label.sk-toggleable__label-arrow:before {content: \"▾\";}#sk-container-id-5 div.sk-estimator input.sk-toggleable__control:checked~label.sk-toggleable__label {background-color: #d4ebff;}#sk-container-id-5 div.sk-label input.sk-toggleable__control:checked~label.sk-toggleable__label {background-color: #d4ebff;}#sk-container-id-5 input.sk-hidden--visually {border: 0;clip: rect(1px 1px 1px 1px);clip: rect(1px, 1px, 1px, 1px);height: 1px;margin: -1px;overflow: hidden;padding: 0;position: absolute;width: 1px;}#sk-container-id-5 div.sk-estimator {font-family: monospace;background-color: #f0f8ff;border: 1px dotted black;border-radius: 0.25em;box-sizing: border-box;margin-bottom: 0.5em;}#sk-container-id-5 div.sk-estimator:hover {background-color: #d4ebff;}#sk-container-id-5 div.sk-parallel-item::after {content: \"\";width: 100%;border-bottom: 1px solid gray;flex-grow: 1;}#sk-container-id-5 div.sk-label:hover label.sk-toggleable__label {background-color: #d4ebff;}#sk-container-id-5 div.sk-serial::before {content: \"\";position: absolute;border-left: 1px solid gray;box-sizing: border-box;top: 0;bottom: 0;left: 50%;z-index: 0;}#sk-container-id-5 div.sk-serial {display: flex;flex-direction: column;align-items: center;background-color: white;padding-right: 0.2em;padding-left: 0.2em;position: relative;}#sk-container-id-5 div.sk-item {position: relative;z-index: 1;}#sk-container-id-5 div.sk-parallel {display: flex;align-items: stretch;justify-content: center;background-color: white;position: relative;}#sk-container-id-5 div.sk-item::before, #sk-container-id-5 div.sk-parallel-item::before {content: \"\";position: absolute;border-left: 1px solid gray;box-sizing: border-box;top: 0;bottom: 0;left: 50%;z-index: -1;}#sk-container-id-5 div.sk-parallel-item {display: flex;flex-direction: column;z-index: 1;position: relative;background-color: white;}#sk-container-id-5 div.sk-parallel-item:first-child::after {align-self: flex-end;width: 50%;}#sk-container-id-5 div.sk-parallel-item:last-child::after {align-self: flex-start;width: 50%;}#sk-container-id-5 div.sk-parallel-item:only-child::after {width: 0;}#sk-container-id-5 div.sk-dashed-wrapped {border: 1px dashed gray;margin: 0 0.4em 0.5em 0.4em;box-sizing: border-box;padding-bottom: 0.4em;background-color: white;}#sk-container-id-5 div.sk-label label {font-family: monospace;font-weight: bold;display: inline-block;line-height: 1.2em;}#sk-container-id-5 div.sk-label-container {text-align: center;}#sk-container-id-5 div.sk-container {/* jupyter's `normalize.less` sets `[hidden] { display: none; }` but bootstrap.min.css set `[hidden] { display: none !important; }` so we also need the `!important` here to be able to override the default hidden behavior on the sphinx rendered scikit-learn.org. See: https://github.com/scikit-learn/scikit-learn/issues/21755 */display: inline-block !important;position: relative;}#sk-container-id-5 div.sk-text-repr-fallback {display: none;}</style><div id=\"sk-container-id-5\" class=\"sk-top-container\"><div class=\"sk-text-repr-fallback\"><pre>GridSearchCV(estimator=SVC(class_weight=&#x27;balanced&#x27;), n_jobs=-1,\n",
       "             param_grid={&#x27;C&#x27;: [1.0, 1.1, 1.2, 1.3, 1.4, 1.5, 1.6, 1.7, 1.8, 1.9,\n",
       "                               2.0, 2.1, 2.2, 2.3, 2.4, 2.5, 2.6, 2.7, 2.8,\n",
       "                               2.9],\n",
       "                         &#x27;decision_function_shape&#x27;: [&#x27;ovr&#x27;, &#x27;ovo&#x27;],\n",
       "                         &#x27;gamma&#x27;: [&#x27;scale&#x27;, &#x27;auto&#x27;]},\n",
       "             verbose=True)</pre><b>In a Jupyter environment, please rerun this cell to show the HTML representation or trust the notebook. <br />On GitHub, the HTML representation is unable to render, please try loading this page with nbviewer.org.</b></div><div class=\"sk-container\" hidden><div class=\"sk-item sk-dashed-wrapped\"><div class=\"sk-label-container\"><div class=\"sk-label sk-toggleable\"><input class=\"sk-toggleable__control sk-hidden--visually\" id=\"sk-estimator-id-7\" type=\"checkbox\" ><label for=\"sk-estimator-id-7\" class=\"sk-toggleable__label sk-toggleable__label-arrow\">GridSearchCV</label><div class=\"sk-toggleable__content\"><pre>GridSearchCV(estimator=SVC(class_weight=&#x27;balanced&#x27;), n_jobs=-1,\n",
       "             param_grid={&#x27;C&#x27;: [1.0, 1.1, 1.2, 1.3, 1.4, 1.5, 1.6, 1.7, 1.8, 1.9,\n",
       "                               2.0, 2.1, 2.2, 2.3, 2.4, 2.5, 2.6, 2.7, 2.8,\n",
       "                               2.9],\n",
       "                         &#x27;decision_function_shape&#x27;: [&#x27;ovr&#x27;, &#x27;ovo&#x27;],\n",
       "                         &#x27;gamma&#x27;: [&#x27;scale&#x27;, &#x27;auto&#x27;]},\n",
       "             verbose=True)</pre></div></div></div><div class=\"sk-parallel\"><div class=\"sk-parallel-item\"><div class=\"sk-item\"><div class=\"sk-label-container\"><div class=\"sk-label sk-toggleable\"><input class=\"sk-toggleable__control sk-hidden--visually\" id=\"sk-estimator-id-8\" type=\"checkbox\" ><label for=\"sk-estimator-id-8\" class=\"sk-toggleable__label sk-toggleable__label-arrow\">estimator: SVC</label><div class=\"sk-toggleable__content\"><pre>SVC(class_weight=&#x27;balanced&#x27;)</pre></div></div></div><div class=\"sk-serial\"><div class=\"sk-item\"><div class=\"sk-estimator sk-toggleable\"><input class=\"sk-toggleable__control sk-hidden--visually\" id=\"sk-estimator-id-9\" type=\"checkbox\" ><label for=\"sk-estimator-id-9\" class=\"sk-toggleable__label sk-toggleable__label-arrow\">SVC</label><div class=\"sk-toggleable__content\"><pre>SVC(class_weight=&#x27;balanced&#x27;)</pre></div></div></div></div></div></div></div></div></div></div>"
      ],
      "text/plain": [
       "GridSearchCV(estimator=SVC(class_weight='balanced'), n_jobs=-1,\n",
       "             param_grid={'C': [1.0, 1.1, 1.2, 1.3, 1.4, 1.5, 1.6, 1.7, 1.8, 1.9,\n",
       "                               2.0, 2.1, 2.2, 2.3, 2.4, 2.5, 2.6, 2.7, 2.8,\n",
       "                               2.9],\n",
       "                         'decision_function_shape': ['ovr', 'ovo'],\n",
       "                         'gamma': ['scale', 'auto']},\n",
       "             verbose=True)"
      ]
     },
     "execution_count": 218,
     "metadata": {},
     "output_type": "execute_result"
    },
    {
     "data": {
      "text/plain": [
       "{'C': 2.5, 'decision_function_shape': 'ovr', 'gamma': 'auto'}"
      ]
     },
     "execution_count": 218,
     "metadata": {},
     "output_type": "execute_result"
    },
    {
     "data": {
      "text/plain": [
       "0.8458580645161291"
      ]
     },
     "execution_count": 218,
     "metadata": {},
     "output_type": "execute_result"
    }
   ],
   "source": [
    "svc_params = {\n",
    "    'C': [x / 10.0 for x in range(10, 30, 1)],\n",
    "    'gamma': ['scale', 'auto'],\n",
    "    'decision_function_shape': ['ovr', 'ovo']\n",
    "}\n",
    "\n",
    "svc_grid = GridSearchCV(svm_rbf, svc_params, n_jobs=-1, verbose=True)\n",
    "svc_grid.fit(X_train, y_train)\n",
    "\n",
    "svc_grid.best_params_\n",
    "svc_grid.best_score_"
   ]
  },
  {
   "cell_type": "code",
   "execution_count": 219,
   "metadata": {},
   "outputs": [
    {
     "name": "stdout",
     "output_type": "stream",
     "text": [
      "Fitting 5 folds for each of 80 candidates, totalling 400 fits\n",
      "Fitting 5 folds for each of 80 candidates, totalling 400 fits\n",
      "Fitting 5 folds for each of 80 candidates, totalling 400 fits\n",
      "Fitting 5 folds for each of 80 candidates, totalling 400 fits\n",
      "Fitting 5 folds for each of 80 candidates, totalling 400 fits\n"
     ]
    },
    {
     "data": {
      "text/plain": [
       "0.8305567760969179"
      ]
     },
     "execution_count": 219,
     "metadata": {},
     "output_type": "execute_result"
    }
   ],
   "source": [
    "cross_val_score(svc_grid, train_df_all, y, cv=skf).mean()"
   ]
  },
  {
   "cell_type": "code",
   "execution_count": 220,
   "metadata": {},
   "outputs": [],
   "source": [
    "y_pred_svc_grid = svc_grid.predict(test_df_all)"
   ]
  },
  {
   "cell_type": "code",
   "execution_count": 221,
   "metadata": {},
   "outputs": [],
   "source": [
    "submission_svc_grid = pd.DataFrame({\n",
    "    'PassengerId': test_df.PassengerId,\n",
    "    'Survived': y_pred_svc_grid\n",
    "})\n",
    "submission_svc_grid.Survived = submission_svc_grid.Survived.astype(int)\n",
    "submission_svc_grid.to_csv(\"submission_svc_grid.csv\", index=False)"
   ]
  },
  {
   "cell_type": "markdown",
   "metadata": {},
   "source": [
    "**Результат посылки после подбора параметров**\n",
    "\n",
    "**0.78947**"
   ]
  },
  {
   "cell_type": "markdown",
   "metadata": {},
   "source": [
    "### CatBoostClassifier"
   ]
  },
  {
   "cell_type": "code",
   "execution_count": 222,
   "metadata": {},
   "outputs": [
    {
     "name": "stdout",
     "output_type": "stream",
     "text": [
      "Learning rate set to 0.008417\n",
      "0:\tlearn: 0.6879150\ttotal: 164ms\tremaining: 2m 43s\n",
      "1:\tlearn: 0.6825915\ttotal: 170ms\tremaining: 1m 24s\n",
      "2:\tlearn: 0.6766021\ttotal: 175ms\tremaining: 58s\n",
      "3:\tlearn: 0.6711912\ttotal: 178ms\tremaining: 44.2s\n",
      "4:\tlearn: 0.6652235\ttotal: 181ms\tremaining: 36s\n",
      "5:\tlearn: 0.6594110\ttotal: 183ms\tremaining: 30.4s\n",
      "6:\tlearn: 0.6535921\ttotal: 186ms\tremaining: 26.3s\n",
      "7:\tlearn: 0.6475160\ttotal: 188ms\tremaining: 23.3s\n",
      "8:\tlearn: 0.6415181\ttotal: 190ms\tremaining: 20.9s\n",
      "9:\tlearn: 0.6364768\ttotal: 192ms\tremaining: 19s\n",
      "10:\tlearn: 0.6306216\ttotal: 194ms\tremaining: 17.4s\n",
      "11:\tlearn: 0.6260941\ttotal: 196ms\tremaining: 16.1s\n",
      "12:\tlearn: 0.6206575\ttotal: 197ms\tremaining: 15s\n",
      "13:\tlearn: 0.6161183\ttotal: 199ms\tremaining: 14s\n",
      "14:\tlearn: 0.6119856\ttotal: 200ms\tremaining: 13.1s\n",
      "15:\tlearn: 0.6067553\ttotal: 201ms\tremaining: 12.4s\n",
      "16:\tlearn: 0.6019559\ttotal: 202ms\tremaining: 11.7s\n",
      "17:\tlearn: 0.5974161\ttotal: 204ms\tremaining: 11.1s\n",
      "18:\tlearn: 0.5926269\ttotal: 205ms\tremaining: 10.6s\n",
      "19:\tlearn: 0.5881470\ttotal: 206ms\tremaining: 10.1s\n",
      "20:\tlearn: 0.5836782\ttotal: 207ms\tremaining: 9.67s\n",
      "21:\tlearn: 0.5791308\ttotal: 209ms\tremaining: 9.27s\n",
      "22:\tlearn: 0.5750042\ttotal: 210ms\tremaining: 8.91s\n",
      "23:\tlearn: 0.5715007\ttotal: 211ms\tremaining: 8.58s\n",
      "24:\tlearn: 0.5683388\ttotal: 212ms\tremaining: 8.28s\n",
      "25:\tlearn: 0.5638839\ttotal: 213ms\tremaining: 8s\n",
      "26:\tlearn: 0.5602002\ttotal: 215ms\tremaining: 7.74s\n",
      "27:\tlearn: 0.5560096\ttotal: 216ms\tremaining: 7.49s\n",
      "28:\tlearn: 0.5526693\ttotal: 217ms\tremaining: 7.27s\n",
      "29:\tlearn: 0.5490003\ttotal: 218ms\tremaining: 7.06s\n",
      "30:\tlearn: 0.5463415\ttotal: 219ms\tremaining: 6.85s\n",
      "31:\tlearn: 0.5430009\ttotal: 220ms\tremaining: 6.67s\n",
      "32:\tlearn: 0.5401106\ttotal: 222ms\tremaining: 6.49s\n",
      "33:\tlearn: 0.5371623\ttotal: 223ms\tremaining: 6.33s\n",
      "34:\tlearn: 0.5333450\ttotal: 224ms\tremaining: 6.18s\n",
      "35:\tlearn: 0.5301153\ttotal: 225ms\tremaining: 6.03s\n",
      "36:\tlearn: 0.5264701\ttotal: 226ms\tremaining: 5.89s\n",
      "37:\tlearn: 0.5233911\ttotal: 228ms\tremaining: 5.76s\n",
      "38:\tlearn: 0.5200977\ttotal: 229ms\tremaining: 5.64s\n",
      "39:\tlearn: 0.5185279\ttotal: 230ms\tremaining: 5.51s\n",
      "40:\tlearn: 0.5159065\ttotal: 231ms\tremaining: 5.4s\n",
      "41:\tlearn: 0.5129019\ttotal: 232ms\tremaining: 5.29s\n",
      "42:\tlearn: 0.5104377\ttotal: 233ms\tremaining: 5.18s\n",
      "43:\tlearn: 0.5074841\ttotal: 234ms\tremaining: 5.08s\n",
      "44:\tlearn: 0.5044716\ttotal: 235ms\tremaining: 4.99s\n",
      "45:\tlearn: 0.5019202\ttotal: 236ms\tremaining: 4.89s\n",
      "46:\tlearn: 0.4994886\ttotal: 237ms\tremaining: 4.81s\n",
      "47:\tlearn: 0.4965731\ttotal: 238ms\tremaining: 4.73s\n",
      "48:\tlearn: 0.4943536\ttotal: 240ms\tremaining: 4.65s\n",
      "49:\tlearn: 0.4916924\ttotal: 241ms\tremaining: 4.57s\n",
      "50:\tlearn: 0.4891179\ttotal: 242ms\tremaining: 4.5s\n",
      "51:\tlearn: 0.4873898\ttotal: 243ms\tremaining: 4.43s\n",
      "52:\tlearn: 0.4852667\ttotal: 244ms\tremaining: 4.36s\n",
      "53:\tlearn: 0.4827418\ttotal: 246ms\tremaining: 4.3s\n",
      "54:\tlearn: 0.4808851\ttotal: 247ms\tremaining: 4.24s\n",
      "55:\tlearn: 0.4788664\ttotal: 248ms\tremaining: 4.18s\n",
      "56:\tlearn: 0.4765239\ttotal: 249ms\tremaining: 4.12s\n",
      "57:\tlearn: 0.4741036\ttotal: 250ms\tremaining: 4.06s\n",
      "58:\tlearn: 0.4718337\ttotal: 251ms\tremaining: 4.01s\n",
      "59:\tlearn: 0.4691582\ttotal: 253ms\tremaining: 3.96s\n",
      "60:\tlearn: 0.4672156\ttotal: 254ms\tremaining: 3.9s\n",
      "61:\tlearn: 0.4650020\ttotal: 255ms\tremaining: 3.85s\n",
      "62:\tlearn: 0.4632750\ttotal: 256ms\tremaining: 3.81s\n",
      "63:\tlearn: 0.4615783\ttotal: 257ms\tremaining: 3.76s\n",
      "64:\tlearn: 0.4594997\ttotal: 258ms\tremaining: 3.71s\n",
      "65:\tlearn: 0.4575983\ttotal: 259ms\tremaining: 3.67s\n",
      "66:\tlearn: 0.4560139\ttotal: 261ms\tremaining: 3.63s\n",
      "67:\tlearn: 0.4541791\ttotal: 262ms\tremaining: 3.59s\n",
      "68:\tlearn: 0.4522729\ttotal: 263ms\tremaining: 3.55s\n",
      "69:\tlearn: 0.4504851\ttotal: 264ms\tremaining: 3.51s\n",
      "70:\tlearn: 0.4487977\ttotal: 265ms\tremaining: 3.47s\n",
      "71:\tlearn: 0.4469373\ttotal: 266ms\tremaining: 3.43s\n",
      "72:\tlearn: 0.4451411\ttotal: 268ms\tremaining: 3.4s\n",
      "73:\tlearn: 0.4432219\ttotal: 269ms\tremaining: 3.36s\n",
      "74:\tlearn: 0.4418138\ttotal: 270ms\tremaining: 3.33s\n",
      "75:\tlearn: 0.4400281\ttotal: 271ms\tremaining: 3.3s\n",
      "76:\tlearn: 0.4383291\ttotal: 272ms\tremaining: 3.27s\n",
      "77:\tlearn: 0.4372071\ttotal: 273ms\tremaining: 3.23s\n",
      "78:\tlearn: 0.4356662\ttotal: 275ms\tremaining: 3.2s\n",
      "79:\tlearn: 0.4339264\ttotal: 276ms\tremaining: 3.17s\n",
      "80:\tlearn: 0.4324073\ttotal: 277ms\tremaining: 3.14s\n",
      "81:\tlearn: 0.4308579\ttotal: 278ms\tremaining: 3.11s\n",
      "82:\tlearn: 0.4291111\ttotal: 279ms\tremaining: 3.09s\n",
      "83:\tlearn: 0.4274128\ttotal: 281ms\tremaining: 3.06s\n",
      "84:\tlearn: 0.4261975\ttotal: 281ms\tremaining: 3.03s\n",
      "85:\tlearn: 0.4247526\ttotal: 283ms\tremaining: 3s\n",
      "86:\tlearn: 0.4235444\ttotal: 284ms\tremaining: 2.98s\n",
      "87:\tlearn: 0.4221020\ttotal: 285ms\tremaining: 2.95s\n",
      "88:\tlearn: 0.4206269\ttotal: 286ms\tremaining: 2.93s\n",
      "89:\tlearn: 0.4194398\ttotal: 287ms\tremaining: 2.9s\n",
      "90:\tlearn: 0.4180686\ttotal: 289ms\tremaining: 2.88s\n",
      "91:\tlearn: 0.4166273\ttotal: 290ms\tremaining: 2.86s\n",
      "92:\tlearn: 0.4154493\ttotal: 291ms\tremaining: 2.84s\n",
      "93:\tlearn: 0.4141506\ttotal: 292ms\tremaining: 2.81s\n",
      "94:\tlearn: 0.4124791\ttotal: 293ms\tremaining: 2.79s\n",
      "95:\tlearn: 0.4111255\ttotal: 294ms\tremaining: 2.77s\n",
      "96:\tlearn: 0.4102398\ttotal: 295ms\tremaining: 2.75s\n",
      "97:\tlearn: 0.4090523\ttotal: 297ms\tremaining: 2.73s\n",
      "98:\tlearn: 0.4078804\ttotal: 298ms\tremaining: 2.71s\n",
      "99:\tlearn: 0.4065990\ttotal: 299ms\tremaining: 2.69s\n",
      "100:\tlearn: 0.4052377\ttotal: 300ms\tremaining: 2.67s\n",
      "101:\tlearn: 0.4039977\ttotal: 301ms\tremaining: 2.65s\n",
      "102:\tlearn: 0.4025945\ttotal: 302ms\tremaining: 2.63s\n",
      "103:\tlearn: 0.4013708\ttotal: 304ms\tremaining: 2.62s\n",
      "104:\tlearn: 0.4001937\ttotal: 305ms\tremaining: 2.6s\n",
      "105:\tlearn: 0.3991052\ttotal: 306ms\tremaining: 2.58s\n",
      "106:\tlearn: 0.3979940\ttotal: 307ms\tremaining: 2.56s\n",
      "107:\tlearn: 0.3968747\ttotal: 308ms\tremaining: 2.55s\n",
      "108:\tlearn: 0.3960409\ttotal: 310ms\tremaining: 2.53s\n",
      "109:\tlearn: 0.3952638\ttotal: 311ms\tremaining: 2.51s\n",
      "110:\tlearn: 0.3941195\ttotal: 312ms\tremaining: 2.5s\n",
      "111:\tlearn: 0.3929366\ttotal: 313ms\tremaining: 2.48s\n",
      "112:\tlearn: 0.3917272\ttotal: 314ms\tremaining: 2.47s\n",
      "113:\tlearn: 0.3907961\ttotal: 315ms\tremaining: 2.45s\n",
      "114:\tlearn: 0.3900045\ttotal: 317ms\tremaining: 2.44s\n",
      "115:\tlearn: 0.3893630\ttotal: 318ms\tremaining: 2.42s\n",
      "116:\tlearn: 0.3884626\ttotal: 319ms\tremaining: 2.41s\n",
      "117:\tlearn: 0.3875663\ttotal: 320ms\tremaining: 2.39s\n",
      "118:\tlearn: 0.3865620\ttotal: 321ms\tremaining: 2.38s\n",
      "119:\tlearn: 0.3859423\ttotal: 322ms\tremaining: 2.36s\n",
      "120:\tlearn: 0.3848459\ttotal: 324ms\tremaining: 2.35s\n",
      "121:\tlearn: 0.3840963\ttotal: 325ms\tremaining: 2.34s\n",
      "122:\tlearn: 0.3834591\ttotal: 326ms\tremaining: 2.32s\n",
      "123:\tlearn: 0.3827828\ttotal: 327ms\tremaining: 2.31s\n",
      "124:\tlearn: 0.3820147\ttotal: 328ms\tremaining: 2.3s\n",
      "125:\tlearn: 0.3807543\ttotal: 329ms\tremaining: 2.28s\n",
      "126:\tlearn: 0.3798004\ttotal: 331ms\tremaining: 2.27s\n",
      "127:\tlearn: 0.3789710\ttotal: 332ms\tremaining: 2.26s\n",
      "128:\tlearn: 0.3781470\ttotal: 333ms\tremaining: 2.25s\n",
      "129:\tlearn: 0.3777121\ttotal: 334ms\tremaining: 2.23s\n",
      "130:\tlearn: 0.3771896\ttotal: 335ms\tremaining: 2.22s\n",
      "131:\tlearn: 0.3763923\ttotal: 336ms\tremaining: 2.21s\n",
      "132:\tlearn: 0.3755842\ttotal: 337ms\tremaining: 2.2s\n",
      "133:\tlearn: 0.3746863\ttotal: 338ms\tremaining: 2.19s\n",
      "134:\tlearn: 0.3739432\ttotal: 339ms\tremaining: 2.17s\n",
      "135:\tlearn: 0.3729904\ttotal: 341ms\tremaining: 2.16s\n",
      "136:\tlearn: 0.3722972\ttotal: 342ms\tremaining: 2.15s\n",
      "137:\tlearn: 0.3718047\ttotal: 343ms\tremaining: 2.14s\n",
      "138:\tlearn: 0.3708734\ttotal: 344ms\tremaining: 2.13s\n",
      "139:\tlearn: 0.3699695\ttotal: 345ms\tremaining: 2.12s\n",
      "140:\tlearn: 0.3694420\ttotal: 347ms\tremaining: 2.11s\n",
      "141:\tlearn: 0.3686976\ttotal: 348ms\tremaining: 2.1s\n",
      "142:\tlearn: 0.3681635\ttotal: 349ms\tremaining: 2.09s\n",
      "143:\tlearn: 0.3674337\ttotal: 350ms\tremaining: 2.08s\n",
      "144:\tlearn: 0.3667480\ttotal: 351ms\tremaining: 2.07s\n",
      "145:\tlearn: 0.3662697\ttotal: 353ms\tremaining: 2.06s\n",
      "146:\tlearn: 0.3658330\ttotal: 354ms\tremaining: 2.05s\n",
      "147:\tlearn: 0.3653205\ttotal: 355ms\tremaining: 2.04s\n",
      "148:\tlearn: 0.3647203\ttotal: 356ms\tremaining: 2.03s\n",
      "149:\tlearn: 0.3640137\ttotal: 357ms\tremaining: 2.02s\n",
      "150:\tlearn: 0.3633480\ttotal: 358ms\tremaining: 2.02s\n",
      "151:\tlearn: 0.3627130\ttotal: 360ms\tremaining: 2.01s\n",
      "152:\tlearn: 0.3623347\ttotal: 361ms\tremaining: 2s\n",
      "153:\tlearn: 0.3618219\ttotal: 362ms\tremaining: 1.99s\n",
      "154:\tlearn: 0.3612575\ttotal: 363ms\tremaining: 1.98s\n",
      "155:\tlearn: 0.3608330\ttotal: 364ms\tremaining: 1.97s\n",
      "156:\tlearn: 0.3601341\ttotal: 365ms\tremaining: 1.96s\n",
      "157:\tlearn: 0.3594691\ttotal: 366ms\tremaining: 1.95s\n",
      "158:\tlearn: 0.3591862\ttotal: 367ms\tremaining: 1.94s\n",
      "159:\tlearn: 0.3588009\ttotal: 368ms\tremaining: 1.93s\n",
      "160:\tlearn: 0.3583139\ttotal: 369ms\tremaining: 1.93s\n",
      "161:\tlearn: 0.3576584\ttotal: 371ms\tremaining: 1.92s\n",
      "162:\tlearn: 0.3571815\ttotal: 372ms\tremaining: 1.91s\n",
      "163:\tlearn: 0.3564962\ttotal: 373ms\tremaining: 1.9s\n",
      "164:\tlearn: 0.3558173\ttotal: 374ms\tremaining: 1.89s\n",
      "165:\tlearn: 0.3552114\ttotal: 375ms\tremaining: 1.89s\n",
      "166:\tlearn: 0.3547403\ttotal: 377ms\tremaining: 1.88s\n",
      "167:\tlearn: 0.3542328\ttotal: 378ms\tremaining: 1.87s\n",
      "168:\tlearn: 0.3539811\ttotal: 379ms\tremaining: 1.86s\n",
      "169:\tlearn: 0.3534331\ttotal: 380ms\tremaining: 1.85s\n",
      "170:\tlearn: 0.3528559\ttotal: 381ms\tremaining: 1.85s\n",
      "171:\tlearn: 0.3521687\ttotal: 382ms\tremaining: 1.84s\n",
      "172:\tlearn: 0.3517430\ttotal: 383ms\tremaining: 1.83s\n",
      "173:\tlearn: 0.3512217\ttotal: 384ms\tremaining: 1.82s\n",
      "174:\tlearn: 0.3505218\ttotal: 386ms\tremaining: 1.82s\n",
      "175:\tlearn: 0.3499905\ttotal: 387ms\tremaining: 1.81s\n",
      "176:\tlearn: 0.3495672\ttotal: 388ms\tremaining: 1.8s\n",
      "177:\tlearn: 0.3490121\ttotal: 389ms\tremaining: 1.8s\n",
      "178:\tlearn: 0.3486130\ttotal: 390ms\tremaining: 1.79s\n",
      "179:\tlearn: 0.3480943\ttotal: 392ms\tremaining: 1.78s\n",
      "180:\tlearn: 0.3474336\ttotal: 393ms\tremaining: 1.78s\n",
      "181:\tlearn: 0.3469776\ttotal: 394ms\tremaining: 1.77s\n",
      "182:\tlearn: 0.3463969\ttotal: 395ms\tremaining: 1.76s\n",
      "183:\tlearn: 0.3459544\ttotal: 396ms\tremaining: 1.76s\n",
      "184:\tlearn: 0.3453657\ttotal: 397ms\tremaining: 1.75s\n",
      "185:\tlearn: 0.3450693\ttotal: 399ms\tremaining: 1.74s\n",
      "186:\tlearn: 0.3444849\ttotal: 400ms\tremaining: 1.74s\n",
      "187:\tlearn: 0.3439196\ttotal: 401ms\tremaining: 1.73s\n",
      "188:\tlearn: 0.3434169\ttotal: 402ms\tremaining: 1.73s\n",
      "189:\tlearn: 0.3431170\ttotal: 403ms\tremaining: 1.72s\n",
      "190:\tlearn: 0.3427825\ttotal: 404ms\tremaining: 1.71s\n",
      "191:\tlearn: 0.3423314\ttotal: 405ms\tremaining: 1.71s\n",
      "192:\tlearn: 0.3417840\ttotal: 407ms\tremaining: 1.7s\n",
      "193:\tlearn: 0.3413683\ttotal: 408ms\tremaining: 1.69s\n",
      "194:\tlearn: 0.3410831\ttotal: 409ms\tremaining: 1.69s\n",
      "195:\tlearn: 0.3406113\ttotal: 410ms\tremaining: 1.68s\n",
      "196:\tlearn: 0.3402654\ttotal: 411ms\tremaining: 1.68s\n",
      "197:\tlearn: 0.3398669\ttotal: 413ms\tremaining: 1.67s\n",
      "198:\tlearn: 0.3395842\ttotal: 414ms\tremaining: 1.67s\n",
      "199:\tlearn: 0.3392964\ttotal: 415ms\tremaining: 1.66s\n",
      "200:\tlearn: 0.3388815\ttotal: 416ms\tremaining: 1.65s\n",
      "201:\tlearn: 0.3386503\ttotal: 417ms\tremaining: 1.65s\n",
      "202:\tlearn: 0.3383228\ttotal: 418ms\tremaining: 1.64s\n",
      "203:\tlearn: 0.3378382\ttotal: 420ms\tremaining: 1.64s\n",
      "204:\tlearn: 0.3376287\ttotal: 421ms\tremaining: 1.63s\n",
      "205:\tlearn: 0.3372382\ttotal: 422ms\tremaining: 1.63s\n",
      "206:\tlearn: 0.3368182\ttotal: 423ms\tremaining: 1.62s\n",
      "207:\tlearn: 0.3363076\ttotal: 424ms\tremaining: 1.61s\n",
      "208:\tlearn: 0.3358889\ttotal: 426ms\tremaining: 1.61s\n",
      "209:\tlearn: 0.3354059\ttotal: 427ms\tremaining: 1.6s\n",
      "210:\tlearn: 0.3350509\ttotal: 428ms\tremaining: 1.6s\n",
      "211:\tlearn: 0.3346020\ttotal: 429ms\tremaining: 1.59s\n",
      "212:\tlearn: 0.3341467\ttotal: 430ms\tremaining: 1.59s\n",
      "213:\tlearn: 0.3338775\ttotal: 431ms\tremaining: 1.58s\n",
      "214:\tlearn: 0.3336339\ttotal: 433ms\tremaining: 1.58s\n",
      "215:\tlearn: 0.3332278\ttotal: 434ms\tremaining: 1.57s\n",
      "216:\tlearn: 0.3329076\ttotal: 435ms\tremaining: 1.57s\n",
      "217:\tlearn: 0.3324819\ttotal: 436ms\tremaining: 1.56s\n",
      "218:\tlearn: 0.3321728\ttotal: 437ms\tremaining: 1.56s\n",
      "219:\tlearn: 0.3319015\ttotal: 439ms\tremaining: 1.55s\n",
      "220:\tlearn: 0.3314014\ttotal: 440ms\tremaining: 1.55s\n",
      "221:\tlearn: 0.3308710\ttotal: 441ms\tremaining: 1.54s\n",
      "222:\tlearn: 0.3303816\ttotal: 442ms\tremaining: 1.54s\n",
      "223:\tlearn: 0.3299744\ttotal: 443ms\tremaining: 1.53s\n",
      "224:\tlearn: 0.3297861\ttotal: 444ms\tremaining: 1.53s\n",
      "225:\tlearn: 0.3293609\ttotal: 446ms\tremaining: 1.52s\n",
      "226:\tlearn: 0.3290436\ttotal: 447ms\tremaining: 1.52s\n",
      "227:\tlearn: 0.3287951\ttotal: 448ms\tremaining: 1.52s\n",
      "228:\tlearn: 0.3283654\ttotal: 449ms\tremaining: 1.51s\n",
      "229:\tlearn: 0.3281266\ttotal: 450ms\tremaining: 1.51s\n",
      "230:\tlearn: 0.3278637\ttotal: 452ms\tremaining: 1.5s\n",
      "231:\tlearn: 0.3274714\ttotal: 453ms\tremaining: 1.5s\n",
      "232:\tlearn: 0.3271667\ttotal: 454ms\tremaining: 1.49s\n",
      "233:\tlearn: 0.3269410\ttotal: 455ms\tremaining: 1.49s\n",
      "234:\tlearn: 0.3267062\ttotal: 456ms\tremaining: 1.48s\n",
      "235:\tlearn: 0.3264329\ttotal: 457ms\tremaining: 1.48s\n",
      "236:\tlearn: 0.3261358\ttotal: 458ms\tremaining: 1.48s\n",
      "237:\tlearn: 0.3255906\ttotal: 460ms\tremaining: 1.47s\n",
      "238:\tlearn: 0.3252566\ttotal: 461ms\tremaining: 1.47s\n",
      "239:\tlearn: 0.3248862\ttotal: 462ms\tremaining: 1.46s\n",
      "240:\tlearn: 0.3246889\ttotal: 463ms\tremaining: 1.46s\n",
      "241:\tlearn: 0.3245391\ttotal: 464ms\tremaining: 1.45s\n",
      "242:\tlearn: 0.3243623\ttotal: 465ms\tremaining: 1.45s\n",
      "243:\tlearn: 0.3241651\ttotal: 467ms\tremaining: 1.45s\n",
      "244:\tlearn: 0.3239473\ttotal: 468ms\tremaining: 1.44s\n",
      "245:\tlearn: 0.3235306\ttotal: 469ms\tremaining: 1.44s\n",
      "246:\tlearn: 0.3232697\ttotal: 470ms\tremaining: 1.43s\n",
      "247:\tlearn: 0.3228742\ttotal: 471ms\tremaining: 1.43s\n",
      "248:\tlearn: 0.3225854\ttotal: 472ms\tremaining: 1.42s\n",
      "249:\tlearn: 0.3225609\ttotal: 473ms\tremaining: 1.42s\n",
      "250:\tlearn: 0.3222938\ttotal: 474ms\tremaining: 1.42s\n",
      "251:\tlearn: 0.3220153\ttotal: 475ms\tremaining: 1.41s\n",
      "252:\tlearn: 0.3216219\ttotal: 477ms\tremaining: 1.41s\n",
      "253:\tlearn: 0.3213156\ttotal: 478ms\tremaining: 1.4s\n",
      "254:\tlearn: 0.3210371\ttotal: 479ms\tremaining: 1.4s\n",
      "255:\tlearn: 0.3208739\ttotal: 480ms\tremaining: 1.4s\n",
      "256:\tlearn: 0.3206009\ttotal: 481ms\tremaining: 1.39s\n",
      "257:\tlearn: 0.3203726\ttotal: 483ms\tremaining: 1.39s\n",
      "258:\tlearn: 0.3201347\ttotal: 484ms\tremaining: 1.38s\n",
      "259:\tlearn: 0.3198874\ttotal: 485ms\tremaining: 1.38s\n",
      "260:\tlearn: 0.3196355\ttotal: 486ms\tremaining: 1.38s\n",
      "261:\tlearn: 0.3191767\ttotal: 487ms\tremaining: 1.37s\n",
      "262:\tlearn: 0.3188832\ttotal: 488ms\tremaining: 1.37s\n",
      "263:\tlearn: 0.3185624\ttotal: 490ms\tremaining: 1.36s\n",
      "264:\tlearn: 0.3183208\ttotal: 491ms\tremaining: 1.36s\n",
      "265:\tlearn: 0.3179962\ttotal: 492ms\tremaining: 1.36s\n",
      "266:\tlearn: 0.3177075\ttotal: 493ms\tremaining: 1.35s\n",
      "267:\tlearn: 0.3174107\ttotal: 494ms\tremaining: 1.35s\n",
      "268:\tlearn: 0.3172129\ttotal: 495ms\tremaining: 1.35s\n",
      "269:\tlearn: 0.3169149\ttotal: 497ms\tremaining: 1.34s\n",
      "270:\tlearn: 0.3166913\ttotal: 498ms\tremaining: 1.34s\n",
      "271:\tlearn: 0.3163251\ttotal: 499ms\tremaining: 1.33s\n",
      "272:\tlearn: 0.3160871\ttotal: 500ms\tremaining: 1.33s\n",
      "273:\tlearn: 0.3158731\ttotal: 501ms\tremaining: 1.33s\n",
      "274:\tlearn: 0.3156901\ttotal: 503ms\tremaining: 1.32s\n",
      "275:\tlearn: 0.3154842\ttotal: 504ms\tremaining: 1.32s\n",
      "276:\tlearn: 0.3152798\ttotal: 505ms\tremaining: 1.32s\n",
      "277:\tlearn: 0.3149169\ttotal: 506ms\tremaining: 1.31s\n",
      "278:\tlearn: 0.3146193\ttotal: 508ms\tremaining: 1.31s\n",
      "279:\tlearn: 0.3144178\ttotal: 509ms\tremaining: 1.31s\n",
      "280:\tlearn: 0.3141880\ttotal: 510ms\tremaining: 1.3s\n",
      "281:\tlearn: 0.3140667\ttotal: 511ms\tremaining: 1.3s\n",
      "282:\tlearn: 0.3140102\ttotal: 512ms\tremaining: 1.3s\n",
      "283:\tlearn: 0.3137374\ttotal: 513ms\tremaining: 1.29s\n",
      "284:\tlearn: 0.3134088\ttotal: 514ms\tremaining: 1.29s\n",
      "285:\tlearn: 0.3130845\ttotal: 515ms\tremaining: 1.29s\n",
      "286:\tlearn: 0.3128128\ttotal: 517ms\tremaining: 1.28s\n",
      "287:\tlearn: 0.3125901\ttotal: 518ms\tremaining: 1.28s\n",
      "288:\tlearn: 0.3123906\ttotal: 519ms\tremaining: 1.28s\n",
      "289:\tlearn: 0.3121948\ttotal: 520ms\tremaining: 1.27s\n",
      "290:\tlearn: 0.3119957\ttotal: 521ms\tremaining: 1.27s\n",
      "291:\tlearn: 0.3118007\ttotal: 522ms\tremaining: 1.27s\n",
      "292:\tlearn: 0.3117172\ttotal: 524ms\tremaining: 1.26s\n",
      "293:\tlearn: 0.3113647\ttotal: 525ms\tremaining: 1.26s\n",
      "294:\tlearn: 0.3110957\ttotal: 526ms\tremaining: 1.26s\n",
      "295:\tlearn: 0.3108754\ttotal: 527ms\tremaining: 1.25s\n",
      "296:\tlearn: 0.3106052\ttotal: 528ms\tremaining: 1.25s\n",
      "297:\tlearn: 0.3102747\ttotal: 529ms\tremaining: 1.25s\n",
      "298:\tlearn: 0.3101629\ttotal: 531ms\tremaining: 1.24s\n",
      "299:\tlearn: 0.3099294\ttotal: 532ms\tremaining: 1.24s\n",
      "300:\tlearn: 0.3096805\ttotal: 533ms\tremaining: 1.24s\n",
      "301:\tlearn: 0.3094740\ttotal: 534ms\tremaining: 1.23s\n",
      "302:\tlearn: 0.3092348\ttotal: 535ms\tremaining: 1.23s\n",
      "303:\tlearn: 0.3090003\ttotal: 537ms\tremaining: 1.23s\n",
      "304:\tlearn: 0.3087352\ttotal: 538ms\tremaining: 1.23s\n",
      "305:\tlearn: 0.3084468\ttotal: 539ms\tremaining: 1.22s\n",
      "306:\tlearn: 0.3083229\ttotal: 540ms\tremaining: 1.22s\n",
      "307:\tlearn: 0.3081770\ttotal: 541ms\tremaining: 1.22s\n",
      "308:\tlearn: 0.3080114\ttotal: 542ms\tremaining: 1.21s\n",
      "309:\tlearn: 0.3077193\ttotal: 544ms\tremaining: 1.21s\n",
      "310:\tlearn: 0.3075631\ttotal: 545ms\tremaining: 1.21s\n",
      "311:\tlearn: 0.3074142\ttotal: 546ms\tremaining: 1.2s\n",
      "312:\tlearn: 0.3071153\ttotal: 547ms\tremaining: 1.2s\n",
      "313:\tlearn: 0.3068036\ttotal: 548ms\tremaining: 1.2s\n",
      "314:\tlearn: 0.3066436\ttotal: 549ms\tremaining: 1.19s\n",
      "315:\tlearn: 0.3065513\ttotal: 551ms\tremaining: 1.19s\n",
      "316:\tlearn: 0.3063784\ttotal: 552ms\tremaining: 1.19s\n",
      "317:\tlearn: 0.3061438\ttotal: 553ms\tremaining: 1.19s\n",
      "318:\tlearn: 0.3058960\ttotal: 554ms\tremaining: 1.18s\n",
      "319:\tlearn: 0.3056438\ttotal: 555ms\tremaining: 1.18s\n",
      "320:\tlearn: 0.3054288\ttotal: 556ms\tremaining: 1.18s\n",
      "321:\tlearn: 0.3051367\ttotal: 558ms\tremaining: 1.17s\n",
      "322:\tlearn: 0.3048588\ttotal: 559ms\tremaining: 1.17s\n",
      "323:\tlearn: 0.3045678\ttotal: 560ms\tremaining: 1.17s\n",
      "324:\tlearn: 0.3045035\ttotal: 561ms\tremaining: 1.16s\n",
      "325:\tlearn: 0.3042984\ttotal: 562ms\tremaining: 1.16s\n",
      "326:\tlearn: 0.3040892\ttotal: 563ms\tremaining: 1.16s\n",
      "327:\tlearn: 0.3036983\ttotal: 564ms\tremaining: 1.16s\n",
      "328:\tlearn: 0.3035055\ttotal: 565ms\tremaining: 1.15s\n",
      "329:\tlearn: 0.3032302\ttotal: 567ms\tremaining: 1.15s\n",
      "330:\tlearn: 0.3030460\ttotal: 568ms\tremaining: 1.15s\n",
      "331:\tlearn: 0.3027082\ttotal: 569ms\tremaining: 1.14s\n",
      "332:\tlearn: 0.3024113\ttotal: 570ms\tremaining: 1.14s\n",
      "333:\tlearn: 0.3021552\ttotal: 571ms\tremaining: 1.14s\n",
      "334:\tlearn: 0.3017616\ttotal: 573ms\tremaining: 1.14s\n",
      "335:\tlearn: 0.3014781\ttotal: 574ms\tremaining: 1.13s\n",
      "336:\tlearn: 0.3012649\ttotal: 575ms\tremaining: 1.13s\n",
      "337:\tlearn: 0.3010977\ttotal: 576ms\tremaining: 1.13s\n",
      "338:\tlearn: 0.3009304\ttotal: 577ms\tremaining: 1.13s\n",
      "339:\tlearn: 0.3008112\ttotal: 579ms\tremaining: 1.12s\n",
      "340:\tlearn: 0.3005361\ttotal: 580ms\tremaining: 1.12s\n",
      "341:\tlearn: 0.3003203\ttotal: 581ms\tremaining: 1.12s\n",
      "342:\tlearn: 0.3001633\ttotal: 582ms\tremaining: 1.11s\n",
      "343:\tlearn: 0.3000444\ttotal: 583ms\tremaining: 1.11s\n",
      "344:\tlearn: 0.2999317\ttotal: 584ms\tremaining: 1.11s\n",
      "345:\tlearn: 0.2997434\ttotal: 585ms\tremaining: 1.11s\n",
      "346:\tlearn: 0.2994432\ttotal: 587ms\tremaining: 1.1s\n",
      "347:\tlearn: 0.2993290\ttotal: 588ms\tremaining: 1.1s\n",
      "348:\tlearn: 0.2991499\ttotal: 589ms\tremaining: 1.1s\n",
      "349:\tlearn: 0.2988296\ttotal: 590ms\tremaining: 1.1s\n",
      "350:\tlearn: 0.2986039\ttotal: 591ms\tremaining: 1.09s\n",
      "351:\tlearn: 0.2983854\ttotal: 593ms\tremaining: 1.09s\n",
      "352:\tlearn: 0.2981549\ttotal: 594ms\tremaining: 1.09s\n",
      "353:\tlearn: 0.2980334\ttotal: 595ms\tremaining: 1.08s\n",
      "354:\tlearn: 0.2979733\ttotal: 596ms\tremaining: 1.08s\n",
      "355:\tlearn: 0.2977246\ttotal: 597ms\tremaining: 1.08s\n",
      "356:\tlearn: 0.2976499\ttotal: 598ms\tremaining: 1.08s\n",
      "357:\tlearn: 0.2974824\ttotal: 600ms\tremaining: 1.07s\n",
      "358:\tlearn: 0.2972809\ttotal: 601ms\tremaining: 1.07s\n",
      "359:\tlearn: 0.2970804\ttotal: 602ms\tremaining: 1.07s\n",
      "360:\tlearn: 0.2968826\ttotal: 603ms\tremaining: 1.07s\n",
      "361:\tlearn: 0.2966769\ttotal: 604ms\tremaining: 1.06s\n",
      "362:\tlearn: 0.2964342\ttotal: 605ms\tremaining: 1.06s\n",
      "363:\tlearn: 0.2962970\ttotal: 607ms\tremaining: 1.06s\n",
      "364:\tlearn: 0.2961942\ttotal: 608ms\tremaining: 1.06s\n",
      "365:\tlearn: 0.2960572\ttotal: 609ms\tremaining: 1.05s\n",
      "366:\tlearn: 0.2958546\ttotal: 610ms\tremaining: 1.05s\n",
      "367:\tlearn: 0.2955965\ttotal: 611ms\tremaining: 1.05s\n",
      "368:\tlearn: 0.2954076\ttotal: 613ms\tremaining: 1.05s\n",
      "369:\tlearn: 0.2952359\ttotal: 614ms\tremaining: 1.04s\n",
      "370:\tlearn: 0.2950926\ttotal: 615ms\tremaining: 1.04s\n",
      "371:\tlearn: 0.2949708\ttotal: 616ms\tremaining: 1.04s\n",
      "372:\tlearn: 0.2948190\ttotal: 617ms\tremaining: 1.04s\n",
      "373:\tlearn: 0.2946435\ttotal: 618ms\tremaining: 1.03s\n",
      "374:\tlearn: 0.2944343\ttotal: 619ms\tremaining: 1.03s\n",
      "375:\tlearn: 0.2942268\ttotal: 621ms\tremaining: 1.03s\n",
      "376:\tlearn: 0.2940717\ttotal: 622ms\tremaining: 1.03s\n",
      "377:\tlearn: 0.2938785\ttotal: 623ms\tremaining: 1.02s\n",
      "378:\tlearn: 0.2936050\ttotal: 624ms\tremaining: 1.02s\n",
      "379:\tlearn: 0.2934841\ttotal: 625ms\tremaining: 1.02s\n",
      "380:\tlearn: 0.2933777\ttotal: 626ms\tremaining: 1.02s\n",
      "381:\tlearn: 0.2931859\ttotal: 628ms\tremaining: 1.01s\n",
      "382:\tlearn: 0.2930588\ttotal: 629ms\tremaining: 1.01s\n",
      "383:\tlearn: 0.2929008\ttotal: 630ms\tremaining: 1.01s\n",
      "384:\tlearn: 0.2928083\ttotal: 631ms\tremaining: 1.01s\n",
      "385:\tlearn: 0.2926766\ttotal: 632ms\tremaining: 1s\n",
      "386:\tlearn: 0.2925271\ttotal: 633ms\tremaining: 1s\n",
      "387:\tlearn: 0.2923928\ttotal: 635ms\tremaining: 1s\n",
      "388:\tlearn: 0.2921844\ttotal: 636ms\tremaining: 999ms\n",
      "389:\tlearn: 0.2920453\ttotal: 637ms\tremaining: 996ms\n",
      "390:\tlearn: 0.2918059\ttotal: 638ms\tremaining: 994ms\n",
      "391:\tlearn: 0.2916490\ttotal: 639ms\tremaining: 992ms\n",
      "392:\tlearn: 0.2915808\ttotal: 640ms\tremaining: 989ms\n",
      "393:\tlearn: 0.2913894\ttotal: 642ms\tremaining: 987ms\n",
      "394:\tlearn: 0.2912633\ttotal: 643ms\tremaining: 985ms\n",
      "395:\tlearn: 0.2910919\ttotal: 644ms\tremaining: 982ms\n",
      "396:\tlearn: 0.2908867\ttotal: 645ms\tremaining: 980ms\n",
      "397:\tlearn: 0.2906991\ttotal: 646ms\tremaining: 978ms\n",
      "398:\tlearn: 0.2905146\ttotal: 648ms\tremaining: 975ms\n",
      "399:\tlearn: 0.2903597\ttotal: 649ms\tremaining: 973ms\n",
      "400:\tlearn: 0.2901014\ttotal: 650ms\tremaining: 971ms\n",
      "401:\tlearn: 0.2898828\ttotal: 651ms\tremaining: 969ms\n",
      "402:\tlearn: 0.2896235\ttotal: 652ms\tremaining: 966ms\n",
      "403:\tlearn: 0.2895132\ttotal: 653ms\tremaining: 964ms\n",
      "404:\tlearn: 0.2893556\ttotal: 655ms\tremaining: 962ms\n",
      "405:\tlearn: 0.2892304\ttotal: 656ms\tremaining: 960ms\n",
      "406:\tlearn: 0.2890777\ttotal: 657ms\tremaining: 957ms\n",
      "407:\tlearn: 0.2889969\ttotal: 658ms\tremaining: 955ms\n",
      "408:\tlearn: 0.2888941\ttotal: 659ms\tremaining: 953ms\n",
      "409:\tlearn: 0.2887952\ttotal: 660ms\tremaining: 950ms\n",
      "410:\tlearn: 0.2885924\ttotal: 662ms\tremaining: 948ms\n",
      "411:\tlearn: 0.2884643\ttotal: 663ms\tremaining: 946ms\n",
      "412:\tlearn: 0.2883335\ttotal: 664ms\tremaining: 944ms\n",
      "413:\tlearn: 0.2880746\ttotal: 665ms\tremaining: 942ms\n",
      "414:\tlearn: 0.2878058\ttotal: 666ms\tremaining: 939ms\n",
      "415:\tlearn: 0.2876480\ttotal: 668ms\tremaining: 937ms\n",
      "416:\tlearn: 0.2875588\ttotal: 669ms\tremaining: 935ms\n",
      "417:\tlearn: 0.2874863\ttotal: 670ms\tremaining: 933ms\n",
      "418:\tlearn: 0.2872926\ttotal: 671ms\tremaining: 930ms\n",
      "419:\tlearn: 0.2870822\ttotal: 672ms\tremaining: 928ms\n",
      "420:\tlearn: 0.2869245\ttotal: 673ms\tremaining: 926ms\n",
      "421:\tlearn: 0.2866412\ttotal: 674ms\tremaining: 924ms\n",
      "422:\tlearn: 0.2865283\ttotal: 676ms\tremaining: 922ms\n",
      "423:\tlearn: 0.2862852\ttotal: 677ms\tremaining: 920ms\n",
      "424:\tlearn: 0.2860177\ttotal: 678ms\tremaining: 917ms\n",
      "425:\tlearn: 0.2857988\ttotal: 679ms\tremaining: 915ms\n",
      "426:\tlearn: 0.2855331\ttotal: 680ms\tremaining: 913ms\n",
      "427:\tlearn: 0.2854042\ttotal: 682ms\tremaining: 911ms\n",
      "428:\tlearn: 0.2852586\ttotal: 683ms\tremaining: 909ms\n",
      "429:\tlearn: 0.2851077\ttotal: 684ms\tremaining: 907ms\n",
      "430:\tlearn: 0.2850387\ttotal: 685ms\tremaining: 904ms\n",
      "431:\tlearn: 0.2848583\ttotal: 686ms\tremaining: 902ms\n",
      "432:\tlearn: 0.2847290\ttotal: 687ms\tremaining: 900ms\n",
      "433:\tlearn: 0.2845270\ttotal: 688ms\tremaining: 898ms\n",
      "434:\tlearn: 0.2843674\ttotal: 690ms\tremaining: 896ms\n",
      "435:\tlearn: 0.2842150\ttotal: 691ms\tremaining: 894ms\n",
      "436:\tlearn: 0.2840258\ttotal: 692ms\tremaining: 891ms\n",
      "437:\tlearn: 0.2837855\ttotal: 693ms\tremaining: 889ms\n",
      "438:\tlearn: 0.2836610\ttotal: 694ms\tremaining: 887ms\n",
      "439:\tlearn: 0.2834655\ttotal: 695ms\tremaining: 885ms\n",
      "440:\tlearn: 0.2832533\ttotal: 697ms\tremaining: 883ms\n",
      "441:\tlearn: 0.2831745\ttotal: 698ms\tremaining: 881ms\n",
      "442:\tlearn: 0.2829237\ttotal: 699ms\tremaining: 879ms\n",
      "443:\tlearn: 0.2827806\ttotal: 700ms\tremaining: 877ms\n",
      "444:\tlearn: 0.2826950\ttotal: 701ms\tremaining: 875ms\n",
      "445:\tlearn: 0.2825186\ttotal: 702ms\tremaining: 873ms\n",
      "446:\tlearn: 0.2824520\ttotal: 704ms\tremaining: 870ms\n",
      "447:\tlearn: 0.2822772\ttotal: 705ms\tremaining: 868ms\n",
      "448:\tlearn: 0.2821594\ttotal: 706ms\tremaining: 866ms\n",
      "449:\tlearn: 0.2820734\ttotal: 707ms\tremaining: 864ms\n",
      "450:\tlearn: 0.2819596\ttotal: 708ms\tremaining: 862ms\n",
      "451:\tlearn: 0.2818655\ttotal: 709ms\tremaining: 860ms\n",
      "452:\tlearn: 0.2816450\ttotal: 711ms\tremaining: 858ms\n",
      "453:\tlearn: 0.2815475\ttotal: 712ms\tremaining: 856ms\n",
      "454:\tlearn: 0.2814117\ttotal: 713ms\tremaining: 854ms\n",
      "455:\tlearn: 0.2812729\ttotal: 714ms\tremaining: 852ms\n",
      "456:\tlearn: 0.2811698\ttotal: 715ms\tremaining: 850ms\n",
      "457:\tlearn: 0.2810375\ttotal: 716ms\tremaining: 848ms\n",
      "458:\tlearn: 0.2809053\ttotal: 718ms\tremaining: 846ms\n",
      "459:\tlearn: 0.2807928\ttotal: 719ms\tremaining: 844ms\n",
      "460:\tlearn: 0.2807366\ttotal: 720ms\tremaining: 841ms\n",
      "461:\tlearn: 0.2805531\ttotal: 721ms\tremaining: 839ms\n",
      "462:\tlearn: 0.2804473\ttotal: 722ms\tremaining: 837ms\n",
      "463:\tlearn: 0.2802601\ttotal: 723ms\tremaining: 835ms\n",
      "464:\tlearn: 0.2801762\ttotal: 724ms\tremaining: 833ms\n",
      "465:\tlearn: 0.2799622\ttotal: 725ms\tremaining: 831ms\n",
      "466:\tlearn: 0.2798118\ttotal: 727ms\tremaining: 829ms\n",
      "467:\tlearn: 0.2797075\ttotal: 728ms\tremaining: 827ms\n",
      "468:\tlearn: 0.2796004\ttotal: 729ms\tremaining: 825ms\n",
      "469:\tlearn: 0.2794925\ttotal: 730ms\tremaining: 823ms\n",
      "470:\tlearn: 0.2793837\ttotal: 731ms\tremaining: 821ms\n",
      "471:\tlearn: 0.2792026\ttotal: 732ms\tremaining: 819ms\n",
      "472:\tlearn: 0.2789322\ttotal: 734ms\tremaining: 817ms\n",
      "473:\tlearn: 0.2787909\ttotal: 735ms\tremaining: 815ms\n",
      "474:\tlearn: 0.2787122\ttotal: 736ms\tremaining: 813ms\n",
      "475:\tlearn: 0.2786908\ttotal: 737ms\tremaining: 811ms\n",
      "476:\tlearn: 0.2785160\ttotal: 738ms\tremaining: 809ms\n",
      "477:\tlearn: 0.2783036\ttotal: 739ms\tremaining: 807ms\n",
      "478:\tlearn: 0.2782127\ttotal: 740ms\tremaining: 805ms\n",
      "479:\tlearn: 0.2780977\ttotal: 741ms\tremaining: 803ms\n",
      "480:\tlearn: 0.2779993\ttotal: 743ms\tremaining: 801ms\n",
      "481:\tlearn: 0.2779642\ttotal: 744ms\tremaining: 799ms\n",
      "482:\tlearn: 0.2778591\ttotal: 745ms\tremaining: 797ms\n",
      "483:\tlearn: 0.2777163\ttotal: 746ms\tremaining: 795ms\n",
      "484:\tlearn: 0.2776413\ttotal: 747ms\tremaining: 793ms\n",
      "485:\tlearn: 0.2774530\ttotal: 748ms\tremaining: 791ms\n",
      "486:\tlearn: 0.2772576\ttotal: 749ms\tremaining: 789ms\n",
      "487:\tlearn: 0.2771701\ttotal: 750ms\tremaining: 787ms\n",
      "488:\tlearn: 0.2769989\ttotal: 752ms\tremaining: 785ms\n",
      "489:\tlearn: 0.2768951\ttotal: 753ms\tremaining: 783ms\n",
      "490:\tlearn: 0.2767949\ttotal: 754ms\tremaining: 781ms\n",
      "491:\tlearn: 0.2767195\ttotal: 755ms\tremaining: 780ms\n",
      "492:\tlearn: 0.2766186\ttotal: 756ms\tremaining: 778ms\n",
      "493:\tlearn: 0.2765629\ttotal: 757ms\tremaining: 776ms\n",
      "494:\tlearn: 0.2764710\ttotal: 758ms\tremaining: 774ms\n",
      "495:\tlearn: 0.2763710\ttotal: 760ms\tremaining: 772ms\n",
      "496:\tlearn: 0.2762323\ttotal: 761ms\tremaining: 770ms\n",
      "497:\tlearn: 0.2761000\ttotal: 762ms\tremaining: 768ms\n",
      "498:\tlearn: 0.2757845\ttotal: 763ms\tremaining: 766ms\n",
      "499:\tlearn: 0.2757178\ttotal: 764ms\tremaining: 764ms\n",
      "500:\tlearn: 0.2757021\ttotal: 765ms\tremaining: 762ms\n",
      "501:\tlearn: 0.2754943\ttotal: 766ms\tremaining: 760ms\n",
      "502:\tlearn: 0.2753699\ttotal: 767ms\tremaining: 758ms\n",
      "503:\tlearn: 0.2752338\ttotal: 769ms\tremaining: 756ms\n",
      "504:\tlearn: 0.2751037\ttotal: 770ms\tremaining: 754ms\n",
      "505:\tlearn: 0.2747233\ttotal: 771ms\tremaining: 753ms\n",
      "506:\tlearn: 0.2745871\ttotal: 772ms\tremaining: 751ms\n",
      "507:\tlearn: 0.2744603\ttotal: 773ms\tremaining: 749ms\n",
      "508:\tlearn: 0.2741835\ttotal: 774ms\tremaining: 747ms\n",
      "509:\tlearn: 0.2740282\ttotal: 776ms\tremaining: 745ms\n",
      "510:\tlearn: 0.2739791\ttotal: 777ms\tremaining: 743ms\n",
      "511:\tlearn: 0.2738376\ttotal: 778ms\tremaining: 742ms\n",
      "512:\tlearn: 0.2737169\ttotal: 779ms\tremaining: 740ms\n",
      "513:\tlearn: 0.2735950\ttotal: 780ms\tremaining: 738ms\n",
      "514:\tlearn: 0.2733705\ttotal: 782ms\tremaining: 736ms\n",
      "515:\tlearn: 0.2732674\ttotal: 783ms\tremaining: 734ms\n",
      "516:\tlearn: 0.2731585\ttotal: 784ms\tremaining: 732ms\n",
      "517:\tlearn: 0.2729813\ttotal: 785ms\tremaining: 731ms\n",
      "518:\tlearn: 0.2729018\ttotal: 786ms\tremaining: 729ms\n",
      "519:\tlearn: 0.2727738\ttotal: 787ms\tremaining: 727ms\n",
      "520:\tlearn: 0.2726576\ttotal: 789ms\tremaining: 725ms\n",
      "521:\tlearn: 0.2725417\ttotal: 790ms\tremaining: 723ms\n",
      "522:\tlearn: 0.2724664\ttotal: 791ms\tremaining: 721ms\n",
      "523:\tlearn: 0.2722962\ttotal: 792ms\tremaining: 719ms\n",
      "524:\tlearn: 0.2721895\ttotal: 793ms\tremaining: 718ms\n",
      "525:\tlearn: 0.2721135\ttotal: 794ms\tremaining: 716ms\n",
      "526:\tlearn: 0.2720021\ttotal: 796ms\tremaining: 714ms\n",
      "527:\tlearn: 0.2717881\ttotal: 797ms\tremaining: 712ms\n",
      "528:\tlearn: 0.2716217\ttotal: 798ms\tremaining: 710ms\n",
      "529:\tlearn: 0.2714521\ttotal: 799ms\tremaining: 709ms\n",
      "530:\tlearn: 0.2713690\ttotal: 800ms\tremaining: 707ms\n",
      "531:\tlearn: 0.2712002\ttotal: 801ms\tremaining: 705ms\n",
      "532:\tlearn: 0.2711064\ttotal: 802ms\tremaining: 703ms\n",
      "533:\tlearn: 0.2709128\ttotal: 803ms\tremaining: 701ms\n",
      "534:\tlearn: 0.2707959\ttotal: 805ms\tremaining: 699ms\n",
      "535:\tlearn: 0.2706447\ttotal: 806ms\tremaining: 698ms\n",
      "536:\tlearn: 0.2704833\ttotal: 807ms\tremaining: 696ms\n",
      "537:\tlearn: 0.2702993\ttotal: 808ms\tremaining: 694ms\n",
      "538:\tlearn: 0.2701133\ttotal: 809ms\tremaining: 692ms\n",
      "539:\tlearn: 0.2700576\ttotal: 810ms\tremaining: 690ms\n",
      "540:\tlearn: 0.2699676\ttotal: 812ms\tremaining: 689ms\n",
      "541:\tlearn: 0.2697856\ttotal: 813ms\tremaining: 687ms\n",
      "542:\tlearn: 0.2697175\ttotal: 814ms\tremaining: 685ms\n",
      "543:\tlearn: 0.2696759\ttotal: 815ms\tremaining: 683ms\n",
      "544:\tlearn: 0.2696270\ttotal: 816ms\tremaining: 681ms\n",
      "545:\tlearn: 0.2695302\ttotal: 817ms\tremaining: 679ms\n",
      "546:\tlearn: 0.2693834\ttotal: 818ms\tremaining: 677ms\n",
      "547:\tlearn: 0.2692629\ttotal: 819ms\tremaining: 675ms\n",
      "548:\tlearn: 0.2690480\ttotal: 820ms\tremaining: 674ms\n",
      "549:\tlearn: 0.2689448\ttotal: 821ms\tremaining: 672ms\n",
      "550:\tlearn: 0.2688063\ttotal: 822ms\tremaining: 670ms\n",
      "551:\tlearn: 0.2687096\ttotal: 824ms\tremaining: 668ms\n",
      "552:\tlearn: 0.2685505\ttotal: 825ms\tremaining: 667ms\n",
      "553:\tlearn: 0.2684744\ttotal: 826ms\tremaining: 665ms\n",
      "554:\tlearn: 0.2683363\ttotal: 827ms\tremaining: 663ms\n",
      "555:\tlearn: 0.2683081\ttotal: 828ms\tremaining: 661ms\n",
      "556:\tlearn: 0.2682142\ttotal: 829ms\tremaining: 659ms\n",
      "557:\tlearn: 0.2681194\ttotal: 830ms\tremaining: 658ms\n",
      "558:\tlearn: 0.2680130\ttotal: 831ms\tremaining: 656ms\n",
      "559:\tlearn: 0.2679662\ttotal: 833ms\tremaining: 654ms\n",
      "560:\tlearn: 0.2677563\ttotal: 834ms\tremaining: 652ms\n",
      "561:\tlearn: 0.2676160\ttotal: 835ms\tremaining: 651ms\n",
      "562:\tlearn: 0.2674865\ttotal: 836ms\tremaining: 649ms\n",
      "563:\tlearn: 0.2673923\ttotal: 837ms\tremaining: 647ms\n",
      "564:\tlearn: 0.2672597\ttotal: 839ms\tremaining: 646ms\n",
      "565:\tlearn: 0.2671092\ttotal: 840ms\tremaining: 644ms\n",
      "566:\tlearn: 0.2670266\ttotal: 841ms\tremaining: 642ms\n",
      "567:\tlearn: 0.2668546\ttotal: 842ms\tremaining: 641ms\n",
      "568:\tlearn: 0.2667424\ttotal: 844ms\tremaining: 639ms\n",
      "569:\tlearn: 0.2665997\ttotal: 845ms\tremaining: 638ms\n",
      "570:\tlearn: 0.2664454\ttotal: 846ms\tremaining: 636ms\n",
      "571:\tlearn: 0.2662961\ttotal: 848ms\tremaining: 634ms\n",
      "572:\tlearn: 0.2661658\ttotal: 849ms\tremaining: 633ms\n",
      "573:\tlearn: 0.2660479\ttotal: 850ms\tremaining: 631ms\n",
      "574:\tlearn: 0.2659319\ttotal: 851ms\tremaining: 629ms\n",
      "575:\tlearn: 0.2657960\ttotal: 853ms\tremaining: 628ms\n",
      "576:\tlearn: 0.2655796\ttotal: 854ms\tremaining: 626ms\n",
      "577:\tlearn: 0.2653747\ttotal: 855ms\tremaining: 624ms\n",
      "578:\tlearn: 0.2652627\ttotal: 856ms\tremaining: 623ms\n",
      "579:\tlearn: 0.2651705\ttotal: 858ms\tremaining: 621ms\n",
      "580:\tlearn: 0.2649101\ttotal: 859ms\tremaining: 619ms\n",
      "581:\tlearn: 0.2647926\ttotal: 860ms\tremaining: 618ms\n",
      "582:\tlearn: 0.2646427\ttotal: 861ms\tremaining: 616ms\n",
      "583:\tlearn: 0.2643968\ttotal: 863ms\tremaining: 614ms\n",
      "584:\tlearn: 0.2642708\ttotal: 864ms\tremaining: 613ms\n",
      "585:\tlearn: 0.2641683\ttotal: 865ms\tremaining: 611ms\n",
      "586:\tlearn: 0.2639573\ttotal: 866ms\tremaining: 610ms\n",
      "587:\tlearn: 0.2638135\ttotal: 868ms\tremaining: 608ms\n",
      "588:\tlearn: 0.2637441\ttotal: 869ms\tremaining: 606ms\n",
      "589:\tlearn: 0.2635829\ttotal: 870ms\tremaining: 605ms\n",
      "590:\tlearn: 0.2634946\ttotal: 871ms\tremaining: 603ms\n",
      "591:\tlearn: 0.2634040\ttotal: 872ms\tremaining: 601ms\n",
      "592:\tlearn: 0.2632374\ttotal: 874ms\tremaining: 600ms\n",
      "593:\tlearn: 0.2631503\ttotal: 875ms\tremaining: 598ms\n",
      "594:\tlearn: 0.2630646\ttotal: 876ms\tremaining: 596ms\n",
      "595:\tlearn: 0.2629924\ttotal: 877ms\tremaining: 595ms\n",
      "596:\tlearn: 0.2629636\ttotal: 878ms\tremaining: 593ms\n",
      "597:\tlearn: 0.2628546\ttotal: 879ms\tremaining: 591ms\n",
      "598:\tlearn: 0.2627546\ttotal: 880ms\tremaining: 589ms\n",
      "599:\tlearn: 0.2626672\ttotal: 881ms\tremaining: 588ms\n",
      "600:\tlearn: 0.2626196\ttotal: 883ms\tremaining: 586ms\n",
      "601:\tlearn: 0.2625286\ttotal: 884ms\tremaining: 584ms\n",
      "602:\tlearn: 0.2624064\ttotal: 885ms\tremaining: 583ms\n",
      "603:\tlearn: 0.2623464\ttotal: 886ms\tremaining: 581ms\n",
      "604:\tlearn: 0.2621815\ttotal: 887ms\tremaining: 579ms\n",
      "605:\tlearn: 0.2620289\ttotal: 888ms\tremaining: 578ms\n",
      "606:\tlearn: 0.2618275\ttotal: 890ms\tremaining: 576ms\n",
      "607:\tlearn: 0.2617277\ttotal: 891ms\tremaining: 574ms\n",
      "608:\tlearn: 0.2616052\ttotal: 892ms\tremaining: 573ms\n",
      "609:\tlearn: 0.2614930\ttotal: 893ms\tremaining: 571ms\n",
      "610:\tlearn: 0.2613590\ttotal: 894ms\tremaining: 569ms\n",
      "611:\tlearn: 0.2612183\ttotal: 895ms\tremaining: 568ms\n",
      "612:\tlearn: 0.2610840\ttotal: 897ms\tremaining: 566ms\n",
      "613:\tlearn: 0.2609118\ttotal: 898ms\tremaining: 564ms\n",
      "614:\tlearn: 0.2607760\ttotal: 899ms\tremaining: 563ms\n",
      "615:\tlearn: 0.2606665\ttotal: 900ms\tremaining: 561ms\n",
      "616:\tlearn: 0.2605634\ttotal: 901ms\tremaining: 560ms\n",
      "617:\tlearn: 0.2604994\ttotal: 903ms\tremaining: 558ms\n",
      "618:\tlearn: 0.2601756\ttotal: 904ms\tremaining: 556ms\n",
      "619:\tlearn: 0.2601488\ttotal: 905ms\tremaining: 554ms\n",
      "620:\tlearn: 0.2599983\ttotal: 906ms\tremaining: 553ms\n",
      "621:\tlearn: 0.2598566\ttotal: 907ms\tremaining: 551ms\n",
      "622:\tlearn: 0.2597601\ttotal: 908ms\tremaining: 549ms\n",
      "623:\tlearn: 0.2596589\ttotal: 909ms\tremaining: 548ms\n",
      "624:\tlearn: 0.2595358\ttotal: 910ms\tremaining: 546ms\n",
      "625:\tlearn: 0.2593857\ttotal: 912ms\tremaining: 545ms\n",
      "626:\tlearn: 0.2592901\ttotal: 913ms\tremaining: 543ms\n",
      "627:\tlearn: 0.2591800\ttotal: 914ms\tremaining: 541ms\n",
      "628:\tlearn: 0.2589871\ttotal: 915ms\tremaining: 540ms\n",
      "629:\tlearn: 0.2588269\ttotal: 916ms\tremaining: 538ms\n",
      "630:\tlearn: 0.2586281\ttotal: 918ms\tremaining: 537ms\n",
      "631:\tlearn: 0.2584731\ttotal: 919ms\tremaining: 535ms\n",
      "632:\tlearn: 0.2583944\ttotal: 920ms\tremaining: 533ms\n",
      "633:\tlearn: 0.2582217\ttotal: 921ms\tremaining: 532ms\n",
      "634:\tlearn: 0.2580255\ttotal: 922ms\tremaining: 530ms\n",
      "635:\tlearn: 0.2579264\ttotal: 923ms\tremaining: 529ms\n",
      "636:\tlearn: 0.2578233\ttotal: 925ms\tremaining: 527ms\n",
      "637:\tlearn: 0.2577210\ttotal: 926ms\tremaining: 525ms\n",
      "638:\tlearn: 0.2576654\ttotal: 927ms\tremaining: 524ms\n",
      "639:\tlearn: 0.2575671\ttotal: 928ms\tremaining: 522ms\n",
      "640:\tlearn: 0.2574600\ttotal: 929ms\tremaining: 520ms\n",
      "641:\tlearn: 0.2573811\ttotal: 930ms\tremaining: 519ms\n",
      "642:\tlearn: 0.2572824\ttotal: 932ms\tremaining: 517ms\n",
      "643:\tlearn: 0.2572787\ttotal: 932ms\tremaining: 515ms\n",
      "644:\tlearn: 0.2571881\ttotal: 933ms\tremaining: 514ms\n",
      "645:\tlearn: 0.2570134\ttotal: 935ms\tremaining: 512ms\n",
      "646:\tlearn: 0.2569340\ttotal: 936ms\tremaining: 510ms\n",
      "647:\tlearn: 0.2568307\ttotal: 937ms\tremaining: 509ms\n",
      "648:\tlearn: 0.2567492\ttotal: 938ms\tremaining: 507ms\n",
      "649:\tlearn: 0.2566562\ttotal: 939ms\tremaining: 506ms\n",
      "650:\tlearn: 0.2566030\ttotal: 940ms\tremaining: 504ms\n",
      "651:\tlearn: 0.2564365\ttotal: 941ms\tremaining: 503ms\n",
      "652:\tlearn: 0.2563598\ttotal: 943ms\tremaining: 501ms\n",
      "653:\tlearn: 0.2562489\ttotal: 944ms\tremaining: 499ms\n",
      "654:\tlearn: 0.2562208\ttotal: 945ms\tremaining: 498ms\n",
      "655:\tlearn: 0.2559733\ttotal: 946ms\tremaining: 496ms\n",
      "656:\tlearn: 0.2558099\ttotal: 947ms\tremaining: 495ms\n",
      "657:\tlearn: 0.2557145\ttotal: 948ms\tremaining: 493ms\n",
      "658:\tlearn: 0.2555966\ttotal: 950ms\tremaining: 491ms\n",
      "659:\tlearn: 0.2555248\ttotal: 951ms\tremaining: 490ms\n",
      "660:\tlearn: 0.2554202\ttotal: 952ms\tremaining: 488ms\n",
      "661:\tlearn: 0.2552397\ttotal: 953ms\tremaining: 487ms\n",
      "662:\tlearn: 0.2550646\ttotal: 954ms\tremaining: 485ms\n",
      "663:\tlearn: 0.2549292\ttotal: 956ms\tremaining: 484ms\n",
      "664:\tlearn: 0.2548559\ttotal: 957ms\tremaining: 482ms\n",
      "665:\tlearn: 0.2547617\ttotal: 958ms\tremaining: 480ms\n",
      "666:\tlearn: 0.2546297\ttotal: 959ms\tremaining: 479ms\n",
      "667:\tlearn: 0.2545394\ttotal: 960ms\tremaining: 477ms\n",
      "668:\tlearn: 0.2545072\ttotal: 961ms\tremaining: 476ms\n",
      "669:\tlearn: 0.2543674\ttotal: 962ms\tremaining: 474ms\n",
      "670:\tlearn: 0.2543245\ttotal: 964ms\tremaining: 472ms\n",
      "671:\tlearn: 0.2542703\ttotal: 965ms\tremaining: 471ms\n",
      "672:\tlearn: 0.2541303\ttotal: 966ms\tremaining: 469ms\n",
      "673:\tlearn: 0.2540577\ttotal: 967ms\tremaining: 468ms\n",
      "674:\tlearn: 0.2538949\ttotal: 968ms\tremaining: 466ms\n",
      "675:\tlearn: 0.2537743\ttotal: 969ms\tremaining: 465ms\n",
      "676:\tlearn: 0.2536474\ttotal: 971ms\tremaining: 463ms\n",
      "677:\tlearn: 0.2534716\ttotal: 972ms\tremaining: 462ms\n",
      "678:\tlearn: 0.2531459\ttotal: 973ms\tremaining: 460ms\n",
      "679:\tlearn: 0.2530286\ttotal: 974ms\tremaining: 458ms\n",
      "680:\tlearn: 0.2529497\ttotal: 975ms\tremaining: 457ms\n",
      "681:\tlearn: 0.2528668\ttotal: 977ms\tremaining: 455ms\n",
      "682:\tlearn: 0.2527574\ttotal: 978ms\tremaining: 454ms\n",
      "683:\tlearn: 0.2526805\ttotal: 979ms\tremaining: 452ms\n",
      "684:\tlearn: 0.2525834\ttotal: 980ms\tremaining: 451ms\n",
      "685:\tlearn: 0.2524222\ttotal: 981ms\tremaining: 449ms\n",
      "686:\tlearn: 0.2522783\ttotal: 982ms\tremaining: 448ms\n",
      "687:\tlearn: 0.2522022\ttotal: 984ms\tremaining: 446ms\n",
      "688:\tlearn: 0.2521126\ttotal: 985ms\tremaining: 444ms\n",
      "689:\tlearn: 0.2519460\ttotal: 986ms\tremaining: 443ms\n",
      "690:\tlearn: 0.2518898\ttotal: 987ms\tremaining: 441ms\n",
      "691:\tlearn: 0.2517918\ttotal: 988ms\tremaining: 440ms\n",
      "692:\tlearn: 0.2517032\ttotal: 990ms\tremaining: 438ms\n",
      "693:\tlearn: 0.2514939\ttotal: 991ms\tremaining: 437ms\n",
      "694:\tlearn: 0.2514063\ttotal: 992ms\tremaining: 435ms\n",
      "695:\tlearn: 0.2512969\ttotal: 993ms\tremaining: 434ms\n",
      "696:\tlearn: 0.2511413\ttotal: 994ms\tremaining: 432ms\n",
      "697:\tlearn: 0.2509987\ttotal: 996ms\tremaining: 431ms\n",
      "698:\tlearn: 0.2508808\ttotal: 997ms\tremaining: 429ms\n",
      "699:\tlearn: 0.2507345\ttotal: 998ms\tremaining: 428ms\n",
      "700:\tlearn: 0.2505976\ttotal: 999ms\tremaining: 426ms\n",
      "701:\tlearn: 0.2505383\ttotal: 1s\tremaining: 425ms\n",
      "702:\tlearn: 0.2504172\ttotal: 1s\tremaining: 423ms\n",
      "703:\tlearn: 0.2502890\ttotal: 1s\tremaining: 422ms\n",
      "704:\tlearn: 0.2501315\ttotal: 1s\tremaining: 420ms\n",
      "705:\tlearn: 0.2500256\ttotal: 1s\tremaining: 419ms\n",
      "706:\tlearn: 0.2498558\ttotal: 1.01s\tremaining: 417ms\n",
      "707:\tlearn: 0.2498080\ttotal: 1.01s\tremaining: 416ms\n",
      "708:\tlearn: 0.2497326\ttotal: 1.01s\tremaining: 414ms\n",
      "709:\tlearn: 0.2496120\ttotal: 1.01s\tremaining: 412ms\n",
      "710:\tlearn: 0.2495076\ttotal: 1.01s\tremaining: 411ms\n",
      "711:\tlearn: 0.2495005\ttotal: 1.01s\tremaining: 409ms\n",
      "712:\tlearn: 0.2493808\ttotal: 1.01s\tremaining: 408ms\n",
      "713:\tlearn: 0.2493035\ttotal: 1.01s\tremaining: 406ms\n",
      "714:\tlearn: 0.2492545\ttotal: 1.01s\tremaining: 405ms\n",
      "715:\tlearn: 0.2491867\ttotal: 1.02s\tremaining: 403ms\n",
      "716:\tlearn: 0.2490727\ttotal: 1.02s\tremaining: 402ms\n",
      "717:\tlearn: 0.2489996\ttotal: 1.02s\tremaining: 400ms\n",
      "718:\tlearn: 0.2488945\ttotal: 1.02s\tremaining: 399ms\n",
      "719:\tlearn: 0.2485646\ttotal: 1.02s\tremaining: 397ms\n",
      "720:\tlearn: 0.2484344\ttotal: 1.02s\tremaining: 396ms\n",
      "721:\tlearn: 0.2483354\ttotal: 1.02s\tremaining: 394ms\n",
      "722:\tlearn: 0.2482281\ttotal: 1.02s\tremaining: 393ms\n",
      "723:\tlearn: 0.2481470\ttotal: 1.02s\tremaining: 391ms\n",
      "724:\tlearn: 0.2480482\ttotal: 1.03s\tremaining: 390ms\n",
      "725:\tlearn: 0.2479828\ttotal: 1.03s\tremaining: 388ms\n",
      "726:\tlearn: 0.2479014\ttotal: 1.03s\tremaining: 386ms\n",
      "727:\tlearn: 0.2477161\ttotal: 1.03s\tremaining: 385ms\n",
      "728:\tlearn: 0.2476294\ttotal: 1.03s\tremaining: 383ms\n",
      "729:\tlearn: 0.2475661\ttotal: 1.03s\tremaining: 382ms\n",
      "730:\tlearn: 0.2474774\ttotal: 1.03s\tremaining: 380ms\n",
      "731:\tlearn: 0.2472636\ttotal: 1.03s\tremaining: 379ms\n",
      "732:\tlearn: 0.2471713\ttotal: 1.04s\tremaining: 378ms\n",
      "733:\tlearn: 0.2470766\ttotal: 1.04s\tremaining: 376ms\n",
      "734:\tlearn: 0.2469659\ttotal: 1.04s\tremaining: 374ms\n",
      "735:\tlearn: 0.2468439\ttotal: 1.04s\tremaining: 373ms\n",
      "736:\tlearn: 0.2467294\ttotal: 1.04s\tremaining: 371ms\n",
      "737:\tlearn: 0.2465257\ttotal: 1.04s\tremaining: 370ms\n",
      "738:\tlearn: 0.2463905\ttotal: 1.04s\tremaining: 368ms\n",
      "739:\tlearn: 0.2463136\ttotal: 1.04s\tremaining: 367ms\n",
      "740:\tlearn: 0.2460545\ttotal: 1.04s\tremaining: 366ms\n",
      "741:\tlearn: 0.2459677\ttotal: 1.05s\tremaining: 364ms\n",
      "742:\tlearn: 0.2458948\ttotal: 1.05s\tremaining: 363ms\n",
      "743:\tlearn: 0.2458682\ttotal: 1.05s\tremaining: 361ms\n",
      "744:\tlearn: 0.2456630\ttotal: 1.05s\tremaining: 360ms\n",
      "745:\tlearn: 0.2454624\ttotal: 1.05s\tremaining: 358ms\n",
      "746:\tlearn: 0.2453475\ttotal: 1.05s\tremaining: 357ms\n",
      "747:\tlearn: 0.2451274\ttotal: 1.05s\tremaining: 355ms\n",
      "748:\tlearn: 0.2450143\ttotal: 1.05s\tremaining: 354ms\n",
      "749:\tlearn: 0.2449443\ttotal: 1.06s\tremaining: 352ms\n",
      "750:\tlearn: 0.2448160\ttotal: 1.06s\tremaining: 351ms\n",
      "751:\tlearn: 0.2447564\ttotal: 1.06s\tremaining: 349ms\n",
      "752:\tlearn: 0.2446783\ttotal: 1.06s\tremaining: 348ms\n",
      "753:\tlearn: 0.2444207\ttotal: 1.06s\tremaining: 346ms\n",
      "754:\tlearn: 0.2443302\ttotal: 1.06s\tremaining: 345ms\n",
      "755:\tlearn: 0.2442072\ttotal: 1.06s\tremaining: 343ms\n",
      "756:\tlearn: 0.2440637\ttotal: 1.06s\tremaining: 342ms\n",
      "757:\tlearn: 0.2440062\ttotal: 1.06s\tremaining: 340ms\n",
      "758:\tlearn: 0.2439005\ttotal: 1.07s\tremaining: 339ms\n",
      "759:\tlearn: 0.2437942\ttotal: 1.07s\tremaining: 337ms\n",
      "760:\tlearn: 0.2437279\ttotal: 1.07s\tremaining: 336ms\n",
      "761:\tlearn: 0.2436374\ttotal: 1.07s\tremaining: 334ms\n",
      "762:\tlearn: 0.2435669\ttotal: 1.07s\tremaining: 333ms\n",
      "763:\tlearn: 0.2434605\ttotal: 1.07s\tremaining: 331ms\n",
      "764:\tlearn: 0.2433673\ttotal: 1.07s\tremaining: 330ms\n",
      "765:\tlearn: 0.2432399\ttotal: 1.07s\tremaining: 328ms\n",
      "766:\tlearn: 0.2430731\ttotal: 1.08s\tremaining: 327ms\n",
      "767:\tlearn: 0.2429030\ttotal: 1.08s\tremaining: 325ms\n",
      "768:\tlearn: 0.2427578\ttotal: 1.08s\tremaining: 324ms\n",
      "769:\tlearn: 0.2426474\ttotal: 1.08s\tremaining: 322ms\n",
      "770:\tlearn: 0.2424974\ttotal: 1.08s\tremaining: 321ms\n",
      "771:\tlearn: 0.2424240\ttotal: 1.08s\tremaining: 320ms\n",
      "772:\tlearn: 0.2423625\ttotal: 1.08s\tremaining: 318ms\n",
      "773:\tlearn: 0.2422573\ttotal: 1.08s\tremaining: 317ms\n",
      "774:\tlearn: 0.2421881\ttotal: 1.08s\tremaining: 315ms\n",
      "775:\tlearn: 0.2421457\ttotal: 1.09s\tremaining: 314ms\n",
      "776:\tlearn: 0.2420837\ttotal: 1.09s\tremaining: 312ms\n",
      "777:\tlearn: 0.2419827\ttotal: 1.09s\tremaining: 311ms\n",
      "778:\tlearn: 0.2418604\ttotal: 1.09s\tremaining: 309ms\n",
      "779:\tlearn: 0.2417715\ttotal: 1.09s\tremaining: 308ms\n",
      "780:\tlearn: 0.2416852\ttotal: 1.09s\tremaining: 306ms\n",
      "781:\tlearn: 0.2414440\ttotal: 1.09s\tremaining: 305ms\n",
      "782:\tlearn: 0.2413570\ttotal: 1.09s\tremaining: 303ms\n",
      "783:\tlearn: 0.2411641\ttotal: 1.09s\tremaining: 302ms\n",
      "784:\tlearn: 0.2410920\ttotal: 1.1s\tremaining: 300ms\n",
      "785:\tlearn: 0.2409739\ttotal: 1.1s\tremaining: 299ms\n",
      "786:\tlearn: 0.2407903\ttotal: 1.1s\tremaining: 298ms\n",
      "787:\tlearn: 0.2407083\ttotal: 1.1s\tremaining: 296ms\n",
      "788:\tlearn: 0.2406721\ttotal: 1.1s\tremaining: 295ms\n",
      "789:\tlearn: 0.2405964\ttotal: 1.1s\tremaining: 293ms\n",
      "790:\tlearn: 0.2404843\ttotal: 1.1s\tremaining: 292ms\n",
      "791:\tlearn: 0.2403582\ttotal: 1.1s\tremaining: 290ms\n",
      "792:\tlearn: 0.2402763\ttotal: 1.11s\tremaining: 289ms\n",
      "793:\tlearn: 0.2401386\ttotal: 1.11s\tremaining: 287ms\n",
      "794:\tlearn: 0.2400279\ttotal: 1.11s\tremaining: 286ms\n",
      "795:\tlearn: 0.2399676\ttotal: 1.11s\tremaining: 284ms\n",
      "796:\tlearn: 0.2398192\ttotal: 1.11s\tremaining: 283ms\n",
      "797:\tlearn: 0.2396893\ttotal: 1.11s\tremaining: 282ms\n",
      "798:\tlearn: 0.2396246\ttotal: 1.11s\tremaining: 280ms\n",
      "799:\tlearn: 0.2394753\ttotal: 1.11s\tremaining: 279ms\n",
      "800:\tlearn: 0.2394642\ttotal: 1.11s\tremaining: 277ms\n",
      "801:\tlearn: 0.2394191\ttotal: 1.12s\tremaining: 276ms\n",
      "802:\tlearn: 0.2393573\ttotal: 1.12s\tremaining: 274ms\n",
      "803:\tlearn: 0.2391342\ttotal: 1.12s\tremaining: 273ms\n",
      "804:\tlearn: 0.2389517\ttotal: 1.12s\tremaining: 271ms\n",
      "805:\tlearn: 0.2387342\ttotal: 1.12s\tremaining: 270ms\n",
      "806:\tlearn: 0.2386748\ttotal: 1.12s\tremaining: 268ms\n",
      "807:\tlearn: 0.2385678\ttotal: 1.12s\tremaining: 267ms\n",
      "808:\tlearn: 0.2385191\ttotal: 1.12s\tremaining: 266ms\n",
      "809:\tlearn: 0.2384016\ttotal: 1.13s\tremaining: 264ms\n",
      "810:\tlearn: 0.2382161\ttotal: 1.13s\tremaining: 263ms\n",
      "811:\tlearn: 0.2380347\ttotal: 1.13s\tremaining: 261ms\n",
      "812:\tlearn: 0.2378984\ttotal: 1.13s\tremaining: 260ms\n",
      "813:\tlearn: 0.2377326\ttotal: 1.13s\tremaining: 258ms\n",
      "814:\tlearn: 0.2376861\ttotal: 1.13s\tremaining: 257ms\n",
      "815:\tlearn: 0.2375645\ttotal: 1.13s\tremaining: 255ms\n",
      "816:\tlearn: 0.2374411\ttotal: 1.13s\tremaining: 254ms\n",
      "817:\tlearn: 0.2372608\ttotal: 1.14s\tremaining: 253ms\n",
      "818:\tlearn: 0.2372486\ttotal: 1.14s\tremaining: 251ms\n",
      "819:\tlearn: 0.2371793\ttotal: 1.14s\tremaining: 250ms\n",
      "820:\tlearn: 0.2371072\ttotal: 1.14s\tremaining: 248ms\n",
      "821:\tlearn: 0.2370243\ttotal: 1.14s\tremaining: 247ms\n",
      "822:\tlearn: 0.2369295\ttotal: 1.14s\tremaining: 245ms\n",
      "823:\tlearn: 0.2368373\ttotal: 1.14s\tremaining: 244ms\n",
      "824:\tlearn: 0.2367410\ttotal: 1.14s\tremaining: 242ms\n",
      "825:\tlearn: 0.2366341\ttotal: 1.14s\tremaining: 241ms\n",
      "826:\tlearn: 0.2365467\ttotal: 1.15s\tremaining: 240ms\n",
      "827:\tlearn: 0.2364813\ttotal: 1.15s\tremaining: 238ms\n",
      "828:\tlearn: 0.2363932\ttotal: 1.15s\tremaining: 237ms\n",
      "829:\tlearn: 0.2363545\ttotal: 1.15s\tremaining: 235ms\n",
      "830:\tlearn: 0.2362172\ttotal: 1.15s\tremaining: 234ms\n",
      "831:\tlearn: 0.2361694\ttotal: 1.15s\tremaining: 232ms\n",
      "832:\tlearn: 0.2360319\ttotal: 1.15s\tremaining: 231ms\n",
      "833:\tlearn: 0.2360207\ttotal: 1.15s\tremaining: 230ms\n",
      "834:\tlearn: 0.2359511\ttotal: 1.15s\tremaining: 228ms\n",
      "835:\tlearn: 0.2358752\ttotal: 1.16s\tremaining: 227ms\n",
      "836:\tlearn: 0.2357920\ttotal: 1.16s\tremaining: 225ms\n",
      "837:\tlearn: 0.2357019\ttotal: 1.16s\tremaining: 224ms\n",
      "838:\tlearn: 0.2355957\ttotal: 1.16s\tremaining: 222ms\n",
      "839:\tlearn: 0.2354646\ttotal: 1.16s\tremaining: 221ms\n",
      "840:\tlearn: 0.2353949\ttotal: 1.16s\tremaining: 220ms\n",
      "841:\tlearn: 0.2351915\ttotal: 1.16s\tremaining: 218ms\n",
      "842:\tlearn: 0.2350908\ttotal: 1.16s\tremaining: 217ms\n",
      "843:\tlearn: 0.2350149\ttotal: 1.16s\tremaining: 215ms\n",
      "844:\tlearn: 0.2349510\ttotal: 1.17s\tremaining: 214ms\n",
      "845:\tlearn: 0.2348513\ttotal: 1.17s\tremaining: 212ms\n",
      "846:\tlearn: 0.2347161\ttotal: 1.17s\tremaining: 211ms\n",
      "847:\tlearn: 0.2345879\ttotal: 1.17s\tremaining: 210ms\n",
      "848:\tlearn: 0.2344400\ttotal: 1.17s\tremaining: 208ms\n",
      "849:\tlearn: 0.2342928\ttotal: 1.17s\tremaining: 207ms\n",
      "850:\tlearn: 0.2342084\ttotal: 1.17s\tremaining: 205ms\n",
      "851:\tlearn: 0.2341383\ttotal: 1.17s\tremaining: 204ms\n",
      "852:\tlearn: 0.2340494\ttotal: 1.18s\tremaining: 203ms\n",
      "853:\tlearn: 0.2339660\ttotal: 1.18s\tremaining: 201ms\n",
      "854:\tlearn: 0.2338798\ttotal: 1.18s\tremaining: 200ms\n",
      "855:\tlearn: 0.2337706\ttotal: 1.18s\tremaining: 198ms\n",
      "856:\tlearn: 0.2337504\ttotal: 1.18s\tremaining: 197ms\n",
      "857:\tlearn: 0.2336084\ttotal: 1.18s\tremaining: 195ms\n",
      "858:\tlearn: 0.2334836\ttotal: 1.18s\tremaining: 194ms\n",
      "859:\tlearn: 0.2334351\ttotal: 1.18s\tremaining: 193ms\n",
      "860:\tlearn: 0.2333907\ttotal: 1.18s\tremaining: 191ms\n",
      "861:\tlearn: 0.2332991\ttotal: 1.19s\tremaining: 190ms\n",
      "862:\tlearn: 0.2332693\ttotal: 1.19s\tremaining: 188ms\n",
      "863:\tlearn: 0.2330644\ttotal: 1.19s\tremaining: 187ms\n",
      "864:\tlearn: 0.2330049\ttotal: 1.19s\tremaining: 186ms\n",
      "865:\tlearn: 0.2329621\ttotal: 1.19s\tremaining: 184ms\n",
      "866:\tlearn: 0.2328190\ttotal: 1.19s\tremaining: 183ms\n",
      "867:\tlearn: 0.2327195\ttotal: 1.19s\tremaining: 181ms\n",
      "868:\tlearn: 0.2326386\ttotal: 1.19s\tremaining: 180ms\n",
      "869:\tlearn: 0.2325325\ttotal: 1.2s\tremaining: 179ms\n",
      "870:\tlearn: 0.2324365\ttotal: 1.2s\tremaining: 177ms\n",
      "871:\tlearn: 0.2323686\ttotal: 1.2s\tremaining: 176ms\n",
      "872:\tlearn: 0.2322736\ttotal: 1.2s\tremaining: 174ms\n",
      "873:\tlearn: 0.2321735\ttotal: 1.2s\tremaining: 173ms\n",
      "874:\tlearn: 0.2321444\ttotal: 1.2s\tremaining: 172ms\n",
      "875:\tlearn: 0.2319980\ttotal: 1.2s\tremaining: 170ms\n",
      "876:\tlearn: 0.2319583\ttotal: 1.2s\tremaining: 169ms\n",
      "877:\tlearn: 0.2319454\ttotal: 1.2s\tremaining: 167ms\n",
      "878:\tlearn: 0.2318935\ttotal: 1.21s\tremaining: 166ms\n",
      "879:\tlearn: 0.2318320\ttotal: 1.21s\tremaining: 165ms\n",
      "880:\tlearn: 0.2317360\ttotal: 1.21s\tremaining: 163ms\n",
      "881:\tlearn: 0.2316874\ttotal: 1.21s\tremaining: 162ms\n",
      "882:\tlearn: 0.2315665\ttotal: 1.21s\tremaining: 160ms\n",
      "883:\tlearn: 0.2314012\ttotal: 1.21s\tremaining: 159ms\n",
      "884:\tlearn: 0.2313117\ttotal: 1.21s\tremaining: 158ms\n",
      "885:\tlearn: 0.2311992\ttotal: 1.21s\tremaining: 156ms\n",
      "886:\tlearn: 0.2311212\ttotal: 1.22s\tremaining: 155ms\n",
      "887:\tlearn: 0.2310835\ttotal: 1.22s\tremaining: 153ms\n",
      "888:\tlearn: 0.2310000\ttotal: 1.22s\tremaining: 152ms\n",
      "889:\tlearn: 0.2308434\ttotal: 1.22s\tremaining: 151ms\n",
      "890:\tlearn: 0.2307814\ttotal: 1.22s\tremaining: 149ms\n",
      "891:\tlearn: 0.2306382\ttotal: 1.22s\tremaining: 148ms\n",
      "892:\tlearn: 0.2305801\ttotal: 1.22s\tremaining: 146ms\n",
      "893:\tlearn: 0.2305034\ttotal: 1.22s\tremaining: 145ms\n",
      "894:\tlearn: 0.2304628\ttotal: 1.22s\tremaining: 144ms\n",
      "895:\tlearn: 0.2303915\ttotal: 1.23s\tremaining: 142ms\n",
      "896:\tlearn: 0.2303544\ttotal: 1.23s\tremaining: 141ms\n",
      "897:\tlearn: 0.2302844\ttotal: 1.23s\tremaining: 140ms\n",
      "898:\tlearn: 0.2301634\ttotal: 1.23s\tremaining: 138ms\n",
      "899:\tlearn: 0.2300936\ttotal: 1.23s\tremaining: 137ms\n",
      "900:\tlearn: 0.2299637\ttotal: 1.23s\tremaining: 135ms\n",
      "901:\tlearn: 0.2299349\ttotal: 1.23s\tremaining: 134ms\n",
      "902:\tlearn: 0.2298754\ttotal: 1.23s\tremaining: 133ms\n",
      "903:\tlearn: 0.2297190\ttotal: 1.24s\tremaining: 131ms\n",
      "904:\tlearn: 0.2296260\ttotal: 1.24s\tremaining: 130ms\n",
      "905:\tlearn: 0.2296007\ttotal: 1.24s\tremaining: 128ms\n",
      "906:\tlearn: 0.2294513\ttotal: 1.24s\tremaining: 127ms\n",
      "907:\tlearn: 0.2293324\ttotal: 1.24s\tremaining: 126ms\n",
      "908:\tlearn: 0.2292650\ttotal: 1.24s\tremaining: 124ms\n",
      "909:\tlearn: 0.2291306\ttotal: 1.24s\tremaining: 123ms\n",
      "910:\tlearn: 0.2290795\ttotal: 1.24s\tremaining: 121ms\n",
      "911:\tlearn: 0.2289360\ttotal: 1.24s\tremaining: 120ms\n",
      "912:\tlearn: 0.2289168\ttotal: 1.25s\tremaining: 119ms\n",
      "913:\tlearn: 0.2287767\ttotal: 1.25s\tremaining: 117ms\n",
      "914:\tlearn: 0.2286987\ttotal: 1.25s\tremaining: 116ms\n",
      "915:\tlearn: 0.2286463\ttotal: 1.25s\tremaining: 115ms\n",
      "916:\tlearn: 0.2286017\ttotal: 1.25s\tremaining: 113ms\n",
      "917:\tlearn: 0.2284282\ttotal: 1.25s\tremaining: 112ms\n",
      "918:\tlearn: 0.2283368\ttotal: 1.25s\tremaining: 110ms\n",
      "919:\tlearn: 0.2282420\ttotal: 1.25s\tremaining: 109ms\n",
      "920:\tlearn: 0.2281217\ttotal: 1.25s\tremaining: 108ms\n",
      "921:\tlearn: 0.2280354\ttotal: 1.26s\tremaining: 106ms\n",
      "922:\tlearn: 0.2280048\ttotal: 1.26s\tremaining: 105ms\n",
      "923:\tlearn: 0.2279556\ttotal: 1.26s\tremaining: 104ms\n",
      "924:\tlearn: 0.2278007\ttotal: 1.26s\tremaining: 102ms\n",
      "925:\tlearn: 0.2276638\ttotal: 1.26s\tremaining: 101ms\n",
      "926:\tlearn: 0.2276332\ttotal: 1.26s\tremaining: 99.4ms\n",
      "927:\tlearn: 0.2274728\ttotal: 1.26s\tremaining: 98ms\n",
      "928:\tlearn: 0.2273939\ttotal: 1.26s\tremaining: 96.7ms\n",
      "929:\tlearn: 0.2273374\ttotal: 1.26s\tremaining: 95.3ms\n",
      "930:\tlearn: 0.2272966\ttotal: 1.27s\tremaining: 93.9ms\n",
      "931:\tlearn: 0.2272211\ttotal: 1.27s\tremaining: 92.5ms\n",
      "932:\tlearn: 0.2271148\ttotal: 1.27s\tremaining: 91.2ms\n",
      "933:\tlearn: 0.2270344\ttotal: 1.27s\tremaining: 89.8ms\n",
      "934:\tlearn: 0.2269894\ttotal: 1.27s\tremaining: 88.4ms\n",
      "935:\tlearn: 0.2269527\ttotal: 1.27s\tremaining: 87ms\n",
      "936:\tlearn: 0.2267889\ttotal: 1.27s\tremaining: 85.7ms\n",
      "937:\tlearn: 0.2266016\ttotal: 1.27s\tremaining: 84.3ms\n",
      "938:\tlearn: 0.2265593\ttotal: 1.28s\tremaining: 82.9ms\n",
      "939:\tlearn: 0.2264848\ttotal: 1.28s\tremaining: 81.6ms\n",
      "940:\tlearn: 0.2264415\ttotal: 1.28s\tremaining: 80.2ms\n",
      "941:\tlearn: 0.2263763\ttotal: 1.28s\tremaining: 78.8ms\n",
      "942:\tlearn: 0.2262607\ttotal: 1.28s\tremaining: 77.5ms\n",
      "943:\tlearn: 0.2260888\ttotal: 1.28s\tremaining: 76.1ms\n",
      "944:\tlearn: 0.2260280\ttotal: 1.28s\tremaining: 74.7ms\n",
      "945:\tlearn: 0.2259803\ttotal: 1.28s\tremaining: 73.3ms\n",
      "946:\tlearn: 0.2259436\ttotal: 1.29s\tremaining: 72ms\n",
      "947:\tlearn: 0.2257410\ttotal: 1.29s\tremaining: 70.6ms\n",
      "948:\tlearn: 0.2256852\ttotal: 1.29s\tremaining: 69.2ms\n",
      "949:\tlearn: 0.2255421\ttotal: 1.29s\tremaining: 67.9ms\n",
      "950:\tlearn: 0.2255036\ttotal: 1.29s\tremaining: 66.5ms\n",
      "951:\tlearn: 0.2254299\ttotal: 1.29s\tremaining: 65.1ms\n",
      "952:\tlearn: 0.2253933\ttotal: 1.29s\tremaining: 63.8ms\n",
      "953:\tlearn: 0.2252329\ttotal: 1.29s\tremaining: 62.4ms\n",
      "954:\tlearn: 0.2251743\ttotal: 1.29s\tremaining: 61ms\n",
      "955:\tlearn: 0.2251175\ttotal: 1.3s\tremaining: 59.7ms\n",
      "956:\tlearn: 0.2250593\ttotal: 1.3s\tremaining: 58.3ms\n",
      "957:\tlearn: 0.2248745\ttotal: 1.3s\tremaining: 56.9ms\n",
      "958:\tlearn: 0.2247667\ttotal: 1.3s\tremaining: 55.6ms\n",
      "959:\tlearn: 0.2247097\ttotal: 1.3s\tremaining: 54.2ms\n",
      "960:\tlearn: 0.2246082\ttotal: 1.3s\tremaining: 52.9ms\n",
      "961:\tlearn: 0.2245470\ttotal: 1.3s\tremaining: 51.5ms\n",
      "962:\tlearn: 0.2244599\ttotal: 1.3s\tremaining: 50.1ms\n",
      "963:\tlearn: 0.2243260\ttotal: 1.31s\tremaining: 48.8ms\n",
      "964:\tlearn: 0.2242303\ttotal: 1.31s\tremaining: 47.4ms\n",
      "965:\tlearn: 0.2242079\ttotal: 1.31s\tremaining: 46.1ms\n",
      "966:\tlearn: 0.2241232\ttotal: 1.31s\tremaining: 44.7ms\n",
      "967:\tlearn: 0.2240319\ttotal: 1.31s\tremaining: 43.3ms\n",
      "968:\tlearn: 0.2238647\ttotal: 1.31s\tremaining: 42ms\n",
      "969:\tlearn: 0.2238183\ttotal: 1.31s\tremaining: 40.6ms\n",
      "970:\tlearn: 0.2235870\ttotal: 1.31s\tremaining: 39.3ms\n",
      "971:\tlearn: 0.2233775\ttotal: 1.31s\tremaining: 37.9ms\n",
      "972:\tlearn: 0.2233114\ttotal: 1.32s\tremaining: 36.5ms\n",
      "973:\tlearn: 0.2232500\ttotal: 1.32s\tremaining: 35.2ms\n",
      "974:\tlearn: 0.2231903\ttotal: 1.32s\tremaining: 33.8ms\n",
      "975:\tlearn: 0.2231145\ttotal: 1.32s\tremaining: 32.5ms\n",
      "976:\tlearn: 0.2230831\ttotal: 1.32s\tremaining: 31.1ms\n",
      "977:\tlearn: 0.2230231\ttotal: 1.32s\tremaining: 29.7ms\n",
      "978:\tlearn: 0.2229906\ttotal: 1.32s\tremaining: 28.4ms\n",
      "979:\tlearn: 0.2229412\ttotal: 1.32s\tremaining: 27ms\n",
      "980:\tlearn: 0.2228946\ttotal: 1.33s\tremaining: 25.7ms\n",
      "981:\tlearn: 0.2226543\ttotal: 1.33s\tremaining: 24.3ms\n",
      "982:\tlearn: 0.2225876\ttotal: 1.33s\tremaining: 23ms\n",
      "983:\tlearn: 0.2223963\ttotal: 1.33s\tremaining: 21.6ms\n",
      "984:\tlearn: 0.2223115\ttotal: 1.33s\tremaining: 20.3ms\n",
      "985:\tlearn: 0.2222642\ttotal: 1.33s\tremaining: 18.9ms\n",
      "986:\tlearn: 0.2221379\ttotal: 1.33s\tremaining: 17.6ms\n",
      "987:\tlearn: 0.2220140\ttotal: 1.33s\tremaining: 16.2ms\n",
      "988:\tlearn: 0.2219004\ttotal: 1.33s\tremaining: 14.9ms\n",
      "989:\tlearn: 0.2218639\ttotal: 1.34s\tremaining: 13.5ms\n",
      "990:\tlearn: 0.2217877\ttotal: 1.34s\tremaining: 12.1ms\n",
      "991:\tlearn: 0.2217236\ttotal: 1.34s\tremaining: 10.8ms\n",
      "992:\tlearn: 0.2216237\ttotal: 1.34s\tremaining: 9.45ms\n",
      "993:\tlearn: 0.2215393\ttotal: 1.34s\tremaining: 8.1ms\n",
      "994:\tlearn: 0.2214755\ttotal: 1.34s\tremaining: 6.75ms\n",
      "995:\tlearn: 0.2214427\ttotal: 1.34s\tremaining: 5.4ms\n",
      "996:\tlearn: 0.2213759\ttotal: 1.34s\tremaining: 4.05ms\n",
      "997:\tlearn: 0.2212191\ttotal: 1.35s\tremaining: 2.7ms\n",
      "998:\tlearn: 0.2210698\ttotal: 1.35s\tremaining: 1.35ms\n",
      "999:\tlearn: 0.2210165\ttotal: 1.35s\tremaining: 0us\n"
     ]
    },
    {
     "data": {
      "text/plain": [
       "<catboost.core.CatBoostClassifier at 0x1f56b26cc10>"
      ]
     },
     "execution_count": 222,
     "metadata": {},
     "output_type": "execute_result"
    }
   ],
   "source": [
    "cat = CatBoostClassifier(verbose=None, random_seed=42)\n",
    "cat.fit(X_train, y_train)"
   ]
  },
  {
   "cell_type": "code",
   "execution_count": 223,
   "metadata": {},
   "outputs": [
    {
     "name": "stdout",
     "output_type": "stream",
     "text": [
      "Fitting 5 folds for each of 108 candidates, totalling 540 fits\n"
     ]
    }
   ],
   "source": [
    "cat_params = {\n",
    "    'iterations': [700, 1000, 1500],\n",
    "    'learning_rate': [0.01, 0.03, 0.1],\n",
    "    'depth': [4, 6, 10],\n",
    "    'l2_leaf_reg': [1, 3, 5, 7]\n",
    "}\n",
    "\n",
    "cat_grid = GridSearchCV(cat, cat_params, n_jobs=-1, verbose=True)\n",
    "cat_grid.fit(X_train, y_train)\n",
    "\n",
    "cat_grid.best_params_\n",
    "cat_grid.best_score_"
   ]
  },
  {
   "cell_type": "code",
   "execution_count": null,
   "metadata": {},
   "outputs": [],
   "source": [
    "y_pred_cat = cat_grid.predict(test_df_all)"
   ]
  },
  {
   "cell_type": "code",
   "execution_count": null,
   "metadata": {},
   "outputs": [],
   "source": [
    "submission_cat = pd.DataFrame({\n",
    "    'PassengerId': test_df.PassengerId,\n",
    "    'Survived': y_pred_cat\n",
    "})\n",
    "submission_cat.Survived = submission_cat.Survived.astype(int)\n",
    "submission_cat.to_csv(\"submission_cat.csv\", index=False)"
   ]
  },
  {
   "cell_type": "markdown",
   "metadata": {},
   "source": [
    "**Результат посылки после подбора параметров catboost**\n",
    "\n",
    "**0.76555**"
   ]
  },
  {
   "cell_type": "markdown",
   "metadata": {},
   "source": [
    "Для лучшего предсказания (`RandomForest` после подбора параметров) построим `confusion_matrix`."
   ]
  },
  {
   "cell_type": "code",
   "execution_count": null,
   "metadata": {},
   "outputs": [
    {
     "ename": "NameError",
     "evalue": "name 'rf_tuned' is not defined",
     "output_type": "error",
     "traceback": [
      "\u001b[1;31m---------------------------------------------------------------------------\u001b[0m",
      "\u001b[1;31mNameError\u001b[0m                                 Traceback (most recent call last)",
      "\u001b[1;32mC:\\Users\\BIASPA~1\\AppData\\Local\\Temp/ipykernel_10392/2863775120.py\u001b[0m in \u001b[0;36m<module>\u001b[1;34m\u001b[0m\n\u001b[1;32m----> 1\u001b[1;33m \u001b[0my_pred_train\u001b[0m \u001b[1;33m=\u001b[0m \u001b[0mrf_tuned\u001b[0m\u001b[1;33m.\u001b[0m\u001b[0mpredict\u001b[0m\u001b[1;33m(\u001b[0m\u001b[0mtrain_df_all\u001b[0m\u001b[1;33m)\u001b[0m\u001b[1;33m\u001b[0m\u001b[1;33m\u001b[0m\u001b[0m\n\u001b[0m",
      "\u001b[1;31mNameError\u001b[0m: name 'rf_tuned' is not defined"
     ]
    }
   ],
   "source": [
    "y_pred_train = rf_tuned.predict(train_df_all)"
   ]
  },
  {
   "cell_type": "code",
   "execution_count": null,
   "metadata": {},
   "outputs": [
    {
     "data": {
      "image/png": "[encoded data removed]",
      "text/plain": [
       "<Figure size 432x288 with 2 Axes>"
      ]
     },
     "metadata": {
      "needs_background": "light"
     },
     "output_type": "display_data"
    }
   ],
   "source": [
    "sns.heatmap(confusion_matrix(y, y_pred_train), annot=True,\n",
    "            fmt='3.0f', cmap=\"summer\");"
   ]
  },
  {
   "cell_type": "markdown",
   "metadata": {},
   "source": [
    "### Выводы"
   ]
  },
  {
   "cell_type": "markdown",
   "metadata": {},
   "source": [
    "Настройка параметров повышает предсказательную способность моделей.\n",
    "\n",
    "В данной работе наилучший результат был достигнут `RandomForestClassifier` после настройки параметров **hyperopt**.\n",
    "\n",
    "Настройка параметров с помощью `GridSearchCV` зачастую работает очень медленно (зависит от модели)."
   ]
  },
  {
   "cell_type": "code",
   "execution_count": null,
   "metadata": {},
   "outputs": [],
   "source": []
  }
 ],
 "metadata": {
  "anaconda-cloud": {},
  "kernelspec": {
   "display_name": "Python 3.9.10 64-bit",
   "language": "python",
   "name": "python3"
  },
  "language_info": {
   "codemirror_mode": {
    "name": "ipython",
    "version": 3
   },
   "file_extension": ".py",
   "mimetype": "text/x-python",
   "name": "python",
   "nbconvert_exporter": "python",
   "pygments_lexer": "ipython3",
   "version": "3.9.10"
  },
  "name": "lesson3_homework_trees_titanic_solution.ipynb",
  "vscode": {
   "interpreter": {
    "hash": "75018e4624fe2b3dc689445390d7c04f8ed1a659e4e3427f413c2854b22928d9"
   }
  }
 },
 "nbformat": 4,
 "nbformat_minor": 1
}
