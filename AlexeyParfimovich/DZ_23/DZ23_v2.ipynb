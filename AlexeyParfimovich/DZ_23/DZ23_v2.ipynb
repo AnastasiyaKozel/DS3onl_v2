{
 "cells": [
  {
   "attachments": {},
   "cell_type": "markdown",
   "metadata": {},
   "source": [
    "## Группа DS03-onl\n",
    "\n",
    "\n",
    "\n",
    "Студент Парфимович Алексей\n",
    "\n",
    "## Домашнее задание №23\n",
    "\n",
    "Задача поиска и индентефикации лиц.\n",
    "- Определить координаты зрачка."
   ]
  },
  {
   "attachments": {},
   "cell_type": "markdown",
   "metadata": {},
   "source": [
    "См. примеры по ссылкам  \n",
    "https://www.makeartwithpython.com/blog/deal-with-it-generator-face-recognition/"
   ]
  },
  {
   "cell_type": "code",
   "execution_count": 1,
   "metadata": {},
   "outputs": [],
   "source": [
    "import dlib\n",
    "import numpy as np\n",
    "\n",
    "from PIL import Image\n",
    "from imutils import face_utils\n",
    "\n",
    "import moviepy.editor as mpy"
   ]
  },
  {
   "cell_type": "code",
   "execution_count": 2,
   "metadata": {},
   "outputs": [
    {
     "name": "stdout",
     "output_type": "stream",
     "text": [
      "1 faces found in source image. processing into gif now.\n"
     ]
    }
   ],
   "source": [
    "detector = dlib.get_frontal_face_detector()\n",
    "predictor = dlib.shape_predictor('assets\\shape_predictor_68_face_landmarks.dat')\n",
    "\n",
    "# resize to a max_width to keep gif size small\n",
    "max_width = 500\n",
    "\n",
    "# open our image, convert to rgba\n",
    "img = Image.open('image1.jpg').convert('RGBA')\n",
    "\n",
    "# two images we'll need, glasses and deal with it text\n",
    "deal = Image.open(\"deals.png\")\n",
    "text = Image.open('text.png')\n",
    "\n",
    "if img.size[0] > max_width:\n",
    "    scaled_height = int(max_width * img.size[1] / img.size[0])\n",
    "    img.thumbnail((max_width, scaled_height))\n",
    "\n",
    "img_gray = np.array(img.convert('L')) # need grayscale for dlib face detection\n",
    "\n",
    "rects = detector(img_gray, 0)\n",
    "\n",
    "if len(rects) == 0:\n",
    "    print(\"No faces found, exiting.\")\n",
    "    exit()\n",
    "\n",
    "print(\"%i faces found in source image. processing into gif now.\" % len(rects))"
   ]
  },
  {
   "cell_type": "code",
   "execution_count": 3,
   "metadata": {},
   "outputs": [
    {
     "name": "stdout",
     "output_type": "stream",
     "text": [
      "194 308 452 50\n"
     ]
    }
   ],
   "source": [
    "faces = []\n",
    "\n",
    "for rect in rects:\n",
    "    face = {}\n",
    "    print(rect.top(), rect.right(), rect.bottom(), rect.left())\n",
    "    shades_width = rect.right() - rect.left()\n",
    "\n",
    "    # predictor used to detect orientation in place where current face is\n",
    "    shape = predictor(img_gray, rect)\n",
    "    shape = face_utils.shape_to_np(shape)\n",
    "\n",
    "    # grab the outlines of each eye from the input image\n",
    "    leftEye = shape[36:42]\n",
    "    rightEye = shape[42:48]\n",
    "\n",
    "    # compute the center of mass for each eye\n",
    "    leftEyeCenter = leftEye.mean(axis=0).astype(\"int\")\n",
    "    rightEyeCenter = rightEye.mean(axis=0).astype(\"int\")\n",
    "\n",
    "    # compute the angle between the eye centroids\n",
    "    dY = leftEyeCenter[1] - rightEyeCenter[1] \n",
    "    dX = leftEyeCenter[0] - rightEyeCenter[0]\n",
    "    angle = np.rad2deg(np.arctan2(dY, dX)) \n",
    "\n",
    "    # resize glasses to fit face width\n",
    "    current_deal = deal.resize((shades_width, int(shades_width * deal.size[1] / deal.size[0])),\n",
    "                               resample=Image.LANCZOS)\n",
    "    # rotate and flip to fit eye centers\n",
    "    current_deal = current_deal.rotate(angle, expand=True)\n",
    "    current_deal = current_deal.transpose(Image.FLIP_TOP_BOTTOM)\n",
    "\n",
    "    # add the scaled image to a list, shift the final position to the\n",
    "    # left of the leftmost eye\n",
    "    face['glasses_image'] = current_deal\n",
    "    left_eye_x = leftEye[0,0] - shades_width // 4\n",
    "    left_eye_y = leftEye[0,1] - shades_width // 6\n",
    "    face['final_pos'] = (left_eye_x, left_eye_y)\n",
    "    faces.append(face)"
   ]
  },
  {
   "cell_type": "code",
   "execution_count": 4,
   "metadata": {},
   "outputs": [],
   "source": [
    "# how long our gif should be\n",
    "duration = 4\n",
    "\n",
    "def make_frame(t):\n",
    "    draw_img = img.convert('RGBA') # returns copy of original image\n",
    "\n",
    "    if t == 0: # no glasses first image\n",
    "        return np.asarray(draw_img)\n",
    "\n",
    "    for face in faces: \n",
    "        if t <= duration - 2: # leave 2 seconds for text\n",
    "            current_x = int(face['final_pos'][0]) # start from proper x\n",
    "            current_y = int(face['final_pos'][1] * t / (duration - 2)) # move to position w/ 2 secs to spare\n",
    "            draw_img.paste(face['glasses_image'], (current_x, current_y) , face['glasses_image'])\n",
    "        else: # draw the text for last 2 seconds\n",
    "            draw_img.paste(face['glasses_image'], face['final_pos'], face['glasses_image'])\n",
    "            draw_img.paste(text, (75, draw_img.height // 2 - 32), text)\n",
    "\n",
    "    return np.asarray(draw_img)"
   ]
  },
  {
   "cell_type": "code",
   "execution_count": 5,
   "metadata": {},
   "outputs": [
    {
     "name": "stdout",
     "output_type": "stream",
     "text": [
      "MoviePy - Building file deal2.gif with imageio.\n"
     ]
    },
    {
     "name": "stderr",
     "output_type": "stream",
     "text": [
      "                                                            \r"
     ]
    }
   ],
   "source": [
    "animation = mpy.VideoClip(make_frame, duration=duration)\n",
    "animation.write_gif(\"deal1.gif\", fps=4)"
   ]
  }
 ],
 "metadata": {
  "kernelspec": {
   "display_name": "Python 3.9.13 64-bit",
   "language": "python",
   "name": "python3"
  },
  "language_info": {
   "codemirror_mode": {
    "name": "ipython",
    "version": 3
   },
   "file_extension": ".py",
   "mimetype": "text/x-python",
   "name": "python",
   "nbconvert_exporter": "python",
   "pygments_lexer": "ipython3",
   "version": "3.9.13 (tags/v3.9.13:6de2ca5, May 17 2022, 16:36:42) [MSC v.1929 64 bit (AMD64)]"
  },
  "vscode": {
   "interpreter": {
    "hash": "11938c6bc6919ae2720b4d5011047913343b08a43b18698fd82dedb0d4417594"
   }
  }
 },
 "nbformat": 4,
 "nbformat_minor": 2
}
