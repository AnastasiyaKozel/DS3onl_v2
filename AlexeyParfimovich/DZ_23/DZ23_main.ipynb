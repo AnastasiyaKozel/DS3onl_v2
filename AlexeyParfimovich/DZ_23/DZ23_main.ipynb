{
 "cells": [
  {
   "attachments": {},
   "cell_type": "markdown",
   "metadata": {},
   "source": [
    "## Группа DS03-onl\n",
    "\n",
    "\n",
    "\n",
    "Студент Парфимович Алексей\n",
    "\n",
    "## Домашнее задание №23\n",
    "\n",
    "Задача поиска и индентефикации лиц.\n",
    "- Определить координаты зрачка.\n",
    "\n",
    "\n",
    "### !!! Перед началом работы необходимо распаковать архив shape_predictor_68_face_landmarks.zip в каталоге \\assets !!!"
   ]
  },
  {
   "attachments": {},
   "cell_type": "markdown",
   "metadata": {},
   "source": [
    "См. пример реализации алгоритма по ссылке\n",
    "https://habr.com/ru/post/429024/  "
   ]
  },
  {
   "cell_type": "code",
   "execution_count": 17,
   "metadata": {},
   "outputs": [],
   "source": [
    "from imutils import face_utils\n",
    "import numpy as np\n",
    "import imutils\n",
    "import dlib\n",
    "import cv2\n",
    "\n",
    "\n",
    "# параметры конфигурации\n",
    "config = {\n",
    "    \"face_detector_prototxt\": \"assets/deploy.prototxt\",\n",
    "\t\"face_detector_weights\": \"assets/res10_300x300_ssd_iter_140000.caffemodel\",\n",
    "\t\"landmark_predictor\": \"assets/shape_predictor_68_face_landmarks.dat\",\n",
    "    \"sunglasses\": \"assets/sunglasses.png\",\n",
    "\t\"sunglasses_mask\": \"assets/sunglasses_mask.png\",\n",
    "    \"min_confidence\": 0.5\n",
    "}\n",
    "\n",
    "# Загружаем в память детектор лиц DNN OpenCV и предиктор ориентиров лица dlib \n",
    "# для локализации отдельных структур лица (глаза, брови, нос, рот, линию подбородка)\n",
    "detector = cv2.dnn.readNetFromCaffe(config[\"face_detector_prototxt\"], config[\"face_detector_weights\"])\n",
    "predictor = dlib.shape_predictor(config[\"landmark_predictor\"])"
   ]
  },
  {
   "attachments": {},
   "cell_type": "markdown",
   "metadata": {},
   "source": [
    "#### Реализуем функции для наложения темных очков на исходное изображение:"
   ]
  },
  {
   "attachments": {},
   "cell_type": "markdown",
   "metadata": {},
   "source": [
    " Функция альфа-смешивания _alpha_blend_ преобразует передний план, фон и альфа-канал в числа с плавающей запятой в диапазоне [0, 1], выполняет альфа-смешивание, добавляет передний план и фон, возврашает результат в точку вызова функции"
   ]
  },
  {
   "cell_type": "code",
   "execution_count": 18,
   "metadata": {},
   "outputs": [],
   "source": [
    "def alpha_blend(fg, bg, alpha):\n",
    "\t# преобразуем фон, передний план и альфа-канал в числа с плавающей запятой в диапазоне [0, 1]\n",
    "\tfg = fg.astype(\"float\")\n",
    "\tbg = bg.astype(\"float\")\n",
    "\talpha = alpha.astype(\"float\") / 255\n",
    " \n",
    "\t# выполняем альфа-смешивание\n",
    "\tfg = cv2.multiply(alpha, fg)\n",
    "\tbg = cv2.multiply(1 - alpha, bg)\n",
    " \n",
    "\t# добавляем передний план и фон, получая конечный результат\n",
    "\toutput = cv2.add(fg, bg)\n",
    "\t\n",
    "\t# возвращаем результат\n",
    "\treturn output.astype(\"uint8\")"
   ]
  },
  {
   "attachments": {},
   "cell_type": "markdown",
   "metadata": {},
   "source": [
    "Функция _overlay_image_ накладывает передний план (fg) на верхнюю часть фонового изображения (bg) по координатам coords (координаты (x, y)), реализуя альфа-прозрачность по маске переднего плана fgMask"
   ]
  },
  {
   "cell_type": "code",
   "execution_count": 19,
   "metadata": {},
   "outputs": [],
   "source": [
    "def overlay_image(bg, fg, fgMask, coords):\n",
    "\t# определяем размер переднего плана (ширина, высота) и координаты его размещения\n",
    "\t(sH, sW) = fg.shape[:2]\n",
    "\t(x, y) = coords\n",
    " \n",
    "\t# наложение должно быть точно такой ширины и высоты как исходная картинка, \n",
    "\t# но полностью пустым, кроме переднего плана, который мы добавляем\n",
    "\toverlay = np.zeros(bg.shape, dtype=\"uint8\")\n",
    "\toverlay[y:y + sH, x:x + sW] = fg\n",
    " \n",
    "\t# альфа-канал контролирует, *координаты* и *степень* прозрачности, \n",
    "\t# его размеры такие же, как у исходного изображения, \n",
    "\t# но он содержит только маску наложения\n",
    "\talpha = np.zeros(bg.shape[:2], dtype=\"uint8\")\n",
    "\talpha[y:y + sH, x:x + sW] = fgMask\n",
    "\talpha = np.dstack([alpha] * 3)\n",
    " \n",
    "\t# выполняем альфа-смешивание для переднего плана, фона и альфа-канала\n",
    "\toutput = alpha_blend(overlay, bg, alpha)\n",
    " \n",
    "\t# возвращаем результат обработки\n",
    "\treturn output"
   ]
  },
  {
   "attachments": {},
   "cell_type": "markdown",
   "metadata": {},
   "source": [
    "Функция _put_on_sunglasses_ реализует функционал обнаружения и выделения лица на изображении,  \n",
    "локализует ориентиры лица, определяет координаты центров глаз выделенного лица и угол между центроидами глаз,\n",
    "вычисляет требуемые поворот и изменение размеров солнечных очков для наложения на лицо,\n",
    "выполняет наложение солнечных очков (sunglasses) на исходное изображение."
   ]
  },
  {
   "cell_type": "code",
   "execution_count": 20,
   "metadata": {},
   "outputs": [],
   "source": [
    "def put_on_sunglasses(image, sg, sgMask):\n",
    "\n",
    "\t'''\n",
    "\tВыполняем обнаружение лица:\n",
    "\t- конструируем из исходного изображения blob для отправки в детектор лиц нейросети\n",
    "\t- выполняем процедуру обнаружения лиц.\n",
    "\t- Находим лицо с наибольшим значением вероятности и сравниваем его с минимально допустимым порогом вероятности. Если критерии не выполняются - завершаем работу, иначе продолжаем.\n",
    "\t'''\n",
    "\n",
    "\t(H, W) = image.shape[:2]\n",
    "\n",
    "\t# создаём blob для отправки в детектор лиц нейросети\n",
    "\tblob = cv2.dnn.blobFromImage(cv2.resize(image, (300, 300)), 1.0,\n",
    "\t\t(300, 300), (104.0, 177.0, 123.0))\n",
    "\t\n",
    "\t# передаём блоб в нейросеть и получаем результаты\n",
    "\tdetector.setInput(blob)\n",
    "\tdetections = detector.forward()\n",
    "\t\n",
    "\t# для наложения очков нужно только одно лицо, поэтому\n",
    "\t# определяем лицо, для которого выдаётся максимальная вероятность\n",
    "\ti = np.argmax(detections[0, 0, :, 2])\n",
    "\tconfidence = detections[0, 0, i, 2]\n",
    "\t\n",
    "\t# отфильтровываем слабые результаты\n",
    "\tif confidence < config[\"min_confidence\"]:\n",
    "\t\tprint(\"[INFO] no reliable faces found\")\n",
    "\t\tsys.exit(0)\n",
    "\n",
    "\t'''\n",
    "\tИзвлекаем обнаруженное лицо и вычисляем ориентиры:\n",
    "\t- извлекаем координаты ограничительной рамки вокруг лица.\n",
    "\t- создаём объект rectangle в dlib и применяем локализацию ориентиров лица.\n",
    "\t- извлекаем (x, y)-координаты leftEyePts и rightEyePts, соответственно\n",
    "\t'''\n",
    "\n",
    "\t# вычисляем координаты (x, y) ограничительной рамки на лице\n",
    "\tbox = detections[0, 0, i, 3:7] * np.array([W, H, W, H])\n",
    "\t(startX, startY, endX, endY) = box.astype(\"int\")\n",
    "\t\n",
    "\t# конструируем прямоугольный объект dlib из координат ограничительной\n",
    "\t# рамки и определяем ориентиры внутри него\n",
    "\trect = dlib.rectangle(int(startX), int(startY), int(endX), int(endY))\n",
    "\tshape = predictor(image, rect)\n",
    "\tshape = face_utils.shape_to_np(shape)\n",
    "\t\n",
    "\t# берём индексы ориентиров для левого и правого глаз, вычисляем координаты каждого глаза\n",
    "\t(lStart, lEnd) = face_utils.FACIAL_LANDMARKS_IDXS[\"left_eye\"]\n",
    "\t(rStart, rEnd) = face_utils.FACIAL_LANDMARKS_IDXS[\"right_eye\"]\n",
    "\tleftEyePts = shape[lStart:lEnd]\n",
    "\trightEyePts = shape[rStart:rEnd]\n",
    "\n",
    "\t'''\n",
    "\tПо заданным координатам глаз рассчитываем, где и как размещать солнцезащитные очки:\n",
    "\t- вычисляем центр каждого глаза и затем угол между центроидами\n",
    "\t- выполняем поворот и изменение размера очков (используем функцию rotate_bound чтобы OpenCV не обрезал части, которые не видны после аффинного преобразования)\n",
    "\t- применяем аналогичные операции к маске, предварительно выполнив преобразование в оттенки серого и бинаризацию (маски всегда бинарны)\n",
    "\t'''\n",
    "\n",
    "\t# вычисляем центроиды для каждого глаза\n",
    "\tleftEyeCenter = leftEyePts.mean(axis=0).astype(\"int\")\n",
    "\trightEyeCenter = rightEyePts.mean(axis=0).astype(\"int\")\n",
    "\t\n",
    "\t# вычисляем угол между центроидами глаз\n",
    "\tdY = rightEyeCenter[1] - leftEyeCenter[1]\n",
    "\tdX = rightEyeCenter[0] - leftEyeCenter[0]\n",
    "\tangle = np.degrees(np.arctan2(dY, dX)) - 180\n",
    "\t\n",
    "\t# поворачиваем изображение очков на вычисленный угол, чтобы поворот очков соответствовал наклону головы\n",
    "\tsg = imutils.rotate_bound(sg, angle)\n",
    "\t\n",
    "\t# очки не должны покрывать всю ширину лица, а только глаза \n",
    "\t# выполняем примерную оценку и указываем 90% ширины лица в качестве ширины очков\n",
    "\tsgW = int((endX - startX) * 0.9)\n",
    "\tsg = imutils.resize(sg, width=sgW)\n",
    "\t\n",
    "\t# в очках есть прозрачные части (нижняя часть, под линзами и носом), \n",
    "\t# для получения приемлемого результатаm применяем маску и альфа-смешивание\n",
    "\tsgMask = cv2.cvtColor(sgMask, cv2.COLOR_BGR2GRAY)\n",
    "\tsgMask = cv2.threshold(sgMask, 0, 255, cv2.THRESH_BINARY)[1]\n",
    "\tsgMask = imutils.rotate_bound(sgMask, angle)\n",
    "\tsgMask = imutils.resize(sgMask, width=sgW, inter=cv2.INTER_NEAREST)\n",
    "\n",
    "\t# Формруем конечное изображение\n",
    "\tshiftX = int(sg.shape[1] * 0.25)\n",
    "\tshiftY = int(sg.shape[0] * 0.35)\n",
    "\ty = max(0, rightEyeCenter[1] - shiftY)\n",
    "\t\n",
    "\t# Накладываем солнечные очки (sunglasses) на исходное изображение\n",
    "\toutput = overlay_image(image, sg, sgMask, (rightEyeCenter[0] - shiftX, y))\n",
    "\n",
    "\treturn output"
   ]
  },
  {
   "cell_type": "code",
   "execution_count": 21,
   "metadata": {},
   "outputs": [],
   "source": [
    "# загружаем очки и соответствующую маску\n",
    "sg = cv2.imread(config[\"sunglasses\"])\n",
    "sgMask = cv2.imread(config[\"sunglasses_mask\"])\n",
    "\n",
    "cap = cv2.VideoCapture(0)\n",
    "\n",
    "while True:\n",
    "    # cap возвращает 2 параметра: ret - bool (true, если сигнал с камеры поступает), frame - изображение\n",
    "    ret, frame = cap.read()\n",
    "    \n",
    "    if not ret: break\n",
    "\n",
    "    # выполняем наложение солнечных очков\n",
    "    output = put_on_sunglasses(frame, sg, sgMask)\n",
    "\n",
    "    cv2.imshow('output', output)\n",
    "\n",
    "    # Завершить работу по нажатию клавиши \"q\" (!!! Обязательна английская раскладка)\n",
    "    if cv2.waitKey(10) & 0xFF == ord('q'): break\n",
    "\n",
    "cap.release()\n",
    "cv2.destroyAllWindows()"
   ]
  }
 ],
 "metadata": {
  "kernelspec": {
   "display_name": "Python 3.9.13 64-bit",
   "language": "python",
   "name": "python3"
  },
  "language_info": {
   "codemirror_mode": {
    "name": "ipython",
    "version": 3
   },
   "file_extension": ".py",
   "mimetype": "text/x-python",
   "name": "python",
   "nbconvert_exporter": "python",
   "pygments_lexer": "ipython3",
   "version": "3.9.13 (tags/v3.9.13:6de2ca5, May 17 2022, 16:36:42) [MSC v.1929 64 bit (AMD64)]"
  },
  "vscode": {
   "interpreter": {
    "hash": "11938c6bc6919ae2720b4d5011047913343b08a43b18698fd82dedb0d4417594"
   }
  }
 },
 "nbformat": 4,
 "nbformat_minor": 2
}
