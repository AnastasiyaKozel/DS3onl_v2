{
 "cells": [
  {
   "cell_type": "markdown",
   "id": "ea02f945",
   "metadata": {},
   "source": [
    "__Татур А.А.__\n",
    "__v.01__\n",
    "__23/12/2022__"
   ]
  },
  {
   "cell_type": "markdown",
   "id": "b0c0fc21",
   "metadata": {},
   "source": [
    "__Задание__\n",
    "\n",
    "1. Выполнить Стэкинг, Бэгин и Бустинг. \n",
    "2. При реализации алгоритмов не использовать готовые решения. \n",
    "3. За сравнение взять CatBoostClassifier как базовая метрика качества. \n",
    "4. Сравнить результат с реализацией своих ансамблей. \n",
    "5. Для однозначности и интерпретируемости результатов использовать приложенный набор данных. \n",
    "6. При реализации бустинга - просто сокращайте набор данных на котором модель отработала хорошо (правильно предсказанные данные). Попробуйте просто удалять % от данных на которых алгоритм работал хорошо. Например сделать 20 итераций удаляя на каждом этапе по 5% от верно предсказанных."
   ]
  },
  {
   "cell_type": "code",
   "execution_count": 208,
   "id": "a2efb888",
   "metadata": {},
   "outputs": [],
   "source": [
    "import pandas as pd\n",
    "import numpy as np\n",
    "import seaborn as sns\n",
    "import matplotlib.pyplot as plt\n",
    "\n",
    "from sklearn.model_selection import train_test_split\n",
    "from sklearn.pipeline import Pipeline\n",
    "from math import sqrt\n",
    "from sklearn.metrics import roc_auc_score, f1_score\n",
    "from sklearn.preprocessing import StandardScaler\n",
    "\n",
    "from sklearn.tree import DecisionTreeClassifier\n",
    "from sklearn.ensemble import RandomForestClassifier\n",
    "from sklearn.linear_model import LogisticRegression\n",
    "from sklearn.neighbors import KNeighborsClassifier\n",
    "from sklearn.svm import SVC\n",
    "\n",
    "\n",
    "from catboost import CatBoostClassifier\n",
    "from sklearn.svm import SVC\n",
    "\n",
    "from sklearn.model_selection import validation_curve, learning_curve\n",
    "\n",
    "import warnings\n",
    "warnings.filterwarnings('ignore')"
   ]
  },
  {
   "cell_type": "code",
   "execution_count": 209,
   "id": "5f886495",
   "metadata": {},
   "outputs": [],
   "source": [
    "df=pd.read_csv('winequality-white.csv',\n",
    "              sep=';')"
   ]
  },
  {
   "cell_type": "code",
   "execution_count": 210,
   "id": "4b968618",
   "metadata": {},
   "outputs": [
    {
     "data": {
      "text/html": [
       "<div>\n",
       "<style scoped>\n",
       "    .dataframe tbody tr th:only-of-type {\n",
       "        vertical-align: middle;\n",
       "    }\n",
       "\n",
       "    .dataframe tbody tr th {\n",
       "        vertical-align: top;\n",
       "    }\n",
       "\n",
       "    .dataframe thead th {\n",
       "        text-align: right;\n",
       "    }\n",
       "</style>\n",
       "<table border=\"1\" class=\"dataframe\">\n",
       "  <thead>\n",
       "    <tr style=\"text-align: right;\">\n",
       "      <th></th>\n",
       "      <th>fixed acidity</th>\n",
       "      <th>volatile acidity</th>\n",
       "      <th>citric acid</th>\n",
       "      <th>residual sugar</th>\n",
       "      <th>chlorides</th>\n",
       "      <th>free sulfur dioxide</th>\n",
       "      <th>total sulfur dioxide</th>\n",
       "      <th>density</th>\n",
       "      <th>pH</th>\n",
       "      <th>sulphates</th>\n",
       "      <th>alcohol</th>\n",
       "      <th>quality</th>\n",
       "    </tr>\n",
       "  </thead>\n",
       "  <tbody>\n",
       "    <tr>\n",
       "      <th>0</th>\n",
       "      <td>7.0</td>\n",
       "      <td>0.27</td>\n",
       "      <td>0.36</td>\n",
       "      <td>20.7</td>\n",
       "      <td>0.045</td>\n",
       "      <td>45.0</td>\n",
       "      <td>170.0</td>\n",
       "      <td>1.00100</td>\n",
       "      <td>3.00</td>\n",
       "      <td>0.45</td>\n",
       "      <td>8.8</td>\n",
       "      <td>6</td>\n",
       "    </tr>\n",
       "    <tr>\n",
       "      <th>1</th>\n",
       "      <td>6.3</td>\n",
       "      <td>0.30</td>\n",
       "      <td>0.34</td>\n",
       "      <td>1.6</td>\n",
       "      <td>0.049</td>\n",
       "      <td>14.0</td>\n",
       "      <td>132.0</td>\n",
       "      <td>0.99400</td>\n",
       "      <td>3.30</td>\n",
       "      <td>0.49</td>\n",
       "      <td>9.5</td>\n",
       "      <td>6</td>\n",
       "    </tr>\n",
       "    <tr>\n",
       "      <th>2</th>\n",
       "      <td>8.1</td>\n",
       "      <td>0.28</td>\n",
       "      <td>0.40</td>\n",
       "      <td>6.9</td>\n",
       "      <td>0.050</td>\n",
       "      <td>30.0</td>\n",
       "      <td>97.0</td>\n",
       "      <td>0.99510</td>\n",
       "      <td>3.26</td>\n",
       "      <td>0.44</td>\n",
       "      <td>10.1</td>\n",
       "      <td>6</td>\n",
       "    </tr>\n",
       "    <tr>\n",
       "      <th>3</th>\n",
       "      <td>7.2</td>\n",
       "      <td>0.23</td>\n",
       "      <td>0.32</td>\n",
       "      <td>8.5</td>\n",
       "      <td>0.058</td>\n",
       "      <td>47.0</td>\n",
       "      <td>186.0</td>\n",
       "      <td>0.99560</td>\n",
       "      <td>3.19</td>\n",
       "      <td>0.40</td>\n",
       "      <td>9.9</td>\n",
       "      <td>6</td>\n",
       "    </tr>\n",
       "    <tr>\n",
       "      <th>4</th>\n",
       "      <td>7.2</td>\n",
       "      <td>0.23</td>\n",
       "      <td>0.32</td>\n",
       "      <td>8.5</td>\n",
       "      <td>0.058</td>\n",
       "      <td>47.0</td>\n",
       "      <td>186.0</td>\n",
       "      <td>0.99560</td>\n",
       "      <td>3.19</td>\n",
       "      <td>0.40</td>\n",
       "      <td>9.9</td>\n",
       "      <td>6</td>\n",
       "    </tr>\n",
       "    <tr>\n",
       "      <th>...</th>\n",
       "      <td>...</td>\n",
       "      <td>...</td>\n",
       "      <td>...</td>\n",
       "      <td>...</td>\n",
       "      <td>...</td>\n",
       "      <td>...</td>\n",
       "      <td>...</td>\n",
       "      <td>...</td>\n",
       "      <td>...</td>\n",
       "      <td>...</td>\n",
       "      <td>...</td>\n",
       "      <td>...</td>\n",
       "    </tr>\n",
       "    <tr>\n",
       "      <th>4893</th>\n",
       "      <td>6.2</td>\n",
       "      <td>0.21</td>\n",
       "      <td>0.29</td>\n",
       "      <td>1.6</td>\n",
       "      <td>0.039</td>\n",
       "      <td>24.0</td>\n",
       "      <td>92.0</td>\n",
       "      <td>0.99114</td>\n",
       "      <td>3.27</td>\n",
       "      <td>0.50</td>\n",
       "      <td>11.2</td>\n",
       "      <td>6</td>\n",
       "    </tr>\n",
       "    <tr>\n",
       "      <th>4894</th>\n",
       "      <td>6.6</td>\n",
       "      <td>0.32</td>\n",
       "      <td>0.36</td>\n",
       "      <td>8.0</td>\n",
       "      <td>0.047</td>\n",
       "      <td>57.0</td>\n",
       "      <td>168.0</td>\n",
       "      <td>0.99490</td>\n",
       "      <td>3.15</td>\n",
       "      <td>0.46</td>\n",
       "      <td>9.6</td>\n",
       "      <td>5</td>\n",
       "    </tr>\n",
       "    <tr>\n",
       "      <th>4895</th>\n",
       "      <td>6.5</td>\n",
       "      <td>0.24</td>\n",
       "      <td>0.19</td>\n",
       "      <td>1.2</td>\n",
       "      <td>0.041</td>\n",
       "      <td>30.0</td>\n",
       "      <td>111.0</td>\n",
       "      <td>0.99254</td>\n",
       "      <td>2.99</td>\n",
       "      <td>0.46</td>\n",
       "      <td>9.4</td>\n",
       "      <td>6</td>\n",
       "    </tr>\n",
       "    <tr>\n",
       "      <th>4896</th>\n",
       "      <td>5.5</td>\n",
       "      <td>0.29</td>\n",
       "      <td>0.30</td>\n",
       "      <td>1.1</td>\n",
       "      <td>0.022</td>\n",
       "      <td>20.0</td>\n",
       "      <td>110.0</td>\n",
       "      <td>0.98869</td>\n",
       "      <td>3.34</td>\n",
       "      <td>0.38</td>\n",
       "      <td>12.8</td>\n",
       "      <td>7</td>\n",
       "    </tr>\n",
       "    <tr>\n",
       "      <th>4897</th>\n",
       "      <td>6.0</td>\n",
       "      <td>0.21</td>\n",
       "      <td>0.38</td>\n",
       "      <td>0.8</td>\n",
       "      <td>0.020</td>\n",
       "      <td>22.0</td>\n",
       "      <td>98.0</td>\n",
       "      <td>0.98941</td>\n",
       "      <td>3.26</td>\n",
       "      <td>0.32</td>\n",
       "      <td>11.8</td>\n",
       "      <td>6</td>\n",
       "    </tr>\n",
       "  </tbody>\n",
       "</table>\n",
       "<p>4898 rows × 12 columns</p>\n",
       "</div>"
      ],
      "text/plain": [
       "      fixed acidity  volatile acidity  citric acid  residual sugar  chlorides  \\\n",
       "0               7.0              0.27         0.36            20.7      0.045   \n",
       "1               6.3              0.30         0.34             1.6      0.049   \n",
       "2               8.1              0.28         0.40             6.9      0.050   \n",
       "3               7.2              0.23         0.32             8.5      0.058   \n",
       "4               7.2              0.23         0.32             8.5      0.058   \n",
       "...             ...               ...          ...             ...        ...   \n",
       "4893            6.2              0.21         0.29             1.6      0.039   \n",
       "4894            6.6              0.32         0.36             8.0      0.047   \n",
       "4895            6.5              0.24         0.19             1.2      0.041   \n",
       "4896            5.5              0.29         0.30             1.1      0.022   \n",
       "4897            6.0              0.21         0.38             0.8      0.020   \n",
       "\n",
       "      free sulfur dioxide  total sulfur dioxide  density    pH  sulphates  \\\n",
       "0                    45.0                 170.0  1.00100  3.00       0.45   \n",
       "1                    14.0                 132.0  0.99400  3.30       0.49   \n",
       "2                    30.0                  97.0  0.99510  3.26       0.44   \n",
       "3                    47.0                 186.0  0.99560  3.19       0.40   \n",
       "4                    47.0                 186.0  0.99560  3.19       0.40   \n",
       "...                   ...                   ...      ...   ...        ...   \n",
       "4893                 24.0                  92.0  0.99114  3.27       0.50   \n",
       "4894                 57.0                 168.0  0.99490  3.15       0.46   \n",
       "4895                 30.0                 111.0  0.99254  2.99       0.46   \n",
       "4896                 20.0                 110.0  0.98869  3.34       0.38   \n",
       "4897                 22.0                  98.0  0.98941  3.26       0.32   \n",
       "\n",
       "      alcohol  quality  \n",
       "0         8.8        6  \n",
       "1         9.5        6  \n",
       "2        10.1        6  \n",
       "3         9.9        6  \n",
       "4         9.9        6  \n",
       "...       ...      ...  \n",
       "4893     11.2        6  \n",
       "4894      9.6        5  \n",
       "4895      9.4        6  \n",
       "4896     12.8        7  \n",
       "4897     11.8        6  \n",
       "\n",
       "[4898 rows x 12 columns]"
      ]
     },
     "execution_count": 210,
     "metadata": {},
     "output_type": "execute_result"
    }
   ],
   "source": [
    "df"
   ]
  },
  {
   "cell_type": "code",
   "execution_count": 211,
   "id": "ed92298b",
   "metadata": {},
   "outputs": [],
   "source": [
    "df.loc[df.quality<=5, 'quality']=0\n",
    "df.loc[df.quality>=6, 'quality']=1"
   ]
  },
  {
   "cell_type": "code",
   "execution_count": 212,
   "id": "147f5b3d",
   "metadata": {},
   "outputs": [
    {
     "data": {
      "text/plain": [
       "1    3258\n",
       "0    1640\n",
       "Name: quality, dtype: int64"
      ]
     },
     "execution_count": 212,
     "metadata": {},
     "output_type": "execute_result"
    }
   ],
   "source": [
    "df.quality.value_counts()"
   ]
  },
  {
   "cell_type": "code",
   "execution_count": 213,
   "id": "dec95128",
   "metadata": {},
   "outputs": [
    {
     "data": {
      "text/plain": [
       "fixed acidity           0\n",
       "volatile acidity        0\n",
       "citric acid             0\n",
       "residual sugar          0\n",
       "chlorides               0\n",
       "free sulfur dioxide     0\n",
       "total sulfur dioxide    0\n",
       "density                 0\n",
       "pH                      0\n",
       "sulphates               0\n",
       "alcohol                 0\n",
       "quality                 0\n",
       "dtype: int64"
      ]
     },
     "execution_count": 213,
     "metadata": {},
     "output_type": "execute_result"
    }
   ],
   "source": [
    "df.isna().sum()"
   ]
  },
  {
   "cell_type": "code",
   "execution_count": 214,
   "id": "caa0e8ab",
   "metadata": {},
   "outputs": [
    {
     "data": {
      "text/plain": [
       "937"
      ]
     },
     "execution_count": 214,
     "metadata": {},
     "output_type": "execute_result"
    }
   ],
   "source": [
    "df.duplicated().sum()"
   ]
  },
  {
   "cell_type": "code",
   "execution_count": 215,
   "id": "ad69e3f1",
   "metadata": {},
   "outputs": [],
   "source": [
    "df.drop(df.loc[df.duplicated()].index, axis=0, inplace=True)"
   ]
  },
  {
   "cell_type": "code",
   "execution_count": 216,
   "id": "589dd08d",
   "metadata": {},
   "outputs": [],
   "source": [
    "X=df.drop('quality', axis=1)\n",
    "y=df.quality"
   ]
  },
  {
   "cell_type": "code",
   "execution_count": 217,
   "id": "82a1eee0",
   "metadata": {},
   "outputs": [],
   "source": [
    "X_train, X_test, y_train, y_test = train_test_split(X, y, random_state=42)"
   ]
  },
  {
   "cell_type": "code",
   "execution_count": 218,
   "id": "a851f623",
   "metadata": {},
   "outputs": [],
   "source": [
    "results = {}"
   ]
  },
  {
   "cell_type": "markdown",
   "id": "f6427c17",
   "metadata": {},
   "source": [
    "## I. Делаем референтные значения при помощи - Catboost classifier"
   ]
  },
  {
   "cell_type": "code",
   "execution_count": 219,
   "id": "7455f763",
   "metadata": {},
   "outputs": [
    {
     "data": {
      "text/plain": [
       "Pipeline(steps=[('scale', StandardScaler()),\n",
       "                ('catb',\n",
       "                 <catboost.core.CatBoostClassifier object at 0x00000189E2438C70>)])"
      ]
     },
     "execution_count": 219,
     "metadata": {},
     "output_type": "execute_result"
    }
   ],
   "source": [
    "catb_pipeline = Pipeline([('scale', StandardScaler()),\n",
    "                          ('catb', CatBoostClassifier(logging_level='Silent'))    \n",
    "                        ])\n",
    "catb_pipeline.fit(X_train, y_train)"
   ]
  },
  {
   "cell_type": "code",
   "execution_count": 220,
   "id": "0785f924",
   "metadata": {},
   "outputs": [],
   "source": [
    "y_pred=catb_pipeline.predict(X_test)"
   ]
  },
  {
   "cell_type": "code",
   "execution_count": 221,
   "id": "f8f150f7",
   "metadata": {},
   "outputs": [
    {
     "data": {
      "text/plain": [
       "0.7262017710309931"
      ]
     },
     "execution_count": 221,
     "metadata": {},
     "output_type": "execute_result"
    }
   ],
   "source": [
    "roc_auc_score(y_test, y_pred)"
   ]
  },
  {
   "cell_type": "code",
   "execution_count": 222,
   "id": "b9fd206d",
   "metadata": {},
   "outputs": [],
   "source": [
    "results ['CatBoost'] = roc_auc_score(y_test, y_pred)"
   ]
  },
  {
   "cell_type": "markdown",
   "id": "6063fd7e",
   "metadata": {},
   "source": [
    "## II. Ансамбли"
   ]
  },
  {
   "cell_type": "markdown",
   "id": "73ec91b0",
   "metadata": {},
   "source": [
    "#### 01. Voting Classifier из коробки"
   ]
  },
  {
   "cell_type": "code",
   "execution_count": 223,
   "id": "e23717ac",
   "metadata": {},
   "outputs": [],
   "source": [
    "from sklearn.ensemble import VotingClassifier\n",
    "\n",
    "dtc = DecisionTreeClassifier()\n",
    "svc = SVC (probability=True)\n",
    "knn = KNeighborsClassifier()\n",
    "\n",
    "\n",
    "voting_clf = VotingClassifier(\n",
    "    estimators=[('svc', svc), ('dtc', dtc), ('knn', knn)],\n",
    "    voting='hard')\n",
    "\n",
    "voting_pipe = Pipeline([('scale', StandardScaler()),\n",
    "                          ('voting', voting_clf)    \n",
    "                        ])"
   ]
  },
  {
   "cell_type": "code",
   "execution_count": 224,
   "id": "d20d27a1",
   "metadata": {},
   "outputs": [
    {
     "data": {
      "text/plain": [
       "Pipeline(steps=[('scale', StandardScaler()),\n",
       "                ('voting',\n",
       "                 VotingClassifier(estimators=[('svc', SVC(probability=True)),\n",
       "                                              ('dtc', DecisionTreeClassifier()),\n",
       "                                              ('knn',\n",
       "                                               KNeighborsClassifier())]))])"
      ]
     },
     "execution_count": 224,
     "metadata": {},
     "output_type": "execute_result"
    }
   ],
   "source": [
    "voting_pipe.fit(X_train, y_train)"
   ]
  },
  {
   "cell_type": "code",
   "execution_count": 225,
   "id": "0255ed7b",
   "metadata": {},
   "outputs": [
    {
     "data": {
      "text/plain": [
       "0.7216589861751151"
      ]
     },
     "execution_count": 225,
     "metadata": {},
     "output_type": "execute_result"
    }
   ],
   "source": [
    "y_pred=voting_pipe.predict(X_test)\n",
    "roc_auc_score(y_test, y_pred)"
   ]
  },
  {
   "cell_type": "code",
   "execution_count": 226,
   "id": "f314bf07",
   "metadata": {},
   "outputs": [],
   "source": [
    "results ['Voting (BOX)'] = roc_auc_score(y_test, y_pred)"
   ]
  },
  {
   "cell_type": "markdown",
   "id": "a64b3878",
   "metadata": {},
   "source": [
    "#### 02. Voting Classifier - собственная реализация. \n",
    "#### HARD "
   ]
  },
  {
   "cell_type": "code",
   "execution_count": 227,
   "id": "382fb550",
   "metadata": {},
   "outputs": [],
   "source": [
    "#Обучаем DecisionTreeClassifier и делаем предикт.\n",
    "dtc = DecisionTreeClassifier()\n",
    "dtc.fit (StandardScaler().fit_transform(X_train), y_train)\n",
    "predict_dtc = dtc.predict (StandardScaler().fit_transform(X_test))\n",
    "\n",
    "#Обучаем SVC и делаем предикт.\n",
    "svc = SVC(probability=True)\n",
    "svc.fit (StandardScaler().fit_transform(X_train), y_train)\n",
    "predict_svc = svc.predict (StandardScaler().fit_transform(X_test))\n",
    "\n",
    "#Обучаем KNeighborsClassifier и делаем предикт.\n",
    "knn = KNeighborsClassifier()\n",
    "knn.fit (StandardScaler().fit_transform(X_train), y_train)\n",
    "predict_knn = knn.predict (StandardScaler().fit_transform(X_test))"
   ]
  },
  {
   "cell_type": "code",
   "execution_count": 228,
   "id": "3f6e561f",
   "metadata": {},
   "outputs": [],
   "source": [
    "hard = predict_dtc + predict_svc + predict_knn"
   ]
  },
  {
   "cell_type": "code",
   "execution_count": 229,
   "id": "2e35234c",
   "metadata": {},
   "outputs": [
    {
     "data": {
      "text/plain": [
       "0.706447094967019"
      ]
     },
     "execution_count": 229,
     "metadata": {},
     "output_type": "execute_result"
    }
   ],
   "source": [
    "roc_auc_score(y_test, (hard>1).astype(int))"
   ]
  },
  {
   "cell_type": "code",
   "execution_count": 230,
   "id": "8d94c42e",
   "metadata": {},
   "outputs": [],
   "source": [
    "results ['Voting (OWN_HARD)'] = roc_auc_score(y_test, (hard>1).astype(int))"
   ]
  },
  {
   "cell_type": "markdown",
   "id": "6b40d52b",
   "metadata": {},
   "source": [
    "#### SOFT"
   ]
  },
  {
   "cell_type": "code",
   "execution_count": 231,
   "id": "395cf6b8",
   "metadata": {},
   "outputs": [],
   "source": [
    "#Обучаем DecisionTreeClassifier и делаем предикт.\n",
    "dtc = DecisionTreeClassifier()\n",
    "dtc.fit (StandardScaler().fit_transform(X_train), y_train)\n",
    "predict_dtc = dtc.predict_proba (StandardScaler().fit_transform(X_test))\n",
    "\n",
    "#Обучаем LogisticRegression и делаем предикт.\n",
    "svc = SVC(probability=True)\n",
    "svc.fit (StandardScaler().fit_transform(X_train), y_train)\n",
    "predict_svc = svc.predict_proba (StandardScaler().fit_transform(X_test))\n",
    "\n",
    "#Обучаем KNeighborsClassifier и делаем предикт.\n",
    "knn = KNeighborsClassifier()\n",
    "knn.fit (StandardScaler().fit_transform(X_train), y_train)\n",
    "predict_knn = knn.predict_proba (StandardScaler().fit_transform(X_test))"
   ]
  },
  {
   "cell_type": "code",
   "execution_count": 232,
   "id": "78e0419e",
   "metadata": {},
   "outputs": [],
   "source": [
    "soft = predict_dtc + predict_svc + predict_knn"
   ]
  },
  {
   "cell_type": "code",
   "execution_count": 233,
   "id": "8f16255d",
   "metadata": {},
   "outputs": [
    {
     "data": {
      "text/plain": [
       "0.6921162013192373"
      ]
     },
     "execution_count": 233,
     "metadata": {},
     "output_type": "execute_result"
    }
   ],
   "source": [
    "roc_auc_score(y_test, np.argmax(soft, axis=1))"
   ]
  },
  {
   "cell_type": "code",
   "execution_count": 234,
   "id": "5eb7d69d",
   "metadata": {},
   "outputs": [],
   "source": [
    "results ['Voting (OWN_SOFT)'] = roc_auc_score(y_test, np.argmax(soft, axis=1))"
   ]
  },
  {
   "cell_type": "markdown",
   "id": "8f54c351",
   "metadata": {},
   "source": [
    "#### 03. Stacking classifier - из коробки"
   ]
  },
  {
   "cell_type": "code",
   "execution_count": 235,
   "id": "1f830d91",
   "metadata": {},
   "outputs": [],
   "source": [
    "from sklearn.ensemble import StackingClassifier\n",
    "\n",
    "dtc = DecisionTreeClassifier()\n",
    "lr = LogisticRegression(max_iter=1000)\n",
    "knn = KNeighborsClassifier()\n",
    "\n",
    "stacking_clf = StackingClassifier(\n",
    "    estimators=[('dtc', dtc), ('lr', lr), ('knn', knn)],\n",
    "    final_estimator=lr, \n",
    "    n_jobs=-1, \n",
    "    verbose=1)\n",
    "\n",
    "stacking_pipe = Pipeline([('scale', StandardScaler()),\n",
    "                          ('stacking', stacking_clf)    \n",
    "                        ])"
   ]
  },
  {
   "cell_type": "code",
   "execution_count": 236,
   "id": "d81019b9",
   "metadata": {},
   "outputs": [
    {
     "data": {
      "text/plain": [
       "Pipeline(steps=[('scale', StandardScaler()),\n",
       "                ('stacking',\n",
       "                 StackingClassifier(estimators=[('dtc',\n",
       "                                                 DecisionTreeClassifier()),\n",
       "                                                ('lr',\n",
       "                                                 LogisticRegression(max_iter=1000)),\n",
       "                                                ('knn',\n",
       "                                                 KNeighborsClassifier())],\n",
       "                                    final_estimator=LogisticRegression(max_iter=1000),\n",
       "                                    n_jobs=-1, verbose=1))])"
      ]
     },
     "execution_count": 236,
     "metadata": {},
     "output_type": "execute_result"
    }
   ],
   "source": [
    "stacking_pipe.fit(X_train, y_train)"
   ]
  },
  {
   "cell_type": "code",
   "execution_count": 237,
   "id": "8a499fe2",
   "metadata": {},
   "outputs": [],
   "source": [
    "y_pred=stacking_pipe.predict(X_test)"
   ]
  },
  {
   "cell_type": "code",
   "execution_count": 238,
   "id": "f1708a47",
   "metadata": {},
   "outputs": [
    {
     "data": {
      "text/plain": [
       "0.7228856058552453"
      ]
     },
     "execution_count": 238,
     "metadata": {},
     "output_type": "execute_result"
    }
   ],
   "source": [
    "roc_auc_score(y_test, y_pred)"
   ]
  },
  {
   "cell_type": "code",
   "execution_count": 239,
   "id": "0ad68a8f",
   "metadata": {},
   "outputs": [],
   "source": [
    "results ['Stacking (BOX)'] = roc_auc_score(y_test, y_pred)"
   ]
  },
  {
   "cell_type": "markdown",
   "id": "c45b85c2",
   "metadata": {},
   "source": [
    "#### 04. Stacking classifier - собственная реализация"
   ]
  },
  {
   "cell_type": "code",
   "execution_count": 240,
   "id": "b05bf698",
   "metadata": {},
   "outputs": [],
   "source": [
    "dtc = DecisionTreeClassifier()\n",
    "dtc.fit (StandardScaler().fit_transform(X_train), y_train)\n",
    "predict_dtc = dtc.predict (StandardScaler().fit_transform(X_test))\n",
    "\n",
    "lr = LogisticRegression(max_iter=1000)\n",
    "lr.fit (StandardScaler().fit_transform(X_train), y_train)\n",
    "predict_lr = lr.predict (StandardScaler().fit_transform(X_test))\n",
    "\n",
    "knn = KNeighborsClassifier()\n",
    "knn.fit (StandardScaler().fit_transform(X_train), y_train)\n",
    "predict_knn = knn.predict (StandardScaler().fit_transform(X_test))"
   ]
  },
  {
   "cell_type": "code",
   "execution_count": 241,
   "id": "e258b159",
   "metadata": {},
   "outputs": [
    {
     "data": {
      "text/plain": [
       "0.7080487033523087"
      ]
     },
     "execution_count": 241,
     "metadata": {},
     "output_type": "execute_result"
    }
   ],
   "source": [
    "predict_stack = np.stack ((predict_dtc, predict_lr, predict_knn), axis = 1)\n",
    "lr. fit (predict_stack, y_test)\n",
    "y_pred = lr.predict(predict_stack)\n",
    "roc_auc_score(y_test, y_pred)"
   ]
  },
  {
   "cell_type": "code",
   "execution_count": 242,
   "id": "1891657f",
   "metadata": {},
   "outputs": [],
   "source": [
    "results ['Stacking (OWN)'] = roc_auc_score(y_test, y_pred)"
   ]
  },
  {
   "cell_type": "markdown",
   "id": "891e1c1d",
   "metadata": {},
   "source": [
    "#### 05. Bagging classifier - из коробки"
   ]
  },
  {
   "cell_type": "code",
   "execution_count": 243,
   "id": "42344b0c",
   "metadata": {},
   "outputs": [],
   "source": [
    "from sklearn.ensemble import BaggingClassifier\n",
    "\n",
    "bagging_clf = BaggingClassifier(lr, n_estimators=1000,\n",
    "    max_samples=100, bootstrap=True, n_jobs=-1, random_state=42)\n",
    "\n",
    "bagging_pipe = Pipeline([('scale', StandardScaler()),\n",
    "                          ('bagging', bagging_clf)    \n",
    "                        ])"
   ]
  },
  {
   "cell_type": "code",
   "execution_count": 244,
   "id": "65d97c96",
   "metadata": {},
   "outputs": [
    {
     "data": {
      "text/plain": [
       "Pipeline(steps=[('scale', StandardScaler()),\n",
       "                ('bagging',\n",
       "                 BaggingClassifier(base_estimator=LogisticRegression(max_iter=1000),\n",
       "                                   max_samples=100, n_estimators=1000,\n",
       "                                   n_jobs=-1, random_state=42))])"
      ]
     },
     "execution_count": 244,
     "metadata": {},
     "output_type": "execute_result"
    }
   ],
   "source": [
    "bagging_pipe.fit(X_train, y_train)"
   ]
  },
  {
   "cell_type": "code",
   "execution_count": 245,
   "id": "a68ef1c9",
   "metadata": {},
   "outputs": [
    {
     "data": {
      "text/plain": [
       "0.6783093882714376"
      ]
     },
     "execution_count": 245,
     "metadata": {},
     "output_type": "execute_result"
    }
   ],
   "source": [
    "y_pred=bagging_pipe.predict(X_test)\n",
    "roc_auc_score(y_test, y_pred)"
   ]
  },
  {
   "cell_type": "code",
   "execution_count": 246,
   "id": "fc5cb63b",
   "metadata": {},
   "outputs": [],
   "source": [
    "results ['Bagging (BOX)'] = roc_auc_score(y_test, y_pred)"
   ]
  },
  {
   "cell_type": "markdown",
   "id": "7bdc3e07",
   "metadata": {},
   "source": [
    "#### 06. Bagging classifier - собственная реализация"
   ]
  },
  {
   "cell_type": "code",
   "execution_count": 306,
   "id": "fab9e954",
   "metadata": {},
   "outputs": [],
   "source": [
    "class SimpleBagging:\n",
    "    '''\n",
    "    model - ML model\n",
    "    n_iter - total number of iterations\n",
    "    sample_size - (0-1] - percent of data set, that takes a part in fitting process\n",
    "    '''\n",
    "    def __init__ (self, model, n_iter, sample_size):\n",
    "        self.model = model\n",
    "        self.n_iter = n_iter\n",
    "        self.sample_size = sample_size\n",
    "        self.models = [] ### Список с обученными моделями\n",
    "        self.score = []  ### Список с результатами предсказаний\n",
    "    \n",
    "    def fit (self, X_train, y_train):\n",
    "        \n",
    "        for i in range (self.n_iter):\n",
    "            \n",
    "            self.model ()        \n",
    "            \n",
    "            rng = np.random.default_rng()\n",
    "            \n",
    "            rnd = rng.integers(0, len(X_train), \n",
    "                               size=int(self.sample_size*len(X_train)), \n",
    "                               dtype=np.int64)\n",
    "    \n",
    "            X_train_short = X_train.iloc[rnd]\n",
    "            y_train_short = y_train.iloc[rnd]\n",
    "\n",
    "            self.models.append (self.model().fit (X_train_short, y_train_short))\n",
    "    \n",
    "    ### В качестве предикта идет HARD голосование. За наличие признака считается если получена большая часть голосов.\n",
    "    def predict (self, X_test):\n",
    "        for model in self.models:\n",
    "            self.score.append (model.predict (X_test))\n",
    "        hard = np.sum (np.array (self.score).T, axis=1)\n",
    "        return (hard>(int(self.n_iter/2)+1)).astype(int)"
   ]
  },
  {
   "cell_type": "code",
   "execution_count": 313,
   "id": "af6bdf52",
   "metadata": {},
   "outputs": [],
   "source": [
    "b = SimpleBagging (DecisionTreeClassifier, 100, 0.4)"
   ]
  },
  {
   "cell_type": "code",
   "execution_count": 314,
   "id": "bfacf62a",
   "metadata": {},
   "outputs": [],
   "source": [
    "b.fit (X_train, y_train)"
   ]
  },
  {
   "cell_type": "code",
   "execution_count": 315,
   "id": "2b8bc5ad",
   "metadata": {},
   "outputs": [
    {
     "data": {
      "text/plain": [
       "0.7332271618324749"
      ]
     },
     "execution_count": 315,
     "metadata": {},
     "output_type": "execute_result"
    }
   ],
   "source": [
    "bagging_predict = roc_auc_score (y_test, b.predict(X_test))\n",
    "bagging_predict"
   ]
  },
  {
   "cell_type": "code",
   "execution_count": 316,
   "id": "70b30330",
   "metadata": {},
   "outputs": [],
   "source": [
    "results ['Bagging (OWN)'] = bagging_predict"
   ]
  },
  {
   "cell_type": "markdown",
   "id": "7859c5a1",
   "metadata": {},
   "source": [
    "##### 07. Boosting classifier - из коробки"
   ]
  },
  {
   "cell_type": "code",
   "execution_count": 252,
   "id": "2a0e0f4e",
   "metadata": {},
   "outputs": [
    {
     "data": {
      "text/plain": [
       "0.6927532303243878"
      ]
     },
     "execution_count": 252,
     "metadata": {},
     "output_type": "execute_result"
    }
   ],
   "source": [
    "from sklearn.ensemble import AdaBoostClassifier\n",
    "\n",
    "clf = AdaBoostClassifier (n_estimators=100, random_state=0)\n",
    "\n",
    "clf.fit (X_train, y_train)\n",
    "roc_auc_score(y_test, clf.predict(X_test))"
   ]
  },
  {
   "cell_type": "code",
   "execution_count": 253,
   "id": "82658b40",
   "metadata": {},
   "outputs": [],
   "source": [
    "results ['Boosting (BOX)'] = roc_auc_score(y_test, clf.predict(X_test))"
   ]
  },
  {
   "cell_type": "markdown",
   "id": "a89c3654",
   "metadata": {},
   "source": [
    "##### 08. Boosting classifier - собственная реализация"
   ]
  },
  {
   "cell_type": "code",
   "execution_count": 322,
   "id": "9878b1bf",
   "metadata": {},
   "outputs": [],
   "source": [
    "class SimpleBoost ():\n",
    "    \n",
    "    '''\n",
    "    SimpleBoost - is a class, demonstrates how boosting works. It has 3 parametrs:\n",
    "    1. model - is a ML model\n",
    "    2. n_drop - [0-1] is a pecent of correctly predicted y_values to remove on each itearation\n",
    "    3. n_iter - [0-inf) is a number of iteration\n",
    "    '''\n",
    "    \n",
    "    def __init__ (self, model, n_drop=0.05, n_iter=5):\n",
    "        self.model = model\n",
    "        self.n_drop=n_drop\n",
    "        self.n_iter=n_iter\n",
    "    \n",
    "    def fit (self, X_train, y_train):\n",
    "        \n",
    "        for x in range (self.n_iter):\n",
    "            \n",
    "            model = self.model.fit (X_train, y_train)\n",
    "            y_pred = model.predict(X_train)\n",
    "            \n",
    "            ind_to_drop = int(sum(y_pred==y_train)*self.n_drop)\n",
    "            \n",
    "            X_train = X_train.drop(X_train.loc[y_pred==y_train].index[:ind_to_drop], \n",
    "                                   axis=0)\n",
    "            y_train = y_train.drop(y_train.loc[y_pred==y_train].index[:ind_to_drop], \n",
    "                                   axis=0)\n",
    "        \n",
    "        self.model = model\n",
    "        print(model)\n",
    "        \n",
    "    def predict (self, X_test):\n",
    "        return (self.model.predict (X_test))       "
   ]
  },
  {
   "cell_type": "code",
   "execution_count": 341,
   "id": "d554c62f",
   "metadata": {},
   "outputs": [
    {
     "name": "stdout",
     "output_type": "stream",
     "text": [
      "RandomForestClassifier()\n"
     ]
    }
   ],
   "source": [
    "a = SimpleBoost (RandomForestClassifier(), \n",
    "                 n_drop=0.05, \n",
    "                 n_iter=15)\n",
    "a.fit (X_train, y_train)"
   ]
  },
  {
   "cell_type": "code",
   "execution_count": 342,
   "id": "664837db",
   "metadata": {},
   "outputs": [
    {
     "data": {
      "text/plain": [
       "0.7320841239721696"
      ]
     },
     "execution_count": 342,
     "metadata": {},
     "output_type": "execute_result"
    }
   ],
   "source": [
    "roc_auc_score(y_test, a.predict(X_test))"
   ]
  },
  {
   "cell_type": "code",
   "execution_count": 344,
   "id": "26577132",
   "metadata": {},
   "outputs": [],
   "source": [
    "results ['Boosting (OWN)'] = roc_auc_score(y_test, a.predict(X_test))"
   ]
  },
  {
   "cell_type": "markdown",
   "id": "b012e462",
   "metadata": {},
   "source": [
    "#### Результаты"
   ]
  },
  {
   "cell_type": "code",
   "execution_count": 395,
   "id": "2dac4f61",
   "metadata": {},
   "outputs": [
    {
     "data": {
      "text/plain": [
       "Text(0.5, 1.0, 'Results of different ML models')"
      ]
     },
     "execution_count": 395,
     "metadata": {},
     "output_type": "execute_result"
    },
    {
     "data": {
      "image/png": "[encoded data removed]",
      "text/plain": [
       "<Figure size 2000x1000 with 1 Axes>"
      ]
     },
     "metadata": {},
     "output_type": "display_data"
    }
   ],
   "source": [
    "plt.figure (figsize=(20,10))\n",
    "sns.histplot (data=results,\n",
    "             x=results.keys(),\n",
    "             y=results.values());\n",
    "plt.title ('Results of different ML models')"
   ]
  },
  {
   "cell_type": "code",
   "execution_count": 396,
   "id": "67fc739a",
   "metadata": {},
   "outputs": [
    {
     "data": {
      "text/plain": [
       "{'CatBoost': 0.7262017710309931,\n",
       " 'Voting (BOX)': 0.7216589861751151,\n",
       " 'Voting (OWN_HARD)': 0.706447094967019,\n",
       " 'Voting (OWN_SOFT)': 0.6921162013192373,\n",
       " 'Stacking (BOX)': 0.7228856058552453,\n",
       " 'Stacking (OWN)': 0.7080487033523087,\n",
       " 'Bagging (BOX)': 0.6783093882714376,\n",
       " 'Bagging (OWN)': 0.7332271618324749,\n",
       " 'Boosting (BOX)': 0.6927532303243878,\n",
       " 'Boosting (OWN)': 0.7320841239721696}"
      ]
     },
     "execution_count": 396,
     "metadata": {},
     "output_type": "execute_result"
    }
   ],
   "source": [
    "results"
   ]
  },
  {
   "cell_type": "markdown",
   "id": "55daa869",
   "metadata": {},
   "source": [
    "### Наилучшие результаты продемонстрировали CatBoost - 0.7262, Stacking (BOX) - 0.7228, Bagging (OWN) - 0.7332, Boosting (OWN) - 0.732"
   ]
  }
 ],
 "metadata": {
  "kernelspec": {
   "display_name": "Python 3 (ipykernel)",
   "language": "python",
   "name": "python3"
  },
  "language_info": {
   "codemirror_mode": {
    "name": "ipython",
    "version": 3
   },
   "file_extension": ".py",
   "mimetype": "text/x-python",
   "name": "python",
   "nbconvert_exporter": "python",
   "pygments_lexer": "ipython3",
   "version": "3.9.13"
  }
 },
 "nbformat": 4,
 "nbformat_minor": 5
}