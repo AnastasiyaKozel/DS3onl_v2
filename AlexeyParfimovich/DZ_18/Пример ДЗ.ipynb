{
 "cells": [
  {
   "cell_type": "markdown",
   "metadata": {},
   "source": [
    "## <center>Прогноз просрочки кредита заемщиком</center>"
   ]
  },
  {
   "cell_type": "markdown",
   "metadata": {},
   "source": [
    "Некоторые пункты задания переставлены, чтобы не нарушать логику обработки."
   ]
  },
  {
   "cell_type": "code",
   "execution_count": 1,
   "metadata": {},
   "outputs": [],
   "source": [
    "import numpy as np\n",
    "import pandas as pd\n",
    "\n",
    "pd.set_option('display.notebook_repr_html', True)\n",
    "pd.set_option('display.max_columns', None)\n",
    "pd.set_option('display.max_rows', 50)\n",
    "pd.set_option('display.width', 80)\n",
    "\n",
    "from tqdm import tqdm_notebook as tqdm\n",
    "import gc\n",
    "import pickle\n",
    "\n",
    "import pandas_profiling\n",
    "\n",
    "from sklearn.metrics import (roc_auc_score, f1_score, confusion_matrix,\n",
    "                             classification_report, make_scorer)\n",
    "from sklearn.metrics import roc_curve, auc\n",
    "from sklearn.model_selection import cross_val_score\n",
    "\n",
    "from scipy.stats import norm\n",
    "\n",
    "from sklearn.preprocessing import StandardScaler, QuantileTransformer\n",
    "\n",
    "from sklearn.model_selection import StratifiedShuffleSplit, StratifiedKFold\n",
    "\n",
    "from sklearn.ensemble import RandomForestClassifier, RandomForestRegressor\n",
    "from sklearn.linear_model import LogisticRegression, SGDClassifier\n",
    "\n",
    "from sklearn.model_selection import validation_curve, learning_curve\n",
    "\n",
    "from hyperopt import hp, tpe\n",
    "from hyperopt.fmin import fmin\n",
    "from hyperopt.pyll import scope as ho_scope\n",
    "\n",
    "from IPython.core.interactiveshell import InteractiveShell \n",
    "InteractiveShell.ast_node_interactivity = \"all\"\n",
    "\n",
    "%matplotlib inline\n",
    "from matplotlib import pyplot as plt\n",
    "#plt.style.use(['seaborn-darkgrid'])\n",
    "#plt.rcParams['font.family'] = 'DejaVu Sans'\n",
    "import seaborn as sns\n",
    "\n",
    "import warnings\n",
    "warnings.simplefilter('ignore')\n",
    "\n",
    "RANDOM_STATE = 17"
   ]
  },
  {
   "cell_type": "markdown",
   "metadata": {},
   "source": [
    "### Описание набора данных\n",
    "\n",
    "Данные представляют собой исторические данные по 251503 заемщикам (https://www.kaggle.com/c/GiveMeSomeCredit/data ). Задача является бинарной классификацией. Цель - предсказать будет ли тот или иной заемщик испытывать финансовые трудности в ближайшие 2 года, т.е. будет ли просрочка по займу. Выборка разделена на тренировочную и тестовую ( 150000 в тренировочной части, 101503 в тестовой).\n",
    "\n",
    "Данная решаемая задача будет ценна как кредиторам, так и заемщикам для оценки способности вернуть долг вовремя.\n",
    "\n",
    "### Описание признаков\n",
    "\n",
    "* 1 - __SeriousDlqin2yrs__ - будет ли просрочка более 90 дней в ближайшие 2 года (целевая метка) (Да/Нет)\n",
    "* 2 - __RevolvingUtilizationOfUnsecuredLines__ - общий баланс по кредитным картам и кредитным линиям, за исключением задолженностей по недвижимости задолженности по взносам, деленные на сумму кредитных лимитов (проценты)\n",
    "* 3 - __age__ - Возраст заемщика (в годах)\n",
    "* 4 - __NumberOfTime30-59DaysPastDueNotWorse__ - количество просрочек в 30-59 дней (Целое)\n",
    "* 5 - __DebtRatio__ - коэффициент задолженности, т.е. сумма ежемесячных платежей по долгам, алиментов и расходов на проживание, деленная на месячный доналоговый доход (проценты)\n",
    "* 6 - __MonthlyIncome__ - месячный доход (число с плавающей точкой)\n",
    "* 7 - __NumberOfOpenCreditLinesAndLoans__ - количество открытых кредитов и кредитных линий (Целое)\n",
    "* 8 - __NumberOfTimes90DaysLate__ - количество просрочек более 90 дней (Целое)\n",
    "* 9 - __NumberRealEstateLoansOrLines__ - количество ипотечных кредитов и кредитов на недвижимость, включая кредитные линии домашнего капитала (Целое)\n",
    "* 10 - __NumberOfTime60-89DaysPastDueNotWorse__ - количество просрочек в 60-89 дней за последние 2 года (Целое)\n",
    "* 11 - __NumberOfDependents__ - количество иждивенцев в семье (исключая самих заемщиков) (Целое)"
   ]
  },
  {
   "cell_type": "code",
   "execution_count": 2,
   "metadata": {},
   "outputs": [],
   "source": [
    "def make_submission(predictions, fname):\n",
    "    out = pd.DataFrame(data=predictions, columns=['Probability'])\n",
    "    out.index += 1\n",
    "    out.to_csv(fname, index_label='id')"
   ]
  },
  {
   "cell_type": "code",
   "execution_count": 3,
   "metadata": {
    "hide_input": false
   },
   "outputs": [],
   "source": [
    "df = pd.read_csv('data/cs-training.csv', index_col=0)"
   ]
  },
  {
   "cell_type": "code",
   "execution_count": 4,
   "metadata": {
    "hide_input": true
   },
   "outputs": [],
   "source": [
    "#%%time\n",
    "#report = pandas_profiling.ProfileReport(df, style={'full_width':True},\n",
    "#                                        samples={'head':6, 'tail':6},\n",
    "#                                        notebook={'iframe':{'height':'600px'}})\n",
    "#report.to_file('profile_report.html')"
   ]
  },
  {
   "cell_type": "code",
   "execution_count": 4,
   "metadata": {},
   "outputs": [
    {
     "data": {
      "text/html": [
       "<div>\n",
       "<style scoped>\n",
       "    .dataframe tbody tr th:only-of-type {\n",
       "        vertical-align: middle;\n",
       "    }\n",
       "\n",
       "    .dataframe tbody tr th {\n",
       "        vertical-align: top;\n",
       "    }\n",
       "\n",
       "    .dataframe thead th {\n",
       "        text-align: right;\n",
       "    }\n",
       "</style>\n",
       "<table border=\"1\" class=\"dataframe\">\n",
       "  <thead>\n",
       "    <tr style=\"text-align: right;\">\n",
       "      <th></th>\n",
       "      <th>SeriousDlqin2yrs</th>\n",
       "      <th>RevolvingUtilizationOfUnsecuredLines</th>\n",
       "      <th>age</th>\n",
       "      <th>NumberOfTime30-59DaysPastDueNotWorse</th>\n",
       "      <th>DebtRatio</th>\n",
       "      <th>MonthlyIncome</th>\n",
       "      <th>NumberOfOpenCreditLinesAndLoans</th>\n",
       "      <th>NumberOfTimes90DaysLate</th>\n",
       "      <th>NumberRealEstateLoansOrLines</th>\n",
       "      <th>NumberOfTime60-89DaysPastDueNotWorse</th>\n",
       "      <th>NumberOfDependents</th>\n",
       "    </tr>\n",
       "  </thead>\n",
       "  <tbody>\n",
       "    <tr>\n",
       "      <th>1</th>\n",
       "      <td>1</td>\n",
       "      <td>0.766127</td>\n",
       "      <td>45</td>\n",
       "      <td>2</td>\n",
       "      <td>0.802982</td>\n",
       "      <td>9120.0</td>\n",
       "      <td>13</td>\n",
       "      <td>0</td>\n",
       "      <td>6</td>\n",
       "      <td>0</td>\n",
       "      <td>2.0</td>\n",
       "    </tr>\n",
       "    <tr>\n",
       "      <th>2</th>\n",
       "      <td>0</td>\n",
       "      <td>0.957151</td>\n",
       "      <td>40</td>\n",
       "      <td>0</td>\n",
       "      <td>0.121876</td>\n",
       "      <td>2600.0</td>\n",
       "      <td>4</td>\n",
       "      <td>0</td>\n",
       "      <td>0</td>\n",
       "      <td>0</td>\n",
       "      <td>1.0</td>\n",
       "    </tr>\n",
       "    <tr>\n",
       "      <th>3</th>\n",
       "      <td>0</td>\n",
       "      <td>0.658180</td>\n",
       "      <td>38</td>\n",
       "      <td>1</td>\n",
       "      <td>0.085113</td>\n",
       "      <td>3042.0</td>\n",
       "      <td>2</td>\n",
       "      <td>1</td>\n",
       "      <td>0</td>\n",
       "      <td>0</td>\n",
       "      <td>0.0</td>\n",
       "    </tr>\n",
       "    <tr>\n",
       "      <th>4</th>\n",
       "      <td>0</td>\n",
       "      <td>0.233810</td>\n",
       "      <td>30</td>\n",
       "      <td>0</td>\n",
       "      <td>0.036050</td>\n",
       "      <td>3300.0</td>\n",
       "      <td>5</td>\n",
       "      <td>0</td>\n",
       "      <td>0</td>\n",
       "      <td>0</td>\n",
       "      <td>0.0</td>\n",
       "    </tr>\n",
       "    <tr>\n",
       "      <th>5</th>\n",
       "      <td>0</td>\n",
       "      <td>0.907239</td>\n",
       "      <td>49</td>\n",
       "      <td>1</td>\n",
       "      <td>0.024926</td>\n",
       "      <td>63588.0</td>\n",
       "      <td>7</td>\n",
       "      <td>0</td>\n",
       "      <td>1</td>\n",
       "      <td>0</td>\n",
       "      <td>0.0</td>\n",
       "    </tr>\n",
       "  </tbody>\n",
       "</table>\n",
       "</div>"
      ],
      "text/plain": [
       "   SeriousDlqin2yrs  RevolvingUtilizationOfUnsecuredLines  age  \\\n",
       "1                 1                              0.766127   45   \n",
       "2                 0                              0.957151   40   \n",
       "3                 0                              0.658180   38   \n",
       "4                 0                              0.233810   30   \n",
       "5                 0                              0.907239   49   \n",
       "\n",
       "   NumberOfTime30-59DaysPastDueNotWorse  DebtRatio  MonthlyIncome  \\\n",
       "1                                     2   0.802982         9120.0   \n",
       "2                                     0   0.121876         2600.0   \n",
       "3                                     1   0.085113         3042.0   \n",
       "4                                     0   0.036050         3300.0   \n",
       "5                                     1   0.024926        63588.0   \n",
       "\n",
       "   NumberOfOpenCreditLinesAndLoans  NumberOfTimes90DaysLate  \\\n",
       "1                               13                        0   \n",
       "2                                4                        0   \n",
       "3                                2                        1   \n",
       "4                                5                        0   \n",
       "5                                7                        0   \n",
       "\n",
       "   NumberRealEstateLoansOrLines  NumberOfTime60-89DaysPastDueNotWorse  \\\n",
       "1                             6                                     0   \n",
       "2                             0                                     0   \n",
       "3                             0                                     0   \n",
       "4                             0                                     0   \n",
       "5                             1                                     0   \n",
       "\n",
       "   NumberOfDependents  \n",
       "1                 2.0  \n",
       "2                 1.0  \n",
       "3                 0.0  \n",
       "4                 0.0  \n",
       "5                 0.0  "
      ]
     },
     "execution_count": 4,
     "metadata": {},
     "output_type": "execute_result"
    }
   ],
   "source": [
    "df.head()"
   ]
  },
  {
   "cell_type": "code",
   "execution_count": 5,
   "metadata": {},
   "outputs": [
    {
     "name": "stdout",
     "output_type": "stream",
     "text": [
      "(150000, 11)\n"
     ]
    },
    {
     "data": {
      "text/html": [
       "<div>\n",
       "<style scoped>\n",
       "    .dataframe tbody tr th:only-of-type {\n",
       "        vertical-align: middle;\n",
       "    }\n",
       "\n",
       "    .dataframe tbody tr th {\n",
       "        vertical-align: top;\n",
       "    }\n",
       "\n",
       "    .dataframe thead th {\n",
       "        text-align: right;\n",
       "    }\n",
       "</style>\n",
       "<table border=\"1\" class=\"dataframe\">\n",
       "  <thead>\n",
       "    <tr style=\"text-align: right;\">\n",
       "      <th></th>\n",
       "      <th>count</th>\n",
       "      <th>mean</th>\n",
       "      <th>std</th>\n",
       "      <th>min</th>\n",
       "      <th>25%</th>\n",
       "      <th>50%</th>\n",
       "      <th>75%</th>\n",
       "      <th>max</th>\n",
       "    </tr>\n",
       "  </thead>\n",
       "  <tbody>\n",
       "    <tr>\n",
       "      <th>SeriousDlqin2yrs</th>\n",
       "      <td>150000.0</td>\n",
       "      <td>0.066840</td>\n",
       "      <td>0.249746</td>\n",
       "      <td>0.0</td>\n",
       "      <td>0.000000</td>\n",
       "      <td>0.000000</td>\n",
       "      <td>0.000000</td>\n",
       "      <td>1.0</td>\n",
       "    </tr>\n",
       "    <tr>\n",
       "      <th>RevolvingUtilizationOfUnsecuredLines</th>\n",
       "      <td>150000.0</td>\n",
       "      <td>6.048438</td>\n",
       "      <td>249.755371</td>\n",
       "      <td>0.0</td>\n",
       "      <td>0.029867</td>\n",
       "      <td>0.154181</td>\n",
       "      <td>0.559046</td>\n",
       "      <td>50708.0</td>\n",
       "    </tr>\n",
       "    <tr>\n",
       "      <th>age</th>\n",
       "      <td>150000.0</td>\n",
       "      <td>52.295207</td>\n",
       "      <td>14.771866</td>\n",
       "      <td>0.0</td>\n",
       "      <td>41.000000</td>\n",
       "      <td>52.000000</td>\n",
       "      <td>63.000000</td>\n",
       "      <td>109.0</td>\n",
       "    </tr>\n",
       "    <tr>\n",
       "      <th>NumberOfTime30-59DaysPastDueNotWorse</th>\n",
       "      <td>150000.0</td>\n",
       "      <td>0.421033</td>\n",
       "      <td>4.192781</td>\n",
       "      <td>0.0</td>\n",
       "      <td>0.000000</td>\n",
       "      <td>0.000000</td>\n",
       "      <td>0.000000</td>\n",
       "      <td>98.0</td>\n",
       "    </tr>\n",
       "    <tr>\n",
       "      <th>DebtRatio</th>\n",
       "      <td>150000.0</td>\n",
       "      <td>353.005076</td>\n",
       "      <td>2037.818523</td>\n",
       "      <td>0.0</td>\n",
       "      <td>0.175074</td>\n",
       "      <td>0.366508</td>\n",
       "      <td>0.868254</td>\n",
       "      <td>329664.0</td>\n",
       "    </tr>\n",
       "    <tr>\n",
       "      <th>MonthlyIncome</th>\n",
       "      <td>120269.0</td>\n",
       "      <td>6670.221237</td>\n",
       "      <td>14384.674215</td>\n",
       "      <td>0.0</td>\n",
       "      <td>3400.000000</td>\n",
       "      <td>5400.000000</td>\n",
       "      <td>8249.000000</td>\n",
       "      <td>3008750.0</td>\n",
       "    </tr>\n",
       "    <tr>\n",
       "      <th>NumberOfOpenCreditLinesAndLoans</th>\n",
       "      <td>150000.0</td>\n",
       "      <td>8.452760</td>\n",
       "      <td>5.145951</td>\n",
       "      <td>0.0</td>\n",
       "      <td>5.000000</td>\n",
       "      <td>8.000000</td>\n",
       "      <td>11.000000</td>\n",
       "      <td>58.0</td>\n",
       "    </tr>\n",
       "    <tr>\n",
       "      <th>NumberOfTimes90DaysLate</th>\n",
       "      <td>150000.0</td>\n",
       "      <td>0.265973</td>\n",
       "      <td>4.169304</td>\n",
       "      <td>0.0</td>\n",
       "      <td>0.000000</td>\n",
       "      <td>0.000000</td>\n",
       "      <td>0.000000</td>\n",
       "      <td>98.0</td>\n",
       "    </tr>\n",
       "    <tr>\n",
       "      <th>NumberRealEstateLoansOrLines</th>\n",
       "      <td>150000.0</td>\n",
       "      <td>1.018240</td>\n",
       "      <td>1.129771</td>\n",
       "      <td>0.0</td>\n",
       "      <td>0.000000</td>\n",
       "      <td>1.000000</td>\n",
       "      <td>2.000000</td>\n",
       "      <td>54.0</td>\n",
       "    </tr>\n",
       "    <tr>\n",
       "      <th>NumberOfTime60-89DaysPastDueNotWorse</th>\n",
       "      <td>150000.0</td>\n",
       "      <td>0.240387</td>\n",
       "      <td>4.155179</td>\n",
       "      <td>0.0</td>\n",
       "      <td>0.000000</td>\n",
       "      <td>0.000000</td>\n",
       "      <td>0.000000</td>\n",
       "      <td>98.0</td>\n",
       "    </tr>\n",
       "    <tr>\n",
       "      <th>NumberOfDependents</th>\n",
       "      <td>146076.0</td>\n",
       "      <td>0.757222</td>\n",
       "      <td>1.115086</td>\n",
       "      <td>0.0</td>\n",
       "      <td>0.000000</td>\n",
       "      <td>0.000000</td>\n",
       "      <td>1.000000</td>\n",
       "      <td>20.0</td>\n",
       "    </tr>\n",
       "  </tbody>\n",
       "</table>\n",
       "</div>"
      ],
      "text/plain": [
       "                                         count         mean           std  \\\n",
       "SeriousDlqin2yrs                      150000.0     0.066840      0.249746   \n",
       "RevolvingUtilizationOfUnsecuredLines  150000.0     6.048438    249.755371   \n",
       "age                                   150000.0    52.295207     14.771866   \n",
       "NumberOfTime30-59DaysPastDueNotWorse  150000.0     0.421033      4.192781   \n",
       "DebtRatio                             150000.0   353.005076   2037.818523   \n",
       "MonthlyIncome                         120269.0  6670.221237  14384.674215   \n",
       "NumberOfOpenCreditLinesAndLoans       150000.0     8.452760      5.145951   \n",
       "NumberOfTimes90DaysLate               150000.0     0.265973      4.169304   \n",
       "NumberRealEstateLoansOrLines          150000.0     1.018240      1.129771   \n",
       "NumberOfTime60-89DaysPastDueNotWorse  150000.0     0.240387      4.155179   \n",
       "NumberOfDependents                    146076.0     0.757222      1.115086   \n",
       "\n",
       "                                      min          25%          50%  \\\n",
       "SeriousDlqin2yrs                      0.0     0.000000     0.000000   \n",
       "RevolvingUtilizationOfUnsecuredLines  0.0     0.029867     0.154181   \n",
       "age                                   0.0    41.000000    52.000000   \n",
       "NumberOfTime30-59DaysPastDueNotWorse  0.0     0.000000     0.000000   \n",
       "DebtRatio                             0.0     0.175074     0.366508   \n",
       "MonthlyIncome                         0.0  3400.000000  5400.000000   \n",
       "NumberOfOpenCreditLinesAndLoans       0.0     5.000000     8.000000   \n",
       "NumberOfTimes90DaysLate               0.0     0.000000     0.000000   \n",
       "NumberRealEstateLoansOrLines          0.0     0.000000     1.000000   \n",
       "NumberOfTime60-89DaysPastDueNotWorse  0.0     0.000000     0.000000   \n",
       "NumberOfDependents                    0.0     0.000000     0.000000   \n",
       "\n",
       "                                              75%        max  \n",
       "SeriousDlqin2yrs                         0.000000        1.0  \n",
       "RevolvingUtilizationOfUnsecuredLines     0.559046    50708.0  \n",
       "age                                     63.000000      109.0  \n",
       "NumberOfTime30-59DaysPastDueNotWorse     0.000000       98.0  \n",
       "DebtRatio                                0.868254   329664.0  \n",
       "MonthlyIncome                         8249.000000  3008750.0  \n",
       "NumberOfOpenCreditLinesAndLoans         11.000000       58.0  \n",
       "NumberOfTimes90DaysLate                  0.000000       98.0  \n",
       "NumberRealEstateLoansOrLines             2.000000       54.0  \n",
       "NumberOfTime60-89DaysPastDueNotWorse     0.000000       98.0  \n",
       "NumberOfDependents                       1.000000       20.0  "
      ]
     },
     "execution_count": 5,
     "metadata": {},
     "output_type": "execute_result"
    }
   ],
   "source": [
    "print(df.shape)\n",
    "df.describe(include = \"all\").T"
   ]
  },
  {
   "cell_type": "code",
   "execution_count": 6,
   "metadata": {},
   "outputs": [
    {
     "data": {
      "text/plain": [
       "(150000, 11)"
      ]
     },
     "execution_count": 6,
     "metadata": {},
     "output_type": "execute_result"
    }
   ],
   "source": [
    "df.shape"
   ]
  },
  {
   "cell_type": "code",
   "execution_count": 7,
   "metadata": {},
   "outputs": [
    {
     "data": {
      "text/plain": [
       "Index(['SeriousDlqin2yrs', 'RevolvingUtilizationOfUnsecuredLines', 'age',\n",
       "       'NumberOfTime30-59DaysPastDueNotWorse', 'DebtRatio', 'MonthlyIncome',\n",
       "       'NumberOfOpenCreditLinesAndLoans', 'NumberOfTimes90DaysLate',\n",
       "       'NumberRealEstateLoansOrLines', 'NumberOfTime60-89DaysPastDueNotWorse',\n",
       "       'NumberOfDependents'],\n",
       "      dtype='object')"
      ]
     },
     "execution_count": 7,
     "metadata": {},
     "output_type": "execute_result"
    }
   ],
   "source": [
    "df.columns"
   ]
  },
  {
   "cell_type": "code",
   "execution_count": 8,
   "metadata": {},
   "outputs": [],
   "source": [
    "df.rename(columns=lambda x: x.replace('-', '_'), inplace=True)\n",
    "feature_names = df.columns[1:]"
   ]
  },
  {
   "cell_type": "code",
   "execution_count": 9,
   "metadata": {},
   "outputs": [
    {
     "name": "stdout",
     "output_type": "stream",
     "text": [
      "<class 'pandas.core.frame.DataFrame'>\n",
      "Int64Index: 150000 entries, 1 to 150000\n",
      "Data columns (total 11 columns):\n",
      " #   Column                                Non-Null Count   Dtype  \n",
      "---  ------                                --------------   -----  \n",
      " 0   SeriousDlqin2yrs                      150000 non-null  int64  \n",
      " 1   RevolvingUtilizationOfUnsecuredLines  150000 non-null  float64\n",
      " 2   age                                   150000 non-null  int64  \n",
      " 3   NumberOfTime30_59DaysPastDueNotWorse  150000 non-null  int64  \n",
      " 4   DebtRatio                             150000 non-null  float64\n",
      " 5   MonthlyIncome                         120269 non-null  float64\n",
      " 6   NumberOfOpenCreditLinesAndLoans       150000 non-null  int64  \n",
      " 7   NumberOfTimes90DaysLate               150000 non-null  int64  \n",
      " 8   NumberRealEstateLoansOrLines          150000 non-null  int64  \n",
      " 9   NumberOfTime60_89DaysPastDueNotWorse  150000 non-null  int64  \n",
      " 10  NumberOfDependents                    146076 non-null  float64\n",
      "dtypes: float64(4), int64(7)\n",
      "memory usage: 13.7 MB\n"
     ]
    }
   ],
   "source": [
    "df.info();"
   ]
  },
  {
   "cell_type": "code",
   "execution_count": 10,
   "metadata": {},
   "outputs": [
    {
     "data": {
      "text/plain": [
       "SeriousDlqin2yrs                            0\n",
       "RevolvingUtilizationOfUnsecuredLines        0\n",
       "age                                         0\n",
       "NumberOfTime30_59DaysPastDueNotWorse        0\n",
       "DebtRatio                                   0\n",
       "MonthlyIncome                           29731\n",
       "NumberOfOpenCreditLinesAndLoans             0\n",
       "NumberOfTimes90DaysLate                     0\n",
       "NumberRealEstateLoansOrLines                0\n",
       "NumberOfTime60_89DaysPastDueNotWorse        0\n",
       "NumberOfDependents                       3924\n",
       "dtype: int64"
      ]
     },
     "execution_count": 10,
     "metadata": {},
     "output_type": "execute_result"
    }
   ],
   "source": [
    "df.isna().sum()"
   ]
  },
  {
   "cell_type": "markdown",
   "metadata": {},
   "source": [
    "**Оцените количество вернувших и не вернувших кредит. Какую метрику лучше всего использовать?**"
   ]
  },
  {
   "cell_type": "code",
   "execution_count": 11,
   "metadata": {},
   "outputs": [
    {
     "name": "stdout",
     "output_type": "stream",
     "text": [
      "Процент вернувших и не вернувших кредит:\n",
      "0    93.316\n",
      "1     6.684\n",
      "Name: SeriousDlqin2yrs, dtype: float64\n"
     ]
    }
   ],
   "source": [
    "print('Процент вернувших и не вернувших кредит:')\n",
    "print(df.SeriousDlqin2yrs.value_counts(normalize=True) * 100)"
   ]
  },
  {
   "cell_type": "markdown",
   "metadata": {},
   "source": [
    "Данные сильно несбалансированы. В качестве метрик лучше использовать `f1_score`, `roc_auc_score`. "
   ]
  },
  {
   "cell_type": "markdown",
   "metadata": {},
   "source": [
    "__Визуализация данных__"
   ]
  },
  {
   "cell_type": "markdown",
   "metadata": {},
   "source": [
    "Используя  seaborn.pairplot (sns) визуализируйте данные"
   ]
  },
  {
   "cell_type": "code",
   "execution_count": 13,
   "metadata": {
    "scrolled": true
   },
   "outputs": [],
   "source": [
    "#%%time\n",
    "#sns.pairplot(df, hue=\"SeriousDlqin2yrs\", height=3);"
   ]
  },
  {
   "cell_type": "markdown",
   "metadata": {},
   "source": [
    "**Используя sns.heatmap постройте корреляционную матрицу**"
   ]
  },
  {
   "cell_type": "code",
   "execution_count": 14,
   "metadata": {},
   "outputs": [
    {
     "data": {
      "image/png": "[encoded data removed]",
      "text/plain": [
       "<Figure size 720x576 with 2 Axes>"
      ]
     },
     "metadata": {
      "needs_background": "light"
     },
     "output_type": "display_data"
    }
   ],
   "source": [
    "plt.figure(figsize=(10,8))\n",
    "corr = df.corr(method='spearman')\n",
    "sns.heatmap(corr, annot=True, linewidths=1);"
   ]
  },
  {
   "cell_type": "markdown",
   "metadata": {},
   "source": [
    "**Какие существуют зависимости в данных?\n",
    "Опишите зависимости каждого из признаков!**"
   ]
  },
  {
   "cell_type": "markdown",
   "metadata": {},
   "source": [
    "Зависимости: вероятность просрочки находится в обратной зависимости от значений практически всех переменных кроме значений переменных с информацией о различных по времени просрочках, что логично.\n",
    "\n",
    "Распределение переменной переменной `age` близко к нормальному. К переменным `RevolvingUtilizationOfUnsecuredLines`, `NumberOfOpenCreditLinesAndLoans`, `NumberOfDependents`, `MonthlyIncome` \n",
    "стоит применить логарифмирование. На распределения переменных с информацией о днях просрочки сильно влияет наличие \"выбросов\"."
   ]
  },
  {
   "cell_type": "markdown",
   "metadata": {},
   "source": [
    "Корреляции из значимых:\n",
    "\n",
    "- обратная корреляция `age` и `NumberOfDependents`;\n",
    "- прямая корреляция `MonthlyIncome` и `NumberOfDependents`;\n",
    "- высокая прямая корреляция `NumberOfOpenCreditLinesAndLoans` и `NumberRealEstateLoansOrLines`;\n",
    "- высокая прямая корреляция `NumberRealEstateLoansOrLines` с `DebtRatio` и `MonthlyIncome`;\n",
    "- прямая корреляция между количеством различных открытых кредитных линий (переменные `NumberOfOpenCreditLinesAndLoans` и `NumberRealEstateLoansOrLines`) и `MonthlyIncome`;\n",
    "- прямая корреляция между переменными с информацией о различных по времени просрочках (`NumberOfTime30_59DaysPastDueNotWorse`, `NumberOfTimes90DaysLate` и `NumberOfTime60_89DaysPastDueNotWorse`)\n",
    "- обратная корреляция `RevolvingUtilizationOfUnsecuredLines` с `age` и прямая корреляция с переменными с информацией о различных по времени просрочках."
   ]
  },
  {
   "cell_type": "markdown",
   "metadata": {},
   "source": [
    "**Проверьте наличие категориальных признаков, а также соответствие содержимого данных их типам**"
   ]
  },
  {
   "cell_type": "markdown",
   "metadata": {},
   "source": [
    "Категориальных признаков нет (df.info() показывает только числовые типы переменных). \n",
    "\n",
    "Соответствие содержимого данных их типам вызывает **вопросы**: \n",
    "\n",
    "1. Максимальное значение переменных `NumberOfTime30-59DaysPastDueNotWorse`, `NumberOfTimes90DaysLate` и `NumberOfTime60-89DaysPastDueNotWorse` - это одинаковое число **98**, этот момент требует более детального рассмотрения.\n",
    "\n",
    "2. Если `DebtRatio` - это сумма ежемесячных платежей по долгам, алиментов и расходов на проживание, деленная на месячный доналоговый доход, то каким образом эта переменная расчитывалась в случае пропусков значения `MonthlyIncome`?\n",
    "\n",
    "3. Переменные `RevolvingUtilizationOfUnsecuredLines` и  `DebtRatio`, которые согласно описанию измеряются в процентах, имеют максимальные значения **50708.0** и **329664.0** соответственно, хотя не должны быть больше **1**."
   ]
  },
  {
   "cell_type": "markdown",
   "metadata": {},
   "source": [
    "#### 1. `NumberOfTime30-59DaysPastDueNotWorse`, `NumberOfTimes90DaysLate` и `NumberOfTime60-89DaysPastDueNotWorse`"
   ]
  },
  {
   "cell_type": "code",
   "execution_count": 15,
   "metadata": {},
   "outputs": [
    {
     "data": {
      "text/plain": [
       "264"
      ]
     },
     "execution_count": 15,
     "metadata": {},
     "output_type": "execute_result"
    },
    {
     "data": {
      "text/plain": [
       "264"
      ]
     },
     "execution_count": 15,
     "metadata": {},
     "output_type": "execute_result"
    },
    {
     "data": {
      "text/plain": [
       "264"
      ]
     },
     "execution_count": 15,
     "metadata": {},
     "output_type": "execute_result"
    },
    {
     "data": {
      "text/plain": [
       "264"
      ]
     },
     "execution_count": 15,
     "metadata": {},
     "output_type": "execute_result"
    }
   ],
   "source": [
    "len(df[df.NumberOfTime30_59DaysPastDueNotWorse > 97])\n",
    "len(df[df.NumberOfTimes90DaysLate > 97])\n",
    "len(df[df.NumberOfTime60_89DaysPastDueNotWorse > 97])\n",
    "len(df[(df.NumberOfTimes90DaysLate > 97) & \n",
    "       (df.NumberOfTime30_59DaysPastDueNotWorse > 97) & \n",
    "       (df.NumberOfTime60_89DaysPastDueNotWorse > 97)])"
   ]
  },
  {
   "cell_type": "code",
   "execution_count": 16,
   "metadata": {},
   "outputs": [
    {
     "data": {
      "text/html": [
       "<div>\n",
       "<style scoped>\n",
       "    .dataframe tbody tr th:only-of-type {\n",
       "        vertical-align: middle;\n",
       "    }\n",
       "\n",
       "    .dataframe tbody tr th {\n",
       "        vertical-align: top;\n",
       "    }\n",
       "\n",
       "    .dataframe thead th {\n",
       "        text-align: right;\n",
       "    }\n",
       "</style>\n",
       "<table border=\"1\" class=\"dataframe\">\n",
       "  <thead>\n",
       "    <tr style=\"text-align: right;\">\n",
       "      <th></th>\n",
       "      <th>SeriousDlqin2yrs</th>\n",
       "      <th>RevolvingUtilizationOfUnsecuredLines</th>\n",
       "      <th>age</th>\n",
       "      <th>NumberOfTime30_59DaysPastDueNotWorse</th>\n",
       "      <th>DebtRatio</th>\n",
       "      <th>MonthlyIncome</th>\n",
       "      <th>NumberOfOpenCreditLinesAndLoans</th>\n",
       "      <th>NumberOfTimes90DaysLate</th>\n",
       "      <th>NumberRealEstateLoansOrLines</th>\n",
       "      <th>NumberOfTime60_89DaysPastDueNotWorse</th>\n",
       "      <th>NumberOfDependents</th>\n",
       "    </tr>\n",
       "  </thead>\n",
       "  <tbody>\n",
       "    <tr>\n",
       "      <th>1734</th>\n",
       "      <td>1</td>\n",
       "      <td>1.0</td>\n",
       "      <td>27</td>\n",
       "      <td>98</td>\n",
       "      <td>0.0</td>\n",
       "      <td>2700.0</td>\n",
       "      <td>0</td>\n",
       "      <td>98</td>\n",
       "      <td>0</td>\n",
       "      <td>98</td>\n",
       "      <td>0.0</td>\n",
       "    </tr>\n",
       "    <tr>\n",
       "      <th>2287</th>\n",
       "      <td>0</td>\n",
       "      <td>1.0</td>\n",
       "      <td>22</td>\n",
       "      <td>98</td>\n",
       "      <td>0.0</td>\n",
       "      <td>NaN</td>\n",
       "      <td>0</td>\n",
       "      <td>98</td>\n",
       "      <td>0</td>\n",
       "      <td>98</td>\n",
       "      <td>0.0</td>\n",
       "    </tr>\n",
       "    <tr>\n",
       "      <th>3885</th>\n",
       "      <td>0</td>\n",
       "      <td>1.0</td>\n",
       "      <td>38</td>\n",
       "      <td>98</td>\n",
       "      <td>12.0</td>\n",
       "      <td>NaN</td>\n",
       "      <td>0</td>\n",
       "      <td>98</td>\n",
       "      <td>0</td>\n",
       "      <td>98</td>\n",
       "      <td>0.0</td>\n",
       "    </tr>\n",
       "    <tr>\n",
       "      <th>4418</th>\n",
       "      <td>0</td>\n",
       "      <td>1.0</td>\n",
       "      <td>21</td>\n",
       "      <td>98</td>\n",
       "      <td>0.0</td>\n",
       "      <td>0.0</td>\n",
       "      <td>0</td>\n",
       "      <td>98</td>\n",
       "      <td>0</td>\n",
       "      <td>98</td>\n",
       "      <td>0.0</td>\n",
       "    </tr>\n",
       "    <tr>\n",
       "      <th>4706</th>\n",
       "      <td>0</td>\n",
       "      <td>1.0</td>\n",
       "      <td>21</td>\n",
       "      <td>98</td>\n",
       "      <td>0.0</td>\n",
       "      <td>2000.0</td>\n",
       "      <td>0</td>\n",
       "      <td>98</td>\n",
       "      <td>0</td>\n",
       "      <td>98</td>\n",
       "      <td>0.0</td>\n",
       "    </tr>\n",
       "  </tbody>\n",
       "</table>\n",
       "</div>"
      ],
      "text/plain": [
       "      SeriousDlqin2yrs  RevolvingUtilizationOfUnsecuredLines  age  \\\n",
       "1734                 1                                   1.0   27   \n",
       "2287                 0                                   1.0   22   \n",
       "3885                 0                                   1.0   38   \n",
       "4418                 0                                   1.0   21   \n",
       "4706                 0                                   1.0   21   \n",
       "\n",
       "      NumberOfTime30_59DaysPastDueNotWorse  DebtRatio  MonthlyIncome  \\\n",
       "1734                                    98        0.0         2700.0   \n",
       "2287                                    98        0.0            NaN   \n",
       "3885                                    98       12.0            NaN   \n",
       "4418                                    98        0.0            0.0   \n",
       "4706                                    98        0.0         2000.0   \n",
       "\n",
       "      NumberOfOpenCreditLinesAndLoans  NumberOfTimes90DaysLate  \\\n",
       "1734                                0                       98   \n",
       "2287                                0                       98   \n",
       "3885                                0                       98   \n",
       "4418                                0                       98   \n",
       "4706                                0                       98   \n",
       "\n",
       "      NumberRealEstateLoansOrLines  NumberOfTime60_89DaysPastDueNotWorse  \\\n",
       "1734                             0                                    98   \n",
       "2287                             0                                    98   \n",
       "3885                             0                                    98   \n",
       "4418                             0                                    98   \n",
       "4706                             0                                    98   \n",
       "\n",
       "      NumberOfDependents  \n",
       "1734                 0.0  \n",
       "2287                 0.0  \n",
       "3885                 0.0  \n",
       "4418                 0.0  \n",
       "4706                 0.0  "
      ]
     },
     "execution_count": 16,
     "metadata": {},
     "output_type": "execute_result"
    }
   ],
   "source": [
    "df[df.NumberOfTimes90DaysLate > 97].head()"
   ]
  },
  {
   "cell_type": "code",
   "execution_count": 17,
   "metadata": {},
   "outputs": [
    {
     "data": {
      "text/plain": [
       "0     126018\n",
       "1      16033\n",
       "2       4598\n",
       "3       1754\n",
       "4        747\n",
       "5        342\n",
       "6        140\n",
       "7         54\n",
       "8         25\n",
       "9         12\n",
       "10         4\n",
       "11         1\n",
       "12         2\n",
       "13         1\n",
       "96         5\n",
       "98       264\n",
       "Name: NumberOfTime30_59DaysPastDueNotWorse, dtype: int64"
      ]
     },
     "execution_count": 17,
     "metadata": {},
     "output_type": "execute_result"
    }
   ],
   "source": [
    "df.NumberOfTime30_59DaysPastDueNotWorse.value_counts().sort_index()"
   ]
  },
  {
   "cell_type": "code",
   "execution_count": 18,
   "metadata": {},
   "outputs": [
    {
     "data": {
      "text/plain": [
       "0     141662\n",
       "1       5243\n",
       "2       1555\n",
       "3        667\n",
       "4        291\n",
       "5        131\n",
       "6         80\n",
       "7         38\n",
       "8         21\n",
       "9         19\n",
       "10         8\n",
       "11         5\n",
       "12         2\n",
       "13         4\n",
       "14         2\n",
       "15         2\n",
       "17         1\n",
       "96         5\n",
       "98       264\n",
       "Name: NumberOfTimes90DaysLate, dtype: int64"
      ]
     },
     "execution_count": 18,
     "metadata": {},
     "output_type": "execute_result"
    }
   ],
   "source": [
    "df.NumberOfTimes90DaysLate.value_counts().sort_index()"
   ]
  },
  {
   "cell_type": "code",
   "execution_count": 19,
   "metadata": {},
   "outputs": [
    {
     "data": {
      "text/plain": [
       "0     142396\n",
       "1       5731\n",
       "2       1118\n",
       "3        318\n",
       "4        105\n",
       "5         34\n",
       "6         16\n",
       "7          9\n",
       "8          2\n",
       "9          1\n",
       "11         1\n",
       "96         5\n",
       "98       264\n",
       "Name: NumberOfTime60_89DaysPastDueNotWorse, dtype: int64"
      ]
     },
     "execution_count": 19,
     "metadata": {},
     "output_type": "execute_result"
    }
   ],
   "source": [
    "df.NumberOfTime60_89DaysPastDueNotWorse.value_counts().sort_index()"
   ]
  },
  {
   "cell_type": "markdown",
   "metadata": {},
   "source": [
    "Максимальные значения переменных `NumberOfTime30_59DaysPastDueNotWorse`, `NumberOfTimes90DaysLate` и `NumberOfTime60_89DaysPastDueNotWorse` (**98**) относятся к одним и тем же наблюдениям. Также в этих переменных присутствует значение **96**, и тоже в одинаковых количествах."
   ]
  },
  {
   "cell_type": "code",
   "execution_count": 20,
   "metadata": {},
   "outputs": [
    {
     "data": {
      "text/html": [
       "<div>\n",
       "<style scoped>\n",
       "    .dataframe tbody tr th:only-of-type {\n",
       "        vertical-align: middle;\n",
       "    }\n",
       "\n",
       "    .dataframe tbody tr th {\n",
       "        vertical-align: top;\n",
       "    }\n",
       "\n",
       "    .dataframe thead th {\n",
       "        text-align: right;\n",
       "    }\n",
       "</style>\n",
       "<table border=\"1\" class=\"dataframe\">\n",
       "  <thead>\n",
       "    <tr style=\"text-align: right;\">\n",
       "      <th></th>\n",
       "      <th>NumberOfTime30_59DaysPastDueNotWorse</th>\n",
       "      <th>NumberOfTimes90DaysLate</th>\n",
       "      <th>NumberOfTime60_89DaysPastDueNotWorse</th>\n",
       "      <th>SeriousDlqin2yrs</th>\n",
       "    </tr>\n",
       "  </thead>\n",
       "  <tbody>\n",
       "    <tr>\n",
       "      <th>count</th>\n",
       "      <td>269.000000</td>\n",
       "      <td>269.000000</td>\n",
       "      <td>269.000000</td>\n",
       "      <td>269.000000</td>\n",
       "    </tr>\n",
       "    <tr>\n",
       "      <th>mean</th>\n",
       "      <td>97.962825</td>\n",
       "      <td>97.962825</td>\n",
       "      <td>97.962825</td>\n",
       "      <td>0.546468</td>\n",
       "    </tr>\n",
       "    <tr>\n",
       "      <th>std</th>\n",
       "      <td>0.270628</td>\n",
       "      <td>0.270628</td>\n",
       "      <td>0.270628</td>\n",
       "      <td>0.498764</td>\n",
       "    </tr>\n",
       "    <tr>\n",
       "      <th>min</th>\n",
       "      <td>96.000000</td>\n",
       "      <td>96.000000</td>\n",
       "      <td>96.000000</td>\n",
       "      <td>0.000000</td>\n",
       "    </tr>\n",
       "    <tr>\n",
       "      <th>25%</th>\n",
       "      <td>98.000000</td>\n",
       "      <td>98.000000</td>\n",
       "      <td>98.000000</td>\n",
       "      <td>0.000000</td>\n",
       "    </tr>\n",
       "    <tr>\n",
       "      <th>50%</th>\n",
       "      <td>98.000000</td>\n",
       "      <td>98.000000</td>\n",
       "      <td>98.000000</td>\n",
       "      <td>1.000000</td>\n",
       "    </tr>\n",
       "    <tr>\n",
       "      <th>75%</th>\n",
       "      <td>98.000000</td>\n",
       "      <td>98.000000</td>\n",
       "      <td>98.000000</td>\n",
       "      <td>1.000000</td>\n",
       "    </tr>\n",
       "    <tr>\n",
       "      <th>max</th>\n",
       "      <td>98.000000</td>\n",
       "      <td>98.000000</td>\n",
       "      <td>98.000000</td>\n",
       "      <td>1.000000</td>\n",
       "    </tr>\n",
       "  </tbody>\n",
       "</table>\n",
       "</div>"
      ],
      "text/plain": [
       "       NumberOfTime30_59DaysPastDueNotWorse  NumberOfTimes90DaysLate  \\\n",
       "count                            269.000000               269.000000   \n",
       "mean                              97.962825                97.962825   \n",
       "std                                0.270628                 0.270628   \n",
       "min                               96.000000                96.000000   \n",
       "25%                               98.000000                98.000000   \n",
       "50%                               98.000000                98.000000   \n",
       "75%                               98.000000                98.000000   \n",
       "max                               98.000000                98.000000   \n",
       "\n",
       "       NumberOfTime60_89DaysPastDueNotWorse  SeriousDlqin2yrs  \n",
       "count                            269.000000        269.000000  \n",
       "mean                              97.962825          0.546468  \n",
       "std                                0.270628          0.498764  \n",
       "min                               96.000000          0.000000  \n",
       "25%                               98.000000          0.000000  \n",
       "50%                               98.000000          1.000000  \n",
       "75%                               98.000000          1.000000  \n",
       "max                               98.000000          1.000000  "
      ]
     },
     "execution_count": 20,
     "metadata": {},
     "output_type": "execute_result"
    }
   ],
   "source": [
    "df_higher96 = df[df['NumberOfTimes90DaysLate'] > 95][[\n",
    "    'NumberOfTime30_59DaysPastDueNotWorse', 'NumberOfTimes90DaysLate',\n",
    "    'NumberOfTime60_89DaysPastDueNotWorse', 'SeriousDlqin2yrs'\n",
    "]]\n",
    "df_higher96.describe()"
   ]
  },
  {
   "cell_type": "code",
   "execution_count": 21,
   "metadata": {},
   "outputs": [
    {
     "data": {
      "text/plain": [
       "1    147\n",
       "0    122\n",
       "Name: SeriousDlqin2yrs, dtype: int64"
      ]
     },
     "execution_count": 21,
     "metadata": {},
     "output_type": "execute_result"
    }
   ],
   "source": [
    "df_higher96.SeriousDlqin2yrs.value_counts()"
   ]
  },
  {
   "cell_type": "markdown",
   "metadata": {},
   "source": [
    "Больше половины выделенных наблюдений имеют значение целевой переменной `SeriousDlqin2yrs` **1** (миноритарный класс), поэтому можно использовать эти переменные для создания новых переменных."
   ]
  },
  {
   "cell_type": "code",
   "execution_count": 22,
   "metadata": {},
   "outputs": [],
   "source": [
    "# Все сведения о просрочках для наблюдения\n",
    "df['NumberOfTimes_PastDue'] = (df.NumberOfTime30_59DaysPastDueNotWorse + \n",
    "                              df.NumberOfTimes90DaysLate + \n",
    "                              df.NumberOfTime60_89DaysPastDueNotWorse)"
   ]
  },
  {
   "cell_type": "code",
   "execution_count": 23,
   "metadata": {},
   "outputs": [],
   "source": [
    "# Высокие значения просрочек\n",
    "df['NumberOfTimesLate_high'] = np.where(\n",
    "    df.NumberOfTime30_59DaysPastDueNotWorse > 95, 1, 0).astype('object')\n",
    "#df['no_creditInfo'] = df['no_creditInfo'].astype('object')\n",
    "# Значения == 96\n",
    "df['NumberOfTimesLate_96'] = np.where(\n",
    "    df.NumberOfTime30_59DaysPastDueNotWorse == 96, 1, 0).astype('object')\n",
    "# Значения == 98\n",
    "df['NumberOfTimesLate_98'] = np.where(\n",
    "    df.NumberOfTime30_59DaysPastDueNotWorse == 98, 1, 0).astype('object')\n",
    "\n",
    "# Отсутствие просрочек на данный срок\n",
    "df['NumberOfTime30_59Days_none'] = np.where(\n",
    "    df.NumberOfTime30_59DaysPastDueNotWorse == 0, 1, 0).astype('object')\n",
    "df['NumberOfTimes90Days_none'] = np.where(df.NumberOfTimes90DaysLate == 0, 1,\n",
    "                                          0).astype('object')\n",
    "df['NumberOfTime60_89Days_none'] = np.where(\n",
    "    df.NumberOfTime60_89DaysPastDueNotWorse == 0, 1, 0).astype('object')"
   ]
  },
  {
   "cell_type": "code",
   "execution_count": 24,
   "metadata": {},
   "outputs": [],
   "source": [
    "# Самое высокое значение, исключая 96 и 98, для NumberOfTimes90DaysLate == 17\n",
    "# RandomForest устойчив к выбросам, но для других моделей,\n",
    "# возможно, стоит уменьшить диапазон значений\n",
    "# Заменяем значения 96 и 98 на 20\n",
    "df.NumberOfTime30_59DaysPastDueNotWorse[\n",
    "    df.NumberOfTime30_59DaysPastDueNotWorse > 95] = 20\n",
    "df.NumberOfTimes90DaysLate[\n",
    "    df.NumberOfTime30_59DaysPastDueNotWorse > 95] = 20\n",
    "df.NumberOfTime60_89DaysPastDueNotWorse[\n",
    "    df.NumberOfTime60_89DaysPastDueNotWorse > 95] = 20"
   ]
  },
  {
   "cell_type": "code",
   "execution_count": 25,
   "metadata": {},
   "outputs": [
    {
     "data": {
      "text/html": [
       "<div>\n",
       "<style scoped>\n",
       "    .dataframe tbody tr th:only-of-type {\n",
       "        vertical-align: middle;\n",
       "    }\n",
       "\n",
       "    .dataframe tbody tr th {\n",
       "        vertical-align: top;\n",
       "    }\n",
       "\n",
       "    .dataframe thead th {\n",
       "        text-align: right;\n",
       "    }\n",
       "</style>\n",
       "<table border=\"1\" class=\"dataframe\">\n",
       "  <thead>\n",
       "    <tr style=\"text-align: right;\">\n",
       "      <th></th>\n",
       "      <th>SeriousDlqin2yrs</th>\n",
       "      <th>RevolvingUtilizationOfUnsecuredLines</th>\n",
       "      <th>age</th>\n",
       "      <th>NumberOfTime30_59DaysPastDueNotWorse</th>\n",
       "      <th>DebtRatio</th>\n",
       "      <th>MonthlyIncome</th>\n",
       "      <th>NumberOfOpenCreditLinesAndLoans</th>\n",
       "      <th>NumberOfTimes90DaysLate</th>\n",
       "      <th>NumberRealEstateLoansOrLines</th>\n",
       "      <th>NumberOfTime60_89DaysPastDueNotWorse</th>\n",
       "      <th>NumberOfDependents</th>\n",
       "      <th>NumberOfTimes_PastDue</th>\n",
       "      <th>NumberOfTimesLate_high</th>\n",
       "      <th>NumberOfTimesLate_96</th>\n",
       "      <th>NumberOfTimesLate_98</th>\n",
       "      <th>NumberOfTime30_59Days_none</th>\n",
       "      <th>NumberOfTimes90Days_none</th>\n",
       "      <th>NumberOfTime60_89Days_none</th>\n",
       "    </tr>\n",
       "  </thead>\n",
       "  <tbody>\n",
       "    <tr>\n",
       "      <th>1</th>\n",
       "      <td>1</td>\n",
       "      <td>0.766127</td>\n",
       "      <td>45</td>\n",
       "      <td>2</td>\n",
       "      <td>0.802982</td>\n",
       "      <td>9120.0</td>\n",
       "      <td>13</td>\n",
       "      <td>0</td>\n",
       "      <td>6</td>\n",
       "      <td>0</td>\n",
       "      <td>2.0</td>\n",
       "      <td>2</td>\n",
       "      <td>0</td>\n",
       "      <td>0</td>\n",
       "      <td>0</td>\n",
       "      <td>0</td>\n",
       "      <td>1</td>\n",
       "      <td>1</td>\n",
       "    </tr>\n",
       "    <tr>\n",
       "      <th>2</th>\n",
       "      <td>0</td>\n",
       "      <td>0.957151</td>\n",
       "      <td>40</td>\n",
       "      <td>0</td>\n",
       "      <td>0.121876</td>\n",
       "      <td>2600.0</td>\n",
       "      <td>4</td>\n",
       "      <td>0</td>\n",
       "      <td>0</td>\n",
       "      <td>0</td>\n",
       "      <td>1.0</td>\n",
       "      <td>0</td>\n",
       "      <td>0</td>\n",
       "      <td>0</td>\n",
       "      <td>0</td>\n",
       "      <td>1</td>\n",
       "      <td>1</td>\n",
       "      <td>1</td>\n",
       "    </tr>\n",
       "    <tr>\n",
       "      <th>3</th>\n",
       "      <td>0</td>\n",
       "      <td>0.658180</td>\n",
       "      <td>38</td>\n",
       "      <td>1</td>\n",
       "      <td>0.085113</td>\n",
       "      <td>3042.0</td>\n",
       "      <td>2</td>\n",
       "      <td>1</td>\n",
       "      <td>0</td>\n",
       "      <td>0</td>\n",
       "      <td>0.0</td>\n",
       "      <td>2</td>\n",
       "      <td>0</td>\n",
       "      <td>0</td>\n",
       "      <td>0</td>\n",
       "      <td>0</td>\n",
       "      <td>0</td>\n",
       "      <td>1</td>\n",
       "    </tr>\n",
       "    <tr>\n",
       "      <th>4</th>\n",
       "      <td>0</td>\n",
       "      <td>0.233810</td>\n",
       "      <td>30</td>\n",
       "      <td>0</td>\n",
       "      <td>0.036050</td>\n",
       "      <td>3300.0</td>\n",
       "      <td>5</td>\n",
       "      <td>0</td>\n",
       "      <td>0</td>\n",
       "      <td>0</td>\n",
       "      <td>0.0</td>\n",
       "      <td>0</td>\n",
       "      <td>0</td>\n",
       "      <td>0</td>\n",
       "      <td>0</td>\n",
       "      <td>1</td>\n",
       "      <td>1</td>\n",
       "      <td>1</td>\n",
       "    </tr>\n",
       "    <tr>\n",
       "      <th>5</th>\n",
       "      <td>0</td>\n",
       "      <td>0.907239</td>\n",
       "      <td>49</td>\n",
       "      <td>1</td>\n",
       "      <td>0.024926</td>\n",
       "      <td>63588.0</td>\n",
       "      <td>7</td>\n",
       "      <td>0</td>\n",
       "      <td>1</td>\n",
       "      <td>0</td>\n",
       "      <td>0.0</td>\n",
       "      <td>1</td>\n",
       "      <td>0</td>\n",
       "      <td>0</td>\n",
       "      <td>0</td>\n",
       "      <td>0</td>\n",
       "      <td>1</td>\n",
       "      <td>1</td>\n",
       "    </tr>\n",
       "  </tbody>\n",
       "</table>\n",
       "</div>"
      ],
      "text/plain": [
       "   SeriousDlqin2yrs  RevolvingUtilizationOfUnsecuredLines  age  \\\n",
       "1                 1                              0.766127   45   \n",
       "2                 0                              0.957151   40   \n",
       "3                 0                              0.658180   38   \n",
       "4                 0                              0.233810   30   \n",
       "5                 0                              0.907239   49   \n",
       "\n",
       "   NumberOfTime30_59DaysPastDueNotWorse  DebtRatio  MonthlyIncome  \\\n",
       "1                                     2   0.802982         9120.0   \n",
       "2                                     0   0.121876         2600.0   \n",
       "3                                     1   0.085113         3042.0   \n",
       "4                                     0   0.036050         3300.0   \n",
       "5                                     1   0.024926        63588.0   \n",
       "\n",
       "   NumberOfOpenCreditLinesAndLoans  NumberOfTimes90DaysLate  \\\n",
       "1                               13                        0   \n",
       "2                                4                        0   \n",
       "3                                2                        1   \n",
       "4                                5                        0   \n",
       "5                                7                        0   \n",
       "\n",
       "   NumberRealEstateLoansOrLines  NumberOfTime60_89DaysPastDueNotWorse  \\\n",
       "1                             6                                     0   \n",
       "2                             0                                     0   \n",
       "3                             0                                     0   \n",
       "4                             0                                     0   \n",
       "5                             1                                     0   \n",
       "\n",
       "   NumberOfDependents  NumberOfTimes_PastDue NumberOfTimesLate_high  \\\n",
       "1                 2.0                      2                      0   \n",
       "2                 1.0                      0                      0   \n",
       "3                 0.0                      2                      0   \n",
       "4                 0.0                      0                      0   \n",
       "5                 0.0                      1                      0   \n",
       "\n",
       "  NumberOfTimesLate_96 NumberOfTimesLate_98 NumberOfTime30_59Days_none  \\\n",
       "1                    0                    0                          0   \n",
       "2                    0                    0                          1   \n",
       "3                    0                    0                          0   \n",
       "4                    0                    0                          1   \n",
       "5                    0                    0                          0   \n",
       "\n",
       "  NumberOfTimes90Days_none NumberOfTime60_89Days_none  \n",
       "1                        1                          1  \n",
       "2                        1                          1  \n",
       "3                        0                          1  \n",
       "4                        1                          1  \n",
       "5                        1                          1  "
      ]
     },
     "execution_count": 25,
     "metadata": {},
     "output_type": "execute_result"
    }
   ],
   "source": [
    "df.head()"
   ]
  },
  {
   "attachments": {},
   "cell_type": "markdown",
   "metadata": {},
   "source": [
    "Наша задача на данном шаге кроме создания новых переменных по возмождности сохранить информацию из переменных которые были у нас ранее. Мы бы могли удалить все \"выбросы\" но на данном этапе мы пока что не знам что есть выброс."
   ]
  },
  {
   "cell_type": "markdown",
   "metadata": {},
   "source": [
    "#### 2. `DebtRatio` и `MonthlyIncome`"
   ]
  },
  {
   "cell_type": "code",
   "execution_count": 26,
   "metadata": {},
   "outputs": [
    {
     "data": {
      "text/plain": [
       "0.000000         4113\n",
       "0.000026            1\n",
       "0.000037            1\n",
       "0.000039            1\n",
       "0.000066            1\n",
       "                 ... \n",
       "168835.000000       1\n",
       "220516.000000       1\n",
       "307001.000000       1\n",
       "326442.000000       1\n",
       "329664.000000       1\n",
       "Name: DebtRatio, Length: 114194, dtype: int64"
      ]
     },
     "execution_count": 26,
     "metadata": {},
     "output_type": "execute_result"
    }
   ],
   "source": [
    "df.DebtRatio.value_counts().sort_index()"
   ]
  },
  {
   "cell_type": "markdown",
   "metadata": {},
   "source": [
    "Посмотрим на значения `DebtRatio` при не определенном `MonthlyIncome`."
   ]
  },
  {
   "cell_type": "code",
   "execution_count": 27,
   "metadata": {},
   "outputs": [
    {
     "data": {
      "text/plain": [
       "0.0         1622\n",
       "1.0          205\n",
       "2.0          160\n",
       "3.0          155\n",
       "4.0          162\n",
       "            ... \n",
       "168835.0       1\n",
       "220516.0       1\n",
       "307001.0       1\n",
       "326442.0       1\n",
       "329664.0       1\n",
       "Name: DebtRatio, Length: 5728, dtype: int64"
      ]
     },
     "execution_count": 27,
     "metadata": {},
     "output_type": "execute_result"
    }
   ],
   "source": [
    "df.DebtRatio[df.MonthlyIncome.isna()].value_counts().sort_index()"
   ]
  },
  {
   "cell_type": "markdown",
   "metadata": {},
   "source": [
    "При пропущенных значениях `MonthlyIncome` значения `DebtRatio`равны нулю или больше 1.\n",
    "\n",
    "Создадим промежуточную переменную, аналогичную `MonthlyIncome`, но с заполнением пропущенных значений **1**. "
   ]
  },
  {
   "cell_type": "code",
   "execution_count": 28,
   "metadata": {},
   "outputs": [],
   "source": [
    "df['MonthlyIncomeFilled'] = df.MonthlyIncome\n",
    "df.MonthlyIncomeFilled.fillna(1, inplace=True)"
   ]
  },
  {
   "cell_type": "markdown",
   "metadata": {},
   "source": [
    "Учитывая описание переменной `DebtRatio` можно создать переменную `MonthlyPayment`, показывающую **\"сумму ежемесячных платежей по долгам, алиментов и расходов на проживание\"** (числитель при расчете `DebtRatio`)."
   ]
  },
  {
   "cell_type": "code",
   "execution_count": 31,
   "metadata": {},
   "outputs": [],
   "source": [
    "df['MonthlyPayment'] = df.DebtRatio * df.MonthlyIncomeFilled"
   ]
  },
  {
   "cell_type": "code",
   "execution_count": 32,
   "metadata": {},
   "outputs": [
    {
     "data": {
      "text/html": [
       "<div>\n",
       "<style scoped>\n",
       "    .dataframe tbody tr th:only-of-type {\n",
       "        vertical-align: middle;\n",
       "    }\n",
       "\n",
       "    .dataframe tbody tr th {\n",
       "        vertical-align: top;\n",
       "    }\n",
       "\n",
       "    .dataframe thead th {\n",
       "        text-align: right;\n",
       "    }\n",
       "</style>\n",
       "<table border=\"1\" class=\"dataframe\">\n",
       "  <thead>\n",
       "    <tr style=\"text-align: right;\">\n",
       "      <th></th>\n",
       "      <th>DebtRatio</th>\n",
       "      <th>MonthlyPayment</th>\n",
       "      <th>MonthlyIncomeFilled</th>\n",
       "    </tr>\n",
       "  </thead>\n",
       "  <tbody>\n",
       "    <tr>\n",
       "      <th>1</th>\n",
       "      <td>0.802982</td>\n",
       "      <td>7323.197016</td>\n",
       "      <td>9120.0</td>\n",
       "    </tr>\n",
       "    <tr>\n",
       "      <th>2</th>\n",
       "      <td>0.121876</td>\n",
       "      <td>316.878123</td>\n",
       "      <td>2600.0</td>\n",
       "    </tr>\n",
       "    <tr>\n",
       "      <th>3</th>\n",
       "      <td>0.085113</td>\n",
       "      <td>258.914887</td>\n",
       "      <td>3042.0</td>\n",
       "    </tr>\n",
       "    <tr>\n",
       "      <th>4</th>\n",
       "      <td>0.036050</td>\n",
       "      <td>118.963951</td>\n",
       "      <td>3300.0</td>\n",
       "    </tr>\n",
       "    <tr>\n",
       "      <th>5</th>\n",
       "      <td>0.024926</td>\n",
       "      <td>1584.975094</td>\n",
       "      <td>63588.0</td>\n",
       "    </tr>\n",
       "    <tr>\n",
       "      <th>...</th>\n",
       "      <td>...</td>\n",
       "      <td>...</td>\n",
       "      <td>...</td>\n",
       "    </tr>\n",
       "    <tr>\n",
       "      <th>149996</th>\n",
       "      <td>0.225131</td>\n",
       "      <td>472.774869</td>\n",
       "      <td>2100.0</td>\n",
       "    </tr>\n",
       "    <tr>\n",
       "      <th>149997</th>\n",
       "      <td>0.716562</td>\n",
       "      <td>4001.283436</td>\n",
       "      <td>5584.0</td>\n",
       "    </tr>\n",
       "    <tr>\n",
       "      <th>149998</th>\n",
       "      <td>3870.000000</td>\n",
       "      <td>3870.000000</td>\n",
       "      <td>1.0</td>\n",
       "    </tr>\n",
       "    <tr>\n",
       "      <th>149999</th>\n",
       "      <td>0.000000</td>\n",
       "      <td>0.000000</td>\n",
       "      <td>5716.0</td>\n",
       "    </tr>\n",
       "    <tr>\n",
       "      <th>150000</th>\n",
       "      <td>0.249908</td>\n",
       "      <td>2038.750092</td>\n",
       "      <td>8158.0</td>\n",
       "    </tr>\n",
       "  </tbody>\n",
       "</table>\n",
       "<p>150000 rows × 3 columns</p>\n",
       "</div>"
      ],
      "text/plain": [
       "          DebtRatio  MonthlyPayment  MonthlyIncomeFilled\n",
       "1          0.802982     7323.197016               9120.0\n",
       "2          0.121876      316.878123               2600.0\n",
       "3          0.085113      258.914887               3042.0\n",
       "4          0.036050      118.963951               3300.0\n",
       "5          0.024926     1584.975094              63588.0\n",
       "...             ...             ...                  ...\n",
       "149996     0.225131      472.774869               2100.0\n",
       "149997     0.716562     4001.283436               5584.0\n",
       "149998  3870.000000     3870.000000                  1.0\n",
       "149999     0.000000        0.000000               5716.0\n",
       "150000     0.249908     2038.750092               8158.0\n",
       "\n",
       "[150000 rows x 3 columns]"
      ]
     },
     "execution_count": 32,
     "metadata": {},
     "output_type": "execute_result"
    }
   ],
   "source": [
    "df[['DebtRatio', 'MonthlyPayment', 'MonthlyIncomeFilled']]"
   ]
  },
  {
   "cell_type": "code",
   "execution_count": 33,
   "metadata": {},
   "outputs": [
    {
     "data": {
      "text/plain": [
       "5650"
      ]
     },
     "execution_count": 33,
     "metadata": {},
     "output_type": "execute_result"
    }
   ],
   "source": [
    "len(df[df['MonthlyPayment']==0.0])"
   ]
  },
  {
   "cell_type": "code",
   "execution_count": 34,
   "metadata": {},
   "outputs": [
    {
     "data": {
      "text/plain": [
       "count    150000.000000\n",
       "mean       2029.675384\n",
       "std        4210.622764\n",
       "min           0.000000\n",
       "25%         510.744628\n",
       "50%        1528.901456\n",
       "75%        2787.698312\n",
       "max      478450.559160\n",
       "Name: MonthlyPayment, dtype: float64"
      ]
     },
     "execution_count": 34,
     "metadata": {},
     "output_type": "execute_result"
    }
   ],
   "source": [
    "df['MonthlyPayment'].describe()"
   ]
  },
  {
   "cell_type": "markdown",
   "metadata": {},
   "source": [
    "Будем предполагать, что, если отсутствуют сведения о сумме ежемесячных платежей по долгам, алиментов и расходов на проживание, то, в соответствии с формулой расчета, `DebtRatio` равен **0**. Если же нет сведений о месячном доходе, то `DebtRatio` содержит значение ежемесячных платежей, и именно отсюда такие большие значения.\n",
    "\n",
    "Возможно, эти рассуждения спорные, но введение переменной, показывающей месячные расходы, представляется нелишним шагом, который можно будет оценить на этапе моделирования."
   ]
  },
  {
   "cell_type": "code",
   "execution_count": 35,
   "metadata": {},
   "outputs": [],
   "source": [
    "df = df.drop('MonthlyIncomeFilled', axis=1)"
   ]
  },
  {
   "cell_type": "code",
   "execution_count": 37,
   "metadata": {},
   "outputs": [],
   "source": [
    "df['MonthlyIncome_none'] = np.where(df.MonthlyIncome.isna(), 1,\n",
    "                                    0).astype('object')\n",
    "df['MonthlyIncome_zero'] = np.where(df.MonthlyIncome == 0.0, 1,\n",
    "                                    0).astype('object')\n",
    "df['DebtRatio_zero'] = np.where(df.DebtRatio == 0.0, 1, 0).astype('object')"
   ]
  },
  {
   "cell_type": "code",
   "execution_count": 38,
   "metadata": {},
   "outputs": [],
   "source": [
    "# Заменяем несоответствующие расчету значения DebtRatio на 0\n",
    "df.DebtRatio[df.DebtRatio > 1.0] = 0.0"
   ]
  },
  {
   "cell_type": "markdown",
   "metadata": {},
   "source": [
    "#### 3. `RevolvingUtilizationOfUnsecuredLines`"
   ]
  },
  {
   "cell_type": "code",
   "execution_count": 39,
   "metadata": {},
   "outputs": [
    {
     "data": {
      "text/plain": [
       "0.000000    10878\n",
       "1.000000    10256\n",
       "1.000000       17\n",
       "0.950100        8\n",
       "0.007984        6\n",
       "            ...  \n",
       "0.954162        1\n",
       "0.820080        1\n",
       "0.176771        1\n",
       "0.084661        1\n",
       "0.850283        1\n",
       "Name: RevolvingUtilizationOfUnsecuredLines, Length: 125728, dtype: int64"
      ]
     },
     "execution_count": 39,
     "metadata": {},
     "output_type": "execute_result"
    }
   ],
   "source": [
    "df.RevolvingUtilizationOfUnsecuredLines.value_counts()"
   ]
  },
  {
   "cell_type": "markdown",
   "metadata": {},
   "source": [
    "Значение 1.000000 в списке присутствует 2 раза, второй раз это скорее всего результат округления числа близкого к 1.0. "
   ]
  },
  {
   "cell_type": "code",
   "execution_count": 40,
   "metadata": {},
   "outputs": [
    {
     "data": {
      "text/plain": [
       "6.425716        1\n",
       "6.478840        1\n",
       "7.308970        1\n",
       "8.599600        1\n",
       "8.851852        1\n",
       "               ..\n",
       "20514.000000    1\n",
       "22000.000000    1\n",
       "22198.000000    1\n",
       "29110.000000    1\n",
       "50708.000000    1\n",
       "Name: RevolvingUtilizationOfUnsecuredLines, Length: 243, dtype: int64"
      ]
     },
     "execution_count": 40,
     "metadata": {},
     "output_type": "execute_result"
    },
    {
     "data": {
      "text/plain": [
       "246"
      ]
     },
     "execution_count": 40,
     "metadata": {},
     "output_type": "execute_result"
    }
   ],
   "source": [
    "# Какие значения RevolvingUtilizationOfUnsecuredLines выше среднего\n",
    "df.RevolvingUtilizationOfUnsecuredLines[\n",
    "    df.RevolvingUtilizationOfUnsecuredLines > 6.048438].value_counts().sort_index()\n",
    "\n",
    "# И сколько их\n",
    "len(df.RevolvingUtilizationOfUnsecuredLines[\n",
    "    df.RevolvingUtilizationOfUnsecuredLines > 6.048438])"
   ]
  },
  {
   "cell_type": "code",
   "execution_count": 41,
   "metadata": {},
   "outputs": [
    {
     "data": {
      "text/plain": [
       "count    3321.000000\n",
       "mean        0.372478\n",
       "std         0.483538\n",
       "min         0.000000\n",
       "25%         0.000000\n",
       "50%         0.000000\n",
       "75%         1.000000\n",
       "max         1.000000\n",
       "Name: SeriousDlqin2yrs, dtype: float64"
      ]
     },
     "execution_count": 41,
     "metadata": {},
     "output_type": "execute_result"
    }
   ],
   "source": [
    "df[df.RevolvingUtilizationOfUnsecuredLines > 1].SeriousDlqin2yrs.describe()"
   ]
  },
  {
   "cell_type": "markdown",
   "metadata": {},
   "source": [
    "У переменной `RevolvingUtilizationOfUnsecuredLines` довольно высокая корреляция с `SeriousDlqin2yrs`. Количество значений переменной выше 1 составляет **3321**, т.е., **2.214 %** от всех данных.\n",
    "\n",
    "Введем несколько дополнительных переменных."
   ]
  },
  {
   "cell_type": "code",
   "execution_count": 42,
   "metadata": {},
   "outputs": [],
   "source": [
    "df['RUUL_high'] = np.where(df.RevolvingUtilizationOfUnsecuredLines > 1, 1,\n",
    "                           0).astype('object')\n",
    "df['RUUL_zero'] = np.where(df.RevolvingUtilizationOfUnsecuredLines == 0, 1,\n",
    "                           0).astype('object')\n",
    "df['RUUL_ones'] = np.where(df.RevolvingUtilizationOfUnsecuredLines == 1, 1,\n",
    "                           0).astype('object')"
   ]
  },
  {
   "cell_type": "code",
   "execution_count": 44,
   "metadata": {},
   "outputs": [
    {
     "data": {
      "text/html": [
       "<div>\n",
       "<style scoped>\n",
       "    .dataframe tbody tr th:only-of-type {\n",
       "        vertical-align: middle;\n",
       "    }\n",
       "\n",
       "    .dataframe tbody tr th {\n",
       "        vertical-align: top;\n",
       "    }\n",
       "\n",
       "    .dataframe thead th {\n",
       "        text-align: right;\n",
       "    }\n",
       "</style>\n",
       "<table border=\"1\" class=\"dataframe\">\n",
       "  <thead>\n",
       "    <tr style=\"text-align: right;\">\n",
       "      <th></th>\n",
       "      <th>SeriousDlqin2yrs</th>\n",
       "      <th>RevolvingUtilizationOfUnsecuredLines</th>\n",
       "      <th>age</th>\n",
       "      <th>NumberOfTime30_59DaysPastDueNotWorse</th>\n",
       "      <th>DebtRatio</th>\n",
       "      <th>MonthlyIncome</th>\n",
       "      <th>NumberOfOpenCreditLinesAndLoans</th>\n",
       "      <th>NumberOfTimes90DaysLate</th>\n",
       "      <th>NumberRealEstateLoansOrLines</th>\n",
       "      <th>NumberOfTime60_89DaysPastDueNotWorse</th>\n",
       "      <th>NumberOfDependents</th>\n",
       "      <th>NumberOfTimes_PastDue</th>\n",
       "      <th>NumberOfTimesLate_high</th>\n",
       "      <th>NumberOfTimesLate_96</th>\n",
       "      <th>NumberOfTimesLate_98</th>\n",
       "      <th>NumberOfTime30_59Days_none</th>\n",
       "      <th>NumberOfTimes90Days_none</th>\n",
       "      <th>NumberOfTime60_89Days_none</th>\n",
       "      <th>MonthlyPayment</th>\n",
       "      <th>MonthlyIncome_none</th>\n",
       "      <th>MonthlyIncome_zero</th>\n",
       "      <th>DebtRatio_zero</th>\n",
       "      <th>RUUL_high</th>\n",
       "      <th>RUUL_zero</th>\n",
       "      <th>RUUL_ones</th>\n",
       "    </tr>\n",
       "  </thead>\n",
       "  <tbody>\n",
       "    <tr>\n",
       "      <th>1</th>\n",
       "      <td>1</td>\n",
       "      <td>0.766127</td>\n",
       "      <td>45</td>\n",
       "      <td>2</td>\n",
       "      <td>0.802982</td>\n",
       "      <td>9120.0</td>\n",
       "      <td>13</td>\n",
       "      <td>0</td>\n",
       "      <td>6</td>\n",
       "      <td>0</td>\n",
       "      <td>2.0</td>\n",
       "      <td>2</td>\n",
       "      <td>0</td>\n",
       "      <td>0</td>\n",
       "      <td>0</td>\n",
       "      <td>0</td>\n",
       "      <td>1</td>\n",
       "      <td>1</td>\n",
       "      <td>7323.197016</td>\n",
       "      <td>0</td>\n",
       "      <td>0</td>\n",
       "      <td>0</td>\n",
       "      <td>0</td>\n",
       "      <td>0</td>\n",
       "      <td>0</td>\n",
       "    </tr>\n",
       "    <tr>\n",
       "      <th>2</th>\n",
       "      <td>0</td>\n",
       "      <td>0.957151</td>\n",
       "      <td>40</td>\n",
       "      <td>0</td>\n",
       "      <td>0.121876</td>\n",
       "      <td>2600.0</td>\n",
       "      <td>4</td>\n",
       "      <td>0</td>\n",
       "      <td>0</td>\n",
       "      <td>0</td>\n",
       "      <td>1.0</td>\n",
       "      <td>0</td>\n",
       "      <td>0</td>\n",
       "      <td>0</td>\n",
       "      <td>0</td>\n",
       "      <td>1</td>\n",
       "      <td>1</td>\n",
       "      <td>1</td>\n",
       "      <td>316.878123</td>\n",
       "      <td>0</td>\n",
       "      <td>0</td>\n",
       "      <td>0</td>\n",
       "      <td>0</td>\n",
       "      <td>0</td>\n",
       "      <td>0</td>\n",
       "    </tr>\n",
       "    <tr>\n",
       "      <th>3</th>\n",
       "      <td>0</td>\n",
       "      <td>0.658180</td>\n",
       "      <td>38</td>\n",
       "      <td>1</td>\n",
       "      <td>0.085113</td>\n",
       "      <td>3042.0</td>\n",
       "      <td>2</td>\n",
       "      <td>1</td>\n",
       "      <td>0</td>\n",
       "      <td>0</td>\n",
       "      <td>0.0</td>\n",
       "      <td>2</td>\n",
       "      <td>0</td>\n",
       "      <td>0</td>\n",
       "      <td>0</td>\n",
       "      <td>0</td>\n",
       "      <td>0</td>\n",
       "      <td>1</td>\n",
       "      <td>258.914887</td>\n",
       "      <td>0</td>\n",
       "      <td>0</td>\n",
       "      <td>0</td>\n",
       "      <td>0</td>\n",
       "      <td>0</td>\n",
       "      <td>0</td>\n",
       "    </tr>\n",
       "    <tr>\n",
       "      <th>4</th>\n",
       "      <td>0</td>\n",
       "      <td>0.233810</td>\n",
       "      <td>30</td>\n",
       "      <td>0</td>\n",
       "      <td>0.036050</td>\n",
       "      <td>3300.0</td>\n",
       "      <td>5</td>\n",
       "      <td>0</td>\n",
       "      <td>0</td>\n",
       "      <td>0</td>\n",
       "      <td>0.0</td>\n",
       "      <td>0</td>\n",
       "      <td>0</td>\n",
       "      <td>0</td>\n",
       "      <td>0</td>\n",
       "      <td>1</td>\n",
       "      <td>1</td>\n",
       "      <td>1</td>\n",
       "      <td>118.963951</td>\n",
       "      <td>0</td>\n",
       "      <td>0</td>\n",
       "      <td>0</td>\n",
       "      <td>0</td>\n",
       "      <td>0</td>\n",
       "      <td>0</td>\n",
       "    </tr>\n",
       "    <tr>\n",
       "      <th>5</th>\n",
       "      <td>0</td>\n",
       "      <td>0.907239</td>\n",
       "      <td>49</td>\n",
       "      <td>1</td>\n",
       "      <td>0.024926</td>\n",
       "      <td>63588.0</td>\n",
       "      <td>7</td>\n",
       "      <td>0</td>\n",
       "      <td>1</td>\n",
       "      <td>0</td>\n",
       "      <td>0.0</td>\n",
       "      <td>1</td>\n",
       "      <td>0</td>\n",
       "      <td>0</td>\n",
       "      <td>0</td>\n",
       "      <td>0</td>\n",
       "      <td>1</td>\n",
       "      <td>1</td>\n",
       "      <td>1584.975094</td>\n",
       "      <td>0</td>\n",
       "      <td>0</td>\n",
       "      <td>0</td>\n",
       "      <td>0</td>\n",
       "      <td>0</td>\n",
       "      <td>0</td>\n",
       "    </tr>\n",
       "  </tbody>\n",
       "</table>\n",
       "</div>"
      ],
      "text/plain": [
       "   SeriousDlqin2yrs  RevolvingUtilizationOfUnsecuredLines  age  \\\n",
       "1                 1                              0.766127   45   \n",
       "2                 0                              0.957151   40   \n",
       "3                 0                              0.658180   38   \n",
       "4                 0                              0.233810   30   \n",
       "5                 0                              0.907239   49   \n",
       "\n",
       "   NumberOfTime30_59DaysPastDueNotWorse  DebtRatio  MonthlyIncome  \\\n",
       "1                                     2   0.802982         9120.0   \n",
       "2                                     0   0.121876         2600.0   \n",
       "3                                     1   0.085113         3042.0   \n",
       "4                                     0   0.036050         3300.0   \n",
       "5                                     1   0.024926        63588.0   \n",
       "\n",
       "   NumberOfOpenCreditLinesAndLoans  NumberOfTimes90DaysLate  \\\n",
       "1                               13                        0   \n",
       "2                                4                        0   \n",
       "3                                2                        1   \n",
       "4                                5                        0   \n",
       "5                                7                        0   \n",
       "\n",
       "   NumberRealEstateLoansOrLines  NumberOfTime60_89DaysPastDueNotWorse  \\\n",
       "1                             6                                     0   \n",
       "2                             0                                     0   \n",
       "3                             0                                     0   \n",
       "4                             0                                     0   \n",
       "5                             1                                     0   \n",
       "\n",
       "   NumberOfDependents  NumberOfTimes_PastDue NumberOfTimesLate_high  \\\n",
       "1                 2.0                      2                      0   \n",
       "2                 1.0                      0                      0   \n",
       "3                 0.0                      2                      0   \n",
       "4                 0.0                      0                      0   \n",
       "5                 0.0                      1                      0   \n",
       "\n",
       "  NumberOfTimesLate_96 NumberOfTimesLate_98 NumberOfTime30_59Days_none  \\\n",
       "1                    0                    0                          0   \n",
       "2                    0                    0                          1   \n",
       "3                    0                    0                          0   \n",
       "4                    0                    0                          1   \n",
       "5                    0                    0                          0   \n",
       "\n",
       "  NumberOfTimes90Days_none NumberOfTime60_89Days_none  MonthlyPayment  \\\n",
       "1                        1                          1     7323.197016   \n",
       "2                        1                          1      316.878123   \n",
       "3                        0                          1      258.914887   \n",
       "4                        1                          1      118.963951   \n",
       "5                        1                          1     1584.975094   \n",
       "\n",
       "  MonthlyIncome_none MonthlyIncome_zero DebtRatio_zero RUUL_high RUUL_zero  \\\n",
       "1                  0                  0              0         0         0   \n",
       "2                  0                  0              0         0         0   \n",
       "3                  0                  0              0         0         0   \n",
       "4                  0                  0              0         0         0   \n",
       "5                  0                  0              0         0         0   \n",
       "\n",
       "  RUUL_ones  \n",
       "1         0  \n",
       "2         0  \n",
       "3         0  \n",
       "4         0  \n",
       "5         0  "
      ]
     },
     "execution_count": 44,
     "metadata": {},
     "output_type": "execute_result"
    },
    {
     "data": {
      "text/plain": [
       "(150000, 25)"
      ]
     },
     "execution_count": 44,
     "metadata": {},
     "output_type": "execute_result"
    }
   ],
   "source": [
    "df.head()\n",
    "df.shape"
   ]
  },
  {
   "cell_type": "markdown",
   "metadata": {},
   "source": [
    "**Проверьте наличие NaN, при необходимости осуществите замену**"
   ]
  },
  {
   "cell_type": "code",
   "execution_count": 45,
   "metadata": {},
   "outputs": [
    {
     "data": {
      "text/plain": [
       "SeriousDlqin2yrs                            0\n",
       "RevolvingUtilizationOfUnsecuredLines        0\n",
       "age                                         0\n",
       "NumberOfTime30_59DaysPastDueNotWorse        0\n",
       "DebtRatio                                   0\n",
       "MonthlyIncome                           29731\n",
       "NumberOfOpenCreditLinesAndLoans             0\n",
       "NumberOfTimes90DaysLate                     0\n",
       "NumberRealEstateLoansOrLines                0\n",
       "NumberOfTime60_89DaysPastDueNotWorse        0\n",
       "NumberOfDependents                       3924\n",
       "NumberOfTimes_PastDue                       0\n",
       "NumberOfTimesLate_high                      0\n",
       "NumberOfTimesLate_96                        0\n",
       "NumberOfTimesLate_98                        0\n",
       "NumberOfTime30_59Days_none                  0\n",
       "NumberOfTimes90Days_none                    0\n",
       "NumberOfTime60_89Days_none                  0\n",
       "MonthlyPayment                              0\n",
       "MonthlyIncome_none                          0\n",
       "MonthlyIncome_zero                          0\n",
       "DebtRatio_zero                              0\n",
       "RUUL_high                                   0\n",
       "RUUL_zero                                   0\n",
       "RUUL_ones                                   0\n",
       "dtype: int64"
      ]
     },
     "execution_count": 45,
     "metadata": {},
     "output_type": "execute_result"
    }
   ],
   "source": [
    "df.isnull().sum()"
   ]
  },
  {
   "cell_type": "markdown",
   "metadata": {},
   "source": [
    "Кроме NaN стоит еще проверить нулевые значения."
   ]
  },
  {
   "cell_type": "code",
   "execution_count": 46,
   "metadata": {},
   "outputs": [
    {
     "data": {
      "text/plain": [
       "SeriousDlqin2yrs                        139974\n",
       "RevolvingUtilizationOfUnsecuredLines     10878\n",
       "age                                          1\n",
       "NumberOfTime30_59DaysPastDueNotWorse    126018\n",
       "DebtRatio                                39250\n",
       "MonthlyIncome                             1634\n",
       "NumberOfOpenCreditLinesAndLoans           1888\n",
       "NumberOfTimes90DaysLate                 141662\n",
       "NumberRealEstateLoansOrLines             56188\n",
       "NumberOfTime60_89DaysPastDueNotWorse    142396\n",
       "NumberOfDependents                       86902\n",
       "NumberOfTimes_PastDue                   119637\n",
       "NumberOfTimesLate_high                  149731\n",
       "NumberOfTimesLate_96                    149995\n",
       "NumberOfTimesLate_98                    149736\n",
       "NumberOfTime30_59Days_none               23982\n",
       "NumberOfTimes90Days_none                  8338\n",
       "NumberOfTime60_89Days_none                7604\n",
       "MonthlyPayment                            5650\n",
       "MonthlyIncome_none                      120269\n",
       "MonthlyIncome_zero                      148366\n",
       "DebtRatio_zero                          145887\n",
       "RUUL_high                               146679\n",
       "RUUL_zero                               139122\n",
       "RUUL_ones                               149983\n",
       "dtype: int64"
      ]
     },
     "execution_count": 46,
     "metadata": {},
     "output_type": "execute_result"
    }
   ],
   "source": [
    "(df == 0).sum(axis=0)"
   ]
  },
  {
   "cell_type": "code",
   "execution_count": 47,
   "metadata": {},
   "outputs": [
    {
     "data": {
      "text/html": [
       "<div>\n",
       "<style scoped>\n",
       "    .dataframe tbody tr th:only-of-type {\n",
       "        vertical-align: middle;\n",
       "    }\n",
       "\n",
       "    .dataframe tbody tr th {\n",
       "        vertical-align: top;\n",
       "    }\n",
       "\n",
       "    .dataframe thead th {\n",
       "        text-align: right;\n",
       "    }\n",
       "</style>\n",
       "<table border=\"1\" class=\"dataframe\">\n",
       "  <thead>\n",
       "    <tr style=\"text-align: right;\">\n",
       "      <th></th>\n",
       "      <th>SeriousDlqin2yrs</th>\n",
       "      <th>RevolvingUtilizationOfUnsecuredLines</th>\n",
       "      <th>age</th>\n",
       "      <th>NumberOfTime30_59DaysPastDueNotWorse</th>\n",
       "      <th>DebtRatio</th>\n",
       "      <th>MonthlyIncome</th>\n",
       "      <th>NumberOfOpenCreditLinesAndLoans</th>\n",
       "      <th>NumberOfTimes90DaysLate</th>\n",
       "      <th>NumberRealEstateLoansOrLines</th>\n",
       "      <th>NumberOfTime60_89DaysPastDueNotWorse</th>\n",
       "      <th>NumberOfDependents</th>\n",
       "      <th>NumberOfTimes_PastDue</th>\n",
       "      <th>NumberOfTimesLate_high</th>\n",
       "      <th>NumberOfTimesLate_96</th>\n",
       "      <th>NumberOfTimesLate_98</th>\n",
       "      <th>NumberOfTime30_59Days_none</th>\n",
       "      <th>NumberOfTimes90Days_none</th>\n",
       "      <th>NumberOfTime60_89Days_none</th>\n",
       "      <th>MonthlyPayment</th>\n",
       "      <th>MonthlyIncome_none</th>\n",
       "      <th>MonthlyIncome_zero</th>\n",
       "      <th>DebtRatio_zero</th>\n",
       "      <th>RUUL_high</th>\n",
       "      <th>RUUL_zero</th>\n",
       "      <th>RUUL_ones</th>\n",
       "    </tr>\n",
       "  </thead>\n",
       "  <tbody>\n",
       "    <tr>\n",
       "      <th>65696</th>\n",
       "      <td>0</td>\n",
       "      <td>1.0</td>\n",
       "      <td>0</td>\n",
       "      <td>1</td>\n",
       "      <td>0.436927</td>\n",
       "      <td>6000.0</td>\n",
       "      <td>6</td>\n",
       "      <td>0</td>\n",
       "      <td>2</td>\n",
       "      <td>0</td>\n",
       "      <td>2.0</td>\n",
       "      <td>1</td>\n",
       "      <td>0</td>\n",
       "      <td>0</td>\n",
       "      <td>0</td>\n",
       "      <td>0</td>\n",
       "      <td>1</td>\n",
       "      <td>1</td>\n",
       "      <td>2621.563074</td>\n",
       "      <td>0</td>\n",
       "      <td>0</td>\n",
       "      <td>0</td>\n",
       "      <td>0</td>\n",
       "      <td>0</td>\n",
       "      <td>0</td>\n",
       "    </tr>\n",
       "  </tbody>\n",
       "</table>\n",
       "</div>"
      ],
      "text/plain": [
       "       SeriousDlqin2yrs  RevolvingUtilizationOfUnsecuredLines  age  \\\n",
       "65696                 0                                   1.0    0   \n",
       "\n",
       "       NumberOfTime30_59DaysPastDueNotWorse  DebtRatio  MonthlyIncome  \\\n",
       "65696                                     1   0.436927         6000.0   \n",
       "\n",
       "       NumberOfOpenCreditLinesAndLoans  NumberOfTimes90DaysLate  \\\n",
       "65696                                6                        0   \n",
       "\n",
       "       NumberRealEstateLoansOrLines  NumberOfTime60_89DaysPastDueNotWorse  \\\n",
       "65696                             2                                     0   \n",
       "\n",
       "       NumberOfDependents  NumberOfTimes_PastDue NumberOfTimesLate_high  \\\n",
       "65696                 2.0                      1                      0   \n",
       "\n",
       "      NumberOfTimesLate_96 NumberOfTimesLate_98 NumberOfTime30_59Days_none  \\\n",
       "65696                    0                    0                          0   \n",
       "\n",
       "      NumberOfTimes90Days_none NumberOfTime60_89Days_none  MonthlyPayment  \\\n",
       "65696                        1                          1     2621.563074   \n",
       "\n",
       "      MonthlyIncome_none MonthlyIncome_zero DebtRatio_zero RUUL_high  \\\n",
       "65696                  0                  0              0         0   \n",
       "\n",
       "      RUUL_zero RUUL_ones  \n",
       "65696         0         0  "
      ]
     },
     "execution_count": 47,
     "metadata": {},
     "output_type": "execute_result"
    }
   ],
   "source": [
    "df[df.age==0]"
   ]
  },
  {
   "cell_type": "code",
   "execution_count": 48,
   "metadata": {},
   "outputs": [],
   "source": [
    "# Вряд ли принципиально, на что заменить одно нулевое\n",
    "# значение age при 150000 наблюдений, заменим просто модой\n",
    "rep_age = df.age.mode()\n",
    "df.age[df.age==0] = int(rep_age)"
   ]
  },
  {
   "cell_type": "code",
   "execution_count": 49,
   "metadata": {},
   "outputs": [
    {
     "data": {
      "text/plain": [
       "0    0.0\n",
       "dtype: float64"
      ]
     },
     "execution_count": 49,
     "metadata": {},
     "output_type": "execute_result"
    },
    {
     "data": {
      "text/plain": [
       "0.0"
      ]
     },
     "execution_count": 49,
     "metadata": {},
     "output_type": "execute_result"
    }
   ],
   "source": [
    "df.NumberOfDependents.mode()\n",
    "df.NumberOfDependents.median()"
   ]
  },
  {
   "cell_type": "code",
   "execution_count": 50,
   "metadata": {},
   "outputs": [],
   "source": [
    "df['NumberOfDependents_none'] = np.where(\n",
    "    df.NumberOfDependents.isna(), 1, 0).astype('object')"
   ]
  },
  {
   "cell_type": "code",
   "execution_count": 51,
   "metadata": {},
   "outputs": [],
   "source": [
    "# Заменяем пропущенные значения NumberOfDependents \n",
    "# на 0 (и мода, и медиана)\n",
    "df.NumberOfDependents.fillna(0, inplace=True)"
   ]
  },
  {
   "cell_type": "code",
   "execution_count": 52,
   "metadata": {},
   "outputs": [
    {
     "data": {
      "text/plain": [
       "13346"
      ]
     },
     "execution_count": 52,
     "metadata": {},
     "output_type": "execute_result"
    }
   ],
   "source": [
    "gc.collect()"
   ]
  },
  {
   "cell_type": "markdown",
   "metadata": {},
   "source": [
    "**О чем свидетельствуют пропуски в данных, чем их лучше заменить? Осуществите необходимую замену.**"
   ]
  },
  {
   "cell_type": "markdown",
   "metadata": {},
   "source": [
    "Для заполнения пропущенных значений `MonthlyIncome` применим `RandomForestRegressor`."
   ]
  },
  {
   "cell_type": "markdown",
   "metadata": {},
   "source": [
    "Перед заполнением разделяем датасет на обучающую и валидационную выборки."
   ]
  },
  {
   "cell_type": "code",
   "execution_count": 53,
   "metadata": {},
   "outputs": [],
   "source": [
    "split = StratifiedShuffleSplit(n_splits=1, test_size=0.3, random_state=42)\n",
    "for train_index, valid_index in split.split(df, df.SeriousDlqin2yrs):\n",
    "    X_train = df.iloc[train_index]    \n",
    "    X_valid = df.iloc[valid_index]    "
   ]
  },
  {
   "cell_type": "code",
   "execution_count": 54,
   "metadata": {},
   "outputs": [],
   "source": [
    "X_tr = X_train.drop('SeriousDlqin2yrs', axis=1)\n",
    "y_tr = X_train.SeriousDlqin2yrs\n",
    "\n",
    "X_val = X_valid.drop('SeriousDlqin2yrs', axis=1)\n",
    "y_val = X_valid.SeriousDlqin2yrs"
   ]
  },
  {
   "cell_type": "code",
   "execution_count": 55,
   "metadata": {},
   "outputs": [
    {
     "data": {
      "text/plain": [
       "0    93.31619\n",
       "1     6.68381\n",
       "Name: SeriousDlqin2yrs, dtype: float64"
      ]
     },
     "execution_count": 55,
     "metadata": {},
     "output_type": "execute_result"
    },
    {
     "data": {
      "text/plain": [
       "0    93.315556\n",
       "1     6.684444\n",
       "Name: SeriousDlqin2yrs, dtype: float64"
      ]
     },
     "execution_count": 55,
     "metadata": {},
     "output_type": "execute_result"
    }
   ],
   "source": [
    "# Проверка качества разбиения\n",
    "y_tr.value_counts(normalize=True) * 100\n",
    "y_val.value_counts(normalize=True) * 100"
   ]
  },
  {
   "cell_type": "code",
   "execution_count": 56,
   "metadata": {},
   "outputs": [
    {
     "name": "stdout",
     "output_type": "stream",
     "text": [
      "<class 'pandas.core.frame.DataFrame'>\n",
      "Int64Index: 105000 entries, 138986 to 80531\n",
      "Data columns (total 25 columns):\n",
      " #   Column                                Non-Null Count   Dtype  \n",
      "---  ------                                --------------   -----  \n",
      " 0   RevolvingUtilizationOfUnsecuredLines  105000 non-null  float64\n",
      " 1   age                                   105000 non-null  int64  \n",
      " 2   NumberOfTime30_59DaysPastDueNotWorse  105000 non-null  int64  \n",
      " 3   DebtRatio                             105000 non-null  float64\n",
      " 4   MonthlyIncome                         84277 non-null   float64\n",
      " 5   NumberOfOpenCreditLinesAndLoans       105000 non-null  int64  \n",
      " 6   NumberOfTimes90DaysLate               105000 non-null  int64  \n",
      " 7   NumberRealEstateLoansOrLines          105000 non-null  int64  \n",
      " 8   NumberOfTime60_89DaysPastDueNotWorse  105000 non-null  int64  \n",
      " 9   NumberOfDependents                    105000 non-null  float64\n",
      " 10  NumberOfTimes_PastDue                 105000 non-null  int64  \n",
      " 11  NumberOfTimesLate_high                105000 non-null  object \n",
      " 12  NumberOfTimesLate_96                  105000 non-null  object \n",
      " 13  NumberOfTimesLate_98                  105000 non-null  object \n",
      " 14  NumberOfTime30_59Days_none            105000 non-null  object \n",
      " 15  NumberOfTimes90Days_none              105000 non-null  object \n",
      " 16  NumberOfTime60_89Days_none            105000 non-null  object \n",
      " 17  MonthlyPayment                        105000 non-null  float64\n",
      " 18  MonthlyIncome_none                    105000 non-null  object \n",
      " 19  MonthlyIncome_zero                    105000 non-null  object \n",
      " 20  DebtRatio_zero                        105000 non-null  object \n",
      " 21  RUUL_high                             105000 non-null  object \n",
      " 22  RUUL_zero                             105000 non-null  object \n",
      " 23  RUUL_ones                             105000 non-null  object \n",
      " 24  NumberOfDependents_none               105000 non-null  object \n",
      "dtypes: float64(5), int64(7), object(13)\n",
      "memory usage: 20.8+ MB\n"
     ]
    },
    {
     "data": {
      "text/plain": [
       "(105000, 25)"
      ]
     },
     "execution_count": 56,
     "metadata": {},
     "output_type": "execute_result"
    }
   ],
   "source": [
    "X_tr.info()\n",
    "X_tr.shape"
   ]
  },
  {
   "cell_type": "code",
   "execution_count": 57,
   "metadata": {},
   "outputs": [
    {
     "data": {
      "text/plain": [
       "4"
      ]
     },
     "execution_count": 57,
     "metadata": {},
     "output_type": "execute_result"
    }
   ],
   "source": [
    "list(feature_names).index('MonthlyIncome')"
   ]
  },
  {
   "cell_type": "code",
   "execution_count": 58,
   "metadata": {},
   "outputs": [],
   "source": [
    "choose_cols = list(feature_names)\n",
    "del choose_cols[4]"
   ]
  },
  {
   "cell_type": "code",
   "execution_count": 59,
   "metadata": {},
   "outputs": [],
   "source": [
    "def fill_mi(data):\n",
    "    data_mi = data.dropna()\n",
    "    X_mi = data_mi[choose_cols]\n",
    "    y_mi = data_mi.MonthlyIncome\n",
    "    rf_fill = RandomForestRegressor(n_estimators=200).fit(X_mi, y_mi)\n",
    "    \n",
    "    X_fill_mi = data[data.MonthlyIncome.isna()]\n",
    "    X_fill = rf_fill.predict(X_fill_mi[choose_cols])\n",
    "    data.loc[data.MonthlyIncome.isna(), 'MonthlyIncome'] = X_fill\n",
    "    return data"
   ]
  },
  {
   "cell_type": "code",
   "execution_count": 60,
   "metadata": {},
   "outputs": [
    {
     "name": "stdout",
     "output_type": "stream",
     "text": [
      "Wall time: 56.9 s\n"
     ]
    }
   ],
   "source": [
    "%%time\n",
    "df_train = fill_mi(X_tr)"
   ]
  },
  {
   "cell_type": "code",
   "execution_count": 61,
   "metadata": {},
   "outputs": [
    {
     "name": "stdout",
     "output_type": "stream",
     "text": [
      "Wall time: 21.8 s\n"
     ]
    }
   ],
   "source": [
    "%%time\n",
    "df_valid = fill_mi(X_val)"
   ]
  },
  {
   "cell_type": "code",
   "execution_count": 62,
   "metadata": {},
   "outputs": [
    {
     "data": {
      "text/plain": [
       "0"
      ]
     },
     "execution_count": 62,
     "metadata": {},
     "output_type": "execute_result"
    },
    {
     "data": {
      "text/plain": [
       "0"
      ]
     },
     "execution_count": 62,
     "metadata": {},
     "output_type": "execute_result"
    }
   ],
   "source": [
    "df_train.isna().sum().sum()\n",
    "df_valid.isna().sum().sum()"
   ]
  },
  {
   "cell_type": "code",
   "execution_count": 63,
   "metadata": {},
   "outputs": [],
   "source": [
    "#with open('data/df_train.pkl', 'wb') as file:  \n",
    "#    pickle.dump(df_train, file)\n",
    "#with open('data/df_valid.pkl', 'wb') as file:  \n",
    "#    pickle.dump(df_valid, file)"
   ]
  },
  {
   "cell_type": "code",
   "execution_count": 64,
   "metadata": {},
   "outputs": [],
   "source": [
    "with open('data/df_train.pkl', 'rb') as file:  \n",
    "    df_train = pickle.load(file) \n",
    "with open('data/df_valid.pkl', 'rb') as file:  \n",
    "    df_valid = pickle.load(file)"
   ]
  },
  {
   "cell_type": "code",
   "execution_count": 65,
   "metadata": {},
   "outputs": [
    {
     "data": {
      "text/plain": [
       "RevolvingUtilizationOfUnsecuredLines      7688\n",
       "age                                          0\n",
       "NumberOfTime30_59DaysPastDueNotWorse     88178\n",
       "DebtRatio                                27407\n",
       "MonthlyIncome                             1147\n",
       "NumberOfOpenCreditLinesAndLoans           1321\n",
       "NumberOfTimes90DaysLate                  99103\n",
       "NumberRealEstateLoansOrLines             39193\n",
       "NumberOfTime60_89DaysPastDueNotWorse     99662\n",
       "NumberOfDependents                       63503\n",
       "NumberOfTimes_PastDue                    83730\n",
       "NumberOfTimesLate_high                  104818\n",
       "NumberOfTimesLate_96                    104999\n",
       "NumberOfTimesLate_98                    104819\n",
       "NumberOfTime30_59Days_none               16822\n",
       "NumberOfTimes90Days_none                  5897\n",
       "NumberOfTime60_89Days_none                5338\n",
       "MonthlyPayment                            3986\n",
       "MonthlyIncome_none                       84277\n",
       "MonthlyIncome_zero                      103854\n",
       "DebtRatio_zero                          102092\n",
       "RUUL_high                               102678\n",
       "RUUL_zero                                97312\n",
       "RUUL_ones                               104991\n",
       "NumberOfDependents_none                 102279\n",
       "dtype: int64"
      ]
     },
     "execution_count": 65,
     "metadata": {},
     "output_type": "execute_result"
    },
    {
     "data": {
      "text/plain": [
       "RevolvingUtilizationOfUnsecuredLines     3190\n",
       "age                                         0\n",
       "NumberOfTime30_59DaysPastDueNotWorse    37840\n",
       "DebtRatio                               11843\n",
       "MonthlyIncome                             489\n",
       "NumberOfOpenCreditLinesAndLoans           567\n",
       "NumberOfTimes90DaysLate                 42559\n",
       "NumberRealEstateLoansOrLines            16995\n",
       "NumberOfTime60_89DaysPastDueNotWorse    42734\n",
       "NumberOfDependents                      27323\n",
       "NumberOfTimes_PastDue                   35907\n",
       "NumberOfTimesLate_high                  44913\n",
       "NumberOfTimesLate_96                    44996\n",
       "NumberOfTimesLate_98                    44917\n",
       "NumberOfTime30_59Days_none               7160\n",
       "NumberOfTimes90Days_none                 2441\n",
       "NumberOfTime60_89Days_none               2266\n",
       "MonthlyPayment                           1664\n",
       "MonthlyIncome_none                      35992\n",
       "MonthlyIncome_zero                      44512\n",
       "DebtRatio_zero                          43795\n",
       "RUUL_high                               44001\n",
       "RUUL_zero                               41810\n",
       "RUUL_ones                               44992\n",
       "NumberOfDependents_none                 43797\n",
       "dtype: int64"
      ]
     },
     "execution_count": 65,
     "metadata": {},
     "output_type": "execute_result"
    }
   ],
   "source": [
    "(df_train == 0).sum(axis=0)\n",
    "(df_valid == 0).sum(axis=0)"
   ]
  },
  {
   "cell_type": "code",
   "execution_count": 66,
   "metadata": {},
   "outputs": [
    {
     "data": {
      "text/plain": [
       "(105000, 25)"
      ]
     },
     "execution_count": 66,
     "metadata": {},
     "output_type": "execute_result"
    },
    {
     "data": {
      "text/plain": [
       "(45000, 25)"
      ]
     },
     "execution_count": 66,
     "metadata": {},
     "output_type": "execute_result"
    }
   ],
   "source": [
    "df_train.shape\n",
    "df_valid.shape"
   ]
  },
  {
   "cell_type": "markdown",
   "metadata": {},
   "source": [
    "__Предобработка данных__"
   ]
  },
  {
   "cell_type": "markdown",
   "metadata": {},
   "source": [
    "Оцените распределение признаков. Удалите коррелированные! Выберите способ нормализации. Подготовьте данные для обучения выбранных моделей."
   ]
  },
  {
   "cell_type": "markdown",
   "metadata": {},
   "source": [
    "После удаления коррелированных признаков значения итоговых метрик стали хуже, поэтому переменные были восстановлены и дальше обработка идет без удаления коррелированных. "
   ]
  },
  {
   "cell_type": "code",
   "execution_count": 67,
   "metadata": {},
   "outputs": [],
   "source": [
    "col = df_valid.columns[:10]"
   ]
  },
  {
   "cell_type": "code",
   "execution_count": 68,
   "metadata": {},
   "outputs": [
    {
     "data": {
      "image/png": "[encoded data removed]",
      "text/plain": [
       "<Figure size 1296x432 with 10 Axes>"
      ]
     },
     "metadata": {
      "needs_background": "light"
     },
     "output_type": "display_data"
    }
   ],
   "source": [
    "fig , ax = plt.subplots(2,5,figsize=(18,6))\n",
    "fig.subplots_adjust(hspace=0.8, wspace=0.8)\n",
    "k=0;\n",
    "for i in col:\n",
    "    axes = sns.distplot(df_valid[i], ax=ax[k//5,k%5])\n",
    "    axes.set(xlabel=i)\n",
    "    k += 1\n",
    "pass;"
   ]
  },
  {
   "cell_type": "markdown",
   "metadata": {},
   "source": [
    "Числовые признаки будем масштабировать хорошо зарекомендовавшим себя для таких случаев `QuantileTransformer`."
   ]
  },
  {
   "cell_type": "code",
   "execution_count": 69,
   "metadata": {},
   "outputs": [],
   "source": [
    "cat_columns = [i for i in df_train.columns if \n",
    "               df_train[i].dtype.name=='category' or \n",
    "               df_train[i].dtype.name=='object']\n",
    "num_columns = [i for i in df_train.columns if \n",
    "               df_train[i].dtype.name=='float64' or \n",
    "               df_train[i].dtype.name=='int64']"
   ]
  },
  {
   "cell_type": "code",
   "execution_count": 70,
   "metadata": {},
   "outputs": [],
   "source": [
    "df_train_num = df_train[num_columns]"
   ]
  },
  {
   "cell_type": "code",
   "execution_count": 71,
   "metadata": {},
   "outputs": [
    {
     "data": {
      "text/html": [
       "<style>#sk-container-id-1 {color: black;background-color: white;}#sk-container-id-1 pre{padding: 0;}#sk-container-id-1 div.sk-toggleable {background-color: white;}#sk-container-id-1 label.sk-toggleable__label {cursor: pointer;display: block;width: 100%;margin-bottom: 0;padding: 0.3em;box-sizing: border-box;text-align: center;}#sk-container-id-1 label.sk-toggleable__label-arrow:before {content: \"▸\";float: left;margin-right: 0.25em;color: #696969;}#sk-container-id-1 label.sk-toggleable__label-arrow:hover:before {color: black;}#sk-container-id-1 div.sk-estimator:hover label.sk-toggleable__label-arrow:before {color: black;}#sk-container-id-1 div.sk-toggleable__content {max-height: 0;max-width: 0;overflow: hidden;text-align: left;background-color: #f0f8ff;}#sk-container-id-1 div.sk-toggleable__content pre {margin: 0.2em;color: black;border-radius: 0.25em;background-color: #f0f8ff;}#sk-container-id-1 input.sk-toggleable__control:checked~div.sk-toggleable__content {max-height: 200px;max-width: 100%;overflow: auto;}#sk-container-id-1 input.sk-toggleable__control:checked~label.sk-toggleable__label-arrow:before {content: \"▾\";}#sk-container-id-1 div.sk-estimator input.sk-toggleable__control:checked~label.sk-toggleable__label {background-color: #d4ebff;}#sk-container-id-1 div.sk-label input.sk-toggleable__control:checked~label.sk-toggleable__label {background-color: #d4ebff;}#sk-container-id-1 input.sk-hidden--visually {border: 0;clip: rect(1px 1px 1px 1px);clip: rect(1px, 1px, 1px, 1px);height: 1px;margin: -1px;overflow: hidden;padding: 0;position: absolute;width: 1px;}#sk-container-id-1 div.sk-estimator {font-family: monospace;background-color: #f0f8ff;border: 1px dotted black;border-radius: 0.25em;box-sizing: border-box;margin-bottom: 0.5em;}#sk-container-id-1 div.sk-estimator:hover {background-color: #d4ebff;}#sk-container-id-1 div.sk-parallel-item::after {content: \"\";width: 100%;border-bottom: 1px solid gray;flex-grow: 1;}#sk-container-id-1 div.sk-label:hover label.sk-toggleable__label {background-color: #d4ebff;}#sk-container-id-1 div.sk-serial::before {content: \"\";position: absolute;border-left: 1px solid gray;box-sizing: border-box;top: 0;bottom: 0;left: 50%;z-index: 0;}#sk-container-id-1 div.sk-serial {display: flex;flex-direction: column;align-items: center;background-color: white;padding-right: 0.2em;padding-left: 0.2em;position: relative;}#sk-container-id-1 div.sk-item {position: relative;z-index: 1;}#sk-container-id-1 div.sk-parallel {display: flex;align-items: stretch;justify-content: center;background-color: white;position: relative;}#sk-container-id-1 div.sk-item::before, #sk-container-id-1 div.sk-parallel-item::before {content: \"\";position: absolute;border-left: 1px solid gray;box-sizing: border-box;top: 0;bottom: 0;left: 50%;z-index: -1;}#sk-container-id-1 div.sk-parallel-item {display: flex;flex-direction: column;z-index: 1;position: relative;background-color: white;}#sk-container-id-1 div.sk-parallel-item:first-child::after {align-self: flex-end;width: 50%;}#sk-container-id-1 div.sk-parallel-item:last-child::after {align-self: flex-start;width: 50%;}#sk-container-id-1 div.sk-parallel-item:only-child::after {width: 0;}#sk-container-id-1 div.sk-dashed-wrapped {border: 1px dashed gray;margin: 0 0.4em 0.5em 0.4em;box-sizing: border-box;padding-bottom: 0.4em;background-color: white;}#sk-container-id-1 div.sk-label label {font-family: monospace;font-weight: bold;display: inline-block;line-height: 1.2em;}#sk-container-id-1 div.sk-label-container {text-align: center;}#sk-container-id-1 div.sk-container {/* jupyter's `normalize.less` sets `[hidden] { display: none; }` but bootstrap.min.css set `[hidden] { display: none !important; }` so we also need the `!important` here to be able to override the default hidden behavior on the sphinx rendered scikit-learn.org. See: https://github.com/scikit-learn/scikit-learn/issues/21755 */display: inline-block !important;position: relative;}#sk-container-id-1 div.sk-text-repr-fallback {display: none;}</style><div id=\"sk-container-id-1\" class=\"sk-top-container\"><div class=\"sk-text-repr-fallback\"><pre>QuantileTransformer(output_distribution=&#x27;normal&#x27;)</pre><b>In a Jupyter environment, please rerun this cell to show the HTML representation or trust the notebook. <br />On GitHub, the HTML representation is unable to render, please try loading this page with nbviewer.org.</b></div><div class=\"sk-container\" hidden><div class=\"sk-item\"><div class=\"sk-estimator sk-toggleable\"><input class=\"sk-toggleable__control sk-hidden--visually\" id=\"sk-estimator-id-1\" type=\"checkbox\" checked><label for=\"sk-estimator-id-1\" class=\"sk-toggleable__label sk-toggleable__label-arrow\">QuantileTransformer</label><div class=\"sk-toggleable__content\"><pre>QuantileTransformer(output_distribution=&#x27;normal&#x27;)</pre></div></div></div></div></div>"
      ],
      "text/plain": [
       "QuantileTransformer(output_distribution='normal')"
      ]
     },
     "execution_count": 71,
     "metadata": {},
     "output_type": "execute_result"
    }
   ],
   "source": [
    "qtf = QuantileTransformer(output_distribution='normal')\n",
    "qtf.fit(df_train_num)"
   ]
  },
  {
   "cell_type": "code",
   "execution_count": 72,
   "metadata": {},
   "outputs": [],
   "source": [
    "def preproc(data, trans):\n",
    "    data_cat = pd.get_dummies(data[cat_columns])\n",
    "    data_norm = data[num_columns]\n",
    "    data_norm[num_columns] = trans.transform(data[num_columns])\n",
    "    data_all = pd.concat((data_norm, data_cat), axis=1)\n",
    "    return data_all    "
   ]
  },
  {
   "cell_type": "code",
   "execution_count": 73,
   "metadata": {},
   "outputs": [],
   "source": [
    "X_train_qt = preproc(df_train, qtf)\n",
    "X_valid_qt = preproc(df_valid, qtf)"
   ]
  },
  {
   "cell_type": "code",
   "execution_count": 74,
   "metadata": {},
   "outputs": [
    {
     "data": {
      "text/plain": [
       "(105000, 38)"
      ]
     },
     "execution_count": 74,
     "metadata": {},
     "output_type": "execute_result"
    },
    {
     "data": {
      "text/html": [
       "<div>\n",
       "<style scoped>\n",
       "    .dataframe tbody tr th:only-of-type {\n",
       "        vertical-align: middle;\n",
       "    }\n",
       "\n",
       "    .dataframe tbody tr th {\n",
       "        vertical-align: top;\n",
       "    }\n",
       "\n",
       "    .dataframe thead th {\n",
       "        text-align: right;\n",
       "    }\n",
       "</style>\n",
       "<table border=\"1\" class=\"dataframe\">\n",
       "  <thead>\n",
       "    <tr style=\"text-align: right;\">\n",
       "      <th></th>\n",
       "      <th>RevolvingUtilizationOfUnsecuredLines</th>\n",
       "      <th>age</th>\n",
       "      <th>NumberOfTime30_59DaysPastDueNotWorse</th>\n",
       "      <th>DebtRatio</th>\n",
       "      <th>MonthlyIncome</th>\n",
       "      <th>NumberOfOpenCreditLinesAndLoans</th>\n",
       "      <th>NumberOfTimes90DaysLate</th>\n",
       "      <th>NumberRealEstateLoansOrLines</th>\n",
       "      <th>NumberOfTime60_89DaysPastDueNotWorse</th>\n",
       "      <th>NumberOfDependents</th>\n",
       "      <th>NumberOfTimes_PastDue</th>\n",
       "      <th>MonthlyPayment</th>\n",
       "      <th>NumberOfTimesLate_high_0</th>\n",
       "      <th>NumberOfTimesLate_high_1</th>\n",
       "      <th>NumberOfTimesLate_96_0</th>\n",
       "      <th>NumberOfTimesLate_96_1</th>\n",
       "      <th>NumberOfTimesLate_98_0</th>\n",
       "      <th>NumberOfTimesLate_98_1</th>\n",
       "      <th>NumberOfTime30_59Days_none_0</th>\n",
       "      <th>NumberOfTime30_59Days_none_1</th>\n",
       "      <th>NumberOfTimes90Days_none_0</th>\n",
       "      <th>NumberOfTimes90Days_none_1</th>\n",
       "      <th>NumberOfTime60_89Days_none_0</th>\n",
       "      <th>NumberOfTime60_89Days_none_1</th>\n",
       "      <th>MonthlyIncome_none_0</th>\n",
       "      <th>MonthlyIncome_none_1</th>\n",
       "      <th>MonthlyIncome_zero_0</th>\n",
       "      <th>MonthlyIncome_zero_1</th>\n",
       "      <th>DebtRatio_zero_0</th>\n",
       "      <th>DebtRatio_zero_1</th>\n",
       "      <th>RUUL_high_0</th>\n",
       "      <th>RUUL_high_1</th>\n",
       "      <th>RUUL_zero_0</th>\n",
       "      <th>RUUL_zero_1</th>\n",
       "      <th>RUUL_ones_0</th>\n",
       "      <th>RUUL_ones_1</th>\n",
       "      <th>NumberOfDependents_none_0</th>\n",
       "      <th>NumberOfDependents_none_1</th>\n",
       "    </tr>\n",
       "  </thead>\n",
       "  <tbody>\n",
       "    <tr>\n",
       "      <th>138986</th>\n",
       "      <td>-5.199338</td>\n",
       "      <td>-0.176553</td>\n",
       "      <td>-5.199338</td>\n",
       "      <td>-0.187754</td>\n",
       "      <td>0.184203</td>\n",
       "      <td>-0.625670</td>\n",
       "      <td>-5.199338</td>\n",
       "      <td>-5.199338</td>\n",
       "      <td>-5.199338</td>\n",
       "      <td>-5.199338</td>\n",
       "      <td>-5.199338</td>\n",
       "      <td>-0.554657</td>\n",
       "      <td>1</td>\n",
       "      <td>0</td>\n",
       "      <td>1</td>\n",
       "      <td>0</td>\n",
       "      <td>1</td>\n",
       "      <td>0</td>\n",
       "      <td>0</td>\n",
       "      <td>1</td>\n",
       "      <td>0</td>\n",
       "      <td>1</td>\n",
       "      <td>0</td>\n",
       "      <td>1</td>\n",
       "      <td>1</td>\n",
       "      <td>0</td>\n",
       "      <td>1</td>\n",
       "      <td>0</td>\n",
       "      <td>1</td>\n",
       "      <td>0</td>\n",
       "      <td>1</td>\n",
       "      <td>0</td>\n",
       "      <td>0</td>\n",
       "      <td>1</td>\n",
       "      <td>1</td>\n",
       "      <td>0</td>\n",
       "      <td>1</td>\n",
       "      <td>0</td>\n",
       "    </tr>\n",
       "    <tr>\n",
       "      <th>63965</th>\n",
       "      <td>-0.632357</td>\n",
       "      <td>-0.965420</td>\n",
       "      <td>-5.199338</td>\n",
       "      <td>0.817992</td>\n",
       "      <td>-0.520661</td>\n",
       "      <td>-0.899534</td>\n",
       "      <td>-5.199338</td>\n",
       "      <td>0.121995</td>\n",
       "      <td>-5.199338</td>\n",
       "      <td>0.504922</td>\n",
       "      <td>-5.199338</td>\n",
       "      <td>-0.210585</td>\n",
       "      <td>1</td>\n",
       "      <td>0</td>\n",
       "      <td>1</td>\n",
       "      <td>0</td>\n",
       "      <td>1</td>\n",
       "      <td>0</td>\n",
       "      <td>0</td>\n",
       "      <td>1</td>\n",
       "      <td>0</td>\n",
       "      <td>1</td>\n",
       "      <td>0</td>\n",
       "      <td>1</td>\n",
       "      <td>1</td>\n",
       "      <td>0</td>\n",
       "      <td>1</td>\n",
       "      <td>0</td>\n",
       "      <td>1</td>\n",
       "      <td>0</td>\n",
       "      <td>1</td>\n",
       "      <td>0</td>\n",
       "      <td>1</td>\n",
       "      <td>0</td>\n",
       "      <td>1</td>\n",
       "      <td>0</td>\n",
       "      <td>1</td>\n",
       "      <td>0</td>\n",
       "    </tr>\n",
       "    <tr>\n",
       "      <th>46078</th>\n",
       "      <td>-1.096386</td>\n",
       "      <td>-0.832006</td>\n",
       "      <td>-5.199338</td>\n",
       "      <td>1.613818</td>\n",
       "      <td>-0.346817</td>\n",
       "      <td>0.641002</td>\n",
       "      <td>-5.199338</td>\n",
       "      <td>0.121995</td>\n",
       "      <td>-5.199338</td>\n",
       "      <td>-5.199338</td>\n",
       "      <td>-5.199338</td>\n",
       "      <td>0.418345</td>\n",
       "      <td>1</td>\n",
       "      <td>0</td>\n",
       "      <td>1</td>\n",
       "      <td>0</td>\n",
       "      <td>1</td>\n",
       "      <td>0</td>\n",
       "      <td>0</td>\n",
       "      <td>1</td>\n",
       "      <td>0</td>\n",
       "      <td>1</td>\n",
       "      <td>0</td>\n",
       "      <td>1</td>\n",
       "      <td>1</td>\n",
       "      <td>0</td>\n",
       "      <td>1</td>\n",
       "      <td>0</td>\n",
       "      <td>1</td>\n",
       "      <td>0</td>\n",
       "      <td>1</td>\n",
       "      <td>0</td>\n",
       "      <td>1</td>\n",
       "      <td>0</td>\n",
       "      <td>1</td>\n",
       "      <td>0</td>\n",
       "      <td>1</td>\n",
       "      <td>0</td>\n",
       "    </tr>\n",
       "    <tr>\n",
       "      <th>83031</th>\n",
       "      <td>0.692020</td>\n",
       "      <td>0.312376</td>\n",
       "      <td>-5.199338</td>\n",
       "      <td>0.456579</td>\n",
       "      <td>1.820042</td>\n",
       "      <td>1.116369</td>\n",
       "      <td>-5.199338</td>\n",
       "      <td>2.119668</td>\n",
       "      <td>-5.199338</td>\n",
       "      <td>-5.199338</td>\n",
       "      <td>-5.199338</td>\n",
       "      <td>1.465504</td>\n",
       "      <td>1</td>\n",
       "      <td>0</td>\n",
       "      <td>1</td>\n",
       "      <td>0</td>\n",
       "      <td>1</td>\n",
       "      <td>0</td>\n",
       "      <td>0</td>\n",
       "      <td>1</td>\n",
       "      <td>0</td>\n",
       "      <td>1</td>\n",
       "      <td>0</td>\n",
       "      <td>1</td>\n",
       "      <td>1</td>\n",
       "      <td>0</td>\n",
       "      <td>1</td>\n",
       "      <td>0</td>\n",
       "      <td>1</td>\n",
       "      <td>0</td>\n",
       "      <td>1</td>\n",
       "      <td>0</td>\n",
       "      <td>1</td>\n",
       "      <td>0</td>\n",
       "      <td>1</td>\n",
       "      <td>0</td>\n",
       "      <td>1</td>\n",
       "      <td>0</td>\n",
       "    </tr>\n",
       "    <tr>\n",
       "      <th>11185</th>\n",
       "      <td>0.750159</td>\n",
       "      <td>-1.102440</td>\n",
       "      <td>-5.199338</td>\n",
       "      <td>1.180185</td>\n",
       "      <td>0.493553</td>\n",
       "      <td>0.276998</td>\n",
       "      <td>-5.199338</td>\n",
       "      <td>1.689670</td>\n",
       "      <td>-5.199338</td>\n",
       "      <td>0.504922</td>\n",
       "      <td>-5.199338</td>\n",
       "      <td>0.982349</td>\n",
       "      <td>1</td>\n",
       "      <td>0</td>\n",
       "      <td>1</td>\n",
       "      <td>0</td>\n",
       "      <td>1</td>\n",
       "      <td>0</td>\n",
       "      <td>0</td>\n",
       "      <td>1</td>\n",
       "      <td>0</td>\n",
       "      <td>1</td>\n",
       "      <td>0</td>\n",
       "      <td>1</td>\n",
       "      <td>1</td>\n",
       "      <td>0</td>\n",
       "      <td>1</td>\n",
       "      <td>0</td>\n",
       "      <td>1</td>\n",
       "      <td>0</td>\n",
       "      <td>1</td>\n",
       "      <td>0</td>\n",
       "      <td>1</td>\n",
       "      <td>0</td>\n",
       "      <td>1</td>\n",
       "      <td>0</td>\n",
       "      <td>1</td>\n",
       "      <td>0</td>\n",
       "    </tr>\n",
       "  </tbody>\n",
       "</table>\n",
       "</div>"
      ],
      "text/plain": [
       "        RevolvingUtilizationOfUnsecuredLines       age  \\\n",
       "138986                             -5.199338 -0.176553   \n",
       "63965                              -0.632357 -0.965420   \n",
       "46078                              -1.096386 -0.832006   \n",
       "83031                               0.692020  0.312376   \n",
       "11185                               0.750159 -1.102440   \n",
       "\n",
       "        NumberOfTime30_59DaysPastDueNotWorse  DebtRatio  MonthlyIncome  \\\n",
       "138986                             -5.199338  -0.187754       0.184203   \n",
       "63965                              -5.199338   0.817992      -0.520661   \n",
       "46078                              -5.199338   1.613818      -0.346817   \n",
       "83031                              -5.199338   0.456579       1.820042   \n",
       "11185                              -5.199338   1.180185       0.493553   \n",
       "\n",
       "        NumberOfOpenCreditLinesAndLoans  NumberOfTimes90DaysLate  \\\n",
       "138986                        -0.625670                -5.199338   \n",
       "63965                         -0.899534                -5.199338   \n",
       "46078                          0.641002                -5.199338   \n",
       "83031                          1.116369                -5.199338   \n",
       "11185                          0.276998                -5.199338   \n",
       "\n",
       "        NumberRealEstateLoansOrLines  NumberOfTime60_89DaysPastDueNotWorse  \\\n",
       "138986                     -5.199338                             -5.199338   \n",
       "63965                       0.121995                             -5.199338   \n",
       "46078                       0.121995                             -5.199338   \n",
       "83031                       2.119668                             -5.199338   \n",
       "11185                       1.689670                             -5.199338   \n",
       "\n",
       "        NumberOfDependents  NumberOfTimes_PastDue  MonthlyPayment  \\\n",
       "138986           -5.199338              -5.199338       -0.554657   \n",
       "63965             0.504922              -5.199338       -0.210585   \n",
       "46078            -5.199338              -5.199338        0.418345   \n",
       "83031            -5.199338              -5.199338        1.465504   \n",
       "11185             0.504922              -5.199338        0.982349   \n",
       "\n",
       "        NumberOfTimesLate_high_0  NumberOfTimesLate_high_1  \\\n",
       "138986                         1                         0   \n",
       "63965                          1                         0   \n",
       "46078                          1                         0   \n",
       "83031                          1                         0   \n",
       "11185                          1                         0   \n",
       "\n",
       "        NumberOfTimesLate_96_0  NumberOfTimesLate_96_1  \\\n",
       "138986                       1                       0   \n",
       "63965                        1                       0   \n",
       "46078                        1                       0   \n",
       "83031                        1                       0   \n",
       "11185                        1                       0   \n",
       "\n",
       "        NumberOfTimesLate_98_0  NumberOfTimesLate_98_1  \\\n",
       "138986                       1                       0   \n",
       "63965                        1                       0   \n",
       "46078                        1                       0   \n",
       "83031                        1                       0   \n",
       "11185                        1                       0   \n",
       "\n",
       "        NumberOfTime30_59Days_none_0  NumberOfTime30_59Days_none_1  \\\n",
       "138986                             0                             1   \n",
       "63965                              0                             1   \n",
       "46078                              0                             1   \n",
       "83031                              0                             1   \n",
       "11185                              0                             1   \n",
       "\n",
       "        NumberOfTimes90Days_none_0  NumberOfTimes90Days_none_1  \\\n",
       "138986                           0                           1   \n",
       "63965                            0                           1   \n",
       "46078                            0                           1   \n",
       "83031                            0                           1   \n",
       "11185                            0                           1   \n",
       "\n",
       "        NumberOfTime60_89Days_none_0  NumberOfTime60_89Days_none_1  \\\n",
       "138986                             0                             1   \n",
       "63965                              0                             1   \n",
       "46078                              0                             1   \n",
       "83031                              0                             1   \n",
       "11185                              0                             1   \n",
       "\n",
       "        MonthlyIncome_none_0  MonthlyIncome_none_1  MonthlyIncome_zero_0  \\\n",
       "138986                     1                     0                     1   \n",
       "63965                      1                     0                     1   \n",
       "46078                      1                     0                     1   \n",
       "83031                      1                     0                     1   \n",
       "11185                      1                     0                     1   \n",
       "\n",
       "        MonthlyIncome_zero_1  DebtRatio_zero_0  DebtRatio_zero_1  RUUL_high_0  \\\n",
       "138986                     0                 1                 0            1   \n",
       "63965                      0                 1                 0            1   \n",
       "46078                      0                 1                 0            1   \n",
       "83031                      0                 1                 0            1   \n",
       "11185                      0                 1                 0            1   \n",
       "\n",
       "        RUUL_high_1  RUUL_zero_0  RUUL_zero_1  RUUL_ones_0  RUUL_ones_1  \\\n",
       "138986            0            0            1            1            0   \n",
       "63965             0            1            0            1            0   \n",
       "46078             0            1            0            1            0   \n",
       "83031             0            1            0            1            0   \n",
       "11185             0            1            0            1            0   \n",
       "\n",
       "        NumberOfDependents_none_0  NumberOfDependents_none_1  \n",
       "138986                          1                          0  \n",
       "63965                           1                          0  \n",
       "46078                           1                          0  \n",
       "83031                           1                          0  \n",
       "11185                           1                          0  "
      ]
     },
     "execution_count": 74,
     "metadata": {},
     "output_type": "execute_result"
    }
   ],
   "source": [
    "X_train_qt.shape\n",
    "X_train_qt.head()"
   ]
  },
  {
   "cell_type": "markdown",
   "metadata": {},
   "source": [
    "__Выбор метрики__"
   ]
  },
  {
   "cell_type": "markdown",
   "metadata": {},
   "source": [
    "В качестве метрики используется ROC-AUC score, согласно соренованию. Данная метрика подходит для данной задачи, так как мы хотим определять тех заемщиков, которые сильно задержат выплату кредита, но при этом выдавать кредиты хорошим клиентам. Также эта метрика хорошо работает со случаем несбалансированных классов (как в нашем случае).\n",
    "Выберите способ перекрестной проверки! Какой из них подходит наилучшим образом..."
   ]
  },
  {
   "cell_type": "code",
   "execution_count": 75,
   "metadata": {},
   "outputs": [],
   "source": [
    "skf = StratifiedKFold(n_splits=10, shuffle=True, random_state=42)"
   ]
  },
  {
   "cell_type": "markdown",
   "metadata": {},
   "source": [
    "**Обучите 2 классификатора логистическую регрессию и случайный лес.\n",
    "Оцените среднюю правильность выбранной модели.**"
   ]
  },
  {
   "cell_type": "markdown",
   "metadata": {},
   "source": [
    "**LogisticRegression**"
   ]
  },
  {
   "cell_type": "code",
   "execution_count": 76,
   "metadata": {},
   "outputs": [
    {
     "name": "stdout",
     "output_type": "stream",
     "text": [
      "Wall time: 6.52 s\n"
     ]
    },
    {
     "data": {
      "text/html": [
       "<style>#sk-container-id-2 {color: black;background-color: white;}#sk-container-id-2 pre{padding: 0;}#sk-container-id-2 div.sk-toggleable {background-color: white;}#sk-container-id-2 label.sk-toggleable__label {cursor: pointer;display: block;width: 100%;margin-bottom: 0;padding: 0.3em;box-sizing: border-box;text-align: center;}#sk-container-id-2 label.sk-toggleable__label-arrow:before {content: \"▸\";float: left;margin-right: 0.25em;color: #696969;}#sk-container-id-2 label.sk-toggleable__label-arrow:hover:before {color: black;}#sk-container-id-2 div.sk-estimator:hover label.sk-toggleable__label-arrow:before {color: black;}#sk-container-id-2 div.sk-toggleable__content {max-height: 0;max-width: 0;overflow: hidden;text-align: left;background-color: #f0f8ff;}#sk-container-id-2 div.sk-toggleable__content pre {margin: 0.2em;color: black;border-radius: 0.25em;background-color: #f0f8ff;}#sk-container-id-2 input.sk-toggleable__control:checked~div.sk-toggleable__content {max-height: 200px;max-width: 100%;overflow: auto;}#sk-container-id-2 input.sk-toggleable__control:checked~label.sk-toggleable__label-arrow:before {content: \"▾\";}#sk-container-id-2 div.sk-estimator input.sk-toggleable__control:checked~label.sk-toggleable__label {background-color: #d4ebff;}#sk-container-id-2 div.sk-label input.sk-toggleable__control:checked~label.sk-toggleable__label {background-color: #d4ebff;}#sk-container-id-2 input.sk-hidden--visually {border: 0;clip: rect(1px 1px 1px 1px);clip: rect(1px, 1px, 1px, 1px);height: 1px;margin: -1px;overflow: hidden;padding: 0;position: absolute;width: 1px;}#sk-container-id-2 div.sk-estimator {font-family: monospace;background-color: #f0f8ff;border: 1px dotted black;border-radius: 0.25em;box-sizing: border-box;margin-bottom: 0.5em;}#sk-container-id-2 div.sk-estimator:hover {background-color: #d4ebff;}#sk-container-id-2 div.sk-parallel-item::after {content: \"\";width: 100%;border-bottom: 1px solid gray;flex-grow: 1;}#sk-container-id-2 div.sk-label:hover label.sk-toggleable__label {background-color: #d4ebff;}#sk-container-id-2 div.sk-serial::before {content: \"\";position: absolute;border-left: 1px solid gray;box-sizing: border-box;top: 0;bottom: 0;left: 50%;z-index: 0;}#sk-container-id-2 div.sk-serial {display: flex;flex-direction: column;align-items: center;background-color: white;padding-right: 0.2em;padding-left: 0.2em;position: relative;}#sk-container-id-2 div.sk-item {position: relative;z-index: 1;}#sk-container-id-2 div.sk-parallel {display: flex;align-items: stretch;justify-content: center;background-color: white;position: relative;}#sk-container-id-2 div.sk-item::before, #sk-container-id-2 div.sk-parallel-item::before {content: \"\";position: absolute;border-left: 1px solid gray;box-sizing: border-box;top: 0;bottom: 0;left: 50%;z-index: -1;}#sk-container-id-2 div.sk-parallel-item {display: flex;flex-direction: column;z-index: 1;position: relative;background-color: white;}#sk-container-id-2 div.sk-parallel-item:first-child::after {align-self: flex-end;width: 50%;}#sk-container-id-2 div.sk-parallel-item:last-child::after {align-self: flex-start;width: 50%;}#sk-container-id-2 div.sk-parallel-item:only-child::after {width: 0;}#sk-container-id-2 div.sk-dashed-wrapped {border: 1px dashed gray;margin: 0 0.4em 0.5em 0.4em;box-sizing: border-box;padding-bottom: 0.4em;background-color: white;}#sk-container-id-2 div.sk-label label {font-family: monospace;font-weight: bold;display: inline-block;line-height: 1.2em;}#sk-container-id-2 div.sk-label-container {text-align: center;}#sk-container-id-2 div.sk-container {/* jupyter's `normalize.less` sets `[hidden] { display: none; }` but bootstrap.min.css set `[hidden] { display: none !important; }` so we also need the `!important` here to be able to override the default hidden behavior on the sphinx rendered scikit-learn.org. See: https://github.com/scikit-learn/scikit-learn/issues/21755 */display: inline-block !important;position: relative;}#sk-container-id-2 div.sk-text-repr-fallback {display: none;}</style><div id=\"sk-container-id-2\" class=\"sk-top-container\"><div class=\"sk-text-repr-fallback\"><pre>LogisticRegression(class_weight=&#x27;balanced&#x27;, n_jobs=-1)</pre><b>In a Jupyter environment, please rerun this cell to show the HTML representation or trust the notebook. <br />On GitHub, the HTML representation is unable to render, please try loading this page with nbviewer.org.</b></div><div class=\"sk-container\" hidden><div class=\"sk-item\"><div class=\"sk-estimator sk-toggleable\"><input class=\"sk-toggleable__control sk-hidden--visually\" id=\"sk-estimator-id-2\" type=\"checkbox\" checked><label for=\"sk-estimator-id-2\" class=\"sk-toggleable__label sk-toggleable__label-arrow\">LogisticRegression</label><div class=\"sk-toggleable__content\"><pre>LogisticRegression(class_weight=&#x27;balanced&#x27;, n_jobs=-1)</pre></div></div></div></div></div>"
      ],
      "text/plain": [
       "LogisticRegression(class_weight='balanced', n_jobs=-1)"
      ]
     },
     "execution_count": 76,
     "metadata": {},
     "output_type": "execute_result"
    }
   ],
   "source": [
    "%%time\n",
    "logit = LogisticRegression(class_weight='balanced', n_jobs=-1)\n",
    "logit.fit(X_train_qt, y_tr)"
   ]
  },
  {
   "cell_type": "code",
   "execution_count": 77,
   "metadata": {},
   "outputs": [
    {
     "name": "stdout",
     "output_type": "stream",
     "text": [
      "Значения правильности перекрестной проверки: [0.86483045 0.85609838 0.85544887 0.84802636 0.84111721 0.8471134\n",
      " 0.87181959 0.85128397 0.85958004 0.8531647 ]\n",
      "Wall time: 57 s\n"
     ]
    },
    {
     "data": {
      "text/plain": [
       "0.8548482958258182"
      ]
     },
     "execution_count": 77,
     "metadata": {},
     "output_type": "execute_result"
    }
   ],
   "source": [
    "%%time\n",
    "scores_logit = cross_val_score(logit, X_train_qt, y_tr, \n",
    "                               scoring='roc_auc', cv=skf)\n",
    "print(\"Значения правильности перекрестной проверки: {}\".format(scores_logit))\n",
    "scores_logit.mean()"
   ]
  },
  {
   "cell_type": "markdown",
   "metadata": {},
   "source": [
    "**RandomForestClassifier**"
   ]
  },
  {
   "cell_type": "code",
   "execution_count": 78,
   "metadata": {},
   "outputs": [
    {
     "name": "stdout",
     "output_type": "stream",
     "text": [
      "Wall time: 2.83 s\n"
     ]
    },
    {
     "data": {
      "text/html": [
       "<style>#sk-container-id-3 {color: black;background-color: white;}#sk-container-id-3 pre{padding: 0;}#sk-container-id-3 div.sk-toggleable {background-color: white;}#sk-container-id-3 label.sk-toggleable__label {cursor: pointer;display: block;width: 100%;margin-bottom: 0;padding: 0.3em;box-sizing: border-box;text-align: center;}#sk-container-id-3 label.sk-toggleable__label-arrow:before {content: \"▸\";float: left;margin-right: 0.25em;color: #696969;}#sk-container-id-3 label.sk-toggleable__label-arrow:hover:before {color: black;}#sk-container-id-3 div.sk-estimator:hover label.sk-toggleable__label-arrow:before {color: black;}#sk-container-id-3 div.sk-toggleable__content {max-height: 0;max-width: 0;overflow: hidden;text-align: left;background-color: #f0f8ff;}#sk-container-id-3 div.sk-toggleable__content pre {margin: 0.2em;color: black;border-radius: 0.25em;background-color: #f0f8ff;}#sk-container-id-3 input.sk-toggleable__control:checked~div.sk-toggleable__content {max-height: 200px;max-width: 100%;overflow: auto;}#sk-container-id-3 input.sk-toggleable__control:checked~label.sk-toggleable__label-arrow:before {content: \"▾\";}#sk-container-id-3 div.sk-estimator input.sk-toggleable__control:checked~label.sk-toggleable__label {background-color: #d4ebff;}#sk-container-id-3 div.sk-label input.sk-toggleable__control:checked~label.sk-toggleable__label {background-color: #d4ebff;}#sk-container-id-3 input.sk-hidden--visually {border: 0;clip: rect(1px 1px 1px 1px);clip: rect(1px, 1px, 1px, 1px);height: 1px;margin: -1px;overflow: hidden;padding: 0;position: absolute;width: 1px;}#sk-container-id-3 div.sk-estimator {font-family: monospace;background-color: #f0f8ff;border: 1px dotted black;border-radius: 0.25em;box-sizing: border-box;margin-bottom: 0.5em;}#sk-container-id-3 div.sk-estimator:hover {background-color: #d4ebff;}#sk-container-id-3 div.sk-parallel-item::after {content: \"\";width: 100%;border-bottom: 1px solid gray;flex-grow: 1;}#sk-container-id-3 div.sk-label:hover label.sk-toggleable__label {background-color: #d4ebff;}#sk-container-id-3 div.sk-serial::before {content: \"\";position: absolute;border-left: 1px solid gray;box-sizing: border-box;top: 0;bottom: 0;left: 50%;z-index: 0;}#sk-container-id-3 div.sk-serial {display: flex;flex-direction: column;align-items: center;background-color: white;padding-right: 0.2em;padding-left: 0.2em;position: relative;}#sk-container-id-3 div.sk-item {position: relative;z-index: 1;}#sk-container-id-3 div.sk-parallel {display: flex;align-items: stretch;justify-content: center;background-color: white;position: relative;}#sk-container-id-3 div.sk-item::before, #sk-container-id-3 div.sk-parallel-item::before {content: \"\";position: absolute;border-left: 1px solid gray;box-sizing: border-box;top: 0;bottom: 0;left: 50%;z-index: -1;}#sk-container-id-3 div.sk-parallel-item {display: flex;flex-direction: column;z-index: 1;position: relative;background-color: white;}#sk-container-id-3 div.sk-parallel-item:first-child::after {align-self: flex-end;width: 50%;}#sk-container-id-3 div.sk-parallel-item:last-child::after {align-self: flex-start;width: 50%;}#sk-container-id-3 div.sk-parallel-item:only-child::after {width: 0;}#sk-container-id-3 div.sk-dashed-wrapped {border: 1px dashed gray;margin: 0 0.4em 0.5em 0.4em;box-sizing: border-box;padding-bottom: 0.4em;background-color: white;}#sk-container-id-3 div.sk-label label {font-family: monospace;font-weight: bold;display: inline-block;line-height: 1.2em;}#sk-container-id-3 div.sk-label-container {text-align: center;}#sk-container-id-3 div.sk-container {/* jupyter's `normalize.less` sets `[hidden] { display: none; }` but bootstrap.min.css set `[hidden] { display: none !important; }` so we also need the `!important` here to be able to override the default hidden behavior on the sphinx rendered scikit-learn.org. See: https://github.com/scikit-learn/scikit-learn/issues/21755 */display: inline-block !important;position: relative;}#sk-container-id-3 div.sk-text-repr-fallback {display: none;}</style><div id=\"sk-container-id-3\" class=\"sk-top-container\"><div class=\"sk-text-repr-fallback\"><pre>RandomForestClassifier(class_weight=&#x27;balanced_subsample&#x27;, n_jobs=-1,\n",
       "                       random_state=2020)</pre><b>In a Jupyter environment, please rerun this cell to show the HTML representation or trust the notebook. <br />On GitHub, the HTML representation is unable to render, please try loading this page with nbviewer.org.</b></div><div class=\"sk-container\" hidden><div class=\"sk-item\"><div class=\"sk-estimator sk-toggleable\"><input class=\"sk-toggleable__control sk-hidden--visually\" id=\"sk-estimator-id-3\" type=\"checkbox\" checked><label for=\"sk-estimator-id-3\" class=\"sk-toggleable__label sk-toggleable__label-arrow\">RandomForestClassifier</label><div class=\"sk-toggleable__content\"><pre>RandomForestClassifier(class_weight=&#x27;balanced_subsample&#x27;, n_jobs=-1,\n",
       "                       random_state=2020)</pre></div></div></div></div></div>"
      ],
      "text/plain": [
       "RandomForestClassifier(class_weight='balanced_subsample', n_jobs=-1,\n",
       "                       random_state=2020)"
      ]
     },
     "execution_count": 78,
     "metadata": {},
     "output_type": "execute_result"
    }
   ],
   "source": [
    "%%time\n",
    "rf = RandomForestClassifier(class_weight='balanced_subsample', \n",
    "                            n_jobs=-1, random_state=2020)\n",
    "rf.fit(X_train_qt, y_tr)"
   ]
  },
  {
   "cell_type": "code",
   "execution_count": 79,
   "metadata": {},
   "outputs": [
    {
     "name": "stdout",
     "output_type": "stream",
     "text": [
      "Значения правильности перекрестной проверки: [0.84854477 0.83904876 0.84411937 0.82818431 0.81654427 0.8325899\n",
      " 0.85488862 0.83695361 0.84542364 0.83257696]\n",
      "Wall time: 25.3 s\n"
     ]
    },
    {
     "data": {
      "text/plain": [
       "0.8378874204559388"
      ]
     },
     "execution_count": 79,
     "metadata": {},
     "output_type": "execute_result"
    }
   ],
   "source": [
    "%%time\n",
    "scores_rf = cross_val_score(rf, X_train_qt, y_tr, \n",
    "                            scoring='roc_auc', cv=skf)\n",
    "print(\"Значения правильности перекрестной проверки: {}\".format(scores_rf))\n",
    "scores_rf.mean()"
   ]
  },
  {
   "cell_type": "code",
   "execution_count": 80,
   "metadata": {},
   "outputs": [
    {
     "data": {
      "text/plain": [
       "2884"
      ]
     },
     "execution_count": 80,
     "metadata": {},
     "output_type": "execute_result"
    }
   ],
   "source": [
    "gc.collect()"
   ]
  },
  {
   "cell_type": "markdown",
   "metadata": {},
   "source": [
    "__Кросс-валидация и подбор параметров__\n",
    "\n",
    "Произведите подбор параметров. Для логистической регрессии подберем коэффициент регуляризции, для случайного леса -максимальную глубину и максимальное кол-во признаков. Для отслеживания процесса обучения используйте прогрессбар, а также %%time"
   ]
  },
  {
   "cell_type": "code",
   "execution_count": 595,
   "metadata": {},
   "outputs": [],
   "source": [
    "skf5 = StratifiedKFold(n_splits=5, shuffle=True, random_state=42)"
   ]
  },
  {
   "cell_type": "code",
   "execution_count": 596,
   "metadata": {},
   "outputs": [],
   "source": [
    "ftwo_scorer = make_scorer(roc_auc_score, needs_proba=True)"
   ]
  },
  {
   "cell_type": "code",
   "execution_count": 597,
   "metadata": {},
   "outputs": [
    {
     "name": "stdout",
     "output_type": "stream",
     "text": [
      "0.8576655741082755                                                             \n",
      "{'max_depth': 11, 'max_features': 'sqrt', 'n_estimators': 864}                 \n",
      "0.8596222243809789                                                             \n",
      "{'max_depth': 5, 'max_features': 38, 'n_estimators': 477}                      \n",
      "0.8525681340874351                                                             \n",
      "{'max_depth': 11, 'max_features': 38, 'n_estimators': 846}                     \n",
      "0.8520089344308619                                                             \n",
      "{'max_depth': 13, 'max_features': 'sqrt', 'n_estimators': 672}                 \n",
      "0.8584179971237533                                                             \n",
      "{'max_depth': 7, 'max_features': 'log2', 'n_estimators': 579}                  \n",
      "0.8369136655295698                                                             \n",
      "{'max_depth': 19, 'max_features': 'sqrt', 'n_estimators': 903}                 \n",
      "0.8593394259584384                                                             \n",
      "{'max_depth': 8, 'max_features': 38, 'n_estimators': 1200}                     \n",
      "0.8415645547400397                                                             \n",
      "{'max_depth': 16, 'max_features': 38, 'n_estimators': 1068}                    \n",
      "0.8593893340286444                                                             \n",
      "{'max_depth': 8, 'max_features': 38, 'n_estimators': 1044}                     \n",
      "0.8498311875257964                                                             \n",
      "{'max_depth': 12, 'max_features': 38, 'n_estimators': 798}                     \n",
      "0.8603936728849858                                                             \n",
      "{'max_depth': 7, 'max_features': 38, 'n_estimators': 1080}                     \n",
      "0.8358033639853948                                                             \n",
      "{'max_depth': 19, 'max_features': 'log2', 'n_estimators': 720}                 \n",
      "0.8576721244948089                                                             \n",
      "{'max_depth': 11, 'max_features': 'sqrt', 'n_estimators': 585}                 \n",
      "0.8428734067934659                                                             \n",
      "{'max_depth': 15, 'max_features': 38, 'n_estimators': 687}                     \n",
      "0.8556777680404017                                                             \n",
      "{'max_depth': 12, 'max_features': 'log2', 'n_estimators': 801}                 \n",
      "0.8418480490191111                                                             \n",
      "{'max_depth': 16, 'max_features': 'log2', 'n_estimators': 594}                 \n",
      "0.8472213764607183                                                             \n",
      "{'max_depth': 13, 'max_features': 38, 'n_estimators': 1005}                    \n",
      "0.850949597245711                                                              \n",
      "{'max_depth': 2, 'max_features': 'sqrt', 'n_estimators': 1113}                 \n",
      "0.8604547623127672                                                             \n",
      "{'max_depth': 6, 'max_features': 38, 'n_estimators': 1104}                     \n",
      "0.8447820598008906                                                             \n",
      "{'max_depth': 15, 'max_features': 'log2', 'n_estimators': 375}                 \n",
      "0.8604556991471423                                                             \n",
      "{'max_depth': 6, 'max_features': 38, 'n_estimators': 1431}                     \n",
      "0.8604525132342765                                                             \n",
      "{'max_depth': 6, 'max_features': 38, 'n_estimators': 1404}                     \n",
      "0.8604545218236813                                                             \n",
      "{'max_depth': 6, 'max_features': 38, 'n_estimators': 1491}                     \n",
      "0.853573048661209                                                              \n",
      "{'max_depth': 3, 'max_features': 38, 'n_estimators': 1341}                     \n",
      "0.8575998460100367                                                             \n",
      "{'max_depth': 9, 'max_features': 38, 'n_estimators': 1221}                     \n",
      "100%|███████| 25/25 [1:00:19<00:00, 144.77s/it, best loss: -0.8604556991471423]\n",
      "best:\n",
      "{'max_depth': 4, 'max_features': 2, 'n_estimators': 1431.0}\n",
      "Wall time: 1h 19s\n"
     ]
    }
   ],
   "source": [
    "%%time\n",
    "def hyperopt_forest_score(params):\n",
    "    clf = RandomForestClassifier(\n",
    "        **params,\n",
    "        random_state=42,\n",
    "        class_weight='balanced_subsample',\n",
    "        n_jobs=-1)\n",
    "    \n",
    "    current_score = cross_val_score(\n",
    "        clf, X_train_qt, y_tr, scoring=ftwo_scorer, cv=skf5).mean()\n",
    "    print(current_score, params)\n",
    "    return -current_score\n",
    "\n",
    "space_forest = {\n",
    "    'max_depth': hp.choice('max_depth', range(2, 20)),\n",
    "    'n_estimators': ho_scope.int(hp.quniform('n_estimators', 300, 1500, 3)),\n",
    "    'max_features': hp.choice('max_features',['sqrt', 'log2', \n",
    "                                       X_train_qt.shape[1]])\n",
    "}\n",
    "\n",
    "best = fmin(\n",
    "    fn=hyperopt_forest_score,\n",
    "    space=space_forest,\n",
    "    algo=tpe.suggest,\n",
    "    max_evals=25)\n",
    "print('best:')\n",
    "print(best)"
   ]
  },
  {
   "cell_type": "markdown",
   "metadata": {},
   "source": [
    "Предыдущие запуски `hyperopt` тоже показывали лучший результат для всего набора признаков, поэтому этот параметр установим сразу, подберем `criterion` и увеличим количество папок."
   ]
  },
  {
   "cell_type": "code",
   "execution_count": 605,
   "metadata": {},
   "outputs": [
    {
     "name": "stdout",
     "output_type": "stream",
     "text": [
      "0.8600749262699555                                                             \n",
      "{'criterion': 'entropy', 'max_depth': 8, 'n_estimators': 1002}                 \n",
      "0.8403582557726036                                                             \n",
      "{'criterion': 'entropy', 'max_depth': 19, 'n_estimators': 537}                 \n",
      "0.8562139621636925                                                             \n",
      "{'criterion': 'entropy', 'max_depth': 10, 'n_estimators': 1458}                \n",
      "0.8599034098847028                                                             \n",
      "{'criterion': 'gini', 'max_depth': 8, 'n_estimators': 999}                     \n",
      "0.8607535270623833                                                             \n",
      "{'criterion': 'gini', 'max_depth': 6, 'n_estimators': 1275}                    \n",
      "0.8597718860797675                                                             \n",
      "{'criterion': 'entropy', 'max_depth': 5, 'n_estimators': 1413}                 \n",
      "0.8607910481605622                                                             \n",
      "{'criterion': 'gini', 'max_depth': 7, 'n_estimators': 993}                     \n",
      "0.8456126039208509                                                             \n",
      "{'criterion': 'gini', 'max_depth': 14, 'n_estimators': 852}                    \n",
      "0.8607561314702965                                                             \n",
      "{'criterion': 'gini', 'max_depth': 6, 'n_estimators': 1014}                    \n",
      "0.8408303104521806                                                             \n",
      "{'criterion': 'gini', 'max_depth': 19, 'n_estimators': 678}                    \n",
      "0.856045803343012                                                              \n",
      "{'criterion': 'entropy', 'max_depth': 10, 'n_estimators': 582}                 \n",
      "0.853599339810386                                                              \n",
      "{'criterion': 'gini', 'max_depth': 11, 'n_estimators': 1152}                   \n",
      "0.8541373215001554                                                             \n",
      "{'criterion': 'entropy', 'max_depth': 3, 'n_estimators': 1386}                 \n",
      "0.857734621235925                                                              \n",
      "{'criterion': 'gini', 'max_depth': 4, 'n_estimators': 1239}                    \n",
      "0.8608394852246807                                                             \n",
      "{'criterion': 'entropy', 'max_depth': 6, 'n_estimators': 915}                  \n",
      "0.8608453844405928                                                             \n",
      "{'criterion': 'entropy', 'max_depth': 6, 'n_estimators': 1164}                 \n",
      "0.8597578496725641                                                             \n",
      "{'criterion': 'entropy', 'max_depth': 5, 'n_estimators': 1149}                 \n",
      "0.8411837052900963                                                             \n",
      "{'criterion': 'gini', 'max_depth': 18, 'n_estimators': 960}                    \n",
      "0.8540747834757623                                                             \n",
      "{'criterion': 'entropy', 'max_depth': 3, 'n_estimators': 1032}                 \n",
      "0.8424806791761232                                                             \n",
      "{'criterion': 'gini', 'max_depth': 16, 'n_estimators': 930}                    \n",
      "0.8439729566170305                                                             \n",
      "{'criterion': 'entropy', 'max_depth': 15, 'n_estimators': 1575}                \n",
      "0.8411872899226971                                                             \n",
      "{'criterion': 'entropy', 'max_depth': 17, 'n_estimators': 786}                 \n",
      "0.8393631875386758                                                             \n",
      "{'criterion': 'entropy', 'max_depth': 2, 'n_estimators': 816}                  \n",
      "0.8481586214340819                                                             \n",
      "{'criterion': 'entropy', 'max_depth': 13, 'n_estimators': 1140}                \n",
      "0.8506601166780156                                                             \n",
      "{'criterion': 'entropy', 'max_depth': 12, 'n_estimators': 687}                 \n",
      "100%|███████| 25/25 [3:38:00<00:00, 523.20s/it, best loss: -0.8608453844405928]\n",
      "best:\n",
      "{'criterion': 1, 'max_depth': 4, 'n_estimators': 1164.0}\n",
      "Wall time: 3h 38min\n"
     ]
    }
   ],
   "source": [
    "%%time\n",
    "def hyperopt_forest_score(params):\n",
    "    clf = RandomForestClassifier(\n",
    "        **params,\n",
    "        random_state=42,\n",
    "        class_weight='balanced_subsample',\n",
    "        max_features=X_train_qt.shape[1],\n",
    "        n_jobs=-1)\n",
    "    \n",
    "    current_score = cross_val_score(\n",
    "        clf, X_train_qt, y_tr, scoring=ftwo_scorer, cv=skf).mean()\n",
    "    \n",
    "    print(current_score, params)\n",
    "    return -current_score\n",
    "\n",
    "space_forest = {\n",
    "    'max_depth': hp.choice('max_depth', range(2, 20)),\n",
    "    'n_estimators': ho_scope.int(hp.quniform('n_estimators', \n",
    "                                             500, 1600, 3)),\n",
    "    'criterion': hp.choice('criterion', ['gini', 'entropy'])\n",
    "}\n",
    "\n",
    "best = fmin(\n",
    "    fn=hyperopt_forest_score,\n",
    "    space=space_forest,\n",
    "    algo=tpe.suggest,\n",
    "    max_evals=25)\n",
    "print('best:')\n",
    "print(best)"
   ]
  },
  {
   "cell_type": "code",
   "execution_count": 602,
   "metadata": {},
   "outputs": [
    {
     "name": "stdout",
     "output_type": "stream",
     "text": [
      "0.8550139560248571                                                             \n",
      "{'C': 0.03628601924008826}                                                     \n",
      "0.854936909622016                                                              \n",
      "{'C': 0.5806468115576792}                                                      \n",
      "0.8548223274255242                                                             \n",
      "{'C': 400.1594703912052}                                                       \n",
      "0.854847476231012                                                              \n",
      "{'C': 504.3382786810999}                                                       \n",
      "0.8550269710018146                                                             \n",
      "{'C': 0.043335608458044864}                                                    \n",
      "0.8546634521315191                                                             \n",
      "{'C': 0.009893370226722095}                                                    \n",
      "0.8548614271196577                                                             \n",
      "{'C': 1.3518588868556634}                                                      \n",
      "0.852296747749509                                                              \n",
      "{'C': 0.0027873393619108383}                                                   \n",
      "0.8550052970253212                                                             \n",
      "{'C': 80.03207849505819}                                                       \n",
      "0.8548677270363111                                                             \n",
      "{'C': 134.8878607973205}                                                       \n",
      "0.8548286103756328                                                             \n",
      "{'C': 8.215522083206839}                                                       \n",
      "0.854951849469303                                                              \n",
      "{'C': 5.8205271551082385}                                                      \n",
      "0.8549109033782155                                                             \n",
      "{'C': 51.90077189553667}                                                       \n",
      "0.8548981102481911                                                             \n",
      "{'C': 926.3202961403758}                                                       \n",
      "0.8507638571809915                                                             \n",
      "{'C': 0.001693999185135223}                                                    \n",
      "0.85495865189839                                                               \n",
      "{'C': 2924.2998651871358}                                                      \n",
      "0.8469875292847865                                                             \n",
      "{'C': 0.0005448074145043239}                                                   \n",
      "0.8549723458095997                                                             \n",
      "{'C': 6.126565360635869}                                                       \n",
      "0.8549243124421213                                                             \n",
      "{'C': 1454.1652385435789}                                                      \n",
      "0.8549280420343269                                                             \n",
      "{'C': 18.53600134298508}                                                       \n",
      "0.8550507282706418                                                             \n",
      "{'C': 0.06832299341256272}                                                     \n",
      "0.8550734100243753                                                             \n",
      "{'C': 0.08803411562934406}                                                     \n",
      "0.8448936738465243                                                             \n",
      "{'C': 0.0001535416409515862}                                                   \n",
      "0.8549461293832108                                                             \n",
      "{'C': 0.22727859164277886}                                                     \n",
      "0.8549318945384373                                                             \n",
      "{'C': 0.11540862672584283}                                                     \n",
      "0.8546012428652988                                                             \n",
      "{'C': 0.00956770713172215}                                                     \n",
      "0.8548546292849928                                                             \n",
      "{'C': 0.9255264214761308}                                                      \n",
      "0.8549114769199914                                                             \n",
      "{'C': 0.017020924006601955}                                                    \n",
      "0.8549701289807394                                                             \n",
      "{'C': 0.051717874772466095}                                                    \n",
      "0.8454515805473765                                                             \n",
      "{'C': 0.000258016909659976}                                                    \n",
      "100%|██████████| 30/30 [28:18<00:00, 56.60s/it, best loss: -0.8550734100243753]\n",
      "best:\n",
      "{'C': 0.08803411562934406}\n",
      "Wall time: 28min 18s\n"
     ]
    }
   ],
   "source": [
    "%%time\n",
    "def hyperopt_logit_score(params):\n",
    "    clf = LogisticRegression(**params, class_weight='balanced', n_jobs=-1)\n",
    "    \n",
    "    current_score = cross_val_score(\n",
    "        clf, X_train_qt, y_tr, scoring=ftwo_scorer, cv=skf).mean()\n",
    "    print(current_score, params)\n",
    "    return -current_score\n",
    "\n",
    "logit_space = {\n",
    "    'C': hp.loguniform('C', -4.0 * np.log(10.0), 4.0 * np.log(10.0))\n",
    "}\n",
    "\n",
    "best = fmin(\n",
    "    fn=hyperopt_logit_score, space=logit_space, algo=tpe.suggest, max_evals=30)\n",
    "print('best:')\n",
    "print(best)"
   ]
  },
  {
   "cell_type": "markdown",
   "metadata": {},
   "source": [
    "**Отобразите результаты обучения модели**"
   ]
  },
  {
   "cell_type": "code",
   "execution_count": 606,
   "metadata": {},
   "outputs": [
    {
     "name": "stdout",
     "output_type": "stream",
     "text": [
      "Wall time: 1min\n"
     ]
    },
    {
     "data": {
      "text/plain": [
       "RandomForestClassifier(bootstrap=True, ccp_alpha=0.0,\n",
       "                       class_weight='balanced_subsample', criterion='entropy',\n",
       "                       max_depth=6, max_features=38, max_leaf_nodes=None,\n",
       "                       max_samples=None, min_impurity_decrease=0.0,\n",
       "                       min_impurity_split=None, min_samples_leaf=1,\n",
       "                       min_samples_split=2, min_weight_fraction_leaf=0.0,\n",
       "                       n_estimators=1164, n_jobs=-1, oob_score=False,\n",
       "                       random_state=2020, verbose=0, warm_start=False)"
      ]
     },
     "execution_count": 606,
     "metadata": {},
     "output_type": "execute_result"
    }
   ],
   "source": [
    "%%time\n",
    "rf_par = RandomForestClassifier(class_weight='balanced_subsample', \n",
    "                                max_depth=6, criterion='entropy', \n",
    "                                max_features=X_train_qt.shape[1], \n",
    "                                n_estimators=1164, n_jobs=-1, \n",
    "                                random_state=2020)\n",
    "rf_par.fit(X_train_qt, y_tr)"
   ]
  },
  {
   "cell_type": "code",
   "execution_count": 607,
   "metadata": {},
   "outputs": [
    {
     "name": "stdout",
     "output_type": "stream",
     "text": [
      "Значения правильности перекрестной проверки после подбора параметров RandomForestClassifier: [0.87229148 0.8618163  0.8640166  0.85251503 0.84702762 0.85304686\n",
      " 0.87748365 0.85237895 0.86444963 0.8630276 ]\n",
      "Wall time: 9min 48s\n"
     ]
    },
    {
     "data": {
      "text/plain": [
       "0.860805372200087"
      ]
     },
     "execution_count": 607,
     "metadata": {},
     "output_type": "execute_result"
    }
   ],
   "source": [
    "%%time\n",
    "scores_rf_par = cross_val_score(rf_par, X_train_qt, y_tr, \n",
    "                                scoring='roc_auc', cv=skf)\n",
    "print(\"Значения правильности перекрестной проверки после подбора \"\n",
    "      \"параметров RandomForestClassifier: {}\".format(scores_rf_par))\n",
    "scores_rf_par.mean()"
   ]
  },
  {
   "cell_type": "code",
   "execution_count": 726,
   "metadata": {},
   "outputs": [
    {
     "name": "stdout",
     "output_type": "stream",
     "text": [
      "Wall time: 6.95 s\n"
     ]
    },
    {
     "data": {
      "text/plain": [
       "LogisticRegression(C=0.08803411562934406, class_weight='balanced', dual=False,\n",
       "                   fit_intercept=True, intercept_scaling=1, l1_ratio=None,\n",
       "                   max_iter=100, multi_class='auto', n_jobs=-1, penalty='l2',\n",
       "                   random_state=None, solver='lbfgs', tol=0.0001, verbose=0,\n",
       "                   warm_start=False)"
      ]
     },
     "execution_count": 726,
     "metadata": {},
     "output_type": "execute_result"
    }
   ],
   "source": [
    "%%time\n",
    "logit_par = LogisticRegression(class_weight='balanced', n_jobs=-1,\n",
    "                               C=0.08803411562934406)\n",
    "logit_par.fit(X_train_qt, y_tr)"
   ]
  },
  {
   "cell_type": "code",
   "execution_count": 727,
   "metadata": {},
   "outputs": [
    {
     "name": "stdout",
     "output_type": "stream",
     "text": [
      "Значения правильности перекрестной проверки после подбора параметра 'C' LogisticRegression: [0.86481488 0.85631136 0.85614498 0.84804729 0.84096978 0.84709159\n",
      " 0.8719798  0.85270789 0.85951011 0.85315641]\n",
      "Wall time: 59.7 s\n"
     ]
    },
    {
     "data": {
      "text/plain": [
       "0.8550734100243753"
      ]
     },
     "execution_count": 727,
     "metadata": {},
     "output_type": "execute_result"
    }
   ],
   "source": [
    "%%time\n",
    "scores_logit_par = cross_val_score(logit_par, X_train_qt, y_tr, \n",
    "                                   scoring='roc_auc', cv=skf)\n",
    "print(\"Значения правильности перекрестной проверки после подбора \"\n",
    "      \"параметра 'C' LogisticRegression: {}\".format(scores_logit_par))\n",
    "scores_logit_par.mean()"
   ]
  },
  {
   "cell_type": "markdown",
   "metadata": {},
   "source": [
    "**Какая из моделей показала наилучшие результаты? Отобразите подобранные параметры.**"
   ]
  },
  {
   "cell_type": "markdown",
   "metadata": {},
   "source": [
    "Если до подбора параметров `LogisticRegression` показывала результат лучше, чем `RandomForestClassifier`, то после подбора ситуация стала обратной.\n",
    "\n",
    "Лучшие параметры для `RandomForestClassifier`:\n",
    "* 'max_depth' = 6, \n",
    "* 'criterion'-'entropy',\n",
    "* 'max_features' - все признаки, \n",
    "* 'n_estimators' = 1164.\n",
    "\n",
    "Лучший параметр C=0.08803411562934406 для `LogisticRegression`."
   ]
  },
  {
   "cell_type": "code",
   "execution_count": 728,
   "metadata": {},
   "outputs": [],
   "source": [
    "with open('models/rf_par.pkl', 'wb') as file:  \n",
    "    pickle.dump(rf_par, file)\n",
    "with open('models/logit_par.pkl', 'wb') as file:  \n",
    "    pickle.dump(logit_par, file)"
   ]
  },
  {
   "cell_type": "code",
   "execution_count": 781,
   "metadata": {},
   "outputs": [
    {
     "data": {
      "text/plain": [
       "20"
      ]
     },
     "execution_count": 781,
     "metadata": {},
     "output_type": "execute_result"
    }
   ],
   "source": [
    "gc.collect()"
   ]
  },
  {
   "cell_type": "markdown",
   "metadata": {},
   "source": [
    "**Валидационная часть.**"
   ]
  },
  {
   "cell_type": "markdown",
   "metadata": {},
   "source": [
    "**LogisticRegression**"
   ]
  },
  {
   "cell_type": "code",
   "execution_count": 730,
   "metadata": {},
   "outputs": [
    {
     "name": "stdout",
     "output_type": "stream",
     "text": [
      "0.8576917624000316\n"
     ]
    }
   ],
   "source": [
    "print(roc_auc_score(y_val, logit_par.predict_proba(X_valid_qt)[:,1]))"
   ]
  },
  {
   "cell_type": "code",
   "execution_count": 731,
   "metadata": {},
   "outputs": [
    {
     "name": "stdout",
     "output_type": "stream",
     "text": [
      "Best Threshold=0.473404\n"
     ]
    }
   ],
   "source": [
    "y_pred_log = logit_par.predict_proba(X_valid_qt)[:, 1]\n",
    "fpr, tpr, thresholds = roc_curve(y_val, y_pred_log)\n",
    "J = tpr - fpr\n",
    "ix = np.argmax(J)\n",
    "best_thresh = thresholds[ix]\n",
    "print('Best Threshold=%f' % (best_thresh))"
   ]
  },
  {
   "cell_type": "code",
   "execution_count": 732,
   "metadata": {},
   "outputs": [],
   "source": [
    "y_res_log = [1 if x > best_thresh else 0 for x in y_pred_log]"
   ]
  },
  {
   "cell_type": "code",
   "execution_count": 733,
   "metadata": {},
   "outputs": [
    {
     "name": "stdout",
     "output_type": "stream",
     "text": [
      "              precision    recall  f1-score   support\n",
      "\n",
      "           0       0.80      0.98      0.88     34290\n",
      "           1       0.76      0.21      0.33     10710\n",
      "\n",
      "    accuracy                           0.80     45000\n",
      "   macro avg       0.78      0.60      0.61     45000\n",
      "weighted avg       0.79      0.80      0.75     45000\n",
      "\n"
     ]
    }
   ],
   "source": [
    "print(classification_report(y_res_log, y_val))"
   ]
  },
  {
   "cell_type": "code",
   "execution_count": 734,
   "metadata": {},
   "outputs": [
    {
     "data": {
      "image/png": "[encoded data removed]",
      "text/plain": [
       "<Figure size 432x288 with 2 Axes>"
      ]
     },
     "metadata": {
      "needs_background": "light"
     },
     "output_type": "display_data"
    }
   ],
   "source": [
    "sns.heatmap(confusion_matrix(y_val, y_res_log), annot=True,\n",
    "            fmt='3.0f', cmap=\"summer\");"
   ]
  },
  {
   "cell_type": "markdown",
   "metadata": {},
   "source": [
    "**RandomForestClassifier**"
   ]
  },
  {
   "cell_type": "code",
   "execution_count": 735,
   "metadata": {},
   "outputs": [
    {
     "name": "stdout",
     "output_type": "stream",
     "text": [
      "0.8621420900396934\n"
     ]
    }
   ],
   "source": [
    "print(roc_auc_score(y_val, rf_par.predict_proba(X_valid_qt)[:,1]))"
   ]
  },
  {
   "cell_type": "code",
   "execution_count": 736,
   "metadata": {},
   "outputs": [
    {
     "name": "stdout",
     "output_type": "stream",
     "text": [
      "Best Threshold=0.533347\n"
     ]
    }
   ],
   "source": [
    "y_pred = rf_par.predict_proba(X_valid_qt)[:, 1]\n",
    "fpr, tpr, thresholds = roc_curve(y_val, y_pred)\n",
    "J = tpr - fpr\n",
    "ix = np.argmax(J)\n",
    "best_thresh = thresholds[ix]\n",
    "print('Best Threshold=%f' % (best_thresh))"
   ]
  },
  {
   "cell_type": "code",
   "execution_count": 737,
   "metadata": {},
   "outputs": [],
   "source": [
    "y_res = [1 if x > best_thresh else 0 for x in y_pred]"
   ]
  },
  {
   "cell_type": "code",
   "execution_count": 738,
   "metadata": {},
   "outputs": [
    {
     "name": "stdout",
     "output_type": "stream",
     "text": [
      "              precision    recall  f1-score   support\n",
      "\n",
      "           0       0.81      0.98      0.89     34917\n",
      "           1       0.76      0.23      0.35     10083\n",
      "\n",
      "    accuracy                           0.81     45000\n",
      "   macro avg       0.79      0.60      0.62     45000\n",
      "weighted avg       0.80      0.81      0.77     45000\n",
      "\n"
     ]
    }
   ],
   "source": [
    "print(classification_report(y_res, y_val))"
   ]
  },
  {
   "cell_type": "code",
   "execution_count": 739,
   "metadata": {},
   "outputs": [
    {
     "data": {
      "image/png": "[encoded data removed]",
      "text/plain": [
       "<Figure size 432x288 with 2 Axes>"
      ]
     },
     "metadata": {
      "needs_background": "light"
     },
     "output_type": "display_data"
    }
   ],
   "source": [
    "sns.heatmap(confusion_matrix(y_val, y_res), annot=True,\n",
    "            fmt='3.0f', cmap=\"summer\");"
   ]
  },
  {
   "cell_type": "markdown",
   "metadata": {},
   "source": [
    "__Создание новых признаков__"
   ]
  },
  {
   "cell_type": "markdown",
   "metadata": {},
   "source": [
    "1. Выберите признаки подлежащие бинаризации.\n",
    "2. Осуществите бинаризацию.\n",
    "3. Как влияет количество интервалов бинаризации на качество модели? \n",
    "\n",
    "Для создания новых признаков рекомендую ответить на следующие вопросы:\n",
    "Как влияют количество иждевенцев у заемщика на просрочку выплат?\n",
    "Какой тип кредитов чаще всего берет заемщик?"
   ]
  },
  {
   "cell_type": "markdown",
   "metadata": {},
   "source": [
    "Создадим несколько дополнительных признаков на основе существующих. Их смысл понятен из названий."
   ]
  },
  {
   "cell_type": "code",
   "execution_count": 744,
   "metadata": {},
   "outputs": [],
   "source": [
    "df_train['NumberOfCredits_perPerson'] = df_train.NumberOfOpenCreditLinesAndLoans / (\n",
    "    1 + df_train.NumberOfDependents)\n",
    "df_train['NumberRealEstate_perPerson'] = df_train.NumberRealEstateLoansOrLines / (\n",
    "    1 + df_train.NumberOfDependents)\n",
    "df_train['MonthlyIncome_perPerson'] = df_train.MonthlyIncome / (\n",
    "    1 + df_train.NumberOfDependents)\n",
    "\n",
    "df_valid['NumberOfCredits_perPerson'] = df_valid.NumberOfOpenCreditLinesAndLoans / (\n",
    "    1 + df_valid.NumberOfDependents)\n",
    "df_valid['NumberRealEstate_perPerson'] = df_valid.NumberRealEstateLoansOrLines / (\n",
    "    1 + df_valid.NumberOfDependents)\n",
    "df_valid['MonthlyIncome_perPerson'] = df_valid.MonthlyIncome / (\n",
    "    1 + df_valid.NumberOfDependents)"
   ]
  },
  {
   "cell_type": "markdown",
   "metadata": {},
   "source": [
    "В датасете биннинг можно применять для создания признаков на основе значений количественных переменных, но, так как в исходном датасете ряд переменных не вызывает доверия по качеству заполнения, выберем только определенные. Исключение только для `MonthlyIncome`.  "
   ]
  },
  {
   "cell_type": "code",
   "execution_count": 617,
   "metadata": {},
   "outputs": [
    {
     "data": {
      "text/plain": [
       "Index(['RevolvingUtilizationOfUnsecuredLines', 'age',\n",
       "       'NumberOfTime30_59DaysPastDueNotWorse', 'DebtRatio', 'MonthlyIncome',\n",
       "       'NumberOfOpenCreditLinesAndLoans', 'NumberOfTimes90DaysLate',\n",
       "       'NumberRealEstateLoansOrLines', 'NumberOfDependents',\n",
       "       'NumberOfTimes_PastDue', 'MonthlyPayment', 'NumberOfCredits_perPerson',\n",
       "       'NumberRealEstate_perPerson', 'MonthlyIncome_perPerson'],\n",
       "      dtype='object')"
      ]
     },
     "execution_count": 617,
     "metadata": {},
     "output_type": "execute_result"
    }
   ],
   "source": [
    "# предикторы, у которых больше 10 уникальных значений\n",
    "X_bin = df_train.loc[:, df_train.apply(pd.Series.nunique) > 10]\n",
    "X_bin.columns"
   ]
  },
  {
   "cell_type": "code",
   "execution_count": 745,
   "metadata": {},
   "outputs": [],
   "source": [
    "# предполагаемые признаки для бинаризации\n",
    "cols_for_bin = ['age', 'MonthlyIncome', 'NumberOfOpenCreditLinesAndLoans',\n",
    "               'NumberRealEstateLoansOrLines', 'NumberOfTimes_PastDue', \n",
    "               'NumberOfDependents', 'NumberOfCredits_perPerson', \n",
    "               'NumberRealEstate_perPerson', 'MonthlyIncome_perPerson']"
   ]
  },
  {
   "cell_type": "code",
   "execution_count": 750,
   "metadata": {},
   "outputs": [],
   "source": [
    "# Функция, вычисляющая IV по всем количественным предикторам\n",
    "# из блокнота Романа Николаевича\n",
    "# \"Приложение 4_Пример предварительной подготовки данных в pandas\"\n",
    "#\n",
    "# Полезная функция, особенно с учетом того, что пакетов на\n",
    "# эту тему с хорошей документацией для python так и не нашла\n",
    "\n",
    "def numeric_IV(df, y):\n",
    "    iv_list = []\n",
    "    df = df.copy()\n",
    "    a = 0.0001\n",
    "    target = y.astype('str')\n",
    "    for var_name in cols_for_bin:\n",
    "        df[var_name] = pd.qcut(\n",
    "            df[var_name].values, 10, duplicates='drop').codes\n",
    "        biv = pd.crosstab(df[var_name], target)\n",
    "        IV = sum(((1.0 * biv['0'] / sum(biv['0']) + a) -\n",
    "                  (1.0 * biv['1'] / sum(biv['1']) + a)) * np.log(\n",
    "                      (1.0 * biv['0'] / sum(biv['0']) + a) /\n",
    "                      (1.0 * biv['1'] / sum(biv['1']) + a)))\n",
    "        iv_list.append(IV)\n",
    "    col_list = list(cols_for_bin)\n",
    "    result = pd.DataFrame({'Название переменной': col_list, 'IV': iv_list})\n",
    "    result['Полезность'] = [\n",
    "        'Подозрительно высокая' if x > 0.5 else 'Сильная'\n",
    "        if x <= 0.5 and x > 0.3 else 'Средняя'\n",
    "        if x <= 0.3 and x > 0.1 else 'Слабая'\n",
    "        if x <= 0.1 and x > 0.02 else 'Бесполезная' for x in result['IV']\n",
    "    ]\n",
    "    return (result.sort_values(by='IV', ascending=False))"
   ]
  },
  {
   "cell_type": "code",
   "execution_count": 751,
   "metadata": {},
   "outputs": [
    {
     "data": {
      "text/html": [
       "<div>\n",
       "<style scoped>\n",
       "    .dataframe tbody tr th:only-of-type {\n",
       "        vertical-align: middle;\n",
       "    }\n",
       "\n",
       "    .dataframe tbody tr th {\n",
       "        vertical-align: top;\n",
       "    }\n",
       "\n",
       "    .dataframe thead th {\n",
       "        text-align: right;\n",
       "    }\n",
       "</style>\n",
       "<table border=\"1\" class=\"dataframe\">\n",
       "  <thead>\n",
       "    <tr style=\"text-align: right;\">\n",
       "      <th></th>\n",
       "      <th>Название переменной</th>\n",
       "      <th>IV</th>\n",
       "      <th>Полезность</th>\n",
       "    </tr>\n",
       "  </thead>\n",
       "  <tbody>\n",
       "    <tr>\n",
       "      <th>4</th>\n",
       "      <td>NumberOfTimes_PastDue</td>\n",
       "      <td>1.045307</td>\n",
       "      <td>Подозрительно высокая</td>\n",
       "    </tr>\n",
       "    <tr>\n",
       "      <th>0</th>\n",
       "      <td>age</td>\n",
       "      <td>0.240233</td>\n",
       "      <td>Средняя</td>\n",
       "    </tr>\n",
       "    <tr>\n",
       "      <th>6</th>\n",
       "      <td>NumberOfCredits_perPerson</td>\n",
       "      <td>0.115989</td>\n",
       "      <td>Средняя</td>\n",
       "    </tr>\n",
       "    <tr>\n",
       "      <th>1</th>\n",
       "      <td>MonthlyIncome</td>\n",
       "      <td>0.093143</td>\n",
       "      <td>Слабая</td>\n",
       "    </tr>\n",
       "    <tr>\n",
       "      <th>8</th>\n",
       "      <td>MonthlyIncome_perPerson</td>\n",
       "      <td>0.070850</td>\n",
       "      <td>Слабая</td>\n",
       "    </tr>\n",
       "    <tr>\n",
       "      <th>2</th>\n",
       "      <td>NumberOfOpenCreditLinesAndLoans</td>\n",
       "      <td>0.067259</td>\n",
       "      <td>Слабая</td>\n",
       "    </tr>\n",
       "    <tr>\n",
       "      <th>7</th>\n",
       "      <td>NumberRealEstate_perPerson</td>\n",
       "      <td>0.055377</td>\n",
       "      <td>Слабая</td>\n",
       "    </tr>\n",
       "    <tr>\n",
       "      <th>5</th>\n",
       "      <td>NumberOfDependents</td>\n",
       "      <td>0.023533</td>\n",
       "      <td>Слабая</td>\n",
       "    </tr>\n",
       "    <tr>\n",
       "      <th>3</th>\n",
       "      <td>NumberRealEstateLoansOrLines</td>\n",
       "      <td>0.013006</td>\n",
       "      <td>Бесполезная</td>\n",
       "    </tr>\n",
       "  </tbody>\n",
       "</table>\n",
       "</div>"
      ],
      "text/plain": [
       "               Название переменной        IV             Полезность\n",
       "4            NumberOfTimes_PastDue  1.045307  Подозрительно высокая\n",
       "0                              age  0.240233                Средняя\n",
       "6        NumberOfCredits_perPerson  0.115989                Средняя\n",
       "1                    MonthlyIncome  0.093143                 Слабая\n",
       "8          MonthlyIncome_perPerson  0.070850                 Слабая\n",
       "2  NumberOfOpenCreditLinesAndLoans  0.067259                 Слабая\n",
       "7       NumberRealEstate_perPerson  0.055377                 Слабая\n",
       "5               NumberOfDependents  0.023533                 Слабая\n",
       "3     NumberRealEstateLoansOrLines  0.013006            Бесполезная"
      ]
     },
     "execution_count": 751,
     "metadata": {},
     "output_type": "execute_result"
    }
   ],
   "source": [
    "numeric_IV(df_train, y_tr)"
   ]
  },
  {
   "cell_type": "markdown",
   "metadata": {},
   "source": [
    "\"Подозрительно высокая\" полезность переменной `NumberOfTimes_PastDue` логична, потому что количество просрочек в истории клиента напрямую связана с возможностью просрочек в будущем. Переменную `NumberOfDependents` исключим из списка на биннинг, т.к. уже были созданы бинарные переменные на ее основе."
   ]
  },
  {
   "cell_type": "code",
   "execution_count": 752,
   "metadata": {},
   "outputs": [],
   "source": [
    "# признаки для бинаризации\n",
    "cols_for_bin = ['age', 'MonthlyIncome', 'NumberOfOpenCreditLinesAndLoans',\n",
    "                'NumberRealEstateLoansOrLines', 'NumberOfTimes_PastDue',\n",
    "                'NumberOfCredits_perPerson', 'NumberRealEstate_perPerson', \n",
    "                'MonthlyIncome_perPerson']"
   ]
  },
  {
   "cell_type": "code",
   "execution_count": 753,
   "metadata": {},
   "outputs": [],
   "source": [
    "for var_name in cols_for_bin:\n",
    "    df_train[f'{var_name}_bin'] = pd.cut(df_train[var_name], 10)\n",
    "    df_valid[f'{var_name}_bin'] = pd.cut(df_valid[var_name], 10)\n",
    "\n",
    "# если увеличить количество квантилей до 14, то полезность\n",
    "# MonthlyIncome становится средней\n",
    "df_train['MonthlyIncome_bin'] = pd.cut(df_train.MonthlyIncome, 14)\n",
    "df_valid['MonthlyIncome_bin'] = pd.cut(df_valid.MonthlyIncome, 14)"
   ]
  },
  {
   "cell_type": "code",
   "execution_count": 754,
   "metadata": {},
   "outputs": [
    {
     "data": {
      "text/html": [
       "<div>\n",
       "<style scoped>\n",
       "    .dataframe tbody tr th:only-of-type {\n",
       "        vertical-align: middle;\n",
       "    }\n",
       "\n",
       "    .dataframe tbody tr th {\n",
       "        vertical-align: top;\n",
       "    }\n",
       "\n",
       "    .dataframe thead th {\n",
       "        text-align: right;\n",
       "    }\n",
       "</style>\n",
       "<table border=\"1\" class=\"dataframe\">\n",
       "  <thead>\n",
       "    <tr style=\"text-align: right;\">\n",
       "      <th></th>\n",
       "      <th>RevolvingUtilizationOfUnsecuredLines</th>\n",
       "      <th>age</th>\n",
       "      <th>NumberOfTime30_59DaysPastDueNotWorse</th>\n",
       "      <th>DebtRatio</th>\n",
       "      <th>MonthlyIncome</th>\n",
       "      <th>NumberOfOpenCreditLinesAndLoans</th>\n",
       "      <th>NumberOfTimes90DaysLate</th>\n",
       "      <th>NumberRealEstateLoansOrLines</th>\n",
       "      <th>NumberOfTime60_89DaysPastDueNotWorse</th>\n",
       "      <th>NumberOfDependents</th>\n",
       "      <th>NumberOfTimes_PastDue</th>\n",
       "      <th>NumberOfTimesLate_high</th>\n",
       "      <th>NumberOfTimesLate_96</th>\n",
       "      <th>NumberOfTimesLate_98</th>\n",
       "      <th>NumberOfTime30_59Days_none</th>\n",
       "      <th>NumberOfTimes90Days_none</th>\n",
       "      <th>NumberOfTime60_89Days_none</th>\n",
       "      <th>MonthlyPayment</th>\n",
       "      <th>MonthlyIncome_none</th>\n",
       "      <th>MonthlyIncome_zero</th>\n",
       "      <th>DebtRatio_zero</th>\n",
       "      <th>RUUL_high</th>\n",
       "      <th>RUUL_zero</th>\n",
       "      <th>RUUL_ones</th>\n",
       "      <th>NumberOfDependents_none</th>\n",
       "      <th>NumberOfCredits_perPerson</th>\n",
       "      <th>NumberRealEstate_perPerson</th>\n",
       "      <th>MonthlyIncome_perPerson</th>\n",
       "      <th>age_bin</th>\n",
       "      <th>MonthlyIncome_bin</th>\n",
       "      <th>NumberOfOpenCreditLinesAndLoans_bin</th>\n",
       "      <th>NumberRealEstateLoansOrLines_bin</th>\n",
       "      <th>NumberOfTimes_PastDue_bin</th>\n",
       "      <th>NumberOfCredits_perPerson_bin</th>\n",
       "      <th>NumberRealEstate_perPerson_bin</th>\n",
       "      <th>MonthlyIncome_perPerson_bin</th>\n",
       "    </tr>\n",
       "  </thead>\n",
       "  <tbody>\n",
       "    <tr>\n",
       "      <th>138986</th>\n",
       "      <td>0.000000</td>\n",
       "      <td>49</td>\n",
       "      <td>0</td>\n",
       "      <td>0.127227</td>\n",
       "      <td>5163.0</td>\n",
       "      <td>5</td>\n",
       "      <td>0</td>\n",
       "      <td>0</td>\n",
       "      <td>0</td>\n",
       "      <td>0.0</td>\n",
       "      <td>0</td>\n",
       "      <td>0</td>\n",
       "      <td>0</td>\n",
       "      <td>0</td>\n",
       "      <td>1</td>\n",
       "      <td>1</td>\n",
       "      <td>1</td>\n",
       "      <td>656.872774</td>\n",
       "      <td>0</td>\n",
       "      <td>0</td>\n",
       "      <td>0</td>\n",
       "      <td>0</td>\n",
       "      <td>1</td>\n",
       "      <td>0</td>\n",
       "      <td>0</td>\n",
       "      <td>5.0</td>\n",
       "      <td>0.0</td>\n",
       "      <td>5163.0</td>\n",
       "      <td>(47.4, 56.2]</td>\n",
       "      <td>(-1794.06, 128147.143]</td>\n",
       "      <td>(-0.058, 5.8]</td>\n",
       "      <td>(-0.054, 5.4]</td>\n",
       "      <td>(-0.294, 29.4]</td>\n",
       "      <td>(-0.058, 5.8]</td>\n",
       "      <td>(-0.054, 5.4]</td>\n",
       "      <td>(-1794.06, 179406.0]</td>\n",
       "    </tr>\n",
       "    <tr>\n",
       "      <th>63965</th>\n",
       "      <td>0.033105</td>\n",
       "      <td>37</td>\n",
       "      <td>0</td>\n",
       "      <td>0.423063</td>\n",
       "      <td>2800.0</td>\n",
       "      <td>4</td>\n",
       "      <td>0</td>\n",
       "      <td>1</td>\n",
       "      <td>0</td>\n",
       "      <td>1.0</td>\n",
       "      <td>0</td>\n",
       "      <td>0</td>\n",
       "      <td>0</td>\n",
       "      <td>0</td>\n",
       "      <td>1</td>\n",
       "      <td>1</td>\n",
       "      <td>1</td>\n",
       "      <td>1184.576938</td>\n",
       "      <td>0</td>\n",
       "      <td>0</td>\n",
       "      <td>0</td>\n",
       "      <td>0</td>\n",
       "      <td>0</td>\n",
       "      <td>0</td>\n",
       "      <td>0</td>\n",
       "      <td>2.0</td>\n",
       "      <td>0.5</td>\n",
       "      <td>1400.0</td>\n",
       "      <td>(29.8, 38.6]</td>\n",
       "      <td>(-1794.06, 128147.143]</td>\n",
       "      <td>(-0.058, 5.8]</td>\n",
       "      <td>(-0.054, 5.4]</td>\n",
       "      <td>(-0.294, 29.4]</td>\n",
       "      <td>(-0.058, 5.8]</td>\n",
       "      <td>(-0.054, 5.4]</td>\n",
       "      <td>(-1794.06, 179406.0]</td>\n",
       "    </tr>\n",
       "    <tr>\n",
       "      <th>46078</th>\n",
       "      <td>0.007948</td>\n",
       "      <td>39</td>\n",
       "      <td>0</td>\n",
       "      <td>0.685663</td>\n",
       "      <td>3333.0</td>\n",
       "      <td>11</td>\n",
       "      <td>0</td>\n",
       "      <td>1</td>\n",
       "      <td>0</td>\n",
       "      <td>0.0</td>\n",
       "      <td>0</td>\n",
       "      <td>0</td>\n",
       "      <td>0</td>\n",
       "      <td>0</td>\n",
       "      <td>1</td>\n",
       "      <td>1</td>\n",
       "      <td>1</td>\n",
       "      <td>2285.314336</td>\n",
       "      <td>0</td>\n",
       "      <td>0</td>\n",
       "      <td>0</td>\n",
       "      <td>0</td>\n",
       "      <td>0</td>\n",
       "      <td>0</td>\n",
       "      <td>0</td>\n",
       "      <td>11.0</td>\n",
       "      <td>1.0</td>\n",
       "      <td>3333.0</td>\n",
       "      <td>(38.6, 47.4]</td>\n",
       "      <td>(-1794.06, 128147.143]</td>\n",
       "      <td>(5.8, 11.6]</td>\n",
       "      <td>(-0.054, 5.4]</td>\n",
       "      <td>(-0.294, 29.4]</td>\n",
       "      <td>(5.8, 11.6]</td>\n",
       "      <td>(-0.054, 5.4]</td>\n",
       "      <td>(-1794.06, 179406.0]</td>\n",
       "    </tr>\n",
       "    <tr>\n",
       "      <th>83031</th>\n",
       "      <td>0.576297</td>\n",
       "      <td>57</td>\n",
       "      <td>0</td>\n",
       "      <td>0.320077</td>\n",
       "      <td>15161.0</td>\n",
       "      <td>14</td>\n",
       "      <td>0</td>\n",
       "      <td>4</td>\n",
       "      <td>0</td>\n",
       "      <td>0.0</td>\n",
       "      <td>0</td>\n",
       "      <td>0</td>\n",
       "      <td>0</td>\n",
       "      <td>0</td>\n",
       "      <td>1</td>\n",
       "      <td>1</td>\n",
       "      <td>1</td>\n",
       "      <td>4852.679923</td>\n",
       "      <td>0</td>\n",
       "      <td>0</td>\n",
       "      <td>0</td>\n",
       "      <td>0</td>\n",
       "      <td>0</td>\n",
       "      <td>0</td>\n",
       "      <td>0</td>\n",
       "      <td>14.0</td>\n",
       "      <td>4.0</td>\n",
       "      <td>15161.0</td>\n",
       "      <td>(56.2, 65.0]</td>\n",
       "      <td>(-1794.06, 128147.143]</td>\n",
       "      <td>(11.6, 17.4]</td>\n",
       "      <td>(-0.054, 5.4]</td>\n",
       "      <td>(-0.294, 29.4]</td>\n",
       "      <td>(11.6, 17.4]</td>\n",
       "      <td>(-0.054, 5.4]</td>\n",
       "      <td>(-1794.06, 179406.0]</td>\n",
       "    </tr>\n",
       "    <tr>\n",
       "      <th>11185</th>\n",
       "      <td>0.623724</td>\n",
       "      <td>35</td>\n",
       "      <td>0</td>\n",
       "      <td>0.534226</td>\n",
       "      <td>6500.0</td>\n",
       "      <td>9</td>\n",
       "      <td>0</td>\n",
       "      <td>3</td>\n",
       "      <td>0</td>\n",
       "      <td>1.0</td>\n",
       "      <td>0</td>\n",
       "      <td>0</td>\n",
       "      <td>0</td>\n",
       "      <td>0</td>\n",
       "      <td>1</td>\n",
       "      <td>1</td>\n",
       "      <td>1</td>\n",
       "      <td>3472.465776</td>\n",
       "      <td>0</td>\n",
       "      <td>0</td>\n",
       "      <td>0</td>\n",
       "      <td>0</td>\n",
       "      <td>0</td>\n",
       "      <td>0</td>\n",
       "      <td>0</td>\n",
       "      <td>4.5</td>\n",
       "      <td>1.5</td>\n",
       "      <td>3250.0</td>\n",
       "      <td>(29.8, 38.6]</td>\n",
       "      <td>(-1794.06, 128147.143]</td>\n",
       "      <td>(5.8, 11.6]</td>\n",
       "      <td>(-0.054, 5.4]</td>\n",
       "      <td>(-0.294, 29.4]</td>\n",
       "      <td>(-0.058, 5.8]</td>\n",
       "      <td>(-0.054, 5.4]</td>\n",
       "      <td>(-1794.06, 179406.0]</td>\n",
       "    </tr>\n",
       "  </tbody>\n",
       "</table>\n",
       "</div>"
      ],
      "text/plain": [
       "        RevolvingUtilizationOfUnsecuredLines  age  \\\n",
       "138986                              0.000000   49   \n",
       "63965                               0.033105   37   \n",
       "46078                               0.007948   39   \n",
       "83031                               0.576297   57   \n",
       "11185                               0.623724   35   \n",
       "\n",
       "        NumberOfTime30_59DaysPastDueNotWorse  DebtRatio  MonthlyIncome  \\\n",
       "138986                                     0   0.127227         5163.0   \n",
       "63965                                      0   0.423063         2800.0   \n",
       "46078                                      0   0.685663         3333.0   \n",
       "83031                                      0   0.320077        15161.0   \n",
       "11185                                      0   0.534226         6500.0   \n",
       "\n",
       "        NumberOfOpenCreditLinesAndLoans  NumberOfTimes90DaysLate  \\\n",
       "138986                                5                        0   \n",
       "63965                                 4                        0   \n",
       "46078                                11                        0   \n",
       "83031                                14                        0   \n",
       "11185                                 9                        0   \n",
       "\n",
       "        NumberRealEstateLoansOrLines  NumberOfTime60_89DaysPastDueNotWorse  \\\n",
       "138986                             0                                     0   \n",
       "63965                              1                                     0   \n",
       "46078                              1                                     0   \n",
       "83031                              4                                     0   \n",
       "11185                              3                                     0   \n",
       "\n",
       "        NumberOfDependents  NumberOfTimes_PastDue NumberOfTimesLate_high  \\\n",
       "138986                 0.0                      0                      0   \n",
       "63965                  1.0                      0                      0   \n",
       "46078                  0.0                      0                      0   \n",
       "83031                  0.0                      0                      0   \n",
       "11185                  1.0                      0                      0   \n",
       "\n",
       "       NumberOfTimesLate_96 NumberOfTimesLate_98 NumberOfTime30_59Days_none  \\\n",
       "138986                    0                    0                          1   \n",
       "63965                     0                    0                          1   \n",
       "46078                     0                    0                          1   \n",
       "83031                     0                    0                          1   \n",
       "11185                     0                    0                          1   \n",
       "\n",
       "       NumberOfTimes90Days_none NumberOfTime60_89Days_none  MonthlyPayment  \\\n",
       "138986                        1                          1      656.872774   \n",
       "63965                         1                          1     1184.576938   \n",
       "46078                         1                          1     2285.314336   \n",
       "83031                         1                          1     4852.679923   \n",
       "11185                         1                          1     3472.465776   \n",
       "\n",
       "       MonthlyIncome_none MonthlyIncome_zero DebtRatio_zero RUUL_high  \\\n",
       "138986                  0                  0              0         0   \n",
       "63965                   0                  0              0         0   \n",
       "46078                   0                  0              0         0   \n",
       "83031                   0                  0              0         0   \n",
       "11185                   0                  0              0         0   \n",
       "\n",
       "       RUUL_zero RUUL_ones NumberOfDependents_none  NumberOfCredits_perPerson  \\\n",
       "138986         1         0                       0                        5.0   \n",
       "63965          0         0                       0                        2.0   \n",
       "46078          0         0                       0                       11.0   \n",
       "83031          0         0                       0                       14.0   \n",
       "11185          0         0                       0                        4.5   \n",
       "\n",
       "        NumberRealEstate_perPerson  MonthlyIncome_perPerson       age_bin  \\\n",
       "138986                         0.0                   5163.0  (47.4, 56.2]   \n",
       "63965                          0.5                   1400.0  (29.8, 38.6]   \n",
       "46078                          1.0                   3333.0  (38.6, 47.4]   \n",
       "83031                          4.0                  15161.0  (56.2, 65.0]   \n",
       "11185                          1.5                   3250.0  (29.8, 38.6]   \n",
       "\n",
       "             MonthlyIncome_bin NumberOfOpenCreditLinesAndLoans_bin  \\\n",
       "138986  (-1794.06, 128147.143]                       (-0.058, 5.8]   \n",
       "63965   (-1794.06, 128147.143]                       (-0.058, 5.8]   \n",
       "46078   (-1794.06, 128147.143]                         (5.8, 11.6]   \n",
       "83031   (-1794.06, 128147.143]                        (11.6, 17.4]   \n",
       "11185   (-1794.06, 128147.143]                         (5.8, 11.6]   \n",
       "\n",
       "       NumberRealEstateLoansOrLines_bin NumberOfTimes_PastDue_bin  \\\n",
       "138986                    (-0.054, 5.4]            (-0.294, 29.4]   \n",
       "63965                     (-0.054, 5.4]            (-0.294, 29.4]   \n",
       "46078                     (-0.054, 5.4]            (-0.294, 29.4]   \n",
       "83031                     (-0.054, 5.4]            (-0.294, 29.4]   \n",
       "11185                     (-0.054, 5.4]            (-0.294, 29.4]   \n",
       "\n",
       "       NumberOfCredits_perPerson_bin NumberRealEstate_perPerson_bin  \\\n",
       "138986                 (-0.058, 5.8]                  (-0.054, 5.4]   \n",
       "63965                  (-0.058, 5.8]                  (-0.054, 5.4]   \n",
       "46078                    (5.8, 11.6]                  (-0.054, 5.4]   \n",
       "83031                   (11.6, 17.4]                  (-0.054, 5.4]   \n",
       "11185                  (-0.058, 5.8]                  (-0.054, 5.4]   \n",
       "\n",
       "       MonthlyIncome_perPerson_bin  \n",
       "138986        (-1794.06, 179406.0]  \n",
       "63965         (-1794.06, 179406.0]  \n",
       "46078         (-1794.06, 179406.0]  \n",
       "83031         (-1794.06, 179406.0]  \n",
       "11185         (-1794.06, 179406.0]  "
      ]
     },
     "execution_count": 754,
     "metadata": {},
     "output_type": "execute_result"
    },
    {
     "data": {
      "text/plain": [
       "(105000, 36)"
      ]
     },
     "execution_count": 754,
     "metadata": {},
     "output_type": "execute_result"
    }
   ],
   "source": [
    "df_train.head()\n",
    "df_train.shape"
   ]
  },
  {
   "cell_type": "code",
   "execution_count": 755,
   "metadata": {},
   "outputs": [],
   "source": [
    "cat_columns = [i for i in df_train.columns if \n",
    "               df_train[i].dtype.name=='category' or \n",
    "               df_train[i].dtype.name=='object']\n",
    "num_columns = [i for i in df_train.columns if \n",
    "               df_train[i].dtype.name=='float64' or \n",
    "               df_train[i].dtype.name=='int64']"
   ]
  },
  {
   "cell_type": "code",
   "execution_count": 756,
   "metadata": {},
   "outputs": [],
   "source": [
    "df_train_num = df_train[num_columns]"
   ]
  },
  {
   "cell_type": "code",
   "execution_count": 757,
   "metadata": {},
   "outputs": [
    {
     "data": {
      "text/plain": [
       "QuantileTransformer(copy=True, ignore_implicit_zeros=False, n_quantiles=1000,\n",
       "                    output_distribution='normal', random_state=None,\n",
       "                    subsample=100000)"
      ]
     },
     "execution_count": 757,
     "metadata": {},
     "output_type": "execute_result"
    }
   ],
   "source": [
    "qtf.fit(df_train_num)"
   ]
  },
  {
   "cell_type": "code",
   "execution_count": 758,
   "metadata": {},
   "outputs": [],
   "source": [
    "X_train_plus = preproc(df_train, qtf)\n",
    "X_valid_plus = preproc(df_valid, qtf)"
   ]
  },
  {
   "cell_type": "code",
   "execution_count": 759,
   "metadata": {},
   "outputs": [
    {
     "data": {
      "text/plain": [
       "(105000, 125)"
      ]
     },
     "execution_count": 759,
     "metadata": {},
     "output_type": "execute_result"
    },
    {
     "data": {
      "text/html": [
       "<div>\n",
       "<style scoped>\n",
       "    .dataframe tbody tr th:only-of-type {\n",
       "        vertical-align: middle;\n",
       "    }\n",
       "\n",
       "    .dataframe tbody tr th {\n",
       "        vertical-align: top;\n",
       "    }\n",
       "\n",
       "    .dataframe thead th {\n",
       "        text-align: right;\n",
       "    }\n",
       "</style>\n",
       "<table border=\"1\" class=\"dataframe\">\n",
       "  <thead>\n",
       "    <tr style=\"text-align: right;\">\n",
       "      <th></th>\n",
       "      <th>RevolvingUtilizationOfUnsecuredLines</th>\n",
       "      <th>age</th>\n",
       "      <th>NumberOfTime30_59DaysPastDueNotWorse</th>\n",
       "      <th>DebtRatio</th>\n",
       "      <th>MonthlyIncome</th>\n",
       "      <th>NumberOfOpenCreditLinesAndLoans</th>\n",
       "      <th>NumberOfTimes90DaysLate</th>\n",
       "      <th>NumberRealEstateLoansOrLines</th>\n",
       "      <th>NumberOfTime60_89DaysPastDueNotWorse</th>\n",
       "      <th>NumberOfDependents</th>\n",
       "      <th>NumberOfTimes_PastDue</th>\n",
       "      <th>MonthlyPayment</th>\n",
       "      <th>NumberOfCredits_perPerson</th>\n",
       "      <th>NumberRealEstate_perPerson</th>\n",
       "      <th>MonthlyIncome_perPerson</th>\n",
       "      <th>NumberOfTimesLate_high_0</th>\n",
       "      <th>NumberOfTimesLate_high_1</th>\n",
       "      <th>NumberOfTimesLate_96_0</th>\n",
       "      <th>NumberOfTimesLate_96_1</th>\n",
       "      <th>NumberOfTimesLate_98_0</th>\n",
       "      <th>NumberOfTimesLate_98_1</th>\n",
       "      <th>NumberOfTime30_59Days_none_0</th>\n",
       "      <th>NumberOfTime30_59Days_none_1</th>\n",
       "      <th>NumberOfTimes90Days_none_0</th>\n",
       "      <th>NumberOfTimes90Days_none_1</th>\n",
       "      <th>NumberOfTime60_89Days_none_0</th>\n",
       "      <th>NumberOfTime60_89Days_none_1</th>\n",
       "      <th>MonthlyIncome_none_0</th>\n",
       "      <th>MonthlyIncome_none_1</th>\n",
       "      <th>MonthlyIncome_zero_0</th>\n",
       "      <th>MonthlyIncome_zero_1</th>\n",
       "      <th>DebtRatio_zero_0</th>\n",
       "      <th>DebtRatio_zero_1</th>\n",
       "      <th>RUUL_high_0</th>\n",
       "      <th>RUUL_high_1</th>\n",
       "      <th>RUUL_zero_0</th>\n",
       "      <th>RUUL_zero_1</th>\n",
       "      <th>RUUL_ones_0</th>\n",
       "      <th>RUUL_ones_1</th>\n",
       "      <th>NumberOfDependents_none_0</th>\n",
       "      <th>NumberOfDependents_none_1</th>\n",
       "      <th>age_bin_(20.912, 29.8]</th>\n",
       "      <th>age_bin_(29.8, 38.6]</th>\n",
       "      <th>age_bin_(38.6, 47.4]</th>\n",
       "      <th>age_bin_(47.4, 56.2]</th>\n",
       "      <th>age_bin_(56.2, 65.0]</th>\n",
       "      <th>age_bin_(65.0, 73.8]</th>\n",
       "      <th>age_bin_(73.8, 82.6]</th>\n",
       "      <th>age_bin_(82.6, 91.4]</th>\n",
       "      <th>age_bin_(91.4, 100.2]</th>\n",
       "      <th>age_bin_(100.2, 109.0]</th>\n",
       "      <th>MonthlyIncome_bin_(-1794.06, 128147.143]</th>\n",
       "      <th>MonthlyIncome_bin_(128147.143, 256294.286]</th>\n",
       "      <th>MonthlyIncome_bin_(256294.286, 384441.429]</th>\n",
       "      <th>MonthlyIncome_bin_(384441.429, 512588.571]</th>\n",
       "      <th>MonthlyIncome_bin_(512588.571, 640735.714]</th>\n",
       "      <th>MonthlyIncome_bin_(640735.714, 768882.857]</th>\n",
       "      <th>MonthlyIncome_bin_(768882.857, 897030.0]</th>\n",
       "      <th>MonthlyIncome_bin_(897030.0, 1025177.143]</th>\n",
       "      <th>MonthlyIncome_bin_(1025177.143, 1153324.286]</th>\n",
       "      <th>MonthlyIncome_bin_(1153324.286, 1281471.429]</th>\n",
       "      <th>MonthlyIncome_bin_(1281471.429, 1409618.571]</th>\n",
       "      <th>MonthlyIncome_bin_(1409618.571, 1537765.714]</th>\n",
       "      <th>MonthlyIncome_bin_(1537765.714, 1665912.857]</th>\n",
       "      <th>MonthlyIncome_bin_(1665912.857, 1794060.0]</th>\n",
       "      <th>NumberOfOpenCreditLinesAndLoans_bin_(-0.058, 5.8]</th>\n",
       "      <th>NumberOfOpenCreditLinesAndLoans_bin_(5.8, 11.6]</th>\n",
       "      <th>NumberOfOpenCreditLinesAndLoans_bin_(11.6, 17.4]</th>\n",
       "      <th>NumberOfOpenCreditLinesAndLoans_bin_(17.4, 23.2]</th>\n",
       "      <th>NumberOfOpenCreditLinesAndLoans_bin_(23.2, 29.0]</th>\n",
       "      <th>NumberOfOpenCreditLinesAndLoans_bin_(29.0, 34.8]</th>\n",
       "      <th>NumberOfOpenCreditLinesAndLoans_bin_(34.8, 40.6]</th>\n",
       "      <th>NumberOfOpenCreditLinesAndLoans_bin_(40.6, 46.4]</th>\n",
       "      <th>NumberOfOpenCreditLinesAndLoans_bin_(46.4, 52.2]</th>\n",
       "      <th>NumberOfOpenCreditLinesAndLoans_bin_(52.2, 58.0]</th>\n",
       "      <th>NumberRealEstateLoansOrLines_bin_(-0.054, 5.4]</th>\n",
       "      <th>NumberRealEstateLoansOrLines_bin_(5.4, 10.8]</th>\n",
       "      <th>NumberRealEstateLoansOrLines_bin_(10.8, 16.2]</th>\n",
       "      <th>NumberRealEstateLoansOrLines_bin_(16.2, 21.6]</th>\n",
       "      <th>NumberRealEstateLoansOrLines_bin_(21.6, 27.0]</th>\n",
       "      <th>NumberRealEstateLoansOrLines_bin_(27.0, 32.4]</th>\n",
       "      <th>NumberRealEstateLoansOrLines_bin_(32.4, 37.8]</th>\n",
       "      <th>NumberRealEstateLoansOrLines_bin_(37.8, 43.2]</th>\n",
       "      <th>NumberRealEstateLoansOrLines_bin_(43.2, 48.6]</th>\n",
       "      <th>NumberRealEstateLoansOrLines_bin_(48.6, 54.0]</th>\n",
       "      <th>NumberOfTimes_PastDue_bin_(-0.294, 29.4]</th>\n",
       "      <th>NumberOfTimes_PastDue_bin_(29.4, 58.8]</th>\n",
       "      <th>NumberOfTimes_PastDue_bin_(58.8, 88.2]</th>\n",
       "      <th>NumberOfTimes_PastDue_bin_(88.2, 117.6]</th>\n",
       "      <th>NumberOfTimes_PastDue_bin_(117.6, 147.0]</th>\n",
       "      <th>NumberOfTimes_PastDue_bin_(147.0, 176.4]</th>\n",
       "      <th>NumberOfTimes_PastDue_bin_(176.4, 205.8]</th>\n",
       "      <th>NumberOfTimes_PastDue_bin_(205.8, 235.2]</th>\n",
       "      <th>NumberOfTimes_PastDue_bin_(235.2, 264.6]</th>\n",
       "      <th>NumberOfTimes_PastDue_bin_(264.6, 294.0]</th>\n",
       "      <th>NumberOfCredits_perPerson_bin_(-0.058, 5.8]</th>\n",
       "      <th>NumberOfCredits_perPerson_bin_(5.8, 11.6]</th>\n",
       "      <th>NumberOfCredits_perPerson_bin_(11.6, 17.4]</th>\n",
       "      <th>NumberOfCredits_perPerson_bin_(17.4, 23.2]</th>\n",
       "      <th>NumberOfCredits_perPerson_bin_(23.2, 29.0]</th>\n",
       "      <th>NumberOfCredits_perPerson_bin_(29.0, 34.8]</th>\n",
       "      <th>NumberOfCredits_perPerson_bin_(34.8, 40.6]</th>\n",
       "      <th>NumberOfCredits_perPerson_bin_(40.6, 46.4]</th>\n",
       "      <th>NumberOfCredits_perPerson_bin_(46.4, 52.2]</th>\n",
       "      <th>NumberOfCredits_perPerson_bin_(52.2, 58.0]</th>\n",
       "      <th>NumberRealEstate_perPerson_bin_(-0.054, 5.4]</th>\n",
       "      <th>NumberRealEstate_perPerson_bin_(5.4, 10.8]</th>\n",
       "      <th>NumberRealEstate_perPerson_bin_(10.8, 16.2]</th>\n",
       "      <th>NumberRealEstate_perPerson_bin_(16.2, 21.6]</th>\n",
       "      <th>NumberRealEstate_perPerson_bin_(21.6, 27.0]</th>\n",
       "      <th>NumberRealEstate_perPerson_bin_(27.0, 32.4]</th>\n",
       "      <th>NumberRealEstate_perPerson_bin_(32.4, 37.8]</th>\n",
       "      <th>NumberRealEstate_perPerson_bin_(37.8, 43.2]</th>\n",
       "      <th>NumberRealEstate_perPerson_bin_(43.2, 48.6]</th>\n",
       "      <th>NumberRealEstate_perPerson_bin_(48.6, 54.0]</th>\n",
       "      <th>MonthlyIncome_perPerson_bin_(-1794.06, 179406.0]</th>\n",
       "      <th>MonthlyIncome_perPerson_bin_(179406.0, 358812.0]</th>\n",
       "      <th>MonthlyIncome_perPerson_bin_(358812.0, 538218.0]</th>\n",
       "      <th>MonthlyIncome_perPerson_bin_(538218.0, 717624.0]</th>\n",
       "      <th>MonthlyIncome_perPerson_bin_(717624.0, 897030.0]</th>\n",
       "      <th>MonthlyIncome_perPerson_bin_(897030.0, 1076436.0]</th>\n",
       "      <th>MonthlyIncome_perPerson_bin_(1076436.0, 1255842.0]</th>\n",
       "      <th>MonthlyIncome_perPerson_bin_(1255842.0, 1435248.0]</th>\n",
       "      <th>MonthlyIncome_perPerson_bin_(1435248.0, 1614654.0]</th>\n",
       "      <th>MonthlyIncome_perPerson_bin_(1614654.0, 1794060.0]</th>\n",
       "    </tr>\n",
       "  </thead>\n",
       "  <tbody>\n",
       "    <tr>\n",
       "      <th>138986</th>\n",
       "      <td>-5.199338</td>\n",
       "      <td>-0.177827</td>\n",
       "      <td>-5.199338</td>\n",
       "      <td>-0.190277</td>\n",
       "      <td>0.182449</td>\n",
       "      <td>-0.625670</td>\n",
       "      <td>-5.199338</td>\n",
       "      <td>-5.199338</td>\n",
       "      <td>-5.199338</td>\n",
       "      <td>-5.199338</td>\n",
       "      <td>-5.199338</td>\n",
       "      <td>-0.554293</td>\n",
       "      <td>-0.003764</td>\n",
       "      <td>-5.199338</td>\n",
       "      <td>0.717958</td>\n",
       "      <td>1</td>\n",
       "      <td>0</td>\n",
       "      <td>1</td>\n",
       "      <td>0</td>\n",
       "      <td>1</td>\n",
       "      <td>0</td>\n",
       "      <td>0</td>\n",
       "      <td>1</td>\n",
       "      <td>0</td>\n",
       "      <td>1</td>\n",
       "      <td>0</td>\n",
       "      <td>1</td>\n",
       "      <td>1</td>\n",
       "      <td>0</td>\n",
       "      <td>1</td>\n",
       "      <td>0</td>\n",
       "      <td>1</td>\n",
       "      <td>0</td>\n",
       "      <td>1</td>\n",
       "      <td>0</td>\n",
       "      <td>0</td>\n",
       "      <td>1</td>\n",
       "      <td>1</td>\n",
       "      <td>0</td>\n",
       "      <td>1</td>\n",
       "      <td>0</td>\n",
       "      <td>0</td>\n",
       "      <td>0</td>\n",
       "      <td>0</td>\n",
       "      <td>1</td>\n",
       "      <td>0</td>\n",
       "      <td>0</td>\n",
       "      <td>0</td>\n",
       "      <td>0</td>\n",
       "      <td>0</td>\n",
       "      <td>0</td>\n",
       "      <td>1</td>\n",
       "      <td>0</td>\n",
       "      <td>0</td>\n",
       "      <td>0</td>\n",
       "      <td>0</td>\n",
       "      <td>0</td>\n",
       "      <td>0</td>\n",
       "      <td>0</td>\n",
       "      <td>0</td>\n",
       "      <td>0</td>\n",
       "      <td>0</td>\n",
       "      <td>0</td>\n",
       "      <td>0</td>\n",
       "      <td>0</td>\n",
       "      <td>1</td>\n",
       "      <td>0</td>\n",
       "      <td>0</td>\n",
       "      <td>0</td>\n",
       "      <td>0</td>\n",
       "      <td>0</td>\n",
       "      <td>0</td>\n",
       "      <td>0</td>\n",
       "      <td>0</td>\n",
       "      <td>0</td>\n",
       "      <td>1</td>\n",
       "      <td>0</td>\n",
       "      <td>0</td>\n",
       "      <td>0</td>\n",
       "      <td>0</td>\n",
       "      <td>0</td>\n",
       "      <td>0</td>\n",
       "      <td>0</td>\n",
       "      <td>0</td>\n",
       "      <td>0</td>\n",
       "      <td>1</td>\n",
       "      <td>0</td>\n",
       "      <td>0</td>\n",
       "      <td>0</td>\n",
       "      <td>0</td>\n",
       "      <td>0</td>\n",
       "      <td>0</td>\n",
       "      <td>0</td>\n",
       "      <td>0</td>\n",
       "      <td>0</td>\n",
       "      <td>1</td>\n",
       "      <td>0</td>\n",
       "      <td>0</td>\n",
       "      <td>0</td>\n",
       "      <td>0</td>\n",
       "      <td>0</td>\n",
       "      <td>0</td>\n",
       "      <td>0</td>\n",
       "      <td>0</td>\n",
       "      <td>0</td>\n",
       "      <td>1</td>\n",
       "      <td>0</td>\n",
       "      <td>0</td>\n",
       "      <td>0</td>\n",
       "      <td>0</td>\n",
       "      <td>0</td>\n",
       "      <td>0</td>\n",
       "      <td>0</td>\n",
       "      <td>0</td>\n",
       "      <td>0</td>\n",
       "      <td>1</td>\n",
       "      <td>0</td>\n",
       "      <td>0</td>\n",
       "      <td>0</td>\n",
       "      <td>0</td>\n",
       "      <td>0</td>\n",
       "      <td>0</td>\n",
       "      <td>0</td>\n",
       "      <td>0</td>\n",
       "      <td>0</td>\n",
       "    </tr>\n",
       "    <tr>\n",
       "      <th>63965</th>\n",
       "      <td>-0.632539</td>\n",
       "      <td>-0.965420</td>\n",
       "      <td>-5.199338</td>\n",
       "      <td>0.816043</td>\n",
       "      <td>-0.520661</td>\n",
       "      <td>-0.899534</td>\n",
       "      <td>-5.199338</td>\n",
       "      <td>0.120731</td>\n",
       "      <td>-5.199338</td>\n",
       "      <td>0.504922</td>\n",
       "      <td>-5.199338</td>\n",
       "      <td>-0.209325</td>\n",
       "      <td>-1.006211</td>\n",
       "      <td>0.013801</td>\n",
       "      <td>-0.733156</td>\n",
       "      <td>1</td>\n",
       "      <td>0</td>\n",
       "      <td>1</td>\n",
       "      <td>0</td>\n",
       "      <td>1</td>\n",
       "      <td>0</td>\n",
       "      <td>0</td>\n",
       "      <td>1</td>\n",
       "      <td>0</td>\n",
       "      <td>1</td>\n",
       "      <td>0</td>\n",
       "      <td>1</td>\n",
       "      <td>1</td>\n",
       "      <td>0</td>\n",
       "      <td>1</td>\n",
       "      <td>0</td>\n",
       "      <td>1</td>\n",
       "      <td>0</td>\n",
       "      <td>1</td>\n",
       "      <td>0</td>\n",
       "      <td>1</td>\n",
       "      <td>0</td>\n",
       "      <td>1</td>\n",
       "      <td>0</td>\n",
       "      <td>1</td>\n",
       "      <td>0</td>\n",
       "      <td>0</td>\n",
       "      <td>1</td>\n",
       "      <td>0</td>\n",
       "      <td>0</td>\n",
       "      <td>0</td>\n",
       "      <td>0</td>\n",
       "      <td>0</td>\n",
       "      <td>0</td>\n",
       "      <td>0</td>\n",
       "      <td>0</td>\n",
       "      <td>1</td>\n",
       "      <td>0</td>\n",
       "      <td>0</td>\n",
       "      <td>0</td>\n",
       "      <td>0</td>\n",
       "      <td>0</td>\n",
       "      <td>0</td>\n",
       "      <td>0</td>\n",
       "      <td>0</td>\n",
       "      <td>0</td>\n",
       "      <td>0</td>\n",
       "      <td>0</td>\n",
       "      <td>0</td>\n",
       "      <td>0</td>\n",
       "      <td>1</td>\n",
       "      <td>0</td>\n",
       "      <td>0</td>\n",
       "      <td>0</td>\n",
       "      <td>0</td>\n",
       "      <td>0</td>\n",
       "      <td>0</td>\n",
       "      <td>0</td>\n",
       "      <td>0</td>\n",
       "      <td>0</td>\n",
       "      <td>1</td>\n",
       "      <td>0</td>\n",
       "      <td>0</td>\n",
       "      <td>0</td>\n",
       "      <td>0</td>\n",
       "      <td>0</td>\n",
       "      <td>0</td>\n",
       "      <td>0</td>\n",
       "      <td>0</td>\n",
       "      <td>0</td>\n",
       "      <td>1</td>\n",
       "      <td>0</td>\n",
       "      <td>0</td>\n",
       "      <td>0</td>\n",
       "      <td>0</td>\n",
       "      <td>0</td>\n",
       "      <td>0</td>\n",
       "      <td>0</td>\n",
       "      <td>0</td>\n",
       "      <td>0</td>\n",
       "      <td>1</td>\n",
       "      <td>0</td>\n",
       "      <td>0</td>\n",
       "      <td>0</td>\n",
       "      <td>0</td>\n",
       "      <td>0</td>\n",
       "      <td>0</td>\n",
       "      <td>0</td>\n",
       "      <td>0</td>\n",
       "      <td>0</td>\n",
       "      <td>1</td>\n",
       "      <td>0</td>\n",
       "      <td>0</td>\n",
       "      <td>0</td>\n",
       "      <td>0</td>\n",
       "      <td>0</td>\n",
       "      <td>0</td>\n",
       "      <td>0</td>\n",
       "      <td>0</td>\n",
       "      <td>0</td>\n",
       "      <td>1</td>\n",
       "      <td>0</td>\n",
       "      <td>0</td>\n",
       "      <td>0</td>\n",
       "      <td>0</td>\n",
       "      <td>0</td>\n",
       "      <td>0</td>\n",
       "      <td>0</td>\n",
       "      <td>0</td>\n",
       "      <td>0</td>\n",
       "    </tr>\n",
       "    <tr>\n",
       "      <th>46078</th>\n",
       "      <td>-1.095336</td>\n",
       "      <td>-0.832006</td>\n",
       "      <td>-5.199338</td>\n",
       "      <td>1.610680</td>\n",
       "      <td>-0.346817</td>\n",
       "      <td>0.642543</td>\n",
       "      <td>-5.199338</td>\n",
       "      <td>0.120731</td>\n",
       "      <td>-5.199338</td>\n",
       "      <td>-5.199338</td>\n",
       "      <td>-5.199338</td>\n",
       "      <td>0.419736</td>\n",
       "      <td>1.050924</td>\n",
       "      <td>0.570161</td>\n",
       "      <td>0.188033</td>\n",
       "      <td>1</td>\n",
       "      <td>0</td>\n",
       "      <td>1</td>\n",
       "      <td>0</td>\n",
       "      <td>1</td>\n",
       "      <td>0</td>\n",
       "      <td>0</td>\n",
       "      <td>1</td>\n",
       "      <td>0</td>\n",
       "      <td>1</td>\n",
       "      <td>0</td>\n",
       "      <td>1</td>\n",
       "      <td>1</td>\n",
       "      <td>0</td>\n",
       "      <td>1</td>\n",
       "      <td>0</td>\n",
       "      <td>1</td>\n",
       "      <td>0</td>\n",
       "      <td>1</td>\n",
       "      <td>0</td>\n",
       "      <td>1</td>\n",
       "      <td>0</td>\n",
       "      <td>1</td>\n",
       "      <td>0</td>\n",
       "      <td>1</td>\n",
       "      <td>0</td>\n",
       "      <td>0</td>\n",
       "      <td>0</td>\n",
       "      <td>1</td>\n",
       "      <td>0</td>\n",
       "      <td>0</td>\n",
       "      <td>0</td>\n",
       "      <td>0</td>\n",
       "      <td>0</td>\n",
       "      <td>0</td>\n",
       "      <td>0</td>\n",
       "      <td>1</td>\n",
       "      <td>0</td>\n",
       "      <td>0</td>\n",
       "      <td>0</td>\n",
       "      <td>0</td>\n",
       "      <td>0</td>\n",
       "      <td>0</td>\n",
       "      <td>0</td>\n",
       "      <td>0</td>\n",
       "      <td>0</td>\n",
       "      <td>0</td>\n",
       "      <td>0</td>\n",
       "      <td>0</td>\n",
       "      <td>0</td>\n",
       "      <td>0</td>\n",
       "      <td>1</td>\n",
       "      <td>0</td>\n",
       "      <td>0</td>\n",
       "      <td>0</td>\n",
       "      <td>0</td>\n",
       "      <td>0</td>\n",
       "      <td>0</td>\n",
       "      <td>0</td>\n",
       "      <td>0</td>\n",
       "      <td>1</td>\n",
       "      <td>0</td>\n",
       "      <td>0</td>\n",
       "      <td>0</td>\n",
       "      <td>0</td>\n",
       "      <td>0</td>\n",
       "      <td>0</td>\n",
       "      <td>0</td>\n",
       "      <td>0</td>\n",
       "      <td>0</td>\n",
       "      <td>1</td>\n",
       "      <td>0</td>\n",
       "      <td>0</td>\n",
       "      <td>0</td>\n",
       "      <td>0</td>\n",
       "      <td>0</td>\n",
       "      <td>0</td>\n",
       "      <td>0</td>\n",
       "      <td>0</td>\n",
       "      <td>0</td>\n",
       "      <td>0</td>\n",
       "      <td>1</td>\n",
       "      <td>0</td>\n",
       "      <td>0</td>\n",
       "      <td>0</td>\n",
       "      <td>0</td>\n",
       "      <td>0</td>\n",
       "      <td>0</td>\n",
       "      <td>0</td>\n",
       "      <td>0</td>\n",
       "      <td>1</td>\n",
       "      <td>0</td>\n",
       "      <td>0</td>\n",
       "      <td>0</td>\n",
       "      <td>0</td>\n",
       "      <td>0</td>\n",
       "      <td>0</td>\n",
       "      <td>0</td>\n",
       "      <td>0</td>\n",
       "      <td>0</td>\n",
       "      <td>1</td>\n",
       "      <td>0</td>\n",
       "      <td>0</td>\n",
       "      <td>0</td>\n",
       "      <td>0</td>\n",
       "      <td>0</td>\n",
       "      <td>0</td>\n",
       "      <td>0</td>\n",
       "      <td>0</td>\n",
       "      <td>0</td>\n",
       "    </tr>\n",
       "    <tr>\n",
       "      <th>83031</th>\n",
       "      <td>0.691594</td>\n",
       "      <td>0.309743</td>\n",
       "      <td>-5.199338</td>\n",
       "      <td>0.455164</td>\n",
       "      <td>1.821977</td>\n",
       "      <td>1.116369</td>\n",
       "      <td>-5.199338</td>\n",
       "      <td>2.119668</td>\n",
       "      <td>-5.199338</td>\n",
       "      <td>-5.199338</td>\n",
       "      <td>-5.199338</td>\n",
       "      <td>1.466817</td>\n",
       "      <td>1.446104</td>\n",
       "      <td>2.365248</td>\n",
       "      <td>2.177493</td>\n",
       "      <td>1</td>\n",
       "      <td>0</td>\n",
       "      <td>1</td>\n",
       "      <td>0</td>\n",
       "      <td>1</td>\n",
       "      <td>0</td>\n",
       "      <td>0</td>\n",
       "      <td>1</td>\n",
       "      <td>0</td>\n",
       "      <td>1</td>\n",
       "      <td>0</td>\n",
       "      <td>1</td>\n",
       "      <td>1</td>\n",
       "      <td>0</td>\n",
       "      <td>1</td>\n",
       "      <td>0</td>\n",
       "      <td>1</td>\n",
       "      <td>0</td>\n",
       "      <td>1</td>\n",
       "      <td>0</td>\n",
       "      <td>1</td>\n",
       "      <td>0</td>\n",
       "      <td>1</td>\n",
       "      <td>0</td>\n",
       "      <td>1</td>\n",
       "      <td>0</td>\n",
       "      <td>0</td>\n",
       "      <td>0</td>\n",
       "      <td>0</td>\n",
       "      <td>0</td>\n",
       "      <td>1</td>\n",
       "      <td>0</td>\n",
       "      <td>0</td>\n",
       "      <td>0</td>\n",
       "      <td>0</td>\n",
       "      <td>0</td>\n",
       "      <td>1</td>\n",
       "      <td>0</td>\n",
       "      <td>0</td>\n",
       "      <td>0</td>\n",
       "      <td>0</td>\n",
       "      <td>0</td>\n",
       "      <td>0</td>\n",
       "      <td>0</td>\n",
       "      <td>0</td>\n",
       "      <td>0</td>\n",
       "      <td>0</td>\n",
       "      <td>0</td>\n",
       "      <td>0</td>\n",
       "      <td>0</td>\n",
       "      <td>0</td>\n",
       "      <td>0</td>\n",
       "      <td>1</td>\n",
       "      <td>0</td>\n",
       "      <td>0</td>\n",
       "      <td>0</td>\n",
       "      <td>0</td>\n",
       "      <td>0</td>\n",
       "      <td>0</td>\n",
       "      <td>0</td>\n",
       "      <td>1</td>\n",
       "      <td>0</td>\n",
       "      <td>0</td>\n",
       "      <td>0</td>\n",
       "      <td>0</td>\n",
       "      <td>0</td>\n",
       "      <td>0</td>\n",
       "      <td>0</td>\n",
       "      <td>0</td>\n",
       "      <td>0</td>\n",
       "      <td>1</td>\n",
       "      <td>0</td>\n",
       "      <td>0</td>\n",
       "      <td>0</td>\n",
       "      <td>0</td>\n",
       "      <td>0</td>\n",
       "      <td>0</td>\n",
       "      <td>0</td>\n",
       "      <td>0</td>\n",
       "      <td>0</td>\n",
       "      <td>0</td>\n",
       "      <td>0</td>\n",
       "      <td>1</td>\n",
       "      <td>0</td>\n",
       "      <td>0</td>\n",
       "      <td>0</td>\n",
       "      <td>0</td>\n",
       "      <td>0</td>\n",
       "      <td>0</td>\n",
       "      <td>0</td>\n",
       "      <td>1</td>\n",
       "      <td>0</td>\n",
       "      <td>0</td>\n",
       "      <td>0</td>\n",
       "      <td>0</td>\n",
       "      <td>0</td>\n",
       "      <td>0</td>\n",
       "      <td>0</td>\n",
       "      <td>0</td>\n",
       "      <td>0</td>\n",
       "      <td>1</td>\n",
       "      <td>0</td>\n",
       "      <td>0</td>\n",
       "      <td>0</td>\n",
       "      <td>0</td>\n",
       "      <td>0</td>\n",
       "      <td>0</td>\n",
       "      <td>0</td>\n",
       "      <td>0</td>\n",
       "      <td>0</td>\n",
       "    </tr>\n",
       "    <tr>\n",
       "      <th>11185</th>\n",
       "      <td>0.749743</td>\n",
       "      <td>-1.102440</td>\n",
       "      <td>-5.199338</td>\n",
       "      <td>1.177582</td>\n",
       "      <td>0.493553</td>\n",
       "      <td>0.278302</td>\n",
       "      <td>-5.199338</td>\n",
       "      <td>1.689670</td>\n",
       "      <td>-5.199338</td>\n",
       "      <td>0.504922</td>\n",
       "      <td>-5.199338</td>\n",
       "      <td>0.983058</td>\n",
       "      <td>-0.124523</td>\n",
       "      <td>1.035790</td>\n",
       "      <td>0.161281</td>\n",
       "      <td>1</td>\n",
       "      <td>0</td>\n",
       "      <td>1</td>\n",
       "      <td>0</td>\n",
       "      <td>1</td>\n",
       "      <td>0</td>\n",
       "      <td>0</td>\n",
       "      <td>1</td>\n",
       "      <td>0</td>\n",
       "      <td>1</td>\n",
       "      <td>0</td>\n",
       "      <td>1</td>\n",
       "      <td>1</td>\n",
       "      <td>0</td>\n",
       "      <td>1</td>\n",
       "      <td>0</td>\n",
       "      <td>1</td>\n",
       "      <td>0</td>\n",
       "      <td>1</td>\n",
       "      <td>0</td>\n",
       "      <td>1</td>\n",
       "      <td>0</td>\n",
       "      <td>1</td>\n",
       "      <td>0</td>\n",
       "      <td>1</td>\n",
       "      <td>0</td>\n",
       "      <td>0</td>\n",
       "      <td>1</td>\n",
       "      <td>0</td>\n",
       "      <td>0</td>\n",
       "      <td>0</td>\n",
       "      <td>0</td>\n",
       "      <td>0</td>\n",
       "      <td>0</td>\n",
       "      <td>0</td>\n",
       "      <td>0</td>\n",
       "      <td>1</td>\n",
       "      <td>0</td>\n",
       "      <td>0</td>\n",
       "      <td>0</td>\n",
       "      <td>0</td>\n",
       "      <td>0</td>\n",
       "      <td>0</td>\n",
       "      <td>0</td>\n",
       "      <td>0</td>\n",
       "      <td>0</td>\n",
       "      <td>0</td>\n",
       "      <td>0</td>\n",
       "      <td>0</td>\n",
       "      <td>0</td>\n",
       "      <td>0</td>\n",
       "      <td>1</td>\n",
       "      <td>0</td>\n",
       "      <td>0</td>\n",
       "      <td>0</td>\n",
       "      <td>0</td>\n",
       "      <td>0</td>\n",
       "      <td>0</td>\n",
       "      <td>0</td>\n",
       "      <td>0</td>\n",
       "      <td>1</td>\n",
       "      <td>0</td>\n",
       "      <td>0</td>\n",
       "      <td>0</td>\n",
       "      <td>0</td>\n",
       "      <td>0</td>\n",
       "      <td>0</td>\n",
       "      <td>0</td>\n",
       "      <td>0</td>\n",
       "      <td>0</td>\n",
       "      <td>1</td>\n",
       "      <td>0</td>\n",
       "      <td>0</td>\n",
       "      <td>0</td>\n",
       "      <td>0</td>\n",
       "      <td>0</td>\n",
       "      <td>0</td>\n",
       "      <td>0</td>\n",
       "      <td>0</td>\n",
       "      <td>0</td>\n",
       "      <td>1</td>\n",
       "      <td>0</td>\n",
       "      <td>0</td>\n",
       "      <td>0</td>\n",
       "      <td>0</td>\n",
       "      <td>0</td>\n",
       "      <td>0</td>\n",
       "      <td>0</td>\n",
       "      <td>0</td>\n",
       "      <td>0</td>\n",
       "      <td>1</td>\n",
       "      <td>0</td>\n",
       "      <td>0</td>\n",
       "      <td>0</td>\n",
       "      <td>0</td>\n",
       "      <td>0</td>\n",
       "      <td>0</td>\n",
       "      <td>0</td>\n",
       "      <td>0</td>\n",
       "      <td>0</td>\n",
       "      <td>1</td>\n",
       "      <td>0</td>\n",
       "      <td>0</td>\n",
       "      <td>0</td>\n",
       "      <td>0</td>\n",
       "      <td>0</td>\n",
       "      <td>0</td>\n",
       "      <td>0</td>\n",
       "      <td>0</td>\n",
       "      <td>0</td>\n",
       "    </tr>\n",
       "  </tbody>\n",
       "</table>\n",
       "</div>"
      ],
      "text/plain": [
       "        RevolvingUtilizationOfUnsecuredLines       age  \\\n",
       "138986                             -5.199338 -0.177827   \n",
       "63965                              -0.632539 -0.965420   \n",
       "46078                              -1.095336 -0.832006   \n",
       "83031                               0.691594  0.309743   \n",
       "11185                               0.749743 -1.102440   \n",
       "\n",
       "        NumberOfTime30_59DaysPastDueNotWorse  DebtRatio  MonthlyIncome  \\\n",
       "138986                             -5.199338  -0.190277       0.182449   \n",
       "63965                              -5.199338   0.816043      -0.520661   \n",
       "46078                              -5.199338   1.610680      -0.346817   \n",
       "83031                              -5.199338   0.455164       1.821977   \n",
       "11185                              -5.199338   1.177582       0.493553   \n",
       "\n",
       "        NumberOfOpenCreditLinesAndLoans  NumberOfTimes90DaysLate  \\\n",
       "138986                        -0.625670                -5.199338   \n",
       "63965                         -0.899534                -5.199338   \n",
       "46078                          0.642543                -5.199338   \n",
       "83031                          1.116369                -5.199338   \n",
       "11185                          0.278302                -5.199338   \n",
       "\n",
       "        NumberRealEstateLoansOrLines  NumberOfTime60_89DaysPastDueNotWorse  \\\n",
       "138986                     -5.199338                             -5.199338   \n",
       "63965                       0.120731                             -5.199338   \n",
       "46078                       0.120731                             -5.199338   \n",
       "83031                       2.119668                             -5.199338   \n",
       "11185                       1.689670                             -5.199338   \n",
       "\n",
       "        NumberOfDependents  NumberOfTimes_PastDue  MonthlyPayment  \\\n",
       "138986           -5.199338              -5.199338       -0.554293   \n",
       "63965             0.504922              -5.199338       -0.209325   \n",
       "46078            -5.199338              -5.199338        0.419736   \n",
       "83031            -5.199338              -5.199338        1.466817   \n",
       "11185             0.504922              -5.199338        0.983058   \n",
       "\n",
       "        NumberOfCredits_perPerson  NumberRealEstate_perPerson  \\\n",
       "138986                  -0.003764                   -5.199338   \n",
       "63965                   -1.006211                    0.013801   \n",
       "46078                    1.050924                    0.570161   \n",
       "83031                    1.446104                    2.365248   \n",
       "11185                   -0.124523                    1.035790   \n",
       "\n",
       "        MonthlyIncome_perPerson  NumberOfTimesLate_high_0  \\\n",
       "138986                 0.717958                         1   \n",
       "63965                 -0.733156                         1   \n",
       "46078                  0.188033                         1   \n",
       "83031                  2.177493                         1   \n",
       "11185                  0.161281                         1   \n",
       "\n",
       "        NumberOfTimesLate_high_1  NumberOfTimesLate_96_0  \\\n",
       "138986                         0                       1   \n",
       "63965                          0                       1   \n",
       "46078                          0                       1   \n",
       "83031                          0                       1   \n",
       "11185                          0                       1   \n",
       "\n",
       "        NumberOfTimesLate_96_1  NumberOfTimesLate_98_0  \\\n",
       "138986                       0                       1   \n",
       "63965                        0                       1   \n",
       "46078                        0                       1   \n",
       "83031                        0                       1   \n",
       "11185                        0                       1   \n",
       "\n",
       "        NumberOfTimesLate_98_1  NumberOfTime30_59Days_none_0  \\\n",
       "138986                       0                             0   \n",
       "63965                        0                             0   \n",
       "46078                        0                             0   \n",
       "83031                        0                             0   \n",
       "11185                        0                             0   \n",
       "\n",
       "        NumberOfTime30_59Days_none_1  NumberOfTimes90Days_none_0  \\\n",
       "138986                             1                           0   \n",
       "63965                              1                           0   \n",
       "46078                              1                           0   \n",
       "83031                              1                           0   \n",
       "11185                              1                           0   \n",
       "\n",
       "        NumberOfTimes90Days_none_1  NumberOfTime60_89Days_none_0  \\\n",
       "138986                           1                             0   \n",
       "63965                            1                             0   \n",
       "46078                            1                             0   \n",
       "83031                            1                             0   \n",
       "11185                            1                             0   \n",
       "\n",
       "        NumberOfTime60_89Days_none_1  MonthlyIncome_none_0  \\\n",
       "138986                             1                     1   \n",
       "63965                              1                     1   \n",
       "46078                              1                     1   \n",
       "83031                              1                     1   \n",
       "11185                              1                     1   \n",
       "\n",
       "        MonthlyIncome_none_1  MonthlyIncome_zero_0  MonthlyIncome_zero_1  \\\n",
       "138986                     0                     1                     0   \n",
       "63965                      0                     1                     0   \n",
       "46078                      0                     1                     0   \n",
       "83031                      0                     1                     0   \n",
       "11185                      0                     1                     0   \n",
       "\n",
       "        DebtRatio_zero_0  DebtRatio_zero_1  RUUL_high_0  RUUL_high_1  \\\n",
       "138986                 1                 0            1            0   \n",
       "63965                  1                 0            1            0   \n",
       "46078                  1                 0            1            0   \n",
       "83031                  1                 0            1            0   \n",
       "11185                  1                 0            1            0   \n",
       "\n",
       "        RUUL_zero_0  RUUL_zero_1  RUUL_ones_0  RUUL_ones_1  \\\n",
       "138986            0            1            1            0   \n",
       "63965             1            0            1            0   \n",
       "46078             1            0            1            0   \n",
       "83031             1            0            1            0   \n",
       "11185             1            0            1            0   \n",
       "\n",
       "        NumberOfDependents_none_0  NumberOfDependents_none_1  \\\n",
       "138986                          1                          0   \n",
       "63965                           1                          0   \n",
       "46078                           1                          0   \n",
       "83031                           1                          0   \n",
       "11185                           1                          0   \n",
       "\n",
       "        age_bin_(20.912, 29.8]  age_bin_(29.8, 38.6]  age_bin_(38.6, 47.4]  \\\n",
       "138986                       0                     0                     0   \n",
       "63965                        0                     1                     0   \n",
       "46078                        0                     0                     1   \n",
       "83031                        0                     0                     0   \n",
       "11185                        0                     1                     0   \n",
       "\n",
       "        age_bin_(47.4, 56.2]  age_bin_(56.2, 65.0]  age_bin_(65.0, 73.8]  \\\n",
       "138986                     1                     0                     0   \n",
       "63965                      0                     0                     0   \n",
       "46078                      0                     0                     0   \n",
       "83031                      0                     1                     0   \n",
       "11185                      0                     0                     0   \n",
       "\n",
       "        age_bin_(73.8, 82.6]  age_bin_(82.6, 91.4]  age_bin_(91.4, 100.2]  \\\n",
       "138986                     0                     0                      0   \n",
       "63965                      0                     0                      0   \n",
       "46078                      0                     0                      0   \n",
       "83031                      0                     0                      0   \n",
       "11185                      0                     0                      0   \n",
       "\n",
       "        age_bin_(100.2, 109.0]  MonthlyIncome_bin_(-1794.06, 128147.143]  \\\n",
       "138986                       0                                         1   \n",
       "63965                        0                                         1   \n",
       "46078                        0                                         1   \n",
       "83031                        0                                         1   \n",
       "11185                        0                                         1   \n",
       "\n",
       "        MonthlyIncome_bin_(128147.143, 256294.286]  \\\n",
       "138986                                           0   \n",
       "63965                                            0   \n",
       "46078                                            0   \n",
       "83031                                            0   \n",
       "11185                                            0   \n",
       "\n",
       "        MonthlyIncome_bin_(256294.286, 384441.429]  \\\n",
       "138986                                           0   \n",
       "63965                                            0   \n",
       "46078                                            0   \n",
       "83031                                            0   \n",
       "11185                                            0   \n",
       "\n",
       "        MonthlyIncome_bin_(384441.429, 512588.571]  \\\n",
       "138986                                           0   \n",
       "63965                                            0   \n",
       "46078                                            0   \n",
       "83031                                            0   \n",
       "11185                                            0   \n",
       "\n",
       "        MonthlyIncome_bin_(512588.571, 640735.714]  \\\n",
       "138986                                           0   \n",
       "63965                                            0   \n",
       "46078                                            0   \n",
       "83031                                            0   \n",
       "11185                                            0   \n",
       "\n",
       "        MonthlyIncome_bin_(640735.714, 768882.857]  \\\n",
       "138986                                           0   \n",
       "63965                                            0   \n",
       "46078                                            0   \n",
       "83031                                            0   \n",
       "11185                                            0   \n",
       "\n",
       "        MonthlyIncome_bin_(768882.857, 897030.0]  \\\n",
       "138986                                         0   \n",
       "63965                                          0   \n",
       "46078                                          0   \n",
       "83031                                          0   \n",
       "11185                                          0   \n",
       "\n",
       "        MonthlyIncome_bin_(897030.0, 1025177.143]  \\\n",
       "138986                                          0   \n",
       "63965                                           0   \n",
       "46078                                           0   \n",
       "83031                                           0   \n",
       "11185                                           0   \n",
       "\n",
       "        MonthlyIncome_bin_(1025177.143, 1153324.286]  \\\n",
       "138986                                             0   \n",
       "63965                                              0   \n",
       "46078                                              0   \n",
       "83031                                              0   \n",
       "11185                                              0   \n",
       "\n",
       "        MonthlyIncome_bin_(1153324.286, 1281471.429]  \\\n",
       "138986                                             0   \n",
       "63965                                              0   \n",
       "46078                                              0   \n",
       "83031                                              0   \n",
       "11185                                              0   \n",
       "\n",
       "        MonthlyIncome_bin_(1281471.429, 1409618.571]  \\\n",
       "138986                                             0   \n",
       "63965                                              0   \n",
       "46078                                              0   \n",
       "83031                                              0   \n",
       "11185                                              0   \n",
       "\n",
       "        MonthlyIncome_bin_(1409618.571, 1537765.714]  \\\n",
       "138986                                             0   \n",
       "63965                                              0   \n",
       "46078                                              0   \n",
       "83031                                              0   \n",
       "11185                                              0   \n",
       "\n",
       "        MonthlyIncome_bin_(1537765.714, 1665912.857]  \\\n",
       "138986                                             0   \n",
       "63965                                              0   \n",
       "46078                                              0   \n",
       "83031                                              0   \n",
       "11185                                              0   \n",
       "\n",
       "        MonthlyIncome_bin_(1665912.857, 1794060.0]  \\\n",
       "138986                                           0   \n",
       "63965                                            0   \n",
       "46078                                            0   \n",
       "83031                                            0   \n",
       "11185                                            0   \n",
       "\n",
       "        NumberOfOpenCreditLinesAndLoans_bin_(-0.058, 5.8]  \\\n",
       "138986                                                  1   \n",
       "63965                                                   1   \n",
       "46078                                                   0   \n",
       "83031                                                   0   \n",
       "11185                                                   0   \n",
       "\n",
       "        NumberOfOpenCreditLinesAndLoans_bin_(5.8, 11.6]  \\\n",
       "138986                                                0   \n",
       "63965                                                 0   \n",
       "46078                                                 1   \n",
       "83031                                                 0   \n",
       "11185                                                 1   \n",
       "\n",
       "        NumberOfOpenCreditLinesAndLoans_bin_(11.6, 17.4]  \\\n",
       "138986                                                 0   \n",
       "63965                                                  0   \n",
       "46078                                                  0   \n",
       "83031                                                  1   \n",
       "11185                                                  0   \n",
       "\n",
       "        NumberOfOpenCreditLinesAndLoans_bin_(17.4, 23.2]  \\\n",
       "138986                                                 0   \n",
       "63965                                                  0   \n",
       "46078                                                  0   \n",
       "83031                                                  0   \n",
       "11185                                                  0   \n",
       "\n",
       "        NumberOfOpenCreditLinesAndLoans_bin_(23.2, 29.0]  \\\n",
       "138986                                                 0   \n",
       "63965                                                  0   \n",
       "46078                                                  0   \n",
       "83031                                                  0   \n",
       "11185                                                  0   \n",
       "\n",
       "        NumberOfOpenCreditLinesAndLoans_bin_(29.0, 34.8]  \\\n",
       "138986                                                 0   \n",
       "63965                                                  0   \n",
       "46078                                                  0   \n",
       "83031                                                  0   \n",
       "11185                                                  0   \n",
       "\n",
       "        NumberOfOpenCreditLinesAndLoans_bin_(34.8, 40.6]  \\\n",
       "138986                                                 0   \n",
       "63965                                                  0   \n",
       "46078                                                  0   \n",
       "83031                                                  0   \n",
       "11185                                                  0   \n",
       "\n",
       "        NumberOfOpenCreditLinesAndLoans_bin_(40.6, 46.4]  \\\n",
       "138986                                                 0   \n",
       "63965                                                  0   \n",
       "46078                                                  0   \n",
       "83031                                                  0   \n",
       "11185                                                  0   \n",
       "\n",
       "        NumberOfOpenCreditLinesAndLoans_bin_(46.4, 52.2]  \\\n",
       "138986                                                 0   \n",
       "63965                                                  0   \n",
       "46078                                                  0   \n",
       "83031                                                  0   \n",
       "11185                                                  0   \n",
       "\n",
       "        NumberOfOpenCreditLinesAndLoans_bin_(52.2, 58.0]  \\\n",
       "138986                                                 0   \n",
       "63965                                                  0   \n",
       "46078                                                  0   \n",
       "83031                                                  0   \n",
       "11185                                                  0   \n",
       "\n",
       "        NumberRealEstateLoansOrLines_bin_(-0.054, 5.4]  \\\n",
       "138986                                               1   \n",
       "63965                                                1   \n",
       "46078                                                1   \n",
       "83031                                                1   \n",
       "11185                                                1   \n",
       "\n",
       "        NumberRealEstateLoansOrLines_bin_(5.4, 10.8]  \\\n",
       "138986                                             0   \n",
       "63965                                              0   \n",
       "46078                                              0   \n",
       "83031                                              0   \n",
       "11185                                              0   \n",
       "\n",
       "        NumberRealEstateLoansOrLines_bin_(10.8, 16.2]  \\\n",
       "138986                                              0   \n",
       "63965                                               0   \n",
       "46078                                               0   \n",
       "83031                                               0   \n",
       "11185                                               0   \n",
       "\n",
       "        NumberRealEstateLoansOrLines_bin_(16.2, 21.6]  \\\n",
       "138986                                              0   \n",
       "63965                                               0   \n",
       "46078                                               0   \n",
       "83031                                               0   \n",
       "11185                                               0   \n",
       "\n",
       "        NumberRealEstateLoansOrLines_bin_(21.6, 27.0]  \\\n",
       "138986                                              0   \n",
       "63965                                               0   \n",
       "46078                                               0   \n",
       "83031                                               0   \n",
       "11185                                               0   \n",
       "\n",
       "        NumberRealEstateLoansOrLines_bin_(27.0, 32.4]  \\\n",
       "138986                                              0   \n",
       "63965                                               0   \n",
       "46078                                               0   \n",
       "83031                                               0   \n",
       "11185                                               0   \n",
       "\n",
       "        NumberRealEstateLoansOrLines_bin_(32.4, 37.8]  \\\n",
       "138986                                              0   \n",
       "63965                                               0   \n",
       "46078                                               0   \n",
       "83031                                               0   \n",
       "11185                                               0   \n",
       "\n",
       "        NumberRealEstateLoansOrLines_bin_(37.8, 43.2]  \\\n",
       "138986                                              0   \n",
       "63965                                               0   \n",
       "46078                                               0   \n",
       "83031                                               0   \n",
       "11185                                               0   \n",
       "\n",
       "        NumberRealEstateLoansOrLines_bin_(43.2, 48.6]  \\\n",
       "138986                                              0   \n",
       "63965                                               0   \n",
       "46078                                               0   \n",
       "83031                                               0   \n",
       "11185                                               0   \n",
       "\n",
       "        NumberRealEstateLoansOrLines_bin_(48.6, 54.0]  \\\n",
       "138986                                              0   \n",
       "63965                                               0   \n",
       "46078                                               0   \n",
       "83031                                               0   \n",
       "11185                                               0   \n",
       "\n",
       "        NumberOfTimes_PastDue_bin_(-0.294, 29.4]  \\\n",
       "138986                                         1   \n",
       "63965                                          1   \n",
       "46078                                          1   \n",
       "83031                                          1   \n",
       "11185                                          1   \n",
       "\n",
       "        NumberOfTimes_PastDue_bin_(29.4, 58.8]  \\\n",
       "138986                                       0   \n",
       "63965                                        0   \n",
       "46078                                        0   \n",
       "83031                                        0   \n",
       "11185                                        0   \n",
       "\n",
       "        NumberOfTimes_PastDue_bin_(58.8, 88.2]  \\\n",
       "138986                                       0   \n",
       "63965                                        0   \n",
       "46078                                        0   \n",
       "83031                                        0   \n",
       "11185                                        0   \n",
       "\n",
       "        NumberOfTimes_PastDue_bin_(88.2, 117.6]  \\\n",
       "138986                                        0   \n",
       "63965                                         0   \n",
       "46078                                         0   \n",
       "83031                                         0   \n",
       "11185                                         0   \n",
       "\n",
       "        NumberOfTimes_PastDue_bin_(117.6, 147.0]  \\\n",
       "138986                                         0   \n",
       "63965                                          0   \n",
       "46078                                          0   \n",
       "83031                                          0   \n",
       "11185                                          0   \n",
       "\n",
       "        NumberOfTimes_PastDue_bin_(147.0, 176.4]  \\\n",
       "138986                                         0   \n",
       "63965                                          0   \n",
       "46078                                          0   \n",
       "83031                                          0   \n",
       "11185                                          0   \n",
       "\n",
       "        NumberOfTimes_PastDue_bin_(176.4, 205.8]  \\\n",
       "138986                                         0   \n",
       "63965                                          0   \n",
       "46078                                          0   \n",
       "83031                                          0   \n",
       "11185                                          0   \n",
       "\n",
       "        NumberOfTimes_PastDue_bin_(205.8, 235.2]  \\\n",
       "138986                                         0   \n",
       "63965                                          0   \n",
       "46078                                          0   \n",
       "83031                                          0   \n",
       "11185                                          0   \n",
       "\n",
       "        NumberOfTimes_PastDue_bin_(235.2, 264.6]  \\\n",
       "138986                                         0   \n",
       "63965                                          0   \n",
       "46078                                          0   \n",
       "83031                                          0   \n",
       "11185                                          0   \n",
       "\n",
       "        NumberOfTimes_PastDue_bin_(264.6, 294.0]  \\\n",
       "138986                                         0   \n",
       "63965                                          0   \n",
       "46078                                          0   \n",
       "83031                                          0   \n",
       "11185                                          0   \n",
       "\n",
       "        NumberOfCredits_perPerson_bin_(-0.058, 5.8]  \\\n",
       "138986                                            1   \n",
       "63965                                             1   \n",
       "46078                                             0   \n",
       "83031                                             0   \n",
       "11185                                             1   \n",
       "\n",
       "        NumberOfCredits_perPerson_bin_(5.8, 11.6]  \\\n",
       "138986                                          0   \n",
       "63965                                           0   \n",
       "46078                                           1   \n",
       "83031                                           0   \n",
       "11185                                           0   \n",
       "\n",
       "        NumberOfCredits_perPerson_bin_(11.6, 17.4]  \\\n",
       "138986                                           0   \n",
       "63965                                            0   \n",
       "46078                                            0   \n",
       "83031                                            1   \n",
       "11185                                            0   \n",
       "\n",
       "        NumberOfCredits_perPerson_bin_(17.4, 23.2]  \\\n",
       "138986                                           0   \n",
       "63965                                            0   \n",
       "46078                                            0   \n",
       "83031                                            0   \n",
       "11185                                            0   \n",
       "\n",
       "        NumberOfCredits_perPerson_bin_(23.2, 29.0]  \\\n",
       "138986                                           0   \n",
       "63965                                            0   \n",
       "46078                                            0   \n",
       "83031                                            0   \n",
       "11185                                            0   \n",
       "\n",
       "        NumberOfCredits_perPerson_bin_(29.0, 34.8]  \\\n",
       "138986                                           0   \n",
       "63965                                            0   \n",
       "46078                                            0   \n",
       "83031                                            0   \n",
       "11185                                            0   \n",
       "\n",
       "        NumberOfCredits_perPerson_bin_(34.8, 40.6]  \\\n",
       "138986                                           0   \n",
       "63965                                            0   \n",
       "46078                                            0   \n",
       "83031                                            0   \n",
       "11185                                            0   \n",
       "\n",
       "        NumberOfCredits_perPerson_bin_(40.6, 46.4]  \\\n",
       "138986                                           0   \n",
       "63965                                            0   \n",
       "46078                                            0   \n",
       "83031                                            0   \n",
       "11185                                            0   \n",
       "\n",
       "        NumberOfCredits_perPerson_bin_(46.4, 52.2]  \\\n",
       "138986                                           0   \n",
       "63965                                            0   \n",
       "46078                                            0   \n",
       "83031                                            0   \n",
       "11185                                            0   \n",
       "\n",
       "        NumberOfCredits_perPerson_bin_(52.2, 58.0]  \\\n",
       "138986                                           0   \n",
       "63965                                            0   \n",
       "46078                                            0   \n",
       "83031                                            0   \n",
       "11185                                            0   \n",
       "\n",
       "        NumberRealEstate_perPerson_bin_(-0.054, 5.4]  \\\n",
       "138986                                             1   \n",
       "63965                                              1   \n",
       "46078                                              1   \n",
       "83031                                              1   \n",
       "11185                                              1   \n",
       "\n",
       "        NumberRealEstate_perPerson_bin_(5.4, 10.8]  \\\n",
       "138986                                           0   \n",
       "63965                                            0   \n",
       "46078                                            0   \n",
       "83031                                            0   \n",
       "11185                                            0   \n",
       "\n",
       "        NumberRealEstate_perPerson_bin_(10.8, 16.2]  \\\n",
       "138986                                            0   \n",
       "63965                                             0   \n",
       "46078                                             0   \n",
       "83031                                             0   \n",
       "11185                                             0   \n",
       "\n",
       "        NumberRealEstate_perPerson_bin_(16.2, 21.6]  \\\n",
       "138986                                            0   \n",
       "63965                                             0   \n",
       "46078                                             0   \n",
       "83031                                             0   \n",
       "11185                                             0   \n",
       "\n",
       "        NumberRealEstate_perPerson_bin_(21.6, 27.0]  \\\n",
       "138986                                            0   \n",
       "63965                                             0   \n",
       "46078                                             0   \n",
       "83031                                             0   \n",
       "11185                                             0   \n",
       "\n",
       "        NumberRealEstate_perPerson_bin_(27.0, 32.4]  \\\n",
       "138986                                            0   \n",
       "63965                                             0   \n",
       "46078                                             0   \n",
       "83031                                             0   \n",
       "11185                                             0   \n",
       "\n",
       "        NumberRealEstate_perPerson_bin_(32.4, 37.8]  \\\n",
       "138986                                            0   \n",
       "63965                                             0   \n",
       "46078                                             0   \n",
       "83031                                             0   \n",
       "11185                                             0   \n",
       "\n",
       "        NumberRealEstate_perPerson_bin_(37.8, 43.2]  \\\n",
       "138986                                            0   \n",
       "63965                                             0   \n",
       "46078                                             0   \n",
       "83031                                             0   \n",
       "11185                                             0   \n",
       "\n",
       "        NumberRealEstate_perPerson_bin_(43.2, 48.6]  \\\n",
       "138986                                            0   \n",
       "63965                                             0   \n",
       "46078                                             0   \n",
       "83031                                             0   \n",
       "11185                                             0   \n",
       "\n",
       "        NumberRealEstate_perPerson_bin_(48.6, 54.0]  \\\n",
       "138986                                            0   \n",
       "63965                                             0   \n",
       "46078                                             0   \n",
       "83031                                             0   \n",
       "11185                                             0   \n",
       "\n",
       "        MonthlyIncome_perPerson_bin_(-1794.06, 179406.0]  \\\n",
       "138986                                                 1   \n",
       "63965                                                  1   \n",
       "46078                                                  1   \n",
       "83031                                                  1   \n",
       "11185                                                  1   \n",
       "\n",
       "        MonthlyIncome_perPerson_bin_(179406.0, 358812.0]  \\\n",
       "138986                                                 0   \n",
       "63965                                                  0   \n",
       "46078                                                  0   \n",
       "83031                                                  0   \n",
       "11185                                                  0   \n",
       "\n",
       "        MonthlyIncome_perPerson_bin_(358812.0, 538218.0]  \\\n",
       "138986                                                 0   \n",
       "63965                                                  0   \n",
       "46078                                                  0   \n",
       "83031                                                  0   \n",
       "11185                                                  0   \n",
       "\n",
       "        MonthlyIncome_perPerson_bin_(538218.0, 717624.0]  \\\n",
       "138986                                                 0   \n",
       "63965                                                  0   \n",
       "46078                                                  0   \n",
       "83031                                                  0   \n",
       "11185                                                  0   \n",
       "\n",
       "        MonthlyIncome_perPerson_bin_(717624.0, 897030.0]  \\\n",
       "138986                                                 0   \n",
       "63965                                                  0   \n",
       "46078                                                  0   \n",
       "83031                                                  0   \n",
       "11185                                                  0   \n",
       "\n",
       "        MonthlyIncome_perPerson_bin_(897030.0, 1076436.0]  \\\n",
       "138986                                                  0   \n",
       "63965                                                   0   \n",
       "46078                                                   0   \n",
       "83031                                                   0   \n",
       "11185                                                   0   \n",
       "\n",
       "        MonthlyIncome_perPerson_bin_(1076436.0, 1255842.0]  \\\n",
       "138986                                                  0    \n",
       "63965                                                   0    \n",
       "46078                                                   0    \n",
       "83031                                                   0    \n",
       "11185                                                   0    \n",
       "\n",
       "        MonthlyIncome_perPerson_bin_(1255842.0, 1435248.0]  \\\n",
       "138986                                                  0    \n",
       "63965                                                   0    \n",
       "46078                                                   0    \n",
       "83031                                                   0    \n",
       "11185                                                   0    \n",
       "\n",
       "        MonthlyIncome_perPerson_bin_(1435248.0, 1614654.0]  \\\n",
       "138986                                                  0    \n",
       "63965                                                   0    \n",
       "46078                                                   0    \n",
       "83031                                                   0    \n",
       "11185                                                   0    \n",
       "\n",
       "        MonthlyIncome_perPerson_bin_(1614654.0, 1794060.0]  \n",
       "138986                                                  0   \n",
       "63965                                                   0   \n",
       "46078                                                   0   \n",
       "83031                                                   0   \n",
       "11185                                                   0   "
      ]
     },
     "execution_count": 759,
     "metadata": {},
     "output_type": "execute_result"
    }
   ],
   "source": [
    "X_train_plus.shape\n",
    "X_train_plus.head()"
   ]
  },
  {
   "cell_type": "markdown",
   "metadata": {},
   "source": [
    "**LogisticRegression**"
   ]
  },
  {
   "cell_type": "code",
   "execution_count": 760,
   "metadata": {},
   "outputs": [
    {
     "name": "stdout",
     "output_type": "stream",
     "text": [
      "Wall time: 24 s\n"
     ]
    },
    {
     "data": {
      "text/plain": [
       "LogisticRegression(C=1.0, class_weight='balanced', dual=False,\n",
       "                   fit_intercept=True, intercept_scaling=1, l1_ratio=None,\n",
       "                   max_iter=100, multi_class='auto', n_jobs=-1, penalty='l2',\n",
       "                   random_state=None, solver='lbfgs', tol=0.0001, verbose=0,\n",
       "                   warm_start=False)"
      ]
     },
     "execution_count": 760,
     "metadata": {},
     "output_type": "execute_result"
    }
   ],
   "source": [
    "%%time\n",
    "logit_plus = LogisticRegression(class_weight='balanced', n_jobs=-1)\n",
    "logit_plus.fit(X_train_plus, y_tr)"
   ]
  },
  {
   "cell_type": "code",
   "execution_count": 761,
   "metadata": {},
   "outputs": [
    {
     "name": "stdout",
     "output_type": "stream",
     "text": [
      "Значения правильности перекрестной проверки после подбора параметра 'C' LogisticRegression: [0.86679636 0.85834321 0.85669847 0.85081793 0.84309331 0.84781198\n",
      " 0.87521248 0.85413399 0.86237074 0.85530712]\n",
      "Wall time: 3min 32s\n"
     ]
    },
    {
     "data": {
      "text/plain": [
       "0.8570585600450281"
      ]
     },
     "execution_count": 761,
     "metadata": {},
     "output_type": "execute_result"
    }
   ],
   "source": [
    "%%time\n",
    "scores_logit_plus = cross_val_score(logit_plus, X_train_plus, y_tr, \n",
    "                                   scoring='roc_auc', cv=skf)\n",
    "print(\"Значения правильности перекрестной проверки после подбора \"\n",
    "      \"параметра 'C' LogisticRegression: {}\".format(scores_logit_plus))\n",
    "scores_logit_plus.mean()"
   ]
  },
  {
   "cell_type": "markdown",
   "metadata": {},
   "source": [
    "**RandomForestClassifier**"
   ]
  },
  {
   "cell_type": "code",
   "execution_count": 762,
   "metadata": {},
   "outputs": [
    {
     "name": "stdout",
     "output_type": "stream",
     "text": [
      "Wall time: 2min 35s\n"
     ]
    },
    {
     "data": {
      "text/plain": [
       "RandomForestClassifier(bootstrap=True, ccp_alpha=0.0,\n",
       "                       class_weight='balanced_subsample', criterion='entropy',\n",
       "                       max_depth=8, max_features=125, max_leaf_nodes=None,\n",
       "                       max_samples=None, min_impurity_decrease=0.0,\n",
       "                       min_impurity_split=None, min_samples_leaf=1,\n",
       "                       min_samples_split=2, min_weight_fraction_leaf=0.0,\n",
       "                       n_estimators=1200, n_jobs=-1, oob_score=False,\n",
       "                       random_state=2020, verbose=0, warm_start=False)"
      ]
     },
     "execution_count": 762,
     "metadata": {},
     "output_type": "execute_result"
    }
   ],
   "source": [
    "%%time\n",
    "rf_plus = RandomForestClassifier(class_weight='balanced_subsample',\n",
    "                                 max_depth=8, criterion='entropy',\n",
    "                                 max_features=X_train_plus.shape[1],\n",
    "                                 n_estimators=1200, n_jobs=-1, \n",
    "                                 random_state=2020)\n",
    "rf_plus.fit(X_train_plus, y_tr)"
   ]
  },
  {
   "cell_type": "code",
   "execution_count": 763,
   "metadata": {},
   "outputs": [
    {
     "name": "stdout",
     "output_type": "stream",
     "text": [
      "Значения правильности перекрестной проверки: [0.8710745  0.86152063 0.86359403 0.85255007 0.84540954 0.85212067\n",
      " 0.87711167 0.85050964 0.86271895 0.86311062]\n",
      "Wall time: 22min 37s\n"
     ]
    },
    {
     "data": {
      "text/plain": [
       "0.8599720321713843"
      ]
     },
     "execution_count": 763,
     "metadata": {},
     "output_type": "execute_result"
    }
   ],
   "source": [
    "%%time\n",
    "scores_rf_plus = cross_val_score(rf_plus, X_train_plus, y_tr,\n",
    "                                 scoring='roc_auc', cv=skf)\n",
    "print(\"Значения правильности перекрестной проверки: {}\".format(scores_rf_plus))\n",
    "scores_rf_plus.mean() "
   ]
  },
  {
   "cell_type": "markdown",
   "metadata": {},
   "source": [
    "Относительно базовых моделей (без подбора параметров) метрики немного улучшились. Хотя в отношении `RandomForestClassifier` это, конечно, несколько лукаво звучит, потому что некоторые важные параметры были указаны.\n",
    "\n",
    "Подбирать параметры будем в несколько сокращенном виде."
   ]
  },
  {
   "cell_type": "code",
   "execution_count": 767,
   "metadata": {},
   "outputs": [
    {
     "name": "stdout",
     "output_type": "stream",
     "text": [
      "0.8570721245502053                                                             \n",
      "{'C': 26.6568088739437}                                                        \n",
      "0.8570301580108323                                                             \n",
      "{'C': 75.00659438194808}                                                       \n",
      "0.8570888583141452                                                             \n",
      "{'C': 89.11435223128952}                                                       \n",
      "0.8570733365687904                                                             \n",
      "{'C': 34.11751522844876}                                                       \n",
      "0.8570572157561707                                                             \n",
      "{'C': 85.45457273482641}                                                       \n",
      "0.85706407164752                                                               \n",
      "{'C': 75.5867159413821}                                                        \n",
      "0.8570729308752595                                                             \n",
      "{'C': 94.21112844855682}                                                       \n",
      "0.8570280832764752                                                             \n",
      "{'C': 53.64670654855913}                                                       \n",
      "0.8570997740214994                                                             \n",
      "{'C': 70.60767967040499}                                                       \n",
      "0.8569881128761055                                                             \n",
      "{'C': 74.27355002919184}                                                       \n",
      "0.8570386019161482                                                             \n",
      "{'C': 47.80497917820629}                                                       \n",
      "0.8570287132539312                                                             \n",
      "{'C': 82.65071222979267}                                                       \n",
      "0.8571030353892175                                                             \n",
      "{'C': 9.307754280498436}                                                       \n",
      "0.8570666246258263                                                             \n",
      "{'C': 13.86357954157274}                                                       \n",
      "0.8571282826694633                                                             \n",
      "{'C': 115.69905892266506}                                                      \n",
      "0.857005995897485                                                              \n",
      "{'C': 75.97005145079777}                                                       \n",
      "0.8570731685545725                                                             \n",
      "{'C': 37.709498117383276}                                                      \n",
      "0.8570820088921831                                                             \n",
      "{'C': 9.428840254831893}                                                       \n",
      "0.8570730181670261                                                             \n",
      "{'C': 83.92931899877591}                                                       \n",
      "0.857097988672934                                                              \n",
      "{'C': 43.40544423312872}                                                       \n",
      "0.8571017954622568                                                             \n",
      "{'C': 112.39453896468669}                                                      \n",
      "0.8570409829294834                                                             \n",
      "{'C': 104.54218614446035}                                                      \n",
      "0.8571233858510912                                                             \n",
      "{'C': 21.382955588656756}                                                      \n",
      "0.8570792898938062                                                             \n",
      "{'C': 119.58138137915918}                                                      \n",
      "0.8570501791795584                                                             \n",
      "{'C': 62.7454307159093}                                                        \n",
      "100%|███████| 25/25 [1:23:30<00:00, 200.44s/it, best loss: -0.8571282826694633]\n",
      "best:\n",
      "{'C': 115.69905892266506}\n",
      "Wall time: 1h 23min 30s\n"
     ]
    }
   ],
   "source": [
    "%%time\n",
    "def hyperopt_logit_score(params):\n",
    "    clf = LogisticRegression(**params, class_weight='balanced', n_jobs=-1)\n",
    "    \n",
    "    current_score = cross_val_score(\n",
    "        clf, X_train_plus, y_tr, scoring=ftwo_scorer, cv=skf).mean()\n",
    "    print(current_score, params)\n",
    "    return -current_score\n",
    "\n",
    "logit_space = {\n",
    "    'C': hp.uniform('C', 0.01, 120)\n",
    "}\n",
    "\n",
    "best = fmin(\n",
    "    fn=hyperopt_logit_score, space=logit_space, algo=tpe.suggest, max_evals=25)\n",
    "print('best:')\n",
    "print(best)"
   ]
  },
  {
   "cell_type": "code",
   "execution_count": 766,
   "metadata": {},
   "outputs": [
    {
     "name": "stdout",
     "output_type": "stream",
     "text": [
      "0.8608575933139188                                                             \n",
      "{'max_depth': 6, 'n_estimators': 975}                                          \n",
      "0.8541339554165986                                                             \n",
      "{'max_depth': 3, 'n_estimators': 1380}                                         \n",
      "0.8582860372469368                                                             \n",
      "{'max_depth': 9, 'n_estimators': 1380}                                         \n",
      "0.8483689804819269                                                             \n",
      "{'max_depth': 13, 'n_estimators': 750}                                         \n",
      "0.8560562944685353                                                             \n",
      "{'max_depth': 10, 'n_estimators': 795}                                         \n",
      "0.8535498861741374                                                             \n",
      "{'max_depth': 11, 'n_estimators': 1295}                                        \n",
      "0.8608339865939856                                                             \n",
      "{'max_depth': 6, 'n_estimators': 770}                                          \n",
      "0.8560761067933184                                                             \n",
      "{'max_depth': 10, 'n_estimators': 1445}                                        \n",
      "0.856084239180705                                                              \n",
      "{'max_depth': 10, 'n_estimators': 1305}                                        \n",
      "0.8597581897585652                                                             \n",
      "{'max_depth': 5, 'n_estimators': 705}                                          \n",
      "0.839414133575306                                                              \n",
      "{'max_depth': 2, 'n_estimators': 1090}                                         \n",
      "0.8582529866936788                                                             \n",
      "{'max_depth': 9, 'n_estimators': 1240}                                         \n",
      "0.860840563445894                                                              \n",
      "{'max_depth': 6, 'n_estimators': 855}                                          \n",
      "0.8535144958746287                                                             \n",
      "{'max_depth': 11, 'n_estimators': 600}                                         \n",
      "0.8607929194559005                                                             \n",
      "{'max_depth': 7, 'n_estimators': 1330}                                         \n",
      "0.854125614557498                                                              \n",
      "{'max_depth': 3, 'n_estimators': 1295}                                         \n",
      "0.8607779414414443                                                             \n",
      "{'max_depth': 7, 'n_estimators': 770}                                          \n",
      "0.8508850510747401                                                             \n",
      "{'max_depth': 12, 'n_estimators': 1325}                                        \n",
      "0.8576856755306433                                                             \n",
      "{'max_depth': 4, 'n_estimators': 1075}                                         \n",
      "0.8576181707335401                                                             \n",
      "{'max_depth': 4, 'n_estimators': 630}                                          \n",
      "0.860850057657163                                                              \n",
      "{'max_depth': 6, 'n_estimators': 915}                                          \n",
      "0.8461701097381533                                                             \n",
      "{'max_depth': 14, 'n_estimators': 930}                                         \n",
      "0.844532063672123                                                              \n",
      "{'max_depth': 15, 'n_estimators': 970}                                         \n",
      "0.8608525378544322                                                             \n",
      "{'max_depth': 6, 'n_estimators': 1195}                                         \n",
      "0.8598948363051949                                                             \n",
      "{'max_depth': 8, 'n_estimators': 1205}                                         \n",
      "100%|██████| 25/25 [7:24:50<00:00, 1067.64s/it, best loss: -0.8608575933139188]\n",
      "best:\n",
      "{'max_depth': 4, 'n_estimators': 975.0}\n",
      "Wall time: 7h 24min 50s\n"
     ]
    }
   ],
   "source": [
    "%%time\n",
    "def hyperopt_forest_score(params):\n",
    "    clf = RandomForestClassifier(\n",
    "        **params,\n",
    "        random_state=42,\n",
    "        class_weight='balanced_subsample',\n",
    "        max_features=X_train_plus.shape[1],\n",
    "        criterion='entropy',\n",
    "        n_jobs=-1)\n",
    "    \n",
    "    current_score = cross_val_score(\n",
    "        clf, X_train_plus, y_tr, scoring=ftwo_scorer, cv=skf).mean()\n",
    "    \n",
    "    print(current_score, params)\n",
    "    return -current_score\n",
    "\n",
    "space_forest = {\n",
    "    'max_depth': hp.choice('max_depth', range(2, 16)),\n",
    "    'n_estimators': ho_scope.int(hp.quniform('n_estimators', \n",
    "                                             600, 1500, 5))\n",
    "}\n",
    "\n",
    "best = fmin(\n",
    "    fn=hyperopt_forest_score,\n",
    "    space=space_forest,\n",
    "    algo=tpe.suggest,\n",
    "    max_evals=25)\n",
    "print('best:')\n",
    "print(best)"
   ]
  },
  {
   "cell_type": "code",
   "execution_count": 769,
   "metadata": {},
   "outputs": [
    {
     "data": {
      "text/plain": [
       "11761"
      ]
     },
     "execution_count": 769,
     "metadata": {},
     "output_type": "execute_result"
    }
   ],
   "source": [
    "gc.collect()"
   ]
  },
  {
   "cell_type": "markdown",
   "metadata": {},
   "source": [
    "Как улучшилось качество модели?"
   ]
  },
  {
   "cell_type": "markdown",
   "metadata": {},
   "source": [
    "**LogisticRegression**"
   ]
  },
  {
   "cell_type": "code",
   "execution_count": 768,
   "metadata": {},
   "outputs": [
    {
     "name": "stdout",
     "output_type": "stream",
     "text": [
      "Wall time: 24.2 s\n"
     ]
    },
    {
     "data": {
      "text/plain": [
       "LogisticRegression(C=115.69905892266506, class_weight='balanced', dual=False,\n",
       "                   fit_intercept=True, intercept_scaling=1, l1_ratio=None,\n",
       "                   max_iter=100, multi_class='auto', n_jobs=-1, penalty='l2',\n",
       "                   random_state=None, solver='lbfgs', tol=0.0001, verbose=0,\n",
       "                   warm_start=False)"
      ]
     },
     "execution_count": 768,
     "metadata": {},
     "output_type": "execute_result"
    }
   ],
   "source": [
    "%%time\n",
    "logit_res = LogisticRegression(class_weight='balanced', n_jobs=-1,\n",
    "                               C=115.69905892266506)\n",
    "logit_res.fit(X_train_plus, y_tr)"
   ]
  },
  {
   "cell_type": "code",
   "execution_count": 770,
   "metadata": {},
   "outputs": [
    {
     "name": "stdout",
     "output_type": "stream",
     "text": [
      "Значения правильности перекрестной проверки после подбора параметра 'C' LogisticRegression: [0.86716336 0.85870818 0.85665849 0.85064609 0.84321906 0.84792699\n",
      " 0.87515884 0.85412658 0.86270441 0.85497084]\n",
      "Wall time: 3min 22s\n"
     ]
    },
    {
     "data": {
      "text/plain": [
       "0.8571282826694633"
      ]
     },
     "execution_count": 770,
     "metadata": {},
     "output_type": "execute_result"
    }
   ],
   "source": [
    "%%time\n",
    "scores_logit_res = cross_val_score(logit_res, X_train_plus, y_tr, \n",
    "                                   scoring='roc_auc', cv=skf)\n",
    "print(\"Значения правильности перекрестной проверки после подбора \"\n",
    "      \"параметра 'C' LogisticRegression: {}\".format(scores_logit_res))\n",
    "scores_logit_res.mean()"
   ]
  },
  {
   "cell_type": "code",
   "execution_count": 771,
   "metadata": {},
   "outputs": [
    {
     "name": "stdout",
     "output_type": "stream",
     "text": [
      "0.8573003187917252\n"
     ]
    }
   ],
   "source": [
    "print(roc_auc_score(y_val, logit_res.predict_proba(X_valid_plus)[:,1]))"
   ]
  },
  {
   "cell_type": "code",
   "execution_count": 772,
   "metadata": {},
   "outputs": [
    {
     "name": "stdout",
     "output_type": "stream",
     "text": [
      "Best Threshold=0.498122\n"
     ]
    }
   ],
   "source": [
    "y_pred_log_res = logit_res.predict_proba(X_valid_plus)[:, 1]\n",
    "fpr, tpr, thresholds = roc_curve(y_val, y_pred_log_res)\n",
    "J = tpr - fpr\n",
    "ix = np.argmax(J)\n",
    "best_thresh = thresholds[ix]\n",
    "print('Best Threshold=%f' % (best_thresh))"
   ]
  },
  {
   "cell_type": "code",
   "execution_count": 773,
   "metadata": {},
   "outputs": [],
   "source": [
    "y_res_logit_res = [1 if x > best_thresh else 0 for x in y_pred_log_res]"
   ]
  },
  {
   "cell_type": "code",
   "execution_count": 774,
   "metadata": {},
   "outputs": [
    {
     "name": "stdout",
     "output_type": "stream",
     "text": [
      "              precision    recall  f1-score   support\n",
      "\n",
      "           0       0.79      0.98      0.87     33705\n",
      "           1       0.77      0.20      0.32     11295\n",
      "\n",
      "    accuracy                           0.78     45000\n",
      "   macro avg       0.78      0.59      0.60     45000\n",
      "weighted avg       0.78      0.78      0.73     45000\n",
      "\n"
     ]
    }
   ],
   "source": [
    "print(classification_report(y_res_logit_res, y_val))"
   ]
  },
  {
   "cell_type": "code",
   "execution_count": 775,
   "metadata": {},
   "outputs": [
    {
     "name": "stdout",
     "output_type": "stream",
     "text": [
      "Logistic Regression\n"
     ]
    },
    {
     "data": {
      "image/png": "[encoded data removed]",
      "text/plain": [
       "<Figure size 432x288 with 2 Axes>"
      ]
     },
     "metadata": {
      "needs_background": "light"
     },
     "output_type": "display_data"
    }
   ],
   "source": [
    "print('Logistic Regression')\n",
    "sns.heatmap(confusion_matrix(y_val, y_res_logit_res), annot=True,\n",
    "            fmt='3.0f', cmap=\"summer\")\n",
    "pass;"
   ]
  },
  {
   "cell_type": "markdown",
   "metadata": {},
   "source": [
    "**RandomForestClassifier**"
   ]
  },
  {
   "cell_type": "code",
   "execution_count": 776,
   "metadata": {},
   "outputs": [
    {
     "name": "stdout",
     "output_type": "stream",
     "text": [
      "Wall time: 1min 39s\n"
     ]
    },
    {
     "data": {
      "text/plain": [
       "RandomForestClassifier(bootstrap=True, ccp_alpha=0.0,\n",
       "                       class_weight='balanced_subsample', criterion='entropy',\n",
       "                       max_depth=6, max_features=125, max_leaf_nodes=None,\n",
       "                       max_samples=None, min_impurity_decrease=0.0,\n",
       "                       min_impurity_split=None, min_samples_leaf=1,\n",
       "                       min_samples_split=2, min_weight_fraction_leaf=0.0,\n",
       "                       n_estimators=975, n_jobs=-1, oob_score=False,\n",
       "                       random_state=2020, verbose=0, warm_start=False)"
      ]
     },
     "execution_count": 776,
     "metadata": {},
     "output_type": "execute_result"
    }
   ],
   "source": [
    "%%time\n",
    "rf_res = RandomForestClassifier(class_weight='balanced_subsample',\n",
    "                                 max_depth=6, criterion='entropy',\n",
    "                                 max_features=X_train_plus.shape[1],\n",
    "                                 n_estimators=975, n_jobs=-1, \n",
    "                                 random_state=2020)\n",
    "rf_res.fit(X_train_plus, y_tr)"
   ]
  },
  {
   "cell_type": "code",
   "execution_count": 777,
   "metadata": {},
   "outputs": [
    {
     "name": "stdout",
     "output_type": "stream",
     "text": [
      "Значения правильности перекрестной проверки: [0.87254959 0.86183341 0.86395742 0.85270026 0.84669461 0.85298732\n",
      " 0.87750458 0.85250856 0.86453199 0.8630481 ]\n",
      "Wall time: 14min 25s\n"
     ]
    },
    {
     "data": {
      "text/plain": [
       "0.8608315855219895"
      ]
     },
     "execution_count": 777,
     "metadata": {},
     "output_type": "execute_result"
    }
   ],
   "source": [
    "%%time\n",
    "scores_rf_res = cross_val_score(rf_res, X_train_plus, y_tr,\n",
    "                                 scoring='roc_auc', cv=skf)\n",
    "print(\"Значения правильности перекрестной проверки: {}\".format(scores_rf_res))\n",
    "scores_rf_res.mean() "
   ]
  },
  {
   "cell_type": "code",
   "execution_count": 778,
   "metadata": {},
   "outputs": [
    {
     "name": "stdout",
     "output_type": "stream",
     "text": [
      "0.862102434246594\n"
     ]
    }
   ],
   "source": [
    "print(roc_auc_score(y_val, rf_res.predict_proba(X_valid_plus)[:,1]))"
   ]
  },
  {
   "cell_type": "code",
   "execution_count": 661,
   "metadata": {},
   "outputs": [
    {
     "name": "stdout",
     "output_type": "stream",
     "text": [
      "Best Threshold=0.398201\n"
     ]
    }
   ],
   "source": [
    "y_pred_rf_res = rf_res.predict_proba(X_valid_plus)[:, 1]\n",
    "fpr, tpr, thresholds = roc_curve(y_val, y_pred_rf_res)\n",
    "J = tpr - fpr\n",
    "ix = np.argmax(J)\n",
    "best_thresh = thresholds[ix]\n",
    "print('Best Threshold=%f' % (best_thresh))"
   ]
  },
  {
   "cell_type": "code",
   "execution_count": 662,
   "metadata": {},
   "outputs": [],
   "source": [
    "y_rf_res = [1 if x > best_thresh else 0 for x in y_pred_rf_res]"
   ]
  },
  {
   "cell_type": "code",
   "execution_count": 663,
   "metadata": {},
   "outputs": [
    {
     "name": "stdout",
     "output_type": "stream",
     "text": [
      "              precision    recall  f1-score   support\n",
      "\n",
      "           0       0.76      0.98      0.86     32422\n",
      "           1       0.81      0.19      0.31     12578\n",
      "\n",
      "    accuracy                           0.76     45000\n",
      "   macro avg       0.78      0.59      0.58     45000\n",
      "weighted avg       0.77      0.76      0.70     45000\n",
      "\n"
     ]
    }
   ],
   "source": [
    "print(classification_report(y_rf_res, y_val))"
   ]
  },
  {
   "cell_type": "code",
   "execution_count": 714,
   "metadata": {},
   "outputs": [
    {
     "name": "stdout",
     "output_type": "stream",
     "text": [
      "Random Forest\n"
     ]
    },
    {
     "data": {
      "image/png": "[encoded data removed]",
      "text/plain": [
       "<Figure size 432x288 with 2 Axes>"
      ]
     },
     "metadata": {
      "needs_background": "light"
     },
     "output_type": "display_data"
    }
   ],
   "source": [
    "print('Random Forest')\n",
    "sns.heatmap(confusion_matrix(y_val, y_rf_res), annot=True,\n",
    "            fmt='3.0f', cmap=\"summer\");"
   ]
  },
  {
   "cell_type": "markdown",
   "metadata": {},
   "source": [
    "В результате добавления признаков (в том числе за счет бинаризации) качество моделей немного улучшилось на обучающей выборке, но на валидационной даже чуть упало, что говорит о переобучении."
   ]
  },
  {
   "cell_type": "code",
   "execution_count": 779,
   "metadata": {},
   "outputs": [],
   "source": [
    "with open('models/rf_res.pkl', 'wb') as file:  \n",
    "    pickle.dump(rf_res, file)\n",
    "with open('models/logit_res.pkl', 'wb') as file:  \n",
    "    pickle.dump(logit_res, file)"
   ]
  },
  {
   "cell_type": "markdown",
   "metadata": {},
   "source": [
    "__Кривые валидации и обучения__"
   ]
  },
  {
   "cell_type": "code",
   "execution_count": 652,
   "metadata": {},
   "outputs": [],
   "source": [
    "def plot_learning_curve(estimator, title, X, y, ylim=None, cv=None,\n",
    "                        n_jobs=None, train_sizes=np.linspace(.1, 1.0, 5)):    \n",
    "    plt.figure()\n",
    "    plt.title(title)\n",
    "    if ylim is not None:\n",
    "        plt.ylim(*ylim)\n",
    "    plt.xlabel(\"Training examples\")\n",
    "    plt.ylabel(\"AUC\")\n",
    "    train_sizes, train_scores, test_scores = learning_curve(\n",
    "        estimator, X, y, cv=cv, n_jobs=n_jobs, train_sizes=train_sizes,\n",
    "        scoring='roc_auc')\n",
    "    train_scores_mean = np.mean(train_scores, axis=1)\n",
    "    train_scores_std = np.std(train_scores, axis=1)\n",
    "    test_scores_mean = np.mean(test_scores, axis=1)\n",
    "    test_scores_std = np.std(test_scores, axis=1)\n",
    "    plt.grid()\n",
    "\n",
    "    plt.fill_between(train_sizes, train_scores_mean - train_scores_std,\n",
    "                     train_scores_mean + train_scores_std, alpha=0.1,\n",
    "                     color=\"r\")\n",
    "    plt.fill_between(train_sizes, test_scores_mean - test_scores_std,\n",
    "                     test_scores_mean + test_scores_std, alpha=0.1, color=\"g\")\n",
    "    plt.plot(train_sizes, train_scores_mean, 'o-', color=\"r\",\n",
    "             label=\"Training score\")\n",
    "    plt.plot(train_sizes, test_scores_mean, 'o-', color=\"g\",\n",
    "             label=\"Cross-validation score\")\n",
    "\n",
    "    plt.legend(loc=\"best\")\n",
    "    return plt"
   ]
  },
  {
   "cell_type": "markdown",
   "metadata": {},
   "source": [
    "Анализ проведен для первой модели (с меньшим количеством параметров) из-за длительности обработки. "
   ]
  },
  {
   "cell_type": "code",
   "execution_count": 653,
   "metadata": {},
   "outputs": [
    {
     "data": {
      "text/plain": [
       "<module 'matplotlib.pyplot' from 'C:\\\\Users\\\\NatalyR\\\\Anaconda3\\\\envs\\\\mystudy\\\\lib\\\\site-packages\\\\matplotlib\\\\pyplot.py'>"
      ]
     },
     "execution_count": 653,
     "metadata": {},
     "output_type": "execute_result"
    },
    {
     "data": {
      "image/png": "[encoded data removed]",
      "text/plain": [
       "<Figure size 432x288 with 1 Axes>"
      ]
     },
     "metadata": {
      "needs_background": "light"
     },
     "output_type": "display_data"
    }
   ],
   "source": [
    "%%time\n",
    "title = \"Learning Curves (Random Forest)\"\n",
    "cv = StratifiedShuffleSplit(n_splits=10, test_size=0.3, random_state=0)\n",
    "\n",
    "estimator = RandomForestClassifier(class_weight='balanced_subsample', \n",
    "                                max_depth=6, criterion='entropy', \n",
    "                                max_features=X_train_qt.shape[1], \n",
    "                                n_estimators=1164, n_jobs=-1, \n",
    "                                random_state=2020)\n",
    "plot_learning_curve(estimator, title, X_train_qt, y_tr, ylim=(0.7, 1.01), cv=cv, n_jobs=-1)"
   ]
  },
  {
   "cell_type": "markdown",
   "metadata": {},
   "source": [
    "С помощью `validation_curve` можно оценить влияние одного гиперпараметра на значения метрик обучающего и валидационного набора.\n",
    "\n",
    "Оценка влияния гиперпараметра `max_depth`:"
   ]
  },
  {
   "cell_type": "code",
   "execution_count": 702,
   "metadata": {},
   "outputs": [
    {
     "data": {
      "image/png": "[encoded data removed]",
      "text/plain": [
       "<Figure size 432x288 with 1 Axes>"
      ]
     },
     "metadata": {
      "needs_background": "light"
     },
     "output_type": "display_data"
    },
    {
     "name": "stdout",
     "output_type": "stream",
     "text": [
      "Wall time: 27min 59s\n"
     ]
    }
   ],
   "source": [
    "%%time\n",
    "param_range = np.arange(2, 10, 1)\n",
    "\n",
    "train_scores, test_scores = validation_curve(\n",
    "    rf_par,\n",
    "    X_train_qt,\n",
    "    y_tr,\n",
    "    param_name='max_depth',\n",
    "    param_range=param_range,\n",
    "    cv=5,\n",
    "    scoring=\"roc_auc\",\n",
    "    n_jobs=-1)\n",
    "train_mean = np.mean(train_scores, axis=1)\n",
    "train_std = np.std(train_scores, axis=1)\n",
    "\n",
    "test_mean = np.mean(test_scores, axis=1)\n",
    "test_std = np.std(test_scores, axis=1)\n",
    "\n",
    "plt.plot(param_range, train_mean, label=\"Training score\", color=\"black\")\n",
    "plt.plot(\n",
    "    param_range, test_mean, label=\"Cross-validation score\", color=\"dimgrey\")\n",
    "\n",
    "plt.fill_between(\n",
    "    param_range, train_mean - train_std, train_mean + train_std, color=\"gray\")\n",
    "plt.fill_between(\n",
    "    param_range, test_mean - test_std, test_mean + test_std, color=\"gainsboro\")\n",
    "\n",
    "plt.title(\"Validation Curve With Random Forest\")\n",
    "plt.xlabel(\"Max depth\")\n",
    "plt.ylabel(\"AUC\")\n",
    "plt.tight_layout()\n",
    "plt.legend(loc=\"best\")\n",
    "plt.show()"
   ]
  },
  {
   "cell_type": "markdown",
   "metadata": {},
   "source": [
    "Какие наилучшие параметры модели по результатам построения?\n",
    "Как можно улучшить модель?"
   ]
  },
  {
   "cell_type": "markdown",
   "metadata": {},
   "source": [
    "Данных точно больше не нужно судя по кривой обучения.\n",
    "\n",
    "Результат на кросс-валидации показывает, что не имеет смысла увеличивать максимальную глубину деревьев большее 6. Анализ проведен для первой модели (с меньшим количеством параметров) из-за длительности обработки. "
   ]
  },
  {
   "cell_type": "markdown",
   "metadata": {},
   "source": [
    "__Оценка модели с описанием выбранной метрики__"
   ]
  },
  {
   "cell_type": "code",
   "execution_count": 701,
   "metadata": {},
   "outputs": [],
   "source": [
    "features = list(X_valid_qt.columns)"
   ]
  },
  {
   "cell_type": "code",
   "execution_count": 700,
   "metadata": {},
   "outputs": [
    {
     "data": {
      "text/plain": [
       "[(0.8821345976533553, 'RevolvingUtilizationOfUnsecuredLines'),\n",
       " (-0.2114274044379437, 'age'),\n",
       " (0.20344252965469706, 'NumberOfTime30_59DaysPastDueNotWorse'),\n",
       " (-0.034070994414615044, 'DebtRatio'),\n",
       " (-0.178228112331585, 'MonthlyIncome'),\n",
       " (0.09715497255933894, 'NumberOfOpenCreditLinesAndLoans'),\n",
       " (0.14304041427539885, 'NumberOfTimes90DaysLate'),\n",
       " (-0.04867557334904105, 'NumberRealEstateLoansOrLines'),\n",
       " (0.07765276526083412, 'NumberOfTime60_89DaysPastDueNotWorse'),\n",
       " (0.009617723386241195, 'NumberOfDependents'),\n",
       " (0.17558113225308256, 'NumberOfTimes_PastDue'),\n",
       " (0.3005941072818969, 'MonthlyPayment'),\n",
       " (0.6214828518087993, 'NumberOfTimesLate_high_0'),\n",
       " (-0.30285567171915506, 'NumberOfTimesLate_high_1'),\n",
       " (0.31368293259008345, 'NumberOfTimesLate_96_0'),\n",
       " (0.004944247499571225, 'NumberOfTimesLate_96_1'),\n",
       " (0.6264270993083799, 'NumberOfTimesLate_98_0'),\n",
       " (-0.30779991921873295, 'NumberOfTimesLate_98_1'),\n",
       " (-0.4590818311600671, 'NumberOfTime30_59Days_none_0'),\n",
       " (0.7777090112497038, 'NumberOfTime30_59Days_none_1'),\n",
       " (0.20419248815479066, 'NumberOfTimes90Days_none_0'),\n",
       " (0.11443469193485387, 'NumberOfTimes90Days_none_1'),\n",
       " (0.272835806552578, 'NumberOfTime60_89Days_none_0'),\n",
       " (0.0457913735370721, 'NumberOfTime60_89Days_none_1'),\n",
       " (0.4175304070980604, 'MonthlyIncome_none_0'),\n",
       " (-0.0989032270084163, 'MonthlyIncome_none_1'),\n",
       " (0.1183590481586901, 'MonthlyIncome_zero_0'),\n",
       " (0.20026813193096968, 'MonthlyIncome_zero_1'),\n",
       " (-0.4237504707738697, 'DebtRatio_zero_0'),\n",
       " (0.742377650863511, 'DebtRatio_zero_1'),\n",
       " (0.3195932625319642, 'RUUL_high_0'),\n",
       " (-0.0009660824423066313, 'RUUL_high_1'),\n",
       " (-2.002674583959147, 'RUUL_zero_0'),\n",
       " (2.3213017640487115, 'RUUL_zero_1'),\n",
       " (0.3571487709715621, 'RUUL_ones_0'),\n",
       " (-0.03852159088191449, 'RUUL_ones_1'),\n",
       " (0.21028848267108669, 'NumberOfDependents_none_0'),\n",
       " (0.10833869741856375, 'NumberOfDependents_none_1')]"
      ]
     },
     "execution_count": 700,
     "metadata": {},
     "output_type": "execute_result"
    }
   ],
   "source": [
    "# Коэффициенты и признаки\n",
    "list(zip(logit_par.coef_[0], X_valid_qt.columns))"
   ]
  },
  {
   "attachments": {},
   "cell_type": "markdown",
   "metadata": {},
   "source": [
    "__Общие выводы__\n",
    "\n",
    "По результатам проведенного анализа, можно увидеть, что есть определенные зависимости и признаки просрочки кредита. \n",
    "Наблюдаются следующие закономерности - клиент с более высоким месячным доходом с бОльшей вероятностью выплачивает кредит вовремя. \n",
    "\n",
    "Вероятности просрочки кредита у клиентов прямо зависит от степени \"закредитованности\" (переменная `RevolvingUtilizationOfUnsecuredLines`). \n",
    "\n",
    "Имеет влияние наличие предыдущих просрочек - с ростом их количества заемщик становиться менее привлекательным в связи с высокой вероятностью новой просрочки.\n",
    "\n",
    "Также влияет и количество иждивенцев в семье заемщика - клиент с бОльшим количеством иждивенцев с бОльшей вероятностью не выплачивает кредит вовремя. \n",
    "\n",
    "В дальнейшем, можно добавить синтетические данные, чтобы увеличить количество наблюдений для миноритарного класса.\n",
    "\n",
    "Также можно заменить случайный лес на стекинг нескольких моделей, например, `RandomForestClassifier`, `SVC`, `xgboost` (могут быть разные варианты)."
   ]
  },
  {
   "cell_type": "code",
   "execution_count": null,
   "metadata": {},
   "outputs": [],
   "source": []
  }
 ],
 "metadata": {
  "kernelspec": {
   "display_name": "base",
   "language": "python",
   "name": "python3"
  },
  "language_info": {
   "codemirror_mode": {
    "name": "ipython",
    "version": 3
   },
   "file_extension": ".py",
   "mimetype": "text/x-python",
   "name": "python",
   "nbconvert_exporter": "python",
   "pygments_lexer": "ipython3",
   "version": "3.9.7 (default, Sep 16 2021, 16:59:28) [MSC v.1916 64 bit (AMD64)]"
  },
  "vscode": {
   "interpreter": {
    "hash": "5114a98448da61d3c8717f10dbe3cc222d3772cc8c6832b6d605cb65183e3f6d"
   }
  }
 },
 "nbformat": 4,
 "nbformat_minor": 2
}
