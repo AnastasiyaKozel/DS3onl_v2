{
 "cells": [
  {
   "cell_type": "markdown",
   "metadata": {},
   "source": [
    "## <center>Домашнее задание № 10?</center>"
   ]
  },
  {
   "cell_type": "markdown",
   "metadata": {},
   "source": [
    "#### Домашнее задание\n",
    "<div class=\"alert alert-block alert-info\">\n",
    "\n",
    "1. Загрузка и предварительный анализ данных. \n",
    "2. EDA.\n",
    "3. Моделирование.\n",
    "4. Оценка важности предикторов.\n",
    "</div>"
   ]
  },
  {
   "cell_type": "code",
   "execution_count": 2,
   "metadata": {
    "hide_input": false
   },
   "outputs": [],
   "source": [
    "import numpy as np\n",
    "import pandas as pd\n",
    "\n",
    "import csv \n",
    "import pandas_profiling\n",
    "\n",
    "pd.set_option('display.notebook_repr_html', True)\n",
    "pd.set_option('display.max_columns', None)\n",
    "pd.set_option('display.max_rows', None)\n",
    "pd.set_option('display.width', 80)\n",
    "\n",
    "import re\n",
    "from scipy import stats\n",
    "from scipy.stats import normaltest, norm\n",
    "\n",
    "from sklearn.model_selection import train_test_split\n",
    "\n",
    "from sklearn.ensemble import RandomForestClassifier\n",
    "from sklearn.ensemble import GradientBoostingClassifier\n",
    "from sklearn.metrics import roc_auc_score\n",
    "\n",
    "from sklearn.preprocessing import QuantileTransformer\n",
    "\n",
    "import category_encoders as ce\n",
    "\n",
    "from IPython.core.interactiveshell import InteractiveShell \n",
    "InteractiveShell.ast_node_interactivity = \"all\"\n",
    "\n",
    "import seaborn as sns\n",
    "import matplotlib.pyplot as plt\n",
    "%matplotlib inline\n",
    "\n",
    "import warnings\n",
    "warnings.filterwarnings(\"ignore\")"
   ]
  },
  {
   "cell_type": "markdown",
   "metadata": {},
   "source": [
    "### Загрузка и предварительный анализ данных"
   ]
  },
  {
   "cell_type": "code",
   "execution_count": 3,
   "metadata": {},
   "outputs": [
    {
     "name": "stdout",
     "output_type": "stream",
     "text": [
      "['id;date_start;date_end;gender;age;auto;housing;marstatus;regclient;jobtype;region;credits;children;delinq60plus']\n",
      "['1;03-Jan-2013;12-Jan-2013;Мужской;44;Нет;Собственное;Гражданский брак/женат/замужем;Нет;Официальное;Новосибирская область;Нет;Да;Нет']\n",
      "['2;03-Jan-2013;17-Jan-2013;Мужской;21;Пропуск поля;Живут с родителями;Холост;Нет;Официальное;Кемеровская область юг;Да;Нет;Нет']\n",
      "['3;03-Jan-2013;17-Jan-2013;Мужской;25;Пропуск поля;Собственное;Холост;Да;Официальное;Кемеровская область север;Пропуск поля;Нет;Нет']\n"
     ]
    }
   ],
   "source": [
    "with open('MFOcredit.csv') as file:\n",
    "    reader = csv.reader(file)\n",
    "    for i,row in enumerate(reader):\n",
    "        print(row)\n",
    "        if(i >= 3):\n",
    "            break"
   ]
  },
  {
   "cell_type": "code",
   "execution_count": 4,
   "metadata": {},
   "outputs": [
    {
     "data": {
      "text/html": [
       "<div>\n",
       "<style scoped>\n",
       "    .dataframe tbody tr th:only-of-type {\n",
       "        vertical-align: middle;\n",
       "    }\n",
       "\n",
       "    .dataframe tbody tr th {\n",
       "        vertical-align: top;\n",
       "    }\n",
       "\n",
       "    .dataframe thead th {\n",
       "        text-align: right;\n",
       "    }\n",
       "</style>\n",
       "<table border=\"1\" class=\"dataframe\">\n",
       "  <thead>\n",
       "    <tr style=\"text-align: right;\">\n",
       "      <th></th>\n",
       "      <th>id</th>\n",
       "      <th>date_start</th>\n",
       "      <th>date_end</th>\n",
       "      <th>gender</th>\n",
       "      <th>age</th>\n",
       "      <th>auto</th>\n",
       "      <th>housing</th>\n",
       "      <th>marstatus</th>\n",
       "      <th>regclient</th>\n",
       "      <th>jobtype</th>\n",
       "      <th>region</th>\n",
       "      <th>credits</th>\n",
       "      <th>children</th>\n",
       "      <th>delinq60plus</th>\n",
       "    </tr>\n",
       "  </thead>\n",
       "  <tbody>\n",
       "    <tr>\n",
       "      <th>0</th>\n",
       "      <td>1</td>\n",
       "      <td>03-Jan-2013</td>\n",
       "      <td>12-Jan-2013</td>\n",
       "      <td>Мужской</td>\n",
       "      <td>44</td>\n",
       "      <td>Нет</td>\n",
       "      <td>Собственное</td>\n",
       "      <td>Гражданский брак/женат/замужем</td>\n",
       "      <td>Нет</td>\n",
       "      <td>Официальное</td>\n",
       "      <td>Новосибирская область</td>\n",
       "      <td>Нет</td>\n",
       "      <td>Да</td>\n",
       "      <td>Нет</td>\n",
       "    </tr>\n",
       "    <tr>\n",
       "      <th>1</th>\n",
       "      <td>2</td>\n",
       "      <td>03-Jan-2013</td>\n",
       "      <td>17-Jan-2013</td>\n",
       "      <td>Мужской</td>\n",
       "      <td>21</td>\n",
       "      <td>Пропуск поля</td>\n",
       "      <td>Живут с родителями</td>\n",
       "      <td>Холост</td>\n",
       "      <td>Нет</td>\n",
       "      <td>Официальное</td>\n",
       "      <td>Кемеровская область юг</td>\n",
       "      <td>Да</td>\n",
       "      <td>Нет</td>\n",
       "      <td>Нет</td>\n",
       "    </tr>\n",
       "    <tr>\n",
       "      <th>2</th>\n",
       "      <td>3</td>\n",
       "      <td>03-Jan-2013</td>\n",
       "      <td>17-Jan-2013</td>\n",
       "      <td>Мужской</td>\n",
       "      <td>25</td>\n",
       "      <td>Пропуск поля</td>\n",
       "      <td>Собственное</td>\n",
       "      <td>Холост</td>\n",
       "      <td>Да</td>\n",
       "      <td>Официальное</td>\n",
       "      <td>Кемеровская область север</td>\n",
       "      <td>Пропуск поля</td>\n",
       "      <td>Нет</td>\n",
       "      <td>Нет</td>\n",
       "    </tr>\n",
       "  </tbody>\n",
       "</table>\n",
       "</div>"
      ],
      "text/plain": [
       "   id   date_start     date_end   gender  age          auto  \\\n",
       "0   1  03-Jan-2013  12-Jan-2013  Мужской   44           Нет   \n",
       "1   2  03-Jan-2013  17-Jan-2013  Мужской   21  Пропуск поля   \n",
       "2   3  03-Jan-2013  17-Jan-2013  Мужской   25  Пропуск поля   \n",
       "\n",
       "              housing                       marstatus regclient      jobtype  \\\n",
       "0         Собственное  Гражданский брак/женат/замужем       Нет  Официальное   \n",
       "1  Живут с родителями                          Холост       Нет  Официальное   \n",
       "2         Собственное                          Холост        Да  Официальное   \n",
       "\n",
       "                      region       credits children delinq60plus  \n",
       "0      Новосибирская область           Нет       Да          Нет  \n",
       "1     Кемеровская область юг            Да      Нет          Нет  \n",
       "2  Кемеровская область север  Пропуск поля      Нет          Нет  "
      ]
     },
     "execution_count": 4,
     "metadata": {},
     "output_type": "execute_result"
    }
   ],
   "source": [
    "raw_df = pd.read_csv('MFOcredit.csv', sep=';', encoding=\"cp1251\", nrows=3,\n",
    "                    parse_dates=True)\n",
    "raw_df"
   ]
  },
  {
   "cell_type": "code",
   "execution_count": 5,
   "metadata": {},
   "outputs": [
    {
     "data": {
      "text/html": [
       "<div>\n",
       "<style scoped>\n",
       "    .dataframe tbody tr th:only-of-type {\n",
       "        vertical-align: middle;\n",
       "    }\n",
       "\n",
       "    .dataframe tbody tr th {\n",
       "        vertical-align: top;\n",
       "    }\n",
       "\n",
       "    .dataframe thead th {\n",
       "        text-align: right;\n",
       "    }\n",
       "</style>\n",
       "<table border=\"1\" class=\"dataframe\">\n",
       "  <thead>\n",
       "    <tr style=\"text-align: right;\">\n",
       "      <th></th>\n",
       "      <th>id</th>\n",
       "      <th>date_start</th>\n",
       "      <th>date_end</th>\n",
       "      <th>gender</th>\n",
       "      <th>age</th>\n",
       "      <th>auto</th>\n",
       "      <th>housing</th>\n",
       "      <th>marstatus</th>\n",
       "      <th>regclient</th>\n",
       "      <th>jobtype</th>\n",
       "      <th>region</th>\n",
       "      <th>credits</th>\n",
       "      <th>children</th>\n",
       "      <th>delinq60plus</th>\n",
       "    </tr>\n",
       "  </thead>\n",
       "  <tbody>\n",
       "    <tr>\n",
       "      <th>0</th>\n",
       "      <td>1</td>\n",
       "      <td>03-Jan-2013</td>\n",
       "      <td>12-Jan-2013</td>\n",
       "      <td>Мужской</td>\n",
       "      <td>44</td>\n",
       "      <td>Нет</td>\n",
       "      <td>Собственное</td>\n",
       "      <td>Гражданский брак/женат/замужем</td>\n",
       "      <td>Нет</td>\n",
       "      <td>Официальное</td>\n",
       "      <td>Новосибирская область</td>\n",
       "      <td>Нет</td>\n",
       "      <td>Да</td>\n",
       "      <td>Нет</td>\n",
       "    </tr>\n",
       "    <tr>\n",
       "      <th>1</th>\n",
       "      <td>2</td>\n",
       "      <td>03-Jan-2013</td>\n",
       "      <td>17-Jan-2013</td>\n",
       "      <td>Мужской</td>\n",
       "      <td>21</td>\n",
       "      <td>Пропуск поля</td>\n",
       "      <td>Живут с родителями</td>\n",
       "      <td>Холост</td>\n",
       "      <td>Нет</td>\n",
       "      <td>Официальное</td>\n",
       "      <td>Кемеровская область юг</td>\n",
       "      <td>Да</td>\n",
       "      <td>Нет</td>\n",
       "      <td>Нет</td>\n",
       "    </tr>\n",
       "    <tr>\n",
       "      <th>2</th>\n",
       "      <td>3</td>\n",
       "      <td>03-Jan-2013</td>\n",
       "      <td>17-Jan-2013</td>\n",
       "      <td>Мужской</td>\n",
       "      <td>25</td>\n",
       "      <td>Пропуск поля</td>\n",
       "      <td>Собственное</td>\n",
       "      <td>Холост</td>\n",
       "      <td>Да</td>\n",
       "      <td>Официальное</td>\n",
       "      <td>Кемеровская область север</td>\n",
       "      <td>Пропуск поля</td>\n",
       "      <td>Нет</td>\n",
       "      <td>Нет</td>\n",
       "    </tr>\n",
       "  </tbody>\n",
       "</table>\n",
       "</div>"
      ],
      "text/plain": [
       "   id   date_start     date_end   gender  age          auto  \\\n",
       "0   1  03-Jan-2013  12-Jan-2013  Мужской   44           Нет   \n",
       "1   2  03-Jan-2013  17-Jan-2013  Мужской   21  Пропуск поля   \n",
       "2   3  03-Jan-2013  17-Jan-2013  Мужской   25  Пропуск поля   \n",
       "\n",
       "              housing                       marstatus regclient      jobtype  \\\n",
       "0         Собственное  Гражданский брак/женат/замужем       Нет  Официальное   \n",
       "1  Живут с родителями                          Холост       Нет  Официальное   \n",
       "2         Собственное                          Холост        Да  Официальное   \n",
       "\n",
       "                      region       credits children delinq60plus  \n",
       "0      Новосибирская область           Нет       Да          Нет  \n",
       "1     Кемеровская область юг            Да      Нет          Нет  \n",
       "2  Кемеровская область север  Пропуск поля      Нет          Нет  "
      ]
     },
     "execution_count": 5,
     "metadata": {},
     "output_type": "execute_result"
    }
   ],
   "source": [
    "raw_df"
   ]
  },
  {
   "cell_type": "code",
   "execution_count": 6,
   "metadata": {},
   "outputs": [
    {
     "name": "stdout",
     "output_type": "stream",
     "text": [
      "['id', 'date_start', 'date_end', 'gender', 'age', 'auto', 'housing', 'marstatus', 'regclient', 'jobtype', 'region', 'credits', 'children', 'delinq60plus']\n"
     ]
    }
   ],
   "source": [
    "# Извлечение списка столбцов\n",
    "col_list = raw_df.columns.tolist()\n",
    "print(col_list)"
   ]
  },
  {
   "cell_type": "code",
   "execution_count": 7,
   "metadata": {},
   "outputs": [],
   "source": [
    "# Переменная 'id' не нужна\n",
    "my_cols = col_list[1:]"
   ]
  },
  {
   "cell_type": "code",
   "execution_count": 8,
   "metadata": {},
   "outputs": [
    {
     "name": "stdout",
     "output_type": "stream",
     "text": [
      "<class 'pandas.core.frame.DataFrame'>\n",
      "RangeIndex: 3 entries, 0 to 2\n",
      "Data columns (total 14 columns):\n",
      " #   Column        Non-Null Count  Dtype \n",
      "---  ------        --------------  ----- \n",
      " 0   id            3 non-null      int64 \n",
      " 1   date_start    3 non-null      object\n",
      " 2   date_end      3 non-null      object\n",
      " 3   gender        3 non-null      object\n",
      " 4   age           3 non-null      int64 \n",
      " 5   auto          3 non-null      object\n",
      " 6   housing       3 non-null      object\n",
      " 7   marstatus     3 non-null      object\n",
      " 8   regclient     3 non-null      object\n",
      " 9   jobtype       3 non-null      object\n",
      " 10  region        3 non-null      object\n",
      " 11  credits       3 non-null      object\n",
      " 12  children      3 non-null      object\n",
      " 13  delinq60plus  3 non-null      object\n",
      "dtypes: int64(2), object(12)\n",
      "memory usage: 464.0+ bytes\n"
     ]
    }
   ],
   "source": [
    "raw_df.info()"
   ]
  },
  {
   "cell_type": "code",
   "execution_count": 9,
   "metadata": {},
   "outputs": [],
   "source": [
    "my_dtype_cat = {\"date_start\": object, \"date_end\": object, \n",
    "            \"gender\": 'category', \"age\": int, \"auto\": 'category', \n",
    "            \"marstatus\": 'category', \"regclient\": 'category', \n",
    "            \"housing\": 'category', \"jobtype\": 'category',  \n",
    "            \"region\": 'category', \"credits\": 'category',\n",
    "            \"children\": 'category', \"delinq60plus\": object}"
   ]
  },
  {
   "cell_type": "code",
   "execution_count": 10,
   "metadata": {
    "hide_input": false
   },
   "outputs": [
    {
     "data": {
      "text/html": [
       "<div>\n",
       "<style scoped>\n",
       "    .dataframe tbody tr th:only-of-type {\n",
       "        vertical-align: middle;\n",
       "    }\n",
       "\n",
       "    .dataframe tbody tr th {\n",
       "        vertical-align: top;\n",
       "    }\n",
       "\n",
       "    .dataframe thead th {\n",
       "        text-align: right;\n",
       "    }\n",
       "</style>\n",
       "<table border=\"1\" class=\"dataframe\">\n",
       "  <thead>\n",
       "    <tr style=\"text-align: right;\">\n",
       "      <th></th>\n",
       "      <th>date_start</th>\n",
       "      <th>date_end</th>\n",
       "      <th>gender</th>\n",
       "      <th>age</th>\n",
       "      <th>auto</th>\n",
       "      <th>housing</th>\n",
       "      <th>marstatus</th>\n",
       "      <th>regclient</th>\n",
       "      <th>jobtype</th>\n",
       "      <th>region</th>\n",
       "      <th>credits</th>\n",
       "      <th>children</th>\n",
       "      <th>delinq60plus</th>\n",
       "    </tr>\n",
       "  </thead>\n",
       "  <tbody>\n",
       "    <tr>\n",
       "      <th>0</th>\n",
       "      <td>03-Jan-2013</td>\n",
       "      <td>12-Jan-2013</td>\n",
       "      <td>Мужской</td>\n",
       "      <td>44</td>\n",
       "      <td>Нет</td>\n",
       "      <td>Собственное</td>\n",
       "      <td>Гражданский брак/женат/замужем</td>\n",
       "      <td>Нет</td>\n",
       "      <td>Официальное</td>\n",
       "      <td>Новосибирская область</td>\n",
       "      <td>Нет</td>\n",
       "      <td>Да</td>\n",
       "      <td>Нет</td>\n",
       "    </tr>\n",
       "    <tr>\n",
       "      <th>1</th>\n",
       "      <td>03-Jan-2013</td>\n",
       "      <td>17-Jan-2013</td>\n",
       "      <td>Мужской</td>\n",
       "      <td>21</td>\n",
       "      <td>Пропуск поля</td>\n",
       "      <td>Живут с родителями</td>\n",
       "      <td>Холост</td>\n",
       "      <td>Нет</td>\n",
       "      <td>Официальное</td>\n",
       "      <td>Кемеровская область юг</td>\n",
       "      <td>Да</td>\n",
       "      <td>Нет</td>\n",
       "      <td>Нет</td>\n",
       "    </tr>\n",
       "    <tr>\n",
       "      <th>2</th>\n",
       "      <td>03-Jan-2013</td>\n",
       "      <td>17-Jan-2013</td>\n",
       "      <td>Мужской</td>\n",
       "      <td>25</td>\n",
       "      <td>Пропуск поля</td>\n",
       "      <td>Собственное</td>\n",
       "      <td>Холост</td>\n",
       "      <td>Да</td>\n",
       "      <td>Официальное</td>\n",
       "      <td>Кемеровская область север</td>\n",
       "      <td>Пропуск поля</td>\n",
       "      <td>Нет</td>\n",
       "      <td>Нет</td>\n",
       "    </tr>\n",
       "    <tr>\n",
       "      <th>3</th>\n",
       "      <td>03-Jan-2013</td>\n",
       "      <td>17-Jan-2013</td>\n",
       "      <td>Женский</td>\n",
       "      <td>47</td>\n",
       "      <td>Пропуск поля</td>\n",
       "      <td>Собственное</td>\n",
       "      <td>Гражданский брак/женат/замужем</td>\n",
       "      <td>Да</td>\n",
       "      <td>Официальное</td>\n",
       "      <td>Кемеровская область север</td>\n",
       "      <td>Нет</td>\n",
       "      <td>Нет</td>\n",
       "      <td>Нет</td>\n",
       "    </tr>\n",
       "    <tr>\n",
       "      <th>4</th>\n",
       "      <td>03-Jan-2013</td>\n",
       "      <td>17-Jan-2013</td>\n",
       "      <td>Мужской</td>\n",
       "      <td>22</td>\n",
       "      <td>Нет</td>\n",
       "      <td>Арендуемое</td>\n",
       "      <td>Гражданский брак/женат/замужем</td>\n",
       "      <td>Нет</td>\n",
       "      <td>Официальное</td>\n",
       "      <td>Кемеровская область север</td>\n",
       "      <td>Да</td>\n",
       "      <td>Да</td>\n",
       "      <td>Нет</td>\n",
       "    </tr>\n",
       "  </tbody>\n",
       "</table>\n",
       "</div>"
      ],
      "text/plain": [
       "    date_start     date_end   gender  age          auto             housing  \\\n",
       "0  03-Jan-2013  12-Jan-2013  Мужской   44           Нет         Собственное   \n",
       "1  03-Jan-2013  17-Jan-2013  Мужской   21  Пропуск поля  Живут с родителями   \n",
       "2  03-Jan-2013  17-Jan-2013  Мужской   25  Пропуск поля         Собственное   \n",
       "3  03-Jan-2013  17-Jan-2013  Женский   47  Пропуск поля         Собственное   \n",
       "4  03-Jan-2013  17-Jan-2013  Мужской   22           Нет          Арендуемое   \n",
       "\n",
       "                        marstatus regclient      jobtype  \\\n",
       "0  Гражданский брак/женат/замужем       Нет  Официальное   \n",
       "1                          Холост       Нет  Официальное   \n",
       "2                          Холост        Да  Официальное   \n",
       "3  Гражданский брак/женат/замужем        Да  Официальное   \n",
       "4  Гражданский брак/женат/замужем       Нет  Официальное   \n",
       "\n",
       "                      region       credits children delinq60plus  \n",
       "0      Новосибирская область           Нет       Да          Нет  \n",
       "1     Кемеровская область юг            Да      Нет          Нет  \n",
       "2  Кемеровская область север  Пропуск поля      Нет          Нет  \n",
       "3  Кемеровская область север           Нет      Нет          Нет  \n",
       "4  Кемеровская область север            Да       Да          Нет  "
      ]
     },
     "execution_count": 10,
     "metadata": {},
     "output_type": "execute_result"
    }
   ],
   "source": [
    "df = pd.read_csv('MFOcredit.csv', dtype=my_dtype_cat, sep=';',\n",
    "                 usecols = my_cols, encoding='cp1251', parse_dates=True)\n",
    "df.head()"
   ]
  },
  {
   "cell_type": "markdown",
   "metadata": {
    "hide_input": true
   },
   "source": [
    "В отдельном отчете `profile_report.html` представлены основные характеристики набора данных."
   ]
  },
  {
   "cell_type": "code",
   "execution_count": 11,
   "metadata": {},
   "outputs": [
    {
     "name": "stdout",
     "output_type": "stream",
     "text": [
      "(35212, 13)\n"
     ]
    }
   ],
   "source": [
    "print(df.shape)"
   ]
  },
  {
   "cell_type": "code",
   "execution_count": 12,
   "metadata": {
    "hide_input": true
   },
   "outputs": [
    {
     "name": "stdout",
     "output_type": "stream",
     "text": [
      "Wall time: 0 ns\n"
     ]
    }
   ],
   "source": [
    "%%time\n",
    "#report = pandas_profiling.ProfileReport(df)\n",
    "#report.to_file('profile_report_.html') "
   ]
  },
  {
   "cell_type": "code",
   "execution_count": 13,
   "metadata": {},
   "outputs": [],
   "source": [
    "#report.to_file('profile_report_.html') "
   ]
  },
  {
   "cell_type": "code",
   "execution_count": 14,
   "metadata": {},
   "outputs": [
    {
     "name": "stdout",
     "output_type": "stream",
     "text": [
      "<class 'pandas.core.frame.DataFrame'>\n",
      "RangeIndex: 35212 entries, 0 to 35211\n",
      "Data columns (total 13 columns):\n",
      " #   Column        Non-Null Count  Dtype   \n",
      "---  ------        --------------  -----   \n",
      " 0   date_start    35212 non-null  object  \n",
      " 1   date_end      35212 non-null  object  \n",
      " 2   gender        35212 non-null  category\n",
      " 3   age           35212 non-null  int32   \n",
      " 4   auto          35212 non-null  category\n",
      " 5   housing       35212 non-null  category\n",
      " 6   marstatus     35212 non-null  category\n",
      " 7   regclient     35212 non-null  category\n",
      " 8   jobtype       35212 non-null  category\n",
      " 9   region        35212 non-null  category\n",
      " 10  credits       35212 non-null  category\n",
      " 11  children      35212 non-null  category\n",
      " 12  delinq60plus  35212 non-null  object  \n",
      "dtypes: category(9), int32(1), object(3)\n",
      "memory usage: 1.2+ MB\n"
     ]
    }
   ],
   "source": [
    "df.info()"
   ]
  },
  {
   "cell_type": "code",
   "execution_count": 15,
   "metadata": {},
   "outputs": [
    {
     "data": {
      "text/plain": [
       "(35212, 13)"
      ]
     },
     "execution_count": 15,
     "metadata": {},
     "output_type": "execute_result"
    }
   ],
   "source": [
    "df.shape"
   ]
  },
  {
   "cell_type": "code",
   "execution_count": 16,
   "metadata": {},
   "outputs": [
    {
     "data": {
      "text/plain": [
       "date_start      0\n",
       "date_end        0\n",
       "gender          0\n",
       "age             0\n",
       "auto            0\n",
       "housing         0\n",
       "marstatus       0\n",
       "regclient       0\n",
       "jobtype         0\n",
       "region          0\n",
       "credits         0\n",
       "children        0\n",
       "delinq60plus    0\n",
       "dtype: int64"
      ]
     },
     "execution_count": 16,
     "metadata": {},
     "output_type": "execute_result"
    }
   ],
   "source": [
    "df.isnull().sum()"
   ]
  },
  {
   "cell_type": "code",
   "execution_count": 17,
   "metadata": {},
   "outputs": [
    {
     "data": {
      "text/plain": [
       "Нет    21705\n",
       "Да     13507\n",
       "Name: delinq60plus, dtype: int64"
      ]
     },
     "execution_count": 17,
     "metadata": {},
     "output_type": "execute_result"
    }
   ],
   "source": [
    "# Распределение классов\n",
    "df.delinq60plus.value_counts()"
   ]
  },
  {
   "cell_type": "markdown",
   "metadata": {},
   "source": [
    "### EDA"
   ]
  },
  {
   "cell_type": "code",
   "execution_count": 18,
   "metadata": {},
   "outputs": [],
   "source": [
    "# Заменяем значения зависимой переменной на \"0\" и \"1\"\n",
    "df.delinq60plus = np.where(df.delinq60plus=='Нет', 0, 1)"
   ]
  },
  {
   "cell_type": "code",
   "execution_count": 19,
   "metadata": {},
   "outputs": [],
   "source": [
    "df_beta = df.copy()"
   ]
  },
  {
   "cell_type": "code",
   "execution_count": 20,
   "metadata": {},
   "outputs": [
    {
     "data": {
      "text/html": [
       "<div>\n",
       "<style scoped>\n",
       "    .dataframe tbody tr th:only-of-type {\n",
       "        vertical-align: middle;\n",
       "    }\n",
       "\n",
       "    .dataframe tbody tr th {\n",
       "        vertical-align: top;\n",
       "    }\n",
       "\n",
       "    .dataframe thead th {\n",
       "        text-align: right;\n",
       "    }\n",
       "</style>\n",
       "<table border=\"1\" class=\"dataframe\">\n",
       "  <thead>\n",
       "    <tr style=\"text-align: right;\">\n",
       "      <th></th>\n",
       "      <th>date_start</th>\n",
       "      <th>date_end</th>\n",
       "      <th>gender</th>\n",
       "      <th>age</th>\n",
       "      <th>auto</th>\n",
       "      <th>housing</th>\n",
       "      <th>marstatus</th>\n",
       "      <th>regclient</th>\n",
       "      <th>jobtype</th>\n",
       "      <th>region</th>\n",
       "      <th>credits</th>\n",
       "      <th>children</th>\n",
       "      <th>delinq60plus</th>\n",
       "    </tr>\n",
       "  </thead>\n",
       "  <tbody>\n",
       "    <tr>\n",
       "      <th>0</th>\n",
       "      <td>03-Jan-2013</td>\n",
       "      <td>12-Jan-2013</td>\n",
       "      <td>Мужской</td>\n",
       "      <td>44</td>\n",
       "      <td>Нет</td>\n",
       "      <td>Собственное</td>\n",
       "      <td>Гражданский брак/женат/замужем</td>\n",
       "      <td>Нет</td>\n",
       "      <td>Официальное</td>\n",
       "      <td>Новосибирская область</td>\n",
       "      <td>Нет</td>\n",
       "      <td>Да</td>\n",
       "      <td>0</td>\n",
       "    </tr>\n",
       "    <tr>\n",
       "      <th>1</th>\n",
       "      <td>03-Jan-2013</td>\n",
       "      <td>17-Jan-2013</td>\n",
       "      <td>Мужской</td>\n",
       "      <td>21</td>\n",
       "      <td>Пропуск поля</td>\n",
       "      <td>Живут с родителями</td>\n",
       "      <td>Холост</td>\n",
       "      <td>Нет</td>\n",
       "      <td>Официальное</td>\n",
       "      <td>Кемеровская область юг</td>\n",
       "      <td>Да</td>\n",
       "      <td>Нет</td>\n",
       "      <td>0</td>\n",
       "    </tr>\n",
       "    <tr>\n",
       "      <th>2</th>\n",
       "      <td>03-Jan-2013</td>\n",
       "      <td>17-Jan-2013</td>\n",
       "      <td>Мужской</td>\n",
       "      <td>25</td>\n",
       "      <td>Пропуск поля</td>\n",
       "      <td>Собственное</td>\n",
       "      <td>Холост</td>\n",
       "      <td>Да</td>\n",
       "      <td>Официальное</td>\n",
       "      <td>Кемеровская область север</td>\n",
       "      <td>Пропуск поля</td>\n",
       "      <td>Нет</td>\n",
       "      <td>0</td>\n",
       "    </tr>\n",
       "    <tr>\n",
       "      <th>3</th>\n",
       "      <td>03-Jan-2013</td>\n",
       "      <td>17-Jan-2013</td>\n",
       "      <td>Женский</td>\n",
       "      <td>47</td>\n",
       "      <td>Пропуск поля</td>\n",
       "      <td>Собственное</td>\n",
       "      <td>Гражданский брак/женат/замужем</td>\n",
       "      <td>Да</td>\n",
       "      <td>Официальное</td>\n",
       "      <td>Кемеровская область север</td>\n",
       "      <td>Нет</td>\n",
       "      <td>Нет</td>\n",
       "      <td>0</td>\n",
       "    </tr>\n",
       "    <tr>\n",
       "      <th>4</th>\n",
       "      <td>03-Jan-2013</td>\n",
       "      <td>17-Jan-2013</td>\n",
       "      <td>Мужской</td>\n",
       "      <td>22</td>\n",
       "      <td>Нет</td>\n",
       "      <td>Арендуемое</td>\n",
       "      <td>Гражданский брак/женат/замужем</td>\n",
       "      <td>Нет</td>\n",
       "      <td>Официальное</td>\n",
       "      <td>Кемеровская область север</td>\n",
       "      <td>Да</td>\n",
       "      <td>Да</td>\n",
       "      <td>0</td>\n",
       "    </tr>\n",
       "  </tbody>\n",
       "</table>\n",
       "</div>"
      ],
      "text/plain": [
       "    date_start     date_end   gender  age          auto             housing  \\\n",
       "0  03-Jan-2013  12-Jan-2013  Мужской   44           Нет         Собственное   \n",
       "1  03-Jan-2013  17-Jan-2013  Мужской   21  Пропуск поля  Живут с родителями   \n",
       "2  03-Jan-2013  17-Jan-2013  Мужской   25  Пропуск поля         Собственное   \n",
       "3  03-Jan-2013  17-Jan-2013  Женский   47  Пропуск поля         Собственное   \n",
       "4  03-Jan-2013  17-Jan-2013  Мужской   22           Нет          Арендуемое   \n",
       "\n",
       "                        marstatus regclient      jobtype  \\\n",
       "0  Гражданский брак/женат/замужем       Нет  Официальное   \n",
       "1                          Холост       Нет  Официальное   \n",
       "2                          Холост        Да  Официальное   \n",
       "3  Гражданский брак/женат/замужем        Да  Официальное   \n",
       "4  Гражданский брак/женат/замужем       Нет  Официальное   \n",
       "\n",
       "                      region       credits children  delinq60plus  \n",
       "0      Новосибирская область           Нет       Да             0  \n",
       "1     Кемеровская область юг            Да      Нет             0  \n",
       "2  Кемеровская область север  Пропуск поля      Нет             0  \n",
       "3  Кемеровская область север           Нет      Нет             0  \n",
       "4  Кемеровская область север            Да       Да             0  "
      ]
     },
     "execution_count": 20,
     "metadata": {},
     "output_type": "execute_result"
    }
   ],
   "source": [
    "df.head()"
   ]
  },
  {
   "cell_type": "markdown",
   "metadata": {},
   "source": [
    "#### Категориальные признаки"
   ]
  },
  {
   "cell_type": "markdown",
   "metadata": {},
   "source": [
    "Из переменных `date_start` и `date_start` извлечем информацию о годе, квартале, месяце, дне недели и удалим исходные переменные."
   ]
  },
  {
   "cell_type": "code",
   "execution_count": 21,
   "metadata": {},
   "outputs": [],
   "source": [
    "viewDate = pd.to_datetime(df['date_start']) \n",
    "df['year'] = viewDate.dt.year.astype(\"category\") \n",
    "df['quarter'] = viewDate.dt.quarter.astype(\"category\")\n",
    "df['month'] = viewDate.dt.month.astype(\"category\")\n",
    "df['weekday'] = viewDate.dt.dayofweek.astype(\"category\")"
   ]
  },
  {
   "cell_type": "code",
   "execution_count": 22,
   "metadata": {},
   "outputs": [],
   "source": [
    "del df['date_start'], df['date_end']"
   ]
  },
  {
   "cell_type": "code",
   "execution_count": 23,
   "metadata": {},
   "outputs": [
    {
     "data": {
      "text/html": [
       "<div>\n",
       "<style scoped>\n",
       "    .dataframe tbody tr th:only-of-type {\n",
       "        vertical-align: middle;\n",
       "    }\n",
       "\n",
       "    .dataframe tbody tr th {\n",
       "        vertical-align: top;\n",
       "    }\n",
       "\n",
       "    .dataframe thead th {\n",
       "        text-align: right;\n",
       "    }\n",
       "</style>\n",
       "<table border=\"1\" class=\"dataframe\">\n",
       "  <thead>\n",
       "    <tr style=\"text-align: right;\">\n",
       "      <th></th>\n",
       "      <th>gender</th>\n",
       "      <th>auto</th>\n",
       "      <th>housing</th>\n",
       "      <th>marstatus</th>\n",
       "      <th>regclient</th>\n",
       "      <th>jobtype</th>\n",
       "      <th>region</th>\n",
       "      <th>credits</th>\n",
       "      <th>children</th>\n",
       "      <th>year</th>\n",
       "      <th>quarter</th>\n",
       "      <th>month</th>\n",
       "      <th>weekday</th>\n",
       "    </tr>\n",
       "  </thead>\n",
       "  <tbody>\n",
       "    <tr>\n",
       "      <th>count</th>\n",
       "      <td>35212</td>\n",
       "      <td>35212</td>\n",
       "      <td>35212</td>\n",
       "      <td>35212</td>\n",
       "      <td>35212</td>\n",
       "      <td>35212</td>\n",
       "      <td>35212</td>\n",
       "      <td>35212</td>\n",
       "      <td>35212</td>\n",
       "      <td>35212</td>\n",
       "      <td>35212</td>\n",
       "      <td>35212</td>\n",
       "      <td>35212</td>\n",
       "    </tr>\n",
       "    <tr>\n",
       "      <th>unique</th>\n",
       "      <td>2</td>\n",
       "      <td>3</td>\n",
       "      <td>6</td>\n",
       "      <td>5</td>\n",
       "      <td>2</td>\n",
       "      <td>3</td>\n",
       "      <td>5</td>\n",
       "      <td>3</td>\n",
       "      <td>3</td>\n",
       "      <td>2</td>\n",
       "      <td>4</td>\n",
       "      <td>12</td>\n",
       "      <td>7</td>\n",
       "    </tr>\n",
       "    <tr>\n",
       "      <th>top</th>\n",
       "      <td>Женский</td>\n",
       "      <td>Нет</td>\n",
       "      <td>Собственное</td>\n",
       "      <td>Гражданский брак/женат/замужем</td>\n",
       "      <td>Да</td>\n",
       "      <td>Официальное</td>\n",
       "      <td>Кемеровская область север</td>\n",
       "      <td>Нет</td>\n",
       "      <td>Нет</td>\n",
       "      <td>2013</td>\n",
       "      <td>4</td>\n",
       "      <td>12</td>\n",
       "      <td>0</td>\n",
       "    </tr>\n",
       "    <tr>\n",
       "      <th>freq</th>\n",
       "      <td>18275</td>\n",
       "      <td>17465</td>\n",
       "      <td>18099</td>\n",
       "      <td>14099</td>\n",
       "      <td>19733</td>\n",
       "      <td>19588</td>\n",
       "      <td>12447</td>\n",
       "      <td>18126</td>\n",
       "      <td>21141</td>\n",
       "      <td>35030</td>\n",
       "      <td>13492</td>\n",
       "      <td>6220</td>\n",
       "      <td>6373</td>\n",
       "    </tr>\n",
       "  </tbody>\n",
       "</table>\n",
       "</div>"
      ],
      "text/plain": [
       "         gender   auto      housing                       marstatus regclient  \\\n",
       "count     35212  35212        35212                           35212     35212   \n",
       "unique        2      3            6                               5         2   \n",
       "top     Женский    Нет  Собственное  Гражданский брак/женат/замужем        Да   \n",
       "freq      18275  17465        18099                           14099     19733   \n",
       "\n",
       "            jobtype                     region credits children   year  \\\n",
       "count         35212                      35212   35212    35212  35212   \n",
       "unique            3                          5       3        3      2   \n",
       "top     Официальное  Кемеровская область север     Нет      Нет   2013   \n",
       "freq          19588                      12447   18126    21141  35030   \n",
       "\n",
       "        quarter  month  weekday  \n",
       "count     35212  35212    35212  \n",
       "unique        4     12        7  \n",
       "top           4     12        0  \n",
       "freq      13492   6220     6373  "
      ]
     },
     "execution_count": 23,
     "metadata": {},
     "output_type": "execute_result"
    }
   ],
   "source": [
    "# Общая информация по категориальным признакам\n",
    "df_describe = df.describe(include=['category'])\n",
    "df_describe"
   ]
  },
  {
   "cell_type": "markdown",
   "metadata": {},
   "source": [
    "Рассмотрим распределение значения \"Пропуск поля\" в признаках."
   ]
  },
  {
   "cell_type": "code",
   "execution_count": 24,
   "metadata": {},
   "outputs": [],
   "source": [
    "cat_columns = [i for i in df.columns if df[i].dtype.name=='category']\n",
    "cat_str_columns = [x for x in cat_columns \n",
    "                   if x not in ['year', 'quarter', \n",
    "                                'month', 'weekday']]"
   ]
  },
  {
   "cell_type": "code",
   "execution_count": 25,
   "metadata": {},
   "outputs": [
    {
     "name": "stdout",
     "output_type": "stream",
     "text": [
      "Процент значений \"Пропуск поля\" в предикторах:\n",
      "auto\n",
      "40 % \n",
      "\n",
      "housing\n",
      "22 % \n",
      "\n",
      "marstatus\n",
      "21 % \n",
      "\n",
      "jobtype\n",
      "41 % \n",
      "\n",
      "credits\n",
      "3 % \n",
      "\n",
      "children\n",
      "2 % \n",
      "\n"
     ]
    }
   ],
   "source": [
    "print('Процент значений \"Пропуск поля\" в предикторах:')\n",
    "for col in cat_str_columns:\n",
    "    if df[col].str.contains(r\"Пропуск поля\").any():\n",
    "        print(col)\n",
    "        print(round((df[col].value_counts()['Пропуск поля'])/\n",
    "                    df.shape[0]*100),'%','\\n')\n",
    "    else:\n",
    "        continue "
   ]
  },
  {
   "cell_type": "markdown",
   "metadata": {},
   "source": [
    "Значительное (20-40%) количество значений \"Пропуск поля\" в предикторе будем считать отдельной категорией. Обработаем только переменные `credits` и `children`."
   ]
  },
  {
   "cell_type": "code",
   "execution_count": 26,
   "metadata": {},
   "outputs": [],
   "source": [
    "# Разделение данных на обучающую и тестовую выборки\n",
    "y = df.delinq60plus.astype('int')\n",
    "X = df.drop(['delinq60plus'], axis=1)\n",
    "\n",
    "X_train, X_test, y_train, y_test = train_test_split(X, y,\n",
    "                                                    train_size=0.7,\n",
    "                                                    random_state=42)"
   ]
  },
  {
   "cell_type": "code",
   "execution_count": 27,
   "metadata": {},
   "outputs": [
    {
     "data": {
      "text/plain": [
       "Нет             12722\n",
       "Да              11267\n",
       "Пропуск поля      659\n",
       "Name: credits, dtype: int64"
      ]
     },
     "execution_count": 27,
     "metadata": {},
     "output_type": "execute_result"
    },
    {
     "data": {
      "text/plain": [
       "Нет             14837\n",
       "Да               9297\n",
       "Пропуск поля      514\n",
       "Name: children, dtype: int64"
      ]
     },
     "execution_count": 27,
     "metadata": {},
     "output_type": "execute_result"
    }
   ],
   "source": [
    "X_train.credits.value_counts()\n",
    "X_train.children.value_counts()"
   ]
  },
  {
   "cell_type": "markdown",
   "metadata": {},
   "source": [
    "Будем исходить из предположения, что указанные поля не заполнены вместо того, чтобы ответить \"Нет\". Это значение является топовым для обеих переменных, поэтому заменим им значение \"Пропуск поля\"."
   ]
  },
  {
   "cell_type": "code",
   "execution_count": 28,
   "metadata": {},
   "outputs": [],
   "source": [
    "rep_cols = ['children', 'credits']\n",
    "for col in rep_cols:\n",
    "    for X in [X_train, X_test]:\n",
    "        X[col] = X[col].replace(to_replace=\"Пропуск поля\", \n",
    "                             value=X[col].describe().top)\n",
    "        X[col] = X[col].cat.remove_unused_categories().astype('object')  "
   ]
  },
  {
   "cell_type": "markdown",
   "metadata": {},
   "source": [
    "##### Числовая переменная "
   ]
  },
  {
   "cell_type": "markdown",
   "metadata": {},
   "source": [
    "Числовая переменная в датасете одна - `age`. Рассмотрим распределение переменной и, при необходимости, возможность приведения его к нормальному."
   ]
  },
  {
   "cell_type": "code",
   "execution_count": 29,
   "metadata": {},
   "outputs": [
    {
     "data": {
      "text/plain": [
       "count    35212.000000\n",
       "mean        37.243525\n",
       "std         13.183961\n",
       "min         18.000000\n",
       "25%         26.000000\n",
       "50%         34.000000\n",
       "75%         48.000000\n",
       "max         75.000000\n",
       "Name: age, dtype: float64"
      ]
     },
     "execution_count": 29,
     "metadata": {},
     "output_type": "execute_result"
    }
   ],
   "source": [
    "df.age.describe()"
   ]
  },
  {
   "cell_type": "code",
   "execution_count": 30,
   "metadata": {},
   "outputs": [
    {
     "data": {
      "image/png": "[encoded data removed]",
      "text/plain": [
       "<Figure size 432x288 with 1 Axes>"
      ]
     },
     "metadata": {
      "needs_background": "light"
     },
     "output_type": "display_data"
    },
    {
     "data": {
      "image/png": "[encoded data removed]",
      "text/plain": [
       "<Figure size 432x288 with 1 Axes>"
      ]
     },
     "metadata": {
      "needs_background": "light"
     },
     "output_type": "display_data"
    }
   ],
   "source": [
    "sns.distplot(df.age, fit=norm, bins = 30);\n",
    "fig = plt.figure();\n",
    "res = stats.probplot(df.age, plot=plt);"
   ]
  },
  {
   "cell_type": "markdown",
   "metadata": {},
   "source": [
    "После перебора различных методов нормализации и скалирования выбран `QuantileTransformer`, который дал лучший результат."
   ]
  },
  {
   "cell_type": "code",
   "execution_count": 31,
   "metadata": {},
   "outputs": [],
   "source": [
    "df_norm = pd.DataFrame(df['age'])\n",
    "transform_feature = QuantileTransformer(output_distribution='normal')\n",
    "\n",
    "df_norm['age_scaled'] = transform_feature.fit_transform(df_norm[['age']])"
   ]
  },
  {
   "cell_type": "code",
   "execution_count": 32,
   "metadata": {},
   "outputs": [
    {
     "data": {
      "image/png": "[encoded data removed]",
      "text/plain": [
       "<Figure size 432x288 with 1 Axes>"
      ]
     },
     "metadata": {
      "needs_background": "light"
     },
     "output_type": "display_data"
    },
    {
     "data": {
      "image/png": "[encoded data removed]",
      "text/plain": [
       "<Figure size 432x288 with 1 Axes>"
      ]
     },
     "metadata": {
      "needs_background": "light"
     },
     "output_type": "display_data"
    }
   ],
   "source": [
    "sns.distplot(df_norm['age_scaled'], fit=norm);\n",
    "fig = plt.figure();\n",
    "res = stats.probplot(df_norm['age_scaled'], plot=plt);"
   ]
  },
  {
   "cell_type": "markdown",
   "metadata": {},
   "source": [
    "Применим тест `normaltest` (from scipy.stats) для проверки нормальности распределения переменной `age` после применения `QuantileTransformer`. "
   ]
  },
  {
   "cell_type": "code",
   "execution_count": 33,
   "metadata": {},
   "outputs": [
    {
     "name": "stdout",
     "output_type": "stream",
     "text": [
      "Значение p = 0.049\n"
     ]
    }
   ],
   "source": [
    "_, transformed_p = normaltest(df_norm['age_scaled'])\n",
    "print('Значение p = %.3f' % (transformed_p))"
   ]
  },
  {
   "cell_type": "markdown",
   "metadata": {},
   "source": [
    "Распределение соответствует нормальному, если значение p > 0.05. Условие согласно тесту не соблюдается, визуально распределение практически нормальное."
   ]
  },
  {
   "cell_type": "code",
   "execution_count": 34,
   "metadata": {},
   "outputs": [],
   "source": [
    "X_train['age_scaled'] = transform_feature.fit_transform(X_train[['age']])\n",
    "X_test['age_scaled'] = transform_feature.fit_transform(X_test[['age']])"
   ]
  },
  {
   "cell_type": "code",
   "execution_count": 35,
   "metadata": {},
   "outputs": [],
   "source": [
    "del X_train['age'], X_test['age']"
   ]
  },
  {
   "cell_type": "markdown",
   "metadata": {},
   "source": [
    "##### Дамми-кодирование"
   ]
  },
  {
   "cell_type": "code",
   "execution_count": 36,
   "metadata": {},
   "outputs": [],
   "source": [
    "X_train_catdummy = pd.get_dummies(X_train[cat_columns])\n",
    "X_test_catdummy = pd.get_dummies(X_test[cat_columns])"
   ]
  },
  {
   "cell_type": "code",
   "execution_count": 37,
   "metadata": {},
   "outputs": [],
   "source": [
    "X_train_dummy = pd.concat((X_train['age_scaled'], X_train_catdummy), axis=1)\n",
    "X_test_dummy = pd.concat((X_test['age_scaled'], X_test_catdummy), axis=1)"
   ]
  },
  {
   "cell_type": "markdown",
   "metadata": {},
   "source": [
    "##### BackwardDifferenceEncoder"
   ]
  },
  {
   "cell_type": "code",
   "execution_count": 38,
   "metadata": {},
   "outputs": [],
   "source": [
    "encoder = ce.BackwardDifferenceEncoder()\n",
    "\n",
    "X_train_bde = encoder.fit_transform(X_train[cat_columns])\n",
    "X_test_bde = encoder.fit_transform(X_test[cat_columns])"
   ]
  },
  {
   "cell_type": "code",
   "execution_count": 39,
   "metadata": {},
   "outputs": [],
   "source": [
    "X_train_BDE = pd.concat((X_train['age_scaled'], X_train_bde), axis=1)\n",
    "X_test_BDE = pd.concat((X_test['age_scaled'], X_test_bde), axis=1)"
   ]
  },
  {
   "cell_type": "markdown",
   "metadata": {},
   "source": [
    "### Моделирование"
   ]
  },
  {
   "cell_type": "markdown",
   "metadata": {},
   "source": [
    "#### RandomForest"
   ]
  },
  {
   "cell_type": "code",
   "execution_count": 40,
   "metadata": {},
   "outputs": [],
   "source": [
    "forest = RandomForestClassifier(n_estimators=1000, max_depth=17, \n",
    "                                random_state=2020, n_jobs=-1)"
   ]
  },
  {
   "cell_type": "code",
   "execution_count": 41,
   "metadata": {},
   "outputs": [
    {
     "data": {
      "text/plain": [
       "RandomForestClassifier(max_depth=17, n_estimators=1000, n_jobs=-1,\n",
       "                       random_state=2020)"
      ]
     },
     "execution_count": 41,
     "metadata": {},
     "output_type": "execute_result"
    },
    {
     "name": "stdout",
     "output_type": "stream",
     "text": [
      "AUC на обучающей выборке: 0.992\n",
      "AUC на контрольной выборке: 0.842\n"
     ]
    }
   ],
   "source": [
    "# Dummy\n",
    "forest.fit(X_train_dummy, y_train)\n",
    "\n",
    "print('AUC на обучающей выборке: {:.3f}'.\n",
    "      format(roc_auc_score(y_train, forest.predict_proba(X_train_dummy)[:, 1])))\n",
    "print('AUC на контрольной выборке: {:.3f}'.\n",
    "      format(roc_auc_score(y_test, forest.predict_proba(X_test_dummy)[:, 1])))"
   ]
  },
  {
   "cell_type": "code",
   "execution_count": 40,
   "metadata": {},
   "outputs": [
    {
     "data": {
      "text/plain": [
       "RandomForestClassifier(bootstrap=True, ccp_alpha=0.0, class_weight=None,\n",
       "                       criterion='gini', max_depth=17, max_features='auto',\n",
       "                       max_leaf_nodes=None, max_samples=None,\n",
       "                       min_impurity_decrease=0.0, min_impurity_split=None,\n",
       "                       min_samples_leaf=1, min_samples_split=2,\n",
       "                       min_weight_fraction_leaf=0.0, n_estimators=1000,\n",
       "                       n_jobs=-1, oob_score=False, random_state=2020, verbose=0,\n",
       "                       warm_start=False)"
      ]
     },
     "execution_count": 40,
     "metadata": {},
     "output_type": "execute_result"
    },
    {
     "name": "stdout",
     "output_type": "stream",
     "text": [
      "AUC на обучающей выборке: 0.997\n",
      "AUC на контрольной выборке: 0.817\n"
     ]
    }
   ],
   "source": [
    "# BackwardDifferenceEncoder\n",
    "forest.fit(X_train_BDE, y_train)\n",
    "\n",
    "print('AUC на обучающей выборке: {:.3f}'.\n",
    "      format(roc_auc_score(y_train, forest.predict_proba(X_train_BDE)[:, 1])))\n",
    "print('AUC на контрольной выборке: {:.3f}'.\n",
    "      format(roc_auc_score(y_test, forest.predict_proba(X_test_BDE)[:, 1])))"
   ]
  },
  {
   "cell_type": "markdown",
   "metadata": {},
   "source": [
    "#### GradientBoostingClassifier"
   ]
  },
  {
   "cell_type": "code",
   "execution_count": 44,
   "metadata": {},
   "outputs": [
    {
     "data": {
      "text/plain": [
       "GradientBoostingClassifier(ccp_alpha=0.0, criterion='friedman_mse', init=None,\n",
       "                           learning_rate=0.1, loss='deviance', max_depth=3,\n",
       "                           max_features=None, max_leaf_nodes=None,\n",
       "                           min_impurity_decrease=0.0, min_impurity_split=None,\n",
       "                           min_samples_leaf=1, min_samples_split=2,\n",
       "                           min_weight_fraction_leaf=0.0, n_estimators=800,\n",
       "                           n_iter_no_change=None, presort='deprecated',\n",
       "                           random_state=42, subsample=1.0, tol=0.0001,\n",
       "                           validation_fraction=0.1, verbose=0,\n",
       "                           warm_start=False)"
      ]
     },
     "execution_count": 44,
     "metadata": {},
     "output_type": "execute_result"
    }
   ],
   "source": [
    "gbt = GradientBoostingClassifier(n_estimators=800, random_state=42)\n",
    "\n",
    "# Dummy\n",
    "gbt.fit(X_train_dummy, y_train)"
   ]
  },
  {
   "cell_type": "code",
   "execution_count": 45,
   "metadata": {},
   "outputs": [
    {
     "name": "stdout",
     "output_type": "stream",
     "text": [
      "AUC на обучающей выборке: 0.878\n",
      "AUC на контрольной выборке: 0.849\n"
     ]
    }
   ],
   "source": [
    "print('AUC на обучающей выборке: {:.3f}'.\n",
    "      format(roc_auc_score(y_train, gbt.predict_proba(X_train_dummy)[:, 1])))\n",
    "print('AUC на контрольной выборке: {:.3f}'.\n",
    "      format(roc_auc_score(y_test, gbt.predict_proba(X_test_dummy)[:, 1])))"
   ]
  },
  {
   "cell_type": "code",
   "execution_count": 46,
   "metadata": {},
   "outputs": [
    {
     "data": {
      "text/plain": [
       "GradientBoostingClassifier(ccp_alpha=0.0, criterion='friedman_mse', init=None,\n",
       "                           learning_rate=0.1, loss='deviance', max_depth=3,\n",
       "                           max_features=None, max_leaf_nodes=None,\n",
       "                           min_impurity_decrease=0.0, min_impurity_split=None,\n",
       "                           min_samples_leaf=1, min_samples_split=2,\n",
       "                           min_weight_fraction_leaf=0.0, n_estimators=800,\n",
       "                           n_iter_no_change=None, presort='deprecated',\n",
       "                           random_state=42, subsample=1.0, tol=0.0001,\n",
       "                           validation_fraction=0.1, verbose=0,\n",
       "                           warm_start=False)"
      ]
     },
     "execution_count": 46,
     "metadata": {},
     "output_type": "execute_result"
    }
   ],
   "source": [
    "# BackwardDifferenceEncoder\n",
    "gbt.fit(X_train_BDE, y_train)"
   ]
  },
  {
   "cell_type": "code",
   "execution_count": 47,
   "metadata": {},
   "outputs": [
    {
     "name": "stdout",
     "output_type": "stream",
     "text": [
      "AUC на обучающей выборке: 0.874\n",
      "AUC на контрольной выборке: 0.822\n"
     ]
    }
   ],
   "source": [
    "print('AUC на обучающей выборке: {:.3f}'.\n",
    "      format(roc_auc_score(y_train, gbt.predict_proba(X_train_BDE)[:, 1])))\n",
    "print('AUC на контрольной выборке: {:.3f}'.\n",
    "      format(roc_auc_score(y_test, gbt.predict_proba(X_test_BDE)[:, 1])))"
   ]
  },
  {
   "cell_type": "markdown",
   "metadata": {},
   "source": [
    "### Оценка важности предикторов"
   ]
  },
  {
   "cell_type": "code",
   "execution_count": 40,
   "metadata": {},
   "outputs": [
    {
     "name": "stdout",
     "output_type": "stream",
     "text": [
      "Важность предикторов:\n",
      " 1. 'age_scaled' (0.1398)\n",
      " 2. 'quarter_4' (0.1386)\n",
      " 3. 'month_12' (0.0776)\n",
      " 4. 'month_11' (0.0397)\n",
      " 5. 'quarter_2' (0.0320)\n",
      " 6. 'quarter_1' (0.0242)\n",
      " 7. 'region_Кемеровская область север' (0.0188)\n",
      " 8. 'month_10' (0.0167)\n",
      " 9. 'credits_Да' (0.0161)\n",
      "10. 'credits_Нет' (0.0158)\n",
      "11. 'weekday_0' (0.0149)\n",
      "12. 'regclient_Да' (0.0148)\n",
      "13. 'housing_Собственное' (0.0148)\n",
      "14. 'quarter_3' (0.0147)\n",
      "15. 'regclient_Нет' (0.0147)\n",
      "16. 'marstatus_Гражданский брак/женат/замужем' (0.0144)\n",
      "17. 'gender_Женский' (0.0143)\n",
      "18. 'weekday_4' (0.0142)\n",
      "19. 'gender_Мужской' (0.0142)\n",
      "20. 'weekday_2' (0.0141)\n",
      "21. 'weekday_1' (0.0140)\n",
      "22. 'auto_Нет' (0.0139)\n",
      "23. 'region_Кемеровская область юг' (0.0139)\n",
      "24. 'weekday_3' (0.0136)\n",
      "25. 'marstatus_Холост' (0.0136)\n",
      "26. 'children_Да' (0.0134)\n",
      "27. 'children_Нет' (0.0134)\n",
      "28. 'weekday_5' (0.0127)\n",
      "29. 'jobtype_Пропуск поля' (0.0125)\n",
      "30. 'jobtype_Официальное' (0.0119)\n",
      "31. 'auto_Пропуск поля' (0.0118)\n",
      "32. 'month_3' (0.0115)\n",
      "33. 'month_4' (0.0115)\n",
      "34. 'region_Новосибирская область' (0.0115)\n",
      "35. 'region_Алтайский край' (0.0107)\n",
      "36. 'weekday_6' (0.0099)\n",
      "37. 'auto_Да' (0.0095)\n",
      "38. 'marstatus_Разведен' (0.0095)\n",
      "39. 'housing_Живут с родителями' (0.0087)\n",
      "40. 'month_5' (0.0085)\n",
      "41. 'housing_Долевая собственность' (0.0084)\n",
      "42. 'month_6' (0.0077)\n",
      "43. 'month_7' (0.0077)\n",
      "44. 'month_9' (0.0076)\n",
      "45. 'housing_Арендуемое' (0.0073)\n",
      "46. 'housing_Пропуск поля' (0.0063)\n",
      "47. 'housing_Муниципальное' (0.0063)\n",
      "48. 'month_2' (0.0062)\n",
      "49. 'region_Красноярский край' (0.0062)\n",
      "50. 'marstatus_Пропуск поля' (0.0062)\n",
      "51. 'month_8' (0.0062)\n",
      "52. 'marstatus_Вдова/вдовец' (0.0054)\n",
      "53. 'jobtype_Неофициальное' (0.0051)\n",
      "54. 'year_2014' (0.0047)\n",
      "55. 'year_2013' (0.0046)\n",
      "56. 'month_1' (0.0040)\n"
     ]
    }
   ],
   "source": [
    "# по примеру у Романа Николаевича - оценка важности предикторов\n",
    "feature_names = X_train_dummy.columns\n",
    "# cоздаем объект со значениями важностей, вычисленными моделью forest\n",
    "importances = forest.feature_importances_\n",
    "# задаем сортировку значений важности и сопоставляем \n",
    "# названия предикторов важностям\n",
    "indices = np.argsort(importances)[::-1]\n",
    "\n",
    "print(\"Важность предикторов:\")\n",
    "for f, idx in enumerate(indices):\n",
    "    print(\"{:2d}. '{:5s}' ({:.4f})\".format(f + 1,\n",
    "                                           feature_names[idx],\n",
    "                                           importances[idx]))"
   ]
  },
  {
   "cell_type": "markdown",
   "metadata": {},
   "source": [
    "График значимости для первых 20 признаков:"
   ]
  },
  {
   "cell_type": "code",
   "execution_count": 41,
   "metadata": {},
   "outputs": [
    {
     "data": {
      "image/png": "[encoded data removed]",
      "text/plain": [
       "<Figure size 864x360 with 1 Axes>"
      ]
     },
     "metadata": {
      "needs_background": "light"
     },
     "output_type": "display_data"
    }
   ],
   "source": [
    "d_first = 20\n",
    "plt.figure(figsize=(12, 5))\n",
    "plt.title(\"Feature importances\")\n",
    "plt.bar(range(d_first), importances[indices[:d_first]], align='center')\n",
    "plt.xticks(range(d_first), np.array(feature_names)[indices[:d_first]], rotation=90)\n",
    "plt.xlim([-1, d_first]);"
   ]
  },
  {
   "cell_type": "markdown",
   "metadata": {},
   "source": [
    "### Выводы"
   ]
  },
  {
   "cell_type": "markdown",
   "metadata": {},
   "source": [
    "1. Лучший результат показала модель GradientBoostingClassifier после дамми-кодирования категориальных переменных, AUC на контрольной выборке: 0.849.\n",
    "2. Использование меньшего количества предикторов (например, 20 наиболее значимых) не привело к улучшению результатов моделей."
   ]
  }
 ],
 "metadata": {
  "kernelspec": {
   "display_name": "Python 3.9.7 64-bit",
   "language": "python",
   "name": "python3"
  },
  "language_info": {
   "codemirror_mode": {
    "name": "ipython",
    "version": 3
   },
   "file_extension": ".py",
   "mimetype": "text/x-python",
   "name": "python",
   "nbconvert_exporter": "python",
   "pygments_lexer": "ipython3",
   "version": "3.9.7"
  },
  "toc": {
   "base_numbering": 1,
   "nav_menu": {},
   "number_sections": true,
   "sideBar": false,
   "skip_h1_title": false,
   "title_cell": "Table of Contents",
   "title_sidebar": "Contents",
   "toc_cell": false,
   "toc_position": {},
   "toc_section_display": true,
   "toc_window_display": false
  },
  "varInspector": {
   "cols": {
    "lenName": 16,
    "lenType": 16,
    "lenVar": 40
   },
   "kernels_config": {
    "python": {
     "delete_cmd_postfix": "",
     "delete_cmd_prefix": "del ",
     "library": "var_list.py",
     "varRefreshCmd": "print(var_dic_list())"
    },
    "r": {
     "delete_cmd_postfix": ") ",
     "delete_cmd_prefix": "rm(",
     "library": "var_list.r",
     "varRefreshCmd": "cat(var_dic_list()) "
    }
   },
   "types_to_exclude": [
    "module",
    "function",
    "builtin_function_or_method",
    "instance",
    "_Feature"
   ],
   "window_display": false
  },
  "vscode": {
   "interpreter": {
    "hash": "cf92aa13fedf815d5c8dd192b8d835913fde3e8bc926b2a0ad6cc74ef2ba3ca2"
   }
  }
 },
 "nbformat": 4,
 "nbformat_minor": 2
}
