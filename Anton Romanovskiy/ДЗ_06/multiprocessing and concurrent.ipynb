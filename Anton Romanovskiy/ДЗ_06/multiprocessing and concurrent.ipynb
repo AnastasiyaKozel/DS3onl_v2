{
 "cells": [
  {
   "cell_type": "markdown",
   "id": "aee28ac7",
   "metadata": {},
   "source": [
    "Романовский А.Н. 28.09.2022  \n",
    "#### Исследование потоков и процессов при помощи парсинга \n",
    "____"
   ]
  },
  {
   "cell_type": "markdown",
   "id": "3c2be01f",
   "metadata": {},
   "source": [
    "### Задание:\n",
    "Реализовать с использованием потоков и процессов скачивание файлов из интернета. \n",
    "\n",
    "Список файлов для скачивания подготовить самостоятельно (например изображений, не менее 100 изображений или других объектов). \n",
    "\n",
    "Сравнить производительность с последовательным методом. \n",
    "\n",
    "\n",
    "Сравнивть производительность Thread и multiprocessing решений.\n",
    "\n",
    "Попробовать подобрать оптимальное число потоков/процессов. "
   ]
  },
  {
   "cell_type": "code",
   "execution_count": 1,
   "id": "168620e2",
   "metadata": {},
   "outputs": [],
   "source": [
    "import requests\n",
    "from bs4 import BeautifulSoup\n",
    "import time\n",
    "import os\n",
    "import shutil\n",
    "import concurrent\n",
    "import multiprocessing"
   ]
  },
  {
   "cell_type": "markdown",
   "id": "5f65b321",
   "metadata": {},
   "source": [
    "#### Использование одного потока и одного процесса "
   ]
  },
  {
   "cell_type": "code",
   "execution_count": 2,
   "id": "fdac06bb",
   "metadata": {},
   "outputs": [],
   "source": [
    "page_number = 1\n",
    "img_list = [] #лист с ссылками изображений \n",
    "for page_number in range(1, 7):\n",
    "    response = requests.get(f'https://zastavok.net/{page_number}') #запрс на страницу \n",
    "    if response.status_code == 200: #ответ \n",
    "        soup = BeautifulSoup(response.text, features=\"html.parser\")\n",
    "        find_class = soup.find('div', class_=\"block-photo\") #ищем основной блок с фото\n",
    "        all_image = find_class.find_all('div', class_=\"short_full\" ) # ищем все теги в основном блоке\n",
    "\n",
    "        for image in all_image:  #перебираем список тегов\n",
    "            image_url = image.find('img', class_=\"short_prev_img\").get('src') #в нем находим по тегу и отправляем запрос на ссылку с привью картинкой\n",
    "\n",
    "            img_list.append(image_url) #добавляем в лист\n",
    "            if len(img_list) == 100:\n",
    "                    break   \n",
    "                        \n",
    "    else:\n",
    "        print('try again')"
   ]
  },
  {
   "cell_type": "code",
   "execution_count": 3,
   "id": "1738b079",
   "metadata": {},
   "outputs": [
    {
     "name": "stdout",
     "output_type": "stream",
     "text": [
      "100 links downloaded\n"
     ]
    }
   ],
   "source": [
    "print(len(img_list), 'links downloaded') #размер листа с изображениями "
   ]
  },
  {
   "cell_type": "code",
   "execution_count": 4,
   "id": "104dec0d",
   "metadata": {},
   "outputs": [],
   "source": [
    "def download(link): # функция сохраняет изображения \n",
    "    link_name = requests.get(f'https://zastavok.net/{link}') #запрос на ссылку \n",
    "    with open(f'{path}{img_list.index(link)}.jpg', 'wb') as file:   #запись \n",
    "             file.write(link_name.content)"
   ]
  },
  {
   "cell_type": "code",
   "execution_count": 5,
   "id": "39d8c8a7",
   "metadata": {},
   "outputs": [
    {
     "name": "stdout",
     "output_type": "stream",
     "text": [
      "Одиночная загрузка составляет 27c\n"
     ]
    }
   ],
   "source": [
    "path = ('D:/image/')            #создаем папку \n",
    "try: \n",
    "    os.mkdir(path)\n",
    "except FileExistsError:\n",
    "    shutil.rmtree (path) #проверка на ошибку  \n",
    "    os.mkdir(path)\n",
    "\n",
    "start = time.time()  \n",
    "\n",
    "for link in img_list:  #циклом запишем в однопоточном режиме \n",
    "    download(link)   \n",
    "\n",
    "end = time.time()\n",
    "print('Одиночная загрузка составляет ' +str(round(end - start )) + 'c')\n",
    "shutil.rmtree(path)"
   ]
  },
  {
   "cell_type": "markdown",
   "id": "22b2d01c",
   "metadata": {},
   "source": [
    "#### Использование многопоточности при помощи ThreadPoolExecutor"
   ]
  },
  {
   "cell_type": "code",
   "execution_count": 7,
   "id": "c1a492b0",
   "metadata": {},
   "outputs": [
    {
     "name": "stdout",
     "output_type": "stream",
     "text": [
      "2, потока выполняют задачу за 13c\n",
      "3, потока выполняют задачу за 9c\n",
      "4, потока выполняют задачу за 7c\n",
      "5, потока выполняют задачу за 6c\n",
      "6, потока выполняют задачу за 5c\n",
      "7, потока выполняют задачу за 4c\n",
      "8, потока выполняют задачу за 5c\n",
      "9, потока выполняют задачу за 4c\n",
      "10, потока выполняют задачу за 4c\n",
      "11, потока выполняют задачу за 4c\n",
      "12, потока выполняют задачу за 4c\n",
      "13, потока выполняют задачу за 3c\n",
      "14, потока выполняют задачу за 3c\n",
      "15, потока выполняют задачу за 2c\n",
      "16, потока выполняют задачу за 2c\n",
      "17, потока выполняют задачу за 3c\n"
     ]
    }
   ],
   "source": [
    "for multithreaded in range(2, 18): #в цикле будем менять количество потоков \n",
    "    path = ('D:/image/')            \n",
    "    try: \n",
    "        os.mkdir(path)\n",
    "    except FileExistsError:\n",
    "        shutil.rmtree (path)\n",
    "        os.mkdir(path)\n",
    "    start = time.time()\n",
    "    with concurrent.futures.ThreadPoolExecutor(multithreaded) as executor:\n",
    "        executor.map(download, img_list)   #каждый вызов  download итерируется по img_list и выполняетя в отдельном потоке \n",
    "    end = time.time()\n",
    "    print(f'{multithreaded}, потока выполняют задачу за ' +str(round(end - start ))  + 'c') "
   ]
  },
  {
   "cell_type": "markdown",
   "id": "40acc764",
   "metadata": {},
   "source": [
    "#### Использование многопроцесеррности при помощи multiprocessing"
   ]
  },
  {
   "cell_type": "code",
   "execution_count": null,
   "id": "7041be69",
   "metadata": {},
   "outputs": [],
   "source": [
    "path = ('D:/image/')\n",
    "if __name__ == \"__main__\":\n",
    "    for process in range(1,7): #в цикле будем менять количество процессов \n",
    "        try: \n",
    "            os.mkdir(path)\n",
    "        except FileExistsError:\n",
    "            shutil.rmtree (path)\n",
    "            os.mkdir(path)\n",
    "        start = time.time()\n",
    "        with multiprocessing.Pool(process) as pool:\n",
    "            pool.map(download, img_list)  #каждый вызов  download итерируется по img_list и выполняетя в отдельном процессе\n",
    "\n",
    "        end = time.time()\n",
    "        print(f'{process} процессов выполняют задачу за' +str(round(end - start )) + 'c')\n"
   ]
  },
  {
   "cell_type": "raw",
   "id": "f4004450",
   "metadata": {},
   "source": [
    "вывод:\n",
    "1 процессов выполняют задачу за29c\n",
    "2 процессов выполняют задачу за16c\n",
    "3 процессов выполняют задачу за12c\n",
    "4 процессов выполняют задачу за10c\n",
    "5 процессов выполняют задачу за9c\n",
    "6 процессов выполняют задачу за9c\n",
    "7 процессов выполняют задачу за10c\n",
    "\n",
    "Process finished with exit code 0\n",
    "\n"
   ]
  },
  {
   "cell_type": "markdown",
   "id": "895a64c9",
   "metadata": {},
   "source": [
    "____\n",
    "### Вывод:\n",
    "#### при выполнении задачи, были использованы модули multiprocessing и concurrent\n",
    "* одинопоточная загрузка составила 27с\n",
    "* при использовании многопоточного режима, лучши результат оказался 15-16 потоков, за 2с\n",
    "* при многопроцессорной загрузке лучший показатель 5-6 потоков за 9с\n",
    "* в данной задаче, самым быстрым вариантом является многопоточный режим"
   ]
  },
  {
   "cell_type": "code",
   "execution_count": null,
   "id": "3030938c",
   "metadata": {},
   "outputs": [],
   "source": []
  }
 ],
 "metadata": {
  "kernelspec": {
   "display_name": "Python 3 (ipykernel)",
   "language": "python",
   "name": "python3"
  },
  "language_info": {
   "codemirror_mode": {
    "name": "ipython",
    "version": 3
   },
   "file_extension": ".py",
   "mimetype": "text/x-python",
   "name": "python",
   "nbconvert_exporter": "python",
   "pygments_lexer": "ipython3",
   "version": "3.9.12"
  }
 },
 "nbformat": 4,
 "nbformat_minor": 5
}
