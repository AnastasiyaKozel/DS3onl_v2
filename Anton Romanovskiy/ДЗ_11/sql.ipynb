{
 "cells": [
  {
   "cell_type": "markdown",
   "id": "ff8bc932",
   "metadata": {},
   "source": [
    "Романовский А.Н. 3.10.2022"
   ]
  },
  {
   "cell_type": "markdown",
   "id": "662deee8",
   "metadata": {},
   "source": [
    "В данной задаче нам представлены данные в которых ключевое поле — это то, просрочит ли клиент микро-финансовой организации выплату более чем на 60 дней или нет. \n",
    "Нам нужно построить модель, которая по входным данным предсказывала бы с максимальной точностью ключе-вой параметр. \n",
    "Основной параметр это delinq60plus. Остальные парамет-ры интуитивно понятны из таблиц.\n",
    "# Цель\n",
    "\n",
    "Построить модель машинного обучения для предсказания вероятности того, что клиент уйдет в просрочку более 60 дней.\n",
    "\n",
    "# Задача\n",
    "осуществить корректную загрузку данных\n",
    "осуществить разведывательный анализ данных:\n",
    "- разбить выборку на обучающую и тестовую\n",
    "- проанализировать пропуски и решить, что с ними делать\n",
    "- проанализировать выбросы\n",
    "- создать/ удалить переменные\n",
    "- закодировать категориальные переменные\n",
    "- нормализовать числовые переменные (при необходимости)"
   ]
  },
  {
   "cell_type": "code",
   "execution_count": 3,
   "id": "bf6b8d14",
   "metadata": {},
   "outputs": [],
   "source": [
    "import pandas as pd\n",
    "import numpy as np\n",
    "import sqlite3\n",
    "import seaborn as sns"
   ]
  },
  {
   "cell_type": "code",
   "execution_count": 4,
   "id": "656a214c",
   "metadata": {},
   "outputs": [],
   "source": [
    "con = sqlite3.connect('forsqltask')"
   ]
  },
  {
   "cell_type": "code",
   "execution_count": 5,
   "id": "99320269",
   "metadata": {},
   "outputs": [],
   "source": [
    "df = pd.read_csv('MFOcredit.csv', sep = ';', )                              "
   ]
  },
  {
   "cell_type": "code",
   "execution_count": 171,
   "id": "5fdecb58",
   "metadata": {},
   "outputs": [
    {
     "data": {
      "text/plain": [
       "0"
      ]
     },
     "execution_count": 171,
     "metadata": {},
     "output_type": "execute_result"
    }
   ],
   "source": [
    "len(df) - len(df.drop_duplicates(keep = 'first'))  # проверка дубликатов"
   ]
  },
  {
   "cell_type": "code",
   "execution_count": 172,
   "id": "055720ae",
   "metadata": {},
   "outputs": [],
   "source": [
    "df['date_start'] = pd.to_datetime(df['date_start'])\n",
    "df['date_end'] = pd.to_datetime(df['date_end']) # меняю формат даты"
   ]
  },
  {
   "cell_type": "code",
   "execution_count": 8,
   "id": "caf7b3a3",
   "metadata": {},
   "outputs": [
    {
     "data": {
      "text/html": [
       "<div>\n",
       "<style scoped>\n",
       "    .dataframe tbody tr th:only-of-type {\n",
       "        vertical-align: middle;\n",
       "    }\n",
       "\n",
       "    .dataframe tbody tr th {\n",
       "        vertical-align: top;\n",
       "    }\n",
       "\n",
       "    .dataframe thead th {\n",
       "        text-align: right;\n",
       "    }\n",
       "</style>\n",
       "<table border=\"1\" class=\"dataframe\">\n",
       "  <thead>\n",
       "    <tr style=\"text-align: right;\">\n",
       "      <th></th>\n",
       "      <th>id</th>\n",
       "      <th>date_start</th>\n",
       "      <th>date_end</th>\n",
       "      <th>gender</th>\n",
       "      <th>age</th>\n",
       "      <th>auto</th>\n",
       "      <th>housing</th>\n",
       "      <th>marstatus</th>\n",
       "      <th>regclient</th>\n",
       "      <th>jobtype</th>\n",
       "      <th>region</th>\n",
       "      <th>credits</th>\n",
       "      <th>children</th>\n",
       "      <th>delinq60plus</th>\n",
       "    </tr>\n",
       "  </thead>\n",
       "  <tbody>\n",
       "    <tr>\n",
       "      <th>0</th>\n",
       "      <td>1</td>\n",
       "      <td>2013-01-03</td>\n",
       "      <td>2013-01-12</td>\n",
       "      <td>Мужской</td>\n",
       "      <td>44</td>\n",
       "      <td>Нет</td>\n",
       "      <td>Собственное</td>\n",
       "      <td>Гражданский брак/женат/замужем</td>\n",
       "      <td>Нет</td>\n",
       "      <td>Официальное</td>\n",
       "      <td>Новосибирская область</td>\n",
       "      <td>Нет</td>\n",
       "      <td>Да</td>\n",
       "      <td>Нет</td>\n",
       "    </tr>\n",
       "    <tr>\n",
       "      <th>1</th>\n",
       "      <td>2</td>\n",
       "      <td>2013-01-03</td>\n",
       "      <td>2013-01-17</td>\n",
       "      <td>Мужской</td>\n",
       "      <td>21</td>\n",
       "      <td>Пропуск поля</td>\n",
       "      <td>Живут с родителями</td>\n",
       "      <td>Холост</td>\n",
       "      <td>Нет</td>\n",
       "      <td>Официальное</td>\n",
       "      <td>Кемеровская область юг</td>\n",
       "      <td>Да</td>\n",
       "      <td>Нет</td>\n",
       "      <td>Нет</td>\n",
       "    </tr>\n",
       "  </tbody>\n",
       "</table>\n",
       "</div>"
      ],
      "text/plain": [
       "   id date_start   date_end   gender  age          auto             housing  \\\n",
       "0   1 2013-01-03 2013-01-12  Мужской   44           Нет         Собственное   \n",
       "1   2 2013-01-03 2013-01-17  Мужской   21  Пропуск поля  Живут с родителями   \n",
       "\n",
       "                        marstatus regclient      jobtype  \\\n",
       "0  Гражданский брак/женат/замужем       Нет  Официальное   \n",
       "1                          Холост       Нет  Официальное   \n",
       "\n",
       "                   region credits children delinq60plus  \n",
       "0   Новосибирская область     Нет       Да          Нет  \n",
       "1  Кемеровская область юг      Да      Нет          Нет  "
      ]
     },
     "execution_count": 8,
     "metadata": {},
     "output_type": "execute_result"
    }
   ],
   "source": [
    "df.head(2)"
   ]
  },
  {
   "cell_type": "code",
   "execution_count": 9,
   "id": "753fd7f0",
   "metadata": {},
   "outputs": [
    {
     "data": {
      "text/plain": [
       "35212"
      ]
     },
     "execution_count": 9,
     "metadata": {},
     "output_type": "execute_result"
    }
   ],
   "source": [
    "df.to_sql('MFOcredit' ,con,index=False,if_exists='replace')"
   ]
  },
  {
   "cell_type": "code",
   "execution_count": 10,
   "id": "d16a1f63",
   "metadata": {},
   "outputs": [],
   "source": [
    "def select(sql):\n",
    "    return pd.read_sql(sql,con)"
   ]
  },
  {
   "cell_type": "code",
   "execution_count": 11,
   "id": "54677209",
   "metadata": {},
   "outputs": [],
   "source": [
    "sql = '''Select *\n",
    "FROM MFOcredit '''"
   ]
  },
  {
   "cell_type": "code",
   "execution_count": 12,
   "id": "9cd869e5",
   "metadata": {},
   "outputs": [
    {
     "data": {
      "text/html": [
       "<div>\n",
       "<style scoped>\n",
       "    .dataframe tbody tr th:only-of-type {\n",
       "        vertical-align: middle;\n",
       "    }\n",
       "\n",
       "    .dataframe tbody tr th {\n",
       "        vertical-align: top;\n",
       "    }\n",
       "\n",
       "    .dataframe thead th {\n",
       "        text-align: right;\n",
       "    }\n",
       "</style>\n",
       "<table border=\"1\" class=\"dataframe\">\n",
       "  <thead>\n",
       "    <tr style=\"text-align: right;\">\n",
       "      <th></th>\n",
       "      <th>id</th>\n",
       "      <th>date_start</th>\n",
       "      <th>date_end</th>\n",
       "      <th>gender</th>\n",
       "      <th>age</th>\n",
       "      <th>auto</th>\n",
       "      <th>housing</th>\n",
       "      <th>marstatus</th>\n",
       "      <th>regclient</th>\n",
       "      <th>jobtype</th>\n",
       "      <th>region</th>\n",
       "      <th>credits</th>\n",
       "      <th>children</th>\n",
       "      <th>delinq60plus</th>\n",
       "    </tr>\n",
       "  </thead>\n",
       "  <tbody>\n",
       "    <tr>\n",
       "      <th>0</th>\n",
       "      <td>1</td>\n",
       "      <td>2013-01-03 00:00:00</td>\n",
       "      <td>2013-01-12 00:00:00</td>\n",
       "      <td>Мужской</td>\n",
       "      <td>44</td>\n",
       "      <td>Нет</td>\n",
       "      <td>Собственное</td>\n",
       "      <td>Гражданский брак/женат/замужем</td>\n",
       "      <td>Нет</td>\n",
       "      <td>Официальное</td>\n",
       "      <td>Новосибирская область</td>\n",
       "      <td>Нет</td>\n",
       "      <td>Да</td>\n",
       "      <td>Нет</td>\n",
       "    </tr>\n",
       "    <tr>\n",
       "      <th>1</th>\n",
       "      <td>2</td>\n",
       "      <td>2013-01-03 00:00:00</td>\n",
       "      <td>2013-01-17 00:00:00</td>\n",
       "      <td>Мужской</td>\n",
       "      <td>21</td>\n",
       "      <td>Пропуск поля</td>\n",
       "      <td>Живут с родителями</td>\n",
       "      <td>Холост</td>\n",
       "      <td>Нет</td>\n",
       "      <td>Официальное</td>\n",
       "      <td>Кемеровская область юг</td>\n",
       "      <td>Да</td>\n",
       "      <td>Нет</td>\n",
       "      <td>Нет</td>\n",
       "    </tr>\n",
       "  </tbody>\n",
       "</table>\n",
       "</div>"
      ],
      "text/plain": [
       "   id           date_start             date_end   gender  age          auto  \\\n",
       "0   1  2013-01-03 00:00:00  2013-01-12 00:00:00  Мужской   44           Нет   \n",
       "1   2  2013-01-03 00:00:00  2013-01-17 00:00:00  Мужской   21  Пропуск поля   \n",
       "\n",
       "              housing                       marstatus regclient      jobtype  \\\n",
       "0         Собственное  Гражданский брак/женат/замужем       Нет  Официальное   \n",
       "1  Живут с родителями                          Холост       Нет  Официальное   \n",
       "\n",
       "                   region credits children delinq60plus  \n",
       "0   Новосибирская область     Нет       Да          Нет  \n",
       "1  Кемеровская область юг      Да      Нет          Нет  "
      ]
     },
     "execution_count": 12,
     "metadata": {},
     "output_type": "execute_result"
    }
   ],
   "source": [
    "select(sql).head(2)"
   ]
  },
  {
   "cell_type": "code",
   "execution_count": 11,
   "id": "19f56256",
   "metadata": {},
   "outputs": [],
   "source": [
    "sql = '''PRAGMA table_info('MFOcredit')'''"
   ]
  },
  {
   "cell_type": "code",
   "execution_count": 12,
   "id": "b8d09239",
   "metadata": {},
   "outputs": [
    {
     "data": {
      "text/html": [
       "<div>\n",
       "<style scoped>\n",
       "    .dataframe tbody tr th:only-of-type {\n",
       "        vertical-align: middle;\n",
       "    }\n",
       "\n",
       "    .dataframe tbody tr th {\n",
       "        vertical-align: top;\n",
       "    }\n",
       "\n",
       "    .dataframe thead th {\n",
       "        text-align: right;\n",
       "    }\n",
       "</style>\n",
       "<table border=\"1\" class=\"dataframe\">\n",
       "  <thead>\n",
       "    <tr style=\"text-align: right;\">\n",
       "      <th></th>\n",
       "      <th>cid</th>\n",
       "      <th>name</th>\n",
       "      <th>type</th>\n",
       "      <th>notnull</th>\n",
       "      <th>dflt_value</th>\n",
       "      <th>pk</th>\n",
       "    </tr>\n",
       "  </thead>\n",
       "  <tbody>\n",
       "    <tr>\n",
       "      <th>0</th>\n",
       "      <td>0</td>\n",
       "      <td>id</td>\n",
       "      <td>INTEGER</td>\n",
       "      <td>0</td>\n",
       "      <td>None</td>\n",
       "      <td>0</td>\n",
       "    </tr>\n",
       "    <tr>\n",
       "      <th>1</th>\n",
       "      <td>1</td>\n",
       "      <td>date_start</td>\n",
       "      <td>TIMESTAMP</td>\n",
       "      <td>0</td>\n",
       "      <td>None</td>\n",
       "      <td>0</td>\n",
       "    </tr>\n",
       "    <tr>\n",
       "      <th>2</th>\n",
       "      <td>2</td>\n",
       "      <td>date_end</td>\n",
       "      <td>TIMESTAMP</td>\n",
       "      <td>0</td>\n",
       "      <td>None</td>\n",
       "      <td>0</td>\n",
       "    </tr>\n",
       "    <tr>\n",
       "      <th>3</th>\n",
       "      <td>3</td>\n",
       "      <td>gender</td>\n",
       "      <td>TEXT</td>\n",
       "      <td>0</td>\n",
       "      <td>None</td>\n",
       "      <td>0</td>\n",
       "    </tr>\n",
       "    <tr>\n",
       "      <th>4</th>\n",
       "      <td>4</td>\n",
       "      <td>age</td>\n",
       "      <td>INTEGER</td>\n",
       "      <td>0</td>\n",
       "      <td>None</td>\n",
       "      <td>0</td>\n",
       "    </tr>\n",
       "    <tr>\n",
       "      <th>5</th>\n",
       "      <td>5</td>\n",
       "      <td>auto</td>\n",
       "      <td>TEXT</td>\n",
       "      <td>0</td>\n",
       "      <td>None</td>\n",
       "      <td>0</td>\n",
       "    </tr>\n",
       "    <tr>\n",
       "      <th>6</th>\n",
       "      <td>6</td>\n",
       "      <td>housing</td>\n",
       "      <td>TEXT</td>\n",
       "      <td>0</td>\n",
       "      <td>None</td>\n",
       "      <td>0</td>\n",
       "    </tr>\n",
       "    <tr>\n",
       "      <th>7</th>\n",
       "      <td>7</td>\n",
       "      <td>marstatus</td>\n",
       "      <td>TEXT</td>\n",
       "      <td>0</td>\n",
       "      <td>None</td>\n",
       "      <td>0</td>\n",
       "    </tr>\n",
       "    <tr>\n",
       "      <th>8</th>\n",
       "      <td>8</td>\n",
       "      <td>regclient</td>\n",
       "      <td>TEXT</td>\n",
       "      <td>0</td>\n",
       "      <td>None</td>\n",
       "      <td>0</td>\n",
       "    </tr>\n",
       "    <tr>\n",
       "      <th>9</th>\n",
       "      <td>9</td>\n",
       "      <td>jobtype</td>\n",
       "      <td>TEXT</td>\n",
       "      <td>0</td>\n",
       "      <td>None</td>\n",
       "      <td>0</td>\n",
       "    </tr>\n",
       "    <tr>\n",
       "      <th>10</th>\n",
       "      <td>10</td>\n",
       "      <td>region</td>\n",
       "      <td>TEXT</td>\n",
       "      <td>0</td>\n",
       "      <td>None</td>\n",
       "      <td>0</td>\n",
       "    </tr>\n",
       "    <tr>\n",
       "      <th>11</th>\n",
       "      <td>11</td>\n",
       "      <td>credits</td>\n",
       "      <td>TEXT</td>\n",
       "      <td>0</td>\n",
       "      <td>None</td>\n",
       "      <td>0</td>\n",
       "    </tr>\n",
       "    <tr>\n",
       "      <th>12</th>\n",
       "      <td>12</td>\n",
       "      <td>children</td>\n",
       "      <td>TEXT</td>\n",
       "      <td>0</td>\n",
       "      <td>None</td>\n",
       "      <td>0</td>\n",
       "    </tr>\n",
       "    <tr>\n",
       "      <th>13</th>\n",
       "      <td>13</td>\n",
       "      <td>delinq60plus</td>\n",
       "      <td>TEXT</td>\n",
       "      <td>0</td>\n",
       "      <td>None</td>\n",
       "      <td>0</td>\n",
       "    </tr>\n",
       "  </tbody>\n",
       "</table>\n",
       "</div>"
      ],
      "text/plain": [
       "    cid          name       type  notnull dflt_value  pk\n",
       "0     0            id    INTEGER        0       None   0\n",
       "1     1    date_start  TIMESTAMP        0       None   0\n",
       "2     2      date_end  TIMESTAMP        0       None   0\n",
       "3     3        gender       TEXT        0       None   0\n",
       "4     4           age    INTEGER        0       None   0\n",
       "5     5          auto       TEXT        0       None   0\n",
       "6     6       housing       TEXT        0       None   0\n",
       "7     7     marstatus       TEXT        0       None   0\n",
       "8     8     regclient       TEXT        0       None   0\n",
       "9     9       jobtype       TEXT        0       None   0\n",
       "10   10        region       TEXT        0       None   0\n",
       "11   11       credits       TEXT        0       None   0\n",
       "12   12      children       TEXT        0       None   0\n",
       "13   13  delinq60plus       TEXT        0       None   0"
      ]
     },
     "execution_count": 12,
     "metadata": {},
     "output_type": "execute_result"
    }
   ],
   "source": [
    "select(sql)"
   ]
  },
  {
   "cell_type": "markdown",
   "id": "dac35cfc",
   "metadata": {},
   "source": [
    "#### Название столбцов\n",
    "* id - номер клиента \n",
    "* date_start \t- дата начала займа \n",
    "* date_end  - дата завершение займа \n",
    "* gender \t- пол\n",
    "* age - возраст заемщика\n",
    "* auto - наличие автомабиля у заемщика\n",
    "* housing  - информация о жилье \n",
    "* marstatus - семейное положение\n",
    "* regclient - флаг регулярности заемщика \t\n",
    "* jobtype - наличие офоциальной работы\n",
    "* region - область проживания \n",
    "* credits - наличие кредита\t\n",
    "* children - наличие детей \n",
    "* delinq60plus - целевой флаг (просрочка кредита более 60 дней)\n",
    "____\n",
    "\n"
   ]
  },
  {
   "cell_type": "code",
   "execution_count": 16,
   "id": "29f6bb5a",
   "metadata": {},
   "outputs": [
    {
     "data": {
      "text/html": [
       "<div>\n",
       "<style scoped>\n",
       "    .dataframe tbody tr th:only-of-type {\n",
       "        vertical-align: middle;\n",
       "    }\n",
       "\n",
       "    .dataframe tbody tr th {\n",
       "        vertical-align: top;\n",
       "    }\n",
       "\n",
       "    .dataframe thead th {\n",
       "        text-align: right;\n",
       "    }\n",
       "</style>\n",
       "<table border=\"1\" class=\"dataframe\">\n",
       "  <thead>\n",
       "    <tr style=\"text-align: right;\">\n",
       "      <th></th>\n",
       "      <th>auto</th>\n",
       "      <th>COUNT(auto)</th>\n",
       "    </tr>\n",
       "  </thead>\n",
       "  <tbody>\n",
       "    <tr>\n",
       "      <th>0</th>\n",
       "      <td>Да</td>\n",
       "      <td>3670</td>\n",
       "    </tr>\n",
       "    <tr>\n",
       "      <th>1</th>\n",
       "      <td>Нет</td>\n",
       "      <td>17465</td>\n",
       "    </tr>\n",
       "    <tr>\n",
       "      <th>2</th>\n",
       "      <td>Пропуск поля</td>\n",
       "      <td>14077</td>\n",
       "    </tr>\n",
       "  </tbody>\n",
       "</table>\n",
       "</div>"
      ],
      "text/plain": [
       "           auto  COUNT(auto)\n",
       "0            Да         3670\n",
       "1           Нет        17465\n",
       "2  Пропуск поля        14077"
      ]
     },
     "execution_count": 16,
     "metadata": {},
     "output_type": "execute_result"
    }
   ],
   "source": [
    "sql = '''SELECT auto, COUNT(auto)\n",
    "FROM MFOcredit\n",
    "GROUP BY auto'''\n",
    "select(sql)"
   ]
  },
  {
   "cell_type": "code",
   "execution_count": 17,
   "id": "db4e7cad",
   "metadata": {},
   "outputs": [
    {
     "data": {
      "text/html": [
       "<div>\n",
       "<style scoped>\n",
       "    .dataframe tbody tr th:only-of-type {\n",
       "        vertical-align: middle;\n",
       "    }\n",
       "\n",
       "    .dataframe tbody tr th {\n",
       "        vertical-align: top;\n",
       "    }\n",
       "\n",
       "    .dataframe thead th {\n",
       "        text-align: right;\n",
       "    }\n",
       "</style>\n",
       "<table border=\"1\" class=\"dataframe\">\n",
       "  <thead>\n",
       "    <tr style=\"text-align: right;\">\n",
       "      <th></th>\n",
       "      <th>housing</th>\n",
       "      <th>COUNT(housing)</th>\n",
       "    </tr>\n",
       "  </thead>\n",
       "  <tbody>\n",
       "    <tr>\n",
       "      <th>0</th>\n",
       "      <td>Арендуемое</td>\n",
       "      <td>2020</td>\n",
       "    </tr>\n",
       "    <tr>\n",
       "      <th>1</th>\n",
       "      <td>Долевая собственность</td>\n",
       "      <td>2955</td>\n",
       "    </tr>\n",
       "    <tr>\n",
       "      <th>2</th>\n",
       "      <td>Живут с родителями</td>\n",
       "      <td>3177</td>\n",
       "    </tr>\n",
       "    <tr>\n",
       "      <th>3</th>\n",
       "      <td>Муниципальное</td>\n",
       "      <td>1358</td>\n",
       "    </tr>\n",
       "    <tr>\n",
       "      <th>4</th>\n",
       "      <td>Пропуск поля</td>\n",
       "      <td>7603</td>\n",
       "    </tr>\n",
       "    <tr>\n",
       "      <th>5</th>\n",
       "      <td>Собственное</td>\n",
       "      <td>18099</td>\n",
       "    </tr>\n",
       "  </tbody>\n",
       "</table>\n",
       "</div>"
      ],
      "text/plain": [
       "                 housing  COUNT(housing)\n",
       "0             Арендуемое            2020\n",
       "1  Долевая собственность            2955\n",
       "2     Живут с родителями            3177\n",
       "3          Муниципальное            1358\n",
       "4           Пропуск поля            7603\n",
       "5            Собственное           18099"
      ]
     },
     "execution_count": 17,
     "metadata": {},
     "output_type": "execute_result"
    }
   ],
   "source": [
    "sql = '''SELECT housing,COUNT(housing)\n",
    "FROM MFOcredit\n",
    "GROUP BY housing'''\n",
    "select(sql)"
   ]
  },
  {
   "cell_type": "code",
   "execution_count": 19,
   "id": "8bfcfe3e",
   "metadata": {},
   "outputs": [
    {
     "data": {
      "text/html": [
       "<div>\n",
       "<style scoped>\n",
       "    .dataframe tbody tr th:only-of-type {\n",
       "        vertical-align: middle;\n",
       "    }\n",
       "\n",
       "    .dataframe tbody tr th {\n",
       "        vertical-align: top;\n",
       "    }\n",
       "\n",
       "    .dataframe thead th {\n",
       "        text-align: right;\n",
       "    }\n",
       "</style>\n",
       "<table border=\"1\" class=\"dataframe\">\n",
       "  <thead>\n",
       "    <tr style=\"text-align: right;\">\n",
       "      <th></th>\n",
       "      <th>jobtype</th>\n",
       "      <th>COUNT(jobtype)</th>\n",
       "    </tr>\n",
       "  </thead>\n",
       "  <tbody>\n",
       "    <tr>\n",
       "      <th>0</th>\n",
       "      <td>Неофициальное</td>\n",
       "      <td>1167</td>\n",
       "    </tr>\n",
       "    <tr>\n",
       "      <th>1</th>\n",
       "      <td>Официальное</td>\n",
       "      <td>19588</td>\n",
       "    </tr>\n",
       "    <tr>\n",
       "      <th>2</th>\n",
       "      <td>Пропуск поля</td>\n",
       "      <td>14457</td>\n",
       "    </tr>\n",
       "  </tbody>\n",
       "</table>\n",
       "</div>"
      ],
      "text/plain": [
       "         jobtype  COUNT(jobtype)\n",
       "0  Неофициальное            1167\n",
       "1    Официальное           19588\n",
       "2   Пропуск поля           14457"
      ]
     },
     "execution_count": 19,
     "metadata": {},
     "output_type": "execute_result"
    }
   ],
   "source": [
    "sql = '''SELECT jobtype,COUNT(jobtype)\n",
    "FROM MFOcredit\n",
    "GROUP BY jobtype'''\n",
    "select(sql)"
   ]
  },
  {
   "cell_type": "code",
   "execution_count": 21,
   "id": "ba1fd534",
   "metadata": {},
   "outputs": [
    {
     "data": {
      "text/html": [
       "<div>\n",
       "<style scoped>\n",
       "    .dataframe tbody tr th:only-of-type {\n",
       "        vertical-align: middle;\n",
       "    }\n",
       "\n",
       "    .dataframe tbody tr th {\n",
       "        vertical-align: top;\n",
       "    }\n",
       "\n",
       "    .dataframe thead th {\n",
       "        text-align: right;\n",
       "    }\n",
       "</style>\n",
       "<table border=\"1\" class=\"dataframe\">\n",
       "  <thead>\n",
       "    <tr style=\"text-align: right;\">\n",
       "      <th></th>\n",
       "      <th>marstatus</th>\n",
       "      <th>COUNT(marstatus)</th>\n",
       "    </tr>\n",
       "  </thead>\n",
       "  <tbody>\n",
       "    <tr>\n",
       "      <th>0</th>\n",
       "      <td>Вдова/вдовец</td>\n",
       "      <td>1845</td>\n",
       "    </tr>\n",
       "    <tr>\n",
       "      <th>1</th>\n",
       "      <td>Гражданский брак/женат/замужем</td>\n",
       "      <td>14099</td>\n",
       "    </tr>\n",
       "    <tr>\n",
       "      <th>2</th>\n",
       "      <td>Пропуск поля</td>\n",
       "      <td>7564</td>\n",
       "    </tr>\n",
       "    <tr>\n",
       "      <th>3</th>\n",
       "      <td>Разведен</td>\n",
       "      <td>2871</td>\n",
       "    </tr>\n",
       "    <tr>\n",
       "      <th>4</th>\n",
       "      <td>Холост</td>\n",
       "      <td>8833</td>\n",
       "    </tr>\n",
       "  </tbody>\n",
       "</table>\n",
       "</div>"
      ],
      "text/plain": [
       "                        marstatus  COUNT(marstatus)\n",
       "0                    Вдова/вдовец              1845\n",
       "1  Гражданский брак/женат/замужем             14099\n",
       "2                    Пропуск поля              7564\n",
       "3                        Разведен              2871\n",
       "4                          Холост              8833"
      ]
     },
     "execution_count": 21,
     "metadata": {},
     "output_type": "execute_result"
    }
   ],
   "source": [
    "sql = '''SELECT marstatus,COUNT(marstatus)\n",
    "FROM MFOcredit\n",
    "GROUP BY marstatus'''\n",
    "select(sql)"
   ]
  },
  {
   "cell_type": "code",
   "execution_count": 22,
   "id": "c1438475",
   "metadata": {},
   "outputs": [
    {
     "data": {
      "text/html": [
       "<div>\n",
       "<style scoped>\n",
       "    .dataframe tbody tr th:only-of-type {\n",
       "        vertical-align: middle;\n",
       "    }\n",
       "\n",
       "    .dataframe tbody tr th {\n",
       "        vertical-align: top;\n",
       "    }\n",
       "\n",
       "    .dataframe thead th {\n",
       "        text-align: right;\n",
       "    }\n",
       "</style>\n",
       "<table border=\"1\" class=\"dataframe\">\n",
       "  <thead>\n",
       "    <tr style=\"text-align: right;\">\n",
       "      <th></th>\n",
       "      <th>credits</th>\n",
       "      <th>COUNT(credits)</th>\n",
       "    </tr>\n",
       "  </thead>\n",
       "  <tbody>\n",
       "    <tr>\n",
       "      <th>0</th>\n",
       "      <td>Да</td>\n",
       "      <td>16140</td>\n",
       "    </tr>\n",
       "    <tr>\n",
       "      <th>1</th>\n",
       "      <td>Нет</td>\n",
       "      <td>18126</td>\n",
       "    </tr>\n",
       "    <tr>\n",
       "      <th>2</th>\n",
       "      <td>Пропуск поля</td>\n",
       "      <td>946</td>\n",
       "    </tr>\n",
       "  </tbody>\n",
       "</table>\n",
       "</div>"
      ],
      "text/plain": [
       "        credits  COUNT(credits)\n",
       "0            Да           16140\n",
       "1           Нет           18126\n",
       "2  Пропуск поля             946"
      ]
     },
     "execution_count": 22,
     "metadata": {},
     "output_type": "execute_result"
    }
   ],
   "source": [
    "sql = '''SELECT credits,COUNT(credits)\n",
    "FROM MFOcredit\n",
    "GROUP BY credits'''\n",
    "select(sql)"
   ]
  },
  {
   "cell_type": "code",
   "execution_count": 23,
   "id": "cd6dd08b",
   "metadata": {},
   "outputs": [
    {
     "data": {
      "text/html": [
       "<div>\n",
       "<style scoped>\n",
       "    .dataframe tbody tr th:only-of-type {\n",
       "        vertical-align: middle;\n",
       "    }\n",
       "\n",
       "    .dataframe tbody tr th {\n",
       "        vertical-align: top;\n",
       "    }\n",
       "\n",
       "    .dataframe thead th {\n",
       "        text-align: right;\n",
       "    }\n",
       "</style>\n",
       "<table border=\"1\" class=\"dataframe\">\n",
       "  <thead>\n",
       "    <tr style=\"text-align: right;\">\n",
       "      <th></th>\n",
       "      <th>children</th>\n",
       "      <th>COUNT(children)</th>\n",
       "    </tr>\n",
       "  </thead>\n",
       "  <tbody>\n",
       "    <tr>\n",
       "      <th>0</th>\n",
       "      <td>Да</td>\n",
       "      <td>13326</td>\n",
       "    </tr>\n",
       "    <tr>\n",
       "      <th>1</th>\n",
       "      <td>Нет</td>\n",
       "      <td>21141</td>\n",
       "    </tr>\n",
       "    <tr>\n",
       "      <th>2</th>\n",
       "      <td>Пропуск поля</td>\n",
       "      <td>745</td>\n",
       "    </tr>\n",
       "  </tbody>\n",
       "</table>\n",
       "</div>"
      ],
      "text/plain": [
       "       children  COUNT(children)\n",
       "0            Да            13326\n",
       "1           Нет            21141\n",
       "2  Пропуск поля              745"
      ]
     },
     "execution_count": 23,
     "metadata": {},
     "output_type": "execute_result"
    }
   ],
   "source": [
    "sql = '''SELECT children,COUNT(children)\n",
    "FROM MFOcredit\n",
    "GROUP BY children'''\n",
    "select(sql)"
   ]
  },
  {
   "cell_type": "markdown",
   "id": "e5dac8b5",
   "metadata": {},
   "source": [
    "#### Есть пропуски:\n",
    "* auto - 14077\n",
    "* housing - 7603\n",
    "* jobtype - 14457\n",
    "* marstatus - 7564\n",
    "* credits - 946\n",
    "* children - 745"
   ]
  },
  {
   "cell_type": "code",
   "execution_count": 173,
   "id": "7c38279f",
   "metadata": {},
   "outputs": [
    {
     "data": {
      "text/plain": [
       "<sqlite3.Cursor at 0x20e359f5c00>"
      ]
     },
     "execution_count": 173,
     "metadata": {},
     "output_type": "execute_result"
    }
   ],
   "source": [
    "sql = '''ALTER TABLE MFOcredit \n",
    "ADD credit_period as (julianday(date_end) - julianday(date_start))'''\n",
    "con.execute(sql) # добавляю столбец с периодом займа в днях"
   ]
  },
  {
   "cell_type": "code",
   "execution_count": 25,
   "id": "176b4cd7",
   "metadata": {},
   "outputs": [
    {
     "data": {
      "text/html": [
       "<div>\n",
       "<style scoped>\n",
       "    .dataframe tbody tr th:only-of-type {\n",
       "        vertical-align: middle;\n",
       "    }\n",
       "\n",
       "    .dataframe tbody tr th {\n",
       "        vertical-align: top;\n",
       "    }\n",
       "\n",
       "    .dataframe thead th {\n",
       "        text-align: right;\n",
       "    }\n",
       "</style>\n",
       "<table border=\"1\" class=\"dataframe\">\n",
       "  <thead>\n",
       "    <tr style=\"text-align: right;\">\n",
       "      <th></th>\n",
       "      <th>id</th>\n",
       "      <th>date_start</th>\n",
       "      <th>date_end</th>\n",
       "      <th>gender</th>\n",
       "      <th>age</th>\n",
       "      <th>auto</th>\n",
       "      <th>housing</th>\n",
       "      <th>marstatus</th>\n",
       "      <th>regclient</th>\n",
       "      <th>jobtype</th>\n",
       "      <th>region</th>\n",
       "      <th>credits</th>\n",
       "      <th>children</th>\n",
       "      <th>delinq60plus</th>\n",
       "    </tr>\n",
       "  </thead>\n",
       "  <tbody>\n",
       "    <tr>\n",
       "      <th>0</th>\n",
       "      <td>1</td>\n",
       "      <td>2013-01-03 00:00:00</td>\n",
       "      <td>2013-01-12 00:00:00</td>\n",
       "      <td>Мужской</td>\n",
       "      <td>44</td>\n",
       "      <td>Нет</td>\n",
       "      <td>Собственное</td>\n",
       "      <td>Гражданский брак/женат/замужем</td>\n",
       "      <td>Нет</td>\n",
       "      <td>Официальное</td>\n",
       "      <td>Новосибирская область</td>\n",
       "      <td>Нет</td>\n",
       "      <td>Да</td>\n",
       "      <td>Нет</td>\n",
       "    </tr>\n",
       "  </tbody>\n",
       "</table>\n",
       "</div>"
      ],
      "text/plain": [
       "   id           date_start             date_end   gender  age auto  \\\n",
       "0   1  2013-01-03 00:00:00  2013-01-12 00:00:00  Мужской   44  Нет   \n",
       "\n",
       "       housing                       marstatus regclient      jobtype  \\\n",
       "0  Собственное  Гражданский брак/женат/замужем       Нет  Официальное   \n",
       "\n",
       "                  region credits children delinq60plus  \n",
       "0  Новосибирская область     Нет       Да          Нет  "
      ]
     },
     "execution_count": 25,
     "metadata": {},
     "output_type": "execute_result"
    }
   ],
   "source": [
    "sql = '''select * from MFOcredit'''\n",
    "select(sql).head(1)"
   ]
  },
  {
   "cell_type": "code",
   "execution_count": 24,
   "id": "fac59f79",
   "metadata": {},
   "outputs": [
    {
     "data": {
      "text/plain": [
       "<sqlite3.Cursor at 0x1b14c4cd490>"
      ]
     },
     "execution_count": 24,
     "metadata": {},
     "output_type": "execute_result"
    }
   ],
   "source": [
    "sql = '''\n",
    "create table test as\n",
    "SELECT   *\n",
    "FROM MFOcredit \n",
    "ORDER BY Random()\n",
    "LIMIT (select count(*)/(100) * 30 from MFOcredit )'''\n",
    "con.execute(sql) #создаю таблицу с тестовой выборкой "
   ]
  },
  {
   "cell_type": "code",
   "execution_count": 26,
   "id": "bcb8eb5b",
   "metadata": {},
   "outputs": [
    {
     "data": {
      "text/html": [
       "<div>\n",
       "<style scoped>\n",
       "    .dataframe tbody tr th:only-of-type {\n",
       "        vertical-align: middle;\n",
       "    }\n",
       "\n",
       "    .dataframe tbody tr th {\n",
       "        vertical-align: top;\n",
       "    }\n",
       "\n",
       "    .dataframe thead th {\n",
       "        text-align: right;\n",
       "    }\n",
       "</style>\n",
       "<table border=\"1\" class=\"dataframe\">\n",
       "  <thead>\n",
       "    <tr style=\"text-align: right;\">\n",
       "      <th></th>\n",
       "      <th>gender</th>\n",
       "      <th>age</th>\n",
       "      <th>auto</th>\n",
       "      <th>housing</th>\n",
       "      <th>marstatus</th>\n",
       "      <th>regclient</th>\n",
       "      <th>jobtype</th>\n",
       "      <th>region</th>\n",
       "      <th>credits</th>\n",
       "      <th>children</th>\n",
       "      <th>delinq60plus</th>\n",
       "      <th>credit_period</th>\n",
       "    </tr>\n",
       "  </thead>\n",
       "  <tbody>\n",
       "    <tr>\n",
       "      <th>0</th>\n",
       "      <td>Женский</td>\n",
       "      <td>39</td>\n",
       "      <td>Пропуск поля</td>\n",
       "      <td>Пропуск поля</td>\n",
       "      <td>Пропуск поля</td>\n",
       "      <td>Да</td>\n",
       "      <td>Пропуск поля</td>\n",
       "      <td>Кемеровская область юг</td>\n",
       "      <td>Нет</td>\n",
       "      <td>Нет</td>\n",
       "      <td>Да</td>\n",
       "      <td>14.0</td>\n",
       "    </tr>\n",
       "    <tr>\n",
       "      <th>1</th>\n",
       "      <td>Мужской</td>\n",
       "      <td>32</td>\n",
       "      <td>Пропуск поля</td>\n",
       "      <td>Живут с родителями</td>\n",
       "      <td>Холост</td>\n",
       "      <td>Да</td>\n",
       "      <td>Официальное</td>\n",
       "      <td>Кемеровская область север</td>\n",
       "      <td>Нет</td>\n",
       "      <td>Нет</td>\n",
       "      <td>Да</td>\n",
       "      <td>14.0</td>\n",
       "    </tr>\n",
       "  </tbody>\n",
       "</table>\n",
       "</div>"
      ],
      "text/plain": [
       "    gender  age          auto             housing     marstatus regclient  \\\n",
       "0  Женский   39  Пропуск поля        Пропуск поля  Пропуск поля        Да   \n",
       "1  Мужской   32  Пропуск поля  Живут с родителями        Холост        Да   \n",
       "\n",
       "        jobtype                     region credits children delinq60plus  \\\n",
       "0  Пропуск поля     Кемеровская область юг     Нет      Нет           Да   \n",
       "1   Официальное  Кемеровская область север     Нет      Нет           Да   \n",
       "\n",
       "   credit_period  \n",
       "0           14.0  \n",
       "1           14.0  "
      ]
     },
     "execution_count": 26,
     "metadata": {},
     "output_type": "execute_result"
    }
   ],
   "source": [
    "sql = '''select * from test '''\n",
    "select(sql).head(2)"
   ]
  },
  {
   "cell_type": "code",
   "execution_count": 34,
   "id": "0b3c54ac",
   "metadata": {},
   "outputs": [],
   "source": [
    "sql = '''\n",
    "create table train as\n",
    "select * from MFOcredit \n",
    "where not exists(select * from test\n",
    "where MFOcredit.id = test.id  )'''\n",
    "#создаю таблицу с тренировочной выборкой "
   ]
  },
  {
   "cell_type": "code",
   "execution_count": null,
   "id": "1bc1d5b8",
   "metadata": {},
   "outputs": [],
   "source": [
    "con.execute(sql)"
   ]
  },
  {
   "cell_type": "code",
   "execution_count": 15,
   "id": "faa74004",
   "metadata": {},
   "outputs": [
    {
     "data": {
      "text/html": [
       "<div>\n",
       "<style scoped>\n",
       "    .dataframe tbody tr th:only-of-type {\n",
       "        vertical-align: middle;\n",
       "    }\n",
       "\n",
       "    .dataframe tbody tr th {\n",
       "        vertical-align: top;\n",
       "    }\n",
       "\n",
       "    .dataframe thead th {\n",
       "        text-align: right;\n",
       "    }\n",
       "</style>\n",
       "<table border=\"1\" class=\"dataframe\">\n",
       "  <thead>\n",
       "    <tr style=\"text-align: right;\">\n",
       "      <th></th>\n",
       "      <th>gender</th>\n",
       "      <th>age</th>\n",
       "      <th>auto</th>\n",
       "      <th>housing</th>\n",
       "      <th>marstatus</th>\n",
       "      <th>regclient</th>\n",
       "      <th>jobtype</th>\n",
       "      <th>region</th>\n",
       "      <th>credits</th>\n",
       "      <th>children</th>\n",
       "      <th>delinq60plus</th>\n",
       "      <th>credit_period</th>\n",
       "    </tr>\n",
       "  </thead>\n",
       "  <tbody>\n",
       "    <tr>\n",
       "      <th>0</th>\n",
       "      <td>Мужской</td>\n",
       "      <td>44</td>\n",
       "      <td>Нет</td>\n",
       "      <td>Собственное</td>\n",
       "      <td>Гражданский брак/женат/замужем</td>\n",
       "      <td>Нет</td>\n",
       "      <td>Официальное</td>\n",
       "      <td>Новосибирская область</td>\n",
       "      <td>Нет</td>\n",
       "      <td>Да</td>\n",
       "      <td>Нет</td>\n",
       "      <td>9.0</td>\n",
       "    </tr>\n",
       "    <tr>\n",
       "      <th>1</th>\n",
       "      <td>Мужской</td>\n",
       "      <td>21</td>\n",
       "      <td>Пропуск поля</td>\n",
       "      <td>Живут с родителями</td>\n",
       "      <td>Холост</td>\n",
       "      <td>Нет</td>\n",
       "      <td>Официальное</td>\n",
       "      <td>Кемеровская область юг</td>\n",
       "      <td>Да</td>\n",
       "      <td>Нет</td>\n",
       "      <td>Нет</td>\n",
       "      <td>14.0</td>\n",
       "    </tr>\n",
       "  </tbody>\n",
       "</table>\n",
       "</div>"
      ],
      "text/plain": [
       "    gender  age          auto             housing  \\\n",
       "0  Мужской   44           Нет         Собственное   \n",
       "1  Мужской   21  Пропуск поля  Живут с родителями   \n",
       "\n",
       "                        marstatus regclient      jobtype  \\\n",
       "0  Гражданский брак/женат/замужем       Нет  Официальное   \n",
       "1                          Холост       Нет  Официальное   \n",
       "\n",
       "                   region credits children delinq60plus  credit_period  \n",
       "0   Новосибирская область     Нет       Да          Нет            9.0  \n",
       "1  Кемеровская область юг      Да      Нет          Нет           14.0  "
      ]
     },
     "execution_count": 15,
     "metadata": {},
     "output_type": "execute_result"
    }
   ],
   "source": [
    "sql = '''select * from train '''\n",
    "select(sql).head(2)"
   ]
  },
  {
   "cell_type": "code",
   "execution_count": null,
   "id": "8565301c",
   "metadata": {},
   "outputs": [],
   "source": [
    "sql = '''ALTER TABLE test\n",
    "DROP COLUMN id\n",
    "'''\n",
    "con.execute(sql)#удаляю столбец с id клиента "
   ]
  },
  {
   "cell_type": "code",
   "execution_count": null,
   "id": "554a38de",
   "metadata": {},
   "outputs": [],
   "source": [
    "sql = '''ALTER TABLE test\n",
    "DROP COLUMN date_start\n",
    "'''\n",
    "con.execute(sql) #удаляю столбцы с датами займа "
   ]
  },
  {
   "cell_type": "code",
   "execution_count": null,
   "id": "e850a71e",
   "metadata": {},
   "outputs": [],
   "source": [
    "sql = '''ALTER TABLE test\n",
    "DROP COLUMN date_end\n",
    "'''\n",
    "con.execute(sql)"
   ]
  },
  {
   "cell_type": "code",
   "execution_count": 16,
   "id": "feff052f",
   "metadata": {},
   "outputs": [
    {
     "data": {
      "text/html": [
       "<div>\n",
       "<style scoped>\n",
       "    .dataframe tbody tr th:only-of-type {\n",
       "        vertical-align: middle;\n",
       "    }\n",
       "\n",
       "    .dataframe tbody tr th {\n",
       "        vertical-align: top;\n",
       "    }\n",
       "\n",
       "    .dataframe thead th {\n",
       "        text-align: right;\n",
       "    }\n",
       "</style>\n",
       "<table border=\"1\" class=\"dataframe\">\n",
       "  <thead>\n",
       "    <tr style=\"text-align: right;\">\n",
       "      <th></th>\n",
       "      <th>gender</th>\n",
       "      <th>age</th>\n",
       "      <th>auto</th>\n",
       "      <th>housing</th>\n",
       "      <th>marstatus</th>\n",
       "      <th>regclient</th>\n",
       "      <th>jobtype</th>\n",
       "      <th>region</th>\n",
       "      <th>credits</th>\n",
       "      <th>children</th>\n",
       "      <th>delinq60plus</th>\n",
       "      <th>credit_period</th>\n",
       "    </tr>\n",
       "  </thead>\n",
       "  <tbody>\n",
       "    <tr>\n",
       "      <th>0</th>\n",
       "      <td>Женский</td>\n",
       "      <td>39</td>\n",
       "      <td>Пропуск поля</td>\n",
       "      <td>Пропуск поля</td>\n",
       "      <td>Пропуск поля</td>\n",
       "      <td>Да</td>\n",
       "      <td>Пропуск поля</td>\n",
       "      <td>Кемеровская область юг</td>\n",
       "      <td>Нет</td>\n",
       "      <td>Нет</td>\n",
       "      <td>Да</td>\n",
       "      <td>14.0</td>\n",
       "    </tr>\n",
       "    <tr>\n",
       "      <th>1</th>\n",
       "      <td>Мужской</td>\n",
       "      <td>32</td>\n",
       "      <td>Пропуск поля</td>\n",
       "      <td>Живут с родителями</td>\n",
       "      <td>Холост</td>\n",
       "      <td>Да</td>\n",
       "      <td>Официальное</td>\n",
       "      <td>Кемеровская область север</td>\n",
       "      <td>Нет</td>\n",
       "      <td>Нет</td>\n",
       "      <td>Да</td>\n",
       "      <td>14.0</td>\n",
       "    </tr>\n",
       "  </tbody>\n",
       "</table>\n",
       "</div>"
      ],
      "text/plain": [
       "    gender  age          auto             housing     marstatus regclient  \\\n",
       "0  Женский   39  Пропуск поля        Пропуск поля  Пропуск поля        Да   \n",
       "1  Мужской   32  Пропуск поля  Живут с родителями        Холост        Да   \n",
       "\n",
       "        jobtype                     region credits children delinq60plus  \\\n",
       "0  Пропуск поля     Кемеровская область юг     Нет      Нет           Да   \n",
       "1   Официальное  Кемеровская область север     Нет      Нет           Да   \n",
       "\n",
       "   credit_period  \n",
       "0           14.0  \n",
       "1           14.0  "
      ]
     },
     "execution_count": 16,
     "metadata": {},
     "output_type": "execute_result"
    }
   ],
   "source": [
    "sql = '''select * from test as t'''\n",
    "select(sql).head(2)"
   ]
  },
  {
   "cell_type": "code",
   "execution_count": null,
   "id": "b97924c5",
   "metadata": {},
   "outputs": [],
   "source": [
    "sql = '''ALTER TABLE train \n",
    "DROP COLUMN id\n",
    "'''\n",
    "con.execute(sql)"
   ]
  },
  {
   "cell_type": "code",
   "execution_count": null,
   "id": "86db0929",
   "metadata": {},
   "outputs": [],
   "source": [
    "sql = '''ALTER TABLE train \n",
    "DROP COLUMN date_start\n",
    "'''\n",
    "con.execute(sql)"
   ]
  },
  {
   "cell_type": "code",
   "execution_count": null,
   "id": "0a621585",
   "metadata": {},
   "outputs": [],
   "source": [
    "sql = '''ALTER TABLE train \n",
    "DROP COLUMN date_end\n",
    "'''\n",
    "con.execute(sql)"
   ]
  },
  {
   "cell_type": "code",
   "execution_count": 18,
   "id": "1b7a374d",
   "metadata": {},
   "outputs": [
    {
     "data": {
      "text/html": [
       "<div>\n",
       "<style scoped>\n",
       "    .dataframe tbody tr th:only-of-type {\n",
       "        vertical-align: middle;\n",
       "    }\n",
       "\n",
       "    .dataframe tbody tr th {\n",
       "        vertical-align: top;\n",
       "    }\n",
       "\n",
       "    .dataframe thead th {\n",
       "        text-align: right;\n",
       "    }\n",
       "</style>\n",
       "<table border=\"1\" class=\"dataframe\">\n",
       "  <thead>\n",
       "    <tr style=\"text-align: right;\">\n",
       "      <th></th>\n",
       "      <th>gender</th>\n",
       "      <th>age</th>\n",
       "      <th>auto</th>\n",
       "      <th>housing</th>\n",
       "      <th>marstatus</th>\n",
       "      <th>regclient</th>\n",
       "      <th>jobtype</th>\n",
       "      <th>region</th>\n",
       "      <th>credits</th>\n",
       "      <th>children</th>\n",
       "      <th>delinq60plus</th>\n",
       "      <th>credit_period</th>\n",
       "    </tr>\n",
       "  </thead>\n",
       "  <tbody>\n",
       "    <tr>\n",
       "      <th>0</th>\n",
       "      <td>Мужской</td>\n",
       "      <td>44</td>\n",
       "      <td>Нет</td>\n",
       "      <td>Собственное</td>\n",
       "      <td>Гражданский брак/женат/замужем</td>\n",
       "      <td>Нет</td>\n",
       "      <td>Официальное</td>\n",
       "      <td>Новосибирская область</td>\n",
       "      <td>Нет</td>\n",
       "      <td>Да</td>\n",
       "      <td>Нет</td>\n",
       "      <td>9.0</td>\n",
       "    </tr>\n",
       "    <tr>\n",
       "      <th>1</th>\n",
       "      <td>Мужской</td>\n",
       "      <td>21</td>\n",
       "      <td>Пропуск поля</td>\n",
       "      <td>Живут с родителями</td>\n",
       "      <td>Холост</td>\n",
       "      <td>Нет</td>\n",
       "      <td>Официальное</td>\n",
       "      <td>Кемеровская область юг</td>\n",
       "      <td>Да</td>\n",
       "      <td>Нет</td>\n",
       "      <td>Нет</td>\n",
       "      <td>14.0</td>\n",
       "    </tr>\n",
       "  </tbody>\n",
       "</table>\n",
       "</div>"
      ],
      "text/plain": [
       "    gender  age          auto             housing  \\\n",
       "0  Мужской   44           Нет         Собственное   \n",
       "1  Мужской   21  Пропуск поля  Живут с родителями   \n",
       "\n",
       "                        marstatus regclient      jobtype  \\\n",
       "0  Гражданский брак/женат/замужем       Нет  Официальное   \n",
       "1                          Холост       Нет  Официальное   \n",
       "\n",
       "                   region credits children delinq60plus  credit_period  \n",
       "0   Новосибирская область     Нет       Да          Нет            9.0  \n",
       "1  Кемеровская область юг      Да      Нет          Нет           14.0  "
      ]
     },
     "execution_count": 18,
     "metadata": {},
     "output_type": "execute_result"
    }
   ],
   "source": [
    "sql = '''select * from train'''\n",
    "select(sql).head(2)"
   ]
  },
  {
   "cell_type": "code",
   "execution_count": 19,
   "id": "9c34682b",
   "metadata": {},
   "outputs": [
    {
     "data": {
      "text/html": [
       "<div>\n",
       "<style scoped>\n",
       "    .dataframe tbody tr th:only-of-type {\n",
       "        vertical-align: middle;\n",
       "    }\n",
       "\n",
       "    .dataframe tbody tr th {\n",
       "        vertical-align: top;\n",
       "    }\n",
       "\n",
       "    .dataframe thead th {\n",
       "        text-align: right;\n",
       "    }\n",
       "</style>\n",
       "<table border=\"1\" class=\"dataframe\">\n",
       "  <thead>\n",
       "    <tr style=\"text-align: right;\">\n",
       "      <th></th>\n",
       "      <th>auto</th>\n",
       "      <th>gender</th>\n",
       "      <th>age</th>\n",
       "      <th>count(auto)</th>\n",
       "    </tr>\n",
       "  </thead>\n",
       "  <tbody>\n",
       "    <tr>\n",
       "      <th>0</th>\n",
       "      <td>Да</td>\n",
       "      <td>Мужской</td>\n",
       "      <td>18</td>\n",
       "      <td>2</td>\n",
       "    </tr>\n",
       "    <tr>\n",
       "      <th>1</th>\n",
       "      <td>Да</td>\n",
       "      <td>Мужской</td>\n",
       "      <td>19</td>\n",
       "      <td>19</td>\n",
       "    </tr>\n",
       "  </tbody>\n",
       "</table>\n",
       "</div>"
      ],
      "text/plain": [
       "  auto   gender  age  count(auto)\n",
       "0   Да  Мужской   18            2\n",
       "1   Да  Мужской   19           19"
      ]
     },
     "execution_count": 19,
     "metadata": {},
     "output_type": "execute_result"
    }
   ],
   "source": [
    "sql1= '''SELECT  auto, gender, age, count(auto) \n",
    "from MFOcredit\n",
    "where gender  = 'Мужской'\n",
    "and (auto = 'Да')\n",
    "group by age\n",
    "'''\n",
    "select(sql1).head(2)"
   ]
  },
  {
   "cell_type": "code",
   "execution_count": 20,
   "id": "7c6d16c4",
   "metadata": {},
   "outputs": [
    {
     "data": {
      "text/html": [
       "<div>\n",
       "<style scoped>\n",
       "    .dataframe tbody tr th:only-of-type {\n",
       "        vertical-align: middle;\n",
       "    }\n",
       "\n",
       "    .dataframe tbody tr th {\n",
       "        vertical-align: top;\n",
       "    }\n",
       "\n",
       "    .dataframe thead th {\n",
       "        text-align: right;\n",
       "    }\n",
       "</style>\n",
       "<table border=\"1\" class=\"dataframe\">\n",
       "  <thead>\n",
       "    <tr style=\"text-align: right;\">\n",
       "      <th></th>\n",
       "      <th>auto</th>\n",
       "      <th>gender</th>\n",
       "      <th>age</th>\n",
       "      <th>count(auto)</th>\n",
       "    </tr>\n",
       "  </thead>\n",
       "  <tbody>\n",
       "    <tr>\n",
       "      <th>0</th>\n",
       "      <td>Нет</td>\n",
       "      <td>Мужской</td>\n",
       "      <td>18</td>\n",
       "      <td>3</td>\n",
       "    </tr>\n",
       "    <tr>\n",
       "      <th>1</th>\n",
       "      <td>Нет</td>\n",
       "      <td>Мужской</td>\n",
       "      <td>19</td>\n",
       "      <td>136</td>\n",
       "    </tr>\n",
       "  </tbody>\n",
       "</table>\n",
       "</div>"
      ],
      "text/plain": [
       "  auto   gender  age  count(auto)\n",
       "0  Нет  Мужской   18            3\n",
       "1  Нет  Мужской   19          136"
      ]
     },
     "execution_count": 20,
     "metadata": {},
     "output_type": "execute_result"
    }
   ],
   "source": [
    "sql2= '''SELECT  auto, gender, age, count(auto) \n",
    "from MFOcredit\n",
    "where gender  = 'Мужской'\n",
    "and (auto = 'Нет')\n",
    "group by age\n",
    "'''\n",
    "select(sql2).head(2)"
   ]
  },
  {
   "cell_type": "code",
   "execution_count": 21,
   "id": "5c2d477e",
   "metadata": {},
   "outputs": [
    {
     "data": {
      "text/html": [
       "<div>\n",
       "<style scoped>\n",
       "    .dataframe tbody tr th:only-of-type {\n",
       "        vertical-align: middle;\n",
       "    }\n",
       "\n",
       "    .dataframe tbody tr th {\n",
       "        vertical-align: top;\n",
       "    }\n",
       "\n",
       "    .dataframe thead th {\n",
       "        text-align: right;\n",
       "    }\n",
       "</style>\n",
       "<table border=\"1\" class=\"dataframe\">\n",
       "  <thead>\n",
       "    <tr style=\"text-align: right;\">\n",
       "      <th></th>\n",
       "      <th>count(auto)</th>\n",
       "    </tr>\n",
       "    <tr>\n",
       "      <th>age</th>\n",
       "      <th></th>\n",
       "    </tr>\n",
       "  </thead>\n",
       "  <tbody>\n",
       "    <tr>\n",
       "      <th>18</th>\n",
       "      <td>-94.0</td>\n",
       "    </tr>\n",
       "    <tr>\n",
       "      <th>19</th>\n",
       "      <td>-106.0</td>\n",
       "    </tr>\n",
       "    <tr>\n",
       "      <th>20</th>\n",
       "      <td>-110.0</td>\n",
       "    </tr>\n",
       "  </tbody>\n",
       "</table>\n",
       "</div>"
      ],
      "text/plain": [
       "     count(auto)\n",
       "age             \n",
       "18         -94.0\n",
       "19        -106.0\n",
       "20        -110.0"
      ]
     },
     "execution_count": 21,
     "metadata": {},
     "output_type": "execute_result"
    }
   ],
   "source": [
    "age_auto = pd.DataFrame((select(sql1)['count(auto)'] - select(sql2)['count(auto)']), (select(sql2)['age']))\n",
    "age_auto.head(3)"
   ]
  },
  {
   "cell_type": "code",
   "execution_count": 22,
   "id": "e4b17f3e",
   "metadata": {},
   "outputs": [
    {
     "data": {
      "text/html": [
       "<div>\n",
       "<style scoped>\n",
       "    .dataframe tbody tr th:only-of-type {\n",
       "        vertical-align: middle;\n",
       "    }\n",
       "\n",
       "    .dataframe tbody tr th {\n",
       "        vertical-align: top;\n",
       "    }\n",
       "\n",
       "    .dataframe thead th {\n",
       "        text-align: right;\n",
       "    }\n",
       "</style>\n",
       "<table border=\"1\" class=\"dataframe\">\n",
       "  <thead>\n",
       "    <tr style=\"text-align: right;\">\n",
       "      <th></th>\n",
       "      <th>auto</th>\n",
       "      <th>gender</th>\n",
       "      <th>age</th>\n",
       "      <th>count(auto)</th>\n",
       "    </tr>\n",
       "  </thead>\n",
       "  <tbody>\n",
       "    <tr>\n",
       "      <th>0</th>\n",
       "      <td>Да</td>\n",
       "      <td>Женский</td>\n",
       "      <td>19</td>\n",
       "      <td>5</td>\n",
       "    </tr>\n",
       "    <tr>\n",
       "      <th>1</th>\n",
       "      <td>Да</td>\n",
       "      <td>Женский</td>\n",
       "      <td>20</td>\n",
       "      <td>7</td>\n",
       "    </tr>\n",
       "  </tbody>\n",
       "</table>\n",
       "</div>"
      ],
      "text/plain": [
       "  auto   gender  age  count(auto)\n",
       "0   Да  Женский   19            5\n",
       "1   Да  Женский   20            7"
      ]
     },
     "execution_count": 22,
     "metadata": {},
     "output_type": "execute_result"
    }
   ],
   "source": [
    "sql1= '''SELECT  auto, gender, age, count(auto) \n",
    "from MFOcredit\n",
    "where gender  = 'Женский'\n",
    "and (auto = 'Да')\n",
    "group by age\n",
    "'''\n",
    "select(sql1).head(2)"
   ]
  },
  {
   "cell_type": "code",
   "execution_count": 23,
   "id": "6de834b1",
   "metadata": {},
   "outputs": [
    {
     "data": {
      "text/html": [
       "<div>\n",
       "<style scoped>\n",
       "    .dataframe tbody tr th:only-of-type {\n",
       "        vertical-align: middle;\n",
       "    }\n",
       "\n",
       "    .dataframe tbody tr th {\n",
       "        vertical-align: top;\n",
       "    }\n",
       "\n",
       "    .dataframe thead th {\n",
       "        text-align: right;\n",
       "    }\n",
       "</style>\n",
       "<table border=\"1\" class=\"dataframe\">\n",
       "  <thead>\n",
       "    <tr style=\"text-align: right;\">\n",
       "      <th></th>\n",
       "      <th>auto</th>\n",
       "      <th>gender</th>\n",
       "      <th>age</th>\n",
       "      <th>count(auto)</th>\n",
       "    </tr>\n",
       "  </thead>\n",
       "  <tbody>\n",
       "    <tr>\n",
       "      <th>0</th>\n",
       "      <td>Нет</td>\n",
       "      <td>Женский</td>\n",
       "      <td>18</td>\n",
       "      <td>1</td>\n",
       "    </tr>\n",
       "    <tr>\n",
       "      <th>1</th>\n",
       "      <td>Нет</td>\n",
       "      <td>Женский</td>\n",
       "      <td>19</td>\n",
       "      <td>116</td>\n",
       "    </tr>\n",
       "  </tbody>\n",
       "</table>\n",
       "</div>"
      ],
      "text/plain": [
       "  auto   gender  age  count(auto)\n",
       "0  Нет  Женский   18            1\n",
       "1  Нет  Женский   19          116"
      ]
     },
     "execution_count": 23,
     "metadata": {},
     "output_type": "execute_result"
    }
   ],
   "source": [
    "sql2= '''SELECT  auto, gender, age, count(auto) \n",
    "from MFOcredit\n",
    "where gender  = 'Женский'\n",
    "and (auto = 'Нет')\n",
    "group by age\n",
    "'''\n",
    "select(sql2).head(2)"
   ]
  },
  {
   "cell_type": "code",
   "execution_count": 24,
   "id": "9d77e82f",
   "metadata": {},
   "outputs": [
    {
     "data": {
      "text/html": [
       "<div>\n",
       "<style scoped>\n",
       "    .dataframe tbody tr th:only-of-type {\n",
       "        vertical-align: middle;\n",
       "    }\n",
       "\n",
       "    .dataframe tbody tr th {\n",
       "        vertical-align: top;\n",
       "    }\n",
       "\n",
       "    .dataframe thead th {\n",
       "        text-align: right;\n",
       "    }\n",
       "</style>\n",
       "<table border=\"1\" class=\"dataframe\">\n",
       "  <thead>\n",
       "    <tr style=\"text-align: right;\">\n",
       "      <th></th>\n",
       "      <th>count(auto)</th>\n",
       "    </tr>\n",
       "    <tr>\n",
       "      <th>age</th>\n",
       "      <th></th>\n",
       "    </tr>\n",
       "  </thead>\n",
       "  <tbody>\n",
       "    <tr>\n",
       "      <th>18</th>\n",
       "      <td>-204.0</td>\n",
       "    </tr>\n",
       "    <tr>\n",
       "      <th>19</th>\n",
       "      <td>-214.0</td>\n",
       "    </tr>\n",
       "    <tr>\n",
       "      <th>20</th>\n",
       "      <td>-163.0</td>\n",
       "    </tr>\n",
       "  </tbody>\n",
       "</table>\n",
       "</div>"
      ],
      "text/plain": [
       "     count(auto)\n",
       "age             \n",
       "18        -204.0\n",
       "19        -214.0\n",
       "20        -163.0"
      ]
     },
     "execution_count": 24,
     "metadata": {},
     "output_type": "execute_result"
    }
   ],
   "source": [
    "age_auto = pd.DataFrame((select(sql1)['count(auto)'] - select(sql2)['count(auto)']), (select(sql2)['age']))\n",
    "age_auto.head(3)"
   ]
  },
  {
   "cell_type": "markdown",
   "id": "40c12c0a",
   "metadata": {},
   "source": [
    "* Сгрупировав данные о наличии авто, мужского и женского пола по возрастам, посчиатв разницу между флагом \"Да\" и \"Нет\", везеде получаем отрицательное число, таким образов делаю вывод что, у большинства авто все же нет, и данные пропуски заполняю флагом \"Нет\"\n",
    "_____"
   ]
  },
  {
   "cell_type": "code",
   "execution_count": 25,
   "id": "feb88400",
   "metadata": {},
   "outputs": [
    {
     "data": {
      "text/plain": [
       "<sqlite3.Cursor at 0x20e304e9b90>"
      ]
     },
     "execution_count": 25,
     "metadata": {},
     "output_type": "execute_result"
    }
   ],
   "source": [
    "sql = '''UPDATE test \n",
    "SET auto = 'Нет' \n",
    "WHERE auto = \"Пропуск поля\" '''\n",
    "con.execute(sql)"
   ]
  },
  {
   "cell_type": "code",
   "execution_count": 26,
   "id": "0183e6e7",
   "metadata": {},
   "outputs": [
    {
     "data": {
      "text/plain": [
       "<sqlite3.Cursor at 0x20e304e99d0>"
      ]
     },
     "execution_count": 26,
     "metadata": {},
     "output_type": "execute_result"
    }
   ],
   "source": [
    "sql = '''UPDATE train \n",
    "SET auto = 'Нет' \n",
    "WHERE auto = \"Пропуск поля\" '''\n",
    "con.execute(sql)"
   ]
  },
  {
   "cell_type": "code",
   "execution_count": 27,
   "id": "0f354f40",
   "metadata": {},
   "outputs": [
    {
     "data": {
      "text/html": [
       "<div>\n",
       "<style scoped>\n",
       "    .dataframe tbody tr th:only-of-type {\n",
       "        vertical-align: middle;\n",
       "    }\n",
       "\n",
       "    .dataframe tbody tr th {\n",
       "        vertical-align: top;\n",
       "    }\n",
       "\n",
       "    .dataframe thead th {\n",
       "        text-align: right;\n",
       "    }\n",
       "</style>\n",
       "<table border=\"1\" class=\"dataframe\">\n",
       "  <thead>\n",
       "    <tr style=\"text-align: right;\">\n",
       "      <th></th>\n",
       "      <th>housing</th>\n",
       "      <th>gender</th>\n",
       "      <th>age</th>\n",
       "      <th>COUNT(housing)</th>\n",
       "    </tr>\n",
       "  </thead>\n",
       "  <tbody>\n",
       "    <tr>\n",
       "      <th>0</th>\n",
       "      <td>Арендуемое</td>\n",
       "      <td>Женский</td>\n",
       "      <td>27</td>\n",
       "      <td>785</td>\n",
       "    </tr>\n",
       "    <tr>\n",
       "      <th>1</th>\n",
       "      <td>Долевая собственность</td>\n",
       "      <td>Женский</td>\n",
       "      <td>30</td>\n",
       "      <td>1329</td>\n",
       "    </tr>\n",
       "    <tr>\n",
       "      <th>2</th>\n",
       "      <td>Живут с родителями</td>\n",
       "      <td>Женский</td>\n",
       "      <td>20</td>\n",
       "      <td>1162</td>\n",
       "    </tr>\n",
       "    <tr>\n",
       "      <th>3</th>\n",
       "      <td>Муниципальное</td>\n",
       "      <td>Женский</td>\n",
       "      <td>51</td>\n",
       "      <td>836</td>\n",
       "    </tr>\n",
       "    <tr>\n",
       "      <th>4</th>\n",
       "      <td>Пропуск поля</td>\n",
       "      <td>Женский</td>\n",
       "      <td>27</td>\n",
       "      <td>3801</td>\n",
       "    </tr>\n",
       "    <tr>\n",
       "      <th>5</th>\n",
       "      <td>Собственное</td>\n",
       "      <td>Женский</td>\n",
       "      <td>47</td>\n",
       "      <td>10362</td>\n",
       "    </tr>\n",
       "  </tbody>\n",
       "</table>\n",
       "</div>"
      ],
      "text/plain": [
       "                 housing   gender  age  COUNT(housing)\n",
       "0             Арендуемое  Женский   27             785\n",
       "1  Долевая собственность  Женский   30            1329\n",
       "2     Живут с родителями  Женский   20            1162\n",
       "3          Муниципальное  Женский   51             836\n",
       "4           Пропуск поля  Женский   27            3801\n",
       "5            Собственное  Женский   47           10362"
      ]
     },
     "execution_count": 27,
     "metadata": {},
     "output_type": "execute_result"
    }
   ],
   "source": [
    "sql = '''SELECT housing,gender, age,COUNT(housing)\n",
    "FROM MFOcredit\n",
    "where gender = 'Женский'\n",
    "group by housing'''\n",
    "select(sql)"
   ]
  },
  {
   "cell_type": "code",
   "execution_count": 28,
   "id": "a1ddde2b",
   "metadata": {},
   "outputs": [
    {
     "data": {
      "text/html": [
       "<div>\n",
       "<style scoped>\n",
       "    .dataframe tbody tr th:only-of-type {\n",
       "        vertical-align: middle;\n",
       "    }\n",
       "\n",
       "    .dataframe tbody tr th {\n",
       "        vertical-align: top;\n",
       "    }\n",
       "\n",
       "    .dataframe thead th {\n",
       "        text-align: right;\n",
       "    }\n",
       "</style>\n",
       "<table border=\"1\" class=\"dataframe\">\n",
       "  <thead>\n",
       "    <tr style=\"text-align: right;\">\n",
       "      <th></th>\n",
       "      <th>housing</th>\n",
       "      <th>gender</th>\n",
       "      <th>age</th>\n",
       "      <th>COUNT(housing)</th>\n",
       "    </tr>\n",
       "  </thead>\n",
       "  <tbody>\n",
       "    <tr>\n",
       "      <th>0</th>\n",
       "      <td>Арендуемое</td>\n",
       "      <td>Мужской</td>\n",
       "      <td>22</td>\n",
       "      <td>1235</td>\n",
       "    </tr>\n",
       "    <tr>\n",
       "      <th>1</th>\n",
       "      <td>Долевая собственность</td>\n",
       "      <td>Мужской</td>\n",
       "      <td>51</td>\n",
       "      <td>1626</td>\n",
       "    </tr>\n",
       "    <tr>\n",
       "      <th>2</th>\n",
       "      <td>Живут с родителями</td>\n",
       "      <td>Мужской</td>\n",
       "      <td>21</td>\n",
       "      <td>2015</td>\n",
       "    </tr>\n",
       "    <tr>\n",
       "      <th>3</th>\n",
       "      <td>Муниципальное</td>\n",
       "      <td>Мужской</td>\n",
       "      <td>20</td>\n",
       "      <td>522</td>\n",
       "    </tr>\n",
       "    <tr>\n",
       "      <th>4</th>\n",
       "      <td>Пропуск поля</td>\n",
       "      <td>Мужской</td>\n",
       "      <td>25</td>\n",
       "      <td>3802</td>\n",
       "    </tr>\n",
       "    <tr>\n",
       "      <th>5</th>\n",
       "      <td>Собственное</td>\n",
       "      <td>Мужской</td>\n",
       "      <td>44</td>\n",
       "      <td>7737</td>\n",
       "    </tr>\n",
       "  </tbody>\n",
       "</table>\n",
       "</div>"
      ],
      "text/plain": [
       "                 housing   gender  age  COUNT(housing)\n",
       "0             Арендуемое  Мужской   22            1235\n",
       "1  Долевая собственность  Мужской   51            1626\n",
       "2     Живут с родителями  Мужской   21            2015\n",
       "3          Муниципальное  Мужской   20             522\n",
       "4           Пропуск поля  Мужской   25            3802\n",
       "5            Собственное  Мужской   44            7737"
      ]
     },
     "execution_count": 28,
     "metadata": {},
     "output_type": "execute_result"
    }
   ],
   "source": [
    "sql = '''SELECT housing,gender, age,COUNT(housing)\n",
    "FROM MFOcredit\n",
    "where gender = 'Мужской'\n",
    "group by housing'''\n",
    "select(sql)"
   ]
  },
  {
   "cell_type": "markdown",
   "id": "6870b8cf",
   "metadata": {},
   "source": [
    "* Исходя из последних двух таблиц, пропуски в столбце housing буду заполнять связывая с возрастными диапазонами\n",
    "* заполнение стобца  housing для test части"
   ]
  },
  {
   "cell_type": "code",
   "execution_count": 29,
   "id": "e17d6a40",
   "metadata": {},
   "outputs": [
    {
     "data": {
      "text/plain": [
       "<sqlite3.Cursor at 0x20e3082a340>"
      ]
     },
     "execution_count": 29,
     "metadata": {},
     "output_type": "execute_result"
    }
   ],
   "source": [
    "sql = '''UPDATE test \n",
    "SET housing = 'Живут с родителями' \n",
    "WHERE age between '0' and \"20\" and housing = \"Пропуск поля\" and gender = 'Женский'  \n",
    "'''\n",
    "con.execute(sql)"
   ]
  },
  {
   "cell_type": "code",
   "execution_count": 30,
   "id": "7fede8a2",
   "metadata": {},
   "outputs": [
    {
     "data": {
      "text/plain": [
       "<sqlite3.Cursor at 0x20e3082a810>"
      ]
     },
     "execution_count": 30,
     "metadata": {},
     "output_type": "execute_result"
    }
   ],
   "source": [
    "sql = '''UPDATE test \n",
    "SET housing = 'Арендуемое' \n",
    "WHERE age between '20' and \"27\" and housing = \"Пропуск поля\"  and gender = 'Женский' \n",
    "'''\n",
    "con.execute(sql)"
   ]
  },
  {
   "cell_type": "code",
   "execution_count": 31,
   "id": "99fd5578",
   "metadata": {},
   "outputs": [
    {
     "data": {
      "text/plain": [
       "<sqlite3.Cursor at 0x20e3082a8f0>"
      ]
     },
     "execution_count": 31,
     "metadata": {},
     "output_type": "execute_result"
    }
   ],
   "source": [
    "sql = '''UPDATE test \n",
    "SET housing = 'Долевая собственность' \n",
    "WHERE age between '27' and \"30\" and housing = \"Пропуск поля\" and gender = 'Женский'  \n",
    "'''\n",
    "con.execute(sql)"
   ]
  },
  {
   "cell_type": "code",
   "execution_count": 32,
   "id": "70d5d936",
   "metadata": {},
   "outputs": [
    {
     "data": {
      "text/plain": [
       "<sqlite3.Cursor at 0x20e3082ab20>"
      ]
     },
     "execution_count": 32,
     "metadata": {},
     "output_type": "execute_result"
    }
   ],
   "source": [
    "sql = '''UPDATE test \n",
    "SET housing = 'Собственное' \n",
    "WHERE age between '30' and \"72\" and housing = \"Пропуск поля\" and gender = 'Женский'  \n",
    "'''\n",
    "con.execute(sql)"
   ]
  },
  {
   "cell_type": "code",
   "execution_count": 33,
   "id": "9774f462",
   "metadata": {},
   "outputs": [
    {
     "data": {
      "text/plain": [
       "<sqlite3.Cursor at 0x20e3082ace0>"
      ]
     },
     "execution_count": 33,
     "metadata": {},
     "output_type": "execute_result"
    }
   ],
   "source": [
    "sql = '''UPDATE test \n",
    "SET housing = 'Живут с родителями' \n",
    "WHERE age between '0' and \"21\" and housing = \"Пропуск поля\" and gender = 'Мужской' \n",
    "'''\n",
    "con.execute(sql)"
   ]
  },
  {
   "cell_type": "code",
   "execution_count": 34,
   "id": "eda217c0",
   "metadata": {},
   "outputs": [
    {
     "data": {
      "text/plain": [
       "<sqlite3.Cursor at 0x20e3082ab90>"
      ]
     },
     "execution_count": 34,
     "metadata": {},
     "output_type": "execute_result"
    }
   ],
   "source": [
    "sql = '''UPDATE test \n",
    "SET housing = 'Арендуемое' \n",
    "WHERE age between '21' and \"25\" and housing = \"Пропуск поля\" and gender = 'Мужской' \n",
    "'''\n",
    "con.execute(sql)"
   ]
  },
  {
   "cell_type": "code",
   "execution_count": 35,
   "id": "af3eb773",
   "metadata": {},
   "outputs": [
    {
     "data": {
      "text/plain": [
       "<sqlite3.Cursor at 0x20e3082ac70>"
      ]
     },
     "execution_count": 35,
     "metadata": {},
     "output_type": "execute_result"
    }
   ],
   "source": [
    "sql = '''UPDATE test \n",
    "SET housing = 'Собственное' \n",
    "WHERE age between '25' and \"51\" and housing = \"Пропуск поля\" and gender = 'Мужской' \n",
    "'''\n",
    "con.execute(sql)"
   ]
  },
  {
   "cell_type": "code",
   "execution_count": 36,
   "id": "173d41b2",
   "metadata": {},
   "outputs": [
    {
     "data": {
      "text/plain": [
       "<sqlite3.Cursor at 0x20e2ef64110>"
      ]
     },
     "execution_count": 36,
     "metadata": {},
     "output_type": "execute_result"
    }
   ],
   "source": [
    "sql = '''UPDATE test \n",
    "SET housing = 'Долевая собственность' \n",
    "WHERE age between '51' and \"74\" and housing = \"Пропуск поля\" and gender = 'Мужской' \n",
    "'''\n",
    "con.execute(sql)"
   ]
  },
  {
   "cell_type": "code",
   "execution_count": 37,
   "id": "673f4233",
   "metadata": {},
   "outputs": [
    {
     "data": {
      "text/html": [
       "<div>\n",
       "<style scoped>\n",
       "    .dataframe tbody tr th:only-of-type {\n",
       "        vertical-align: middle;\n",
       "    }\n",
       "\n",
       "    .dataframe tbody tr th {\n",
       "        vertical-align: top;\n",
       "    }\n",
       "\n",
       "    .dataframe thead th {\n",
       "        text-align: right;\n",
       "    }\n",
       "</style>\n",
       "<table border=\"1\" class=\"dataframe\">\n",
       "  <thead>\n",
       "    <tr style=\"text-align: right;\">\n",
       "      <th></th>\n",
       "      <th>housing</th>\n",
       "      <th>gender</th>\n",
       "      <th>COUNT(housing)</th>\n",
       "    </tr>\n",
       "  </thead>\n",
       "  <tbody>\n",
       "  </tbody>\n",
       "</table>\n",
       "</div>"
      ],
      "text/plain": [
       "Empty DataFrame\n",
       "Columns: [housing, gender, COUNT(housing)]\n",
       "Index: []"
      ]
     },
     "execution_count": 37,
     "metadata": {},
     "output_type": "execute_result"
    }
   ],
   "source": [
    "sql = '''SELECT housing,gender,COUNT(housing)\n",
    "FROM test\n",
    "where housing = 'Пропуск поля'\n",
    "\n",
    "group by age'''\n",
    "select(sql)"
   ]
  },
  {
   "cell_type": "markdown",
   "id": "206cdc3d",
   "metadata": {},
   "source": [
    "* заполнение стобца  housing для train части"
   ]
  },
  {
   "cell_type": "code",
   "execution_count": 38,
   "id": "ac252695",
   "metadata": {},
   "outputs": [
    {
     "data": {
      "text/plain": [
       "<sqlite3.Cursor at 0x20e2ef642d0>"
      ]
     },
     "execution_count": 38,
     "metadata": {},
     "output_type": "execute_result"
    }
   ],
   "source": [
    "sql = '''UPDATE train \n",
    "SET housing = 'Живут с родителями' \n",
    "WHERE age between '0' and \"20\" and housing = \"Пропуск поля\" and gender = 'Женский'  \n",
    "'''\n",
    "con.execute(sql)"
   ]
  },
  {
   "cell_type": "code",
   "execution_count": 39,
   "id": "52bb6aa2",
   "metadata": {},
   "outputs": [
    {
     "data": {
      "text/plain": [
       "<sqlite3.Cursor at 0x20e2ef643b0>"
      ]
     },
     "execution_count": 39,
     "metadata": {},
     "output_type": "execute_result"
    }
   ],
   "source": [
    "sql = '''UPDATE train \n",
    "SET housing = 'Арендуемое' \n",
    "WHERE age between '20' and \"27\" and housing = \"Пропуск поля\"  and gender = 'Женский' \n",
    "'''\n",
    "con.execute(sql)"
   ]
  },
  {
   "cell_type": "code",
   "execution_count": 40,
   "id": "e8253f2c",
   "metadata": {},
   "outputs": [
    {
     "data": {
      "text/plain": [
       "<sqlite3.Cursor at 0x20e2ef64420>"
      ]
     },
     "execution_count": 40,
     "metadata": {},
     "output_type": "execute_result"
    }
   ],
   "source": [
    "sql = '''UPDATE train \n",
    "SET housing = 'Долевая собственность' \n",
    "WHERE age between '27' and \"30\" and housing = \"Пропуск поля\" and gender = 'Женский'  \n",
    "'''\n",
    "con.execute(sql)"
   ]
  },
  {
   "cell_type": "code",
   "execution_count": 41,
   "id": "73c79288",
   "metadata": {},
   "outputs": [
    {
     "data": {
      "text/plain": [
       "<sqlite3.Cursor at 0x20e2ef64500>"
      ]
     },
     "execution_count": 41,
     "metadata": {},
     "output_type": "execute_result"
    }
   ],
   "source": [
    "sql = '''UPDATE train \n",
    "SET housing = 'Собственное' \n",
    "WHERE age between '30' and \"75\" and housing = \"Пропуск поля\" and gender = 'Женский'  \n",
    "'''\n",
    "con.execute(sql)"
   ]
  },
  {
   "cell_type": "code",
   "execution_count": 42,
   "id": "16823dda",
   "metadata": {},
   "outputs": [
    {
     "data": {
      "text/plain": [
       "<sqlite3.Cursor at 0x20e2ef64730>"
      ]
     },
     "execution_count": 42,
     "metadata": {},
     "output_type": "execute_result"
    }
   ],
   "source": [
    "sql = '''UPDATE train \n",
    "SET housing = 'Живут с родителями' \n",
    "WHERE age between '0' and \"21\" and housing = \"Пропуск поля\" and gender = 'Мужской' \n",
    "'''\n",
    "con.execute(sql)"
   ]
  },
  {
   "cell_type": "code",
   "execution_count": 43,
   "id": "26c0a2d1",
   "metadata": {},
   "outputs": [
    {
     "data": {
      "text/plain": [
       "<sqlite3.Cursor at 0x20e2ef64960>"
      ]
     },
     "execution_count": 43,
     "metadata": {},
     "output_type": "execute_result"
    }
   ],
   "source": [
    "sql = '''UPDATE train \n",
    "SET housing = 'Арендуемое' \n",
    "WHERE age between '21' and \"25\" and housing = \"Пропуск поля\" and gender = 'Мужской' \n",
    "'''\n",
    "con.execute(sql)"
   ]
  },
  {
   "cell_type": "code",
   "execution_count": 44,
   "id": "60e5b6dc",
   "metadata": {},
   "outputs": [
    {
     "data": {
      "text/plain": [
       "<sqlite3.Cursor at 0x20e2ef64ab0>"
      ]
     },
     "execution_count": 44,
     "metadata": {},
     "output_type": "execute_result"
    }
   ],
   "source": [
    "sql = '''UPDATE train \n",
    "SET housing = 'Собственное' \n",
    "WHERE age between '25' and \"51\" and housing = \"Пропуск поля\" and gender = 'Мужской' \n",
    "'''\n",
    "con.execute(sql)"
   ]
  },
  {
   "cell_type": "code",
   "execution_count": 45,
   "id": "3627bfb9",
   "metadata": {},
   "outputs": [
    {
     "data": {
      "text/plain": [
       "<sqlite3.Cursor at 0x20e2ef64b90>"
      ]
     },
     "execution_count": 45,
     "metadata": {},
     "output_type": "execute_result"
    }
   ],
   "source": [
    "sql = '''UPDATE train \n",
    "SET housing = 'Долевая собственность' \n",
    "WHERE age between '51' and \"75\" and housing = \"Пропуск поля\" and gender = 'Мужской' \n",
    "'''\n",
    "con.execute(sql)"
   ]
  },
  {
   "cell_type": "markdown",
   "id": "e1cf3da1",
   "metadata": {},
   "source": [
    "* Заполнение пропусков в столбце jobtype"
   ]
  },
  {
   "cell_type": "code",
   "execution_count": 46,
   "id": "8ba918f2",
   "metadata": {},
   "outputs": [
    {
     "data": {
      "text/html": [
       "<div>\n",
       "<style scoped>\n",
       "    .dataframe tbody tr th:only-of-type {\n",
       "        vertical-align: middle;\n",
       "    }\n",
       "\n",
       "    .dataframe tbody tr th {\n",
       "        vertical-align: top;\n",
       "    }\n",
       "\n",
       "    .dataframe thead th {\n",
       "        text-align: right;\n",
       "    }\n",
       "</style>\n",
       "<table border=\"1\" class=\"dataframe\">\n",
       "  <thead>\n",
       "    <tr style=\"text-align: right;\">\n",
       "      <th></th>\n",
       "      <th>jobtype</th>\n",
       "      <th>gender</th>\n",
       "      <th>age</th>\n",
       "      <th>COUNT(jobtype)</th>\n",
       "    </tr>\n",
       "  </thead>\n",
       "  <tbody>\n",
       "    <tr>\n",
       "      <th>0</th>\n",
       "      <td>Официальное</td>\n",
       "      <td>Женский</td>\n",
       "      <td>18</td>\n",
       "      <td>1</td>\n",
       "    </tr>\n",
       "  </tbody>\n",
       "</table>\n",
       "</div>"
      ],
      "text/plain": [
       "       jobtype   gender  age  COUNT(jobtype)\n",
       "0  Официальное  Женский   18               1"
      ]
     },
     "execution_count": 46,
     "metadata": {},
     "output_type": "execute_result"
    }
   ],
   "source": [
    "sql = '''SELECT jobtype,gender,age, COUNT(jobtype)\n",
    "FROM MFOcredit\n",
    "where gender = \"Женский\"\n",
    "group by age'''\n",
    "select(sql).head(1)"
   ]
  },
  {
   "cell_type": "code",
   "execution_count": 47,
   "id": "82f82b60",
   "metadata": {},
   "outputs": [
    {
     "data": {
      "text/html": [
       "<div>\n",
       "<style scoped>\n",
       "    .dataframe tbody tr th:only-of-type {\n",
       "        vertical-align: middle;\n",
       "    }\n",
       "\n",
       "    .dataframe tbody tr th {\n",
       "        vertical-align: top;\n",
       "    }\n",
       "\n",
       "    .dataframe thead th {\n",
       "        text-align: right;\n",
       "    }\n",
       "</style>\n",
       "<table border=\"1\" class=\"dataframe\">\n",
       "  <thead>\n",
       "    <tr style=\"text-align: right;\">\n",
       "      <th></th>\n",
       "      <th>jobtype</th>\n",
       "      <th>gender</th>\n",
       "      <th>age</th>\n",
       "      <th>COUNT(jobtype)</th>\n",
       "    </tr>\n",
       "  </thead>\n",
       "  <tbody>\n",
       "    <tr>\n",
       "      <th>0</th>\n",
       "      <td>Официальное</td>\n",
       "      <td>Мужской</td>\n",
       "      <td>18</td>\n",
       "      <td>5</td>\n",
       "    </tr>\n",
       "  </tbody>\n",
       "</table>\n",
       "</div>"
      ],
      "text/plain": [
       "       jobtype   gender  age  COUNT(jobtype)\n",
       "0  Официальное  Мужской   18               5"
      ]
     },
     "execution_count": 47,
     "metadata": {},
     "output_type": "execute_result"
    }
   ],
   "source": [
    "sql = '''SELECT jobtype,gender,age, COUNT(jobtype)\n",
    "FROM MFOcredit\n",
    "where gender = \"Мужской\"\n",
    "group by age'''\n",
    "select(sql).head(1)"
   ]
  },
  {
   "cell_type": "markdown",
   "id": "9b652b57",
   "metadata": {},
   "source": [
    "* Незаметив каких-то зависимостей от возраста, заменяю пропуски частым по столбцу \"Официальное\""
   ]
  },
  {
   "cell_type": "code",
   "execution_count": 48,
   "id": "3475b9ea",
   "metadata": {},
   "outputs": [
    {
     "data": {
      "text/plain": [
       "<sqlite3.Cursor at 0x20e2f18c3b0>"
      ]
     },
     "execution_count": 48,
     "metadata": {},
     "output_type": "execute_result"
    }
   ],
   "source": [
    "sql = '''UPDATE test \n",
    "SET jobtype = 'Официальное' \n",
    "WHERE  jobtype = 'Пропуск поля'\n",
    "'''\n",
    "con.execute(sql)"
   ]
  },
  {
   "cell_type": "code",
   "execution_count": 49,
   "id": "07aef5aa",
   "metadata": {},
   "outputs": [
    {
     "data": {
      "text/plain": [
       "<sqlite3.Cursor at 0x20e2f18c420>"
      ]
     },
     "execution_count": 49,
     "metadata": {},
     "output_type": "execute_result"
    }
   ],
   "source": [
    "sql = '''UPDATE train \n",
    "SET jobtype = 'Официальное' \n",
    "WHERE  jobtype = 'Пропуск поля'\n",
    "'''\n",
    "con.execute(sql)"
   ]
  },
  {
   "cell_type": "markdown",
   "id": "a1ed9745",
   "metadata": {},
   "source": [
    "* Заполнение пропусков в столбце marstatus, заполняю аналогично возрастными диапазонами "
   ]
  },
  {
   "cell_type": "code",
   "execution_count": 50,
   "id": "9fd079f3",
   "metadata": {},
   "outputs": [
    {
     "data": {
      "text/html": [
       "<div>\n",
       "<style scoped>\n",
       "    .dataframe tbody tr th:only-of-type {\n",
       "        vertical-align: middle;\n",
       "    }\n",
       "\n",
       "    .dataframe tbody tr th {\n",
       "        vertical-align: top;\n",
       "    }\n",
       "\n",
       "    .dataframe thead th {\n",
       "        text-align: right;\n",
       "    }\n",
       "</style>\n",
       "<table border=\"1\" class=\"dataframe\">\n",
       "  <thead>\n",
       "    <tr style=\"text-align: right;\">\n",
       "      <th></th>\n",
       "      <th>marstatus</th>\n",
       "      <th>gender</th>\n",
       "      <th>age</th>\n",
       "      <th>COUNT(jobtype)</th>\n",
       "    </tr>\n",
       "  </thead>\n",
       "  <tbody>\n",
       "    <tr>\n",
       "      <th>0</th>\n",
       "      <td>Вдова/вдовец</td>\n",
       "      <td>Мужской</td>\n",
       "      <td>50</td>\n",
       "      <td>166</td>\n",
       "    </tr>\n",
       "    <tr>\n",
       "      <th>1</th>\n",
       "      <td>Гражданский брак/женат/замужем</td>\n",
       "      <td>Мужской</td>\n",
       "      <td>44</td>\n",
       "      <td>7122</td>\n",
       "    </tr>\n",
       "    <tr>\n",
       "      <th>2</th>\n",
       "      <td>Пропуск поля</td>\n",
       "      <td>Мужской</td>\n",
       "      <td>36</td>\n",
       "      <td>3776</td>\n",
       "    </tr>\n",
       "    <tr>\n",
       "      <th>3</th>\n",
       "      <td>Разведен</td>\n",
       "      <td>Мужской</td>\n",
       "      <td>40</td>\n",
       "      <td>931</td>\n",
       "    </tr>\n",
       "    <tr>\n",
       "      <th>4</th>\n",
       "      <td>Холост</td>\n",
       "      <td>Мужской</td>\n",
       "      <td>21</td>\n",
       "      <td>4942</td>\n",
       "    </tr>\n",
       "  </tbody>\n",
       "</table>\n",
       "</div>"
      ],
      "text/plain": [
       "                        marstatus   gender  age  COUNT(jobtype)\n",
       "0                    Вдова/вдовец  Мужской   50             166\n",
       "1  Гражданский брак/женат/замужем  Мужской   44            7122\n",
       "2                    Пропуск поля  Мужской   36            3776\n",
       "3                        Разведен  Мужской   40             931\n",
       "4                          Холост  Мужской   21            4942"
      ]
     },
     "execution_count": 50,
     "metadata": {},
     "output_type": "execute_result"
    }
   ],
   "source": [
    "sql = '''SELECT marstatus,gender,age, COUNT(jobtype)\n",
    "FROM MFOcredit\n",
    "where gender = \"Мужской\"\n",
    "group by marstatus'''\n",
    "select(sql)"
   ]
  },
  {
   "cell_type": "code",
   "execution_count": 51,
   "id": "fea5a8af",
   "metadata": {},
   "outputs": [
    {
     "data": {
      "text/html": [
       "<div>\n",
       "<style scoped>\n",
       "    .dataframe tbody tr th:only-of-type {\n",
       "        vertical-align: middle;\n",
       "    }\n",
       "\n",
       "    .dataframe tbody tr th {\n",
       "        vertical-align: top;\n",
       "    }\n",
       "\n",
       "    .dataframe thead th {\n",
       "        text-align: right;\n",
       "    }\n",
       "</style>\n",
       "<table border=\"1\" class=\"dataframe\">\n",
       "  <thead>\n",
       "    <tr style=\"text-align: right;\">\n",
       "      <th></th>\n",
       "      <th>marstatus</th>\n",
       "      <th>gender</th>\n",
       "      <th>age</th>\n",
       "      <th>COUNT(jobtype)</th>\n",
       "    </tr>\n",
       "  </thead>\n",
       "  <tbody>\n",
       "    <tr>\n",
       "      <th>0</th>\n",
       "      <td>Вдова/вдовец</td>\n",
       "      <td>Женский</td>\n",
       "      <td>51</td>\n",
       "      <td>1679</td>\n",
       "    </tr>\n",
       "    <tr>\n",
       "      <th>1</th>\n",
       "      <td>Гражданский брак/женат/замужем</td>\n",
       "      <td>Женский</td>\n",
       "      <td>47</td>\n",
       "      <td>6977</td>\n",
       "    </tr>\n",
       "    <tr>\n",
       "      <th>2</th>\n",
       "      <td>Пропуск поля</td>\n",
       "      <td>Женский</td>\n",
       "      <td>63</td>\n",
       "      <td>3788</td>\n",
       "    </tr>\n",
       "    <tr>\n",
       "      <th>3</th>\n",
       "      <td>Разведен</td>\n",
       "      <td>Женский</td>\n",
       "      <td>29</td>\n",
       "      <td>1940</td>\n",
       "    </tr>\n",
       "    <tr>\n",
       "      <th>4</th>\n",
       "      <td>Холост</td>\n",
       "      <td>Женский</td>\n",
       "      <td>39</td>\n",
       "      <td>3891</td>\n",
       "    </tr>\n",
       "  </tbody>\n",
       "</table>\n",
       "</div>"
      ],
      "text/plain": [
       "                        marstatus   gender  age  COUNT(jobtype)\n",
       "0                    Вдова/вдовец  Женский   51            1679\n",
       "1  Гражданский брак/женат/замужем  Женский   47            6977\n",
       "2                    Пропуск поля  Женский   63            3788\n",
       "3                        Разведен  Женский   29            1940\n",
       "4                          Холост  Женский   39            3891"
      ]
     },
     "execution_count": 51,
     "metadata": {},
     "output_type": "execute_result"
    }
   ],
   "source": [
    "sql = '''SELECT marstatus,gender,age, COUNT(jobtype)\n",
    "FROM MFOcredit\n",
    "where gender = \"Женский\"\n",
    "group by marstatus'''\n",
    "select(sql)"
   ]
  },
  {
   "cell_type": "markdown",
   "id": "0841d98f",
   "metadata": {},
   "source": [
    "* для части test"
   ]
  },
  {
   "cell_type": "code",
   "execution_count": 52,
   "id": "bc6b304f",
   "metadata": {},
   "outputs": [
    {
     "data": {
      "text/plain": [
       "<sqlite3.Cursor at 0x20e2f1cd110>"
      ]
     },
     "execution_count": 52,
     "metadata": {},
     "output_type": "execute_result"
    }
   ],
   "source": [
    "sql = '''UPDATE test \n",
    "SET marstatus = 'Холост' \n",
    "WHERE age between '0' and \"36\" and marstatus = \"Пропуск поля\" and gender = 'Мужской' \n",
    "'''\n",
    "con.execute(sql)"
   ]
  },
  {
   "cell_type": "code",
   "execution_count": 53,
   "id": "9718dee4",
   "metadata": {},
   "outputs": [
    {
     "data": {
      "text/plain": [
       "<sqlite3.Cursor at 0x20e2f1cd180>"
      ]
     },
     "execution_count": 53,
     "metadata": {},
     "output_type": "execute_result"
    }
   ],
   "source": [
    "sql = '''UPDATE test \n",
    "SET marstatus = 'Гражданский брак/женат/замужем' \n",
    "WHERE age between '36' and \"50\" and marstatus = \"Пропуск поля\" and gender = 'Мужской' \n",
    "'''\n",
    "con.execute(sql)"
   ]
  },
  {
   "cell_type": "code",
   "execution_count": 54,
   "id": "8fe7fa2d",
   "metadata": {},
   "outputs": [
    {
     "data": {
      "text/plain": [
       "<sqlite3.Cursor at 0x20e2f1cd260>"
      ]
     },
     "execution_count": 54,
     "metadata": {},
     "output_type": "execute_result"
    }
   ],
   "source": [
    "sql = '''UPDATE test \n",
    "SET marstatus = 'Вдова/вдовец' \n",
    "WHERE age between '50' and \"75\" and marstatus = \"Пропуск поля\" and gender = 'Мужской' \n",
    "'''\n",
    "con.execute(sql)"
   ]
  },
  {
   "cell_type": "code",
   "execution_count": 55,
   "id": "d3945c10",
   "metadata": {},
   "outputs": [
    {
     "data": {
      "text/plain": [
       "<sqlite3.Cursor at 0x20e2f1cd570>"
      ]
     },
     "execution_count": 55,
     "metadata": {},
     "output_type": "execute_result"
    }
   ],
   "source": [
    "sql = '''UPDATE test \n",
    "SET marstatus = 'Холост' \n",
    "WHERE age between '0' and \"39\" and marstatus = \"Пропуск поля\" and gender = 'Женский' \n",
    "'''\n",
    "con.execute(sql)"
   ]
  },
  {
   "cell_type": "code",
   "execution_count": 56,
   "id": "9a556e3a",
   "metadata": {},
   "outputs": [
    {
     "data": {
      "text/plain": [
       "<sqlite3.Cursor at 0x20e2f1cd5e0>"
      ]
     },
     "execution_count": 56,
     "metadata": {},
     "output_type": "execute_result"
    }
   ],
   "source": [
    "sql = '''UPDATE test \n",
    "SET marstatus = 'Гражданский брак/женат/замужем' \n",
    "WHERE age between '39' and \"51\" and marstatus = \"Пропуск поля\" and gender = 'Женский' \n",
    "'''\n",
    "con.execute(sql)"
   ]
  },
  {
   "cell_type": "code",
   "execution_count": 57,
   "id": "8bd397a9",
   "metadata": {},
   "outputs": [
    {
     "data": {
      "text/plain": [
       "<sqlite3.Cursor at 0x20e2f1cd8f0>"
      ]
     },
     "execution_count": 57,
     "metadata": {},
     "output_type": "execute_result"
    }
   ],
   "source": [
    "sql = '''UPDATE test \n",
    "SET marstatus = 'Вдова/вдовец' \n",
    "WHERE age between '51' and \"75\" and marstatus = \"Пропуск поля\" and gender = 'Женский' \n",
    "'''\n",
    "con.execute(sql)"
   ]
  },
  {
   "cell_type": "markdown",
   "id": "98a0e1d9",
   "metadata": {},
   "source": [
    "* для части train "
   ]
  },
  {
   "cell_type": "code",
   "execution_count": 58,
   "id": "add8af31",
   "metadata": {},
   "outputs": [
    {
     "data": {
      "text/plain": [
       "<sqlite3.Cursor at 0x20e2f1cdb20>"
      ]
     },
     "execution_count": 58,
     "metadata": {},
     "output_type": "execute_result"
    }
   ],
   "source": [
    "sql = '''UPDATE train  \n",
    "SET marstatus = 'Холост' \n",
    "WHERE age between '0' and \"36\" and marstatus = \"Пропуск поля\" and gender = 'Мужской' \n",
    "'''\n",
    "con.execute(sql)"
   ]
  },
  {
   "cell_type": "code",
   "execution_count": 59,
   "id": "af2b25c9",
   "metadata": {},
   "outputs": [
    {
     "data": {
      "text/plain": [
       "<sqlite3.Cursor at 0x20e2f1cda40>"
      ]
     },
     "execution_count": 59,
     "metadata": {},
     "output_type": "execute_result"
    }
   ],
   "source": [
    "sql = '''UPDATE train  \n",
    "SET marstatus = 'Гражданский брак/женат/замужем' \n",
    "WHERE age between '36' and \"50\" and marstatus = \"Пропуск поля\" and gender = 'Мужской' \n",
    "'''\n",
    "con.execute(sql)"
   ]
  },
  {
   "cell_type": "code",
   "execution_count": 60,
   "id": "af89c63b",
   "metadata": {},
   "outputs": [
    {
     "data": {
      "text/plain": [
       "<sqlite3.Cursor at 0x20e2f1cdc00>"
      ]
     },
     "execution_count": 60,
     "metadata": {},
     "output_type": "execute_result"
    }
   ],
   "source": [
    "sql = '''UPDATE train \n",
    "SET marstatus = 'Вдова/вдовец' \n",
    "WHERE age between '50' and \"75\" and marstatus = \"Пропуск поля\" and gender = 'Мужской' \n",
    "'''\n",
    "con.execute(sql)"
   ]
  },
  {
   "cell_type": "code",
   "execution_count": 61,
   "id": "db1b27e7",
   "metadata": {},
   "outputs": [
    {
     "data": {
      "text/plain": [
       "<sqlite3.Cursor at 0x20e2f1cdf10>"
      ]
     },
     "execution_count": 61,
     "metadata": {},
     "output_type": "execute_result"
    }
   ],
   "source": [
    "sql = '''UPDATE train  \n",
    "SET marstatus = 'Холост' \n",
    "WHERE age between '0' and \"39\" and marstatus = \"Пропуск поля\" and gender = 'Женский' \n",
    "'''\n",
    "con.execute(sql)"
   ]
  },
  {
   "cell_type": "code",
   "execution_count": 62,
   "id": "84b36653",
   "metadata": {},
   "outputs": [
    {
     "data": {
      "text/plain": [
       "<sqlite3.Cursor at 0x20e2f3f30a0>"
      ]
     },
     "execution_count": 62,
     "metadata": {},
     "output_type": "execute_result"
    }
   ],
   "source": [
    "sql = '''UPDATE train  \n",
    "SET marstatus = 'Гражданский брак/женат/замужем' \n",
    "WHERE age between '39' and \"51\" and marstatus = \"Пропуск поля\" and gender = 'Женский' \n",
    "'''\n",
    "con.execute(sql)"
   ]
  },
  {
   "cell_type": "code",
   "execution_count": 63,
   "id": "51b35076",
   "metadata": {},
   "outputs": [
    {
     "data": {
      "text/plain": [
       "<sqlite3.Cursor at 0x20e2f3f31f0>"
      ]
     },
     "execution_count": 63,
     "metadata": {},
     "output_type": "execute_result"
    }
   ],
   "source": [
    "sql = '''UPDATE train  \n",
    "SET marstatus = 'Вдова/вдовец' \n",
    "WHERE age between '51' and \"75\" and marstatus = \"Пропуск поля\" and gender = 'Женский' \n",
    "'''\n",
    "con.execute(sql)"
   ]
  },
  {
   "cell_type": "markdown",
   "id": "d5bea4af",
   "metadata": {},
   "source": [
    "* Заполненние пропусков в столбце credits. т.к. кол-во пропусков у мужчин меньше и кредитов у них мешньше, решаю заполнить мужчин как \"Нет\", а женщин \"Да\""
   ]
  },
  {
   "cell_type": "code",
   "execution_count": 64,
   "id": "51fd4dfb",
   "metadata": {},
   "outputs": [
    {
     "data": {
      "text/html": [
       "<div>\n",
       "<style scoped>\n",
       "    .dataframe tbody tr th:only-of-type {\n",
       "        vertical-align: middle;\n",
       "    }\n",
       "\n",
       "    .dataframe tbody tr th {\n",
       "        vertical-align: top;\n",
       "    }\n",
       "\n",
       "    .dataframe thead th {\n",
       "        text-align: right;\n",
       "    }\n",
       "</style>\n",
       "<table border=\"1\" class=\"dataframe\">\n",
       "  <thead>\n",
       "    <tr style=\"text-align: right;\">\n",
       "      <th></th>\n",
       "      <th>credits</th>\n",
       "      <th>gender</th>\n",
       "      <th>age</th>\n",
       "      <th>COUNT(credits)</th>\n",
       "    </tr>\n",
       "  </thead>\n",
       "  <tbody>\n",
       "    <tr>\n",
       "      <th>0</th>\n",
       "      <td>Да</td>\n",
       "      <td>Женский</td>\n",
       "      <td>63</td>\n",
       "      <td>8810</td>\n",
       "    </tr>\n",
       "    <tr>\n",
       "      <th>1</th>\n",
       "      <td>Нет</td>\n",
       "      <td>Женский</td>\n",
       "      <td>47</td>\n",
       "      <td>8913</td>\n",
       "    </tr>\n",
       "    <tr>\n",
       "      <th>2</th>\n",
       "      <td>Пропуск поля</td>\n",
       "      <td>Женский</td>\n",
       "      <td>30</td>\n",
       "      <td>552</td>\n",
       "    </tr>\n",
       "  </tbody>\n",
       "</table>\n",
       "</div>"
      ],
      "text/plain": [
       "        credits   gender  age  COUNT(credits)\n",
       "0            Да  Женский   63            8810\n",
       "1           Нет  Женский   47            8913\n",
       "2  Пропуск поля  Женский   30             552"
      ]
     },
     "execution_count": 64,
     "metadata": {},
     "output_type": "execute_result"
    }
   ],
   "source": [
    "sql = '''SELECT credits,gender,age, COUNT(credits)\n",
    "FROM MFOcredit\n",
    "where gender = \"Женский\"\n",
    "group by credits'''\n",
    "select(sql)"
   ]
  },
  {
   "cell_type": "code",
   "execution_count": 65,
   "id": "f0993aa3",
   "metadata": {},
   "outputs": [
    {
     "data": {
      "text/html": [
       "<div>\n",
       "<style scoped>\n",
       "    .dataframe tbody tr th:only-of-type {\n",
       "        vertical-align: middle;\n",
       "    }\n",
       "\n",
       "    .dataframe tbody tr th {\n",
       "        vertical-align: top;\n",
       "    }\n",
       "\n",
       "    .dataframe thead th {\n",
       "        text-align: right;\n",
       "    }\n",
       "</style>\n",
       "<table border=\"1\" class=\"dataframe\">\n",
       "  <thead>\n",
       "    <tr style=\"text-align: right;\">\n",
       "      <th></th>\n",
       "      <th>credits</th>\n",
       "      <th>gender</th>\n",
       "      <th>age</th>\n",
       "      <th>COUNT(credits)</th>\n",
       "    </tr>\n",
       "  </thead>\n",
       "  <tbody>\n",
       "    <tr>\n",
       "      <th>0</th>\n",
       "      <td>Да</td>\n",
       "      <td>Мужской</td>\n",
       "      <td>21</td>\n",
       "      <td>7330</td>\n",
       "    </tr>\n",
       "    <tr>\n",
       "      <th>1</th>\n",
       "      <td>Нет</td>\n",
       "      <td>Мужской</td>\n",
       "      <td>44</td>\n",
       "      <td>9213</td>\n",
       "    </tr>\n",
       "    <tr>\n",
       "      <th>2</th>\n",
       "      <td>Пропуск поля</td>\n",
       "      <td>Мужской</td>\n",
       "      <td>25</td>\n",
       "      <td>394</td>\n",
       "    </tr>\n",
       "  </tbody>\n",
       "</table>\n",
       "</div>"
      ],
      "text/plain": [
       "        credits   gender  age  COUNT(credits)\n",
       "0            Да  Мужской   21            7330\n",
       "1           Нет  Мужской   44            9213\n",
       "2  Пропуск поля  Мужской   25             394"
      ]
     },
     "execution_count": 65,
     "metadata": {},
     "output_type": "execute_result"
    }
   ],
   "source": [
    "sql = '''SELECT credits,gender,age, COUNT(credits)\n",
    "FROM MFOcredit\n",
    "where gender = \"Мужской\"\n",
    "group by credits'''\n",
    "select(sql)"
   ]
  },
  {
   "cell_type": "code",
   "execution_count": 66,
   "id": "ca7825f1",
   "metadata": {},
   "outputs": [
    {
     "data": {
      "text/plain": [
       "<sqlite3.Cursor at 0x20e2f3f3960>"
      ]
     },
     "execution_count": 66,
     "metadata": {},
     "output_type": "execute_result"
    }
   ],
   "source": [
    "sql = '''UPDATE test  \n",
    "SET credits = 'Да' \n",
    "WHERE credits = \"Пропуск поля\" and gender = 'Женский' \n",
    "'''\n",
    "con.execute(sql)"
   ]
  },
  {
   "cell_type": "code",
   "execution_count": 67,
   "id": "9a4fdc5a",
   "metadata": {},
   "outputs": [
    {
     "data": {
      "text/plain": [
       "<sqlite3.Cursor at 0x20e2f3f37a0>"
      ]
     },
     "execution_count": 67,
     "metadata": {},
     "output_type": "execute_result"
    }
   ],
   "source": [
    "sql = '''UPDATE test  \n",
    "SET credits = 'Нет' \n",
    "WHERE credits = \"Пропуск поля\" and gender = 'Мужской' \n",
    "'''\n",
    "con.execute(sql)"
   ]
  },
  {
   "cell_type": "code",
   "execution_count": 68,
   "id": "fd102018",
   "metadata": {},
   "outputs": [
    {
     "data": {
      "text/plain": [
       "<sqlite3.Cursor at 0x20e2f3f3b90>"
      ]
     },
     "execution_count": 68,
     "metadata": {},
     "output_type": "execute_result"
    }
   ],
   "source": [
    "sql = '''UPDATE train  \n",
    "SET credits = 'Да' \n",
    "WHERE credits = \"Пропуск поля\" and gender = 'Женский' \n",
    "'''\n",
    "con.execute(sql)"
   ]
  },
  {
   "cell_type": "code",
   "execution_count": 69,
   "id": "4b0b9b36",
   "metadata": {},
   "outputs": [
    {
     "data": {
      "text/plain": [
       "<sqlite3.Cursor at 0x20e2f3f3c70>"
      ]
     },
     "execution_count": 69,
     "metadata": {},
     "output_type": "execute_result"
    }
   ],
   "source": [
    "sql = '''UPDATE train  \n",
    "SET credits = 'Нет' \n",
    "WHERE credits = \"Пропуск поля\" and gender = 'Мужской' \n",
    "'''\n",
    "con.execute(sql)"
   ]
  },
  {
   "cell_type": "markdown",
   "id": "7eb6f484",
   "metadata": {},
   "source": [
    "* Заполнение пропусков в столбце children тоже по возрастным диапазонам "
   ]
  },
  {
   "cell_type": "code",
   "execution_count": 70,
   "id": "b3a795e0",
   "metadata": {},
   "outputs": [
    {
     "data": {
      "text/html": [
       "<div>\n",
       "<style scoped>\n",
       "    .dataframe tbody tr th:only-of-type {\n",
       "        vertical-align: middle;\n",
       "    }\n",
       "\n",
       "    .dataframe tbody tr th {\n",
       "        vertical-align: top;\n",
       "    }\n",
       "\n",
       "    .dataframe thead th {\n",
       "        text-align: right;\n",
       "    }\n",
       "</style>\n",
       "<table border=\"1\" class=\"dataframe\">\n",
       "  <thead>\n",
       "    <tr style=\"text-align: right;\">\n",
       "      <th></th>\n",
       "      <th>children</th>\n",
       "      <th>COUNT(children)</th>\n",
       "    </tr>\n",
       "  </thead>\n",
       "  <tbody>\n",
       "    <tr>\n",
       "      <th>0</th>\n",
       "      <td>Да</td>\n",
       "      <td>13326</td>\n",
       "    </tr>\n",
       "    <tr>\n",
       "      <th>1</th>\n",
       "      <td>Нет</td>\n",
       "      <td>21141</td>\n",
       "    </tr>\n",
       "    <tr>\n",
       "      <th>2</th>\n",
       "      <td>Пропуск поля</td>\n",
       "      <td>745</td>\n",
       "    </tr>\n",
       "  </tbody>\n",
       "</table>\n",
       "</div>"
      ],
      "text/plain": [
       "       children  COUNT(children)\n",
       "0            Да            13326\n",
       "1           Нет            21141\n",
       "2  Пропуск поля              745"
      ]
     },
     "execution_count": 70,
     "metadata": {},
     "output_type": "execute_result"
    }
   ],
   "source": [
    "sql = '''SELECT children,COUNT(children)\n",
    "FROM MFOcredit\n",
    "GROUP BY children'''\n",
    "select(sql)"
   ]
  },
  {
   "cell_type": "code",
   "execution_count": 168,
   "id": "c01dd1b2",
   "metadata": {},
   "outputs": [
    {
     "data": {
      "text/html": [
       "<div>\n",
       "<style scoped>\n",
       "    .dataframe tbody tr th:only-of-type {\n",
       "        vertical-align: middle;\n",
       "    }\n",
       "\n",
       "    .dataframe tbody tr th {\n",
       "        vertical-align: top;\n",
       "    }\n",
       "\n",
       "    .dataframe thead th {\n",
       "        text-align: right;\n",
       "    }\n",
       "</style>\n",
       "<table border=\"1\" class=\"dataframe\">\n",
       "  <thead>\n",
       "    <tr style=\"text-align: right;\">\n",
       "      <th></th>\n",
       "      <th>children</th>\n",
       "      <th>gender</th>\n",
       "      <th>age</th>\n",
       "      <th>COUNT(children)</th>\n",
       "    </tr>\n",
       "  </thead>\n",
       "  <tbody>\n",
       "    <tr>\n",
       "      <th>0</th>\n",
       "      <td>Нет</td>\n",
       "      <td>Мужской</td>\n",
       "      <td>18</td>\n",
       "      <td>5</td>\n",
       "    </tr>\n",
       "    <tr>\n",
       "      <th>1</th>\n",
       "      <td>Нет</td>\n",
       "      <td>Мужской</td>\n",
       "      <td>19</td>\n",
       "      <td>244</td>\n",
       "    </tr>\n",
       "    <tr>\n",
       "      <th>2</th>\n",
       "      <td>Нет</td>\n",
       "      <td>Мужской</td>\n",
       "      <td>20</td>\n",
       "      <td>410</td>\n",
       "    </tr>\n",
       "  </tbody>\n",
       "</table>\n",
       "</div>"
      ],
      "text/plain": [
       "  children   gender  age  COUNT(children)\n",
       "0      Нет  Мужской   18                5\n",
       "1      Нет  Мужской   19              244\n",
       "2      Нет  Мужской   20              410"
      ]
     },
     "execution_count": 168,
     "metadata": {},
     "output_type": "execute_result"
    }
   ],
   "source": [
    "sql = '''SELECT children,gender,age, COUNT(children)\n",
    "FROM MFOcredit\n",
    "where gender = \"Мужской\"\n",
    "group by age'''\n",
    "select(sql).head(3)"
   ]
  },
  {
   "cell_type": "code",
   "execution_count": 169,
   "id": "0f9405aa",
   "metadata": {},
   "outputs": [
    {
     "data": {
      "text/html": [
       "<div>\n",
       "<style scoped>\n",
       "    .dataframe tbody tr th:only-of-type {\n",
       "        vertical-align: middle;\n",
       "    }\n",
       "\n",
       "    .dataframe tbody tr th {\n",
       "        vertical-align: top;\n",
       "    }\n",
       "\n",
       "    .dataframe thead th {\n",
       "        text-align: right;\n",
       "    }\n",
       "</style>\n",
       "<table border=\"1\" class=\"dataframe\">\n",
       "  <thead>\n",
       "    <tr style=\"text-align: right;\">\n",
       "      <th></th>\n",
       "      <th>children</th>\n",
       "      <th>gender</th>\n",
       "      <th>age</th>\n",
       "      <th>COUNT(children)</th>\n",
       "    </tr>\n",
       "  </thead>\n",
       "  <tbody>\n",
       "    <tr>\n",
       "      <th>0</th>\n",
       "      <td>Нет</td>\n",
       "      <td>Женский</td>\n",
       "      <td>18</td>\n",
       "      <td>1</td>\n",
       "    </tr>\n",
       "    <tr>\n",
       "      <th>1</th>\n",
       "      <td>Нет</td>\n",
       "      <td>Женский</td>\n",
       "      <td>19</td>\n",
       "      <td>181</td>\n",
       "    </tr>\n",
       "    <tr>\n",
       "      <th>2</th>\n",
       "      <td>Нет</td>\n",
       "      <td>Женский</td>\n",
       "      <td>20</td>\n",
       "      <td>252</td>\n",
       "    </tr>\n",
       "  </tbody>\n",
       "</table>\n",
       "</div>"
      ],
      "text/plain": [
       "  children   gender  age  COUNT(children)\n",
       "0      Нет  Женский   18                1\n",
       "1      Нет  Женский   19              181\n",
       "2      Нет  Женский   20              252"
      ]
     },
     "execution_count": 169,
     "metadata": {},
     "output_type": "execute_result"
    }
   ],
   "source": [
    "sql = '''SELECT children,gender,age, COUNT(children)\n",
    "FROM MFOcredit\n",
    "where gender = \"Женский\"\n",
    "group by age'''\n",
    "select(sql).head(3)"
   ]
  },
  {
   "cell_type": "code",
   "execution_count": 73,
   "id": "6eb863b1",
   "metadata": {},
   "outputs": [
    {
     "data": {
      "text/plain": [
       "<sqlite3.Cursor at 0x20e2f5ff650>"
      ]
     },
     "execution_count": 73,
     "metadata": {},
     "output_type": "execute_result"
    }
   ],
   "source": [
    "sql = '''UPDATE test  \n",
    "SET children = 'Нет' \n",
    "WHERE age between '0' and \"45\" and children = \"Пропуск поля\" and gender = 'Мужской' \n",
    "'''\n",
    "con.execute(sql)"
   ]
  },
  {
   "cell_type": "code",
   "execution_count": 74,
   "id": "1ff6c926",
   "metadata": {},
   "outputs": [
    {
     "data": {
      "text/plain": [
       "<sqlite3.Cursor at 0x20e2f5ff730>"
      ]
     },
     "execution_count": 74,
     "metadata": {},
     "output_type": "execute_result"
    }
   ],
   "source": [
    "sql = '''UPDATE test  \n",
    "SET children = 'Да' \n",
    "WHERE age between '45' and \"75\" and children = \"Пропуск поля\" and gender = 'Мужской' \n",
    "'''\n",
    "con.execute(sql)"
   ]
  },
  {
   "cell_type": "code",
   "execution_count": 75,
   "id": "120c6c7f",
   "metadata": {},
   "outputs": [
    {
     "data": {
      "text/plain": [
       "<sqlite3.Cursor at 0x20e2f5ff8f0>"
      ]
     },
     "execution_count": 75,
     "metadata": {},
     "output_type": "execute_result"
    }
   ],
   "source": [
    "sql = '''UPDATE test  \n",
    "SET children = 'Нет' \n",
    "WHERE age between '0' and \"31\" and children = \"Пропуск поля\" and gender = 'Женский' \n",
    "'''\n",
    "con.execute(sql)"
   ]
  },
  {
   "cell_type": "code",
   "execution_count": 76,
   "id": "29590c79",
   "metadata": {},
   "outputs": [
    {
     "data": {
      "text/plain": [
       "<sqlite3.Cursor at 0x20e2f5ff810>"
      ]
     },
     "execution_count": 76,
     "metadata": {},
     "output_type": "execute_result"
    }
   ],
   "source": [
    "sql = '''UPDATE test  \n",
    "SET children = 'Да' \n",
    "WHERE age between '31' and \"75\" and children = \"Пропуск поля\" and gender = 'Женский' \n",
    "'''\n",
    "con.execute(sql)"
   ]
  },
  {
   "cell_type": "code",
   "execution_count": 77,
   "id": "f1286a3b",
   "metadata": {},
   "outputs": [
    {
     "data": {
      "text/plain": [
       "<sqlite3.Cursor at 0x20e2f5ffb90>"
      ]
     },
     "execution_count": 77,
     "metadata": {},
     "output_type": "execute_result"
    }
   ],
   "source": [
    "sql = '''UPDATE train  \n",
    "SET children = 'Нет' \n",
    "WHERE age between '0' and \"45\" and children = \"Пропуск поля\" and gender = 'Мужской' \n",
    "'''\n",
    "con.execute(sql)"
   ]
  },
  {
   "cell_type": "code",
   "execution_count": 78,
   "id": "8b7b25b1",
   "metadata": {},
   "outputs": [
    {
     "data": {
      "text/plain": [
       "<sqlite3.Cursor at 0x20e2f5ffe30>"
      ]
     },
     "execution_count": 78,
     "metadata": {},
     "output_type": "execute_result"
    }
   ],
   "source": [
    "sql = '''UPDATE train  \n",
    "SET children = 'Да' \n",
    "WHERE age between '45' and \"75\" and children = \"Пропуск поля\" and gender = 'Мужской' \n",
    "'''\n",
    "con.execute(sql)"
   ]
  },
  {
   "cell_type": "code",
   "execution_count": 79,
   "id": "651818b1",
   "metadata": {},
   "outputs": [
    {
     "data": {
      "text/plain": [
       "<sqlite3.Cursor at 0x20e2f5ffdc0>"
      ]
     },
     "execution_count": 79,
     "metadata": {},
     "output_type": "execute_result"
    }
   ],
   "source": [
    "sql = '''UPDATE train  \n",
    "SET children = 'Нет' \n",
    "WHERE age between '0' and \"31\" and children = \"Пропуск поля\" and gender = 'Женский' \n",
    "'''\n",
    "con.execute(sql)"
   ]
  },
  {
   "cell_type": "code",
   "execution_count": 80,
   "id": "573a4b11",
   "metadata": {},
   "outputs": [
    {
     "data": {
      "text/plain": [
       "<sqlite3.Cursor at 0x20e2f5fff80>"
      ]
     },
     "execution_count": 80,
     "metadata": {},
     "output_type": "execute_result"
    }
   ],
   "source": [
    "sql = '''UPDATE train  \n",
    "SET children = 'Да' \n",
    "WHERE age between '31' and \"75\" and children = \"Пропуск поля\" and gender = 'Женский' \n",
    "'''\n",
    "con.execute(sql)"
   ]
  },
  {
   "cell_type": "markdown",
   "id": "e4b91fbe",
   "metadata": {},
   "source": [
    "* Обработанные данные забираю из БД, отделяю целевую переменную \n",
    "* Кодирую переменные "
   ]
  },
  {
   "cell_type": "code",
   "execution_count": 95,
   "id": "f00457a1",
   "metadata": {},
   "outputs": [],
   "source": [
    "sql = '''select * from test'''"
   ]
  },
  {
   "cell_type": "code",
   "execution_count": 97,
   "id": "66acb36b",
   "metadata": {},
   "outputs": [],
   "source": [
    "test_data = select(sql)"
   ]
  },
  {
   "cell_type": "code",
   "execution_count": 99,
   "id": "4d5f4abf",
   "metadata": {},
   "outputs": [],
   "source": [
    "y_test_data = test_data['delinq60plus']"
   ]
  },
  {
   "cell_type": "code",
   "execution_count": 100,
   "id": "c78184a9",
   "metadata": {},
   "outputs": [
    {
     "data": {
      "text/plain": [
       "array([0, 0, 0, ..., 0, 1, 0])"
      ]
     },
     "execution_count": 100,
     "metadata": {},
     "output_type": "execute_result"
    }
   ],
   "source": [
    "from sklearn import preprocessing\n",
    "le = preprocessing.LabelEncoder()\n",
    "y_test_data = le.fit_transform(y_test_data)\n",
    "\n",
    "y_test_data"
   ]
  },
  {
   "cell_type": "code",
   "execution_count": 101,
   "id": "2363cbf7",
   "metadata": {},
   "outputs": [],
   "source": [
    "test_data.drop(['delinq60plus'], axis=1, inplace=True) "
   ]
  },
  {
   "cell_type": "code",
   "execution_count": 102,
   "id": "618e4410",
   "metadata": {},
   "outputs": [],
   "source": [
    "test_data = pd.concat([test_data, \n",
    "                      pd.get_dummies(test_data['gender'], prefix=\"gender\"),\n",
    "                      pd.get_dummies(test_data['auto'], prefix=\"auto\"),\n",
    "                      pd.get_dummies(test_data['housing'], prefix=\"housing\"),\n",
    "                      pd.get_dummies(test_data['marstatus'], prefix=\"marstatus\"),\n",
    "                      pd.get_dummies(test_data['regclient'], prefix=\"regclient\"),\n",
    "                      pd.get_dummies(test_data['jobtype'], prefix=\"jobtype\"),\n",
    "                      pd.get_dummies(test_data['region'], prefix=\"region\"),\n",
    "                      pd.get_dummies(test_data['credits'], prefix=\"credits\"),\n",
    "                      pd.get_dummies(test_data['children'], prefix=\"children\")],\n",
    "                      axis = 1)"
   ]
  },
  {
   "cell_type": "code",
   "execution_count": 103,
   "id": "1a7f2c2c",
   "metadata": {},
   "outputs": [],
   "source": [
    "test_data.drop(['gender','auto','housing','marstatus', 'regclient','jobtype','region','credits', 'children'], axis=1, inplace=True)"
   ]
  },
  {
   "cell_type": "code",
   "execution_count": 106,
   "id": "3ba892c5",
   "metadata": {},
   "outputs": [],
   "source": [
    "train_data = select(sql)"
   ]
  },
  {
   "cell_type": "code",
   "execution_count": 107,
   "id": "98b2a24c",
   "metadata": {},
   "outputs": [],
   "source": [
    "y_train_data = train_data['delinq60plus']"
   ]
  },
  {
   "cell_type": "code",
   "execution_count": 108,
   "id": "2d148b0f",
   "metadata": {},
   "outputs": [
    {
     "data": {
      "text/plain": [
       "array([1, 1, 1, ..., 1, 1, 1])"
      ]
     },
     "execution_count": 108,
     "metadata": {},
     "output_type": "execute_result"
    }
   ],
   "source": [
    "from sklearn import preprocessing\n",
    "le = preprocessing.LabelEncoder()\n",
    "y_train_data = le.fit_transform(y_train_data)\n",
    "\n",
    "y_train_data"
   ]
  },
  {
   "cell_type": "code",
   "execution_count": 109,
   "id": "b0979f40",
   "metadata": {},
   "outputs": [],
   "source": [
    "train_data.drop(['delinq60plus'], axis=1, inplace=True) "
   ]
  },
  {
   "cell_type": "code",
   "execution_count": 110,
   "id": "92a54f34",
   "metadata": {},
   "outputs": [],
   "source": [
    "train_data = pd.concat([train_data, \n",
    "                      pd.get_dummies(train_data['gender'], prefix=\"gender\"),\n",
    "                      pd.get_dummies(train_data['auto'], prefix=\"auto\"),\n",
    "                      pd.get_dummies(train_data['housing'], prefix=\"housing\"),\n",
    "                      pd.get_dummies(train_data['marstatus'], prefix=\"marstatus\"),\n",
    "                      pd.get_dummies(train_data['regclient'], prefix=\"regclient\"),\n",
    "                      pd.get_dummies(train_data['jobtype'], prefix=\"jobtype\"),\n",
    "                      pd.get_dummies(train_data['region'], prefix=\"region\"),\n",
    "                      pd.get_dummies(train_data['credits'], prefix=\"credits\"),\n",
    "                      pd.get_dummies(train_data['children'], prefix=\"children\")],\n",
    "                      axis = 1)"
   ]
  },
  {
   "cell_type": "code",
   "execution_count": 111,
   "id": "52a63678",
   "metadata": {},
   "outputs": [],
   "source": [
    "train_data.drop(['gender','auto','housing','marstatus', 'regclient','jobtype','region','credits', 'children'], axis=1, inplace=True)"
   ]
  },
  {
   "cell_type": "code",
   "execution_count": 118,
   "id": "fd25162f",
   "metadata": {},
   "outputs": [],
   "source": [
    "from sklearn.preprocessing import MinMaxScaler\n",
    "scaler = MinMaxScaler(feature_range=(-1, 1)) # скалируем данные \n",
    "\n",
    "train_X_scaled = scaler.fit_transform(train_data)\n",
    "test_X_scaled = scaler.fit_transform(test_data)"
   ]
  },
  {
   "cell_type": "code",
   "execution_count": 162,
   "id": "d9efdaff",
   "metadata": {},
   "outputs": [
    {
     "data": {
      "text/plain": [
       "0.6644491319162745"
      ]
     },
     "execution_count": 162,
     "metadata": {},
     "output_type": "execute_result"
    }
   ],
   "source": [
    "from sklearn.ensemble import RandomForestClassifier\n",
    "rfc = RandomForestClassifier(max_depth=10)\n",
    "rfc.fit(train_data, y_train_data)\n",
    "rfc.score (test_data, y_test_data)"
   ]
  },
  {
   "cell_type": "code",
   "execution_count": 167,
   "id": "c6f4cfc7",
   "metadata": {},
   "outputs": [
    {
     "data": {
      "text/plain": [
       "0.797336905008773"
      ]
     },
     "execution_count": 167,
     "metadata": {},
     "output_type": "execute_result"
    }
   ],
   "source": [
    "y_pred = rfc.predict_proba(test_data)[:, 1]\n",
    "from sklearn.metrics import roc_auc_score\n",
    "roc_auc_score(y_test_data, y_pred)"
   ]
  },
  {
   "cell_type": "markdown",
   "id": "31a3752c",
   "metadata": {},
   "source": [
    "#### Вывод:\n",
    "* скалирование ухудшило результат на 0.1, выше результат без скалирования \n",
    "* c sql пока достаточно сложно\n"
   ]
  },
  {
   "cell_type": "code",
   "execution_count": null,
   "id": "5ddb1735",
   "metadata": {},
   "outputs": [],
   "source": []
  }
 ],
 "metadata": {
  "kernelspec": {
   "display_name": "Python 3 (ipykernel)",
   "language": "python",
   "name": "python3"
  },
  "language_info": {
   "codemirror_mode": {
    "name": "ipython",
    "version": 3
   },
   "file_extension": ".py",
   "mimetype": "text/x-python",
   "name": "python",
   "nbconvert_exporter": "python",
   "pygments_lexer": "ipython3",
   "version": "3.9.12"
  }
 },
 "nbformat": 4,
 "nbformat_minor": 5
}
