{
 "cells": [
  {
   "cell_type": "markdown",
   "id": "baa7b144",
   "metadata": {},
   "source": [
    "Романовский А.Н 24.09.2022 \n",
    "\n",
    "ДЗ_05 \n",
    "\n",
    "Классы\n",
    "____"
   ]
  },
  {
   "cell_type": "markdown",
   "id": "a9d338e1",
   "metadata": {},
   "source": [
    "#### Есть Алфавит, характеристиками которого являются: \n",
    "1. Язык\n",
    "2. Список букв\n",
    "\n",
    "Для Алфавита можно: \n",
    "1. Напечатать все буквы алфавита\n",
    "2. Посчитать количество букв\n",
    "\n",
    "Так же есть Английский алфавит, который обладает следующими свойствами: \n",
    "1. Язык\n",
    "2. Список букв\n",
    "3. Количество букв\n",
    "\n",
    "Для Английского алфавита можно: \n",
    "1. Посчитать количество букв\n",
    "2. Определить, относится ли буква к английскому алфавиту\n",
    "3. Получить пример текста на английском языке"
   ]
  },
  {
   "cell_type": "markdown",
   "id": "9ff05336",
   "metadata": {},
   "source": [
    "#### Класс Alphabet\n",
    "1. Создайте класс Alphabet\n",
    "2. Создайте метод __init__(), внутри которого будут определены два динамических свойства: 1) lang - язык и 2) letters - список букв. Начальные значения свойств берутся из входных параметров метода.\n",
    "3. Создайте метод print(), который выведет в консоль буквы алфавита\n",
    "4. Создайте метод letters_num(), который вернет количество букв в алфавите"
   ]
  },
  {
   "cell_type": "code",
   "execution_count": 1,
   "id": "c3756f68",
   "metadata": {},
   "outputs": [],
   "source": [
    "from string import ascii_uppercase"
   ]
  },
  {
   "cell_type": "code",
   "execution_count": 2,
   "id": "876f9586",
   "metadata": {},
   "outputs": [],
   "source": [
    "class Alphabet():\n",
    "    def __init__(self, lang, letters): #Динамические свойства \n",
    "        self.lang = lang\n",
    "        self.letters = letters\n",
    "    \n",
    "    \n",
    "    def print(self): #метод вывода букв \n",
    "        print(letters)\n",
    "    \n",
    "    \n",
    "    def letters_num(self): # возврат кол-ва букв \n",
    "        print (len(self.letters))\n",
    "    "
   ]
  },
  {
   "cell_type": "markdown",
   "id": "3e0e9120",
   "metadata": {},
   "source": [
    "#### Класс EngAlphabet\n",
    "1. Создайте класс EngAlphabet путем наследования от класса Alphabet\n",
    "2. Создайте метод __init__(), внутри которого будет вызываться родительский метод __init__(). В качестве параметров ему будут передаваться обозначение языка(например, 'En') и строка, состоящая из всех букв алфавита(можно воспользоваться свойством ascii_uppercase из модуля string).\n",
    "3. Добавьте приватное статическое свойство __letters_num, которое будет хранить количество букв в алфавите.\n",
    "4. Создайте метод is_en_letter(), который будет принимать букву в качестве параметра и определять, относится ли эта буква к английскому алфавиту.\n",
    "5. Переопределите метод letters_num() - пусть в текущем классе классе он будет возвращать значение свойства __letters_num.\n",
    "6. Создайте статический метод example(), который будет возвращать пример текста на английском языке.\n"
   ]
  },
  {
   "cell_type": "code",
   "execution_count": 3,
   "id": "6b1a911f",
   "metadata": {},
   "outputs": [],
   "source": [
    "class EngAlphabet(Alphabet): #наследование \n",
    "    def __init__(self):\n",
    "        super().__init__('En', ascii_uppercase) #вызов родительского метода. передача Lang и Letters \n",
    "    \n",
    "    \n",
    "    __letters_num = len(ascii_uppercase) # приватное свойство __ считает кол-во букв\n",
    "    \n",
    "    \n",
    "    def is_en_letter(self, letter):  # определение принадлежности \n",
    "        if letter in self.letters:\n",
    "            print('There is', letter)\n",
    "        else:\n",
    "            print(\"Letter isn't found\")\n",
    "            \n",
    "    def letters_num(self):   # переопределение родительского метода \n",
    "        return  self.__letters_num\n",
    "    \n",
    "    \n",
    "    @staticmethod  #статик метод с примером текста \n",
    "    def example():\n",
    "        print('The quick brown fox jumps over the lazy dog')"
   ]
  },
  {
   "cell_type": "markdown",
   "id": "aa6fc603",
   "metadata": {},
   "source": [
    "#### Тесты:\n",
    "1. Создайте объект класса EngAlphabet\n",
    "2. Напечатайте буквы алфавита для этого объекта\n",
    "3. Выведите количество букв в алфавите\n",
    "4. Проверьте, относится ли буква F к английскому алфавиту\n",
    "5. Проверьте, относится ли буква Щ к английскому алфавиту\n",
    "6. Выведите пример текста на английском языке"
   ]
  },
  {
   "cell_type": "code",
   "execution_count": 4,
   "id": "3ce283d1",
   "metadata": {},
   "outputs": [],
   "source": [
    "a = EngAlphabet() # создание обьекта "
   ]
  },
  {
   "cell_type": "code",
   "execution_count": 5,
   "id": "51ebffc5",
   "metadata": {},
   "outputs": [
    {
     "data": {
      "text/plain": [
       "'ABCDEFGHIJKLMNOPQRSTUVWXYZ'"
      ]
     },
     "execution_count": 5,
     "metadata": {},
     "output_type": "execute_result"
    }
   ],
   "source": [
    "a.letters #печать букв"
   ]
  },
  {
   "cell_type": "code",
   "execution_count": 6,
   "id": "9ec168be",
   "metadata": {},
   "outputs": [
    {
     "data": {
      "text/plain": [
       "26"
      ]
     },
     "execution_count": 6,
     "metadata": {},
     "output_type": "execute_result"
    }
   ],
   "source": [
    "a.letters_num() #ввод кол-ва букв"
   ]
  },
  {
   "cell_type": "code",
   "execution_count": 7,
   "id": "5a996f93",
   "metadata": {},
   "outputs": [
    {
     "name": "stdout",
     "output_type": "stream",
     "text": [
      "There is F\n"
     ]
    }
   ],
   "source": [
    "a.is_en_letter('F') # проверка принадлежности "
   ]
  },
  {
   "cell_type": "code",
   "execution_count": 8,
   "id": "a7b4f594",
   "metadata": {},
   "outputs": [
    {
     "name": "stdout",
     "output_type": "stream",
     "text": [
      "Letter isn't found\n"
     ]
    }
   ],
   "source": [
    "a.is_en_letter('Щ') # проверка принадлежности "
   ]
  },
  {
   "cell_type": "code",
   "execution_count": 9,
   "id": "243e35bd",
   "metadata": {},
   "outputs": [
    {
     "name": "stdout",
     "output_type": "stream",
     "text": [
      "The quick brown fox jumps over the lazy dog\n"
     ]
    }
   ],
   "source": [
    "a.example() #пример текста "
   ]
  },
  {
   "cell_type": "code",
   "execution_count": 10,
   "id": "60f7e237",
   "metadata": {},
   "outputs": [
    {
     "data": {
      "text/plain": [
       "'En'"
      ]
     },
     "execution_count": 10,
     "metadata": {},
     "output_type": "execute_result"
    }
   ],
   "source": [
    "a.lang"
   ]
  },
  {
   "cell_type": "code",
   "execution_count": null,
   "id": "01095e2a",
   "metadata": {},
   "outputs": [],
   "source": []
  }
 ],
 "metadata": {
  "kernelspec": {
   "display_name": "Python 3 (ipykernel)",
   "language": "python",
   "name": "python3"
  },
  "language_info": {
   "codemirror_mode": {
    "name": "ipython",
    "version": 3
   },
   "file_extension": ".py",
   "mimetype": "text/x-python",
   "name": "python",
   "nbconvert_exporter": "python",
   "pygments_lexer": "ipython3",
   "version": "3.8.10"
  }
 },
 "nbformat": 4,
 "nbformat_minor": 5
}
