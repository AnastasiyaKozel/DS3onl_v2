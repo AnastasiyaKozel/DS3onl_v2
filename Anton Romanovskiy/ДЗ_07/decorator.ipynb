{
 "cells": [
  {
   "cell_type": "markdown",
   "id": "54ccfcbc",
   "metadata": {},
   "source": [
    "\n",
    "\n",
    "Романовский А.Н. 02.10.2022\n",
    "_____\n",
    "Напишите декоратор, оптимизирующий работу декорируемой функции. Декоратор должен сохранять результат работы функции на ближайшие три запуска и вместо выполнения функции возвращать сохранённый результат. После трёх запусков функция должна вызываться вновь, а результат работы функции — вновь кешироваться.\n"
   ]
  },
  {
   "cell_type": "code",
   "execution_count": 2,
   "id": "deb9add3",
   "metadata": {},
   "outputs": [],
   "source": [
    "def count(func):\n",
    "    def wrapper():\n",
    "        if wrapper.counter == 0: #если функция вызвана вепрвые, добавляем значение в list\n",
    "            mem.append(result)                 \n",
    "            print('I will remember')      #распечатаем значения листа \n",
    "            wrapper.counter +=1\n",
    "            return mem[-1]\n",
    "            \n",
    "            \n",
    "        elif wrapper.counter == 4: #на четвертый вызов функции очистим сохраненное значение в листе \n",
    "            print('I forgot, repeat again')\n",
    "            wrapper.counter = 0\n",
    "            mem.clear()\n",
    "        \n",
    "        elif wrapper.counter > 0: #вызвав функцию 1-3 раза распечатаем значения хранящиеся в листе \n",
    "            print('I remember')\n",
    "            wrapper.counter +=1\n",
    "            return mem[-1]\n",
    "    \n",
    "    mem=[]  \n",
    "    result = func()\n",
    "    wrapper.counter = 0\n",
    "    return wrapper"
   ]
  },
  {
   "cell_type": "code",
   "execution_count": 4,
   "id": "d9d94c4c",
   "metadata": {},
   "outputs": [],
   "source": [
    "@count\n",
    "def test():\n",
    "    r = 0\n",
    "    for i in range(0, 1000):\n",
    "        for j in range(0, 1000):\n",
    "            r = (r + (i * j) % 100) % 47\n",
    "    return r"
   ]
  },
  {
   "cell_type": "code",
   "execution_count": 5,
   "id": "938db544",
   "metadata": {},
   "outputs": [
    {
     "name": "stdout",
     "output_type": "stream",
     "text": [
      "I will remember\n"
     ]
    },
    {
     "data": {
      "text/plain": [
       "30"
      ]
     },
     "execution_count": 5,
     "metadata": {},
     "output_type": "execute_result"
    }
   ],
   "source": [
    "test()"
   ]
  },
  {
   "cell_type": "code",
   "execution_count": 6,
   "id": "ce6700b5",
   "metadata": {},
   "outputs": [
    {
     "name": "stdout",
     "output_type": "stream",
     "text": [
      "I remember\n"
     ]
    },
    {
     "data": {
      "text/plain": [
       "30"
      ]
     },
     "execution_count": 6,
     "metadata": {},
     "output_type": "execute_result"
    }
   ],
   "source": [
    "test()"
   ]
  },
  {
   "cell_type": "code",
   "execution_count": 7,
   "id": "0f221174",
   "metadata": {},
   "outputs": [
    {
     "name": "stdout",
     "output_type": "stream",
     "text": [
      "I remember\n"
     ]
    },
    {
     "data": {
      "text/plain": [
       "30"
      ]
     },
     "execution_count": 7,
     "metadata": {},
     "output_type": "execute_result"
    }
   ],
   "source": [
    "test()"
   ]
  },
  {
   "cell_type": "code",
   "execution_count": 8,
   "id": "5557845d",
   "metadata": {},
   "outputs": [
    {
     "name": "stdout",
     "output_type": "stream",
     "text": [
      "I remember\n"
     ]
    },
    {
     "data": {
      "text/plain": [
       "30"
      ]
     },
     "execution_count": 8,
     "metadata": {},
     "output_type": "execute_result"
    }
   ],
   "source": [
    "test()"
   ]
  },
  {
   "cell_type": "code",
   "execution_count": 9,
   "id": "8df385b7",
   "metadata": {},
   "outputs": [
    {
     "name": "stdout",
     "output_type": "stream",
     "text": [
      "I forgot, repeat again\n"
     ]
    }
   ],
   "source": [
    "test()"
   ]
  },
  {
   "cell_type": "code",
   "execution_count": 10,
   "id": "32e0c7d9",
   "metadata": {},
   "outputs": [
    {
     "name": "stdout",
     "output_type": "stream",
     "text": [
      "I will remember\n"
     ]
    },
    {
     "data": {
      "text/plain": [
       "30"
      ]
     },
     "execution_count": 10,
     "metadata": {},
     "output_type": "execute_result"
    }
   ],
   "source": [
    "test()"
   ]
  },
  {
   "cell_type": "code",
   "execution_count": null,
   "id": "0c1eab5e",
   "metadata": {},
   "outputs": [],
   "source": []
  }
 ],
 "metadata": {
  "kernelspec": {
   "display_name": "Python 3 (ipykernel)",
   "language": "python",
   "name": "python3"
  },
  "language_info": {
   "codemirror_mode": {
    "name": "ipython",
    "version": 3
   },
   "file_extension": ".py",
   "mimetype": "text/x-python",
   "name": "python",
   "nbconvert_exporter": "python",
   "pygments_lexer": "ipython3",
   "version": "3.9.12"
  }
 },
 "nbformat": 4,
 "nbformat_minor": 5
}
