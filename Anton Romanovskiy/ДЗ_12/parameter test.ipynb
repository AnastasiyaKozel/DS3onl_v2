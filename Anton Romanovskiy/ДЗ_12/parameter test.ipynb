{
 "cells": [
  {
   "cell_type": "markdown",
   "id": "468a6082",
   "metadata": {},
   "source": [
    "Романовский А.Н. 02.11.2022"
   ]
  },
  {
   "cell_type": "markdown",
   "id": "552d9f34",
   "metadata": {},
   "source": [
    "Использовать полученные знания в части обучения моделей для обучения и подбора параметров в задачах из предыдущих ДЗ на выбор (мфо, задача с тем возьмёт ли человек кредит или нет)\n",
    "В частности использовать:\n",
    "\n",
    "\n",
    "GaussianNB\n",
    "LinearRegression + PolynomialFeatures.\n",
    "При обучении использовать make_pipeline\n",
    "GridSearchCV для поиска параметров"
   ]
  },
  {
   "cell_type": "code",
   "execution_count": 1,
   "id": "24d9f7c5",
   "metadata": {},
   "outputs": [],
   "source": [
    "import pandas as pd\n",
    "import numpy as np\n",
    "from sklearn.model_selection import GridSearchCV\n",
    "from sklearn.ensemble import RandomForestClassifier\n",
    "from sklearn.model_selection import train_test_split\n",
    "from sklearn.metrics import roc_auc_score\n",
    "from sklearn.preprocessing import PolynomialFeatures\n",
    "from sklearn.pipeline import make_pipeline\n",
    "from sklearn.linear_model import LinearRegression\n",
    "from sklearn.naive_bayes import GaussianNB\n",
    "\n",
    "\n",
    "import matplotlib.pyplot as plt\n",
    "import seaborn as sns"
   ]
  },
  {
   "cell_type": "code",
   "execution_count": 2,
   "id": "99fd8f87",
   "metadata": {},
   "outputs": [],
   "source": [
    "df = pd.read_csv('MFOcredit.csv', sep = ';', parse_dates=True)"
   ]
  },
  {
   "cell_type": "code",
   "execution_count": 3,
   "id": "71fca65a",
   "metadata": {},
   "outputs": [
    {
     "data": {
      "text/html": [
       "<div>\n",
       "<style scoped>\n",
       "    .dataframe tbody tr th:only-of-type {\n",
       "        vertical-align: middle;\n",
       "    }\n",
       "\n",
       "    .dataframe tbody tr th {\n",
       "        vertical-align: top;\n",
       "    }\n",
       "\n",
       "    .dataframe thead th {\n",
       "        text-align: right;\n",
       "    }\n",
       "</style>\n",
       "<table border=\"1\" class=\"dataframe\">\n",
       "  <thead>\n",
       "    <tr style=\"text-align: right;\">\n",
       "      <th></th>\n",
       "      <th>id</th>\n",
       "      <th>date_start</th>\n",
       "      <th>date_end</th>\n",
       "      <th>gender</th>\n",
       "      <th>age</th>\n",
       "      <th>auto</th>\n",
       "      <th>housing</th>\n",
       "      <th>marstatus</th>\n",
       "      <th>regclient</th>\n",
       "      <th>jobtype</th>\n",
       "      <th>region</th>\n",
       "      <th>credits</th>\n",
       "      <th>children</th>\n",
       "      <th>delinq60plus</th>\n",
       "    </tr>\n",
       "  </thead>\n",
       "  <tbody>\n",
       "    <tr>\n",
       "      <th>0</th>\n",
       "      <td>1</td>\n",
       "      <td>03-Jan-2013</td>\n",
       "      <td>12-Jan-2013</td>\n",
       "      <td>Мужской</td>\n",
       "      <td>44</td>\n",
       "      <td>Нет</td>\n",
       "      <td>Собственное</td>\n",
       "      <td>Гражданский брак/женат/замужем</td>\n",
       "      <td>Нет</td>\n",
       "      <td>Официальное</td>\n",
       "      <td>Новосибирская область</td>\n",
       "      <td>Нет</td>\n",
       "      <td>Да</td>\n",
       "      <td>Нет</td>\n",
       "    </tr>\n",
       "  </tbody>\n",
       "</table>\n",
       "</div>"
      ],
      "text/plain": [
       "   id   date_start     date_end   gender  age auto      housing  \\\n",
       "0   1  03-Jan-2013  12-Jan-2013  Мужской   44  Нет  Собственное   \n",
       "\n",
       "                        marstatus regclient      jobtype  \\\n",
       "0  Гражданский брак/женат/замужем       Нет  Официальное   \n",
       "\n",
       "                  region credits children delinq60plus  \n",
       "0  Новосибирская область     Нет       Да          Нет  "
      ]
     },
     "execution_count": 3,
     "metadata": {},
     "output_type": "execute_result"
    }
   ],
   "source": [
    "df.head(1)"
   ]
  },
  {
   "cell_type": "code",
   "execution_count": 4,
   "id": "c7b61530",
   "metadata": {},
   "outputs": [],
   "source": [
    "df = df.drop(columns = ['id'],axis = 1)\n",
    "df.delinq60plus = np.where(df.delinq60plus=='Нет', 0, 1)"
   ]
  },
  {
   "cell_type": "code",
   "execution_count": 5,
   "id": "ef59d605",
   "metadata": {},
   "outputs": [],
   "source": [
    "df['date_start'] = pd.to_datetime(df['date_start'])\n",
    "df['date_end'] = pd.to_datetime(df['date_end'])"
   ]
  },
  {
   "cell_type": "code",
   "execution_count": 6,
   "id": "cc106405",
   "metadata": {},
   "outputs": [],
   "source": [
    "viewDate = pd.to_datetime(df['date_start']) \n",
    "df['year'] = viewDate.dt.year.astype(\"category\") \n",
    "df['quarter'] = viewDate.dt.quarter.astype(\"category\")\n",
    "df['month'] = viewDate.dt.month.astype(\"category\")\n",
    "df['weekday'] = viewDate.dt.dayofweek.astype(\"category\")"
   ]
  },
  {
   "cell_type": "code",
   "execution_count": 7,
   "id": "86a83411",
   "metadata": {},
   "outputs": [],
   "source": [
    "df['credit_period']=(df['date_end']-df['date_start']).dt.days"
   ]
  },
  {
   "cell_type": "code",
   "execution_count": 39,
   "id": "5fcb335f",
   "metadata": {},
   "outputs": [
    {
     "data": {
      "text/html": [
       "<div>\n",
       "<style scoped>\n",
       "    .dataframe tbody tr th:only-of-type {\n",
       "        vertical-align: middle;\n",
       "    }\n",
       "\n",
       "    .dataframe tbody tr th {\n",
       "        vertical-align: top;\n",
       "    }\n",
       "\n",
       "    .dataframe thead th {\n",
       "        text-align: right;\n",
       "    }\n",
       "</style>\n",
       "<table border=\"1\" class=\"dataframe\">\n",
       "  <thead>\n",
       "    <tr style=\"text-align: right;\">\n",
       "      <th></th>\n",
       "      <th>gender</th>\n",
       "      <th>age</th>\n",
       "      <th>auto</th>\n",
       "      <th>regclient</th>\n",
       "      <th>credits</th>\n",
       "      <th>children</th>\n",
       "      <th>year</th>\n",
       "      <th>quarter</th>\n",
       "      <th>month</th>\n",
       "      <th>weekday</th>\n",
       "      <th>...</th>\n",
       "      <th>marstatus_Гражданский брак/женат/замужем</th>\n",
       "      <th>marstatus_Разведен</th>\n",
       "      <th>marstatus_Холост</th>\n",
       "      <th>jobtype_Неофициальное</th>\n",
       "      <th>jobtype_Официальное</th>\n",
       "      <th>region_Алтайский край</th>\n",
       "      <th>region_Кемеровская область север</th>\n",
       "      <th>region_Кемеровская область юг</th>\n",
       "      <th>region_Красноярский край</th>\n",
       "      <th>region_Новосибирская область</th>\n",
       "    </tr>\n",
       "  </thead>\n",
       "  <tbody>\n",
       "    <tr>\n",
       "      <th>0</th>\n",
       "      <td>1</td>\n",
       "      <td>44</td>\n",
       "      <td>0</td>\n",
       "      <td>0</td>\n",
       "      <td>0</td>\n",
       "      <td>1</td>\n",
       "      <td>2013</td>\n",
       "      <td>1</td>\n",
       "      <td>1</td>\n",
       "      <td>3</td>\n",
       "      <td>...</td>\n",
       "      <td>1</td>\n",
       "      <td>0</td>\n",
       "      <td>0</td>\n",
       "      <td>0</td>\n",
       "      <td>1</td>\n",
       "      <td>0</td>\n",
       "      <td>0</td>\n",
       "      <td>0</td>\n",
       "      <td>0</td>\n",
       "      <td>1</td>\n",
       "    </tr>\n",
       "    <tr>\n",
       "      <th>1</th>\n",
       "      <td>1</td>\n",
       "      <td>21</td>\n",
       "      <td>0</td>\n",
       "      <td>0</td>\n",
       "      <td>1</td>\n",
       "      <td>0</td>\n",
       "      <td>2013</td>\n",
       "      <td>1</td>\n",
       "      <td>1</td>\n",
       "      <td>3</td>\n",
       "      <td>...</td>\n",
       "      <td>0</td>\n",
       "      <td>0</td>\n",
       "      <td>1</td>\n",
       "      <td>0</td>\n",
       "      <td>1</td>\n",
       "      <td>0</td>\n",
       "      <td>0</td>\n",
       "      <td>1</td>\n",
       "      <td>0</td>\n",
       "      <td>0</td>\n",
       "    </tr>\n",
       "  </tbody>\n",
       "</table>\n",
       "<p>2 rows × 27 columns</p>\n",
       "</div>"
      ],
      "text/plain": [
       "   gender  age  auto  regclient  credits  children  year quarter month  \\\n",
       "0       1   44     0          0        0         1  2013       1     1   \n",
       "1       1   21     0          0        1         0  2013       1     1   \n",
       "\n",
       "  weekday  ...  marstatus_Гражданский брак/женат/замужем  marstatus_Разведен  \\\n",
       "0       3  ...                                         1                   0   \n",
       "1       3  ...                                         0                   0   \n",
       "\n",
       "   marstatus_Холост  jobtype_Неофициальное  jobtype_Официальное  \\\n",
       "0                 0                      0                    1   \n",
       "1                 1                      0                    1   \n",
       "\n",
       "   region_Алтайский край  region_Кемеровская область север  \\\n",
       "0                      0                                 0   \n",
       "1                      0                                 0   \n",
       "\n",
       "   region_Кемеровская область юг  region_Красноярский край  \\\n",
       "0                              0                         0   \n",
       "1                              1                         0   \n",
       "\n",
       "   region_Новосибирская область  \n",
       "0                             1  \n",
       "1                             0  \n",
       "\n",
       "[2 rows x 27 columns]"
      ]
     },
     "execution_count": 39,
     "metadata": {},
     "output_type": "execute_result"
    }
   ],
   "source": [
    "df.head(2)"
   ]
  },
  {
   "cell_type": "code",
   "execution_count": 9,
   "id": "54a66c79",
   "metadata": {},
   "outputs": [],
   "source": [
    "df = df.drop(['date_end', 'date_start' ],   axis = 1)"
   ]
  },
  {
   "cell_type": "code",
   "execution_count": 10,
   "id": "b26f729a",
   "metadata": {},
   "outputs": [],
   "source": [
    "df.loc[(df['age'] < 21) & (df['gender'] == 'Мужской') & (df['housing'] == 'Пропуск поля'), 'housing'] = 'Живут с родителями'\n",
    "df.loc[(df['age'] < 25) & (df['gender'] == 'Мужской') & (df['housing'] == 'Пропуск поля'), 'housing'] = 'Арендуемое'\n",
    "df.loc[(df['age'] < 51) & (df['gender'] == 'Мужской') & (df['housing'] == 'Пропуск поля'), 'housing'] = 'Собственное'\n",
    "df.loc[(df['age'] < 74) & (df['gender'] == 'Мужской') & (df['housing'] == 'Пропуск поля'), 'housing'] = 'Долевая собственность'\n",
    "\n",
    "df.loc[(df['age'] < 20) & (df['gender'] == 'Женский') & (df['housing'] == 'Пропуск поля'), 'housing'] = 'Живут с родителями'\n",
    "df.loc[(df['age'] < 27) & (df['gender'] == 'Женский') & (df['housing'] == 'Пропуск поля'), 'housing'] = 'Арендуемое'\n",
    "df.loc[(df['age'] < 30) & (df['gender'] == 'Женский') & (df['housing'] == 'Пропуск поля'), 'housing'] = 'Долевая собственность'\n",
    "df.loc[(df['age'] < 75) & (df['gender'] == 'Женский') & (df['housing'] == 'Пропуск поля'), 'housing'] = 'Собственное'"
   ]
  },
  {
   "cell_type": "code",
   "execution_count": 11,
   "id": "ae585d6b",
   "metadata": {},
   "outputs": [],
   "source": [
    "df.loc[(df['age'] < 36) & (df['gender'] == 'Мужской') & (df['marstatus'] == 'Пропуск поля'), 'marstatus'] = 'Холост'\n",
    "df.loc[(df['age'] < 50) & (df['gender'] == 'Мужской') & (df['marstatus'] == 'Пропуск поля'), 'marstatus'] = 'Гражданский брак/женат/замужем'\n",
    "df.loc[(df['age'] < 75) & (df['gender'] == 'Мужской') & (df['marstatus'] == 'Пропуск поля'), 'marstatus'] = 'Вдова/вдовец'\n",
    "\n",
    "df.loc[(df['age'] < 39) & (df['gender'] == 'Женский') & (df['marstatus'] == 'Пропуск поля'), 'marstatus'] = 'Холост'\n",
    "df.loc[(df['age'] < 51) & (df['gender'] == 'Женский') & (df['marstatus'] == 'Пропуск поля'), 'marstatus'] = 'Гражданский брак/женат/замужем' \n",
    "df.loc[(df['age'] < 75) & (df['gender'] == 'Женский') & (df['marstatus'] == 'Пропуск поля'), 'marstatus'] = 'Вдова/вдовец' "
   ]
  },
  {
   "cell_type": "code",
   "execution_count": 12,
   "id": "93348330",
   "metadata": {},
   "outputs": [],
   "source": [
    "df.loc[(df['gender'] == 'Женский') & (df['credits'] == 'Пропуск поля'), 'credits'] = 'Да'\n",
    "df.loc[(df['gender'] == 'Мужской') & (df['credits'] == 'Пропуск поля'), 'credits'] = 'Нет'"
   ]
  },
  {
   "cell_type": "code",
   "execution_count": 13,
   "id": "5483a660",
   "metadata": {},
   "outputs": [],
   "source": [
    "df.loc[(df['age'] < 45) & (df['gender'] == 'Мужской') & (df['children'] == 'Пропуск поля'), 'children'] = 'Нет'\n",
    "df.loc[(df['age'] < 75) & (df['gender'] == 'Мужской') & (df['children'] == 'Пропуск поля'), 'children'] = 'Да'\n",
    "\n",
    "df.loc[(df['age'] < 31) & (df['gender'] == 'Женский') & (df['children'] == 'Пропуск поля'), 'children'] = 'Нет'\n",
    "df.loc[(df['age'] < 75) & (df['gender'] == 'Женский') & (df['children'] == 'Пропуск поля'), 'children'] = 'Да'"
   ]
  },
  {
   "cell_type": "code",
   "execution_count": 14,
   "id": "077aeed5",
   "metadata": {},
   "outputs": [
    {
     "data": {
      "text/html": [
       "<div>\n",
       "<style scoped>\n",
       "    .dataframe tbody tr th:only-of-type {\n",
       "        vertical-align: middle;\n",
       "    }\n",
       "\n",
       "    .dataframe tbody tr th {\n",
       "        vertical-align: top;\n",
       "    }\n",
       "\n",
       "    .dataframe thead th {\n",
       "        text-align: right;\n",
       "    }\n",
       "</style>\n",
       "<table border=\"1\" class=\"dataframe\">\n",
       "  <thead>\n",
       "    <tr style=\"text-align: right;\">\n",
       "      <th></th>\n",
       "      <th>gender</th>\n",
       "      <th>age</th>\n",
       "      <th>auto</th>\n",
       "      <th>housing</th>\n",
       "      <th>marstatus</th>\n",
       "      <th>regclient</th>\n",
       "      <th>jobtype</th>\n",
       "      <th>region</th>\n",
       "      <th>credits</th>\n",
       "      <th>children</th>\n",
       "      <th>delinq60plus</th>\n",
       "      <th>year</th>\n",
       "      <th>quarter</th>\n",
       "      <th>month</th>\n",
       "      <th>weekday</th>\n",
       "      <th>credit_period</th>\n",
       "    </tr>\n",
       "  </thead>\n",
       "  <tbody>\n",
       "    <tr>\n",
       "      <th>0</th>\n",
       "      <td>Мужской</td>\n",
       "      <td>44</td>\n",
       "      <td>Нет</td>\n",
       "      <td>Собственное</td>\n",
       "      <td>Гражданский брак/женат/замужем</td>\n",
       "      <td>Нет</td>\n",
       "      <td>Официальное</td>\n",
       "      <td>Новосибирская область</td>\n",
       "      <td>Нет</td>\n",
       "      <td>Да</td>\n",
       "      <td>0</td>\n",
       "      <td>2013</td>\n",
       "      <td>1</td>\n",
       "      <td>1</td>\n",
       "      <td>3</td>\n",
       "      <td>9</td>\n",
       "    </tr>\n",
       "    <tr>\n",
       "      <th>1</th>\n",
       "      <td>Мужской</td>\n",
       "      <td>21</td>\n",
       "      <td>Пропуск поля</td>\n",
       "      <td>Живут с родителями</td>\n",
       "      <td>Холост</td>\n",
       "      <td>Нет</td>\n",
       "      <td>Официальное</td>\n",
       "      <td>Кемеровская область юг</td>\n",
       "      <td>Да</td>\n",
       "      <td>Нет</td>\n",
       "      <td>0</td>\n",
       "      <td>2013</td>\n",
       "      <td>1</td>\n",
       "      <td>1</td>\n",
       "      <td>3</td>\n",
       "      <td>14</td>\n",
       "    </tr>\n",
       "  </tbody>\n",
       "</table>\n",
       "</div>"
      ],
      "text/plain": [
       "    gender  age          auto             housing  \\\n",
       "0  Мужской   44           Нет         Собственное   \n",
       "1  Мужской   21  Пропуск поля  Живут с родителями   \n",
       "\n",
       "                        marstatus regclient      jobtype  \\\n",
       "0  Гражданский брак/женат/замужем       Нет  Официальное   \n",
       "1                          Холост       Нет  Официальное   \n",
       "\n",
       "                   region credits children  delinq60plus  year quarter month  \\\n",
       "0   Новосибирская область     Нет       Да             0  2013       1     1   \n",
       "1  Кемеровская область юг      Да      Нет             0  2013       1     1   \n",
       "\n",
       "  weekday  credit_period  \n",
       "0       3              9  \n",
       "1       3             14  "
      ]
     },
     "execution_count": 14,
     "metadata": {},
     "output_type": "execute_result"
    }
   ],
   "source": [
    "df.head(2)"
   ]
  },
  {
   "cell_type": "code",
   "execution_count": null,
   "id": "88c109f8",
   "metadata": {},
   "outputs": [],
   "source": []
  },
  {
   "cell_type": "code",
   "execution_count": 15,
   "id": "68a1037b",
   "metadata": {},
   "outputs": [],
   "source": [
    "df.loc[(df.auto == 'Пропуск поля'), 'auto'] = 'Нет'\n",
    "df.loc[(df.jobtype == 'Пропуск поля'), 'jobtype'] = 'Официальное'\n",
    "#df.loc[(df.marstatus == 'Пропуск поля'), 'marstatus'] = 'Гражданский брак/женат/замужем'\n",
    "#df.loc[(df.credits == 'Пропуск поля'), 'credits'] = 'Нет'\n",
    "#df.loc[(df.children == 'Пропуск поля'), 'children'] = 'Нет'"
   ]
  },
  {
   "cell_type": "code",
   "execution_count": 16,
   "id": "0801f788",
   "metadata": {},
   "outputs": [],
   "source": [
    "df.gender = np.where(df.gender=='Женский', 0, 1)\n",
    "df.regclient = np.where(df.regclient=='Нет', 0, 1)\n",
    "df.credits = np.where(df.credits=='Нет', 0, 1)\n",
    "df.children = np.where(df.children=='Нет', 0, 1)\n",
    "df.auto = np.where(df.auto=='Нет', 0, 1)"
   ]
  },
  {
   "cell_type": "code",
   "execution_count": 17,
   "id": "5ff83ce7",
   "metadata": {},
   "outputs": [],
   "source": [
    "df = pd.concat([df, \n",
    "                      pd.get_dummies(df['housing'], prefix=\"housing\"),\n",
    "                      pd.get_dummies(df['marstatus'], prefix=\"marstatus\"),\n",
    "                      pd.get_dummies(df['jobtype'], prefix=\"jobtype\"),\n",
    "                      pd.get_dummies(df['region'], prefix=\"region\")],\n",
    "                      axis = 1)"
   ]
  },
  {
   "cell_type": "code",
   "execution_count": 18,
   "id": "75657e8b",
   "metadata": {},
   "outputs": [],
   "source": [
    "df = df.drop(['housing','marstatus','jobtype','region'],   axis = 1)"
   ]
  },
  {
   "cell_type": "code",
   "execution_count": 19,
   "id": "ca1ffa28",
   "metadata": {},
   "outputs": [
    {
     "data": {
      "text/html": [
       "<div>\n",
       "<style scoped>\n",
       "    .dataframe tbody tr th:only-of-type {\n",
       "        vertical-align: middle;\n",
       "    }\n",
       "\n",
       "    .dataframe tbody tr th {\n",
       "        vertical-align: top;\n",
       "    }\n",
       "\n",
       "    .dataframe thead th {\n",
       "        text-align: right;\n",
       "    }\n",
       "</style>\n",
       "<table border=\"1\" class=\"dataframe\">\n",
       "  <thead>\n",
       "    <tr style=\"text-align: right;\">\n",
       "      <th></th>\n",
       "      <th>gender</th>\n",
       "      <th>age</th>\n",
       "      <th>auto</th>\n",
       "      <th>regclient</th>\n",
       "      <th>credits</th>\n",
       "      <th>children</th>\n",
       "      <th>delinq60plus</th>\n",
       "      <th>year</th>\n",
       "      <th>quarter</th>\n",
       "      <th>month</th>\n",
       "      <th>...</th>\n",
       "      <th>marstatus_Гражданский брак/женат/замужем</th>\n",
       "      <th>marstatus_Разведен</th>\n",
       "      <th>marstatus_Холост</th>\n",
       "      <th>jobtype_Неофициальное</th>\n",
       "      <th>jobtype_Официальное</th>\n",
       "      <th>region_Алтайский край</th>\n",
       "      <th>region_Кемеровская область север</th>\n",
       "      <th>region_Кемеровская область юг</th>\n",
       "      <th>region_Красноярский край</th>\n",
       "      <th>region_Новосибирская область</th>\n",
       "    </tr>\n",
       "  </thead>\n",
       "  <tbody>\n",
       "    <tr>\n",
       "      <th>0</th>\n",
       "      <td>1</td>\n",
       "      <td>44</td>\n",
       "      <td>0</td>\n",
       "      <td>0</td>\n",
       "      <td>0</td>\n",
       "      <td>1</td>\n",
       "      <td>0</td>\n",
       "      <td>2013</td>\n",
       "      <td>1</td>\n",
       "      <td>1</td>\n",
       "      <td>...</td>\n",
       "      <td>1</td>\n",
       "      <td>0</td>\n",
       "      <td>0</td>\n",
       "      <td>0</td>\n",
       "      <td>1</td>\n",
       "      <td>0</td>\n",
       "      <td>0</td>\n",
       "      <td>0</td>\n",
       "      <td>0</td>\n",
       "      <td>1</td>\n",
       "    </tr>\n",
       "  </tbody>\n",
       "</table>\n",
       "<p>1 rows × 28 columns</p>\n",
       "</div>"
      ],
      "text/plain": [
       "   gender  age  auto  regclient  credits  children  delinq60plus  year  \\\n",
       "0       1   44     0          0        0         1             0  2013   \n",
       "\n",
       "  quarter month  ... marstatus_Гражданский брак/женат/замужем  \\\n",
       "0       1     1  ...                                        1   \n",
       "\n",
       "   marstatus_Разведен  marstatus_Холост  jobtype_Неофициальное  \\\n",
       "0                   0                 0                      0   \n",
       "\n",
       "   jobtype_Официальное  region_Алтайский край  \\\n",
       "0                    1                      0   \n",
       "\n",
       "   region_Кемеровская область север  region_Кемеровская область юг  \\\n",
       "0                                 0                              0   \n",
       "\n",
       "   region_Красноярский край  region_Новосибирская область  \n",
       "0                         0                             1  \n",
       "\n",
       "[1 rows x 28 columns]"
      ]
     },
     "execution_count": 19,
     "metadata": {},
     "output_type": "execute_result"
    }
   ],
   "source": [
    "df.head(1)"
   ]
  },
  {
   "cell_type": "code",
   "execution_count": 20,
   "id": "b8b731c5",
   "metadata": {},
   "outputs": [],
   "source": [
    "y = df['delinq60plus']\n",
    "df = df.drop(['delinq60plus'],   axis = 1)"
   ]
  },
  {
   "cell_type": "code",
   "execution_count": null,
   "id": "9f3b4a5b",
   "metadata": {},
   "outputs": [],
   "source": []
  },
  {
   "cell_type": "code",
   "execution_count": 21,
   "id": "daa59910",
   "metadata": {},
   "outputs": [],
   "source": [
    "X_train, X_test, y_train, y_test = train_test_split(\n",
    "      df, y, test_size=0.3, random_state=42)"
   ]
  },
  {
   "cell_type": "markdown",
   "id": "bd148f80",
   "metadata": {},
   "source": [
    "### GaussianNB"
   ]
  },
  {
   "cell_type": "code",
   "execution_count": 22,
   "id": "827f12bf",
   "metadata": {},
   "outputs": [
    {
     "data": {
      "text/plain": [
       "GaussianNB()"
      ]
     },
     "execution_count": 22,
     "metadata": {},
     "output_type": "execute_result"
    }
   ],
   "source": [
    "gnb = GaussianNB()\n",
    "gnb.fit(X_train, y_train)"
   ]
  },
  {
   "cell_type": "code",
   "execution_count": 23,
   "id": "2a728673",
   "metadata": {},
   "outputs": [
    {
     "data": {
      "text/plain": [
       "0.6399745020660446"
      ]
     },
     "execution_count": 23,
     "metadata": {},
     "output_type": "execute_result"
    }
   ],
   "source": [
    "y_pred = gnb.predict(X_test)\n",
    "roc_auc_score(y_test, y_pred)"
   ]
  },
  {
   "cell_type": "code",
   "execution_count": 24,
   "id": "a59ec040",
   "metadata": {},
   "outputs": [
    {
     "data": {
      "text/plain": [
       "dict_keys(['priors', 'var_smoothing'])"
      ]
     },
     "execution_count": 24,
     "metadata": {},
     "output_type": "execute_result"
    }
   ],
   "source": [
    "GaussianNB().get_params().keys()"
   ]
  },
  {
   "cell_type": "code",
   "execution_count": 25,
   "id": "1d23685f",
   "metadata": {},
   "outputs": [
    {
     "data": {
      "text/plain": [
       "{'var_smoothing': 0.0001873817422860383}"
      ]
     },
     "execution_count": 25,
     "metadata": {},
     "output_type": "execute_result"
    }
   ],
   "source": [
    "parametrs = {'var_smoothing': np.logspace(0,-9, num=100)}\n",
    "\n",
    "grid = GridSearchCV(gnb, parametrs).fit(X_train, y_train)\n",
    "\n",
    "grid.best_params_"
   ]
  },
  {
   "cell_type": "code",
   "execution_count": 26,
   "id": "a598b093",
   "metadata": {},
   "outputs": [
    {
     "data": {
      "text/plain": [
       "GaussianNB(var_smoothing=0.0001873817422860383)"
      ]
     },
     "execution_count": 26,
     "metadata": {},
     "output_type": "execute_result"
    }
   ],
   "source": [
    "gnb = grid.best_estimator_\n",
    "gnb.fit(X_train, y_train)"
   ]
  },
  {
   "cell_type": "code",
   "execution_count": 27,
   "id": "6050b6be",
   "metadata": {},
   "outputs": [
    {
     "data": {
      "text/plain": [
       "0.7127530783197327"
      ]
     },
     "execution_count": 27,
     "metadata": {},
     "output_type": "execute_result"
    }
   ],
   "source": [
    "y_pred = gnb.predict(X_test)\n",
    "roc_auc_score(y_test, y_pred)"
   ]
  },
  {
   "cell_type": "markdown",
   "id": "03f836a6",
   "metadata": {},
   "source": [
    "### LinearRegression"
   ]
  },
  {
   "cell_type": "code",
   "execution_count": 28,
   "id": "2ebbb116",
   "metadata": {},
   "outputs": [
    {
     "data": {
      "text/plain": [
       "dict_keys(['copy_X', 'fit_intercept', 'n_jobs', 'normalize', 'positive'])"
      ]
     },
     "execution_count": 28,
     "metadata": {},
     "output_type": "execute_result"
    }
   ],
   "source": [
    "LinearRegression().get_params().keys()"
   ]
  },
  {
   "cell_type": "code",
   "execution_count": 29,
   "id": "d5426ca7",
   "metadata": {},
   "outputs": [
    {
     "data": {
      "text/plain": [
       "LinearRegression()"
      ]
     },
     "execution_count": 29,
     "metadata": {},
     "output_type": "execute_result"
    }
   ],
   "source": [
    "model = LinearRegression(fit_intercept=True)\n",
    "model.fit(X_train, y_train)"
   ]
  },
  {
   "cell_type": "code",
   "execution_count": 30,
   "id": "1420926a",
   "metadata": {},
   "outputs": [
    {
     "data": {
      "text/plain": [
       "0.8360666715013003"
      ]
     },
     "execution_count": 30,
     "metadata": {},
     "output_type": "execute_result"
    }
   ],
   "source": [
    "y_pred = model.predict(X_test)\n",
    "roc_auc_score(y_test, y_pred)"
   ]
  },
  {
   "cell_type": "markdown",
   "id": "973b1568",
   "metadata": {},
   "source": [
    "### PolynomialFeatures\n"
   ]
  },
  {
   "cell_type": "code",
   "execution_count": 31,
   "id": "578e31a8",
   "metadata": {},
   "outputs": [],
   "source": [
    "poly_model = make_pipeline(PolynomialFeatures(),\n",
    "                           LinearRegression())"
   ]
  },
  {
   "cell_type": "code",
   "execution_count": 32,
   "id": "9bcc61c3",
   "metadata": {},
   "outputs": [
    {
     "data": {
      "text/plain": [
       "dict_keys(['memory', 'steps', 'verbose', 'polynomialfeatures', 'linearregression', 'polynomialfeatures__degree', 'polynomialfeatures__include_bias', 'polynomialfeatures__interaction_only', 'polynomialfeatures__order', 'linearregression__copy_X', 'linearregression__fit_intercept', 'linearregression__n_jobs', 'linearregression__normalize', 'linearregression__positive'])"
      ]
     },
     "execution_count": 32,
     "metadata": {},
     "output_type": "execute_result"
    }
   ],
   "source": [
    "poly_model.get_params().keys()"
   ]
  },
  {
   "cell_type": "code",
   "execution_count": 33,
   "id": "a2c4ee03",
   "metadata": {},
   "outputs": [
    {
     "data": {
      "text/plain": [
       "{'polynomialfeatures__degree': 2}"
      ]
     },
     "execution_count": 33,
     "metadata": {},
     "output_type": "execute_result"
    }
   ],
   "source": [
    "parametrs = {'polynomialfeatures__degree': range(2, 4)}\n",
    "\n",
    "grid = GridSearchCV(poly_model, parametrs).fit(X_train, y_train)\n",
    "\n",
    "grid.best_params_"
   ]
  },
  {
   "cell_type": "code",
   "execution_count": 34,
   "id": "e724e3f4",
   "metadata": {},
   "outputs": [
    {
     "data": {
      "text/plain": [
       "Pipeline(steps=[('polynomialfeatures', PolynomialFeatures()),\n",
       "                ('linearregression', LinearRegression())])"
      ]
     },
     "execution_count": 34,
     "metadata": {},
     "output_type": "execute_result"
    }
   ],
   "source": [
    "poly_model = grid.best_estimator_\n",
    "poly_model.fit(X_train, y_train)"
   ]
  },
  {
   "cell_type": "code",
   "execution_count": 35,
   "id": "2700d7f1",
   "metadata": {},
   "outputs": [
    {
     "data": {
      "text/plain": [
       "0.8517471204903004"
      ]
     },
     "execution_count": 35,
     "metadata": {},
     "output_type": "execute_result"
    }
   ],
   "source": [
    "y_pred = poly_model.predict(X_test)\n",
    "roc_auc_score(y_test, y_pred)"
   ]
  },
  {
   "cell_type": "markdown",
   "id": "6e69ffa0",
   "metadata": {},
   "source": [
    "### RandomForestClassifier"
   ]
  },
  {
   "cell_type": "code",
   "execution_count": 36,
   "id": "12f7e78b",
   "metadata": {},
   "outputs": [
    {
     "data": {
      "text/plain": [
       "RandomForestClassifier(max_depth=10, max_features=10, min_samples_leaf=10,\n",
       "                       min_samples_split=10, n_estimators=300)"
      ]
     },
     "execution_count": 36,
     "metadata": {},
     "output_type": "execute_result"
    }
   ],
   "source": [
    "rfc = RandomForestClassifier(max_depth = 10, \n",
    "                             n_estimators = 300, \n",
    "                             max_features = 10,\n",
    "                             min_samples_split= 10,\n",
    "                             min_samples_leaf = 10)\n",
    "rfc.fit(X_train, y_train)\n"
   ]
  },
  {
   "cell_type": "code",
   "execution_count": 37,
   "id": "52563f3e",
   "metadata": {},
   "outputs": [
    {
     "data": {
      "text/plain": [
       "0.856566526938141"
      ]
     },
     "execution_count": 37,
     "metadata": {},
     "output_type": "execute_result"
    }
   ],
   "source": [
    "y_pred = rfc.predict_proba(X_test)[:, 1]\n",
    "roc_auc_score(y_test, y_pred)"
   ]
  },
  {
   "cell_type": "code",
   "execution_count": 38,
   "id": "ae4fe80c",
   "metadata": {},
   "outputs": [
    {
     "name": "stdout",
     "output_type": "stream",
     "text": [
      "Важность предикторов:\n",
      " 1. 'month' (0.4229)\n",
      " 2. 'quarter' (0.2592)\n",
      " 3. 'age  ' (0.1180)\n",
      " 4. 'credits' (0.0331)\n",
      " 5. 'credit_period' (0.0327)\n",
      " 6. 'regclient' (0.0213)\n",
      " 7. 'region_Кемеровская область север' (0.0188)\n",
      " 8. 'weekday' (0.0161)\n",
      " 9. 'year ' (0.0156)\n",
      "10. 'region_Новосибирская область' (0.0075)\n",
      "11. 'gender' (0.0061)\n",
      "12. 'marstatus_Холост' (0.0058)\n",
      "13. 'region_Кемеровская область юг' (0.0057)\n",
      "14. 'region_Алтайский край' (0.0052)\n",
      "15. 'children' (0.0048)\n",
      "16. 'housing_Собственное' (0.0045)\n",
      "17. 'marstatus_Гражданский брак/женат/замужем' (0.0044)\n",
      "18. 'region_Красноярский край' (0.0028)\n",
      "19. 'housing_Живут с родителями' (0.0024)\n",
      "20. 'marstatus_Вдова/вдовец' (0.0024)\n",
      "21. 'auto ' (0.0023)\n",
      "22. 'marstatus_Разведен' (0.0022)\n",
      "23. 'housing_Долевая собственность' (0.0020)\n",
      "24. 'housing_Арендуемое' (0.0018)\n",
      "25. 'housing_Муниципальное' (0.0010)\n",
      "26. 'jobtype_Официальное' (0.0008)\n",
      "27. 'jobtype_Неофициальное' (0.0008)\n"
     ]
    }
   ],
   "source": [
    "feature_names = X_train.columns\n",
    "importances = rfc.feature_importances_\n",
    "indices = np.argsort(importances)[::-1]\n",
    "\n",
    "print(\"Важность предикторов:\")\n",
    "for f, idx in enumerate(indices):\n",
    "    print(\"{:2d}. '{:5s}' ({:.4f})\".format(f + 1,\n",
    "                                           feature_names[idx],\n",
    "                                           importances[idx]))"
   ]
  },
  {
   "cell_type": "markdown",
   "id": "0d245f4b",
   "metadata": {},
   "source": [
    "#### Вывод:\n",
    "Лучшие результаты с подбором параметров: \n",
    "* RandomForestClassifier - 0.8565\n",
    "* PolynomialFeatures - 0.8517\n",
    "* LinearRegression - 0.8360\n",
    "* GaussianNB - 0.7127\n",
    "\n",
    "Замена пропусков с привязкой к возрасту дала очень маленький процент к точности моделей, улучшился 3-й знак после запятой.\n",
    "\n"
   ]
  },
  {
   "cell_type": "code",
   "execution_count": null,
   "id": "0603a27f",
   "metadata": {},
   "outputs": [],
   "source": []
  }
 ],
 "metadata": {
  "kernelspec": {
   "display_name": "Python 3 (ipykernel)",
   "language": "python",
   "name": "python3"
  },
  "language_info": {
   "codemirror_mode": {
    "name": "ipython",
    "version": 3
   },
   "file_extension": ".py",
   "mimetype": "text/x-python",
   "name": "python",
   "nbconvert_exporter": "python",
   "pygments_lexer": "ipython3",
   "version": "3.9.12"
  }
 },
 "nbformat": 4,
 "nbformat_minor": 5
}
