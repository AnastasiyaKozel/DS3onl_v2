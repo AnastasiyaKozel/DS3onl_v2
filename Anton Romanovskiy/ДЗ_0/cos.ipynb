{
 "cells": [
  {
   "cell_type": "code",
   "execution_count": 61,
   "id": "bc6d510e",
   "metadata": {},
   "outputs": [
    {
     "name": "stdout",
     "output_type": "stream",
     "text": [
      "0 3 3\n",
      "-2 1 2\n",
      "0.2928932188134524\n"
     ]
    }
   ],
   "source": [
    "from math import*\n",
    "\n",
    "a = [int(i) for i in input().split()]\n",
    "b = [int(i) for i in input().split()]\n",
    "\n",
    "def cosine(a, b):\n",
    "    \n",
    "    scalar = 0\n",
    "    for i in range(len(a)):\n",
    "        c = (a[i] * b[i])\n",
    "        scalar += c\n",
    "    \n",
    "    modul = sqrt(sum(i**2 for i in a)) * sqrt(sum(i**2 for i in b))\n",
    "    \n",
    "    x = 1 - (scalar / modul)\n",
    "    return(x)\n",
    "\n",
    "print(cosine(a, b))\n"
   ]
  },
  {
   "cell_type": "code",
   "execution_count": 62,
   "id": "b0770972",
   "metadata": {},
   "outputs": [
    {
     "name": "stdout",
     "output_type": "stream",
     "text": [
      "0 3 3\n",
      "-2 1 2\n",
      "0.2928932188134524\n"
     ]
    }
   ],
   "source": [
    "import numpy as np\n",
    "\n",
    "a = [int(i) for i in input().split()]\n",
    "b = [int(i) for i in input().split()]\n",
    "\n",
    "def cosine_2(a, b):\n",
    "    \n",
    "    scalar = np.dot(a, b)\n",
    "    norm_a = np.linalg.norm(a)\n",
    "    norm_b = np.linalg.norm(b)\n",
    "    cosine_ = 1 - (scalar / ((norm_a) * (norm_b)))\n",
    "    \n",
    "    return(cosine_)\n",
    "print(cosine_2(a, b))\n"
   ]
  }
 ],
 "metadata": {
  "kernelspec": {
   "display_name": "Python 3 (ipykernel)",
   "language": "python",
   "name": "python3"
  },
  "language_info": {
   "codemirror_mode": {
    "name": "ipython",
    "version": 3
   },
   "file_extension": ".py",
   "mimetype": "text/x-python",
   "name": "python",
   "nbconvert_exporter": "python",
   "pygments_lexer": "ipython3",
   "version": "3.8.10"
  }
 },
 "nbformat": 4,
 "nbformat_minor": 5
}
