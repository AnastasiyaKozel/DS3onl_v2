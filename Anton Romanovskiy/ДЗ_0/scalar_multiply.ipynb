{
 "cells": [
  {
   "cell_type": "code",
   "execution_count": 46,
   "id": "45ee7e6c",
   "metadata": {},
   "outputs": [
    {
     "name": "stdout",
     "output_type": "stream",
     "text": [
      "0 3 3\n",
      "-2 1 2\n",
      "9\n"
     ]
    }
   ],
   "source": [
    "a = [int(i) for i in input().split()]\n",
    "b = [int(i) for i in input().split()]\n",
    "\n",
    "def scalar_multiply(a, b):\n",
    "    scalar = 0\n",
    "    for i in range(len(a)):\n",
    "        c = a[i] * b[i]\n",
    "        scalar += c\n",
    "    return(scalar)\n",
    "\n",
    "print(scalar_multiply(a, b))"
   ]
  },
  {
   "cell_type": "code",
   "execution_count": 48,
   "id": "96b85c8e",
   "metadata": {},
   "outputs": [
    {
     "name": "stdout",
     "output_type": "stream",
     "text": [
      "0 3 3\n",
      "-2 1 2\n",
      "9\n"
     ]
    }
   ],
   "source": [
    "import numpy as np\n",
    "\n",
    "a = [int(i) for i in input().split()]\n",
    "b = [int(i) for i in input().split()]\n",
    "\n",
    "def multiply(a, b):\n",
    "    multiply = np.dot(a, b)\n",
    "    \n",
    "    return(multiply)\n",
    "\n",
    "print(multiply(a, b))"
   ]
  }
 ],
 "metadata": {
  "kernelspec": {
   "display_name": "Python 3 (ipykernel)",
   "language": "python",
   "name": "python3"
  },
  "language_info": {
   "codemirror_mode": {
    "name": "ipython",
    "version": 3
   },
   "file_extension": ".py",
   "mimetype": "text/x-python",
   "name": "python",
   "nbconvert_exporter": "python",
   "pygments_lexer": "ipython3",
   "version": "3.10.4"
  }
 },
 "nbformat": 4,
 "nbformat_minor": 5
}
