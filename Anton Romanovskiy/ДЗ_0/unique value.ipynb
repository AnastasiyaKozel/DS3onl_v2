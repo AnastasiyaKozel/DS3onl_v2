{
 "cells": [
  {
   "cell_type": "code",
   "execution_count": 16,
   "id": "a1299f0e",
   "metadata": {},
   "outputs": [
    {
     "name": "stdout",
     "output_type": "stream",
     "text": [
      "2 3 4 5 6 4 3 3 \n",
      "[2, 3, 4, 5, 6]\n"
     ]
    }
   ],
   "source": [
    "a = [int(i) for i in input().split()]\n",
    "\n",
    "def unique_value(a):\n",
    "    numbers = []\n",
    "\n",
    "    for i in a:\n",
    "        if i in numbers:\n",
    "            continue\n",
    "        else:\n",
    "            numbers.append(i)\n",
    "    return numbers\n",
    "\n",
    "print(unique_value(a))\n",
    "\n"
   ]
  },
  {
   "cell_type": "code",
   "execution_count": 17,
   "id": "9b3f186c",
   "metadata": {},
   "outputs": [
    {
     "name": "stdout",
     "output_type": "stream",
     "text": [
      "1 2 3 4 3 3 6 6 5 6\n",
      "[1 2 3 4 5 6]\n"
     ]
    }
   ],
   "source": [
    "import numpy as np \n",
    "\n",
    "a = [int(i) for i in input().split()]\n",
    "\n",
    "unique = np.unique(a)\n",
    "\n",
    "print(unique)"
   ]
  }
 ],
 "metadata": {
  "kernelspec": {
   "display_name": "Python 3 (ipykernel)",
   "language": "python",
   "name": "python3"
  },
  "language_info": {
   "codemirror_mode": {
    "name": "ipython",
    "version": 3
   },
   "file_extension": ".py",
   "mimetype": "text/x-python",
   "name": "python",
   "nbconvert_exporter": "python",
   "pygments_lexer": "ipython3",
   "version": "3.10.4"
  }
 },
 "nbformat": 4,
 "nbformat_minor": 5
}
