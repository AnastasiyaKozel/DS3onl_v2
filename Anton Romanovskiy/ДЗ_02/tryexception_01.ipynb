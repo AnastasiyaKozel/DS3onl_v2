{
 "cells": [
  {
   "cell_type": "raw",
   "id": "d0e7ef43",
   "metadata": {},
   "source": [
    "Романовский А.Н. 08.09.22\n",
    "Расчет расхода топлива на длинну маршрута."
   ]
  },
  {
   "cell_type": "code",
   "execution_count": null,
   "id": "f310a380",
   "metadata": {},
   "outputs": [],
   "source": [
    "try:\n",
    "    lenght = float(input()) #длинна маршрута\n",
    "    consumption = float(input()) #расход топлива на 100\n",
    "\n",
    "    consumption_for_km = consumption / 100 #расход на 1 км\n",
    "    result = lenght * consumption_for_km\n",
    "    \n",
    "    assert lenght > 0 and consumption > 0 \n",
    "    \n",
    "    print(result)\n",
    "\n",
    "except AssertionError:  \n",
    "        print('Введите число больше нуля')   "
   ]
  }
 ],
 "metadata": {
  "kernelspec": {
   "display_name": "Python 3 (ipykernel)",
   "language": "python",
   "name": "python3"
  },
  "language_info": {
   "codemirror_mode": {
    "name": "ipython",
    "version": 3
   },
   "file_extension": ".py",
   "mimetype": "text/x-python",
   "name": "python",
   "nbconvert_exporter": "python",
   "pygments_lexer": "ipython3",
   "version": "3.10.4"
  }
 },
 "nbformat": 4,
 "nbformat_minor": 5
}
