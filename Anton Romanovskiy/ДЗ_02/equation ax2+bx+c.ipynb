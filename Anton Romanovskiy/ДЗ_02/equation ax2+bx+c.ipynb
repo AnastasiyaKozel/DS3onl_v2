{
 "cells": [
  {
   "cell_type": "raw",
   "id": "16a75ed1",
   "metadata": {},
   "source": [
    "Романовский А.Н. 09.09.22\n",
    "Поиск корней квадратного уравнения. Вида а * x**2 + b * x + c = 0\n"
   ]
  },
  {
   "cell_type": "code",
   "execution_count": 9,
   "id": "463e493e",
   "metadata": {},
   "outputs": [
    {
     "name": "stdout",
     "output_type": "stream",
     "text": [
      "0\n",
      "2\n",
      "4\n",
      "Уравнение не квадратное\n"
     ]
    }
   ],
   "source": [
    "from math import*\n",
    "try:\n",
    "    a, b, c = float(input()), float(input()), float(input())\n",
    "    \n",
    "    assert a != 0 # если а=0, то уравнение становится линейным\n",
    "\n",
    "    discr = (b ** 2) - (4 * a * c)\n",
    "\n",
    "    if discr < 0:\n",
    "        print('Корней нет')\n",
    "\n",
    "    elif discr == 0:\n",
    "        print((-b) / (2 * a))\n",
    "\n",
    "    else:\n",
    "        print((-b + sqrt(discr)) / (2 * a))\n",
    "        print((-b - sqrt(discr)) / (2 * a))\n",
    "    \n",
    "    \n",
    "\n",
    "except AssertionError:  \n",
    "        print('Уравнение не квадратное') "
   ]
  }
 ],
 "metadata": {
  "kernelspec": {
   "display_name": "Python 3 (ipykernel)",
   "language": "python",
   "name": "python3"
  },
  "language_info": {
   "codemirror_mode": {
    "name": "ipython",
    "version": 3
   },
   "file_extension": ".py",
   "mimetype": "text/x-python",
   "name": "python",
   "nbconvert_exporter": "python",
   "pygments_lexer": "ipython3",
   "version": "3.10.4"
  }
 },
 "nbformat": 4,
 "nbformat_minor": 5
}
