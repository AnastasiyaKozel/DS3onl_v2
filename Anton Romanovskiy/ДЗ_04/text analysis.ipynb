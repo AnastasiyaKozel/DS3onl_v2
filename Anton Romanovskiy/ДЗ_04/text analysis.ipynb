{
 "cells": [
  {
   "cell_type": "markdown",
   "id": "b1eace4a",
   "metadata": {},
   "source": [
    "Романовский А.Н. 19.09.2022\n",
    "\n",
    "### Задание:\n",
    "\n",
    "#### 1. Загрузить текстовый файл из корневого каталога обьемом не мнеее 20000 символов.\n",
    "#### 2. Подсчет частоты встречаемости слов в загруженном файле (критерий схожести слов выбрать самостоятельно).\n",
    "#### 3. Подсчет длин предложений и их количества. \n",
    "#### 4. Ввод полученных данных в объект DataFrame и Series, а также отображение полученных результатов в виде таблицы \"объекты - признаки\".\n",
    "#### 5. Построение гистограммы частоты встречаемости слов.\n",
    "----"
   ]
  },
  {
   "cell_type": "markdown",
   "id": "c3ebc082",
   "metadata": {},
   "source": [
    "### Реализация: \n",
    "#### Из задания шаги 1-4 и 5\n",
    "\n",
    "1. Загрузка библиотек и файла\n",
    "2. Опеределение количества символов в файле\n",
    "3. Очистка текста отзнаков пунктуации \n",
    "4. Приведение слов к базовой форме\n",
    "5. Очистка списка от коротких слов и удаление стоп-слов\n",
    "6. Создание Counter словаря с базовой формой слов и их колличества \n",
    "7. Создание обьекта DataFrame и визулизация \n",
    "----"
   ]
  },
  {
   "cell_type": "code",
   "execution_count": 1,
   "id": "e226eb5a",
   "metadata": {},
   "outputs": [],
   "source": [
    "import codecs \n",
    "import numpy as np\n",
    "import pandas as pd\n",
    "import matplotlib.pyplot as plt\n",
    "import string\n",
    "from collections import Counter\n",
    "#для лемматизации\n",
    "from pymystem3 import Mystem\n",
    "from spacy.lang.ru.stop_words import STOP_WORDS"
   ]
  },
  {
   "cell_type": "markdown",
   "id": "00bb04e0",
   "metadata": {},
   "source": [
    "\n",
    "#### 2. Загрузка файла и подсчет"
   ]
  },
  {
   "cell_type": "code",
   "execution_count": 2,
   "id": "c470d36f",
   "metadata": {},
   "outputs": [],
   "source": [
    "text = codecs.open(\"Tolstoy.txt\",\"r\",encoding = \"UTF8\" )"
   ]
  },
  {
   "cell_type": "code",
   "execution_count": 3,
   "id": "668aca73",
   "metadata": {},
   "outputs": [],
   "source": [
    "string_text =\"\" \n",
    "for word in text:\n",
    "    string_text += word.strip() # записываем текст в переменную, удаляя символы табуляции\n",
    "text.close()"
   ]
  },
  {
   "cell_type": "code",
   "execution_count": 4,
   "id": "faaa3e79",
   "metadata": {},
   "outputs": [
    {
     "data": {
      "text/plain": [
       "128393"
      ]
     },
     "execution_count": 4,
     "metadata": {},
     "output_type": "execute_result"
    }
   ],
   "source": [
    "len(string_text) #подсчет символов "
   ]
  },
  {
   "cell_type": "markdown",
   "id": "d284f415",
   "metadata": {},
   "source": [
    "#### 3. Подготовка текста"
   ]
  },
  {
   "cell_type": "code",
   "execution_count": 5,
   "id": "9a7f1fd4",
   "metadata": {},
   "outputs": [],
   "source": [
    "for _ in string.punctuation: #удаляем все знаки пунктуации \n",
    "    if _ in string_text:\n",
    "        string_text = string_text.replace(_,'')\n",
    "string_text = string_text.lower() #приводим слова к одинаковому регистру(маленькому)\n"
   ]
  },
  {
   "cell_type": "markdown",
   "id": "19e1a5fc",
   "metadata": {},
   "source": [
    "\n",
    "#### 4. Лемматизация. Mystem - морфологический анализатор русского языка с поддержкой снятия морфологической неоднозначности\n"
   ]
  },
  {
   "cell_type": "code",
   "execution_count": 6,
   "id": "b21e1a7a",
   "metadata": {},
   "outputs": [],
   "source": [
    "lemma = Mystem()\n",
    "new_word = lemma.lemmatize(string_text)   \n",
    "#приводим слова к базовой форме "
   ]
  },
  {
   "cell_type": "markdown",
   "id": "a43625fd",
   "metadata": {},
   "source": [
    "#### 5. Очистка списка от мусорных слов "
   ]
  },
  {
   "cell_type": "code",
   "execution_count": 7,
   "id": "ba8ff543",
   "metadata": {},
   "outputs": [],
   "source": [
    "new_word =  [i for i in new_word if len(i) >= 3] #добавляем в список слова длинна которых больше 3\n",
    "new_word = [i for i in new_word if not i in STOP_WORDS] # удаляем слова которые есть в списке стоп слов"
   ]
  },
  {
   "cell_type": "code",
   "execution_count": 8,
   "id": "48fbda03",
   "metadata": {},
   "outputs": [
    {
     "data": {
      "text/plain": [
       "9172"
      ]
     },
     "execution_count": 8,
     "metadata": {},
     "output_type": "execute_result"
    }
   ],
   "source": [
    "len(new_word)"
   ]
  },
  {
   "cell_type": "markdown",
   "id": "fdd27667",
   "metadata": {},
   "source": [
    "#### 6. Словарь содержащий базовую форму слов и их количество "
   ]
  },
  {
   "cell_type": "code",
   "execution_count": 9,
   "id": "d30f6084",
   "metadata": {},
   "outputs": [],
   "source": [
    "c = Counter(list(new_word)) #вид словаря, который позволяет нам считать количество неизменяемых объектов\n",
    "d = c.most_common(10)       #возвращает (n) наиболее часто встречающихся элементов, в порядке убывания \n"
   ]
  },
  {
   "cell_type": "markdown",
   "id": "6255db0b",
   "metadata": {},
   "source": [
    "#### 7. Обьект DataFrame \n",
    "20 наиболее повторящихся слов"
   ]
  },
  {
   "cell_type": "code",
   "execution_count": 10,
   "id": "0bf35dc5",
   "metadata": {},
   "outputs": [
    {
     "data": {
      "text/html": [
       "<div>\n",
       "<style scoped>\n",
       "    .dataframe tbody tr th:only-of-type {\n",
       "        vertical-align: middle;\n",
       "    }\n",
       "\n",
       "    .dataframe tbody tr th {\n",
       "        vertical-align: top;\n",
       "    }\n",
       "\n",
       "    .dataframe thead th {\n",
       "        text-align: right;\n",
       "    }\n",
       "</style>\n",
       "<table border=\"1\" class=\"dataframe\">\n",
       "  <thead>\n",
       "    <tr style=\"text-align: right;\">\n",
       "      <th></th>\n",
       "      <th>Слова</th>\n",
       "      <th>Количество</th>\n",
       "    </tr>\n",
       "  </thead>\n",
       "  <tbody>\n",
       "    <tr>\n",
       "      <th>0</th>\n",
       "      <td>жизнь</td>\n",
       "      <td>354</td>\n",
       "    </tr>\n",
       "    <tr>\n",
       "      <th>1</th>\n",
       "      <td>человек</td>\n",
       "      <td>181</td>\n",
       "    </tr>\n",
       "    <tr>\n",
       "      <th>2</th>\n",
       "      <td>вопрос</td>\n",
       "      <td>127</td>\n",
       "    </tr>\n",
       "    <tr>\n",
       "      <th>3</th>\n",
       "      <td>жить</td>\n",
       "      <td>125</td>\n",
       "    </tr>\n",
       "    <tr>\n",
       "      <th>4</th>\n",
       "      <td>вера</td>\n",
       "      <td>110</td>\n",
       "    </tr>\n",
       "    <tr>\n",
       "      <th>5</th>\n",
       "      <td>понимать</td>\n",
       "      <td>110</td>\n",
       "    </tr>\n",
       "    <tr>\n",
       "      <th>6</th>\n",
       "      <td>знать</td>\n",
       "      <td>92</td>\n",
       "    </tr>\n",
       "    <tr>\n",
       "      <th>7</th>\n",
       "      <td>смысл</td>\n",
       "      <td>89</td>\n",
       "    </tr>\n",
       "    <tr>\n",
       "      <th>8</th>\n",
       "      <td>знание</td>\n",
       "      <td>86</td>\n",
       "    </tr>\n",
       "    <tr>\n",
       "      <th>9</th>\n",
       "      <td>ответ</td>\n",
       "      <td>70</td>\n",
       "    </tr>\n",
       "    <tr>\n",
       "      <th>10</th>\n",
       "      <td>говорить</td>\n",
       "      <td>68</td>\n",
       "    </tr>\n",
       "    <tr>\n",
       "      <th>11</th>\n",
       "      <td>делать</td>\n",
       "      <td>59</td>\n",
       "    </tr>\n",
       "    <tr>\n",
       "      <th>12</th>\n",
       "      <td>видеть</td>\n",
       "      <td>55</td>\n",
       "    </tr>\n",
       "    <tr>\n",
       "      <th>13</th>\n",
       "      <td>становиться</td>\n",
       "      <td>54</td>\n",
       "    </tr>\n",
       "    <tr>\n",
       "      <th>14</th>\n",
       "      <td>истина</td>\n",
       "      <td>53</td>\n",
       "    </tr>\n",
       "    <tr>\n",
       "      <th>15</th>\n",
       "      <td>бог</td>\n",
       "      <td>47</td>\n",
       "    </tr>\n",
       "    <tr>\n",
       "      <th>16</th>\n",
       "      <td>время</td>\n",
       "      <td>41</td>\n",
       "    </tr>\n",
       "    <tr>\n",
       "      <th>17</th>\n",
       "      <td>человечество</td>\n",
       "      <td>38</td>\n",
       "    </tr>\n",
       "    <tr>\n",
       "      <th>18</th>\n",
       "      <td>находить</td>\n",
       "      <td>38</td>\n",
       "    </tr>\n",
       "    <tr>\n",
       "      <th>19</th>\n",
       "      <td>отвечать</td>\n",
       "      <td>37</td>\n",
       "    </tr>\n",
       "  </tbody>\n",
       "</table>\n",
       "</div>"
      ],
      "text/plain": [
       "           Слова  Количество\n",
       "0          жизнь         354\n",
       "1        человек         181\n",
       "2         вопрос         127\n",
       "3           жить         125\n",
       "4           вера         110\n",
       "5       понимать         110\n",
       "6          знать          92\n",
       "7          смысл          89\n",
       "8         знание          86\n",
       "9          ответ          70\n",
       "10      говорить          68\n",
       "11        делать          59\n",
       "12        видеть          55\n",
       "13   становиться          54\n",
       "14        истина          53\n",
       "15           бог          47\n",
       "16         время          41\n",
       "17  человечество          38\n",
       "18      находить          38\n",
       "19      отвечать          37"
      ]
     },
     "execution_count": 10,
     "metadata": {},
     "output_type": "execute_result"
    }
   ],
   "source": [
    "s = pd.DataFrame(c.most_common(), columns=['Слова','Количество'])\n",
    "a = s.head(20)\n",
    "a"
   ]
  },
  {
   "cell_type": "markdown",
   "id": "0da71351",
   "metadata": {},
   "source": [
    "#### Визуализация "
   ]
  },
  {
   "cell_type": "code",
   "execution_count": 13,
   "id": "ceb35d62",
   "metadata": {},
   "outputs": [
    {
     "data": {
      "image/png": "[encoded data removed]",
      "text/plain": [
       "<Figure size 1440x504 with 1 Axes>"
      ]
     },
     "metadata": {
      "needs_background": "light"
     },
     "output_type": "display_data"
    }
   ],
   "source": [
    "rgb_1 = np.random.rand(7,3)    # цвет\n",
    "ax = a.plot.bar(x='Слова', y='Количество',color = rgb_1, rot=70 ,figsize=(20,7), fontsize=16) #настройки отоброжения\n"
   ]
  },
  {
   "cell_type": "markdown",
   "id": "77809e6d",
   "metadata": {},
   "source": [
    "---- \n",
    "### Из задания шаги 3-4\n",
    "1. Открытие файла и запись в переменную"
   ]
  },
  {
   "cell_type": "code",
   "execution_count": 14,
   "id": "267ab0b1",
   "metadata": {},
   "outputs": [],
   "source": [
    "text = codecs.open(\"Tolstoy.txt\",\"r\",encoding = \"UTF8\" )\n",
    "string_text =\"\" \n",
    "for word in text:\n",
    "    string_text += word.strip() # записываем текст в переменную, удаляя символы табуляции\n",
    "text.close()"
   ]
  },
  {
   "cell_type": "markdown",
   "id": "80ba3a1b",
   "metadata": {},
   "source": [
    "#### 2. Создание функции для очистки переменной от цифр и знаков пунктуации"
   ]
  },
  {
   "cell_type": "code",
   "execution_count": 15,
   "id": "0b1426e0",
   "metadata": {},
   "outputs": [],
   "source": [
    "def counter_words(string_text):  #функция удаляет все знаки пунктуации и переводы строки  \n",
    "    for numbers in '1234567890':\n",
    "        string_text=string_text.replace(numbers, '')\n",
    "    for punctuation in \")(,:';-\\n\\t\":\n",
    "        string_text=string_text.replace(punctuation, '')\n",
    "    for punctuation_2 in \"...!?\":\n",
    "        string_text=string_text.replace(punctuation_2, '.')#меняем все знаки окончания предложения на точки\n",
    "    string_text = string_text.lower() #меняет все заглавные буквы на маленькие \n",
    "    words = string_text.split('.') #создает список из слов по точкам\n",
    "    return words    "
   ]
  },
  {
   "cell_type": "markdown",
   "id": "eeef5e13",
   "metadata": {},
   "source": [
    "#### 3. Отоброжение результата "
   ]
  },
  {
   "cell_type": "code",
   "execution_count": 16,
   "id": "40185dab",
   "metadata": {},
   "outputs": [
    {
     "data": {
      "text/html": [
       "<div>\n",
       "<style scoped>\n",
       "    .dataframe tbody tr th:only-of-type {\n",
       "        vertical-align: middle;\n",
       "    }\n",
       "\n",
       "    .dataframe tbody tr th {\n",
       "        vertical-align: top;\n",
       "    }\n",
       "\n",
       "    .dataframe thead th {\n",
       "        text-align: right;\n",
       "    }\n",
       "</style>\n",
       "<table border=\"1\" class=\"dataframe\">\n",
       "  <thead>\n",
       "    <tr style=\"text-align: right;\">\n",
       "      <th></th>\n",
       "      <th>Предложение</th>\n",
       "      <th>Длина предложенией</th>\n",
       "    </tr>\n",
       "  </thead>\n",
       "  <tbody>\n",
       "    <tr>\n",
       "      <th>0</th>\n",
       "      <td>исповедьвступление к ненапечатанному сочинению...</td>\n",
       "      <td>102</td>\n",
       "    </tr>\n",
       "    <tr>\n",
       "      <th>1</th>\n",
       "      <td>меня учили ей и с детства и во всё время моег...</td>\n",
       "      <td>67</td>\n",
       "    </tr>\n",
       "    <tr>\n",
       "      <th>2</th>\n",
       "      <td>но когда я ти лет вышел со второго курса унив...</td>\n",
       "      <td>103</td>\n",
       "    </tr>\n",
       "    <tr>\n",
       "      <th>3</th>\n",
       "      <td>судя по некоторым воспоминаниям я никогда и не...</td>\n",
       "      <td>184</td>\n",
       "    </tr>\n",
       "    <tr>\n",
       "      <th>4</th>\n",
       "      <td>помню что когда мне было лет одиннадцать один ...</td>\n",
       "      <td>80</td>\n",
       "    </tr>\n",
       "    <tr>\n",
       "      <th>5</th>\n",
       "      <td>учившийся в гимназии придя к нам на воскресен...</td>\n",
       "      <td>112</td>\n",
       "    </tr>\n",
       "    <tr>\n",
       "      <th>6</th>\n",
       "      <td>открытие состояло в том что бога нет и что вс...</td>\n",
       "      <td>91</td>\n",
       "    </tr>\n",
       "    <tr>\n",
       "      <th>7</th>\n",
       "      <td>помню как старшие братья заинтересовались это...</td>\n",
       "      <td>80</td>\n",
       "    </tr>\n",
       "    <tr>\n",
       "      <th>8</th>\n",
       "      <td>мы все помню очень оживились и приняли это из...</td>\n",
       "      <td>101</td>\n",
       "    </tr>\n",
       "    <tr>\n",
       "      <th>9</th>\n",
       "      <td>помню ещё что когда старший мой брат дмитрий б...</td>\n",
       "      <td>285</td>\n",
       "    </tr>\n",
       "    <tr>\n",
       "      <th>10</th>\n",
       "      <td>помню мусинпушкин бывший тогда попечителем ка...</td>\n",
       "      <td>177</td>\n",
       "    </tr>\n",
       "    <tr>\n",
       "      <th>11</th>\n",
       "      <td>я сочувствовал тогда этим шуткам старших и вы...</td>\n",
       "      <td>175</td>\n",
       "    </tr>\n",
       "    <tr>\n",
       "      <th>12</th>\n",
       "      <td>помню ещё что я очень молодым читал вольтера ...</td>\n",
       "      <td>106</td>\n",
       "    </tr>\n",
       "    <tr>\n",
       "      <th>13</th>\n",
       "      <td>отпадение моё от веры произошло во мне так же ...</td>\n",
       "      <td>119</td>\n",
       "    </tr>\n",
       "    <tr>\n",
       "      <th>14</th>\n",
       "      <td>оно как мне кажется происходит в большинстве ...</td>\n",
       "      <td>444</td>\n",
       "    </tr>\n",
       "    <tr>\n",
       "      <th>15</th>\n",
       "      <td>если сталкиваешься с ним то только как с внеш...</td>\n",
       "      <td>80</td>\n",
       "    </tr>\n",
       "    <tr>\n",
       "      <th>16</th>\n",
       "      <td>по жизни человека по делам его как теперь так ...</td>\n",
       "      <td>93</td>\n",
       "    </tr>\n",
       "    <tr>\n",
       "      <th>17</th>\n",
       "      <td>если и есть различие между явно исповедующими...</td>\n",
       "      <td>98</td>\n",
       "    </tr>\n",
       "    <tr>\n",
       "      <th>18</th>\n",
       "      <td>как теперь так и тогда явное признание и испо...</td>\n",
       "      <td>164</td>\n",
       "    </tr>\n",
       "    <tr>\n",
       "      <th>19</th>\n",
       "      <td>ум же честность прямота добродушие и нравстве...</td>\n",
       "      <td>115</td>\n",
       "    </tr>\n",
       "  </tbody>\n",
       "</table>\n",
       "</div>"
      ],
      "text/plain": [
       "                                          Предложение  Длина предложенией\n",
       "0   исповедьвступление к ненапечатанному сочинению...                 102\n",
       "1    меня учили ей и с детства и во всё время моег...                  67\n",
       "2    но когда я ти лет вышел со второго курса унив...                 103\n",
       "3   судя по некоторым воспоминаниям я никогда и не...                 184\n",
       "4   помню что когда мне было лет одиннадцать один ...                  80\n",
       "5    учившийся в гимназии придя к нам на воскресен...                 112\n",
       "6    открытие состояло в том что бога нет и что вс...                  91\n",
       "7    помню как старшие братья заинтересовались это...                  80\n",
       "8    мы все помню очень оживились и приняли это из...                 101\n",
       "9   помню ещё что когда старший мой брат дмитрий б...                 285\n",
       "10   помню мусинпушкин бывший тогда попечителем ка...                 177\n",
       "11   я сочувствовал тогда этим шуткам старших и вы...                 175\n",
       "12   помню ещё что я очень молодым читал вольтера ...                 106\n",
       "13  отпадение моё от веры произошло во мне так же ...                 119\n",
       "14   оно как мне кажется происходит в большинстве ...                 444\n",
       "15   если сталкиваешься с ним то только как с внеш...                  80\n",
       "16  по жизни человека по делам его как теперь так ...                  93\n",
       "17   если и есть различие между явно исповедующими...                  98\n",
       "18   как теперь так и тогда явное признание и испо...                 164\n",
       "19   ум же честность прямота добродушие и нравстве...                 115"
      ]
     },
     "execution_count": 16,
     "metadata": {},
     "output_type": "execute_result"
    }
   ],
   "source": [
    "counter = pd.DataFrame(\n",
    "            {'Предложение': counter_words(string_text) , #в качестве индекса само предложение \n",
    "             'Длина предложенией': (list(map(len, counter_words(string_text))))}) #считаем количество знаков \n",
    "\n",
    "counter.head(20)"
   ]
  },
  {
   "cell_type": "code",
   "execution_count": null,
   "id": "1276706a",
   "metadata": {},
   "outputs": [],
   "source": []
  }
 ],
 "metadata": {
  "kernelspec": {
   "display_name": "Python 3 (ipykernel)",
   "language": "python",
   "name": "python3"
  },
  "language_info": {
   "codemirror_mode": {
    "name": "ipython",
    "version": 3
   },
   "file_extension": ".py",
   "mimetype": "text/x-python",
   "name": "python",
   "nbconvert_exporter": "python",
   "pygments_lexer": "ipython3",
   "version": "3.8.10"
  }
 },
 "nbformat": 4,
 "nbformat_minor": 5
}
