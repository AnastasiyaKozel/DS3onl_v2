{
 "cells": [
  {
   "cell_type": "markdown",
   "id": "95c0bddb",
   "metadata": {},
   "source": [
    "- Yaromir Kapustin\n",
    "- ver. 0.1\n",
    "- 25.09.2022"
   ]
  },
  {
   "cell_type": "markdown",
   "id": "84d09582",
   "metadata": {},
   "source": [
    "  ### ДЗ 5\n",
    "  \n",
    "    Есть Алфавит, характеристиками которого являются: \n",
    "    1. Язык\n",
    "    2. Список букв\n",
    "\n",
    "    Для Алфавита можно: \n",
    "    1. Напечатать все буквы алфавита\n",
    "    2. Посчитать количество букв\n",
    "\n",
    "    Так же есть Английский алфавит, который обладает следующими свойствами: \n",
    "    1. Язык\n",
    "    2. Список букв\n",
    "    3. Количество букв\n",
    "\n",
    "    Для Английского алфавита можно: \n",
    "    1. Посчитать количество букв\n",
    "    2. Определить, относится ли буква к английскому алфавиту\n",
    "    3. Получить пример текста на английском языке\n"
   ]
  },
  {
   "cell_type": "markdown",
   "id": "08dffd06",
   "metadata": {},
   "source": [
    "# Класс Alphabet\n",
    "    1. Создайте класс Alphabet\n",
    "    2. Создайте метод __init__(), внутри которого будут определены два динамических свойства: 1) lang - язык и 2) letters - список букв. Начальные значения свойств берутся из входных параметров метода.\n",
    "    3. Создайте метод print(), который выведет в консоль буквы алфавита\n",
    "    4. Создайте метод letters_num(), который вернет количество букв в алфавите\n"
   ]
  },
  {
   "cell_type": "code",
   "execution_count": 323,
   "id": "eb2e00e3",
   "metadata": {},
   "outputs": [],
   "source": [
    "import string #стандартная библиотека содержащая различные манипуляции над строками\n",
    "import random #нужен для получения примера текста"
   ]
  },
  {
   "cell_type": "code",
   "execution_count": 324,
   "id": "e6404940",
   "metadata": {},
   "outputs": [],
   "source": [
    "a = ord('а')\n",
    "ru_alphabet = ''.join([chr(i) for i in range(a,a+32)]) #строка состоящая из символов русского алфавита\n",
    "en_alphabet = string.ascii_lowercase #строка состоящая из символов английского алфавита"
   ]
  },
  {
   "cell_type": "code",
   "execution_count": 325,
   "id": "80e318b2",
   "metadata": {},
   "outputs": [],
   "source": [
    "class Alphabet():\n",
    "    def __init__(self, lang, letters):\n",
    "        self.lang = lang\n",
    "        self.letters = letters\n",
    "        \n",
    "        \n",
    "    def print_alphabet(self):\n",
    "        print(self.letters)\n",
    "\n",
    "        \n",
    "    def letters_num(self):\n",
    "        print(len(self.letters))"
   ]
  },
  {
   "cell_type": "markdown",
   "id": "ae107c44",
   "metadata": {},
   "source": [
    "# Класс EngAlphabet\n",
    "    1. Создайте класс EngAlphabet путем наследования от класса Alphabet\n",
    "    2. Создайте метод __init__(), внутри которого будет вызываться родительский метод __init__(). В качестве параметров ему будут передаваться обозначение языка(например, 'En') и строка, состоящая из всех букв алфавита(можно воспользоваться свойством ascii_uppercase из модуля string).\n",
    "    3. Добавьте приватное статическое свойство __letters_num, которое будет хранить количество букв в алфавите.\n",
    "    4. Создайте метод is_en_letter(), который будет принимать букву в качестве параметра и определять, относится ли эта буква к английскому алфавиту.\n",
    "    5. Переопределите метод letters_num() - пусть в текущем классе классе он будет возвращать значение свойства __letters_num.\n",
    "    6. Создайте статический метод example(), который будет возвращать пример текста на английском языке.\n",
    "\n"
   ]
  },
  {
   "cell_type": "code",
   "execution_count": 326,
   "id": "d276c114",
   "metadata": {},
   "outputs": [],
   "source": [
    "class EngAlphabet(Alphabet):\n",
    "    def __init__(self, lang, letters, letter_input):\n",
    "        super().__init__(lang, letters)\n",
    "        self.letter_input = letter_input\n",
    "        __letters_num = len(self.letters) #статическое свойство класса\n",
    "\n",
    "        \n",
    "    def is_en_letter(self): #метод проверяет существует ли в выбранном алфавите(letters) буква(letter_input)\n",
    "        if self.letters.find(self.letter_input) == -1:\n",
    "            print(\"No \" + self.letter_input + \" here!\")\n",
    "        else:\n",
    "            print(\"Found \" + self.letter_input + \" in the string.\")\n",
    "    \n",
    "    \n",
    "    def letters_num(self): #переопределение метода __letters_num\n",
    "        return len(self.letters)\n",
    "    \n",
    "    \n",
    "    def example(self): #возвращает пример текста на английском языке\n",
    "        return ''.join(random.choice(self.letters) for i in range(100))"
   ]
  },
  {
   "cell_type": "markdown",
   "id": "5a97377a",
   "metadata": {},
   "source": [
    "# Тесты:\n",
    "    1. Создайте объект класса EngAlphabet\n",
    "    2. Напечатайте буквы алфавита для этого объекта\n",
    "    3. Выведите количество букв в алфавите\n",
    "    4. Проверьте, относится ли буква F к английскому алфавиту\n",
    "    5. Проверьте, относится ли буква Щ к английскому алфавиту\n",
    "    6. Выведите пример текста на английском языке\n"
   ]
  },
  {
   "cell_type": "code",
   "execution_count": 327,
   "id": "7a60eab7",
   "metadata": {},
   "outputs": [],
   "source": [
    "test_en = EngAlphabet('en', en_alphabet, '1') #    1. Создайте объект класса EngAlphabet"
   ]
  },
  {
   "cell_type": "code",
   "execution_count": 328,
   "id": "c96b999e",
   "metadata": {},
   "outputs": [
    {
     "name": "stdout",
     "output_type": "stream",
     "text": [
      "abcdefghijklmnopqrstuvwxyz\n"
     ]
    }
   ],
   "source": [
    "test_en.print_alphabet() #     2. Напечатайте буквы алфавита для этого объекта"
   ]
  },
  {
   "cell_type": "code",
   "execution_count": 329,
   "id": "5aba734b",
   "metadata": {},
   "outputs": [
    {
     "data": {
      "text/plain": [
       "26"
      ]
     },
     "execution_count": 329,
     "metadata": {},
     "output_type": "execute_result"
    }
   ],
   "source": [
    "#    3. Выведите количество букв в алфавите\n",
    "test_en.letters_num()"
   ]
  },
  {
   "cell_type": "code",
   "execution_count": 330,
   "id": "de35bed5",
   "metadata": {},
   "outputs": [
    {
     "name": "stdout",
     "output_type": "stream",
     "text": [
      "Found f in the string.\n"
     ]
    }
   ],
   "source": [
    "#    4. Проверьте, относится ли буква F к английскому алфавиту\n",
    "test_en.letter_input = 'f'\n",
    "test_en.is_en_letter()"
   ]
  },
  {
   "cell_type": "code",
   "execution_count": 331,
   "id": "eda6fff0",
   "metadata": {},
   "outputs": [
    {
     "name": "stdout",
     "output_type": "stream",
     "text": [
      "No щ here!\n"
     ]
    }
   ],
   "source": [
    "#    5. Проверьте, относится ли буква Щ к английскому алфавиту\n",
    "test_en.letter_input = 'щ'\n",
    "test_en.is_en_letter()"
   ]
  },
  {
   "cell_type": "code",
   "execution_count": 332,
   "id": "5643c3b1",
   "metadata": {},
   "outputs": [
    {
     "data": {
      "text/plain": [
       "'enxrhjvllesvyjznvbwmrpryhckywgeclrwnvjlbtmqaimbiwzfbegflczyufrzvpabfecsfbgklorrextrblndufsmgteaitvnw'"
      ]
     },
     "execution_count": 332,
     "metadata": {},
     "output_type": "execute_result"
    }
   ],
   "source": [
    "#    6. Выведите пример текста на английском языке\n",
    "test_en.example()"
   ]
  }
 ],
 "metadata": {
  "kernelspec": {
   "display_name": "Python 3 (ipykernel)",
   "language": "python",
   "name": "python3"
  },
  "language_info": {
   "codemirror_mode": {
    "name": "ipython",
    "version": 3
   },
   "file_extension": ".py",
   "mimetype": "text/x-python",
   "name": "python",
   "nbconvert_exporter": "python",
   "pygments_lexer": "ipython3",
   "version": "3.9.12"
  }
 },
 "nbformat": 4,
 "nbformat_minor": 5
}
