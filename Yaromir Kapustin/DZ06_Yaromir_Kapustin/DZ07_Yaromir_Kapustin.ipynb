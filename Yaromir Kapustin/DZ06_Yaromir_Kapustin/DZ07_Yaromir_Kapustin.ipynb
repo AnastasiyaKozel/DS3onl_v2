{
 "cells": [
  {
   "cell_type": "markdown",
   "id": "ffb11b89",
   "metadata": {},
   "source": [
    "* 01.10.2022\n",
    "\n",
    "* ver 0.3\n",
    "\n",
    "* Yaromir Kapustin"
   ]
  },
  {
   "cell_type": "markdown",
   "id": "d5acc238",
   "metadata": {},
   "source": [
    "### Задание\n",
    "- Реализовать с использованием потоков и процессов скачивание файлов из интернета.\n",
    "- Список файлов для скачивания подготовить самостоятельно (например изображений, не менее 100 изображений или других объектов.\n",
    "- Сравнить производительность с последовательным методом. \n",
    "- Сравнивть производительность Thread и multiprocessing решений.\n",
    "- Попробовать подобрать оптимальное число потоков/процессов. \n"
   ]
  },
  {
   "cell_type": "code",
   "execution_count": 2,
   "id": "d2abd109",
   "metadata": {},
   "outputs": [],
   "source": [
    "import time\n",
    "import requests\n",
    "from bs4 import BeautifulSoup\n",
    "import concurrent.futures\n",
    "from threading import Thread\n",
    "from multiprocessing import Pool, cpu_count\n",
    "\n",
    "\n",
    "images = []\n",
    "def get_images_list(): #получаем список с ссылками на изображения\n",
    "    list_url = [\"https://unsplash.com/t/architecture\"] #ресурс с множеством изображений\n",
    "    for url in list_url:\n",
    "        response = requests.get(url) #GET()-запрос на сайт и сохраним полученное в переменную 'response'; 200 или 404\n",
    "        soup = BeautifulSoup(response.text, features=\"html.parser\") #перевод ссылок в html формат\n",
    "        for img in soup.findAll('img'): #поиск изображений\n",
    "            img_src = img.get('src')\n",
    "            if \"images.unsplash.com/photo\" in img_src: #фильтр лишних изображений\n",
    "                images.append(img_src)\n",
    "    return images"
   ]
  },
  {
   "cell_type": "code",
   "execution_count": 3,
   "id": "ad77cfd3",
   "metadata": {},
   "outputs": [
    {
     "data": {
      "text/plain": [
       "['https://images.unsplash.com/photo-1664179532605-64fac359faef?ixlib=rb-1.2.1&ixid=MnwxMjA3fDB8MHxwaG90by1vZi10aGUtZGF5fHx8fGVufDB8fHx8&auto=format%2Ccompress&fit=crop&w=1000&h=1000',\n",
       " 'https://images.unsplash.com/photo-1664310748329-6710c43799a4?ixlib=rb-1.2.1&ixid=MnwxMjA3fDB8MHx0b3BpYy1mZWVkfDF8cm5TS0RId3dZVWt8fGVufDB8fHx8&w=1000&q=80',\n",
       " 'https://images.unsplash.com/photo-1647103328346-c18478009ffa?ixlib=rb-1.2.1&ixid=MnwxMjA3fDB8MHx0b3BpYy1mZWVkfDR8cm5TS0RId3dZVWt8fGVufDB8fHx8&w=1000&q=80',\n",
       " 'https://images.unsplash.com/photo-1664310748328-18b42c1c1725?ixlib=rb-1.2.1&ixid=MnwxMjA3fDB8MHx0b3BpYy1mZWVkfDZ8cm5TS0RId3dZVWt8fGVufDB8fHx8&w=1000&q=80',\n",
       " 'https://images.unsplash.com/photo-1664384922834-c985a9659350?ixlib=rb-1.2.1&ixid=MnwxMjA3fDB8MHx0b3BpYy1mZWVkfDd8cm5TS0RId3dZVWt8fGVufDB8fHx8&w=1000&q=80',\n",
       " 'https://images.unsplash.com/photo-1664189301709-52e9117be13e?ixlib=rb-1.2.1&ixid=MnwxMjA3fDB8MHx0b3BpYy1mZWVkfDl8cm5TS0RId3dZVWt8fGVufDB8fHx8&w=1000&q=80',\n",
       " 'https://images.unsplash.com/photo-1664095682837-aba6a1706e7c?ixlib=rb-1.2.1&ixid=MnwxMjA3fDB8MHx0b3BpYy1mZWVkfDExfHJuU0tESHd3WVVrfHxlbnwwfHx8fA%3D%3D&w=1000&q=80',\n",
       " 'https://images.unsplash.com/photo-1664032338950-ae1c35427e90?ixlib=rb-1.2.1&ixid=MnwxMjA3fDB8MHx0b3BpYy1mZWVkfDEzfHJuU0tESHd3WVVrfHxlbnwwfHx8fA%3D%3D&w=1000&q=80',\n",
       " 'https://images.unsplash.com/photo-1664379489954-2e05688d4238?ixlib=rb-1.2.1&ixid=MnwxMjA3fDB8MHx0b3BpYy1mZWVkfDE1fHJuU0tESHd3WVVrfHxlbnwwfHx8fA%3D%3D&w=1000&q=80',\n",
       " 'https://images.unsplash.com/photo-1656911051485-b49ad9513135?ixlib=rb-1.2.1&ixid=MnwxMjA3fDB8MHx0b3BpYy1mZWVkfDE4fHJuU0tESHd3WVVrfHxlbnwwfHx8fA%3D%3D&w=1000&q=80',\n",
       " 'https://images.unsplash.com/photo-1662738554486-de352a094c48?ixlib=rb-1.2.1&ixid=MnwxMjA3fDB8MHx0b3BpYy1mZWVkfDIwfHJuU0tESHd3WVVrfHxlbnwwfHx8fA%3D%3D&w=1000&q=80',\n",
       " 'https://images.unsplash.com/photo-1664350004839-100ecd5c8aad?ixlib=rb-1.2.1&ixid=MnwxMjA3fDB8MHx0b3BpYy1mZWVkfDJ8cm5TS0RId3dZVWt8fGVufDB8fHx8&w=1000&q=80',\n",
       " 'https://images.unsplash.com/photo-1656911052309-4e1ccc0146f9?ixlib=rb-1.2.1&ixid=MnwxMjA3fDB8MHx0b3BpYy1mZWVkfDN8cm5TS0RId3dZVWt8fGVufDB8fHx8&w=1000&q=80',\n",
       " 'https://images.unsplash.com/photo-1664189489011-e1506632ac3c?ixlib=rb-1.2.1&ixid=MnwxMjA3fDB8MHx0b3BpYy1mZWVkfDV8cm5TS0RId3dZVWt8fGVufDB8fHx8&w=1000&q=80',\n",
       " 'https://images.unsplash.com/photo-1664332184517-9dc41ea0085a?ixlib=rb-1.2.1&ixid=MnwxMjA3fDB8MHx0b3BpYy1mZWVkfDh8cm5TS0RId3dZVWt8fGVufDB8fHx8&w=1000&q=80',\n",
       " 'https://images.unsplash.com/photo-1664179532605-64fac359faef?ixlib=rb-1.2.1&ixid=MnwxMjA3fDB8MHx0b3BpYy1mZWVkfDEwfHJuU0tESHd3WVVrfHxlbnwwfHx8fA%3D%3D&w=1000&q=80',\n",
       " 'https://images.unsplash.com/photo-1664032304991-c029bb4d161d?ixlib=rb-1.2.1&ixid=MnwxMjA3fDB8MHx0b3BpYy1mZWVkfDEyfHJuU0tESHd3WVVrfHxlbnwwfHx8fA%3D%3D&w=1000&q=80',\n",
       " 'https://images.unsplash.com/photo-1664032365338-c7b6e393dda1?ixlib=rb-1.2.1&ixid=MnwxMjA3fDB8MHx0b3BpYy1mZWVkfDE0fHJuU0tESHd3WVVrfHxlbnwwfHx8fA%3D%3D&w=1000&q=80',\n",
       " 'https://images.unsplash.com/photo-1653378972356-223320488772?ixlib=rb-1.2.1&ixid=MnwxMjA3fDB8MHx0b3BpYy1mZWVkfDE2fHJuU0tESHd3WVVrfHxlbnwwfHx8fA%3D%3D&w=1000&q=80',\n",
       " 'https://images.unsplash.com/photo-1656911051433-a2c0fb2985c6?ixlib=rb-1.2.1&ixid=MnwxMjA3fDB8MHx0b3BpYy1mZWVkfDE3fHJuU0tESHd3WVVrfHxlbnwwfHx8fA%3D%3D&w=1000&q=80',\n",
       " 'https://images.unsplash.com/photo-1662541351290-850e45f86838?ixlib=rb-1.2.1&ixid=MnwxMjA3fDB8MHx0b3BpYy1mZWVkfDE5fHJuU0tESHd3WVVrfHxlbnwwfHx8fA%3D%3D&w=1000&q=80',\n",
       " 'https://images.unsplash.com/photo-1664310748329-6710c43799a4?ixlib=rb-1.2.1&ixid=MnwxMjA3fDB8MHx0b3BpYy1mZWVkfDF8cm5TS0RId3dZVWt8fGVufDB8fHx8&w=1000&q=80',\n",
       " 'https://images.unsplash.com/photo-1664189489011-e1506632ac3c?ixlib=rb-1.2.1&ixid=MnwxMjA3fDB8MHx0b3BpYy1mZWVkfDV8cm5TS0RId3dZVWt8fGVufDB8fHx8&w=1000&q=80',\n",
       " 'https://images.unsplash.com/photo-1664189301709-52e9117be13e?ixlib=rb-1.2.1&ixid=MnwxMjA3fDB8MHx0b3BpYy1mZWVkfDl8cm5TS0RId3dZVWt8fGVufDB8fHx8&w=1000&q=80',\n",
       " 'https://images.unsplash.com/photo-1664032304991-c029bb4d161d?ixlib=rb-1.2.1&ixid=MnwxMjA3fDB8MHx0b3BpYy1mZWVkfDEyfHJuU0tESHd3WVVrfHxlbnwwfHx8fA%3D%3D&w=1000&q=80',\n",
       " 'https://images.unsplash.com/photo-1664379489954-2e05688d4238?ixlib=rb-1.2.1&ixid=MnwxMjA3fDB8MHx0b3BpYy1mZWVkfDE1fHJuU0tESHd3WVVrfHxlbnwwfHx8fA%3D%3D&w=1000&q=80',\n",
       " 'https://images.unsplash.com/photo-1656911051485-b49ad9513135?ixlib=rb-1.2.1&ixid=MnwxMjA3fDB8MHx0b3BpYy1mZWVkfDE4fHJuU0tESHd3WVVrfHxlbnwwfHx8fA%3D%3D&w=1000&q=80',\n",
       " 'https://images.unsplash.com/photo-1664350004839-100ecd5c8aad?ixlib=rb-1.2.1&ixid=MnwxMjA3fDB8MHx0b3BpYy1mZWVkfDJ8cm5TS0RId3dZVWt8fGVufDB8fHx8&w=1000&q=80',\n",
       " 'https://images.unsplash.com/photo-1647103328346-c18478009ffa?ixlib=rb-1.2.1&ixid=MnwxMjA3fDB8MHx0b3BpYy1mZWVkfDR8cm5TS0RId3dZVWt8fGVufDB8fHx8&w=1000&q=80',\n",
       " 'https://images.unsplash.com/photo-1664384922834-c985a9659350?ixlib=rb-1.2.1&ixid=MnwxMjA3fDB8MHx0b3BpYy1mZWVkfDd8cm5TS0RId3dZVWt8fGVufDB8fHx8&w=1000&q=80',\n",
       " 'https://images.unsplash.com/photo-1664179532605-64fac359faef?ixlib=rb-1.2.1&ixid=MnwxMjA3fDB8MHx0b3BpYy1mZWVkfDEwfHJuU0tESHd3WVVrfHxlbnwwfHx8fA%3D%3D&w=1000&q=80',\n",
       " 'https://images.unsplash.com/photo-1664032338950-ae1c35427e90?ixlib=rb-1.2.1&ixid=MnwxMjA3fDB8MHx0b3BpYy1mZWVkfDEzfHJuU0tESHd3WVVrfHxlbnwwfHx8fA%3D%3D&w=1000&q=80',\n",
       " 'https://images.unsplash.com/photo-1653378972356-223320488772?ixlib=rb-1.2.1&ixid=MnwxMjA3fDB8MHx0b3BpYy1mZWVkfDE2fHJuU0tESHd3WVVrfHxlbnwwfHx8fA%3D%3D&w=1000&q=80',\n",
       " 'https://images.unsplash.com/photo-1662541351290-850e45f86838?ixlib=rb-1.2.1&ixid=MnwxMjA3fDB8MHx0b3BpYy1mZWVkfDE5fHJuU0tESHd3WVVrfHxlbnwwfHx8fA%3D%3D&w=1000&q=80',\n",
       " 'https://images.unsplash.com/photo-1656911052309-4e1ccc0146f9?ixlib=rb-1.2.1&ixid=MnwxMjA3fDB8MHx0b3BpYy1mZWVkfDN8cm5TS0RId3dZVWt8fGVufDB8fHx8&w=1000&q=80',\n",
       " 'https://images.unsplash.com/photo-1664310748328-18b42c1c1725?ixlib=rb-1.2.1&ixid=MnwxMjA3fDB8MHx0b3BpYy1mZWVkfDZ8cm5TS0RId3dZVWt8fGVufDB8fHx8&w=1000&q=80',\n",
       " 'https://images.unsplash.com/photo-1664332184517-9dc41ea0085a?ixlib=rb-1.2.1&ixid=MnwxMjA3fDB8MHx0b3BpYy1mZWVkfDh8cm5TS0RId3dZVWt8fGVufDB8fHx8&w=1000&q=80',\n",
       " 'https://images.unsplash.com/photo-1664095682837-aba6a1706e7c?ixlib=rb-1.2.1&ixid=MnwxMjA3fDB8MHx0b3BpYy1mZWVkfDExfHJuU0tESHd3WVVrfHxlbnwwfHx8fA%3D%3D&w=1000&q=80',\n",
       " 'https://images.unsplash.com/photo-1664032365338-c7b6e393dda1?ixlib=rb-1.2.1&ixid=MnwxMjA3fDB8MHx0b3BpYy1mZWVkfDE0fHJuU0tESHd3WVVrfHxlbnwwfHx8fA%3D%3D&w=1000&q=80',\n",
       " 'https://images.unsplash.com/photo-1656911051433-a2c0fb2985c6?ixlib=rb-1.2.1&ixid=MnwxMjA3fDB8MHx0b3BpYy1mZWVkfDE3fHJuU0tESHd3WVVrfHxlbnwwfHx8fA%3D%3D&w=1000&q=80',\n",
       " 'https://images.unsplash.com/photo-1662738554486-de352a094c48?ixlib=rb-1.2.1&ixid=MnwxMjA3fDB8MHx0b3BpYy1mZWVkfDIwfHJuU0tESHd3WVVrfHxlbnwwfHx8fA%3D%3D&w=1000&q=80',\n",
       " 'https://images.unsplash.com/photo-1664310748329-6710c43799a4?ixlib=rb-1.2.1&ixid=MnwxMjA3fDB8MHx0b3BpYy1mZWVkfDF8cm5TS0RId3dZVWt8fGVufDB8fHx8&w=1000&q=80',\n",
       " 'https://images.unsplash.com/photo-1664350004839-100ecd5c8aad?ixlib=rb-1.2.1&ixid=MnwxMjA3fDB8MHx0b3BpYy1mZWVkfDJ8cm5TS0RId3dZVWt8fGVufDB8fHx8&w=1000&q=80',\n",
       " 'https://images.unsplash.com/photo-1656911052309-4e1ccc0146f9?ixlib=rb-1.2.1&ixid=MnwxMjA3fDB8MHx0b3BpYy1mZWVkfDN8cm5TS0RId3dZVWt8fGVufDB8fHx8&w=1000&q=80',\n",
       " 'https://images.unsplash.com/photo-1647103328346-c18478009ffa?ixlib=rb-1.2.1&ixid=MnwxMjA3fDB8MHx0b3BpYy1mZWVkfDR8cm5TS0RId3dZVWt8fGVufDB8fHx8&w=1000&q=80',\n",
       " 'https://images.unsplash.com/photo-1664189489011-e1506632ac3c?ixlib=rb-1.2.1&ixid=MnwxMjA3fDB8MHx0b3BpYy1mZWVkfDV8cm5TS0RId3dZVWt8fGVufDB8fHx8&w=1000&q=80',\n",
       " 'https://images.unsplash.com/photo-1664310748328-18b42c1c1725?ixlib=rb-1.2.1&ixid=MnwxMjA3fDB8MHx0b3BpYy1mZWVkfDZ8cm5TS0RId3dZVWt8fGVufDB8fHx8&w=1000&q=80',\n",
       " 'https://images.unsplash.com/photo-1664384922834-c985a9659350?ixlib=rb-1.2.1&ixid=MnwxMjA3fDB8MHx0b3BpYy1mZWVkfDd8cm5TS0RId3dZVWt8fGVufDB8fHx8&w=1000&q=80',\n",
       " 'https://images.unsplash.com/photo-1664332184517-9dc41ea0085a?ixlib=rb-1.2.1&ixid=MnwxMjA3fDB8MHx0b3BpYy1mZWVkfDh8cm5TS0RId3dZVWt8fGVufDB8fHx8&w=1000&q=80',\n",
       " 'https://images.unsplash.com/photo-1664189301709-52e9117be13e?ixlib=rb-1.2.1&ixid=MnwxMjA3fDB8MHx0b3BpYy1mZWVkfDl8cm5TS0RId3dZVWt8fGVufDB8fHx8&w=1000&q=80',\n",
       " 'https://images.unsplash.com/photo-1664179532605-64fac359faef?ixlib=rb-1.2.1&ixid=MnwxMjA3fDB8MHx0b3BpYy1mZWVkfDEwfHJuU0tESHd3WVVrfHxlbnwwfHx8fA%3D%3D&w=1000&q=80',\n",
       " 'https://images.unsplash.com/photo-1664095682837-aba6a1706e7c?ixlib=rb-1.2.1&ixid=MnwxMjA3fDB8MHx0b3BpYy1mZWVkfDExfHJuU0tESHd3WVVrfHxlbnwwfHx8fA%3D%3D&w=1000&q=80',\n",
       " 'https://images.unsplash.com/photo-1664032304991-c029bb4d161d?ixlib=rb-1.2.1&ixid=MnwxMjA3fDB8MHx0b3BpYy1mZWVkfDEyfHJuU0tESHd3WVVrfHxlbnwwfHx8fA%3D%3D&w=1000&q=80',\n",
       " 'https://images.unsplash.com/photo-1664032338950-ae1c35427e90?ixlib=rb-1.2.1&ixid=MnwxMjA3fDB8MHx0b3BpYy1mZWVkfDEzfHJuU0tESHd3WVVrfHxlbnwwfHx8fA%3D%3D&w=1000&q=80',\n",
       " 'https://images.unsplash.com/photo-1664032365338-c7b6e393dda1?ixlib=rb-1.2.1&ixid=MnwxMjA3fDB8MHx0b3BpYy1mZWVkfDE0fHJuU0tESHd3WVVrfHxlbnwwfHx8fA%3D%3D&w=1000&q=80',\n",
       " 'https://images.unsplash.com/photo-1664379489954-2e05688d4238?ixlib=rb-1.2.1&ixid=MnwxMjA3fDB8MHx0b3BpYy1mZWVkfDE1fHJuU0tESHd3WVVrfHxlbnwwfHx8fA%3D%3D&w=1000&q=80',\n",
       " 'https://images.unsplash.com/photo-1653378972356-223320488772?ixlib=rb-1.2.1&ixid=MnwxMjA3fDB8MHx0b3BpYy1mZWVkfDE2fHJuU0tESHd3WVVrfHxlbnwwfHx8fA%3D%3D&w=1000&q=80',\n",
       " 'https://images.unsplash.com/photo-1656911051433-a2c0fb2985c6?ixlib=rb-1.2.1&ixid=MnwxMjA3fDB8MHx0b3BpYy1mZWVkfDE3fHJuU0tESHd3WVVrfHxlbnwwfHx8fA%3D%3D&w=1000&q=80',\n",
       " 'https://images.unsplash.com/photo-1656911051485-b49ad9513135?ixlib=rb-1.2.1&ixid=MnwxMjA3fDB8MHx0b3BpYy1mZWVkfDE4fHJuU0tESHd3WVVrfHxlbnwwfHx8fA%3D%3D&w=1000&q=80',\n",
       " 'https://images.unsplash.com/photo-1662541351290-850e45f86838?ixlib=rb-1.2.1&ixid=MnwxMjA3fDB8MHx0b3BpYy1mZWVkfDE5fHJuU0tESHd3WVVrfHxlbnwwfHx8fA%3D%3D&w=1000&q=80',\n",
       " 'https://images.unsplash.com/photo-1662738554486-de352a094c48?ixlib=rb-1.2.1&ixid=MnwxMjA3fDB8MHx0b3BpYy1mZWVkfDIwfHJuU0tESHd3WVVrfHxlbnwwfHx8fA%3D%3D&w=1000&q=80']"
      ]
     },
     "execution_count": 3,
     "metadata": {},
     "output_type": "execute_result"
    }
   ],
   "source": [
    "get_images_list()"
   ]
  },
  {
   "cell_type": "code",
   "execution_count": 3,
   "id": "0cddcb31",
   "metadata": {},
   "outputs": [
    {
     "data": {
      "text/plain": [
       "61"
      ]
     },
     "execution_count": 3,
     "metadata": {},
     "output_type": "execute_result"
    }
   ],
   "source": [
    "len(images) #кол-во ссылок"
   ]
  },
  {
   "cell_type": "code",
   "execution_count": 9,
   "id": "85a58cf0",
   "metadata": {},
   "outputs": [],
   "source": [
    "def sequential_method(): #применение последовательного метода\n",
    "    start = time.time()\n",
    "    for image in images:\n",
    "        response = requests.get(image)\n",
    "        print(image, response.status_code)\n",
    "    end = time.time()\n",
    "    print(end - start)"
   ]
  },
  {
   "cell_type": "code",
   "execution_count": 10,
   "id": "b6fac5b3",
   "metadata": {},
   "outputs": [
    {
     "name": "stdout",
     "output_type": "stream",
     "text": [
      "https://images.unsplash.com/photo-1664179532605-64fac359faef?ixlib=rb-1.2.1&ixid=MnwxMjA3fDB8MHxwaG90by1vZi10aGUtZGF5fHx8fGVufDB8fHx8&auto=format%2Ccompress&fit=crop&w=1000&h=1000 200\n",
      "https://images.unsplash.com/photo-1664310748329-6710c43799a4?ixlib=rb-1.2.1&ixid=MnwxMjA3fDB8MHx0b3BpYy1mZWVkfDF8cm5TS0RId3dZVWt8fGVufDB8fHx8&w=1000&q=80 200\n",
      "https://images.unsplash.com/photo-1647103328346-c18478009ffa?ixlib=rb-1.2.1&ixid=MnwxMjA3fDB8MHx0b3BpYy1mZWVkfDR8cm5TS0RId3dZVWt8fGVufDB8fHx8&w=1000&q=80 200\n",
      "https://images.unsplash.com/photo-1664310748328-18b42c1c1725?ixlib=rb-1.2.1&ixid=MnwxMjA3fDB8MHx0b3BpYy1mZWVkfDZ8cm5TS0RId3dZVWt8fGVufDB8fHx8&w=1000&q=80 200\n",
      "https://images.unsplash.com/photo-1664384922834-c985a9659350?ixlib=rb-1.2.1&ixid=MnwxMjA3fDB8MHx0b3BpYy1mZWVkfDd8cm5TS0RId3dZVWt8fGVufDB8fHx8&w=1000&q=80 200\n",
      "https://images.unsplash.com/photo-1664189301709-52e9117be13e?ixlib=rb-1.2.1&ixid=MnwxMjA3fDB8MHx0b3BpYy1mZWVkfDl8cm5TS0RId3dZVWt8fGVufDB8fHx8&w=1000&q=80 200\n",
      "https://images.unsplash.com/photo-1664095682837-aba6a1706e7c?ixlib=rb-1.2.1&ixid=MnwxMjA3fDB8MHx0b3BpYy1mZWVkfDExfHJuU0tESHd3WVVrfHxlbnwwfHx8fA%3D%3D&w=1000&q=80 200\n",
      "https://images.unsplash.com/photo-1664032338950-ae1c35427e90?ixlib=rb-1.2.1&ixid=MnwxMjA3fDB8MHx0b3BpYy1mZWVkfDEzfHJuU0tESHd3WVVrfHxlbnwwfHx8fA%3D%3D&w=1000&q=80 200\n",
      "https://images.unsplash.com/photo-1664379489954-2e05688d4238?ixlib=rb-1.2.1&ixid=MnwxMjA3fDB8MHx0b3BpYy1mZWVkfDE1fHJuU0tESHd3WVVrfHxlbnwwfHx8fA%3D%3D&w=1000&q=80 200\n",
      "https://images.unsplash.com/photo-1656911051485-b49ad9513135?ixlib=rb-1.2.1&ixid=MnwxMjA3fDB8MHx0b3BpYy1mZWVkfDE4fHJuU0tESHd3WVVrfHxlbnwwfHx8fA%3D%3D&w=1000&q=80 200\n",
      "https://images.unsplash.com/photo-1662738554486-de352a094c48?ixlib=rb-1.2.1&ixid=MnwxMjA3fDB8MHx0b3BpYy1mZWVkfDIwfHJuU0tESHd3WVVrfHxlbnwwfHx8fA%3D%3D&w=1000&q=80 200\n",
      "https://images.unsplash.com/photo-1664350004839-100ecd5c8aad?ixlib=rb-1.2.1&ixid=MnwxMjA3fDB8MHx0b3BpYy1mZWVkfDJ8cm5TS0RId3dZVWt8fGVufDB8fHx8&w=1000&q=80 200\n",
      "https://images.unsplash.com/photo-1656911052309-4e1ccc0146f9?ixlib=rb-1.2.1&ixid=MnwxMjA3fDB8MHx0b3BpYy1mZWVkfDN8cm5TS0RId3dZVWt8fGVufDB8fHx8&w=1000&q=80 200\n",
      "https://images.unsplash.com/photo-1664189489011-e1506632ac3c?ixlib=rb-1.2.1&ixid=MnwxMjA3fDB8MHx0b3BpYy1mZWVkfDV8cm5TS0RId3dZVWt8fGVufDB8fHx8&w=1000&q=80 200\n",
      "https://images.unsplash.com/photo-1664332184517-9dc41ea0085a?ixlib=rb-1.2.1&ixid=MnwxMjA3fDB8MHx0b3BpYy1mZWVkfDh8cm5TS0RId3dZVWt8fGVufDB8fHx8&w=1000&q=80 200\n",
      "https://images.unsplash.com/photo-1664179532605-64fac359faef?ixlib=rb-1.2.1&ixid=MnwxMjA3fDB8MHx0b3BpYy1mZWVkfDEwfHJuU0tESHd3WVVrfHxlbnwwfHx8fA%3D%3D&w=1000&q=80 200\n",
      "https://images.unsplash.com/photo-1664032304991-c029bb4d161d?ixlib=rb-1.2.1&ixid=MnwxMjA3fDB8MHx0b3BpYy1mZWVkfDEyfHJuU0tESHd3WVVrfHxlbnwwfHx8fA%3D%3D&w=1000&q=80 200\n",
      "https://images.unsplash.com/photo-1664032365338-c7b6e393dda1?ixlib=rb-1.2.1&ixid=MnwxMjA3fDB8MHx0b3BpYy1mZWVkfDE0fHJuU0tESHd3WVVrfHxlbnwwfHx8fA%3D%3D&w=1000&q=80 200\n",
      "https://images.unsplash.com/photo-1653378972356-223320488772?ixlib=rb-1.2.1&ixid=MnwxMjA3fDB8MHx0b3BpYy1mZWVkfDE2fHJuU0tESHd3WVVrfHxlbnwwfHx8fA%3D%3D&w=1000&q=80 200\n",
      "https://images.unsplash.com/photo-1656911051433-a2c0fb2985c6?ixlib=rb-1.2.1&ixid=MnwxMjA3fDB8MHx0b3BpYy1mZWVkfDE3fHJuU0tESHd3WVVrfHxlbnwwfHx8fA%3D%3D&w=1000&q=80 200\n",
      "https://images.unsplash.com/photo-1662541351290-850e45f86838?ixlib=rb-1.2.1&ixid=MnwxMjA3fDB8MHx0b3BpYy1mZWVkfDE5fHJuU0tESHd3WVVrfHxlbnwwfHx8fA%3D%3D&w=1000&q=80 200\n",
      "https://images.unsplash.com/photo-1664310748329-6710c43799a4?ixlib=rb-1.2.1&ixid=MnwxMjA3fDB8MHx0b3BpYy1mZWVkfDF8cm5TS0RId3dZVWt8fGVufDB8fHx8&w=1000&q=80 200\n",
      "https://images.unsplash.com/photo-1664189489011-e1506632ac3c?ixlib=rb-1.2.1&ixid=MnwxMjA3fDB8MHx0b3BpYy1mZWVkfDV8cm5TS0RId3dZVWt8fGVufDB8fHx8&w=1000&q=80 200\n",
      "https://images.unsplash.com/photo-1664189301709-52e9117be13e?ixlib=rb-1.2.1&ixid=MnwxMjA3fDB8MHx0b3BpYy1mZWVkfDl8cm5TS0RId3dZVWt8fGVufDB8fHx8&w=1000&q=80 200\n",
      "https://images.unsplash.com/photo-1664032304991-c029bb4d161d?ixlib=rb-1.2.1&ixid=MnwxMjA3fDB8MHx0b3BpYy1mZWVkfDEyfHJuU0tESHd3WVVrfHxlbnwwfHx8fA%3D%3D&w=1000&q=80 200\n",
      "https://images.unsplash.com/photo-1664379489954-2e05688d4238?ixlib=rb-1.2.1&ixid=MnwxMjA3fDB8MHx0b3BpYy1mZWVkfDE1fHJuU0tESHd3WVVrfHxlbnwwfHx8fA%3D%3D&w=1000&q=80 200\n",
      "https://images.unsplash.com/photo-1656911051485-b49ad9513135?ixlib=rb-1.2.1&ixid=MnwxMjA3fDB8MHx0b3BpYy1mZWVkfDE4fHJuU0tESHd3WVVrfHxlbnwwfHx8fA%3D%3D&w=1000&q=80 200\n",
      "https://images.unsplash.com/photo-1664350004839-100ecd5c8aad?ixlib=rb-1.2.1&ixid=MnwxMjA3fDB8MHx0b3BpYy1mZWVkfDJ8cm5TS0RId3dZVWt8fGVufDB8fHx8&w=1000&q=80 200\n",
      "https://images.unsplash.com/photo-1647103328346-c18478009ffa?ixlib=rb-1.2.1&ixid=MnwxMjA3fDB8MHx0b3BpYy1mZWVkfDR8cm5TS0RId3dZVWt8fGVufDB8fHx8&w=1000&q=80 200\n",
      "https://images.unsplash.com/photo-1664384922834-c985a9659350?ixlib=rb-1.2.1&ixid=MnwxMjA3fDB8MHx0b3BpYy1mZWVkfDd8cm5TS0RId3dZVWt8fGVufDB8fHx8&w=1000&q=80 200\n",
      "https://images.unsplash.com/photo-1664179532605-64fac359faef?ixlib=rb-1.2.1&ixid=MnwxMjA3fDB8MHx0b3BpYy1mZWVkfDEwfHJuU0tESHd3WVVrfHxlbnwwfHx8fA%3D%3D&w=1000&q=80 200\n",
      "https://images.unsplash.com/photo-1664032338950-ae1c35427e90?ixlib=rb-1.2.1&ixid=MnwxMjA3fDB8MHx0b3BpYy1mZWVkfDEzfHJuU0tESHd3WVVrfHxlbnwwfHx8fA%3D%3D&w=1000&q=80 200\n",
      "https://images.unsplash.com/photo-1653378972356-223320488772?ixlib=rb-1.2.1&ixid=MnwxMjA3fDB8MHx0b3BpYy1mZWVkfDE2fHJuU0tESHd3WVVrfHxlbnwwfHx8fA%3D%3D&w=1000&q=80 200\n",
      "https://images.unsplash.com/photo-1662541351290-850e45f86838?ixlib=rb-1.2.1&ixid=MnwxMjA3fDB8MHx0b3BpYy1mZWVkfDE5fHJuU0tESHd3WVVrfHxlbnwwfHx8fA%3D%3D&w=1000&q=80 200\n",
      "https://images.unsplash.com/photo-1656911052309-4e1ccc0146f9?ixlib=rb-1.2.1&ixid=MnwxMjA3fDB8MHx0b3BpYy1mZWVkfDN8cm5TS0RId3dZVWt8fGVufDB8fHx8&w=1000&q=80 200\n",
      "https://images.unsplash.com/photo-1664310748328-18b42c1c1725?ixlib=rb-1.2.1&ixid=MnwxMjA3fDB8MHx0b3BpYy1mZWVkfDZ8cm5TS0RId3dZVWt8fGVufDB8fHx8&w=1000&q=80 200\n",
      "https://images.unsplash.com/photo-1664332184517-9dc41ea0085a?ixlib=rb-1.2.1&ixid=MnwxMjA3fDB8MHx0b3BpYy1mZWVkfDh8cm5TS0RId3dZVWt8fGVufDB8fHx8&w=1000&q=80 200\n",
      "https://images.unsplash.com/photo-1664095682837-aba6a1706e7c?ixlib=rb-1.2.1&ixid=MnwxMjA3fDB8MHx0b3BpYy1mZWVkfDExfHJuU0tESHd3WVVrfHxlbnwwfHx8fA%3D%3D&w=1000&q=80 200\n",
      "https://images.unsplash.com/photo-1664032365338-c7b6e393dda1?ixlib=rb-1.2.1&ixid=MnwxMjA3fDB8MHx0b3BpYy1mZWVkfDE0fHJuU0tESHd3WVVrfHxlbnwwfHx8fA%3D%3D&w=1000&q=80 200\n",
      "https://images.unsplash.com/photo-1656911051433-a2c0fb2985c6?ixlib=rb-1.2.1&ixid=MnwxMjA3fDB8MHx0b3BpYy1mZWVkfDE3fHJuU0tESHd3WVVrfHxlbnwwfHx8fA%3D%3D&w=1000&q=80 200\n",
      "https://images.unsplash.com/photo-1662738554486-de352a094c48?ixlib=rb-1.2.1&ixid=MnwxMjA3fDB8MHx0b3BpYy1mZWVkfDIwfHJuU0tESHd3WVVrfHxlbnwwfHx8fA%3D%3D&w=1000&q=80 200\n",
      "https://images.unsplash.com/photo-1664310748329-6710c43799a4?ixlib=rb-1.2.1&ixid=MnwxMjA3fDB8MHx0b3BpYy1mZWVkfDF8cm5TS0RId3dZVWt8fGVufDB8fHx8&w=1000&q=80 200\n",
      "https://images.unsplash.com/photo-1664350004839-100ecd5c8aad?ixlib=rb-1.2.1&ixid=MnwxMjA3fDB8MHx0b3BpYy1mZWVkfDJ8cm5TS0RId3dZVWt8fGVufDB8fHx8&w=1000&q=80 200\n",
      "https://images.unsplash.com/photo-1656911052309-4e1ccc0146f9?ixlib=rb-1.2.1&ixid=MnwxMjA3fDB8MHx0b3BpYy1mZWVkfDN8cm5TS0RId3dZVWt8fGVufDB8fHx8&w=1000&q=80 200\n",
      "https://images.unsplash.com/photo-1647103328346-c18478009ffa?ixlib=rb-1.2.1&ixid=MnwxMjA3fDB8MHx0b3BpYy1mZWVkfDR8cm5TS0RId3dZVWt8fGVufDB8fHx8&w=1000&q=80 200\n",
      "https://images.unsplash.com/photo-1664189489011-e1506632ac3c?ixlib=rb-1.2.1&ixid=MnwxMjA3fDB8MHx0b3BpYy1mZWVkfDV8cm5TS0RId3dZVWt8fGVufDB8fHx8&w=1000&q=80 200\n",
      "https://images.unsplash.com/photo-1664310748328-18b42c1c1725?ixlib=rb-1.2.1&ixid=MnwxMjA3fDB8MHx0b3BpYy1mZWVkfDZ8cm5TS0RId3dZVWt8fGVufDB8fHx8&w=1000&q=80 200\n",
      "https://images.unsplash.com/photo-1664384922834-c985a9659350?ixlib=rb-1.2.1&ixid=MnwxMjA3fDB8MHx0b3BpYy1mZWVkfDd8cm5TS0RId3dZVWt8fGVufDB8fHx8&w=1000&q=80 200\n",
      "https://images.unsplash.com/photo-1664332184517-9dc41ea0085a?ixlib=rb-1.2.1&ixid=MnwxMjA3fDB8MHx0b3BpYy1mZWVkfDh8cm5TS0RId3dZVWt8fGVufDB8fHx8&w=1000&q=80 200\n",
      "https://images.unsplash.com/photo-1664189301709-52e9117be13e?ixlib=rb-1.2.1&ixid=MnwxMjA3fDB8MHx0b3BpYy1mZWVkfDl8cm5TS0RId3dZVWt8fGVufDB8fHx8&w=1000&q=80 200\n",
      "https://images.unsplash.com/photo-1664179532605-64fac359faef?ixlib=rb-1.2.1&ixid=MnwxMjA3fDB8MHx0b3BpYy1mZWVkfDEwfHJuU0tESHd3WVVrfHxlbnwwfHx8fA%3D%3D&w=1000&q=80 200\n",
      "https://images.unsplash.com/photo-1664095682837-aba6a1706e7c?ixlib=rb-1.2.1&ixid=MnwxMjA3fDB8MHx0b3BpYy1mZWVkfDExfHJuU0tESHd3WVVrfHxlbnwwfHx8fA%3D%3D&w=1000&q=80 200\n",
      "https://images.unsplash.com/photo-1664032304991-c029bb4d161d?ixlib=rb-1.2.1&ixid=MnwxMjA3fDB8MHx0b3BpYy1mZWVkfDEyfHJuU0tESHd3WVVrfHxlbnwwfHx8fA%3D%3D&w=1000&q=80 200\n",
      "https://images.unsplash.com/photo-1664032338950-ae1c35427e90?ixlib=rb-1.2.1&ixid=MnwxMjA3fDB8MHx0b3BpYy1mZWVkfDEzfHJuU0tESHd3WVVrfHxlbnwwfHx8fA%3D%3D&w=1000&q=80 200\n",
      "https://images.unsplash.com/photo-1664032365338-c7b6e393dda1?ixlib=rb-1.2.1&ixid=MnwxMjA3fDB8MHx0b3BpYy1mZWVkfDE0fHJuU0tESHd3WVVrfHxlbnwwfHx8fA%3D%3D&w=1000&q=80 200\n",
      "https://images.unsplash.com/photo-1664379489954-2e05688d4238?ixlib=rb-1.2.1&ixid=MnwxMjA3fDB8MHx0b3BpYy1mZWVkfDE1fHJuU0tESHd3WVVrfHxlbnwwfHx8fA%3D%3D&w=1000&q=80 200\n",
      "https://images.unsplash.com/photo-1653378972356-223320488772?ixlib=rb-1.2.1&ixid=MnwxMjA3fDB8MHx0b3BpYy1mZWVkfDE2fHJuU0tESHd3WVVrfHxlbnwwfHx8fA%3D%3D&w=1000&q=80 200\n",
      "https://images.unsplash.com/photo-1656911051433-a2c0fb2985c6?ixlib=rb-1.2.1&ixid=MnwxMjA3fDB8MHx0b3BpYy1mZWVkfDE3fHJuU0tESHd3WVVrfHxlbnwwfHx8fA%3D%3D&w=1000&q=80 200\n",
      "https://images.unsplash.com/photo-1656911051485-b49ad9513135?ixlib=rb-1.2.1&ixid=MnwxMjA3fDB8MHx0b3BpYy1mZWVkfDE4fHJuU0tESHd3WVVrfHxlbnwwfHx8fA%3D%3D&w=1000&q=80 200\n",
      "https://images.unsplash.com/photo-1662541351290-850e45f86838?ixlib=rb-1.2.1&ixid=MnwxMjA3fDB8MHx0b3BpYy1mZWVkfDE5fHJuU0tESHd3WVVrfHxlbnwwfHx8fA%3D%3D&w=1000&q=80 200\n",
      "https://images.unsplash.com/photo-1662738554486-de352a094c48?ixlib=rb-1.2.1&ixid=MnwxMjA3fDB8MHx0b3BpYy1mZWVkfDIwfHJuU0tESHd3WVVrfHxlbnwwfHx8fA%3D%3D&w=1000&q=80 200\n",
      "279.08592224121094\n"
     ]
    }
   ],
   "source": [
    "sequential_method()"
   ]
  },
  {
   "cell_type": "markdown",
   "id": "714e8dd8",
   "metadata": {},
   "source": [
    "> Выполнение последовательного метода заняло 279 сек"
   ]
  },
  {
   "cell_type": "code",
   "execution_count": 4,
   "id": "a5044bf8",
   "metadata": {},
   "outputs": [],
   "source": [
    "def get_status(image): #функция получения статуса изображения для передачи в метод\n",
    "    response = requests.get(image, verify=False) #Отключение верификации ускорило выполнение алгоритма!\n",
    "    return image"
   ]
  },
  {
   "cell_type": "code",
   "execution_count": 4,
   "id": "33b05be2",
   "metadata": {},
   "outputs": [],
   "source": [
    "def threadpoolexecutor_method():\n",
    "    start = time.time()\n",
    "    with concurrent.futures.ThreadPoolExecutor(max_workers=16) as executor:\n",
    "        future_to_url = {executor.submit(get_status, image): image for image in images}\n",
    "        for future in concurrent.futures.as_completed(future_to_url):\n",
    "            url = future_to_url[future]\n",
    "            print(future.result())\n",
    "    end = time.time()\n",
    "    print(end - start)"
   ]
  },
  {
   "cell_type": "code",
   "execution_count": 5,
   "id": "b88964f1",
   "metadata": {},
   "outputs": [
    {
     "name": "stderr",
     "output_type": "stream",
     "text": [
      "C:\\conda\\lib\\site-packages\\urllib3\\connectionpool.py:1043: InsecureRequestWarning: Unverified HTTPS request is being made to host 'images.unsplash.com'. Adding certificate verification is strongly advised. See: https://urllib3.readthedocs.io/en/1.26.x/advanced-usage.html#ssl-warnings\n",
      "  warnings.warn(\n",
      "C:\\conda\\lib\\site-packages\\urllib3\\connectionpool.py:1043: InsecureRequestWarning: Unverified HTTPS request is being made to host 'images.unsplash.com'. Adding certificate verification is strongly advised. See: https://urllib3.readthedocs.io/en/1.26.x/advanced-usage.html#ssl-warnings\n",
      "  warnings.warn(\n",
      "C:\\conda\\lib\\site-packages\\urllib3\\connectionpool.py:1043: InsecureRequestWarning: Unverified HTTPS request is being made to host 'images.unsplash.com'. Adding certificate verification is strongly advised. See: https://urllib3.readthedocs.io/en/1.26.x/advanced-usage.html#ssl-warnings\n",
      "  warnings.warn(\n",
      "C:\\conda\\lib\\site-packages\\urllib3\\connectionpool.py:1043: InsecureRequestWarning: Unverified HTTPS request is being made to host 'images.unsplash.com'. Adding certificate verification is strongly advised. See: https://urllib3.readthedocs.io/en/1.26.x/advanced-usage.html#ssl-warnings\n",
      "  warnings.warn(\n",
      "C:\\conda\\lib\\site-packages\\urllib3\\connectionpool.py:1043: InsecureRequestWarning: Unverified HTTPS request is being made to host 'images.unsplash.com'. Adding certificate verification is strongly advised. See: https://urllib3.readthedocs.io/en/1.26.x/advanced-usage.html#ssl-warnings\n",
      "  warnings.warn(\n",
      "C:\\conda\\lib\\site-packages\\urllib3\\connectionpool.py:1043: InsecureRequestWarning: Unverified HTTPS request is being made to host 'images.unsplash.com'. Adding certificate verification is strongly advised. See: https://urllib3.readthedocs.io/en/1.26.x/advanced-usage.html#ssl-warnings\n",
      "  warnings.warn(\n",
      "C:\\conda\\lib\\site-packages\\urllib3\\connectionpool.py:1043: InsecureRequestWarning: Unverified HTTPS request is being made to host 'images.unsplash.com'. Adding certificate verification is strongly advised. See: https://urllib3.readthedocs.io/en/1.26.x/advanced-usage.html#ssl-warnings\n",
      "  warnings.warn(\n",
      "C:\\conda\\lib\\site-packages\\urllib3\\connectionpool.py:1043: InsecureRequestWarning: Unverified HTTPS request is being made to host 'images.unsplash.com'. Adding certificate verification is strongly advised. See: https://urllib3.readthedocs.io/en/1.26.x/advanced-usage.html#ssl-warnings\n",
      "  warnings.warn(\n",
      "C:\\conda\\lib\\site-packages\\urllib3\\connectionpool.py:1043: InsecureRequestWarning: Unverified HTTPS request is being made to host 'images.unsplash.com'. Adding certificate verification is strongly advised. See: https://urllib3.readthedocs.io/en/1.26.x/advanced-usage.html#ssl-warnings\n",
      "  warnings.warn(\n",
      "C:\\conda\\lib\\site-packages\\urllib3\\connectionpool.py:1043: InsecureRequestWarning: Unverified HTTPS request is being made to host 'images.unsplash.com'. Adding certificate verification is strongly advised. See: https://urllib3.readthedocs.io/en/1.26.x/advanced-usage.html#ssl-warnings\n",
      "  warnings.warn(\n",
      "C:\\conda\\lib\\site-packages\\urllib3\\connectionpool.py:1043: InsecureRequestWarning: Unverified HTTPS request is being made to host 'images.unsplash.com'. Adding certificate verification is strongly advised. See: https://urllib3.readthedocs.io/en/1.26.x/advanced-usage.html#ssl-warnings\n",
      "  warnings.warn(\n",
      "C:\\conda\\lib\\site-packages\\urllib3\\connectionpool.py:1043: InsecureRequestWarning: Unverified HTTPS request is being made to host 'images.unsplash.com'. Adding certificate verification is strongly advised. See: https://urllib3.readthedocs.io/en/1.26.x/advanced-usage.html#ssl-warnings\n",
      "  warnings.warn(\n",
      "C:\\conda\\lib\\site-packages\\urllib3\\connectionpool.py:1043: InsecureRequestWarning: Unverified HTTPS request is being made to host 'images.unsplash.com'. Adding certificate verification is strongly advised. See: https://urllib3.readthedocs.io/en/1.26.x/advanced-usage.html#ssl-warnings\n",
      "  warnings.warn(\n",
      "C:\\conda\\lib\\site-packages\\urllib3\\connectionpool.py:1043: InsecureRequestWarning: Unverified HTTPS request is being made to host 'images.unsplash.com'. Adding certificate verification is strongly advised. See: https://urllib3.readthedocs.io/en/1.26.x/advanced-usage.html#ssl-warnings\n",
      "  warnings.warn(\n",
      "C:\\conda\\lib\\site-packages\\urllib3\\connectionpool.py:1043: InsecureRequestWarning: Unverified HTTPS request is being made to host 'images.unsplash.com'. Adding certificate verification is strongly advised. See: https://urllib3.readthedocs.io/en/1.26.x/advanced-usage.html#ssl-warnings\n",
      "  warnings.warn(\n",
      "C:\\conda\\lib\\site-packages\\urllib3\\connectionpool.py:1043: InsecureRequestWarning: Unverified HTTPS request is being made to host 'images.unsplash.com'. Adding certificate verification is strongly advised. See: https://urllib3.readthedocs.io/en/1.26.x/advanced-usage.html#ssl-warnings\n",
      "  warnings.warn(\n"
     ]
    },
    {
     "name": "stdout",
     "output_type": "stream",
     "text": [
      "https://images.unsplash.com/photo-1664310748328-18b42c1c1725?ixlib=rb-1.2.1&ixid=MnwxMjA3fDB8MHx0b3BpYy1mZWVkfDZ8cm5TS0RId3dZVWt8fGVufDB8fHx8&w=1000&q=80\n",
      "https://images.unsplash.com/photo-1664179532605-64fac359faef?ixlib=rb-1.2.1&ixid=MnwxMjA3fDB8MHxwaG90by1vZi10aGUtZGF5fHx8fGVufDB8fHx8&auto=format%2Ccompress&fit=crop&w=1000&h=1000\n",
      "https://images.unsplash.com/photo-1664384922834-c985a9659350?ixlib=rb-1.2.1&ixid=MnwxMjA3fDB8MHx0b3BpYy1mZWVkfDd8cm5TS0RId3dZVWt8fGVufDB8fHx8&w=1000&q=80\n"
     ]
    },
    {
     "name": "stderr",
     "output_type": "stream",
     "text": [
      "C:\\conda\\lib\\site-packages\\urllib3\\connectionpool.py:1043: InsecureRequestWarning: Unverified HTTPS request is being made to host 'images.unsplash.com'. Adding certificate verification is strongly advised. See: https://urllib3.readthedocs.io/en/1.26.x/advanced-usage.html#ssl-warnings\n",
      "  warnings.warn(\n",
      "C:\\conda\\lib\\site-packages\\urllib3\\connectionpool.py:1043: InsecureRequestWarning: Unverified HTTPS request is being made to host 'images.unsplash.com'. Adding certificate verification is strongly advised. See: https://urllib3.readthedocs.io/en/1.26.x/advanced-usage.html#ssl-warnings\n",
      "  warnings.warn(\n"
     ]
    },
    {
     "name": "stdout",
     "output_type": "stream",
     "text": [
      "https://images.unsplash.com/photo-1664310748329-6710c43799a4?ixlib=rb-1.2.1&ixid=MnwxMjA3fDB8MHx0b3BpYy1mZWVkfDF8cm5TS0RId3dZVWt8fGVufDB8fHx8&w=1000&q=80\n"
     ]
    },
    {
     "name": "stderr",
     "output_type": "stream",
     "text": [
      "C:\\conda\\lib\\site-packages\\urllib3\\connectionpool.py:1043: InsecureRequestWarning: Unverified HTTPS request is being made to host 'images.unsplash.com'. Adding certificate verification is strongly advised. See: https://urllib3.readthedocs.io/en/1.26.x/advanced-usage.html#ssl-warnings\n",
      "  warnings.warn(\n"
     ]
    },
    {
     "name": "stdout",
     "output_type": "stream",
     "text": [
      "https://images.unsplash.com/photo-1664379489954-2e05688d4238?ixlib=rb-1.2.1&ixid=MnwxMjA3fDB8MHx0b3BpYy1mZWVkfDE1fHJuU0tESHd3WVVrfHxlbnwwfHx8fA%3D%3D&w=1000&q=80\n"
     ]
    },
    {
     "name": "stderr",
     "output_type": "stream",
     "text": [
      "C:\\conda\\lib\\site-packages\\urllib3\\connectionpool.py:1043: InsecureRequestWarning: Unverified HTTPS request is being made to host 'images.unsplash.com'. Adding certificate verification is strongly advised. See: https://urllib3.readthedocs.io/en/1.26.x/advanced-usage.html#ssl-warnings\n",
      "  warnings.warn(\n"
     ]
    },
    {
     "name": "stdout",
     "output_type": "stream",
     "text": [
      "https://images.unsplash.com/photo-1664032365338-c7b6e393dda1?ixlib=rb-1.2.1&ixid=MnwxMjA3fDB8MHx0b3BpYy1mZWVkfDE0fHJuU0tESHd3WVVrfHxlbnwwfHx8fA%3D%3D&w=1000&q=80\n",
      "https://images.unsplash.com/photo-1664189301709-52e9117be13e?ixlib=rb-1.2.1&ixid=MnwxMjA3fDB8MHx0b3BpYy1mZWVkfDl8cm5TS0RId3dZVWt8fGVufDB8fHx8&w=1000&q=80\n",
      "https://images.unsplash.com/photo-1664350004839-100ecd5c8aad?ixlib=rb-1.2.1&ixid=MnwxMjA3fDB8MHx0b3BpYy1mZWVkfDJ8cm5TS0RId3dZVWt8fGVufDB8fHx8&w=1000&q=80\n",
      "https://images.unsplash.com/photo-1653378972356-223320488772?ixlib=rb-1.2.1&ixid=MnwxMjA3fDB8MHx0b3BpYy1mZWVkfDE2fHJuU0tESHd3WVVrfHxlbnwwfHx8fA%3D%3D&w=1000&q=80\n"
     ]
    },
    {
     "name": "stderr",
     "output_type": "stream",
     "text": [
      "C:\\conda\\lib\\site-packages\\urllib3\\connectionpool.py:1043: InsecureRequestWarning: Unverified HTTPS request is being made to host 'images.unsplash.com'. Adding certificate verification is strongly advised. See: https://urllib3.readthedocs.io/en/1.26.x/advanced-usage.html#ssl-warnings\n",
      "  warnings.warn(\n",
      "C:\\conda\\lib\\site-packages\\urllib3\\connectionpool.py:1043: InsecureRequestWarning: Unverified HTTPS request is being made to host 'images.unsplash.com'. Adding certificate verification is strongly advised. See: https://urllib3.readthedocs.io/en/1.26.x/advanced-usage.html#ssl-warnings\n",
      "  warnings.warn(\n",
      "C:\\conda\\lib\\site-packages\\urllib3\\connectionpool.py:1043: InsecureRequestWarning: Unverified HTTPS request is being made to host 'images.unsplash.com'. Adding certificate verification is strongly advised. See: https://urllib3.readthedocs.io/en/1.26.x/advanced-usage.html#ssl-warnings\n",
      "  warnings.warn(\n"
     ]
    },
    {
     "name": "stdout",
     "output_type": "stream",
     "text": [
      "https://images.unsplash.com/photo-1656911052309-4e1ccc0146f9?ixlib=rb-1.2.1&ixid=MnwxMjA3fDB8MHx0b3BpYy1mZWVkfDN8cm5TS0RId3dZVWt8fGVufDB8fHx8&w=1000&q=80\n"
     ]
    },
    {
     "name": "stderr",
     "output_type": "stream",
     "text": [
      "C:\\conda\\lib\\site-packages\\urllib3\\connectionpool.py:1043: InsecureRequestWarning: Unverified HTTPS request is being made to host 'images.unsplash.com'. Adding certificate verification is strongly advised. See: https://urllib3.readthedocs.io/en/1.26.x/advanced-usage.html#ssl-warnings\n",
      "  warnings.warn(\n"
     ]
    },
    {
     "name": "stdout",
     "output_type": "stream",
     "text": [
      "https://images.unsplash.com/photo-1656911051485-b49ad9513135?ixlib=rb-1.2.1&ixid=MnwxMjA3fDB8MHx0b3BpYy1mZWVkfDE4fHJuU0tESHd3WVVrfHxlbnwwfHx8fA%3D%3D&w=1000&q=80\n"
     ]
    },
    {
     "name": "stderr",
     "output_type": "stream",
     "text": [
      "C:\\conda\\lib\\site-packages\\urllib3\\connectionpool.py:1043: InsecureRequestWarning: Unverified HTTPS request is being made to host 'images.unsplash.com'. Adding certificate verification is strongly advised. See: https://urllib3.readthedocs.io/en/1.26.x/advanced-usage.html#ssl-warnings\n",
      "  warnings.warn(\n",
      "C:\\conda\\lib\\site-packages\\urllib3\\connectionpool.py:1043: InsecureRequestWarning: Unverified HTTPS request is being made to host 'images.unsplash.com'. Adding certificate verification is strongly advised. See: https://urllib3.readthedocs.io/en/1.26.x/advanced-usage.html#ssl-warnings\n",
      "  warnings.warn(\n"
     ]
    },
    {
     "name": "stdout",
     "output_type": "stream",
     "text": [
      "https://images.unsplash.com/photo-1662738554486-de352a094c48?ixlib=rb-1.2.1&ixid=MnwxMjA3fDB8MHx0b3BpYy1mZWVkfDIwfHJuU0tESHd3WVVrfHxlbnwwfHx8fA%3D%3D&w=1000&q=80\n"
     ]
    },
    {
     "name": "stderr",
     "output_type": "stream",
     "text": [
      "C:\\conda\\lib\\site-packages\\urllib3\\connectionpool.py:1043: InsecureRequestWarning: Unverified HTTPS request is being made to host 'images.unsplash.com'. Adding certificate verification is strongly advised. See: https://urllib3.readthedocs.io/en/1.26.x/advanced-usage.html#ssl-warnings\n",
      "  warnings.warn(\n",
      "C:\\conda\\lib\\site-packages\\urllib3\\connectionpool.py:1043: InsecureRequestWarning: Unverified HTTPS request is being made to host 'images.unsplash.com'. Adding certificate verification is strongly advised. See: https://urllib3.readthedocs.io/en/1.26.x/advanced-usage.html#ssl-warnings\n",
      "  warnings.warn(\n"
     ]
    },
    {
     "name": "stdout",
     "output_type": "stream",
     "text": [
      "https://images.unsplash.com/photo-1664032304991-c029bb4d161d?ixlib=rb-1.2.1&ixid=MnwxMjA3fDB8MHx0b3BpYy1mZWVkfDEyfHJuU0tESHd3WVVrfHxlbnwwfHx8fA%3D%3D&w=1000&q=80\n",
      "https://images.unsplash.com/photo-1664032338950-ae1c35427e90?ixlib=rb-1.2.1&ixid=MnwxMjA3fDB8MHx0b3BpYy1mZWVkfDEzfHJuU0tESHd3WVVrfHxlbnwwfHx8fA%3D%3D&w=1000&q=80\n"
     ]
    },
    {
     "name": "stderr",
     "output_type": "stream",
     "text": [
      "C:\\conda\\lib\\site-packages\\urllib3\\connectionpool.py:1043: InsecureRequestWarning: Unverified HTTPS request is being made to host 'images.unsplash.com'. Adding certificate verification is strongly advised. See: https://urllib3.readthedocs.io/en/1.26.x/advanced-usage.html#ssl-warnings\n",
      "  warnings.warn(\n",
      "C:\\conda\\lib\\site-packages\\urllib3\\connectionpool.py:1043: InsecureRequestWarning: Unverified HTTPS request is being made to host 'images.unsplash.com'. Adding certificate verification is strongly advised. See: https://urllib3.readthedocs.io/en/1.26.x/advanced-usage.html#ssl-warnings\n",
      "  warnings.warn(\n"
     ]
    },
    {
     "name": "stdout",
     "output_type": "stream",
     "text": [
      "https://images.unsplash.com/photo-1664379489954-2e05688d4238?ixlib=rb-1.2.1&ixid=MnwxMjA3fDB8MHx0b3BpYy1mZWVkfDE1fHJuU0tESHd3WVVrfHxlbnwwfHx8fA%3D%3D&w=1000&q=80\n"
     ]
    },
    {
     "name": "stderr",
     "output_type": "stream",
     "text": [
      "C:\\conda\\lib\\site-packages\\urllib3\\connectionpool.py:1043: InsecureRequestWarning: Unverified HTTPS request is being made to host 'images.unsplash.com'. Adding certificate verification is strongly advised. See: https://urllib3.readthedocs.io/en/1.26.x/advanced-usage.html#ssl-warnings\n",
      "  warnings.warn(\n"
     ]
    },
    {
     "name": "stdout",
     "output_type": "stream",
     "text": [
      "https://images.unsplash.com/photo-1656911051485-b49ad9513135?ixlib=rb-1.2.1&ixid=MnwxMjA3fDB8MHx0b3BpYy1mZWVkfDE4fHJuU0tESHd3WVVrfHxlbnwwfHx8fA%3D%3D&w=1000&q=80\n",
      "https://images.unsplash.com/photo-1664310748329-6710c43799a4?ixlib=rb-1.2.1&ixid=MnwxMjA3fDB8MHx0b3BpYy1mZWVkfDF8cm5TS0RId3dZVWt8fGVufDB8fHx8&w=1000&q=80\n"
     ]
    },
    {
     "name": "stderr",
     "output_type": "stream",
     "text": [
      "C:\\conda\\lib\\site-packages\\urllib3\\connectionpool.py:1043: InsecureRequestWarning: Unverified HTTPS request is being made to host 'images.unsplash.com'. Adding certificate verification is strongly advised. See: https://urllib3.readthedocs.io/en/1.26.x/advanced-usage.html#ssl-warnings\n",
      "  warnings.warn(\n",
      "C:\\conda\\lib\\site-packages\\urllib3\\connectionpool.py:1043: InsecureRequestWarning: Unverified HTTPS request is being made to host 'images.unsplash.com'. Adding certificate verification is strongly advised. See: https://urllib3.readthedocs.io/en/1.26.x/advanced-usage.html#ssl-warnings\n",
      "  warnings.warn(\n"
     ]
    },
    {
     "name": "stdout",
     "output_type": "stream",
     "text": [
      "https://images.unsplash.com/photo-1664384922834-c985a9659350?ixlib=rb-1.2.1&ixid=MnwxMjA3fDB8MHx0b3BpYy1mZWVkfDd8cm5TS0RId3dZVWt8fGVufDB8fHx8&w=1000&q=80\n",
      "https://images.unsplash.com/photo-1664350004839-100ecd5c8aad?ixlib=rb-1.2.1&ixid=MnwxMjA3fDB8MHx0b3BpYy1mZWVkfDJ8cm5TS0RId3dZVWt8fGVufDB8fHx8&w=1000&q=80\n",
      "https://images.unsplash.com/photo-1653378972356-223320488772?ixlib=rb-1.2.1&ixid=MnwxMjA3fDB8MHx0b3BpYy1mZWVkfDE2fHJuU0tESHd3WVVrfHxlbnwwfHx8fA%3D%3D&w=1000&q=80\n"
     ]
    },
    {
     "name": "stderr",
     "output_type": "stream",
     "text": [
      "C:\\conda\\lib\\site-packages\\urllib3\\connectionpool.py:1043: InsecureRequestWarning: Unverified HTTPS request is being made to host 'images.unsplash.com'. Adding certificate verification is strongly advised. See: https://urllib3.readthedocs.io/en/1.26.x/advanced-usage.html#ssl-warnings\n",
      "  warnings.warn(\n",
      "C:\\conda\\lib\\site-packages\\urllib3\\connectionpool.py:1043: InsecureRequestWarning: Unverified HTTPS request is being made to host 'images.unsplash.com'. Adding certificate verification is strongly advised. See: https://urllib3.readthedocs.io/en/1.26.x/advanced-usage.html#ssl-warnings\n",
      "  warnings.warn(\n"
     ]
    },
    {
     "name": "stdout",
     "output_type": "stream",
     "text": [
      "https://images.unsplash.com/photo-1664032338950-ae1c35427e90?ixlib=rb-1.2.1&ixid=MnwxMjA3fDB8MHx0b3BpYy1mZWVkfDEzfHJuU0tESHd3WVVrfHxlbnwwfHx8fA%3D%3D&w=1000&q=80\n"
     ]
    },
    {
     "name": "stderr",
     "output_type": "stream",
     "text": [
      "C:\\conda\\lib\\site-packages\\urllib3\\connectionpool.py:1043: InsecureRequestWarning: Unverified HTTPS request is being made to host 'images.unsplash.com'. Adding certificate verification is strongly advised. See: https://urllib3.readthedocs.io/en/1.26.x/advanced-usage.html#ssl-warnings\n",
      "  warnings.warn(\n"
     ]
    },
    {
     "name": "stdout",
     "output_type": "stream",
     "text": [
      "https://images.unsplash.com/photo-1664095682837-aba6a1706e7c?ixlib=rb-1.2.1&ixid=MnwxMjA3fDB8MHx0b3BpYy1mZWVkfDExfHJuU0tESHd3WVVrfHxlbnwwfHx8fA%3D%3D&w=1000&q=80\n",
      "https://images.unsplash.com/photo-1656911051433-a2c0fb2985c6?ixlib=rb-1.2.1&ixid=MnwxMjA3fDB8MHx0b3BpYy1mZWVkfDE3fHJuU0tESHd3WVVrfHxlbnwwfHx8fA%3D%3D&w=1000&q=80\n"
     ]
    },
    {
     "name": "stderr",
     "output_type": "stream",
     "text": [
      "C:\\conda\\lib\\site-packages\\urllib3\\connectionpool.py:1043: InsecureRequestWarning: Unverified HTTPS request is being made to host 'images.unsplash.com'. Adding certificate verification is strongly advised. See: https://urllib3.readthedocs.io/en/1.26.x/advanced-usage.html#ssl-warnings\n",
      "  warnings.warn(\n"
     ]
    },
    {
     "name": "stdout",
     "output_type": "stream",
     "text": [
      "https://images.unsplash.com/photo-1664032304991-c029bb4d161d?ixlib=rb-1.2.1&ixid=MnwxMjA3fDB8MHx0b3BpYy1mZWVkfDEyfHJuU0tESHd3WVVrfHxlbnwwfHx8fA%3D%3D&w=1000&q=80\n",
      "https://images.unsplash.com/photo-1664032365338-c7b6e393dda1?ixlib=rb-1.2.1&ixid=MnwxMjA3fDB8MHx0b3BpYy1mZWVkfDE0fHJuU0tESHd3WVVrfHxlbnwwfHx8fA%3D%3D&w=1000&q=80\n"
     ]
    },
    {
     "name": "stderr",
     "output_type": "stream",
     "text": [
      "C:\\conda\\lib\\site-packages\\urllib3\\connectionpool.py:1043: InsecureRequestWarning: Unverified HTTPS request is being made to host 'images.unsplash.com'. Adding certificate verification is strongly advised. See: https://urllib3.readthedocs.io/en/1.26.x/advanced-usage.html#ssl-warnings\n",
      "  warnings.warn(\n"
     ]
    },
    {
     "name": "stdout",
     "output_type": "stream",
     "text": [
      "https://images.unsplash.com/photo-1647103328346-c18478009ffa?ixlib=rb-1.2.1&ixid=MnwxMjA3fDB8MHx0b3BpYy1mZWVkfDR8cm5TS0RId3dZVWt8fGVufDB8fHx8&w=1000&q=80\n"
     ]
    },
    {
     "name": "stderr",
     "output_type": "stream",
     "text": [
      "C:\\conda\\lib\\site-packages\\urllib3\\connectionpool.py:1043: InsecureRequestWarning: Unverified HTTPS request is being made to host 'images.unsplash.com'. Adding certificate verification is strongly advised. See: https://urllib3.readthedocs.io/en/1.26.x/advanced-usage.html#ssl-warnings\n",
      "  warnings.warn(\n",
      "C:\\conda\\lib\\site-packages\\urllib3\\connectionpool.py:1043: InsecureRequestWarning: Unverified HTTPS request is being made to host 'images.unsplash.com'. Adding certificate verification is strongly advised. See: https://urllib3.readthedocs.io/en/1.26.x/advanced-usage.html#ssl-warnings\n",
      "  warnings.warn(\n",
      "C:\\conda\\lib\\site-packages\\urllib3\\connectionpool.py:1043: InsecureRequestWarning: Unverified HTTPS request is being made to host 'images.unsplash.com'. Adding certificate verification is strongly advised. See: https://urllib3.readthedocs.io/en/1.26.x/advanced-usage.html#ssl-warnings\n",
      "  warnings.warn(\n"
     ]
    },
    {
     "name": "stdout",
     "output_type": "stream",
     "text": [
      "https://images.unsplash.com/photo-1664310748328-18b42c1c1725?ixlib=rb-1.2.1&ixid=MnwxMjA3fDB8MHx0b3BpYy1mZWVkfDZ8cm5TS0RId3dZVWt8fGVufDB8fHx8&w=1000&q=80\n",
      "https://images.unsplash.com/photo-1664189489011-e1506632ac3c?ixlib=rb-1.2.1&ixid=MnwxMjA3fDB8MHx0b3BpYy1mZWVkfDV8cm5TS0RId3dZVWt8fGVufDB8fHx8&w=1000&q=80\n"
     ]
    },
    {
     "name": "stderr",
     "output_type": "stream",
     "text": [
      "C:\\conda\\lib\\site-packages\\urllib3\\connectionpool.py:1043: InsecureRequestWarning: Unverified HTTPS request is being made to host 'images.unsplash.com'. Adding certificate verification is strongly advised. See: https://urllib3.readthedocs.io/en/1.26.x/advanced-usage.html#ssl-warnings\n",
      "  warnings.warn(\n",
      "C:\\conda\\lib\\site-packages\\urllib3\\connectionpool.py:1043: InsecureRequestWarning: Unverified HTTPS request is being made to host 'images.unsplash.com'. Adding certificate verification is strongly advised. See: https://urllib3.readthedocs.io/en/1.26.x/advanced-usage.html#ssl-warnings\n",
      "  warnings.warn(\n"
     ]
    },
    {
     "name": "stdout",
     "output_type": "stream",
     "text": [
      "https://images.unsplash.com/photo-1647103328346-c18478009ffa?ixlib=rb-1.2.1&ixid=MnwxMjA3fDB8MHx0b3BpYy1mZWVkfDR8cm5TS0RId3dZVWt8fGVufDB8fHx8&w=1000&q=80\n",
      "https://images.unsplash.com/photo-1664179532605-64fac359faef?ixlib=rb-1.2.1&ixid=MnwxMjA3fDB8MHx0b3BpYy1mZWVkfDEwfHJuU0tESHd3WVVrfHxlbnwwfHx8fA%3D%3D&w=1000&q=80\n",
      "https://images.unsplash.com/photo-1662738554486-de352a094c48?ixlib=rb-1.2.1&ixid=MnwxMjA3fDB8MHx0b3BpYy1mZWVkfDIwfHJuU0tESHd3WVVrfHxlbnwwfHx8fA%3D%3D&w=1000&q=80\n"
     ]
    },
    {
     "name": "stderr",
     "output_type": "stream",
     "text": [
      "C:\\conda\\lib\\site-packages\\urllib3\\connectionpool.py:1043: InsecureRequestWarning: Unverified HTTPS request is being made to host 'images.unsplash.com'. Adding certificate verification is strongly advised. See: https://urllib3.readthedocs.io/en/1.26.x/advanced-usage.html#ssl-warnings\n",
      "  warnings.warn(\n"
     ]
    },
    {
     "name": "stdout",
     "output_type": "stream",
     "text": [
      "https://images.unsplash.com/photo-1664310748329-6710c43799a4?ixlib=rb-1.2.1&ixid=MnwxMjA3fDB8MHx0b3BpYy1mZWVkfDF8cm5TS0RId3dZVWt8fGVufDB8fHx8&w=1000&q=80\n",
      "https://images.unsplash.com/photo-1656911051433-a2c0fb2985c6?ixlib=rb-1.2.1&ixid=MnwxMjA3fDB8MHx0b3BpYy1mZWVkfDE3fHJuU0tESHd3WVVrfHxlbnwwfHx8fA%3D%3D&w=1000&q=80\n"
     ]
    },
    {
     "name": "stderr",
     "output_type": "stream",
     "text": [
      "C:\\conda\\lib\\site-packages\\urllib3\\connectionpool.py:1043: InsecureRequestWarning: Unverified HTTPS request is being made to host 'images.unsplash.com'. Adding certificate verification is strongly advised. See: https://urllib3.readthedocs.io/en/1.26.x/advanced-usage.html#ssl-warnings\n",
      "  warnings.warn(\n"
     ]
    },
    {
     "name": "stdout",
     "output_type": "stream",
     "text": [
      "https://images.unsplash.com/photo-1647103328346-c18478009ffa?ixlib=rb-1.2.1&ixid=MnwxMjA3fDB8MHx0b3BpYy1mZWVkfDR8cm5TS0RId3dZVWt8fGVufDB8fHx8&w=1000&q=80\n"
     ]
    },
    {
     "name": "stderr",
     "output_type": "stream",
     "text": [
      "C:\\conda\\lib\\site-packages\\urllib3\\connectionpool.py:1043: InsecureRequestWarning: Unverified HTTPS request is being made to host 'images.unsplash.com'. Adding certificate verification is strongly advised. See: https://urllib3.readthedocs.io/en/1.26.x/advanced-usage.html#ssl-warnings\n",
      "  warnings.warn(\n",
      "C:\\conda\\lib\\site-packages\\urllib3\\connectionpool.py:1043: InsecureRequestWarning: Unverified HTTPS request is being made to host 'images.unsplash.com'. Adding certificate verification is strongly advised. See: https://urllib3.readthedocs.io/en/1.26.x/advanced-usage.html#ssl-warnings\n",
      "  warnings.warn(\n",
      "C:\\conda\\lib\\site-packages\\urllib3\\connectionpool.py:1043: InsecureRequestWarning: Unverified HTTPS request is being made to host 'images.unsplash.com'. Adding certificate verification is strongly advised. See: https://urllib3.readthedocs.io/en/1.26.x/advanced-usage.html#ssl-warnings\n",
      "  warnings.warn(\n",
      "C:\\conda\\lib\\site-packages\\urllib3\\connectionpool.py:1043: InsecureRequestWarning: Unverified HTTPS request is being made to host 'images.unsplash.com'. Adding certificate verification is strongly advised. See: https://urllib3.readthedocs.io/en/1.26.x/advanced-usage.html#ssl-warnings\n",
      "  warnings.warn(\n"
     ]
    },
    {
     "name": "stdout",
     "output_type": "stream",
     "text": [
      "https://images.unsplash.com/photo-1664332184517-9dc41ea0085a?ixlib=rb-1.2.1&ixid=MnwxMjA3fDB8MHx0b3BpYy1mZWVkfDh8cm5TS0RId3dZVWt8fGVufDB8fHx8&w=1000&q=80\n",
      "https://images.unsplash.com/photo-1664189301709-52e9117be13e?ixlib=rb-1.2.1&ixid=MnwxMjA3fDB8MHx0b3BpYy1mZWVkfDl8cm5TS0RId3dZVWt8fGVufDB8fHx8&w=1000&q=80\n"
     ]
    },
    {
     "name": "stderr",
     "output_type": "stream",
     "text": [
      "C:\\conda\\lib\\site-packages\\urllib3\\connectionpool.py:1043: InsecureRequestWarning: Unverified HTTPS request is being made to host 'images.unsplash.com'. Adding certificate verification is strongly advised. See: https://urllib3.readthedocs.io/en/1.26.x/advanced-usage.html#ssl-warnings\n",
      "  warnings.warn(\n",
      "C:\\conda\\lib\\site-packages\\urllib3\\connectionpool.py:1043: InsecureRequestWarning: Unverified HTTPS request is being made to host 'images.unsplash.com'. Adding certificate verification is strongly advised. See: https://urllib3.readthedocs.io/en/1.26.x/advanced-usage.html#ssl-warnings\n",
      "  warnings.warn(\n"
     ]
    },
    {
     "name": "stdout",
     "output_type": "stream",
     "text": [
      "https://images.unsplash.com/photo-1664189301709-52e9117be13e?ixlib=rb-1.2.1&ixid=MnwxMjA3fDB8MHx0b3BpYy1mZWVkfDl8cm5TS0RId3dZVWt8fGVufDB8fHx8&w=1000&q=80\n",
      "https://images.unsplash.com/photo-1664310748328-18b42c1c1725?ixlib=rb-1.2.1&ixid=MnwxMjA3fDB8MHx0b3BpYy1mZWVkfDZ8cm5TS0RId3dZVWt8fGVufDB8fHx8&w=1000&q=80\n"
     ]
    },
    {
     "name": "stderr",
     "output_type": "stream",
     "text": [
      "C:\\conda\\lib\\site-packages\\urllib3\\connectionpool.py:1043: InsecureRequestWarning: Unverified HTTPS request is being made to host 'images.unsplash.com'. Adding certificate verification is strongly advised. See: https://urllib3.readthedocs.io/en/1.26.x/advanced-usage.html#ssl-warnings\n",
      "  warnings.warn(\n",
      "C:\\conda\\lib\\site-packages\\urllib3\\connectionpool.py:1043: InsecureRequestWarning: Unverified HTTPS request is being made to host 'images.unsplash.com'. Adding certificate verification is strongly advised. See: https://urllib3.readthedocs.io/en/1.26.x/advanced-usage.html#ssl-warnings\n",
      "  warnings.warn(\n"
     ]
    },
    {
     "name": "stdout",
     "output_type": "stream",
     "text": [
      "https://images.unsplash.com/photo-1656911052309-4e1ccc0146f9?ixlib=rb-1.2.1&ixid=MnwxMjA3fDB8MHx0b3BpYy1mZWVkfDN8cm5TS0RId3dZVWt8fGVufDB8fHx8&w=1000&q=80\n",
      "https://images.unsplash.com/photo-1664189489011-e1506632ac3c?ixlib=rb-1.2.1&ixid=MnwxMjA3fDB8MHx0b3BpYy1mZWVkfDV8cm5TS0RId3dZVWt8fGVufDB8fHx8&w=1000&q=80\n",
      "https://images.unsplash.com/photo-1664179532605-64fac359faef?ixlib=rb-1.2.1&ixid=MnwxMjA3fDB8MHx0b3BpYy1mZWVkfDEwfHJuU0tESHd3WVVrfHxlbnwwfHx8fA%3D%3D&w=1000&q=80\n"
     ]
    },
    {
     "name": "stderr",
     "output_type": "stream",
     "text": [
      "C:\\conda\\lib\\site-packages\\urllib3\\connectionpool.py:1043: InsecureRequestWarning: Unverified HTTPS request is being made to host 'images.unsplash.com'. Adding certificate verification is strongly advised. See: https://urllib3.readthedocs.io/en/1.26.x/advanced-usage.html#ssl-warnings\n",
      "  warnings.warn(\n",
      "C:\\conda\\lib\\site-packages\\urllib3\\connectionpool.py:1043: InsecureRequestWarning: Unverified HTTPS request is being made to host 'images.unsplash.com'. Adding certificate verification is strongly advised. See: https://urllib3.readthedocs.io/en/1.26.x/advanced-usage.html#ssl-warnings\n",
      "  warnings.warn(\n",
      "C:\\conda\\lib\\site-packages\\urllib3\\connectionpool.py:1043: InsecureRequestWarning: Unverified HTTPS request is being made to host 'images.unsplash.com'. Adding certificate verification is strongly advised. See: https://urllib3.readthedocs.io/en/1.26.x/advanced-usage.html#ssl-warnings\n",
      "  warnings.warn(\n"
     ]
    },
    {
     "name": "stdout",
     "output_type": "stream",
     "text": [
      "https://images.unsplash.com/photo-1664095682837-aba6a1706e7c?ixlib=rb-1.2.1&ixid=MnwxMjA3fDB8MHx0b3BpYy1mZWVkfDExfHJuU0tESHd3WVVrfHxlbnwwfHx8fA%3D%3D&w=1000&q=80\n"
     ]
    },
    {
     "name": "stderr",
     "output_type": "stream",
     "text": [
      "C:\\conda\\lib\\site-packages\\urllib3\\connectionpool.py:1043: InsecureRequestWarning: Unverified HTTPS request is being made to host 'images.unsplash.com'. Adding certificate verification is strongly advised. See: https://urllib3.readthedocs.io/en/1.26.x/advanced-usage.html#ssl-warnings\n",
      "  warnings.warn(\n"
     ]
    },
    {
     "name": "stdout",
     "output_type": "stream",
     "text": [
      "https://images.unsplash.com/photo-1664379489954-2e05688d4238?ixlib=rb-1.2.1&ixid=MnwxMjA3fDB8MHx0b3BpYy1mZWVkfDE1fHJuU0tESHd3WVVrfHxlbnwwfHx8fA%3D%3D&w=1000&q=80\n",
      "https://images.unsplash.com/photo-1664032338950-ae1c35427e90?ixlib=rb-1.2.1&ixid=MnwxMjA3fDB8MHx0b3BpYy1mZWVkfDEzfHJuU0tESHd3WVVrfHxlbnwwfHx8fA%3D%3D&w=1000&q=80\n"
     ]
    },
    {
     "name": "stderr",
     "output_type": "stream",
     "text": [
      "C:\\conda\\lib\\site-packages\\urllib3\\connectionpool.py:1043: InsecureRequestWarning: Unverified HTTPS request is being made to host 'images.unsplash.com'. Adding certificate verification is strongly advised. See: https://urllib3.readthedocs.io/en/1.26.x/advanced-usage.html#ssl-warnings\n",
      "  warnings.warn(\n"
     ]
    },
    {
     "name": "stdout",
     "output_type": "stream",
     "text": [
      "https://images.unsplash.com/photo-1656911052309-4e1ccc0146f9?ixlib=rb-1.2.1&ixid=MnwxMjA3fDB8MHx0b3BpYy1mZWVkfDN8cm5TS0RId3dZVWt8fGVufDB8fHx8&w=1000&q=80\n",
      "https://images.unsplash.com/photo-1664032304991-c029bb4d161d?ixlib=rb-1.2.1&ixid=MnwxMjA3fDB8MHx0b3BpYy1mZWVkfDEyfHJuU0tESHd3WVVrfHxlbnwwfHx8fA%3D%3D&w=1000&q=80\n",
      "https://images.unsplash.com/photo-1664332184517-9dc41ea0085a?ixlib=rb-1.2.1&ixid=MnwxMjA3fDB8MHx0b3BpYy1mZWVkfDh8cm5TS0RId3dZVWt8fGVufDB8fHx8&w=1000&q=80\n"
     ]
    },
    {
     "name": "stderr",
     "output_type": "stream",
     "text": [
      "C:\\conda\\lib\\site-packages\\urllib3\\connectionpool.py:1043: InsecureRequestWarning: Unverified HTTPS request is being made to host 'images.unsplash.com'. Adding certificate verification is strongly advised. See: https://urllib3.readthedocs.io/en/1.26.x/advanced-usage.html#ssl-warnings\n",
      "  warnings.warn(\n"
     ]
    },
    {
     "name": "stdout",
     "output_type": "stream",
     "text": [
      "https://images.unsplash.com/photo-1664032365338-c7b6e393dda1?ixlib=rb-1.2.1&ixid=MnwxMjA3fDB8MHx0b3BpYy1mZWVkfDE0fHJuU0tESHd3WVVrfHxlbnwwfHx8fA%3D%3D&w=1000&q=80\n",
      "https://images.unsplash.com/photo-1656911051433-a2c0fb2985c6?ixlib=rb-1.2.1&ixid=MnwxMjA3fDB8MHx0b3BpYy1mZWVkfDE3fHJuU0tESHd3WVVrfHxlbnwwfHx8fA%3D%3D&w=1000&q=80\n"
     ]
    },
    {
     "name": "stderr",
     "output_type": "stream",
     "text": [
      "C:\\conda\\lib\\site-packages\\urllib3\\connectionpool.py:1043: InsecureRequestWarning: Unverified HTTPS request is being made to host 'images.unsplash.com'. Adding certificate verification is strongly advised. See: https://urllib3.readthedocs.io/en/1.26.x/advanced-usage.html#ssl-warnings\n",
      "  warnings.warn(\n",
      "C:\\conda\\lib\\site-packages\\urllib3\\connectionpool.py:1043: InsecureRequestWarning: Unverified HTTPS request is being made to host 'images.unsplash.com'. Adding certificate verification is strongly advised. See: https://urllib3.readthedocs.io/en/1.26.x/advanced-usage.html#ssl-warnings\n",
      "  warnings.warn(\n"
     ]
    },
    {
     "name": "stdout",
     "output_type": "stream",
     "text": [
      "https://images.unsplash.com/photo-1664332184517-9dc41ea0085a?ixlib=rb-1.2.1&ixid=MnwxMjA3fDB8MHx0b3BpYy1mZWVkfDh8cm5TS0RId3dZVWt8fGVufDB8fHx8&w=1000&q=80\n",
      "https://images.unsplash.com/photo-1653378972356-223320488772?ixlib=rb-1.2.1&ixid=MnwxMjA3fDB8MHx0b3BpYy1mZWVkfDE2fHJuU0tESHd3WVVrfHxlbnwwfHx8fA%3D%3D&w=1000&q=80\n",
      "https://images.unsplash.com/photo-1664179532605-64fac359faef?ixlib=rb-1.2.1&ixid=MnwxMjA3fDB8MHx0b3BpYy1mZWVkfDEwfHJuU0tESHd3WVVrfHxlbnwwfHx8fA%3D%3D&w=1000&q=80\n",
      "https://images.unsplash.com/photo-1664384922834-c985a9659350?ixlib=rb-1.2.1&ixid=MnwxMjA3fDB8MHx0b3BpYy1mZWVkfDd8cm5TS0RId3dZVWt8fGVufDB8fHx8&w=1000&q=80\n",
      "https://images.unsplash.com/photo-1656911051485-b49ad9513135?ixlib=rb-1.2.1&ixid=MnwxMjA3fDB8MHx0b3BpYy1mZWVkfDE4fHJuU0tESHd3WVVrfHxlbnwwfHx8fA%3D%3D&w=1000&q=80\n",
      "https://images.unsplash.com/photo-1664095682837-aba6a1706e7c?ixlib=rb-1.2.1&ixid=MnwxMjA3fDB8MHx0b3BpYy1mZWVkfDExfHJuU0tESHd3WVVrfHxlbnwwfHx8fA%3D%3D&w=1000&q=80\n",
      "https://images.unsplash.com/photo-1662541351290-850e45f86838?ixlib=rb-1.2.1&ixid=MnwxMjA3fDB8MHx0b3BpYy1mZWVkfDE5fHJuU0tESHd3WVVrfHxlbnwwfHx8fA%3D%3D&w=1000&q=80\n",
      "https://images.unsplash.com/photo-1662541351290-850e45f86838?ixlib=rb-1.2.1&ixid=MnwxMjA3fDB8MHx0b3BpYy1mZWVkfDE5fHJuU0tESHd3WVVrfHxlbnwwfHx8fA%3D%3D&w=1000&q=80\n",
      "https://images.unsplash.com/photo-1664350004839-100ecd5c8aad?ixlib=rb-1.2.1&ixid=MnwxMjA3fDB8MHx0b3BpYy1mZWVkfDJ8cm5TS0RId3dZVWt8fGVufDB8fHx8&w=1000&q=80\n",
      "https://images.unsplash.com/photo-1662541351290-850e45f86838?ixlib=rb-1.2.1&ixid=MnwxMjA3fDB8MHx0b3BpYy1mZWVkfDE5fHJuU0tESHd3WVVrfHxlbnwwfHx8fA%3D%3D&w=1000&q=80\n",
      "https://images.unsplash.com/photo-1664189489011-e1506632ac3c?ixlib=rb-1.2.1&ixid=MnwxMjA3fDB8MHx0b3BpYy1mZWVkfDV8cm5TS0RId3dZVWt8fGVufDB8fHx8&w=1000&q=80\n",
      "https://images.unsplash.com/photo-1662738554486-de352a094c48?ixlib=rb-1.2.1&ixid=MnwxMjA3fDB8MHx0b3BpYy1mZWVkfDIwfHJuU0tESHd3WVVrfHxlbnwwfHx8fA%3D%3D&w=1000&q=80\n",
      "39.3045551776886\n"
     ]
    }
   ],
   "source": [
    "threadpoolexecutor_method()"
   ]
  },
  {
   "cell_type": "markdown",
   "id": "a3e36f24",
   "metadata": {},
   "source": [
    "> Выполнение многопоточного метода заняло: \n",
    "\n",
    "* 55 сек при 4 потоках, \n",
    "* 36 сек при 8 потоках, \n",
    "* 32 сек при 16 потоках"
   ]
  },
  {
   "cell_type": "code",
   "execution_count": null,
   "id": "ae4aa340",
   "metadata": {},
   "outputs": [],
   "source": [
    "def pool_handler(): #многопоточный метод\n",
    "    start = time.time()\n",
    "    p = Pool(1)\n",
    "    print(p.map(get_status, images))\n",
    "    end = time.time()\n",
    "    print(end - start)\n",
    "\n",
    "\n",
    "if __name__ == '__main__':\n",
    "    pool_handler()"
   ]
  },
  {
   "cell_type": "code",
   "execution_count": null,
   "id": "ccdbf8ee",
   "metadata": {},
   "outputs": [],
   "source": [
    "multiprocessing_method()"
   ]
  },
  {
   "cell_type": "markdown",
   "id": "592c0cdb",
   "metadata": {},
   "source": [
    "> Выполнение многопроцессорного метода заняло: \n",
    "\n",
    "* 32 сек при использовании 1 ядра, \n",
    "* 22 сек при использовании 2 ядер, \n",
    "* 29 сек при использовании 2 ядер, \n",
    "* 23 сек при использовании 8 ядер, \n",
    "* 24 сек при использовании 16 ядер\n",
    "\n",
    "-- Метод не выполняется через JN, но можно через PyCharm"
   ]
  },
  {
   "cell_type": "markdown",
   "id": "7fe7ba1e",
   "metadata": {},
   "source": [
    "## Выводы\n",
    "\n",
    "В моём случае оказался наиболее предпочтительным метод мультипроцессинга при использовании 2 ядер. Многопоточный метод также может быть использован (быстрее последовательного в 10 раз). Отключение верификации сертификата HTTPS в случае многопоточного метода может ускорить алгоритма."
   ]
  }
 ],
 "metadata": {
  "kernelspec": {
   "display_name": "Python 3 (ipykernel)",
   "language": "python",
   "name": "python3"
  },
  "language_info": {
   "codemirror_mode": {
    "name": "ipython",
    "version": 3
   },
   "file_extension": ".py",
   "mimetype": "text/x-python",
   "name": "python",
   "nbconvert_exporter": "python",
   "pygments_lexer": "ipython3",
   "version": "3.9.12"
  }
 },
 "nbformat": 4,
 "nbformat_minor": 5
}
