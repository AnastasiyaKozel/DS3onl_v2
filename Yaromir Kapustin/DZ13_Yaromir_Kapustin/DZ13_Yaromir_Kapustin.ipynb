{
 "cells": [
  {
   "cell_type": "markdown",
   "id": "9aef07af",
   "metadata": {},
   "source": [
    "* 23.10.2022\n",
    "* Yaromir Kapustin\n",
    "* v.01\n",
    "---"
   ]
  },
  {
   "cell_type": "markdown",
   "id": "2caf41b0",
   "metadata": {},
   "source": [
    "# Цель\n",
    "\n",
    "Не менее 20000 символов.\n",
    "уменьшить размерность текста, используя метод главных компонент, при этом обеспечить сохранение информации не менее 80%\n",
    "\n",
    "\n",
    "# Задачи:\n",
    "\n",
    "- осуществить загрузку текста, токенизацию\n",
    "\n",
    "- почистить данные (числа, знаки препинания, символы, стоп-слова)\n",
    "\n",
    "- осуществить лемматизацию\n",
    "\n",
    "- перевести в векторное представление\n",
    "\n",
    "- применить метод главных компонент таким образом, чтобы потеря информации составила не более 20%\n",
    "\n",
    "- (если есть метки классов) посчитать результаты обучения. \n",
    "\n",
    "# Датасет: http://ai.stanford.edu/~amaas/data/sentiment/\n",
    "\n",
    "Набор из 25 000 высокополярных рецензий на фильмы для обучения и 25 000 для тестирования. Использовались положительные оценки тренировочного сета (12500 файлов)\n"
   ]
  },
  {
   "cell_type": "code",
   "execution_count": 10,
   "id": "09e94446",
   "metadata": {},
   "outputs": [],
   "source": [
    "from sklearn.decomposition import TruncatedSVD\n",
    "from sklearn.feature_extraction.text import TfidfTransformer, TfidfVectorizer, CountVectorizer\n",
    "import pandas as pd\n",
    "import numpy as np\n",
    "import seaborn as sns\n",
    "import matplotlib.pyplot as plt\n",
    "import os\n",
    "import nltk\n",
    "from nltk.corpus import stopwords\n",
    "import string"
   ]
  },
  {
   "cell_type": "code",
   "execution_count": 11,
   "id": "a1ef6e8a",
   "metadata": {},
   "outputs": [],
   "source": [
    "os.chdir(r'C:\\Users\\Yaromir\\Desktop\\aclImdb\\train\\pos')"
   ]
  },
  {
   "cell_type": "code",
   "execution_count": 12,
   "id": "f53124be",
   "metadata": {},
   "outputs": [
    {
     "data": {
      "text/html": [
       "<div>\n",
       "<style scoped>\n",
       "    .dataframe tbody tr th:only-of-type {\n",
       "        vertical-align: middle;\n",
       "    }\n",
       "\n",
       "    .dataframe tbody tr th {\n",
       "        vertical-align: top;\n",
       "    }\n",
       "\n",
       "    .dataframe thead th {\n",
       "        text-align: right;\n",
       "    }\n",
       "</style>\n",
       "<table border=\"1\" class=\"dataframe\">\n",
       "  <thead>\n",
       "    <tr style=\"text-align: right;\">\n",
       "      <th></th>\n",
       "      <th>text</th>\n",
       "    </tr>\n",
       "  </thead>\n",
       "  <tbody>\n",
       "    <tr>\n",
       "      <th>0</th>\n",
       "      <td>Bromwell High is a cartoon comedy. It ran at t...</td>\n",
       "    </tr>\n",
       "    <tr>\n",
       "      <th>1</th>\n",
       "      <td>Homelessness (or Houselessness as George Carli...</td>\n",
       "    </tr>\n",
       "    <tr>\n",
       "      <th>2</th>\n",
       "      <td>Brilliant over-acting by Lesley Ann Warren. Be...</td>\n",
       "    </tr>\n",
       "    <tr>\n",
       "      <th>3</th>\n",
       "      <td>This is easily the most underrated film inn th...</td>\n",
       "    </tr>\n",
       "    <tr>\n",
       "      <th>4</th>\n",
       "      <td>This is not the typical Mel Brooks film. It wa...</td>\n",
       "    </tr>\n",
       "    <tr>\n",
       "      <th>...</th>\n",
       "      <td>...</td>\n",
       "    </tr>\n",
       "    <tr>\n",
       "      <th>12495</th>\n",
       "      <td>Seeing as the vote average was pretty low, and...</td>\n",
       "    </tr>\n",
       "    <tr>\n",
       "      <th>12496</th>\n",
       "      <td>The plot had some wretched, unbelievable twist...</td>\n",
       "    </tr>\n",
       "    <tr>\n",
       "      <th>12497</th>\n",
       "      <td>I am amazed at how this movie(and most others ...</td>\n",
       "    </tr>\n",
       "    <tr>\n",
       "      <th>12498</th>\n",
       "      <td>A Christmas Together actually came before my t...</td>\n",
       "    </tr>\n",
       "    <tr>\n",
       "      <th>12499</th>\n",
       "      <td>Working-class romantic drama from director Mar...</td>\n",
       "    </tr>\n",
       "  </tbody>\n",
       "</table>\n",
       "<p>12500 rows × 1 columns</p>\n",
       "</div>"
      ],
      "text/plain": [
       "                                                    text\n",
       "0      Bromwell High is a cartoon comedy. It ran at t...\n",
       "1      Homelessness (or Houselessness as George Carli...\n",
       "2      Brilliant over-acting by Lesley Ann Warren. Be...\n",
       "3      This is easily the most underrated film inn th...\n",
       "4      This is not the typical Mel Brooks film. It wa...\n",
       "...                                                  ...\n",
       "12495  Seeing as the vote average was pretty low, and...\n",
       "12496  The plot had some wretched, unbelievable twist...\n",
       "12497  I am amazed at how this movie(and most others ...\n",
       "12498  A Christmas Together actually came before my t...\n",
       "12499  Working-class romantic drama from director Mar...\n",
       "\n",
       "[12500 rows x 1 columns]"
      ]
     },
     "execution_count": 12,
     "metadata": {},
     "output_type": "execute_result"
    }
   ],
   "source": [
    "file_texts = []\n",
    "for file_name in os.listdir():\n",
    "    f = open(file_name, \"r\", encoding='utf-8')\n",
    "    text = f.read()\n",
    "    file_texts.append(text)\n",
    "\n",
    "df = pd.DataFrame(file_texts, columns =['text'])\n",
    "\n",
    "df"
   ]
  },
  {
   "cell_type": "markdown",
   "id": "887f96ba",
   "metadata": {},
   "source": [
    "##### Подготовка текста"
   ]
  },
  {
   "cell_type": "code",
   "execution_count": 13,
   "id": "1e510479",
   "metadata": {},
   "outputs": [
    {
     "name": "stderr",
     "output_type": "stream",
     "text": [
      "C:\\Users\\Yaromir\\AppData\\Local\\Temp\\ipykernel_4876\\3275122920.py:2: FutureWarning: The default value of regex will change from True to False in a future version.\n",
      "  df = df['text'].str.replace('[^\\w\\s]','')\n"
     ]
    }
   ],
   "source": [
    "#убираю пунутуацию\n",
    "df = df['text'].str.replace('[^\\w\\s]','')"
   ]
  },
  {
   "cell_type": "code",
   "execution_count": 14,
   "id": "cb18c6c8",
   "metadata": {},
   "outputs": [
    {
     "name": "stderr",
     "output_type": "stream",
     "text": [
      "C:\\Users\\Yaromir\\AppData\\Local\\Temp\\ipykernel_4876\\4116977913.py:2: FutureWarning: The default value of regex will change from True to False in a future version.\n",
      "  df = df.str.replace('\\d+', '')\n"
     ]
    }
   ],
   "source": [
    "#убираю цифры\n",
    "df = df.str.replace('\\d+', '')"
   ]
  },
  {
   "cell_type": "code",
   "execution_count": 15,
   "id": "72818bc5",
   "metadata": {},
   "outputs": [],
   "source": [
    "#привожу все к нижнему регистру\n",
    "df = df.apply(lambda x: ' '.join([word.lower() for word in x.split() if word not in string.punctuation]))"
   ]
  },
  {
   "cell_type": "code",
   "execution_count": 16,
   "id": "78b058d5",
   "metadata": {},
   "outputs": [],
   "source": [
    "w_tokenizer = nltk.tokenize.WhitespaceTokenizer()\n",
    "lemmatizer = nltk.stem.WordNetLemmatizer()"
   ]
  },
  {
   "cell_type": "code",
   "execution_count": 17,
   "id": "ebc8d468",
   "metadata": {},
   "outputs": [],
   "source": [
    "#убираю стопслова\n",
    "stop_words = set(stopwords.words('english'))\n",
    "df = df.apply(lambda x: ' '.join([word for word in x.split() if word not in (stop_words)]))"
   ]
  },
  {
   "cell_type": "code",
   "execution_count": 18,
   "id": "34b5e4aa",
   "metadata": {},
   "outputs": [],
   "source": [
    "#лемматизация текста\n",
    "def lemmatize_text(text):\n",
    "    return [lemmatizer.lemmatize(w) for w in w_tokenizer.tokenize(text)]\n",
    "\n",
    "df_lemmatized = df.apply(lemmatize_text)"
   ]
  },
  {
   "cell_type": "code",
   "execution_count": 19,
   "id": "88e9280a",
   "metadata": {},
   "outputs": [
    {
     "data": {
      "text/plain": [
       "0        [bromwell, high, cartoon, comedy, ran, time, p...\n",
       "1        [homelessness, houselessness, george, carlin, ...\n",
       "2        [brilliant, overacting, lesley, ann, warren, b...\n",
       "3        [easily, underrated, film, inn, brook, cannon,...\n",
       "4        [typical, mel, brook, film, much, le, slapstic...\n",
       "                               ...                        \n",
       "12495    [seeing, vote, average, pretty, low, fact, cle...\n",
       "12496    [plot, wretched, unbelievable, twist, however,...\n",
       "12497    [amazed, movieand, others, average, star, lowe...\n",
       "12498    [christmas, together, actually, came, time, iv...\n",
       "12499    [workingclass, romantic, drama, director, mart...\n",
       "Name: text, Length: 12500, dtype: object"
      ]
     },
     "execution_count": 19,
     "metadata": {},
     "output_type": "execute_result"
    }
   ],
   "source": [
    "df_lemmatized"
   ]
  },
  {
   "cell_type": "markdown",
   "id": "f03c64e1",
   "metadata": {},
   "source": [
    "---"
   ]
  },
  {
   "cell_type": "code",
   "execution_count": 20,
   "id": "cd8c5546",
   "metadata": {},
   "outputs": [
    {
     "data": {
      "text/plain": [
       "1561305"
      ]
     },
     "execution_count": 20,
     "metadata": {},
     "output_type": "execute_result"
    }
   ],
   "source": [
    "#из df в ndarray\n",
    "all_tokens = df_lemmatized.to_numpy()\n",
    "token_list = np.concatenate(all_tokens)\n",
    "len(token_list)"
   ]
  },
  {
   "cell_type": "code",
   "execution_count": 21,
   "id": "a4d7b7d8",
   "metadata": {},
   "outputs": [
    {
     "data": {
      "text/plain": [
       "12281"
      ]
     },
     "execution_count": 21,
     "metadata": {},
     "output_type": "execute_result"
    }
   ],
   "source": [
    "cut_df = df_lemmatized[0:100]\n",
    "all_tokens = cut_df.to_numpy()\n",
    "token_list = np.concatenate(all_tokens)\n",
    "len(token_list)"
   ]
  },
  {
   "cell_type": "markdown",
   "id": "8ec3a10f",
   "metadata": {},
   "source": [
    "##### Векторизация"
   ]
  },
  {
   "cell_type": "code",
   "execution_count": 22,
   "id": "f293fd87",
   "metadata": {},
   "outputs": [],
   "source": [
    "vectorizer = TfidfVectorizer()"
   ]
  },
  {
   "cell_type": "code",
   "execution_count": 23,
   "id": "56e089a7",
   "metadata": {},
   "outputs": [],
   "source": [
    "X = vectorizer.fit_transform(token_list)"
   ]
  },
  {
   "cell_type": "code",
   "execution_count": 24,
   "id": "70132fc9",
   "metadata": {},
   "outputs": [
    {
     "name": "stdout",
     "output_type": "stream",
     "text": [
      "(12281, 3893)\n"
     ]
    }
   ],
   "source": [
    "print(X.shape)"
   ]
  },
  {
   "cell_type": "code",
   "execution_count": 25,
   "id": "c7ecb060",
   "metadata": {},
   "outputs": [],
   "source": [
    "svd = TruncatedSVD(n_components=3115, n_iter=7, random_state=42)"
   ]
  },
  {
   "cell_type": "code",
   "execution_count": 26,
   "id": "28ae77c6",
   "metadata": {},
   "outputs": [
    {
     "data": {
      "text/plain": [
       "TruncatedSVD(n_components=3115, n_iter=7, random_state=42)"
      ]
     },
     "execution_count": 26,
     "metadata": {},
     "output_type": "execute_result"
    }
   ],
   "source": [
    "svd.fit(X)"
   ]
  },
  {
   "cell_type": "code",
   "execution_count": 27,
   "id": "4aa64186",
   "metadata": {},
   "outputs": [],
   "source": [
    "transformed = svd.transform(X)"
   ]
  },
  {
   "cell_type": "code",
   "execution_count": 28,
   "id": "78b237cc",
   "metadata": {},
   "outputs": [
    {
     "data": {
      "text/plain": [
       "(12281, 3115)"
      ]
     },
     "execution_count": 28,
     "metadata": {},
     "output_type": "execute_result"
    }
   ],
   "source": [
    "transformed.shape"
   ]
  },
  {
   "cell_type": "code",
   "execution_count": 29,
   "id": "ea8c2bbe",
   "metadata": {},
   "outputs": [
    {
     "data": {
      "image/png": "[encoded data removed]",
      "text/plain": [
       "<Figure size 432x288 with 1 Axes>"
      ]
     },
     "metadata": {
      "needs_background": "light"
     },
     "output_type": "display_data"
    }
   ],
   "source": [
    "plt.plot(np.cumsum(svd.explained_variance_ratio_))\n",
    "plt.xlabel('number of components')\n",
    "plt.ylabel('cumulative explained variance');"
   ]
  },
  {
   "cell_type": "code",
   "execution_count": 30,
   "id": "d3965aaa",
   "metadata": {},
   "outputs": [
    {
     "name": "stdout",
     "output_type": "stream",
     "text": [
      "Component  0 accounts for 2.07% of variance\n",
      "Component  1 accounts for 1.97% of variance\n",
      "Component  2 accounts for 1.57% of variance\n",
      "Component  3 accounts for 0.87% of variance\n",
      "Component  4 accounts for 0.85% of variance\n",
      "Component  5 accounts for 0.78% of variance\n",
      "Component  6 accounts for 0.69% of variance\n",
      "Component  7 accounts for 0.54% of variance\n",
      "Component  8 accounts for 0.49% of variance\n",
      "Component  9 accounts for 0.44% of variance\n",
      "Component 10 accounts for 0.43% of variance\n",
      "Component 11 accounts for 0.42% of variance\n",
      "Component 12 accounts for 0.38% of variance\n",
      "Component 13 accounts for 0.38% of variance\n",
      "Component 14 accounts for 0.38% of variance\n"
     ]
    }
   ],
   "source": [
    "explained_variance = svd.explained_variance_ratio_\n",
    "for i in range(0, 15):\n",
    "    print(f\"Component {i:>2} accounts for {explained_variance[i]*100:>2.2f}% of variance\")"
   ]
  },
  {
   "cell_type": "code",
   "execution_count": 31,
   "id": "aec331cf",
   "metadata": {},
   "outputs": [
    {
     "data": {
      "text/plain": [
       "numpy.ndarray"
      ]
     },
     "execution_count": 31,
     "metadata": {},
     "output_type": "execute_result"
    }
   ],
   "source": [
    "type(transformed)"
   ]
  },
  {
   "cell_type": "code",
   "execution_count": null,
   "id": "7ac52ab5",
   "metadata": {},
   "outputs": [
    {
     "data": {
      "text/plain": [
       "<AxesSubplot:>"
      ]
     },
     "execution_count": 32,
     "metadata": {},
     "output_type": "execute_result"
    },
    {
     "name": "stderr",
     "output_type": "stream",
     "text": [
      "C:\\conda\\lib\\site-packages\\IPython\\core\\pylabtools.py:151: UserWarning: Creating legend with loc=\"best\" can be slow with large amounts of data.\n",
      "  fig.canvas.print_figure(bytes_io, **kw)\n"
     ]
    }
   ],
   "source": [
    "plt.figure(figsize=(15,15))\n",
    "sns.scatterplot(data=transformed)"
   ]
  }
 ],
 "metadata": {
  "kernelspec": {
   "display_name": "Python 3 (ipykernel)",
   "language": "python",
   "name": "python3"
  },
  "language_info": {
   "codemirror_mode": {
    "name": "ipython",
    "version": 3
   },
   "file_extension": ".py",
   "mimetype": "text/x-python",
   "name": "python",
   "nbconvert_exporter": "python",
   "pygments_lexer": "ipython3",
   "version": "3.9.12"
  }
 },
 "nbformat": 4,
 "nbformat_minor": 5
}
