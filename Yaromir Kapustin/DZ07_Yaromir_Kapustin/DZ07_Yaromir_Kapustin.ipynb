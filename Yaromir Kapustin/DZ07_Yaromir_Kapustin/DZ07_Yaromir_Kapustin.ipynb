{
 "cells": [
  {
   "cell_type": "markdown",
   "id": "25f4db90",
   "metadata": {},
   "source": [
    "- Yaromir Kapustin\n",
    "- ver. 0.1\n",
    "- 30.09.2022"
   ]
  },
  {
   "cell_type": "markdown",
   "id": "aa999294",
   "metadata": {},
   "source": [
    "#### Домашнее задание №7\n",
    "Напишите декоратор, оптимизирующий работу декорируемой функции. Декоратор должен сохранять результат работы функции на ближайшие три запуска и вместо выполнения функции возвращать сохранённый результат. \n",
    "После трёх запусков функция должна вызываться вновь, а результат работы функции — вновь кешироваться."
   ]
  },
  {
   "cell_type": "code",
   "execution_count": 35,
   "id": "01f5e4d1",
   "metadata": {},
   "outputs": [],
   "source": [
    "def process(func):\n",
    "    def wrapper(*args, **kwargs):\n",
    "        func(*args, **kwargs)\n",
    "    return wrapper\n",
    "\n",
    "\n",
    "log = []\n",
    "cache = []\n",
    "x = 2"
   ]
  },
  {
   "cell_type": "code",
   "execution_count": 54,
   "id": "27bc2415",
   "metadata": {},
   "outputs": [],
   "source": [
    "@process\n",
    "def powering(x):\n",
    "    if len(log) == 3:\n",
    "        cache.append(log[:])\n",
    "        log.clear()\n",
    "    log.append(x**2)\n",
    "\n",
    "powering(x)\n",
    "x += 1"
   ]
  },
  {
   "cell_type": "code",
   "execution_count": 55,
   "id": "34de161f",
   "metadata": {},
   "outputs": [
    {
     "name": "stdout",
     "output_type": "stream",
     "text": [
      "[121]\n",
      "[[4, 9, 16], [25, 36, 49], [64, 81, 100]]\n"
     ]
    }
   ],
   "source": [
    "print(log)\n",
    "print(cache)"
   ]
  }
 ],
 "metadata": {
  "kernelspec": {
   "display_name": "Python 3 (ipykernel)",
   "language": "python",
   "name": "python3"
  },
  "language_info": {
   "codemirror_mode": {
    "name": "ipython",
    "version": 3
   },
   "file_extension": ".py",
   "mimetype": "text/x-python",
   "name": "python",
   "nbconvert_exporter": "python",
   "pygments_lexer": "ipython3",
   "version": "3.9.12"
  }
 },
 "nbformat": 4,
 "nbformat_minor": 5
}
