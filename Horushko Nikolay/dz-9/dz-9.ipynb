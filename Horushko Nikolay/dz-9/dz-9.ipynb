{
 "cells": [
  {
   "cell_type": "markdown",
   "source": [
    "Работа с изображениями с целью аугментации.\n",
    "\n",
    "1. Изображения, на которых автомобили есть или нет. 100 изображений целевого класса и 100 нецелевого. Размер 256x256px.\n",
    "2. Библиотеки: OpenCV, pillow, scikit-image, tf.image.\n",
    "3. Аугментация (вращение, растяжение/сжатие, увеличение/уменьшение). Количество изображений должно увеличиться минимум в 3 раза."
   ],
   "metadata": {
    "collapsed": false,
    "pycharm": {
     "name": "#%% md\n"
    }
   }
  },
  {
   "cell_type": "code",
   "execution_count": 216,
   "outputs": [],
   "source": [
    "import cv2\n",
    "import gdown\n",
    "import zipfile\n",
    "import shutil\n",
    "import os\n",
    "import random"
   ],
   "metadata": {
    "collapsed": false,
    "pycharm": {
     "name": "#%%\n"
    }
   }
  },
  {
   "cell_type": "markdown",
   "source": [
    "Переменные: название входной и выходной директорий"
   ],
   "metadata": {
    "collapsed": false,
    "pycharm": {
     "name": "#%% md\n"
    }
   }
  },
  {
   "cell_type": "code",
   "execution_count": 217,
   "outputs": [],
   "source": [
    "in_dir = 'in'\n",
    "out_dir = 'out'"
   ],
   "metadata": {
    "collapsed": false,
    "pycharm": {
     "name": "#%%\n"
    }
   }
  },
  {
   "cell_type": "markdown",
   "source": [
    "Класс который предоставляет рандомное число в заданном диапазоне"
   ],
   "metadata": {
    "collapsed": false,
    "pycharm": {
     "name": "#%% md\n"
    }
   }
  },
  {
   "cell_type": "code",
   "execution_count": 218,
   "outputs": [],
   "source": [
    "class Range:\n",
    "\n",
    "    def __init__(self, from_value, to_value) -> None:\n",
    "        self.from_value = from_value\n",
    "        self.to_value = to_value\n",
    "\n",
    "    def randomize_int(self) -> int:\n",
    "        return random.randint(self.from_value, self.to_value)\n",
    "\n",
    "    def randomize_float(self) -> float:\n",
    "        return random.uniform(self.from_value, self.to_value)"
   ],
   "metadata": {
    "collapsed": false,
    "pycharm": {
     "name": "#%%\n"
    }
   }
  },
  {
   "cell_type": "markdown",
   "source": [
    "Функция для поворота изображения на рандомный угол в заданном диапазоне"
   ],
   "metadata": {
    "collapsed": false,
    "pycharm": {
     "name": "#%% md\n"
    }
   }
  },
  {
   "cell_type": "code",
   "execution_count": 219,
   "outputs": [],
   "source": [
    "def random_rotate(image, rotate_range: Range):\n",
    "    return rotate_scale(image, rotate_range.randomize_int(), 1)"
   ],
   "metadata": {
    "collapsed": false,
    "pycharm": {
     "name": "#%%\n"
    }
   }
  },
  {
   "cell_type": "markdown",
   "source": [
    "Фукция для рандомного уменьшения/увеличения изображения в заданном диапазоне\n"
   ],
   "metadata": {
    "collapsed": false,
    "pycharm": {
     "name": "#%% md\n"
    }
   }
  },
  {
   "cell_type": "code",
   "execution_count": 220,
   "outputs": [],
   "source": [
    "def random_scale(image, scale_range: Range):\n",
    "    return rotate_scale(image, 0, scale_range.randomize_float())"
   ],
   "metadata": {
    "collapsed": false,
    "pycharm": {
     "name": "#%%\n"
    }
   }
  },
  {
   "cell_type": "code",
   "execution_count": 221,
   "outputs": [],
   "source": [
    "def rotate_scale(image, rotate_angle: int, scale_factor: float):\n",
    "    (h, w) = image.shape[0:2]\n",
    "    center = (w // 2, h // 2)\n",
    "    rotation_matrix = cv2.getRotationMatrix2D(center, rotate_angle, scale_factor)\n",
    "    return cv2.warpAffine(image, rotation_matrix, (w, h))\n"
   ],
   "metadata": {
    "collapsed": false,
    "pycharm": {
     "name": "#%%\n"
    }
   }
  },
  {
   "cell_type": "markdown",
   "source": [
    "Функция для рандомного сжатия/растяжения изображения в заданном диапазоне"
   ],
   "metadata": {
    "collapsed": false,
    "pycharm": {
     "name": "#%% md\n"
    }
   }
  },
  {
   "cell_type": "code",
   "execution_count": 222,
   "outputs": [],
   "source": [
    "def random_resize(image, resize_range: Range):\n",
    "    return cv2.resize(image, None, fx=resize_range.randomize_float(), fy=resize_range.randomize_float())"
   ],
   "metadata": {
    "collapsed": false,
    "pycharm": {
     "name": "#%%\n"
    }
   }
  },
  {
   "cell_type": "markdown",
   "source": [
    "Функция для аугментация изображения (вращение, сжатие/растяжение, увеличение/уменьшение)"
   ],
   "metadata": {
    "collapsed": false,
    "pycharm": {
     "name": "#%% md\n"
    }
   }
  },
  {
   "cell_type": "code",
   "execution_count": 223,
   "outputs": [],
   "source": [
    "def augmentation(image, out_image_size, rotate_range: Range = None, scale_range: Range = None, resize_range: Range = None):\n",
    "    if rotate_range is not None:\n",
    "        image = random_rotate(image, rotate_range)\n",
    "    if scale_range is not None:\n",
    "        image = random_scale(image, scale_range)\n",
    "    if resize_range is not None:\n",
    "        image = random_resize(image, resize_range)\n",
    "    return cv2.resize(image, out_image_size)"
   ],
   "metadata": {
    "collapsed": false,
    "pycharm": {
     "name": "#%%\n"
    }
   }
  },
  {
   "cell_type": "markdown",
   "source": [
    "Функция для сохранения изображения"
   ],
   "metadata": {
    "collapsed": false,
    "pycharm": {
     "name": "#%% md\n"
    }
   }
  },
  {
   "cell_type": "code",
   "execution_count": 224,
   "outputs": [],
   "source": [
    "def save_image(image, filename: str):\n",
    "    path = os.path.join(out_dir, filename)\n",
    "    cv2.imwrite(path, image)"
   ],
   "metadata": {
    "collapsed": false,
    "pycharm": {
     "name": "#%%\n"
    }
   }
  },
  {
   "cell_type": "markdown",
   "source": [
    "Функция для получения zip архива с гугл диска и распаковки файлов во входную директорию"
   ],
   "metadata": {
    "collapsed": false,
    "pycharm": {
     "name": "#%% md\n"
    }
   }
  },
  {
   "cell_type": "code",
   "execution_count": 225,
   "outputs": [],
   "source": [
    "def get_files_gdrive(url: str):\n",
    "    temp_zip_name = 'temp.zip'\n",
    "    gdown.download(url, temp_zip_name, quiet=False)\n",
    "    remove_dir(in_dir)\n",
    "    zipfile.ZipFile(temp_zip_name).extractall(in_dir)\n",
    "    os.remove(temp_zip_name)"
   ],
   "metadata": {
    "collapsed": false,
    "pycharm": {
     "name": "#%%\n"
    }
   }
  },
  {
   "cell_type": "markdown",
   "source": [
    "Дополнительные функции для работы с директориями"
   ],
   "metadata": {
    "collapsed": false,
    "pycharm": {
     "name": "#%% md\n"
    }
   }
  },
  {
   "cell_type": "code",
   "execution_count": 226,
   "outputs": [],
   "source": [
    "def remove_dir(path):\n",
    "    if os.path.isdir(path):\n",
    "        shutil.rmtree(path)\n",
    "\n",
    "def recreate_dir(path):\n",
    "    remove_dir(path)\n",
    "    os.mkdir(path, mode = 0o777, dir_fd = None)"
   ],
   "metadata": {
    "collapsed": false,
    "pycharm": {
     "name": "#%%\n"
    }
   }
  },
  {
   "cell_type": "markdown",
   "source": [
    "# Главная функция\n",
    "Скачивает с гугл диска zip файл с картинками и распаковывает их во входную директорию\n",
    "Рекурсивно проходит по всем папкам и файлам входящей директории обрабатывает файлы и сохраняет их в выходную директорию"
   ],
   "metadata": {
    "collapsed": false,
    "pycharm": {
     "name": "#%% md\n"
    }
   }
  },
  {
   "cell_type": "code",
   "execution_count": 227,
   "outputs": [
    {
     "name": "stderr",
     "output_type": "stream",
     "text": [
      "Downloading...\n",
      "From: https://drive.google.com/u/0/uc?id=1Sbrvsve94G6xZ2ql_qmKUptgqapxr-kp&export=download\n",
      "To: C:\\Users\\Nikolay\\OneDrive\\Рабочий стол\\DataScience\\DS3onl\\Horushko Nikolay\\dz-9\\temp.zip\n",
      "100%|██████████| 24.3M/24.3M [00:02<00:00, 11.2MB/s]\n"
     ]
    }
   ],
   "source": [
    "def handle_files(url: str, count: int, out_image_size=(256, 256), rotate=Range(-360, 360), scale=Range(0.1, 3), resize=Range(0.1, 3)):\n",
    "    \"\"\"\n",
    "    :param url: ссылка на zip файл на гугл диске !ссылка должна заканчиваться на download, а не на sharing!\n",
    "    :param out_image_size:\n",
    "    :param count: количество изменненых файлов от одного оригинального изображения\n",
    "    :param rotate: диапазон вращения изображения\n",
    "    :param scale: диапазон увеличения/уменьшения нижняя граница > 0\n",
    "    :param resize: диапазон/сжатия расширения нижняя граница > 0\n",
    "    :return: None\n",
    "    \"\"\"\n",
    "    get_files_gdrive(url)\n",
    "    recreate_dir(out_dir)\n",
    "    for path_dir, d, files in os.walk(in_dir):\n",
    "        for file in files:\n",
    "            path = os.path.join(path_dir, file)\n",
    "            img = cv2.imread(path)\n",
    "            for i in range(count):\n",
    "                res = augmentation(img, out_image_size=out_image_size, rotate_range=rotate, scale_range=scale, resize_range=resize)\n",
    "                out_filename = f'{file.replace(\".jpg\", \"\")}_({i}).jpg'\n",
    "                save_image(res, out_filename)\n",
    "\n",
    "handle_files('https://drive.google.com/u/0/uc?id=1Sbrvsve94G6xZ2ql_qmKUptgqapxr-kp&export=download', 3)"
   ],
   "metadata": {
    "collapsed": false,
    "pycharm": {
     "name": "#%%\n"
    }
   }
  }
 ],
 "metadata": {
  "kernelspec": {
   "display_name": "Python 3",
   "language": "python",
   "name": "python3"
  },
  "language_info": {
   "codemirror_mode": {
    "name": "ipython",
    "version": 2
   },
   "file_extension": ".py",
   "mimetype": "text/x-python",
   "name": "python",
   "nbconvert_exporter": "python",
   "pygments_lexer": "ipython2",
   "version": "2.7.6"
  }
 },
 "nbformat": 4,
 "nbformat_minor": 0
}