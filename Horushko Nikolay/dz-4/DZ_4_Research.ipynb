{
 "cells": [
  {
   "cell_type": "code",
   "execution_count": 63,
   "id": "b0eeb6d4",
   "metadata": {
    "pycharm": {
     "name": "#%%\n"
    }
   },
   "outputs": [
    {
     "name": "stdout",
     "output_type": "stream",
     "text": [
      "Collecting package metadata (current_repodata.json): ...working... done\n",
      "Solving environment: ...working... done\n",
      "\n",
      "## Package Plan ##\n",
      "\n",
      "  environment location: C:\\Users\\Nikolay\\anaconda3\n",
      "\n",
      "  added / updated specs:\n",
      "    - fuzzywuzzy\n",
      "\n",
      "\n",
      "The following packages will be downloaded:\n",
      "\n",
      "    package                    |            build\n",
      "    ---------------------------|-----------------\n",
      "    conda-4.14.0               |   py39hcbf5309_0         1.0 MB  conda-forge\n",
      "    fuzzywuzzy-0.18.0          |     pyhd8ed1ab_0          22 KB  conda-forge\n",
      "    python-levenshtein-0.12.2  |   py39hb82d6ee_2          82 KB  conda-forge\n",
      "    python_abi-3.9             |           2_cp39           4 KB  conda-forge\n",
      "    ------------------------------------------------------------\n",
      "                                           Total:         1.1 MB\n",
      "\n",
      "The following NEW packages will be INSTALLED:\n",
      "\n",
      "  fuzzywuzzy         conda-forge/noarch::fuzzywuzzy-0.18.0-pyhd8ed1ab_0\n",
      "  python-levenshtein conda-forge/win-64::python-levenshtein-0.12.2-py39hb82d6ee_2\n",
      "  python_abi         conda-forge/win-64::python_abi-3.9-2_cp39\n",
      "\n",
      "The following packages will be SUPERSEDED by a higher-priority channel:\n",
      "\n",
      "  conda              pkgs/main::conda-4.14.0-py39haa95532_0 --> conda-forge::conda-4.14.0-py39hcbf5309_0\n",
      "\n",
      "\n",
      "\n",
      "Downloading and Extracting Packages\n",
      "\n",
      "conda-4.14.0         | 1.0 MB    |            |   0% \n",
      "conda-4.14.0         | 1.0 MB    | 1          |   2% \n",
      "conda-4.14.0         | 1.0 MB    | ####7      |  47% \n",
      "conda-4.14.0         | 1.0 MB    | ########8  |  89% \n",
      "conda-4.14.0         | 1.0 MB    | ########## | 100% \n",
      "\n",
      "python-levenshtein-0 | 82 KB     |            |   0% \n",
      "python-levenshtein-0 | 82 KB     | #9         |  20% \n",
      "python-levenshtein-0 | 82 KB     | ########## | 100% \n",
      "\n",
      "python_abi-3.9       | 4 KB      |            |   0% \n",
      "python_abi-3.9       | 4 KB      | ########## | 100% \n",
      "\n",
      "fuzzywuzzy-0.18.0    | 22 KB     |            |   0% \n",
      "fuzzywuzzy-0.18.0    | 22 KB     | #######3   |  73% \n",
      "fuzzywuzzy-0.18.0    | 22 KB     | ########## | 100% \n",
      "Preparing transaction: ...working... done\n",
      "Verifying transaction: ...working... done\n",
      "Executing transaction: ...working... done\n",
      "Retrieving notices: ...working... done\n",
      "\n",
      "Note: you may need to restart the kernel to use updated packages.\n"
     ]
    }
   ],
   "source": [
    "conda install -c conda-forge fuzzywuzzy"
   ]
  },
  {
   "cell_type": "code",
   "execution_count": 111,
   "id": "f505cb41",
   "metadata": {
    "pycharm": {
     "name": "#%%\n"
    }
   },
   "outputs": [],
   "source": [
    "import re\n",
    "import pandas as pd\n",
    "from fuzzywuzzy import fuzz"
   ]
  },
  {
   "cell_type": "markdown",
   "id": "0fcfc001",
   "metadata": {
    "pycharm": {
     "name": "#%% md\n"
    }
   },
   "source": [
    "### TASK    \n",
    "С использованием библиотек Numpy и Pandas написать программу реализующую:\n",
    "* Загрузку текстового файла из корневого каталога объемом не менее 20000 символов включая пробелы и все символы.\n",
    "* Подсчет частоты встречаемости слов в загруженном файле (критерий схожести слов выбрать самостоятельно).\n",
    "* Подсчет длин предложений и их количества.\n",
    "* Ввод полученных данных в объект DataFrame и Series, а также отображение полученных результатов в виде таблицы “объекты - признаки”.\n",
    "* Построение гистограммы частоты встречаемости слов.\n"
   ]
  },
  {
   "cell_type": "markdown",
   "id": "f898f5f8",
   "metadata": {
    "pycharm": {
     "name": "#%% md\n"
    }
   },
   "source": [
    "### FTR-1\n",
    "\n",
    "> Чтение текста из файла.\n",
    "\n",
    "**Реализация:** Чтение файла целиком в память используя стандартные инструменты для чтения файлов python.\n",
    "**Возможные проблемы:** Файл может быть слишком большим для помещения в оперативную память"
   ]
  },
  {
   "cell_type": "markdown",
   "id": "f9ab6915",
   "metadata": {
    "pycharm": {
     "name": "#%% md\n"
    }
   },
   "source": [
    "### FTR-2\n",
    "\n",
    "> Разбиение текста на массив слов\n",
    "\n",
    "**Реализация:** Разбить текст  на слова с помощью regexp"
   ]
  },
  {
   "cell_type": "code",
   "execution_count": 18,
   "id": "8b9b691a",
   "metadata": {
    "pycharm": {
     "name": "#%%\n"
    }
   },
   "outputs": [],
   "source": [
    "# Пример реализации функции разбиения текста на слова с помощью regexp\n",
    "def split_into_words(line):\n",
    "    word_matcher = re.compile(r\"(\\w[\\w']*\\w|\\w)\")\n",
    "    return word_matcher.findall(line)\n",
    "\n",
    "# тест\n",
    "input = \"\"\"Oh, you can't help that,' said the Cat: 'we're all mad here. I'm mad. You're mad.\"\"\"\n",
    "output = split_into_words(input);\n",
    "expected = ['Oh', 'you', \"can't\", 'help', 'that', 'said', 'the', 'Cat', \"we're\", 'all', 'mad', 'here', \"I'm\", 'mad', \"You're\", 'mad']\n",
    "assert output, expected"
   ]
  },
  {
   "cell_type": "markdown",
   "id": "274bc6d3",
   "metadata": {
    "pycharm": {
     "name": "#%% md\n"
    }
   },
   "source": [
    "### FTR-4\n",
    "\n",
    "> источник для стоп-слов и работа с ними\n",
    "\n",
    "**Реализация:** \n",
    "* можно использовать готовые наборы стоп слов например [ссылка](https://github.com/stopwords-iso/stopwords-ru)\n",
    "* список стоп-слов читать из отдельного файла, так мы сможем легко удалять/добавлять стоп-слова для алгоритма, плюс мы можем иметь несколько наборов файлов например для разных языков\n",
    "* для хранения использовать Set так мы исключаем дубликаты, и можем проверять наличие такого элемента со сложностью o(1)"
   ]
  },
  {
   "cell_type": "code",
   "execution_count": 28,
   "id": "cab7203f",
   "metadata": {
    "pycharm": {
     "name": "#%%\n"
    }
   },
   "outputs": [],
   "source": [
    "stopWords = {'и', 'а', 'или', 'я', 'ты'}\n",
    "assert True, 'или' in stopWords"
   ]
  },
  {
   "cell_type": "markdown",
   "id": "7ee33b03",
   "metadata": {
    "pycharm": {
     "name": "#%% md\n"
    }
   },
   "source": [
    "### FTR-5\n",
    "\n",
    "> Подсчет количества всех слов исключая стоп слова\n",
    "\n",
    "**Реализация:**\n",
    "* для храниния используем Dictionary где ключ это слово, а значение это счетчик\n",
    "* Получаем следующее слово из текста\n",
    "* Проверяем что это не стоп-слово\n",
    "* Добавляем в нашу серию итерируя счетчик\n"
   ]
  },
  {
   "cell_type": "code",
   "execution_count": 59,
   "id": "b790e180",
   "metadata": {
    "pycharm": {
     "name": "#%%\n"
    }
   },
   "outputs": [
    {
     "name": "stdout",
     "output_type": "stream",
     "text": [
      "{'человечество': 2, 'стремится': 1, 'космос': 2, 'объяснить': 1, 'тягу': 1, 'далёким': 1, 'галактикам': 1, 'бесконечность': 1, 'неизвестность': 1}\n"
     ]
    }
   ],
   "source": [
    "stop_words = {'в', 'а', 'эту', 'туда', 'к', 'чем'}\n",
    "\n",
    "text = ['Человечество', 'стремится', 'человечество',  'в', 'космос', 'А', 'КОСМОС','чем', 'объяснить', 'эту', 'тягу', 'туда', 'к', 'далёким', 'Галактикам', 'в', 'бесконечность', 'в', 'неизвестность']\n",
    "\n",
    "def analyze():\n",
    "    result = dict();\n",
    "    for word in text: \n",
    "        word = word.lower();\n",
    "        if word not in stop_words:\n",
    "            counter = result.get(word, 0);\n",
    "            result[word] = counter + 1\n",
    "    return result\n",
    "       \n",
    "    \n",
    "print(analyze())\n",
    "\n",
    "\n",
    "\n"
   ]
  },
  {
   "cell_type": "markdown",
   "id": "cc9b27a2",
   "metadata": {
    "pycharm": {
     "name": "#%% md\n"
    }
   },
   "source": [
    "### FTR-6\n",
    "\n",
    "> Определение похожести слов \n",
    "\n",
    "**Реализация:**\n",
    "* Для определение похожести слова есть алгоритм сравнения растояний Левенштейна, на выходе мы получем коэффициент похожести слов\n",
    "* ипользуем реализацию этого алгоритма из библиотеки fuzzywuzzy\n",
    "* коэффициент выбираем эмпирически"
   ]
  },
  {
   "cell_type": "code",
   "execution_count": 148,
   "id": "b64fbe1c",
   "metadata": {
    "scrolled": true,
    "pycharm": {
     "name": "#%%\n"
    }
   },
   "outputs": [
    {
     "name": "stdout",
     "output_type": "stream",
     "text": [
      "True\n",
      "False\n",
      "False\n"
     ]
    }
   ],
   "source": [
    "def is_similar(wordA, wordB, k):\n",
    "    return fuzz.ratio(wordA, wordB) > k\n",
    "\n",
    "print(is_similar(\"огурец\", \"огурцы\", 80))\n",
    "print(is_similar('соленый', 'привет', 80))\n",
    "print(is_similar('соленый', 'слоенный', 80))\n"
   ]
  },
  {
   "cell_type": "markdown",
   "id": "f672fc8d",
   "metadata": {
    "pycharm": {
     "name": "#%% md\n"
    }
   },
   "source": [
    "### FTR-7\n",
    "\n",
    "> Подсчет количества и длин предложений\n",
    "\n",
    "**Реализация**\n",
    "* Разбиваем текст по точкам\n",
    "* Количество массивов - количество предложений\n",
    "* Длины массивов - длины предложений"
   ]
  },
  {
   "cell_type": "code",
   "execution_count": 167,
   "id": "d44f6ae0",
   "metadata": {
    "pycharm": {
     "name": "#%%\n"
    }
   },
   "outputs": [
    {
     "name": "stdout",
     "output_type": "stream",
     "text": [
      "sentences count:  6\n",
      "lenth of 2 sentence 71\n"
     ]
    }
   ],
   "source": [
    "text = 'В город ворвалась зима. Еще вчера ветер гонял по улицам опавшие листья, моросил холодный дождь. Сегодня же с утра все белым-бело. За ночь снежная туча щедро поделилась снегом, который теперь искрился и переливался в лучах яркого утреннего солнца. Лицо прохожих, одетых в теплые шубы и пуховики, были по-детски радостными.' \n",
    "\n",
    "sentences = text.split('.');\n",
    "print('sentences count: ', len(sentences))\n",
    "print('lenth of (2) sentence', len(sentences[1]))\n"
   ]
  },
  {
   "cell_type": "markdown",
   "id": "9ef56816",
   "metadata": {
    "pycharm": {
     "name": "#%% md\n"
    }
   },
   "source": [
    "### FTR-8\n",
    "\n",
    "> Отображение гистограммы для слов"
   ]
  },
  {
   "cell_type": "code",
   "execution_count": 129,
   "id": "a08a7354",
   "metadata": {
    "pycharm": {
     "name": "#%%\n"
    }
   },
   "outputs": [
    {
     "data": {
      "text/plain": [
       "<AxesSubplot:>"
      ]
     },
     "execution_count": 129,
     "metadata": {},
     "output_type": "execute_result"
    },
    {
     "data": {
      "image/png": "[encoded data removed]",
      "text/plain": [
       "<Figure size 432x288 with 1 Axes>"
      ]
     },
     "metadata": {
      "needs_background": "light"
     },
     "output_type": "display_data"
    }
   ],
   "source": [
    "dic = {\"One\" : 7, \"Two\" : 10, \"Three\" : 45, \"Four\" : 23, \"Five\" : 77 }\n",
    "\n",
    "a = pd.Series(dic.values(), dic.keys())\n",
    "a.plot(kind=\"bar\")\n"
   ]
  },
  {
   "cell_type": "markdown",
   "id": "0045a1c0",
   "metadata": {
    "pycharm": {
     "name": "#%% md\n"
    }
   },
   "source": [
    "### FTR-9\n",
    "\n",
    "> группировка слов по похожести\n",
    "\n",
    "* у нас уже есть словарь в котором подсчитано частота слов из текста исключая стоп слова\n",
    "* сгрупировать слова по похожести\n",
    "* Проходим вложенным циклом по словарю если слова похожи то увеличиваем счетчик в результирующем словаре\n",
    "*Недостаток* сложность алгоритма о(n2)"
   ]
  },
  {
   "cell_type": "code",
   "execution_count": 158,
   "id": "39ac38db",
   "metadata": {
    "pycharm": {
     "name": "#%%\n"
    }
   },
   "outputs": [
    {
     "name": "stdout",
     "output_type": "stream",
     "text": [
      "{'Первый': 62, 'Привет': 23, 'Мир': 77}\n"
     ]
    }
   ],
   "source": [
    "def group(given):\n",
    "    result = dict()\n",
    "    for word in dic:\n",
    "        counts = getSimilarWordCounts(given, word)\n",
    "        if counts > 0:\n",
    "            result[word]=counts\n",
    "    return result;\n",
    "\n",
    "def getSimilarWordCounts(dic, word):\n",
    "    counter = 0;\n",
    "    for w in dic:\n",
    "        if is_similar(word, w, 60):\n",
    "            counter += dic.get(w)\n",
    "            dic[w]=0\n",
    "    return counter;\n",
    "    \n",
    "given = {\"Первый\" : 7, \"Первая\" : 10, \"Первого\" : 45, \"Привет\" : 23, \"Мир\" : 77 }\n",
    "print(group(given))"
   ]
  },
  {
   "cell_type": "code",
   "execution_count": null,
   "id": "de58f424",
   "metadata": {
    "pycharm": {
     "name": "#%%\n"
    }
   },
   "outputs": [],
   "source": []
  }
 ],
 "metadata": {
  "kernelspec": {
   "display_name": "Python 3 (ipykernel)",
   "language": "python",
   "name": "python3"
  },
  "language_info": {
   "codemirror_mode": {
    "name": "ipython",
    "version": 3
   },
   "file_extension": ".py",
   "mimetype": "text/x-python",
   "name": "python",
   "nbconvert_exporter": "python",
   "pygments_lexer": "ipython3",
   "version": "3.9.12"
  }
 },
 "nbformat": 4,
 "nbformat_minor": 5
}