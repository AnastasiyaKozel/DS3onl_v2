{
 "cells": [
  {
   "cell_type": "markdown",
   "source": [
    "### Задание\n",
    "Есть Алфавит, характеристиками которого являются:\n",
    "1. Язык\n",
    "2. Список букв\n",
    "\n",
    "Для Алфавита можно:\n",
    "1. Напечатать все буквы алфавита\n",
    "2. Посчитать количество букв\n",
    "\n",
    "Так же есть Английский алфавит, который обладает следующими свойствами:\n",
    "1. Язык\n",
    "2. Список букв\n",
    "3. Количество букв\n",
    "\n",
    "Для Английского алфавита можно:\n",
    "1. Посчитать количество букв\n",
    "2. Определить, относится ли буква к английскому алфавиту\n",
    "3. Получить пример текста на английском языке\n",
    "\n",
    "\n",
    "Класс Alphabet\n",
    "1. Создайте класс Alphabet\n",
    "2. Создайте метод __init__(), внутри которого будут определены два динамических свойства: 1) lang - язык и 2) letters - список букв. Начальные значения свойств берутся из входных параметров метода.\n",
    "3. Создайте метод print(), который выведет в консоль буквы алфавита\n",
    "4. Создайте метод letters_num(), который вернет количество букв в алфавите\n",
    "\n",
    "Класс EngAlphabet\n",
    "1. Создайте класс EngAlphabet путем наследования от класса Alphabet\n",
    "2. Создайте метод __init__(), внутри которого будет вызываться родительский метод __init__(). В качестве параметров ему будут передаваться обозначение языка(например, 'En') и строка, состоящая из всех букв алфавита(можно воспользоваться свойством ascii_uppercase из модуля string).\n",
    "3. Добавьте приватное статическое свойство __letters_num, которое будет хранить количество букв в алфавите.\n",
    "4. Создайте метод is_en_letter(), который будет принимать букву в качестве параметра и определять, относится ли эта буква к английскому алфавиту.\n",
    "5. Переопределите метод letters_num() - пусть в текущем классе классе он будет возвращать значение свойства __letters_num.\n",
    "6. Создайте статический метод example(), который будет возвращать пример текста на английском языке."
   ],
   "metadata": {
    "collapsed": false,
    "pycharm": {
     "name": "#%% md\n"
    }
   }
  },
  {
   "cell_type": "code",
   "execution_count": 69,
   "outputs": [],
   "source": [
    "import string"
   ],
   "metadata": {
    "collapsed": false,
    "pycharm": {
     "name": "#%%\n"
    }
   }
  },
  {
   "cell_type": "code",
   "execution_count": 70,
   "outputs": [],
   "source": [
    "class Alphabet:\n",
    "    def __init__(self, language, letters):\n",
    "        self.language = str(language).upper()\n",
    "        self.letters = str(letters).upper()\n",
    "\n",
    "    def letters_num(self):\n",
    "        return len(self.letters)\n",
    "\n",
    "    def print(self):\n",
    "        print(self.letters)"
   ],
   "metadata": {
    "collapsed": false,
    "pycharm": {
     "name": "#%%\n"
    }
   }
  },
  {
   "cell_type": "code",
   "execution_count": 71,
   "outputs": [],
   "source": [
    "class EngAlphabet(Alphabet):\n",
    "    def __init__(self, language, letters, size):\n",
    "        super().__init__(language, letters)\n",
    "        self.__leters_num = size\n",
    "\n",
    "    def letters_num(self):\n",
    "        return self.__leters_num\n",
    "\n",
    "    def is_en_letter(self, letter):\n",
    "        return str(letter).upper() in self.letters\n",
    "\n",
    "    @staticmethod\n",
    "    def example():\n",
    "        return 'The five boxing wizards jump quickly'"
   ],
   "metadata": {
    "collapsed": false,
    "pycharm": {
     "name": "#%%\n"
    }
   }
  },
  {
   "cell_type": "markdown",
   "source": [
    "### Тесты:\n",
    "1. Создайте объект класса EngAlphabet\n",
    "2. Напечатайте буквы алфавита для этого объекта\n",
    "3. Выведите количество букв в алфавите\n",
    "4. Проверьте, относится ли буква F к английскому алфавиту\n",
    "5. Проверьте, относится ли буква Щ к английскому алфавиту\n",
    "6. Выведите пример текста на английском языке\n"
   ],
   "metadata": {
    "collapsed": false,
    "pycharm": {
     "name": "#%% md\n"
    }
   }
  },
  {
   "cell_type": "code",
   "execution_count": 72,
   "outputs": [],
   "source": [
    "\n",
    "engAlphabet = EngAlphabet(\"en\", \"ABCDEFGHIJKLMNOPQRSTUVWXYZ\", 45)\n"
   ],
   "metadata": {
    "collapsed": false,
    "pycharm": {
     "name": "#%%\n"
    }
   }
  },
  {
   "cell_type": "code",
   "execution_count": 73,
   "outputs": [
    {
     "name": "stdout",
     "output_type": "stream",
     "text": [
      "Letters: ABCDEFGHIJKLMNOPQRSTUVWXYZ\n",
      "Alphabet size: 45\n",
      "Has F: True\n",
      "Has Щ: False\n",
      "Text example: The five boxing wizards jump quickly\n"
     ]
    }
   ],
   "source": [
    "print(f\"Letters: {engAlphabet.letters}\")\n",
    "print(f\"Alphabet size: {engAlphabet.letters_num()}\")\n",
    "print(f\"Has F: {engAlphabet.is_en_letter('F')}\")\n",
    "print(f\"Has Щ: {engAlphabet.is_en_letter('Щ')}\")\n",
    "print(f\"Text example: {EngAlphabet.example()}\")"
   ],
   "metadata": {
    "collapsed": false,
    "pycharm": {
     "name": "#%%\n"
    }
   }
  }
 ],
 "metadata": {
  "kernelspec": {
   "display_name": "Python 3",
   "language": "python",
   "name": "python3"
  },
  "language_info": {
   "codemirror_mode": {
    "name": "ipython",
    "version": 2
   },
   "file_extension": ".py",
   "mimetype": "text/x-python",
   "name": "python",
   "nbconvert_exporter": "python",
   "pygments_lexer": "ipython2",
   "version": "2.7.6"
  }
 },
 "nbformat": 4,
 "nbformat_minor": 0
}