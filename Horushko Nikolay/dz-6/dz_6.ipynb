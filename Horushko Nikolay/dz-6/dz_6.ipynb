{
 "cells": [
  {
   "cell_type": "markdown",
   "source": [
    "# Работа №6 (2022-09-28)\n",
    "Реализовать с использованием потоков и процессов скачивание файлов из интернета.\n",
    "Список файлов для скачивания подготовить самостоятельно\n",
    "(например изображений, не менее 100 изображений или других объектов).\n",
    "Сравнить производительность с последовательным методом.\n",
    "Сравнивть производительность Thread и multiprocessing решений.\n",
    "Попробовать подобрать оптимальное число потоков/процессов."
   ],
   "metadata": {
    "collapsed": false,
    "pycharm": {
     "name": "#%% md\n"
    }
   }
  },
  {
   "cell_type": "code",
   "execution_count": 20,
   "outputs": [],
   "source": [
    "from UrlProvider import UrlProviderFile\n",
    "from DownloadService import DownloadServiceSerial\n",
    "from DownloadService import DownloadServiceThreadPool\n",
    "from DownloadService import DownloadServiceMultiprocessing\n",
    "from DownloadService import Result"
   ],
   "metadata": {
    "collapsed": false,
    "pycharm": {
     "name": "#%%\n"
    }
   }
  },
  {
   "cell_type": "code",
   "execution_count": 21,
   "outputs": [],
   "source": [
    "# получить сервис который предоставит список ссылок\n",
    "urlProvider = UrlProviderFile('urls.txt')"
   ],
   "metadata": {
    "collapsed": false,
    "pycharm": {
     "name": "#%%\n"
    }
   }
  },
  {
   "cell_type": "markdown",
   "source": [
    "Запускаем скачивание файлов в последовательном режиме"
   ],
   "metadata": {
    "collapsed": false,
    "pycharm": {
     "name": "#%% md\n"
    }
   }
  },
  {
   "cell_type": "code",
   "execution_count": 22,
   "outputs": [
    {
     "name": "stdout",
     "output_type": "stream",
     "text": [
      "Files: 200 Downloading... \n",
      "urls handled: 200 in 1 threads, execution time: 7.46392822265625 ms\n"
     ]
    }
   ],
   "source": [
    "result = DownloadServiceSerial(urlProvider).download()\n",
    "print(result)"
   ],
   "metadata": {
    "collapsed": false,
    "pycharm": {
     "name": "#%%\n"
    }
   }
  },
  {
   "cell_type": "markdown",
   "source": [
    "Запускаем скачивание файлов с помощью пула потоков"
   ],
   "metadata": {
    "collapsed": false,
    "pycharm": {
     "name": "#%% md\n"
    }
   }
  },
  {
   "cell_type": "code",
   "execution_count": 23,
   "outputs": [
    {
     "name": "stdout",
     "output_type": "stream",
     "text": [
      "Files: 200 Downloading... \n",
      "urls handled: 200 in 4 threads, execution time: 3.475315570831299 ms\n",
      "Files: 200 Downloading... \n",
      "urls handled: 200 in 8 threads, execution time: 3.061180591583252 ms\n",
      "Files: 200 Downloading... \n",
      "urls handled: 200 in 12 threads, execution time: 2.3796420097351074 ms\n",
      "Files: 200 Downloading... \n",
      "urls handled: 200 in 16 threads, execution time: 2.3187811374664307 ms\n",
      "Files: 200 Downloading... \n",
      "urls handled: 200 in 20 threads, execution time: 2.0734403133392334 ms\n",
      "Files: 200 Downloading... \n",
      "urls handled: 200 in 24 threads, execution time: 2.117968797683716 ms\n",
      "Files: 200 Downloading... \n",
      "urls handled: 200 in 28 threads, execution time: 2.1716928482055664 ms\n",
      "Files: 200 Downloading... \n",
      "urls handled: 200 in 32 threads, execution time: 2.136054039001465 ms\n",
      "Files: 200 Downloading... \n",
      "urls handled: 200 in 36 threads, execution time: 2.1182079315185547 ms\n",
      "Files: 200 Downloading... \n",
      "urls handled: 200 in 40 threads, execution time: 2.165525436401367 ms\n",
      "Files: 200 Downloading... \n",
      "urls handled: 200 in 44 threads, execution time: 2.114821434020996 ms\n",
      "Files: 200 Downloading... \n",
      "urls handled: 200 in 48 threads, execution time: 2.212296724319458 ms\n",
      "Files: 200 Downloading... \n",
      "urls handled: 200 in 52 threads, execution time: 2.124439001083374 ms\n",
      "Files: 200 Downloading... \n",
      "urls handled: 200 in 56 threads, execution time: 2.265930414199829 ms\n",
      "Files: 200 Downloading... \n",
      "urls handled: 200 in 60 threads, execution time: 2.1245956420898438 ms\n",
      "Files: 200 Downloading... \n",
      "urls handled: 200 in 64 threads, execution time: 2.1807501316070557 ms\n",
      "Files: 200 Downloading... \n",
      "urls handled: 200 in 68 threads, execution time: 2.115241527557373 ms\n",
      "Files: 200 Downloading... \n",
      "urls handled: 200 in 72 threads, execution time: 2.057140350341797 ms\n",
      "Files: 200 Downloading... \n",
      "urls handled: 200 in 76 threads, execution time: 2.058962821960449 ms\n"
     ]
    }
   ],
   "source": [
    "results = []\n",
    "for i in range(1, 20):\n",
    "    result = DownloadServiceThreadPool(urlProvider, i*4).download()\n",
    "    print(result)\n",
    "    results.append(result)"
   ],
   "metadata": {
    "collapsed": false,
    "pycharm": {
     "name": "#%%\n"
    }
   }
  },
  {
   "cell_type": "markdown",
   "source": [
    "Строим зависимость размер Thread Pool и время скачивания 300 файлов"
   ],
   "metadata": {
    "collapsed": false,
    "pycharm": {
     "name": "#%% md\n"
    }
   }
  },
  {
   "cell_type": "code",
   "execution_count": 24,
   "outputs": [
    {
     "data": {
      "text/plain": "<AxesSubplot:>"
     },
     "execution_count": 24,
     "metadata": {},
     "output_type": "execute_result"
    },
    {
     "data": {
      "text/plain": "<Figure size 432x288 with 1 Axes>",
      "image/png": "[encoded data removed]"
     },
     "metadata": {
      "needs_background": "light"
     },
     "output_type": "display_data"
    }
   ],
   "source": [
    "Result.to_series(results).plot()"
   ],
   "metadata": {
    "collapsed": false,
    "pycharm": {
     "name": "#%%\n"
    }
   }
  },
  {
   "cell_type": "markdown",
   "source": [
    "Запускаем скачивание файлов с помощью multiprocessing"
   ],
   "metadata": {
    "collapsed": false,
    "pycharm": {
     "name": "#%% md\n"
    }
   }
  },
  {
   "cell_type": "code",
   "execution_count": 25,
   "outputs": [
    {
     "name": "stdout",
     "output_type": "stream",
     "text": [
      "Files: 200 Downloading... \n",
      "urls handled: 200 in 4 threads, execution time: 3.2428858280181885 ms\n",
      "Files: 200 Downloading... \n",
      "urls handled: 200 in 8 threads, execution time: 2.6260428428649902 ms\n",
      "Files: 200 Downloading... \n",
      "urls handled: 200 in 12 threads, execution time: 2.3539071083068848 ms\n",
      "Files: 200 Downloading... \n",
      "urls handled: 200 in 16 threads, execution time: 2.2638978958129883 ms\n",
      "Files: 200 Downloading... \n",
      "urls handled: 200 in 20 threads, execution time: 2.263068675994873 ms\n",
      "Files: 200 Downloading... \n",
      "urls handled: 200 in 24 threads, execution time: 2.1281213760375977 ms\n",
      "Files: 200 Downloading... \n",
      "urls handled: 200 in 28 threads, execution time: 2.174463987350464 ms\n",
      "Files: 200 Downloading... \n",
      "urls handled: 200 in 32 threads, execution time: 2.2008512020111084 ms\n",
      "Files: 200 Downloading... \n",
      "urls handled: 200 in 36 threads, execution time: 2.3564324378967285 ms\n",
      "Files: 200 Downloading... \n",
      "urls handled: 200 in 40 threads, execution time: 2.167240858078003 ms\n",
      "Files: 200 Downloading... \n",
      "urls handled: 200 in 44 threads, execution time: 2.1494715213775635 ms\n",
      "Files: 200 Downloading... \n",
      "urls handled: 200 in 48 threads, execution time: 2.1546971797943115 ms\n",
      "Files: 200 Downloading... \n",
      "urls handled: 200 in 52 threads, execution time: 2.1717796325683594 ms\n",
      "Files: 200 Downloading... \n",
      "urls handled: 200 in 56 threads, execution time: 2.153205633163452 ms\n",
      "Files: 200 Downloading... \n",
      "urls handled: 200 in 60 threads, execution time: 2.124276638031006 ms\n",
      "Files: 200 Downloading... \n",
      "urls handled: 200 in 64 threads, execution time: 2.229980707168579 ms\n",
      "Files: 200 Downloading... \n",
      "urls handled: 200 in 68 threads, execution time: 2.3223302364349365 ms\n",
      "Files: 200 Downloading... \n",
      "urls handled: 200 in 72 threads, execution time: 2.139737844467163 ms\n",
      "Files: 200 Downloading... \n",
      "urls handled: 200 in 76 threads, execution time: 2.169473171234131 ms\n"
     ]
    }
   ],
   "source": [
    "results = []\n",
    "for i in range(1, 20):\n",
    "    result = DownloadServiceMultiprocessing(urlProvider, i*4).download()\n",
    "    print(result)\n",
    "    results.append(result)"
   ],
   "metadata": {
    "collapsed": false,
    "pycharm": {
     "name": "#%%\n"
    }
   }
  },
  {
   "cell_type": "code",
   "execution_count": 26,
   "outputs": [
    {
     "data": {
      "text/plain": "<AxesSubplot:>"
     },
     "execution_count": 26,
     "metadata": {},
     "output_type": "execute_result"
    },
    {
     "data": {
      "text/plain": "<Figure size 432x288 with 1 Axes>",
      "image/png": "[encoded data removed]"
     },
     "metadata": {
      "needs_background": "light"
     },
     "output_type": "display_data"
    }
   ],
   "source": [
    "Result.to_series(results).plot()"
   ],
   "metadata": {
    "collapsed": false,
    "pycharm": {
     "name": "#%%\n"
    }
   }
  },
  {
   "cell_type": "markdown",
   "source": [
    "### Выводы\n",
    "1. Последовательный метод\n",
    "* самый медленный, но экономит ресурсы памяти, процессора и сети\n",
    "\n",
    "2. Скачивание с помощью пула потоков\n",
    "* намного быстрее последовательного скачивания, но производительность растет только до определенного количества потоков, а при большом количестве потоков производительность падает, по графикам видно что производительность росла до пулла размером в 20 потоков что близко к рекомендованому максимуму (количество_потоков_процессора * 2). Но также расход ресурсов компьютера и сети выше\n",
    "3. Скачивание с помощью multiprocessing\n",
    "* похоже более тяжеловестное решение происходит просадка производительности на 8 потоках, что соответсвует количеству физических потоков компьютера"
   ],
   "metadata": {
    "collapsed": false,
    "pycharm": {
     "name": "#%% md\n"
    }
   }
  },
  {
   "cell_type": "code",
   "execution_count": 26,
   "outputs": [],
   "source": [],
   "metadata": {
    "collapsed": false,
    "pycharm": {
     "name": "#%%\n"
    }
   }
  }
 ],
 "metadata": {
  "kernelspec": {
   "display_name": "Python 3",
   "language": "python",
   "name": "python3"
  },
  "language_info": {
   "codemirror_mode": {
    "name": "ipython",
    "version": 2
   },
   "file_extension": ".py",
   "mimetype": "text/x-python",
   "name": "python",
   "nbconvert_exporter": "python",
   "pygments_lexer": "ipython2",
   "version": "2.7.6"
  }
 },
 "nbformat": 4,
 "nbformat_minor": 0
}