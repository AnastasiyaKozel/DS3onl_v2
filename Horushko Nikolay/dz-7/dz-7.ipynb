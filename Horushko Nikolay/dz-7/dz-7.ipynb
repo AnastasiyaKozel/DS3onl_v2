{
 "cells": [
  {
   "cell_type": "markdown",
   "source": [
    "## Howework 7\n",
    "\n",
    "Напишите декоратор, оптимизирующий работу декорируемой функции. Декоратор должен сохранять результат работы функции на ближайшие три запуска и вместо выполнения функции возвращать сохранённый результат.\n",
    "После трёх запусков функция должна вызываться вновь, а результат работы функции — вновь кешироваться."
   ],
   "metadata": {
    "collapsed": false,
    "pycharm": {
     "name": "#%% md\n"
    }
   }
  },
  {
   "cell_type": "markdown",
   "source": [
    "## Реализация\n",
    "Одна и та же функция может вызываться с разными аргументами, следовательно нужно кешировать результат в зависимости от аргументов функции\n",
    "для этого буду хранить результат в словаре где ключ - аргументы функции, а значение это результат\n",
    "через такой подход я смогу возвращать закешированное значение в зависимости от аргументов функции"
   ],
   "metadata": {
    "collapsed": false,
    "pycharm": {
     "name": "#%% md\n"
    }
   }
  },
  {
   "cell_type": "code",
   "execution_count": 1,
   "outputs": [],
   "source": [
    "# Хранение результатов и количество вызовов для определенных аргументов функции\n",
    "# Хранение происходит в словаре где ключ - аргументы функции преобразованные в строку, значение результат и счетчик вызовов\n",
    "class CacheStorage:\n",
    "\n",
    "    # attempt_number максимальное количество вызовов при котором значение выселяется из кеша\n",
    "    def __init__(self, attempt_number) -> None:\n",
    "        self.attempt_number = attempt_number\n",
    "        self.cache = dict()\n",
    "\n",
    "    # проверяет по списку аргументов есть ли для них результат в кеше\n",
    "    def has(self, *args, **kwargs):\n",
    "        key = CacheStorage.key(args, kwargs)\n",
    "        return key in self.cache and self.cache.get(key).counter < self.attempt_number\n",
    "\n",
    "    # получает по списку аргументов значение\n",
    "    def get(self, *args, **kwargs):\n",
    "        key = CacheStorage.key(args, kwargs)\n",
    "        return self.cache.get(key)\n",
    "\n",
    "    # добавляет в кеш значения результата по списку аргументов\n",
    "    def add(self, result, *args, **kwargs):\n",
    "        key = CacheStorage.key(args, kwargs)\n",
    "        self.cache[key] = CachedResult(result)\n",
    "\n",
    "    # приводит список аргументов в строку\n",
    "    @staticmethod\n",
    "    def key(*args, **kwargs):\n",
    "        return str(args + tuple(kwargs.items()))\n",
    "\n",
    "# Хранит результат и счетчик вызовов\n",
    "class CachedResult:\n",
    "\n",
    "    def __init__(self, result) -> None:\n",
    "        self.__result = result\n",
    "        self.counter = 0\n",
    "\n",
    "    # метод для получения результат. Возвращает результат и увеличивает счетчик вызово на 1\n",
    "    def get_result(self):\n",
    "        self.counter += 1\n",
    "        return self.__result\n",
    "\n",
    "    def __str__(self) -> str:\n",
    "        return f\"result: [{self.__result}] counter: {self.counter}\""
   ],
   "metadata": {
    "collapsed": false,
    "pycharm": {
     "name": "#%%\n"
    }
   }
  },
  {
   "cell_type": "markdown",
   "source": [
    "## Декоратор для кеширования"
   ],
   "metadata": {
    "collapsed": false,
    "pycharm": {
     "name": "#%% md\n"
    }
   }
  },
  {
   "cell_type": "code",
   "execution_count": 2,
   "outputs": [],
   "source": [
    "# Кеширует значение декорируемой функции, возвращает закешированный результат 3 раза,\n",
    "# на четвертый закешированное значение выселяется и добавляется новый результат\n",
    "def cache(func):\n",
    "    def wrapper(*args, **kwargs):\n",
    "        if wrapper.cache.has(args, kwargs):\n",
    "            cached_result = wrapper.cache.get(args, kwargs)\n",
    "            print(f'Function: {func.__name__!r} with args: {CacheStorage.key(args, kwargs)} return cached {cached_result}')\n",
    "            return cached_result.get_result()\n",
    "        else:\n",
    "            result = func(*args, **kwargs)\n",
    "            print(f'Function: {func.__name__!r} with args: {CacheStorage.key(args, kwargs)} return [{result}] and add result to cache')\n",
    "            wrapper.cache.add(result, args, kwargs)\n",
    "            return result\n",
    "    wrapper.cache = CacheStorage(3)\n",
    "    return wrapper"
   ],
   "metadata": {
    "collapsed": false,
    "pycharm": {
     "name": "#%%\n"
    }
   }
  },
  {
   "cell_type": "markdown",
   "source": [
    "### Тестовые функции"
   ],
   "metadata": {
    "collapsed": false,
    "pycharm": {
     "name": "#%% md\n"
    }
   }
  },
  {
   "cell_type": "code",
   "execution_count": 3,
   "outputs": [],
   "source": [
    "@cache\n",
    "def sqr(x):\n",
    "    return x * x\n",
    "\n",
    "@cache\n",
    "def sqrt(x):\n",
    "    return x ** 0.5\n",
    "\n",
    "@cache\n",
    "def perimeter(*args):\n",
    "    result = 0\n",
    "    for arg in args:\n",
    "        result += arg\n",
    "    return result\n",
    "\n",
    "@cache\n",
    "def join(delimeter, *args):\n",
    "    result = ''\n",
    "    delimeter = str(delimeter)\n",
    "    for arg in args:\n",
    "        result += str(arg) + delimeter\n",
    "    return result[:-len(delimeter)]\n",
    "\n",
    "import random\n",
    "@cache\n",
    "def random_in_range(start, end):\n",
    "    return random.randint(start, end)\n"
   ],
   "metadata": {
    "collapsed": false,
    "pycharm": {
     "name": "#%%\n"
    }
   }
  },
  {
   "cell_type": "markdown",
   "source": [
    "# Тесты"
   ],
   "metadata": {
    "collapsed": false,
    "pycharm": {
     "name": "#%% md\n"
    }
   }
  },
  {
   "cell_type": "markdown",
   "source": [
    "### Первый вызовов функций добавляет в кеш"
   ],
   "metadata": {
    "collapsed": false,
    "pycharm": {
     "name": "#%% md\n"
    }
   }
  },
  {
   "cell_type": "code",
   "execution_count": 4,
   "outputs": [
    {
     "name": "stdout",
     "output_type": "stream",
     "text": [
      "Function: 'sqr' with args: ((2,), {}) return [4] and add result to cache\n",
      "Function: 'sqr' with args: ((10,), {}) return [100] and add result to cache\n",
      "Function: 'sqrt' with args: ((256,), {}) return [16.0] and add result to cache\n",
      "Function: 'perimeter' with args: ((1, 2, 3, 4, 5), {}) return [15] and add result to cache\n",
      "Function: 'perimeter' with args: ((10, 20, 30, 40), {}) return [100] and add result to cache\n",
      "Function: 'join' with args: ((' : ', 'Hello', 'World'), {}) return [Hello : World] and add result to cache\n",
      "Function: 'join' with args: (('+', 2, 4, 8, 16), {}) return [2+4+8+16] and add result to cache\n",
      "Function: 'random_in_range' with args: ((0, 100), {}) return [28] and add result to cache\n",
      "Function: 'random_in_range' with args: ((1000, 9999), {}) return [1639] and add result to cache\n"
     ]
    },
    {
     "data": {
      "text/plain": "1639"
     },
     "execution_count": 4,
     "metadata": {},
     "output_type": "execute_result"
    }
   ],
   "source": [
    "sqr(2)\n",
    "sqr(10)\n",
    "sqrt(256)\n",
    "perimeter(1,2,3,4,5)\n",
    "perimeter(10, 20, 30, 40)\n",
    "join(' : ', 'Hello', 'World')\n",
    "join('+', 2, 4, 8, 16)\n",
    "random_in_range(0, 100)\n",
    "random_in_range(1000, 9999)"
   ],
   "metadata": {
    "collapsed": false,
    "pycharm": {
     "name": "#%%\n"
    }
   }
  },
  {
   "cell_type": "markdown",
   "source": [
    "### Следующие три вызова возвращают результаты из кеша"
   ],
   "metadata": {
    "collapsed": false,
    "pycharm": {
     "name": "#%% md\n"
    }
   }
  },
  {
   "cell_type": "code",
   "execution_count": 5,
   "outputs": [
    {
     "name": "stdout",
     "output_type": "stream",
     "text": [
      "\n",
      "----------------- attempt 1 ----------------------\n",
      "\n",
      "Function: 'sqr' with args: ((2,), {}) return cached result: [4] counter: 0\n",
      "Function: 'sqr' with args: ((10,), {}) return cached result: [100] counter: 0\n",
      "Function: 'sqrt' with args: ((256,), {}) return cached result: [16.0] counter: 0\n",
      "Function: 'perimeter' with args: ((1, 2, 3, 4, 5), {}) return cached result: [15] counter: 0\n",
      "Function: 'perimeter' with args: ((10, 20, 30, 40), {}) return cached result: [100] counter: 0\n",
      "Function: 'join' with args: ((' : ', 'Hello', 'World'), {}) return cached result: [Hello : World] counter: 0\n",
      "Function: 'join' with args: (('+', 2, 4, 8, 16), {}) return cached result: [2+4+8+16] counter: 0\n",
      "Function: 'random_in_range' with args: ((0, 100), {}) return cached result: [28] counter: 0\n",
      "Function: 'random_in_range' with args: ((1000, 9999), {}) return cached result: [1639] counter: 0\n",
      "\n",
      "----------------- attempt 2 ----------------------\n",
      "\n",
      "Function: 'sqr' with args: ((2,), {}) return cached result: [4] counter: 1\n",
      "Function: 'sqr' with args: ((10,), {}) return cached result: [100] counter: 1\n",
      "Function: 'sqrt' with args: ((256,), {}) return cached result: [16.0] counter: 1\n",
      "Function: 'perimeter' with args: ((1, 2, 3, 4, 5), {}) return cached result: [15] counter: 1\n",
      "Function: 'perimeter' with args: ((10, 20, 30, 40), {}) return cached result: [100] counter: 1\n",
      "Function: 'join' with args: ((' : ', 'Hello', 'World'), {}) return cached result: [Hello : World] counter: 1\n",
      "Function: 'join' with args: (('+', 2, 4, 8, 16), {}) return cached result: [2+4+8+16] counter: 1\n",
      "Function: 'random_in_range' with args: ((0, 100), {}) return cached result: [28] counter: 1\n",
      "Function: 'random_in_range' with args: ((1000, 9999), {}) return cached result: [1639] counter: 1\n",
      "\n",
      "----------------- attempt 3 ----------------------\n",
      "\n",
      "Function: 'sqr' with args: ((2,), {}) return cached result: [4] counter: 2\n",
      "Function: 'sqr' with args: ((10,), {}) return cached result: [100] counter: 2\n",
      "Function: 'sqrt' with args: ((256,), {}) return cached result: [16.0] counter: 2\n",
      "Function: 'perimeter' with args: ((1, 2, 3, 4, 5), {}) return cached result: [15] counter: 2\n",
      "Function: 'perimeter' with args: ((10, 20, 30, 40), {}) return cached result: [100] counter: 2\n",
      "Function: 'join' with args: ((' : ', 'Hello', 'World'), {}) return cached result: [Hello : World] counter: 2\n",
      "Function: 'join' with args: (('+', 2, 4, 8, 16), {}) return cached result: [2+4+8+16] counter: 2\n",
      "Function: 'random_in_range' with args: ((0, 100), {}) return cached result: [28] counter: 2\n",
      "Function: 'random_in_range' with args: ((1000, 9999), {}) return cached result: [1639] counter: 2\n"
     ]
    },
    {
     "data": {
      "text/plain": "1639"
     },
     "execution_count": 5,
     "metadata": {},
     "output_type": "execute_result"
    }
   ],
   "source": [
    "print(\"\\n----------------- attempt 1 ----------------------\\n\")\n",
    "sqr(2)\n",
    "sqr(10)\n",
    "sqrt(256)\n",
    "perimeter(1,2,3,4,5)\n",
    "perimeter(10, 20, 30, 40)\n",
    "join(' : ', 'Hello', 'World')\n",
    "join('+', 2, 4, 8, 16)\n",
    "random_in_range(0, 100)\n",
    "random_in_range(1000, 9999)\n",
    "\n",
    "print(\"\\n----------------- attempt 2 ----------------------\\n\")\n",
    "\n",
    "sqr(2)\n",
    "sqr(10)\n",
    "sqrt(256)\n",
    "perimeter(1,2,3,4,5)\n",
    "perimeter(10, 20, 30, 40)\n",
    "join(' : ', 'Hello', 'World')\n",
    "join('+', 2, 4, 8, 16)\n",
    "random_in_range(0, 100)\n",
    "random_in_range(1000, 9999)\n",
    "\n",
    "print(\"\\n----------------- attempt 3 ----------------------\\n\")\n",
    "sqr(2)\n",
    "sqr(10)\n",
    "sqrt(256)\n",
    "perimeter(1,2,3,4,5)\n",
    "perimeter(10, 20, 30, 40)\n",
    "join(' : ', 'Hello', 'World')\n",
    "join('+', 2, 4, 8, 16)\n",
    "random_in_range(0, 100)\n",
    "random_in_range(1000, 9999)"
   ],
   "metadata": {
    "collapsed": false,
    "pycharm": {
     "name": "#%%\n"
    }
   }
  },
  {
   "cell_type": "markdown",
   "source": [
    "### На четвертый вызов значения выселяются из кеша и добавляются новые результаты"
   ],
   "metadata": {
    "collapsed": false,
    "pycharm": {
     "name": "#%% md\n"
    }
   }
  },
  {
   "cell_type": "code",
   "execution_count": 6,
   "outputs": [
    {
     "name": "stdout",
     "output_type": "stream",
     "text": [
      "Function: 'sqr' with args: ((2,), {}) return [4] and add result to cache\n",
      "Function: 'sqr' with args: ((10,), {}) return [100] and add result to cache\n",
      "Function: 'sqrt' with args: ((256,), {}) return [16.0] and add result to cache\n",
      "Function: 'perimeter' with args: ((1, 2, 3, 4, 5), {}) return [15] and add result to cache\n",
      "Function: 'perimeter' with args: ((10, 20, 30, 40), {}) return [100] and add result to cache\n",
      "Function: 'join' with args: ((' : ', 'Hello', 'World'), {}) return [Hello : World] and add result to cache\n",
      "Function: 'join' with args: (('+', 2, 4, 8, 16), {}) return [2+4+8+16] and add result to cache\n",
      "Function: 'random_in_range' with args: ((0, 100), {}) return [51] and add result to cache\n",
      "Function: 'random_in_range' with args: ((1000, 9999), {}) return [2510] and add result to cache\n"
     ]
    },
    {
     "data": {
      "text/plain": "2510"
     },
     "execution_count": 6,
     "metadata": {},
     "output_type": "execute_result"
    }
   ],
   "source": [
    "sqr(2)\n",
    "sqr(10)\n",
    "sqrt(256)\n",
    "perimeter(1,2,3,4,5)\n",
    "perimeter(10, 20, 30, 40)\n",
    "join(' : ', 'Hello', 'World')\n",
    "join('+', 2, 4, 8, 16)\n",
    "random_in_range(0, 100)\n",
    "random_in_range(1000, 9999)"
   ],
   "metadata": {
    "collapsed": false,
    "pycharm": {
     "name": "#%%\n"
    }
   }
  }
 ],
 "metadata": {
  "kernelspec": {
   "display_name": "Python 3",
   "language": "python",
   "name": "python3"
  },
  "language_info": {
   "codemirror_mode": {
    "name": "ipython",
    "version": 2
   },
   "file_extension": ".py",
   "mimetype": "text/x-python",
   "name": "python",
   "nbconvert_exporter": "python",
   "pygments_lexer": "ipython2",
   "version": "2.7.6"
  }
 },
 "nbformat": 4,
 "nbformat_minor": 0
}