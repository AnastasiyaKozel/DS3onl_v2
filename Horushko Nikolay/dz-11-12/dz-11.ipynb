{
 "cells": [
  {
   "cell_type": "markdown",
   "source": [
    "В данной задаче нам представлены данные в которых ключевое поле — это то, просрочит ли клиент микро-финансовой организации выплату более чем на 60 дней или нет.\n",
    "Нам нужно построить модель, которая по входным данным предсказывала бы с максимальной точностью ключевой параметр.\n",
    "Основной параметр это delinq60plus. Остальные параметры интуитивно понятны из таблиц.\n",
    "\n",
    "# Цель\n",
    "\n",
    "Построить модель машинного обучения для предсказания вероятности того, что клиент уйдет в просрочку более 60 дней.\n",
    "\n",
    "# Задача\n",
    "осуществить корректную загрузку данных\n",
    "осуществить разведывательный анализ данных:\n",
    "- разбить выборку на обучающую и тестовую\n",
    "- проанализировать пропуски и решить, что с ними делать\n",
    "- проанализировать выбросы\n",
    "- создать/ удалить переменные\n",
    "- закодировать категориальные переменные\n",
    "- нормализовать числовые переменные (при необходимости)\n",
    "\n",
    "построить модель и оценить ее качество\n",
    "при необходимости вернуться к предыдущим шагам, чтобы улучшить качество модели\n",
    "\n",
    "\n",
    "> Высокая цель. Использовать (не везде, а где мы работаем с данными напрямую) SQL запросы."
   ],
   "metadata": {
    "collapsed": false,
    "pycharm": {
     "name": "#%% md\n"
    }
   }
  },
  {
   "cell_type": "code",
   "execution_count": 91,
   "outputs": [],
   "source": [
    "\n",
    "import sqlite3\n",
    "\n",
    "import pandas as pd\n",
    "\n",
    "pd.set_option('display.notebook_repr_html', True)\n",
    "pd.set_option('display.max_columns', 100)\n",
    "pd.set_option('display.max_rows', 320)\n",
    "pd.set_option('display.width', 80)\n",
    "\n",
    "from sklearn.model_selection import train_test_split\n",
    "\n",
    "from sklearn.pipeline import Pipeline\n",
    "\n",
    "from sklearn.ensemble import RandomForestClassifier\n",
    "from sklearn.metrics import roc_auc_score\n",
    "\n",
    "from IPython.core.interactiveshell import InteractiveShell\n",
    "\n",
    "InteractiveShell.ast_node_interactivity = \"all\"\n"
   ],
   "metadata": {
    "collapsed": false,
    "pycharm": {
     "name": "#%%\n"
    }
   }
  },
  {
   "cell_type": "code",
   "execution_count": 92,
   "outputs": [],
   "source": [
    "def query(q):\n",
    "    cur = con.cursor()\n",
    "    cur.execute(q)"
   ],
   "metadata": {
    "collapsed": false,
    "pycharm": {
     "name": "#%%\n"
    }
   }
  },
  {
   "cell_type": "code",
   "execution_count": 93,
   "outputs": [
    {
     "data": {
      "text/plain": "35212"
     },
     "execution_count": 93,
     "metadata": {},
     "output_type": "execute_result"
    }
   ],
   "source": [
    "df = pd.read_csv('MFOcredit.csv', encoding='cp1251', sep=';')\n",
    "con = sqlite3.connect('db')\n",
    "\n",
    "df.to_sql('data', con, index=False, if_exists='replace')\n",
    "\n",
    "\n",
    "def select(sql):\n",
    "    return pd.read_sql(sql, con)"
   ],
   "metadata": {
    "collapsed": false,
    "pycharm": {
     "name": "#%%\n"
    }
   }
  },
  {
   "cell_type": "markdown",
   "source": [
    "### Подготовка данных"
   ],
   "metadata": {
    "collapsed": false,
    "pycharm": {
     "name": "#%% md\n"
    }
   }
  },
  {
   "cell_type": "code",
   "execution_count": 94,
   "outputs": [
    {
     "data": {
      "text/plain": "          id   date_start     date_end   gender  age          auto  \\\n0          1  03-Jan-2013  12-Jan-2013  Мужской   44           Нет   \n1          2  03-Jan-2013  17-Jan-2013  Мужской   21  Пропуск поля   \n2          3  03-Jan-2013  17-Jan-2013  Мужской   25  Пропуск поля   \n3          4  03-Jan-2013  17-Jan-2013  Женский   47  Пропуск поля   \n4          5  03-Jan-2013  17-Jan-2013  Мужской   22           Нет   \n...      ...          ...          ...      ...  ...           ...   \n35207  35208  03-Jan-2014  17-Jan-2014  Мужской   30            Да   \n35208  35209  03-Jan-2014  17-Jan-2014  Женский   57           Нет   \n35209  35210  03-Jan-2014  17-Jan-2014  Женский   38  Пропуск поля   \n35210  35211  03-Jan-2014  17-Jan-2014  Женский   19  Пропуск поля   \n35211  35212  03-Jan-2014  17-Jan-2014  Мужской   25  Пропуск поля   \n\n                     housing                       marstatus regclient  \\\n0                Собственное  Гражданский брак/женат/замужем       Нет   \n1         Живут с родителями                          Холост       Нет   \n2                Собственное                          Холост        Да   \n3                Собственное  Гражданский брак/женат/замужем        Да   \n4                 Арендуемое  Гражданский брак/женат/замужем       Нет   \n...                      ...                             ...       ...   \n35207  Долевая собственность  Гражданский брак/женат/замужем        Да   \n35208            Собственное                        Разведен        Да   \n35209           Пропуск поля                    Пропуск поля        Да   \n35210           Пропуск поля                    Пропуск поля        Да   \n35211           Пропуск поля                    Пропуск поля        Да   \n\n            jobtype                     region       credits children  \\\n0       Официальное      Новосибирская область           Нет       Да   \n1       Официальное     Кемеровская область юг            Да      Нет   \n2       Официальное  Кемеровская область север  Пропуск поля      Нет   \n3       Официальное  Кемеровская область север           Нет      Нет   \n4       Официальное  Кемеровская область север            Да       Да   \n...             ...                        ...           ...      ...   \n35207   Официальное             Алтайский край            Да       Да   \n35208  Пропуск поля             Алтайский край            Да      Нет   \n35209  Пропуск поля      Новосибирская область           Нет       Да   \n35210  Пропуск поля     Кемеровская область юг           Нет      Нет   \n35211  Пропуск поля  Кемеровская область север           Нет      Нет   \n\n      delinq60plus  \n0              Нет  \n1              Нет  \n2              Нет  \n3              Нет  \n4              Нет  \n...            ...  \n35207          Нет  \n35208          Нет  \n35209          Нет  \n35210          Нет  \n35211          Нет  \n\n[35212 rows x 14 columns]",
      "text/html": "<div>\n<style scoped>\n    .dataframe tbody tr th:only-of-type {\n        vertical-align: middle;\n    }\n\n    .dataframe tbody tr th {\n        vertical-align: top;\n    }\n\n    .dataframe thead th {\n        text-align: right;\n    }\n</style>\n<table border=\"1\" class=\"dataframe\">\n  <thead>\n    <tr style=\"text-align: right;\">\n      <th></th>\n      <th>id</th>\n      <th>date_start</th>\n      <th>date_end</th>\n      <th>gender</th>\n      <th>age</th>\n      <th>auto</th>\n      <th>housing</th>\n      <th>marstatus</th>\n      <th>regclient</th>\n      <th>jobtype</th>\n      <th>region</th>\n      <th>credits</th>\n      <th>children</th>\n      <th>delinq60plus</th>\n    </tr>\n  </thead>\n  <tbody>\n    <tr>\n      <th>0</th>\n      <td>1</td>\n      <td>03-Jan-2013</td>\n      <td>12-Jan-2013</td>\n      <td>Мужской</td>\n      <td>44</td>\n      <td>Нет</td>\n      <td>Собственное</td>\n      <td>Гражданский брак/женат/замужем</td>\n      <td>Нет</td>\n      <td>Официальное</td>\n      <td>Новосибирская область</td>\n      <td>Нет</td>\n      <td>Да</td>\n      <td>Нет</td>\n    </tr>\n    <tr>\n      <th>1</th>\n      <td>2</td>\n      <td>03-Jan-2013</td>\n      <td>17-Jan-2013</td>\n      <td>Мужской</td>\n      <td>21</td>\n      <td>Пропуск поля</td>\n      <td>Живут с родителями</td>\n      <td>Холост</td>\n      <td>Нет</td>\n      <td>Официальное</td>\n      <td>Кемеровская область юг</td>\n      <td>Да</td>\n      <td>Нет</td>\n      <td>Нет</td>\n    </tr>\n    <tr>\n      <th>2</th>\n      <td>3</td>\n      <td>03-Jan-2013</td>\n      <td>17-Jan-2013</td>\n      <td>Мужской</td>\n      <td>25</td>\n      <td>Пропуск поля</td>\n      <td>Собственное</td>\n      <td>Холост</td>\n      <td>Да</td>\n      <td>Официальное</td>\n      <td>Кемеровская область север</td>\n      <td>Пропуск поля</td>\n      <td>Нет</td>\n      <td>Нет</td>\n    </tr>\n    <tr>\n      <th>3</th>\n      <td>4</td>\n      <td>03-Jan-2013</td>\n      <td>17-Jan-2013</td>\n      <td>Женский</td>\n      <td>47</td>\n      <td>Пропуск поля</td>\n      <td>Собственное</td>\n      <td>Гражданский брак/женат/замужем</td>\n      <td>Да</td>\n      <td>Официальное</td>\n      <td>Кемеровская область север</td>\n      <td>Нет</td>\n      <td>Нет</td>\n      <td>Нет</td>\n    </tr>\n    <tr>\n      <th>4</th>\n      <td>5</td>\n      <td>03-Jan-2013</td>\n      <td>17-Jan-2013</td>\n      <td>Мужской</td>\n      <td>22</td>\n      <td>Нет</td>\n      <td>Арендуемое</td>\n      <td>Гражданский брак/женат/замужем</td>\n      <td>Нет</td>\n      <td>Официальное</td>\n      <td>Кемеровская область север</td>\n      <td>Да</td>\n      <td>Да</td>\n      <td>Нет</td>\n    </tr>\n    <tr>\n      <th>...</th>\n      <td>...</td>\n      <td>...</td>\n      <td>...</td>\n      <td>...</td>\n      <td>...</td>\n      <td>...</td>\n      <td>...</td>\n      <td>...</td>\n      <td>...</td>\n      <td>...</td>\n      <td>...</td>\n      <td>...</td>\n      <td>...</td>\n      <td>...</td>\n    </tr>\n    <tr>\n      <th>35207</th>\n      <td>35208</td>\n      <td>03-Jan-2014</td>\n      <td>17-Jan-2014</td>\n      <td>Мужской</td>\n      <td>30</td>\n      <td>Да</td>\n      <td>Долевая собственность</td>\n      <td>Гражданский брак/женат/замужем</td>\n      <td>Да</td>\n      <td>Официальное</td>\n      <td>Алтайский край</td>\n      <td>Да</td>\n      <td>Да</td>\n      <td>Нет</td>\n    </tr>\n    <tr>\n      <th>35208</th>\n      <td>35209</td>\n      <td>03-Jan-2014</td>\n      <td>17-Jan-2014</td>\n      <td>Женский</td>\n      <td>57</td>\n      <td>Нет</td>\n      <td>Собственное</td>\n      <td>Разведен</td>\n      <td>Да</td>\n      <td>Пропуск поля</td>\n      <td>Алтайский край</td>\n      <td>Да</td>\n      <td>Нет</td>\n      <td>Нет</td>\n    </tr>\n    <tr>\n      <th>35209</th>\n      <td>35210</td>\n      <td>03-Jan-2014</td>\n      <td>17-Jan-2014</td>\n      <td>Женский</td>\n      <td>38</td>\n      <td>Пропуск поля</td>\n      <td>Пропуск поля</td>\n      <td>Пропуск поля</td>\n      <td>Да</td>\n      <td>Пропуск поля</td>\n      <td>Новосибирская область</td>\n      <td>Нет</td>\n      <td>Да</td>\n      <td>Нет</td>\n    </tr>\n    <tr>\n      <th>35210</th>\n      <td>35211</td>\n      <td>03-Jan-2014</td>\n      <td>17-Jan-2014</td>\n      <td>Женский</td>\n      <td>19</td>\n      <td>Пропуск поля</td>\n      <td>Пропуск поля</td>\n      <td>Пропуск поля</td>\n      <td>Да</td>\n      <td>Пропуск поля</td>\n      <td>Кемеровская область юг</td>\n      <td>Нет</td>\n      <td>Нет</td>\n      <td>Нет</td>\n    </tr>\n    <tr>\n      <th>35211</th>\n      <td>35212</td>\n      <td>03-Jan-2014</td>\n      <td>17-Jan-2014</td>\n      <td>Мужской</td>\n      <td>25</td>\n      <td>Пропуск поля</td>\n      <td>Пропуск поля</td>\n      <td>Пропуск поля</td>\n      <td>Да</td>\n      <td>Пропуск поля</td>\n      <td>Кемеровская область север</td>\n      <td>Нет</td>\n      <td>Нет</td>\n      <td>Нет</td>\n    </tr>\n  </tbody>\n</table>\n<p>35212 rows × 14 columns</p>\n</div>"
     },
     "execution_count": 94,
     "metadata": {},
     "output_type": "execute_result"
    }
   ],
   "source": [
    "select('''SELECT * FROM data''')"
   ],
   "metadata": {
    "collapsed": false,
    "pycharm": {
     "name": "#%%\n"
    }
   }
  },
  {
   "cell_type": "code",
   "execution_count": 95,
   "outputs": [],
   "source": [
    "query(\"PRAGMA table_info('mfo')\")"
   ],
   "metadata": {
    "collapsed": false,
    "pycharm": {
     "name": "#%%\n"
    }
   }
  },
  {
   "cell_type": "code",
   "execution_count": 96,
   "outputs": [
    {
     "data": {
      "text/plain": "Empty DataFrame\nColumns: [date_start]\nIndex: []",
      "text/html": "<div>\n<style scoped>\n    .dataframe tbody tr th:only-of-type {\n        vertical-align: middle;\n    }\n\n    .dataframe tbody tr th {\n        vertical-align: top;\n    }\n\n    .dataframe thead th {\n        text-align: right;\n    }\n</style>\n<table border=\"1\" class=\"dataframe\">\n  <thead>\n    <tr style=\"text-align: right;\">\n      <th></th>\n      <th>date_start</th>\n    </tr>\n  </thead>\n  <tbody>\n  </tbody>\n</table>\n</div>"
     },
     "execution_count": 96,
     "metadata": {},
     "output_type": "execute_result"
    }
   ],
   "source": [
    "select('''SELECT date_start FROM data WHERE date_start IS NULL''')"
   ],
   "metadata": {
    "collapsed": false,
    "pycharm": {
     "name": "#%%\n"
    }
   }
  },
  {
   "cell_type": "markdown",
   "source": [
    "Приводим строковые даты к типу DATE и сохраняем в бд как EPOCH time"
   ],
   "metadata": {
    "collapsed": false,
    "pycharm": {
     "name": "#%% md\n"
    }
   }
  },
  {
   "cell_type": "code",
   "execution_count": 97,
   "outputs": [],
   "source": [
    "query(\n",
    "    '''\n",
    "    UPDATE data SET\n",
    "    date_start =\n",
    "     SUBSTR(date_start, 8) || '-' ||\n",
    "        CASE SUBSTR (date_start,4, 3)\n",
    "            WHEN 'Jan' THEN '01'\n",
    "            WHEN 'Feb' THEN '02'\n",
    "            WHEN 'Mar' THEN '03'\n",
    "            WHEN 'Apr' THEN '04'\n",
    "            WHEN 'May' THEN '05'\n",
    "            WHEN 'Jun' THEN '06'\n",
    "            WHEN 'Jul' THEN '07'\n",
    "            WHEN 'Aug' THEN '08'\n",
    "            WHEN 'Sep' THEN '09'\n",
    "            WHEN 'Oct' THEN '10'\n",
    "            WHEN 'Nov' THEN '11'\n",
    "            WHEN 'Dec' THEN '12'\n",
    "        END\n",
    "     || '-' ||\n",
    "     SUBSTRING(date_start, 1, 2),\n",
    "     date_end =\n",
    "          SUBSTR(date_end, 8) || '-' ||\n",
    "        CASE SUBSTR (date_end,4, 3)\n",
    "            WHEN 'Jan' THEN '01'\n",
    "            WHEN 'Feb' THEN '02'\n",
    "            WHEN 'Mar' THEN '03'\n",
    "            WHEN 'Apr' THEN '04'\n",
    "            WHEN 'May' THEN '05'\n",
    "            WHEN 'Jun' THEN '06'\n",
    "            WHEN 'Jul' THEN '07'\n",
    "            WHEN 'Aug' THEN '08'\n",
    "            WHEN 'Sep' THEN '09'\n",
    "            WHEN 'Oct' THEN '10'\n",
    "            WHEN 'Nov' THEN '11'\n",
    "            WHEN 'Dec' THEN '12'\n",
    "        END\n",
    "     || '-' ||\n",
    "     SUBSTRING(date_end, 1, 2)\n",
    "      '''\n",
    ")\n",
    "query('''ALTER TABLE data ADD COLUMN date_start_n int;''')\n",
    "query('''UPDATE data SET date_start_n = UNIXEPOCH(date(date_start));''')\n",
    "query('''ALTER TABLE data DROP COLUMN date_start''')\n",
    "query('''ALTER TABLE data RENAME COLUMN date_start_n TO date_start''')\n",
    "\n",
    "query('''ALTER TABLE data ADD COLUMN date_end_n int;''')\n",
    "query('''UPDATE data SET date_end_n = UNIXEPOCH(date(date_end));''')\n",
    "query('''ALTER TABLE data DROP COLUMN date_end''')\n",
    "query('''ALTER TABLE data RENAME COLUMN date_end_n TO date_end''')\n"
   ],
   "metadata": {
    "collapsed": false,
    "pycharm": {
     "name": "#%%\n"
    }
   }
  },
  {
   "cell_type": "code",
   "execution_count": 98,
   "outputs": [
    {
     "data": {
      "text/plain": "          id   gender  age          auto                housing  \\\n0          1  Мужской   44           Нет            Собственное   \n1          2  Мужской   21  Пропуск поля     Живут с родителями   \n2          3  Мужской   25  Пропуск поля            Собственное   \n3          4  Женский   47  Пропуск поля            Собственное   \n4          5  Мужской   22           Нет             Арендуемое   \n...      ...      ...  ...           ...                    ...   \n35207  35208  Мужской   30            Да  Долевая собственность   \n35208  35209  Женский   57           Нет            Собственное   \n35209  35210  Женский   38  Пропуск поля           Пропуск поля   \n35210  35211  Женский   19  Пропуск поля           Пропуск поля   \n35211  35212  Мужской   25  Пропуск поля           Пропуск поля   \n\n                            marstatus regclient       jobtype  \\\n0      Гражданский брак/женат/замужем       Нет   Официальное   \n1                              Холост       Нет   Официальное   \n2                              Холост        Да   Официальное   \n3      Гражданский брак/женат/замужем        Да   Официальное   \n4      Гражданский брак/женат/замужем       Нет   Официальное   \n...                               ...       ...           ...   \n35207  Гражданский брак/женат/замужем        Да   Официальное   \n35208                        Разведен        Да  Пропуск поля   \n35209                    Пропуск поля        Да  Пропуск поля   \n35210                    Пропуск поля        Да  Пропуск поля   \n35211                    Пропуск поля        Да  Пропуск поля   \n\n                          region       credits children delinq60plus  \\\n0          Новосибирская область           Нет       Да          Нет   \n1         Кемеровская область юг            Да      Нет          Нет   \n2      Кемеровская область север  Пропуск поля      Нет          Нет   \n3      Кемеровская область север           Нет      Нет          Нет   \n4      Кемеровская область север            Да       Да          Нет   \n...                          ...           ...      ...          ...   \n35207             Алтайский край            Да       Да          Нет   \n35208             Алтайский край            Да      Нет          Нет   \n35209      Новосибирская область           Нет       Да          Нет   \n35210     Кемеровская область юг           Нет      Нет          Нет   \n35211  Кемеровская область север           Нет      Нет          Нет   \n\n       date_start    date_end  \n0      1357171200  1357948800  \n1      1357171200  1358380800  \n2      1357171200  1358380800  \n3      1357171200  1358380800  \n4      1357171200  1358380800  \n...           ...         ...  \n35207  1388707200  1389916800  \n35208  1388707200  1389916800  \n35209  1388707200  1389916800  \n35210  1388707200  1389916800  \n35211  1388707200  1389916800  \n\n[35212 rows x 14 columns]",
      "text/html": "<div>\n<style scoped>\n    .dataframe tbody tr th:only-of-type {\n        vertical-align: middle;\n    }\n\n    .dataframe tbody tr th {\n        vertical-align: top;\n    }\n\n    .dataframe thead th {\n        text-align: right;\n    }\n</style>\n<table border=\"1\" class=\"dataframe\">\n  <thead>\n    <tr style=\"text-align: right;\">\n      <th></th>\n      <th>id</th>\n      <th>gender</th>\n      <th>age</th>\n      <th>auto</th>\n      <th>housing</th>\n      <th>marstatus</th>\n      <th>regclient</th>\n      <th>jobtype</th>\n      <th>region</th>\n      <th>credits</th>\n      <th>children</th>\n      <th>delinq60plus</th>\n      <th>date_start</th>\n      <th>date_end</th>\n    </tr>\n  </thead>\n  <tbody>\n    <tr>\n      <th>0</th>\n      <td>1</td>\n      <td>Мужской</td>\n      <td>44</td>\n      <td>Нет</td>\n      <td>Собственное</td>\n      <td>Гражданский брак/женат/замужем</td>\n      <td>Нет</td>\n      <td>Официальное</td>\n      <td>Новосибирская область</td>\n      <td>Нет</td>\n      <td>Да</td>\n      <td>Нет</td>\n      <td>1357171200</td>\n      <td>1357948800</td>\n    </tr>\n    <tr>\n      <th>1</th>\n      <td>2</td>\n      <td>Мужской</td>\n      <td>21</td>\n      <td>Пропуск поля</td>\n      <td>Живут с родителями</td>\n      <td>Холост</td>\n      <td>Нет</td>\n      <td>Официальное</td>\n      <td>Кемеровская область юг</td>\n      <td>Да</td>\n      <td>Нет</td>\n      <td>Нет</td>\n      <td>1357171200</td>\n      <td>1358380800</td>\n    </tr>\n    <tr>\n      <th>2</th>\n      <td>3</td>\n      <td>Мужской</td>\n      <td>25</td>\n      <td>Пропуск поля</td>\n      <td>Собственное</td>\n      <td>Холост</td>\n      <td>Да</td>\n      <td>Официальное</td>\n      <td>Кемеровская область север</td>\n      <td>Пропуск поля</td>\n      <td>Нет</td>\n      <td>Нет</td>\n      <td>1357171200</td>\n      <td>1358380800</td>\n    </tr>\n    <tr>\n      <th>3</th>\n      <td>4</td>\n      <td>Женский</td>\n      <td>47</td>\n      <td>Пропуск поля</td>\n      <td>Собственное</td>\n      <td>Гражданский брак/женат/замужем</td>\n      <td>Да</td>\n      <td>Официальное</td>\n      <td>Кемеровская область север</td>\n      <td>Нет</td>\n      <td>Нет</td>\n      <td>Нет</td>\n      <td>1357171200</td>\n      <td>1358380800</td>\n    </tr>\n    <tr>\n      <th>4</th>\n      <td>5</td>\n      <td>Мужской</td>\n      <td>22</td>\n      <td>Нет</td>\n      <td>Арендуемое</td>\n      <td>Гражданский брак/женат/замужем</td>\n      <td>Нет</td>\n      <td>Официальное</td>\n      <td>Кемеровская область север</td>\n      <td>Да</td>\n      <td>Да</td>\n      <td>Нет</td>\n      <td>1357171200</td>\n      <td>1358380800</td>\n    </tr>\n    <tr>\n      <th>...</th>\n      <td>...</td>\n      <td>...</td>\n      <td>...</td>\n      <td>...</td>\n      <td>...</td>\n      <td>...</td>\n      <td>...</td>\n      <td>...</td>\n      <td>...</td>\n      <td>...</td>\n      <td>...</td>\n      <td>...</td>\n      <td>...</td>\n      <td>...</td>\n    </tr>\n    <tr>\n      <th>35207</th>\n      <td>35208</td>\n      <td>Мужской</td>\n      <td>30</td>\n      <td>Да</td>\n      <td>Долевая собственность</td>\n      <td>Гражданский брак/женат/замужем</td>\n      <td>Да</td>\n      <td>Официальное</td>\n      <td>Алтайский край</td>\n      <td>Да</td>\n      <td>Да</td>\n      <td>Нет</td>\n      <td>1388707200</td>\n      <td>1389916800</td>\n    </tr>\n    <tr>\n      <th>35208</th>\n      <td>35209</td>\n      <td>Женский</td>\n      <td>57</td>\n      <td>Нет</td>\n      <td>Собственное</td>\n      <td>Разведен</td>\n      <td>Да</td>\n      <td>Пропуск поля</td>\n      <td>Алтайский край</td>\n      <td>Да</td>\n      <td>Нет</td>\n      <td>Нет</td>\n      <td>1388707200</td>\n      <td>1389916800</td>\n    </tr>\n    <tr>\n      <th>35209</th>\n      <td>35210</td>\n      <td>Женский</td>\n      <td>38</td>\n      <td>Пропуск поля</td>\n      <td>Пропуск поля</td>\n      <td>Пропуск поля</td>\n      <td>Да</td>\n      <td>Пропуск поля</td>\n      <td>Новосибирская область</td>\n      <td>Нет</td>\n      <td>Да</td>\n      <td>Нет</td>\n      <td>1388707200</td>\n      <td>1389916800</td>\n    </tr>\n    <tr>\n      <th>35210</th>\n      <td>35211</td>\n      <td>Женский</td>\n      <td>19</td>\n      <td>Пропуск поля</td>\n      <td>Пропуск поля</td>\n      <td>Пропуск поля</td>\n      <td>Да</td>\n      <td>Пропуск поля</td>\n      <td>Кемеровская область юг</td>\n      <td>Нет</td>\n      <td>Нет</td>\n      <td>Нет</td>\n      <td>1388707200</td>\n      <td>1389916800</td>\n    </tr>\n    <tr>\n      <th>35211</th>\n      <td>35212</td>\n      <td>Мужской</td>\n      <td>25</td>\n      <td>Пропуск поля</td>\n      <td>Пропуск поля</td>\n      <td>Пропуск поля</td>\n      <td>Да</td>\n      <td>Пропуск поля</td>\n      <td>Кемеровская область север</td>\n      <td>Нет</td>\n      <td>Нет</td>\n      <td>Нет</td>\n      <td>1388707200</td>\n      <td>1389916800</td>\n    </tr>\n  </tbody>\n</table>\n<p>35212 rows × 14 columns</p>\n</div>"
     },
     "execution_count": 98,
     "metadata": {},
     "output_type": "execute_result"
    }
   ],
   "source": [
    "select('''\n",
    "SELECT * FROM data\n",
    "''')"
   ],
   "metadata": {
    "collapsed": false,
    "pycharm": {
     "name": "#%%\n"
    }
   }
  },
  {
   "cell_type": "markdown",
   "source": [
    "Добавляем колонку duration как разницу между date_start и date_end"
   ],
   "metadata": {
    "collapsed": false,
    "pycharm": {
     "name": "#%% md\n"
    }
   }
  },
  {
   "cell_type": "code",
   "execution_count": 99,
   "outputs": [],
   "source": [
    "query('''ALTER TABLE data ADD COLUMN duration_days int''')\n",
    "query('''UPDATE data SET duration_days = (date_end - date_start)/86400 ''')"
   ],
   "metadata": {
    "collapsed": false,
    "pycharm": {
     "name": "#%%\n"
    }
   }
  },
  {
   "cell_type": "markdown",
   "source": [
    "Удаляем колонку id"
   ],
   "metadata": {
    "collapsed": false,
    "pycharm": {
     "name": "#%% md\n"
    }
   }
  },
  {
   "cell_type": "code",
   "execution_count": 100,
   "outputs": [],
   "source": [
    "query('''\n",
    "ALTER TABLE data DROP COLUMN id;\n",
    "''')"
   ],
   "metadata": {
    "collapsed": false,
    "pycharm": {
     "name": "#%%\n"
    }
   }
  },
  {
   "cell_type": "markdown",
   "source": [
    "Получаем количество пропусков"
   ],
   "metadata": {
    "collapsed": false,
    "pycharm": {
     "name": "#%% md\n"
    }
   }
  },
  {
   "cell_type": "code",
   "execution_count": 101,
   "outputs": [
    {
     "data": {
      "text/plain": "   gender_gaps  age_gaps  auto_gaps  housing_gaps  marstatus_gaps  \\\n0            0         0      14077          7603            7564   \n\n   regclient_gaps  jobtype_gaps  region_gaps  credits_gaps  children_gaps  \\\n0               0         14457            0           946            745   \n\n   date_start_gaps  date_end_gaps  \n0                0              0  ",
      "text/html": "<div>\n<style scoped>\n    .dataframe tbody tr th:only-of-type {\n        vertical-align: middle;\n    }\n\n    .dataframe tbody tr th {\n        vertical-align: top;\n    }\n\n    .dataframe thead th {\n        text-align: right;\n    }\n</style>\n<table border=\"1\" class=\"dataframe\">\n  <thead>\n    <tr style=\"text-align: right;\">\n      <th></th>\n      <th>gender_gaps</th>\n      <th>age_gaps</th>\n      <th>auto_gaps</th>\n      <th>housing_gaps</th>\n      <th>marstatus_gaps</th>\n      <th>regclient_gaps</th>\n      <th>jobtype_gaps</th>\n      <th>region_gaps</th>\n      <th>credits_gaps</th>\n      <th>children_gaps</th>\n      <th>date_start_gaps</th>\n      <th>date_end_gaps</th>\n    </tr>\n  </thead>\n  <tbody>\n    <tr>\n      <th>0</th>\n      <td>0</td>\n      <td>0</td>\n      <td>14077</td>\n      <td>7603</td>\n      <td>7564</td>\n      <td>0</td>\n      <td>14457</td>\n      <td>0</td>\n      <td>946</td>\n      <td>745</td>\n      <td>0</td>\n      <td>0</td>\n    </tr>\n  </tbody>\n</table>\n</div>"
     },
     "execution_count": 101,
     "metadata": {},
     "output_type": "execute_result"
    }
   ],
   "source": [
    "select(\n",
    "    '''\n",
    "    SELECT\n",
    "    (select count(*) FROM data WHERE gender = 'Пропуск поля') as gender_gaps,\n",
    "    (select count(*) FROM data WHERE age = 'Пропуск поля') as age_gaps,\n",
    "    (select count(*) FROM data WHERE auto = 'Пропуск поля') as auto_gaps,\n",
    "    (select count(*) FROM data WHERE housing = 'Пропуск поля') as housing_gaps,\n",
    "    (select count(*) FROM data WHERE marstatus = 'Пропуск поля') as marstatus_gaps,\n",
    "    (select count(*) FROM data WHERE regclient = 'Пропуск поля') as regclient_gaps,\n",
    "    (select count(*) FROM data WHERE jobtype = 'Пропуск поля') as jobtype_gaps,\n",
    "    (select count(*) FROM data WHERE region = 'Пропуск поля') as region_gaps,\n",
    "    (select count(*) FROM data WHERE credits = 'Пропуск поля') as credits_gaps,\n",
    "    (select count(*) FROM data WHERE children = 'Пропуск поля') as children_gaps,\n",
    "    (select count(*) FROM data WHERE date_start = 'Пропуск поля') as date_start_gaps,\n",
    "    (select count(*) FROM data WHERE date_end = 'Пропуск поля') as date_end_gaps\n",
    "    FROM data\n",
    "    GROUP BY 1\n",
    "    '''\n",
    ")\n"
   ],
   "metadata": {
    "collapsed": false,
    "pycharm": {
     "name": "#%%\n"
    }
   }
  },
  {
   "cell_type": "markdown",
   "source": [
    "Пропусков много буду использовать 'Пропуск поля' как дополнительный признак"
   ],
   "metadata": {
    "collapsed": false,
    "pycharm": {
     "name": "#%% md\n"
    }
   }
  },
  {
   "cell_type": "code",
   "execution_count": 102,
   "outputs": [],
   "source": [
    "df = select('SELECT * FROM data')"
   ],
   "metadata": {
    "collapsed": false,
    "pycharm": {
     "name": "#%%\n"
    }
   }
  },
  {
   "cell_type": "code",
   "execution_count": 103,
   "outputs": [
    {
     "name": "stdout",
     "output_type": "stream",
     "text": [
      "<class 'pandas.core.frame.DataFrame'>\n",
      "RangeIndex: 35212 entries, 0 to 35211\n",
      "Data columns (total 14 columns):\n",
      " #   Column         Non-Null Count  Dtype \n",
      "---  ------         --------------  ----- \n",
      " 0   gender         35212 non-null  object\n",
      " 1   age            35212 non-null  int64 \n",
      " 2   auto           35212 non-null  object\n",
      " 3   housing        35212 non-null  object\n",
      " 4   marstatus      35212 non-null  object\n",
      " 5   regclient      35212 non-null  object\n",
      " 6   jobtype        35212 non-null  object\n",
      " 7   region         35212 non-null  object\n",
      " 8   credits        35212 non-null  object\n",
      " 9   children       35212 non-null  object\n",
      " 10  delinq60plus   35212 non-null  object\n",
      " 11  date_start     35212 non-null  int64 \n",
      " 12  date_end       35212 non-null  int64 \n",
      " 13  duration_days  35212 non-null  int64 \n",
      "dtypes: int64(4), object(10)\n",
      "memory usage: 3.8+ MB\n"
     ]
    }
   ],
   "source": [
    "df.info()"
   ],
   "metadata": {
    "collapsed": false,
    "pycharm": {
     "name": "#%%\n"
    }
   }
  },
  {
   "cell_type": "code",
   "execution_count": 104,
   "outputs": [
    {
     "data": {
      "text/plain": "       age  delinq60plus  date_start    date_end  duration_days  \\\n0       44             0  1357171200  1357948800              9   \n1       21             0  1357171200  1358380800             14   \n2       25             0  1357171200  1358380800             14   \n3       47             0  1357171200  1358380800             14   \n4       22             0  1357171200  1358380800             14   \n...    ...           ...         ...         ...            ...   \n35207   30             0  1388707200  1389916800             14   \n35208   57             0  1388707200  1389916800             14   \n35209   38             0  1388707200  1389916800             14   \n35210   19             0  1388707200  1389916800             14   \n35211   25             0  1388707200  1389916800             14   \n\n       gender_Женский  gender_Мужской  auto_Да  auto_Нет  auto_Пропуск поля  \\\n0                   0               1        0         1                  0   \n1                   0               1        0         0                  1   \n2                   0               1        0         0                  1   \n3                   1               0        0         0                  1   \n4                   0               1        0         1                  0   \n...               ...             ...      ...       ...                ...   \n35207               0               1        1         0                  0   \n35208               1               0        0         1                  0   \n35209               1               0        0         0                  1   \n35210               1               0        0         0                  1   \n35211               0               1        0         0                  1   \n\n       housing_Арендуемое  housing_Долевая собственность  \\\n0                       0                              0   \n1                       0                              0   \n2                       0                              0   \n3                       0                              0   \n4                       1                              0   \n...                   ...                            ...   \n35207                   0                              1   \n35208                   0                              0   \n35209                   0                              0   \n35210                   0                              0   \n35211                   0                              0   \n\n       housing_Живут с родителями  housing_Муниципальное  \\\n0                               0                      0   \n1                               1                      0   \n2                               0                      0   \n3                               0                      0   \n4                               0                      0   \n...                           ...                    ...   \n35207                           0                      0   \n35208                           0                      0   \n35209                           0                      0   \n35210                           0                      0   \n35211                           0                      0   \n\n       housing_Пропуск поля  housing_Собственное  marstatus_Вдова/вдовец  \\\n0                         0                    1                       0   \n1                         0                    0                       0   \n2                         0                    1                       0   \n3                         0                    1                       0   \n4                         0                    0                       0   \n...                     ...                  ...                     ...   \n35207                     0                    0                       0   \n35208                     0                    1                       0   \n35209                     1                    0                       0   \n35210                     1                    0                       0   \n35211                     1                    0                       0   \n\n       marstatus_Гражданский брак/женат/замужем  marstatus_Пропуск поля  \\\n0                                             1                       0   \n1                                             0                       0   \n2                                             0                       0   \n3                                             1                       0   \n4                                             1                       0   \n...                                         ...                     ...   \n35207                                         1                       0   \n35208                                         0                       0   \n35209                                         0                       1   \n35210                                         0                       1   \n35211                                         0                       1   \n\n       marstatus_Разведен  marstatus_Холост  regclient_Да  regclient_Нет  \\\n0                       0                 0             0              1   \n1                       0                 1             0              1   \n2                       0                 1             1              0   \n3                       0                 0             1              0   \n4                       0                 0             0              1   \n...                   ...               ...           ...            ...   \n35207                   0                 0             1              0   \n35208                   1                 0             1              0   \n35209                   0                 0             1              0   \n35210                   0                 0             1              0   \n35211                   0                 0             1              0   \n\n       jobtype_Неофициальное  jobtype_Официальное  jobtype_Пропуск поля  \\\n0                          0                    1                     0   \n1                          0                    1                     0   \n2                          0                    1                     0   \n3                          0                    1                     0   \n4                          0                    1                     0   \n...                      ...                  ...                   ...   \n35207                      0                    1                     0   \n35208                      0                    0                     1   \n35209                      0                    0                     1   \n35210                      0                    0                     1   \n35211                      0                    0                     1   \n\n       region_Алтайский край  region_Кемеровская область север  \\\n0                          0                                 0   \n1                          0                                 0   \n2                          0                                 1   \n3                          0                                 1   \n4                          0                                 1   \n...                      ...                               ...   \n35207                      1                                 0   \n35208                      1                                 0   \n35209                      0                                 0   \n35210                      0                                 0   \n35211                      0                                 1   \n\n       region_Кемеровская область юг  region_Красноярский край  \\\n0                                  0                         0   \n1                                  1                         0   \n2                                  0                         0   \n3                                  0                         0   \n4                                  0                         0   \n...                              ...                       ...   \n35207                              0                         0   \n35208                              0                         0   \n35209                              0                         0   \n35210                              1                         0   \n35211                              0                         0   \n\n       region_Новосибирская область  children_Да  children_Нет  \\\n0                                 1            1             0   \n1                                 0            0             1   \n2                                 0            0             1   \n3                                 0            0             1   \n4                                 0            1             0   \n...                             ...          ...           ...   \n35207                             0            1             0   \n35208                             0            0             1   \n35209                             1            1             0   \n35210                             0            0             1   \n35211                             0            0             1   \n\n       children_Пропуск поля  \n0                          0  \n1                          0  \n2                          0  \n3                          0  \n4                          0  \n...                      ...  \n35207                      0  \n35208                      0  \n35209                      0  \n35210                      0  \n35211                      0  \n\n[35212 rows x 34 columns]",
      "text/html": "<div>\n<style scoped>\n    .dataframe tbody tr th:only-of-type {\n        vertical-align: middle;\n    }\n\n    .dataframe tbody tr th {\n        vertical-align: top;\n    }\n\n    .dataframe thead th {\n        text-align: right;\n    }\n</style>\n<table border=\"1\" class=\"dataframe\">\n  <thead>\n    <tr style=\"text-align: right;\">\n      <th></th>\n      <th>age</th>\n      <th>delinq60plus</th>\n      <th>date_start</th>\n      <th>date_end</th>\n      <th>duration_days</th>\n      <th>gender_Женский</th>\n      <th>gender_Мужской</th>\n      <th>auto_Да</th>\n      <th>auto_Нет</th>\n      <th>auto_Пропуск поля</th>\n      <th>housing_Арендуемое</th>\n      <th>housing_Долевая собственность</th>\n      <th>housing_Живут с родителями</th>\n      <th>housing_Муниципальное</th>\n      <th>housing_Пропуск поля</th>\n      <th>housing_Собственное</th>\n      <th>marstatus_Вдова/вдовец</th>\n      <th>marstatus_Гражданский брак/женат/замужем</th>\n      <th>marstatus_Пропуск поля</th>\n      <th>marstatus_Разведен</th>\n      <th>marstatus_Холост</th>\n      <th>regclient_Да</th>\n      <th>regclient_Нет</th>\n      <th>jobtype_Неофициальное</th>\n      <th>jobtype_Официальное</th>\n      <th>jobtype_Пропуск поля</th>\n      <th>region_Алтайский край</th>\n      <th>region_Кемеровская область север</th>\n      <th>region_Кемеровская область юг</th>\n      <th>region_Красноярский край</th>\n      <th>region_Новосибирская область</th>\n      <th>children_Да</th>\n      <th>children_Нет</th>\n      <th>children_Пропуск поля</th>\n    </tr>\n  </thead>\n  <tbody>\n    <tr>\n      <th>0</th>\n      <td>44</td>\n      <td>0</td>\n      <td>1357171200</td>\n      <td>1357948800</td>\n      <td>9</td>\n      <td>0</td>\n      <td>1</td>\n      <td>0</td>\n      <td>1</td>\n      <td>0</td>\n      <td>0</td>\n      <td>0</td>\n      <td>0</td>\n      <td>0</td>\n      <td>0</td>\n      <td>1</td>\n      <td>0</td>\n      <td>1</td>\n      <td>0</td>\n      <td>0</td>\n      <td>0</td>\n      <td>0</td>\n      <td>1</td>\n      <td>0</td>\n      <td>1</td>\n      <td>0</td>\n      <td>0</td>\n      <td>0</td>\n      <td>0</td>\n      <td>0</td>\n      <td>1</td>\n      <td>1</td>\n      <td>0</td>\n      <td>0</td>\n    </tr>\n    <tr>\n      <th>1</th>\n      <td>21</td>\n      <td>0</td>\n      <td>1357171200</td>\n      <td>1358380800</td>\n      <td>14</td>\n      <td>0</td>\n      <td>1</td>\n      <td>0</td>\n      <td>0</td>\n      <td>1</td>\n      <td>0</td>\n      <td>0</td>\n      <td>1</td>\n      <td>0</td>\n      <td>0</td>\n      <td>0</td>\n      <td>0</td>\n      <td>0</td>\n      <td>0</td>\n      <td>0</td>\n      <td>1</td>\n      <td>0</td>\n      <td>1</td>\n      <td>0</td>\n      <td>1</td>\n      <td>0</td>\n      <td>0</td>\n      <td>0</td>\n      <td>1</td>\n      <td>0</td>\n      <td>0</td>\n      <td>0</td>\n      <td>1</td>\n      <td>0</td>\n    </tr>\n    <tr>\n      <th>2</th>\n      <td>25</td>\n      <td>0</td>\n      <td>1357171200</td>\n      <td>1358380800</td>\n      <td>14</td>\n      <td>0</td>\n      <td>1</td>\n      <td>0</td>\n      <td>0</td>\n      <td>1</td>\n      <td>0</td>\n      <td>0</td>\n      <td>0</td>\n      <td>0</td>\n      <td>0</td>\n      <td>1</td>\n      <td>0</td>\n      <td>0</td>\n      <td>0</td>\n      <td>0</td>\n      <td>1</td>\n      <td>1</td>\n      <td>0</td>\n      <td>0</td>\n      <td>1</td>\n      <td>0</td>\n      <td>0</td>\n      <td>1</td>\n      <td>0</td>\n      <td>0</td>\n      <td>0</td>\n      <td>0</td>\n      <td>1</td>\n      <td>0</td>\n    </tr>\n    <tr>\n      <th>3</th>\n      <td>47</td>\n      <td>0</td>\n      <td>1357171200</td>\n      <td>1358380800</td>\n      <td>14</td>\n      <td>1</td>\n      <td>0</td>\n      <td>0</td>\n      <td>0</td>\n      <td>1</td>\n      <td>0</td>\n      <td>0</td>\n      <td>0</td>\n      <td>0</td>\n      <td>0</td>\n      <td>1</td>\n      <td>0</td>\n      <td>1</td>\n      <td>0</td>\n      <td>0</td>\n      <td>0</td>\n      <td>1</td>\n      <td>0</td>\n      <td>0</td>\n      <td>1</td>\n      <td>0</td>\n      <td>0</td>\n      <td>1</td>\n      <td>0</td>\n      <td>0</td>\n      <td>0</td>\n      <td>0</td>\n      <td>1</td>\n      <td>0</td>\n    </tr>\n    <tr>\n      <th>4</th>\n      <td>22</td>\n      <td>0</td>\n      <td>1357171200</td>\n      <td>1358380800</td>\n      <td>14</td>\n      <td>0</td>\n      <td>1</td>\n      <td>0</td>\n      <td>1</td>\n      <td>0</td>\n      <td>1</td>\n      <td>0</td>\n      <td>0</td>\n      <td>0</td>\n      <td>0</td>\n      <td>0</td>\n      <td>0</td>\n      <td>1</td>\n      <td>0</td>\n      <td>0</td>\n      <td>0</td>\n      <td>0</td>\n      <td>1</td>\n      <td>0</td>\n      <td>1</td>\n      <td>0</td>\n      <td>0</td>\n      <td>1</td>\n      <td>0</td>\n      <td>0</td>\n      <td>0</td>\n      <td>1</td>\n      <td>0</td>\n      <td>0</td>\n    </tr>\n    <tr>\n      <th>...</th>\n      <td>...</td>\n      <td>...</td>\n      <td>...</td>\n      <td>...</td>\n      <td>...</td>\n      <td>...</td>\n      <td>...</td>\n      <td>...</td>\n      <td>...</td>\n      <td>...</td>\n      <td>...</td>\n      <td>...</td>\n      <td>...</td>\n      <td>...</td>\n      <td>...</td>\n      <td>...</td>\n      <td>...</td>\n      <td>...</td>\n      <td>...</td>\n      <td>...</td>\n      <td>...</td>\n      <td>...</td>\n      <td>...</td>\n      <td>...</td>\n      <td>...</td>\n      <td>...</td>\n      <td>...</td>\n      <td>...</td>\n      <td>...</td>\n      <td>...</td>\n      <td>...</td>\n      <td>...</td>\n      <td>...</td>\n      <td>...</td>\n    </tr>\n    <tr>\n      <th>35207</th>\n      <td>30</td>\n      <td>0</td>\n      <td>1388707200</td>\n      <td>1389916800</td>\n      <td>14</td>\n      <td>0</td>\n      <td>1</td>\n      <td>1</td>\n      <td>0</td>\n      <td>0</td>\n      <td>0</td>\n      <td>1</td>\n      <td>0</td>\n      <td>0</td>\n      <td>0</td>\n      <td>0</td>\n      <td>0</td>\n      <td>1</td>\n      <td>0</td>\n      <td>0</td>\n      <td>0</td>\n      <td>1</td>\n      <td>0</td>\n      <td>0</td>\n      <td>1</td>\n      <td>0</td>\n      <td>1</td>\n      <td>0</td>\n      <td>0</td>\n      <td>0</td>\n      <td>0</td>\n      <td>1</td>\n      <td>0</td>\n      <td>0</td>\n    </tr>\n    <tr>\n      <th>35208</th>\n      <td>57</td>\n      <td>0</td>\n      <td>1388707200</td>\n      <td>1389916800</td>\n      <td>14</td>\n      <td>1</td>\n      <td>0</td>\n      <td>0</td>\n      <td>1</td>\n      <td>0</td>\n      <td>0</td>\n      <td>0</td>\n      <td>0</td>\n      <td>0</td>\n      <td>0</td>\n      <td>1</td>\n      <td>0</td>\n      <td>0</td>\n      <td>0</td>\n      <td>1</td>\n      <td>0</td>\n      <td>1</td>\n      <td>0</td>\n      <td>0</td>\n      <td>0</td>\n      <td>1</td>\n      <td>1</td>\n      <td>0</td>\n      <td>0</td>\n      <td>0</td>\n      <td>0</td>\n      <td>0</td>\n      <td>1</td>\n      <td>0</td>\n    </tr>\n    <tr>\n      <th>35209</th>\n      <td>38</td>\n      <td>0</td>\n      <td>1388707200</td>\n      <td>1389916800</td>\n      <td>14</td>\n      <td>1</td>\n      <td>0</td>\n      <td>0</td>\n      <td>0</td>\n      <td>1</td>\n      <td>0</td>\n      <td>0</td>\n      <td>0</td>\n      <td>0</td>\n      <td>1</td>\n      <td>0</td>\n      <td>0</td>\n      <td>0</td>\n      <td>1</td>\n      <td>0</td>\n      <td>0</td>\n      <td>1</td>\n      <td>0</td>\n      <td>0</td>\n      <td>0</td>\n      <td>1</td>\n      <td>0</td>\n      <td>0</td>\n      <td>0</td>\n      <td>0</td>\n      <td>1</td>\n      <td>1</td>\n      <td>0</td>\n      <td>0</td>\n    </tr>\n    <tr>\n      <th>35210</th>\n      <td>19</td>\n      <td>0</td>\n      <td>1388707200</td>\n      <td>1389916800</td>\n      <td>14</td>\n      <td>1</td>\n      <td>0</td>\n      <td>0</td>\n      <td>0</td>\n      <td>1</td>\n      <td>0</td>\n      <td>0</td>\n      <td>0</td>\n      <td>0</td>\n      <td>1</td>\n      <td>0</td>\n      <td>0</td>\n      <td>0</td>\n      <td>1</td>\n      <td>0</td>\n      <td>0</td>\n      <td>1</td>\n      <td>0</td>\n      <td>0</td>\n      <td>0</td>\n      <td>1</td>\n      <td>0</td>\n      <td>0</td>\n      <td>1</td>\n      <td>0</td>\n      <td>0</td>\n      <td>0</td>\n      <td>1</td>\n      <td>0</td>\n    </tr>\n    <tr>\n      <th>35211</th>\n      <td>25</td>\n      <td>0</td>\n      <td>1388707200</td>\n      <td>1389916800</td>\n      <td>14</td>\n      <td>0</td>\n      <td>1</td>\n      <td>0</td>\n      <td>0</td>\n      <td>1</td>\n      <td>0</td>\n      <td>0</td>\n      <td>0</td>\n      <td>0</td>\n      <td>1</td>\n      <td>0</td>\n      <td>0</td>\n      <td>0</td>\n      <td>1</td>\n      <td>0</td>\n      <td>0</td>\n      <td>1</td>\n      <td>0</td>\n      <td>0</td>\n      <td>0</td>\n      <td>1</td>\n      <td>0</td>\n      <td>1</td>\n      <td>0</td>\n      <td>0</td>\n      <td>0</td>\n      <td>0</td>\n      <td>1</td>\n      <td>0</td>\n    </tr>\n  </tbody>\n</table>\n<p>35212 rows × 34 columns</p>\n</div>"
     },
     "execution_count": 104,
     "metadata": {},
     "output_type": "execute_result"
    }
   ],
   "source": [
    "df = pd.concat([df,\n",
    "                pd.get_dummies(df['gender'], prefix='gender'),\n",
    "                pd.get_dummies(df['auto'], prefix='auto'),\n",
    "                pd.get_dummies(df['housing'], prefix='housing'),\n",
    "                pd.get_dummies(df['marstatus'], prefix='marstatus'),\n",
    "                pd.get_dummies(df['regclient'], prefix='regclient'),\n",
    "                pd.get_dummies(df['jobtype'], prefix='jobtype'),\n",
    "                pd.get_dummies(df['region'], prefix='region'),\n",
    "                pd.get_dummies(df['children'], prefix='children')], axis=1)\n",
    "\n",
    "df = df.drop(['gender', 'auto', 'housing', 'marstatus', 'regclient',\n",
    "                         'jobtype', 'region', 'credits', 'children'], axis=1)\n",
    "\n",
    "df['delinq60plus'] = df['delinq60plus'].map(lambda x: 1 if x == 'Да' else 0)\n",
    "df"
   ],
   "metadata": {
    "collapsed": false,
    "pycharm": {
     "name": "#%%\n"
    }
   }
  },
  {
   "cell_type": "code",
   "execution_count": 105,
   "outputs": [
    {
     "data": {
      "text/plain": "Pipeline(steps=[('model',\n                 RandomForestClassifier(max_depth=17, n_estimators=800,\n                                        n_jobs=-1, random_state=2020))])"
     },
     "execution_count": 105,
     "metadata": {},
     "output_type": "execute_result"
    }
   ],
   "source": [
    "# Разделение данных на обучающую и тестовую выборки\n",
    "y = df.delinq60plus\n",
    "X = df.drop(['delinq60plus'], axis=1)\n",
    "\n",
    "X_train, X_test, y_train, y_test = train_test_split(X, y,\n",
    "                                                    train_size=0.8,\n",
    "                                                    random_state=42)\n",
    "\n",
    "# Модель RandomForest\n",
    "forest = RandomForestClassifier(n_estimators=800, max_depth=17,\n",
    "                                random_state=2020, n_jobs=-1)\n",
    "my_pipeline = Pipeline(steps=[('model', forest)])\n",
    "my_pipeline.fit(X_train, y_train)\n",
    "\n",
    "preds = my_pipeline.predict(X_test)"
   ],
   "metadata": {
    "collapsed": false,
    "pycharm": {
     "name": "#%%\n"
    }
   }
  },
  {
   "cell_type": "code",
   "execution_count": 106,
   "outputs": [
    {
     "name": "stdout",
     "output_type": "stream",
     "text": [
      "AUC:  0.7514358110704\n"
     ]
    },
    {
     "data": {
      "text/plain": "RandomForestClassifier(max_depth=17, n_estimators=800, n_jobs=-1,\n                       random_state=2020)"
     },
     "execution_count": 106,
     "metadata": {},
     "output_type": "execute_result"
    }
   ],
   "source": [
    "# Оценка модели\n",
    "score_auc = roc_auc_score(y_test, preds)\n",
    "print('AUC: ', score_auc)\n",
    "forest.fit(X_train, y_train)"
   ],
   "metadata": {
    "collapsed": false,
    "pycharm": {
     "name": "#%%\n"
    }
   }
  },
  {
   "cell_type": "code",
   "execution_count": 107,
   "outputs": [
    {
     "name": "stdout",
     "output_type": "stream",
     "text": [
      "AUC на обучающей выборке: 0.989\n",
      "AUC на контрольной выборке: 0.843\n"
     ]
    }
   ],
   "source": [
    "print('AUC на обучающей выборке: {:.3f}'.format(roc_auc_score(y_train, forest.predict_proba(X_train)[:, 1])))\n",
    "print('AUC на контрольной выборке: {:.3f}'.format(roc_auc_score(y_test, forest.predict_proba(X_test)[:, 1])))"
   ],
   "metadata": {
    "collapsed": false,
    "pycharm": {
     "name": "#%%\n"
    }
   }
  },
  {
   "cell_type": "markdown",
   "source": [
    "### Наивный Байес"
   ],
   "metadata": {
    "collapsed": false,
    "pycharm": {
     "name": "#%% md\n"
    }
   }
  },
  {
   "cell_type": "code",
   "execution_count": 108,
   "outputs": [
    {
     "data": {
      "text/plain": "GaussianNB()"
     },
     "execution_count": 108,
     "metadata": {},
     "output_type": "execute_result"
    },
    {
     "name": "stdout",
     "output_type": "stream",
     "text": [
      "AUC на обучающей выборке: 0.721\n",
      "AUC на контрольной выборке: 0.718\n"
     ]
    }
   ],
   "source": [
    "from sklearn.naive_bayes import GaussianNB\n",
    "\n",
    "gaus_nb = GaussianNB()\n",
    "\n",
    "gaus_nb.fit(X_train, y_train)\n",
    "\n",
    "print('AUC на обучающей выборке: {:.3f}'.format(roc_auc_score(y_train, gaus_nb.predict(X_train))))\n",
    "print('AUC на контрольной выборке: {:.3f}'.format(roc_auc_score(y_test, gaus_nb.predict(X_test))))"
   ],
   "metadata": {
    "collapsed": false,
    "pycharm": {
     "name": "#%%\n"
    }
   }
  },
  {
   "cell_type": "markdown",
   "source": [
    "### Мульти номинальный Наивный Бейс"
   ],
   "metadata": {
    "collapsed": false,
    "pycharm": {
     "name": "#%% md\n"
    }
   }
  },
  {
   "cell_type": "code",
   "execution_count": 109,
   "outputs": [
    {
     "data": {
      "text/plain": "MultinomialNB()"
     },
     "execution_count": 109,
     "metadata": {},
     "output_type": "execute_result"
    },
    {
     "name": "stdout",
     "output_type": "stream",
     "text": [
      "AUC на обучающей выборке: 0.527\n",
      "AUC на контрольной выборке: 0.531\n"
     ]
    }
   ],
   "source": [
    "from sklearn.naive_bayes import MultinomialNB\n",
    "\n",
    "multinominal_nb = MultinomialNB()\n",
    "\n",
    "multinominal_nb.fit(X_train, y_train)\n",
    "\n",
    "print('AUC на обучающей выборке: {:.3f}'.format(roc_auc_score(y_train, multinominal_nb.predict(X_train))))\n",
    "print('AUC на контрольной выборке: {:.3f}'.format(roc_auc_score(y_test, multinominal_nb.predict(X_test))))"
   ],
   "metadata": {
    "collapsed": false,
    "pycharm": {
     "name": "#%%\n"
    }
   }
  },
  {
   "cell_type": "code",
   "execution_count": 110,
   "outputs": [],
   "source": [
    "### Complement Naive Bayes"
   ],
   "metadata": {
    "collapsed": false,
    "pycharm": {
     "name": "#%%\n"
    }
   }
  },
  {
   "cell_type": "code",
   "execution_count": 111,
   "outputs": [
    {
     "data": {
      "text/plain": "ComplementNB()"
     },
     "execution_count": 111,
     "metadata": {},
     "output_type": "execute_result"
    },
    {
     "name": "stdout",
     "output_type": "stream",
     "text": [
      "AUC на обучающей выборке: 0.534\n",
      "AUC на контрольной выборке: 0.539\n"
     ]
    }
   ],
   "source": [
    "from sklearn.naive_bayes import ComplementNB\n",
    "\n",
    "complement_nb = ComplementNB()\n",
    "\n",
    "complement_nb.fit(X_train, y_train)\n",
    "\n",
    "print('AUC на обучающей выборке: {:.3f}'.format(roc_auc_score(y_train, complement_nb.predict(X_train))))\n",
    "print('AUC на контрольной выборке: {:.3f}'.format(roc_auc_score(y_test, complement_nb.predict(X_test))))"
   ],
   "metadata": {
    "collapsed": false,
    "pycharm": {
     "name": "#%%\n"
    }
   }
  },
  {
   "cell_type": "code",
   "execution_count": 112,
   "outputs": [
    {
     "data": {
      "text/plain": "LinearRegression()"
     },
     "execution_count": 112,
     "metadata": {},
     "output_type": "execute_result"
    },
    {
     "name": "stdout",
     "output_type": "stream",
     "text": [
      "AUC на обучающей выборке: 0.832245147695714\n",
      "AUC на контрольной выборке: 0.8281484623951112\n"
     ]
    }
   ],
   "source": [
    "from sklearn.linear_model import LinearRegression\n",
    "\n",
    "linear_regression = LinearRegression(fit_intercept=True)\n",
    "\n",
    "linear_regression.fit(X_train, y_train)\n",
    "\n",
    "print(f'AUC на обучающей выборке: {roc_auc_score(y_train, linear_regression.predict(X_train))}')\n",
    "print(f'AUC на контрольной выборке: {roc_auc_score(y_test, linear_regression.predict(X_test))}')"
   ],
   "metadata": {
    "collapsed": false,
    "pycharm": {
     "name": "#%%\n"
    }
   }
  },
  {
   "cell_type": "code",
   "execution_count": 112,
   "outputs": [],
   "source": [],
   "metadata": {
    "collapsed": false,
    "pycharm": {
     "name": "#%%\n"
    }
   }
  }
 ],
 "metadata": {
  "kernelspec": {
   "display_name": "Python 3",
   "language": "python",
   "name": "python3"
  },
  "language_info": {
   "codemirror_mode": {
    "name": "ipython",
    "version": 2
   },
   "file_extension": ".py",
   "mimetype": "text/x-python",
   "name": "python",
   "nbconvert_exporter": "python",
   "pygments_lexer": "ipython2",
   "version": "2.7.6"
  }
 },
 "nbformat": 4,
 "nbformat_minor": 0
}