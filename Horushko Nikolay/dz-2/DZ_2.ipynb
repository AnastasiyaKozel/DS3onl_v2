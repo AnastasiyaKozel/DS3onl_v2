{
 "cells": [
  {
   "cell_type": "code",
   "execution_count": 39,
   "id": "a486c786",
   "metadata": {},
   "outputs": [],
   "source": [
    "import math"
   ]
  },
  {
   "cell_type": "markdown",
   "id": "6621b709",
   "metadata": {},
   "source": [
    "### Задание 1\n",
    "Напишите программу, которая рассчитывает расход топлива маршрута, на вход подается длина маршрута и расход топлива на 100 километров. Используйте try catch (проверка что пользователь ввел число>0)."
   ]
  },
  {
   "cell_type": "markdown",
   "id": "20019d04",
   "metadata": {},
   "source": [
    "* Решение"
   ]
  },
  {
   "cell_type": "code",
   "execution_count": 95,
   "id": "f5cc61e4",
   "metadata": {},
   "outputs": [],
   "source": [
    "def calcTotalConsumption(mileage, consumption):\n",
    "    if mileage < 0 or consumption < 0:\n",
    "        raise ValueError(f\"Mileage and consumption should be > 0, but mileage: {mileage} consumption: {consumption}\")\n",
    "    return consumption * (mileage / 100);"
   ]
  },
  {
   "cell_type": "markdown",
   "id": "98257272",
   "metadata": {},
   "source": [
    "* Тест"
   ]
  },
  {
   "cell_type": "code",
   "execution_count": 100,
   "id": "05609d5c",
   "metadata": {},
   "outputs": [
    {
     "name": "stdout",
     "output_type": "stream",
     "text": [
      "ValueError was throwed\n"
     ]
    }
   ],
   "source": [
    "assert calcTotalConsumption(150, 2) == 3\n",
    "try:\n",
    "    calcTotalConsumption(-1, -1)\n",
    "except ValueError:\n",
    "    print('ValueError was throwed')"
   ]
  },
  {
   "cell_type": "markdown",
   "id": "6f8755a5",
   "metadata": {},
   "source": [
    "### Задание 2\n",
    "Напишите программу, которая ищет корни квадратного уравнения вида a*x*x+b*x+c. На вход программы подаются a,b,c. Результатом работы программы – действительные корни или сообщение что корней нет.  "
   ]
  },
  {
   "cell_type": "markdown",
   "id": "f53741bb",
   "metadata": {},
   "source": [
    "* Решение"
   ]
  },
  {
   "cell_type": "code",
   "execution_count": 40,
   "id": "11316ee8",
   "metadata": {},
   "outputs": [],
   "source": [
    "def calcQuadraticEquation(a, b, c):\n",
    "    discriminant = b ** 2 - 4 * a * c\n",
    "    if discriminant > 0:\n",
    "        x1 = (-b + math.sqrt(discriminant)) / (2 * a)\n",
    "        x2 = (-b - math.sqrt(discriminant)) / (2 * a)\n",
    "        return x1, x2\n",
    "    elif discriminant == 0:\n",
    "        return -b / (2 * a)\n",
    "    else:\n",
    "        raise ValueError(f\"Equation: {a}, {b}, {c} doesn't have solution\")"
   ]
  },
  {
   "cell_type": "markdown",
   "id": "c1085944",
   "metadata": {},
   "source": [
    "* Тест"
   ]
  },
  {
   "cell_type": "code",
   "execution_count": 103,
   "id": "cb0f3f29",
   "metadata": {},
   "outputs": [
    {
     "name": "stdout",
     "output_type": "stream",
     "text": [
      "ValueError was throwed\n"
     ]
    }
   ],
   "source": [
    "assert calcQuadraticEquation(1, 2, -3) == (1,-3)\n",
    "assert calcQuadraticEquation(1, -6, 9) == 3\n",
    "try: \n",
    "    calcQuadraticEquation(1, 2, 3)\n",
    "except ValueError:\n",
    "    print('ValueError was throwed')\n",
    "    "
   ]
  },
  {
   "cell_type": "markdown",
   "id": "782f7e57",
   "metadata": {},
   "source": [
    "### Задание 3\n",
    "Напишите программу, находящую наибольшее и наименьшее значение функции y = -26*x**2+25*x-9 на отрезке [-5,5]"
   ]
  },
  {
   "cell_type": "markdown",
   "id": "6df1cfc1",
   "metadata": {},
   "source": [
    "* Решение"
   ]
  },
  {
   "cell_type": "code",
   "execution_count": 101,
   "id": "5dc61014",
   "metadata": {},
   "outputs": [],
   "source": [
    "def getMaxMin(start, end, step):\n",
    "    x = start\n",
    "    r_min = calcFunction(x)\n",
    "    r_max = calcFunction(x)\n",
    "    while x <= end:\n",
    "        r = calcFunction(x)\n",
    "        r_min = min(r_min, r)\n",
    "        r_max = max(r_max, r)\n",
    "        x += step;\n",
    "    return r_min, r_max\n",
    "    \n",
    "def calcFunction(x):\n",
    "    return -26 * x ** 2 + 25 * x -9"
   ]
  },
  {
   "cell_type": "markdown",
   "id": "74e41c8a",
   "metadata": {},
   "source": [
    "* Тест"
   ]
  },
  {
   "cell_type": "code",
   "execution_count": 102,
   "id": "c3adffb1",
   "metadata": {},
   "outputs": [],
   "source": [
    "assert getMaxMin(-5, 5, 0.1) == (-784, -2.999999999999999)"
   ]
  }
 ],
 "metadata": {
  "kernelspec": {
   "display_name": "Python 3 (ipykernel)",
   "language": "python",
   "name": "python3"
  },
  "language_info": {
   "codemirror_mode": {
    "name": "ipython",
    "version": 3
   },
   "file_extension": ".py",
   "mimetype": "text/x-python",
   "name": "python",
   "nbconvert_exporter": "python",
   "pygments_lexer": "ipython3",
   "version": "3.9.12"
  }
 },
 "nbformat": 4,
 "nbformat_minor": 5
}
