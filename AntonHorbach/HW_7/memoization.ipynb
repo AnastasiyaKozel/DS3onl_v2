{
 "cells": [
  {
   "cell_type": "code",
   "execution_count": 1,
   "id": "5520d319",
   "metadata": {},
   "outputs": [],
   "source": [
    "import functools\n",
    "import time"
   ]
  },
  {
   "cell_type": "code",
   "execution_count": 2,
   "id": "b38d20b2",
   "metadata": {},
   "outputs": [],
   "source": [
    "def memoize(func):\n",
    "    @functools.wraps(func)\n",
    "    def wrapper(*args):\n",
    "        if args in wrapper.memos:\n",
    "            result, count = wrapper.memos[args]\n",
    "            if count != 0:\n",
    "                print(\"return from memos\")\n",
    "                wrapper.memos[args][1] -= 1;\n",
    "                return result\n",
    "            else:\n",
    "                wrapper.memos.pop(args)\n",
    "        \n",
    "        result = func(*args)\n",
    "        wrapper.memos[args] = [result, 3]\n",
    "        print(\"return from function\")\n",
    "        \n",
    "        return result\n",
    "    \n",
    "    wrapper.memos = {}\n",
    "    \n",
    "    return wrapper"
   ]
  },
  {
   "cell_type": "code",
   "execution_count": 5,
   "id": "a067937d",
   "metadata": {},
   "outputs": [],
   "source": [
    "@memoize\n",
    "def pow(x, n):\n",
    "    # trivial impl for slow execution\n",
    "    res = 1\n",
    "    for i in range(n):\n",
    "        res *= x\n",
    "    return res"
   ]
  },
  {
   "cell_type": "code",
   "execution_count": 6,
   "id": "3d6f2dee",
   "metadata": {},
   "outputs": [
    {
     "name": "stdout",
     "output_type": "stream",
     "text": [
      "return from function\n",
      "1.4600763320922852\n",
      "return from memos\n",
      "1.0967254638671875e-05\n",
      "return from memos\n",
      "7.867813110351562e-06\n",
      "return from memos\n",
      "6.9141387939453125e-06\n",
      "return from function\n",
      "1.3773634433746338\n",
      "return from memos\n",
      "1.0967254638671875e-05\n",
      "return from memos\n",
      "7.62939453125e-06\n",
      "return from memos\n",
      "7.152557373046875e-06\n",
      "return from function\n",
      "1.430985450744629\n"
     ]
    }
   ],
   "source": [
    "for i in range(9):\n",
    "    begin = time.time()\n",
    "    pow(548358548, 42312)\n",
    "    print(time.time() - begin)"
   ]
  },
  {
   "cell_type": "code",
   "execution_count": null,
   "id": "0ec7b13c",
   "metadata": {},
   "outputs": [],
   "source": []
  }
 ],
 "metadata": {
  "kernelspec": {
   "display_name": "Python 3 (ipykernel)",
   "language": "python",
   "name": "python3"
  },
  "language_info": {
   "codemirror_mode": {
    "name": "ipython",
    "version": 3
   },
   "file_extension": ".py",
   "mimetype": "text/x-python",
   "name": "python",
   "nbconvert_exporter": "python",
   "pygments_lexer": "ipython3",
   "version": "3.9.13"
  }
 },
 "nbformat": 4,
 "nbformat_minor": 5
}
