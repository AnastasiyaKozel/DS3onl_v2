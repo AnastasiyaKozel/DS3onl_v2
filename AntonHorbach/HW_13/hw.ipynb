{
 "cells": [
  {
   "cell_type": "markdown",
   "metadata": {},
   "source": [
    "# Цель\n",
    "\n",
    "Не менее 20000 символов.\n",
    "уменьшить размерность текста, используя метод главных компонент, при этом обеспечить сохранение информации не менее 80%\n",
    "\n",
    "\n",
    "# Задачи:\n",
    "\n",
    "- осуществить загрузку текста, токенизацию\n",
    "\n",
    "- почистить данные (числа, знаки препинания, символы, стоп-слова)\n",
    "\n",
    "- осуществить лемматизацию\n",
    "\n",
    "- перевести в векторное представление\n",
    "\n",
    "- применить метод главных компонент таким образом, чтобы потеря информации составила не более 20%\n",
    "\n",
    "- (если есть метки классов) посчитать результаты обучения. \n"
   ]
  },
  {
   "cell_type": "code",
   "execution_count": 72,
   "metadata": {},
   "outputs": [],
   "source": [
    "import pandas as pd\n",
    "import spacy\n",
    "import en_core_web_sm\n",
    "import seaborn as sbn\n",
    "import matplotlib.pyplot as plt\n",
    "import numpy as np\n",
    "from sklearn.feature_extraction.text import TfidfVectorizer\n",
    "from sklearn.decomposition import PCA\n",
    "import regex as re\n",
    "from string import punctuation\n",
    "from string import digits"
   ]
  },
  {
   "cell_type": "markdown",
   "metadata": {},
   "source": [
    "## Подготовка модели"
   ]
  },
  {
   "cell_type": "code",
   "execution_count": 73,
   "metadata": {},
   "outputs": [],
   "source": [
    "nlp = en_core_web_sm.load()"
   ]
  },
  {
   "cell_type": "code",
   "execution_count": 74,
   "metadata": {},
   "outputs": [],
   "source": [
    "# читаем текст из файла и удаляем мусор\n",
    "with open('text.txt') as f:\n",
    "    text = f.read()\n",
    "\n",
    "text = \" \".join(re.sub(r'\\[[0-9]+\\]', '', text).split())\n",
    "\n",
    "nlp.Defaults.stop_words.add(\"de\")\n",
    "\n",
    "doc = nlp(text)"
   ]
  },
  {
   "cell_type": "markdown",
   "metadata": {},
   "source": [
    "## Лемматизация\n",
    "\n",
    "Пропускаем цифры и знаки препинания"
   ]
  },
  {
   "cell_type": "code",
   "execution_count": 75,
   "metadata": {},
   "outputs": [],
   "source": [
    "# лемматизация. пропускаем цифры и знаки препинания\n",
    "sents = []\n",
    "for sent in doc.sents:\n",
    "    processed_sent = []\n",
    "    for token in sent:\n",
    "        if not token.is_stop:\n",
    "            word = [char for char in token.lemma_.lower() if char not in digits and char not in punctuation]\n",
    "            word = ''.join(word)\n",
    "            if len(word) != 0:\n",
    "                processed_sent.append(word)\n",
    "    \n",
    "    sents.append(' '.join(processed_sent))\n",
    "\n",
    "\n",
    "sents = np.array(sents)"
   ]
  },
  {
   "cell_type": "markdown",
   "metadata": {},
   "source": [
    "## Векторизация"
   ]
  },
  {
   "cell_type": "code",
   "execution_count": 76,
   "metadata": {},
   "outputs": [
    {
     "data": {
      "text/plain": [
       "<702x2857 sparse matrix of type '<class 'numpy.float64'>'\n",
       "\twith 8912 stored elements in Compressed Sparse Row format>"
      ]
     },
     "execution_count": 76,
     "metadata": {},
     "output_type": "execute_result"
    }
   ],
   "source": [
    "vectorizer = TfidfVectorizer()\n",
    "\n",
    "vectorized = vectorizer.fit_transform(sents)\n",
    "vectorized"
   ]
  },
  {
   "cell_type": "code",
   "execution_count": 77,
   "metadata": {},
   "outputs": [
    {
     "data": {
      "text/plain": [
       "(702, 2857)"
      ]
     },
     "execution_count": 77,
     "metadata": {},
     "output_type": "execute_result"
    }
   ],
   "source": [
    "df = pd.DataFrame(vectorized.toarray(), columns=vectorizer.get_feature_names_out())\n",
    "df.shape"
   ]
  },
  {
   "cell_type": "markdown",
   "metadata": {},
   "source": [
    "## Понижение размерности с помощью PCA"
   ]
  },
  {
   "cell_type": "code",
   "execution_count": 78,
   "metadata": {},
   "outputs": [
    {
     "name": "stdout",
     "output_type": "stream",
     "text": [
      "0.8008647408119611\n",
      "(2857, 390)\n"
     ]
    }
   ],
   "source": [
    "pca = PCA(390)\n",
    "transformed = pca.fit_transform(df.T)\n",
    "\n",
    "print(pca.explained_variance_ratio_.sum())\n",
    "print(transformed.shape)"
   ]
  },
  {
   "cell_type": "code",
   "execution_count": null,
   "metadata": {},
   "outputs": [],
   "source": []
  }
 ],
 "metadata": {
  "kernelspec": {
   "display_name": "Python 3.11.0 64-bit",
   "language": "python",
   "name": "python3"
  },
  "language_info": {
   "codemirror_mode": {
    "name": "ipython",
    "version": 3
   },
   "file_extension": ".py",
   "mimetype": "text/x-python",
   "name": "python",
   "nbconvert_exporter": "python",
   "pygments_lexer": "ipython3",
   "version": "3.11.0"
  },
  "orig_nbformat": 4,
  "vscode": {
   "interpreter": {
    "hash": "767d51c1340bd893661ea55ea3124f6de3c7a262a8b4abca0554b478b1e2ff90"
   }
  }
 },
 "nbformat": 4,
 "nbformat_minor": 2
}
