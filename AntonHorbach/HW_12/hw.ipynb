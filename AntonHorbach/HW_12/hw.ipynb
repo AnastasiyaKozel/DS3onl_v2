{
 "cells": [
  {
   "cell_type": "markdown",
   "metadata": {},
   "source": [
    "# Задание\n",
    "\n",
    "Использовать полученные знания в части обучения моделей для обучения и подбора параметров в задачах из предыдущих ДЗ на выбор (мфо, задача с тем возьмёт ли человек кредит или нет)\n",
    "\n",
    "В частности использовать:\n",
    "- GaussianNB\n",
    "- LinearRegression + PolynomialFeatures.\n",
    "- При обучении использовать make_pipeline\n",
    "- GridSearchCV для поиска параметров"
   ]
  },
  {
   "cell_type": "markdown",
   "metadata": {},
   "source": [
    "# Подготовка данных"
   ]
  },
  {
   "cell_type": "code",
   "execution_count": 169,
   "metadata": {},
   "outputs": [],
   "source": [
    "import pandas as pd\n",
    "import numpy as np\n",
    "from sklearn.model_selection import train_test_split\n",
    "from sklearn.preprocessing import PolynomialFeatures\n",
    "from sklearn.linear_model import LinearRegression\n",
    "from sklearn.naive_bayes import GaussianNB\n",
    "from sklearn.pipeline import make_pipeline\n",
    "from sklearn.metrics import roc_auc_score\n",
    "from sklearn.model_selection import GridSearchCV"
   ]
  },
  {
   "cell_type": "code",
   "execution_count": 170,
   "metadata": {},
   "outputs": [
    {
     "data": {
      "text/html": [
       "<div>\n",
       "<style scoped>\n",
       "    .dataframe tbody tr th:only-of-type {\n",
       "        vertical-align: middle;\n",
       "    }\n",
       "\n",
       "    .dataframe tbody tr th {\n",
       "        vertical-align: top;\n",
       "    }\n",
       "\n",
       "    .dataframe thead th {\n",
       "        text-align: right;\n",
       "    }\n",
       "</style>\n",
       "<table border=\"1\" class=\"dataframe\">\n",
       "  <thead>\n",
       "    <tr style=\"text-align: right;\">\n",
       "      <th></th>\n",
       "      <th>date_start</th>\n",
       "      <th>date_end</th>\n",
       "      <th>gender</th>\n",
       "      <th>age</th>\n",
       "      <th>auto</th>\n",
       "      <th>housing</th>\n",
       "      <th>marstatus</th>\n",
       "      <th>regclient</th>\n",
       "      <th>jobtype</th>\n",
       "      <th>region</th>\n",
       "      <th>credits</th>\n",
       "      <th>children</th>\n",
       "      <th>delinq60plus</th>\n",
       "    </tr>\n",
       "    <tr>\n",
       "      <th>id</th>\n",
       "      <th></th>\n",
       "      <th></th>\n",
       "      <th></th>\n",
       "      <th></th>\n",
       "      <th></th>\n",
       "      <th></th>\n",
       "      <th></th>\n",
       "      <th></th>\n",
       "      <th></th>\n",
       "      <th></th>\n",
       "      <th></th>\n",
       "      <th></th>\n",
       "      <th></th>\n",
       "    </tr>\n",
       "  </thead>\n",
       "  <tbody>\n",
       "    <tr>\n",
       "      <th>1</th>\n",
       "      <td>2013-01-03</td>\n",
       "      <td>2013-01-12</td>\n",
       "      <td>Мужской</td>\n",
       "      <td>44</td>\n",
       "      <td>Нет</td>\n",
       "      <td>Собственное</td>\n",
       "      <td>Гражданский брак/женат/замужем</td>\n",
       "      <td>Нет</td>\n",
       "      <td>Официальное</td>\n",
       "      <td>Новосибирская область</td>\n",
       "      <td>Нет</td>\n",
       "      <td>Да</td>\n",
       "      <td>Нет</td>\n",
       "    </tr>\n",
       "    <tr>\n",
       "      <th>2</th>\n",
       "      <td>2013-01-03</td>\n",
       "      <td>2013-01-17</td>\n",
       "      <td>Мужской</td>\n",
       "      <td>21</td>\n",
       "      <td>Пропуск поля</td>\n",
       "      <td>Живут с родителями</td>\n",
       "      <td>Холост</td>\n",
       "      <td>Нет</td>\n",
       "      <td>Официальное</td>\n",
       "      <td>Кемеровская область юг</td>\n",
       "      <td>Да</td>\n",
       "      <td>Нет</td>\n",
       "      <td>Нет</td>\n",
       "    </tr>\n",
       "    <tr>\n",
       "      <th>3</th>\n",
       "      <td>2013-01-03</td>\n",
       "      <td>2013-01-17</td>\n",
       "      <td>Мужской</td>\n",
       "      <td>25</td>\n",
       "      <td>Пропуск поля</td>\n",
       "      <td>Собственное</td>\n",
       "      <td>Холост</td>\n",
       "      <td>Да</td>\n",
       "      <td>Официальное</td>\n",
       "      <td>Кемеровская область север</td>\n",
       "      <td>Пропуск поля</td>\n",
       "      <td>Нет</td>\n",
       "      <td>Нет</td>\n",
       "    </tr>\n",
       "    <tr>\n",
       "      <th>4</th>\n",
       "      <td>2013-01-03</td>\n",
       "      <td>2013-01-17</td>\n",
       "      <td>Женский</td>\n",
       "      <td>47</td>\n",
       "      <td>Пропуск поля</td>\n",
       "      <td>Собственное</td>\n",
       "      <td>Гражданский брак/женат/замужем</td>\n",
       "      <td>Да</td>\n",
       "      <td>Официальное</td>\n",
       "      <td>Кемеровская область север</td>\n",
       "      <td>Нет</td>\n",
       "      <td>Нет</td>\n",
       "      <td>Нет</td>\n",
       "    </tr>\n",
       "    <tr>\n",
       "      <th>5</th>\n",
       "      <td>2013-01-03</td>\n",
       "      <td>2013-01-17</td>\n",
       "      <td>Мужской</td>\n",
       "      <td>22</td>\n",
       "      <td>Нет</td>\n",
       "      <td>Арендуемое</td>\n",
       "      <td>Гражданский брак/женат/замужем</td>\n",
       "      <td>Нет</td>\n",
       "      <td>Официальное</td>\n",
       "      <td>Кемеровская область север</td>\n",
       "      <td>Да</td>\n",
       "      <td>Да</td>\n",
       "      <td>Нет</td>\n",
       "    </tr>\n",
       "  </tbody>\n",
       "</table>\n",
       "</div>"
      ],
      "text/plain": [
       "   date_start   date_end   gender  age          auto             housing  \\\n",
       "id                                                                         \n",
       "1  2013-01-03 2013-01-12  Мужской   44           Нет         Собственное   \n",
       "2  2013-01-03 2013-01-17  Мужской   21  Пропуск поля  Живут с родителями   \n",
       "3  2013-01-03 2013-01-17  Мужской   25  Пропуск поля         Собственное   \n",
       "4  2013-01-03 2013-01-17  Женский   47  Пропуск поля         Собственное   \n",
       "5  2013-01-03 2013-01-17  Мужской   22           Нет          Арендуемое   \n",
       "\n",
       "                         marstatus regclient      jobtype  \\\n",
       "id                                                          \n",
       "1   Гражданский брак/женат/замужем       Нет  Официальное   \n",
       "2                           Холост       Нет  Официальное   \n",
       "3                           Холост        Да  Официальное   \n",
       "4   Гражданский брак/женат/замужем        Да  Официальное   \n",
       "5   Гражданский брак/женат/замужем       Нет  Официальное   \n",
       "\n",
       "                       region       credits children delinq60plus  \n",
       "id                                                                 \n",
       "1       Новосибирская область           Нет       Да          Нет  \n",
       "2      Кемеровская область юг            Да      Нет          Нет  \n",
       "3   Кемеровская область север  Пропуск поля      Нет          Нет  \n",
       "4   Кемеровская область север           Нет      Нет          Нет  \n",
       "5   Кемеровская область север            Да       Да          Нет  "
      ]
     },
     "execution_count": 170,
     "metadata": {},
     "output_type": "execute_result"
    }
   ],
   "source": [
    "df = pd.read_csv('data/MFOcredit.csv',\n",
    "    encoding='cp1251',\n",
    "    sep=';',\n",
    "    index_col='id',\n",
    "    parse_dates=['date_start', 'date_end'])\n",
    "df.head(5)"
   ]
  },
  {
   "cell_type": "code",
   "execution_count": 171,
   "metadata": {},
   "outputs": [],
   "source": [
    "y = 'delinq60plus'\n",
    "\n",
    "X = df.columns.to_list()\n",
    "X.remove(y)\n",
    "\n",
    "X_train, X_test, y_train, y_test = train_test_split(df[X], df[y], train_size=0.75, random_state=123)"
   ]
  },
  {
   "cell_type": "code",
   "execution_count": 172,
   "metadata": {},
   "outputs": [],
   "source": [
    "columns = ['gender', 'auto', 'housing', 'marstatus', 'regclient', 'jobtype', 'region', 'credits', 'children']\n",
    "\n",
    "def replace_empties(dataframe):\n",
    "    for column in columns:\n",
    "        new_value = dataframe[column].value_counts().index[0]\n",
    "        dataframe.loc[dataframe[column] == \"Пропуск поля\", column] = new_value\n",
    "    \n",
    "    return dataframe"
   ]
  },
  {
   "cell_type": "code",
   "execution_count": 173,
   "metadata": {},
   "outputs": [],
   "source": [
    "X_train = replace_empties(X_train)\n",
    "X_test = replace_empties(X_test)"
   ]
  },
  {
   "cell_type": "code",
   "execution_count": 174,
   "metadata": {},
   "outputs": [],
   "source": [
    "def cast_dates(dataframe):\n",
    "    dataframe.date_start = dataframe.date_start.astype(np.int64)\n",
    "    dataframe.date_end = dataframe.date_end.astype(np.int64)"
   ]
  },
  {
   "cell_type": "code",
   "execution_count": 175,
   "metadata": {},
   "outputs": [],
   "source": [
    "cast_dates(X_train)\n",
    "cast_dates(X_test)"
   ]
  },
  {
   "cell_type": "code",
   "execution_count": 176,
   "metadata": {},
   "outputs": [],
   "source": [
    "def coding_features(dataframe):\n",
    "    dataframe = pd.concat([dataframe,\n",
    "           pd.get_dummies(dataframe['gender'], prefix='gender'),\n",
    "           pd.get_dummies(dataframe['auto'], prefix='auto'),\n",
    "           pd.get_dummies(dataframe['housing'], prefix='housing'),\n",
    "           pd.get_dummies(dataframe['marstatus'], prefix='marstatus'),\n",
    "           pd.get_dummies(dataframe['regclient'], prefix='regclient'),\n",
    "           pd.get_dummies(dataframe['jobtype'], prefix='jobtype'),\n",
    "           pd.get_dummies(dataframe['region'], prefix='region'),\n",
    "           pd.get_dummies(dataframe['credits'], prefix='credits'),\n",
    "           pd.get_dummies(dataframe['children'], prefix='children')],\n",
    "           axis=1)\n",
    "    \n",
    "    return dataframe.drop(['gender', 'auto', 'housing', 'marstatus', 'regclient', 'jobtype', 'region', 'credits', 'children'], axis=1)"
   ]
  },
  {
   "cell_type": "code",
   "execution_count": 177,
   "metadata": {},
   "outputs": [],
   "source": [
    "X_train = coding_features(X_train)\n",
    "X_test = coding_features(X_test)"
   ]
  },
  {
   "cell_type": "code",
   "execution_count": 178,
   "metadata": {},
   "outputs": [
    {
     "data": {
      "text/plain": [
       "array([0, 1, 0, ..., 1, 0, 1])"
      ]
     },
     "execution_count": 178,
     "metadata": {},
     "output_type": "execute_result"
    }
   ],
   "source": [
    "y_train = np.where(y_train == \"Да\", 1, 0)\n",
    "y_test = np.where(y_test == \"Да\", 1, 0)\n",
    "\n",
    "y_train"
   ]
  },
  {
   "cell_type": "markdown",
   "metadata": {},
   "source": [
    "# GaussianNB"
   ]
  },
  {
   "cell_type": "code",
   "execution_count": 179,
   "metadata": {},
   "outputs": [
    {
     "data": {
      "text/plain": [
       "{'var_smoothing': 0.03511191734215131}"
      ]
     },
     "execution_count": 179,
     "metadata": {},
     "output_type": "execute_result"
    }
   ],
   "source": [
    "gnb_params = {'var_smoothing': np.logspace(0,-9, num=100)}\n",
    "\n",
    "gnb_grid = GridSearchCV(estimator=GaussianNB(),\n",
    "                 param_grid=gnb_params, \n",
    "                 cv=2)\n",
    "\n",
    "gnb_grid.fit(X_train, y_train)\n",
    "\n",
    "gnb_grid.best_params_"
   ]
  },
  {
   "cell_type": "code",
   "execution_count": 180,
   "metadata": {},
   "outputs": [],
   "source": [
    "gnb = gnb_grid.best_estimator_"
   ]
  },
  {
   "cell_type": "code",
   "execution_count": 181,
   "metadata": {},
   "outputs": [
    {
     "data": {
      "text/plain": [
       "0.7104046440427967"
      ]
     },
     "execution_count": 181,
     "metadata": {},
     "output_type": "execute_result"
    }
   ],
   "source": [
    "y_pred = gnb.predict(X_test)\n",
    "roc_auc_score(y_test, y_pred)"
   ]
  },
  {
   "cell_type": "markdown",
   "metadata": {},
   "source": [
    "# LinearRegression + PolynomialFeatures"
   ]
  },
  {
   "cell_type": "code",
   "execution_count": 183,
   "metadata": {},
   "outputs": [
    {
     "data": {
      "text/plain": [
       "{'polynomialfeatures__degree': 2, 'polynomialfeatures__include_bias': False}"
      ]
     },
     "execution_count": 183,
     "metadata": {},
     "output_type": "execute_result"
    }
   ],
   "source": [
    "pipe_params = [\n",
    "    {\n",
    "        'polynomialfeatures__degree': (1, 2, 3),\n",
    "        'polynomialfeatures__include_bias': (True, False)\n",
    "    },\n",
    "    {\n",
    "    }\n",
    "]\n",
    "\n",
    "pipe_grid = GridSearchCV(estimator=make_pipeline(PolynomialFeatures(), LinearRegression()),\n",
    "                       param_grid=pipe_params,\n",
    "                       n_jobs=-1,\n",
    "                       cv=2)\n",
    "pipe_grid.fit(X_train, y_train)\n",
    "\n",
    "pipe_grid.best_params_"
   ]
  },
  {
   "cell_type": "code",
   "execution_count": 184,
   "metadata": {},
   "outputs": [],
   "source": [
    "poly_model = pipe_grid.best_estimator_"
   ]
  },
  {
   "cell_type": "code",
   "execution_count": 185,
   "metadata": {},
   "outputs": [
    {
     "data": {
      "text/plain": [
       "0.8226530853417545"
      ]
     },
     "execution_count": 185,
     "metadata": {},
     "output_type": "execute_result"
    }
   ],
   "source": [
    "y_pred = poly_model.predict(X_test)\n",
    "roc_auc_score(y_test, y_pred)"
   ]
  },
  {
   "cell_type": "code",
   "execution_count": null,
   "metadata": {},
   "outputs": [],
   "source": []
  }
 ],
 "metadata": {
  "kernelspec": {
   "display_name": "Python 3.9.12 ('base')",
   "language": "python",
   "name": "python3"
  },
  "language_info": {
   "codemirror_mode": {
    "name": "ipython",
    "version": 3
   },
   "file_extension": ".py",
   "mimetype": "text/x-python",
   "name": "python",
   "nbconvert_exporter": "python",
   "pygments_lexer": "ipython3",
   "version": "3.9.12"
  },
  "orig_nbformat": 4,
  "vscode": {
   "interpreter": {
    "hash": "6d2ca3662093a4c1fe41efe52a3a11511f0966fe72139b928426d1812864efca"
   }
  }
 },
 "nbformat": 4,
 "nbformat_minor": 2
}
