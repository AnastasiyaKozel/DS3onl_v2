{
 "cells": [
  {
   "cell_type": "markdown",
   "id": "7ad3d29d",
   "metadata": {},
   "source": [
    "# Задание\n",
    "\n",
    "Есть Алфавит, характеристиками которого являются: \n",
    "1. Язык\n",
    "2. Список букв\n",
    "\n",
    "Для Алфавита можно: \n",
    "1. Напечатать все буквы алфавита\n",
    "2. Посчитать количество букв\n",
    "\n",
    "Так же есть Английский алфавит, который обладает следующими свойствами: \n",
    "1. Язык\n",
    "2. Список букв\n",
    "3. Количество букв\n",
    "\n",
    "Для Английского алфавита можно: \n",
    "1. Посчитать количество букв\n",
    "2. Определить, относится ли буква к английскому алфавиту\n",
    "3. Получить пример текста на английском языке"
   ]
  },
  {
   "cell_type": "markdown",
   "id": "185de8b3",
   "metadata": {},
   "source": [
    "## Класс Alphabet\n",
    "1. Создайте класс `Alphabet`\n",
    "2. Создайте метод `__init__()`, внутри которого будут определены два динамических свойства: 1) `lang` - язык и 2) `letters` - список букв. Начальные значения свойств берутся из входных параметров метода.\n",
    "3. Создайте метод `print()`, который выведет в консоль буквы алфавита\n",
    "4. Создайте метод `letters_num()`, который вернет количество букв в алфавите"
   ]
  },
  {
   "cell_type": "markdown",
   "id": "81bd0bf4",
   "metadata": {},
   "source": [
    "## Класс EngAlphabet\n",
    "1. Создайте класс `EngAlphabet` путем наследования от класса `Alphabet`\n",
    "2. Создайте метод `__init__()`, внутри которого будет вызываться родительский метод `__init__()`. В качестве параметров ему будут передаваться обозначение языка(например, 'En') и строка, состоящая из всех букв алфавита(можно воспользоваться свойством ascii_uppercase из модуля `string`).\n",
    "3. Добавьте приватное статическое свойство `__letters_num`, которое будет хранить количество букв в алфавите.\n",
    "4. Создайте метод `is_en_letter()`, который будет принимать букву в качестве параметра и определять, относится ли эта буква к английскому алфавиту.\n",
    "5. Переопределите метод `letters_num()` - пусть в текущем классе классе он будет возвращать значение свойства `__letters_num`.\n",
    "6. Создайте статический метод `example()`, который будет возвращать пример текста на английском языке."
   ]
  },
  {
   "cell_type": "markdown",
   "id": "2ccab77f",
   "metadata": {},
   "source": [
    "## Тесты:\n",
    "1. Создайте объект класса `EngAlphabet`\n",
    "2. Напечатайте буквы алфавита для этого объекта\n",
    "3. Выведите количество букв в алфавите\n",
    "4. Проверьте, относится ли буква F к английскому алфавиту\n",
    "5. Проверьте, относится ли буква Щ к английскому алфавиту\n",
    "6. Выведите пример текста на английском языке\n"
   ]
  },
  {
   "cell_type": "code",
   "execution_count": 3,
   "id": "afb67ba0",
   "metadata": {},
   "outputs": [],
   "source": [
    "import string"
   ]
  },
  {
   "cell_type": "code",
   "execution_count": 22,
   "id": "57de12a7",
   "metadata": {},
   "outputs": [],
   "source": [
    "class Alphabet():\n",
    "    def __init__(self, lang, letters):\n",
    "        self.lang = lang\n",
    "        self.letters = letters\n",
    "    \n",
    "    def print(self):\n",
    "        print(self.letters)\n",
    "    \n",
    "    def letters_num(self):\n",
    "        return len(self.letters)\n"
   ]
  },
  {
   "cell_type": "code",
   "execution_count": 23,
   "id": "84c14a1d",
   "metadata": {},
   "outputs": [],
   "source": [
    "class EngAlphabet(Alphabet):\n",
    "    __letters_num = 26\n",
    "    \n",
    "    def __init__(self):\n",
    "        super().__init__('En', string.ascii_uppercase)\n",
    "    \n",
    "    def letters_num(self):\n",
    "        return self.__letters_num\n",
    "    \n",
    "    def is_en_letter(self, letter):\n",
    "        return letter in self.letters\n",
    "    \n",
    "    @staticmethod\n",
    "    def example():\n",
    "        return \"Some English text\""
   ]
  },
  {
   "cell_type": "code",
   "execution_count": 24,
   "id": "40b0235a",
   "metadata": {},
   "outputs": [],
   "source": [
    "eng = EngAlphabet()"
   ]
  },
  {
   "cell_type": "code",
   "execution_count": 25,
   "id": "8beb7728",
   "metadata": {},
   "outputs": [
    {
     "name": "stdout",
     "output_type": "stream",
     "text": [
      "ABCDEFGHIJKLMNOPQRSTUVWXYZ\n"
     ]
    }
   ],
   "source": [
    "eng.print()"
   ]
  },
  {
   "cell_type": "code",
   "execution_count": 26,
   "id": "79bbc31d",
   "metadata": {},
   "outputs": [
    {
     "name": "stdout",
     "output_type": "stream",
     "text": [
      "26\n"
     ]
    }
   ],
   "source": [
    "print(eng.letters_num())"
   ]
  },
  {
   "cell_type": "code",
   "execution_count": 27,
   "id": "df6f3a2e",
   "metadata": {},
   "outputs": [
    {
     "name": "stdout",
     "output_type": "stream",
     "text": [
      "is F English letter?  True\n"
     ]
    }
   ],
   "source": [
    "print(\"is F English letter? \", eng.is_en_letter('F'))"
   ]
  },
  {
   "cell_type": "code",
   "execution_count": 28,
   "id": "0674846e",
   "metadata": {},
   "outputs": [
    {
     "name": "stdout",
     "output_type": "stream",
     "text": [
      "is Щ English letter?  False\n"
     ]
    }
   ],
   "source": [
    "print(\"is Щ English letter? \", eng.is_en_letter('Щ'))"
   ]
  },
  {
   "cell_type": "code",
   "execution_count": 30,
   "id": "a3443dab",
   "metadata": {},
   "outputs": [
    {
     "name": "stdout",
     "output_type": "stream",
     "text": [
      "Some English text\n"
     ]
    }
   ],
   "source": [
    "print(EngAlphabet.example())"
   ]
  },
  {
   "cell_type": "code",
   "execution_count": null,
   "id": "76a26a5b",
   "metadata": {},
   "outputs": [],
   "source": []
  }
 ],
 "metadata": {
  "kernelspec": {
   "display_name": "Python 3 (ipykernel)",
   "language": "python",
   "name": "python3"
  },
  "language_info": {
   "codemirror_mode": {
    "name": "ipython",
    "version": 3
   },
   "file_extension": ".py",
   "mimetype": "text/x-python",
   "name": "python",
   "nbconvert_exporter": "python",
   "pygments_lexer": "ipython3",
   "version": "3.9.13"
  }
 },
 "nbformat": 4,
 "nbformat_minor": 5
}
