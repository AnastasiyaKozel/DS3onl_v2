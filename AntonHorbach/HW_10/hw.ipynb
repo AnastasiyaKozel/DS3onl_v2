{
 "cells": [
  {
   "cell_type": "markdown",
   "metadata": {},
   "source": [
    "## Задание\n",
    "\n",
    "Подготовить данные для этапа моделирования (обучения)\n",
    "    \n",
    "1. Анализ данных, необходимые корректировки. \n",
    "2. Обработать пропуски. \n",
    "3. Оценить выбросы. \n",
    "4. Корреляция. \n",
    "5. Тест на нормальность распределения.\n",
    "6. Масштабировать и стандартизировать данные.\n",
    "7. Разделите данные на тренрровачную и тестовую выборку.\n",
    "8. При обработке пропусков/выбросов/скалировании тестовую и тренировачную выборку обрабатывать отдельно.\n",
    "\n",
    "## Данные\n",
    "\n",
    "* Категориальные\n",
    "    + Образование(`education`)\n",
    "    + Работа(`job_position`)\n",
    "    + Семейное положение(`material_status`)\n",
    "    + Номер предлагаемого тарифа(`tariff_id`)\n",
    "    + Регион проживания(`living_region`)\n",
    "    + Пол(`Gender`)\n",
    "* Вещественные\n",
    "    + Возраст(`Age`)\n",
    "    + Сумма кредита(`credit_sum`)\n",
    "    + Срок кредитования(`credit_month`)\n",
    "    + Месячный заработок(`monthly_income`)\n",
    "    + Количество кредитов у клиента(`credit_count`)\n",
    "    + Количество просроченных кредитов клиента(`overdue_credit_count`)\n",
    "    + `score_shk` - ???"
   ]
  },
  {
   "cell_type": "code",
   "execution_count": 105,
   "metadata": {},
   "outputs": [],
   "source": [
    "import pandas as pd\n",
    "import numpy as np\n",
    "import seaborn as sns\n",
    "import matplotlib.pyplot as plt\n",
    "from scipy import stats\n",
    "from sklearn.model_selection import train_test_split\n",
    "from sklearn.preprocessing import MinMaxScaler as MMScaler\n",
    "from sklearn.ensemble import RandomForestClassifier\n",
    "from sklearn.metrics import roc_auc_score\n",
    "\n",
    "import generalize_regions"
   ]
  },
  {
   "cell_type": "code",
   "execution_count": 106,
   "metadata": {},
   "outputs": [
    {
     "data": {
      "text/html": [
       "<div>\n",
       "<style scoped>\n",
       "    .dataframe tbody tr th:only-of-type {\n",
       "        vertical-align: middle;\n",
       "    }\n",
       "\n",
       "    .dataframe tbody tr th {\n",
       "        vertical-align: top;\n",
       "    }\n",
       "\n",
       "    .dataframe thead th {\n",
       "        text-align: right;\n",
       "    }\n",
       "</style>\n",
       "<table border=\"1\" class=\"dataframe\">\n",
       "  <thead>\n",
       "    <tr style=\"text-align: right;\">\n",
       "      <th></th>\n",
       "      <th>gender</th>\n",
       "      <th>age</th>\n",
       "      <th>marital_status</th>\n",
       "      <th>job_position</th>\n",
       "      <th>credit_sum</th>\n",
       "      <th>credit_month</th>\n",
       "      <th>tariff_id</th>\n",
       "      <th>score_shk</th>\n",
       "      <th>education</th>\n",
       "      <th>living_region</th>\n",
       "      <th>monthly_income</th>\n",
       "      <th>credit_count</th>\n",
       "      <th>overdue_credit_count</th>\n",
       "      <th>open_account_flg</th>\n",
       "    </tr>\n",
       "    <tr>\n",
       "      <th>client_id</th>\n",
       "      <th></th>\n",
       "      <th></th>\n",
       "      <th></th>\n",
       "      <th></th>\n",
       "      <th></th>\n",
       "      <th></th>\n",
       "      <th></th>\n",
       "      <th></th>\n",
       "      <th></th>\n",
       "      <th></th>\n",
       "      <th></th>\n",
       "      <th></th>\n",
       "      <th></th>\n",
       "      <th></th>\n",
       "    </tr>\n",
       "  </thead>\n",
       "  <tbody>\n",
       "    <tr>\n",
       "      <th>1</th>\n",
       "      <td>M</td>\n",
       "      <td>NaN</td>\n",
       "      <td>NaN</td>\n",
       "      <td>UMN</td>\n",
       "      <td>59998.00</td>\n",
       "      <td>10</td>\n",
       "      <td>1.6</td>\n",
       "      <td>NaN</td>\n",
       "      <td>GRD</td>\n",
       "      <td>КРАСНОДАРСКИЙ КРАЙ</td>\n",
       "      <td>30000.0</td>\n",
       "      <td>1.0</td>\n",
       "      <td>1.0</td>\n",
       "      <td>0</td>\n",
       "    </tr>\n",
       "    <tr>\n",
       "      <th>2</th>\n",
       "      <td>F</td>\n",
       "      <td>NaN</td>\n",
       "      <td>MAR</td>\n",
       "      <td>UMN</td>\n",
       "      <td>10889.00</td>\n",
       "      <td>6</td>\n",
       "      <td>1.1</td>\n",
       "      <td>NaN</td>\n",
       "      <td>NaN</td>\n",
       "      <td>МОСКВА</td>\n",
       "      <td>NaN</td>\n",
       "      <td>2.0</td>\n",
       "      <td>0.0</td>\n",
       "      <td>0</td>\n",
       "    </tr>\n",
       "    <tr>\n",
       "      <th>3</th>\n",
       "      <td>M</td>\n",
       "      <td>32.0</td>\n",
       "      <td>MAR</td>\n",
       "      <td>SPC</td>\n",
       "      <td>10728.00</td>\n",
       "      <td>12</td>\n",
       "      <td>1.1</td>\n",
       "      <td>NaN</td>\n",
       "      <td>NaN</td>\n",
       "      <td>ОБЛ САРАТОВСКАЯ</td>\n",
       "      <td>NaN</td>\n",
       "      <td>5.0</td>\n",
       "      <td>0.0</td>\n",
       "      <td>0</td>\n",
       "    </tr>\n",
       "    <tr>\n",
       "      <th>4</th>\n",
       "      <td>F</td>\n",
       "      <td>27.0</td>\n",
       "      <td>NaN</td>\n",
       "      <td>SPC</td>\n",
       "      <td>12009.09</td>\n",
       "      <td>12</td>\n",
       "      <td>1.1</td>\n",
       "      <td>NaN</td>\n",
       "      <td>NaN</td>\n",
       "      <td>ОБЛ ВОЛГОГРАДСКАЯ</td>\n",
       "      <td>NaN</td>\n",
       "      <td>2.0</td>\n",
       "      <td>0.0</td>\n",
       "      <td>0</td>\n",
       "    </tr>\n",
       "    <tr>\n",
       "      <th>5</th>\n",
       "      <td>M</td>\n",
       "      <td>45.0</td>\n",
       "      <td>NaN</td>\n",
       "      <td>SPC</td>\n",
       "      <td>NaN</td>\n",
       "      <td>10</td>\n",
       "      <td>1.1</td>\n",
       "      <td>0.421385</td>\n",
       "      <td>SCH</td>\n",
       "      <td>ЧЕЛЯБИНСКАЯ ОБЛАСТЬ</td>\n",
       "      <td>NaN</td>\n",
       "      <td>1.0</td>\n",
       "      <td>0.0</td>\n",
       "      <td>0</td>\n",
       "    </tr>\n",
       "    <tr>\n",
       "      <th>...</th>\n",
       "      <td>...</td>\n",
       "      <td>...</td>\n",
       "      <td>...</td>\n",
       "      <td>...</td>\n",
       "      <td>...</td>\n",
       "      <td>...</td>\n",
       "      <td>...</td>\n",
       "      <td>...</td>\n",
       "      <td>...</td>\n",
       "      <td>...</td>\n",
       "      <td>...</td>\n",
       "      <td>...</td>\n",
       "      <td>...</td>\n",
       "      <td>...</td>\n",
       "    </tr>\n",
       "    <tr>\n",
       "      <th>170742</th>\n",
       "      <td>F</td>\n",
       "      <td>27.0</td>\n",
       "      <td>UNM</td>\n",
       "      <td>SPC</td>\n",
       "      <td>64867.00</td>\n",
       "      <td>12</td>\n",
       "      <td>1.1</td>\n",
       "      <td>0.535257</td>\n",
       "      <td>GRD</td>\n",
       "      <td>РЕСПУБЛИКА ТАТАРСТАН</td>\n",
       "      <td>40000.0</td>\n",
       "      <td>6.0</td>\n",
       "      <td>0.0</td>\n",
       "      <td>0</td>\n",
       "    </tr>\n",
       "    <tr>\n",
       "      <th>170743</th>\n",
       "      <td>F</td>\n",
       "      <td>24.0</td>\n",
       "      <td>MAR</td>\n",
       "      <td>SPC</td>\n",
       "      <td>17640.00</td>\n",
       "      <td>6</td>\n",
       "      <td>1.6</td>\n",
       "      <td>0.573287</td>\n",
       "      <td>SCH</td>\n",
       "      <td>САНКТ-ПЕТЕРБУРГ Г</td>\n",
       "      <td>30000.0</td>\n",
       "      <td>1.0</td>\n",
       "      <td>0.0</td>\n",
       "      <td>0</td>\n",
       "    </tr>\n",
       "    <tr>\n",
       "      <th>170744</th>\n",
       "      <td>F</td>\n",
       "      <td>31.0</td>\n",
       "      <td>UNM</td>\n",
       "      <td>SPC</td>\n",
       "      <td>27556.47</td>\n",
       "      <td>10</td>\n",
       "      <td>1.32</td>\n",
       "      <td>0.416098</td>\n",
       "      <td>GRD</td>\n",
       "      <td>ПРИМОРСКИЙ КРАЙ</td>\n",
       "      <td>40000.0</td>\n",
       "      <td>1.0</td>\n",
       "      <td>0.0</td>\n",
       "      <td>0</td>\n",
       "    </tr>\n",
       "    <tr>\n",
       "      <th>170745</th>\n",
       "      <td>F</td>\n",
       "      <td>53.0</td>\n",
       "      <td>DIV</td>\n",
       "      <td>PNA</td>\n",
       "      <td>6189.00</td>\n",
       "      <td>12</td>\n",
       "      <td>1.1</td>\n",
       "      <td>0.482595</td>\n",
       "      <td>SCH</td>\n",
       "      <td>ПЕНЗЕНСКАЯ ОБЛ</td>\n",
       "      <td>31000.0</td>\n",
       "      <td>2.0</td>\n",
       "      <td>0.0</td>\n",
       "      <td>0</td>\n",
       "    </tr>\n",
       "    <tr>\n",
       "      <th>170746</th>\n",
       "      <td>M</td>\n",
       "      <td>49.0</td>\n",
       "      <td>MAR</td>\n",
       "      <td>SPC</td>\n",
       "      <td>12787.00</td>\n",
       "      <td>10</td>\n",
       "      <td>1.1</td>\n",
       "      <td>0.316087</td>\n",
       "      <td>GRD</td>\n",
       "      <td>ОБЛ МОСКОВСКАЯ</td>\n",
       "      <td>40000.0</td>\n",
       "      <td>3.0</td>\n",
       "      <td>0.0</td>\n",
       "      <td>0</td>\n",
       "    </tr>\n",
       "  </tbody>\n",
       "</table>\n",
       "<p>170746 rows × 14 columns</p>\n",
       "</div>"
      ],
      "text/plain": [
       "          gender   age marital_status job_position  credit_sum  credit_month  \\\n",
       "client_id                                                                      \n",
       "1              M   NaN            NaN          UMN    59998.00            10   \n",
       "2              F   NaN            MAR          UMN    10889.00             6   \n",
       "3              M  32.0            MAR          SPC    10728.00            12   \n",
       "4              F  27.0            NaN          SPC    12009.09            12   \n",
       "5              M  45.0            NaN          SPC         NaN            10   \n",
       "...          ...   ...            ...          ...         ...           ...   \n",
       "170742         F  27.0            UNM          SPC    64867.00            12   \n",
       "170743         F  24.0            MAR          SPC    17640.00             6   \n",
       "170744         F  31.0            UNM          SPC    27556.47            10   \n",
       "170745         F  53.0            DIV          PNA     6189.00            12   \n",
       "170746         M  49.0            MAR          SPC    12787.00            10   \n",
       "\n",
       "          tariff_id  score_shk education         living_region  \\\n",
       "client_id                                                        \n",
       "1               1.6        NaN       GRD    КРАСНОДАРСКИЙ КРАЙ   \n",
       "2               1.1        NaN       NaN                МОСКВА   \n",
       "3               1.1        NaN       NaN       ОБЛ САРАТОВСКАЯ   \n",
       "4               1.1        NaN       NaN     ОБЛ ВОЛГОГРАДСКАЯ   \n",
       "5               1.1   0.421385       SCH   ЧЕЛЯБИНСКАЯ ОБЛАСТЬ   \n",
       "...             ...        ...       ...                   ...   \n",
       "170742          1.1   0.535257       GRD  РЕСПУБЛИКА ТАТАРСТАН   \n",
       "170743          1.6   0.573287       SCH     САНКТ-ПЕТЕРБУРГ Г   \n",
       "170744         1.32   0.416098       GRD       ПРИМОРСКИЙ КРАЙ   \n",
       "170745          1.1   0.482595       SCH        ПЕНЗЕНСКАЯ ОБЛ   \n",
       "170746          1.1   0.316087       GRD        ОБЛ МОСКОВСКАЯ   \n",
       "\n",
       "           monthly_income  credit_count  overdue_credit_count  \\\n",
       "client_id                                                       \n",
       "1                 30000.0           1.0                   1.0   \n",
       "2                     NaN           2.0                   0.0   \n",
       "3                     NaN           5.0                   0.0   \n",
       "4                     NaN           2.0                   0.0   \n",
       "5                     NaN           1.0                   0.0   \n",
       "...                   ...           ...                   ...   \n",
       "170742            40000.0           6.0                   0.0   \n",
       "170743            30000.0           1.0                   0.0   \n",
       "170744            40000.0           1.0                   0.0   \n",
       "170745            31000.0           2.0                   0.0   \n",
       "170746            40000.0           3.0                   0.0   \n",
       "\n",
       "           open_account_flg  \n",
       "client_id                    \n",
       "1                         0  \n",
       "2                         0  \n",
       "3                         0  \n",
       "4                         0  \n",
       "5                         0  \n",
       "...                     ...  \n",
       "170742                    0  \n",
       "170743                    0  \n",
       "170744                    0  \n",
       "170745                    0  \n",
       "170746                    0  \n",
       "\n",
       "[170746 rows x 14 columns]"
      ]
     },
     "execution_count": 106,
     "metadata": {},
     "output_type": "execute_result"
    }
   ],
   "source": [
    "df = pd.read_csv('data/credit_train.csv', encoding='cp1251', sep=';', decimal=',', index_col='client_id')\n",
    "df"
   ]
  },
  {
   "cell_type": "markdown",
   "metadata": {},
   "source": [
    "### Обработка данных\n",
    "\n",
    "По очереди анализируем каждый признак и решаем нужно ли с ним что-то делать"
   ]
  },
  {
   "cell_type": "markdown",
   "metadata": {},
   "source": [
    "#### Колонка `living_region`\n",
    "\n",
    "Приводим все названия одного региона к одному виду"
   ]
  },
  {
   "cell_type": "code",
   "execution_count": 107,
   "metadata": {},
   "outputs": [
    {
     "data": {
      "text/plain": [
       "array(['АЛТАЙСКИЙ КРАЙ', 'АМУРСКАЯ ОБЛАСТЬ', 'АРХАНГЕЛЬСКАЯ ОБЛАСТЬ',\n",
       "       'АСТРАХАНСКАЯ ОБЛАСТЬ', 'БЕЛГОРДОСКАЯ ОБЛАСТЬ', 'БРЯНСКАЯ ОБЛАСТЬ',\n",
       "       'ВЛАДИМИРСКАЯ ОБЛАСТЬ', 'ВОЛГОГРАДСКАЯ ОБЛАСТЬ',\n",
       "       'ВОЛОГОДСКАЯ ОБЛАСТЬ', 'ВОРОНЕЖСКАЯ ОБЛАСТЬ',\n",
       "       'ДАЛЬНЕВОСТОЧНЫЙ ФЕДЕРАЛЬНЫЙ ОКРУГ',\n",
       "       'ЕВРЕЙСКАЯ АВТОНОМНАЯ ОБЛАСТЬ', 'ЗАБАЙКАЛЬСКИЙ КРАЙ',\n",
       "       'ИВАНОВСКАЯ ОБЛАСТЬ', 'ИРКУТСКАЯ ОБЛАСТЬ',\n",
       "       'КАБАРИНО-БАЛКАРСКАЯ РЕСПБЛИКА', 'КАЛИНГРАДСКАЯ ОБЛАСТЬ',\n",
       "       'КАЛУЖСКАЯ ОБЛАСТЬ', 'КАМЧАТСКИЙ КРАЙ', 'КЕМЕРОВСКАЯ ОБЛАСТЬ',\n",
       "       'КИРОВСКАЯ ОБЛАСТЬ', 'КОСТРОМСКАЯ ОБЛАСТЬ', 'КРАСНОДАРСКИЙ КРАЙ',\n",
       "       'КРАСНОЯРСКИЙ КРАЙ', 'КУРГАНСКАЯ ОБЛАСТЬ', 'КУРСКАЯ ОБЛАСТЬ',\n",
       "       'ЛЕНИНГРАДСКАЯ ОБЛАСТЬ', 'ЛИПЕЦКАЯ ОБЛАСТЬ', 'МАГАДАНСКАЯ ОБЛАСТЬ',\n",
       "       'МОСКВА', 'МОСКОВСКАЯ ОБЛАСТЬ', 'МУРМАНСКАЯ ОБЛАСТЬ',\n",
       "       'НЕНЕЦКИЙ АВТОНОМНЫЙ ОКРУГ', 'НИЖЕГОРОДСКАЯ ОБЛАСТЬ',\n",
       "       'НОВГОРОДСКАЯ ОБЛАСТЬ', 'НОВОСИБИРСКАЯ ОБЛАСТЬ', 'ОМСКАЯ ОБЛАСТЬ',\n",
       "       'ОРЕНБУРГСКАЯ ОБЛАСТЬ', 'ПЕНЗЕНСКАЯ ОБЛАСТЬ', 'ПЕРМСКИЙ КРАЙ',\n",
       "       'ПРИМОРСКИЙ КРАЙ', 'ПСКОВСКАЯ ОБЛАСТЬ', 'РЕСПБЛИКА БУРЯТИЯ',\n",
       "       'РЕСПБЛИКА ДАГЕСТАН', 'РЕСПБЛИКА ИНГУШЕТИЯ', 'РЕСПБЛИКА КАЛМЫКИЯ',\n",
       "       'РЕСПБЛИКА КАРЕЛИЯ', 'РЕСПБЛИКА КОМИ', 'РЕСПБЛИКА МАРИЙ ЭЛ',\n",
       "       'РЕСПБЛИКА МОРДОВИЯ', 'РЕСПБЛИКА САХА (ЯКУТИЯ)',\n",
       "       'РЕСПБЛИКА СЕВЕРНАЯ ОСЕТИЯ - АЛАНИЯ', 'РЕСПБЛИКА ТАТАРСТАН',\n",
       "       'РЕСПБЛИКА ТЫВА', 'РЕСПБЛИКА ХАКАСИЯ', 'РЕСПУБЛИКА АДЫГЕЯ',\n",
       "       'РЕСПУБЛИКА АЛТАЙ', 'РЕСПУБЛИКА БАШКОРТОСТАН',\n",
       "       'РЕСПУБЛИКА КАРАЧАЕВО-ЧЕРКЕСИЯ', 'РОССИЯ', 'РОСТОВСКАЯ КРАЙ',\n",
       "       'РЯЗАНСКАЯ ОБЛАСТЬ', 'САМАРСКАЯ ОБЛАСТЬ', 'САНКТ-ПЕТЕРБУРГ',\n",
       "       'САРАТОВСКАЯ ОБЛАСТЬ', 'СВЕРДЛОВСКАЯ ОБЛАСТЬ',\n",
       "       'СМОЛЕНСКАЯ ОБЛАСТЬ', 'СТАВОПОЛЬСКИЙ КРАЙ', 'ТАМБОВСКАЯ ОБЛАСТЬ',\n",
       "       'ТВЕРСКАЯ ОБЛАСТЬ', 'ТУЛЬСКАЯ ОБЛАСТЬ', 'ТЮМЕНСКАЯ ОБЛАСТЬ',\n",
       "       'УДМУРТСКАЯ РЕСПБЛИКА', 'УЛЬЯНОВСКАЯ ОБЛАСТЬ', 'ХАБАРОВСКИЙ КРАЙ',\n",
       "       'ХАНТЫ-МАНСИЙСКИЙ АВТОНОМНОЫЙ ОКРУГ', 'ЧЕЛЯБИНСКАЯ ОБЛАСТЬ',\n",
       "       'ЧЕЧЕНСКАЯ РЕСПУБЛИКА', 'ЧУВАШСКАЯ РЕСПБЛИКА',\n",
       "       'ЧУКОТСКИЙ АВТОНОМНЫЙ ОКРУГ', 'ЯРОСЛАВСКАЯ ОБЛАСТЬ'], dtype=object)"
      ]
     },
     "execution_count": 107,
     "metadata": {},
     "output_type": "execute_result"
    }
   ],
   "source": [
    "df.living_region = df.living_region.apply(generalize_regions.generalize_regions)\n",
    "np.unique(df.living_region.values)"
   ]
  },
  {
   "cell_type": "markdown",
   "metadata": {},
   "source": [
    "#### Колонка `gender`\n",
    "\n",
    "Как видно, пропусков нет. Пропускаем"
   ]
  },
  {
   "cell_type": "code",
   "execution_count": 108,
   "metadata": {},
   "outputs": [
    {
     "data": {
      "text/plain": [
       "0"
      ]
     },
     "execution_count": 108,
     "metadata": {},
     "output_type": "execute_result"
    }
   ],
   "source": [
    "df.gender.isna().sum()"
   ]
  },
  {
   "cell_type": "markdown",
   "metadata": {},
   "source": [
    "#### Колонка `age`\n",
    "\n",
    "Развивая мысль средней зарплаты по региону, можно прийти к тому, что от региона меняется не только средняя зарплата, а если ещё дальше, то среднее зависит и не только от региона. Например, средний возраст тоже может сильно разниться от региона к региону и, кроме того, сильно разниться у мужчин и женщин. Из всего этого пришел к следующему методу обработки колонок с пропусками:\n",
    "1. Выделяем зависимые признаки (например, для `age` это `living_region` и `gender`)\n",
    "2. Заполняем пропуски средним значением по выбранным зависимым признакам\n",
    "\n",
    "Поэтому будем заполнять пропуски в этой колонке средним по региону и полу."
   ]
  },
  {
   "cell_type": "code",
   "execution_count": 109,
   "metadata": {},
   "outputs": [
    {
     "name": "stderr",
     "output_type": "stream",
     "text": [
      "/tmp/ipykernel_6059/285313908.py:6: UserWarning: Boolean Series key will be reindexed to match DataFrame index.\n",
      "  mean_val = mean_age_df[mean_age_df.living_region == row.living_region][mean_age_df.gender == row.gender].age.item()\n"
     ]
    },
    {
     "data": {
      "text/plain": [
       "0"
      ]
     },
     "execution_count": 109,
     "metadata": {},
     "output_type": "execute_result"
    }
   ],
   "source": [
    "mean_age_df = df.groupby(['living_region', 'gender'], as_index=False).age.mean()    \n",
    "\n",
    "rows = df.age.index[np.isnan(df.age)]\n",
    "for row_ind in rows:\n",
    "    row = df.loc[row_ind]\n",
    "    mean_val = mean_age_df[mean_age_df.living_region == row.living_region][mean_age_df.gender == row.gender].age.item()\n",
    "    df.loc[row_ind, 'age'] = mean_val\n",
    "\n",
    "df.age.isna().sum()"
   ]
  },
  {
   "cell_type": "markdown",
   "metadata": {},
   "source": [
    "#### Колонка `marital_status`\n",
    "\n",
    "Пропуски отсутствуют"
   ]
  },
  {
   "cell_type": "code",
   "execution_count": 110,
   "metadata": {},
   "outputs": [
    {
     "data": {
      "text/plain": [
       "0"
      ]
     },
     "execution_count": 110,
     "metadata": {},
     "output_type": "execute_result"
    }
   ],
   "source": [
    "df.job_position.isna().sum()"
   ]
  },
  {
   "cell_type": "markdown",
   "metadata": {},
   "source": [
    "#### Колонка `job_position`\n",
    "\n",
    "Пропуски отсутствуют"
   ]
  },
  {
   "cell_type": "code",
   "execution_count": 111,
   "metadata": {},
   "outputs": [
    {
     "data": {
      "text/plain": [
       "0"
      ]
     },
     "execution_count": 111,
     "metadata": {},
     "output_type": "execute_result"
    }
   ],
   "source": [
    "df.job_position.isna().sum()"
   ]
  },
  {
   "cell_type": "markdown",
   "metadata": {},
   "source": [
    "#### Колонка `credit_sum`\n",
    "\n",
    "Заполняем средним значением по региону"
   ]
  },
  {
   "cell_type": "code",
   "execution_count": 112,
   "metadata": {},
   "outputs": [
    {
     "data": {
      "text/plain": [
       "0"
      ]
     },
     "execution_count": 112,
     "metadata": {},
     "output_type": "execute_result"
    }
   ],
   "source": [
    "mean_credit_sum_df = df.groupby('living_region', as_index=False).credit_sum.mean()\n",
    "\n",
    "rows = df.credit_sum.index[np.isnan(df.credit_sum)]\n",
    "for row_ind in rows:\n",
    "    row = df.loc[row_ind]\n",
    "    mean_val = mean_credit_sum_df[mean_credit_sum_df.living_region == row.living_region].credit_sum.item()\n",
    "    df.loc[row_ind, 'credit_sum'] = mean_val\n",
    "\n",
    "df.credit_sum.isna().sum()"
   ]
  },
  {
   "cell_type": "markdown",
   "metadata": {},
   "source": [
    "#### Колонка `credit_month`\n",
    "\n",
    "Пропуски отсутствуют"
   ]
  },
  {
   "cell_type": "code",
   "execution_count": 113,
   "metadata": {},
   "outputs": [
    {
     "data": {
      "text/plain": [
       "0"
      ]
     },
     "execution_count": 113,
     "metadata": {},
     "output_type": "execute_result"
    }
   ],
   "source": [
    "df.credit_month.isna().sum()"
   ]
  },
  {
   "cell_type": "markdown",
   "metadata": {},
   "source": [
    "#### Колонка `tariff_id`\n",
    "\n",
    "Пропуски отсутствуют"
   ]
  },
  {
   "cell_type": "code",
   "execution_count": 114,
   "metadata": {},
   "outputs": [
    {
     "data": {
      "text/plain": [
       "0"
      ]
     },
     "execution_count": 114,
     "metadata": {},
     "output_type": "execute_result"
    }
   ],
   "source": [
    "df.tariff_id.isna().sum()"
   ]
  },
  {
   "cell_type": "markdown",
   "metadata": {
    "tags": [
     "parameters"
    ]
   },
   "source": [
    "#### Колонка `score_shk`\n",
    "\n",
    "Заполняем пропуским средним значением"
   ]
  },
  {
   "cell_type": "code",
   "execution_count": 115,
   "metadata": {},
   "outputs": [
    {
     "data": {
      "text/plain": [
       "0"
      ]
     },
     "execution_count": 115,
     "metadata": {},
     "output_type": "execute_result"
    }
   ],
   "source": [
    "df.score_shk.fillna(df.score_shk.mean(), inplace=True)\n",
    "df.score_shk.isna().sum()"
   ]
  },
  {
   "cell_type": "markdown",
   "metadata": {},
   "source": [
    "#### Колонка `education`\n",
    "\n",
    "Заполняем наиболее распространенным"
   ]
  },
  {
   "cell_type": "code",
   "execution_count": 116,
   "metadata": {},
   "outputs": [
    {
     "data": {
      "text/plain": [
       "0"
      ]
     },
     "execution_count": 116,
     "metadata": {},
     "output_type": "execute_result"
    }
   ],
   "source": [
    "df.education.fillna(df.education.value_counts().index[0], inplace=True)\n",
    "df.education.isna().sum()"
   ]
  },
  {
   "cell_type": "markdown",
   "metadata": {},
   "source": [
    "#### Колонка `monthly_income`\n",
    "\n",
    "Заполняем средним по региону, полу, возрасту и должности"
   ]
  },
  {
   "cell_type": "code",
   "execution_count": 117,
   "metadata": {},
   "outputs": [
    {
     "data": {
      "text/plain": [
       "0"
      ]
     },
     "execution_count": 117,
     "metadata": {},
     "output_type": "execute_result"
    }
   ],
   "source": [
    "mean_monthly_income_df = df.groupby(['living_region', 'gender', 'age', 'job_position'], as_index=False).monthly_income.mean()\n",
    "\n",
    "rows = df.monthly_income.index[np.isnan(df.monthly_income)]\n",
    "for row_ind in rows:\n",
    "    row = df.loc[row_ind]\n",
    "    region = mean_monthly_income_df[mean_monthly_income_df.living_region == row.living_region]\n",
    "    gender = region[region.gender == row.gender]\n",
    "    age = gender[gender.age == row.age]\n",
    "    job = age[age.job_position == row.job_position]\n",
    "\n",
    "    mean_value = job.monthly_income.item()\n",
    "    df.loc[row_ind, 'monthly_income'] = mean_val\n",
    "\n",
    "df.monthly_income.isna().sum()"
   ]
  },
  {
   "cell_type": "markdown",
   "metadata": {},
   "source": [
    "#### Колонка `credit_count`\n",
    "\n",
    "Заполняем средним по региону, гендеру, зарплате"
   ]
  },
  {
   "cell_type": "code",
   "execution_count": 118,
   "metadata": {},
   "outputs": [
    {
     "data": {
      "text/plain": [
       "0"
      ]
     },
     "execution_count": 118,
     "metadata": {},
     "output_type": "execute_result"
    }
   ],
   "source": [
    "mean_credit_count_df = df.groupby(['living_region', 'gender', 'monthly_income'], as_index=False).credit_count.mean()\n",
    "\n",
    "rows = df.credit_count.index[np.isnan(df.credit_count)]\n",
    "for row_ind in rows:\n",
    "    row = df.loc[row_ind]\n",
    "    region = mean_credit_count_df[mean_credit_count_df.living_region == row.living_region]\n",
    "    gender = region[region.gender == row.gender]\n",
    "    monthly_income = gender[gender.monthly_income == row.monthly_income]\n",
    "\n",
    "    mean_value = monthly_income.credit_count.item()\n",
    "    df.loc[row_ind, 'credit_count'] = mean_val\n",
    "\n",
    "df.credit_count.isna().sum()"
   ]
  },
  {
   "cell_type": "markdown",
   "metadata": {},
   "source": [
    "#### Колонка `overdue_credit_count`\n",
    "\n",
    "Используем тот же принцип что и для `credit_count`"
   ]
  },
  {
   "cell_type": "code",
   "execution_count": 119,
   "metadata": {},
   "outputs": [
    {
     "data": {
      "text/plain": [
       "0"
      ]
     },
     "execution_count": 119,
     "metadata": {},
     "output_type": "execute_result"
    }
   ],
   "source": [
    "mean_overdue_credit_count_df = df.groupby(['living_region', 'gender', 'monthly_income'], as_index=False).overdue_credit_count.mean()\n",
    "\n",
    "rows = df.overdue_credit_count.index[np.isnan(df.overdue_credit_count)]\n",
    "for row_ind in rows:\n",
    "    row = df.loc[row_ind]\n",
    "    region = mean_overdue_credit_count_df[mean_overdue_credit_count_df.living_region == row.living_region]\n",
    "    gender = region[region.gender == row.gender]\n",
    "    monthly_income = gender[gender.monthly_income == row.monthly_income]\n",
    "\n",
    "    mean_value = monthly_income.overdue_credit_count.item()\n",
    "    df.loc[row_ind, 'overdue_credit_count'] = mean_val\n",
    "\n",
    "df.overdue_credit_count.isna().sum()"
   ]
  },
  {
   "cell_type": "markdown",
   "metadata": {},
   "source": [
    "### Оценка выбросов\n",
    "\n",
    "На ящике с усами можно увидеть наличие \"выбросов\", но всё это реальные значения, поэтому очищать датасет от них я не буду."
   ]
  },
  {
   "cell_type": "code",
   "execution_count": 120,
   "metadata": {},
   "outputs": [
    {
     "data": {
      "text/plain": [
       "<AxesSubplot:>"
      ]
     },
     "execution_count": 120,
     "metadata": {},
     "output_type": "execute_result"
    },
    {
     "data": {
      "image/png": "[encoded data removed]",
      "text/plain": [
       "<Figure size 1584x576 with 1 Axes>"
      ]
     },
     "metadata": {},
     "output_type": "display_data"
    }
   ],
   "source": [
    "sns.set(rc={'figure.figsize':(22,8)})\n",
    "sns.boxplot(data=df, width=0.9)"
   ]
  },
  {
   "cell_type": "markdown",
   "metadata": {},
   "source": [
    "### Корреляция\n",
    "\n",
    "Коррелирующих признаков не замечено."
   ]
  },
  {
   "cell_type": "code",
   "execution_count": 121,
   "metadata": {},
   "outputs": [
    {
     "data": {
      "text/plain": [
       "<AxesSubplot:>"
      ]
     },
     "execution_count": 121,
     "metadata": {},
     "output_type": "execute_result"
    },
    {
     "data": {
      "image/png": "[encoded data removed]",
      "text/plain": [
       "<Figure size 1584x576 with 2 Axes>"
      ]
     },
     "metadata": {},
     "output_type": "display_data"
    }
   ],
   "source": [
    "correlation_matrix = df.corr()\n",
    "sns.heatmap(correlation_matrix, annot=True)"
   ]
  },
  {
   "cell_type": "markdown",
   "metadata": {},
   "source": [
    "### Нормальность распределения\n",
    "\n",
    "Нормальных распределений среди признаков не обнаружено."
   ]
  },
  {
   "cell_type": "code",
   "execution_count": 122,
   "metadata": {},
   "outputs": [
    {
     "name": "stdout",
     "output_type": "stream",
     "text": [
      "age: Отклонить гипотезу о нормальности\n"
     ]
    },
    {
     "data": {
      "image/png": "[encoded data removed]",
      "text/plain": [
       "<Figure size 1584x576 with 1 Axes>"
      ]
     },
     "metadata": {},
     "output_type": "display_data"
    },
    {
     "name": "stdout",
     "output_type": "stream",
     "text": [
      "credit_sum: Отклонить гипотезу о нормальности\n"
     ]
    },
    {
     "data": {
      "image/png": "[encoded data removed]",
      "text/plain": [
       "<Figure size 1584x576 with 1 Axes>"
      ]
     },
     "metadata": {},
     "output_type": "display_data"
    },
    {
     "name": "stdout",
     "output_type": "stream",
     "text": [
      "score_shk: Отклонить гипотезу о нормальности\n"
     ]
    },
    {
     "data": {
      "image/png": "[encoded data removed]",
      "text/plain": [
       "<Figure size 1584x576 with 1 Axes>"
      ]
     },
     "metadata": {},
     "output_type": "display_data"
    },
    {
     "name": "stdout",
     "output_type": "stream",
     "text": [
      "monthly_income: Отклонить гипотезу о нормальности\n"
     ]
    },
    {
     "data": {
      "image/png": "[encoded data removed]",
      "text/plain": [
       "<Figure size 1584x576 with 1 Axes>"
      ]
     },
     "metadata": {},
     "output_type": "display_data"
    }
   ],
   "source": [
    "def print_is_normal(dataset, column):\n",
    "    stat, p = stats.normaltest(dataset[column])\n",
    "    \n",
    "    alpha = 0.05\n",
    "    if p > alpha:\n",
    "        print(f\"{column}: Принять гипотезу о нормальности\")\n",
    "    else:\n",
    "        print(f\"{column}: Отклонить гипотезу о нормальности\")\n",
    "\n",
    "discrete_columns = ['age', 'credit_sum', 'score_shk', 'monthly_income']\n",
    "for column in discrete_columns:\n",
    "    print_is_normal(df, column)\n",
    "    \n",
    "    sns.histplot(df[column], kde=True, bins = 40, alpha = 1)\n",
    "    plt.show()"
   ]
  },
  {
   "cell_type": "markdown",
   "metadata": {},
   "source": [
    "### Масштабирование и стандартизирование данных"
   ]
  },
  {
   "cell_type": "markdown",
   "metadata": {},
   "source": [
    "#### Кодирировка категориальных признаков"
   ]
  },
  {
   "cell_type": "code",
   "execution_count": 123,
   "metadata": {},
   "outputs": [],
   "source": [
    "df = pd.concat([df,\n",
    "           pd.get_dummies(df['gender'], prefix='gender'),\n",
    "           pd.get_dummies(df['marital_status'], prefix='marital_status'),\n",
    "           pd.get_dummies(df['job_position'], prefix='job_position'),\n",
    "           pd.get_dummies(df['education'], prefix='education'),\n",
    "           pd.get_dummies(df['living_region'], prefix='living_region')],\n",
    "           axis=1)"
   ]
  },
  {
   "cell_type": "code",
   "execution_count": 124,
   "metadata": {},
   "outputs": [],
   "source": [
    "df = df.drop(['gender', 'marital_status', 'job_position', 'education', 'living_region'], axis=1)"
   ]
  },
  {
   "cell_type": "markdown",
   "metadata": {},
   "source": [
    "#### Получение тренировачной и тестовой выборок"
   ]
  },
  {
   "cell_type": "code",
   "execution_count": 125,
   "metadata": {},
   "outputs": [],
   "source": [
    "y = 'open_account_flg'\n",
    "\n",
    "X = df.columns.to_list()\n",
    "X.remove(y)\n",
    "\n",
    "X_train, X_test, y_train, y_test = train_test_split(df[X], df[y], train_size=0.7, random_state=0)"
   ]
  },
  {
   "cell_type": "code",
   "execution_count": 126,
   "metadata": {},
   "outputs": [
    {
     "name": "stdout",
     "output_type": "stream",
     "text": [
      "Train set shape: (119522, 119)\n",
      "Test set size: (51224, 119)\n",
      "\n"
     ]
    }
   ],
   "source": [
    "print(f\"Train set shape: {X_train.shape}\\nTest set size: {X_test.shape}\\n\")"
   ]
  },
  {
   "cell_type": "markdown",
   "metadata": {},
   "source": [
    "#### Масштабирование данных"
   ]
  },
  {
   "cell_type": "code",
   "execution_count": 127,
   "metadata": {},
   "outputs": [],
   "source": [
    "mm_scaler = MMScaler(feature_range=(-1, 1))\n",
    "X_train = mm_scaler.fit_transform(X_train)\n",
    "X_test = mm_scaler.fit_transform(X_test)"
   ]
  },
  {
   "cell_type": "markdown",
   "metadata": {},
   "source": [
    "### Моделирование\n",
    "\n",
    "При подборе параметров модели(подбирались вручную), было выявлено наиболее оптимальное значение глубины поиска равное 25. Значительное увеличение параметра `n_estimators` привело лишь к незначительному увеличению точности модели (стало лучше ~0.0002), но к более заметному улучшению показателя **AUC** (рост на ~0.006). Дальнейшее увеличение этого параметра положительных результатов не привело."
   ]
  },
  {
   "cell_type": "code",
   "execution_count": 143,
   "metadata": {},
   "outputs": [
    {
     "data": {
      "text/plain": [
       "0.8309971888177416"
      ]
     },
     "execution_count": 143,
     "metadata": {},
     "output_type": "execute_result"
    }
   ],
   "source": [
    "rfc = RandomForestClassifier(max_depth=25, n_estimators=500, random_state=0)\n",
    "rfc.fit(X_train, y_train)\n",
    "rfc.score(X_test, y_test)"
   ]
  },
  {
   "cell_type": "code",
   "execution_count": 144,
   "metadata": {},
   "outputs": [
    {
     "data": {
      "text/plain": [
       "0.7542650670697146"
      ]
     },
     "execution_count": 144,
     "metadata": {},
     "output_type": "execute_result"
    }
   ],
   "source": [
    "y_pred = rfc.predict_proba(X_test)[:,1]\n",
    "roc_auc_score(y_test, y_pred)"
   ]
  },
  {
   "cell_type": "code",
   "execution_count": null,
   "metadata": {},
   "outputs": [],
   "source": []
  }
 ],
 "metadata": {
  "kernelspec": {
   "display_name": "Python 3.9.12 ('base')",
   "language": "python",
   "name": "python3"
  },
  "language_info": {
   "codemirror_mode": {
    "name": "ipython",
    "version": 3
   },
   "file_extension": ".py",
   "mimetype": "text/x-python",
   "name": "python",
   "nbconvert_exporter": "python",
   "pygments_lexer": "ipython3",
   "version": "3.9.12"
  },
  "orig_nbformat": 4,
  "vscode": {
   "interpreter": {
    "hash": "6d2ca3662093a4c1fe41efe52a3a11511f0966fe72139b928426d1812864efca"
   }
  }
 },
 "nbformat": 4,
 "nbformat_minor": 2
}
