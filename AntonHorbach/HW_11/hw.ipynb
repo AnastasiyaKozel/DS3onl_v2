{
 "cells": [
  {
   "cell_type": "markdown",
   "metadata": {},
   "source": [
    "# Описание\n",
    "В данной задаче нам представлены данные в которых ключевое поле — это то, просрочит ли клиент микро-финансовой организации выплату более чем на 60 дней или нет. \n",
    "Нам нужно построить модель, которая по входным данным предсказывала бы с максимальной точностью ключе-вой параметр. \n",
    "Основной параметр это delinq60plus. Остальные парамет-ры интуитивно понятны из таблиц.\n",
    "\n",
    "## Цель\n",
    "Построить модель машинного обучения для предсказания вероятности того, что клиент уйдет в просрочку более 60 дней.\n",
    "\n",
    "## Задача\n",
    "- осуществить корректную загрузку данных\n",
    "- осуществить разведывательный анализ данных:\n",
    "    - разбить выборку на обучающую и тестовую\n",
    "    - проанализировать пропуски и решить, что с ними делать\n",
    "    - проанализировать выбросы\n",
    "    - создать/ удалить переменные\n",
    "    - закодировать категориальные переменные\n",
    "    - нормализовать числовые переменные (при необходимости)\n",
    "\n",
    "- построить модель и оценить ее качество\n",
    "- при необходимости вернуться к предыдущим шагам, чтобы улучшить качество модели \n"
   ]
  },
  {
   "cell_type": "markdown",
   "metadata": {},
   "source": [
    "# Выполнение"
   ]
  },
  {
   "cell_type": "code",
   "execution_count": 936,
   "metadata": {},
   "outputs": [],
   "source": [
    "import pandas as pd\n",
    "import numpy as np\n",
    "import seaborn as sns\n",
    "import matplotlib.pyplot as plt\n",
    "from scipy import stats\n",
    "from sklearn.model_selection import train_test_split\n",
    "from sklearn.preprocessing import MinMaxScaler as MMScaler\n",
    "from sklearn.ensemble import RandomForestClassifier\n",
    "from sklearn.metrics import roc_auc_score\n",
    "from sklearn.model_selection import GridSearchCV\n"
   ]
  },
  {
   "cell_type": "markdown",
   "metadata": {},
   "source": [
    "## Чтение данных"
   ]
  },
  {
   "cell_type": "code",
   "execution_count": 937,
   "metadata": {},
   "outputs": [
    {
     "data": {
      "text/html": [
       "<div>\n",
       "<style scoped>\n",
       "    .dataframe tbody tr th:only-of-type {\n",
       "        vertical-align: middle;\n",
       "    }\n",
       "\n",
       "    .dataframe tbody tr th {\n",
       "        vertical-align: top;\n",
       "    }\n",
       "\n",
       "    .dataframe thead th {\n",
       "        text-align: right;\n",
       "    }\n",
       "</style>\n",
       "<table border=\"1\" class=\"dataframe\">\n",
       "  <thead>\n",
       "    <tr style=\"text-align: right;\">\n",
       "      <th></th>\n",
       "      <th>date_start</th>\n",
       "      <th>date_end</th>\n",
       "      <th>gender</th>\n",
       "      <th>age</th>\n",
       "      <th>auto</th>\n",
       "      <th>housing</th>\n",
       "      <th>marstatus</th>\n",
       "      <th>regclient</th>\n",
       "      <th>jobtype</th>\n",
       "      <th>region</th>\n",
       "      <th>credits</th>\n",
       "      <th>children</th>\n",
       "      <th>delinq60plus</th>\n",
       "    </tr>\n",
       "    <tr>\n",
       "      <th>id</th>\n",
       "      <th></th>\n",
       "      <th></th>\n",
       "      <th></th>\n",
       "      <th></th>\n",
       "      <th></th>\n",
       "      <th></th>\n",
       "      <th></th>\n",
       "      <th></th>\n",
       "      <th></th>\n",
       "      <th></th>\n",
       "      <th></th>\n",
       "      <th></th>\n",
       "      <th></th>\n",
       "    </tr>\n",
       "  </thead>\n",
       "  <tbody>\n",
       "    <tr>\n",
       "      <th>1</th>\n",
       "      <td>2013-01-03</td>\n",
       "      <td>2013-01-12</td>\n",
       "      <td>Мужской</td>\n",
       "      <td>44</td>\n",
       "      <td>Нет</td>\n",
       "      <td>Собственное</td>\n",
       "      <td>Гражданский брак/женат/замужем</td>\n",
       "      <td>Нет</td>\n",
       "      <td>Официальное</td>\n",
       "      <td>Новосибирская область</td>\n",
       "      <td>Нет</td>\n",
       "      <td>Да</td>\n",
       "      <td>Нет</td>\n",
       "    </tr>\n",
       "    <tr>\n",
       "      <th>2</th>\n",
       "      <td>2013-01-03</td>\n",
       "      <td>2013-01-17</td>\n",
       "      <td>Мужской</td>\n",
       "      <td>21</td>\n",
       "      <td>Пропуск поля</td>\n",
       "      <td>Живут с родителями</td>\n",
       "      <td>Холост</td>\n",
       "      <td>Нет</td>\n",
       "      <td>Официальное</td>\n",
       "      <td>Кемеровская область юг</td>\n",
       "      <td>Да</td>\n",
       "      <td>Нет</td>\n",
       "      <td>Нет</td>\n",
       "    </tr>\n",
       "    <tr>\n",
       "      <th>3</th>\n",
       "      <td>2013-01-03</td>\n",
       "      <td>2013-01-17</td>\n",
       "      <td>Мужской</td>\n",
       "      <td>25</td>\n",
       "      <td>Пропуск поля</td>\n",
       "      <td>Собственное</td>\n",
       "      <td>Холост</td>\n",
       "      <td>Да</td>\n",
       "      <td>Официальное</td>\n",
       "      <td>Кемеровская область север</td>\n",
       "      <td>Пропуск поля</td>\n",
       "      <td>Нет</td>\n",
       "      <td>Нет</td>\n",
       "    </tr>\n",
       "    <tr>\n",
       "      <th>4</th>\n",
       "      <td>2013-01-03</td>\n",
       "      <td>2013-01-17</td>\n",
       "      <td>Женский</td>\n",
       "      <td>47</td>\n",
       "      <td>Пропуск поля</td>\n",
       "      <td>Собственное</td>\n",
       "      <td>Гражданский брак/женат/замужем</td>\n",
       "      <td>Да</td>\n",
       "      <td>Официальное</td>\n",
       "      <td>Кемеровская область север</td>\n",
       "      <td>Нет</td>\n",
       "      <td>Нет</td>\n",
       "      <td>Нет</td>\n",
       "    </tr>\n",
       "    <tr>\n",
       "      <th>5</th>\n",
       "      <td>2013-01-03</td>\n",
       "      <td>2013-01-17</td>\n",
       "      <td>Мужской</td>\n",
       "      <td>22</td>\n",
       "      <td>Нет</td>\n",
       "      <td>Арендуемое</td>\n",
       "      <td>Гражданский брак/женат/замужем</td>\n",
       "      <td>Нет</td>\n",
       "      <td>Официальное</td>\n",
       "      <td>Кемеровская область север</td>\n",
       "      <td>Да</td>\n",
       "      <td>Да</td>\n",
       "      <td>Нет</td>\n",
       "    </tr>\n",
       "  </tbody>\n",
       "</table>\n",
       "</div>"
      ],
      "text/plain": [
       "   date_start   date_end   gender  age          auto             housing  \\\n",
       "id                                                                         \n",
       "1  2013-01-03 2013-01-12  Мужской   44           Нет         Собственное   \n",
       "2  2013-01-03 2013-01-17  Мужской   21  Пропуск поля  Живут с родителями   \n",
       "3  2013-01-03 2013-01-17  Мужской   25  Пропуск поля         Собственное   \n",
       "4  2013-01-03 2013-01-17  Женский   47  Пропуск поля         Собственное   \n",
       "5  2013-01-03 2013-01-17  Мужской   22           Нет          Арендуемое   \n",
       "\n",
       "                         marstatus regclient      jobtype  \\\n",
       "id                                                          \n",
       "1   Гражданский брак/женат/замужем       Нет  Официальное   \n",
       "2                           Холост       Нет  Официальное   \n",
       "3                           Холост        Да  Официальное   \n",
       "4   Гражданский брак/женат/замужем        Да  Официальное   \n",
       "5   Гражданский брак/женат/замужем       Нет  Официальное   \n",
       "\n",
       "                       region       credits children delinq60plus  \n",
       "id                                                                 \n",
       "1       Новосибирская область           Нет       Да          Нет  \n",
       "2      Кемеровская область юг            Да      Нет          Нет  \n",
       "3   Кемеровская область север  Пропуск поля      Нет          Нет  \n",
       "4   Кемеровская область север           Нет      Нет          Нет  \n",
       "5   Кемеровская область север            Да       Да          Нет  "
      ]
     },
     "execution_count": 937,
     "metadata": {},
     "output_type": "execute_result"
    }
   ],
   "source": [
    "df = pd.read_csv('data/MFOcredit.csv',\n",
    "    encoding='cp1251',\n",
    "    sep=';',\n",
    "    index_col='id',\n",
    "    parse_dates=['date_start', 'date_end'])\n",
    "df.head(5)"
   ]
  },
  {
   "cell_type": "code",
   "execution_count": 938,
   "metadata": {},
   "outputs": [
    {
     "name": "stdout",
     "output_type": "stream",
     "text": [
      "<class 'pandas.core.frame.DataFrame'>\n",
      "Int64Index: 35212 entries, 1 to 35212\n",
      "Data columns (total 13 columns):\n",
      " #   Column        Non-Null Count  Dtype         \n",
      "---  ------        --------------  -----         \n",
      " 0   date_start    35212 non-null  datetime64[ns]\n",
      " 1   date_end      35212 non-null  datetime64[ns]\n",
      " 2   gender        35212 non-null  object        \n",
      " 3   age           35212 non-null  int64         \n",
      " 4   auto          35212 non-null  object        \n",
      " 5   housing       35212 non-null  object        \n",
      " 6   marstatus     35212 non-null  object        \n",
      " 7   regclient     35212 non-null  object        \n",
      " 8   jobtype       35212 non-null  object        \n",
      " 9   region        35212 non-null  object        \n",
      " 10  credits       35212 non-null  object        \n",
      " 11  children      35212 non-null  object        \n",
      " 12  delinq60plus  35212 non-null  object        \n",
      "dtypes: datetime64[ns](2), int64(1), object(10)\n",
      "memory usage: 3.8+ MB\n"
     ]
    }
   ],
   "source": [
    "df.info()"
   ]
  },
  {
   "cell_type": "markdown",
   "metadata": {},
   "source": [
    "## Анализ данных"
   ]
  },
  {
   "cell_type": "markdown",
   "metadata": {},
   "source": [
    "### Получение тренировочной и тестовой выборок"
   ]
  },
  {
   "cell_type": "code",
   "execution_count": 939,
   "metadata": {},
   "outputs": [
    {
     "name": "stdout",
     "output_type": "stream",
     "text": [
      "Train set shape: (24648, 12)\n",
      "Test set size: (10564, 12)\n",
      "\n"
     ]
    }
   ],
   "source": [
    "y = 'delinq60plus'\n",
    "\n",
    "X = df.columns.to_list()\n",
    "X.remove(y)\n",
    "\n",
    "X_train, X_test, y_train, y_test = train_test_split(df[X], df[y], train_size=0.7, random_state=123)\n",
    "print(f\"Train set shape: {X_train.shape}\\nTest set size: {X_test.shape}\\n\")"
   ]
  },
  {
   "cell_type": "markdown",
   "metadata": {},
   "source": [
    "### Обработка пропусков\n",
    "\n",
    "Пропусков многовато, поэтому просто удалить записи с ними скорее всего не лучший вариант. Буду заменять самым частым значением"
   ]
  },
  {
   "cell_type": "code",
   "execution_count": 940,
   "metadata": {},
   "outputs": [],
   "source": [
    "columns = ['gender', 'auto', 'housing', 'marstatus', 'regclient', 'jobtype', 'region', 'credits', 'children']\n",
    "\n",
    "def count_empties(dataframe):\n",
    "    for column in columns:\n",
    "        count = dataframe[dataframe[column] == \"Пропуск поля\" ][column].count()\n",
    "        print(f\"Empty values in {column.upper()}: {count}\")\n",
    "\n",
    "def replace_empties(dataframe):\n",
    "    print(\"Empties before replacing\")\n",
    "    count_empties(dataframe)\n",
    "\n",
    "    for column in columns:\n",
    "        new_value = dataframe[column].value_counts().index[0]\n",
    "        dataframe.loc[dataframe[column] == \"Пропуск поля\", column] = new_value\n",
    "    \n",
    "    return dataframe"
   ]
  },
  {
   "cell_type": "code",
   "execution_count": 941,
   "metadata": {},
   "outputs": [
    {
     "name": "stdout",
     "output_type": "stream",
     "text": [
      "X_train\n",
      "Empties before replacing\n",
      "Empty values in GENDER: 0\n",
      "Empty values in AUTO: 9870\n",
      "Empty values in HOUSING: 5370\n",
      "Empty values in MARSTATUS: 5336\n",
      "Empty values in REGCLIENT: 0\n",
      "Empty values in JOBTYPE: 10134\n",
      "Empty values in REGION: 0\n",
      "Empty values in CREDITS: 676\n",
      "Empty values in CHILDREN: 528\n",
      "\n",
      "Empties after replacing\n",
      "Empty values in GENDER: 0\n",
      "Empty values in AUTO: 0\n",
      "Empty values in HOUSING: 0\n",
      "Empty values in MARSTATUS: 0\n",
      "Empty values in REGCLIENT: 0\n",
      "Empty values in JOBTYPE: 0\n",
      "Empty values in REGION: 0\n",
      "Empty values in CREDITS: 0\n",
      "Empty values in CHILDREN: 0\n"
     ]
    }
   ],
   "source": [
    "print(\"X_train\")\n",
    "X_train = replace_empties(X_train)\n",
    "\n",
    "print(\"\\nEmpties after replacing\")\n",
    "count_empties(X_train)"
   ]
  },
  {
   "cell_type": "code",
   "execution_count": 942,
   "metadata": {},
   "outputs": [
    {
     "name": "stdout",
     "output_type": "stream",
     "text": [
      "X_test\n",
      "Empties before replacing\n",
      "Empty values in GENDER: 0\n",
      "Empty values in AUTO: 4207\n",
      "Empty values in HOUSING: 2233\n",
      "Empty values in MARSTATUS: 2228\n",
      "Empty values in REGCLIENT: 0\n",
      "Empty values in JOBTYPE: 4323\n",
      "Empty values in REGION: 0\n",
      "Empty values in CREDITS: 270\n",
      "Empty values in CHILDREN: 217\n"
     ]
    }
   ],
   "source": [
    "print(\"X_test\")\n",
    "X_test = replace_empties(X_test);"
   ]
  },
  {
   "cell_type": "code",
   "execution_count": 943,
   "metadata": {},
   "outputs": [
    {
     "name": "stdout",
     "output_type": "stream",
     "text": [
      "Train set shape: (24648, 12)\n",
      "Test set size: (10564, 12)\n",
      "\n"
     ]
    }
   ],
   "source": [
    "print(f\"Train set shape: {X_train.shape}\\nTest set size: {X_test.shape}\\n\")"
   ]
  },
  {
   "cell_type": "markdown",
   "metadata": {},
   "source": [
    "### Анализ выбросов\n",
    "\n",
    "Вроде всё нормально. Ничего не делаем здесь"
   ]
  },
  {
   "cell_type": "code",
   "execution_count": 944,
   "metadata": {},
   "outputs": [
    {
     "data": {
      "text/plain": [
       "<AxesSubplot:>"
      ]
     },
     "execution_count": 944,
     "metadata": {},
     "output_type": "execute_result"
    },
    {
     "data": {
      "image/png": "[encoded data removed]",
      "text/plain": [
       "<Figure size 1584x576 with 1 Axes>"
      ]
     },
     "metadata": {},
     "output_type": "display_data"
    }
   ],
   "source": [
    "sns.set(rc={'figure.figsize':(22,8)})\n",
    "sns.boxplot(data=X_train, width=0.9)"
   ]
  },
  {
   "cell_type": "code",
   "execution_count": 945,
   "metadata": {},
   "outputs": [
    {
     "data": {
      "text/plain": [
       "<AxesSubplot:>"
      ]
     },
     "execution_count": 945,
     "metadata": {},
     "output_type": "execute_result"
    },
    {
     "data": {
      "image/png": "[encoded data removed]",
      "text/plain": [
       "<Figure size 1584x576 with 1 Axes>"
      ]
     },
     "metadata": {},
     "output_type": "display_data"
    }
   ],
   "source": [
    "sns.boxplot(data=X_test, width=0.9)"
   ]
  },
  {
   "cell_type": "markdown",
   "metadata": {},
   "source": [
    "### Удаляем/Создаем столбцы\n",
    "\n",
    "Выдвину предположение, что если заменить две колонки периода займа на одну, значениями которой будут кол-во дней займа, то можно будет получить лучший результат, так как параметр станет более явно выраженным"
   ]
  },
  {
   "cell_type": "code",
   "execution_count": 946,
   "metadata": {},
   "outputs": [],
   "source": [
    "def create_days_column(dataframe):\n",
    "    dataframe['days_count'] = (dataframe.date_end - dataframe.date_start).dt.days\n",
    "    return dataframe.drop(['date_start', 'date_end'], axis=1)"
   ]
  },
  {
   "cell_type": "code",
   "execution_count": 947,
   "metadata": {},
   "outputs": [
    {
     "data": {
      "text/html": [
       "<div>\n",
       "<style scoped>\n",
       "    .dataframe tbody tr th:only-of-type {\n",
       "        vertical-align: middle;\n",
       "    }\n",
       "\n",
       "    .dataframe tbody tr th {\n",
       "        vertical-align: top;\n",
       "    }\n",
       "\n",
       "    .dataframe thead th {\n",
       "        text-align: right;\n",
       "    }\n",
       "</style>\n",
       "<table border=\"1\" class=\"dataframe\">\n",
       "  <thead>\n",
       "    <tr style=\"text-align: right;\">\n",
       "      <th></th>\n",
       "      <th>gender</th>\n",
       "      <th>age</th>\n",
       "      <th>auto</th>\n",
       "      <th>housing</th>\n",
       "      <th>marstatus</th>\n",
       "      <th>regclient</th>\n",
       "      <th>jobtype</th>\n",
       "      <th>region</th>\n",
       "      <th>credits</th>\n",
       "      <th>children</th>\n",
       "      <th>days_count</th>\n",
       "    </tr>\n",
       "    <tr>\n",
       "      <th>id</th>\n",
       "      <th></th>\n",
       "      <th></th>\n",
       "      <th></th>\n",
       "      <th></th>\n",
       "      <th></th>\n",
       "      <th></th>\n",
       "      <th></th>\n",
       "      <th></th>\n",
       "      <th></th>\n",
       "      <th></th>\n",
       "      <th></th>\n",
       "    </tr>\n",
       "  </thead>\n",
       "  <tbody>\n",
       "    <tr>\n",
       "      <th>13470</th>\n",
       "      <td>Женский</td>\n",
       "      <td>38</td>\n",
       "      <td>Нет</td>\n",
       "      <td>Собственное</td>\n",
       "      <td>Разведен</td>\n",
       "      <td>Да</td>\n",
       "      <td>Официальное</td>\n",
       "      <td>Кемеровская область север</td>\n",
       "      <td>Да</td>\n",
       "      <td>Да</td>\n",
       "      <td>4</td>\n",
       "    </tr>\n",
       "    <tr>\n",
       "      <th>9616</th>\n",
       "      <td>Мужской</td>\n",
       "      <td>35</td>\n",
       "      <td>Да</td>\n",
       "      <td>Собственное</td>\n",
       "      <td>Гражданский брак/женат/замужем</td>\n",
       "      <td>Нет</td>\n",
       "      <td>Официальное</td>\n",
       "      <td>Кемеровская область север</td>\n",
       "      <td>Нет</td>\n",
       "      <td>Да</td>\n",
       "      <td>14</td>\n",
       "    </tr>\n",
       "    <tr>\n",
       "      <th>26587</th>\n",
       "      <td>Женский</td>\n",
       "      <td>48</td>\n",
       "      <td>Нет</td>\n",
       "      <td>Собственное</td>\n",
       "      <td>Гражданский брак/женат/замужем</td>\n",
       "      <td>Да</td>\n",
       "      <td>Официальное</td>\n",
       "      <td>Кемеровская область юг</td>\n",
       "      <td>Да</td>\n",
       "      <td>Нет</td>\n",
       "      <td>14</td>\n",
       "    </tr>\n",
       "    <tr>\n",
       "      <th>13479</th>\n",
       "      <td>Мужской</td>\n",
       "      <td>58</td>\n",
       "      <td>Да</td>\n",
       "      <td>Собственное</td>\n",
       "      <td>Гражданский брак/женат/замужем</td>\n",
       "      <td>Нет</td>\n",
       "      <td>Официальное</td>\n",
       "      <td>Алтайский край</td>\n",
       "      <td>Да</td>\n",
       "      <td>Нет</td>\n",
       "      <td>14</td>\n",
       "    </tr>\n",
       "    <tr>\n",
       "      <th>9371</th>\n",
       "      <td>Мужской</td>\n",
       "      <td>31</td>\n",
       "      <td>Нет</td>\n",
       "      <td>Собственное</td>\n",
       "      <td>Холост</td>\n",
       "      <td>Да</td>\n",
       "      <td>Официальное</td>\n",
       "      <td>Новосибирская область</td>\n",
       "      <td>Да</td>\n",
       "      <td>Нет</td>\n",
       "      <td>59</td>\n",
       "    </tr>\n",
       "  </tbody>\n",
       "</table>\n",
       "</div>"
      ],
      "text/plain": [
       "        gender  age auto      housing                       marstatus  \\\n",
       "id                                                                      \n",
       "13470  Женский   38  Нет  Собственное                        Разведен   \n",
       "9616   Мужской   35   Да  Собственное  Гражданский брак/женат/замужем   \n",
       "26587  Женский   48  Нет  Собственное  Гражданский брак/женат/замужем   \n",
       "13479  Мужской   58   Да  Собственное  Гражданский брак/женат/замужем   \n",
       "9371   Мужской   31  Нет  Собственное                          Холост   \n",
       "\n",
       "      regclient      jobtype                     region credits children  \\\n",
       "id                                                                         \n",
       "13470        Да  Официальное  Кемеровская область север      Да       Да   \n",
       "9616        Нет  Официальное  Кемеровская область север     Нет       Да   \n",
       "26587        Да  Официальное     Кемеровская область юг      Да      Нет   \n",
       "13479       Нет  Официальное             Алтайский край      Да      Нет   \n",
       "9371         Да  Официальное      Новосибирская область      Да      Нет   \n",
       "\n",
       "       days_count  \n",
       "id                 \n",
       "13470           4  \n",
       "9616           14  \n",
       "26587          14  \n",
       "13479          14  \n",
       "9371           59  "
      ]
     },
     "execution_count": 947,
     "metadata": {},
     "output_type": "execute_result"
    }
   ],
   "source": [
    "X_train = create_days_column(X_train)\n",
    "X_train.head(5)"
   ]
  },
  {
   "cell_type": "code",
   "execution_count": 948,
   "metadata": {},
   "outputs": [
    {
     "data": {
      "text/html": [
       "<div>\n",
       "<style scoped>\n",
       "    .dataframe tbody tr th:only-of-type {\n",
       "        vertical-align: middle;\n",
       "    }\n",
       "\n",
       "    .dataframe tbody tr th {\n",
       "        vertical-align: top;\n",
       "    }\n",
       "\n",
       "    .dataframe thead th {\n",
       "        text-align: right;\n",
       "    }\n",
       "</style>\n",
       "<table border=\"1\" class=\"dataframe\">\n",
       "  <thead>\n",
       "    <tr style=\"text-align: right;\">\n",
       "      <th></th>\n",
       "      <th>gender</th>\n",
       "      <th>age</th>\n",
       "      <th>auto</th>\n",
       "      <th>housing</th>\n",
       "      <th>marstatus</th>\n",
       "      <th>regclient</th>\n",
       "      <th>jobtype</th>\n",
       "      <th>region</th>\n",
       "      <th>credits</th>\n",
       "      <th>children</th>\n",
       "      <th>days_count</th>\n",
       "    </tr>\n",
       "    <tr>\n",
       "      <th>id</th>\n",
       "      <th></th>\n",
       "      <th></th>\n",
       "      <th></th>\n",
       "      <th></th>\n",
       "      <th></th>\n",
       "      <th></th>\n",
       "      <th></th>\n",
       "      <th></th>\n",
       "      <th></th>\n",
       "      <th></th>\n",
       "      <th></th>\n",
       "    </tr>\n",
       "  </thead>\n",
       "  <tbody>\n",
       "    <tr>\n",
       "      <th>18780</th>\n",
       "      <td>Женский</td>\n",
       "      <td>28</td>\n",
       "      <td>Нет</td>\n",
       "      <td>Собственное</td>\n",
       "      <td>Холост</td>\n",
       "      <td>Да</td>\n",
       "      <td>Официальное</td>\n",
       "      <td>Кемеровская область север</td>\n",
       "      <td>Да</td>\n",
       "      <td>Нет</td>\n",
       "      <td>14</td>\n",
       "    </tr>\n",
       "    <tr>\n",
       "      <th>22941</th>\n",
       "      <td>Женский</td>\n",
       "      <td>26</td>\n",
       "      <td>Нет</td>\n",
       "      <td>Арендуемое</td>\n",
       "      <td>Разведен</td>\n",
       "      <td>Нет</td>\n",
       "      <td>Официальное</td>\n",
       "      <td>Новосибирская область</td>\n",
       "      <td>Да</td>\n",
       "      <td>Да</td>\n",
       "      <td>14</td>\n",
       "    </tr>\n",
       "    <tr>\n",
       "      <th>35104</th>\n",
       "      <td>Мужской</td>\n",
       "      <td>59</td>\n",
       "      <td>Нет</td>\n",
       "      <td>Собственное</td>\n",
       "      <td>Гражданский брак/женат/замужем</td>\n",
       "      <td>Нет</td>\n",
       "      <td>Официальное</td>\n",
       "      <td>Красноярский край</td>\n",
       "      <td>Нет</td>\n",
       "      <td>Нет</td>\n",
       "      <td>14</td>\n",
       "    </tr>\n",
       "    <tr>\n",
       "      <th>3481</th>\n",
       "      <td>Мужской</td>\n",
       "      <td>27</td>\n",
       "      <td>Нет</td>\n",
       "      <td>Долевая собственность</td>\n",
       "      <td>Гражданский брак/женат/замужем</td>\n",
       "      <td>Да</td>\n",
       "      <td>Официальное</td>\n",
       "      <td>Кемеровская область юг</td>\n",
       "      <td>Нет</td>\n",
       "      <td>Нет</td>\n",
       "      <td>14</td>\n",
       "    </tr>\n",
       "    <tr>\n",
       "      <th>9008</th>\n",
       "      <td>Мужской</td>\n",
       "      <td>41</td>\n",
       "      <td>Нет</td>\n",
       "      <td>Собственное</td>\n",
       "      <td>Гражданский брак/женат/замужем</td>\n",
       "      <td>Нет</td>\n",
       "      <td>Официальное</td>\n",
       "      <td>Алтайский край</td>\n",
       "      <td>Да</td>\n",
       "      <td>Нет</td>\n",
       "      <td>14</td>\n",
       "    </tr>\n",
       "  </tbody>\n",
       "</table>\n",
       "</div>"
      ],
      "text/plain": [
       "        gender  age auto                housing  \\\n",
       "id                                                \n",
       "18780  Женский   28  Нет            Собственное   \n",
       "22941  Женский   26  Нет             Арендуемое   \n",
       "35104  Мужской   59  Нет            Собственное   \n",
       "3481   Мужской   27  Нет  Долевая собственность   \n",
       "9008   Мужской   41  Нет            Собственное   \n",
       "\n",
       "                            marstatus regclient      jobtype  \\\n",
       "id                                                             \n",
       "18780                          Холост        Да  Официальное   \n",
       "22941                        Разведен       Нет  Официальное   \n",
       "35104  Гражданский брак/женат/замужем       Нет  Официальное   \n",
       "3481   Гражданский брак/женат/замужем        Да  Официальное   \n",
       "9008   Гражданский брак/женат/замужем       Нет  Официальное   \n",
       "\n",
       "                          region credits children  days_count  \n",
       "id                                                             \n",
       "18780  Кемеровская область север      Да      Нет          14  \n",
       "22941      Новосибирская область      Да       Да          14  \n",
       "35104          Красноярский край     Нет      Нет          14  \n",
       "3481      Кемеровская область юг     Нет      Нет          14  \n",
       "9008              Алтайский край      Да      Нет          14  "
      ]
     },
     "execution_count": 948,
     "metadata": {},
     "output_type": "execute_result"
    }
   ],
   "source": [
    "X_test = create_days_column(X_test)\n",
    "X_test.head(5)"
   ]
  },
  {
   "cell_type": "markdown",
   "metadata": {},
   "source": [
    "### Кодировка категориальных признаков"
   ]
  },
  {
   "cell_type": "code",
   "execution_count": 949,
   "metadata": {},
   "outputs": [],
   "source": [
    "def coding_features(dataframe):\n",
    "    dataframe = pd.concat([dataframe,\n",
    "           pd.get_dummies(dataframe['gender'], prefix='gender'),\n",
    "           pd.get_dummies(dataframe['auto'], prefix='auto'),\n",
    "           pd.get_dummies(dataframe['housing'], prefix='housing'),\n",
    "           pd.get_dummies(dataframe['marstatus'], prefix='marstatus'),\n",
    "           pd.get_dummies(dataframe['regclient'], prefix='regclient'),\n",
    "           pd.get_dummies(dataframe['jobtype'], prefix='jobtype'),\n",
    "           pd.get_dummies(dataframe['region'], prefix='region'),\n",
    "           pd.get_dummies(dataframe['credits'], prefix='credits'),\n",
    "           pd.get_dummies(dataframe['children'], prefix='children')],\n",
    "           axis=1)\n",
    "    \n",
    "    return dataframe.drop(['gender', 'auto', 'housing', 'marstatus', 'regclient', 'jobtype', 'region', 'credits', 'children'], axis=1)"
   ]
  },
  {
   "cell_type": "code",
   "execution_count": 950,
   "metadata": {},
   "outputs": [],
   "source": [
    "X_train = coding_features(X_train)\n",
    "X_test = coding_features(X_test)"
   ]
  },
  {
   "cell_type": "markdown",
   "metadata": {},
   "source": [
    "### Нормальность данных"
   ]
  },
  {
   "cell_type": "code",
   "execution_count": 951,
   "metadata": {},
   "outputs": [],
   "source": [
    "def print_normal_info(dataframe):\n",
    "    def print_is_normal(dataset, column):\n",
    "        stat, p = stats.normaltest(dataset[column])\n",
    "        \n",
    "        alpha = 0.05\n",
    "        if p > alpha:\n",
    "            print(f\"{column}: Принять гипотезу о нормальности\")\n",
    "        else:\n",
    "            print(f\"{column}: Отклонить гипотезу о нормальности\")\n",
    "\n",
    "    discrete_columns = ['age']\n",
    "    for column in discrete_columns:\n",
    "        print_is_normal(dataframe, column)\n",
    "        \n",
    "        sns.histplot(dataframe[column], kde=True, bins = 40, alpha = 1)\n",
    "        plt.show()"
   ]
  },
  {
   "cell_type": "code",
   "execution_count": 952,
   "metadata": {},
   "outputs": [
    {
     "name": "stdout",
     "output_type": "stream",
     "text": [
      "age: Отклонить гипотезу о нормальности\n"
     ]
    },
    {
     "data": {
      "image/png": "[encoded data removed]",
      "text/plain": [
       "<Figure size 1584x576 with 1 Axes>"
      ]
     },
     "metadata": {},
     "output_type": "display_data"
    },
    {
     "name": "stdout",
     "output_type": "stream",
     "text": [
      "age: Отклонить гипотезу о нормальности\n"
     ]
    },
    {
     "data": {
      "image/png": "[encoded data removed]",
      "text/plain": [
       "<Figure size 1584x576 with 1 Axes>"
      ]
     },
     "metadata": {},
     "output_type": "display_data"
    }
   ],
   "source": [
    "print_normal_info(X_train)\n",
    "print_normal_info(X_test)"
   ]
  },
  {
   "cell_type": "markdown",
   "metadata": {},
   "source": [
    "## Построение модели"
   ]
  },
  {
   "cell_type": "code",
   "execution_count": 953,
   "metadata": {},
   "outputs": [
    {
     "data": {
      "text/plain": [
       "0.667171525937145"
      ]
     },
     "execution_count": 953,
     "metadata": {},
     "output_type": "execute_result"
    }
   ],
   "source": [
    "rfc = RandomForestClassifier(max_depth=10, n_estimators=50, min_samples_leaf=6, min_samples_split=4, random_state=123)\n",
    "rfc.fit(X_train, y_train)\n",
    "rfc.score(X_test, y_test)"
   ]
  },
  {
   "cell_type": "code",
   "execution_count": 954,
   "metadata": {},
   "outputs": [
    {
     "data": {
      "text/plain": [
       "0.6910145297233101"
      ]
     },
     "execution_count": 954,
     "metadata": {},
     "output_type": "execute_result"
    }
   ],
   "source": [
    "y_pred = rfc.predict_proba(X_test)[:,1]\n",
    "roc_auc_score(y_test, y_pred)"
   ]
  },
  {
   "cell_type": "code",
   "execution_count": 955,
   "metadata": {},
   "outputs": [],
   "source": [
    "#rfc = RandomForestClassifier()\n",
    "#parametrs = { 'n_estimators': range (50, 500, 50),\n",
    "#              'max_depth': range (5, 50, 5),\n",
    "#              'min_samples_leaf': range (2,7,2),\n",
    "#             'min_samples_split': range (2,7,2) }\n",
    "\n",
    "#grid = GridSearchCV(rfc, parametrs, n_jobs=16).fit(X_train, y_train)\n",
    "\n",
    "#grid.best_params_\n",
    "\n",
    "#{'max_depth': 10,\n",
    "# 'min_samples_leaf': 6,\n",
    "# 'min_samples_split': 4,\n",
    "# 'n_estimators': 50}"
   ]
  }
 ],
 "metadata": {
  "kernelspec": {
   "display_name": "Python 3.9.12 ('base')",
   "language": "python",
   "name": "python3"
  },
  "language_info": {
   "codemirror_mode": {
    "name": "ipython",
    "version": 3
   },
   "file_extension": ".py",
   "mimetype": "text/x-python",
   "name": "python",
   "nbconvert_exporter": "python",
   "pygments_lexer": "ipython3",
   "version": "3.9.12"
  },
  "orig_nbformat": 4,
  "vscode": {
   "interpreter": {
    "hash": "6d2ca3662093a4c1fe41efe52a3a11511f0966fe72139b928426d1812864efca"
   }
  }
 },
 "nbformat": 4,
 "nbformat_minor": 2
}
