{
 "cells": [
  {
   "cell_type": "markdown",
   "id": "c751b882",
   "metadata": {},
   "source": [
    "# Домашнее задание 4 v.2\n",
    "\n",
    "## Козел А.Г. 21.09.2022\n",
    "\n",
    "### С использованием библиотек Numpy и Pandas написать программу реализующую:\n",
    "1.\tЗагрузку текстового файла из корневого каталога объемом не менее 20000 символов включая пробелы и все символы.\n",
    "2.\tПодсчет частоты встречаемости слов в загруженном файле (критерий схожести слов выбрать самостоятельно).\n",
    "3.\tПодсчет длин предложений и их количества.\n",
    "4.\tВвод полученных данных в объект DataFrame и Series, а также отображение полученных результатов в виде таблицы \"объекты - признаки\".\n",
    "5.\tПостроение гистограммы частоты встречаемости слов.\n",
    "\n",
    "p.s. Рекомендую перед решением задания проанализировать задачу и обосновать алгоритм ее решения в текстовом виде. В процессе написания кода использовать комментарии.\n",
    "\n"
   ]
  },
  {
   "cell_type": "markdown",
   "id": "b3a30c53",
   "metadata": {},
   "source": [
    "### 1. Загрузкa текстового файла из корневого каталога "
   ]
  },
  {
   "cell_type": "code",
   "execution_count": 43,
   "id": "ec1dc994",
   "metadata": {},
   "outputs": [],
   "source": [
    "with open('text.txt', encoding=\"utf8\") as f:\n",
    "    book = f.read()"
   ]
  },
  {
   "cell_type": "code",
   "execution_count": 44,
   "id": "9c2b42e9",
   "metadata": {},
   "outputs": [],
   "source": [
    "#импорт требуемых библиотек\n",
    "import numpy as np\n",
    "import pandas as pd\n",
    "import re\n",
    "import string\n",
    "from string import punctuation\n",
    "\n",
    "from collections import Counter\n",
    "from langdetect import detect_langs \n",
    "\n",
    "import pymorphy2\n",
    "morph = pymorphy2.MorphAnalyzer() #добавление анализатора для морфологического анализа текста\n",
    "\n",
    "import spacy \n",
    "from spacy.lang.ru.stop_words import STOP_WORDS\n",
    "import ru_core_news_sm\n",
    "nlp = spacy.load(\"ru_core_news_sm\")\n",
    "\n",
    "import matplotlib.pyplot as plt\n",
    "%matplotlib inline\n",
    "import seaborn as sns"
   ]
  },
  {
   "cell_type": "markdown",
   "id": "473cd71a",
   "metadata": {},
   "source": [
    "### 2. Подсчет частоты встречаемости слов"
   ]
  },
  {
   "cell_type": "code",
   "execution_count": 71,
   "id": "d36df26e",
   "metadata": {},
   "outputs": [
    {
     "name": "stdout",
     "output_type": "stream",
     "text": [
      "Количество уникальных слов в тексте: 926.\n",
      "\n"
     ]
    }
   ],
   "source": [
    "book_result = re.sub(r'\\d+', '', book)\n",
    "doc = nlp(book_result)\n",
    "# Лемматизация и конвертация токенов в нижний регистр\n",
    "book_lemm = [ word.lemma_.lower().strip()\n",
    "             if word.lemma_ != \"-PRON-\" \n",
    "             else word.lower_ for word in doc]\n",
    "punctuations = string.punctuation + '–' # к списку пунктуации добавляем тире\n",
    "#цикл проверяет не является ли слово в документе стоп-словом или знаком пунктуации\n",
    "book_result = [word for word in book_lemm\n",
    "               if word not in STOP_WORDS \n",
    "               and word not in punctuations]\n",
    "# Считаем уникальные слова\n",
    "count_words = Counter(book_result)\n",
    "print('Количество уникальных слов в тексте: '\n",
    "      '{}.\\n'.format(len(count_words)))"
   ]
  },
  {
   "cell_type": "code",
   "execution_count": 70,
   "id": "96512f10",
   "metadata": {},
   "outputs": [
    {
     "data": {
      "text/plain": [
       "[('основание', 117),\n",
       " ('упругий', 75),\n",
       " ('модель', 70),\n",
       " ('пластина', 68),\n",
       " ('винклера', 36),\n",
       " ('решение', 29),\n",
       " ('пастернак', 28),\n",
       " ('получить', 26),\n",
       " ('работа', 25),\n",
       " ('слой', 23),\n",
       " ('исследовать', 23),\n",
       " ('нагрузка', 22),\n",
       " ('метод', 20),\n",
       " ('толщина', 19),\n",
       " ('колебание', 19),\n",
       " ('деформирование', 18),\n",
       " ('рассмотреть', 18),\n",
       " ('численный', 18),\n",
       " ('расчёт', 17),\n",
       " ('уравнение', 17)]"
      ]
     },
     "execution_count": 70,
     "metadata": {},
     "output_type": "execute_result"
    }
   ],
   "source": [
    "# Выводим самые популярные 20 слов\n",
    "count_words.most_common(20)"
   ]
  },
  {
   "cell_type": "markdown",
   "id": "a5ad6631",
   "metadata": {},
   "source": [
    "### 3. Подсчет длин предложений и их количества."
   ]
  },
  {
   "cell_type": "code",
   "execution_count": 79,
   "id": "5640b5ee",
   "metadata": {},
   "outputs": [],
   "source": [
    "sentence_doc = [] \n",
    "sentence_length = []\n",
    "\n",
    "#цикл заполняет списки предложениями и количеством слов в них\n",
    "for sentence in doc.sents:\n",
    "    sentence_doc.append(sentence)\n",
    "    sentence_length.append(len(sentence))\n",
    "    \n",
    "df_sents = pd.DataFrame({'Sentence': sentence_doc, \n",
    "                   'Sentence_length': sentence_length })"
   ]
  },
  {
   "cell_type": "code",
   "execution_count": 80,
   "id": "742256f1",
   "metadata": {},
   "outputs": [
    {
     "data": {
      "text/html": [
       "<div>\n",
       "<style scoped>\n",
       "    .dataframe tbody tr th:only-of-type {\n",
       "        vertical-align: middle;\n",
       "    }\n",
       "\n",
       "    .dataframe tbody tr th {\n",
       "        vertical-align: top;\n",
       "    }\n",
       "\n",
       "    .dataframe thead th {\n",
       "        text-align: right;\n",
       "    }\n",
       "</style>\n",
       "<table border=\"1\" class=\"dataframe\">\n",
       "  <thead>\n",
       "    <tr style=\"text-align: right;\">\n",
       "      <th></th>\n",
       "      <th>Sentence</th>\n",
       "      <th>Sentence_length</th>\n",
       "    </tr>\n",
       "  </thead>\n",
       "  <tbody>\n",
       "    <tr>\n",
       "      <th>0</th>\n",
       "      <td>(В, настоящее, время, расчет, и, проектировани...</td>\n",
       "      <td>65</td>\n",
       "    </tr>\n",
       "    <tr>\n",
       "      <th>1</th>\n",
       "      <td>(Вопросу, расчета, конструкций, на, упругом, о...</td>\n",
       "      <td>11</td>\n",
       "    </tr>\n",
       "    <tr>\n",
       "      <th>2</th>\n",
       "      <td>(Для, описания, свойств, деформируемого, основ...</td>\n",
       "      <td>23</td>\n",
       "    </tr>\n",
       "    <tr>\n",
       "      <th>3</th>\n",
       "      <td>(В, течение, долгого, времени, единственной, р...</td>\n",
       "      <td>20</td>\n",
       "    </tr>\n",
       "    <tr>\n",
       "      <th>4</th>\n",
       "      <td>(Предпосылки, этой, модели, впервые, были, сфо...</td>\n",
       "      <td>48</td>\n",
       "    </tr>\n",
       "    <tr>\n",
       "      <th>...</th>\n",
       "      <td>...</td>\n",
       "      <td>...</td>\n",
       "    </tr>\n",
       "    <tr>\n",
       "      <th>207</th>\n",
       "      <td>(В, результате, численного, параметрического, ...</td>\n",
       "      <td>25</td>\n",
       "    </tr>\n",
       "    <tr>\n",
       "      <th>208</th>\n",
       "      <td>(Таким, образом, ,, статическое, деформировани...</td>\n",
       "      <td>22</td>\n",
       "    </tr>\n",
       "    <tr>\n",
       "      <th>209</th>\n",
       "      <td>(Поэтому, для, дальнейших, исследований, автор...</td>\n",
       "      <td>19</td>\n",
       "    </tr>\n",
       "    <tr>\n",
       "      <th>210</th>\n",
       "      <td>(Выводы, .)</td>\n",
       "      <td>2</td>\n",
       "    </tr>\n",
       "    <tr>\n",
       "      <th>211</th>\n",
       "      <td>(Необходимость, проведения, исследований, ,, в...</td>\n",
       "      <td>47</td>\n",
       "    </tr>\n",
       "  </tbody>\n",
       "</table>\n",
       "<p>212 rows × 2 columns</p>\n",
       "</div>"
      ],
      "text/plain": [
       "                                              Sentence  Sentence_length\n",
       "0    (В, настоящее, время, расчет, и, проектировани...               65\n",
       "1    (Вопросу, расчета, конструкций, на, упругом, о...               11\n",
       "2    (Для, описания, свойств, деформируемого, основ...               23\n",
       "3    (В, течение, долгого, времени, единственной, р...               20\n",
       "4    (Предпосылки, этой, модели, впервые, были, сфо...               48\n",
       "..                                                 ...              ...\n",
       "207  (В, результате, численного, параметрического, ...               25\n",
       "208  (Таким, образом, ,, статическое, деформировани...               22\n",
       "209  (Поэтому, для, дальнейших, исследований, автор...               19\n",
       "210                                        (Выводы, .)                2\n",
       "211  (Необходимость, проведения, исследований, ,, в...               47\n",
       "\n",
       "[212 rows x 2 columns]"
      ]
     },
     "metadata": {},
     "output_type": "display_data"
    }
   ],
   "source": [
    "display(df_sents)"
   ]
  },
  {
   "cell_type": "markdown",
   "id": "02ea33d6",
   "metadata": {},
   "source": [
    "### 4. Ввод полученных данных в объект DataFrame и Series, а также отображение полученных результатов в виде таблицы \"объекты - признаки\"."
   ]
  },
  {
   "cell_type": "code",
   "execution_count": 87,
   "id": "bd4670f7",
   "metadata": {},
   "outputs": [
    {
     "data": {
      "text/plain": [
       "основание         117\n",
       "упругий            75\n",
       "модель             70\n",
       "пластина           68\n",
       "винклера           36\n",
       "решение            29\n",
       "пастернак          28\n",
       "получить           26\n",
       "работа             25\n",
       "слой               23\n",
       "исследовать        23\n",
       "нагрузка           22\n",
       "метод              20\n",
       "толщина            19\n",
       "колебание          19\n",
       "численный          18\n",
       "деформирование     18\n",
       "рассмотреть        18\n",
       "уравнение          17\n",
       "расчёт             17\n",
       "Name: Word, dtype: int64"
      ]
     },
     "execution_count": 87,
     "metadata": {},
     "output_type": "execute_result"
    }
   ],
   "source": [
    "Word_Data=pd.DataFrame({'Word': book_result})\n",
    "\n",
    "mf = Word_Data['Word'].value_counts()\n",
    "mf.head(20)\n",
    "\n"
   ]
  },
  {
   "cell_type": "code",
   "execution_count": null,
   "id": "c726fc90",
   "metadata": {},
   "outputs": [],
   "source": []
  },
  {
   "cell_type": "markdown",
   "id": "1379fda4",
   "metadata": {},
   "source": [
    "### 5. Построение гистограммы частоты встречаемости слов."
   ]
  },
  {
   "cell_type": "code",
   "execution_count": 97,
   "id": "93dd6851",
   "metadata": {},
   "outputs": [
    {
     "data": {
      "text/plain": [
       "<AxesSubplot:title={'center':'Самые популярные слова?'}, xlabel='Word', ylabel='Word'>"
      ]
     },
     "execution_count": 97,
     "metadata": {},
     "output_type": "execute_result"
    },
    {
     "data": {
      "image/png": "[encoded data removed]",
      "text/plain": [
       "<Figure size 1440x720 with 1 Axes>"
      ]
     },
     "metadata": {
      "needs_background": "light"
     },
     "output_type": "display_data"
    }
   ],
   "source": [
    "plt.figure(figsize=(20,10))\n",
    "plt.title(\"Самые популярные слова?\")\n",
    "plt.ylabel('Frequency')\n",
    "plt.xlabel(\"Word\")\n",
    "\n",
    "x=15 # Переменная для определения, частоту скольких первых слов отобразить на графике\n",
    "sns.barplot(x=mf.head(x).index, y=mf.head(x))"
   ]
  },
  {
   "cell_type": "code",
   "execution_count": 98,
   "id": "6928e8e1",
   "metadata": {},
   "outputs": [
    {
     "data": {
      "image/png": "[encoded data removed]",
      "text/plain": [
       "<Figure size 1080x720 with 1 Axes>"
      ]
     },
     "metadata": {
      "needs_background": "light"
     },
     "output_type": "display_data"
    }
   ],
   "source": [
    "mf.head(20).plot(x ='Word', y='Frequency', kind = 'bar', color = 'pink', figsize=(15, 10))\n",
    "plt.xlabel('Word')\n",
    "plt.ylabel('Frequency')\n",
    "plt.show()"
   ]
  },
  {
   "cell_type": "code",
   "execution_count": null,
   "id": "625ca9af",
   "metadata": {},
   "outputs": [],
   "source": []
  },
  {
   "cell_type": "code",
   "execution_count": null,
   "id": "4e95a185",
   "metadata": {},
   "outputs": [],
   "source": []
  }
 ],
 "metadata": {
  "kernelspec": {
   "display_name": "Python 3 (ipykernel)",
   "language": "python",
   "name": "python3"
  },
  "language_info": {
   "codemirror_mode": {
    "name": "ipython",
    "version": 3
   },
   "file_extension": ".py",
   "mimetype": "text/x-python",
   "name": "python",
   "nbconvert_exporter": "python",
   "pygments_lexer": "ipython3",
   "version": "3.9.12"
  }
 },
 "nbformat": 4,
 "nbformat_minor": 5
}
