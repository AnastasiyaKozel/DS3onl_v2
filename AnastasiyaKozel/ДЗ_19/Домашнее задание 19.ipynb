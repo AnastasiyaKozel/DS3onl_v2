{
 "cells": [
  {
   "cell_type": "markdown",
   "id": "ca67869c",
   "metadata": {},
   "source": [
    "## Домашнее задание № 19\n",
    "### Козел А.Г. v1 22.12.2022 - 5.01.2023\n"
   ]
  },
  {
   "cell_type": "markdown",
   "id": "0238e1d5",
   "metadata": {},
   "source": [
    "* Выполнить Стэкинг, Бэгин и Бустинг. При реализации алгоритмов не использовать готовые решения. \n",
    "* За сравнение взять CatBoostClassifier как базовая метрика качества.\n",
    "* Сравнить результат с реализацией своих ансамблей. \n",
    "Для однозначности и интерпретируемости результатов использовать приложенный набор данных. \n",
    "\n",
    "* При реализации бустинга - просто сокращайте набор данных на котором модель отработала хорошо (правильно предсказанные данные). "
   ]
  },
  {
   "cell_type": "code",
   "execution_count": 1,
   "id": "6135def1",
   "metadata": {},
   "outputs": [],
   "source": [
    "import numpy as np\n",
    "import pandas as pd\n",
    "import matplotlib.pyplot as plt\n",
    "import seaborn as sns\n",
    "\n",
    "from catboost import CatBoostClassifier\n",
    "from sklearn.preprocessing import LabelBinarizer\n"
   ]
  },
  {
   "cell_type": "code",
   "execution_count": 2,
   "id": "064f24c0",
   "metadata": {},
   "outputs": [],
   "source": [
    "df = pd.read_csv('winequality-white.csv', sep=';', encoding=\"cp1251\") "
   ]
  },
  {
   "cell_type": "code",
   "execution_count": 3,
   "id": "996a5e98",
   "metadata": {},
   "outputs": [
    {
     "data": {
      "text/html": [
       "<div>\n",
       "<style scoped>\n",
       "    .dataframe tbody tr th:only-of-type {\n",
       "        vertical-align: middle;\n",
       "    }\n",
       "\n",
       "    .dataframe tbody tr th {\n",
       "        vertical-align: top;\n",
       "    }\n",
       "\n",
       "    .dataframe thead th {\n",
       "        text-align: right;\n",
       "    }\n",
       "</style>\n",
       "<table border=\"1\" class=\"dataframe\">\n",
       "  <thead>\n",
       "    <tr style=\"text-align: right;\">\n",
       "      <th></th>\n",
       "      <th>fixed acidity</th>\n",
       "      <th>volatile acidity</th>\n",
       "      <th>citric acid</th>\n",
       "      <th>residual sugar</th>\n",
       "      <th>chlorides</th>\n",
       "      <th>free sulfur dioxide</th>\n",
       "      <th>total sulfur dioxide</th>\n",
       "      <th>density</th>\n",
       "      <th>pH</th>\n",
       "      <th>sulphates</th>\n",
       "      <th>alcohol</th>\n",
       "      <th>quality</th>\n",
       "    </tr>\n",
       "  </thead>\n",
       "  <tbody>\n",
       "    <tr>\n",
       "      <th>0</th>\n",
       "      <td>7.0</td>\n",
       "      <td>0.27</td>\n",
       "      <td>0.36</td>\n",
       "      <td>20.7</td>\n",
       "      <td>0.045</td>\n",
       "      <td>45.0</td>\n",
       "      <td>170.0</td>\n",
       "      <td>1.00100</td>\n",
       "      <td>3.00</td>\n",
       "      <td>0.45</td>\n",
       "      <td>8.8</td>\n",
       "      <td>6</td>\n",
       "    </tr>\n",
       "    <tr>\n",
       "      <th>1</th>\n",
       "      <td>6.3</td>\n",
       "      <td>0.30</td>\n",
       "      <td>0.34</td>\n",
       "      <td>1.6</td>\n",
       "      <td>0.049</td>\n",
       "      <td>14.0</td>\n",
       "      <td>132.0</td>\n",
       "      <td>0.99400</td>\n",
       "      <td>3.30</td>\n",
       "      <td>0.49</td>\n",
       "      <td>9.5</td>\n",
       "      <td>6</td>\n",
       "    </tr>\n",
       "    <tr>\n",
       "      <th>2</th>\n",
       "      <td>8.1</td>\n",
       "      <td>0.28</td>\n",
       "      <td>0.40</td>\n",
       "      <td>6.9</td>\n",
       "      <td>0.050</td>\n",
       "      <td>30.0</td>\n",
       "      <td>97.0</td>\n",
       "      <td>0.99510</td>\n",
       "      <td>3.26</td>\n",
       "      <td>0.44</td>\n",
       "      <td>10.1</td>\n",
       "      <td>6</td>\n",
       "    </tr>\n",
       "    <tr>\n",
       "      <th>3</th>\n",
       "      <td>7.2</td>\n",
       "      <td>0.23</td>\n",
       "      <td>0.32</td>\n",
       "      <td>8.5</td>\n",
       "      <td>0.058</td>\n",
       "      <td>47.0</td>\n",
       "      <td>186.0</td>\n",
       "      <td>0.99560</td>\n",
       "      <td>3.19</td>\n",
       "      <td>0.40</td>\n",
       "      <td>9.9</td>\n",
       "      <td>6</td>\n",
       "    </tr>\n",
       "    <tr>\n",
       "      <th>4</th>\n",
       "      <td>7.2</td>\n",
       "      <td>0.23</td>\n",
       "      <td>0.32</td>\n",
       "      <td>8.5</td>\n",
       "      <td>0.058</td>\n",
       "      <td>47.0</td>\n",
       "      <td>186.0</td>\n",
       "      <td>0.99560</td>\n",
       "      <td>3.19</td>\n",
       "      <td>0.40</td>\n",
       "      <td>9.9</td>\n",
       "      <td>6</td>\n",
       "    </tr>\n",
       "    <tr>\n",
       "      <th>...</th>\n",
       "      <td>...</td>\n",
       "      <td>...</td>\n",
       "      <td>...</td>\n",
       "      <td>...</td>\n",
       "      <td>...</td>\n",
       "      <td>...</td>\n",
       "      <td>...</td>\n",
       "      <td>...</td>\n",
       "      <td>...</td>\n",
       "      <td>...</td>\n",
       "      <td>...</td>\n",
       "      <td>...</td>\n",
       "    </tr>\n",
       "    <tr>\n",
       "      <th>4893</th>\n",
       "      <td>6.2</td>\n",
       "      <td>0.21</td>\n",
       "      <td>0.29</td>\n",
       "      <td>1.6</td>\n",
       "      <td>0.039</td>\n",
       "      <td>24.0</td>\n",
       "      <td>92.0</td>\n",
       "      <td>0.99114</td>\n",
       "      <td>3.27</td>\n",
       "      <td>0.50</td>\n",
       "      <td>11.2</td>\n",
       "      <td>6</td>\n",
       "    </tr>\n",
       "    <tr>\n",
       "      <th>4894</th>\n",
       "      <td>6.6</td>\n",
       "      <td>0.32</td>\n",
       "      <td>0.36</td>\n",
       "      <td>8.0</td>\n",
       "      <td>0.047</td>\n",
       "      <td>57.0</td>\n",
       "      <td>168.0</td>\n",
       "      <td>0.99490</td>\n",
       "      <td>3.15</td>\n",
       "      <td>0.46</td>\n",
       "      <td>9.6</td>\n",
       "      <td>5</td>\n",
       "    </tr>\n",
       "    <tr>\n",
       "      <th>4895</th>\n",
       "      <td>6.5</td>\n",
       "      <td>0.24</td>\n",
       "      <td>0.19</td>\n",
       "      <td>1.2</td>\n",
       "      <td>0.041</td>\n",
       "      <td>30.0</td>\n",
       "      <td>111.0</td>\n",
       "      <td>0.99254</td>\n",
       "      <td>2.99</td>\n",
       "      <td>0.46</td>\n",
       "      <td>9.4</td>\n",
       "      <td>6</td>\n",
       "    </tr>\n",
       "    <tr>\n",
       "      <th>4896</th>\n",
       "      <td>5.5</td>\n",
       "      <td>0.29</td>\n",
       "      <td>0.30</td>\n",
       "      <td>1.1</td>\n",
       "      <td>0.022</td>\n",
       "      <td>20.0</td>\n",
       "      <td>110.0</td>\n",
       "      <td>0.98869</td>\n",
       "      <td>3.34</td>\n",
       "      <td>0.38</td>\n",
       "      <td>12.8</td>\n",
       "      <td>7</td>\n",
       "    </tr>\n",
       "    <tr>\n",
       "      <th>4897</th>\n",
       "      <td>6.0</td>\n",
       "      <td>0.21</td>\n",
       "      <td>0.38</td>\n",
       "      <td>0.8</td>\n",
       "      <td>0.020</td>\n",
       "      <td>22.0</td>\n",
       "      <td>98.0</td>\n",
       "      <td>0.98941</td>\n",
       "      <td>3.26</td>\n",
       "      <td>0.32</td>\n",
       "      <td>11.8</td>\n",
       "      <td>6</td>\n",
       "    </tr>\n",
       "  </tbody>\n",
       "</table>\n",
       "<p>4898 rows × 12 columns</p>\n",
       "</div>"
      ],
      "text/plain": [
       "      fixed acidity  volatile acidity  citric acid  residual sugar  chlorides  \\\n",
       "0               7.0              0.27         0.36            20.7      0.045   \n",
       "1               6.3              0.30         0.34             1.6      0.049   \n",
       "2               8.1              0.28         0.40             6.9      0.050   \n",
       "3               7.2              0.23         0.32             8.5      0.058   \n",
       "4               7.2              0.23         0.32             8.5      0.058   \n",
       "...             ...               ...          ...             ...        ...   \n",
       "4893            6.2              0.21         0.29             1.6      0.039   \n",
       "4894            6.6              0.32         0.36             8.0      0.047   \n",
       "4895            6.5              0.24         0.19             1.2      0.041   \n",
       "4896            5.5              0.29         0.30             1.1      0.022   \n",
       "4897            6.0              0.21         0.38             0.8      0.020   \n",
       "\n",
       "      free sulfur dioxide  total sulfur dioxide  density    pH  sulphates  \\\n",
       "0                    45.0                 170.0  1.00100  3.00       0.45   \n",
       "1                    14.0                 132.0  0.99400  3.30       0.49   \n",
       "2                    30.0                  97.0  0.99510  3.26       0.44   \n",
       "3                    47.0                 186.0  0.99560  3.19       0.40   \n",
       "4                    47.0                 186.0  0.99560  3.19       0.40   \n",
       "...                   ...                   ...      ...   ...        ...   \n",
       "4893                 24.0                  92.0  0.99114  3.27       0.50   \n",
       "4894                 57.0                 168.0  0.99490  3.15       0.46   \n",
       "4895                 30.0                 111.0  0.99254  2.99       0.46   \n",
       "4896                 20.0                 110.0  0.98869  3.34       0.38   \n",
       "4897                 22.0                  98.0  0.98941  3.26       0.32   \n",
       "\n",
       "      alcohol  quality  \n",
       "0         8.8        6  \n",
       "1         9.5        6  \n",
       "2        10.1        6  \n",
       "3         9.9        6  \n",
       "4         9.9        6  \n",
       "...       ...      ...  \n",
       "4893     11.2        6  \n",
       "4894      9.6        5  \n",
       "4895      9.4        6  \n",
       "4896     12.8        7  \n",
       "4897     11.8        6  \n",
       "\n",
       "[4898 rows x 12 columns]"
      ]
     },
     "execution_count": 3,
     "metadata": {},
     "output_type": "execute_result"
    }
   ],
   "source": [
    "df"
   ]
  },
  {
   "cell_type": "markdown",
   "id": "fe37aeb0",
   "metadata": {},
   "source": [
    "Для получения дополнительной информации см. [Cortez et al., 2009].\n",
    "Входные параметры (на основе физико-химических тестов):\n",
    "* 1 - fixed acidity-фиксированная кислотность\n",
    "* 2 - volatile acidity - летучая кислотность\n",
    "* 3 - citric acid - лимонная кислота\n",
    "* 4 - residual sugar - остаточный сахар\n",
    "* 5 - chlorides - хлориды\n",
    "* 6 - free sulfur dioxide - свободный диоксид серы\n",
    "* 7 - total sulfur dioxide - общий диоксид серы\n",
    "* 8 - density - плотность\n",
    "* 9 - рН\n",
    "* 10 - sulphates - сульфаты\n",
    "* 11 - alcohol - спирт\n",
    "#### Выходная переменная (на основе сенсорных данных):\n",
    "* 12 - quality (score between 0 and 10) - качество (оценка от 0 до 10)"
   ]
  },
  {
   "cell_type": "code",
   "execution_count": 4,
   "id": "4e80f325",
   "metadata": {},
   "outputs": [
    {
     "data": {
      "text/html": [
       "<div>\n",
       "<style scoped>\n",
       "    .dataframe tbody tr th:only-of-type {\n",
       "        vertical-align: middle;\n",
       "    }\n",
       "\n",
       "    .dataframe tbody tr th {\n",
       "        vertical-align: top;\n",
       "    }\n",
       "\n",
       "    .dataframe thead th {\n",
       "        text-align: right;\n",
       "    }\n",
       "</style>\n",
       "<table border=\"1\" class=\"dataframe\">\n",
       "  <thead>\n",
       "    <tr style=\"text-align: right;\">\n",
       "      <th></th>\n",
       "      <th>fixed acidity</th>\n",
       "      <th>volatile acidity</th>\n",
       "      <th>citric acid</th>\n",
       "      <th>residual sugar</th>\n",
       "      <th>chlorides</th>\n",
       "      <th>free sulfur dioxide</th>\n",
       "      <th>total sulfur dioxide</th>\n",
       "      <th>density</th>\n",
       "      <th>pH</th>\n",
       "      <th>sulphates</th>\n",
       "      <th>alcohol</th>\n",
       "      <th>quality</th>\n",
       "    </tr>\n",
       "  </thead>\n",
       "  <tbody>\n",
       "    <tr>\n",
       "      <th>count</th>\n",
       "      <td>4898.000000</td>\n",
       "      <td>4898.000000</td>\n",
       "      <td>4898.000000</td>\n",
       "      <td>4898.000000</td>\n",
       "      <td>4898.000000</td>\n",
       "      <td>4898.000000</td>\n",
       "      <td>4898.000000</td>\n",
       "      <td>4898.000000</td>\n",
       "      <td>4898.000000</td>\n",
       "      <td>4898.000000</td>\n",
       "      <td>4898.000000</td>\n",
       "      <td>4898.000000</td>\n",
       "    </tr>\n",
       "    <tr>\n",
       "      <th>mean</th>\n",
       "      <td>6.854788</td>\n",
       "      <td>0.278241</td>\n",
       "      <td>0.334192</td>\n",
       "      <td>6.391415</td>\n",
       "      <td>0.045772</td>\n",
       "      <td>35.308085</td>\n",
       "      <td>138.360657</td>\n",
       "      <td>0.994027</td>\n",
       "      <td>3.188267</td>\n",
       "      <td>0.489847</td>\n",
       "      <td>10.514267</td>\n",
       "      <td>5.877909</td>\n",
       "    </tr>\n",
       "    <tr>\n",
       "      <th>std</th>\n",
       "      <td>0.843868</td>\n",
       "      <td>0.100795</td>\n",
       "      <td>0.121020</td>\n",
       "      <td>5.072058</td>\n",
       "      <td>0.021848</td>\n",
       "      <td>17.007137</td>\n",
       "      <td>42.498065</td>\n",
       "      <td>0.002991</td>\n",
       "      <td>0.151001</td>\n",
       "      <td>0.114126</td>\n",
       "      <td>1.230621</td>\n",
       "      <td>0.885639</td>\n",
       "    </tr>\n",
       "    <tr>\n",
       "      <th>min</th>\n",
       "      <td>3.800000</td>\n",
       "      <td>0.080000</td>\n",
       "      <td>0.000000</td>\n",
       "      <td>0.600000</td>\n",
       "      <td>0.009000</td>\n",
       "      <td>2.000000</td>\n",
       "      <td>9.000000</td>\n",
       "      <td>0.987110</td>\n",
       "      <td>2.720000</td>\n",
       "      <td>0.220000</td>\n",
       "      <td>8.000000</td>\n",
       "      <td>3.000000</td>\n",
       "    </tr>\n",
       "    <tr>\n",
       "      <th>25%</th>\n",
       "      <td>6.300000</td>\n",
       "      <td>0.210000</td>\n",
       "      <td>0.270000</td>\n",
       "      <td>1.700000</td>\n",
       "      <td>0.036000</td>\n",
       "      <td>23.000000</td>\n",
       "      <td>108.000000</td>\n",
       "      <td>0.991723</td>\n",
       "      <td>3.090000</td>\n",
       "      <td>0.410000</td>\n",
       "      <td>9.500000</td>\n",
       "      <td>5.000000</td>\n",
       "    </tr>\n",
       "    <tr>\n",
       "      <th>50%</th>\n",
       "      <td>6.800000</td>\n",
       "      <td>0.260000</td>\n",
       "      <td>0.320000</td>\n",
       "      <td>5.200000</td>\n",
       "      <td>0.043000</td>\n",
       "      <td>34.000000</td>\n",
       "      <td>134.000000</td>\n",
       "      <td>0.993740</td>\n",
       "      <td>3.180000</td>\n",
       "      <td>0.470000</td>\n",
       "      <td>10.400000</td>\n",
       "      <td>6.000000</td>\n",
       "    </tr>\n",
       "    <tr>\n",
       "      <th>75%</th>\n",
       "      <td>7.300000</td>\n",
       "      <td>0.320000</td>\n",
       "      <td>0.390000</td>\n",
       "      <td>9.900000</td>\n",
       "      <td>0.050000</td>\n",
       "      <td>46.000000</td>\n",
       "      <td>167.000000</td>\n",
       "      <td>0.996100</td>\n",
       "      <td>3.280000</td>\n",
       "      <td>0.550000</td>\n",
       "      <td>11.400000</td>\n",
       "      <td>6.000000</td>\n",
       "    </tr>\n",
       "    <tr>\n",
       "      <th>max</th>\n",
       "      <td>14.200000</td>\n",
       "      <td>1.100000</td>\n",
       "      <td>1.660000</td>\n",
       "      <td>65.800000</td>\n",
       "      <td>0.346000</td>\n",
       "      <td>289.000000</td>\n",
       "      <td>440.000000</td>\n",
       "      <td>1.038980</td>\n",
       "      <td>3.820000</td>\n",
       "      <td>1.080000</td>\n",
       "      <td>14.200000</td>\n",
       "      <td>9.000000</td>\n",
       "    </tr>\n",
       "  </tbody>\n",
       "</table>\n",
       "</div>"
      ],
      "text/plain": [
       "       fixed acidity  volatile acidity  citric acid  residual sugar  \\\n",
       "count    4898.000000       4898.000000  4898.000000     4898.000000   \n",
       "mean        6.854788          0.278241     0.334192        6.391415   \n",
       "std         0.843868          0.100795     0.121020        5.072058   \n",
       "min         3.800000          0.080000     0.000000        0.600000   \n",
       "25%         6.300000          0.210000     0.270000        1.700000   \n",
       "50%         6.800000          0.260000     0.320000        5.200000   \n",
       "75%         7.300000          0.320000     0.390000        9.900000   \n",
       "max        14.200000          1.100000     1.660000       65.800000   \n",
       "\n",
       "         chlorides  free sulfur dioxide  total sulfur dioxide      density  \\\n",
       "count  4898.000000          4898.000000           4898.000000  4898.000000   \n",
       "mean      0.045772            35.308085            138.360657     0.994027   \n",
       "std       0.021848            17.007137             42.498065     0.002991   \n",
       "min       0.009000             2.000000              9.000000     0.987110   \n",
       "25%       0.036000            23.000000            108.000000     0.991723   \n",
       "50%       0.043000            34.000000            134.000000     0.993740   \n",
       "75%       0.050000            46.000000            167.000000     0.996100   \n",
       "max       0.346000           289.000000            440.000000     1.038980   \n",
       "\n",
       "                pH    sulphates      alcohol      quality  \n",
       "count  4898.000000  4898.000000  4898.000000  4898.000000  \n",
       "mean      3.188267     0.489847    10.514267     5.877909  \n",
       "std       0.151001     0.114126     1.230621     0.885639  \n",
       "min       2.720000     0.220000     8.000000     3.000000  \n",
       "25%       3.090000     0.410000     9.500000     5.000000  \n",
       "50%       3.180000     0.470000    10.400000     6.000000  \n",
       "75%       3.280000     0.550000    11.400000     6.000000  \n",
       "max       3.820000     1.080000    14.200000     9.000000  "
      ]
     },
     "execution_count": 4,
     "metadata": {},
     "output_type": "execute_result"
    }
   ],
   "source": [
    "df.describe()"
   ]
  },
  {
   "cell_type": "code",
   "execution_count": 5,
   "id": "9b2905fd",
   "metadata": {},
   "outputs": [
    {
     "name": "stdout",
     "output_type": "stream",
     "text": [
      "<class 'pandas.core.frame.DataFrame'>\n",
      "RangeIndex: 4898 entries, 0 to 4897\n",
      "Data columns (total 12 columns):\n",
      " #   Column                Non-Null Count  Dtype  \n",
      "---  ------                --------------  -----  \n",
      " 0   fixed acidity         4898 non-null   float64\n",
      " 1   volatile acidity      4898 non-null   float64\n",
      " 2   citric acid           4898 non-null   float64\n",
      " 3   residual sugar        4898 non-null   float64\n",
      " 4   chlorides             4898 non-null   float64\n",
      " 5   free sulfur dioxide   4898 non-null   float64\n",
      " 6   total sulfur dioxide  4898 non-null   float64\n",
      " 7   density               4898 non-null   float64\n",
      " 8   pH                    4898 non-null   float64\n",
      " 9   sulphates             4898 non-null   float64\n",
      " 10  alcohol               4898 non-null   float64\n",
      " 11  quality               4898 non-null   int64  \n",
      "dtypes: float64(11), int64(1)\n",
      "memory usage: 459.3 KB\n"
     ]
    }
   ],
   "source": [
    "df.info()"
   ]
  },
  {
   "cell_type": "markdown",
   "id": "9e51208b",
   "metadata": {},
   "source": [
    "#### Нет пропущенных значений."
   ]
  },
  {
   "cell_type": "code",
   "execution_count": 6,
   "id": "4fba623b",
   "metadata": {},
   "outputs": [
    {
     "data": {
      "text/plain": [
       "fixed acidity            68\n",
       "volatile acidity        125\n",
       "citric acid              87\n",
       "residual sugar          310\n",
       "chlorides               160\n",
       "free sulfur dioxide     132\n",
       "total sulfur dioxide    251\n",
       "density                 890\n",
       "pH                      103\n",
       "sulphates                79\n",
       "alcohol                 103\n",
       "quality                   7\n",
       "dtype: int64"
      ]
     },
     "execution_count": 6,
     "metadata": {},
     "output_type": "execute_result"
    }
   ],
   "source": [
    "df.nunique()"
   ]
  },
  {
   "cell_type": "markdown",
   "id": "f4071768",
   "metadata": {},
   "source": [
    "#### Все признаки категориальные (имеют много уникальных значений)"
   ]
  },
  {
   "cell_type": "markdown",
   "id": "1a928ce3",
   "metadata": {},
   "source": [
    "### Удаление дубликатов"
   ]
  },
  {
   "cell_type": "code",
   "execution_count": 7,
   "id": "dd25157d",
   "metadata": {},
   "outputs": [
    {
     "data": {
      "text/plain": [
       "(937, 12)"
      ]
     },
     "execution_count": 7,
     "metadata": {},
     "output_type": "execute_result"
    }
   ],
   "source": [
    "df[df.duplicated()].shape"
   ]
  },
  {
   "cell_type": "code",
   "execution_count": 8,
   "id": "b1a9bf86",
   "metadata": {},
   "outputs": [],
   "source": [
    "df = df.drop_duplicates(keep='first').reset_index()\n",
    "df.index = df['index']\n",
    "df = df.drop([\"index\"], axis=1)"
   ]
  },
  {
   "cell_type": "code",
   "execution_count": 9,
   "id": "4ef0e54d",
   "metadata": {},
   "outputs": [
    {
     "data": {
      "image/png": "[encoded data removed]",
      "text/plain": [
       "<Figure size 576x432 with 1 Axes>"
      ]
     },
     "metadata": {
      "needs_background": "light"
     },
     "output_type": "display_data"
    }
   ],
   "source": [
    "quality_ = df['quality'].value_counts()\n",
    "plt.figure(figsize=(8, 6))\n",
    "sns.barplot(x=quality_.index, y=quality_.values, \n",
    "            color='#3eb489')\n",
    "plt.title('Quality', fontsize=20)\n",
    "plt.xlabel('quality', fontsize=14)\n",
    "plt.ylabel('counts', fontsize=14)\n",
    "plt.show()\n",
    "\n",
    "\n"
   ]
  },
  {
   "cell_type": "markdown",
   "id": "06ca242c",
   "metadata": {},
   "source": [
    "### Разделим вино на группы:\n",
    "* \"1\" - 3,4 - плохое вино\n",
    "* \"2\" - 5-7 - неплохое \n",
    "* \"3\" - 8,9 - хорошее"
   ]
  },
  {
   "cell_type": "code",
   "execution_count": 10,
   "id": "c34290a7",
   "metadata": {},
   "outputs": [
    {
     "data": {
      "text/plain": [
       "1    2613\n",
       "0    1348\n",
       "Name: class, dtype: int64"
      ]
     },
     "execution_count": 10,
     "metadata": {},
     "output_type": "execute_result"
    }
   ],
   "source": [
    "df['class'] = [0 if x < 6 else 1 for x in df.quality]\n",
    "df['class'] = df['class'].astype(\"object\")\n",
    "df['class'].value_counts()"
   ]
  },
  {
   "cell_type": "code",
   "execution_count": 11,
   "id": "c3429e10",
   "metadata": {},
   "outputs": [
    {
     "data": {
      "text/plain": [
       "<AxesSubplot:title={'center':'Корреляционная матрица'}>"
      ]
     },
     "execution_count": 11,
     "metadata": {},
     "output_type": "execute_result"
    },
    {
     "data": {
      "image/png": "[encoded data removed]",
      "text/plain": [
       "<Figure size 1080x576 with 2 Axes>"
      ]
     },
     "metadata": {
      "needs_background": "light"
     },
     "output_type": "display_data"
    }
   ],
   "source": [
    "plt.figure(figsize=(15,8))\n",
    "plt.title(\"Корреляционная матрица\")\n",
    "sns.heatmap(df.corr(), annot=True, cmap='coolwarm')"
   ]
  },
  {
   "cell_type": "markdown",
   "id": "d69947f4",
   "metadata": {},
   "source": [
    "* density (плотность) сильно коррелирует с  residual_sugar (остаточный сахар)  и alcohol (спирт)\n",
    "*  total sulfur dioxide (общий диоксид серы) коррелирует с free sulfur dioxide (свободный диоксид серы),  density (плотность), alcohol (спирт), residual sugar (остаточный сахар)\n",
    "* Целевая переменная quality (качество) лучше всего коррелирует с переменной alcohol, чуть хуже с density (плотность)"
   ]
  },
  {
   "cell_type": "code",
   "execution_count": null,
   "id": "d09a98a9",
   "metadata": {},
   "outputs": [],
   "source": []
  },
  {
   "cell_type": "markdown",
   "id": "fdc246f2",
   "metadata": {},
   "source": [
    "##  CatBoostClassifier"
   ]
  },
  {
   "cell_type": "markdown",
   "id": "06257914",
   "metadata": {},
   "source": [
    "https://www.kaggle.com/code/prashant111/catboost-classifier-in-python"
   ]
  },
  {
   "cell_type": "markdown",
   "id": "2f5ec889",
   "metadata": {},
   "source": [
    "#### Подготовка данных "
   ]
  },
  {
   "cell_type": "markdown",
   "id": "fa4a879b",
   "metadata": {},
   "source": [
    "Вектор признаков и целевая переменная"
   ]
  },
  {
   "cell_type": "code",
   "execution_count": 12,
   "id": "21c8854c",
   "metadata": {},
   "outputs": [],
   "source": [
    "X = df.drop(\"quality\", axis=1)\n",
    "y = df[\"quality\"]"
   ]
  },
  {
   "cell_type": "markdown",
   "id": "9a723bb3",
   "metadata": {},
   "source": [
    "Объявление категориальных признаков¶"
   ]
  },
  {
   "cell_type": "code",
   "execution_count": 13,
   "id": "8f5aee25",
   "metadata": {},
   "outputs": [
    {
     "name": "stdout",
     "output_type": "stream",
     "text": [
      "[0, 1, 2, 3, 4, 5, 6, 7, 8, 9, 10, 11]\n"
     ]
    }
   ],
   "source": [
    "cat_features = list(range(0, X.shape[1]))\n",
    "print(cat_features)\n"
   ]
  },
  {
   "cell_type": "markdown",
   "id": "2ed33fba",
   "metadata": {},
   "source": [
    "Разделение данных на обучающий и проверочный набор "
   ]
  },
  {
   "cell_type": "code",
   "execution_count": 45,
   "id": "a1fc36ab",
   "metadata": {},
   "outputs": [],
   "source": [
    "from sklearn.model_selection import train_test_split\n",
    "from sklearn.metrics import  f1_score,accuracy_score\n",
    "                             \n",
    "\n",
    "X_train, X_test, y_train, y_test = train_test_split(X, y, test_size=0.2, random_state=42)"
   ]
  },
  {
   "cell_type": "code",
   "execution_count": 15,
   "id": "4e0cc2d2",
   "metadata": {
    "scrolled": false
   },
   "outputs": [
    {
     "name": "stdout",
     "output_type": "stream",
     "text": [
      "CatBoost model is fitted: True\n",
      "CatBoost model parameters:\n",
      "{'iterations': 1000, 'learning_rate': 0.1, 'loss_function': 'MultiClass'}\n"
     ]
    }
   ],
   "source": [
    "from catboost import CatBoostClassifier\n",
    "\n",
    "clf = CatBoostClassifier(\n",
    "    iterations=1000, \n",
    "    learning_rate=0.1, \n",
    "    loss_function='MultiClass'\n",
    ")\n",
    "\n",
    "\n",
    "clf.fit(X_train, y_train, \n",
    "        #cat_features=cat_features, \n",
    "        eval_set=(X_test, y_test), \n",
    "        verbose=False\n",
    ")\n",
    "\n",
    "print('CatBoost model is fitted: ' + str(clf.is_fitted()))\n",
    "print('CatBoost model parameters:')\n",
    "print(clf.get_params())"
   ]
  },
  {
   "cell_type": "code",
   "execution_count": 16,
   "id": "5b109ae8",
   "metadata": {},
   "outputs": [
    {
     "name": "stdout",
     "output_type": "stream",
     "text": [
      "Learning rate set to 0.084791\n",
      "0:\tlearn: 1.7052419\ttest: 1.7147255\tbest: 1.7147255 (0)\ttotal: 28.4ms\tremaining: 56.7s\n",
      "5:\tlearn: 1.1291964\ttest: 1.1479451\tbest: 1.1479451 (5)\ttotal: 129ms\tremaining: 42.9s\n",
      "10:\tlearn: 0.8972957\ttest: 0.9234645\tbest: 0.9234645 (10)\ttotal: 217ms\tremaining: 39.3s\n",
      "15:\tlearn: 0.7743538\ttest: 0.8062020\tbest: 0.8062020 (15)\ttotal: 340ms\tremaining: 42.1s\n",
      "20:\tlearn: 0.7000991\ttest: 0.7360229\tbest: 0.7360229 (20)\ttotal: 459ms\tremaining: 43.2s\n",
      "25:\tlearn: 0.6523302\ttest: 0.6942546\tbest: 0.6942546 (25)\ttotal: 583ms\tremaining: 44.3s\n",
      "30:\tlearn: 0.6184736\ttest: 0.6639341\tbest: 0.6639341 (30)\ttotal: 686ms\tremaining: 43.6s\n",
      "35:\tlearn: 0.5941618\ttest: 0.6441498\tbest: 0.6441498 (35)\ttotal: 804ms\tremaining: 43.9s\n",
      "40:\tlearn: 0.5766840\ttest: 0.6314772\tbest: 0.6314772 (40)\ttotal: 937ms\tremaining: 44.8s\n",
      "45:\tlearn: 0.5653625\ttest: 0.6229458\tbest: 0.6229458 (45)\ttotal: 1.03s\tremaining: 43.6s\n",
      "50:\tlearn: 0.5541652\ttest: 0.6164858\tbest: 0.6164858 (50)\ttotal: 1.1s\tremaining: 42.2s\n",
      "55:\tlearn: 0.5457608\ttest: 0.6108030\tbest: 0.6108030 (55)\ttotal: 1.19s\tremaining: 41.4s\n",
      "60:\tlearn: 0.5368928\ttest: 0.6078140\tbest: 0.6078140 (60)\ttotal: 1.3s\tremaining: 41.4s\n",
      "65:\tlearn: 0.5302334\ttest: 0.6038351\tbest: 0.6038351 (65)\ttotal: 1.39s\tremaining: 40.7s\n",
      "70:\tlearn: 0.5238650\ttest: 0.6022127\tbest: 0.6022127 (70)\ttotal: 1.47s\tremaining: 40s\n",
      "75:\tlearn: 0.5183481\ttest: 0.6011155\tbest: 0.6007083 (74)\ttotal: 1.55s\tremaining: 39.2s\n",
      "80:\tlearn: 0.5114663\ttest: 0.6000021\tbest: 0.6000021 (80)\ttotal: 1.62s\tremaining: 38.5s\n",
      "85:\tlearn: 0.5049267\ttest: 0.5986739\tbest: 0.5984776 (84)\ttotal: 1.69s\tremaining: 37.7s\n",
      "90:\tlearn: 0.4996469\ttest: 0.5980669\tbest: 0.5980669 (90)\ttotal: 1.76s\tremaining: 37s\n",
      "95:\tlearn: 0.4948173\ttest: 0.5971227\tbest: 0.5967467 (94)\ttotal: 1.84s\tremaining: 36.5s\n",
      "100:\tlearn: 0.4892919\ttest: 0.5962708\tbest: 0.5961931 (99)\ttotal: 1.91s\tremaining: 36s\n",
      "105:\tlearn: 0.4844928\ttest: 0.5952958\tbest: 0.5950999 (104)\ttotal: 2.02s\tremaining: 36.1s\n",
      "110:\tlearn: 0.4798187\ttest: 0.5960516\tbest: 0.5950999 (104)\ttotal: 2.15s\tremaining: 36.6s\n",
      "115:\tlearn: 0.4747265\ttest: 0.5951620\tbest: 0.5950999 (104)\ttotal: 2.27s\tremaining: 37s\n",
      "120:\tlearn: 0.4693743\ttest: 0.5953840\tbest: 0.5950999 (104)\ttotal: 2.41s\tremaining: 37.4s\n",
      "125:\tlearn: 0.4644734\ttest: 0.5945977\tbest: 0.5945977 (125)\ttotal: 2.54s\tremaining: 37.8s\n",
      "130:\tlearn: 0.4599912\ttest: 0.5939525\tbest: 0.5939525 (130)\ttotal: 2.67s\tremaining: 38.1s\n",
      "135:\tlearn: 0.4567198\ttest: 0.5937693\tbest: 0.5936807 (134)\ttotal: 2.81s\tremaining: 38.5s\n",
      "140:\tlearn: 0.4522251\ttest: 0.5951039\tbest: 0.5936807 (134)\ttotal: 2.94s\tremaining: 38.7s\n",
      "145:\tlearn: 0.4487732\ttest: 0.5949959\tbest: 0.5936807 (134)\ttotal: 3.06s\tremaining: 38.9s\n",
      "150:\tlearn: 0.4442633\ttest: 0.5952993\tbest: 0.5936807 (134)\ttotal: 3.18s\tremaining: 38.9s\n",
      "155:\tlearn: 0.4394541\ttest: 0.5961751\tbest: 0.5936807 (134)\ttotal: 3.29s\tremaining: 38.9s\n",
      "160:\tlearn: 0.4360799\ttest: 0.5966002\tbest: 0.5936807 (134)\ttotal: 3.41s\tremaining: 38.9s\n",
      "165:\tlearn: 0.4313829\ttest: 0.5970088\tbest: 0.5936807 (134)\ttotal: 3.52s\tremaining: 38.9s\n",
      "170:\tlearn: 0.4275368\ttest: 0.5978406\tbest: 0.5936807 (134)\ttotal: 3.64s\tremaining: 38.9s\n",
      "175:\tlearn: 0.4224509\ttest: 0.5987786\tbest: 0.5936807 (134)\ttotal: 3.75s\tremaining: 38.9s\n",
      "180:\tlearn: 0.4200763\ttest: 0.5977867\tbest: 0.5936807 (134)\ttotal: 3.87s\tremaining: 38.9s\n",
      "185:\tlearn: 0.4165596\ttest: 0.5983940\tbest: 0.5936807 (134)\ttotal: 3.99s\tremaining: 39s\n",
      "190:\tlearn: 0.4136350\ttest: 0.5980721\tbest: 0.5936807 (134)\ttotal: 4.11s\tremaining: 39s\n",
      "195:\tlearn: 0.4095507\ttest: 0.5976332\tbest: 0.5936807 (134)\ttotal: 4.23s\tremaining: 38.9s\n",
      "200:\tlearn: 0.4052056\ttest: 0.5978017\tbest: 0.5936807 (134)\ttotal: 4.35s\tremaining: 38.9s\n",
      "205:\tlearn: 0.4007324\ttest: 0.5975124\tbest: 0.5936807 (134)\ttotal: 4.46s\tremaining: 38.9s\n",
      "210:\tlearn: 0.3971777\ttest: 0.5974889\tbest: 0.5936807 (134)\ttotal: 4.58s\tremaining: 38.9s\n",
      "215:\tlearn: 0.3923886\ttest: 0.5978867\tbest: 0.5936807 (134)\ttotal: 4.7s\tremaining: 38.8s\n",
      "220:\tlearn: 0.3894952\ttest: 0.5974299\tbest: 0.5936807 (134)\ttotal: 4.82s\tremaining: 38.8s\n",
      "225:\tlearn: 0.3870587\ttest: 0.5971586\tbest: 0.5936807 (134)\ttotal: 4.94s\tremaining: 38.8s\n",
      "230:\tlearn: 0.3829804\ttest: 0.5973325\tbest: 0.5936807 (134)\ttotal: 5.05s\tremaining: 38.7s\n",
      "235:\tlearn: 0.3795804\ttest: 0.5978308\tbest: 0.5936807 (134)\ttotal: 5.17s\tremaining: 38.6s\n",
      "240:\tlearn: 0.3761406\ttest: 0.5975120\tbest: 0.5936807 (134)\ttotal: 5.28s\tremaining: 38.6s\n",
      "245:\tlearn: 0.3738601\ttest: 0.5974096\tbest: 0.5936807 (134)\ttotal: 5.41s\tremaining: 38.5s\n",
      "250:\tlearn: 0.3714966\ttest: 0.5979322\tbest: 0.5936807 (134)\ttotal: 5.52s\tremaining: 38.4s\n",
      "255:\tlearn: 0.3672122\ttest: 0.5968910\tbest: 0.5936807 (134)\ttotal: 5.59s\tremaining: 38.1s\n",
      "260:\tlearn: 0.3642682\ttest: 0.5978244\tbest: 0.5936807 (134)\ttotal: 5.66s\tremaining: 37.7s\n",
      "265:\tlearn: 0.3594759\ttest: 0.5976876\tbest: 0.5936807 (134)\ttotal: 5.74s\tremaining: 37.4s\n",
      "270:\tlearn: 0.3555746\ttest: 0.5979804\tbest: 0.5936807 (134)\ttotal: 5.81s\tremaining: 37.1s\n",
      "275:\tlearn: 0.3522534\ttest: 0.5975617\tbest: 0.5936807 (134)\ttotal: 5.88s\tremaining: 36.7s\n",
      "280:\tlearn: 0.3489114\ttest: 0.5981348\tbest: 0.5936807 (134)\ttotal: 5.95s\tremaining: 36.4s\n",
      "285:\tlearn: 0.3463260\ttest: 0.5985350\tbest: 0.5936807 (134)\ttotal: 6.03s\tremaining: 36.1s\n",
      "290:\tlearn: 0.3438692\ttest: 0.5989129\tbest: 0.5936807 (134)\ttotal: 6.1s\tremaining: 35.8s\n",
      "295:\tlearn: 0.3410573\ttest: 0.5986694\tbest: 0.5936807 (134)\ttotal: 6.18s\tremaining: 35.6s\n",
      "300:\tlearn: 0.3382261\ttest: 0.5988095\tbest: 0.5936807 (134)\ttotal: 6.25s\tremaining: 35.3s\n",
      "305:\tlearn: 0.3359499\ttest: 0.5987533\tbest: 0.5936807 (134)\ttotal: 6.33s\tremaining: 35s\n",
      "310:\tlearn: 0.3331348\ttest: 0.5992665\tbest: 0.5936807 (134)\ttotal: 6.41s\tremaining: 34.8s\n",
      "315:\tlearn: 0.3305762\ttest: 0.5994263\tbest: 0.5936807 (134)\ttotal: 6.49s\tremaining: 34.6s\n",
      "320:\tlearn: 0.3279008\ttest: 0.5997411\tbest: 0.5936807 (134)\ttotal: 6.56s\tremaining: 34.3s\n",
      "325:\tlearn: 0.3257567\ttest: 0.5999736\tbest: 0.5936807 (134)\ttotal: 6.64s\tremaining: 34.1s\n",
      "330:\tlearn: 0.3218192\ttest: 0.6004380\tbest: 0.5936807 (134)\ttotal: 6.72s\tremaining: 33.9s\n",
      "335:\tlearn: 0.3174075\ttest: 0.6000762\tbest: 0.5936807 (134)\ttotal: 6.79s\tremaining: 33.6s\n",
      "340:\tlearn: 0.3144519\ttest: 0.6000976\tbest: 0.5936807 (134)\ttotal: 6.87s\tremaining: 33.4s\n",
      "345:\tlearn: 0.3130182\ttest: 0.5996857\tbest: 0.5936807 (134)\ttotal: 6.94s\tremaining: 33.2s\n",
      "350:\tlearn: 0.3095444\ttest: 0.5999737\tbest: 0.5936807 (134)\ttotal: 7.01s\tremaining: 32.9s\n",
      "355:\tlearn: 0.3072485\ttest: 0.6003681\tbest: 0.5936807 (134)\ttotal: 7.09s\tremaining: 32.7s\n",
      "360:\tlearn: 0.3044118\ttest: 0.6007347\tbest: 0.5936807 (134)\ttotal: 7.16s\tremaining: 32.5s\n",
      "365:\tlearn: 0.3021496\ttest: 0.6012935\tbest: 0.5936807 (134)\ttotal: 7.23s\tremaining: 32.3s\n",
      "370:\tlearn: 0.3000058\ttest: 0.6020130\tbest: 0.5936807 (134)\ttotal: 7.3s\tremaining: 32.1s\n",
      "375:\tlearn: 0.2976692\ttest: 0.6023828\tbest: 0.5936807 (134)\ttotal: 7.37s\tremaining: 31.8s\n",
      "380:\tlearn: 0.2951443\ttest: 0.6024692\tbest: 0.5936807 (134)\ttotal: 7.44s\tremaining: 31.6s\n",
      "385:\tlearn: 0.2927022\ttest: 0.6016996\tbest: 0.5936807 (134)\ttotal: 7.52s\tremaining: 31.5s\n",
      "390:\tlearn: 0.2905888\ttest: 0.6012895\tbest: 0.5936807 (134)\ttotal: 7.59s\tremaining: 31.3s\n",
      "395:\tlearn: 0.2877076\ttest: 0.6013317\tbest: 0.5936807 (134)\ttotal: 7.67s\tremaining: 31.1s\n",
      "400:\tlearn: 0.2857235\ttest: 0.6016729\tbest: 0.5936807 (134)\ttotal: 7.74s\tremaining: 30.9s\n",
      "405:\tlearn: 0.2835481\ttest: 0.6019588\tbest: 0.5936807 (134)\ttotal: 7.82s\tremaining: 30.7s\n",
      "410:\tlearn: 0.2809494\ttest: 0.6019885\tbest: 0.5936807 (134)\ttotal: 7.89s\tremaining: 30.5s\n",
      "415:\tlearn: 0.2780536\ttest: 0.6024376\tbest: 0.5936807 (134)\ttotal: 7.97s\tremaining: 30.3s\n",
      "420:\tlearn: 0.2756209\ttest: 0.6034813\tbest: 0.5936807 (134)\ttotal: 8.04s\tremaining: 30.2s\n",
      "425:\tlearn: 0.2729907\ttest: 0.6032385\tbest: 0.5936807 (134)\ttotal: 8.12s\tremaining: 30s\n",
      "430:\tlearn: 0.2703006\ttest: 0.6033991\tbest: 0.5936807 (134)\ttotal: 8.2s\tremaining: 29.8s\n",
      "435:\tlearn: 0.2680231\ttest: 0.6033122\tbest: 0.5936807 (134)\ttotal: 8.27s\tremaining: 29.7s\n",
      "440:\tlearn: 0.2655515\ttest: 0.6045468\tbest: 0.5936807 (134)\ttotal: 8.35s\tremaining: 29.5s\n",
      "445:\tlearn: 0.2623098\ttest: 0.6051103\tbest: 0.5936807 (134)\ttotal: 8.43s\tremaining: 29.4s\n",
      "450:\tlearn: 0.2610678\ttest: 0.6058156\tbest: 0.5936807 (134)\ttotal: 8.5s\tremaining: 29.2s\n",
      "455:\tlearn: 0.2590464\ttest: 0.6057410\tbest: 0.5936807 (134)\ttotal: 8.57s\tremaining: 29s\n"
     ]
    },
    {
     "name": "stdout",
     "output_type": "stream",
     "text": [
      "460:\tlearn: 0.2573779\ttest: 0.6057195\tbest: 0.5936807 (134)\ttotal: 8.65s\tremaining: 28.9s\n",
      "465:\tlearn: 0.2548593\ttest: 0.6059176\tbest: 0.5936807 (134)\ttotal: 8.72s\tremaining: 28.7s\n",
      "470:\tlearn: 0.2529722\ttest: 0.6054735\tbest: 0.5936807 (134)\ttotal: 8.8s\tremaining: 28.6s\n",
      "475:\tlearn: 0.2506577\ttest: 0.6059046\tbest: 0.5936807 (134)\ttotal: 8.87s\tremaining: 28.4s\n",
      "480:\tlearn: 0.2490574\ttest: 0.6055694\tbest: 0.5936807 (134)\ttotal: 8.94s\tremaining: 28.2s\n",
      "485:\tlearn: 0.2472298\ttest: 0.6062736\tbest: 0.5936807 (134)\ttotal: 9.01s\tremaining: 28.1s\n",
      "490:\tlearn: 0.2451919\ttest: 0.6062452\tbest: 0.5936807 (134)\ttotal: 9.09s\tremaining: 27.9s\n",
      "495:\tlearn: 0.2431838\ttest: 0.6063584\tbest: 0.5936807 (134)\ttotal: 9.16s\tremaining: 27.8s\n",
      "500:\tlearn: 0.2407480\ttest: 0.6069974\tbest: 0.5936807 (134)\ttotal: 9.23s\tremaining: 27.6s\n",
      "505:\tlearn: 0.2390408\ttest: 0.6074603\tbest: 0.5936807 (134)\ttotal: 9.31s\tremaining: 27.5s\n",
      "510:\tlearn: 0.2375199\ttest: 0.6076476\tbest: 0.5936807 (134)\ttotal: 9.38s\tremaining: 27.3s\n",
      "515:\tlearn: 0.2356531\ttest: 0.6078559\tbest: 0.5936807 (134)\ttotal: 9.45s\tremaining: 27.2s\n",
      "520:\tlearn: 0.2341423\ttest: 0.6078959\tbest: 0.5936807 (134)\ttotal: 9.53s\tremaining: 27s\n",
      "525:\tlearn: 0.2326921\ttest: 0.6083254\tbest: 0.5936807 (134)\ttotal: 9.59s\tremaining: 26.9s\n",
      "530:\tlearn: 0.2312474\ttest: 0.6083231\tbest: 0.5936807 (134)\ttotal: 9.67s\tremaining: 26.8s\n",
      "535:\tlearn: 0.2293757\ttest: 0.6095434\tbest: 0.5936807 (134)\ttotal: 9.75s\tremaining: 26.6s\n",
      "540:\tlearn: 0.2274401\ttest: 0.6097448\tbest: 0.5936807 (134)\ttotal: 9.82s\tremaining: 26.5s\n",
      "545:\tlearn: 0.2263662\ttest: 0.6097531\tbest: 0.5936807 (134)\ttotal: 9.9s\tremaining: 26.4s\n",
      "550:\tlearn: 0.2249903\ttest: 0.6104990\tbest: 0.5936807 (134)\ttotal: 9.97s\tremaining: 26.2s\n",
      "555:\tlearn: 0.2225165\ttest: 0.6122754\tbest: 0.5936807 (134)\ttotal: 10.1s\tremaining: 26.2s\n",
      "560:\tlearn: 0.2205768\ttest: 0.6127157\tbest: 0.5936807 (134)\ttotal: 10.2s\tremaining: 26.2s\n",
      "565:\tlearn: 0.2187443\ttest: 0.6127630\tbest: 0.5936807 (134)\ttotal: 10.4s\tremaining: 26.2s\n",
      "570:\tlearn: 0.2172704\ttest: 0.6136163\tbest: 0.5936807 (134)\ttotal: 10.5s\tremaining: 26.2s\n",
      "575:\tlearn: 0.2153676\ttest: 0.6141895\tbest: 0.5936807 (134)\ttotal: 10.6s\tremaining: 26.2s\n",
      "580:\tlearn: 0.2135796\ttest: 0.6146268\tbest: 0.5936807 (134)\ttotal: 10.7s\tremaining: 26.2s\n",
      "585:\tlearn: 0.2125562\ttest: 0.6148767\tbest: 0.5936807 (134)\ttotal: 10.9s\tremaining: 26.2s\n",
      "590:\tlearn: 0.2105100\ttest: 0.6144750\tbest: 0.5936807 (134)\ttotal: 11s\tremaining: 26.2s\n",
      "595:\tlearn: 0.2089923\ttest: 0.6145800\tbest: 0.5936807 (134)\ttotal: 11.1s\tremaining: 26.2s\n",
      "600:\tlearn: 0.2076083\ttest: 0.6150751\tbest: 0.5936807 (134)\ttotal: 11.2s\tremaining: 26.1s\n",
      "605:\tlearn: 0.2065028\ttest: 0.6151860\tbest: 0.5936807 (134)\ttotal: 11.3s\tremaining: 26.1s\n",
      "610:\tlearn: 0.2045656\ttest: 0.6150026\tbest: 0.5936807 (134)\ttotal: 11.5s\tremaining: 26s\n",
      "615:\tlearn: 0.2028210\ttest: 0.6158523\tbest: 0.5936807 (134)\ttotal: 11.6s\tremaining: 26s\n",
      "620:\tlearn: 0.2014997\ttest: 0.6165204\tbest: 0.5936807 (134)\ttotal: 11.7s\tremaining: 25.9s\n",
      "625:\tlearn: 0.1997829\ttest: 0.6175870\tbest: 0.5936807 (134)\ttotal: 11.8s\tremaining: 25.9s\n",
      "630:\tlearn: 0.1985924\ttest: 0.6184259\tbest: 0.5936807 (134)\ttotal: 11.9s\tremaining: 25.8s\n",
      "635:\tlearn: 0.1970488\ttest: 0.6189072\tbest: 0.5936807 (134)\ttotal: 12s\tremaining: 25.8s\n",
      "640:\tlearn: 0.1953454\ttest: 0.6195806\tbest: 0.5936807 (134)\ttotal: 12.1s\tremaining: 25.7s\n",
      "645:\tlearn: 0.1938540\ttest: 0.6200037\tbest: 0.5936807 (134)\ttotal: 12.3s\tremaining: 25.7s\n",
      "650:\tlearn: 0.1923921\ttest: 0.6198080\tbest: 0.5936807 (134)\ttotal: 12.3s\tremaining: 25.6s\n",
      "655:\tlearn: 0.1906230\ttest: 0.6201727\tbest: 0.5936807 (134)\ttotal: 12.4s\tremaining: 25.4s\n",
      "660:\tlearn: 0.1894863\ttest: 0.6213211\tbest: 0.5936807 (134)\ttotal: 12.5s\tremaining: 25.3s\n",
      "665:\tlearn: 0.1884145\ttest: 0.6214099\tbest: 0.5936807 (134)\ttotal: 12.6s\tremaining: 25.2s\n",
      "670:\tlearn: 0.1869121\ttest: 0.6220312\tbest: 0.5936807 (134)\ttotal: 12.6s\tremaining: 25s\n",
      "675:\tlearn: 0.1853800\ttest: 0.6225415\tbest: 0.5936807 (134)\ttotal: 12.8s\tremaining: 25s\n",
      "680:\tlearn: 0.1838498\ttest: 0.6226043\tbest: 0.5936807 (134)\ttotal: 12.9s\tremaining: 24.9s\n",
      "685:\tlearn: 0.1827054\ttest: 0.6224075\tbest: 0.5936807 (134)\ttotal: 13s\tremaining: 24.9s\n",
      "690:\tlearn: 0.1815364\ttest: 0.6233631\tbest: 0.5936807 (134)\ttotal: 13.1s\tremaining: 24.8s\n",
      "695:\tlearn: 0.1803481\ttest: 0.6241254\tbest: 0.5936807 (134)\ttotal: 13.2s\tremaining: 24.8s\n",
      "700:\tlearn: 0.1790541\ttest: 0.6242451\tbest: 0.5936807 (134)\ttotal: 13.3s\tremaining: 24.7s\n",
      "705:\tlearn: 0.1779026\ttest: 0.6250085\tbest: 0.5936807 (134)\ttotal: 13.5s\tremaining: 24.7s\n",
      "710:\tlearn: 0.1763170\ttest: 0.6247370\tbest: 0.5936807 (134)\ttotal: 13.6s\tremaining: 24.6s\n",
      "715:\tlearn: 0.1749383\ttest: 0.6249662\tbest: 0.5936807 (134)\ttotal: 13.7s\tremaining: 24.5s\n",
      "720:\tlearn: 0.1738091\ttest: 0.6251544\tbest: 0.5936807 (134)\ttotal: 13.8s\tremaining: 24.5s\n",
      "725:\tlearn: 0.1725414\ttest: 0.6258874\tbest: 0.5936807 (134)\ttotal: 13.9s\tremaining: 24.4s\n",
      "730:\tlearn: 0.1715883\ttest: 0.6267664\tbest: 0.5936807 (134)\ttotal: 14s\tremaining: 24.4s\n",
      "735:\tlearn: 0.1705589\ttest: 0.6275986\tbest: 0.5936807 (134)\ttotal: 14.2s\tremaining: 24.3s\n",
      "740:\tlearn: 0.1693007\ttest: 0.6282319\tbest: 0.5936807 (134)\ttotal: 14.3s\tremaining: 24.3s\n",
      "745:\tlearn: 0.1683399\ttest: 0.6282834\tbest: 0.5936807 (134)\ttotal: 14.4s\tremaining: 24.2s\n",
      "750:\tlearn: 0.1672869\ttest: 0.6290114\tbest: 0.5936807 (134)\ttotal: 14.5s\tremaining: 24.1s\n",
      "755:\tlearn: 0.1661906\ttest: 0.6287979\tbest: 0.5936807 (134)\ttotal: 14.6s\tremaining: 24.1s\n",
      "760:\tlearn: 0.1648982\ttest: 0.6292115\tbest: 0.5936807 (134)\ttotal: 14.7s\tremaining: 24s\n",
      "765:\tlearn: 0.1638832\ttest: 0.6300351\tbest: 0.5936807 (134)\ttotal: 14.9s\tremaining: 23.9s\n",
      "770:\tlearn: 0.1626303\ttest: 0.6303145\tbest: 0.5936807 (134)\ttotal: 15s\tremaining: 23.9s\n",
      "775:\tlearn: 0.1612241\ttest: 0.6305170\tbest: 0.5936807 (134)\ttotal: 15.1s\tremaining: 23.8s\n",
      "780:\tlearn: 0.1598068\ttest: 0.6310262\tbest: 0.5936807 (134)\ttotal: 15.2s\tremaining: 23.7s\n",
      "785:\tlearn: 0.1586233\ttest: 0.6317588\tbest: 0.5936807 (134)\ttotal: 15.3s\tremaining: 23.6s\n",
      "790:\tlearn: 0.1573944\ttest: 0.6322602\tbest: 0.5936807 (134)\ttotal: 15.4s\tremaining: 23.6s\n",
      "795:\tlearn: 0.1564451\ttest: 0.6327572\tbest: 0.5936807 (134)\ttotal: 15.5s\tremaining: 23.5s\n",
      "800:\tlearn: 0.1553481\ttest: 0.6333666\tbest: 0.5936807 (134)\ttotal: 15.7s\tremaining: 23.4s\n",
      "805:\tlearn: 0.1544611\ttest: 0.6335097\tbest: 0.5936807 (134)\ttotal: 15.8s\tremaining: 23.4s\n",
      "810:\tlearn: 0.1532538\ttest: 0.6339154\tbest: 0.5936807 (134)\ttotal: 15.9s\tremaining: 23.3s\n",
      "815:\tlearn: 0.1521649\ttest: 0.6343149\tbest: 0.5936807 (134)\ttotal: 16s\tremaining: 23.2s\n",
      "820:\tlearn: 0.1512470\ttest: 0.6344315\tbest: 0.5936807 (134)\ttotal: 16.1s\tremaining: 23.2s\n",
      "825:\tlearn: 0.1501668\ttest: 0.6351612\tbest: 0.5936807 (134)\ttotal: 16.2s\tremaining: 23.1s\n",
      "830:\tlearn: 0.1492179\ttest: 0.6359024\tbest: 0.5936807 (134)\ttotal: 16.4s\tremaining: 23s\n",
      "835:\tlearn: 0.1483367\ttest: 0.6371547\tbest: 0.5936807 (134)\ttotal: 16.5s\tremaining: 23s\n",
      "840:\tlearn: 0.1471146\ttest: 0.6372628\tbest: 0.5936807 (134)\ttotal: 16.6s\tremaining: 22.9s\n",
      "845:\tlearn: 0.1461892\ttest: 0.6378421\tbest: 0.5936807 (134)\ttotal: 16.7s\tremaining: 22.8s\n",
      "850:\tlearn: 0.1451273\ttest: 0.6390131\tbest: 0.5936807 (134)\ttotal: 16.8s\tremaining: 22.7s\n",
      "855:\tlearn: 0.1440892\ttest: 0.6390817\tbest: 0.5936807 (134)\ttotal: 17s\tremaining: 22.7s\n",
      "860:\tlearn: 0.1432188\ttest: 0.6387540\tbest: 0.5936807 (134)\ttotal: 17.1s\tremaining: 22.6s\n",
      "865:\tlearn: 0.1422853\ttest: 0.6392184\tbest: 0.5936807 (134)\ttotal: 17.2s\tremaining: 22.5s\n",
      "870:\tlearn: 0.1416658\ttest: 0.6394476\tbest: 0.5936807 (134)\ttotal: 17.3s\tremaining: 22.4s\n",
      "875:\tlearn: 0.1408592\ttest: 0.6395384\tbest: 0.5936807 (134)\ttotal: 17.4s\tremaining: 22.3s\n",
      "880:\tlearn: 0.1399517\ttest: 0.6402106\tbest: 0.5936807 (134)\ttotal: 17.5s\tremaining: 22.3s\n",
      "885:\tlearn: 0.1388982\ttest: 0.6408994\tbest: 0.5936807 (134)\ttotal: 17.6s\tremaining: 22.2s\n",
      "890:\tlearn: 0.1378212\ttest: 0.6409492\tbest: 0.5936807 (134)\ttotal: 17.8s\tremaining: 22.1s\n",
      "895:\tlearn: 0.1368947\ttest: 0.6415064\tbest: 0.5936807 (134)\ttotal: 17.9s\tremaining: 22s\n",
      "900:\tlearn: 0.1361185\ttest: 0.6422219\tbest: 0.5936807 (134)\ttotal: 18s\tremaining: 21.9s\n",
      "905:\tlearn: 0.1352819\ttest: 0.6428622\tbest: 0.5936807 (134)\ttotal: 18.1s\tremaining: 21.9s\n",
      "910:\tlearn: 0.1344246\ttest: 0.6433103\tbest: 0.5936807 (134)\ttotal: 18.2s\tremaining: 21.8s\n",
      "915:\tlearn: 0.1336203\ttest: 0.6438214\tbest: 0.5936807 (134)\ttotal: 18.3s\tremaining: 21.7s\n"
     ]
    },
    {
     "name": "stdout",
     "output_type": "stream",
     "text": [
      "920:\tlearn: 0.1327875\ttest: 0.6444630\tbest: 0.5936807 (134)\ttotal: 18.5s\tremaining: 21.6s\n",
      "925:\tlearn: 0.1318286\ttest: 0.6451233\tbest: 0.5936807 (134)\ttotal: 18.6s\tremaining: 21.6s\n",
      "930:\tlearn: 0.1310641\ttest: 0.6457409\tbest: 0.5936807 (134)\ttotal: 18.7s\tremaining: 21.5s\n",
      "935:\tlearn: 0.1302416\ttest: 0.6459839\tbest: 0.5936807 (134)\ttotal: 18.8s\tremaining: 21.4s\n",
      "940:\tlearn: 0.1293649\ttest: 0.6467934\tbest: 0.5936807 (134)\ttotal: 18.9s\tremaining: 21.3s\n",
      "945:\tlearn: 0.1284712\ttest: 0.6473050\tbest: 0.5936807 (134)\ttotal: 19.1s\tremaining: 21.2s\n",
      "950:\tlearn: 0.1280051\ttest: 0.6475636\tbest: 0.5936807 (134)\ttotal: 19.2s\tremaining: 21.1s\n",
      "955:\tlearn: 0.1274202\ttest: 0.6480786\tbest: 0.5936807 (134)\ttotal: 19.3s\tremaining: 21.1s\n",
      "960:\tlearn: 0.1266919\ttest: 0.6488242\tbest: 0.5936807 (134)\ttotal: 19.4s\tremaining: 21s\n",
      "965:\tlearn: 0.1256786\ttest: 0.6486631\tbest: 0.5936807 (134)\ttotal: 19.5s\tremaining: 20.9s\n",
      "970:\tlearn: 0.1250631\ttest: 0.6491766\tbest: 0.5936807 (134)\ttotal: 19.6s\tremaining: 20.8s\n",
      "975:\tlearn: 0.1243176\ttest: 0.6497480\tbest: 0.5936807 (134)\ttotal: 19.7s\tremaining: 20.7s\n",
      "980:\tlearn: 0.1233846\ttest: 0.6499158\tbest: 0.5936807 (134)\ttotal: 19.9s\tremaining: 20.6s\n",
      "985:\tlearn: 0.1225206\ttest: 0.6500381\tbest: 0.5936807 (134)\ttotal: 20s\tremaining: 20.5s\n",
      "990:\tlearn: 0.1219154\ttest: 0.6502375\tbest: 0.5936807 (134)\ttotal: 20.1s\tremaining: 20.4s\n",
      "995:\tlearn: 0.1211324\ttest: 0.6504329\tbest: 0.5936807 (134)\ttotal: 20.2s\tremaining: 20.4s\n",
      "1000:\tlearn: 0.1203534\ttest: 0.6503903\tbest: 0.5936807 (134)\ttotal: 20.3s\tremaining: 20.3s\n",
      "1005:\tlearn: 0.1195459\ttest: 0.6506433\tbest: 0.5936807 (134)\ttotal: 20.4s\tremaining: 20.2s\n",
      "1010:\tlearn: 0.1190244\ttest: 0.6511348\tbest: 0.5936807 (134)\ttotal: 20.5s\tremaining: 20.1s\n",
      "1015:\tlearn: 0.1184385\ttest: 0.6515715\tbest: 0.5936807 (134)\ttotal: 20.6s\tremaining: 20s\n",
      "1020:\tlearn: 0.1177359\ttest: 0.6520454\tbest: 0.5936807 (134)\ttotal: 20.7s\tremaining: 19.9s\n",
      "1025:\tlearn: 0.1170178\ttest: 0.6521254\tbest: 0.5936807 (134)\ttotal: 20.8s\tremaining: 19.8s\n",
      "1030:\tlearn: 0.1163324\ttest: 0.6524649\tbest: 0.5936807 (134)\ttotal: 20.9s\tremaining: 19.7s\n",
      "1035:\tlearn: 0.1155842\ttest: 0.6523957\tbest: 0.5936807 (134)\ttotal: 21s\tremaining: 19.6s\n",
      "1040:\tlearn: 0.1150036\ttest: 0.6528259\tbest: 0.5936807 (134)\ttotal: 21.1s\tremaining: 19.5s\n",
      "1045:\tlearn: 0.1143682\ttest: 0.6528439\tbest: 0.5936807 (134)\ttotal: 21.2s\tremaining: 19.4s\n",
      "1050:\tlearn: 0.1136434\ttest: 0.6533670\tbest: 0.5936807 (134)\ttotal: 21.3s\tremaining: 19.3s\n",
      "1055:\tlearn: 0.1130987\ttest: 0.6540272\tbest: 0.5936807 (134)\ttotal: 21.4s\tremaining: 19.2s\n",
      "1060:\tlearn: 0.1124998\ttest: 0.6545325\tbest: 0.5936807 (134)\ttotal: 21.5s\tremaining: 19.1s\n",
      "1065:\tlearn: 0.1120483\ttest: 0.6548847\tbest: 0.5936807 (134)\ttotal: 21.6s\tremaining: 19s\n",
      "1070:\tlearn: 0.1113714\ttest: 0.6553940\tbest: 0.5936807 (134)\ttotal: 21.8s\tremaining: 18.9s\n",
      "1075:\tlearn: 0.1109657\ttest: 0.6556464\tbest: 0.5936807 (134)\ttotal: 21.9s\tremaining: 18.8s\n",
      "1080:\tlearn: 0.1102401\ttest: 0.6561564\tbest: 0.5936807 (134)\ttotal: 22s\tremaining: 18.7s\n",
      "1085:\tlearn: 0.1097383\ttest: 0.6568770\tbest: 0.5936807 (134)\ttotal: 22.1s\tremaining: 18.6s\n",
      "1090:\tlearn: 0.1091346\ttest: 0.6570845\tbest: 0.5936807 (134)\ttotal: 22.2s\tremaining: 18.5s\n",
      "1095:\tlearn: 0.1085006\ttest: 0.6573291\tbest: 0.5936807 (134)\ttotal: 22.3s\tremaining: 18.4s\n",
      "1100:\tlearn: 0.1079248\ttest: 0.6583563\tbest: 0.5936807 (134)\ttotal: 22.4s\tremaining: 18.3s\n",
      "1105:\tlearn: 0.1072444\ttest: 0.6585334\tbest: 0.5936807 (134)\ttotal: 22.5s\tremaining: 18.1s\n",
      "1110:\tlearn: 0.1066968\ttest: 0.6586616\tbest: 0.5936807 (134)\ttotal: 22.6s\tremaining: 18s\n",
      "1115:\tlearn: 0.1062320\ttest: 0.6589274\tbest: 0.5936807 (134)\ttotal: 22.6s\tremaining: 17.9s\n",
      "1120:\tlearn: 0.1056664\ttest: 0.6591033\tbest: 0.5936807 (134)\ttotal: 22.8s\tremaining: 17.8s\n",
      "1125:\tlearn: 0.1052597\ttest: 0.6593053\tbest: 0.5936807 (134)\ttotal: 22.8s\tremaining: 17.7s\n",
      "1130:\tlearn: 0.1047721\ttest: 0.6599390\tbest: 0.5936807 (134)\ttotal: 23s\tremaining: 17.6s\n",
      "1135:\tlearn: 0.1041803\ttest: 0.6599281\tbest: 0.5936807 (134)\ttotal: 23s\tremaining: 17.5s\n",
      "1140:\tlearn: 0.1036477\ttest: 0.6599648\tbest: 0.5936807 (134)\ttotal: 23.1s\tremaining: 17.4s\n",
      "1145:\tlearn: 0.1031204\ttest: 0.6603163\tbest: 0.5936807 (134)\ttotal: 23.2s\tremaining: 17.3s\n",
      "1150:\tlearn: 0.1025684\ttest: 0.6613024\tbest: 0.5936807 (134)\ttotal: 23.4s\tremaining: 17.2s\n",
      "1155:\tlearn: 0.1019522\ttest: 0.6618361\tbest: 0.5936807 (134)\ttotal: 23.5s\tremaining: 17.1s\n",
      "1160:\tlearn: 0.1013686\ttest: 0.6624445\tbest: 0.5936807 (134)\ttotal: 23.5s\tremaining: 17s\n",
      "1165:\tlearn: 0.1009077\ttest: 0.6631386\tbest: 0.5936807 (134)\ttotal: 23.7s\tremaining: 16.9s\n",
      "1170:\tlearn: 0.1003613\ttest: 0.6632718\tbest: 0.5936807 (134)\ttotal: 23.8s\tremaining: 16.8s\n",
      "1175:\tlearn: 0.1000177\ttest: 0.6639533\tbest: 0.5936807 (134)\ttotal: 23.9s\tremaining: 16.7s\n",
      "1180:\tlearn: 0.0996616\ttest: 0.6643931\tbest: 0.5936807 (134)\ttotal: 24s\tremaining: 16.6s\n",
      "1185:\tlearn: 0.0990194\ttest: 0.6646686\tbest: 0.5936807 (134)\ttotal: 24.1s\tremaining: 16.5s\n",
      "1190:\tlearn: 0.0985146\ttest: 0.6652777\tbest: 0.5936807 (134)\ttotal: 24.2s\tremaining: 16.4s\n",
      "1195:\tlearn: 0.0978473\ttest: 0.6661286\tbest: 0.5936807 (134)\ttotal: 24.3s\tremaining: 16.3s\n",
      "1200:\tlearn: 0.0974585\ttest: 0.6662072\tbest: 0.5936807 (134)\ttotal: 24.4s\tremaining: 16.2s\n",
      "1205:\tlearn: 0.0968666\ttest: 0.6665849\tbest: 0.5936807 (134)\ttotal: 24.5s\tremaining: 16.1s\n",
      "1210:\tlearn: 0.0962198\ttest: 0.6668621\tbest: 0.5936807 (134)\ttotal: 24.6s\tremaining: 16s\n",
      "1215:\tlearn: 0.0955689\ttest: 0.6669635\tbest: 0.5936807 (134)\ttotal: 24.7s\tremaining: 15.9s\n",
      "1220:\tlearn: 0.0950033\ttest: 0.6675919\tbest: 0.5936807 (134)\ttotal: 24.8s\tremaining: 15.8s\n",
      "1225:\tlearn: 0.0945747\ttest: 0.6679387\tbest: 0.5936807 (134)\ttotal: 24.9s\tremaining: 15.7s\n",
      "1230:\tlearn: 0.0940973\ttest: 0.6679742\tbest: 0.5936807 (134)\ttotal: 25s\tremaining: 15.6s\n",
      "1235:\tlearn: 0.0937133\ttest: 0.6680850\tbest: 0.5936807 (134)\ttotal: 25.1s\tremaining: 15.5s\n",
      "1240:\tlearn: 0.0933578\ttest: 0.6686187\tbest: 0.5936807 (134)\ttotal: 25.2s\tremaining: 15.4s\n",
      "1245:\tlearn: 0.0928922\ttest: 0.6690156\tbest: 0.5936807 (134)\ttotal: 25.4s\tremaining: 15.3s\n",
      "1250:\tlearn: 0.0924168\ttest: 0.6696263\tbest: 0.5936807 (134)\ttotal: 25.5s\tremaining: 15.3s\n",
      "1255:\tlearn: 0.0918849\ttest: 0.6701198\tbest: 0.5936807 (134)\ttotal: 25.6s\tremaining: 15.2s\n",
      "1260:\tlearn: 0.0913485\ttest: 0.6705158\tbest: 0.5936807 (134)\ttotal: 25.7s\tremaining: 15.1s\n",
      "1265:\tlearn: 0.0908115\ttest: 0.6712088\tbest: 0.5936807 (134)\ttotal: 25.8s\tremaining: 15s\n",
      "1270:\tlearn: 0.0903829\ttest: 0.6717156\tbest: 0.5936807 (134)\ttotal: 25.9s\tremaining: 14.9s\n",
      "1275:\tlearn: 0.0899885\ttest: 0.6721207\tbest: 0.5936807 (134)\ttotal: 26s\tremaining: 14.8s\n",
      "1280:\tlearn: 0.0894903\ttest: 0.6725808\tbest: 0.5936807 (134)\ttotal: 26.1s\tremaining: 14.7s\n",
      "1285:\tlearn: 0.0891091\ttest: 0.6728548\tbest: 0.5936807 (134)\ttotal: 26.2s\tremaining: 14.6s\n",
      "1290:\tlearn: 0.0887833\ttest: 0.6731341\tbest: 0.5936807 (134)\ttotal: 26.4s\tremaining: 14.5s\n",
      "1295:\tlearn: 0.0883613\ttest: 0.6736377\tbest: 0.5936807 (134)\ttotal: 26.5s\tremaining: 14.4s\n",
      "1300:\tlearn: 0.0879013\ttest: 0.6739986\tbest: 0.5936807 (134)\ttotal: 26.6s\tremaining: 14.3s\n",
      "1305:\tlearn: 0.0873931\ttest: 0.6745075\tbest: 0.5936807 (134)\ttotal: 26.7s\tremaining: 14.2s\n",
      "1310:\tlearn: 0.0868976\ttest: 0.6750318\tbest: 0.5936807 (134)\ttotal: 26.8s\tremaining: 14.1s\n",
      "1315:\tlearn: 0.0864578\ttest: 0.6749210\tbest: 0.5936807 (134)\ttotal: 26.9s\tremaining: 14s\n",
      "1320:\tlearn: 0.0860627\ttest: 0.6755485\tbest: 0.5936807 (134)\ttotal: 27s\tremaining: 13.9s\n",
      "1325:\tlearn: 0.0856278\ttest: 0.6759793\tbest: 0.5936807 (134)\ttotal: 27.1s\tremaining: 13.8s\n",
      "1330:\tlearn: 0.0853109\ttest: 0.6763935\tbest: 0.5936807 (134)\ttotal: 27.2s\tremaining: 13.6s\n",
      "1335:\tlearn: 0.0848951\ttest: 0.6766062\tbest: 0.5936807 (134)\ttotal: 27.3s\tremaining: 13.5s\n",
      "1340:\tlearn: 0.0844733\ttest: 0.6770633\tbest: 0.5936807 (134)\ttotal: 27.4s\tremaining: 13.4s\n",
      "1345:\tlearn: 0.0841045\ttest: 0.6777811\tbest: 0.5936807 (134)\ttotal: 27.5s\tremaining: 13.3s\n",
      "1350:\tlearn: 0.0835598\ttest: 0.6781920\tbest: 0.5936807 (134)\ttotal: 27.6s\tremaining: 13.2s\n",
      "1355:\tlearn: 0.0832293\ttest: 0.6784342\tbest: 0.5936807 (134)\ttotal: 27.7s\tremaining: 13.1s\n",
      "1360:\tlearn: 0.0828606\ttest: 0.6786708\tbest: 0.5936807 (134)\ttotal: 27.8s\tremaining: 13s\n",
      "1365:\tlearn: 0.0825471\ttest: 0.6792127\tbest: 0.5936807 (134)\ttotal: 27.9s\tremaining: 12.9s\n",
      "1370:\tlearn: 0.0821639\ttest: 0.6796036\tbest: 0.5936807 (134)\ttotal: 28s\tremaining: 12.8s\n",
      "1375:\tlearn: 0.0817254\ttest: 0.6800886\tbest: 0.5936807 (134)\ttotal: 28.1s\tremaining: 12.7s\n"
     ]
    },
    {
     "name": "stdout",
     "output_type": "stream",
     "text": [
      "1380:\tlearn: 0.0811627\ttest: 0.6801485\tbest: 0.5936807 (134)\ttotal: 28.2s\tremaining: 12.6s\n",
      "1385:\tlearn: 0.0807367\ttest: 0.6804247\tbest: 0.5936807 (134)\ttotal: 28.3s\tremaining: 12.5s\n",
      "1390:\tlearn: 0.0802310\ttest: 0.6809120\tbest: 0.5936807 (134)\ttotal: 28.4s\tremaining: 12.4s\n",
      "1395:\tlearn: 0.0797466\ttest: 0.6812582\tbest: 0.5936807 (134)\ttotal: 28.5s\tremaining: 12.3s\n",
      "1400:\tlearn: 0.0794581\ttest: 0.6814504\tbest: 0.5936807 (134)\ttotal: 28.6s\tremaining: 12.2s\n",
      "1405:\tlearn: 0.0791317\ttest: 0.6819856\tbest: 0.5936807 (134)\ttotal: 28.7s\tremaining: 12.1s\n",
      "1410:\tlearn: 0.0785911\ttest: 0.6821925\tbest: 0.5936807 (134)\ttotal: 28.8s\tremaining: 12s\n",
      "1415:\tlearn: 0.0782635\ttest: 0.6827344\tbest: 0.5936807 (134)\ttotal: 28.9s\tremaining: 11.9s\n",
      "1420:\tlearn: 0.0778201\ttest: 0.6834123\tbest: 0.5936807 (134)\ttotal: 29s\tremaining: 11.8s\n",
      "1425:\tlearn: 0.0774473\ttest: 0.6840761\tbest: 0.5936807 (134)\ttotal: 29.1s\tremaining: 11.7s\n",
      "1430:\tlearn: 0.0769257\ttest: 0.6840813\tbest: 0.5936807 (134)\ttotal: 29.2s\tremaining: 11.6s\n",
      "1435:\tlearn: 0.0765875\ttest: 0.6846229\tbest: 0.5936807 (134)\ttotal: 29.3s\tremaining: 11.5s\n",
      "1440:\tlearn: 0.0762159\ttest: 0.6855792\tbest: 0.5936807 (134)\ttotal: 29.4s\tremaining: 11.4s\n",
      "1445:\tlearn: 0.0759045\ttest: 0.6860105\tbest: 0.5936807 (134)\ttotal: 29.5s\tremaining: 11.3s\n",
      "1450:\tlearn: 0.0756103\ttest: 0.6859669\tbest: 0.5936807 (134)\ttotal: 29.6s\tremaining: 11.2s\n",
      "1455:\tlearn: 0.0753892\ttest: 0.6862856\tbest: 0.5936807 (134)\ttotal: 29.7s\tremaining: 11.1s\n",
      "1460:\tlearn: 0.0750300\ttest: 0.6865680\tbest: 0.5936807 (134)\ttotal: 29.8s\tremaining: 11s\n",
      "1465:\tlearn: 0.0747070\ttest: 0.6867471\tbest: 0.5936807 (134)\ttotal: 29.9s\tremaining: 10.9s\n",
      "1470:\tlearn: 0.0743413\ttest: 0.6872842\tbest: 0.5936807 (134)\ttotal: 30s\tremaining: 10.8s\n",
      "1475:\tlearn: 0.0740829\ttest: 0.6878727\tbest: 0.5936807 (134)\ttotal: 30.1s\tremaining: 10.7s\n",
      "1480:\tlearn: 0.0736902\ttest: 0.6877529\tbest: 0.5936807 (134)\ttotal: 30.2s\tremaining: 10.6s\n",
      "1485:\tlearn: 0.0733828\ttest: 0.6879986\tbest: 0.5936807 (134)\ttotal: 30.3s\tremaining: 10.5s\n",
      "1490:\tlearn: 0.0730757\ttest: 0.6885353\tbest: 0.5936807 (134)\ttotal: 30.4s\tremaining: 10.4s\n",
      "1495:\tlearn: 0.0727368\ttest: 0.6883848\tbest: 0.5936807 (134)\ttotal: 30.5s\tremaining: 10.3s\n",
      "1500:\tlearn: 0.0723332\ttest: 0.6887069\tbest: 0.5936807 (134)\ttotal: 30.6s\tremaining: 10.2s\n",
      "1505:\tlearn: 0.0720228\ttest: 0.6891305\tbest: 0.5936807 (134)\ttotal: 30.7s\tremaining: 10.1s\n",
      "1510:\tlearn: 0.0717793\ttest: 0.6896319\tbest: 0.5936807 (134)\ttotal: 30.8s\tremaining: 9.98s\n",
      "1515:\tlearn: 0.0714740\ttest: 0.6901438\tbest: 0.5936807 (134)\ttotal: 30.9s\tremaining: 9.88s\n",
      "1520:\tlearn: 0.0711421\ttest: 0.6897728\tbest: 0.5936807 (134)\ttotal: 31.1s\tremaining: 9.78s\n",
      "1525:\tlearn: 0.0707895\ttest: 0.6898673\tbest: 0.5936807 (134)\ttotal: 31.1s\tremaining: 9.68s\n",
      "1530:\tlearn: 0.0704653\ttest: 0.6905056\tbest: 0.5936807 (134)\ttotal: 31.3s\tremaining: 9.57s\n",
      "1535:\tlearn: 0.0701679\ttest: 0.6908406\tbest: 0.5936807 (134)\ttotal: 31.4s\tremaining: 9.47s\n",
      "1540:\tlearn: 0.0698684\ttest: 0.6915806\tbest: 0.5936807 (134)\ttotal: 31.5s\tremaining: 9.37s\n",
      "1545:\tlearn: 0.0695789\ttest: 0.6920162\tbest: 0.5936807 (134)\ttotal: 31.6s\tremaining: 9.27s\n",
      "1550:\tlearn: 0.0692950\ttest: 0.6926045\tbest: 0.5936807 (134)\ttotal: 31.7s\tremaining: 9.17s\n",
      "1555:\tlearn: 0.0690193\ttest: 0.6932372\tbest: 0.5936807 (134)\ttotal: 31.8s\tremaining: 9.07s\n",
      "1560:\tlearn: 0.0687361\ttest: 0.6938496\tbest: 0.5936807 (134)\ttotal: 31.9s\tremaining: 8.96s\n",
      "1565:\tlearn: 0.0683998\ttest: 0.6942216\tbest: 0.5936807 (134)\ttotal: 32s\tremaining: 8.86s\n",
      "1570:\tlearn: 0.0680831\ttest: 0.6945744\tbest: 0.5936807 (134)\ttotal: 32.1s\tremaining: 8.76s\n",
      "1575:\tlearn: 0.0676872\ttest: 0.6953181\tbest: 0.5936807 (134)\ttotal: 32.2s\tremaining: 8.66s\n",
      "1580:\tlearn: 0.0673737\ttest: 0.6954835\tbest: 0.5936807 (134)\ttotal: 32.3s\tremaining: 8.56s\n",
      "1585:\tlearn: 0.0670041\ttest: 0.6960610\tbest: 0.5936807 (134)\ttotal: 32.4s\tremaining: 8.46s\n",
      "1590:\tlearn: 0.0667372\ttest: 0.6965875\tbest: 0.5936807 (134)\ttotal: 32.5s\tremaining: 8.36s\n",
      "1595:\tlearn: 0.0665167\ttest: 0.6968644\tbest: 0.5936807 (134)\ttotal: 32.6s\tremaining: 8.25s\n",
      "1600:\tlearn: 0.0661727\ttest: 0.6970280\tbest: 0.5936807 (134)\ttotal: 32.7s\tremaining: 8.15s\n",
      "1605:\tlearn: 0.0659600\ttest: 0.6969762\tbest: 0.5936807 (134)\ttotal: 32.8s\tremaining: 8.05s\n",
      "1610:\tlearn: 0.0657390\ttest: 0.6972855\tbest: 0.5936807 (134)\ttotal: 32.9s\tremaining: 7.95s\n",
      "1615:\tlearn: 0.0655690\ttest: 0.6977412\tbest: 0.5936807 (134)\ttotal: 33s\tremaining: 7.85s\n",
      "1620:\tlearn: 0.0652768\ttest: 0.6979975\tbest: 0.5936807 (134)\ttotal: 33.2s\tremaining: 7.75s\n",
      "1625:\tlearn: 0.0649503\ttest: 0.6984324\tbest: 0.5936807 (134)\ttotal: 33.3s\tremaining: 7.65s\n",
      "1630:\tlearn: 0.0647360\ttest: 0.6986878\tbest: 0.5936807 (134)\ttotal: 33.4s\tremaining: 7.55s\n",
      "1635:\tlearn: 0.0644053\ttest: 0.6991605\tbest: 0.5936807 (134)\ttotal: 33.5s\tremaining: 7.45s\n",
      "1640:\tlearn: 0.0641752\ttest: 0.6995192\tbest: 0.5936807 (134)\ttotal: 33.6s\tremaining: 7.36s\n",
      "1645:\tlearn: 0.0639209\ttest: 0.6998149\tbest: 0.5936807 (134)\ttotal: 33.7s\tremaining: 7.25s\n",
      "1650:\tlearn: 0.0637162\ttest: 0.7000714\tbest: 0.5936807 (134)\ttotal: 33.8s\tremaining: 7.15s\n",
      "1655:\tlearn: 0.0634520\ttest: 0.7001683\tbest: 0.5936807 (134)\ttotal: 34s\tremaining: 7.05s\n",
      "1660:\tlearn: 0.0631781\ttest: 0.7006180\tbest: 0.5936807 (134)\ttotal: 34.1s\tremaining: 6.96s\n",
      "1665:\tlearn: 0.0629768\ttest: 0.7011040\tbest: 0.5936807 (134)\ttotal: 34.2s\tremaining: 6.85s\n",
      "1670:\tlearn: 0.0627223\ttest: 0.7012518\tbest: 0.5936807 (134)\ttotal: 34.3s\tremaining: 6.75s\n",
      "1675:\tlearn: 0.0624136\ttest: 0.7015560\tbest: 0.5936807 (134)\ttotal: 34.4s\tremaining: 6.65s\n",
      "1680:\tlearn: 0.0621300\ttest: 0.7016680\tbest: 0.5936807 (134)\ttotal: 34.5s\tremaining: 6.55s\n",
      "1685:\tlearn: 0.0618478\ttest: 0.7018962\tbest: 0.5936807 (134)\ttotal: 34.6s\tremaining: 6.45s\n",
      "1690:\tlearn: 0.0615945\ttest: 0.7018428\tbest: 0.5936807 (134)\ttotal: 34.7s\tremaining: 6.35s\n",
      "1695:\tlearn: 0.0614203\ttest: 0.7020459\tbest: 0.5936807 (134)\ttotal: 34.8s\tremaining: 6.25s\n",
      "1700:\tlearn: 0.0611399\ttest: 0.7023015\tbest: 0.5936807 (134)\ttotal: 34.9s\tremaining: 6.14s\n",
      "1705:\tlearn: 0.0609055\ttest: 0.7026743\tbest: 0.5936807 (134)\ttotal: 35s\tremaining: 6.04s\n",
      "1710:\tlearn: 0.0607170\ttest: 0.7030539\tbest: 0.5936807 (134)\ttotal: 35.1s\tremaining: 5.94s\n",
      "1715:\tlearn: 0.0604345\ttest: 0.7032249\tbest: 0.5936807 (134)\ttotal: 35.3s\tremaining: 5.83s\n",
      "1720:\tlearn: 0.0602425\ttest: 0.7034454\tbest: 0.5936807 (134)\ttotal: 35.4s\tremaining: 5.73s\n",
      "1725:\tlearn: 0.0599023\ttest: 0.7039715\tbest: 0.5936807 (134)\ttotal: 35.5s\tremaining: 5.63s\n",
      "1730:\tlearn: 0.0596490\ttest: 0.7042968\tbest: 0.5936807 (134)\ttotal: 35.6s\tremaining: 5.53s\n",
      "1735:\tlearn: 0.0594201\ttest: 0.7044125\tbest: 0.5936807 (134)\ttotal: 35.7s\tremaining: 5.42s\n",
      "1740:\tlearn: 0.0592598\ttest: 0.7046181\tbest: 0.5936807 (134)\ttotal: 35.8s\tremaining: 5.32s\n",
      "1745:\tlearn: 0.0589647\ttest: 0.7045899\tbest: 0.5936807 (134)\ttotal: 35.9s\tremaining: 5.22s\n",
      "1750:\tlearn: 0.0587406\ttest: 0.7048938\tbest: 0.5936807 (134)\ttotal: 36s\tremaining: 5.12s\n",
      "1755:\tlearn: 0.0585620\ttest: 0.7054874\tbest: 0.5936807 (134)\ttotal: 36.1s\tremaining: 5.01s\n",
      "1760:\tlearn: 0.0583387\ttest: 0.7058607\tbest: 0.5936807 (134)\ttotal: 36.2s\tremaining: 4.91s\n",
      "1765:\tlearn: 0.0581093\ttest: 0.7063017\tbest: 0.5936807 (134)\ttotal: 36.3s\tremaining: 4.81s\n",
      "1770:\tlearn: 0.0578560\ttest: 0.7069433\tbest: 0.5936807 (134)\ttotal: 36.4s\tremaining: 4.7s\n",
      "1775:\tlearn: 0.0576751\ttest: 0.7070415\tbest: 0.5936807 (134)\ttotal: 36.5s\tremaining: 4.6s\n",
      "1780:\tlearn: 0.0574581\ttest: 0.7072043\tbest: 0.5936807 (134)\ttotal: 36.6s\tremaining: 4.5s\n",
      "1785:\tlearn: 0.0572370\ttest: 0.7073345\tbest: 0.5936807 (134)\ttotal: 36.7s\tremaining: 4.39s\n",
      "1790:\tlearn: 0.0569453\ttest: 0.7078677\tbest: 0.5936807 (134)\ttotal: 36.8s\tremaining: 4.29s\n",
      "1795:\tlearn: 0.0567337\ttest: 0.7079217\tbest: 0.5936807 (134)\ttotal: 36.8s\tremaining: 4.18s\n",
      "1800:\tlearn: 0.0564349\ttest: 0.7084007\tbest: 0.5936807 (134)\ttotal: 36.9s\tremaining: 4.08s\n",
      "1805:\tlearn: 0.0561744\ttest: 0.7089221\tbest: 0.5936807 (134)\ttotal: 37s\tremaining: 3.97s\n",
      "1810:\tlearn: 0.0560171\ttest: 0.7094078\tbest: 0.5936807 (134)\ttotal: 37s\tremaining: 3.87s\n",
      "1815:\tlearn: 0.0557976\ttest: 0.7097173\tbest: 0.5936807 (134)\ttotal: 37.1s\tremaining: 3.76s\n",
      "1820:\tlearn: 0.0556140\ttest: 0.7100978\tbest: 0.5936807 (134)\ttotal: 37.2s\tremaining: 3.65s\n",
      "1825:\tlearn: 0.0553902\ttest: 0.7101067\tbest: 0.5936807 (134)\ttotal: 37.3s\tremaining: 3.55s\n",
      "1830:\tlearn: 0.0551202\ttest: 0.7105934\tbest: 0.5936807 (134)\ttotal: 37.3s\tremaining: 3.45s\n",
      "1835:\tlearn: 0.0548945\ttest: 0.7111915\tbest: 0.5936807 (134)\ttotal: 37.4s\tremaining: 3.34s\n"
     ]
    },
    {
     "name": "stdout",
     "output_type": "stream",
     "text": [
      "1840:\tlearn: 0.0547632\ttest: 0.7117294\tbest: 0.5936807 (134)\ttotal: 37.5s\tremaining: 3.24s\n",
      "1845:\tlearn: 0.0544211\ttest: 0.7123046\tbest: 0.5936807 (134)\ttotal: 37.6s\tremaining: 3.13s\n",
      "1850:\tlearn: 0.0542507\ttest: 0.7124804\tbest: 0.5936807 (134)\ttotal: 37.6s\tremaining: 3.03s\n",
      "1855:\tlearn: 0.0540290\ttest: 0.7132093\tbest: 0.5936807 (134)\ttotal: 37.7s\tremaining: 2.92s\n",
      "1860:\tlearn: 0.0537621\ttest: 0.7136754\tbest: 0.5936807 (134)\ttotal: 37.8s\tremaining: 2.82s\n",
      "1865:\tlearn: 0.0535569\ttest: 0.7136833\tbest: 0.5936807 (134)\ttotal: 37.9s\tremaining: 2.72s\n",
      "1870:\tlearn: 0.0534490\ttest: 0.7139254\tbest: 0.5936807 (134)\ttotal: 37.9s\tremaining: 2.61s\n",
      "1875:\tlearn: 0.0532312\ttest: 0.7142385\tbest: 0.5936807 (134)\ttotal: 38s\tremaining: 2.51s\n",
      "1880:\tlearn: 0.0529844\ttest: 0.7140763\tbest: 0.5936807 (134)\ttotal: 38.1s\tremaining: 2.41s\n",
      "1885:\tlearn: 0.0527197\ttest: 0.7148375\tbest: 0.5936807 (134)\ttotal: 38.1s\tremaining: 2.31s\n",
      "1890:\tlearn: 0.0525502\ttest: 0.7152087\tbest: 0.5936807 (134)\ttotal: 38.2s\tremaining: 2.2s\n",
      "1895:\tlearn: 0.0523079\ttest: 0.7153901\tbest: 0.5936807 (134)\ttotal: 38.3s\tremaining: 2.1s\n",
      "1900:\tlearn: 0.0520933\ttest: 0.7157465\tbest: 0.5936807 (134)\ttotal: 38.4s\tremaining: 2s\n",
      "1905:\tlearn: 0.0518698\ttest: 0.7160865\tbest: 0.5936807 (134)\ttotal: 38.4s\tremaining: 1.9s\n",
      "1910:\tlearn: 0.0516009\ttest: 0.7162497\tbest: 0.5936807 (134)\ttotal: 38.5s\tremaining: 1.79s\n",
      "1915:\tlearn: 0.0514146\ttest: 0.7165672\tbest: 0.5936807 (134)\ttotal: 38.6s\tremaining: 1.69s\n",
      "1920:\tlearn: 0.0512358\ttest: 0.7169386\tbest: 0.5936807 (134)\ttotal: 38.6s\tremaining: 1.59s\n",
      "1925:\tlearn: 0.0510245\ttest: 0.7173689\tbest: 0.5936807 (134)\ttotal: 38.7s\tremaining: 1.49s\n",
      "1930:\tlearn: 0.0508734\ttest: 0.7179126\tbest: 0.5936807 (134)\ttotal: 38.8s\tremaining: 1.39s\n",
      "1935:\tlearn: 0.0507241\ttest: 0.7181056\tbest: 0.5936807 (134)\ttotal: 38.9s\tremaining: 1.28s\n",
      "1940:\tlearn: 0.0505143\ttest: 0.7181830\tbest: 0.5936807 (134)\ttotal: 38.9s\tremaining: 1.18s\n",
      "1945:\tlearn: 0.0503615\ttest: 0.7186745\tbest: 0.5936807 (134)\ttotal: 39s\tremaining: 1.08s\n",
      "1950:\tlearn: 0.0501505\ttest: 0.7191957\tbest: 0.5936807 (134)\ttotal: 39.1s\tremaining: 981ms\n",
      "1955:\tlearn: 0.0499734\ttest: 0.7196470\tbest: 0.5936807 (134)\ttotal: 39.1s\tremaining: 880ms\n",
      "1960:\tlearn: 0.0498472\ttest: 0.7196237\tbest: 0.5936807 (134)\ttotal: 39.2s\tremaining: 780ms\n",
      "1965:\tlearn: 0.0496851\ttest: 0.7197400\tbest: 0.5936807 (134)\ttotal: 39.3s\tremaining: 679ms\n",
      "1970:\tlearn: 0.0495122\ttest: 0.7199137\tbest: 0.5936807 (134)\ttotal: 39.3s\tremaining: 579ms\n",
      "1975:\tlearn: 0.0493738\ttest: 0.7200038\tbest: 0.5936807 (134)\ttotal: 39.5s\tremaining: 479ms\n",
      "1980:\tlearn: 0.0491984\ttest: 0.7203248\tbest: 0.5936807 (134)\ttotal: 39.6s\tremaining: 379ms\n",
      "1985:\tlearn: 0.0490353\ttest: 0.7203837\tbest: 0.5936807 (134)\ttotal: 39.7s\tremaining: 280ms\n",
      "1990:\tlearn: 0.0488942\ttest: 0.7206421\tbest: 0.5936807 (134)\ttotal: 39.8s\tremaining: 180ms\n",
      "1995:\tlearn: 0.0487275\ttest: 0.7208844\tbest: 0.5936807 (134)\ttotal: 39.9s\tremaining: 80ms\n",
      "1999:\tlearn: 0.0485194\ttest: 0.7208907\tbest: 0.5936807 (134)\ttotal: 40s\tremaining: 0us\n",
      "\n",
      "bestTest = 0.5936807209\n",
      "bestIteration = 134\n",
      "\n",
      "Shrink model to first 135 iterations.\n"
     ]
    },
    {
     "data": {
      "text/plain": [
       "<catboost.core.CatBoostClassifier at 0x26392dc66d0>"
      ]
     },
     "execution_count": 16,
     "metadata": {},
     "output_type": "execute_result"
    }
   ],
   "source": [
    "clf = CatBoostClassifier(\n",
    "    iterations=2000,\n",
    "    verbose=5,\n",
    ")\n",
    "\n",
    "clf.fit(\n",
    "    X_train, y_train,\n",
    "    #cat_features=cat_features,\n",
    "    eval_set=(X_test, y_test),\n",
    ")"
   ]
  },
  {
   "cell_type": "code",
   "execution_count": 17,
   "id": "baa05edf",
   "metadata": {},
   "outputs": [
    {
     "name": "stdout",
     "output_type": "stream",
     "text": [
      "[[0.04041546 0.30656843 0.61539489 ... 0.00799049 0.01259093 0.00707655]\n",
      " [0.00296194 0.00325153 0.00316661 ... 0.11726308 0.01587765 0.0030996 ]\n",
      " [0.0066326  0.03850641 0.94875791 ... 0.00163034 0.00124207 0.00099492]\n",
      " ...\n",
      " [0.00284055 0.0019562  0.00328261 ... 0.29831759 0.04936037 0.00439499]\n",
      " [0.00213489 0.00257506 0.00224481 ... 0.21454028 0.04019229 0.00244754]\n",
      " [0.00140928 0.00144419 0.00272376 ... 0.36997675 0.09841645 0.00302562]]\n"
     ]
    }
   ],
   "source": [
    "print(clf.predict_proba(X_test))"
   ]
  },
  {
   "cell_type": "code",
   "execution_count": 18,
   "id": "a96daa83",
   "metadata": {},
   "outputs": [
    {
     "data": {
      "application/vnd.jupyter.widget-view+json": {
       "model_id": "7d04d1407d1849be8429e67181310f60",
       "version_major": 2,
       "version_minor": 0
      },
      "text/plain": [
       "MetricVisualizer(layout=Layout(align_self='stretch', height='500px'))"
      ]
     },
     "metadata": {},
     "output_type": "display_data"
    },
    {
     "data": {
      "text/plain": [
       "<catboost.core.CatBoostClassifier at 0x26392b06a90>"
      ]
     },
     "execution_count": 18,
     "metadata": {},
     "output_type": "execute_result"
    }
   ],
   "source": [
    "clf = CatBoostClassifier(\n",
    "    iterations=153,\n",
    "    random_seed=42,\n",
    "    learning_rate=0.1,\n",
    "    custom_loss=['AUC', 'Accuracy']\n",
    ")\n",
    "\n",
    "clf.fit(\n",
    "    X_train, y_train,\n",
    "    #cat_features=cat_features,\n",
    "    eval_set=(X_test, y_test),\n",
    "    verbose=False,\n",
    "    plot=True\n",
    ")"
   ]
  },
  {
   "cell_type": "code",
   "execution_count": 19,
   "id": "f172ddaa",
   "metadata": {},
   "outputs": [
    {
     "name": "stdout",
     "output_type": "stream",
     "text": [
      "0.711175287107817\n",
      "0.7616645649432535\n"
     ]
    }
   ],
   "source": [
    "pred_cat = clf.predict(X_test)\n",
    "print(f1_score(y_test, pred_cat, average='weighted'))\n",
    "print(accuracy_score(y_test, pred_cat))"
   ]
  },
  {
   "cell_type": "markdown",
   "id": "edf4e936",
   "metadata": {},
   "source": [
    "## Stacking"
   ]
  },
  {
   "cell_type": "markdown",
   "id": "1dd231e4",
   "metadata": {},
   "source": [
    "https://scikit-learn.org/stable/modules/generated/sklearn.ensemble.StackingClassifier.html"
   ]
  },
  {
   "cell_type": "code",
   "execution_count": 20,
   "id": "977f24af",
   "metadata": {},
   "outputs": [
    {
     "data": {
      "text/plain": [
       "0.7629255989911727"
      ]
     },
     "execution_count": 20,
     "metadata": {},
     "output_type": "execute_result"
    }
   ],
   "source": [
    "from sklearn.ensemble import RandomForestClassifier\n",
    "from sklearn.svm import LinearSVC\n",
    "from sklearn.linear_model import LogisticRegression\n",
    "from sklearn.preprocessing import StandardScaler\n",
    "from sklearn.pipeline import make_pipeline\n",
    "from sklearn.ensemble import StackingClassifier\n",
    "import warnings\n",
    "warnings.filterwarnings('ignore')\n",
    "\n",
    "estimators = [('rf', RandomForestClassifier(n_estimators=10, random_state=42)),\n",
    "     ('svr', make_pipeline(StandardScaler(), LinearSVC(random_state=42)))]\n",
    "\n",
    "clf = StackingClassifier(estimators=estimators, final_estimator=LogisticRegression())\n",
    "\n",
    "\n",
    "clf.fit(X_train, y_train).score(X_test, y_test)\n"
   ]
  },
  {
   "cell_type": "code",
   "execution_count": 21,
   "id": "05250cb5",
   "metadata": {},
   "outputs": [
    {
     "name": "stdout",
     "output_type": "stream",
     "text": [
      "0.7100565300381686\n",
      "0.7629255989911727\n"
     ]
    }
   ],
   "source": [
    "y_pred=clf.predict(X_test)\n",
    "print(f1_score(y_test, y_pred, average='weighted'))\n",
    "print(accuracy_score(y_test, y_pred))"
   ]
  },
  {
   "cell_type": "markdown",
   "id": "cd45e0f2",
   "metadata": {},
   "source": [
    "### Stacking Собственная реализация"
   ]
  },
  {
   "cell_type": "code",
   "execution_count": 22,
   "id": "3685ba67",
   "metadata": {},
   "outputs": [],
   "source": [
    "RFC = RandomForestClassifier()\n",
    "RFC.fit (StandardScaler().fit_transform(X_train), y_train)\n",
    "predict_RFC = RFC.predict (StandardScaler().fit_transform(X_test))\n",
    "\n",
    "LR = LogisticRegression(max_iter=1000)\n",
    "LR.fit (StandardScaler().fit_transform(X_train), y_train)\n",
    "predict_LR = LR.predict (StandardScaler().fit_transform(X_test))\n",
    "\n",
    "LSVC = LinearSVC()\n",
    "LSVC.fit (StandardScaler().fit_transform(X_train), y_train)\n",
    "predict_LSVC = LSVC.predict (StandardScaler().fit_transform(X_test))"
   ]
  },
  {
   "cell_type": "code",
   "execution_count": 23,
   "id": "1540f84b",
   "metadata": {},
   "outputs": [
    {
     "name": "stdout",
     "output_type": "stream",
     "text": [
      "0.6805237331733159\n",
      "0.7490542244640606\n"
     ]
    }
   ],
   "source": [
    "predict_stacking = np.stack ((predict_RFC, predict_LR, predict_LSVC), axis = 1)\n",
    "LR. fit (predict_stacking, y_test)\n",
    "y_pred = LR.predict(predict_stacking)\n",
    "print(f1_score(y_test, y_pred, average='weighted'))\n",
    "print(accuracy_score(y_test, y_pred))"
   ]
  },
  {
   "cell_type": "markdown",
   "id": "d3cdcb74",
   "metadata": {},
   "source": [
    "## Bagging"
   ]
  },
  {
   "cell_type": "markdown",
   "id": "93197631",
   "metadata": {},
   "source": [
    "https://scikit-learn.org/stable/modules/generated/sklearn.ensemble.BaggingClassifier.html"
   ]
  },
  {
   "cell_type": "code",
   "execution_count": 24,
   "id": "9d4da099",
   "metadata": {},
   "outputs": [
    {
     "data": {
      "text/plain": [
       "0.43253467843631777"
      ]
     },
     "execution_count": 24,
     "metadata": {},
     "output_type": "execute_result"
    }
   ],
   "source": [
    "from sklearn.svm import SVC\n",
    "from sklearn.ensemble import BaggingClassifier\n",
    "\n",
    "clf = BaggingClassifier(SVC(), n_estimators=10, random_state=0).fit(X_train, y_train)\n",
    "\n",
    "clf.fit(X_train, y_train).score(X_test, y_test)\n"
   ]
  },
  {
   "cell_type": "code",
   "execution_count": 25,
   "id": "be7aa09f",
   "metadata": {},
   "outputs": [
    {
     "name": "stdout",
     "output_type": "stream",
     "text": [
      "0.31567806654087927\n",
      "0.43253467843631777\n"
     ]
    }
   ],
   "source": [
    "y_pred=clf.predict(X_test)\n",
    "print(f1_score(y_test, y_pred, average='weighted'))\n",
    "print(accuracy_score(y_test, y_pred))"
   ]
  },
  {
   "cell_type": "markdown",
   "id": "4e6f1586",
   "metadata": {},
   "source": [
    "## Boosting"
   ]
  },
  {
   "cell_type": "markdown",
   "id": "10f0159d",
   "metadata": {},
   "source": [
    "#### GradientBoostingClassifier\n",
    "https://scikit-learn.org/stable/modules/generated/sklearn.ensemble.GradientBoostingClassifier.html"
   ]
  },
  {
   "cell_type": "code",
   "execution_count": 51,
   "id": "e7aab0b0",
   "metadata": {},
   "outputs": [],
   "source": [
    " from sklearn.ensemble import GradientBoostingClassifier"
   ]
  },
  {
   "cell_type": "code",
   "execution_count": 52,
   "id": "bca2eea6",
   "metadata": {},
   "outputs": [
    {
     "data": {
      "text/plain": [
       "0.7402269861286255"
      ]
     },
     "execution_count": 52,
     "metadata": {},
     "output_type": "execute_result"
    }
   ],
   "source": [
    "clf = GradientBoostingClassifier(n_estimators=100, learning_rate=1.0,\n",
    "     max_depth=1, random_state=0).fit(X_train, y_train)\n",
    "clf.score(X_test, y_test)"
   ]
  },
  {
   "cell_type": "code",
   "execution_count": 53,
   "id": "efac82c4",
   "metadata": {},
   "outputs": [
    {
     "name": "stdout",
     "output_type": "stream",
     "text": [
      "0.6949668894947122\n",
      "0.7402269861286255\n"
     ]
    }
   ],
   "source": [
    "y_pred=clf.predict(X_test)\n",
    "print(f1_score(y_test, y_pred, average='weighted'))\n",
    "print(accuracy_score(y_test, y_pred))"
   ]
  },
  {
   "cell_type": "markdown",
   "id": "fbd2114c",
   "metadata": {},
   "source": [
    "#### AdaBoostClassifier\n",
    "https://scikit-learn.org/stable/modules/generated/sklearn.ensemble.AdaBoostClassifier.html"
   ]
  },
  {
   "cell_type": "code",
   "execution_count": 54,
   "id": "a79eb0a3",
   "metadata": {},
   "outputs": [
    {
     "data": {
      "text/plain": [
       "0.7364438839848676"
      ]
     },
     "execution_count": 54,
     "metadata": {},
     "output_type": "execute_result"
    }
   ],
   "source": [
    "from sklearn.ensemble import AdaBoostClassifier\n",
    "\n",
    "clf = AdaBoostClassifier (n_estimators=100, random_state=0)\n",
    "\n",
    "clf.fit(X_train, y_train)\n",
    "clf.score(X_test, y_test)\n"
   ]
  },
  {
   "cell_type": "code",
   "execution_count": 55,
   "id": "027af388",
   "metadata": {},
   "outputs": [
    {
     "name": "stdout",
     "output_type": "stream",
     "text": [
      "0.6665274957062196\n",
      "0.7364438839848676\n"
     ]
    }
   ],
   "source": [
    "y_pred=clf.predict(X_test)\n",
    "print(f1_score(y_test, y_pred, average='weighted'))\n",
    "print(accuracy_score(y_test, y_pred))"
   ]
  },
  {
   "cell_type": "code",
   "execution_count": null,
   "id": "04be5cbc",
   "metadata": {},
   "outputs": [],
   "source": []
  },
  {
   "cell_type": "markdown",
   "id": "6a21b5a9",
   "metadata": {},
   "source": [
    "## Выводы\n",
    "### CatBoostClassifier¶ \n",
    "* f1_score 0.711175287107817\n",
    "* accuracy_score  0.7616645649432535\n",
    "### Stacking¶\n",
    "* f1_score 0.7100565300381686 \n",
    "* accuracy_score 0.7629255989911727\n",
    "### Stacking¶ собственная реализация\n",
    "* f1_score 0.6805237331733159 \n",
    "* accuracy_score 0.7490542244640606\n",
    "### Bagging\n",
    "* f1_score 0.31567806654087927 \n",
    "* accuracy_score 0.43253467843631777\n",
    "### GradientBoostingClassifier¶\n",
    "* f1_score 0.6949668894947122 \n",
    "* accuracy_score 0.7402269861286255\n",
    "### AdaBoostClassifier\n",
    "* f1_score 0.6665274957062196\n",
    "* accuracy_score  0.7364438839848676"
   ]
  },
  {
   "cell_type": "code",
   "execution_count": null,
   "id": "41b29c6e",
   "metadata": {},
   "outputs": [],
   "source": []
  },
  {
   "cell_type": "markdown",
   "id": "0dda0b06",
   "metadata": {},
   "source": [
    "### Bagging Собственная реализация "
   ]
  },
  {
   "cell_type": "code",
   "execution_count": 50,
   "id": "15d7273b",
   "metadata": {},
   "outputs": [
    {
     "ename": "KeyError",
     "evalue": "44",
     "output_type": "error",
     "traceback": [
      "\u001b[1;31m---------------------------------------------------------------------------\u001b[0m",
      "\u001b[1;31mKeyError\u001b[0m                                  Traceback (most recent call last)",
      "File \u001b[1;32m~\\anaconda3\\lib\\site-packages\\pandas\\core\\indexes\\base.py:3621\u001b[0m, in \u001b[0;36mIndex.get_loc\u001b[1;34m(self, key, method, tolerance)\u001b[0m\n\u001b[0;32m   3620\u001b[0m \u001b[38;5;28;01mtry\u001b[39;00m:\n\u001b[1;32m-> 3621\u001b[0m     \u001b[38;5;28;01mreturn\u001b[39;00m \u001b[38;5;28;43mself\u001b[39;49m\u001b[38;5;241;43m.\u001b[39;49m\u001b[43m_engine\u001b[49m\u001b[38;5;241;43m.\u001b[39;49m\u001b[43mget_loc\u001b[49m\u001b[43m(\u001b[49m\u001b[43mcasted_key\u001b[49m\u001b[43m)\u001b[49m\n\u001b[0;32m   3622\u001b[0m \u001b[38;5;28;01mexcept\u001b[39;00m \u001b[38;5;167;01mKeyError\u001b[39;00m \u001b[38;5;28;01mas\u001b[39;00m err:\n",
      "File \u001b[1;32m~\\anaconda3\\lib\\site-packages\\pandas\\_libs\\index.pyx:136\u001b[0m, in \u001b[0;36mpandas._libs.index.IndexEngine.get_loc\u001b[1;34m()\u001b[0m\n",
      "File \u001b[1;32m~\\anaconda3\\lib\\site-packages\\pandas\\_libs\\index.pyx:163\u001b[0m, in \u001b[0;36mpandas._libs.index.IndexEngine.get_loc\u001b[1;34m()\u001b[0m\n",
      "File \u001b[1;32mpandas\\_libs\\hashtable_class_helper.pxi:5198\u001b[0m, in \u001b[0;36mpandas._libs.hashtable.PyObjectHashTable.get_item\u001b[1;34m()\u001b[0m\n",
      "File \u001b[1;32mpandas\\_libs\\hashtable_class_helper.pxi:5206\u001b[0m, in \u001b[0;36mpandas._libs.hashtable.PyObjectHashTable.get_item\u001b[1;34m()\u001b[0m\n",
      "\u001b[1;31mKeyError\u001b[0m: 44",
      "\nThe above exception was the direct cause of the following exception:\n",
      "\u001b[1;31mKeyError\u001b[0m                                  Traceback (most recent call last)",
      "Input \u001b[1;32mIn [50]\u001b[0m, in \u001b[0;36m<cell line: 5>\u001b[1;34m()\u001b[0m\n\u001b[0;32m      7\u001b[0m N \u001b[38;5;241m=\u001b[39m \u001b[38;5;28mint\u001b[39m(k\u001b[38;5;241m*\u001b[39m\u001b[38;5;28mlen\u001b[39m(X_train))\n\u001b[0;32m      8\u001b[0m idx \u001b[38;5;241m=\u001b[39m np\u001b[38;5;241m.\u001b[39mrandom\u001b[38;5;241m.\u001b[39mrandint(\u001b[38;5;241m0\u001b[39m, N) \n\u001b[1;32m---> 11\u001b[0m X_bag \u001b[38;5;241m=\u001b[39m \u001b[43mX_train\u001b[49m\u001b[43m[\u001b[49m\u001b[43midx\u001b[49m\u001b[43m]\u001b[49m\n\u001b[0;32m     12\u001b[0m y_bag \u001b[38;5;241m=\u001b[39m y_train[idx]\n\u001b[0;32m     14\u001b[0m RFC\u001b[38;5;241m.\u001b[39mfit(X_bag, y_bag)\n",
      "File \u001b[1;32m~\\anaconda3\\lib\\site-packages\\pandas\\core\\frame.py:3505\u001b[0m, in \u001b[0;36mDataFrame.__getitem__\u001b[1;34m(self, key)\u001b[0m\n\u001b[0;32m   3503\u001b[0m \u001b[38;5;28;01mif\u001b[39;00m \u001b[38;5;28mself\u001b[39m\u001b[38;5;241m.\u001b[39mcolumns\u001b[38;5;241m.\u001b[39mnlevels \u001b[38;5;241m>\u001b[39m \u001b[38;5;241m1\u001b[39m:\n\u001b[0;32m   3504\u001b[0m     \u001b[38;5;28;01mreturn\u001b[39;00m \u001b[38;5;28mself\u001b[39m\u001b[38;5;241m.\u001b[39m_getitem_multilevel(key)\n\u001b[1;32m-> 3505\u001b[0m indexer \u001b[38;5;241m=\u001b[39m \u001b[38;5;28;43mself\u001b[39;49m\u001b[38;5;241;43m.\u001b[39;49m\u001b[43mcolumns\u001b[49m\u001b[38;5;241;43m.\u001b[39;49m\u001b[43mget_loc\u001b[49m\u001b[43m(\u001b[49m\u001b[43mkey\u001b[49m\u001b[43m)\u001b[49m\n\u001b[0;32m   3506\u001b[0m \u001b[38;5;28;01mif\u001b[39;00m is_integer(indexer):\n\u001b[0;32m   3507\u001b[0m     indexer \u001b[38;5;241m=\u001b[39m [indexer]\n",
      "File \u001b[1;32m~\\anaconda3\\lib\\site-packages\\pandas\\core\\indexes\\base.py:3623\u001b[0m, in \u001b[0;36mIndex.get_loc\u001b[1;34m(self, key, method, tolerance)\u001b[0m\n\u001b[0;32m   3621\u001b[0m     \u001b[38;5;28;01mreturn\u001b[39;00m \u001b[38;5;28mself\u001b[39m\u001b[38;5;241m.\u001b[39m_engine\u001b[38;5;241m.\u001b[39mget_loc(casted_key)\n\u001b[0;32m   3622\u001b[0m \u001b[38;5;28;01mexcept\u001b[39;00m \u001b[38;5;167;01mKeyError\u001b[39;00m \u001b[38;5;28;01mas\u001b[39;00m err:\n\u001b[1;32m-> 3623\u001b[0m     \u001b[38;5;28;01mraise\u001b[39;00m \u001b[38;5;167;01mKeyError\u001b[39;00m(key) \u001b[38;5;28;01mfrom\u001b[39;00m \u001b[38;5;21;01merr\u001b[39;00m\n\u001b[0;32m   3624\u001b[0m \u001b[38;5;28;01mexcept\u001b[39;00m \u001b[38;5;167;01mTypeError\u001b[39;00m:\n\u001b[0;32m   3625\u001b[0m     \u001b[38;5;66;03m# If we have a listlike key, _check_indexing_error will raise\u001b[39;00m\n\u001b[0;32m   3626\u001b[0m     \u001b[38;5;66;03m#  InvalidIndexError. Otherwise we fall through and re-raise\u001b[39;00m\n\u001b[0;32m   3627\u001b[0m     \u001b[38;5;66;03m#  the TypeError.\u001b[39;00m\n\u001b[0;32m   3628\u001b[0m     \u001b[38;5;28mself\u001b[39m\u001b[38;5;241m.\u001b[39m_check_indexing_error(key)\n",
      "\u001b[1;31mKeyError\u001b[0m: 44"
     ]
    }
   ],
   "source": [
    "n = 10\n",
    "k = 1 / n\n",
    "models = []\n",
    "\n",
    "for i in range(n):\n",
    "    RFC = RandomForestClassifier(n_estimators=800, max_depth=20,random_state=42, n_jobs=-1)\n",
    "    N = int(k*len(X_train))\n",
    "    idx = np.random.randint(0, N) \n",
    "    \n",
    "    \n",
    "    X_bag = X_train[idx]\n",
    "    y_bag = y_train[idx]\n",
    "    \n",
    "    RFC.fit(X_bag, y_bag)\n",
    "    models.append(RFC)\n",
    "\n",
    "for model in models:\n",
    "    predictions = model.predict(X_test)\n",
    "    print(f1_score(y_test, predictions, average='weighted'))\n",
    "    print(accuracy_score(y_test, predictions))\n"
   ]
  },
  {
   "cell_type": "code",
   "execution_count": null,
   "id": "206420df",
   "metadata": {},
   "outputs": [],
   "source": []
  }
 ],
 "metadata": {
  "kernelspec": {
   "display_name": "Python 3 (ipykernel)",
   "language": "python",
   "name": "python3"
  },
  "language_info": {
   "codemirror_mode": {
    "name": "ipython",
    "version": 3
   },
   "file_extension": ".py",
   "mimetype": "text/x-python",
   "name": "python",
   "nbconvert_exporter": "python",
   "pygments_lexer": "ipython3",
   "version": "3.9.12"
  }
 },
 "nbformat": 4,
 "nbformat_minor": 5
}
