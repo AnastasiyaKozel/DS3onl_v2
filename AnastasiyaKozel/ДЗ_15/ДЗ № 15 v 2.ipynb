{
 "cells": [
  {
   "cell_type": "markdown",
   "id": "b697c1e9",
   "metadata": {},
   "source": [
    "## Домашнее задание № 15\n",
    "### Козел А.Г. 20.11.2022 v.2 - 4.12.2022\n",
    "Решить задачу регрессии. Получить максимальную метрику качества (R2, RMSE). \n",
    "Не забываем про введение и выводы."
   ]
  },
  {
   "cell_type": "markdown",
   "id": "29437343",
   "metadata": {},
   "source": [
    "### Об этом файле\n",
    "Это исторические данные, охватывающие продажи с 05.02.2010 по 01.11.2012, в файле продаж в магазине Walmart . В этом файле вы найдете следующие поля:\\\n",
    "\n",
    "* Store - номер магазина\n",
    "* Date - неделя продаж\n",
    "* Weekly_Sales - продажи для данного магазина\n",
    "* Holiday_Flag - является ли неделя особым праздником неделя 1 – праздничная (выходная) неделя 0 – непраздничная неделя\n",
    "* Temperature - Температура в день продажи\n",
    "* Fuel_Price - Стоимость топлива в регионе\n",
    "* CPI - Преобладающий индекс потребительских цен\n",
    "* Unemployment - Преобладающий уровень безработицы\n",
    "* Holiday Event\\ Super Bowl (Суперкубок): 12 февраля 2010 г., 11 февраля 2011 г., 10 февраля 2012 г., 8 февраля 2013 г.\\\n",
    "Labour Day (День труда): 10 сентября 2010 г., 9 сентября 2011 г., 7 сентября 2012 г. , 6-сен-13\\\n",
    " Thanksgiving (День Благодарения): 26-ноя-10, 25-ноябрь-11, 23-ноябрь-12, 29-ноябрь-13\\\n",
    "Christmas (Рождество): 31-дек-10, 30-дек-11, 28-декабрь -12, 27-дек-13\n"
   ]
  },
  {
   "cell_type": "code",
   "execution_count": 1,
   "id": "fcb56d5f",
   "metadata": {},
   "outputs": [],
   "source": [
    "# Загружаем требуемые библиотеки.\n",
    "import pandas as pd\n",
    "import seaborn as sns\n",
    "import matplotlib.pyplot as plt\n",
    "from scipy import stats\n",
    "import numpy as np\n",
    "import seaborn as sn\n",
    "from sklearn.model_selection import train_test_split\n",
    "from sklearn.preprocessing import StandardScaler , MinMaxScaler\n",
    "from sklearn.ensemble import RandomForestClassifier\n",
    "import warnings\n",
    "warnings.filterwarnings('ignore')\n",
    "\n",
    "\n"
   ]
  },
  {
   "cell_type": "code",
   "execution_count": 2,
   "id": "a91bf474",
   "metadata": {},
   "outputs": [
    {
     "data": {
      "text/html": [
       "<div>\n",
       "<style scoped>\n",
       "    .dataframe tbody tr th:only-of-type {\n",
       "        vertical-align: middle;\n",
       "    }\n",
       "\n",
       "    .dataframe tbody tr th {\n",
       "        vertical-align: top;\n",
       "    }\n",
       "\n",
       "    .dataframe thead th {\n",
       "        text-align: right;\n",
       "    }\n",
       "</style>\n",
       "<table border=\"1\" class=\"dataframe\">\n",
       "  <thead>\n",
       "    <tr style=\"text-align: right;\">\n",
       "      <th></th>\n",
       "      <th>Store</th>\n",
       "      <th>Date</th>\n",
       "      <th>Weekly_Sales</th>\n",
       "      <th>Holiday_Flag</th>\n",
       "      <th>Temperature</th>\n",
       "      <th>Fuel_Price</th>\n",
       "      <th>CPI</th>\n",
       "      <th>Unemployment</th>\n",
       "    </tr>\n",
       "  </thead>\n",
       "  <tbody>\n",
       "    <tr>\n",
       "      <th>0</th>\n",
       "      <td>1</td>\n",
       "      <td>05-02-2010</td>\n",
       "      <td>1643690.90</td>\n",
       "      <td>0</td>\n",
       "      <td>42.31</td>\n",
       "      <td>2.572</td>\n",
       "      <td>211.096358</td>\n",
       "      <td>8.106</td>\n",
       "    </tr>\n",
       "    <tr>\n",
       "      <th>1</th>\n",
       "      <td>1</td>\n",
       "      <td>12-02-2010</td>\n",
       "      <td>1641957.44</td>\n",
       "      <td>1</td>\n",
       "      <td>38.51</td>\n",
       "      <td>2.548</td>\n",
       "      <td>211.242170</td>\n",
       "      <td>8.106</td>\n",
       "    </tr>\n",
       "    <tr>\n",
       "      <th>2</th>\n",
       "      <td>1</td>\n",
       "      <td>19-02-2010</td>\n",
       "      <td>1611968.17</td>\n",
       "      <td>0</td>\n",
       "      <td>39.93</td>\n",
       "      <td>2.514</td>\n",
       "      <td>211.289143</td>\n",
       "      <td>8.106</td>\n",
       "    </tr>\n",
       "    <tr>\n",
       "      <th>3</th>\n",
       "      <td>1</td>\n",
       "      <td>26-02-2010</td>\n",
       "      <td>1409727.59</td>\n",
       "      <td>0</td>\n",
       "      <td>46.63</td>\n",
       "      <td>2.561</td>\n",
       "      <td>211.319643</td>\n",
       "      <td>8.106</td>\n",
       "    </tr>\n",
       "    <tr>\n",
       "      <th>4</th>\n",
       "      <td>1</td>\n",
       "      <td>05-03-2010</td>\n",
       "      <td>1554806.68</td>\n",
       "      <td>0</td>\n",
       "      <td>46.50</td>\n",
       "      <td>2.625</td>\n",
       "      <td>211.350143</td>\n",
       "      <td>8.106</td>\n",
       "    </tr>\n",
       "    <tr>\n",
       "      <th>...</th>\n",
       "      <td>...</td>\n",
       "      <td>...</td>\n",
       "      <td>...</td>\n",
       "      <td>...</td>\n",
       "      <td>...</td>\n",
       "      <td>...</td>\n",
       "      <td>...</td>\n",
       "      <td>...</td>\n",
       "    </tr>\n",
       "    <tr>\n",
       "      <th>6430</th>\n",
       "      <td>45</td>\n",
       "      <td>28-09-2012</td>\n",
       "      <td>713173.95</td>\n",
       "      <td>0</td>\n",
       "      <td>64.88</td>\n",
       "      <td>3.997</td>\n",
       "      <td>192.013558</td>\n",
       "      <td>8.684</td>\n",
       "    </tr>\n",
       "    <tr>\n",
       "      <th>6431</th>\n",
       "      <td>45</td>\n",
       "      <td>05-10-2012</td>\n",
       "      <td>733455.07</td>\n",
       "      <td>0</td>\n",
       "      <td>64.89</td>\n",
       "      <td>3.985</td>\n",
       "      <td>192.170412</td>\n",
       "      <td>8.667</td>\n",
       "    </tr>\n",
       "    <tr>\n",
       "      <th>6432</th>\n",
       "      <td>45</td>\n",
       "      <td>12-10-2012</td>\n",
       "      <td>734464.36</td>\n",
       "      <td>0</td>\n",
       "      <td>54.47</td>\n",
       "      <td>4.000</td>\n",
       "      <td>192.327265</td>\n",
       "      <td>8.667</td>\n",
       "    </tr>\n",
       "    <tr>\n",
       "      <th>6433</th>\n",
       "      <td>45</td>\n",
       "      <td>19-10-2012</td>\n",
       "      <td>718125.53</td>\n",
       "      <td>0</td>\n",
       "      <td>56.47</td>\n",
       "      <td>3.969</td>\n",
       "      <td>192.330854</td>\n",
       "      <td>8.667</td>\n",
       "    </tr>\n",
       "    <tr>\n",
       "      <th>6434</th>\n",
       "      <td>45</td>\n",
       "      <td>26-10-2012</td>\n",
       "      <td>760281.43</td>\n",
       "      <td>0</td>\n",
       "      <td>58.85</td>\n",
       "      <td>3.882</td>\n",
       "      <td>192.308899</td>\n",
       "      <td>8.667</td>\n",
       "    </tr>\n",
       "  </tbody>\n",
       "</table>\n",
       "<p>6435 rows × 8 columns</p>\n",
       "</div>"
      ],
      "text/plain": [
       "      Store        Date  Weekly_Sales  Holiday_Flag  Temperature  Fuel_Price  \\\n",
       "0         1  05-02-2010    1643690.90             0        42.31       2.572   \n",
       "1         1  12-02-2010    1641957.44             1        38.51       2.548   \n",
       "2         1  19-02-2010    1611968.17             0        39.93       2.514   \n",
       "3         1  26-02-2010    1409727.59             0        46.63       2.561   \n",
       "4         1  05-03-2010    1554806.68             0        46.50       2.625   \n",
       "...     ...         ...           ...           ...          ...         ...   \n",
       "6430     45  28-09-2012     713173.95             0        64.88       3.997   \n",
       "6431     45  05-10-2012     733455.07             0        64.89       3.985   \n",
       "6432     45  12-10-2012     734464.36             0        54.47       4.000   \n",
       "6433     45  19-10-2012     718125.53             0        56.47       3.969   \n",
       "6434     45  26-10-2012     760281.43             0        58.85       3.882   \n",
       "\n",
       "             CPI  Unemployment  \n",
       "0     211.096358         8.106  \n",
       "1     211.242170         8.106  \n",
       "2     211.289143         8.106  \n",
       "3     211.319643         8.106  \n",
       "4     211.350143         8.106  \n",
       "...          ...           ...  \n",
       "6430  192.013558         8.684  \n",
       "6431  192.170412         8.667  \n",
       "6432  192.327265         8.667  \n",
       "6433  192.330854         8.667  \n",
       "6434  192.308899         8.667  \n",
       "\n",
       "[6435 rows x 8 columns]"
      ]
     },
     "execution_count": 2,
     "metadata": {},
     "output_type": "execute_result"
    }
   ],
   "source": [
    "df = pd.read_csv('Walmart.csv', sep=',', encoding=\"cp1251\") \n",
    "df"
   ]
  },
  {
   "cell_type": "code",
   "execution_count": 3,
   "id": "fd25953a",
   "metadata": {},
   "outputs": [
    {
     "data": {
      "text/plain": [
       "Index(['Store', 'Date', 'Weekly_Sales', 'Holiday_Flag', 'Temperature',\n",
       "       'Fuel_Price', 'CPI', 'Unemployment'],\n",
       "      dtype='object')"
      ]
     },
     "execution_count": 3,
     "metadata": {},
     "output_type": "execute_result"
    }
   ],
   "source": [
    "df.columns"
   ]
  },
  {
   "cell_type": "code",
   "execution_count": 4,
   "id": "988c67c9",
   "metadata": {},
   "outputs": [
    {
     "name": "stdout",
     "output_type": "stream",
     "text": [
      "<class 'pandas.core.frame.DataFrame'>\n",
      "RangeIndex: 6435 entries, 0 to 6434\n",
      "Data columns (total 8 columns):\n",
      " #   Column        Non-Null Count  Dtype  \n",
      "---  ------        --------------  -----  \n",
      " 0   Store         6435 non-null   int64  \n",
      " 1   Date          6435 non-null   object \n",
      " 2   Weekly_Sales  6435 non-null   float64\n",
      " 3   Holiday_Flag  6435 non-null   int64  \n",
      " 4   Temperature   6435 non-null   float64\n",
      " 5   Fuel_Price    6435 non-null   float64\n",
      " 6   CPI           6435 non-null   float64\n",
      " 7   Unemployment  6435 non-null   float64\n",
      "dtypes: float64(5), int64(2), object(1)\n",
      "memory usage: 402.3+ KB\n"
     ]
    }
   ],
   "source": [
    "df.info()"
   ]
  },
  {
   "cell_type": "markdown",
   "id": "d4d5bb41",
   "metadata": {},
   "source": [
    "Пропуски значений отсутствуют"
   ]
  },
  {
   "cell_type": "code",
   "execution_count": 5,
   "id": "09e8ae91",
   "metadata": {},
   "outputs": [
    {
     "data": {
      "text/plain": [
       "Store             45\n",
       "Date             143\n",
       "Weekly_Sales    6435\n",
       "Holiday_Flag       2\n",
       "Temperature     3528\n",
       "Fuel_Price       892\n",
       "CPI             2145\n",
       "Unemployment     349\n",
       "dtype: int64"
      ]
     },
     "execution_count": 5,
     "metadata": {},
     "output_type": "execute_result"
    }
   ],
   "source": [
    "# количество уникальных значений\n",
    "df.nunique()"
   ]
  },
  {
   "cell_type": "code",
   "execution_count": 6,
   "id": "f3d01825",
   "metadata": {},
   "outputs": [
    {
     "data": {
      "text/html": [
       "<div>\n",
       "<style scoped>\n",
       "    .dataframe tbody tr th:only-of-type {\n",
       "        vertical-align: middle;\n",
       "    }\n",
       "\n",
       "    .dataframe tbody tr th {\n",
       "        vertical-align: top;\n",
       "    }\n",
       "\n",
       "    .dataframe thead th {\n",
       "        text-align: right;\n",
       "    }\n",
       "</style>\n",
       "<table border=\"1\" class=\"dataframe\">\n",
       "  <thead>\n",
       "    <tr style=\"text-align: right;\">\n",
       "      <th></th>\n",
       "      <th>Store</th>\n",
       "      <th>Weekly_Sales</th>\n",
       "      <th>Holiday_Flag</th>\n",
       "      <th>Temperature</th>\n",
       "      <th>Fuel_Price</th>\n",
       "      <th>CPI</th>\n",
       "      <th>Unemployment</th>\n",
       "    </tr>\n",
       "  </thead>\n",
       "  <tbody>\n",
       "    <tr>\n",
       "      <th>count</th>\n",
       "      <td>6435.000000</td>\n",
       "      <td>6.435000e+03</td>\n",
       "      <td>6435.000000</td>\n",
       "      <td>6435.000000</td>\n",
       "      <td>6435.000000</td>\n",
       "      <td>6435.000000</td>\n",
       "      <td>6435.000000</td>\n",
       "    </tr>\n",
       "    <tr>\n",
       "      <th>mean</th>\n",
       "      <td>23.000000</td>\n",
       "      <td>1.046965e+06</td>\n",
       "      <td>0.069930</td>\n",
       "      <td>60.663782</td>\n",
       "      <td>3.358607</td>\n",
       "      <td>171.578394</td>\n",
       "      <td>7.999151</td>\n",
       "    </tr>\n",
       "    <tr>\n",
       "      <th>std</th>\n",
       "      <td>12.988182</td>\n",
       "      <td>5.643666e+05</td>\n",
       "      <td>0.255049</td>\n",
       "      <td>18.444933</td>\n",
       "      <td>0.459020</td>\n",
       "      <td>39.356712</td>\n",
       "      <td>1.875885</td>\n",
       "    </tr>\n",
       "    <tr>\n",
       "      <th>min</th>\n",
       "      <td>1.000000</td>\n",
       "      <td>2.099862e+05</td>\n",
       "      <td>0.000000</td>\n",
       "      <td>-2.060000</td>\n",
       "      <td>2.472000</td>\n",
       "      <td>126.064000</td>\n",
       "      <td>3.879000</td>\n",
       "    </tr>\n",
       "    <tr>\n",
       "      <th>25%</th>\n",
       "      <td>12.000000</td>\n",
       "      <td>5.533501e+05</td>\n",
       "      <td>0.000000</td>\n",
       "      <td>47.460000</td>\n",
       "      <td>2.933000</td>\n",
       "      <td>131.735000</td>\n",
       "      <td>6.891000</td>\n",
       "    </tr>\n",
       "    <tr>\n",
       "      <th>50%</th>\n",
       "      <td>23.000000</td>\n",
       "      <td>9.607460e+05</td>\n",
       "      <td>0.000000</td>\n",
       "      <td>62.670000</td>\n",
       "      <td>3.445000</td>\n",
       "      <td>182.616521</td>\n",
       "      <td>7.874000</td>\n",
       "    </tr>\n",
       "    <tr>\n",
       "      <th>75%</th>\n",
       "      <td>34.000000</td>\n",
       "      <td>1.420159e+06</td>\n",
       "      <td>0.000000</td>\n",
       "      <td>74.940000</td>\n",
       "      <td>3.735000</td>\n",
       "      <td>212.743293</td>\n",
       "      <td>8.622000</td>\n",
       "    </tr>\n",
       "    <tr>\n",
       "      <th>max</th>\n",
       "      <td>45.000000</td>\n",
       "      <td>3.818686e+06</td>\n",
       "      <td>1.000000</td>\n",
       "      <td>100.140000</td>\n",
       "      <td>4.468000</td>\n",
       "      <td>227.232807</td>\n",
       "      <td>14.313000</td>\n",
       "    </tr>\n",
       "  </tbody>\n",
       "</table>\n",
       "</div>"
      ],
      "text/plain": [
       "             Store  Weekly_Sales  Holiday_Flag  Temperature   Fuel_Price  \\\n",
       "count  6435.000000  6.435000e+03   6435.000000  6435.000000  6435.000000   \n",
       "mean     23.000000  1.046965e+06      0.069930    60.663782     3.358607   \n",
       "std      12.988182  5.643666e+05      0.255049    18.444933     0.459020   \n",
       "min       1.000000  2.099862e+05      0.000000    -2.060000     2.472000   \n",
       "25%      12.000000  5.533501e+05      0.000000    47.460000     2.933000   \n",
       "50%      23.000000  9.607460e+05      0.000000    62.670000     3.445000   \n",
       "75%      34.000000  1.420159e+06      0.000000    74.940000     3.735000   \n",
       "max      45.000000  3.818686e+06      1.000000   100.140000     4.468000   \n",
       "\n",
       "               CPI  Unemployment  \n",
       "count  6435.000000   6435.000000  \n",
       "mean    171.578394      7.999151  \n",
       "std      39.356712      1.875885  \n",
       "min     126.064000      3.879000  \n",
       "25%     131.735000      6.891000  \n",
       "50%     182.616521      7.874000  \n",
       "75%     212.743293      8.622000  \n",
       "max     227.232807     14.313000  "
      ]
     },
     "execution_count": 6,
     "metadata": {},
     "output_type": "execute_result"
    }
   ],
   "source": [
    "df.describe()"
   ]
  },
  {
   "cell_type": "code",
   "execution_count": 7,
   "id": "39eef730",
   "metadata": {},
   "outputs": [
    {
     "data": {
      "image/png": "[encoded data removed]",
      "text/plain": [
       "<Figure size 1080x720 with 5 Axes>"
      ]
     },
     "metadata": {
      "needs_background": "light"
     },
     "output_type": "display_data"
    }
   ],
   "source": [
    "n = 1\n",
    "\n",
    "plt.figure(figsize=(15,10))\n",
    "for i in [\"Weekly_Sales\",\"Temperature\",\"Fuel_Price\",\"CPI\",\"Unemployment\"]:\n",
    "        if n<=5:\n",
    "            plt.subplot(3,2,n);\n",
    "            n+=1\n",
    "            sns.boxplot(df[i]);\n",
    "           \n",
    "            plt.xlabel(i);"
   ]
  },
  {
   "cell_type": "markdown",
   "id": "9e80a1f7",
   "metadata": {},
   "source": [
    "## Обработка столбца \"Date\""
   ]
  },
  {
   "cell_type": "markdown",
   "id": "7dca0039",
   "metadata": {},
   "source": [
    "Holiday Event:\n",
    "* Super Bowl (Суперкубок): 12 февраля 2010 г., 11 февраля 2011 г., 10 февраля 2012 г., 8 февраля 2013 г.\n",
    "* Labour Day (День труда): 10 сентября 2010 г., 9 сентября 2011 г., 7 сентября 2012 г. , 6-сен-13\n",
    "* Thanksgiving (День Благодарения): 26-ноя-10, 25-ноябрь-11, 23-ноябрь-12, 29-ноябрь-13\n",
    "* Christmas (Рождество): 31-дек-10, 30-дек-11, 28-декабрь -12, 27-дек-13"
   ]
  },
  {
   "cell_type": "code",
   "execution_count": 8,
   "id": "07aaaeaa",
   "metadata": {},
   "outputs": [
    {
     "data": {
      "text/plain": [
       "0       05-02-2010\n",
       "1       12-02-2010\n",
       "6433    19-10-2012\n",
       "6434    26-10-2012\n",
       "Name: Date, dtype: object"
      ]
     },
     "execution_count": 8,
     "metadata": {},
     "output_type": "execute_result"
    }
   ],
   "source": [
    "# Рассмотрим промежуток, за который даны результаты\n",
    "df['Date'].head(2).append(df['Date'].tail(2)) "
   ]
  },
  {
   "cell_type": "code",
   "execution_count": 9,
   "id": "c9cf088b",
   "metadata": {},
   "outputs": [
    {
     "data": {
      "text/plain": [
       "array(['12-02-2010', '10-09-2010', '26-11-2010', '31-12-2010',\n",
       "       '11-02-2011', '09-09-2011', '25-11-2011', '30-12-2011',\n",
       "       '10-02-2012', '07-09-2012'], dtype=object)"
      ]
     },
     "execution_count": 9,
     "metadata": {},
     "output_type": "execute_result"
    }
   ],
   "source": [
    "df_holiday = df.loc[df['Holiday_Flag']== 1]\n",
    "df_holiday['Date'].unique() "
   ]
  },
  {
   "cell_type": "code",
   "execution_count": 10,
   "id": "023b559d",
   "metadata": {},
   "outputs": [],
   "source": [
    "df.loc[(df['Date'] == '12-02-2010')|(df['Date'] == '11-02-2011')|(df['Date'] == '10-02-2012'),'Super_Bowl'] = 1\n",
    "df.loc[(df['Date'] != '12-02-2010')&(df['Date'] != '11-02-2011')&(df['Date'] != '10-02-2012'),'Super_Bowl'] = 0"
   ]
  },
  {
   "cell_type": "code",
   "execution_count": 11,
   "id": "a5752a42",
   "metadata": {},
   "outputs": [],
   "source": [
    "df.loc[(df['Date'] == '10-09-2010')|(df['Date'] == '09-09-2011')|(df['Date'] == '07-09-2012'),'Labour Day'] = 1\n",
    "df.loc[(df['Date'] != '10-09-2010')&(df['Date'] != '09-09-20119')&(df['Date'] != '07-09-2012'),'Labour Day'] = 0"
   ]
  },
  {
   "cell_type": "code",
   "execution_count": 12,
   "id": "48c58c51",
   "metadata": {},
   "outputs": [],
   "source": [
    "df.loc[(df['Date'] == '26-11-2010')|(df['Date'] == '25-11-2011'),'Thanksgiving'] = 1\n",
    "df.loc[(df['Date'] != '26-11-2010')&(df['Date'] != '25-11-2011'),'Thanksgiving'] = 0"
   ]
  },
  {
   "cell_type": "code",
   "execution_count": 13,
   "id": "43138fc2",
   "metadata": {},
   "outputs": [],
   "source": [
    "df.loc[(df['Date'] == '31-12-2010')|(df['Date'] == '30-12-2011'),'Christmas'] = 1\n",
    "df.loc[(df['Date'] != '31-12-2010')&(df['Date'] != '30-12-2011'),'Christmas'] = 0"
   ]
  },
  {
   "cell_type": "code",
   "execution_count": 14,
   "id": "117cd5ce",
   "metadata": {},
   "outputs": [],
   "source": [
    "# Выделим столбцы 'год', 'месяц', 'неделя', 'деньнедели'\n",
    "df[\"Date\"] = pd.to_datetime(df[\"Date\"]) \n",
    "df['week'] =df['Date'].dt.week\n",
    "df['month'] =df['Date'].dt.month \n",
    "df['year'] =df['Date'].dt.year\n",
    "df['weekday'] =df['Date'].dt.weekday"
   ]
  },
  {
   "cell_type": "code",
   "execution_count": 15,
   "id": "f5d68d3b",
   "metadata": {},
   "outputs": [
    {
     "data": {
      "text/html": [
       "<div>\n",
       "<style scoped>\n",
       "    .dataframe tbody tr th:only-of-type {\n",
       "        vertical-align: middle;\n",
       "    }\n",
       "\n",
       "    .dataframe tbody tr th {\n",
       "        vertical-align: top;\n",
       "    }\n",
       "\n",
       "    .dataframe thead th {\n",
       "        text-align: right;\n",
       "    }\n",
       "</style>\n",
       "<table border=\"1\" class=\"dataframe\">\n",
       "  <thead>\n",
       "    <tr style=\"text-align: right;\">\n",
       "      <th></th>\n",
       "      <th>Store</th>\n",
       "      <th>Date</th>\n",
       "      <th>Weekly_Sales</th>\n",
       "      <th>Holiday_Flag</th>\n",
       "      <th>Temperature</th>\n",
       "      <th>Fuel_Price</th>\n",
       "      <th>CPI</th>\n",
       "      <th>Unemployment</th>\n",
       "      <th>Super_Bowl</th>\n",
       "      <th>Labour Day</th>\n",
       "      <th>Thanksgiving</th>\n",
       "      <th>Christmas</th>\n",
       "      <th>week</th>\n",
       "      <th>month</th>\n",
       "      <th>year</th>\n",
       "      <th>weekday</th>\n",
       "    </tr>\n",
       "  </thead>\n",
       "  <tbody>\n",
       "    <tr>\n",
       "      <th>0</th>\n",
       "      <td>1</td>\n",
       "      <td>2010-05-02</td>\n",
       "      <td>1643690.90</td>\n",
       "      <td>0</td>\n",
       "      <td>42.31</td>\n",
       "      <td>2.572</td>\n",
       "      <td>211.096358</td>\n",
       "      <td>8.106</td>\n",
       "      <td>0.0</td>\n",
       "      <td>0.0</td>\n",
       "      <td>0.0</td>\n",
       "      <td>0.0</td>\n",
       "      <td>17</td>\n",
       "      <td>5</td>\n",
       "      <td>2010</td>\n",
       "      <td>6</td>\n",
       "    </tr>\n",
       "    <tr>\n",
       "      <th>1</th>\n",
       "      <td>1</td>\n",
       "      <td>2010-12-02</td>\n",
       "      <td>1641957.44</td>\n",
       "      <td>1</td>\n",
       "      <td>38.51</td>\n",
       "      <td>2.548</td>\n",
       "      <td>211.242170</td>\n",
       "      <td>8.106</td>\n",
       "      <td>1.0</td>\n",
       "      <td>0.0</td>\n",
       "      <td>0.0</td>\n",
       "      <td>0.0</td>\n",
       "      <td>48</td>\n",
       "      <td>12</td>\n",
       "      <td>2010</td>\n",
       "      <td>3</td>\n",
       "    </tr>\n",
       "    <tr>\n",
       "      <th>2</th>\n",
       "      <td>1</td>\n",
       "      <td>2010-02-19</td>\n",
       "      <td>1611968.17</td>\n",
       "      <td>0</td>\n",
       "      <td>39.93</td>\n",
       "      <td>2.514</td>\n",
       "      <td>211.289143</td>\n",
       "      <td>8.106</td>\n",
       "      <td>0.0</td>\n",
       "      <td>0.0</td>\n",
       "      <td>0.0</td>\n",
       "      <td>0.0</td>\n",
       "      <td>7</td>\n",
       "      <td>2</td>\n",
       "      <td>2010</td>\n",
       "      <td>4</td>\n",
       "    </tr>\n",
       "    <tr>\n",
       "      <th>3</th>\n",
       "      <td>1</td>\n",
       "      <td>2010-02-26</td>\n",
       "      <td>1409727.59</td>\n",
       "      <td>0</td>\n",
       "      <td>46.63</td>\n",
       "      <td>2.561</td>\n",
       "      <td>211.319643</td>\n",
       "      <td>8.106</td>\n",
       "      <td>0.0</td>\n",
       "      <td>0.0</td>\n",
       "      <td>0.0</td>\n",
       "      <td>0.0</td>\n",
       "      <td>8</td>\n",
       "      <td>2</td>\n",
       "      <td>2010</td>\n",
       "      <td>4</td>\n",
       "    </tr>\n",
       "    <tr>\n",
       "      <th>4</th>\n",
       "      <td>1</td>\n",
       "      <td>2010-05-03</td>\n",
       "      <td>1554806.68</td>\n",
       "      <td>0</td>\n",
       "      <td>46.50</td>\n",
       "      <td>2.625</td>\n",
       "      <td>211.350143</td>\n",
       "      <td>8.106</td>\n",
       "      <td>0.0</td>\n",
       "      <td>0.0</td>\n",
       "      <td>0.0</td>\n",
       "      <td>0.0</td>\n",
       "      <td>18</td>\n",
       "      <td>5</td>\n",
       "      <td>2010</td>\n",
       "      <td>0</td>\n",
       "    </tr>\n",
       "  </tbody>\n",
       "</table>\n",
       "</div>"
      ],
      "text/plain": [
       "   Store       Date  Weekly_Sales  Holiday_Flag  Temperature  Fuel_Price  \\\n",
       "0      1 2010-05-02    1643690.90             0        42.31       2.572   \n",
       "1      1 2010-12-02    1641957.44             1        38.51       2.548   \n",
       "2      1 2010-02-19    1611968.17             0        39.93       2.514   \n",
       "3      1 2010-02-26    1409727.59             0        46.63       2.561   \n",
       "4      1 2010-05-03    1554806.68             0        46.50       2.625   \n",
       "\n",
       "          CPI  Unemployment  Super_Bowl  Labour Day  Thanksgiving  Christmas  \\\n",
       "0  211.096358         8.106         0.0         0.0           0.0        0.0   \n",
       "1  211.242170         8.106         1.0         0.0           0.0        0.0   \n",
       "2  211.289143         8.106         0.0         0.0           0.0        0.0   \n",
       "3  211.319643         8.106         0.0         0.0           0.0        0.0   \n",
       "4  211.350143         8.106         0.0         0.0           0.0        0.0   \n",
       "\n",
       "   week  month  year  weekday  \n",
       "0    17      5  2010        6  \n",
       "1    48     12  2010        3  \n",
       "2     7      2  2010        4  \n",
       "3     8      2  2010        4  \n",
       "4    18      5  2010        0  "
      ]
     },
     "execution_count": 15,
     "metadata": {},
     "output_type": "execute_result"
    }
   ],
   "source": [
    "df.head(5)"
   ]
  },
  {
   "cell_type": "code",
   "execution_count": 16,
   "id": "d1414fe7",
   "metadata": {},
   "outputs": [
    {
     "data": {
      "text/plain": [
       "weekday\n",
       "0    1.088916e+06\n",
       "1    1.070389e+06\n",
       "2    1.030142e+06\n",
       "3    1.059165e+06\n",
       "4    1.038485e+06\n",
       "5    1.046277e+06\n",
       "6    1.053356e+06\n",
       "Name: Weekly_Sales, dtype: float64"
      ]
     },
     "execution_count": 16,
     "metadata": {},
     "output_type": "execute_result"
    }
   ],
   "source": [
    "df.groupby('weekday')['Weekly_Sales'].mean() "
   ]
  },
  {
   "cell_type": "code",
   "execution_count": 17,
   "id": "c4f6c392",
   "metadata": {},
   "outputs": [
    {
     "data": {
      "text/plain": [
       "month\n",
       "1     9.476139e+05\n",
       "2     1.054597e+06\n",
       "3     1.024975e+06\n",
       "4     1.024324e+06\n",
       "5     1.035379e+06\n",
       "6     1.064848e+06\n",
       "7     1.014212e+06\n",
       "8     1.044874e+06\n",
       "9     1.009457e+06\n",
       "10    1.030631e+06\n",
       "11    1.133751e+06\n",
       "12    1.210255e+06\n",
       "Name: Weekly_Sales, dtype: float64"
      ]
     },
     "execution_count": 17,
     "metadata": {},
     "output_type": "execute_result"
    }
   ],
   "source": [
    "df.groupby('month')['Weekly_Sales'].mean() "
   ]
  },
  {
   "cell_type": "code",
   "execution_count": 18,
   "id": "a6edd61d",
   "metadata": {},
   "outputs": [
    {
     "data": {
      "text/plain": [
       "year\n",
       "2010    1.059670e+06\n",
       "2011    1.046239e+06\n",
       "2012    1.033660e+06\n",
       "Name: Weekly_Sales, dtype: float64"
      ]
     },
     "execution_count": 18,
     "metadata": {},
     "output_type": "execute_result"
    }
   ],
   "source": [
    "df.groupby('year')['Weekly_Sales'].mean() "
   ]
  },
  {
   "cell_type": "code",
   "execution_count": 19,
   "id": "2ffdede2",
   "metadata": {},
   "outputs": [
    {
     "data": {
      "text/plain": [
       "<AxesSubplot:xlabel='month'>"
      ]
     },
     "execution_count": 19,
     "metadata": {},
     "output_type": "execute_result"
    },
    {
     "data": {
      "text/plain": [
       "<Figure size 1440x2880 with 0 Axes>"
      ]
     },
     "metadata": {},
     "output_type": "display_data"
    },
    {
     "data": {
      "image/png": "[encoded data removed]",
      "text/plain": [
       "<Figure size 432x288 with 1 Axes>"
      ]
     },
     "metadata": {
      "needs_background": "light"
     },
     "output_type": "display_data"
    }
   ],
   "source": [
    "fig = plt.figure(figsize=(20, 40))\n",
    "# Adds subplot on position 1\n",
    "#ax = fig.add_subplot(121)\n",
    "fig.set_size_inches(20, 40)\n",
    "monthly_sales = pd.pivot_table(df, values = \"Weekly_Sales\", columns = \"year\", index = \"month\")\n",
    "monthly_sales.plot()\n"
   ]
  },
  {
   "cell_type": "code",
   "execution_count": 20,
   "id": "9362f5f4",
   "metadata": {},
   "outputs": [
    {
     "data": {
      "text/plain": [
       "<AxesSubplot:xlabel='weekday'>"
      ]
     },
     "execution_count": 20,
     "metadata": {},
     "output_type": "execute_result"
    },
    {
     "data": {
      "text/plain": [
       "<Figure size 1440x288 with 0 Axes>"
      ]
     },
     "metadata": {},
     "output_type": "display_data"
    },
    {
     "data": {
      "image/png": "[encoded data removed]",
      "text/plain": [
       "<Figure size 432x288 with 1 Axes>"
      ]
     },
     "metadata": {
      "needs_background": "light"
     },
     "output_type": "display_data"
    }
   ],
   "source": [
    "plt.figure(figsize=(20,4))\n",
    "\n",
    "\n",
    "monthly_sales = pd.pivot_table(df, values = \"Weekly_Sales\", columns = \"month\" , index = \"weekday\")\n",
    "monthly_sales.plot()"
   ]
  },
  {
   "cell_type": "code",
   "execution_count": 21,
   "id": "ccae7e54",
   "metadata": {},
   "outputs": [
    {
     "data": {
      "image/png": "[encoded data removed]",
      "text/plain": [
       "<Figure size 432x288 with 1 Axes>"
      ]
     },
     "metadata": {
      "needs_background": "light"
     },
     "output_type": "display_data"
    }
   ],
   "source": [
    "fig = sns.barplot(x='month', y='Weekly_Sales', data=df)"
   ]
  },
  {
   "cell_type": "code",
   "execution_count": 22,
   "id": "cccb7f5c",
   "metadata": {},
   "outputs": [
    {
     "data": {
      "text/plain": [
       "<AxesSubplot:xlabel='week'>"
      ]
     },
     "execution_count": 22,
     "metadata": {},
     "output_type": "execute_result"
    },
    {
     "data": {
      "image/png": "[encoded data removed]",
      "text/plain": [
       "<Figure size 432x288 with 1 Axes>"
      ]
     },
     "metadata": {
      "needs_background": "light"
     },
     "output_type": "display_data"
    }
   ],
   "source": [
    "weekly_sales = pd.pivot_table(df, values = \"Weekly_Sales\", columns = \"year\", index = \"week\")\n",
    "weekly_sales.plot()"
   ]
  },
  {
   "cell_type": "code",
   "execution_count": 23,
   "id": "e5228be1",
   "metadata": {},
   "outputs": [
    {
     "data": {
      "text/plain": [
       "<AxesSubplot:xlabel='Temperature'>"
      ]
     },
     "execution_count": 23,
     "metadata": {},
     "output_type": "execute_result"
    },
    {
     "data": {
      "image/png": "[encoded data removed]",
      "text/plain": [
       "<Figure size 432x288 with 1 Axes>"
      ]
     },
     "metadata": {
      "needs_background": "light"
     },
     "output_type": "display_data"
    }
   ],
   "source": [
    "temperature = pd.pivot_table(df, values = \"Weekly_Sales\", index= \"Temperature\")\n",
    "temperature.plot()"
   ]
  },
  {
   "cell_type": "code",
   "execution_count": 24,
   "id": "46d91460",
   "metadata": {},
   "outputs": [
    {
     "data": {
      "text/plain": [
       "<AxesSubplot:xlabel='Fuel_Price'>"
      ]
     },
     "execution_count": 24,
     "metadata": {},
     "output_type": "execute_result"
    },
    {
     "data": {
      "image/png": "[encoded data removed]",
      "text/plain": [
       "<Figure size 432x288 with 1 Axes>"
      ]
     },
     "metadata": {
      "needs_background": "light"
     },
     "output_type": "display_data"
    }
   ],
   "source": [
    "fuel_price = pd.pivot_table(df, values = \"Weekly_Sales\", index= \"Fuel_Price\")\n",
    "fuel_price.plot()"
   ]
  },
  {
   "cell_type": "code",
   "execution_count": 25,
   "id": "47c0899f",
   "metadata": {},
   "outputs": [
    {
     "data": {
      "text/plain": [
       "<AxesSubplot:xlabel='CPI'>"
      ]
     },
     "execution_count": 25,
     "metadata": {},
     "output_type": "execute_result"
    },
    {
     "data": {
      "image/png": "[encoded data removed]",
      "text/plain": [
       "<Figure size 432x288 with 1 Axes>"
      ]
     },
     "metadata": {
      "needs_background": "light"
     },
     "output_type": "display_data"
    }
   ],
   "source": [
    "CPI = pd.pivot_table(df, values = \"Weekly_Sales\", index= \"CPI\")\n",
    "CPI.plot()"
   ]
  },
  {
   "cell_type": "code",
   "execution_count": 26,
   "id": "62ad6f48",
   "metadata": {},
   "outputs": [
    {
     "data": {
      "text/html": [
       "<div>\n",
       "<style scoped>\n",
       "    .dataframe tbody tr th:only-of-type {\n",
       "        vertical-align: middle;\n",
       "    }\n",
       "\n",
       "    .dataframe tbody tr th {\n",
       "        vertical-align: top;\n",
       "    }\n",
       "\n",
       "    .dataframe thead th {\n",
       "        text-align: right;\n",
       "    }\n",
       "</style>\n",
       "<table border=\"1\" class=\"dataframe\">\n",
       "  <thead>\n",
       "    <tr style=\"text-align: right;\">\n",
       "      <th></th>\n",
       "      <th>Store</th>\n",
       "      <th>Date</th>\n",
       "      <th>Weekly_Sales</th>\n",
       "      <th>Holiday_Flag</th>\n",
       "      <th>Temperature</th>\n",
       "      <th>Fuel_Price</th>\n",
       "      <th>CPI</th>\n",
       "      <th>Unemployment</th>\n",
       "      <th>Super_Bowl</th>\n",
       "      <th>Labour Day</th>\n",
       "      <th>Thanksgiving</th>\n",
       "      <th>Christmas</th>\n",
       "      <th>week</th>\n",
       "      <th>month</th>\n",
       "      <th>year</th>\n",
       "      <th>weekday</th>\n",
       "    </tr>\n",
       "  </thead>\n",
       "  <tbody>\n",
       "    <tr>\n",
       "      <th>0</th>\n",
       "      <td>1</td>\n",
       "      <td>2010-05-02</td>\n",
       "      <td>1643690.90</td>\n",
       "      <td>0</td>\n",
       "      <td>42.31</td>\n",
       "      <td>2.572</td>\n",
       "      <td>211.096358</td>\n",
       "      <td>8.106</td>\n",
       "      <td>0.0</td>\n",
       "      <td>0.0</td>\n",
       "      <td>0.0</td>\n",
       "      <td>0.0</td>\n",
       "      <td>17</td>\n",
       "      <td>5</td>\n",
       "      <td>2010</td>\n",
       "      <td>6</td>\n",
       "    </tr>\n",
       "    <tr>\n",
       "      <th>1</th>\n",
       "      <td>1</td>\n",
       "      <td>2010-12-02</td>\n",
       "      <td>1641957.44</td>\n",
       "      <td>1</td>\n",
       "      <td>38.51</td>\n",
       "      <td>2.548</td>\n",
       "      <td>211.242170</td>\n",
       "      <td>8.106</td>\n",
       "      <td>1.0</td>\n",
       "      <td>0.0</td>\n",
       "      <td>0.0</td>\n",
       "      <td>0.0</td>\n",
       "      <td>48</td>\n",
       "      <td>12</td>\n",
       "      <td>2010</td>\n",
       "      <td>3</td>\n",
       "    </tr>\n",
       "    <tr>\n",
       "      <th>2</th>\n",
       "      <td>1</td>\n",
       "      <td>2010-02-19</td>\n",
       "      <td>1611968.17</td>\n",
       "      <td>0</td>\n",
       "      <td>39.93</td>\n",
       "      <td>2.514</td>\n",
       "      <td>211.289143</td>\n",
       "      <td>8.106</td>\n",
       "      <td>0.0</td>\n",
       "      <td>0.0</td>\n",
       "      <td>0.0</td>\n",
       "      <td>0.0</td>\n",
       "      <td>7</td>\n",
       "      <td>2</td>\n",
       "      <td>2010</td>\n",
       "      <td>4</td>\n",
       "    </tr>\n",
       "    <tr>\n",
       "      <th>3</th>\n",
       "      <td>1</td>\n",
       "      <td>2010-02-26</td>\n",
       "      <td>1409727.59</td>\n",
       "      <td>0</td>\n",
       "      <td>46.63</td>\n",
       "      <td>2.561</td>\n",
       "      <td>211.319643</td>\n",
       "      <td>8.106</td>\n",
       "      <td>0.0</td>\n",
       "      <td>0.0</td>\n",
       "      <td>0.0</td>\n",
       "      <td>0.0</td>\n",
       "      <td>8</td>\n",
       "      <td>2</td>\n",
       "      <td>2010</td>\n",
       "      <td>4</td>\n",
       "    </tr>\n",
       "    <tr>\n",
       "      <th>4</th>\n",
       "      <td>1</td>\n",
       "      <td>2010-05-03</td>\n",
       "      <td>1554806.68</td>\n",
       "      <td>0</td>\n",
       "      <td>46.50</td>\n",
       "      <td>2.625</td>\n",
       "      <td>211.350143</td>\n",
       "      <td>8.106</td>\n",
       "      <td>0.0</td>\n",
       "      <td>0.0</td>\n",
       "      <td>0.0</td>\n",
       "      <td>0.0</td>\n",
       "      <td>18</td>\n",
       "      <td>5</td>\n",
       "      <td>2010</td>\n",
       "      <td>0</td>\n",
       "    </tr>\n",
       "    <tr>\n",
       "      <th>...</th>\n",
       "      <td>...</td>\n",
       "      <td>...</td>\n",
       "      <td>...</td>\n",
       "      <td>...</td>\n",
       "      <td>...</td>\n",
       "      <td>...</td>\n",
       "      <td>...</td>\n",
       "      <td>...</td>\n",
       "      <td>...</td>\n",
       "      <td>...</td>\n",
       "      <td>...</td>\n",
       "      <td>...</td>\n",
       "      <td>...</td>\n",
       "      <td>...</td>\n",
       "      <td>...</td>\n",
       "      <td>...</td>\n",
       "    </tr>\n",
       "    <tr>\n",
       "      <th>6430</th>\n",
       "      <td>45</td>\n",
       "      <td>2012-09-28</td>\n",
       "      <td>713173.95</td>\n",
       "      <td>0</td>\n",
       "      <td>64.88</td>\n",
       "      <td>3.997</td>\n",
       "      <td>192.013558</td>\n",
       "      <td>8.684</td>\n",
       "      <td>0.0</td>\n",
       "      <td>0.0</td>\n",
       "      <td>0.0</td>\n",
       "      <td>0.0</td>\n",
       "      <td>39</td>\n",
       "      <td>9</td>\n",
       "      <td>2012</td>\n",
       "      <td>4</td>\n",
       "    </tr>\n",
       "    <tr>\n",
       "      <th>6431</th>\n",
       "      <td>45</td>\n",
       "      <td>2012-05-10</td>\n",
       "      <td>733455.07</td>\n",
       "      <td>0</td>\n",
       "      <td>64.89</td>\n",
       "      <td>3.985</td>\n",
       "      <td>192.170412</td>\n",
       "      <td>8.667</td>\n",
       "      <td>0.0</td>\n",
       "      <td>0.0</td>\n",
       "      <td>0.0</td>\n",
       "      <td>0.0</td>\n",
       "      <td>19</td>\n",
       "      <td>5</td>\n",
       "      <td>2012</td>\n",
       "      <td>3</td>\n",
       "    </tr>\n",
       "    <tr>\n",
       "      <th>6432</th>\n",
       "      <td>45</td>\n",
       "      <td>2012-12-10</td>\n",
       "      <td>734464.36</td>\n",
       "      <td>0</td>\n",
       "      <td>54.47</td>\n",
       "      <td>4.000</td>\n",
       "      <td>192.327265</td>\n",
       "      <td>8.667</td>\n",
       "      <td>0.0</td>\n",
       "      <td>0.0</td>\n",
       "      <td>0.0</td>\n",
       "      <td>0.0</td>\n",
       "      <td>50</td>\n",
       "      <td>12</td>\n",
       "      <td>2012</td>\n",
       "      <td>0</td>\n",
       "    </tr>\n",
       "    <tr>\n",
       "      <th>6433</th>\n",
       "      <td>45</td>\n",
       "      <td>2012-10-19</td>\n",
       "      <td>718125.53</td>\n",
       "      <td>0</td>\n",
       "      <td>56.47</td>\n",
       "      <td>3.969</td>\n",
       "      <td>192.330854</td>\n",
       "      <td>8.667</td>\n",
       "      <td>0.0</td>\n",
       "      <td>0.0</td>\n",
       "      <td>0.0</td>\n",
       "      <td>0.0</td>\n",
       "      <td>42</td>\n",
       "      <td>10</td>\n",
       "      <td>2012</td>\n",
       "      <td>4</td>\n",
       "    </tr>\n",
       "    <tr>\n",
       "      <th>6434</th>\n",
       "      <td>45</td>\n",
       "      <td>2012-10-26</td>\n",
       "      <td>760281.43</td>\n",
       "      <td>0</td>\n",
       "      <td>58.85</td>\n",
       "      <td>3.882</td>\n",
       "      <td>192.308899</td>\n",
       "      <td>8.667</td>\n",
       "      <td>0.0</td>\n",
       "      <td>0.0</td>\n",
       "      <td>0.0</td>\n",
       "      <td>0.0</td>\n",
       "      <td>43</td>\n",
       "      <td>10</td>\n",
       "      <td>2012</td>\n",
       "      <td>4</td>\n",
       "    </tr>\n",
       "  </tbody>\n",
       "</table>\n",
       "<p>6435 rows × 16 columns</p>\n",
       "</div>"
      ],
      "text/plain": [
       "      Store       Date  Weekly_Sales  Holiday_Flag  Temperature  Fuel_Price  \\\n",
       "0         1 2010-05-02    1643690.90             0        42.31       2.572   \n",
       "1         1 2010-12-02    1641957.44             1        38.51       2.548   \n",
       "2         1 2010-02-19    1611968.17             0        39.93       2.514   \n",
       "3         1 2010-02-26    1409727.59             0        46.63       2.561   \n",
       "4         1 2010-05-03    1554806.68             0        46.50       2.625   \n",
       "...     ...        ...           ...           ...          ...         ...   \n",
       "6430     45 2012-09-28     713173.95             0        64.88       3.997   \n",
       "6431     45 2012-05-10     733455.07             0        64.89       3.985   \n",
       "6432     45 2012-12-10     734464.36             0        54.47       4.000   \n",
       "6433     45 2012-10-19     718125.53             0        56.47       3.969   \n",
       "6434     45 2012-10-26     760281.43             0        58.85       3.882   \n",
       "\n",
       "             CPI  Unemployment  Super_Bowl  Labour Day  Thanksgiving  \\\n",
       "0     211.096358         8.106         0.0         0.0           0.0   \n",
       "1     211.242170         8.106         1.0         0.0           0.0   \n",
       "2     211.289143         8.106         0.0         0.0           0.0   \n",
       "3     211.319643         8.106         0.0         0.0           0.0   \n",
       "4     211.350143         8.106         0.0         0.0           0.0   \n",
       "...          ...           ...         ...         ...           ...   \n",
       "6430  192.013558         8.684         0.0         0.0           0.0   \n",
       "6431  192.170412         8.667         0.0         0.0           0.0   \n",
       "6432  192.327265         8.667         0.0         0.0           0.0   \n",
       "6433  192.330854         8.667         0.0         0.0           0.0   \n",
       "6434  192.308899         8.667         0.0         0.0           0.0   \n",
       "\n",
       "      Christmas  week  month  year  weekday  \n",
       "0           0.0    17      5  2010        6  \n",
       "1           0.0    48     12  2010        3  \n",
       "2           0.0     7      2  2010        4  \n",
       "3           0.0     8      2  2010        4  \n",
       "4           0.0    18      5  2010        0  \n",
       "...         ...   ...    ...   ...      ...  \n",
       "6430        0.0    39      9  2012        4  \n",
       "6431        0.0    19      5  2012        3  \n",
       "6432        0.0    50     12  2012        0  \n",
       "6433        0.0    42     10  2012        4  \n",
       "6434        0.0    43     10  2012        4  \n",
       "\n",
       "[6435 rows x 16 columns]"
      ]
     },
     "execution_count": 26,
     "metadata": {},
     "output_type": "execute_result"
    }
   ],
   "source": [
    "df"
   ]
  },
  {
   "cell_type": "markdown",
   "id": "4ab216a4",
   "metadata": {},
   "source": [
    "Удалила дату, т.к. уже всю нелбходимую информацию из неё взяла. И праздничный день, т.к. ввела новые столбцы, разделив праздники."
   ]
  },
  {
   "cell_type": "code",
   "execution_count": 27,
   "id": "2334a596",
   "metadata": {},
   "outputs": [],
   "source": [
    "df.drop(['Date', 'Holiday_Flag' ], axis = 1, inplace= True)"
   ]
  },
  {
   "cell_type": "markdown",
   "id": "955b6028",
   "metadata": {},
   "source": [
    "Удалила год,т.к. он уникален и не участвует в предсказании"
   ]
  },
  {
   "cell_type": "code",
   "execution_count": 28,
   "id": "0f8f0b02",
   "metadata": {},
   "outputs": [],
   "source": [
    "df.drop(['year' ], axis = 1, inplace= True)"
   ]
  },
  {
   "cell_type": "code",
   "execution_count": 29,
   "id": "7e97e136",
   "metadata": {},
   "outputs": [
    {
     "data": {
      "text/html": [
       "<div>\n",
       "<style scoped>\n",
       "    .dataframe tbody tr th:only-of-type {\n",
       "        vertical-align: middle;\n",
       "    }\n",
       "\n",
       "    .dataframe tbody tr th {\n",
       "        vertical-align: top;\n",
       "    }\n",
       "\n",
       "    .dataframe thead th {\n",
       "        text-align: right;\n",
       "    }\n",
       "</style>\n",
       "<table border=\"1\" class=\"dataframe\">\n",
       "  <thead>\n",
       "    <tr style=\"text-align: right;\">\n",
       "      <th></th>\n",
       "      <th>Store</th>\n",
       "      <th>Weekly_Sales</th>\n",
       "      <th>Temperature</th>\n",
       "      <th>Fuel_Price</th>\n",
       "      <th>CPI</th>\n",
       "      <th>Unemployment</th>\n",
       "      <th>Super_Bowl</th>\n",
       "      <th>Labour Day</th>\n",
       "      <th>Thanksgiving</th>\n",
       "      <th>Christmas</th>\n",
       "      <th>week</th>\n",
       "      <th>month</th>\n",
       "      <th>weekday</th>\n",
       "    </tr>\n",
       "  </thead>\n",
       "  <tbody>\n",
       "    <tr>\n",
       "      <th>Store</th>\n",
       "      <td>1.000000e+00</td>\n",
       "      <td>-0.335332</td>\n",
       "      <td>-0.022659</td>\n",
       "      <td>0.060023</td>\n",
       "      <td>-0.209492</td>\n",
       "      <td>0.223531</td>\n",
       "      <td>-6.168883e-18</td>\n",
       "      <td>-1.023046e-16</td>\n",
       "      <td>4.129062e-19</td>\n",
       "      <td>-8.637093e-18</td>\n",
       "      <td>1.038488e-15</td>\n",
       "      <td>6.289676e-16</td>\n",
       "      <td>-2.243183e-15</td>\n",
       "    </tr>\n",
       "    <tr>\n",
       "      <th>Weekly_Sales</th>\n",
       "      <td>-3.353320e-01</td>\n",
       "      <td>1.000000</td>\n",
       "      <td>-0.063810</td>\n",
       "      <td>0.009464</td>\n",
       "      <td>-0.072634</td>\n",
       "      <td>-0.106176</td>\n",
       "      <td>8.343093e-03</td>\n",
       "      <td>-6.152748e-04</td>\n",
       "      <td>8.954878e-02</td>\n",
       "      <td>-1.817780e-02</td>\n",
       "      <td>6.610484e-02</td>\n",
       "      <td>6.753523e-02</td>\n",
       "      <td>-2.104085e-02</td>\n",
       "    </tr>\n",
       "    <tr>\n",
       "      <th>Temperature</th>\n",
       "      <td>-2.265908e-02</td>\n",
       "      <td>-0.063810</td>\n",
       "      <td>1.000000</td>\n",
       "      <td>0.144982</td>\n",
       "      <td>0.176888</td>\n",
       "      <td>0.101158</td>\n",
       "      <td>-2.006272e-01</td>\n",
       "      <td>9.415269e-02</td>\n",
       "      <td>-7.687759e-02</td>\n",
       "      <td>-1.505193e-01</td>\n",
       "      <td>7.318701e-02</td>\n",
       "      <td>6.643970e-02</td>\n",
       "      <td>1.833136e-02</td>\n",
       "    </tr>\n",
       "    <tr>\n",
       "      <th>Fuel_Price</th>\n",
       "      <td>6.002295e-02</td>\n",
       "      <td>0.009464</td>\n",
       "      <td>0.144982</td>\n",
       "      <td>1.000000</td>\n",
       "      <td>-0.170642</td>\n",
       "      <td>-0.034684</td>\n",
       "      <td>-7.639483e-02</td>\n",
       "      <td>-1.988966e-02</td>\n",
       "      <td>-4.734866e-02</td>\n",
       "      <td>-5.162723e-02</td>\n",
       "      <td>-4.193804e-02</td>\n",
       "      <td>-5.283174e-02</td>\n",
       "      <td>-2.651216e-02</td>\n",
       "    </tr>\n",
       "    <tr>\n",
       "      <th>CPI</th>\n",
       "      <td>-2.094919e-01</td>\n",
       "      <td>-0.072634</td>\n",
       "      <td>0.176888</td>\n",
       "      <td>-0.170642</td>\n",
       "      <td>1.000000</td>\n",
       "      <td>-0.302020</td>\n",
       "      <td>-3.544124e-03</td>\n",
       "      <td>1.644027e-03</td>\n",
       "      <td>-1.824322e-03</td>\n",
       "      <td>-9.723483e-04</td>\n",
       "      <td>2.782979e-03</td>\n",
       "      <td>1.478843e-03</td>\n",
       "      <td>-9.595877e-03</td>\n",
       "    </tr>\n",
       "    <tr>\n",
       "      <th>Unemployment</th>\n",
       "      <td>2.235313e-01</td>\n",
       "      <td>-0.106176</td>\n",
       "      <td>0.101158</td>\n",
       "      <td>-0.034684</td>\n",
       "      <td>-0.302020</td>\n",
       "      <td>1.000000</td>\n",
       "      <td>1.096197e-02</td>\n",
       "      <td>-1.055242e-02</td>\n",
       "      <td>8.927550e-03</td>\n",
       "      <td>8.927550e-03</td>\n",
       "      <td>-6.038021e-03</td>\n",
       "      <td>-2.061552e-03</td>\n",
       "      <td>3.777320e-02</td>\n",
       "    </tr>\n",
       "    <tr>\n",
       "      <th>Super_Bowl</th>\n",
       "      <td>-6.168883e-18</td>\n",
       "      <td>0.008343</td>\n",
       "      <td>-0.200627</td>\n",
       "      <td>-0.076395</td>\n",
       "      <td>-0.003544</td>\n",
       "      <td>0.010962</td>\n",
       "      <td>1.000000e+00</td>\n",
       "      <td>-1.743420e-02</td>\n",
       "      <td>-1.743420e-02</td>\n",
       "      <td>-1.743420e-02</td>\n",
       "      <td>1.815857e-01</td>\n",
       "      <td>1.994002e-01</td>\n",
       "      <td>-1.614657e-01</td>\n",
       "    </tr>\n",
       "    <tr>\n",
       "      <th>Labour Day</th>\n",
       "      <td>-1.023046e-16</td>\n",
       "      <td>-0.000615</td>\n",
       "      <td>0.094153</td>\n",
       "      <td>-0.019890</td>\n",
       "      <td>0.001644</td>\n",
       "      <td>-0.010552</td>\n",
       "      <td>-1.743420e-02</td>\n",
       "      <td>1.000000e+00</td>\n",
       "      <td>-1.418440e-02</td>\n",
       "      <td>-1.418440e-02</td>\n",
       "      <td>6.566109e-02</td>\n",
       "      <td>7.259032e-02</td>\n",
       "      <td>-8.962207e-02</td>\n",
       "    </tr>\n",
       "    <tr>\n",
       "      <th>Thanksgiving</th>\n",
       "      <td>4.129062e-19</td>\n",
       "      <td>0.089549</td>\n",
       "      <td>-0.076878</td>\n",
       "      <td>-0.047349</td>\n",
       "      <td>-0.001824</td>\n",
       "      <td>0.008928</td>\n",
       "      <td>-1.743420e-02</td>\n",
       "      <td>-1.418440e-02</td>\n",
       "      <td>1.000000e+00</td>\n",
       "      <td>-1.418440e-02</td>\n",
       "      <td>1.723604e-01</td>\n",
       "      <td>1.622312e-01</td>\n",
       "      <td>3.561528e-02</td>\n",
       "    </tr>\n",
       "    <tr>\n",
       "      <th>Christmas</th>\n",
       "      <td>-8.637093e-18</td>\n",
       "      <td>-0.018178</td>\n",
       "      <td>-0.150519</td>\n",
       "      <td>-0.051627</td>\n",
       "      <td>-0.000972</td>\n",
       "      <td>0.008928</td>\n",
       "      <td>-1.743420e-02</td>\n",
       "      <td>-1.418440e-02</td>\n",
       "      <td>-1.418440e-02</td>\n",
       "      <td>1.000000e+00</td>\n",
       "      <td>2.133985e-01</td>\n",
       "      <td>1.980876e-01</td>\n",
       "      <td>3.561528e-02</td>\n",
       "    </tr>\n",
       "    <tr>\n",
       "      <th>week</th>\n",
       "      <td>1.038488e-15</td>\n",
       "      <td>0.066105</td>\n",
       "      <td>0.073187</td>\n",
       "      <td>-0.041938</td>\n",
       "      <td>0.002783</td>\n",
       "      <td>-0.006038</td>\n",
       "      <td>1.815857e-01</td>\n",
       "      <td>6.566109e-02</td>\n",
       "      <td>1.723604e-01</td>\n",
       "      <td>2.133985e-01</td>\n",
       "      <td>1.000000e+00</td>\n",
       "      <td>9.964777e-01</td>\n",
       "      <td>-1.283800e-01</td>\n",
       "    </tr>\n",
       "    <tr>\n",
       "      <th>month</th>\n",
       "      <td>6.289676e-16</td>\n",
       "      <td>0.067535</td>\n",
       "      <td>0.066440</td>\n",
       "      <td>-0.052832</td>\n",
       "      <td>0.001479</td>\n",
       "      <td>-0.002062</td>\n",
       "      <td>1.994002e-01</td>\n",
       "      <td>7.259032e-02</td>\n",
       "      <td>1.622312e-01</td>\n",
       "      <td>1.980876e-01</td>\n",
       "      <td>9.964777e-01</td>\n",
       "      <td>1.000000e+00</td>\n",
       "      <td>-1.387259e-01</td>\n",
       "    </tr>\n",
       "    <tr>\n",
       "      <th>weekday</th>\n",
       "      <td>-2.243183e-15</td>\n",
       "      <td>-0.021041</td>\n",
       "      <td>0.018331</td>\n",
       "      <td>-0.026512</td>\n",
       "      <td>-0.009596</td>\n",
       "      <td>0.037773</td>\n",
       "      <td>-1.614657e-01</td>\n",
       "      <td>-8.962207e-02</td>\n",
       "      <td>3.561528e-02</td>\n",
       "      <td>3.561528e-02</td>\n",
       "      <td>-1.283800e-01</td>\n",
       "      <td>-1.387259e-01</td>\n",
       "      <td>1.000000e+00</td>\n",
       "    </tr>\n",
       "  </tbody>\n",
       "</table>\n",
       "</div>"
      ],
      "text/plain": [
       "                     Store  Weekly_Sales  Temperature  Fuel_Price       CPI  \\\n",
       "Store         1.000000e+00     -0.335332    -0.022659    0.060023 -0.209492   \n",
       "Weekly_Sales -3.353320e-01      1.000000    -0.063810    0.009464 -0.072634   \n",
       "Temperature  -2.265908e-02     -0.063810     1.000000    0.144982  0.176888   \n",
       "Fuel_Price    6.002295e-02      0.009464     0.144982    1.000000 -0.170642   \n",
       "CPI          -2.094919e-01     -0.072634     0.176888   -0.170642  1.000000   \n",
       "Unemployment  2.235313e-01     -0.106176     0.101158   -0.034684 -0.302020   \n",
       "Super_Bowl   -6.168883e-18      0.008343    -0.200627   -0.076395 -0.003544   \n",
       "Labour Day   -1.023046e-16     -0.000615     0.094153   -0.019890  0.001644   \n",
       "Thanksgiving  4.129062e-19      0.089549    -0.076878   -0.047349 -0.001824   \n",
       "Christmas    -8.637093e-18     -0.018178    -0.150519   -0.051627 -0.000972   \n",
       "week          1.038488e-15      0.066105     0.073187   -0.041938  0.002783   \n",
       "month         6.289676e-16      0.067535     0.066440   -0.052832  0.001479   \n",
       "weekday      -2.243183e-15     -0.021041     0.018331   -0.026512 -0.009596   \n",
       "\n",
       "              Unemployment    Super_Bowl    Labour Day  Thanksgiving  \\\n",
       "Store             0.223531 -6.168883e-18 -1.023046e-16  4.129062e-19   \n",
       "Weekly_Sales     -0.106176  8.343093e-03 -6.152748e-04  8.954878e-02   \n",
       "Temperature       0.101158 -2.006272e-01  9.415269e-02 -7.687759e-02   \n",
       "Fuel_Price       -0.034684 -7.639483e-02 -1.988966e-02 -4.734866e-02   \n",
       "CPI              -0.302020 -3.544124e-03  1.644027e-03 -1.824322e-03   \n",
       "Unemployment      1.000000  1.096197e-02 -1.055242e-02  8.927550e-03   \n",
       "Super_Bowl        0.010962  1.000000e+00 -1.743420e-02 -1.743420e-02   \n",
       "Labour Day       -0.010552 -1.743420e-02  1.000000e+00 -1.418440e-02   \n",
       "Thanksgiving      0.008928 -1.743420e-02 -1.418440e-02  1.000000e+00   \n",
       "Christmas         0.008928 -1.743420e-02 -1.418440e-02 -1.418440e-02   \n",
       "week             -0.006038  1.815857e-01  6.566109e-02  1.723604e-01   \n",
       "month            -0.002062  1.994002e-01  7.259032e-02  1.622312e-01   \n",
       "weekday           0.037773 -1.614657e-01 -8.962207e-02  3.561528e-02   \n",
       "\n",
       "                 Christmas          week         month       weekday  \n",
       "Store        -8.637093e-18  1.038488e-15  6.289676e-16 -2.243183e-15  \n",
       "Weekly_Sales -1.817780e-02  6.610484e-02  6.753523e-02 -2.104085e-02  \n",
       "Temperature  -1.505193e-01  7.318701e-02  6.643970e-02  1.833136e-02  \n",
       "Fuel_Price   -5.162723e-02 -4.193804e-02 -5.283174e-02 -2.651216e-02  \n",
       "CPI          -9.723483e-04  2.782979e-03  1.478843e-03 -9.595877e-03  \n",
       "Unemployment  8.927550e-03 -6.038021e-03 -2.061552e-03  3.777320e-02  \n",
       "Super_Bowl   -1.743420e-02  1.815857e-01  1.994002e-01 -1.614657e-01  \n",
       "Labour Day   -1.418440e-02  6.566109e-02  7.259032e-02 -8.962207e-02  \n",
       "Thanksgiving -1.418440e-02  1.723604e-01  1.622312e-01  3.561528e-02  \n",
       "Christmas     1.000000e+00  2.133985e-01  1.980876e-01  3.561528e-02  \n",
       "week          2.133985e-01  1.000000e+00  9.964777e-01 -1.283800e-01  \n",
       "month         1.980876e-01  9.964777e-01  1.000000e+00 -1.387259e-01  \n",
       "weekday       3.561528e-02 -1.283800e-01 -1.387259e-01  1.000000e+00  "
      ]
     },
     "execution_count": 29,
     "metadata": {},
     "output_type": "execute_result"
    }
   ],
   "source": [
    "df.corr()"
   ]
  },
  {
   "cell_type": "code",
   "execution_count": 30,
   "id": "1ef00adf",
   "metadata": {},
   "outputs": [
    {
     "data": {
      "text/plain": [
       "Text(0.5, 1.0, 'correlation of feature')"
      ]
     },
     "execution_count": 30,
     "metadata": {},
     "output_type": "execute_result"
    },
    {
     "data": {
      "image/png": "[encoded data removed]",
      "text/plain": [
       "<Figure size 1440x720 with 2 Axes>"
      ]
     },
     "metadata": {
      "needs_background": "light"
     },
     "output_type": "display_data"
    }
   ],
   "source": [
    "plt.figure(figsize = (20,10))\n",
    "sns.heatmap(df.corr(),annot = True , cmap =\"YlGnBu\")\n",
    "plt.title(\"correlation of feature\")"
   ]
  },
  {
   "cell_type": "markdown",
   "id": "e6cc5fac",
   "metadata": {},
   "source": [
    "Из матрицы видно, что  Weekly_Sales коррелируется больше всего с конкретным магазином."
   ]
  },
  {
   "cell_type": "code",
   "execution_count": 31,
   "id": "116e96a8",
   "metadata": {},
   "outputs": [],
   "source": [
    "grp_store = df.groupby(['Store'])['Weekly_Sales'].sum()\n",
    "#grp_store "
   ]
  },
  {
   "cell_type": "code",
   "execution_count": 32,
   "id": "9ba9688d",
   "metadata": {},
   "outputs": [
    {
     "data": {
      "image/png": "[encoded data removed]",
      "text/plain": [
       "<Figure size 1224x360 with 1 Axes>"
      ]
     },
     "metadata": {
      "needs_background": "light"
     },
     "output_type": "display_data"
    }
   ],
   "source": [
    "plt.figure(figsize=(17,5))\n",
    "fig = sns.barplot(x=grp_store.index,y=grp_store)"
   ]
  },
  {
   "cell_type": "markdown",
   "id": "0034355c",
   "metadata": {},
   "source": [
    "## Скалирование"
   ]
  },
  {
   "cell_type": "code",
   "execution_count": 33,
   "id": "f5429e95",
   "metadata": {},
   "outputs": [
    {
     "name": "stdout",
     "output_type": "stream",
     "text": [
      "<class 'pandas.core.frame.DataFrame'>\n",
      "RangeIndex: 6435 entries, 0 to 6434\n",
      "Data columns (total 13 columns):\n",
      " #   Column        Non-Null Count  Dtype  \n",
      "---  ------        --------------  -----  \n",
      " 0   Store         6435 non-null   int64  \n",
      " 1   Weekly_Sales  6435 non-null   float64\n",
      " 2   Temperature   6435 non-null   float64\n",
      " 3   Fuel_Price    6435 non-null   float64\n",
      " 4   CPI           6435 non-null   float64\n",
      " 5   Unemployment  6435 non-null   float64\n",
      " 6   Super_Bowl    6435 non-null   float64\n",
      " 7   Labour Day    6435 non-null   float64\n",
      " 8   Thanksgiving  6435 non-null   float64\n",
      " 9   Christmas     6435 non-null   float64\n",
      " 10  week          6435 non-null   int64  \n",
      " 11  month         6435 non-null   int64  \n",
      " 12  weekday       6435 non-null   int64  \n",
      "dtypes: float64(9), int64(4)\n",
      "memory usage: 653.7 KB\n"
     ]
    }
   ],
   "source": [
    "df.info()"
   ]
  },
  {
   "cell_type": "code",
   "execution_count": null,
   "id": "2e2f26f7",
   "metadata": {},
   "outputs": [],
   "source": []
  },
  {
   "cell_type": "code",
   "execution_count": 34,
   "id": "a799f7ab",
   "metadata": {},
   "outputs": [],
   "source": [
    "df = pd.concat([df, pd.get_dummies(df['Store'], prefix=\"Store\")],  axis = 1)\n",
    "df.drop(['Store'], axis = 1, inplace= True)"
   ]
  },
  {
   "cell_type": "code",
   "execution_count": 35,
   "id": "b352078d",
   "metadata": {},
   "outputs": [],
   "source": [
    "y = df['Weekly_Sales']\n",
    "X = df.drop(['Weekly_Sales'], axis=1)"
   ]
  },
  {
   "cell_type": "code",
   "execution_count": 36,
   "id": "d297de90",
   "metadata": {},
   "outputs": [],
   "source": [
    "\n",
    "scaled = (MinMaxScaler(feature_range=(-1,1)).fit_transform(df))\n",
    "df = pd.DataFrame(scaled, columns = df.columns)\n"
   ]
  },
  {
   "cell_type": "code",
   "execution_count": 37,
   "id": "ef9d464e",
   "metadata": {},
   "outputs": [
    {
     "data": {
      "text/html": [
       "<div>\n",
       "<style scoped>\n",
       "    .dataframe tbody tr th:only-of-type {\n",
       "        vertical-align: middle;\n",
       "    }\n",
       "\n",
       "    .dataframe tbody tr th {\n",
       "        vertical-align: top;\n",
       "    }\n",
       "\n",
       "    .dataframe thead th {\n",
       "        text-align: right;\n",
       "    }\n",
       "</style>\n",
       "<table border=\"1\" class=\"dataframe\">\n",
       "  <thead>\n",
       "    <tr style=\"text-align: right;\">\n",
       "      <th></th>\n",
       "      <th>Weekly_Sales</th>\n",
       "      <th>Temperature</th>\n",
       "      <th>Fuel_Price</th>\n",
       "      <th>CPI</th>\n",
       "      <th>Unemployment</th>\n",
       "      <th>Super_Bowl</th>\n",
       "      <th>Labour Day</th>\n",
       "      <th>Thanksgiving</th>\n",
       "      <th>Christmas</th>\n",
       "      <th>week</th>\n",
       "      <th>...</th>\n",
       "      <th>Store_36</th>\n",
       "      <th>Store_37</th>\n",
       "      <th>Store_38</th>\n",
       "      <th>Store_39</th>\n",
       "      <th>Store_40</th>\n",
       "      <th>Store_41</th>\n",
       "      <th>Store_42</th>\n",
       "      <th>Store_43</th>\n",
       "      <th>Store_44</th>\n",
       "      <th>Store_45</th>\n",
       "    </tr>\n",
       "  </thead>\n",
       "  <tbody>\n",
       "    <tr>\n",
       "      <th>0</th>\n",
       "      <td>-0.205418</td>\n",
       "      <td>-0.131703</td>\n",
       "      <td>-0.899800</td>\n",
       "      <td>0.681000</td>\n",
       "      <td>-0.189764</td>\n",
       "      <td>-1.0</td>\n",
       "      <td>-1.0</td>\n",
       "      <td>-1.0</td>\n",
       "      <td>-1.0</td>\n",
       "      <td>-0.372549</td>\n",
       "      <td>...</td>\n",
       "      <td>-1.0</td>\n",
       "      <td>-1.0</td>\n",
       "      <td>-1.0</td>\n",
       "      <td>-1.0</td>\n",
       "      <td>-1.0</td>\n",
       "      <td>-1.0</td>\n",
       "      <td>-1.0</td>\n",
       "      <td>-1.0</td>\n",
       "      <td>-1.0</td>\n",
       "      <td>-1.0</td>\n",
       "    </tr>\n",
       "    <tr>\n",
       "      <th>1</th>\n",
       "      <td>-0.206378</td>\n",
       "      <td>-0.206067</td>\n",
       "      <td>-0.923848</td>\n",
       "      <td>0.683882</td>\n",
       "      <td>-0.189764</td>\n",
       "      <td>1.0</td>\n",
       "      <td>-1.0</td>\n",
       "      <td>-1.0</td>\n",
       "      <td>-1.0</td>\n",
       "      <td>0.843137</td>\n",
       "      <td>...</td>\n",
       "      <td>-1.0</td>\n",
       "      <td>-1.0</td>\n",
       "      <td>-1.0</td>\n",
       "      <td>-1.0</td>\n",
       "      <td>-1.0</td>\n",
       "      <td>-1.0</td>\n",
       "      <td>-1.0</td>\n",
       "      <td>-1.0</td>\n",
       "      <td>-1.0</td>\n",
       "      <td>-1.0</td>\n",
       "    </tr>\n",
       "    <tr>\n",
       "      <th>2</th>\n",
       "      <td>-0.222999</td>\n",
       "      <td>-0.178278</td>\n",
       "      <td>-0.957916</td>\n",
       "      <td>0.684811</td>\n",
       "      <td>-0.189764</td>\n",
       "      <td>-1.0</td>\n",
       "      <td>-1.0</td>\n",
       "      <td>-1.0</td>\n",
       "      <td>-1.0</td>\n",
       "      <td>-0.764706</td>\n",
       "      <td>...</td>\n",
       "      <td>-1.0</td>\n",
       "      <td>-1.0</td>\n",
       "      <td>-1.0</td>\n",
       "      <td>-1.0</td>\n",
       "      <td>-1.0</td>\n",
       "      <td>-1.0</td>\n",
       "      <td>-1.0</td>\n",
       "      <td>-1.0</td>\n",
       "      <td>-1.0</td>\n",
       "      <td>-1.0</td>\n",
       "    </tr>\n",
       "  </tbody>\n",
       "</table>\n",
       "<p>3 rows × 57 columns</p>\n",
       "</div>"
      ],
      "text/plain": [
       "   Weekly_Sales  Temperature  Fuel_Price       CPI  Unemployment  Super_Bowl  \\\n",
       "0     -0.205418    -0.131703   -0.899800  0.681000     -0.189764        -1.0   \n",
       "1     -0.206378    -0.206067   -0.923848  0.683882     -0.189764         1.0   \n",
       "2     -0.222999    -0.178278   -0.957916  0.684811     -0.189764        -1.0   \n",
       "\n",
       "   Labour Day  Thanksgiving  Christmas      week  ...  Store_36  Store_37  \\\n",
       "0        -1.0          -1.0       -1.0 -0.372549  ...      -1.0      -1.0   \n",
       "1        -1.0          -1.0       -1.0  0.843137  ...      -1.0      -1.0   \n",
       "2        -1.0          -1.0       -1.0 -0.764706  ...      -1.0      -1.0   \n",
       "\n",
       "   Store_38  Store_39  Store_40  Store_41  Store_42  Store_43  Store_44  \\\n",
       "0      -1.0      -1.0      -1.0      -1.0      -1.0      -1.0      -1.0   \n",
       "1      -1.0      -1.0      -1.0      -1.0      -1.0      -1.0      -1.0   \n",
       "2      -1.0      -1.0      -1.0      -1.0      -1.0      -1.0      -1.0   \n",
       "\n",
       "   Store_45  \n",
       "0      -1.0  \n",
       "1      -1.0  \n",
       "2      -1.0  \n",
       "\n",
       "[3 rows x 57 columns]"
      ]
     },
     "execution_count": 37,
     "metadata": {},
     "output_type": "execute_result"
    }
   ],
   "source": [
    "df.head(3)"
   ]
  },
  {
   "cell_type": "code",
   "execution_count": 38,
   "id": "9fbff97a",
   "metadata": {},
   "outputs": [],
   "source": [
    "X_train,X_test,y_train,y_test = train_test_split(X,y , test_size=0.7 , random_state = 42)"
   ]
  },
  {
   "cell_type": "code",
   "execution_count": 39,
   "id": "8288c6cd",
   "metadata": {},
   "outputs": [
    {
     "data": {
      "text/plain": [
       "(1930, 56)"
      ]
     },
     "execution_count": 39,
     "metadata": {},
     "output_type": "execute_result"
    }
   ],
   "source": [
    "X_train.shape"
   ]
  },
  {
   "cell_type": "code",
   "execution_count": null,
   "id": "aafcb3fc",
   "metadata": {},
   "outputs": [],
   "source": []
  },
  {
   "cell_type": "code",
   "execution_count": null,
   "id": "b1c99eca",
   "metadata": {},
   "outputs": [],
   "source": []
  },
  {
   "cell_type": "code",
   "execution_count": 40,
   "id": "8895fe58",
   "metadata": {},
   "outputs": [],
   "source": [
    "from sklearn.ensemble import RandomForestRegressor\n",
    "from sklearn.linear_model import Lasso\n",
    "from sklearn.linear_model import Ridge\n",
    "import math\n",
    "from sklearn.metrics import r2_score, mean_squared_error, mean_absolute_error \n",
    "\n",
    "from sklearn.model_selection import train_test_split\n",
    "from sklearn.linear_model import LinearRegression\n",
    "from sklearn.preprocessing import PolynomialFeatures\n",
    "from sklearn.pipeline import make_pipeline\n",
    "from sklearn.ensemble import RandomForestRegressor\n"
   ]
  },
  {
   "cell_type": "markdown",
   "id": "b8ac4ad7",
   "metadata": {},
   "source": [
    "## Модель Линейной регрессии (LinearRegression)"
   ]
  },
  {
   "cell_type": "code",
   "execution_count": 41,
   "id": "427c8ee8",
   "metadata": {},
   "outputs": [],
   "source": [
    "model_LR = LinearRegression(n_jobs=-1)\n",
    "model_LR.fit(X_train, y_train)\n",
    "\n",
    "y_predict = model_LR.predict(X_test)"
   ]
  },
  {
   "cell_type": "code",
   "execution_count": 42,
   "id": "2d0c5adc",
   "metadata": {},
   "outputs": [
    {
     "data": {
      "text/plain": [
       "Text(0, 0.5, 'Предсказанная сумма')"
      ]
     },
     "execution_count": 42,
     "metadata": {},
     "output_type": "execute_result"
    },
    {
     "data": {
      "image/png": "[encoded data removed]",
      "text/plain": [
       "<Figure size 432x288 with 1 Axes>"
      ]
     },
     "metadata": {
      "needs_background": "light"
     },
     "output_type": "display_data"
    }
   ],
   "source": [
    "plt.scatter(y_test, y_predict) # координаты точек, соответствущие парам нреальная сумма - предсказанная\n",
    "plt.plot([0, max(y_test)], [0, max(y_predict)], color = 'red')  # прямая, на которой предсказаные и реальные значения совпадают\n",
    "plt.xlabel('Реальная сумма', fontsize=14)\n",
    "plt.ylabel('Предсказанная сумма', fontsize=14)\n"
   ]
  },
  {
   "cell_type": "code",
   "execution_count": 43,
   "id": "4567d681",
   "metadata": {},
   "outputs": [
    {
     "name": "stdout",
     "output_type": "stream",
     "text": [
      "MAE = 94745.06971365148\n",
      "MSE = 151392.43678751215\n",
      "R2 = 0.9270838953158228\n"
     ]
    }
   ],
   "source": [
    "print(\"MAE =\", mean_absolute_error(y_test, y_predict)) #Средняя абсолютная ошибка регрессионной потери.\n",
    "print(\"MSE =\", (mean_squared_error(y_test, y_predict))**0.5) # Корень из среднеквадратической ошибки.\n",
    "print(\"R2 =\", r2_score(y_test, y_predict)) # (коэффициент детерминации) функция оценки регрессии.\n"
   ]
  },
  {
   "cell_type": "markdown",
   "id": "262e7695",
   "metadata": {},
   "source": [
    "## Модель полиномиальной регрессии (PolynomialFeatures)"
   ]
  },
  {
   "cell_type": "code",
   "execution_count": 44,
   "id": "9325aab8",
   "metadata": {},
   "outputs": [],
   "source": [
    "model_PR = make_pipeline(PolynomialFeatures(), LinearRegression(n_jobs=-1))\n",
    "model_PR.fit(X_train, y_train)\n",
    "y_predict = model_PR.predict(X_test)"
   ]
  },
  {
   "cell_type": "code",
   "execution_count": 45,
   "id": "bcaa07f1",
   "metadata": {},
   "outputs": [
    {
     "data": {
      "text/plain": [
       "Text(0, 0.5, 'Предсказанная сумма')"
      ]
     },
     "execution_count": 45,
     "metadata": {},
     "output_type": "execute_result"
    },
    {
     "data": {
      "image/png": "[encoded data removed]",
      "text/plain": [
       "<Figure size 432x288 with 1 Axes>"
      ]
     },
     "metadata": {
      "needs_background": "light"
     },
     "output_type": "display_data"
    }
   ],
   "source": [
    "plt.scatter(y_test, y_predict) # координаты точек, соответствущие парам нреальная сумма - предсказанная\n",
    "plt.plot([0, max(y_test)], [0, max(y_predict)], color = 'red')  # прямая, на которой предсказаные и реальные значения совпадают\n",
    "plt.xlabel('Реальная сумма', fontsize=14)\n",
    "plt.ylabel('Предсказанная сумма', fontsize=14)"
   ]
  },
  {
   "cell_type": "code",
   "execution_count": 46,
   "id": "24291089",
   "metadata": {},
   "outputs": [
    {
     "name": "stdout",
     "output_type": "stream",
     "text": [
      "MAE = 165230.7016880677\n",
      "MSE = 654092.5700523435\n",
      "R2 = -0.3611109658356264\n"
     ]
    }
   ],
   "source": [
    "print(\"MAE =\", mean_absolute_error(y_test, y_predict))\n",
    "print(\"MSE =\", (mean_squared_error(y_test, y_predict))**0.5)\n",
    "print(\"R2 =\", r2_score(y_test, y_predict))\n"
   ]
  },
  {
   "cell_type": "markdown",
   "id": "5651a7c2",
   "metadata": {},
   "source": [
    "## Метод случайных лесов (RandomForestRegressor)"
   ]
  },
  {
   "cell_type": "code",
   "execution_count": 47,
   "id": "5b3a244a",
   "metadata": {},
   "outputs": [],
   "source": [
    "model_RFR = RandomForestRegressor(random_state=42, n_jobs=-1)\n",
    "model_RFR.fit(X_train, y_train)\n",
    "y_predict = model_RFR.predict(X_test)\n"
   ]
  },
  {
   "cell_type": "code",
   "execution_count": 48,
   "id": "2102edb3",
   "metadata": {},
   "outputs": [
    {
     "data": {
      "text/plain": [
       "Text(0, 0.5, 'Предсказанная сумма')"
      ]
     },
     "execution_count": 48,
     "metadata": {},
     "output_type": "execute_result"
    },
    {
     "data": {
      "image/png": "[encoded data removed]",
      "text/plain": [
       "<Figure size 432x288 with 1 Axes>"
      ]
     },
     "metadata": {
      "needs_background": "light"
     },
     "output_type": "display_data"
    }
   ],
   "source": [
    "plt.scatter(y_test, y_predict) # координаты точек, соответствущие парам нреальная сумма - предсказанная\n",
    "plt.plot([0, max(y_test)], [0, max(y_predict)], color = 'red')  # прямая, на которой предсказаные и реальные значения совпадают\n",
    "plt.xlabel('Реальная сумма', fontsize=14)\n",
    "plt.ylabel('Предсказанная сумма', fontsize=14)\n"
   ]
  },
  {
   "cell_type": "code",
   "execution_count": 49,
   "id": "0f4ea3b1",
   "metadata": {},
   "outputs": [
    {
     "name": "stdout",
     "output_type": "stream",
     "text": [
      "MAE = 75758.66510945618\n",
      "MSE = 147359.5939870823\n",
      "R2 = 0.9309168815606798\n"
     ]
    }
   ],
   "source": [
    "print(\"MAE =\", mean_absolute_error(y_test, y_predict))\n",
    "print(\"MSE =\", (mean_squared_error(y_test, y_predict))**0.5)\n",
    "print(\"R2 =\", r2_score(y_test, y_predict))\n"
   ]
  },
  {
   "cell_type": "markdown",
   "id": "c522afe5",
   "metadata": {},
   "source": [
    "## Линейная модель Лассо"
   ]
  },
  {
   "cell_type": "code",
   "execution_count": 50,
   "id": "93840864",
   "metadata": {},
   "outputs": [],
   "source": [
    "model_Lasso = Lasso(random_state=42)\n",
    "model_Lasso.fit(X_train, y_train)\n",
    "y_predict = model_Lasso.predict(X_test)"
   ]
  },
  {
   "cell_type": "code",
   "execution_count": 51,
   "id": "ec6750e3",
   "metadata": {},
   "outputs": [
    {
     "data": {
      "text/plain": [
       "Text(0, 0.5, 'Предсказанная сумма')"
      ]
     },
     "execution_count": 51,
     "metadata": {},
     "output_type": "execute_result"
    },
    {
     "data": {
      "image/png": "[encoded data removed]",
      "text/plain": [
       "<Figure size 432x288 with 1 Axes>"
      ]
     },
     "metadata": {
      "needs_background": "light"
     },
     "output_type": "display_data"
    }
   ],
   "source": [
    "plt.scatter(y_test, y_predict) # координаты точек, соответствущие парам нреальная сумма - предсказанная\n",
    "plt.plot([0, max(y_test)], [0, max(y_predict)], color = 'red')  # прямая, на которой предсказаные и реальные значения совпадают\n",
    "plt.xlabel('Реальная сумма', fontsize=14)\n",
    "plt.ylabel('Предсказанная сумма', fontsize=14)"
   ]
  },
  {
   "cell_type": "code",
   "execution_count": 52,
   "id": "2db94df6",
   "metadata": {},
   "outputs": [
    {
     "name": "stdout",
     "output_type": "stream",
     "text": [
      "MAE = 94732.09927539741\n",
      "MSE = 151384.5272048004\n",
      "R2 = 0.927091514202305\n"
     ]
    }
   ],
   "source": [
    "print(\"MAE =\", mean_absolute_error(y_test, y_predict))\n",
    "print(\"MSE =\", (mean_squared_error(y_test, y_predict))**0.5)\n",
    "print(\"R2 =\", r2_score(y_test, y_predict))\n"
   ]
  },
  {
   "cell_type": "markdown",
   "id": "6834409a",
   "metadata": {},
   "source": [
    "## Ридж-регрессия (Ridge)"
   ]
  },
  {
   "cell_type": "code",
   "execution_count": 53,
   "id": "ab6db153",
   "metadata": {},
   "outputs": [],
   "source": [
    "model_Ridge = Ridge(random_state=42)\n",
    "model_Ridge.fit(X_train, y_train)\n",
    "y_predict = model_Ridge.predict(X_test)"
   ]
  },
  {
   "cell_type": "code",
   "execution_count": 54,
   "id": "a06599a8",
   "metadata": {},
   "outputs": [
    {
     "data": {
      "text/plain": [
       "Text(0, 0.5, 'Предсказанная сумма')"
      ]
     },
     "execution_count": 54,
     "metadata": {},
     "output_type": "execute_result"
    },
    {
     "data": {
      "image/png": "[encoded data removed]",
      "text/plain": [
       "<Figure size 432x288 with 1 Axes>"
      ]
     },
     "metadata": {
      "needs_background": "light"
     },
     "output_type": "display_data"
    }
   ],
   "source": [
    "plt.scatter(y_test, y_predict) # координаты точек, соответствущие парам нреальная сумма - предсказанная\n",
    "plt.plot([0, max(y_test)], [0, max(y_predict)], color = 'red')  # прямая, на которой предсказаные и реальные значения совпадают\n",
    "plt.xlabel('Реальная сумма', fontsize=14)\n",
    "plt.ylabel('Предсказанная сумма', fontsize=14)"
   ]
  },
  {
   "cell_type": "code",
   "execution_count": 55,
   "id": "3caee791",
   "metadata": {},
   "outputs": [
    {
     "name": "stdout",
     "output_type": "stream",
     "text": [
      "MAE = 93518.11476542738\n",
      "MSE = 150832.63173890742\n",
      "R2 = 0.927622143280912\n"
     ]
    }
   ],
   "source": [
    "print(\"MAE =\", mean_absolute_error(y_test, y_predict))\n",
    "print(\"MSE =\", (mean_squared_error(y_test, y_predict))**0.5)\n",
    "print(\"R2 =\", r2_score(y_test, y_predict))\n"
   ]
  },
  {
   "cell_type": "markdown",
   "id": "87e15531",
   "metadata": {},
   "source": [
    "# Выводы:\n",
    "\n",
    "### Модель Линейной регрессии (LinearRegression)\n",
    "* MAE = 94745.06971365148\n",
    "* MSE = 151392.43678751215\n",
    "* R2 = 0.9270838953158228\n",
    "\n",
    "### Модель полиномиальной регрессии (PolynomialFeatures)¶\n",
    "* MAE = 165230.7016880677\n",
    "* MSE = 654092.5700523435\n",
    "* R2 =-0.3611109658356264\n",
    "\n",
    "### Метод случайных лесов (RandomForestRegressor)¶\n",
    "* MAE = 75758.66510945618\n",
    "* MSE = 147359.5939870823\n",
    "* R2 = 0.9309168815606798\n",
    "\n",
    "### Линейная модель Лассо\n",
    "* MAE = 94732.09927539741\n",
    "* MSE = 151384.5272048004\n",
    "* R2 = 0.927091514202305\n",
    "\n",
    "### Ридж-регрессия (Ridge)¶\n",
    "* MAE = 93518.11476542738\n",
    "* MSE = 150832.63173890742\n",
    "* R2 = 0.927622143280912\n"
   ]
  },
  {
   "cell_type": "markdown",
   "id": "d252cfe5",
   "metadata": {},
   "source": [
    "* Лучшее значение функции оценки регрессии R2 (коэффициента детерминации) в RandomForestRegressor (ближе всех 1).\n",
    "* Лучшее значение средней абсолютней ошибки регрессионной потери (MAE), корня из среднеквадратической ошибки (MSE) чем меньше, те лучше, что тоже соответствует RandomForestRegressor.\n"
   ]
  },
  {
   "cell_type": "code",
   "execution_count": null,
   "id": "f92d08b8",
   "metadata": {},
   "outputs": [],
   "source": []
  }
 ],
 "metadata": {
  "kernelspec": {
   "display_name": "Python 3 (ipykernel)",
   "language": "python",
   "name": "python3"
  },
  "language_info": {
   "codemirror_mode": {
    "name": "ipython",
    "version": 3
   },
   "file_extension": ".py",
   "mimetype": "text/x-python",
   "name": "python",
   "nbconvert_exporter": "python",
   "pygments_lexer": "ipython3",
   "version": "3.9.12"
  }
 },
 "nbformat": 4,
 "nbformat_minor": 5
}
