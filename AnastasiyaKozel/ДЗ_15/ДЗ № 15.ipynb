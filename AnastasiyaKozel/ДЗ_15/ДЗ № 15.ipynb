{
 "cells": [
  {
   "cell_type": "markdown",
   "id": "b697c1e9",
   "metadata": {},
   "source": [
    "## Домашнее задание № 15\n",
    "### Козел А.Г. 20.11.2022 v.1\n",
    "Решить задачу регрессии. Получить максимальную метрику качества (R2, RMSE). \n",
    "Не забываем про введение и выводы."
   ]
  },
  {
   "cell_type": "markdown",
   "id": "29437343",
   "metadata": {},
   "source": [
    "### Об этом файле\n",
    "Это исторические данные, охватывающие продажи с 05.02.2010 по 01.11.2012, в файле продаж в магазине Walmart . В этом файле вы найдете следующие поля:\\\n",
    "\n",
    "* Store - номер магазина\n",
    "* Date - неделя продаж\n",
    "* Weekly_Sales - продажи для данного магазина\n",
    "* Holiday_Flag - является ли неделя особым праздником неделя 1 – праздничная (выходная) неделя 0 – непраздничная неделя\n",
    "* Temperature - Температура в день продажи\n",
    "* Fuel_Price - Стоимость топлива в регионе\n",
    "* CPI - Преобладающий индекс потребительских цен\n",
    "* Unemployment - Преобладающий уровень безработицы\n",
    "* Holiday Event\\ Super Bowl (Суперкубок): 12 февраля 2010 г., 11 февраля 2011 г., 10 февраля 2012 г., 8 февраля 2013 г.\\\n",
    "Labour Day (День труда): 10 сентября 2010 г., 9 сентября 2011 г., 7 сентября 2012 г. , 6-сен-13\\\n",
    " Thanksgiving (День Благодарения): 26-ноя-10, 25-ноябрь-11, 23-ноябрь-12, 29-ноябрь-13\\\n",
    "Christmas (Рождество): 31-дек-10, 30-дек-11, 28-декабрь -12, 27-дек-13\n"
   ]
  },
  {
   "cell_type": "code",
   "execution_count": 47,
   "id": "fcb56d5f",
   "metadata": {},
   "outputs": [],
   "source": [
    "# Загружаем требуемые библиотеки.\n",
    "import pandas as pd\n",
    "import seaborn as sns\n",
    "import matplotlib.pyplot as plt\n",
    "from scipy import stats\n",
    "import numpy as np\n",
    "\n",
    "from sklearn.model_selection import train_test_split\n",
    "from sklearn.preprocessing import StandardScaler "
   ]
  },
  {
   "cell_type": "code",
   "execution_count": 2,
   "id": "a91bf474",
   "metadata": {},
   "outputs": [
    {
     "data": {
      "text/html": [
       "<div>\n",
       "<style scoped>\n",
       "    .dataframe tbody tr th:only-of-type {\n",
       "        vertical-align: middle;\n",
       "    }\n",
       "\n",
       "    .dataframe tbody tr th {\n",
       "        vertical-align: top;\n",
       "    }\n",
       "\n",
       "    .dataframe thead th {\n",
       "        text-align: right;\n",
       "    }\n",
       "</style>\n",
       "<table border=\"1\" class=\"dataframe\">\n",
       "  <thead>\n",
       "    <tr style=\"text-align: right;\">\n",
       "      <th></th>\n",
       "      <th>Store</th>\n",
       "      <th>Date</th>\n",
       "      <th>Weekly_Sales</th>\n",
       "      <th>Holiday_Flag</th>\n",
       "      <th>Temperature</th>\n",
       "      <th>Fuel_Price</th>\n",
       "      <th>CPI</th>\n",
       "      <th>Unemployment</th>\n",
       "    </tr>\n",
       "  </thead>\n",
       "  <tbody>\n",
       "    <tr>\n",
       "      <th>0</th>\n",
       "      <td>1</td>\n",
       "      <td>05-02-2010</td>\n",
       "      <td>1643690.90</td>\n",
       "      <td>0</td>\n",
       "      <td>42.31</td>\n",
       "      <td>2.572</td>\n",
       "      <td>211.096358</td>\n",
       "      <td>8.106</td>\n",
       "    </tr>\n",
       "    <tr>\n",
       "      <th>1</th>\n",
       "      <td>1</td>\n",
       "      <td>12-02-2010</td>\n",
       "      <td>1641957.44</td>\n",
       "      <td>1</td>\n",
       "      <td>38.51</td>\n",
       "      <td>2.548</td>\n",
       "      <td>211.242170</td>\n",
       "      <td>8.106</td>\n",
       "    </tr>\n",
       "    <tr>\n",
       "      <th>2</th>\n",
       "      <td>1</td>\n",
       "      <td>19-02-2010</td>\n",
       "      <td>1611968.17</td>\n",
       "      <td>0</td>\n",
       "      <td>39.93</td>\n",
       "      <td>2.514</td>\n",
       "      <td>211.289143</td>\n",
       "      <td>8.106</td>\n",
       "    </tr>\n",
       "    <tr>\n",
       "      <th>3</th>\n",
       "      <td>1</td>\n",
       "      <td>26-02-2010</td>\n",
       "      <td>1409727.59</td>\n",
       "      <td>0</td>\n",
       "      <td>46.63</td>\n",
       "      <td>2.561</td>\n",
       "      <td>211.319643</td>\n",
       "      <td>8.106</td>\n",
       "    </tr>\n",
       "    <tr>\n",
       "      <th>4</th>\n",
       "      <td>1</td>\n",
       "      <td>05-03-2010</td>\n",
       "      <td>1554806.68</td>\n",
       "      <td>0</td>\n",
       "      <td>46.50</td>\n",
       "      <td>2.625</td>\n",
       "      <td>211.350143</td>\n",
       "      <td>8.106</td>\n",
       "    </tr>\n",
       "    <tr>\n",
       "      <th>...</th>\n",
       "      <td>...</td>\n",
       "      <td>...</td>\n",
       "      <td>...</td>\n",
       "      <td>...</td>\n",
       "      <td>...</td>\n",
       "      <td>...</td>\n",
       "      <td>...</td>\n",
       "      <td>...</td>\n",
       "    </tr>\n",
       "    <tr>\n",
       "      <th>6430</th>\n",
       "      <td>45</td>\n",
       "      <td>28-09-2012</td>\n",
       "      <td>713173.95</td>\n",
       "      <td>0</td>\n",
       "      <td>64.88</td>\n",
       "      <td>3.997</td>\n",
       "      <td>192.013558</td>\n",
       "      <td>8.684</td>\n",
       "    </tr>\n",
       "    <tr>\n",
       "      <th>6431</th>\n",
       "      <td>45</td>\n",
       "      <td>05-10-2012</td>\n",
       "      <td>733455.07</td>\n",
       "      <td>0</td>\n",
       "      <td>64.89</td>\n",
       "      <td>3.985</td>\n",
       "      <td>192.170412</td>\n",
       "      <td>8.667</td>\n",
       "    </tr>\n",
       "    <tr>\n",
       "      <th>6432</th>\n",
       "      <td>45</td>\n",
       "      <td>12-10-2012</td>\n",
       "      <td>734464.36</td>\n",
       "      <td>0</td>\n",
       "      <td>54.47</td>\n",
       "      <td>4.000</td>\n",
       "      <td>192.327265</td>\n",
       "      <td>8.667</td>\n",
       "    </tr>\n",
       "    <tr>\n",
       "      <th>6433</th>\n",
       "      <td>45</td>\n",
       "      <td>19-10-2012</td>\n",
       "      <td>718125.53</td>\n",
       "      <td>0</td>\n",
       "      <td>56.47</td>\n",
       "      <td>3.969</td>\n",
       "      <td>192.330854</td>\n",
       "      <td>8.667</td>\n",
       "    </tr>\n",
       "    <tr>\n",
       "      <th>6434</th>\n",
       "      <td>45</td>\n",
       "      <td>26-10-2012</td>\n",
       "      <td>760281.43</td>\n",
       "      <td>0</td>\n",
       "      <td>58.85</td>\n",
       "      <td>3.882</td>\n",
       "      <td>192.308899</td>\n",
       "      <td>8.667</td>\n",
       "    </tr>\n",
       "  </tbody>\n",
       "</table>\n",
       "<p>6435 rows × 8 columns</p>\n",
       "</div>"
      ],
      "text/plain": [
       "      Store        Date  Weekly_Sales  Holiday_Flag  Temperature  Fuel_Price  \\\n",
       "0         1  05-02-2010    1643690.90             0        42.31       2.572   \n",
       "1         1  12-02-2010    1641957.44             1        38.51       2.548   \n",
       "2         1  19-02-2010    1611968.17             0        39.93       2.514   \n",
       "3         1  26-02-2010    1409727.59             0        46.63       2.561   \n",
       "4         1  05-03-2010    1554806.68             0        46.50       2.625   \n",
       "...     ...         ...           ...           ...          ...         ...   \n",
       "6430     45  28-09-2012     713173.95             0        64.88       3.997   \n",
       "6431     45  05-10-2012     733455.07             0        64.89       3.985   \n",
       "6432     45  12-10-2012     734464.36             0        54.47       4.000   \n",
       "6433     45  19-10-2012     718125.53             0        56.47       3.969   \n",
       "6434     45  26-10-2012     760281.43             0        58.85       3.882   \n",
       "\n",
       "             CPI  Unemployment  \n",
       "0     211.096358         8.106  \n",
       "1     211.242170         8.106  \n",
       "2     211.289143         8.106  \n",
       "3     211.319643         8.106  \n",
       "4     211.350143         8.106  \n",
       "...          ...           ...  \n",
       "6430  192.013558         8.684  \n",
       "6431  192.170412         8.667  \n",
       "6432  192.327265         8.667  \n",
       "6433  192.330854         8.667  \n",
       "6434  192.308899         8.667  \n",
       "\n",
       "[6435 rows x 8 columns]"
      ]
     },
     "execution_count": 2,
     "metadata": {},
     "output_type": "execute_result"
    }
   ],
   "source": [
    "df = pd.read_csv('Walmart.csv', sep=',', encoding=\"cp1251\") \n",
    "df"
   ]
  },
  {
   "cell_type": "code",
   "execution_count": 3,
   "id": "fd25953a",
   "metadata": {},
   "outputs": [
    {
     "data": {
      "text/plain": [
       "Index(['Store', 'Date', 'Weekly_Sales', 'Holiday_Flag', 'Temperature',\n",
       "       'Fuel_Price', 'CPI', 'Unemployment'],\n",
       "      dtype='object')"
      ]
     },
     "execution_count": 3,
     "metadata": {},
     "output_type": "execute_result"
    }
   ],
   "source": [
    "df.columns"
   ]
  },
  {
   "cell_type": "code",
   "execution_count": 4,
   "id": "988c67c9",
   "metadata": {},
   "outputs": [
    {
     "name": "stdout",
     "output_type": "stream",
     "text": [
      "<class 'pandas.core.frame.DataFrame'>\n",
      "RangeIndex: 6435 entries, 0 to 6434\n",
      "Data columns (total 8 columns):\n",
      " #   Column        Non-Null Count  Dtype  \n",
      "---  ------        --------------  -----  \n",
      " 0   Store         6435 non-null   int64  \n",
      " 1   Date          6435 non-null   object \n",
      " 2   Weekly_Sales  6435 non-null   float64\n",
      " 3   Holiday_Flag  6435 non-null   int64  \n",
      " 4   Temperature   6435 non-null   float64\n",
      " 5   Fuel_Price    6435 non-null   float64\n",
      " 6   CPI           6435 non-null   float64\n",
      " 7   Unemployment  6435 non-null   float64\n",
      "dtypes: float64(5), int64(2), object(1)\n",
      "memory usage: 402.3+ KB\n"
     ]
    }
   ],
   "source": [
    "df.info()"
   ]
  },
  {
   "cell_type": "markdown",
   "id": "d4d5bb41",
   "metadata": {},
   "source": [
    "Пропуски значений отсутствуют"
   ]
  },
  {
   "cell_type": "code",
   "execution_count": 5,
   "id": "09e8ae91",
   "metadata": {},
   "outputs": [
    {
     "data": {
      "text/plain": [
       "Store             45\n",
       "Date             143\n",
       "Weekly_Sales    6435\n",
       "Holiday_Flag       2\n",
       "Temperature     3528\n",
       "Fuel_Price       892\n",
       "CPI             2145\n",
       "Unemployment     349\n",
       "dtype: int64"
      ]
     },
     "execution_count": 5,
     "metadata": {},
     "output_type": "execute_result"
    }
   ],
   "source": [
    "# количество уникальных значений\n",
    "df.nunique()"
   ]
  },
  {
   "cell_type": "code",
   "execution_count": 6,
   "id": "f3d01825",
   "metadata": {},
   "outputs": [
    {
     "data": {
      "text/html": [
       "<div>\n",
       "<style scoped>\n",
       "    .dataframe tbody tr th:only-of-type {\n",
       "        vertical-align: middle;\n",
       "    }\n",
       "\n",
       "    .dataframe tbody tr th {\n",
       "        vertical-align: top;\n",
       "    }\n",
       "\n",
       "    .dataframe thead th {\n",
       "        text-align: right;\n",
       "    }\n",
       "</style>\n",
       "<table border=\"1\" class=\"dataframe\">\n",
       "  <thead>\n",
       "    <tr style=\"text-align: right;\">\n",
       "      <th></th>\n",
       "      <th>Store</th>\n",
       "      <th>Weekly_Sales</th>\n",
       "      <th>Holiday_Flag</th>\n",
       "      <th>Temperature</th>\n",
       "      <th>Fuel_Price</th>\n",
       "      <th>CPI</th>\n",
       "      <th>Unemployment</th>\n",
       "    </tr>\n",
       "  </thead>\n",
       "  <tbody>\n",
       "    <tr>\n",
       "      <th>count</th>\n",
       "      <td>6435.000000</td>\n",
       "      <td>6.435000e+03</td>\n",
       "      <td>6435.000000</td>\n",
       "      <td>6435.000000</td>\n",
       "      <td>6435.000000</td>\n",
       "      <td>6435.000000</td>\n",
       "      <td>6435.000000</td>\n",
       "    </tr>\n",
       "    <tr>\n",
       "      <th>mean</th>\n",
       "      <td>23.000000</td>\n",
       "      <td>1.046965e+06</td>\n",
       "      <td>0.069930</td>\n",
       "      <td>60.663782</td>\n",
       "      <td>3.358607</td>\n",
       "      <td>171.578394</td>\n",
       "      <td>7.999151</td>\n",
       "    </tr>\n",
       "    <tr>\n",
       "      <th>std</th>\n",
       "      <td>12.988182</td>\n",
       "      <td>5.643666e+05</td>\n",
       "      <td>0.255049</td>\n",
       "      <td>18.444933</td>\n",
       "      <td>0.459020</td>\n",
       "      <td>39.356712</td>\n",
       "      <td>1.875885</td>\n",
       "    </tr>\n",
       "    <tr>\n",
       "      <th>min</th>\n",
       "      <td>1.000000</td>\n",
       "      <td>2.099862e+05</td>\n",
       "      <td>0.000000</td>\n",
       "      <td>-2.060000</td>\n",
       "      <td>2.472000</td>\n",
       "      <td>126.064000</td>\n",
       "      <td>3.879000</td>\n",
       "    </tr>\n",
       "    <tr>\n",
       "      <th>25%</th>\n",
       "      <td>12.000000</td>\n",
       "      <td>5.533501e+05</td>\n",
       "      <td>0.000000</td>\n",
       "      <td>47.460000</td>\n",
       "      <td>2.933000</td>\n",
       "      <td>131.735000</td>\n",
       "      <td>6.891000</td>\n",
       "    </tr>\n",
       "    <tr>\n",
       "      <th>50%</th>\n",
       "      <td>23.000000</td>\n",
       "      <td>9.607460e+05</td>\n",
       "      <td>0.000000</td>\n",
       "      <td>62.670000</td>\n",
       "      <td>3.445000</td>\n",
       "      <td>182.616521</td>\n",
       "      <td>7.874000</td>\n",
       "    </tr>\n",
       "    <tr>\n",
       "      <th>75%</th>\n",
       "      <td>34.000000</td>\n",
       "      <td>1.420159e+06</td>\n",
       "      <td>0.000000</td>\n",
       "      <td>74.940000</td>\n",
       "      <td>3.735000</td>\n",
       "      <td>212.743293</td>\n",
       "      <td>8.622000</td>\n",
       "    </tr>\n",
       "    <tr>\n",
       "      <th>max</th>\n",
       "      <td>45.000000</td>\n",
       "      <td>3.818686e+06</td>\n",
       "      <td>1.000000</td>\n",
       "      <td>100.140000</td>\n",
       "      <td>4.468000</td>\n",
       "      <td>227.232807</td>\n",
       "      <td>14.313000</td>\n",
       "    </tr>\n",
       "  </tbody>\n",
       "</table>\n",
       "</div>"
      ],
      "text/plain": [
       "             Store  Weekly_Sales  Holiday_Flag  Temperature   Fuel_Price  \\\n",
       "count  6435.000000  6.435000e+03   6435.000000  6435.000000  6435.000000   \n",
       "mean     23.000000  1.046965e+06      0.069930    60.663782     3.358607   \n",
       "std      12.988182  5.643666e+05      0.255049    18.444933     0.459020   \n",
       "min       1.000000  2.099862e+05      0.000000    -2.060000     2.472000   \n",
       "25%      12.000000  5.533501e+05      0.000000    47.460000     2.933000   \n",
       "50%      23.000000  9.607460e+05      0.000000    62.670000     3.445000   \n",
       "75%      34.000000  1.420159e+06      0.000000    74.940000     3.735000   \n",
       "max      45.000000  3.818686e+06      1.000000   100.140000     4.468000   \n",
       "\n",
       "               CPI  Unemployment  \n",
       "count  6435.000000   6435.000000  \n",
       "mean    171.578394      7.999151  \n",
       "std      39.356712      1.875885  \n",
       "min     126.064000      3.879000  \n",
       "25%     131.735000      6.891000  \n",
       "50%     182.616521      7.874000  \n",
       "75%     212.743293      8.622000  \n",
       "max     227.232807     14.313000  "
      ]
     },
     "execution_count": 6,
     "metadata": {},
     "output_type": "execute_result"
    }
   ],
   "source": [
    "df.describe()"
   ]
  },
  {
   "cell_type": "code",
   "execution_count": 7,
   "id": "39eef730",
   "metadata": {},
   "outputs": [
    {
     "name": "stderr",
     "output_type": "stream",
     "text": [
      "C:\\Users\\37533\\anaconda3\\lib\\site-packages\\seaborn\\_decorators.py:36: FutureWarning: Pass the following variable as a keyword arg: x. From version 0.12, the only valid positional argument will be `data`, and passing other arguments without an explicit keyword will result in an error or misinterpretation.\n",
      "  warnings.warn(\n",
      "C:\\Users\\37533\\anaconda3\\lib\\site-packages\\seaborn\\_decorators.py:36: FutureWarning: Pass the following variable as a keyword arg: x. From version 0.12, the only valid positional argument will be `data`, and passing other arguments without an explicit keyword will result in an error or misinterpretation.\n",
      "  warnings.warn(\n",
      "C:\\Users\\37533\\anaconda3\\lib\\site-packages\\seaborn\\_decorators.py:36: FutureWarning: Pass the following variable as a keyword arg: x. From version 0.12, the only valid positional argument will be `data`, and passing other arguments without an explicit keyword will result in an error or misinterpretation.\n",
      "  warnings.warn(\n",
      "C:\\Users\\37533\\anaconda3\\lib\\site-packages\\seaborn\\_decorators.py:36: FutureWarning: Pass the following variable as a keyword arg: x. From version 0.12, the only valid positional argument will be `data`, and passing other arguments without an explicit keyword will result in an error or misinterpretation.\n",
      "  warnings.warn(\n",
      "C:\\Users\\37533\\anaconda3\\lib\\site-packages\\seaborn\\_decorators.py:36: FutureWarning: Pass the following variable as a keyword arg: x. From version 0.12, the only valid positional argument will be `data`, and passing other arguments without an explicit keyword will result in an error or misinterpretation.\n",
      "  warnings.warn(\n"
     ]
    },
    {
     "data": {
      "image/png": "[encoded data removed]",
      "text/plain": [
       "<Figure size 1080x720 with 5 Axes>"
      ]
     },
     "metadata": {
      "needs_background": "light"
     },
     "output_type": "display_data"
    }
   ],
   "source": [
    "n = 1\n",
    "\n",
    "plt.figure(figsize=(15,10))\n",
    "for i in [\"Weekly_Sales\",\"Temperature\",\"Fuel_Price\",\"CPI\",\"Unemployment\"]:\n",
    "        if n<=5:\n",
    "            plt.subplot(3,2,n);\n",
    "            n+=1\n",
    "            sns.boxplot(df[i]);\n",
    "           \n",
    "            plt.xlabel(i);"
   ]
  },
  {
   "cell_type": "markdown",
   "id": "9e80a1f7",
   "metadata": {},
   "source": [
    "## Обработка столбца \"Date\""
   ]
  },
  {
   "cell_type": "markdown",
   "id": "7dca0039",
   "metadata": {},
   "source": [
    "Holiday Event:\n",
    "* Super Bowl (Суперкубок): 12 февраля 2010 г., 11 февраля 2011 г., 10 февраля 2012 г., 8 февраля 2013 г.\n",
    "* Labour Day (День труда): 10 сентября 2010 г., 9 сентября 2011 г., 7 сентября 2012 г. , 6-сен-13\n",
    "* Thanksgiving (День Благодарения): 26-ноя-10, 25-ноябрь-11, 23-ноябрь-12, 29-ноябрь-13\n",
    "* Christmas (Рождество): 31-дек-10, 30-дек-11, 28-декабрь -12, 27-дек-13"
   ]
  },
  {
   "cell_type": "code",
   "execution_count": 8,
   "id": "07aaaeaa",
   "metadata": {},
   "outputs": [
    {
     "name": "stderr",
     "output_type": "stream",
     "text": [
      "C:\\Users\\37533\\AppData\\Local\\Temp\\ipykernel_1420\\4225066464.py:2: FutureWarning: The series.append method is deprecated and will be removed from pandas in a future version. Use pandas.concat instead.\n",
      "  df['Date'].head(2).append(df['Date'].tail(2))\n"
     ]
    },
    {
     "data": {
      "text/plain": [
       "0       05-02-2010\n",
       "1       12-02-2010\n",
       "6433    19-10-2012\n",
       "6434    26-10-2012\n",
       "Name: Date, dtype: object"
      ]
     },
     "execution_count": 8,
     "metadata": {},
     "output_type": "execute_result"
    }
   ],
   "source": [
    "# Рассмотрим промежуток, за который даны результаты\n",
    "df['Date'].head(2).append(df['Date'].tail(2)) "
   ]
  },
  {
   "cell_type": "code",
   "execution_count": 9,
   "id": "c9cf088b",
   "metadata": {},
   "outputs": [
    {
     "data": {
      "text/plain": [
       "array(['12-02-2010', '10-09-2010', '26-11-2010', '31-12-2010',\n",
       "       '11-02-2011', '09-09-2011', '25-11-2011', '30-12-2011',\n",
       "       '10-02-2012', '07-09-2012'], dtype=object)"
      ]
     },
     "execution_count": 9,
     "metadata": {},
     "output_type": "execute_result"
    }
   ],
   "source": [
    "df_holiday = df.loc[df['Holiday_Flag']== 1]\n",
    "df_holiday['Date'].unique() "
   ]
  },
  {
   "cell_type": "code",
   "execution_count": 19,
   "id": "023b559d",
   "metadata": {},
   "outputs": [],
   "source": [
    "df.loc[(df['Date'] == '12-02-2010')|(df['Date'] == '11-02-2011')|(df['Date'] == '10-02-2012'),'Super_Bowl'] = 1\n",
    "df.loc[(df['Date'] != '12-02-2010')&(df['Date'] != '11-02-2011')&(df['Date'] != '10-02-2012'),'Super_Bowl'] = 0\n",
    "#df.loc[(df['Date'] == '2010-12-02')|(df['Date'] == '2011-11-02')|(df['Date'] == '2012-02-10'),'Super_Bowl'] = 1\n",
    "#df.loc[(df['Date'] != '2010-12-02')&(df['Date'] != '2011-11-02')&(df['Date'] != '2012-02-10'),'Super_Bowl'] = 0"
   ]
  },
  {
   "cell_type": "code",
   "execution_count": 24,
   "id": "a5752a42",
   "metadata": {},
   "outputs": [],
   "source": [
    "df.loc[(df['Date'] == '10-09-2010')|(df['Date'] == '09-09-2011')|(df['Date'] == '07-09-2012'),'Labour Day'] = 1\n",
    "df.loc[(df['Date'] != '10-09-2010')&(df['Date'] != '09-09-20119')&(df['Date'] != '07-09-2012'),'Labour Day'] = 0\n",
    "#df.loc[(df['Date'] == '2010-10-09')|(df['Date'] == '2011-09-09')|(df['Date'] == '2012-07-09'),'Labour Day'] = 1\n",
    "#df.loc[(df['Date'] != '2010-10-09')&(df['Date'] != '2011-09-09')&(df['Date'] != '2012-07-09'),'Labour Day'] = 0"
   ]
  },
  {
   "cell_type": "code",
   "execution_count": 26,
   "id": "48c58c51",
   "metadata": {},
   "outputs": [],
   "source": [
    "df.loc[(df['Date'] == '26-11-2010')|(df['Date'] == '25-11-2011'),'Thanksgiving'] = 1\n",
    "df.loc[(df['Date'] != '26-11-2010')&(df['Date'] != '25-11-2011'),'Thanksgiving'] = 0\n",
    "#df.loc[(df['Date'] == '2010-26-11')|(df['Date'] == '2011-25-11'),'Thanksgiving'] = 1\n",
    "#df.loc[(df['Date'] != '2010-26-11')&(df['Date'] != '2011-25-11'),'Thanksgiving'] = 0"
   ]
  },
  {
   "cell_type": "code",
   "execution_count": 28,
   "id": "43138fc2",
   "metadata": {},
   "outputs": [],
   "source": [
    "df.loc[(df['Date'] == '31-12-2010')|(df['Date'] == '30-12-2011'),'Christmas'] = 1\n",
    "df.loc[(df['Date'] != '31-12-2010')&(df['Date'] != '30-12-2011'),'Christmas'] = 0\n",
    "#df.loc[(df['Date'] == '2010-31-12')|(df['Date'] == '2011-30-12'),'Christmas'] = 1\n",
    "#df.loc[(df['Date'] != '2010-31-12')&(df['Date'] != '2011-30-12'),'Christmas'] = 0"
   ]
  },
  {
   "cell_type": "code",
   "execution_count": 29,
   "id": "117cd5ce",
   "metadata": {},
   "outputs": [
    {
     "name": "stderr",
     "output_type": "stream",
     "text": [
      "C:\\Users\\37533\\AppData\\Local\\Temp\\ipykernel_1420\\3411147906.py:3: FutureWarning: Series.dt.weekofyear and Series.dt.week have been deprecated. Please use Series.dt.isocalendar().week instead.\n",
      "  df['week'] =df['Date'].dt.week\n"
     ]
    }
   ],
   "source": [
    "# Выделим столбцы 'год', 'месяц', 'неделя', 'день'\n",
    "df[\"Date\"] = pd.to_datetime(df[\"Date\"]) \n",
    "df['week'] =df['Date'].dt.week\n",
    "df['month'] =df['Date'].dt.month \n",
    "df['year'] =df['Date'].dt.year\n",
    "df['day'] =df['Date'].dt.day"
   ]
  },
  {
   "cell_type": "code",
   "execution_count": 30,
   "id": "f5d68d3b",
   "metadata": {},
   "outputs": [
    {
     "data": {
      "text/html": [
       "<div>\n",
       "<style scoped>\n",
       "    .dataframe tbody tr th:only-of-type {\n",
       "        vertical-align: middle;\n",
       "    }\n",
       "\n",
       "    .dataframe tbody tr th {\n",
       "        vertical-align: top;\n",
       "    }\n",
       "\n",
       "    .dataframe thead th {\n",
       "        text-align: right;\n",
       "    }\n",
       "</style>\n",
       "<table border=\"1\" class=\"dataframe\">\n",
       "  <thead>\n",
       "    <tr style=\"text-align: right;\">\n",
       "      <th></th>\n",
       "      <th>Store</th>\n",
       "      <th>Date</th>\n",
       "      <th>Weekly_Sales</th>\n",
       "      <th>Holiday_Flag</th>\n",
       "      <th>Temperature</th>\n",
       "      <th>Fuel_Price</th>\n",
       "      <th>CPI</th>\n",
       "      <th>Unemployment</th>\n",
       "      <th>Super_Bowl</th>\n",
       "      <th>Labour Day</th>\n",
       "      <th>Thanksgiving</th>\n",
       "      <th>Christmas</th>\n",
       "      <th>week</th>\n",
       "      <th>month</th>\n",
       "      <th>year</th>\n",
       "      <th>day</th>\n",
       "    </tr>\n",
       "  </thead>\n",
       "  <tbody>\n",
       "    <tr>\n",
       "      <th>0</th>\n",
       "      <td>1</td>\n",
       "      <td>2010-05-02</td>\n",
       "      <td>1643690.90</td>\n",
       "      <td>0</td>\n",
       "      <td>42.31</td>\n",
       "      <td>2.572</td>\n",
       "      <td>211.096358</td>\n",
       "      <td>8.106</td>\n",
       "      <td>0.0</td>\n",
       "      <td>0.0</td>\n",
       "      <td>0.0</td>\n",
       "      <td>0.0</td>\n",
       "      <td>17</td>\n",
       "      <td>5</td>\n",
       "      <td>2010</td>\n",
       "      <td>2</td>\n",
       "    </tr>\n",
       "    <tr>\n",
       "      <th>1</th>\n",
       "      <td>1</td>\n",
       "      <td>2010-12-02</td>\n",
       "      <td>1641957.44</td>\n",
       "      <td>1</td>\n",
       "      <td>38.51</td>\n",
       "      <td>2.548</td>\n",
       "      <td>211.242170</td>\n",
       "      <td>8.106</td>\n",
       "      <td>1.0</td>\n",
       "      <td>0.0</td>\n",
       "      <td>0.0</td>\n",
       "      <td>0.0</td>\n",
       "      <td>48</td>\n",
       "      <td>12</td>\n",
       "      <td>2010</td>\n",
       "      <td>2</td>\n",
       "    </tr>\n",
       "    <tr>\n",
       "      <th>2</th>\n",
       "      <td>1</td>\n",
       "      <td>2010-02-19</td>\n",
       "      <td>1611968.17</td>\n",
       "      <td>0</td>\n",
       "      <td>39.93</td>\n",
       "      <td>2.514</td>\n",
       "      <td>211.289143</td>\n",
       "      <td>8.106</td>\n",
       "      <td>0.0</td>\n",
       "      <td>0.0</td>\n",
       "      <td>0.0</td>\n",
       "      <td>0.0</td>\n",
       "      <td>7</td>\n",
       "      <td>2</td>\n",
       "      <td>2010</td>\n",
       "      <td>19</td>\n",
       "    </tr>\n",
       "    <tr>\n",
       "      <th>3</th>\n",
       "      <td>1</td>\n",
       "      <td>2010-02-26</td>\n",
       "      <td>1409727.59</td>\n",
       "      <td>0</td>\n",
       "      <td>46.63</td>\n",
       "      <td>2.561</td>\n",
       "      <td>211.319643</td>\n",
       "      <td>8.106</td>\n",
       "      <td>0.0</td>\n",
       "      <td>0.0</td>\n",
       "      <td>0.0</td>\n",
       "      <td>0.0</td>\n",
       "      <td>8</td>\n",
       "      <td>2</td>\n",
       "      <td>2010</td>\n",
       "      <td>26</td>\n",
       "    </tr>\n",
       "    <tr>\n",
       "      <th>4</th>\n",
       "      <td>1</td>\n",
       "      <td>2010-05-03</td>\n",
       "      <td>1554806.68</td>\n",
       "      <td>0</td>\n",
       "      <td>46.50</td>\n",
       "      <td>2.625</td>\n",
       "      <td>211.350143</td>\n",
       "      <td>8.106</td>\n",
       "      <td>0.0</td>\n",
       "      <td>0.0</td>\n",
       "      <td>0.0</td>\n",
       "      <td>0.0</td>\n",
       "      <td>18</td>\n",
       "      <td>5</td>\n",
       "      <td>2010</td>\n",
       "      <td>3</td>\n",
       "    </tr>\n",
       "  </tbody>\n",
       "</table>\n",
       "</div>"
      ],
      "text/plain": [
       "   Store       Date  Weekly_Sales  Holiday_Flag  Temperature  Fuel_Price  \\\n",
       "0      1 2010-05-02    1643690.90             0        42.31       2.572   \n",
       "1      1 2010-12-02    1641957.44             1        38.51       2.548   \n",
       "2      1 2010-02-19    1611968.17             0        39.93       2.514   \n",
       "3      1 2010-02-26    1409727.59             0        46.63       2.561   \n",
       "4      1 2010-05-03    1554806.68             0        46.50       2.625   \n",
       "\n",
       "          CPI  Unemployment  Super_Bowl  Labour Day  Thanksgiving  Christmas  \\\n",
       "0  211.096358         8.106         0.0         0.0           0.0        0.0   \n",
       "1  211.242170         8.106         1.0         0.0           0.0        0.0   \n",
       "2  211.289143         8.106         0.0         0.0           0.0        0.0   \n",
       "3  211.319643         8.106         0.0         0.0           0.0        0.0   \n",
       "4  211.350143         8.106         0.0         0.0           0.0        0.0   \n",
       "\n",
       "   week  month  year  day  \n",
       "0    17      5  2010    2  \n",
       "1    48     12  2010    2  \n",
       "2     7      2  2010   19  \n",
       "3     8      2  2010   26  \n",
       "4    18      5  2010    3  "
      ]
     },
     "execution_count": 30,
     "metadata": {},
     "output_type": "execute_result"
    }
   ],
   "source": [
    "df.head(5)"
   ]
  },
  {
   "cell_type": "code",
   "execution_count": 31,
   "id": "d1414fe7",
   "metadata": {},
   "outputs": [
    {
     "data": {
      "text/plain": [
       "day\n",
       "1     9.747912e+05\n",
       "2     1.065451e+06\n",
       "3     1.032394e+06\n",
       "4     1.069502e+06\n",
       "5     1.052307e+06\n",
       "6     1.082925e+06\n",
       "7     1.082257e+06\n",
       "8     1.054931e+06\n",
       "9     1.036883e+06\n",
       "10    1.014443e+06\n",
       "11    1.050203e+06\n",
       "12    1.169597e+06\n",
       "13    1.007389e+06\n",
       "14    9.700257e+05\n",
       "15    1.011394e+06\n",
       "16    1.076483e+06\n",
       "17    1.110669e+06\n",
       "18    1.042104e+06\n",
       "19    1.024139e+06\n",
       "20    9.969805e+05\n",
       "21    9.774903e+05\n",
       "22    1.026034e+06\n",
       "23    1.130371e+06\n",
       "24    1.161746e+06\n",
       "25    1.102654e+06\n",
       "26    1.097265e+06\n",
       "27    9.726761e+05\n",
       "28    9.830449e+05\n",
       "29    9.856292e+05\n",
       "30    9.859851e+05\n",
       "31    9.732462e+05\n",
       "Name: Weekly_Sales, dtype: float64"
      ]
     },
     "execution_count": 31,
     "metadata": {},
     "output_type": "execute_result"
    }
   ],
   "source": [
    "df.groupby('day')['Weekly_Sales'].mean() "
   ]
  },
  {
   "cell_type": "code",
   "execution_count": 32,
   "id": "c4f6c392",
   "metadata": {},
   "outputs": [
    {
     "data": {
      "text/plain": [
       "month\n",
       "1     9.476139e+05\n",
       "2     1.054597e+06\n",
       "3     1.024975e+06\n",
       "4     1.024324e+06\n",
       "5     1.035379e+06\n",
       "6     1.064848e+06\n",
       "7     1.014212e+06\n",
       "8     1.044874e+06\n",
       "9     1.009457e+06\n",
       "10    1.030631e+06\n",
       "11    1.133751e+06\n",
       "12    1.210255e+06\n",
       "Name: Weekly_Sales, dtype: float64"
      ]
     },
     "execution_count": 32,
     "metadata": {},
     "output_type": "execute_result"
    }
   ],
   "source": [
    "df.groupby('month')['Weekly_Sales'].mean() "
   ]
  },
  {
   "cell_type": "code",
   "execution_count": 33,
   "id": "a6edd61d",
   "metadata": {},
   "outputs": [
    {
     "data": {
      "text/plain": [
       "year\n",
       "2010    1.059670e+06\n",
       "2011    1.046239e+06\n",
       "2012    1.033660e+06\n",
       "Name: Weekly_Sales, dtype: float64"
      ]
     },
     "execution_count": 33,
     "metadata": {},
     "output_type": "execute_result"
    }
   ],
   "source": [
    "df.groupby('year')['Weekly_Sales'].mean() "
   ]
  },
  {
   "cell_type": "code",
   "execution_count": 34,
   "id": "2ffdede2",
   "metadata": {},
   "outputs": [
    {
     "data": {
      "text/plain": [
       "<AxesSubplot:xlabel='month'>"
      ]
     },
     "execution_count": 34,
     "metadata": {},
     "output_type": "execute_result"
    },
    {
     "data": {
      "image/png": "[encoded data removed]",
      "text/plain": [
       "<Figure size 432x288 with 1 Axes>"
      ]
     },
     "metadata": {
      "needs_background": "light"
     },
     "output_type": "display_data"
    }
   ],
   "source": [
    "monthly_sales = pd.pivot_table(df, values = \"Weekly_Sales\", columns = \"year\", index = \"month\")\n",
    "monthly_sales.plot()"
   ]
  },
  {
   "cell_type": "code",
   "execution_count": 35,
   "id": "ccae7e54",
   "metadata": {},
   "outputs": [
    {
     "data": {
      "image/png": "[encoded data removed]",
      "text/plain": [
       "<Figure size 432x288 with 1 Axes>"
      ]
     },
     "metadata": {
      "needs_background": "light"
     },
     "output_type": "display_data"
    }
   ],
   "source": [
    "fig = sns.barplot(x='month', y='Weekly_Sales', data=df)"
   ]
  },
  {
   "cell_type": "code",
   "execution_count": 36,
   "id": "cccb7f5c",
   "metadata": {},
   "outputs": [
    {
     "data": {
      "text/plain": [
       "<AxesSubplot:xlabel='week'>"
      ]
     },
     "execution_count": 36,
     "metadata": {},
     "output_type": "execute_result"
    },
    {
     "data": {
      "image/png": "[encoded data removed]",
      "text/plain": [
       "<Figure size 432x288 with 1 Axes>"
      ]
     },
     "metadata": {
      "needs_background": "light"
     },
     "output_type": "display_data"
    }
   ],
   "source": [
    "weekly_sales = pd.pivot_table(df, values = \"Weekly_Sales\", columns = \"year\", index = \"week\")\n",
    "weekly_sales.plot()"
   ]
  },
  {
   "cell_type": "code",
   "execution_count": 59,
   "id": "e5228be1",
   "metadata": {},
   "outputs": [
    {
     "data": {
      "text/plain": [
       "<AxesSubplot:xlabel='Temperature'>"
      ]
     },
     "execution_count": 59,
     "metadata": {},
     "output_type": "execute_result"
    },
    {
     "data": {
      "image/png": "[encoded data removed]",
      "text/plain": [
       "<Figure size 432x288 with 1 Axes>"
      ]
     },
     "metadata": {
      "needs_background": "light"
     },
     "output_type": "display_data"
    }
   ],
   "source": [
    "temperature = pd.pivot_table(df, values = \"Weekly_Sales\", index= \"Temperature\")\n",
    "temperature.plot()"
   ]
  },
  {
   "cell_type": "code",
   "execution_count": 38,
   "id": "46d91460",
   "metadata": {},
   "outputs": [
    {
     "data": {
      "text/plain": [
       "<AxesSubplot:xlabel='Fuel_Price'>"
      ]
     },
     "execution_count": 38,
     "metadata": {},
     "output_type": "execute_result"
    },
    {
     "data": {
      "image/png": "[encoded data removed]",
      "text/plain": [
       "<Figure size 432x288 with 1 Axes>"
      ]
     },
     "metadata": {
      "needs_background": "light"
     },
     "output_type": "display_data"
    }
   ],
   "source": [
    "fuel_price = pd.pivot_table(df, values = \"Weekly_Sales\", index= \"Fuel_Price\")\n",
    "fuel_price.plot()"
   ]
  },
  {
   "cell_type": "code",
   "execution_count": 39,
   "id": "47c0899f",
   "metadata": {},
   "outputs": [
    {
     "data": {
      "text/plain": [
       "<AxesSubplot:xlabel='CPI'>"
      ]
     },
     "execution_count": 39,
     "metadata": {},
     "output_type": "execute_result"
    },
    {
     "data": {
      "image/png": "[encoded data removed]",
      "text/plain": [
       "<Figure size 432x288 with 1 Axes>"
      ]
     },
     "metadata": {
      "needs_background": "light"
     },
     "output_type": "display_data"
    }
   ],
   "source": [
    "CPI = pd.pivot_table(df, values = \"Weekly_Sales\", index= \"CPI\")\n",
    "CPI.plot()"
   ]
  },
  {
   "cell_type": "code",
   "execution_count": 40,
   "id": "62ad6f48",
   "metadata": {},
   "outputs": [
    {
     "data": {
      "text/html": [
       "<div>\n",
       "<style scoped>\n",
       "    .dataframe tbody tr th:only-of-type {\n",
       "        vertical-align: middle;\n",
       "    }\n",
       "\n",
       "    .dataframe tbody tr th {\n",
       "        vertical-align: top;\n",
       "    }\n",
       "\n",
       "    .dataframe thead th {\n",
       "        text-align: right;\n",
       "    }\n",
       "</style>\n",
       "<table border=\"1\" class=\"dataframe\">\n",
       "  <thead>\n",
       "    <tr style=\"text-align: right;\">\n",
       "      <th></th>\n",
       "      <th>Store</th>\n",
       "      <th>Date</th>\n",
       "      <th>Weekly_Sales</th>\n",
       "      <th>Holiday_Flag</th>\n",
       "      <th>Temperature</th>\n",
       "      <th>Fuel_Price</th>\n",
       "      <th>CPI</th>\n",
       "      <th>Unemployment</th>\n",
       "      <th>Super_Bowl</th>\n",
       "      <th>Labour Day</th>\n",
       "      <th>Thanksgiving</th>\n",
       "      <th>Christmas</th>\n",
       "      <th>week</th>\n",
       "      <th>month</th>\n",
       "      <th>year</th>\n",
       "      <th>day</th>\n",
       "    </tr>\n",
       "  </thead>\n",
       "  <tbody>\n",
       "    <tr>\n",
       "      <th>0</th>\n",
       "      <td>1</td>\n",
       "      <td>2010-05-02</td>\n",
       "      <td>1643690.90</td>\n",
       "      <td>0</td>\n",
       "      <td>42.31</td>\n",
       "      <td>2.572</td>\n",
       "      <td>211.096358</td>\n",
       "      <td>8.106</td>\n",
       "      <td>0.0</td>\n",
       "      <td>0.0</td>\n",
       "      <td>0.0</td>\n",
       "      <td>0.0</td>\n",
       "      <td>17</td>\n",
       "      <td>5</td>\n",
       "      <td>2010</td>\n",
       "      <td>2</td>\n",
       "    </tr>\n",
       "    <tr>\n",
       "      <th>1</th>\n",
       "      <td>1</td>\n",
       "      <td>2010-12-02</td>\n",
       "      <td>1641957.44</td>\n",
       "      <td>1</td>\n",
       "      <td>38.51</td>\n",
       "      <td>2.548</td>\n",
       "      <td>211.242170</td>\n",
       "      <td>8.106</td>\n",
       "      <td>1.0</td>\n",
       "      <td>0.0</td>\n",
       "      <td>0.0</td>\n",
       "      <td>0.0</td>\n",
       "      <td>48</td>\n",
       "      <td>12</td>\n",
       "      <td>2010</td>\n",
       "      <td>2</td>\n",
       "    </tr>\n",
       "    <tr>\n",
       "      <th>2</th>\n",
       "      <td>1</td>\n",
       "      <td>2010-02-19</td>\n",
       "      <td>1611968.17</td>\n",
       "      <td>0</td>\n",
       "      <td>39.93</td>\n",
       "      <td>2.514</td>\n",
       "      <td>211.289143</td>\n",
       "      <td>8.106</td>\n",
       "      <td>0.0</td>\n",
       "      <td>0.0</td>\n",
       "      <td>0.0</td>\n",
       "      <td>0.0</td>\n",
       "      <td>7</td>\n",
       "      <td>2</td>\n",
       "      <td>2010</td>\n",
       "      <td>19</td>\n",
       "    </tr>\n",
       "    <tr>\n",
       "      <th>3</th>\n",
       "      <td>1</td>\n",
       "      <td>2010-02-26</td>\n",
       "      <td>1409727.59</td>\n",
       "      <td>0</td>\n",
       "      <td>46.63</td>\n",
       "      <td>2.561</td>\n",
       "      <td>211.319643</td>\n",
       "      <td>8.106</td>\n",
       "      <td>0.0</td>\n",
       "      <td>0.0</td>\n",
       "      <td>0.0</td>\n",
       "      <td>0.0</td>\n",
       "      <td>8</td>\n",
       "      <td>2</td>\n",
       "      <td>2010</td>\n",
       "      <td>26</td>\n",
       "    </tr>\n",
       "    <tr>\n",
       "      <th>4</th>\n",
       "      <td>1</td>\n",
       "      <td>2010-05-03</td>\n",
       "      <td>1554806.68</td>\n",
       "      <td>0</td>\n",
       "      <td>46.50</td>\n",
       "      <td>2.625</td>\n",
       "      <td>211.350143</td>\n",
       "      <td>8.106</td>\n",
       "      <td>0.0</td>\n",
       "      <td>0.0</td>\n",
       "      <td>0.0</td>\n",
       "      <td>0.0</td>\n",
       "      <td>18</td>\n",
       "      <td>5</td>\n",
       "      <td>2010</td>\n",
       "      <td>3</td>\n",
       "    </tr>\n",
       "    <tr>\n",
       "      <th>...</th>\n",
       "      <td>...</td>\n",
       "      <td>...</td>\n",
       "      <td>...</td>\n",
       "      <td>...</td>\n",
       "      <td>...</td>\n",
       "      <td>...</td>\n",
       "      <td>...</td>\n",
       "      <td>...</td>\n",
       "      <td>...</td>\n",
       "      <td>...</td>\n",
       "      <td>...</td>\n",
       "      <td>...</td>\n",
       "      <td>...</td>\n",
       "      <td>...</td>\n",
       "      <td>...</td>\n",
       "      <td>...</td>\n",
       "    </tr>\n",
       "    <tr>\n",
       "      <th>6430</th>\n",
       "      <td>45</td>\n",
       "      <td>2012-09-28</td>\n",
       "      <td>713173.95</td>\n",
       "      <td>0</td>\n",
       "      <td>64.88</td>\n",
       "      <td>3.997</td>\n",
       "      <td>192.013558</td>\n",
       "      <td>8.684</td>\n",
       "      <td>0.0</td>\n",
       "      <td>0.0</td>\n",
       "      <td>0.0</td>\n",
       "      <td>0.0</td>\n",
       "      <td>39</td>\n",
       "      <td>9</td>\n",
       "      <td>2012</td>\n",
       "      <td>28</td>\n",
       "    </tr>\n",
       "    <tr>\n",
       "      <th>6431</th>\n",
       "      <td>45</td>\n",
       "      <td>2012-05-10</td>\n",
       "      <td>733455.07</td>\n",
       "      <td>0</td>\n",
       "      <td>64.89</td>\n",
       "      <td>3.985</td>\n",
       "      <td>192.170412</td>\n",
       "      <td>8.667</td>\n",
       "      <td>0.0</td>\n",
       "      <td>0.0</td>\n",
       "      <td>0.0</td>\n",
       "      <td>0.0</td>\n",
       "      <td>19</td>\n",
       "      <td>5</td>\n",
       "      <td>2012</td>\n",
       "      <td>10</td>\n",
       "    </tr>\n",
       "    <tr>\n",
       "      <th>6432</th>\n",
       "      <td>45</td>\n",
       "      <td>2012-12-10</td>\n",
       "      <td>734464.36</td>\n",
       "      <td>0</td>\n",
       "      <td>54.47</td>\n",
       "      <td>4.000</td>\n",
       "      <td>192.327265</td>\n",
       "      <td>8.667</td>\n",
       "      <td>0.0</td>\n",
       "      <td>0.0</td>\n",
       "      <td>0.0</td>\n",
       "      <td>0.0</td>\n",
       "      <td>50</td>\n",
       "      <td>12</td>\n",
       "      <td>2012</td>\n",
       "      <td>10</td>\n",
       "    </tr>\n",
       "    <tr>\n",
       "      <th>6433</th>\n",
       "      <td>45</td>\n",
       "      <td>2012-10-19</td>\n",
       "      <td>718125.53</td>\n",
       "      <td>0</td>\n",
       "      <td>56.47</td>\n",
       "      <td>3.969</td>\n",
       "      <td>192.330854</td>\n",
       "      <td>8.667</td>\n",
       "      <td>0.0</td>\n",
       "      <td>0.0</td>\n",
       "      <td>0.0</td>\n",
       "      <td>0.0</td>\n",
       "      <td>42</td>\n",
       "      <td>10</td>\n",
       "      <td>2012</td>\n",
       "      <td>19</td>\n",
       "    </tr>\n",
       "    <tr>\n",
       "      <th>6434</th>\n",
       "      <td>45</td>\n",
       "      <td>2012-10-26</td>\n",
       "      <td>760281.43</td>\n",
       "      <td>0</td>\n",
       "      <td>58.85</td>\n",
       "      <td>3.882</td>\n",
       "      <td>192.308899</td>\n",
       "      <td>8.667</td>\n",
       "      <td>0.0</td>\n",
       "      <td>0.0</td>\n",
       "      <td>0.0</td>\n",
       "      <td>0.0</td>\n",
       "      <td>43</td>\n",
       "      <td>10</td>\n",
       "      <td>2012</td>\n",
       "      <td>26</td>\n",
       "    </tr>\n",
       "  </tbody>\n",
       "</table>\n",
       "<p>6435 rows × 16 columns</p>\n",
       "</div>"
      ],
      "text/plain": [
       "      Store       Date  Weekly_Sales  Holiday_Flag  Temperature  Fuel_Price  \\\n",
       "0         1 2010-05-02    1643690.90             0        42.31       2.572   \n",
       "1         1 2010-12-02    1641957.44             1        38.51       2.548   \n",
       "2         1 2010-02-19    1611968.17             0        39.93       2.514   \n",
       "3         1 2010-02-26    1409727.59             0        46.63       2.561   \n",
       "4         1 2010-05-03    1554806.68             0        46.50       2.625   \n",
       "...     ...        ...           ...           ...          ...         ...   \n",
       "6430     45 2012-09-28     713173.95             0        64.88       3.997   \n",
       "6431     45 2012-05-10     733455.07             0        64.89       3.985   \n",
       "6432     45 2012-12-10     734464.36             0        54.47       4.000   \n",
       "6433     45 2012-10-19     718125.53             0        56.47       3.969   \n",
       "6434     45 2012-10-26     760281.43             0        58.85       3.882   \n",
       "\n",
       "             CPI  Unemployment  Super_Bowl  Labour Day  Thanksgiving  \\\n",
       "0     211.096358         8.106         0.0         0.0           0.0   \n",
       "1     211.242170         8.106         1.0         0.0           0.0   \n",
       "2     211.289143         8.106         0.0         0.0           0.0   \n",
       "3     211.319643         8.106         0.0         0.0           0.0   \n",
       "4     211.350143         8.106         0.0         0.0           0.0   \n",
       "...          ...           ...         ...         ...           ...   \n",
       "6430  192.013558         8.684         0.0         0.0           0.0   \n",
       "6431  192.170412         8.667         0.0         0.0           0.0   \n",
       "6432  192.327265         8.667         0.0         0.0           0.0   \n",
       "6433  192.330854         8.667         0.0         0.0           0.0   \n",
       "6434  192.308899         8.667         0.0         0.0           0.0   \n",
       "\n",
       "      Christmas  week  month  year  day  \n",
       "0           0.0    17      5  2010    2  \n",
       "1           0.0    48     12  2010    2  \n",
       "2           0.0     7      2  2010   19  \n",
       "3           0.0     8      2  2010   26  \n",
       "4           0.0    18      5  2010    3  \n",
       "...         ...   ...    ...   ...  ...  \n",
       "6430        0.0    39      9  2012   28  \n",
       "6431        0.0    19      5  2012   10  \n",
       "6432        0.0    50     12  2012   10  \n",
       "6433        0.0    42     10  2012   19  \n",
       "6434        0.0    43     10  2012   26  \n",
       "\n",
       "[6435 rows x 16 columns]"
      ]
     },
     "execution_count": 40,
     "metadata": {},
     "output_type": "execute_result"
    }
   ],
   "source": [
    "df"
   ]
  },
  {
   "cell_type": "code",
   "execution_count": 41,
   "id": "7e97e136",
   "metadata": {},
   "outputs": [
    {
     "data": {
      "text/html": [
       "<div>\n",
       "<style scoped>\n",
       "    .dataframe tbody tr th:only-of-type {\n",
       "        vertical-align: middle;\n",
       "    }\n",
       "\n",
       "    .dataframe tbody tr th {\n",
       "        vertical-align: top;\n",
       "    }\n",
       "\n",
       "    .dataframe thead th {\n",
       "        text-align: right;\n",
       "    }\n",
       "</style>\n",
       "<table border=\"1\" class=\"dataframe\">\n",
       "  <thead>\n",
       "    <tr style=\"text-align: right;\">\n",
       "      <th></th>\n",
       "      <th>Store</th>\n",
       "      <th>Weekly_Sales</th>\n",
       "      <th>Holiday_Flag</th>\n",
       "      <th>Temperature</th>\n",
       "      <th>Fuel_Price</th>\n",
       "      <th>CPI</th>\n",
       "      <th>Unemployment</th>\n",
       "      <th>Super_Bowl</th>\n",
       "      <th>Labour Day</th>\n",
       "      <th>Thanksgiving</th>\n",
       "      <th>Christmas</th>\n",
       "      <th>week</th>\n",
       "      <th>month</th>\n",
       "      <th>year</th>\n",
       "      <th>day</th>\n",
       "    </tr>\n",
       "  </thead>\n",
       "  <tbody>\n",
       "    <tr>\n",
       "      <th>Store</th>\n",
       "      <td>1.000000e+00</td>\n",
       "      <td>-0.335332</td>\n",
       "      <td>-4.386841e-16</td>\n",
       "      <td>-0.022659</td>\n",
       "      <td>0.060023</td>\n",
       "      <td>-0.209492</td>\n",
       "      <td>0.223531</td>\n",
       "      <td>-6.168883e-18</td>\n",
       "      <td>-1.023046e-16</td>\n",
       "      <td>4.129062e-19</td>\n",
       "      <td>-8.637093e-18</td>\n",
       "      <td>1.038488e-15</td>\n",
       "      <td>6.289676e-16</td>\n",
       "      <td>3.474318e-12</td>\n",
       "      <td>-1.070464e-15</td>\n",
       "    </tr>\n",
       "    <tr>\n",
       "      <th>Weekly_Sales</th>\n",
       "      <td>-3.353320e-01</td>\n",
       "      <td>1.000000</td>\n",
       "      <td>3.689097e-02</td>\n",
       "      <td>-0.063810</td>\n",
       "      <td>0.009464</td>\n",
       "      <td>-0.072634</td>\n",
       "      <td>-0.106176</td>\n",
       "      <td>8.343093e-03</td>\n",
       "      <td>-6.152748e-04</td>\n",
       "      <td>8.954878e-02</td>\n",
       "      <td>-1.817780e-02</td>\n",
       "      <td>6.610484e-02</td>\n",
       "      <td>6.753523e-02</td>\n",
       "      <td>-1.837754e-02</td>\n",
       "      <td>-1.487292e-02</td>\n",
       "    </tr>\n",
       "    <tr>\n",
       "      <th>Holiday_Flag</th>\n",
       "      <td>-4.386841e-16</td>\n",
       "      <td>0.036891</td>\n",
       "      <td>1.000000e+00</td>\n",
       "      <td>-0.155091</td>\n",
       "      <td>-0.078347</td>\n",
       "      <td>-0.002162</td>\n",
       "      <td>0.010960</td>\n",
       "      <td>5.338539e-01</td>\n",
       "      <td>4.343414e-01</td>\n",
       "      <td>4.343414e-01</td>\n",
       "      <td>4.343414e-01</td>\n",
       "      <td>3.288032e-01</td>\n",
       "      <td>3.322341e-01</td>\n",
       "      <td>-5.678257e-02</td>\n",
       "      <td>-3.603594e-02</td>\n",
       "    </tr>\n",
       "    <tr>\n",
       "      <th>Temperature</th>\n",
       "      <td>-2.265908e-02</td>\n",
       "      <td>-0.063810</td>\n",
       "      <td>-1.550913e-01</td>\n",
       "      <td>1.000000</td>\n",
       "      <td>0.144982</td>\n",
       "      <td>0.176888</td>\n",
       "      <td>0.101158</td>\n",
       "      <td>-2.006272e-01</td>\n",
       "      <td>9.415269e-02</td>\n",
       "      <td>-7.687759e-02</td>\n",
       "      <td>-1.505193e-01</td>\n",
       "      <td>7.318701e-02</td>\n",
       "      <td>6.643970e-02</td>\n",
       "      <td>6.426923e-02</td>\n",
       "      <td>8.901925e-02</td>\n",
       "    </tr>\n",
       "    <tr>\n",
       "      <th>Fuel_Price</th>\n",
       "      <td>6.002295e-02</td>\n",
       "      <td>0.009464</td>\n",
       "      <td>-7.834652e-02</td>\n",
       "      <td>0.144982</td>\n",
       "      <td>1.000000</td>\n",
       "      <td>-0.170642</td>\n",
       "      <td>-0.034684</td>\n",
       "      <td>-7.639483e-02</td>\n",
       "      <td>-1.988966e-02</td>\n",
       "      <td>-4.734866e-02</td>\n",
       "      <td>-5.162723e-02</td>\n",
       "      <td>-4.193804e-02</td>\n",
       "      <td>-5.283174e-02</td>\n",
       "      <td>7.794703e-01</td>\n",
       "      <td>3.253169e-02</td>\n",
       "    </tr>\n",
       "    <tr>\n",
       "      <th>CPI</th>\n",
       "      <td>-2.094919e-01</td>\n",
       "      <td>-0.072634</td>\n",
       "      <td>-2.162091e-03</td>\n",
       "      <td>0.176888</td>\n",
       "      <td>-0.170642</td>\n",
       "      <td>1.000000</td>\n",
       "      <td>-0.302020</td>\n",
       "      <td>-3.544124e-03</td>\n",
       "      <td>1.644027e-03</td>\n",
       "      <td>-1.824322e-03</td>\n",
       "      <td>-9.723483e-04</td>\n",
       "      <td>2.782979e-03</td>\n",
       "      <td>1.478843e-03</td>\n",
       "      <td>7.479573e-02</td>\n",
       "      <td>3.965821e-03</td>\n",
       "    </tr>\n",
       "    <tr>\n",
       "      <th>Unemployment</th>\n",
       "      <td>2.235313e-01</td>\n",
       "      <td>-0.106176</td>\n",
       "      <td>1.096028e-02</td>\n",
       "      <td>0.101158</td>\n",
       "      <td>-0.034684</td>\n",
       "      <td>-0.302020</td>\n",
       "      <td>1.000000</td>\n",
       "      <td>1.096197e-02</td>\n",
       "      <td>-1.055242e-02</td>\n",
       "      <td>8.927550e-03</td>\n",
       "      <td>8.927550e-03</td>\n",
       "      <td>-6.038021e-03</td>\n",
       "      <td>-2.061552e-03</td>\n",
       "      <td>-2.418135e-01</td>\n",
       "      <td>-8.166853e-03</td>\n",
       "    </tr>\n",
       "    <tr>\n",
       "      <th>Super_Bowl</th>\n",
       "      <td>-6.168883e-18</td>\n",
       "      <td>0.008343</td>\n",
       "      <td>5.338539e-01</td>\n",
       "      <td>-0.200627</td>\n",
       "      <td>-0.076395</td>\n",
       "      <td>-0.003544</td>\n",
       "      <td>0.010962</td>\n",
       "      <td>1.000000e+00</td>\n",
       "      <td>-1.743420e-02</td>\n",
       "      <td>-1.743420e-02</td>\n",
       "      <td>-1.743420e-02</td>\n",
       "      <td>1.815857e-01</td>\n",
       "      <td>1.994002e-01</td>\n",
       "      <td>6.422372e-03</td>\n",
       "      <td>-2.282822e-01</td>\n",
       "    </tr>\n",
       "    <tr>\n",
       "      <th>Labour Day</th>\n",
       "      <td>-1.023046e-16</td>\n",
       "      <td>-0.000615</td>\n",
       "      <td>4.343414e-01</td>\n",
       "      <td>0.094153</td>\n",
       "      <td>-0.019890</td>\n",
       "      <td>0.001644</td>\n",
       "      <td>-0.010552</td>\n",
       "      <td>-1.743420e-02</td>\n",
       "      <td>1.000000e+00</td>\n",
       "      <td>-1.418440e-02</td>\n",
       "      <td>-1.418440e-02</td>\n",
       "      <td>6.566109e-02</td>\n",
       "      <td>7.259032e-02</td>\n",
       "      <td>5.225217e-03</td>\n",
       "      <td>-9.048606e-02</td>\n",
       "    </tr>\n",
       "    <tr>\n",
       "      <th>Thanksgiving</th>\n",
       "      <td>4.129062e-19</td>\n",
       "      <td>0.089549</td>\n",
       "      <td>4.343414e-01</td>\n",
       "      <td>-0.076878</td>\n",
       "      <td>-0.047349</td>\n",
       "      <td>-0.001824</td>\n",
       "      <td>0.008928</td>\n",
       "      <td>-1.743420e-02</td>\n",
       "      <td>-1.418440e-02</td>\n",
       "      <td>1.000000e+00</td>\n",
       "      <td>-1.418440e-02</td>\n",
       "      <td>1.723604e-01</td>\n",
       "      <td>1.622312e-01</td>\n",
       "      <td>-6.949538e-02</td>\n",
       "      <td>1.340164e-01</td>\n",
       "    </tr>\n",
       "    <tr>\n",
       "      <th>Christmas</th>\n",
       "      <td>-8.637093e-18</td>\n",
       "      <td>-0.018178</td>\n",
       "      <td>4.343414e-01</td>\n",
       "      <td>-0.150519</td>\n",
       "      <td>-0.051627</td>\n",
       "      <td>-0.000972</td>\n",
       "      <td>0.008928</td>\n",
       "      <td>-1.743420e-02</td>\n",
       "      <td>-1.418440e-02</td>\n",
       "      <td>-1.418440e-02</td>\n",
       "      <td>1.000000e+00</td>\n",
       "      <td>2.133985e-01</td>\n",
       "      <td>1.980876e-01</td>\n",
       "      <td>-6.949538e-02</td>\n",
       "      <td>2.020475e-01</td>\n",
       "    </tr>\n",
       "    <tr>\n",
       "      <th>week</th>\n",
       "      <td>1.038488e-15</td>\n",
       "      <td>0.066105</td>\n",
       "      <td>3.288032e-01</td>\n",
       "      <td>0.073187</td>\n",
       "      <td>-0.041938</td>\n",
       "      <td>0.002783</td>\n",
       "      <td>-0.006038</td>\n",
       "      <td>1.815857e-01</td>\n",
       "      <td>6.566109e-02</td>\n",
       "      <td>1.723604e-01</td>\n",
       "      <td>2.133985e-01</td>\n",
       "      <td>1.000000e+00</td>\n",
       "      <td>9.964777e-01</td>\n",
       "      <td>-1.269874e-01</td>\n",
       "      <td>8.748473e-02</td>\n",
       "    </tr>\n",
       "    <tr>\n",
       "      <th>month</th>\n",
       "      <td>6.289676e-16</td>\n",
       "      <td>0.067535</td>\n",
       "      <td>3.322341e-01</td>\n",
       "      <td>0.066440</td>\n",
       "      <td>-0.052832</td>\n",
       "      <td>0.001479</td>\n",
       "      <td>-0.002062</td>\n",
       "      <td>1.994002e-01</td>\n",
       "      <td>7.259032e-02</td>\n",
       "      <td>1.622312e-01</td>\n",
       "      <td>1.980876e-01</td>\n",
       "      <td>9.964777e-01</td>\n",
       "      <td>1.000000e+00</td>\n",
       "      <td>-1.390145e-01</td>\n",
       "      <td>5.959249e-03</td>\n",
       "    </tr>\n",
       "    <tr>\n",
       "      <th>year</th>\n",
       "      <td>3.474318e-12</td>\n",
       "      <td>-0.018378</td>\n",
       "      <td>-5.678257e-02</td>\n",
       "      <td>0.064269</td>\n",
       "      <td>0.779470</td>\n",
       "      <td>0.074796</td>\n",
       "      <td>-0.241813</td>\n",
       "      <td>6.422372e-03</td>\n",
       "      <td>5.225217e-03</td>\n",
       "      <td>-6.949538e-02</td>\n",
       "      <td>-6.949538e-02</td>\n",
       "      <td>-1.269874e-01</td>\n",
       "      <td>-1.390145e-01</td>\n",
       "      <td>1.000000e+00</td>\n",
       "      <td>-1.277942e-02</td>\n",
       "    </tr>\n",
       "    <tr>\n",
       "      <th>day</th>\n",
       "      <td>-1.070464e-15</td>\n",
       "      <td>-0.014873</td>\n",
       "      <td>-3.603594e-02</td>\n",
       "      <td>0.089019</td>\n",
       "      <td>0.032532</td>\n",
       "      <td>0.003966</td>\n",
       "      <td>-0.008167</td>\n",
       "      <td>-2.282822e-01</td>\n",
       "      <td>-9.048606e-02</td>\n",
       "      <td>1.340164e-01</td>\n",
       "      <td>2.020475e-01</td>\n",
       "      <td>8.748473e-02</td>\n",
       "      <td>5.959249e-03</td>\n",
       "      <td>-1.277942e-02</td>\n",
       "      <td>1.000000e+00</td>\n",
       "    </tr>\n",
       "  </tbody>\n",
       "</table>\n",
       "</div>"
      ],
      "text/plain": [
       "                     Store  Weekly_Sales  Holiday_Flag  Temperature  \\\n",
       "Store         1.000000e+00     -0.335332 -4.386841e-16    -0.022659   \n",
       "Weekly_Sales -3.353320e-01      1.000000  3.689097e-02    -0.063810   \n",
       "Holiday_Flag -4.386841e-16      0.036891  1.000000e+00    -0.155091   \n",
       "Temperature  -2.265908e-02     -0.063810 -1.550913e-01     1.000000   \n",
       "Fuel_Price    6.002295e-02      0.009464 -7.834652e-02     0.144982   \n",
       "CPI          -2.094919e-01     -0.072634 -2.162091e-03     0.176888   \n",
       "Unemployment  2.235313e-01     -0.106176  1.096028e-02     0.101158   \n",
       "Super_Bowl   -6.168883e-18      0.008343  5.338539e-01    -0.200627   \n",
       "Labour Day   -1.023046e-16     -0.000615  4.343414e-01     0.094153   \n",
       "Thanksgiving  4.129062e-19      0.089549  4.343414e-01    -0.076878   \n",
       "Christmas    -8.637093e-18     -0.018178  4.343414e-01    -0.150519   \n",
       "week          1.038488e-15      0.066105  3.288032e-01     0.073187   \n",
       "month         6.289676e-16      0.067535  3.322341e-01     0.066440   \n",
       "year          3.474318e-12     -0.018378 -5.678257e-02     0.064269   \n",
       "day          -1.070464e-15     -0.014873 -3.603594e-02     0.089019   \n",
       "\n",
       "              Fuel_Price       CPI  Unemployment    Super_Bowl    Labour Day  \\\n",
       "Store           0.060023 -0.209492      0.223531 -6.168883e-18 -1.023046e-16   \n",
       "Weekly_Sales    0.009464 -0.072634     -0.106176  8.343093e-03 -6.152748e-04   \n",
       "Holiday_Flag   -0.078347 -0.002162      0.010960  5.338539e-01  4.343414e-01   \n",
       "Temperature     0.144982  0.176888      0.101158 -2.006272e-01  9.415269e-02   \n",
       "Fuel_Price      1.000000 -0.170642     -0.034684 -7.639483e-02 -1.988966e-02   \n",
       "CPI            -0.170642  1.000000     -0.302020 -3.544124e-03  1.644027e-03   \n",
       "Unemployment   -0.034684 -0.302020      1.000000  1.096197e-02 -1.055242e-02   \n",
       "Super_Bowl     -0.076395 -0.003544      0.010962  1.000000e+00 -1.743420e-02   \n",
       "Labour Day     -0.019890  0.001644     -0.010552 -1.743420e-02  1.000000e+00   \n",
       "Thanksgiving   -0.047349 -0.001824      0.008928 -1.743420e-02 -1.418440e-02   \n",
       "Christmas      -0.051627 -0.000972      0.008928 -1.743420e-02 -1.418440e-02   \n",
       "week           -0.041938  0.002783     -0.006038  1.815857e-01  6.566109e-02   \n",
       "month          -0.052832  0.001479     -0.002062  1.994002e-01  7.259032e-02   \n",
       "year            0.779470  0.074796     -0.241813  6.422372e-03  5.225217e-03   \n",
       "day             0.032532  0.003966     -0.008167 -2.282822e-01 -9.048606e-02   \n",
       "\n",
       "              Thanksgiving     Christmas          week         month  \\\n",
       "Store         4.129062e-19 -8.637093e-18  1.038488e-15  6.289676e-16   \n",
       "Weekly_Sales  8.954878e-02 -1.817780e-02  6.610484e-02  6.753523e-02   \n",
       "Holiday_Flag  4.343414e-01  4.343414e-01  3.288032e-01  3.322341e-01   \n",
       "Temperature  -7.687759e-02 -1.505193e-01  7.318701e-02  6.643970e-02   \n",
       "Fuel_Price   -4.734866e-02 -5.162723e-02 -4.193804e-02 -5.283174e-02   \n",
       "CPI          -1.824322e-03 -9.723483e-04  2.782979e-03  1.478843e-03   \n",
       "Unemployment  8.927550e-03  8.927550e-03 -6.038021e-03 -2.061552e-03   \n",
       "Super_Bowl   -1.743420e-02 -1.743420e-02  1.815857e-01  1.994002e-01   \n",
       "Labour Day   -1.418440e-02 -1.418440e-02  6.566109e-02  7.259032e-02   \n",
       "Thanksgiving  1.000000e+00 -1.418440e-02  1.723604e-01  1.622312e-01   \n",
       "Christmas    -1.418440e-02  1.000000e+00  2.133985e-01  1.980876e-01   \n",
       "week          1.723604e-01  2.133985e-01  1.000000e+00  9.964777e-01   \n",
       "month         1.622312e-01  1.980876e-01  9.964777e-01  1.000000e+00   \n",
       "year         -6.949538e-02 -6.949538e-02 -1.269874e-01 -1.390145e-01   \n",
       "day           1.340164e-01  2.020475e-01  8.748473e-02  5.959249e-03   \n",
       "\n",
       "                      year           day  \n",
       "Store         3.474318e-12 -1.070464e-15  \n",
       "Weekly_Sales -1.837754e-02 -1.487292e-02  \n",
       "Holiday_Flag -5.678257e-02 -3.603594e-02  \n",
       "Temperature   6.426923e-02  8.901925e-02  \n",
       "Fuel_Price    7.794703e-01  3.253169e-02  \n",
       "CPI           7.479573e-02  3.965821e-03  \n",
       "Unemployment -2.418135e-01 -8.166853e-03  \n",
       "Super_Bowl    6.422372e-03 -2.282822e-01  \n",
       "Labour Day    5.225217e-03 -9.048606e-02  \n",
       "Thanksgiving -6.949538e-02  1.340164e-01  \n",
       "Christmas    -6.949538e-02  2.020475e-01  \n",
       "week         -1.269874e-01  8.748473e-02  \n",
       "month        -1.390145e-01  5.959249e-03  \n",
       "year          1.000000e+00 -1.277942e-02  \n",
       "day          -1.277942e-02  1.000000e+00  "
      ]
     },
     "execution_count": 41,
     "metadata": {},
     "output_type": "execute_result"
    }
   ],
   "source": [
    "df.corr()"
   ]
  },
  {
   "cell_type": "code",
   "execution_count": 42,
   "id": "1ef00adf",
   "metadata": {},
   "outputs": [
    {
     "data": {
      "text/plain": [
       "Text(0.5, 1.0, 'correlation of feature')"
      ]
     },
     "execution_count": 42,
     "metadata": {},
     "output_type": "execute_result"
    },
    {
     "data": {
      "image/png": "[encoded data removed]",
      "text/plain": [
       "<Figure size 1440x720 with 2 Axes>"
      ]
     },
     "metadata": {
      "needs_background": "light"
     },
     "output_type": "display_data"
    }
   ],
   "source": [
    "plt.figure(figsize = (20,10))\n",
    "sns.heatmap(df.corr(),annot = True , cmap =\"YlGnBu\")\n",
    "plt.title(\"correlation of feature\")"
   ]
  },
  {
   "cell_type": "markdown",
   "id": "0034355c",
   "metadata": {},
   "source": [
    "## Скалирование"
   ]
  },
  {
   "cell_type": "code",
   "execution_count": 45,
   "id": "b352078d",
   "metadata": {},
   "outputs": [],
   "source": [
    "y = df['Weekly_Sales']\n",
    "X = df.drop(['Weekly_Sales'], axis=1)"
   ]
  },
  {
   "cell_type": "code",
   "execution_count": 48,
   "id": "a799f7ab",
   "metadata": {},
   "outputs": [],
   "source": [
    "kk = StandardScaler()"
   ]
  },
  {
   "cell_type": "code",
   "execution_count": 51,
   "id": "ef9d464e",
   "metadata": {},
   "outputs": [],
   "source": [
    "#x_scaled = kk.fit_transform(X)"
   ]
  },
  {
   "cell_type": "code",
   "execution_count": null,
   "id": "a1e706ca",
   "metadata": {},
   "outputs": [],
   "source": [
    "\n"
   ]
  },
  {
   "cell_type": "code",
   "execution_count": 55,
   "id": "9fbff97a",
   "metadata": {},
   "outputs": [],
   "source": [
    "X_train,X_test,y_train,y_test = train_test_split(X,y , test_size=0.7 , random_state = 42)"
   ]
  },
  {
   "cell_type": "code",
   "execution_count": 56,
   "id": "8288c6cd",
   "metadata": {},
   "outputs": [
    {
     "data": {
      "text/plain": [
       "(1930, 15)"
      ]
     },
     "execution_count": 56,
     "metadata": {},
     "output_type": "execute_result"
    }
   ],
   "source": [
    "X_train.shape"
   ]
  },
  {
   "cell_type": "markdown",
   "id": "09f747c9",
   "metadata": {},
   "source": [
    "### Decision Tree¶\n"
   ]
  },
  {
   "cell_type": "code",
   "execution_count": 57,
   "id": "595e111a",
   "metadata": {},
   "outputs": [],
   "source": [
    "from sklearn.tree import DecisionTreeRegressor"
   ]
  },
  {
   "cell_type": "code",
   "execution_count": 58,
   "id": "5915bdc0",
   "metadata": {},
   "outputs": [
    {
     "ename": "TypeError",
     "evalue": "The DType <class 'numpy.dtype[datetime64]'> could not be promoted by <class 'numpy.dtype[float64]'>. This means that no common DType exists for the given inputs. For example they cannot be stored in a single array unless the dtype is `object`. The full list of DTypes is: (<class 'numpy.dtype[int64]'>, <class 'numpy.dtype[datetime64]'>, <class 'numpy.dtype[int64]'>, <class 'numpy.dtype[float64]'>, <class 'numpy.dtype[float64]'>, <class 'numpy.dtype[float64]'>, <class 'numpy.dtype[float64]'>, <class 'numpy.dtype[float64]'>, <class 'numpy.dtype[float64]'>, <class 'numpy.dtype[float64]'>, <class 'numpy.dtype[float64]'>, <class 'numpy.dtype[int64]'>, <class 'numpy.dtype[int64]'>, <class 'numpy.dtype[int64]'>, <class 'numpy.dtype[int64]'>)",
     "output_type": "error",
     "traceback": [
      "\u001b[1;31m---------------------------------------------------------------------------\u001b[0m",
      "\u001b[1;31mTypeError\u001b[0m                                 Traceback (most recent call last)",
      "Input \u001b[1;32mIn [58]\u001b[0m, in \u001b[0;36m<cell line: 2>\u001b[1;34m()\u001b[0m\n\u001b[0;32m      1\u001b[0m dtr \u001b[38;5;241m=\u001b[39m  DecisionTreeRegressor()\n\u001b[1;32m----> 2\u001b[0m \u001b[43mdtr\u001b[49m\u001b[38;5;241;43m.\u001b[39;49m\u001b[43mfit\u001b[49m\u001b[43m(\u001b[49m\u001b[43mX_train\u001b[49m\u001b[43m,\u001b[49m\u001b[43my_train\u001b[49m\u001b[43m)\u001b[49m\n",
      "File \u001b[1;32m~\\anaconda3\\lib\\site-packages\\sklearn\\tree\\_classes.py:1315\u001b[0m, in \u001b[0;36mDecisionTreeRegressor.fit\u001b[1;34m(self, X, y, sample_weight, check_input, X_idx_sorted)\u001b[0m\n\u001b[0;32m   1278\u001b[0m \u001b[38;5;28;01mdef\u001b[39;00m \u001b[38;5;21mfit\u001b[39m(\n\u001b[0;32m   1279\u001b[0m     \u001b[38;5;28mself\u001b[39m, X, y, sample_weight\u001b[38;5;241m=\u001b[39m\u001b[38;5;28;01mNone\u001b[39;00m, check_input\u001b[38;5;241m=\u001b[39m\u001b[38;5;28;01mTrue\u001b[39;00m, X_idx_sorted\u001b[38;5;241m=\u001b[39m\u001b[38;5;124m\"\u001b[39m\u001b[38;5;124mdeprecated\u001b[39m\u001b[38;5;124m\"\u001b[39m\n\u001b[0;32m   1280\u001b[0m ):\n\u001b[0;32m   1281\u001b[0m     \u001b[38;5;124;03m\"\"\"Build a decision tree regressor from the training set (X, y).\u001b[39;00m\n\u001b[0;32m   1282\u001b[0m \n\u001b[0;32m   1283\u001b[0m \u001b[38;5;124;03m    Parameters\u001b[39;00m\n\u001b[1;32m   (...)\u001b[0m\n\u001b[0;32m   1312\u001b[0m \u001b[38;5;124;03m        Fitted estimator.\u001b[39;00m\n\u001b[0;32m   1313\u001b[0m \u001b[38;5;124;03m    \"\"\"\u001b[39;00m\n\u001b[1;32m-> 1315\u001b[0m     \u001b[38;5;28;43msuper\u001b[39;49m\u001b[43m(\u001b[49m\u001b[43m)\u001b[49m\u001b[38;5;241;43m.\u001b[39;49m\u001b[43mfit\u001b[49m\u001b[43m(\u001b[49m\n\u001b[0;32m   1316\u001b[0m \u001b[43m        \u001b[49m\u001b[43mX\u001b[49m\u001b[43m,\u001b[49m\n\u001b[0;32m   1317\u001b[0m \u001b[43m        \u001b[49m\u001b[43my\u001b[49m\u001b[43m,\u001b[49m\n\u001b[0;32m   1318\u001b[0m \u001b[43m        \u001b[49m\u001b[43msample_weight\u001b[49m\u001b[38;5;241;43m=\u001b[39;49m\u001b[43msample_weight\u001b[49m\u001b[43m,\u001b[49m\n\u001b[0;32m   1319\u001b[0m \u001b[43m        \u001b[49m\u001b[43mcheck_input\u001b[49m\u001b[38;5;241;43m=\u001b[39;49m\u001b[43mcheck_input\u001b[49m\u001b[43m,\u001b[49m\n\u001b[0;32m   1320\u001b[0m \u001b[43m        \u001b[49m\u001b[43mX_idx_sorted\u001b[49m\u001b[38;5;241;43m=\u001b[39;49m\u001b[43mX_idx_sorted\u001b[49m\u001b[43m,\u001b[49m\n\u001b[0;32m   1321\u001b[0m \u001b[43m    \u001b[49m\u001b[43m)\u001b[49m\n\u001b[0;32m   1322\u001b[0m     \u001b[38;5;28;01mreturn\u001b[39;00m \u001b[38;5;28mself\u001b[39m\n",
      "File \u001b[1;32m~\\anaconda3\\lib\\site-packages\\sklearn\\tree\\_classes.py:165\u001b[0m, in \u001b[0;36mBaseDecisionTree.fit\u001b[1;34m(self, X, y, sample_weight, check_input, X_idx_sorted)\u001b[0m\n\u001b[0;32m    163\u001b[0m check_X_params \u001b[38;5;241m=\u001b[39m \u001b[38;5;28mdict\u001b[39m(dtype\u001b[38;5;241m=\u001b[39mDTYPE, accept_sparse\u001b[38;5;241m=\u001b[39m\u001b[38;5;124m\"\u001b[39m\u001b[38;5;124mcsc\u001b[39m\u001b[38;5;124m\"\u001b[39m)\n\u001b[0;32m    164\u001b[0m check_y_params \u001b[38;5;241m=\u001b[39m \u001b[38;5;28mdict\u001b[39m(ensure_2d\u001b[38;5;241m=\u001b[39m\u001b[38;5;28;01mFalse\u001b[39;00m, dtype\u001b[38;5;241m=\u001b[39m\u001b[38;5;28;01mNone\u001b[39;00m)\n\u001b[1;32m--> 165\u001b[0m X, y \u001b[38;5;241m=\u001b[39m \u001b[38;5;28;43mself\u001b[39;49m\u001b[38;5;241;43m.\u001b[39;49m\u001b[43m_validate_data\u001b[49m\u001b[43m(\u001b[49m\n\u001b[0;32m    166\u001b[0m \u001b[43m    \u001b[49m\u001b[43mX\u001b[49m\u001b[43m,\u001b[49m\u001b[43m \u001b[49m\u001b[43my\u001b[49m\u001b[43m,\u001b[49m\u001b[43m \u001b[49m\u001b[43mvalidate_separately\u001b[49m\u001b[38;5;241;43m=\u001b[39;49m\u001b[43m(\u001b[49m\u001b[43mcheck_X_params\u001b[49m\u001b[43m,\u001b[49m\u001b[43m \u001b[49m\u001b[43mcheck_y_params\u001b[49m\u001b[43m)\u001b[49m\n\u001b[0;32m    167\u001b[0m \u001b[43m\u001b[49m\u001b[43m)\u001b[49m\n\u001b[0;32m    168\u001b[0m \u001b[38;5;28;01mif\u001b[39;00m issparse(X):\n\u001b[0;32m    169\u001b[0m     X\u001b[38;5;241m.\u001b[39msort_indices()\n",
      "File \u001b[1;32m~\\anaconda3\\lib\\site-packages\\sklearn\\base.py:578\u001b[0m, in \u001b[0;36mBaseEstimator._validate_data\u001b[1;34m(self, X, y, reset, validate_separately, **check_params)\u001b[0m\n\u001b[0;32m    572\u001b[0m \u001b[38;5;28;01mif\u001b[39;00m validate_separately:\n\u001b[0;32m    573\u001b[0m     \u001b[38;5;66;03m# We need this because some estimators validate X and y\u001b[39;00m\n\u001b[0;32m    574\u001b[0m     \u001b[38;5;66;03m# separately, and in general, separately calling check_array()\u001b[39;00m\n\u001b[0;32m    575\u001b[0m     \u001b[38;5;66;03m# on X and y isn't equivalent to just calling check_X_y()\u001b[39;00m\n\u001b[0;32m    576\u001b[0m     \u001b[38;5;66;03m# :(\u001b[39;00m\n\u001b[0;32m    577\u001b[0m     check_X_params, check_y_params \u001b[38;5;241m=\u001b[39m validate_separately\n\u001b[1;32m--> 578\u001b[0m     X \u001b[38;5;241m=\u001b[39m check_array(X, \u001b[38;5;241m*\u001b[39m\u001b[38;5;241m*\u001b[39mcheck_X_params)\n\u001b[0;32m    579\u001b[0m     y \u001b[38;5;241m=\u001b[39m check_array(y, \u001b[38;5;241m*\u001b[39m\u001b[38;5;241m*\u001b[39mcheck_y_params)\n\u001b[0;32m    580\u001b[0m \u001b[38;5;28;01melse\u001b[39;00m:\n",
      "File \u001b[1;32m~\\anaconda3\\lib\\site-packages\\sklearn\\utils\\validation.py:665\u001b[0m, in \u001b[0;36mcheck_array\u001b[1;34m(array, accept_sparse, accept_large_sparse, dtype, order, copy, force_all_finite, ensure_2d, allow_nd, ensure_min_samples, ensure_min_features, estimator)\u001b[0m\n\u001b[0;32m    662\u001b[0m                     has_pd_integer_array \u001b[38;5;241m=\u001b[39m \u001b[38;5;28;01mTrue\u001b[39;00m\n\u001b[0;32m    664\u001b[0m     \u001b[38;5;28;01mif\u001b[39;00m \u001b[38;5;28mall\u001b[39m(\u001b[38;5;28misinstance\u001b[39m(dtype, np\u001b[38;5;241m.\u001b[39mdtype) \u001b[38;5;28;01mfor\u001b[39;00m dtype \u001b[38;5;129;01min\u001b[39;00m dtypes_orig):\n\u001b[1;32m--> 665\u001b[0m         dtype_orig \u001b[38;5;241m=\u001b[39m \u001b[43mnp\u001b[49m\u001b[38;5;241;43m.\u001b[39;49m\u001b[43mresult_type\u001b[49m\u001b[43m(\u001b[49m\u001b[38;5;241;43m*\u001b[39;49m\u001b[43mdtypes_orig\u001b[49m\u001b[43m)\u001b[49m\n\u001b[0;32m    667\u001b[0m \u001b[38;5;28;01mif\u001b[39;00m dtype_numeric:\n\u001b[0;32m    668\u001b[0m     \u001b[38;5;28;01mif\u001b[39;00m dtype_orig \u001b[38;5;129;01mis\u001b[39;00m \u001b[38;5;129;01mnot\u001b[39;00m \u001b[38;5;28;01mNone\u001b[39;00m \u001b[38;5;129;01mand\u001b[39;00m dtype_orig\u001b[38;5;241m.\u001b[39mkind \u001b[38;5;241m==\u001b[39m \u001b[38;5;124m\"\u001b[39m\u001b[38;5;124mO\u001b[39m\u001b[38;5;124m\"\u001b[39m:\n\u001b[0;32m    669\u001b[0m         \u001b[38;5;66;03m# if input is object, convert to float.\u001b[39;00m\n",
      "File \u001b[1;32m<__array_function__ internals>:5\u001b[0m, in \u001b[0;36mresult_type\u001b[1;34m(*args, **kwargs)\u001b[0m\n",
      "\u001b[1;31mTypeError\u001b[0m: The DType <class 'numpy.dtype[datetime64]'> could not be promoted by <class 'numpy.dtype[float64]'>. This means that no common DType exists for the given inputs. For example they cannot be stored in a single array unless the dtype is `object`. The full list of DTypes is: (<class 'numpy.dtype[int64]'>, <class 'numpy.dtype[datetime64]'>, <class 'numpy.dtype[int64]'>, <class 'numpy.dtype[float64]'>, <class 'numpy.dtype[float64]'>, <class 'numpy.dtype[float64]'>, <class 'numpy.dtype[float64]'>, <class 'numpy.dtype[float64]'>, <class 'numpy.dtype[float64]'>, <class 'numpy.dtype[float64]'>, <class 'numpy.dtype[float64]'>, <class 'numpy.dtype[int64]'>, <class 'numpy.dtype[int64]'>, <class 'numpy.dtype[int64]'>, <class 'numpy.dtype[int64]'>)"
     ]
    }
   ],
   "source": [
    "dtr =  DecisionTreeRegressor()\n",
    "dtr.fit(X_train,y_train)"
   ]
  },
  {
   "cell_type": "code",
   "execution_count": null,
   "id": "5b1d0f54",
   "metadata": {},
   "outputs": [],
   "source": []
  }
 ],
 "metadata": {
  "kernelspec": {
   "display_name": "Python 3 (ipykernel)",
   "language": "python",
   "name": "python3"
  },
  "language_info": {
   "codemirror_mode": {
    "name": "ipython",
    "version": 3
   },
   "file_extension": ".py",
   "mimetype": "text/x-python",
   "name": "python",
   "nbconvert_exporter": "python",
   "pygments_lexer": "ipython3",
   "version": "3.9.12"
  }
 },
 "nbformat": 4,
 "nbformat_minor": 5
}
