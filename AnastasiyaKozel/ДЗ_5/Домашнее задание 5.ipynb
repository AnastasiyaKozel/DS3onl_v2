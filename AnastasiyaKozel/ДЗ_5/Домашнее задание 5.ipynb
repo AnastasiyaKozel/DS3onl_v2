{
 "cells": [
  {
   "cell_type": "markdown",
   "id": "da4c29e6",
   "metadata": {},
   "source": [
    "# Домашнее задание 5 \n",
    " \n",
    "### Козел А.Г. 25.09.2022"
   ]
  },
  {
   "cell_type": "markdown",
   "id": "294af98d",
   "metadata": {},
   "source": [
    "Есть Алфавит, характеристиками которого являются:\n",
    "1. Язык\n",
    "2. Список букв\n",
    "\n",
    "Для Алфавита можно: \n",
    "1. Напечатать все буквы алфавита\n",
    "2. Посчитать количество букв\n",
    "\n",
    "Так же есть Английский алфавит, который обладает следующими свойствами:\n",
    "\n",
    "1. Язык\n",
    "2. Список букв\n",
    "3. Количество букв\n",
    "\n",
    "Для Английского алфавита можно:\n",
    "\n",
    "1. Посчитать количество букв\n",
    "2. Определить, относится ли буква к английскому алфавиту\n",
    "3. Получить пример текста на английском языке"
   ]
  },
  {
   "cell_type": "markdown",
   "id": "842af9c7",
   "metadata": {},
   "source": [
    "### Класс Alphabet\n",
    "1. Создайте класс Alphabet\n",
    "2. Создайте метод __init__(), внутри которого будут определены два динамических свойства: 1) lang - язык и 2) letters - список букв. Начальные значения свойств берутся из входных параметров метода.\n",
    "3. Создайте метод print(), который выведет в консоль буквы алфавита\n",
    "4. Создайте метод letters_num(), который вернет количество букв в алфавите"
   ]
  },
  {
   "cell_type": "code",
   "execution_count": 1,
   "id": "d4a7d4f7",
   "metadata": {},
   "outputs": [],
   "source": [
    "class Alphabet():\n",
    "    def __init__(self, lang, letters): \n",
    "        self.lang = lang\n",
    "        self.letters = letters\n",
    "    def print(self): \n",
    "        print(self.letters)\n",
    "    def letters_num(self): \n",
    "        return len(self.letters)   \n",
    "     "
   ]
  },
  {
   "cell_type": "markdown",
   "id": "4d145e66",
   "metadata": {},
   "source": [
    "## Класс EngAlphabet\n",
    "1. Создайте класс EngAlphabet путем наследования от класса Alphabet\n",
    "2. Создайте метод __init__(), внутри которого будет вызываться родительский метод __init__(). В качестве параметров ему будут передаваться обозначение языка(например, 'En') и строка, состоящая из всех букв алфавита(можно воспользоваться свойством ascii_uppercase из модуля string).\n",
    "3. Добавьте приватное статическое свойство __letters_num, которое будет хранить количество букв в алфавите.\n",
    "4. Создайте метод is_en_letter(), который будет принимать букву в качестве параметра и определять, относится ли эта буква к английскому алфавиту.\n",
    "5. Переопределите метод letters_num() - пусть в текущем классе классе он будет возвращать значение свойства __letters_num.\n",
    "6. Создайте статический метод example(), который будет возвращать пример текста на английском языке."
   ]
  },
  {
   "cell_type": "code",
   "execution_count": 2,
   "id": "9745d5d6",
   "metadata": {},
   "outputs": [],
   "source": [
    "import string\n",
    "from string import ascii_uppercase\n",
    "line = string.ascii_uppercase"
   ]
  },
  {
   "cell_type": "code",
   "execution_count": 3,
   "id": "55413d1e",
   "metadata": {},
   "outputs": [],
   "source": [
    "class EngAlphabet(Alphabet):\n",
    "    __letters_num = 26\n",
    "    def __init__(self):\n",
    "        super(). __init__('En', line)\n",
    "        \n",
    "    def is_en_letter(self, letter):\n",
    "        return letter.upper() in line\n",
    "    \n",
    "    def letters_num(self):\n",
    "        return self.__letters_num\n",
    "        \n",
    "    @staticmethod\n",
    "    def example():\n",
    "        return 'Sample text in English'\n",
    "     "
   ]
  },
  {
   "cell_type": "markdown",
   "id": "a1d42db6",
   "metadata": {},
   "source": [
    "### Тесты:\n",
    "1. Создайте объект класса EngAlphabet\n",
    "2. Напечатайте буквы алфавита для этого объекта\n",
    "3. Выведите количество букв в алфавите\n",
    "4. Проверьте, относится ли буква F к английскому алфавиту\n",
    "5. Проверьте, относится ли буква Щ к английскому алфавиту\n",
    "6. Выведите пример текста на английском языке"
   ]
  },
  {
   "cell_type": "code",
   "execution_count": 4,
   "id": "96b2f77d",
   "metadata": {},
   "outputs": [],
   "source": [
    "alp = EngAlphabet()"
   ]
  },
  {
   "cell_type": "code",
   "execution_count": 5,
   "id": "5eba15ad",
   "metadata": {},
   "outputs": [
    {
     "name": "stdout",
     "output_type": "stream",
     "text": [
      "ABCDEFGHIJKLMNOPQRSTUVWXYZ\n"
     ]
    }
   ],
   "source": [
    "print(alp.letters)"
   ]
  },
  {
   "cell_type": "code",
   "execution_count": 6,
   "id": "99a9d5db",
   "metadata": {},
   "outputs": [
    {
     "name": "stdout",
     "output_type": "stream",
     "text": [
      "26\n"
     ]
    }
   ],
   "source": [
    "print(alp.letters_num())"
   ]
  },
  {
   "cell_type": "code",
   "execution_count": 7,
   "id": "31286f9a",
   "metadata": {},
   "outputs": [
    {
     "name": "stdout",
     "output_type": "stream",
     "text": [
      "True\n"
     ]
    }
   ],
   "source": [
    "print(alp.is_en_letter('F'))"
   ]
  },
  {
   "cell_type": "code",
   "execution_count": 8,
   "id": "bdce019c",
   "metadata": {},
   "outputs": [
    {
     "name": "stdout",
     "output_type": "stream",
     "text": [
      "False\n"
     ]
    }
   ],
   "source": [
    "print(alp.is_en_letter('Щ'))"
   ]
  },
  {
   "cell_type": "code",
   "execution_count": 9,
   "id": "246d6804",
   "metadata": {},
   "outputs": [
    {
     "name": "stdout",
     "output_type": "stream",
     "text": [
      "Sample text in English\n"
     ]
    }
   ],
   "source": [
    "print(EngAlphabet.example())"
   ]
  },
  {
   "cell_type": "code",
   "execution_count": null,
   "id": "963ce2dc",
   "metadata": {},
   "outputs": [],
   "source": []
  }
 ],
 "metadata": {
  "kernelspec": {
   "display_name": "Python 3 (ipykernel)",
   "language": "python",
   "name": "python3"
  },
  "language_info": {
   "codemirror_mode": {
    "name": "ipython",
    "version": 3
   },
   "file_extension": ".py",
   "mimetype": "text/x-python",
   "name": "python",
   "nbconvert_exporter": "python",
   "pygments_lexer": "ipython3",
   "version": "3.9.12"
  }
 },
 "nbformat": 4,
 "nbformat_minor": 5
}
