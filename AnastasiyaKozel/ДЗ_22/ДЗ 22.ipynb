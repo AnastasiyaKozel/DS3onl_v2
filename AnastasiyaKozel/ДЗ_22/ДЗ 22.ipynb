{
 "cells": [
  {
   "cell_type": "markdown",
   "id": "b804c603",
   "metadata": {},
   "source": [
    "## Домашнее задание № 22\n",
    "### Козел А.Г. 14.01.23\n",
    "\n",
    "Датасет для ДЗ (ID_user1,ID_song,rating) задача предсказать факт взаимодействия (LightFM) и рейтинг (для SVD моделей). "
   ]
  },
  {
   "cell_type": "code",
   "execution_count": 1,
   "id": "351adf8d",
   "metadata": {},
   "outputs": [
    {
     "name": "stdout",
     "output_type": "stream",
     "text": [
      "FM model is only supported on Linux.\n",
      "Windows executable can be found at http://www.libfm.org.\n"
     ]
    }
   ],
   "source": [
    "import pandas as pd\n",
    "import numpy as np\n",
    "import matplotlib.pyplot as plt\n",
    "import seaborn as sns\n",
    "import sys\n",
    "import os\n",
    "import torch\n",
    "import cornac\n",
    "#import papermill as pm\n",
    "#import scrapbook as sb\n",
    "import pandas as pd\n",
    "import warnings\n",
    "warnings.filterwarnings('ignore')\n",
    "from sklearn.model_selection import train_test_split\n",
    "import time"
   ]
  },
  {
   "cell_type": "code",
   "execution_count": 2,
   "id": "d4c4b56a",
   "metadata": {},
   "outputs": [],
   "source": [
    "\n",
    "from lightfm.datasets import fetch_movielens\n",
    "from lightfm import LightFM\n",
    "from recsys import *\n",
    "from sklearn import preprocessing\n",
    "from scipy.sparse import coo_matrix\n",
    "from scipy import sparse"
   ]
  },
  {
   "cell_type": "code",
   "execution_count": 3,
   "id": "df5776fe",
   "metadata": {},
   "outputs": [],
   "source": [
    "df= pd.read_csv('songsDataset.csv', sep=',', encoding=\"cp1251\") "
   ]
  },
  {
   "cell_type": "code",
   "execution_count": 4,
   "id": "374dcb59",
   "metadata": {},
   "outputs": [
    {
     "data": {
      "text/html": [
       "<div>\n",
       "<style scoped>\n",
       "    .dataframe tbody tr th:only-of-type {\n",
       "        vertical-align: middle;\n",
       "    }\n",
       "\n",
       "    .dataframe tbody tr th {\n",
       "        vertical-align: top;\n",
       "    }\n",
       "\n",
       "    .dataframe thead th {\n",
       "        text-align: right;\n",
       "    }\n",
       "</style>\n",
       "<table border=\"1\" class=\"dataframe\">\n",
       "  <thead>\n",
       "    <tr style=\"text-align: right;\">\n",
       "      <th></th>\n",
       "      <th>'userID'</th>\n",
       "      <th>'songID'</th>\n",
       "      <th>'rating'</th>\n",
       "    </tr>\n",
       "  </thead>\n",
       "  <tbody>\n",
       "    <tr>\n",
       "      <th>0</th>\n",
       "      <td>0</td>\n",
       "      <td>7171</td>\n",
       "      <td>5</td>\n",
       "    </tr>\n",
       "    <tr>\n",
       "      <th>1</th>\n",
       "      <td>0</td>\n",
       "      <td>8637</td>\n",
       "      <td>4</td>\n",
       "    </tr>\n",
       "    <tr>\n",
       "      <th>2</th>\n",
       "      <td>0</td>\n",
       "      <td>21966</td>\n",
       "      <td>4</td>\n",
       "    </tr>\n",
       "    <tr>\n",
       "      <th>3</th>\n",
       "      <td>0</td>\n",
       "      <td>35821</td>\n",
       "      <td>5</td>\n",
       "    </tr>\n",
       "    <tr>\n",
       "      <th>4</th>\n",
       "      <td>0</td>\n",
       "      <td>82446</td>\n",
       "      <td>5</td>\n",
       "    </tr>\n",
       "    <tr>\n",
       "      <th>...</th>\n",
       "      <td>...</td>\n",
       "      <td>...</td>\n",
       "      <td>...</td>\n",
       "    </tr>\n",
       "    <tr>\n",
       "      <th>1999995</th>\n",
       "      <td>199999</td>\n",
       "      <td>75840</td>\n",
       "      <td>2</td>\n",
       "    </tr>\n",
       "    <tr>\n",
       "      <th>1999996</th>\n",
       "      <td>199999</td>\n",
       "      <td>85921</td>\n",
       "      <td>1</td>\n",
       "    </tr>\n",
       "    <tr>\n",
       "      <th>1999997</th>\n",
       "      <td>199999</td>\n",
       "      <td>116763</td>\n",
       "      <td>1</td>\n",
       "    </tr>\n",
       "    <tr>\n",
       "      <th>1999998</th>\n",
       "      <td>199999</td>\n",
       "      <td>128758</td>\n",
       "      <td>1</td>\n",
       "    </tr>\n",
       "    <tr>\n",
       "      <th>1999999</th>\n",
       "      <td>199999</td>\n",
       "      <td>129321</td>\n",
       "      <td>1</td>\n",
       "    </tr>\n",
       "  </tbody>\n",
       "</table>\n",
       "<p>2000000 rows × 3 columns</p>\n",
       "</div>"
      ],
      "text/plain": [
       "         'userID'  'songID'  'rating'\n",
       "0               0      7171         5\n",
       "1               0      8637         4\n",
       "2               0     21966         4\n",
       "3               0     35821         5\n",
       "4               0     82446         5\n",
       "...           ...       ...       ...\n",
       "1999995    199999     75840         2\n",
       "1999996    199999     85921         1\n",
       "1999997    199999    116763         1\n",
       "1999998    199999    128758         1\n",
       "1999999    199999    129321         1\n",
       "\n",
       "[2000000 rows x 3 columns]"
      ]
     },
     "execution_count": 4,
     "metadata": {},
     "output_type": "execute_result"
    }
   ],
   "source": [
    "df"
   ]
  },
  {
   "cell_type": "code",
   "execution_count": 5,
   "id": "eed5031c",
   "metadata": {},
   "outputs": [
    {
     "name": "stdout",
     "output_type": "stream",
     "text": [
      "<class 'pandas.core.frame.DataFrame'>\n",
      "RangeIndex: 2000000 entries, 0 to 1999999\n",
      "Data columns (total 3 columns):\n",
      " #   Column    Dtype\n",
      "---  ------    -----\n",
      " 0   'userID'  int64\n",
      " 1   'songID'  int64\n",
      " 2   'rating'  int64\n",
      "dtypes: int64(3)\n",
      "memory usage: 45.8 MB\n"
     ]
    }
   ],
   "source": [
    "df.info()"
   ]
  },
  {
   "cell_type": "code",
   "execution_count": 6,
   "id": "9c7ebe19",
   "metadata": {},
   "outputs": [
    {
     "data": {
      "text/plain": [
       "'userID'    200000\n",
       "'songID'    127771\n",
       "'rating'         5\n",
       "dtype: int64"
      ]
     },
     "execution_count": 6,
     "metadata": {},
     "output_type": "execute_result"
    }
   ],
   "source": [
    "df.nunique()"
   ]
  },
  {
   "cell_type": "code",
   "execution_count": 7,
   "id": "f0451d74",
   "metadata": {},
   "outputs": [],
   "source": [
    "df.columns = ['userID','songID','rating']"
   ]
  },
  {
   "cell_type": "code",
   "execution_count": 8,
   "id": "e8129f12",
   "metadata": {},
   "outputs": [
    {
     "data": {
      "text/plain": [
       "200000"
      ]
     },
     "execution_count": 8,
     "metadata": {},
     "output_type": "execute_result"
    }
   ],
   "source": [
    "len(df['userID'].value_counts())"
   ]
  },
  {
   "cell_type": "code",
   "execution_count": 9,
   "id": "871e443f",
   "metadata": {},
   "outputs": [
    {
     "data": {
      "text/plain": [
       "<AxesSubplot:>"
      ]
     },
     "execution_count": 9,
     "metadata": {},
     "output_type": "execute_result"
    },
    {
     "data": {
      "image/png": "[encoded data removed]",
      "text/plain": [
       "<Figure size 216x216 with 1 Axes>"
      ]
     },
     "metadata": {
      "needs_background": "light"
     },
     "output_type": "display_data"
    }
   ],
   "source": [
    "df.rating.hist(figsize=(3, 3))"
   ]
  },
  {
   "cell_type": "code",
   "execution_count": 10,
   "id": "6ba8b327",
   "metadata": {},
   "outputs": [
    {
     "data": {
      "text/plain": [
       "5    780134\n",
       "1    399243\n",
       "4    344972\n",
       "3    287831\n",
       "2    187820\n",
       "Name: rating, dtype: int64"
      ]
     },
     "execution_count": 10,
     "metadata": {},
     "output_type": "execute_result"
    }
   ],
   "source": [
    "df['rating'].value_counts()"
   ]
  },
  {
   "cell_type": "markdown",
   "id": "5de77b2a",
   "metadata": {},
   "source": [
    "## LightFM"
   ]
  },
  {
   "cell_type": "markdown",
   "id": "a0a57373",
   "metadata": {},
   "source": [
    "* https://github.com/lyst/lightfm/blob/master/examples/quickstart/quickstart.ipynb\n",
    " * https://making.lyst.com/lightfm/docs/quickstart.html"
   ]
  },
  {
   "cell_type": "code",
   "execution_count": 11,
   "id": "029d47f9",
   "metadata": {},
   "outputs": [],
   "source": [
    "from pandas.api.types import CategoricalDtype\n",
    "from scipy import sparse\n",
    "\n",
    "users = df[\"userID\"].unique()\n",
    "items = df[\"songID\"].unique()\n",
    "shape = (len(users), len(items))\n",
    "\n",
    "# Create indices for users and movies\n",
    "user_cat = CategoricalDtype(categories=sorted(users), ordered=True)\n",
    "items_cat = CategoricalDtype(categories=sorted(items), ordered=True)\n",
    "user_index = df[\"userID\"].astype(user_cat).cat.codes\n",
    "item_index = df[\"songID\"].astype(items_cat).cat.codes\n",
    "\n",
    "# Conversion via COO matrix\n",
    "coo = sparse.coo_matrix((df[\"rating\"], (user_index, item_index)), shape=shape)\n",
    "csr = coo.tocsr()"
   ]
  },
  {
   "cell_type": "code",
   "execution_count": 12,
   "id": "07422698",
   "metadata": {},
   "outputs": [
    {
     "data": {
      "text/plain": [
       "<200000x127771 sparse matrix of type '<class 'numpy.int64'>'\n",
       "\twith 2000000 stored elements in Compressed Sparse Row format>"
      ]
     },
     "execution_count": 12,
     "metadata": {},
     "output_type": "execute_result"
    }
   ],
   "source": [
    "csr"
   ]
  },
  {
   "cell_type": "code",
   "execution_count": 13,
   "id": "ddacd50e",
   "metadata": {},
   "outputs": [],
   "source": [
    "df_train, df_test = train_test_split(csr, train_size=0.5, random_state=42)"
   ]
  },
  {
   "cell_type": "code",
   "execution_count": 14,
   "id": "93be64c0",
   "metadata": {},
   "outputs": [
    {
     "name": "stdout",
     "output_type": "stream",
     "text": [
      "<100000x127771 sparse matrix of type '<class 'numpy.int64'>'\n",
      "\twith 1000000 stored elements in Compressed Sparse Row format>\n",
      "<100000x127771 sparse matrix of type '<class 'numpy.int64'>'\n",
      "\twith 1000000 stored elements in Compressed Sparse Row format>\n"
     ]
    }
   ],
   "source": [
    "print(repr(df_train))\n",
    "print(repr(df_test))"
   ]
  },
  {
   "cell_type": "code",
   "execution_count": 15,
   "id": "06dc1558",
   "metadata": {},
   "outputs": [
    {
     "data": {
      "text/plain": [
       "<lightfm.lightfm.LightFM at 0x22b38e233a0>"
      ]
     },
     "execution_count": 15,
     "metadata": {},
     "output_type": "execute_result"
    }
   ],
   "source": [
    "model = LightFM(loss='warp')\n",
    "model.fit(df_train, epochs=30, num_threads=8)"
   ]
  },
  {
   "cell_type": "code",
   "execution_count": null,
   "id": "410cb0c8",
   "metadata": {},
   "outputs": [],
   "source": []
  },
  {
   "cell_type": "code",
   "execution_count": 16,
   "id": "cf61ce7d",
   "metadata": {},
   "outputs": [],
   "source": [
    "from lightfm.evaluation import precision_at_k"
   ]
  },
  {
   "cell_type": "code",
   "execution_count": 17,
   "id": "cf64c8c1",
   "metadata": {},
   "outputs": [],
   "source": [
    "print(\"Train precision: %.2f\" % precision_at_k(model, df_train, k=10).mean())\n",
    "print(\"Test precision: %.2f\" % precision_at_k(model, df_test, k=10).mean())"
   ]
  },
  {
   "cell_type": "code",
   "execution_count": 18,
   "id": "f5648059",
   "metadata": {},
   "outputs": [],
   "source": [
    "from lightfm.evaluation import auc_score"
   ]
  },
  {
   "cell_type": "code",
   "execution_count": 19,
   "id": "3836ee28",
   "metadata": {},
   "outputs": [],
   "source": [
    "print(\"Train precision: %.2f\" % auc_score(model, df_train).mean())\n",
    "print(\"Test precision: %.2f\" % auc_score(model, df_test).mean())"
   ]
  },
  {
   "cell_type": "markdown",
   "id": "2f2abc58",
   "metadata": {},
   "source": [
    "## Почему не считает?"
   ]
  },
  {
   "cell_type": "code",
   "execution_count": null,
   "id": "d4e04e58",
   "metadata": {},
   "outputs": [],
   "source": []
  }
 ],
 "metadata": {
  "kernelspec": {
   "display_name": "Python 3 (ipykernel)",
   "language": "python",
   "name": "python3"
  },
  "language_info": {
   "codemirror_mode": {
    "name": "ipython",
    "version": 3
   },
   "file_extension": ".py",
   "mimetype": "text/x-python",
   "name": "python",
   "nbconvert_exporter": "python",
   "pygments_lexer": "ipython3",
   "version": "3.9.12"
  }
 },
 "nbformat": 4,
 "nbformat_minor": 5
}
