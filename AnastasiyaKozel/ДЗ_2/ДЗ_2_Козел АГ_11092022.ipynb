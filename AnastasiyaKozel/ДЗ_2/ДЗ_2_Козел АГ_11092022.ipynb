{
 "cells": [
  {
   "cell_type": "code",
   "execution_count": null,
   "id": "75102d1c",
   "metadata": {},
   "outputs": [],
   "source": [
    "#Козел А.Г. 11.09.2022 ДЗ № 2"
   ]
  },
  {
   "cell_type": "code",
   "execution_count": null,
   "id": "34a95321",
   "metadata": {},
   "outputs": [],
   "source": [
    "#task_2 \n",
    "# 2._Напишите программу, которая ищет корни квадратного уравнения вида a*x*x+b*x+c. \n",
    "# На вход программы подаются a,b,c. Результатом работы программы – действительные корни или сообщение что корней нет.\n",
    "a, b, c = int(input()), int(input()), int(input())\n",
    "D = b**2 - 4*a*c\n",
    "if D < 0:\n",
    "    print('Корней нет')\n",
    "elif D == 0:\n",
    "    print(-b/(2*a))\n",
    "else:\n",
    "    print((-b + D**0.5)/(2*a))\n",
    "    print((-b - D**0.5)/(2*a))"
   ]
  },
  {
   "cell_type": "code",
   "execution_count": null,
   "id": "253a29df",
   "metadata": {},
   "outputs": [],
   "source": [
    "#task_1 \n",
    "#1.\tНапишите программу, которая рассчитывает расход топлива маршрута, на вход подается длина маршрута и расход топлива на 100 километров. \n",
    "# Используйте try catch (проверка что пользователь ввел число>0).\n",
    "way = int(input())\n",
    "consumption = int(input())\n",
    "try:\n",
    "    k = way*consumption/100\n",
    "    assert k>0\n",
    "except AssertionError:\n",
    "    print(\"AssertionError\")\n",
    "else:\n",
    "    print(k)\n",
    "    "
   ]
  },
  {
   "cell_type": "code",
   "execution_count": null,
   "id": "6f7db8b3",
   "metadata": {},
   "outputs": [],
   "source": [
    "#task_3 \n",
    "#3.\tНапишите программу, находящую наибольшее и наименьшее значение функции y = -26*x**2+25*x-9 на отрезке [-5,5]. \n",
    "#Для решения и используйте while и какой-то шаг (например 0.1). \n",
    "answer = []\n",
    "x = -5\n",
    "while x <= 5:\n",
    "    answer.append(-26*x**2+25*x-9)\n",
    "    x += 0.1\n",
    "print(min(answer))\n",
    "print(max(answer))\n",
    "#количество операций 308"
   ]
  },
  {
   "cell_type": "code",
   "execution_count": null,
   "id": "9a20e87e",
   "metadata": {},
   "outputs": [],
   "source": [
    "#task_3 \n",
    "# решение без цикла\n",
    "print(-26*(-5)**2+25*(-5)-9) #очевидно, что это минимум функции\n",
    "#приравниваем производную функции к 0, находим экстремум (максимум в нашем случае)\n",
    "print(-26*(25/52)**2+25*(25/52)-9)\n",
    "#количество операций 2"
   ]
  },
  {
   "cell_type": "code",
   "execution_count": null,
   "id": "0c2837ce",
   "metadata": {},
   "outputs": [],
   "source": []
  }
 ],
 "metadata": {
  "kernelspec": {
   "display_name": "Python 3 (ipykernel)",
   "language": "python",
   "name": "python3"
  },
  "language_info": {
   "codemirror_mode": {
    "name": "ipython",
    "version": 3
   },
   "file_extension": ".py",
   "mimetype": "text/x-python",
   "name": "python",
   "nbconvert_exporter": "python",
   "pygments_lexer": "ipython3",
   "version": "3.9.12"
  }
 },
 "nbformat": 4,
 "nbformat_minor": 5
}
