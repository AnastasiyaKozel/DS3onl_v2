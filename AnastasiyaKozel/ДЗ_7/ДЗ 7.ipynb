{
 "cells": [
  {
   "cell_type": "markdown",
   "id": "8674defc",
   "metadata": {},
   "source": [
    "## Домашнее задание 7\n",
    "### Козел А.Г.     3.10.2022 \n"
   ]
  },
  {
   "cell_type": "markdown",
   "id": "5c8f426a",
   "metadata": {},
   "source": [
    "Напишите декоратор, оптимизирующий работу декорируемой функции.\n",
    "Декоратор должен сохранять результат работы функции на ближайшие три запуска и вместо выполнения функции возвращать сохранённый результат. \n",
    "После трёх запусков функция должна вызываться вновь, а результат работы функции — вновь кешироваться."
   ]
  },
  {
   "cell_type": "code",
   "execution_count": 6,
   "id": "3670f64d",
   "metadata": {},
   "outputs": [],
   "source": [
    "def my_decorator(func):\n",
    "        count = 0 #счетчик запусков\n",
    "        result = [] \n",
    "        def wrapper(*args):\n",
    "            nonlocal count\n",
    "            if count == 0:#если функция вызывается впервые\n",
    "                result.append(func(*args)) #результат работы функции сохраняем\n",
    "                count +=1\n",
    "                print(f'{result} Результат') #печатаем результат\n",
    "            elif 4>count>1:\n",
    "                count +=1\n",
    "                print(f'{result} Результат') #печатаем результат\n",
    "            elif count > 3:\n",
    "                result.clear()\n",
    "                result.append(func(*args))\n",
    "                count = 0\n",
    "                print(f'{result} Результат') #печатаем новый результат функции\n",
    "        return wrapper\n",
    "   \n",
    " \n",
    "    "
   ]
  },
  {
   "cell_type": "code",
   "execution_count": null,
   "id": "1a98de08",
   "metadata": {},
   "outputs": [],
   "source": []
  },
  {
   "cell_type": "code",
   "execution_count": null,
   "id": "88d245dc",
   "metadata": {},
   "outputs": [],
   "source": []
  }
 ],
 "metadata": {
  "kernelspec": {
   "display_name": "Python 3 (ipykernel)",
   "language": "python",
   "name": "python3"
  },
  "language_info": {
   "codemirror_mode": {
    "name": "ipython",
    "version": 3
   },
   "file_extension": ".py",
   "mimetype": "text/x-python",
   "name": "python",
   "nbconvert_exporter": "python",
   "pygments_lexer": "ipython3",
   "version": "3.9.12"
  }
 },
 "nbformat": 4,
 "nbformat_minor": 5
}
