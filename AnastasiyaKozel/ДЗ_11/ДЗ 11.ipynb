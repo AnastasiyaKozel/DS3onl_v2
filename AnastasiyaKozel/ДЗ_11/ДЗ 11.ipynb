{
 "cells": [
  {
   "cell_type": "markdown",
   "id": "1873e641",
   "metadata": {},
   "source": [
    "### Домашнее задание № 11\n",
    "### Козел А.Г.  30.10.2022   v.1 "
   ]
  },
  {
   "cell_type": "markdown",
   "id": "eef98d48",
   "metadata": {},
   "source": [
    "В данной задаче нам представлены данные в которых ключевое поле — это то, просрочит ли клиент микро-финансовой организации выплату более чем на 60 дней или нет. \n",
    "Нам нужно построить модель, которая по входным данным предсказывала бы с максимальной точностью ключе-вой параметр. \n",
    "Основной параметр это delinq60plus. Остальные парамет-ры интуитивно понятны из таблиц.\n",
    "### Цель\n",
    "\n",
    "Построить модель машинного обучения для предсказания вероятности того, что клиент уйдет в просрочку более 60 дней.\n",
    "\n",
    "### Задача\n",
    "осуществить корректную загрузку данных\n",
    "осуществить разведывательный анализ данных:\n",
    "- разбить выборку на обучающую и тестовую\n",
    "- проанализировать пропуски и решить, что с ними делать\n",
    "- проанализировать выбросы\n",
    "- создать/ удалить переменные\n",
    "- закодировать категориальные переменные\n",
    "- нормализовать числовые переменные (при необходимости)\n",
    "\n",
    "построить модель и оценить ее качество\n",
    "при необходимости вернуться к предыдущим шагам, чтобы улучшить качество модели\n",
    "\n",
    "\n",
    "### Высокая цель. Использовать (не везде, а где мы работаем с данными напрямую) SQL запросы. "
   ]
  },
  {
   "cell_type": "markdown",
   "id": "16696983",
   "metadata": {},
   "source": [
    "### Анализируем пропуски и выбросы"
   ]
  },
  {
   "cell_type": "code",
   "execution_count": 1,
   "id": "69cc43e4",
   "metadata": {},
   "outputs": [],
   "source": [
    "# Загружаем требуемые библиотеки.\n",
    "import pandas as pd\n",
    "import numpy as np\n",
    "import sqlite3\n",
    "import seaborn as sns\n",
    "import matplotlib.pyplot as plt\n",
    "from scipy.stats import normaltest\n",
    "from sklearn.model_selection import train_test_split\n",
    "import time\n",
    "from sklearn.ensemble import RandomForestClassifier\n",
    "from sklearn.model_selection import GridSearchCV\n",
    "from sklearn.preprocessing import StandardScaler, MinMaxScaler\n",
    "from sklearn.preprocessing import QuantileTransformer\n",
    "from sklearn.compose import ColumnTransformer\n",
    "from sklearn.pipeline import Pipeline\n",
    "from sklearn.metrics import roc_auc_score\n"
   ]
  },
  {
   "cell_type": "code",
   "execution_count": 2,
   "id": "f4c20247",
   "metadata": {},
   "outputs": [
    {
     "data": {
      "text/plain": [
       "'3.38.2'"
      ]
     },
     "execution_count": 2,
     "metadata": {},
     "output_type": "execute_result"
    }
   ],
   "source": [
    "sqlite3.sqlite_version"
   ]
  },
  {
   "cell_type": "code",
   "execution_count": 3,
   "id": "be932e7f",
   "metadata": {},
   "outputs": [],
   "source": [
    "con = sqlite3.connect('db') "
   ]
  },
  {
   "cell_type": "code",
   "execution_count": 4,
   "id": "c28c6b68",
   "metadata": {},
   "outputs": [],
   "source": [
    "df = pd.read_csv('MFOcredit.csv', sep=';', encoding=\"cp1251\") \n"
   ]
  },
  {
   "cell_type": "code",
   "execution_count": 5,
   "id": "ceb1b6f0",
   "metadata": {},
   "outputs": [
    {
     "name": "stdout",
     "output_type": "stream",
     "text": [
      "<class 'pandas.core.frame.DataFrame'>\n",
      "RangeIndex: 35212 entries, 0 to 35211\n",
      "Data columns (total 14 columns):\n",
      " #   Column        Non-Null Count  Dtype \n",
      "---  ------        --------------  ----- \n",
      " 0   id            35212 non-null  int64 \n",
      " 1   date_start    35212 non-null  object\n",
      " 2   date_end      35212 non-null  object\n",
      " 3   gender        35212 non-null  object\n",
      " 4   age           35212 non-null  int64 \n",
      " 5   auto          35212 non-null  object\n",
      " 6   housing       35212 non-null  object\n",
      " 7   marstatus     35212 non-null  object\n",
      " 8   regclient     35212 non-null  object\n",
      " 9   jobtype       35212 non-null  object\n",
      " 10  region        35212 non-null  object\n",
      " 11  credits       35212 non-null  object\n",
      " 12  children      35212 non-null  object\n",
      " 13  delinq60plus  35212 non-null  object\n",
      "dtypes: int64(2), object(12)\n",
      "memory usage: 3.8+ MB\n"
     ]
    }
   ],
   "source": [
    "df.info()"
   ]
  },
  {
   "cell_type": "code",
   "execution_count": 6,
   "id": "5716a80f",
   "metadata": {},
   "outputs": [],
   "source": [
    "def select(sql):\n",
    "    return pd.read_sql(sql,con)"
   ]
  },
  {
   "cell_type": "code",
   "execution_count": 7,
   "id": "0880dd56",
   "metadata": {},
   "outputs": [
    {
     "data": {
      "text/plain": [
       "35212"
      ]
     },
     "execution_count": 7,
     "metadata": {},
     "output_type": "execute_result"
    }
   ],
   "source": [
    "df.to_sql('MFOcredit',con,index=False,if_exists='replace')"
   ]
  },
  {
   "cell_type": "code",
   "execution_count": 8,
   "id": "4d6c216a",
   "metadata": {},
   "outputs": [
    {
     "data": {
      "text/html": [
       "<div>\n",
       "<style scoped>\n",
       "    .dataframe tbody tr th:only-of-type {\n",
       "        vertical-align: middle;\n",
       "    }\n",
       "\n",
       "    .dataframe tbody tr th {\n",
       "        vertical-align: top;\n",
       "    }\n",
       "\n",
       "    .dataframe thead th {\n",
       "        text-align: right;\n",
       "    }\n",
       "</style>\n",
       "<table border=\"1\" class=\"dataframe\">\n",
       "  <thead>\n",
       "    <tr style=\"text-align: right;\">\n",
       "      <th></th>\n",
       "      <th>id</th>\n",
       "      <th>date_start</th>\n",
       "      <th>date_end</th>\n",
       "      <th>gender</th>\n",
       "      <th>age</th>\n",
       "      <th>auto</th>\n",
       "      <th>housing</th>\n",
       "      <th>marstatus</th>\n",
       "      <th>regclient</th>\n",
       "      <th>jobtype</th>\n",
       "      <th>region</th>\n",
       "      <th>credits</th>\n",
       "      <th>children</th>\n",
       "      <th>delinq60plus</th>\n",
       "    </tr>\n",
       "  </thead>\n",
       "  <tbody>\n",
       "    <tr>\n",
       "      <th>0</th>\n",
       "      <td>1</td>\n",
       "      <td>03-Jan-2013</td>\n",
       "      <td>12-Jan-2013</td>\n",
       "      <td>Мужской</td>\n",
       "      <td>44</td>\n",
       "      <td>Нет</td>\n",
       "      <td>Собственное</td>\n",
       "      <td>Гражданский брак/женат/замужем</td>\n",
       "      <td>Нет</td>\n",
       "      <td>Официальное</td>\n",
       "      <td>Новосибирская область</td>\n",
       "      <td>Нет</td>\n",
       "      <td>Да</td>\n",
       "      <td>Нет</td>\n",
       "    </tr>\n",
       "    <tr>\n",
       "      <th>1</th>\n",
       "      <td>2</td>\n",
       "      <td>03-Jan-2013</td>\n",
       "      <td>17-Jan-2013</td>\n",
       "      <td>Мужской</td>\n",
       "      <td>21</td>\n",
       "      <td>Пропуск поля</td>\n",
       "      <td>Живут с родителями</td>\n",
       "      <td>Холост</td>\n",
       "      <td>Нет</td>\n",
       "      <td>Официальное</td>\n",
       "      <td>Кемеровская область юг</td>\n",
       "      <td>Да</td>\n",
       "      <td>Нет</td>\n",
       "      <td>Нет</td>\n",
       "    </tr>\n",
       "    <tr>\n",
       "      <th>2</th>\n",
       "      <td>3</td>\n",
       "      <td>03-Jan-2013</td>\n",
       "      <td>17-Jan-2013</td>\n",
       "      <td>Мужской</td>\n",
       "      <td>25</td>\n",
       "      <td>Пропуск поля</td>\n",
       "      <td>Собственное</td>\n",
       "      <td>Холост</td>\n",
       "      <td>Да</td>\n",
       "      <td>Официальное</td>\n",
       "      <td>Кемеровская область север</td>\n",
       "      <td>Пропуск поля</td>\n",
       "      <td>Нет</td>\n",
       "      <td>Нет</td>\n",
       "    </tr>\n",
       "    <tr>\n",
       "      <th>3</th>\n",
       "      <td>4</td>\n",
       "      <td>03-Jan-2013</td>\n",
       "      <td>17-Jan-2013</td>\n",
       "      <td>Женский</td>\n",
       "      <td>47</td>\n",
       "      <td>Пропуск поля</td>\n",
       "      <td>Собственное</td>\n",
       "      <td>Гражданский брак/женат/замужем</td>\n",
       "      <td>Да</td>\n",
       "      <td>Официальное</td>\n",
       "      <td>Кемеровская область север</td>\n",
       "      <td>Нет</td>\n",
       "      <td>Нет</td>\n",
       "      <td>Нет</td>\n",
       "    </tr>\n",
       "    <tr>\n",
       "      <th>4</th>\n",
       "      <td>5</td>\n",
       "      <td>03-Jan-2013</td>\n",
       "      <td>17-Jan-2013</td>\n",
       "      <td>Мужской</td>\n",
       "      <td>22</td>\n",
       "      <td>Нет</td>\n",
       "      <td>Арендуемое</td>\n",
       "      <td>Гражданский брак/женат/замужем</td>\n",
       "      <td>Нет</td>\n",
       "      <td>Официальное</td>\n",
       "      <td>Кемеровская область север</td>\n",
       "      <td>Да</td>\n",
       "      <td>Да</td>\n",
       "      <td>Нет</td>\n",
       "    </tr>\n",
       "    <tr>\n",
       "      <th>...</th>\n",
       "      <td>...</td>\n",
       "      <td>...</td>\n",
       "      <td>...</td>\n",
       "      <td>...</td>\n",
       "      <td>...</td>\n",
       "      <td>...</td>\n",
       "      <td>...</td>\n",
       "      <td>...</td>\n",
       "      <td>...</td>\n",
       "      <td>...</td>\n",
       "      <td>...</td>\n",
       "      <td>...</td>\n",
       "      <td>...</td>\n",
       "      <td>...</td>\n",
       "    </tr>\n",
       "    <tr>\n",
       "      <th>35207</th>\n",
       "      <td>35208</td>\n",
       "      <td>03-Jan-2014</td>\n",
       "      <td>17-Jan-2014</td>\n",
       "      <td>Мужской</td>\n",
       "      <td>30</td>\n",
       "      <td>Да</td>\n",
       "      <td>Долевая собственность</td>\n",
       "      <td>Гражданский брак/женат/замужем</td>\n",
       "      <td>Да</td>\n",
       "      <td>Официальное</td>\n",
       "      <td>Алтайский край</td>\n",
       "      <td>Да</td>\n",
       "      <td>Да</td>\n",
       "      <td>Нет</td>\n",
       "    </tr>\n",
       "    <tr>\n",
       "      <th>35208</th>\n",
       "      <td>35209</td>\n",
       "      <td>03-Jan-2014</td>\n",
       "      <td>17-Jan-2014</td>\n",
       "      <td>Женский</td>\n",
       "      <td>57</td>\n",
       "      <td>Нет</td>\n",
       "      <td>Собственное</td>\n",
       "      <td>Разведен</td>\n",
       "      <td>Да</td>\n",
       "      <td>Пропуск поля</td>\n",
       "      <td>Алтайский край</td>\n",
       "      <td>Да</td>\n",
       "      <td>Нет</td>\n",
       "      <td>Нет</td>\n",
       "    </tr>\n",
       "    <tr>\n",
       "      <th>35209</th>\n",
       "      <td>35210</td>\n",
       "      <td>03-Jan-2014</td>\n",
       "      <td>17-Jan-2014</td>\n",
       "      <td>Женский</td>\n",
       "      <td>38</td>\n",
       "      <td>Пропуск поля</td>\n",
       "      <td>Пропуск поля</td>\n",
       "      <td>Пропуск поля</td>\n",
       "      <td>Да</td>\n",
       "      <td>Пропуск поля</td>\n",
       "      <td>Новосибирская область</td>\n",
       "      <td>Нет</td>\n",
       "      <td>Да</td>\n",
       "      <td>Нет</td>\n",
       "    </tr>\n",
       "    <tr>\n",
       "      <th>35210</th>\n",
       "      <td>35211</td>\n",
       "      <td>03-Jan-2014</td>\n",
       "      <td>17-Jan-2014</td>\n",
       "      <td>Женский</td>\n",
       "      <td>19</td>\n",
       "      <td>Пропуск поля</td>\n",
       "      <td>Пропуск поля</td>\n",
       "      <td>Пропуск поля</td>\n",
       "      <td>Да</td>\n",
       "      <td>Пропуск поля</td>\n",
       "      <td>Кемеровская область юг</td>\n",
       "      <td>Нет</td>\n",
       "      <td>Нет</td>\n",
       "      <td>Нет</td>\n",
       "    </tr>\n",
       "    <tr>\n",
       "      <th>35211</th>\n",
       "      <td>35212</td>\n",
       "      <td>03-Jan-2014</td>\n",
       "      <td>17-Jan-2014</td>\n",
       "      <td>Мужской</td>\n",
       "      <td>25</td>\n",
       "      <td>Пропуск поля</td>\n",
       "      <td>Пропуск поля</td>\n",
       "      <td>Пропуск поля</td>\n",
       "      <td>Да</td>\n",
       "      <td>Пропуск поля</td>\n",
       "      <td>Кемеровская область север</td>\n",
       "      <td>Нет</td>\n",
       "      <td>Нет</td>\n",
       "      <td>Нет</td>\n",
       "    </tr>\n",
       "  </tbody>\n",
       "</table>\n",
       "<p>35212 rows × 14 columns</p>\n",
       "</div>"
      ],
      "text/plain": [
       "          id   date_start     date_end   gender  age          auto  \\\n",
       "0          1  03-Jan-2013  12-Jan-2013  Мужской   44           Нет   \n",
       "1          2  03-Jan-2013  17-Jan-2013  Мужской   21  Пропуск поля   \n",
       "2          3  03-Jan-2013  17-Jan-2013  Мужской   25  Пропуск поля   \n",
       "3          4  03-Jan-2013  17-Jan-2013  Женский   47  Пропуск поля   \n",
       "4          5  03-Jan-2013  17-Jan-2013  Мужской   22           Нет   \n",
       "...      ...          ...          ...      ...  ...           ...   \n",
       "35207  35208  03-Jan-2014  17-Jan-2014  Мужской   30            Да   \n",
       "35208  35209  03-Jan-2014  17-Jan-2014  Женский   57           Нет   \n",
       "35209  35210  03-Jan-2014  17-Jan-2014  Женский   38  Пропуск поля   \n",
       "35210  35211  03-Jan-2014  17-Jan-2014  Женский   19  Пропуск поля   \n",
       "35211  35212  03-Jan-2014  17-Jan-2014  Мужской   25  Пропуск поля   \n",
       "\n",
       "                     housing                       marstatus regclient  \\\n",
       "0                Собственное  Гражданский брак/женат/замужем       Нет   \n",
       "1         Живут с родителями                          Холост       Нет   \n",
       "2                Собственное                          Холост        Да   \n",
       "3                Собственное  Гражданский брак/женат/замужем        Да   \n",
       "4                 Арендуемое  Гражданский брак/женат/замужем       Нет   \n",
       "...                      ...                             ...       ...   \n",
       "35207  Долевая собственность  Гражданский брак/женат/замужем        Да   \n",
       "35208            Собственное                        Разведен        Да   \n",
       "35209           Пропуск поля                    Пропуск поля        Да   \n",
       "35210           Пропуск поля                    Пропуск поля        Да   \n",
       "35211           Пропуск поля                    Пропуск поля        Да   \n",
       "\n",
       "            jobtype                     region       credits children  \\\n",
       "0       Официальное      Новосибирская область           Нет       Да   \n",
       "1       Официальное     Кемеровская область юг            Да      Нет   \n",
       "2       Официальное  Кемеровская область север  Пропуск поля      Нет   \n",
       "3       Официальное  Кемеровская область север           Нет      Нет   \n",
       "4       Официальное  Кемеровская область север            Да       Да   \n",
       "...             ...                        ...           ...      ...   \n",
       "35207   Официальное             Алтайский край            Да       Да   \n",
       "35208  Пропуск поля             Алтайский край            Да      Нет   \n",
       "35209  Пропуск поля      Новосибирская область           Нет       Да   \n",
       "35210  Пропуск поля     Кемеровская область юг           Нет      Нет   \n",
       "35211  Пропуск поля  Кемеровская область север           Нет      Нет   \n",
       "\n",
       "      delinq60plus  \n",
       "0              Нет  \n",
       "1              Нет  \n",
       "2              Нет  \n",
       "3              Нет  \n",
       "4              Нет  \n",
       "...            ...  \n",
       "35207          Нет  \n",
       "35208          Нет  \n",
       "35209          Нет  \n",
       "35210          Нет  \n",
       "35211          Нет  \n",
       "\n",
       "[35212 rows x 14 columns]"
      ]
     },
     "execution_count": 8,
     "metadata": {},
     "output_type": "execute_result"
    }
   ],
   "source": [
    "sql = '''SELECT * FROM MFOcredit AS t'''\n",
    "select(sql)"
   ]
  },
  {
   "cell_type": "code",
   "execution_count": 9,
   "id": "7a1d2e7d",
   "metadata": {},
   "outputs": [
    {
     "data": {
      "text/plain": [
       "id              35212\n",
       "date_start        365\n",
       "date_end          373\n",
       "gender              2\n",
       "age                58\n",
       "auto                3\n",
       "housing             6\n",
       "marstatus           5\n",
       "regclient           2\n",
       "jobtype             3\n",
       "region              5\n",
       "credits             3\n",
       "children            3\n",
       "delinq60plus        2\n",
       "dtype: int64"
      ]
     },
     "execution_count": 9,
     "metadata": {},
     "output_type": "execute_result"
    }
   ],
   "source": [
    "# количество уникальных значений\n",
    "df.nunique()"
   ]
  },
  {
   "cell_type": "code",
   "execution_count": 10,
   "id": "a1746d92",
   "metadata": {
    "scrolled": false
   },
   "outputs": [],
   "source": [
    "#убираю столбец \"id \"\n",
    "df = pd.DataFrame(df,columns=['date_start', 'date_end', 'gender', 'age', 'auto', 'housing', 'marstatus', 'regclient', 'jobtype', 'region', 'credits', 'children', 'delinq60plus'])\n"
   ]
  },
  {
   "cell_type": "markdown",
   "id": "a3f2cd19",
   "metadata": {},
   "source": [
    "### Уберем дубликаты"
   ]
  },
  {
   "cell_type": "code",
   "execution_count": 11,
   "id": "8e30bc87",
   "metadata": {},
   "outputs": [
    {
     "data": {
      "text/plain": [
       "(107, 13)"
      ]
     },
     "execution_count": 11,
     "metadata": {},
     "output_type": "execute_result"
    }
   ],
   "source": [
    "df_duplicateRows = df[df.duplicated()]\n",
    "df_duplicateRows.shape"
   ]
  },
  {
   "cell_type": "code",
   "execution_count": 12,
   "id": "fc51d88b",
   "metadata": {},
   "outputs": [],
   "source": [
    "df_1=df.copy()"
   ]
  },
  {
   "cell_type": "code",
   "execution_count": 14,
   "id": "2fe8ba9d",
   "metadata": {},
   "outputs": [],
   "source": [
    "#df_1[\"is_duplicate\"] = df_1.duplicated(keep='first')\n",
    "#df_2= df_1[df_1[\"is_duplicate\"]==False]\n",
    "#df_2 = df_2.drop([\"is_duplicate\"], axis=1).reset_index()\n",
    "#df_2.shape"
   ]
  },
  {
   "cell_type": "code",
   "execution_count": 15,
   "id": "14df7913",
   "metadata": {},
   "outputs": [
    {
     "data": {
      "text/plain": [
       "(35105, 13)"
      ]
     },
     "execution_count": 15,
     "metadata": {},
     "output_type": "execute_result"
    }
   ],
   "source": [
    "df_1[\"is_duplicate\"] = df_1.duplicated(keep='first')\n",
    "df_2= df_1[df_1[\"is_duplicate\"]==False]\n",
    "df_2 = df_2.drop([\"is_duplicate\"], axis=1)\n",
    "df_2.shape"
   ]
  },
  {
   "cell_type": "markdown",
   "id": "b8018467",
   "metadata": {},
   "source": [
    "### Разделим данные"
   ]
  },
  {
   "cell_type": "code",
   "execution_count": 16,
   "id": "a806b7c8",
   "metadata": {},
   "outputs": [],
   "source": [
    "df_train, df_test = train_test_split(df_2, train_size=0.7, random_state=42)"
   ]
  },
  {
   "cell_type": "markdown",
   "id": "d1f801d4",
   "metadata": {},
   "source": [
    "### Проанализируем пропуски и решим, что с ними делать\n",
    "#### 1. Столбцы без пропусков"
   ]
  },
  {
   "cell_type": "code",
   "execution_count": 17,
   "id": "f0dc2bf8",
   "metadata": {},
   "outputs": [
    {
     "data": {
      "text/plain": [
       "Кемеровская область север    8807\n",
       "Кемеровская область юг       7635\n",
       "Алтайский край               3603\n",
       "Новосибирская область        2979\n",
       "Красноярский край            1549\n",
       "Name: region, dtype: int64"
      ]
     },
     "execution_count": 17,
     "metadata": {},
     "output_type": "execute_result"
    }
   ],
   "source": [
    "df_train['region'].value_counts()"
   ]
  },
  {
   "cell_type": "code",
   "execution_count": 18,
   "id": "603ab198",
   "metadata": {},
   "outputs": [
    {
     "data": {
      "text/plain": [
       "Женский    12704\n",
       "Мужской    11869\n",
       "Name: gender, dtype: int64"
      ]
     },
     "execution_count": 18,
     "metadata": {},
     "output_type": "execute_result"
    }
   ],
   "source": [
    "df_train['gender'].value_counts()"
   ]
  },
  {
   "cell_type": "code",
   "execution_count": 19,
   "id": "15d7fc0a",
   "metadata": {},
   "outputs": [
    {
     "data": {
      "text/plain": [
       "Нет    15122\n",
       "Да      9451\n",
       "Name: delinq60plus, dtype: int64"
      ]
     },
     "execution_count": 19,
     "metadata": {},
     "output_type": "execute_result"
    }
   ],
   "source": [
    "df_train['delinq60plus'].value_counts()"
   ]
  },
  {
   "cell_type": "code",
   "execution_count": 20,
   "id": "077a4bbb",
   "metadata": {},
   "outputs": [
    {
     "data": {
      "text/plain": [
       "Да     13787\n",
       "Нет    10786\n",
       "Name: regclient, dtype: int64"
      ]
     },
     "execution_count": 20,
     "metadata": {},
     "output_type": "execute_result"
    }
   ],
   "source": [
    "df_train['regclient'].value_counts()"
   ]
  },
  {
   "cell_type": "markdown",
   "id": "6b96cd0a",
   "metadata": {},
   "source": [
    "#### Слишком большое количество значений \"Пропуск поля\", чтобы заменять средним по категории или удалять. Это, на мой взгляд,  окажет существенное влияние на результаты "
   ]
  },
  {
   "cell_type": "code",
   "execution_count": 21,
   "id": "b224c76b",
   "metadata": {},
   "outputs": [
    {
     "data": {
      "text/plain": [
       "Собственное              12537\n",
       "Пропуск поля              5335\n",
       "Живут с родителями        2255\n",
       "Долевая собственность     2097\n",
       "Арендуемое                1405\n",
       "Муниципальное              944\n",
       "Name: housing, dtype: int64"
      ]
     },
     "execution_count": 21,
     "metadata": {},
     "output_type": "execute_result"
    }
   ],
   "source": [
    "df_train['housing'].value_counts()"
   ]
  },
  {
   "cell_type": "code",
   "execution_count": 22,
   "id": "88c5f866",
   "metadata": {},
   "outputs": [
    {
     "data": {
      "text/plain": [
       "Нет             12111\n",
       "Пропуск поля     9872\n",
       "Да               2590\n",
       "Name: auto, dtype: int64"
      ]
     },
     "execution_count": 22,
     "metadata": {},
     "output_type": "execute_result"
    }
   ],
   "source": [
    "df_train['auto'].value_counts()"
   ]
  },
  {
   "cell_type": "code",
   "execution_count": 23,
   "id": "d00acb60",
   "metadata": {},
   "outputs": [
    {
     "data": {
      "text/plain": [
       "Официальное      13693\n",
       "Пропуск поля     10053\n",
       "Неофициальное      827\n",
       "Name: jobtype, dtype: int64"
      ]
     },
     "execution_count": 23,
     "metadata": {},
     "output_type": "execute_result"
    }
   ],
   "source": [
    "df_train['jobtype'].value_counts()"
   ]
  },
  {
   "cell_type": "markdown",
   "id": "58f6e8e6",
   "metadata": {},
   "source": [
    "#### В следующих двух столбцах пропуски \"Пропуски поля\" составляют менее 3%, поэтому заменяем самым частым"
   ]
  },
  {
   "cell_type": "code",
   "execution_count": 24,
   "id": "3290851b",
   "metadata": {},
   "outputs": [
    {
     "data": {
      "text/plain": [
       "Нет             12604\n",
       "Да              11302\n",
       "Пропуск поля      667\n",
       "Name: credits, dtype: int64"
      ]
     },
     "execution_count": 24,
     "metadata": {},
     "output_type": "execute_result"
    }
   ],
   "source": [
    "df_train['credits'].value_counts()"
   ]
  },
  {
   "cell_type": "code",
   "execution_count": 25,
   "id": "3595d6e2",
   "metadata": {},
   "outputs": [],
   "source": [
    "df_train['credits']=df_train['credits'].fillna('Нет')"
   ]
  },
  {
   "cell_type": "code",
   "execution_count": 26,
   "id": "d13c82c5",
   "metadata": {},
   "outputs": [
    {
     "data": {
      "text/plain": [
       "Нет             14721\n",
       "Да               9327\n",
       "Пропуск поля      525\n",
       "Name: children, dtype: int64"
      ]
     },
     "execution_count": 26,
     "metadata": {},
     "output_type": "execute_result"
    }
   ],
   "source": [
    "df_train['children'].value_counts()"
   ]
  },
  {
   "cell_type": "code",
   "execution_count": 27,
   "id": "c4d09346",
   "metadata": {},
   "outputs": [],
   "source": [
    "df_train['children']=df_train['children'].fillna('Нет')"
   ]
  },
  {
   "cell_type": "markdown",
   "id": "041ed073",
   "metadata": {},
   "source": [
    "### Отдельно рассмотрим возраст"
   ]
  },
  {
   "cell_type": "code",
   "execution_count": 28,
   "id": "280a5f46",
   "metadata": {},
   "outputs": [
    {
     "data": {
      "text/plain": [
       "26    1045\n",
       "25    1040\n",
       "24    1013\n",
       "22     949\n",
       "23     925\n",
       "27     923\n",
       "29     915\n",
       "28     903\n",
       "30     867\n",
       "21     804\n",
       "31     764\n",
       "32     665\n",
       "33     652\n",
       "34     628\n",
       "35     601\n",
       "36     570\n",
       "37     547\n",
       "39     506\n",
       "38     496\n",
       "40     457\n",
       "20     450\n",
       "55     435\n",
       "56     417\n",
       "58     409\n",
       "41     408\n",
       "53     397\n",
       "57     390\n",
       "42     375\n",
       "43     363\n",
       "44     362\n",
       "54     347\n",
       "51     346\n",
       "52     346\n",
       "50     345\n",
       "59     342\n",
       "60     336\n",
       "61     310\n",
       "47     307\n",
       "49     306\n",
       "19     294\n",
       "45     281\n",
       "48     274\n",
       "46     272\n",
       "62     267\n",
       "63     255\n",
       "64     208\n",
       "66     148\n",
       "65     146\n",
       "67      71\n",
       "68      44\n",
       "69      23\n",
       "70       9\n",
       "72       5\n",
       "18       4\n",
       "73       3\n",
       "75       3\n",
       "71       3\n",
       "74       2\n",
       "Name: age, dtype: int64"
      ]
     },
     "execution_count": 28,
     "metadata": {},
     "output_type": "execute_result"
    }
   ],
   "source": [
    "df_train['age'].value_counts()"
   ]
  },
  {
   "cell_type": "code",
   "execution_count": 29,
   "id": "e6603770",
   "metadata": {},
   "outputs": [
    {
     "data": {
      "text/plain": [
       "<AxesSubplot:>"
      ]
     },
     "execution_count": 29,
     "metadata": {},
     "output_type": "execute_result"
    },
    {
     "data": {
      "image/png": "[encoded data removed]",
      "text/plain": [
       "<Figure size 360x360 with 1 Axes>"
      ]
     },
     "metadata": {},
     "output_type": "display_data"
    }
   ],
   "source": [
    "sns.set_theme(style=\"ticks\", palette=\"pastel\")\n",
    "plt.figure (figsize=(5,5))\n",
    "sns.boxplot (data=df_train)"
   ]
  },
  {
   "cell_type": "markdown",
   "id": "896f29d4",
   "metadata": {},
   "source": [
    "#### Пропусков и выбросов нет"
   ]
  },
  {
   "cell_type": "code",
   "execution_count": 30,
   "id": "9596f36e",
   "metadata": {},
   "outputs": [
    {
     "name": "stdout",
     "output_type": "stream",
     "text": [
      "Распределение НЕ СООТВЕТСТВУЕТ нормальному\n"
     ]
    }
   ],
   "source": [
    "if normaltest(df_train['age'].astype(np.float32).values).pvalue>0.05:\n",
    "    print (\"Распределение СООТВЕТСТВУЕТ нормальному\")\n",
    "else:\n",
    "    print (\"Распределение НЕ СООТВЕТСТВУЕТ нормальному\")"
   ]
  },
  {
   "cell_type": "code",
   "execution_count": 31,
   "id": "8869072f",
   "metadata": {},
   "outputs": [
    {
     "data": {
      "image/png": "[encoded data removed]",
      "text/plain": [
       "<Figure size 542.975x360 with 1 Axes>"
      ]
     },
     "metadata": {},
     "output_type": "display_data"
    }
   ],
   "source": [
    "sns.displot(\n",
    "    {\n",
    "        \"Алтайский край\": df_train[df_train.region == 'Алтайский край'].age,\n",
    "        \"Кемеровская область север\": df_train[df_train.region == 'Кемеровская область север'].age,\n",
    "        \"Кемеровская область юг\": df_train[df_train.region == 'Кемеровская область юг'].age,\n",
    "        \"Красноярский край\": df_train[df_train.region == 'Красноярский край'].age,\n",
    "        \"Новосибирская область\":df_train[df_train.region == 'Новосибирская область'].age,\n",
    "    },\n",
    "    kind=\"kde\",\n",
    "    common_norm=False\n",
    ")\n",
    "\n",
    "plt.title('Age-Region', fontsize=20)\n",
    "plt.xlabel('Age', fontsize=14)\n",
    "plt.ylabel('Dentsity', fontsize=14)\n",
    "\n",
    "plt.xticks(fontsize=14)\n",
    "plt.yticks(fontsize=14);"
   ]
  },
  {
   "cell_type": "markdown",
   "id": "90dda3ae",
   "metadata": {},
   "source": [
    "### Дату необходимо обработать"
   ]
  },
  {
   "cell_type": "code",
   "execution_count": 32,
   "id": "f4c27fd0",
   "metadata": {},
   "outputs": [
    {
     "data": {
      "text/plain": [
       "30-Dec-2013    295\n",
       "31-Dec-2013    208\n",
       "27-Dec-2013    184\n",
       "23-Dec-2013    180\n",
       "26-Dec-2013    170\n",
       "              ... \n",
       "17-Feb-2013      9\n",
       "20-Jan-2013      7\n",
       "27-Jan-2013      7\n",
       "10-Feb-2013      7\n",
       "02-Jan-2014      2\n",
       "Name: date_start, Length: 365, dtype: int64"
      ]
     },
     "execution_count": 32,
     "metadata": {},
     "output_type": "execute_result"
    }
   ],
   "source": [
    "df_train['date_start'].value_counts()"
   ]
  },
  {
   "cell_type": "code",
   "execution_count": 33,
   "id": "dec607c2",
   "metadata": {},
   "outputs": [
    {
     "data": {
      "text/plain": [
       "13-Jan-2014    278\n",
       "14-Jan-2014    201\n",
       "09-Jan-2014    178\n",
       "06-Jan-2014    176\n",
       "10-Jan-2014    175\n",
       "              ... \n",
       "14-Jan-2013      6\n",
       "13-Jan-2013      5\n",
       "10-Jan-2013      3\n",
       "12-Jan-2013      3\n",
       "09-Jan-2013      2\n",
       "Name: date_end, Length: 373, dtype: int64"
      ]
     },
     "execution_count": 33,
     "metadata": {},
     "output_type": "execute_result"
    }
   ],
   "source": [
    "df_train['date_end'].value_counts()"
   ]
  },
  {
   "cell_type": "code",
   "execution_count": 34,
   "id": "1c7fcdae",
   "metadata": {},
   "outputs": [],
   "source": [
    "df_train['date_start'] = pd.to_datetime(df_train['date_start'], format=\"%d-%b-%Y\")\n",
    "df_train['date_end'] = pd.to_datetime(df_train['date_end'], format=\"%d-%b-%Y\")"
   ]
  },
  {
   "cell_type": "code",
   "execution_count": null,
   "id": "246f452f",
   "metadata": {},
   "outputs": [],
   "source": []
  },
  {
   "cell_type": "code",
   "execution_count": 35,
   "id": "fd7f5506",
   "metadata": {},
   "outputs": [
    {
     "data": {
      "image/png": "[encoded data removed]",
      "text/plain": [
       "<Figure size 1080x504 with 1 Axes>"
      ]
     },
     "metadata": {},
     "output_type": "display_data"
    }
   ],
   "source": [
    "plt.figure(figsize=(15, 7))\n",
    "\n",
    "educ_def = (df_train.groupby(['delinq60plus'])['region']\n",
    "            .value_counts(normalize=True)\n",
    "            .rename('percentage')\n",
    "            .mul(100)\n",
    "            .reset_index()\n",
    "            .sort_values('region'))\n",
    "\n",
    "ax = sns.barplot(x=\"region\", y=\"percentage\", hue=\"delinq60plus\", data=educ_def)\n",
    "\n",
    "for p in ax.patches:\n",
    "    percentage = '{:.1f}%'.format(p.get_height())\n",
    "    ax.annotate(percentage,  # текст\n",
    "                (p.get_x() + p.get_width() / 2., p.get_height()),  # координата xy\n",
    "                ha='center',  # центрирование\n",
    "                va='center',\n",
    "                xytext=(0, 10),\n",
    "                textcoords='offset points',  # точка смещения относительно координаты\n",
    "                fontsize=14)\n",
    "\n",
    "plt.title('Region-delinq60plus', fontsize=20)\n",
    "plt.ylabel('Count', fontsize=14)\n",
    "plt.xlabel('delinq60plus', fontsize=14)\n",
    "\n",
    "plt.xticks(fontsize=11)\n",
    "plt.yticks(fontsize=11);"
   ]
  },
  {
   "cell_type": "code",
   "execution_count": 36,
   "id": "a315e243",
   "metadata": {},
   "outputs": [
    {
     "data": {
      "image/png": "[encoded data removed]",
      "text/plain": [
       "<Figure size 1080x504 with 1 Axes>"
      ]
     },
     "metadata": {},
     "output_type": "display_data"
    }
   ],
   "source": [
    "plt.figure(figsize=(15, 7))\n",
    "\n",
    "educ_def = (df_train.groupby(['delinq60plus'])['marstatus']\n",
    "            .value_counts(normalize=True)\n",
    "            .rename('percentage')\n",
    "            .mul(100)\n",
    "            .reset_index()\n",
    "            .sort_values('marstatus'))\n",
    "\n",
    "ax = sns.barplot(x=\"marstatus\", y=\"percentage\", hue=\"delinq60plus\", data=educ_def)\n",
    "\n",
    "for p in ax.patches:\n",
    "    percentage = '{:.1f}%'.format(p.get_height())\n",
    "    ax.annotate(percentage,  # текст\n",
    "                (p.get_x() + p.get_width() / 2., p.get_height()),  # координата xy\n",
    "                ha='center',  # центрирование\n",
    "                va='center',\n",
    "                xytext=(0, 10),\n",
    "                textcoords='offset points',  # точка смещения относительно координаты\n",
    "                fontsize=14)\n",
    "\n",
    "plt.title('marstatus-delinq60plus', fontsize=20)\n",
    "plt.ylabel('Count', fontsize=14)\n",
    "plt.xlabel('delinq60plus', fontsize=14)\n",
    "\n",
    "plt.xticks(fontsize=11)\n",
    "plt.yticks(fontsize=11);"
   ]
  },
  {
   "cell_type": "code",
   "execution_count": 37,
   "id": "02433cf3",
   "metadata": {},
   "outputs": [
    {
     "data": {
      "image/png": "[encoded data removed]",
      "text/plain": [
       "<Figure size 1080x504 with 1 Axes>"
      ]
     },
     "metadata": {},
     "output_type": "display_data"
    }
   ],
   "source": [
    "plt.figure(figsize=(15, 7))\n",
    "\n",
    "educ_def = (df_train.groupby(['delinq60plus'])['jobtype']\n",
    "            .value_counts(normalize=True)\n",
    "            .rename('percentage')\n",
    "            .mul(100)\n",
    "            .reset_index()\n",
    "            .sort_values('jobtype'))\n",
    "\n",
    "ax = sns.barplot(x=\"jobtype\", y=\"percentage\", hue=\"delinq60plus\", data=educ_def)\n",
    "\n",
    "for p in ax.patches:\n",
    "    percentage = '{:.1f}%'.format(p.get_height())\n",
    "    ax.annotate(percentage,  # текст\n",
    "                (p.get_x() + p.get_width() / 2., p.get_height()),  # координата xy\n",
    "                ha='center',  # центрирование\n",
    "                va='center',\n",
    "                xytext=(0, 10),\n",
    "                textcoords='offset points',  # точка смещения относительно координаты\n",
    "                fontsize=14)\n",
    "\n",
    "plt.title('jobtype-delinq60plus', fontsize=20)\n",
    "plt.ylabel('Count', fontsize=14)\n",
    "plt.xlabel('delinq60plus', fontsize=14)\n",
    "\n",
    "plt.xticks(fontsize=11)\n",
    "plt.yticks(fontsize=11);"
   ]
  },
  {
   "cell_type": "code",
   "execution_count": 38,
   "id": "d77d855b",
   "metadata": {},
   "outputs": [
    {
     "data": {
      "image/png": "[encoded data removed]",
      "text/plain": [
       "<Figure size 1080x504 with 1 Axes>"
      ]
     },
     "metadata": {},
     "output_type": "display_data"
    }
   ],
   "source": [
    "plt.figure(figsize=(15, 7))\n",
    "\n",
    "educ_def = (df_train.groupby(['delinq60plus'])['regclient']\n",
    "            .value_counts(normalize=True)\n",
    "            .rename('percentage')\n",
    "            .mul(100)\n",
    "            .reset_index()\n",
    "            .sort_values('regclient'))\n",
    "\n",
    "ax = sns.barplot(x=\"regclient\", y=\"percentage\", hue=\"delinq60plus\", data=educ_def)\n",
    "\n",
    "for p in ax.patches:\n",
    "    percentage = '{:.1f}%'.format(p.get_height())\n",
    "    ax.annotate(percentage,  # текст\n",
    "                (p.get_x() + p.get_width() / 2., p.get_height()),  # координата xy\n",
    "                ha='center',  # центрирование\n",
    "                va='center',\n",
    "                xytext=(0, 10),\n",
    "                textcoords='offset points',  # точка смещения относительно координаты\n",
    "                fontsize=14)\n",
    "\n",
    "plt.title('regclient-delinq60plus', fontsize=20)\n",
    "plt.ylabel('Count', fontsize=14)\n",
    "plt.xlabel('delinq60plus', fontsize=14)\n",
    "\n",
    "plt.xticks(fontsize=11)\n",
    "plt.yticks(fontsize=11);"
   ]
  },
  {
   "cell_type": "code",
   "execution_count": 39,
   "id": "497066a6",
   "metadata": {},
   "outputs": [
    {
     "data": {
      "text/html": [
       "<div>\n",
       "<style scoped>\n",
       "    .dataframe tbody tr th:only-of-type {\n",
       "        vertical-align: middle;\n",
       "    }\n",
       "\n",
       "    .dataframe tbody tr th {\n",
       "        vertical-align: top;\n",
       "    }\n",
       "\n",
       "    .dataframe thead th {\n",
       "        text-align: right;\n",
       "    }\n",
       "</style>\n",
       "<table border=\"1\" class=\"dataframe\">\n",
       "  <thead>\n",
       "    <tr style=\"text-align: right;\">\n",
       "      <th></th>\n",
       "      <th>gender</th>\n",
       "      <th>auto</th>\n",
       "      <th>housing</th>\n",
       "      <th>marstatus</th>\n",
       "      <th>regclient</th>\n",
       "      <th>jobtype</th>\n",
       "      <th>region</th>\n",
       "      <th>credits</th>\n",
       "      <th>children</th>\n",
       "      <th>delinq60plus</th>\n",
       "    </tr>\n",
       "  </thead>\n",
       "  <tbody>\n",
       "    <tr>\n",
       "      <th>count</th>\n",
       "      <td>24573</td>\n",
       "      <td>24573</td>\n",
       "      <td>24573</td>\n",
       "      <td>24573</td>\n",
       "      <td>24573</td>\n",
       "      <td>24573</td>\n",
       "      <td>24573</td>\n",
       "      <td>24573</td>\n",
       "      <td>24573</td>\n",
       "      <td>24573</td>\n",
       "    </tr>\n",
       "    <tr>\n",
       "      <th>unique</th>\n",
       "      <td>2</td>\n",
       "      <td>3</td>\n",
       "      <td>6</td>\n",
       "      <td>5</td>\n",
       "      <td>2</td>\n",
       "      <td>3</td>\n",
       "      <td>5</td>\n",
       "      <td>3</td>\n",
       "      <td>3</td>\n",
       "      <td>2</td>\n",
       "    </tr>\n",
       "    <tr>\n",
       "      <th>top</th>\n",
       "      <td>Женский</td>\n",
       "      <td>Нет</td>\n",
       "      <td>Собственное</td>\n",
       "      <td>Гражданский брак/женат/замужем</td>\n",
       "      <td>Да</td>\n",
       "      <td>Официальное</td>\n",
       "      <td>Кемеровская область север</td>\n",
       "      <td>Нет</td>\n",
       "      <td>Нет</td>\n",
       "      <td>Нет</td>\n",
       "    </tr>\n",
       "    <tr>\n",
       "      <th>freq</th>\n",
       "      <td>12704</td>\n",
       "      <td>12111</td>\n",
       "      <td>12537</td>\n",
       "      <td>9855</td>\n",
       "      <td>13787</td>\n",
       "      <td>13693</td>\n",
       "      <td>8807</td>\n",
       "      <td>12604</td>\n",
       "      <td>14721</td>\n",
       "      <td>15122</td>\n",
       "    </tr>\n",
       "  </tbody>\n",
       "</table>\n",
       "</div>"
      ],
      "text/plain": [
       "         gender   auto      housing                       marstatus regclient  \\\n",
       "count     24573  24573        24573                           24573     24573   \n",
       "unique        2      3            6                               5         2   \n",
       "top     Женский    Нет  Собственное  Гражданский брак/женат/замужем        Да   \n",
       "freq      12704  12111        12537                            9855     13787   \n",
       "\n",
       "            jobtype                     region credits children delinq60plus  \n",
       "count         24573                      24573   24573    24573        24573  \n",
       "unique            3                          5       3        3            2  \n",
       "top     Официальное  Кемеровская область север     Нет      Нет          Нет  \n",
       "freq          13693                       8807   12604    14721        15122  "
      ]
     },
     "execution_count": 39,
     "metadata": {},
     "output_type": "execute_result"
    }
   ],
   "source": [
    "df_train.describe(include=[object])"
   ]
  },
  {
   "cell_type": "code",
   "execution_count": 40,
   "id": "75631b8d",
   "metadata": {},
   "outputs": [],
   "source": [
    "dm= pd.DataFrame(df_train,columns=['gender', 'age', 'auto', 'housing', 'marstatus', 'regclient', 'jobtype', 'region', 'credits', 'children', 'delinq60plus'])\n"
   ]
  },
  {
   "cell_type": "code",
   "execution_count": 41,
   "id": "bafa2cda",
   "metadata": {},
   "outputs": [],
   "source": [
    "dm.replace(to_replace = \"Пропуск поля\", value = np.nan, inplace=True)\n",
    "dm.replace(to_replace = \"Нет\", value = 0, inplace=True)\n",
    "dm.replace(to_replace = \"Да\", value = 1, inplace=True)"
   ]
  },
  {
   "cell_type": "code",
   "execution_count": 42,
   "id": "e24d8668",
   "metadata": {},
   "outputs": [
    {
     "data": {
      "text/plain": [
       "<AxesSubplot:>"
      ]
     },
     "execution_count": 42,
     "metadata": {},
     "output_type": "execute_result"
    },
    {
     "data": {
      "image/png": "[encoded data removed]",
      "text/plain": [
       "<Figure size 2160x1440 with 2 Axes>"
      ]
     },
     "metadata": {},
     "output_type": "display_data"
    }
   ],
   "source": [
    "# есть небольшая обратная корреляция основного параматра с датами выдачи и погашения займа\n",
    "plt.figure(figsize=(30,20))\n",
    "sns.heatmap(dm.corr(), annot=True, cmap='coolwarm')"
   ]
  },
  {
   "cell_type": "code",
   "execution_count": 43,
   "id": "20a8902e",
   "metadata": {},
   "outputs": [],
   "source": [
    "dm = pd.concat([dm,\n",
    "           pd.get_dummies(dm['gender'], prefix='gender'),\n",
    "           pd.get_dummies(dm['auto'], prefix='auto'),\n",
    "           pd.get_dummies(dm['housing'], prefix='housing'),\n",
    "           pd.get_dummies(dm['marstatus'], prefix='marstatus'),\n",
    "           pd.get_dummies(dm['regclient'], prefix='regclient'),\n",
    "           pd.get_dummies(dm['jobtype'], prefix='jobtype'), \n",
    "           pd.get_dummies(dm['region'], prefix='region'),\n",
    "           pd.get_dummies(dm['credits'], prefix='credits'),\n",
    "           pd.get_dummies(dm['children'], prefix='credits')], axis=1)"
   ]
  },
  {
   "cell_type": "code",
   "execution_count": 44,
   "id": "f54b703a",
   "metadata": {},
   "outputs": [],
   "source": [
    "#Убираем замененные колонки\n",
    "dm = dm.drop(['gender', 'age', 'auto', 'housing', 'marstatus', 'regclient', 'jobtype', 'region', 'credits', 'children'], axis=1)"
   ]
  },
  {
   "cell_type": "code",
   "execution_count": 45,
   "id": "6f3e6fa9",
   "metadata": {},
   "outputs": [],
   "source": [
    "y = dm['delinq60plus']\n",
    "X = dm.drop(['delinq60plus'], axis=1)"
   ]
  },
  {
   "cell_type": "code",
   "execution_count": 46,
   "id": "1839224f",
   "metadata": {},
   "outputs": [],
   "source": [
    "X_train, X_test, y_train, y_test = train_test_split(X,y, train_size=0.7, random_state=42)"
   ]
  },
  {
   "cell_type": "code",
   "execution_count": 47,
   "id": "2b75e1b1",
   "metadata": {},
   "outputs": [],
   "source": [
    "ss=MinMaxScaler(feature_range=(-1,1))\n",
    "X_train_scaled = ss.fit_transform(X_train)\n",
    "X_test_scaled = ss.fit_transform(X_test)"
   ]
  },
  {
   "cell_type": "code",
   "execution_count": 48,
   "id": "7684631a",
   "metadata": {},
   "outputs": [
    {
     "data": {
      "text/plain": [
       "0.6273738469886055"
      ]
     },
     "execution_count": 48,
     "metadata": {},
     "output_type": "execute_result"
    }
   ],
   "source": [
    "rfc_scaled = RandomForestClassifier(max_depth=25) #стандартные параметры\n",
    "rfc_scaled.fit(X_train_scaled,y_train)\n",
    "rfc_scaled.score (X_test_scaled, y_test)"
   ]
  },
  {
   "cell_type": "code",
   "execution_count": 50,
   "id": "cb25a85b",
   "metadata": {},
   "outputs": [],
   "source": [
    "# Модель RandomForest\n",
    "forest = RandomForestClassifier(n_estimators=800, max_depth=17, \n",
    "                                random_state=2020, n_jobs=-1)"
   ]
  },
  {
   "cell_type": "code",
   "execution_count": 51,
   "id": "cd8c8cf6",
   "metadata": {},
   "outputs": [
    {
     "name": "stdout",
     "output_type": "stream",
     "text": [
      "AUC на обучающей выборке: 0.805\n",
      "AUC на контрольной выборке: 0.610\n"
     ]
    }
   ],
   "source": [
    "forest.fit(X_train, y_train);\n",
    "\n",
    "print('AUC на обучающей выборке: {:.3f}'.\n",
    "      format(roc_auc_score(y_train, forest.predict_proba(X_train)[:, 1])))\n",
    "print('AUC на контрольной выборке: {:.3f}'.\n",
    "      format(roc_auc_score(y_test, forest.predict_proba(X_test)[:, 1])))"
   ]
  },
  {
   "cell_type": "code",
   "execution_count": null,
   "id": "89fda9be",
   "metadata": {},
   "outputs": [],
   "source": []
  }
 ],
 "metadata": {
  "kernelspec": {
   "display_name": "Python 3 (ipykernel)",
   "language": "python",
   "name": "python3"
  },
  "language_info": {
   "codemirror_mode": {
    "name": "ipython",
    "version": 3
   },
   "file_extension": ".py",
   "mimetype": "text/x-python",
   "name": "python",
   "nbconvert_exporter": "python",
   "pygments_lexer": "ipython3",
   "version": "3.9.12"
  }
 },
 "nbformat": 4,
 "nbformat_minor": 5
}
