{
 "cells": [
  {
   "cell_type": "markdown",
   "id": "2b6195a9",
   "metadata": {},
   "source": [
    "Мышковец С.А., v.01 21.09.2022\n",
    "\n",
    "Решение задачи: Анализ текста\n",
    "    \n",
    "С использованием библиотек Numpy и Pandas написать программу реализующую:\n",
    "\n",
    " - Загрузку текстового файла из корневого каталога объемом не менее 20000 символов включая пробелы и все символы.\n",
    " - Подсчет частоты встречаемости слов в загруженном файле (критерий схожести слов выбрать самостоятельно).\n",
    " - Подсчет длин предложений и их количества.\n",
    " - Ввод полученных данных в объект DataFrame и Series, а также отображение полученных результатов в виде таблицы \"объекты - признаки\".\n",
    " - Построение гистограммы частоты встречаемости слов.\n",
    "\n",
    "Вывод:\n",
    "    Библиотека nltk оказалась самая простая в применении для анализа текста на русском языке."
   ]
  },
  {
   "cell_type": "markdown",
   "id": "076904ba",
   "metadata": {},
   "source": [
    "# Загрузка данных"
   ]
  },
  {
   "cell_type": "markdown",
   "id": "f133f1ab",
   "metadata": {},
   "source": [
    "Открываем файл."
   ]
  },
  {
   "cell_type": "code",
   "execution_count": 395,
   "id": "fb0876f6",
   "metadata": {},
   "outputs": [],
   "source": [
    "with open(r'C:\\Users\\myshk\\DS TMS\\DS3onl\\DS3onl\\Sviatlana Myshkavets\\Тонкое искусство пофигизма.txt', \"r\", encoding=\"utf-8\") as file:\n",
    "    text = file.read()"
   ]
  },
  {
   "cell_type": "markdown",
   "id": "5851b5e9",
   "metadata": {},
   "source": [
    "# Предварительная обрабатка текста (препроцессинг)"
   ]
  },
  {
   "cell_type": "markdown",
   "id": "f3809285",
   "metadata": {},
   "source": [
    "Определяем длину текста."
   ]
  },
  {
   "cell_type": "code",
   "execution_count": 396,
   "id": "66ced10b",
   "metadata": {},
   "outputs": [
    {
     "data": {
      "text/plain": [
       "27560"
      ]
     },
     "execution_count": 396,
     "metadata": {},
     "output_type": "execute_result"
    }
   ],
   "source": [
    "len(text)"
   ]
  },
  {
   "cell_type": "markdown",
   "id": "242c3b7c",
   "metadata": {},
   "source": [
    "Приводим символы в единый регистр (нижний)."
   ]
  },
  {
   "cell_type": "code",
   "execution_count": 397,
   "id": "90c4326e",
   "metadata": {},
   "outputs": [],
   "source": [
    "text = text.lower()"
   ]
  },
  {
   "cell_type": "markdown",
   "id": "75a139a4",
   "metadata": {},
   "source": [
    "Очищаем текст от знаков пунктуации, лишних пробельных символов и цифр:\n",
    " - выводим все знаки пунктуации."
   ]
  },
  {
   "cell_type": "code",
   "execution_count": 398,
   "id": "f2e61985",
   "metadata": {},
   "outputs": [
    {
     "name": "stdout",
     "output_type": "stream",
     "text": [
      "!\"#$%&'()*+,-./:;<=>?@[\\]^_`{|}~\n"
     ]
    }
   ],
   "source": [
    "import string\n",
    "print(string.punctuation)"
   ]
  },
  {
   "cell_type": "markdown",
   "id": "6d93a8fa",
   "metadata": {},
   "source": [
    " - добавляем к знакам пунктуации символы переноса строки, табуляции и другие символы."
   ]
  },
  {
   "cell_type": "code",
   "execution_count": 399,
   "id": "a8d5c0b1",
   "metadata": {},
   "outputs": [],
   "source": [
    "spec_chars = string.punctuation + '\\n\\xa0«»\\t—…' "
   ]
  },
  {
   "cell_type": "markdown",
   "id": "73db2bad",
   "metadata": {},
   "source": [
    " - удаляем символы:\n",
    "   - используем поэлементную обработку строки: разделяем исходную строку text на символы, \n",
    "   - оставляем только символы, не входящие в набор spec_chars\n",
    "   - объединяем список символов в строку"
   ]
  },
  {
   "cell_type": "code",
   "execution_count": 400,
   "id": "84766711",
   "metadata": {},
   "outputs": [],
   "source": [
    "def remove_chars_from_text(text, chars):\n",
    "    return \"\".join([ch for ch in text if ch not in chars])"
   ]
  },
  {
   "cell_type": "code",
   "execution_count": 401,
   "id": "1583c0a2",
   "metadata": {},
   "outputs": [],
   "source": [
    "text = remove_chars_from_text(text, spec_chars)\n",
    "text = remove_chars_from_text(text, string.digits)"
   ]
  },
  {
   "cell_type": "markdown",
   "id": "037c66be",
   "metadata": {},
   "source": [
    "# Токенизизация и лемматизация текста"
   ]
  },
  {
   "cell_type": "markdown",
   "id": "390d05ce",
   "metadata": {},
   "source": [
    "Разбиваем очищенный текст на составные части – токены. Для задачи частотного анализа необходимо разбить текст на слова. \n",
    "Для этого используем готовый метод библиотеки nltk."
   ]
  },
  {
   "cell_type": "code",
   "execution_count": 402,
   "id": "2cf39803",
   "metadata": {},
   "outputs": [
    {
     "name": "stderr",
     "output_type": "stream",
     "text": [
      "[nltk_data] Downloading package punkt to\n",
      "[nltk_data]     C:\\Users\\myshk\\AppData\\Roaming\\nltk_data...\n",
      "[nltk_data]   Package punkt is already up-to-date!\n"
     ]
    },
    {
     "data": {
      "text/plain": [
       "True"
      ]
     },
     "execution_count": 402,
     "metadata": {},
     "output_type": "execute_result"
    }
   ],
   "source": [
    "import nltk\n",
    "nltk.download('punkt')"
   ]
  },
  {
   "cell_type": "code",
   "execution_count": 403,
   "id": "69a09734",
   "metadata": {},
   "outputs": [],
   "source": [
    "from nltk import word_tokenize\n",
    "text_tokens = word_tokenize(text)"
   ]
  },
  {
   "cell_type": "code",
   "execution_count": 405,
   "id": "755cf0f6",
   "metadata": {},
   "outputs": [
    {
     "data": {
      "text/plain": [
       "['чарльз', 'буковски', 'был', 'алкоголиком', 'бабником']"
      ]
     },
     "execution_count": 405,
     "metadata": {},
     "output_type": "execute_result"
    }
   ],
   "source": [
    "text_tokens[:5]"
   ]
  },
  {
   "cell_type": "markdown",
   "id": "c3ac41aa",
   "metadata": {},
   "source": [
    "Вычисляем количество слов в предобработанном тексте."
   ]
  },
  {
   "cell_type": "code",
   "execution_count": 406,
   "id": "a1950ff9",
   "metadata": {},
   "outputs": [
    {
     "data": {
      "text/plain": [
       "4189"
      ]
     },
     "execution_count": 406,
     "metadata": {},
     "output_type": "execute_result"
    }
   ],
   "source": [
    "len(text_tokens)"
   ]
  },
  {
   "cell_type": "markdown",
   "id": "1adeb5a6",
   "metadata": {},
   "source": [
    "Лемматизируем полученный список слов."
   ]
  },
  {
   "cell_type": "code",
   "execution_count": 407,
   "id": "2a951498",
   "metadata": {},
   "outputs": [],
   "source": [
    "import pymorphy2\n",
    "morph = pymorphy2.MorphAnalyzer()\n",
    "text_tokens_normal_form = []"
   ]
  },
  {
   "cell_type": "code",
   "execution_count": 408,
   "id": "3445bf6c",
   "metadata": {},
   "outputs": [],
   "source": [
    "for word in text_tokens:\n",
    "    p = morph.parse(word)[0]\n",
    "    text_tokens_normal_form.append(p.normal_form)"
   ]
  },
  {
   "cell_type": "code",
   "execution_count": 410,
   "id": "c0be3670",
   "metadata": {},
   "outputs": [
    {
     "data": {
      "text/plain": [
       "['чарльз', 'буковск', 'быть', 'алкоголик', 'бабник']"
      ]
     },
     "execution_count": 410,
     "metadata": {},
     "output_type": "execute_result"
    }
   ],
   "source": [
    "text_tokens_normal_form[:5]"
   ]
  },
  {
   "cell_type": "markdown",
   "id": "a01bee65",
   "metadata": {},
   "source": [
    "Преобразовываем список токенов к классу Text библиотеки nltk для применения инструментов частотного анализа.\n"
   ]
  },
  {
   "cell_type": "code",
   "execution_count": 411,
   "id": "b44d54e6",
   "metadata": {},
   "outputs": [],
   "source": [
    "text = nltk.Text(text_tokens_normal_form)"
   ]
  },
  {
   "cell_type": "markdown",
   "id": "424b7c59",
   "metadata": {},
   "source": [
    "# Статистика встречаемости слов в тексте"
   ]
  },
  {
   "cell_type": "markdown",
   "id": "08e4cae1",
   "metadata": {},
   "source": [
    "Для подсчёта статистики распределения частот слов в тексте применяется класс FreqDist (frequency distributions)."
   ]
  },
  {
   "cell_type": "code",
   "execution_count": 412,
   "id": "d75de8ba",
   "metadata": {},
   "outputs": [],
   "source": [
    "from nltk.probability import FreqDist\n",
    "fdist = FreqDist(text)"
   ]
  },
  {
   "cell_type": "markdown",
   "id": "37ef2482",
   "metadata": {},
   "source": [
    "Выводим переменную fdist (словарь, содержащий токены и их частоты – количество раз, которые эти слова встречаются в тексте)."
   ]
  },
  {
   "cell_type": "code",
   "execution_count": 413,
   "id": "374d7071",
   "metadata": {},
   "outputs": [
    {
     "data": {
      "text/plain": [
       "FreqDist({'и': 194, 'не': 116, 'в': 94, 'вы': 87, 'что': 80, 'на': 71, 'мы': 61, '–': 56, 'это': 50, 'я': 49, ...})"
      ]
     },
     "execution_count": 413,
     "metadata": {},
     "output_type": "execute_result"
    }
   ],
   "source": [
    "fdist"
   ]
  },
  {
   "cell_type": "markdown",
   "id": "88cb3a69",
   "metadata": {},
   "source": [
    "Можно воспользоваться методом most_common для получения списка кортежей с наиболее часто встречающимися токенами"
   ]
  },
  {
   "cell_type": "code",
   "execution_count": 414,
   "id": "c44efa48",
   "metadata": {},
   "outputs": [
    {
     "data": {
      "text/plain": [
       "[('и', 194),\n",
       " ('не', 116),\n",
       " ('в', 94),\n",
       " ('вы', 87),\n",
       " ('что', 80),\n",
       " ('на', 71),\n",
       " ('мы', 61),\n",
       " ('–', 56),\n",
       " ('это', 50),\n",
       " ('я', 49)]"
      ]
     },
     "execution_count": 414,
     "metadata": {},
     "output_type": "execute_result"
    }
   ],
   "source": [
    "fdist.most_common(10)"
   ]
  },
  {
   "cell_type": "markdown",
   "id": "81740a92",
   "metadata": {},
   "source": [
    "# Удаление стоп-слов"
   ]
  },
  {
   "cell_type": "code",
   "execution_count": 415,
   "id": "b1e1434b",
   "metadata": {},
   "outputs": [
    {
     "name": "stderr",
     "output_type": "stream",
     "text": [
      "[nltk_data] Downloading package stopwords to\n",
      "[nltk_data]     C:\\Users\\myshk\\AppData\\Roaming\\nltk_data...\n",
      "[nltk_data]   Package stopwords is already up-to-date!\n"
     ]
    },
    {
     "data": {
      "text/plain": [
       "True"
      ]
     },
     "execution_count": 415,
     "metadata": {},
     "output_type": "execute_result"
    }
   ],
   "source": [
    "import nltk\n",
    "nltk.download('stopwords')"
   ]
  },
  {
   "cell_type": "markdown",
   "id": "8fa658a4",
   "metadata": {},
   "source": [
    "Получаем  список стоп-слов для русского языка"
   ]
  },
  {
   "cell_type": "code",
   "execution_count": 416,
   "id": "c77dd705",
   "metadata": {},
   "outputs": [],
   "source": [
    "from nltk.corpus import stopwords\n",
    "russian_stopwords = stopwords.words(\"russian\")"
   ]
  },
  {
   "cell_type": "markdown",
   "id": "ec8c31a5",
   "metadata": {},
   "source": [
    "По необходимости расширяем список стоп-слов."
   ]
  },
  {
   "cell_type": "code",
   "execution_count": 418,
   "id": "5d2227d2",
   "metadata": {},
   "outputs": [],
   "source": [
    "russian_stopwords.extend(['это', 'нею', '–', 'весь', 'который', 'изз', 'лишь', 'ещё', 'поскольку', 'свой', 'наш', 'ваш'])"
   ]
  },
  {
   "cell_type": "markdown",
   "id": "a6631b20",
   "metadata": {},
   "source": [
    "Получаем словарь слов, не входящих в список стоп-слов."
   ]
  },
  {
   "cell_type": "code",
   "execution_count": 419,
   "id": "c1cdd5f5",
   "metadata": {},
   "outputs": [],
   "source": [
    "def no_stop_words(dct):\n",
    "    clean_dct = {}\n",
    "    for key, value in dct.items():\n",
    "        if key not in russian_stopwords:\n",
    "            clean_dct[key] = value\n",
    "    return clean_dct\n",
    "fdist_sw = no_stop_words(fdist)"
   ]
  },
  {
   "cell_type": "markdown",
   "id": "478c8557",
   "metadata": {},
   "source": [
    "Приводим словарь к типу FreqDist."
   ]
  },
  {
   "cell_type": "code",
   "execution_count": 423,
   "id": "0287a6ca",
   "metadata": {},
   "outputs": [],
   "source": [
    "fdist_sw = FreqDist(fdist_sw)"
   ]
  },
  {
   "cell_type": "code",
   "execution_count": 424,
   "id": "ea5214cf",
   "metadata": {},
   "outputs": [
    {
     "data": {
      "text/plain": [
       "FreqDist({'человек': 36, 'жизнь': 28, 'большой': 22, 'наплевать': 17, 'неудача': 14, 'хороший': 14, 'важный': 13, 'буковск': 11, 'успех': 11, 'умение': 11, ...})"
      ]
     },
     "execution_count": 424,
     "metadata": {},
     "output_type": "execute_result"
    }
   ],
   "source": [
    "fdist_sw"
   ]
  },
  {
   "cell_type": "markdown",
   "id": "ce62c13d",
   "metadata": {},
   "source": [
    "Выводим 10 самых часто встречающихся слов в тексте."
   ]
  },
  {
   "cell_type": "code",
   "execution_count": 425,
   "id": "6afc524f",
   "metadata": {},
   "outputs": [
    {
     "data": {
      "text/plain": [
       "[('человек', 36),\n",
       " ('жизнь', 28),\n",
       " ('большой', 22),\n",
       " ('наплевать', 17),\n",
       " ('неудача', 14),\n",
       " ('хороший', 14),\n",
       " ('важный', 13),\n",
       " ('буковск', 11),\n",
       " ('успех', 11),\n",
       " ('умение', 11)]"
      ]
     },
     "execution_count": 425,
     "metadata": {},
     "output_type": "execute_result"
    }
   ],
   "source": [
    "fdist_sw.most_common(10)"
   ]
  },
  {
   "cell_type": "markdown",
   "id": "4bfcd2b3",
   "metadata": {},
   "source": [
    "Строим график частоты встречаемости слов."
   ]
  },
  {
   "cell_type": "code",
   "execution_count": 426,
   "id": "4935acae",
   "metadata": {},
   "outputs": [
    {
     "data": {
      "image/png": "[encoded data removed]",
      "text/plain": [
       "<Figure size 432x288 with 1 Axes>"
      ]
     },
     "metadata": {
      "needs_background": "light"
     },
     "output_type": "display_data"
    },
    {
     "data": {
      "text/plain": [
       "<AxesSubplot:xlabel='Samples', ylabel='Counts'>"
      ]
     },
     "execution_count": 426,
     "metadata": {},
     "output_type": "execute_result"
    }
   ],
   "source": [
    "fdist_sw.plot(30,cumulative=False)"
   ]
  },
  {
   "cell_type": "markdown",
   "id": "fc2fe6df",
   "metadata": {},
   "source": [
    "Преобразовываем FreqDist к DataFrame."
   ]
  },
  {
   "cell_type": "code",
   "execution_count": 427,
   "id": "88342cac",
   "metadata": {},
   "outputs": [],
   "source": [
    "import pandas as pd"
   ]
  },
  {
   "cell_type": "code",
   "execution_count": 428,
   "id": "33370f8d",
   "metadata": {},
   "outputs": [],
   "source": [
    "df = dict(fdist_sw)"
   ]
  },
  {
   "cell_type": "code",
   "execution_count": 429,
   "id": "090d7abf",
   "metadata": {},
   "outputs": [],
   "source": [
    "colNames = ['freq']\n",
    "df = pd.DataFrame.from_dict(df, orient='index', columns=colNames)"
   ]
  },
  {
   "cell_type": "code",
   "execution_count": 430,
   "id": "12ae4e52",
   "metadata": {},
   "outputs": [
    {
     "data": {
      "text/html": [
       "<div>\n",
       "<style scoped>\n",
       "    .dataframe tbody tr th:only-of-type {\n",
       "        vertical-align: middle;\n",
       "    }\n",
       "\n",
       "    .dataframe tbody tr th {\n",
       "        vertical-align: top;\n",
       "    }\n",
       "\n",
       "    .dataframe thead th {\n",
       "        text-align: right;\n",
       "    }\n",
       "</style>\n",
       "<table border=\"1\" class=\"dataframe\">\n",
       "  <thead>\n",
       "    <tr style=\"text-align: right;\">\n",
       "      <th></th>\n",
       "      <th>freq</th>\n",
       "    </tr>\n",
       "  </thead>\n",
       "  <tbody>\n",
       "    <tr>\n",
       "      <th>человек</th>\n",
       "      <td>36</td>\n",
       "    </tr>\n",
       "    <tr>\n",
       "      <th>жизнь</th>\n",
       "      <td>28</td>\n",
       "    </tr>\n",
       "    <tr>\n",
       "      <th>большой</th>\n",
       "      <td>22</td>\n",
       "    </tr>\n",
       "    <tr>\n",
       "      <th>наплевать</th>\n",
       "      <td>17</td>\n",
       "    </tr>\n",
       "    <tr>\n",
       "      <th>хороший</th>\n",
       "      <td>14</td>\n",
       "    </tr>\n",
       "    <tr>\n",
       "      <th>неудача</th>\n",
       "      <td>14</td>\n",
       "    </tr>\n",
       "    <tr>\n",
       "      <th>важный</th>\n",
       "      <td>13</td>\n",
       "    </tr>\n",
       "    <tr>\n",
       "      <th>успех</th>\n",
       "      <td>11</td>\n",
       "    </tr>\n",
       "    <tr>\n",
       "      <th>плевать</th>\n",
       "      <td>11</td>\n",
       "    </tr>\n",
       "    <tr>\n",
       "      <th>буковск</th>\n",
       "      <td>11</td>\n",
       "    </tr>\n",
       "  </tbody>\n",
       "</table>\n",
       "</div>"
      ],
      "text/plain": [
       "           freq\n",
       "человек      36\n",
       "жизнь        28\n",
       "большой      22\n",
       "наплевать    17\n",
       "хороший      14\n",
       "неудача      14\n",
       "важный       13\n",
       "успех        11\n",
       "плевать      11\n",
       "буковск      11"
      ]
     },
     "execution_count": 430,
     "metadata": {},
     "output_type": "execute_result"
    }
   ],
   "source": [
    "df.sort_values('freq', ascending=False).head(10)"
   ]
  },
  {
   "cell_type": "markdown",
   "id": "4f8571b9",
   "metadata": {},
   "source": [
    "Строим гистограмму частоты встречаемости слов."
   ]
  },
  {
   "cell_type": "code",
   "execution_count": 431,
   "id": "6ddb9b16",
   "metadata": {},
   "outputs": [
    {
     "data": {
      "text/plain": [
       "(array([1.319e+03, 4.300e+01, 1.900e+01, 3.000e+00, 1.000e+00, 0.000e+00,\n",
       "        1.000e+00, 1.000e+00, 0.000e+00, 1.000e+00]),\n",
       " array([ 1. ,  4.5,  8. , 11.5, 15. , 18.5, 22. , 25.5, 29. , 32.5, 36. ]),\n",
       " <BarContainer object of 10 artists>)"
      ]
     },
     "execution_count": 431,
     "metadata": {},
     "output_type": "execute_result"
    },
    {
     "data": {
      "image/png": "[encoded data removed]",
      "text/plain": [
       "<Figure size 432x288 with 1 Axes>"
      ]
     },
     "metadata": {
      "needs_background": "light"
     },
     "output_type": "display_data"
    }
   ],
   "source": [
    "import matplotlib.pyplot as plt\n",
    "plt.hist(df)"
   ]
  },
  {
   "cell_type": "code",
   "execution_count": 434,
   "id": "9cde0bc5",
   "metadata": {},
   "outputs": [
    {
     "data": {
      "text/plain": [
       "freq    2317\n",
       "dtype: int64"
      ]
     },
     "execution_count": 434,
     "metadata": {},
     "output_type": "execute_result"
    }
   ],
   "source": [
    "df.sum()"
   ]
  },
  {
   "cell_type": "markdown",
   "id": "eb81cc40",
   "metadata": {},
   "source": [
    "# Подсчет количества и длины предложений в исходном тексте."
   ]
  },
  {
   "cell_type": "code",
   "execution_count": 435,
   "id": "fd93a5e7",
   "metadata": {},
   "outputs": [
    {
     "data": {
      "text/plain": [
       "['Чарльз Буковски был алкоголиком, бабником, заядлым игроком, хамом, жмотом, нищебродом, а в худшие дни поэтом.',\n",
       " 'Это последний человек, которого вы взяли бы за образец или ожидали увидеть в книге практических советов.',\n",
       " 'А значит, с него и начнем.',\n",
       " 'Буковски хотел быть писателем.',\n",
       " 'Но десятилетиями его отвергал почти каждый журнал, почти каждая газета, почти каждый агент и издатель, к которым он обращался.']"
      ]
     },
     "execution_count": 435,
     "metadata": {},
     "output_type": "execute_result"
    }
   ],
   "source": [
    "with open(r'C:\\Users\\myshk\\DS TMS\\DS3onl\\DS3onl\\Sviatlana Myshkavets\\Тонкое искусство пофигизма.txt', \"r\", encoding=\"utf-8\") as file:\n",
    "    text = file.read()\n",
    "from nltk.tokenize import sent_tokenize\n",
    "sent_tokenize(text)[:5]"
   ]
  },
  {
   "cell_type": "markdown",
   "id": "5b0aefd7",
   "metadata": {},
   "source": [
    "Вычисляем количество предложений."
   ]
  },
  {
   "cell_type": "code",
   "execution_count": 436,
   "id": "ac617dea",
   "metadata": {},
   "outputs": [
    {
     "data": {
      "text/plain": [
       "404"
      ]
     },
     "execution_count": 436,
     "metadata": {},
     "output_type": "execute_result"
    }
   ],
   "source": [
    "len(sent_tokenize(text))"
   ]
  },
  {
   "cell_type": "markdown",
   "id": "a1d3ea8b",
   "metadata": {},
   "source": [
    "Разбиваем предложения на слова."
   ]
  },
  {
   "cell_type": "code",
   "execution_count": 437,
   "id": "29d19b7d",
   "metadata": {},
   "outputs": [],
   "source": [
    "tknzd_text = [word_tokenize(t) for t in sent_tokenize(text)]"
   ]
  },
  {
   "cell_type": "markdown",
   "id": "17e58557",
   "metadata": {},
   "source": [
    "Убираем знаки препинания."
   ]
  },
  {
   "cell_type": "code",
   "execution_count": 438,
   "id": "fc176dab",
   "metadata": {},
   "outputs": [],
   "source": [
    "for t in tknzd_text:\n",
    "    for w in t:\n",
    "        if w in spec_chars:\n",
    "            t.remove(w)"
   ]
  },
  {
   "cell_type": "code",
   "execution_count": 439,
   "id": "53657dac",
   "metadata": {},
   "outputs": [],
   "source": [
    "sentence_length = []\n",
    "for s in tknzd_text:\n",
    "    sentence_length.append(len(s))    "
   ]
  },
  {
   "cell_type": "markdown",
   "id": "87e128bb",
   "metadata": {},
   "source": [
    "Подсчитываем длину слов в каждом предложении."
   ]
  },
  {
   "cell_type": "code",
   "execution_count": 440,
   "id": "54c4900a",
   "metadata": {},
   "outputs": [
    {
     "data": {
      "text/plain": [
       "[40, 36, 36, 35, 35, 34, 32, 31, 28, 28, 28, 28, 28, 27, 27]"
      ]
     },
     "execution_count": 440,
     "metadata": {},
     "output_type": "execute_result"
    }
   ],
   "source": [
    "sorted(sentence_length, reverse=True)[:15]"
   ]
  },
  {
   "cell_type": "code",
   "execution_count": 441,
   "id": "eecad633",
   "metadata": {},
   "outputs": [],
   "source": [
    "import pandas as pd\n",
    "import numpy as np\n",
    "colNames = ['word count']\n",
    "df = pd.DataFrame(list(sentence_length), columns=colNames)\n",
    "df.index = np.arange(1, len(df)+1)"
   ]
  },
  {
   "cell_type": "code",
   "execution_count": 442,
   "id": "491a20f5",
   "metadata": {},
   "outputs": [
    {
     "data": {
      "text/html": [
       "<div>\n",
       "<style scoped>\n",
       "    .dataframe tbody tr th:only-of-type {\n",
       "        vertical-align: middle;\n",
       "    }\n",
       "\n",
       "    .dataframe tbody tr th {\n",
       "        vertical-align: top;\n",
       "    }\n",
       "\n",
       "    .dataframe thead th {\n",
       "        text-align: right;\n",
       "    }\n",
       "</style>\n",
       "<table border=\"1\" class=\"dataframe\">\n",
       "  <thead>\n",
       "    <tr style=\"text-align: right;\">\n",
       "      <th></th>\n",
       "      <th>word count</th>\n",
       "    </tr>\n",
       "  </thead>\n",
       "  <tbody>\n",
       "    <tr>\n",
       "      <th>1</th>\n",
       "      <td>15</td>\n",
       "    </tr>\n",
       "    <tr>\n",
       "      <th>2</th>\n",
       "      <td>16</td>\n",
       "    </tr>\n",
       "    <tr>\n",
       "      <th>3</th>\n",
       "      <td>6</td>\n",
       "    </tr>\n",
       "    <tr>\n",
       "      <th>4</th>\n",
       "      <td>4</td>\n",
       "    </tr>\n",
       "    <tr>\n",
       "      <th>5</th>\n",
       "      <td>19</td>\n",
       "    </tr>\n",
       "  </tbody>\n",
       "</table>\n",
       "</div>"
      ],
      "text/plain": [
       "   word count\n",
       "1          15\n",
       "2          16\n",
       "3           6\n",
       "4           4\n",
       "5          19"
      ]
     },
     "execution_count": 442,
     "metadata": {},
     "output_type": "execute_result"
    }
   ],
   "source": [
    "df.head()"
   ]
  },
  {
   "cell_type": "markdown",
   "id": "711f0930",
   "metadata": {},
   "source": [
    "Строим график частоты длин предложений."
   ]
  },
  {
   "cell_type": "code",
   "execution_count": 443,
   "id": "06644be4",
   "metadata": {},
   "outputs": [
    {
     "data": {
      "text/plain": [
       "(array([ 83., 106.,  79.,  59.,  38.,  11.,  20.,   2.,   5.,   1.]),\n",
       " array([ 1. ,  4.9,  8.8, 12.7, 16.6, 20.5, 24.4, 28.3, 32.2, 36.1, 40. ]),\n",
       " <BarContainer object of 10 artists>)"
      ]
     },
     "execution_count": 443,
     "metadata": {},
     "output_type": "execute_result"
    },
    {
     "data": {
      "image/png": "[encoded data removed]",
      "text/plain": [
       "<Figure size 432x288 with 1 Axes>"
      ]
     },
     "metadata": {
      "needs_background": "light"
     },
     "output_type": "display_data"
    }
   ],
   "source": [
    "import matplotlib.pyplot as plt\n",
    "plt.hist(df)"
   ]
  }
 ],
 "metadata": {
  "kernelspec": {
   "display_name": "Python 3 (ipykernel)",
   "language": "python",
   "name": "python3"
  },
  "language_info": {
   "codemirror_mode": {
    "name": "ipython",
    "version": 3
   },
   "file_extension": ".py",
   "mimetype": "text/x-python",
   "name": "python",
   "nbconvert_exporter": "python",
   "pygments_lexer": "ipython3",
   "version": "3.9.12"
  }
 },
 "nbformat": 4,
 "nbformat_minor": 5
}
