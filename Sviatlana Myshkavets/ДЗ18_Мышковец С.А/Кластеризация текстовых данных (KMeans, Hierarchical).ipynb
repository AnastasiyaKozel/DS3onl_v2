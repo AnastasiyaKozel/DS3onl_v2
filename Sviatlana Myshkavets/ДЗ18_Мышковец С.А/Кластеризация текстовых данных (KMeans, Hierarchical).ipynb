{
 "cells": [
  {
   "cell_type": "markdown",
   "id": "4fd77ff8",
   "metadata": {},
   "source": [
    "Мышковец С.А., v.01 18.12.2022\n",
    "\n",
    "Решение задачи: Кластеризация текстовых данных.\n",
    "    \n",
    "1. Из текстуальных данных с использованием алгоритмов кластеризации найти похожие. \n",
    "2. В выводах обосновать какие метрики и алгоритмы лучше использовать для решения вышеизложенных задач.\n",
    "\n",
    "Выводы:\n",
    "\n",
    "1. Построить рекомендательную систему удалось.\n",
    "2. Метод локтя не позволил четко определить кол-во кластеров.\n",
    "3. Оба метода кластеризации позволили достаточно верно определить тему новостей, хотя k-средних кластеризация показала лучший результат и максимальную V-меру.\n",
    "    "
   ]
  },
  {
   "cell_type": "code",
   "execution_count": 1,
   "id": "789069ea",
   "metadata": {},
   "outputs": [],
   "source": [
    "import warnings\n",
    "warnings.simplefilter('ignore')\n",
    "\n",
    "import pandas as pd\n",
    "import matplotlib.pyplot as plt\n",
    "import seaborn as sns\n",
    "import numpy as np\n",
    "\n",
    "np.random.seed(0)"
   ]
  },
  {
   "cell_type": "markdown",
   "id": "2ccf9f72",
   "metadata": {},
   "source": [
    "# Загрузка данных"
   ]
  },
  {
   "cell_type": "markdown",
   "id": "b6e610a4",
   "metadata": {},
   "source": [
    "Открываем файл."
   ]
  },
  {
   "cell_type": "code",
   "execution_count": 2,
   "id": "d04df92d",
   "metadata": {},
   "outputs": [],
   "source": [
    "with open('news.txt', \"r\", encoding='utf_8_sig') as file:\n",
    "   text = file.read()"
   ]
  },
  {
   "cell_type": "code",
   "execution_count": 3,
   "id": "3e774677",
   "metadata": {},
   "outputs": [],
   "source": [
    "# text"
   ]
  },
  {
   "cell_type": "code",
   "execution_count": 4,
   "id": "f875ba6c",
   "metadata": {},
   "outputs": [],
   "source": [
    "news = text.split('\\n\\n')"
   ]
  },
  {
   "cell_type": "code",
   "execution_count": 5,
   "id": "61eda21c",
   "metadata": {},
   "outputs": [],
   "source": [
    "# news"
   ]
  },
  {
   "cell_type": "markdown",
   "id": "a3a049cf",
   "metadata": {},
   "source": [
    "# Предварительная обрабатка текста (препроцессинг)"
   ]
  },
  {
   "cell_type": "markdown",
   "id": "af60120f",
   "metadata": {},
   "source": [
    "Определяем длину текста."
   ]
  },
  {
   "cell_type": "code",
   "execution_count": 6,
   "id": "b4eb19b7",
   "metadata": {},
   "outputs": [
    {
     "data": {
      "text/plain": [
       "14759"
      ]
     },
     "execution_count": 6,
     "metadata": {},
     "output_type": "execute_result"
    }
   ],
   "source": [
    "len(text)"
   ]
  },
  {
   "cell_type": "code",
   "execution_count": 7,
   "id": "01f1c82b",
   "metadata": {},
   "outputs": [
    {
     "data": {
      "text/plain": [
       "14759"
      ]
     },
     "execution_count": 7,
     "metadata": {},
     "output_type": "execute_result"
    }
   ],
   "source": [
    "len(text)"
   ]
  },
  {
   "cell_type": "markdown",
   "id": "174b175e",
   "metadata": {},
   "source": [
    "Приводим символы в единый регистр (нижний)."
   ]
  },
  {
   "cell_type": "code",
   "execution_count": 8,
   "id": "3de74e6b",
   "metadata": {},
   "outputs": [],
   "source": [
    "news_lower = []\n",
    "for i in news:\n",
    "    i_lower = i.lower()\n",
    "    news_lower.append(i_lower)"
   ]
  },
  {
   "cell_type": "code",
   "execution_count": 9,
   "id": "579971c6",
   "metadata": {},
   "outputs": [
    {
     "data": {
      "text/plain": [
       "'1. в 2017 году, по данным журнала forbes, на американском курорте палм-бич (флорида) жило как минимум 30 долларовых миллиардеров. это объясняет местные цены на недвижимость, тем более когда речь идет о целом острове. в случае успешной продажи он должен стать самым дорогим в своем роде объектом во всем штате. остров тарпон площадью чуть меньше гектара — единственный находящийся в частной собственности у побережья палм-бич. его соорудили намывным способом еще в 1930-е годы, и последний раз он менял владельца в 1998-м. с городом его соединяет мост, но будущие собственники смогут попасть на его территорию на яхте.'"
      ]
     },
     "execution_count": 9,
     "metadata": {},
     "output_type": "execute_result"
    }
   ],
   "source": [
    "news_lower[0]"
   ]
  },
  {
   "cell_type": "markdown",
   "id": "83c96183",
   "metadata": {},
   "source": [
    "Очищаем текст от знаков пунктуации, лишних пробельных символов и цифр:\n",
    "\n",
    "- выводим все знаки пунктуации."
   ]
  },
  {
   "cell_type": "code",
   "execution_count": 10,
   "id": "5d614b29",
   "metadata": {},
   "outputs": [
    {
     "name": "stdout",
     "output_type": "stream",
     "text": [
      "!\"#$%&'()*+,-./:;<=>?@[\\]^_`{|}~\n"
     ]
    }
   ],
   "source": [
    "import string\n",
    "print(string.punctuation)"
   ]
  },
  {
   "cell_type": "markdown",
   "id": "0862e6ff",
   "metadata": {},
   "source": [
    "- добавляем к знакам пунктуации символы переноса строки, табуляции и другие символы."
   ]
  },
  {
   "cell_type": "code",
   "execution_count": 11,
   "id": "92848031",
   "metadata": {},
   "outputs": [],
   "source": [
    "spec_chars = string.punctuation + '\\n\\xa0«»\\t—…'"
   ]
  },
  {
   "cell_type": "markdown",
   "id": "931e94cd",
   "metadata": {},
   "source": [
    "- удаляем символы:\n",
    "  - используем поэлементную обработку строки: разделяем исходную строку text на символы,\n",
    "  - оставляем только символы, не входящие в набор spec_chars\n",
    "  - объединяем список символов в строку"
   ]
  },
  {
   "cell_type": "code",
   "execution_count": 12,
   "id": "b20e54b1",
   "metadata": {},
   "outputs": [],
   "source": [
    "def remove_chars_from_text(text, chars):\n",
    "    return \"\".join([ch for ch in text if ch not in chars])"
   ]
  },
  {
   "cell_type": "code",
   "execution_count": 13,
   "id": "f5311267",
   "metadata": {},
   "outputs": [],
   "source": [
    "news_lower_nospec_chars = []\n",
    "for i in news_lower:\n",
    "    i = remove_chars_from_text(i, string.digits)\n",
    "    i = remove_chars_from_text(i, spec_chars)\n",
    "    news_lower_nospec_chars.append(i)"
   ]
  },
  {
   "cell_type": "code",
   "execution_count": 14,
   "id": "fc5ad210",
   "metadata": {},
   "outputs": [
    {
     "data": {
      "text/plain": [
       "' в  году по данным журнала forbes на американском курорте палмбич флорида жило как минимум  долларовых миллиардеров это объясняет местные цены на недвижимость тем более когда речь идет о целом острове в случае успешной продажи он должен стать самым дорогим в своем роде объектом во всем штате остров тарпон площадью чуть меньше гектара  единственный находящийся в частной собственности у побережья палмбич его соорудили намывным способом еще в е годы и последний раз он менял владельца в м с городом его соединяет мост но будущие собственники смогут попасть на его территорию на яхте'"
      ]
     },
     "execution_count": 14,
     "metadata": {},
     "output_type": "execute_result"
    }
   ],
   "source": [
    "news_lower_nospec_chars[0]"
   ]
  },
  {
   "cell_type": "markdown",
   "id": "e513dc0c",
   "metadata": {},
   "source": [
    "# Токенизизация и лемматизация текста"
   ]
  },
  {
   "cell_type": "markdown",
   "id": "fa3d78ae",
   "metadata": {},
   "source": [
    "Разбиваем очищенный текст на составные части – токены. Для задачи частотного анализа необходимо разбить текст на слова. Для этого используем готовый метод библиотеки nltk."
   ]
  },
  {
   "cell_type": "code",
   "execution_count": 15,
   "id": "0cec18e7",
   "metadata": {},
   "outputs": [
    {
     "name": "stderr",
     "output_type": "stream",
     "text": [
      "[nltk_data] Downloading package punkt to\n",
      "[nltk_data]     C:\\Users\\myshk\\AppData\\Roaming\\nltk_data...\n",
      "[nltk_data]   Package punkt is already up-to-date!\n"
     ]
    },
    {
     "data": {
      "text/plain": [
       "True"
      ]
     },
     "execution_count": 15,
     "metadata": {},
     "output_type": "execute_result"
    }
   ],
   "source": [
    "import nltk\n",
    "nltk.download('punkt')"
   ]
  },
  {
   "cell_type": "code",
   "execution_count": 16,
   "id": "02b63355",
   "metadata": {},
   "outputs": [],
   "source": [
    "from nltk import word_tokenize\n",
    "\n",
    "news_tokens = []\n",
    "\n",
    "for i in news_lower_nospec_chars:\n",
    "    i_tokens = word_tokenize(i)\n",
    "    news_tokens.append(i_tokens)"
   ]
  },
  {
   "cell_type": "code",
   "execution_count": 17,
   "id": "1baeb0ce",
   "metadata": {},
   "outputs": [],
   "source": [
    "# news_tokens"
   ]
  },
  {
   "cell_type": "markdown",
   "id": "7e05b092",
   "metadata": {},
   "source": [
    "Вычисляем количество слов в предобработанном тексте."
   ]
  },
  {
   "cell_type": "code",
   "execution_count": 18,
   "id": "cdeb53f9",
   "metadata": {},
   "outputs": [],
   "source": [
    "length = []\n",
    "for i in news_tokens:\n",
    "    length.append(len(i))"
   ]
  },
  {
   "cell_type": "code",
   "execution_count": 19,
   "id": "4b4a41f7",
   "metadata": {},
   "outputs": [
    {
     "data": {
      "text/plain": [
       "1990"
      ]
     },
     "execution_count": 19,
     "metadata": {},
     "output_type": "execute_result"
    }
   ],
   "source": [
    "sum(length)"
   ]
  },
  {
   "cell_type": "markdown",
   "id": "7e3ce665",
   "metadata": {},
   "source": [
    "Лемматизируем полученный список слов."
   ]
  },
  {
   "cell_type": "code",
   "execution_count": 20,
   "id": "e9dd4e8c",
   "metadata": {},
   "outputs": [],
   "source": [
    "import pymorphy2\n",
    "morph = pymorphy2.MorphAnalyzer()\n",
    "news_tokens_normal_form = []"
   ]
  },
  {
   "cell_type": "code",
   "execution_count": 21,
   "id": "cc5c671a",
   "metadata": {},
   "outputs": [],
   "source": [
    "for i in news_tokens:\n",
    "    i_tokens_normal_form = []\n",
    "    for word in i:\n",
    "        p = morph.parse(word)[0]\n",
    "        i_tokens_normal_form.append(p.normal_form)\n",
    "    news_tokens_normal_form.append(i_tokens_normal_form)"
   ]
  },
  {
   "cell_type": "code",
   "execution_count": 22,
   "id": "dd58ef88",
   "metadata": {},
   "outputs": [],
   "source": [
    "# news_tokens_normal_form"
   ]
  },
  {
   "cell_type": "markdown",
   "id": "b76eec8b",
   "metadata": {},
   "source": [
    "# Удаление стоп-слов"
   ]
  },
  {
   "cell_type": "code",
   "execution_count": 23,
   "id": "c1367a9e",
   "metadata": {},
   "outputs": [
    {
     "name": "stderr",
     "output_type": "stream",
     "text": [
      "[nltk_data] Downloading package stopwords to\n",
      "[nltk_data]     C:\\Users\\myshk\\AppData\\Roaming\\nltk_data...\n",
      "[nltk_data]   Package stopwords is already up-to-date!\n"
     ]
    },
    {
     "data": {
      "text/plain": [
       "True"
      ]
     },
     "execution_count": 23,
     "metadata": {},
     "output_type": "execute_result"
    }
   ],
   "source": [
    "import nltk\n",
    "nltk.download('stopwords')"
   ]
  },
  {
   "cell_type": "markdown",
   "id": "8a4e8965",
   "metadata": {},
   "source": [
    "Получаем список стоп-слов для русского языка"
   ]
  },
  {
   "cell_type": "code",
   "execution_count": 24,
   "id": "977eef3e",
   "metadata": {},
   "outputs": [],
   "source": [
    "from nltk.corpus import stopwords\n",
    "russian_stopwords = stopwords.words(\"russian\")"
   ]
  },
  {
   "cell_type": "markdown",
   "id": "0229fa3f",
   "metadata": {},
   "source": [
    "По необходимости расширяем список стоп-слов."
   ]
  },
  {
   "cell_type": "code",
   "execution_count": 25,
   "id": "b9153498",
   "metadata": {},
   "outputs": [],
   "source": [
    "russian_stopwords.extend(['это', 'нею', '–', '“', '”', 'весь', 'который', 'изз', 'лишь', 'ещё', 'поскольку', 'свой', 'наш', 'ваш'])"
   ]
  },
  {
   "cell_type": "markdown",
   "id": "f7bc5a9d",
   "metadata": {},
   "source": [
    "Получаем список слов, не входящих в список стоп-слов."
   ]
  },
  {
   "cell_type": "code",
   "execution_count": 26,
   "id": "92ebdd2a",
   "metadata": {},
   "outputs": [],
   "source": [
    "news_tokens = []\n",
    "for i in news_tokens_normal_form:\n",
    "    i_tokens = [x for x in i if x not in russian_stopwords]\n",
    "    news_tokens.append(i_tokens)"
   ]
  },
  {
   "cell_type": "code",
   "execution_count": 27,
   "id": "dadcd2cb",
   "metadata": {},
   "outputs": [],
   "source": [
    "# news_tokens"
   ]
  },
  {
   "cell_type": "markdown",
   "id": "dd96e8af",
   "metadata": {},
   "source": [
    "TfidfVectorizer() принимает аргументом список строк, а не список списков."
   ]
  },
  {
   "cell_type": "code",
   "execution_count": 28,
   "id": "be9a3fa3",
   "metadata": {},
   "outputs": [],
   "source": [
    "news_tokens_list = []\n",
    "for i in news_tokens:\n",
    "    i = ' '.join(i)\n",
    "    news_tokens_list.append(i)"
   ]
  },
  {
   "cell_type": "code",
   "execution_count": 29,
   "id": "24721fa4",
   "metadata": {},
   "outputs": [
    {
     "data": {
      "text/plain": [
       "'год данные журнал forbes американский курорт палмбич флорида жить минимум долларовый миллиардер объяснять местный цена недвижимость речь идти целое остров случай успешный продажа должный стать самый дорогой род объект штат остров тарпон площадь маленький гектар единственный находиться частный собственность побережье палмбич соорудить намывной способ е год последний менять владелец метр город соединять мост будущий собственник смочь попасть территория яхта'"
      ]
     },
     "execution_count": 29,
     "metadata": {},
     "output_type": "execute_result"
    }
   ],
   "source": [
    "news_tokens_list[0]"
   ]
  },
  {
   "cell_type": "markdown",
   "id": "512f295d",
   "metadata": {},
   "source": [
    "# Перевод в векторное представление"
   ]
  },
  {
   "cell_type": "code",
   "execution_count": 30,
   "id": "3d419494",
   "metadata": {},
   "outputs": [
    {
     "data": {
      "text/plain": [
       "(13, 940)"
      ]
     },
     "execution_count": 30,
     "metadata": {},
     "output_type": "execute_result"
    }
   ],
   "source": [
    "from sklearn.feature_extraction.text import TfidfVectorizer\n",
    "\n",
    "vectorizer = TfidfVectorizer()\n",
    "X = vectorizer.fit_transform(news_tokens_list)\n",
    "vectorizer.get_feature_names_out()\n",
    "X.shape"
   ]
  },
  {
   "cell_type": "code",
   "execution_count": 31,
   "id": "3ef7c2c6",
   "metadata": {},
   "outputs": [
    {
     "name": "stdout",
     "output_type": "stream",
     "text": [
      "<class 'pandas.core.frame.DataFrame'>\n",
      "RangeIndex: 13 entries, 0 to 12\n",
      "Columns: 940 entries, advance to яхта\n",
      "dtypes: float64(940)\n",
      "memory usage: 95.6 KB\n"
     ]
    }
   ],
   "source": [
    "df = pd.DataFrame(X.toarray(), columns = vectorizer.get_feature_names_out())\n",
    "df.info()"
   ]
  },
  {
   "cell_type": "code",
   "execution_count": 32,
   "id": "8b94f2fe",
   "metadata": {},
   "outputs": [
    {
     "data": {
      "text/plain": [
       "(13, 940)"
      ]
     },
     "execution_count": 32,
     "metadata": {},
     "output_type": "execute_result"
    }
   ],
   "source": [
    "df.shape"
   ]
  },
  {
   "cell_type": "code",
   "execution_count": 33,
   "id": "907b64da",
   "metadata": {},
   "outputs": [
    {
     "data": {
      "text/html": [
       "<div>\n",
       "<style scoped>\n",
       "    .dataframe tbody tr th:only-of-type {\n",
       "        vertical-align: middle;\n",
       "    }\n",
       "\n",
       "    .dataframe tbody tr th {\n",
       "        vertical-align: top;\n",
       "    }\n",
       "\n",
       "    .dataframe thead th {\n",
       "        text-align: right;\n",
       "    }\n",
       "</style>\n",
       "<table border=\"1\" class=\"dataframe\">\n",
       "  <thead>\n",
       "    <tr style=\"text-align: right;\">\n",
       "      <th></th>\n",
       "      <th>advance</th>\n",
       "      <th>amazon</th>\n",
       "      <th>att</th>\n",
       "      <th>autogrodnoby</th>\n",
       "      <th>bros</th>\n",
       "      <th>building</th>\n",
       "      <th>changan</th>\n",
       "      <th>chronicle</th>\n",
       "      <th>depo</th>\n",
       "      <th>dolbyавтор</th>\n",
       "      <th>...</th>\n",
       "      <th>энергия</th>\n",
       "      <th>эпизод</th>\n",
       "      <th>эпоха</th>\n",
       "      <th>эстетический</th>\n",
       "      <th>эффектный</th>\n",
       "      <th>юзеф</th>\n",
       "      <th>являться</th>\n",
       "      <th>явно</th>\n",
       "      <th>ядерный</th>\n",
       "      <th>яхта</th>\n",
       "    </tr>\n",
       "  </thead>\n",
       "  <tbody>\n",
       "    <tr>\n",
       "      <th>0</th>\n",
       "      <td>0.000000</td>\n",
       "      <td>0.000000</td>\n",
       "      <td>0.000000</td>\n",
       "      <td>0.000000</td>\n",
       "      <td>0.000000</td>\n",
       "      <td>0.000000</td>\n",
       "      <td>0.000000</td>\n",
       "      <td>0.000000</td>\n",
       "      <td>0.000000</td>\n",
       "      <td>0.000000</td>\n",
       "      <td>...</td>\n",
       "      <td>0.00000</td>\n",
       "      <td>0.000000</td>\n",
       "      <td>0.000000</td>\n",
       "      <td>0.000000</td>\n",
       "      <td>0.000000</td>\n",
       "      <td>0.000000</td>\n",
       "      <td>0.000000</td>\n",
       "      <td>0.000000</td>\n",
       "      <td>0.000000</td>\n",
       "      <td>0.139151</td>\n",
       "    </tr>\n",
       "    <tr>\n",
       "      <th>1</th>\n",
       "      <td>0.000000</td>\n",
       "      <td>0.000000</td>\n",
       "      <td>0.126422</td>\n",
       "      <td>0.000000</td>\n",
       "      <td>0.000000</td>\n",
       "      <td>0.063211</td>\n",
       "      <td>0.000000</td>\n",
       "      <td>0.000000</td>\n",
       "      <td>0.000000</td>\n",
       "      <td>0.000000</td>\n",
       "      <td>...</td>\n",
       "      <td>0.00000</td>\n",
       "      <td>0.000000</td>\n",
       "      <td>0.000000</td>\n",
       "      <td>0.000000</td>\n",
       "      <td>0.000000</td>\n",
       "      <td>0.000000</td>\n",
       "      <td>0.000000</td>\n",
       "      <td>0.000000</td>\n",
       "      <td>0.063211</td>\n",
       "      <td>0.000000</td>\n",
       "    </tr>\n",
       "    <tr>\n",
       "      <th>2</th>\n",
       "      <td>0.000000</td>\n",
       "      <td>0.000000</td>\n",
       "      <td>0.000000</td>\n",
       "      <td>0.000000</td>\n",
       "      <td>0.000000</td>\n",
       "      <td>0.000000</td>\n",
       "      <td>0.000000</td>\n",
       "      <td>0.000000</td>\n",
       "      <td>0.137211</td>\n",
       "      <td>0.000000</td>\n",
       "      <td>...</td>\n",
       "      <td>0.00000</td>\n",
       "      <td>0.000000</td>\n",
       "      <td>0.068606</td>\n",
       "      <td>0.000000</td>\n",
       "      <td>0.068606</td>\n",
       "      <td>0.000000</td>\n",
       "      <td>0.000000</td>\n",
       "      <td>0.000000</td>\n",
       "      <td>0.000000</td>\n",
       "      <td>0.000000</td>\n",
       "    </tr>\n",
       "    <tr>\n",
       "      <th>3</th>\n",
       "      <td>0.000000</td>\n",
       "      <td>0.000000</td>\n",
       "      <td>0.000000</td>\n",
       "      <td>0.000000</td>\n",
       "      <td>0.000000</td>\n",
       "      <td>0.000000</td>\n",
       "      <td>0.000000</td>\n",
       "      <td>0.000000</td>\n",
       "      <td>0.000000</td>\n",
       "      <td>0.000000</td>\n",
       "      <td>...</td>\n",
       "      <td>0.07015</td>\n",
       "      <td>0.000000</td>\n",
       "      <td>0.000000</td>\n",
       "      <td>0.000000</td>\n",
       "      <td>0.000000</td>\n",
       "      <td>0.000000</td>\n",
       "      <td>0.060495</td>\n",
       "      <td>0.000000</td>\n",
       "      <td>0.000000</td>\n",
       "      <td>0.000000</td>\n",
       "    </tr>\n",
       "    <tr>\n",
       "      <th>4</th>\n",
       "      <td>0.135053</td>\n",
       "      <td>0.000000</td>\n",
       "      <td>0.000000</td>\n",
       "      <td>0.000000</td>\n",
       "      <td>0.000000</td>\n",
       "      <td>0.000000</td>\n",
       "      <td>0.135053</td>\n",
       "      <td>0.000000</td>\n",
       "      <td>0.000000</td>\n",
       "      <td>0.000000</td>\n",
       "      <td>...</td>\n",
       "      <td>0.00000</td>\n",
       "      <td>0.000000</td>\n",
       "      <td>0.000000</td>\n",
       "      <td>0.000000</td>\n",
       "      <td>0.000000</td>\n",
       "      <td>0.000000</td>\n",
       "      <td>0.000000</td>\n",
       "      <td>0.000000</td>\n",
       "      <td>0.000000</td>\n",
       "      <td>0.000000</td>\n",
       "    </tr>\n",
       "    <tr>\n",
       "      <th>5</th>\n",
       "      <td>0.000000</td>\n",
       "      <td>0.000000</td>\n",
       "      <td>0.000000</td>\n",
       "      <td>0.000000</td>\n",
       "      <td>0.000000</td>\n",
       "      <td>0.000000</td>\n",
       "      <td>0.000000</td>\n",
       "      <td>0.000000</td>\n",
       "      <td>0.000000</td>\n",
       "      <td>0.000000</td>\n",
       "      <td>...</td>\n",
       "      <td>0.00000</td>\n",
       "      <td>0.000000</td>\n",
       "      <td>0.000000</td>\n",
       "      <td>0.000000</td>\n",
       "      <td>0.000000</td>\n",
       "      <td>0.000000</td>\n",
       "      <td>0.090012</td>\n",
       "      <td>0.000000</td>\n",
       "      <td>0.000000</td>\n",
       "      <td>0.000000</td>\n",
       "    </tr>\n",
       "    <tr>\n",
       "      <th>6</th>\n",
       "      <td>0.000000</td>\n",
       "      <td>0.000000</td>\n",
       "      <td>0.000000</td>\n",
       "      <td>0.000000</td>\n",
       "      <td>0.159796</td>\n",
       "      <td>0.000000</td>\n",
       "      <td>0.000000</td>\n",
       "      <td>0.000000</td>\n",
       "      <td>0.000000</td>\n",
       "      <td>0.000000</td>\n",
       "      <td>...</td>\n",
       "      <td>0.00000</td>\n",
       "      <td>0.159796</td>\n",
       "      <td>0.000000</td>\n",
       "      <td>0.000000</td>\n",
       "      <td>0.000000</td>\n",
       "      <td>0.000000</td>\n",
       "      <td>0.000000</td>\n",
       "      <td>0.000000</td>\n",
       "      <td>0.000000</td>\n",
       "      <td>0.000000</td>\n",
       "    </tr>\n",
       "    <tr>\n",
       "      <th>7</th>\n",
       "      <td>0.000000</td>\n",
       "      <td>0.121238</td>\n",
       "      <td>0.000000</td>\n",
       "      <td>0.000000</td>\n",
       "      <td>0.000000</td>\n",
       "      <td>0.000000</td>\n",
       "      <td>0.000000</td>\n",
       "      <td>0.000000</td>\n",
       "      <td>0.000000</td>\n",
       "      <td>0.000000</td>\n",
       "      <td>...</td>\n",
       "      <td>0.00000</td>\n",
       "      <td>0.000000</td>\n",
       "      <td>0.000000</td>\n",
       "      <td>0.000000</td>\n",
       "      <td>0.000000</td>\n",
       "      <td>0.000000</td>\n",
       "      <td>0.000000</td>\n",
       "      <td>0.121238</td>\n",
       "      <td>0.000000</td>\n",
       "      <td>0.000000</td>\n",
       "    </tr>\n",
       "    <tr>\n",
       "      <th>8</th>\n",
       "      <td>0.000000</td>\n",
       "      <td>0.000000</td>\n",
       "      <td>0.000000</td>\n",
       "      <td>0.000000</td>\n",
       "      <td>0.000000</td>\n",
       "      <td>0.000000</td>\n",
       "      <td>0.000000</td>\n",
       "      <td>0.000000</td>\n",
       "      <td>0.000000</td>\n",
       "      <td>0.000000</td>\n",
       "      <td>...</td>\n",
       "      <td>0.00000</td>\n",
       "      <td>0.000000</td>\n",
       "      <td>0.000000</td>\n",
       "      <td>0.125183</td>\n",
       "      <td>0.000000</td>\n",
       "      <td>0.000000</td>\n",
       "      <td>0.000000</td>\n",
       "      <td>0.000000</td>\n",
       "      <td>0.000000</td>\n",
       "      <td>0.000000</td>\n",
       "    </tr>\n",
       "    <tr>\n",
       "      <th>9</th>\n",
       "      <td>0.000000</td>\n",
       "      <td>0.000000</td>\n",
       "      <td>0.000000</td>\n",
       "      <td>0.075395</td>\n",
       "      <td>0.000000</td>\n",
       "      <td>0.000000</td>\n",
       "      <td>0.000000</td>\n",
       "      <td>0.000000</td>\n",
       "      <td>0.000000</td>\n",
       "      <td>0.000000</td>\n",
       "      <td>...</td>\n",
       "      <td>0.00000</td>\n",
       "      <td>0.000000</td>\n",
       "      <td>0.000000</td>\n",
       "      <td>0.000000</td>\n",
       "      <td>0.000000</td>\n",
       "      <td>0.075395</td>\n",
       "      <td>0.000000</td>\n",
       "      <td>0.000000</td>\n",
       "      <td>0.000000</td>\n",
       "      <td>0.000000</td>\n",
       "    </tr>\n",
       "    <tr>\n",
       "      <th>10</th>\n",
       "      <td>0.000000</td>\n",
       "      <td>0.000000</td>\n",
       "      <td>0.000000</td>\n",
       "      <td>0.000000</td>\n",
       "      <td>0.000000</td>\n",
       "      <td>0.000000</td>\n",
       "      <td>0.000000</td>\n",
       "      <td>0.073636</td>\n",
       "      <td>0.000000</td>\n",
       "      <td>0.073636</td>\n",
       "      <td>...</td>\n",
       "      <td>0.00000</td>\n",
       "      <td>0.000000</td>\n",
       "      <td>0.000000</td>\n",
       "      <td>0.000000</td>\n",
       "      <td>0.000000</td>\n",
       "      <td>0.000000</td>\n",
       "      <td>0.000000</td>\n",
       "      <td>0.000000</td>\n",
       "      <td>0.000000</td>\n",
       "      <td>0.000000</td>\n",
       "    </tr>\n",
       "    <tr>\n",
       "      <th>11</th>\n",
       "      <td>0.000000</td>\n",
       "      <td>0.000000</td>\n",
       "      <td>0.000000</td>\n",
       "      <td>0.000000</td>\n",
       "      <td>0.000000</td>\n",
       "      <td>0.000000</td>\n",
       "      <td>0.000000</td>\n",
       "      <td>0.000000</td>\n",
       "      <td>0.000000</td>\n",
       "      <td>0.000000</td>\n",
       "      <td>...</td>\n",
       "      <td>0.00000</td>\n",
       "      <td>0.000000</td>\n",
       "      <td>0.000000</td>\n",
       "      <td>0.000000</td>\n",
       "      <td>0.000000</td>\n",
       "      <td>0.000000</td>\n",
       "      <td>0.000000</td>\n",
       "      <td>0.000000</td>\n",
       "      <td>0.000000</td>\n",
       "      <td>0.000000</td>\n",
       "    </tr>\n",
       "    <tr>\n",
       "      <th>12</th>\n",
       "      <td>0.000000</td>\n",
       "      <td>0.000000</td>\n",
       "      <td>0.000000</td>\n",
       "      <td>0.000000</td>\n",
       "      <td>0.000000</td>\n",
       "      <td>0.000000</td>\n",
       "      <td>0.000000</td>\n",
       "      <td>0.000000</td>\n",
       "      <td>0.000000</td>\n",
       "      <td>0.000000</td>\n",
       "      <td>...</td>\n",
       "      <td>0.00000</td>\n",
       "      <td>0.000000</td>\n",
       "      <td>0.000000</td>\n",
       "      <td>0.000000</td>\n",
       "      <td>0.000000</td>\n",
       "      <td>0.000000</td>\n",
       "      <td>0.000000</td>\n",
       "      <td>0.000000</td>\n",
       "      <td>0.000000</td>\n",
       "      <td>0.000000</td>\n",
       "    </tr>\n",
       "  </tbody>\n",
       "</table>\n",
       "<p>13 rows × 940 columns</p>\n",
       "</div>"
      ],
      "text/plain": [
       "     advance    amazon       att  autogrodnoby      bros  building   changan  \\\n",
       "0   0.000000  0.000000  0.000000      0.000000  0.000000  0.000000  0.000000   \n",
       "1   0.000000  0.000000  0.126422      0.000000  0.000000  0.063211  0.000000   \n",
       "2   0.000000  0.000000  0.000000      0.000000  0.000000  0.000000  0.000000   \n",
       "3   0.000000  0.000000  0.000000      0.000000  0.000000  0.000000  0.000000   \n",
       "4   0.135053  0.000000  0.000000      0.000000  0.000000  0.000000  0.135053   \n",
       "5   0.000000  0.000000  0.000000      0.000000  0.000000  0.000000  0.000000   \n",
       "6   0.000000  0.000000  0.000000      0.000000  0.159796  0.000000  0.000000   \n",
       "7   0.000000  0.121238  0.000000      0.000000  0.000000  0.000000  0.000000   \n",
       "8   0.000000  0.000000  0.000000      0.000000  0.000000  0.000000  0.000000   \n",
       "9   0.000000  0.000000  0.000000      0.075395  0.000000  0.000000  0.000000   \n",
       "10  0.000000  0.000000  0.000000      0.000000  0.000000  0.000000  0.000000   \n",
       "11  0.000000  0.000000  0.000000      0.000000  0.000000  0.000000  0.000000   \n",
       "12  0.000000  0.000000  0.000000      0.000000  0.000000  0.000000  0.000000   \n",
       "\n",
       "    chronicle      depo  dolbyавтор  ...  энергия    эпизод     эпоха  \\\n",
       "0    0.000000  0.000000    0.000000  ...  0.00000  0.000000  0.000000   \n",
       "1    0.000000  0.000000    0.000000  ...  0.00000  0.000000  0.000000   \n",
       "2    0.000000  0.137211    0.000000  ...  0.00000  0.000000  0.068606   \n",
       "3    0.000000  0.000000    0.000000  ...  0.07015  0.000000  0.000000   \n",
       "4    0.000000  0.000000    0.000000  ...  0.00000  0.000000  0.000000   \n",
       "5    0.000000  0.000000    0.000000  ...  0.00000  0.000000  0.000000   \n",
       "6    0.000000  0.000000    0.000000  ...  0.00000  0.159796  0.000000   \n",
       "7    0.000000  0.000000    0.000000  ...  0.00000  0.000000  0.000000   \n",
       "8    0.000000  0.000000    0.000000  ...  0.00000  0.000000  0.000000   \n",
       "9    0.000000  0.000000    0.000000  ...  0.00000  0.000000  0.000000   \n",
       "10   0.073636  0.000000    0.073636  ...  0.00000  0.000000  0.000000   \n",
       "11   0.000000  0.000000    0.000000  ...  0.00000  0.000000  0.000000   \n",
       "12   0.000000  0.000000    0.000000  ...  0.00000  0.000000  0.000000   \n",
       "\n",
       "    эстетический  эффектный      юзеф  являться      явно   ядерный      яхта  \n",
       "0       0.000000   0.000000  0.000000  0.000000  0.000000  0.000000  0.139151  \n",
       "1       0.000000   0.000000  0.000000  0.000000  0.000000  0.063211  0.000000  \n",
       "2       0.000000   0.068606  0.000000  0.000000  0.000000  0.000000  0.000000  \n",
       "3       0.000000   0.000000  0.000000  0.060495  0.000000  0.000000  0.000000  \n",
       "4       0.000000   0.000000  0.000000  0.000000  0.000000  0.000000  0.000000  \n",
       "5       0.000000   0.000000  0.000000  0.090012  0.000000  0.000000  0.000000  \n",
       "6       0.000000   0.000000  0.000000  0.000000  0.000000  0.000000  0.000000  \n",
       "7       0.000000   0.000000  0.000000  0.000000  0.121238  0.000000  0.000000  \n",
       "8       0.125183   0.000000  0.000000  0.000000  0.000000  0.000000  0.000000  \n",
       "9       0.000000   0.000000  0.075395  0.000000  0.000000  0.000000  0.000000  \n",
       "10      0.000000   0.000000  0.000000  0.000000  0.000000  0.000000  0.000000  \n",
       "11      0.000000   0.000000  0.000000  0.000000  0.000000  0.000000  0.000000  \n",
       "12      0.000000   0.000000  0.000000  0.000000  0.000000  0.000000  0.000000  \n",
       "\n",
       "[13 rows x 940 columns]"
      ]
     },
     "execution_count": 33,
     "metadata": {},
     "output_type": "execute_result"
    }
   ],
   "source": [
    "df"
   ]
  },
  {
   "cell_type": "markdown",
   "id": "714958c9",
   "metadata": {},
   "source": [
    "# Кластеризация"
   ]
  },
  {
   "cell_type": "code",
   "execution_count": 34,
   "id": "c562ce77",
   "metadata": {},
   "outputs": [],
   "source": [
    "targets = [0, 0, 0, 1, 1, 1, 2, 2, 2, 0, 2, 1, 0]"
   ]
  },
  {
   "cell_type": "code",
   "execution_count": 35,
   "id": "c465effb",
   "metadata": {},
   "outputs": [],
   "source": [
    "from sklearn.cluster import KMeans\n",
    "\n",
    "clusters = range(1, 7)\n",
    "inertias = []\n",
    "for k in clusters:\n",
    "    model = KMeans(n_clusters=k)\n",
    "    model.fit(X)\n",
    "    inertias.append(model.inertia_)"
   ]
  },
  {
   "cell_type": "code",
   "execution_count": 36,
   "id": "6243ba3d",
   "metadata": {},
   "outputs": [
    {
     "data": {
      "image/png": "[encoded data removed]",
      "text/plain": [
       "<Figure size 1600x320 with 1 Axes>"
      ]
     },
     "metadata": {
      "needs_background": "light"
     },
     "output_type": "display_data"
    }
   ],
   "source": [
    "plt.figure(figsize=(20, 4), dpi=80)\n",
    "plt.plot(clusters, inertias, marker='o');\n",
    "plt.grid(True)\n",
    "plt.xticks(clusters)\n",
    "plt.xlabel('number of clusters, k')\n",
    "plt.ylabel('inertias');"
   ]
  },
  {
   "cell_type": "markdown",
   "id": "598e70ec",
   "metadata": {},
   "source": [
    "## KMeans"
   ]
  },
  {
   "cell_type": "code",
   "execution_count": 37,
   "id": "11ac8ed0",
   "metadata": {},
   "outputs": [],
   "source": [
    "from sklearn.cluster import KMeans\n",
    "\n",
    "model = KMeans(n_clusters=3, n_init=100)\n",
    "model.fit(X)\n",
    "labels_kmeans = model.predict(X)"
   ]
  },
  {
   "cell_type": "code",
   "execution_count": 38,
   "id": "577512a1",
   "metadata": {},
   "outputs": [],
   "source": [
    "from sklearn.metrics import confusion_matrix\n",
    "\n",
    "confusion_matrix = confusion_matrix(targets, labels_kmeans)"
   ]
  },
  {
   "cell_type": "code",
   "execution_count": 39,
   "id": "0bc91d96",
   "metadata": {},
   "outputs": [
    {
     "data": {
      "image/png": "[encoded data removed]",
      "text/plain": [
       "<Figure size 360x360 with 2 Axes>"
      ]
     },
     "metadata": {
      "needs_background": "light"
     },
     "output_type": "display_data"
    }
   ],
   "source": [
    "import pandas as pd\n",
    "\n",
    "fig, ax = plt.subplots(figsize=(5, 5))\n",
    "df_cm = pd.DataFrame(confusion_matrix)\n",
    "ax = sns.heatmap(df_cm, annot=True, fmt=\".1f\", linewidth=.5, vmax=3)\n",
    "ax.set(xlabel=\"\", ylabel=\"\")\n",
    "ax.xaxis.tick_top()"
   ]
  },
  {
   "cell_type": "code",
   "execution_count": 40,
   "id": "72befea8",
   "metadata": {},
   "outputs": [],
   "source": [
    "from sklearn.metrics import silhouette_score, davies_bouldin_score,v_measure_score\n",
    "\n",
    "silhouette_kmeans = silhouette_score(X, labels_kmeans)\n",
    "v_measure_kmeans = v_measure_score(targets, labels_kmeans)"
   ]
  },
  {
   "cell_type": "code",
   "execution_count": 41,
   "id": "af7a64e3",
   "metadata": {},
   "outputs": [
    {
     "data": {
      "text/plain": [
       "0.011109145726752864"
      ]
     },
     "execution_count": 41,
     "metadata": {},
     "output_type": "execute_result"
    }
   ],
   "source": [
    "silhouette_kmeans"
   ]
  },
  {
   "cell_type": "code",
   "execution_count": 42,
   "id": "a25820bf",
   "metadata": {},
   "outputs": [
    {
     "data": {
      "text/plain": [
       "1.0"
      ]
     },
     "execution_count": 42,
     "metadata": {},
     "output_type": "execute_result"
    }
   ],
   "source": [
    "v_measure_kmeans"
   ]
  },
  {
   "cell_type": "markdown",
   "id": "966f6ed1",
   "metadata": {},
   "source": [
    "# Иерархическая кластеризация."
   ]
  },
  {
   "cell_type": "code",
   "execution_count": 43,
   "id": "604c5056",
   "metadata": {},
   "outputs": [
    {
     "data": {
      "image/png": "[encoded data removed]",
      "text/plain": [
       "<Figure size 1440x720 with 1 Axes>"
      ]
     },
     "metadata": {
      "needs_background": "light"
     },
     "output_type": "display_data"
    }
   ],
   "source": [
    "from scipy.cluster.hierarchy import linkage, dendrogram\n",
    "\n",
    "fig = plt.figure(figsize = [20, 10])\n",
    "mergings = linkage(X.toarray(), method='complete')\n",
    "dendrogram(mergings, labels=targets, leaf_rotation=90, leaf_font_size=2)\n",
    "plt.show()"
   ]
  },
  {
   "cell_type": "markdown",
   "id": "f6e8886b",
   "metadata": {},
   "source": [
    "Дендрограмма не совсем подходит для решения задачи."
   ]
  },
  {
   "cell_type": "code",
   "execution_count": 44,
   "id": "263dc9fe",
   "metadata": {},
   "outputs": [],
   "source": [
    "from sklearn.cluster import AgglomerativeClustering\n",
    "import numpy as np\n",
    "\n",
    "clustering = AgglomerativeClustering(n_clusters=3).fit(X.toarray())\n",
    "labels_agg = clustering.fit_predict(X.toarray())\n",
    "labels_agg_ = clustering.labels_"
   ]
  },
  {
   "cell_type": "code",
   "execution_count": 45,
   "id": "e425f302",
   "metadata": {},
   "outputs": [
    {
     "data": {
      "text/plain": [
       "array([0, 0, 0, 1, 1, 1, 2, 0, 2, 0, 2, 1, 0], dtype=int64)"
      ]
     },
     "execution_count": 45,
     "metadata": {},
     "output_type": "execute_result"
    }
   ],
   "source": [
    "labels_agg"
   ]
  },
  {
   "cell_type": "code",
   "execution_count": 46,
   "id": "e1581c4a",
   "metadata": {},
   "outputs": [
    {
     "data": {
      "text/plain": [
       "array([0, 0, 0, 1, 1, 1, 2, 0, 2, 0, 2, 1, 0], dtype=int64)"
      ]
     },
     "execution_count": 46,
     "metadata": {},
     "output_type": "execute_result"
    }
   ],
   "source": [
    "labels_agg_"
   ]
  },
  {
   "cell_type": "code",
   "execution_count": 47,
   "id": "8f782817",
   "metadata": {},
   "outputs": [],
   "source": [
    "from sklearn.metrics import confusion_matrix\n",
    "confusion_matrix_agg = confusion_matrix(targets, labels_agg)"
   ]
  },
  {
   "cell_type": "code",
   "execution_count": 48,
   "id": "e845fa14",
   "metadata": {},
   "outputs": [
    {
     "data": {
      "image/png": "[encoded data removed]",
      "text/plain": [
       "<Figure size 360x360 with 2 Axes>"
      ]
     },
     "metadata": {
      "needs_background": "light"
     },
     "output_type": "display_data"
    }
   ],
   "source": [
    "fig, ax = plt.subplots(figsize=(5, 5))\n",
    "df_cm = pd.DataFrame(confusion_matrix_agg)\n",
    "ax = sns.heatmap(df_cm, annot=True, fmt=\".1f\", linewidth=.5, vmax=3)\n",
    "ax.set(xlabel=\"\", ylabel=\"\")\n",
    "ax.xaxis.tick_top()"
   ]
  },
  {
   "cell_type": "code",
   "execution_count": 49,
   "id": "b6813246",
   "metadata": {},
   "outputs": [],
   "source": [
    "silhouette_agg = silhouette_score(X, labels_agg)\n",
    "v_measure_agg = v_measure_score(targets, labels_agg)"
   ]
  },
  {
   "cell_type": "code",
   "execution_count": 50,
   "id": "bf47b407",
   "metadata": {},
   "outputs": [
    {
     "data": {
      "text/plain": [
       "0.01358819174759348"
      ]
     },
     "execution_count": 50,
     "metadata": {},
     "output_type": "execute_result"
    }
   ],
   "source": [
    "silhouette_agg"
   ]
  },
  {
   "cell_type": "code",
   "execution_count": 51,
   "id": "6aa40898",
   "metadata": {},
   "outputs": [
    {
     "data": {
      "text/plain": [
       "0.8228617880719772"
      ]
     },
     "execution_count": 51,
     "metadata": {},
     "output_type": "execute_result"
    }
   ],
   "source": [
    "v_measure_agg"
   ]
  },
  {
   "cell_type": "markdown",
   "id": "31e409ec",
   "metadata": {},
   "source": [
    "## Оба метода кластеризации позволили достаточно верно определить тему новостей, хотя k-средних кластеризация показала лучший результат и максимальную V-меру."
   ]
  }
 ],
 "metadata": {
  "kernelspec": {
   "display_name": "Python 3 (ipykernel)",
   "language": "python",
   "name": "python3"
  },
  "language_info": {
   "codemirror_mode": {
    "name": "ipython",
    "version": 3
   },
   "file_extension": ".py",
   "mimetype": "text/x-python",
   "name": "python",
   "nbconvert_exporter": "python",
   "pygments_lexer": "ipython3",
   "version": "3.9.12"
  }
 },
 "nbformat": 4,
 "nbformat_minor": 5
}
