{
 "cells": [
  {
   "cell_type": "markdown",
   "id": "9be01129",
   "metadata": {},
   "source": [
    "Мышковец С.А., v.01 07.12.2022\n",
    "\n",
    "Решение задачи: \n",
    "\n",
    "1. Из текстуальных данных с использованием алгоритмов кластеризации найти похожие. \n",
    "2. В выводах обосновать какие метрики и алгоритмы лучше использовать для решения вышеизложенных задач.\n",
    "\n",
    "Вывод:\n",
    "\n",
    "1. Построить рекомендательную систему при помощи NMF можнo.\n",
    "2. Непонятно, как считать качество кластеризации.\n",
    "3. Возможно, результаты с данные, состоящими из статей с заголовками, были бы более показательными.\n"
   ]
  },
  {
   "cell_type": "code",
   "execution_count": 1,
   "id": "d16179f1",
   "metadata": {},
   "outputs": [],
   "source": [
    "import numpy as np \n",
    "import warnings\n",
    "warnings.simplefilter('ignore')\n",
    "\n",
    "np.random.seed(0)"
   ]
  },
  {
   "cell_type": "markdown",
   "id": "0f5dd40e",
   "metadata": {},
   "source": [
    "**Загрузить данные**"
   ]
  },
  {
   "cell_type": "code",
   "execution_count": 2,
   "id": "beb608fd",
   "metadata": {},
   "outputs": [],
   "source": [
    "from sklearn.datasets import fetch_20newsgroups_vectorized\n",
    "import pandas as pd"
   ]
  },
  {
   "cell_type": "code",
   "execution_count": 3,
   "id": "f8c2ddf5",
   "metadata": {},
   "outputs": [],
   "source": [
    "dt_train = fetch_20newsgroups_vectorized()"
   ]
  },
  {
   "cell_type": "code",
   "execution_count": 4,
   "id": "95837c9b",
   "metadata": {},
   "outputs": [
    {
     "data": {
      "text/plain": [
       "<11314x130107 sparse matrix of type '<class 'numpy.float64'>'\n",
       "\twith 1787565 stored elements in Compressed Sparse Row format>"
      ]
     },
     "execution_count": 4,
     "metadata": {},
     "output_type": "execute_result"
    }
   ],
   "source": [
    "dt_train.data"
   ]
  },
  {
   "cell_type": "code",
   "execution_count": 5,
   "id": "80c697b5",
   "metadata": {},
   "outputs": [],
   "source": [
    "dt_train.data = dt_train.data[0:2000]"
   ]
  },
  {
   "cell_type": "code",
   "execution_count": 6,
   "id": "af233b3a",
   "metadata": {},
   "outputs": [],
   "source": [
    "dt_train.target = dt_train.target[0:2000]"
   ]
  },
  {
   "cell_type": "code",
   "execution_count": 7,
   "id": "8657954a",
   "metadata": {},
   "outputs": [
    {
     "data": {
      "text/plain": [
       "array([17,  7, 10, ...,  0,  5, 15])"
      ]
     },
     "execution_count": 7,
     "metadata": {},
     "output_type": "execute_result"
    }
   ],
   "source": [
    "dt_train.target"
   ]
  },
  {
   "cell_type": "code",
   "execution_count": 8,
   "id": "65cc3748",
   "metadata": {},
   "outputs": [
    {
     "data": {
      "text/plain": [
       "(2000, 130107)"
      ]
     },
     "execution_count": 8,
     "metadata": {},
     "output_type": "execute_result"
    }
   ],
   "source": [
    "dt_train.data.shape"
   ]
  },
  {
   "cell_type": "code",
   "execution_count": 9,
   "id": "310be8f5",
   "metadata": {},
   "outputs": [
    {
     "data": {
      "text/plain": [
       "['alt.atheism',\n",
       " 'comp.graphics',\n",
       " 'comp.os.ms-windows.misc',\n",
       " 'comp.sys.ibm.pc.hardware',\n",
       " 'comp.sys.mac.hardware',\n",
       " 'comp.windows.x',\n",
       " 'misc.forsale',\n",
       " 'rec.autos',\n",
       " 'rec.motorcycles',\n",
       " 'rec.sport.baseball',\n",
       " 'rec.sport.hockey',\n",
       " 'sci.crypt',\n",
       " 'sci.electronics',\n",
       " 'sci.med',\n",
       " 'sci.space',\n",
       " 'soc.religion.christian',\n",
       " 'talk.politics.guns',\n",
       " 'talk.politics.mideast',\n",
       " 'talk.politics.misc',\n",
       " 'talk.religion.misc']"
      ]
     },
     "execution_count": 9,
     "metadata": {},
     "output_type": "execute_result"
    }
   ],
   "source": [
    "dt_train.target_names"
   ]
  },
  {
   "cell_type": "markdown",
   "id": "e3d11471",
   "metadata": {},
   "source": [
    "## NMF"
   ]
  },
  {
   "cell_type": "code",
   "execution_count": 10,
   "id": "dc1d1e33",
   "metadata": {},
   "outputs": [],
   "source": [
    "from sklearn.decomposition import NMF\n",
    "nmf = NMF(n_components=20)\n",
    "nmf_features = nmf.fit_transform(dt_train.data)"
   ]
  },
  {
   "cell_type": "code",
   "execution_count": 11,
   "id": "e5e5879d",
   "metadata": {},
   "outputs": [],
   "source": [
    "from sklearn.preprocessing import normalize\n",
    "norm_features = normalize(nmf_features)"
   ]
  },
  {
   "cell_type": "code",
   "execution_count": 12,
   "id": "85c590ab",
   "metadata": {},
   "outputs": [],
   "source": [
    "df = pd.DataFrame(norm_features)"
   ]
  },
  {
   "cell_type": "code",
   "execution_count": 13,
   "id": "d3b9f495",
   "metadata": {},
   "outputs": [
    {
     "data": {
      "text/html": [
       "<div>\n",
       "<style scoped>\n",
       "    .dataframe tbody tr th:only-of-type {\n",
       "        vertical-align: middle;\n",
       "    }\n",
       "\n",
       "    .dataframe tbody tr th {\n",
       "        vertical-align: top;\n",
       "    }\n",
       "\n",
       "    .dataframe thead th {\n",
       "        text-align: right;\n",
       "    }\n",
       "</style>\n",
       "<table border=\"1\" class=\"dataframe\">\n",
       "  <thead>\n",
       "    <tr style=\"text-align: right;\">\n",
       "      <th></th>\n",
       "      <th>0</th>\n",
       "      <th>1</th>\n",
       "      <th>2</th>\n",
       "      <th>3</th>\n",
       "      <th>4</th>\n",
       "      <th>5</th>\n",
       "      <th>6</th>\n",
       "      <th>7</th>\n",
       "      <th>8</th>\n",
       "      <th>9</th>\n",
       "      <th>10</th>\n",
       "      <th>11</th>\n",
       "      <th>12</th>\n",
       "      <th>13</th>\n",
       "      <th>14</th>\n",
       "      <th>15</th>\n",
       "      <th>16</th>\n",
       "      <th>17</th>\n",
       "      <th>18</th>\n",
       "      <th>19</th>\n",
       "    </tr>\n",
       "  </thead>\n",
       "  <tbody>\n",
       "    <tr>\n",
       "      <th>0</th>\n",
       "      <td>0.523256</td>\n",
       "      <td>0.208707</td>\n",
       "      <td>0.054219</td>\n",
       "      <td>0.533341</td>\n",
       "      <td>0.226444</td>\n",
       "      <td>0.067211</td>\n",
       "      <td>0.000000</td>\n",
       "      <td>0.431952</td>\n",
       "      <td>0.018511</td>\n",
       "      <td>0.054236</td>\n",
       "      <td>0.267914</td>\n",
       "      <td>0.045444</td>\n",
       "      <td>0.007448</td>\n",
       "      <td>0.069502</td>\n",
       "      <td>0.016820</td>\n",
       "      <td>0.097948</td>\n",
       "      <td>0.048394</td>\n",
       "      <td>0.109159</td>\n",
       "      <td>0.216165</td>\n",
       "      <td>0.000000</td>\n",
       "    </tr>\n",
       "    <tr>\n",
       "      <th>1</th>\n",
       "      <td>0.457182</td>\n",
       "      <td>0.000000</td>\n",
       "      <td>0.317233</td>\n",
       "      <td>0.477907</td>\n",
       "      <td>0.400789</td>\n",
       "      <td>0.137448</td>\n",
       "      <td>0.133519</td>\n",
       "      <td>0.109833</td>\n",
       "      <td>0.053530</td>\n",
       "      <td>0.000000</td>\n",
       "      <td>0.191928</td>\n",
       "      <td>0.023590</td>\n",
       "      <td>0.000000</td>\n",
       "      <td>0.150374</td>\n",
       "      <td>0.074645</td>\n",
       "      <td>0.224444</td>\n",
       "      <td>0.124763</td>\n",
       "      <td>0.340195</td>\n",
       "      <td>0.049216</td>\n",
       "      <td>0.000000</td>\n",
       "    </tr>\n",
       "    <tr>\n",
       "      <th>2</th>\n",
       "      <td>0.372057</td>\n",
       "      <td>0.446175</td>\n",
       "      <td>0.028971</td>\n",
       "      <td>0.266913</td>\n",
       "      <td>0.341334</td>\n",
       "      <td>0.000000</td>\n",
       "      <td>0.009200</td>\n",
       "      <td>0.256710</td>\n",
       "      <td>0.139460</td>\n",
       "      <td>0.000000</td>\n",
       "      <td>0.100776</td>\n",
       "      <td>0.187630</td>\n",
       "      <td>0.127544</td>\n",
       "      <td>0.346382</td>\n",
       "      <td>0.031950</td>\n",
       "      <td>0.122750</td>\n",
       "      <td>0.000000</td>\n",
       "      <td>0.436784</td>\n",
       "      <td>0.000000</td>\n",
       "      <td>0.000000</td>\n",
       "    </tr>\n",
       "    <tr>\n",
       "      <th>3</th>\n",
       "      <td>0.401612</td>\n",
       "      <td>0.437214</td>\n",
       "      <td>0.222003</td>\n",
       "      <td>0.295911</td>\n",
       "      <td>0.374592</td>\n",
       "      <td>0.034284</td>\n",
       "      <td>0.002134</td>\n",
       "      <td>0.168786</td>\n",
       "      <td>0.147871</td>\n",
       "      <td>0.176343</td>\n",
       "      <td>0.187656</td>\n",
       "      <td>0.245126</td>\n",
       "      <td>0.037057</td>\n",
       "      <td>0.350835</td>\n",
       "      <td>0.034098</td>\n",
       "      <td>0.000000</td>\n",
       "      <td>0.103076</td>\n",
       "      <td>0.150957</td>\n",
       "      <td>0.158307</td>\n",
       "      <td>0.091404</td>\n",
       "    </tr>\n",
       "    <tr>\n",
       "      <th>4</th>\n",
       "      <td>0.065374</td>\n",
       "      <td>0.025035</td>\n",
       "      <td>0.146306</td>\n",
       "      <td>0.307479</td>\n",
       "      <td>0.227151</td>\n",
       "      <td>0.128689</td>\n",
       "      <td>0.000000</td>\n",
       "      <td>0.074658</td>\n",
       "      <td>0.642513</td>\n",
       "      <td>0.000000</td>\n",
       "      <td>0.248159</td>\n",
       "      <td>0.251663</td>\n",
       "      <td>0.147070</td>\n",
       "      <td>0.061447</td>\n",
       "      <td>0.320112</td>\n",
       "      <td>0.252210</td>\n",
       "      <td>0.239826</td>\n",
       "      <td>0.000000</td>\n",
       "      <td>0.136658</td>\n",
       "      <td>0.000000</td>\n",
       "    </tr>\n",
       "  </tbody>\n",
       "</table>\n",
       "</div>"
      ],
      "text/plain": [
       "         0         1         2         3         4         5         6   \\\n",
       "0  0.523256  0.208707  0.054219  0.533341  0.226444  0.067211  0.000000   \n",
       "1  0.457182  0.000000  0.317233  0.477907  0.400789  0.137448  0.133519   \n",
       "2  0.372057  0.446175  0.028971  0.266913  0.341334  0.000000  0.009200   \n",
       "3  0.401612  0.437214  0.222003  0.295911  0.374592  0.034284  0.002134   \n",
       "4  0.065374  0.025035  0.146306  0.307479  0.227151  0.128689  0.000000   \n",
       "\n",
       "         7         8         9         10        11        12        13  \\\n",
       "0  0.431952  0.018511  0.054236  0.267914  0.045444  0.007448  0.069502   \n",
       "1  0.109833  0.053530  0.000000  0.191928  0.023590  0.000000  0.150374   \n",
       "2  0.256710  0.139460  0.000000  0.100776  0.187630  0.127544  0.346382   \n",
       "3  0.168786  0.147871  0.176343  0.187656  0.245126  0.037057  0.350835   \n",
       "4  0.074658  0.642513  0.000000  0.248159  0.251663  0.147070  0.061447   \n",
       "\n",
       "         14        15        16        17        18        19  \n",
       "0  0.016820  0.097948  0.048394  0.109159  0.216165  0.000000  \n",
       "1  0.074645  0.224444  0.124763  0.340195  0.049216  0.000000  \n",
       "2  0.031950  0.122750  0.000000  0.436784  0.000000  0.000000  \n",
       "3  0.034098  0.000000  0.103076  0.150957  0.158307  0.091404  \n",
       "4  0.320112  0.252210  0.239826  0.000000  0.136658  0.000000  "
      ]
     },
     "execution_count": 13,
     "metadata": {},
     "output_type": "execute_result"
    }
   ],
   "source": [
    "df.head()"
   ]
  },
  {
   "cell_type": "code",
   "execution_count": 14,
   "id": "656f6a51",
   "metadata": {},
   "outputs": [],
   "source": [
    "# Найдем новости, похожии на новость с индексом 60\n",
    "\n",
    "current_news = norm_features[60, :]\n",
    "similarities = norm_features.dot(current_news)"
   ]
  },
  {
   "cell_type": "code",
   "execution_count": 15,
   "id": "cb1043a6",
   "metadata": {},
   "outputs": [],
   "source": [
    "current_news = df.loc[60]"
   ]
  },
  {
   "cell_type": "code",
   "execution_count": 16,
   "id": "90baf8b5",
   "metadata": {},
   "outputs": [],
   "source": [
    "similarities = df.dot(current_news)"
   ]
  },
  {
   "cell_type": "code",
   "execution_count": 17,
   "id": "17fffb69",
   "metadata": {},
   "outputs": [
    {
     "data": {
      "text/plain": [
       "60      1.000000\n",
       "1827    0.945566\n",
       "580     0.923661\n",
       "1135    0.913098\n",
       "159     0.912252\n",
       "453     0.898702\n",
       "675     0.897974\n",
       "1525    0.895453\n",
       "684     0.886819\n",
       "1511    0.885319\n",
       "dtype: float64"
      ]
     },
     "execution_count": 17,
     "metadata": {},
     "output_type": "execute_result"
    }
   ],
   "source": [
    "similarities.nlargest(10)"
   ]
  },
  {
   "cell_type": "code",
   "execution_count": 18,
   "id": "7ecd4ee9",
   "metadata": {},
   "outputs": [],
   "source": [
    "sim_list = similarities.nlargest(6).index\n",
    "sim_list_indices = [i for i in sim_list]"
   ]
  },
  {
   "cell_type": "code",
   "execution_count": 19,
   "id": "cc3b9653",
   "metadata": {},
   "outputs": [
    {
     "data": {
      "text/plain": [
       "[60, 1827, 580, 1135, 159, 453]"
      ]
     },
     "execution_count": 19,
     "metadata": {},
     "output_type": "execute_result"
    }
   ],
   "source": [
    "sim_list_indices"
   ]
  },
  {
   "cell_type": "code",
   "execution_count": 20,
   "id": "baedd2a7",
   "metadata": {},
   "outputs": [
    {
     "name": "stdout",
     "output_type": "stream",
     "text": [
      "11\n",
      "11\n",
      "11\n",
      "11\n",
      "7\n",
      "3\n",
      "[11, 11, 11, 11, 7, 3]\n",
      "60.0\n"
     ]
    }
   ],
   "source": [
    "res = []\n",
    "for i in sim_list_indices:\n",
    "    res.append(dt_train.target[i])\n",
    "    print(dt_train.target[i])\n",
    "print(res)\n",
    "print((res.count(res[0])-1)/5*100)"
   ]
  },
  {
   "cell_type": "code",
   "execution_count": 21,
   "id": "ca365e08",
   "metadata": {},
   "outputs": [],
   "source": [
    "# Обработаем весь новостной массив и посмотрим % точного определения темы из 5 наиболее вероятных вариантов.\n",
    "\n",
    "result = []\n",
    "for i in range(dt_train.data[0:2000].shape[0]):\n",
    "    current_news = norm_features[i, :]\n",
    "    similarities = norm_features.dot(current_news)\n",
    "    current_news = df.loc[i]\n",
    "    similarities = df.dot(current_news)\n",
    "    sim_list = similarities.nlargest(6).index\n",
    "    sim_list_indices = [i for i in sim_list]\n",
    "    res = []\n",
    "    for i in sim_list_indices:\n",
    "        res.append(dt_train.target[i])\n",
    "    result.append((res.count(res[0])-1)/5*100)"
   ]
  },
  {
   "cell_type": "code",
   "execution_count": 22,
   "id": "c80037be",
   "metadata": {},
   "outputs": [
    {
     "data": {
      "text/plain": [
       "12.37"
      ]
     },
     "execution_count": 22,
     "metadata": {},
     "output_type": "execute_result"
    }
   ],
   "source": [
    "np.mean(result)"
   ]
  },
  {
   "cell_type": "markdown",
   "id": "5c4f90a8",
   "metadata": {},
   "source": [
    "## Не знаю, как тут посчитать метрики, но больше похоже на случайное угадывание. Среднее точное попадание в тему 12.4 %. Но, учитывая, что есть темы близкие по содержанию (e.g. 'alt.atheism', 'soc.religion.christian', 'talk.religion.misc'), возможно, что результат не так и плох."
   ]
  }
 ],
 "metadata": {
  "kernelspec": {
   "display_name": "Python 3 (ipykernel)",
   "language": "python",
   "name": "python3"
  },
  "language_info": {
   "codemirror_mode": {
    "name": "ipython",
    "version": 3
   },
   "file_extension": ".py",
   "mimetype": "text/x-python",
   "name": "python",
   "nbconvert_exporter": "python",
   "pygments_lexer": "ipython3",
   "version": "3.9.12"
  }
 },
 "nbformat": 4,
 "nbformat_minor": 5
}
