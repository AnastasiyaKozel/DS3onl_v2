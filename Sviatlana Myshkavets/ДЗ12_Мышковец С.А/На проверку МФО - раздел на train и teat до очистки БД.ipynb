{
 "cells": [
  {
   "cell_type": "markdown",
   "id": "0b71bc9a",
   "metadata": {},
   "source": [
    "Мышковец С.А., v.01 30.10.2022\n",
    "\n",
    "Решение задачи: Построить модель машинного обучения для предсказания вероятности того, что клиент уйдет в просрочку более 60 дней (delinq60plus).\n",
    "\n",
    "В данной задаче нам представлены данные в которых ключевое поле — это то, просрочит ли клиент микро-финансовой организации выплату более чем на 60 дней или нет. \n",
    "\n",
    "Задачи:\n",
    "1.  осуществить корректную загрузку данных\n",
    "2.  осуществить разведывательный анализ данных:\n",
    "- разбить выборку на обучающую и тестовую\n",
    "- проанализировать пропуски и решить, что с ними делать\n",
    "- удалить дубликаты\n",
    "- проанализировать выбросы\n",
    "- создать/ удалить переменные\n",
    "- закодировать категориальные переменные\n",
    "- нормализовать числовые переменные (при необходимости)\n",
    "3. построить модель и оценить ее качество\n",
    "4. при необходимости вернуться к предыдущим шагам, чтобы улучшить качество модели\n",
    "\n",
    "\n",
    "Использовать (не везде, а где мы работаем с данными напрямую) SQL запросы. \n",
    "\n",
    "\n",
    "Вывод: \n"
   ]
  },
  {
   "cell_type": "markdown",
   "id": "1cde5203",
   "metadata": {},
   "source": [
    "# 1. Осуществить корректную загрузку данных"
   ]
  },
  {
   "cell_type": "code",
   "execution_count": 1,
   "id": "85780c57",
   "metadata": {},
   "outputs": [],
   "source": [
    "import pandas as pd\n",
    "import numpy as np\n",
    "\n",
    "pd.set_option(\"display.max_columns\", 50)\n",
    "df = pd.read_csv(\"MFOcredit.csv\", sep= ';')"
   ]
  },
  {
   "cell_type": "code",
   "execution_count": 2,
   "id": "dc6793e5",
   "metadata": {},
   "outputs": [
    {
     "data": {
      "text/html": [
       "<div>\n",
       "<style scoped>\n",
       "    .dataframe tbody tr th:only-of-type {\n",
       "        vertical-align: middle;\n",
       "    }\n",
       "\n",
       "    .dataframe tbody tr th {\n",
       "        vertical-align: top;\n",
       "    }\n",
       "\n",
       "    .dataframe thead th {\n",
       "        text-align: right;\n",
       "    }\n",
       "</style>\n",
       "<table border=\"1\" class=\"dataframe\">\n",
       "  <thead>\n",
       "    <tr style=\"text-align: right;\">\n",
       "      <th></th>\n",
       "      <th>id</th>\n",
       "      <th>date_start</th>\n",
       "      <th>date_end</th>\n",
       "      <th>gender</th>\n",
       "      <th>age</th>\n",
       "      <th>auto</th>\n",
       "      <th>housing</th>\n",
       "      <th>marstatus</th>\n",
       "      <th>regclient</th>\n",
       "      <th>jobtype</th>\n",
       "      <th>region</th>\n",
       "      <th>credits</th>\n",
       "      <th>children</th>\n",
       "      <th>delinq60plus</th>\n",
       "    </tr>\n",
       "  </thead>\n",
       "  <tbody>\n",
       "    <tr>\n",
       "      <th>0</th>\n",
       "      <td>1</td>\n",
       "      <td>03-Jan-2013</td>\n",
       "      <td>12-Jan-2013</td>\n",
       "      <td>Мужской</td>\n",
       "      <td>44</td>\n",
       "      <td>Нет</td>\n",
       "      <td>Собственное</td>\n",
       "      <td>Гражданский брак/женат/замужем</td>\n",
       "      <td>Нет</td>\n",
       "      <td>Официальное</td>\n",
       "      <td>Новосибирская область</td>\n",
       "      <td>Нет</td>\n",
       "      <td>Да</td>\n",
       "      <td>Нет</td>\n",
       "    </tr>\n",
       "    <tr>\n",
       "      <th>1</th>\n",
       "      <td>2</td>\n",
       "      <td>03-Jan-2013</td>\n",
       "      <td>17-Jan-2013</td>\n",
       "      <td>Мужской</td>\n",
       "      <td>21</td>\n",
       "      <td>Пропуск поля</td>\n",
       "      <td>Живут с родителями</td>\n",
       "      <td>Холост</td>\n",
       "      <td>Нет</td>\n",
       "      <td>Официальное</td>\n",
       "      <td>Кемеровская область юг</td>\n",
       "      <td>Да</td>\n",
       "      <td>Нет</td>\n",
       "      <td>Нет</td>\n",
       "    </tr>\n",
       "    <tr>\n",
       "      <th>2</th>\n",
       "      <td>3</td>\n",
       "      <td>03-Jan-2013</td>\n",
       "      <td>17-Jan-2013</td>\n",
       "      <td>Мужской</td>\n",
       "      <td>25</td>\n",
       "      <td>Пропуск поля</td>\n",
       "      <td>Собственное</td>\n",
       "      <td>Холост</td>\n",
       "      <td>Да</td>\n",
       "      <td>Официальное</td>\n",
       "      <td>Кемеровская область север</td>\n",
       "      <td>Пропуск поля</td>\n",
       "      <td>Нет</td>\n",
       "      <td>Нет</td>\n",
       "    </tr>\n",
       "    <tr>\n",
       "      <th>3</th>\n",
       "      <td>4</td>\n",
       "      <td>03-Jan-2013</td>\n",
       "      <td>17-Jan-2013</td>\n",
       "      <td>Женский</td>\n",
       "      <td>47</td>\n",
       "      <td>Пропуск поля</td>\n",
       "      <td>Собственное</td>\n",
       "      <td>Гражданский брак/женат/замужем</td>\n",
       "      <td>Да</td>\n",
       "      <td>Официальное</td>\n",
       "      <td>Кемеровская область север</td>\n",
       "      <td>Нет</td>\n",
       "      <td>Нет</td>\n",
       "      <td>Нет</td>\n",
       "    </tr>\n",
       "    <tr>\n",
       "      <th>4</th>\n",
       "      <td>5</td>\n",
       "      <td>03-Jan-2013</td>\n",
       "      <td>17-Jan-2013</td>\n",
       "      <td>Мужской</td>\n",
       "      <td>22</td>\n",
       "      <td>Нет</td>\n",
       "      <td>Арендуемое</td>\n",
       "      <td>Гражданский брак/женат/замужем</td>\n",
       "      <td>Нет</td>\n",
       "      <td>Официальное</td>\n",
       "      <td>Кемеровская область север</td>\n",
       "      <td>Да</td>\n",
       "      <td>Да</td>\n",
       "      <td>Нет</td>\n",
       "    </tr>\n",
       "  </tbody>\n",
       "</table>\n",
       "</div>"
      ],
      "text/plain": [
       "   id   date_start     date_end   gender  age          auto  \\\n",
       "0   1  03-Jan-2013  12-Jan-2013  Мужской   44           Нет   \n",
       "1   2  03-Jan-2013  17-Jan-2013  Мужской   21  Пропуск поля   \n",
       "2   3  03-Jan-2013  17-Jan-2013  Мужской   25  Пропуск поля   \n",
       "3   4  03-Jan-2013  17-Jan-2013  Женский   47  Пропуск поля   \n",
       "4   5  03-Jan-2013  17-Jan-2013  Мужской   22           Нет   \n",
       "\n",
       "              housing                       marstatus regclient      jobtype  \\\n",
       "0         Собственное  Гражданский брак/женат/замужем       Нет  Официальное   \n",
       "1  Живут с родителями                          Холост       Нет  Официальное   \n",
       "2         Собственное                          Холост        Да  Официальное   \n",
       "3         Собственное  Гражданский брак/женат/замужем        Да  Официальное   \n",
       "4          Арендуемое  Гражданский брак/женат/замужем       Нет  Официальное   \n",
       "\n",
       "                      region       credits children delinq60plus  \n",
       "0      Новосибирская область           Нет       Да          Нет  \n",
       "1     Кемеровская область юг            Да      Нет          Нет  \n",
       "2  Кемеровская область север  Пропуск поля      Нет          Нет  \n",
       "3  Кемеровская область север           Нет      Нет          Нет  \n",
       "4  Кемеровская область север            Да       Да          Нет  "
      ]
     },
     "execution_count": 2,
     "metadata": {},
     "output_type": "execute_result"
    }
   ],
   "source": [
    "df.head()"
   ]
  },
  {
   "cell_type": "markdown",
   "id": "ee075b3e",
   "metadata": {},
   "source": [
    "# 2. Осуществить разведывательный анализ данных:"
   ]
  },
  {
   "cell_type": "markdown",
   "id": "90fbcdcc",
   "metadata": {},
   "source": [
    "## Разбить выборку на обучающую и тестовую"
   ]
  },
  {
   "cell_type": "code",
   "execution_count": 3,
   "id": "483b59b2",
   "metadata": {},
   "outputs": [],
   "source": [
    "from sklearn.model_selection import train_test_split\n",
    "\n",
    "y = df.delinq60plus\n",
    "X = df.drop(['delinq60plus'], axis=1)\n",
    "X_train, X_test, y_train, y_test = train_test_split(X, y, \n",
    "                                                    train_size=0.7, \n",
    "                                                    random_state=42, \n",
    "                                                    stratify=y)"
   ]
  },
  {
   "cell_type": "code",
   "execution_count": 4,
   "id": "01e3dd62",
   "metadata": {},
   "outputs": [
    {
     "data": {
      "text/html": [
       "<div>\n",
       "<style scoped>\n",
       "    .dataframe tbody tr th:only-of-type {\n",
       "        vertical-align: middle;\n",
       "    }\n",
       "\n",
       "    .dataframe tbody tr th {\n",
       "        vertical-align: top;\n",
       "    }\n",
       "\n",
       "    .dataframe thead th {\n",
       "        text-align: right;\n",
       "    }\n",
       "</style>\n",
       "<table border=\"1\" class=\"dataframe\">\n",
       "  <thead>\n",
       "    <tr style=\"text-align: right;\">\n",
       "      <th></th>\n",
       "      <th>id</th>\n",
       "      <th>date_start</th>\n",
       "      <th>date_end</th>\n",
       "      <th>gender</th>\n",
       "      <th>age</th>\n",
       "      <th>auto</th>\n",
       "      <th>housing</th>\n",
       "      <th>marstatus</th>\n",
       "      <th>regclient</th>\n",
       "      <th>jobtype</th>\n",
       "      <th>region</th>\n",
       "      <th>credits</th>\n",
       "      <th>children</th>\n",
       "    </tr>\n",
       "  </thead>\n",
       "  <tbody>\n",
       "    <tr>\n",
       "      <th>7929</th>\n",
       "      <td>7930</td>\n",
       "      <td>06-May-2013</td>\n",
       "      <td>20-May-2013</td>\n",
       "      <td>Мужской</td>\n",
       "      <td>27</td>\n",
       "      <td>Пропуск поля</td>\n",
       "      <td>Собственное</td>\n",
       "      <td>Пропуск поля</td>\n",
       "      <td>Нет</td>\n",
       "      <td>Пропуск поля</td>\n",
       "      <td>Кемеровская область юг</td>\n",
       "      <td>Пропуск поля</td>\n",
       "      <td>Пропуск поля</td>\n",
       "    </tr>\n",
       "    <tr>\n",
       "      <th>27978</th>\n",
       "      <td>27979</td>\n",
       "      <td>25-Nov-2013</td>\n",
       "      <td>09-Dec-2013</td>\n",
       "      <td>Мужской</td>\n",
       "      <td>63</td>\n",
       "      <td>Пропуск поля</td>\n",
       "      <td>Пропуск поля</td>\n",
       "      <td>Пропуск поля</td>\n",
       "      <td>Да</td>\n",
       "      <td>Пропуск поля</td>\n",
       "      <td>Кемеровская область юг</td>\n",
       "      <td>Пропуск поля</td>\n",
       "      <td>Нет</td>\n",
       "    </tr>\n",
       "    <tr>\n",
       "      <th>8016</th>\n",
       "      <td>8017</td>\n",
       "      <td>07-May-2013</td>\n",
       "      <td>05-Jun-2013</td>\n",
       "      <td>Женский</td>\n",
       "      <td>21</td>\n",
       "      <td>Нет</td>\n",
       "      <td>Собственное</td>\n",
       "      <td>Холост</td>\n",
       "      <td>Нет</td>\n",
       "      <td>Официальное</td>\n",
       "      <td>Алтайский край</td>\n",
       "      <td>Нет</td>\n",
       "      <td>Нет</td>\n",
       "    </tr>\n",
       "    <tr>\n",
       "      <th>29404</th>\n",
       "      <td>29405</td>\n",
       "      <td>04-Dec-2013</td>\n",
       "      <td>18-Dec-2013</td>\n",
       "      <td>Мужской</td>\n",
       "      <td>27</td>\n",
       "      <td>Нет</td>\n",
       "      <td>Долевая собственность</td>\n",
       "      <td>Гражданский брак/женат/замужем</td>\n",
       "      <td>Да</td>\n",
       "      <td>Официальное</td>\n",
       "      <td>Кемеровская область юг</td>\n",
       "      <td>Да</td>\n",
       "      <td>Нет</td>\n",
       "    </tr>\n",
       "    <tr>\n",
       "      <th>29339</th>\n",
       "      <td>29340</td>\n",
       "      <td>04-Dec-2013</td>\n",
       "      <td>13-Dec-2013</td>\n",
       "      <td>Женский</td>\n",
       "      <td>57</td>\n",
       "      <td>Нет</td>\n",
       "      <td>Муниципальное</td>\n",
       "      <td>Холост</td>\n",
       "      <td>Да</td>\n",
       "      <td>Официальное</td>\n",
       "      <td>Новосибирская область</td>\n",
       "      <td>Да</td>\n",
       "      <td>Нет</td>\n",
       "    </tr>\n",
       "  </tbody>\n",
       "</table>\n",
       "</div>"
      ],
      "text/plain": [
       "          id   date_start     date_end   gender  age          auto  \\\n",
       "7929    7930  06-May-2013  20-May-2013  Мужской   27  Пропуск поля   \n",
       "27978  27979  25-Nov-2013  09-Dec-2013  Мужской   63  Пропуск поля   \n",
       "8016    8017  07-May-2013  05-Jun-2013  Женский   21           Нет   \n",
       "29404  29405  04-Dec-2013  18-Dec-2013  Мужской   27           Нет   \n",
       "29339  29340  04-Dec-2013  13-Dec-2013  Женский   57           Нет   \n",
       "\n",
       "                     housing                       marstatus regclient  \\\n",
       "7929             Собственное                    Пропуск поля       Нет   \n",
       "27978           Пропуск поля                    Пропуск поля        Да   \n",
       "8016             Собственное                          Холост       Нет   \n",
       "29404  Долевая собственность  Гражданский брак/женат/замужем        Да   \n",
       "29339          Муниципальное                          Холост        Да   \n",
       "\n",
       "            jobtype                  region       credits      children  \n",
       "7929   Пропуск поля  Кемеровская область юг  Пропуск поля  Пропуск поля  \n",
       "27978  Пропуск поля  Кемеровская область юг  Пропуск поля           Нет  \n",
       "8016    Официальное          Алтайский край           Нет           Нет  \n",
       "29404   Официальное  Кемеровская область юг            Да           Нет  \n",
       "29339   Официальное   Новосибирская область            Да           Нет  "
      ]
     },
     "execution_count": 4,
     "metadata": {},
     "output_type": "execute_result"
    }
   ],
   "source": [
    "X_train.head()"
   ]
  },
  {
   "cell_type": "code",
   "execution_count": 5,
   "id": "33187824",
   "metadata": {},
   "outputs": [
    {
     "data": {
      "text/plain": [
       "7929      Да\n",
       "27978    Нет\n",
       "8016      Да\n",
       "29404    Нет\n",
       "29339    Нет\n",
       "        ... \n",
       "26418    Нет\n",
       "27807    Нет\n",
       "1216     Нет\n",
       "11556     Да\n",
       "9748      Да\n",
       "Name: delinq60plus, Length: 24648, dtype: object"
      ]
     },
     "execution_count": 5,
     "metadata": {},
     "output_type": "execute_result"
    }
   ],
   "source": [
    "y_train"
   ]
  },
  {
   "cell_type": "markdown",
   "id": "bc7e4b46",
   "metadata": {},
   "source": [
    "# Проанализировать пропуски и решить, что с ними делать"
   ]
  },
  {
   "cell_type": "code",
   "execution_count": 6,
   "id": "d2488aad",
   "metadata": {},
   "outputs": [
    {
     "data": {
      "text/html": [
       "<div>\n",
       "<style scoped>\n",
       "    .dataframe tbody tr th:only-of-type {\n",
       "        vertical-align: middle;\n",
       "    }\n",
       "\n",
       "    .dataframe tbody tr th {\n",
       "        vertical-align: top;\n",
       "    }\n",
       "\n",
       "    .dataframe thead th {\n",
       "        text-align: right;\n",
       "    }\n",
       "</style>\n",
       "<table border=\"1\" class=\"dataframe\">\n",
       "  <thead>\n",
       "    <tr style=\"text-align: right;\">\n",
       "      <th></th>\n",
       "      <th>id</th>\n",
       "      <th>age</th>\n",
       "    </tr>\n",
       "  </thead>\n",
       "  <tbody>\n",
       "    <tr>\n",
       "      <th>count</th>\n",
       "      <td>24648.000000</td>\n",
       "      <td>24648.000000</td>\n",
       "    </tr>\n",
       "    <tr>\n",
       "      <th>mean</th>\n",
       "      <td>17549.811303</td>\n",
       "      <td>37.235922</td>\n",
       "    </tr>\n",
       "    <tr>\n",
       "      <th>std</th>\n",
       "      <td>10187.991175</td>\n",
       "      <td>13.194979</td>\n",
       "    </tr>\n",
       "    <tr>\n",
       "      <th>min</th>\n",
       "      <td>1.000000</td>\n",
       "      <td>18.000000</td>\n",
       "    </tr>\n",
       "    <tr>\n",
       "      <th>25%</th>\n",
       "      <td>8678.750000</td>\n",
       "      <td>26.000000</td>\n",
       "    </tr>\n",
       "    <tr>\n",
       "      <th>50%</th>\n",
       "      <td>17534.500000</td>\n",
       "      <td>34.000000</td>\n",
       "    </tr>\n",
       "    <tr>\n",
       "      <th>75%</th>\n",
       "      <td>26363.250000</td>\n",
       "      <td>48.000000</td>\n",
       "    </tr>\n",
       "    <tr>\n",
       "      <th>max</th>\n",
       "      <td>35212.000000</td>\n",
       "      <td>75.000000</td>\n",
       "    </tr>\n",
       "  </tbody>\n",
       "</table>\n",
       "</div>"
      ],
      "text/plain": [
       "                 id           age\n",
       "count  24648.000000  24648.000000\n",
       "mean   17549.811303     37.235922\n",
       "std    10187.991175     13.194979\n",
       "min        1.000000     18.000000\n",
       "25%     8678.750000     26.000000\n",
       "50%    17534.500000     34.000000\n",
       "75%    26363.250000     48.000000\n",
       "max    35212.000000     75.000000"
      ]
     },
     "execution_count": 6,
     "metadata": {},
     "output_type": "execute_result"
    }
   ],
   "source": [
    "X_train.describe()"
   ]
  },
  {
   "cell_type": "code",
   "execution_count": 7,
   "id": "e0e5bce2",
   "metadata": {},
   "outputs": [
    {
     "name": "stdout",
     "output_type": "stream",
     "text": [
      "<class 'pandas.core.frame.DataFrame'>\n",
      "Int64Index: 24648 entries, 7929 to 9748\n",
      "Data columns (total 13 columns):\n",
      " #   Column      Non-Null Count  Dtype \n",
      "---  ------      --------------  ----- \n",
      " 0   id          24648 non-null  int64 \n",
      " 1   date_start  24648 non-null  object\n",
      " 2   date_end    24648 non-null  object\n",
      " 3   gender      24648 non-null  object\n",
      " 4   age         24648 non-null  int64 \n",
      " 5   auto        24648 non-null  object\n",
      " 6   housing     24648 non-null  object\n",
      " 7   marstatus   24648 non-null  object\n",
      " 8   regclient   24648 non-null  object\n",
      " 9   jobtype     24648 non-null  object\n",
      " 10  region      24648 non-null  object\n",
      " 11  credits     24648 non-null  object\n",
      " 12  children    24648 non-null  object\n",
      "dtypes: int64(2), object(11)\n",
      "memory usage: 2.6+ MB\n"
     ]
    }
   ],
   "source": [
    "X_train.info()"
   ]
  },
  {
   "cell_type": "code",
   "execution_count": 8,
   "id": "9190a8b9",
   "metadata": {},
   "outputs": [
    {
     "data": {
      "text/plain": [
       "id            0\n",
       "date_start    0\n",
       "date_end      0\n",
       "gender        0\n",
       "age           0\n",
       "auto          0\n",
       "housing       0\n",
       "marstatus     0\n",
       "regclient     0\n",
       "jobtype       0\n",
       "region        0\n",
       "credits       0\n",
       "children      0\n",
       "dtype: int64"
      ]
     },
     "execution_count": 8,
     "metadata": {},
     "output_type": "execute_result"
    }
   ],
   "source": [
    "X_train.isna().sum()"
   ]
  },
  {
   "cell_type": "markdown",
   "id": "87fd5a4c",
   "metadata": {},
   "source": [
    "**Пропусков, NaN и нулевых значений в БД нет.**"
   ]
  },
  {
   "cell_type": "code",
   "execution_count": 9,
   "id": "754fec6c",
   "metadata": {},
   "outputs": [
    {
     "data": {
      "text/plain": [
       "gender\n",
       "Мужской    11822\n",
       "Женский    12826\n",
       "Name: id, dtype: int64"
      ]
     },
     "execution_count": 9,
     "metadata": {},
     "output_type": "execute_result"
    }
   ],
   "source": [
    "X_train.groupby(\"gender\")[\"id\"].count().sort_values()"
   ]
  },
  {
   "cell_type": "code",
   "execution_count": 10,
   "id": "167582bb",
   "metadata": {},
   "outputs": [
    {
     "data": {
      "text/plain": [
       "auto\n",
       "Да               2583\n",
       "Пропуск поля     9788\n",
       "Нет             12277\n",
       "Name: id, dtype: int64"
      ]
     },
     "execution_count": 10,
     "metadata": {},
     "output_type": "execute_result"
    }
   ],
   "source": [
    "X_train.groupby(\"auto\")[\"id\"].count().sort_values()"
   ]
  },
  {
   "cell_type": "code",
   "execution_count": 11,
   "id": "427be91b",
   "metadata": {},
   "outputs": [
    {
     "data": {
      "text/plain": [
       "housing\n",
       "Муниципальное              958\n",
       "Арендуемое                1414\n",
       "Долевая собственность     2080\n",
       "Живут с родителями        2236\n",
       "Пропуск поля              5303\n",
       "Собственное              12657\n",
       "Name: id, dtype: int64"
      ]
     },
     "execution_count": 11,
     "metadata": {},
     "output_type": "execute_result"
    }
   ],
   "source": [
    "X_train.groupby(\"housing\")[\"id\"].count().sort_values()"
   ]
  },
  {
   "cell_type": "code",
   "execution_count": 12,
   "id": "febb9c9f",
   "metadata": {},
   "outputs": [
    {
     "data": {
      "text/plain": [
       "marstatus\n",
       "Вдова/вдовец                      1284\n",
       "Разведен                          2000\n",
       "Пропуск поля                      5291\n",
       "Холост                            6177\n",
       "Гражданский брак/женат/замужем    9896\n",
       "Name: id, dtype: int64"
      ]
     },
     "execution_count": 12,
     "metadata": {},
     "output_type": "execute_result"
    }
   ],
   "source": [
    "X_train.groupby(\"marstatus\")[\"id\"].count().sort_values()"
   ]
  },
  {
   "cell_type": "code",
   "execution_count": 13,
   "id": "0e51d1c5",
   "metadata": {},
   "outputs": [
    {
     "data": {
      "text/plain": [
       "regclient\n",
       "Нет    10870\n",
       "Да     13778\n",
       "Name: id, dtype: int64"
      ]
     },
     "execution_count": 13,
     "metadata": {},
     "output_type": "execute_result"
    }
   ],
   "source": [
    "X_train.groupby(\"regclient\")[\"id\"].count().sort_values()"
   ]
  },
  {
   "cell_type": "code",
   "execution_count": 14,
   "id": "b0defd8e",
   "metadata": {},
   "outputs": [
    {
     "data": {
      "text/plain": [
       "jobtype\n",
       "Неофициальное      812\n",
       "Пропуск поля     10141\n",
       "Официальное      13695\n",
       "Name: id, dtype: int64"
      ]
     },
     "execution_count": 14,
     "metadata": {},
     "output_type": "execute_result"
    }
   ],
   "source": [
    "X_train.groupby(\"jobtype\")[\"id\"].count().sort_values()"
   ]
  },
  {
   "cell_type": "code",
   "execution_count": 15,
   "id": "a3aa89e8",
   "metadata": {},
   "outputs": [
    {
     "data": {
      "text/plain": [
       "region\n",
       "Красноярский край            1591\n",
       "Новосибирская область        3001\n",
       "Алтайский край               3637\n",
       "Кемеровская область юг       7734\n",
       "Кемеровская область север    8685\n",
       "Name: id, dtype: int64"
      ]
     },
     "execution_count": 15,
     "metadata": {},
     "output_type": "execute_result"
    }
   ],
   "source": [
    "X_train.groupby(\"region\")[\"id\"].count().sort_values()"
   ]
  },
  {
   "cell_type": "code",
   "execution_count": 16,
   "id": "5940a206",
   "metadata": {},
   "outputs": [
    {
     "data": {
      "text/plain": [
       "credits\n",
       "Пропуск поля      655\n",
       "Да              11241\n",
       "Нет             12752\n",
       "Name: id, dtype: int64"
      ]
     },
     "execution_count": 16,
     "metadata": {},
     "output_type": "execute_result"
    }
   ],
   "source": [
    "X_train.groupby(\"credits\")[\"id\"].count().sort_values()"
   ]
  },
  {
   "cell_type": "code",
   "execution_count": 17,
   "id": "7070575a",
   "metadata": {},
   "outputs": [
    {
     "data": {
      "text/plain": [
       "children\n",
       "Пропуск поля      516\n",
       "Да               9356\n",
       "Нет             14776\n",
       "Name: id, dtype: int64"
      ]
     },
     "execution_count": 17,
     "metadata": {},
     "output_type": "execute_result"
    }
   ],
   "source": [
    "X_train.groupby(\"children\")[\"id\"].count().sort_values()"
   ]
  },
  {
   "cell_type": "markdown",
   "id": "3f0a9c74",
   "metadata": {},
   "source": [
    "**Есть колонки (\"auto\", \"housing\", \"marstatus\", \"jobtype\", \"credits\", \"children\") со значением \"Пропуск поля\"**"
   ]
  },
  {
   "cell_type": "code",
   "execution_count": 18,
   "id": "e9aa69e1",
   "metadata": {},
   "outputs": [
    {
     "data": {
      "text/plain": [
       "<AxesSubplot:>"
      ]
     },
     "execution_count": 18,
     "metadata": {},
     "output_type": "execute_result"
    },
    {
     "data": {
      "image/png": "[encoded data removed]",
      "text/plain": [
       "<Figure size 432x288 with 2 Axes>"
      ]
     },
     "metadata": {
      "needs_background": "light"
     },
     "output_type": "display_data"
    }
   ],
   "source": [
    "import seaborn as sns\n",
    "cols = X_train.columns\n",
    "# определяем цвета \n",
    "# желтый - пропущенные данные, синий - не пропущенные\n",
    "colours = ['#000099', '#ffff00'] \n",
    "sns.heatmap(X_train[cols]=='Пропуск поля', cmap=sns.color_palette(colours))"
   ]
  },
  {
   "cell_type": "code",
   "execution_count": 19,
   "id": "a5aaddfc",
   "metadata": {},
   "outputs": [],
   "source": [
    "X_train_4_Nan = X_train[(X_train['auto']=='Пропуск поля') & (X_train['housing']=='Пропуск поля') & (X_train['marstatus']=='Пропуск поля') & (X_train['jobtype']=='Пропуск поля')]"
   ]
  },
  {
   "cell_type": "code",
   "execution_count": 20,
   "id": "74be3633",
   "metadata": {},
   "outputs": [
    {
     "name": "stdout",
     "output_type": "stream",
     "text": [
      "<class 'pandas.core.frame.DataFrame'>\n",
      "Int64Index: 4479 entries, 27978 to 19542\n",
      "Data columns (total 13 columns):\n",
      " #   Column      Non-Null Count  Dtype \n",
      "---  ------      --------------  ----- \n",
      " 0   id          4479 non-null   int64 \n",
      " 1   date_start  4479 non-null   object\n",
      " 2   date_end    4479 non-null   object\n",
      " 3   gender      4479 non-null   object\n",
      " 4   age         4479 non-null   int64 \n",
      " 5   auto        4479 non-null   object\n",
      " 6   housing     4479 non-null   object\n",
      " 7   marstatus   4479 non-null   object\n",
      " 8   regclient   4479 non-null   object\n",
      " 9   jobtype     4479 non-null   object\n",
      " 10  region      4479 non-null   object\n",
      " 11  credits     4479 non-null   object\n",
      " 12  children    4479 non-null   object\n",
      "dtypes: int64(2), object(11)\n",
      "memory usage: 489.9+ KB\n"
     ]
    }
   ],
   "source": [
    "X_train_4_Nan.info()"
   ]
  },
  {
   "cell_type": "markdown",
   "id": "dd4940c1",
   "metadata": {},
   "source": [
    "**Удаляем строки, в которых 4 колонки имееют значение \"Пропуск поля\"**"
   ]
  },
  {
   "cell_type": "code",
   "execution_count": 21,
   "id": "136b0426",
   "metadata": {},
   "outputs": [],
   "source": [
    "X_train.drop(X_train[(X_train['auto']=='Пропуск поля') & (X_train['housing']=='Пропуск поля') & (X_train['marstatus']=='Пропуск поля') & (X_train['jobtype']=='Пропуск поля')].index, inplace = True)"
   ]
  },
  {
   "cell_type": "code",
   "execution_count": 22,
   "id": "79810df5",
   "metadata": {},
   "outputs": [
    {
     "name": "stdout",
     "output_type": "stream",
     "text": [
      "<class 'pandas.core.frame.DataFrame'>\n",
      "Int64Index: 20169 entries, 7929 to 9748\n",
      "Data columns (total 13 columns):\n",
      " #   Column      Non-Null Count  Dtype \n",
      "---  ------      --------------  ----- \n",
      " 0   id          20169 non-null  int64 \n",
      " 1   date_start  20169 non-null  object\n",
      " 2   date_end    20169 non-null  object\n",
      " 3   gender      20169 non-null  object\n",
      " 4   age         20169 non-null  int64 \n",
      " 5   auto        20169 non-null  object\n",
      " 6   housing     20169 non-null  object\n",
      " 7   marstatus   20169 non-null  object\n",
      " 8   regclient   20169 non-null  object\n",
      " 9   jobtype     20169 non-null  object\n",
      " 10  region      20169 non-null  object\n",
      " 11  credits     20169 non-null  object\n",
      " 12  children    20169 non-null  object\n",
      "dtypes: int64(2), object(11)\n",
      "memory usage: 2.2+ MB\n"
     ]
    }
   ],
   "source": [
    "X_train.info()"
   ]
  },
  {
   "cell_type": "code",
   "execution_count": 23,
   "id": "cf8c5090",
   "metadata": {},
   "outputs": [
    {
     "data": {
      "text/plain": [
       "jobtype\n",
       "Неофициальное      812\n",
       "Пропуск поля      5662\n",
       "Официальное      13695\n",
       "Name: id, dtype: int64"
      ]
     },
     "execution_count": 23,
     "metadata": {},
     "output_type": "execute_result"
    }
   ],
   "source": [
    "X_train.groupby(\"jobtype\")[\"id\"].count().sort_values()"
   ]
  },
  {
   "cell_type": "markdown",
   "id": "9304bea0",
   "metadata": {},
   "source": [
    "**Удаляем колонку 'jobtype', т.к. 48% данных неизвестны**"
   ]
  },
  {
   "cell_type": "code",
   "execution_count": 24,
   "id": "4c5339be",
   "metadata": {},
   "outputs": [],
   "source": [
    "X_train = X_train.drop(['jobtype'], axis=1)"
   ]
  },
  {
   "cell_type": "code",
   "execution_count": 25,
   "id": "13d2fee0",
   "metadata": {},
   "outputs": [],
   "source": [
    "X_test = X_test.drop(['jobtype'], axis=1)"
   ]
  },
  {
   "cell_type": "code",
   "execution_count": 26,
   "id": "cfc31211",
   "metadata": {},
   "outputs": [
    {
     "data": {
      "text/plain": [
       "Index(['id', 'date_start', 'date_end', 'gender', 'age', 'auto', 'housing',\n",
       "       'marstatus', 'regclient', 'region', 'credits', 'children'],\n",
       "      dtype='object')"
      ]
     },
     "execution_count": 26,
     "metadata": {},
     "output_type": "execute_result"
    }
   ],
   "source": [
    "X_train.columns"
   ]
  },
  {
   "cell_type": "code",
   "execution_count": 27,
   "id": "eea57491",
   "metadata": {},
   "outputs": [
    {
     "data": {
      "text/plain": [
       "auto\n",
       "Да               2583\n",
       "Пропуск поля     5309\n",
       "Нет             12277\n",
       "Name: id, dtype: int64"
      ]
     },
     "execution_count": 27,
     "metadata": {},
     "output_type": "execute_result"
    }
   ],
   "source": [
    "X_train.groupby(\"auto\")[\"id\"].count().sort_values()"
   ]
  },
  {
   "cell_type": "markdown",
   "id": "c4c81e1e",
   "metadata": {},
   "source": [
    "**Учитывая 25% пропусков в колонке 'auto', исходим из худших финансовых гарантий и меняем значение 'Пропуск поля' на 'Нет'**"
   ]
  },
  {
   "cell_type": "code",
   "execution_count": 28,
   "id": "81089c2b",
   "metadata": {},
   "outputs": [],
   "source": [
    "X_train[\"auto\"] = X_train[\"auto\"].replace(\"Пропуск поля\", \"Нет\", regex=True)"
   ]
  },
  {
   "cell_type": "code",
   "execution_count": 29,
   "id": "89f8a4ed",
   "metadata": {},
   "outputs": [],
   "source": [
    "X_test[\"auto\"] = X_test[\"auto\"].replace(\"Пропуск поля\", \"Нет\", regex=True)"
   ]
  },
  {
   "cell_type": "markdown",
   "id": "5f11d915",
   "metadata": {},
   "source": [
    "**Исходим из худших финансовых гарантий и меняем значение колонки \"housing\" с 'Пропуск поля' на 'Арендуемое'**"
   ]
  },
  {
   "cell_type": "code",
   "execution_count": 30,
   "id": "ab59fe19",
   "metadata": {},
   "outputs": [],
   "source": [
    "X_train[\"housing\"] = X_train[\"housing\"].replace(\"Пропуск поля\", \"Арендуемое\", regex=True)"
   ]
  },
  {
   "cell_type": "code",
   "execution_count": 31,
   "id": "c5cc3200",
   "metadata": {},
   "outputs": [],
   "source": [
    "X_test[\"housing\"] = X_test[\"housing\"].replace(\"Пропуск поля\", \"Арендуемое\", regex=True)"
   ]
  },
  {
   "cell_type": "code",
   "execution_count": 32,
   "id": "99acb590",
   "metadata": {},
   "outputs": [],
   "source": [
    "X_train.loc[df[\"children\"] == \"Да\", \"marstatus\"] = \"Гражданский брак/женат/замужем\""
   ]
  },
  {
   "cell_type": "code",
   "execution_count": 33,
   "id": "d261072d",
   "metadata": {},
   "outputs": [],
   "source": [
    "X_train[\"marstatus\"] = X_train[\"marstatus\"].replace(\"Пропуск поля\", \"Разведен\", regex=True)"
   ]
  },
  {
   "cell_type": "code",
   "execution_count": 34,
   "id": "42d5966e",
   "metadata": {},
   "outputs": [],
   "source": [
    "X_test[\"marstatus\"] = X_test[\"marstatus\"].replace(\"Пропуск поля\", \"Разведен\", regex=True)"
   ]
  },
  {
   "cell_type": "code",
   "execution_count": 35,
   "id": "b28e9110",
   "metadata": {},
   "outputs": [],
   "source": [
    "X_train[\"credits\"] = X_train[\"credits\"].replace(\"Пропуск поля\", \"Да\", regex=True)"
   ]
  },
  {
   "cell_type": "code",
   "execution_count": 36,
   "id": "69b74bd3",
   "metadata": {},
   "outputs": [],
   "source": [
    "X_test[\"credits\"] = X_test[\"credits\"].replace(\"Пропуск поля\", \"Да\", regex=True)"
   ]
  },
  {
   "cell_type": "code",
   "execution_count": 37,
   "id": "28cd254b",
   "metadata": {},
   "outputs": [],
   "source": [
    "X_train[\"children\"] = X_train[\"children\"].replace(\"Пропуск поля\", \"Да\", regex=True)"
   ]
  },
  {
   "cell_type": "code",
   "execution_count": 38,
   "id": "2e186a68",
   "metadata": {},
   "outputs": [],
   "source": [
    "X_test[\"children\"] = X_test[\"children\"].replace(\"Пропуск поля\", \"Да\", regex=True)"
   ]
  },
  {
   "cell_type": "code",
   "execution_count": 39,
   "id": "882da59a",
   "metadata": {},
   "outputs": [],
   "source": [
    "X_train[\"credits\"] = X_train[\"credits\"].replace(\"Да\", 1 , regex=True)\n",
    "X_train[\"credits\"] = X_train[\"credits\"].replace(\"Нет\", 0 , regex=True)"
   ]
  },
  {
   "cell_type": "code",
   "execution_count": 40,
   "id": "12e88723",
   "metadata": {},
   "outputs": [],
   "source": [
    "X_test[\"credits\"] = X_test[\"credits\"].replace(\"Да\", 1 , regex=True)\n",
    "X_test[\"credits\"] = X_test[\"credits\"].replace(\"Нет\", 0 , regex=True)"
   ]
  },
  {
   "cell_type": "code",
   "execution_count": 41,
   "id": "f576338d",
   "metadata": {},
   "outputs": [],
   "source": [
    "X_train[\"regclient\"] = X_train[\"regclient\"].replace(\"Нет\", 0 , regex=True)\n",
    "X_train[\"regclient\"] = X_train[\"regclient\"].replace(\"Да\", 1 , regex=True)"
   ]
  },
  {
   "cell_type": "code",
   "execution_count": 42,
   "id": "7c1fa8e1",
   "metadata": {},
   "outputs": [],
   "source": [
    "X_test[\"regclient\"] = X_test[\"regclient\"].replace(\"Нет\", 0 , regex=True)\n",
    "X_test[\"regclient\"] = X_test[\"regclient\"].replace(\"Да\", 1 , regex=True)"
   ]
  },
  {
   "cell_type": "code",
   "execution_count": 43,
   "id": "a4ed3db7",
   "metadata": {},
   "outputs": [],
   "source": [
    "X_train[\"auto\"] = X_train[\"auto\"].replace(\"Нет\", 0 , regex=True)\n",
    "X_train[\"auto\"] = X_train[\"auto\"].replace(\"Да\", 1 , regex=True)"
   ]
  },
  {
   "cell_type": "code",
   "execution_count": 44,
   "id": "6deaf1fd",
   "metadata": {},
   "outputs": [],
   "source": [
    "X_test[\"auto\"] = X_test[\"auto\"].replace(\"Нет\", 0 , regex=True)\n",
    "X_test[\"auto\"] = X_test[\"auto\"].replace(\"Да\", 1 , regex=True)"
   ]
  },
  {
   "cell_type": "code",
   "execution_count": 45,
   "id": "1001c0d2",
   "metadata": {},
   "outputs": [],
   "source": [
    "X_train[\"children\"] = X_train[\"children\"].replace(\"Нет\", 0 , regex=True)\n",
    "X_train[\"children\"] = X_train[\"children\"].replace(\"Да\", 1 , regex=True)"
   ]
  },
  {
   "cell_type": "code",
   "execution_count": 46,
   "id": "ede04879",
   "metadata": {},
   "outputs": [],
   "source": [
    "X_test[\"children\"] = X_test[\"children\"].replace(\"Нет\", 0 , regex=True)\n",
    "X_test[\"children\"] = X_test[\"children\"].replace(\"Да\", 1 , regex=True)"
   ]
  },
  {
   "cell_type": "code",
   "execution_count": 47,
   "id": "44df446f",
   "metadata": {},
   "outputs": [
    {
     "data": {
      "text/html": [
       "<div>\n",
       "<style scoped>\n",
       "    .dataframe tbody tr th:only-of-type {\n",
       "        vertical-align: middle;\n",
       "    }\n",
       "\n",
       "    .dataframe tbody tr th {\n",
       "        vertical-align: top;\n",
       "    }\n",
       "\n",
       "    .dataframe thead th {\n",
       "        text-align: right;\n",
       "    }\n",
       "</style>\n",
       "<table border=\"1\" class=\"dataframe\">\n",
       "  <thead>\n",
       "    <tr style=\"text-align: right;\">\n",
       "      <th></th>\n",
       "      <th>id</th>\n",
       "      <th>date_start</th>\n",
       "      <th>date_end</th>\n",
       "      <th>gender</th>\n",
       "      <th>age</th>\n",
       "      <th>auto</th>\n",
       "      <th>housing</th>\n",
       "      <th>marstatus</th>\n",
       "      <th>regclient</th>\n",
       "      <th>region</th>\n",
       "      <th>credits</th>\n",
       "      <th>children</th>\n",
       "    </tr>\n",
       "  </thead>\n",
       "  <tbody>\n",
       "    <tr>\n",
       "      <th>7929</th>\n",
       "      <td>7930</td>\n",
       "      <td>06-May-2013</td>\n",
       "      <td>20-May-2013</td>\n",
       "      <td>Мужской</td>\n",
       "      <td>27</td>\n",
       "      <td>0</td>\n",
       "      <td>Собственное</td>\n",
       "      <td>Разведен</td>\n",
       "      <td>0</td>\n",
       "      <td>Кемеровская область юг</td>\n",
       "      <td>1</td>\n",
       "      <td>1</td>\n",
       "    </tr>\n",
       "    <tr>\n",
       "      <th>8016</th>\n",
       "      <td>8017</td>\n",
       "      <td>07-May-2013</td>\n",
       "      <td>05-Jun-2013</td>\n",
       "      <td>Женский</td>\n",
       "      <td>21</td>\n",
       "      <td>0</td>\n",
       "      <td>Собственное</td>\n",
       "      <td>Холост</td>\n",
       "      <td>0</td>\n",
       "      <td>Алтайский край</td>\n",
       "      <td>0</td>\n",
       "      <td>0</td>\n",
       "    </tr>\n",
       "    <tr>\n",
       "      <th>29404</th>\n",
       "      <td>29405</td>\n",
       "      <td>04-Dec-2013</td>\n",
       "      <td>18-Dec-2013</td>\n",
       "      <td>Мужской</td>\n",
       "      <td>27</td>\n",
       "      <td>0</td>\n",
       "      <td>Долевая собственность</td>\n",
       "      <td>Гражданский брак/женат/замужем</td>\n",
       "      <td>1</td>\n",
       "      <td>Кемеровская область юг</td>\n",
       "      <td>1</td>\n",
       "      <td>0</td>\n",
       "    </tr>\n",
       "    <tr>\n",
       "      <th>29339</th>\n",
       "      <td>29340</td>\n",
       "      <td>04-Dec-2013</td>\n",
       "      <td>13-Dec-2013</td>\n",
       "      <td>Женский</td>\n",
       "      <td>57</td>\n",
       "      <td>0</td>\n",
       "      <td>Муниципальное</td>\n",
       "      <td>Холост</td>\n",
       "      <td>1</td>\n",
       "      <td>Новосибирская область</td>\n",
       "      <td>1</td>\n",
       "      <td>0</td>\n",
       "    </tr>\n",
       "    <tr>\n",
       "      <th>9963</th>\n",
       "      <td>9964</td>\n",
       "      <td>29-May-2013</td>\n",
       "      <td>12-Jun-2013</td>\n",
       "      <td>Мужской</td>\n",
       "      <td>40</td>\n",
       "      <td>0</td>\n",
       "      <td>Собственное</td>\n",
       "      <td>Гражданский брак/женат/замужем</td>\n",
       "      <td>0</td>\n",
       "      <td>Алтайский край</td>\n",
       "      <td>0</td>\n",
       "      <td>0</td>\n",
       "    </tr>\n",
       "  </tbody>\n",
       "</table>\n",
       "</div>"
      ],
      "text/plain": [
       "          id   date_start     date_end   gender  age  auto  \\\n",
       "7929    7930  06-May-2013  20-May-2013  Мужской   27     0   \n",
       "8016    8017  07-May-2013  05-Jun-2013  Женский   21     0   \n",
       "29404  29405  04-Dec-2013  18-Dec-2013  Мужской   27     0   \n",
       "29339  29340  04-Dec-2013  13-Dec-2013  Женский   57     0   \n",
       "9963    9964  29-May-2013  12-Jun-2013  Мужской   40     0   \n",
       "\n",
       "                     housing                       marstatus  regclient  \\\n",
       "7929             Собственное                        Разведен          0   \n",
       "8016             Собственное                          Холост          0   \n",
       "29404  Долевая собственность  Гражданский брак/женат/замужем          1   \n",
       "29339          Муниципальное                          Холост          1   \n",
       "9963             Собственное  Гражданский брак/женат/замужем          0   \n",
       "\n",
       "                       region  credits  children  \n",
       "7929   Кемеровская область юг        1         1  \n",
       "8016           Алтайский край        0         0  \n",
       "29404  Кемеровская область юг        1         0  \n",
       "29339   Новосибирская область        1         0  \n",
       "9963           Алтайский край        0         0  "
      ]
     },
     "execution_count": 47,
     "metadata": {},
     "output_type": "execute_result"
    }
   ],
   "source": [
    "X_train.head(5)"
   ]
  },
  {
   "cell_type": "markdown",
   "id": "5b5c5ec1",
   "metadata": {},
   "source": [
    "# Удалить дубликаты"
   ]
  },
  {
   "cell_type": "code",
   "execution_count": 48,
   "id": "6669f74a",
   "metadata": {},
   "outputs": [],
   "source": [
    "column_names = ['date_start', 'date_end', 'gender', 'age', 'auto', 'marstatus', 'housing', 'region', 'regclient', 'credits']"
   ]
  },
  {
   "cell_type": "code",
   "execution_count": 49,
   "id": "a594490b",
   "metadata": {},
   "outputs": [],
   "source": [
    "duplicates = X_train.duplicated(subset=column_names, keep=False)"
   ]
  },
  {
   "cell_type": "code",
   "execution_count": 50,
   "id": "e1e0a6eb",
   "metadata": {},
   "outputs": [
    {
     "data": {
      "text/html": [
       "<div>\n",
       "<style scoped>\n",
       "    .dataframe tbody tr th:only-of-type {\n",
       "        vertical-align: middle;\n",
       "    }\n",
       "\n",
       "    .dataframe tbody tr th {\n",
       "        vertical-align: top;\n",
       "    }\n",
       "\n",
       "    .dataframe thead th {\n",
       "        text-align: right;\n",
       "    }\n",
       "</style>\n",
       "<table border=\"1\" class=\"dataframe\">\n",
       "  <thead>\n",
       "    <tr style=\"text-align: right;\">\n",
       "      <th></th>\n",
       "      <th>id</th>\n",
       "      <th>date_start</th>\n",
       "      <th>date_end</th>\n",
       "      <th>gender</th>\n",
       "      <th>age</th>\n",
       "      <th>auto</th>\n",
       "      <th>housing</th>\n",
       "      <th>marstatus</th>\n",
       "      <th>regclient</th>\n",
       "      <th>region</th>\n",
       "      <th>credits</th>\n",
       "      <th>children</th>\n",
       "    </tr>\n",
       "  </thead>\n",
       "  <tbody>\n",
       "    <tr>\n",
       "      <th>1857</th>\n",
       "      <td>1858</td>\n",
       "      <td>13-Feb-2013</td>\n",
       "      <td>27-Feb-2013</td>\n",
       "      <td>Мужской</td>\n",
       "      <td>23</td>\n",
       "      <td>0</td>\n",
       "      <td>Живут с родителями</td>\n",
       "      <td>Холост</td>\n",
       "      <td>0</td>\n",
       "      <td>Кемеровская область юг</td>\n",
       "      <td>0</td>\n",
       "      <td>0</td>\n",
       "    </tr>\n",
       "    <tr>\n",
       "      <th>1895</th>\n",
       "      <td>1896</td>\n",
       "      <td>13-Feb-2013</td>\n",
       "      <td>27-Feb-2013</td>\n",
       "      <td>Мужской</td>\n",
       "      <td>23</td>\n",
       "      <td>0</td>\n",
       "      <td>Живут с родителями</td>\n",
       "      <td>Холост</td>\n",
       "      <td>0</td>\n",
       "      <td>Кемеровская область юг</td>\n",
       "      <td>0</td>\n",
       "      <td>0</td>\n",
       "    </tr>\n",
       "    <tr>\n",
       "      <th>2675</th>\n",
       "      <td>2676</td>\n",
       "      <td>28-Feb-2013</td>\n",
       "      <td>14-Mar-2013</td>\n",
       "      <td>Мужской</td>\n",
       "      <td>26</td>\n",
       "      <td>1</td>\n",
       "      <td>Собственное</td>\n",
       "      <td>Гражданский брак/женат/замужем</td>\n",
       "      <td>0</td>\n",
       "      <td>Кемеровская область юг</td>\n",
       "      <td>1</td>\n",
       "      <td>1</td>\n",
       "    </tr>\n",
       "    <tr>\n",
       "      <th>2709</th>\n",
       "      <td>2710</td>\n",
       "      <td>28-Feb-2013</td>\n",
       "      <td>14-Mar-2013</td>\n",
       "      <td>Мужской</td>\n",
       "      <td>26</td>\n",
       "      <td>1</td>\n",
       "      <td>Собственное</td>\n",
       "      <td>Гражданский брак/женат/замужем</td>\n",
       "      <td>0</td>\n",
       "      <td>Кемеровская область юг</td>\n",
       "      <td>1</td>\n",
       "      <td>1</td>\n",
       "    </tr>\n",
       "    <tr>\n",
       "      <th>2730</th>\n",
       "      <td>2731</td>\n",
       "      <td>01-Mar-2013</td>\n",
       "      <td>15-Mar-2013</td>\n",
       "      <td>Мужской</td>\n",
       "      <td>26</td>\n",
       "      <td>1</td>\n",
       "      <td>Собственное</td>\n",
       "      <td>Гражданский брак/женат/замужем</td>\n",
       "      <td>0</td>\n",
       "      <td>Кемеровская область юг</td>\n",
       "      <td>1</td>\n",
       "      <td>0</td>\n",
       "    </tr>\n",
       "    <tr>\n",
       "      <th>...</th>\n",
       "      <td>...</td>\n",
       "      <td>...</td>\n",
       "      <td>...</td>\n",
       "      <td>...</td>\n",
       "      <td>...</td>\n",
       "      <td>...</td>\n",
       "      <td>...</td>\n",
       "      <td>...</td>\n",
       "      <td>...</td>\n",
       "      <td>...</td>\n",
       "      <td>...</td>\n",
       "      <td>...</td>\n",
       "    </tr>\n",
       "    <tr>\n",
       "      <th>34697</th>\n",
       "      <td>34698</td>\n",
       "      <td>30-Dec-2013</td>\n",
       "      <td>13-Jan-2014</td>\n",
       "      <td>Женский</td>\n",
       "      <td>35</td>\n",
       "      <td>0</td>\n",
       "      <td>Собственное</td>\n",
       "      <td>Гражданский брак/женат/замужем</td>\n",
       "      <td>1</td>\n",
       "      <td>Кемеровская область север</td>\n",
       "      <td>1</td>\n",
       "      <td>1</td>\n",
       "    </tr>\n",
       "    <tr>\n",
       "      <th>34793</th>\n",
       "      <td>34794</td>\n",
       "      <td>31-Dec-2013</td>\n",
       "      <td>14-Jan-2014</td>\n",
       "      <td>Мужской</td>\n",
       "      <td>38</td>\n",
       "      <td>0</td>\n",
       "      <td>Собственное</td>\n",
       "      <td>Гражданский брак/женат/замужем</td>\n",
       "      <td>0</td>\n",
       "      <td>Кемеровская область юг</td>\n",
       "      <td>0</td>\n",
       "      <td>1</td>\n",
       "    </tr>\n",
       "    <tr>\n",
       "      <th>34816</th>\n",
       "      <td>34817</td>\n",
       "      <td>31-Dec-2013</td>\n",
       "      <td>14-Jan-2014</td>\n",
       "      <td>Мужской</td>\n",
       "      <td>38</td>\n",
       "      <td>0</td>\n",
       "      <td>Собственное</td>\n",
       "      <td>Гражданский брак/женат/замужем</td>\n",
       "      <td>0</td>\n",
       "      <td>Кемеровская область юг</td>\n",
       "      <td>0</td>\n",
       "      <td>1</td>\n",
       "    </tr>\n",
       "    <tr>\n",
       "      <th>35075</th>\n",
       "      <td>35076</td>\n",
       "      <td>03-Jan-2014</td>\n",
       "      <td>17-Jan-2014</td>\n",
       "      <td>Женский</td>\n",
       "      <td>35</td>\n",
       "      <td>0</td>\n",
       "      <td>Собственное</td>\n",
       "      <td>Гражданский брак/женат/замужем</td>\n",
       "      <td>1</td>\n",
       "      <td>Кемеровская область север</td>\n",
       "      <td>0</td>\n",
       "      <td>1</td>\n",
       "    </tr>\n",
       "    <tr>\n",
       "      <th>35114</th>\n",
       "      <td>35115</td>\n",
       "      <td>03-Jan-2014</td>\n",
       "      <td>17-Jan-2014</td>\n",
       "      <td>Женский</td>\n",
       "      <td>35</td>\n",
       "      <td>0</td>\n",
       "      <td>Собственное</td>\n",
       "      <td>Гражданский брак/женат/замужем</td>\n",
       "      <td>1</td>\n",
       "      <td>Кемеровская область север</td>\n",
       "      <td>0</td>\n",
       "      <td>1</td>\n",
       "    </tr>\n",
       "  </tbody>\n",
       "</table>\n",
       "<p>171 rows × 12 columns</p>\n",
       "</div>"
      ],
      "text/plain": [
       "          id   date_start     date_end   gender  age  auto  \\\n",
       "1857    1858  13-Feb-2013  27-Feb-2013  Мужской   23     0   \n",
       "1895    1896  13-Feb-2013  27-Feb-2013  Мужской   23     0   \n",
       "2675    2676  28-Feb-2013  14-Mar-2013  Мужской   26     1   \n",
       "2709    2710  28-Feb-2013  14-Mar-2013  Мужской   26     1   \n",
       "2730    2731  01-Mar-2013  15-Mar-2013  Мужской   26     1   \n",
       "...      ...          ...          ...      ...  ...   ...   \n",
       "34697  34698  30-Dec-2013  13-Jan-2014  Женский   35     0   \n",
       "34793  34794  31-Dec-2013  14-Jan-2014  Мужской   38     0   \n",
       "34816  34817  31-Dec-2013  14-Jan-2014  Мужской   38     0   \n",
       "35075  35076  03-Jan-2014  17-Jan-2014  Женский   35     0   \n",
       "35114  35115  03-Jan-2014  17-Jan-2014  Женский   35     0   \n",
       "\n",
       "                  housing                       marstatus  regclient  \\\n",
       "1857   Живут с родителями                          Холост          0   \n",
       "1895   Живут с родителями                          Холост          0   \n",
       "2675          Собственное  Гражданский брак/женат/замужем          0   \n",
       "2709          Собственное  Гражданский брак/женат/замужем          0   \n",
       "2730          Собственное  Гражданский брак/женат/замужем          0   \n",
       "...                   ...                             ...        ...   \n",
       "34697         Собственное  Гражданский брак/женат/замужем          1   \n",
       "34793         Собственное  Гражданский брак/женат/замужем          0   \n",
       "34816         Собственное  Гражданский брак/женат/замужем          0   \n",
       "35075         Собственное  Гражданский брак/женат/замужем          1   \n",
       "35114         Собственное  Гражданский брак/женат/замужем          1   \n",
       "\n",
       "                          region  credits  children  \n",
       "1857      Кемеровская область юг        0         0  \n",
       "1895      Кемеровская область юг        0         0  \n",
       "2675      Кемеровская область юг        1         1  \n",
       "2709      Кемеровская область юг        1         1  \n",
       "2730      Кемеровская область юг        1         0  \n",
       "...                          ...      ...       ...  \n",
       "34697  Кемеровская область север        1         1  \n",
       "34793     Кемеровская область юг        0         1  \n",
       "34816     Кемеровская область юг        0         1  \n",
       "35075  Кемеровская область север        0         1  \n",
       "35114  Кемеровская область север        0         1  \n",
       "\n",
       "[171 rows x 12 columns]"
      ]
     },
     "execution_count": 50,
     "metadata": {},
     "output_type": "execute_result"
    }
   ],
   "source": [
    "X_train[duplicates].sort_values(by='id')"
   ]
  },
  {
   "cell_type": "code",
   "execution_count": 51,
   "id": "1670dcdd",
   "metadata": {},
   "outputs": [],
   "source": [
    "X_train.drop_duplicates(subset=column_names, keep=False, inplace=True)"
   ]
  },
  {
   "cell_type": "code",
   "execution_count": 52,
   "id": "62ee3a65",
   "metadata": {},
   "outputs": [
    {
     "name": "stdout",
     "output_type": "stream",
     "text": [
      "<class 'pandas.core.frame.DataFrame'>\n",
      "Int64Index: 19998 entries, 7929 to 9748\n",
      "Data columns (total 12 columns):\n",
      " #   Column      Non-Null Count  Dtype \n",
      "---  ------      --------------  ----- \n",
      " 0   id          19998 non-null  int64 \n",
      " 1   date_start  19998 non-null  object\n",
      " 2   date_end    19998 non-null  object\n",
      " 3   gender      19998 non-null  object\n",
      " 4   age         19998 non-null  int64 \n",
      " 5   auto        19998 non-null  int64 \n",
      " 6   housing     19998 non-null  object\n",
      " 7   marstatus   19998 non-null  object\n",
      " 8   regclient   19998 non-null  int64 \n",
      " 9   region      19998 non-null  object\n",
      " 10  credits     19998 non-null  int64 \n",
      " 11  children    19998 non-null  int64 \n",
      "dtypes: int64(6), object(6)\n",
      "memory usage: 2.0+ MB\n"
     ]
    }
   ],
   "source": [
    "X_train.info()"
   ]
  },
  {
   "cell_type": "markdown",
   "id": "d419980c",
   "metadata": {},
   "source": [
    "# Проанализировать выбросы"
   ]
  },
  {
   "cell_type": "code",
   "execution_count": 53,
   "id": "087e8558",
   "metadata": {},
   "outputs": [
    {
     "data": {
      "text/plain": [
       "<AxesSubplot:>"
      ]
     },
     "execution_count": 53,
     "metadata": {},
     "output_type": "execute_result"
    },
    {
     "data": {
      "image/png": "[encoded data removed]",
      "text/plain": [
       "<Figure size 432x288 with 1 Axes>"
      ]
     },
     "metadata": {
      "needs_background": "light"
     },
     "output_type": "display_data"
    }
   ],
   "source": [
    "sns.boxplot(data=X_train['age'], width=0.8)"
   ]
  },
  {
   "cell_type": "markdown",
   "id": "61e1639f",
   "metadata": {},
   "source": [
    "**Выбросов нет**"
   ]
  },
  {
   "cell_type": "markdown",
   "id": "eeecf805",
   "metadata": {},
   "source": [
    "# Cоздать/ удалить переменные"
   ]
  },
  {
   "cell_type": "code",
   "execution_count": 54,
   "id": "21dfe1fd",
   "metadata": {},
   "outputs": [],
   "source": [
    "import datetime as dt"
   ]
  },
  {
   "cell_type": "code",
   "execution_count": 55,
   "id": "77c456ce",
   "metadata": {},
   "outputs": [],
   "source": [
    "X_train['date_start'] = pd.to_datetime(X_train['date_start']).dt.date"
   ]
  },
  {
   "cell_type": "code",
   "execution_count": 56,
   "id": "43babc5d",
   "metadata": {},
   "outputs": [],
   "source": [
    "X_test['date_start'] = pd.to_datetime(X_test['date_start']).dt.date"
   ]
  },
  {
   "cell_type": "code",
   "execution_count": 57,
   "id": "8f8bc296",
   "metadata": {},
   "outputs": [],
   "source": [
    "X_train['date_end'] = pd.to_datetime(X_train['date_end']).dt.date"
   ]
  },
  {
   "cell_type": "code",
   "execution_count": 58,
   "id": "beaab28d",
   "metadata": {},
   "outputs": [],
   "source": [
    "X_test['date_end'] = pd.to_datetime(X_test['date_end']).dt.date"
   ]
  },
  {
   "cell_type": "code",
   "execution_count": 59,
   "id": "3584d123",
   "metadata": {},
   "outputs": [],
   "source": [
    "X_train['delta'] = (X_train['date_end'] - X_train['date_start']).dt.days"
   ]
  },
  {
   "cell_type": "code",
   "execution_count": 60,
   "id": "64b0c6a1",
   "metadata": {},
   "outputs": [],
   "source": [
    "X_test['delta'] = (X_test['date_end'] - X_test['date_start']).dt.days"
   ]
  },
  {
   "cell_type": "code",
   "execution_count": 61,
   "id": "fef7475e",
   "metadata": {},
   "outputs": [],
   "source": [
    "X_train = X_train.drop(['date_start'], axis=1)"
   ]
  },
  {
   "cell_type": "code",
   "execution_count": 62,
   "id": "d12b258c",
   "metadata": {},
   "outputs": [],
   "source": [
    "X_test = X_test.drop(['date_start'], axis=1)"
   ]
  },
  {
   "cell_type": "code",
   "execution_count": 63,
   "id": "27e75934",
   "metadata": {},
   "outputs": [],
   "source": [
    "X_train = X_train.drop(['date_end'], axis=1)"
   ]
  },
  {
   "cell_type": "code",
   "execution_count": 64,
   "id": "47d15df0",
   "metadata": {},
   "outputs": [],
   "source": [
    "X_test = X_test.drop(['date_end'], axis=1)"
   ]
  },
  {
   "cell_type": "code",
   "execution_count": 65,
   "id": "2d57e76b",
   "metadata": {},
   "outputs": [
    {
     "data": {
      "text/html": [
       "<div>\n",
       "<style scoped>\n",
       "    .dataframe tbody tr th:only-of-type {\n",
       "        vertical-align: middle;\n",
       "    }\n",
       "\n",
       "    .dataframe tbody tr th {\n",
       "        vertical-align: top;\n",
       "    }\n",
       "\n",
       "    .dataframe thead th {\n",
       "        text-align: right;\n",
       "    }\n",
       "</style>\n",
       "<table border=\"1\" class=\"dataframe\">\n",
       "  <thead>\n",
       "    <tr style=\"text-align: right;\">\n",
       "      <th></th>\n",
       "      <th>id</th>\n",
       "      <th>gender</th>\n",
       "      <th>age</th>\n",
       "      <th>auto</th>\n",
       "      <th>housing</th>\n",
       "      <th>marstatus</th>\n",
       "      <th>regclient</th>\n",
       "      <th>region</th>\n",
       "      <th>credits</th>\n",
       "      <th>children</th>\n",
       "      <th>delta</th>\n",
       "    </tr>\n",
       "  </thead>\n",
       "  <tbody>\n",
       "    <tr>\n",
       "      <th>7929</th>\n",
       "      <td>7930</td>\n",
       "      <td>Мужской</td>\n",
       "      <td>27</td>\n",
       "      <td>0</td>\n",
       "      <td>Собственное</td>\n",
       "      <td>Разведен</td>\n",
       "      <td>0</td>\n",
       "      <td>Кемеровская область юг</td>\n",
       "      <td>1</td>\n",
       "      <td>1</td>\n",
       "      <td>14</td>\n",
       "    </tr>\n",
       "    <tr>\n",
       "      <th>8016</th>\n",
       "      <td>8017</td>\n",
       "      <td>Женский</td>\n",
       "      <td>21</td>\n",
       "      <td>0</td>\n",
       "      <td>Собственное</td>\n",
       "      <td>Холост</td>\n",
       "      <td>0</td>\n",
       "      <td>Алтайский край</td>\n",
       "      <td>0</td>\n",
       "      <td>0</td>\n",
       "      <td>29</td>\n",
       "    </tr>\n",
       "    <tr>\n",
       "      <th>29404</th>\n",
       "      <td>29405</td>\n",
       "      <td>Мужской</td>\n",
       "      <td>27</td>\n",
       "      <td>0</td>\n",
       "      <td>Долевая собственность</td>\n",
       "      <td>Гражданский брак/женат/замужем</td>\n",
       "      <td>1</td>\n",
       "      <td>Кемеровская область юг</td>\n",
       "      <td>1</td>\n",
       "      <td>0</td>\n",
       "      <td>14</td>\n",
       "    </tr>\n",
       "    <tr>\n",
       "      <th>29339</th>\n",
       "      <td>29340</td>\n",
       "      <td>Женский</td>\n",
       "      <td>57</td>\n",
       "      <td>0</td>\n",
       "      <td>Муниципальное</td>\n",
       "      <td>Холост</td>\n",
       "      <td>1</td>\n",
       "      <td>Новосибирская область</td>\n",
       "      <td>1</td>\n",
       "      <td>0</td>\n",
       "      <td>9</td>\n",
       "    </tr>\n",
       "    <tr>\n",
       "      <th>9963</th>\n",
       "      <td>9964</td>\n",
       "      <td>Мужской</td>\n",
       "      <td>40</td>\n",
       "      <td>0</td>\n",
       "      <td>Собственное</td>\n",
       "      <td>Гражданский брак/женат/замужем</td>\n",
       "      <td>0</td>\n",
       "      <td>Алтайский край</td>\n",
       "      <td>0</td>\n",
       "      <td>0</td>\n",
       "      <td>14</td>\n",
       "    </tr>\n",
       "    <tr>\n",
       "      <th>...</th>\n",
       "      <td>...</td>\n",
       "      <td>...</td>\n",
       "      <td>...</td>\n",
       "      <td>...</td>\n",
       "      <td>...</td>\n",
       "      <td>...</td>\n",
       "      <td>...</td>\n",
       "      <td>...</td>\n",
       "      <td>...</td>\n",
       "      <td>...</td>\n",
       "      <td>...</td>\n",
       "    </tr>\n",
       "    <tr>\n",
       "      <th>26418</th>\n",
       "      <td>26419</td>\n",
       "      <td>Мужской</td>\n",
       "      <td>23</td>\n",
       "      <td>1</td>\n",
       "      <td>Живут с родителями</td>\n",
       "      <td>Холост</td>\n",
       "      <td>0</td>\n",
       "      <td>Красноярский край</td>\n",
       "      <td>1</td>\n",
       "      <td>0</td>\n",
       "      <td>14</td>\n",
       "    </tr>\n",
       "    <tr>\n",
       "      <th>27807</th>\n",
       "      <td>27808</td>\n",
       "      <td>Женский</td>\n",
       "      <td>40</td>\n",
       "      <td>0</td>\n",
       "      <td>Собственное</td>\n",
       "      <td>Гражданский брак/женат/замужем</td>\n",
       "      <td>1</td>\n",
       "      <td>Алтайский край</td>\n",
       "      <td>1</td>\n",
       "      <td>1</td>\n",
       "      <td>14</td>\n",
       "    </tr>\n",
       "    <tr>\n",
       "      <th>1216</th>\n",
       "      <td>1217</td>\n",
       "      <td>Женский</td>\n",
       "      <td>38</td>\n",
       "      <td>0</td>\n",
       "      <td>Собственное</td>\n",
       "      <td>Гражданский брак/женат/замужем</td>\n",
       "      <td>0</td>\n",
       "      <td>Кемеровская область север</td>\n",
       "      <td>1</td>\n",
       "      <td>1</td>\n",
       "      <td>14</td>\n",
       "    </tr>\n",
       "    <tr>\n",
       "      <th>11556</th>\n",
       "      <td>11557</td>\n",
       "      <td>Мужской</td>\n",
       "      <td>65</td>\n",
       "      <td>1</td>\n",
       "      <td>Собственное</td>\n",
       "      <td>Вдова/вдовец</td>\n",
       "      <td>1</td>\n",
       "      <td>Алтайский край</td>\n",
       "      <td>0</td>\n",
       "      <td>0</td>\n",
       "      <td>29</td>\n",
       "    </tr>\n",
       "    <tr>\n",
       "      <th>9748</th>\n",
       "      <td>9749</td>\n",
       "      <td>Мужской</td>\n",
       "      <td>24</td>\n",
       "      <td>0</td>\n",
       "      <td>Живут с родителями</td>\n",
       "      <td>Холост</td>\n",
       "      <td>1</td>\n",
       "      <td>Алтайский край</td>\n",
       "      <td>1</td>\n",
       "      <td>0</td>\n",
       "      <td>14</td>\n",
       "    </tr>\n",
       "  </tbody>\n",
       "</table>\n",
       "<p>19998 rows × 11 columns</p>\n",
       "</div>"
      ],
      "text/plain": [
       "          id   gender  age  auto                housing  \\\n",
       "7929    7930  Мужской   27     0            Собственное   \n",
       "8016    8017  Женский   21     0            Собственное   \n",
       "29404  29405  Мужской   27     0  Долевая собственность   \n",
       "29339  29340  Женский   57     0          Муниципальное   \n",
       "9963    9964  Мужской   40     0            Собственное   \n",
       "...      ...      ...  ...   ...                    ...   \n",
       "26418  26419  Мужской   23     1     Живут с родителями   \n",
       "27807  27808  Женский   40     0            Собственное   \n",
       "1216    1217  Женский   38     0            Собственное   \n",
       "11556  11557  Мужской   65     1            Собственное   \n",
       "9748    9749  Мужской   24     0     Живут с родителями   \n",
       "\n",
       "                            marstatus  regclient                     region  \\\n",
       "7929                         Разведен          0     Кемеровская область юг   \n",
       "8016                           Холост          0             Алтайский край   \n",
       "29404  Гражданский брак/женат/замужем          1     Кемеровская область юг   \n",
       "29339                          Холост          1      Новосибирская область   \n",
       "9963   Гражданский брак/женат/замужем          0             Алтайский край   \n",
       "...                               ...        ...                        ...   \n",
       "26418                          Холост          0          Красноярский край   \n",
       "27807  Гражданский брак/женат/замужем          1             Алтайский край   \n",
       "1216   Гражданский брак/женат/замужем          0  Кемеровская область север   \n",
       "11556                    Вдова/вдовец          1             Алтайский край   \n",
       "9748                           Холост          1             Алтайский край   \n",
       "\n",
       "       credits  children  delta  \n",
       "7929         1         1     14  \n",
       "8016         0         0     29  \n",
       "29404        1         0     14  \n",
       "29339        1         0      9  \n",
       "9963         0         0     14  \n",
       "...        ...       ...    ...  \n",
       "26418        1         0     14  \n",
       "27807        1         1     14  \n",
       "1216         1         1     14  \n",
       "11556        0         0     29  \n",
       "9748         1         0     14  \n",
       "\n",
       "[19998 rows x 11 columns]"
      ]
     },
     "execution_count": 65,
     "metadata": {},
     "output_type": "execute_result"
    }
   ],
   "source": [
    "X_train"
   ]
  },
  {
   "cell_type": "code",
   "execution_count": 66,
   "id": "74a45b7d",
   "metadata": {},
   "outputs": [
    {
     "data": {
      "text/html": [
       "<div>\n",
       "<style scoped>\n",
       "    .dataframe tbody tr th:only-of-type {\n",
       "        vertical-align: middle;\n",
       "    }\n",
       "\n",
       "    .dataframe tbody tr th {\n",
       "        vertical-align: top;\n",
       "    }\n",
       "\n",
       "    .dataframe thead th {\n",
       "        text-align: right;\n",
       "    }\n",
       "</style>\n",
       "<table border=\"1\" class=\"dataframe\">\n",
       "  <thead>\n",
       "    <tr style=\"text-align: right;\">\n",
       "      <th></th>\n",
       "      <th>id</th>\n",
       "      <th>gender</th>\n",
       "      <th>age</th>\n",
       "      <th>auto</th>\n",
       "      <th>housing</th>\n",
       "      <th>marstatus</th>\n",
       "      <th>regclient</th>\n",
       "      <th>region</th>\n",
       "      <th>credits</th>\n",
       "      <th>children</th>\n",
       "      <th>delta</th>\n",
       "    </tr>\n",
       "  </thead>\n",
       "  <tbody>\n",
       "    <tr>\n",
       "      <th>5698</th>\n",
       "      <td>5699</td>\n",
       "      <td>Мужской</td>\n",
       "      <td>26</td>\n",
       "      <td>0</td>\n",
       "      <td>Арендуемое</td>\n",
       "      <td>Разведен</td>\n",
       "      <td>0</td>\n",
       "      <td>Алтайский край</td>\n",
       "      <td>1</td>\n",
       "      <td>1</td>\n",
       "      <td>14</td>\n",
       "    </tr>\n",
       "    <tr>\n",
       "      <th>15183</th>\n",
       "      <td>15184</td>\n",
       "      <td>Женский</td>\n",
       "      <td>34</td>\n",
       "      <td>0</td>\n",
       "      <td>Арендуемое</td>\n",
       "      <td>Разведен</td>\n",
       "      <td>1</td>\n",
       "      <td>Новосибирская область</td>\n",
       "      <td>1</td>\n",
       "      <td>1</td>\n",
       "      <td>14</td>\n",
       "    </tr>\n",
       "    <tr>\n",
       "      <th>7405</th>\n",
       "      <td>7406</td>\n",
       "      <td>Мужской</td>\n",
       "      <td>47</td>\n",
       "      <td>0</td>\n",
       "      <td>Собственное</td>\n",
       "      <td>Гражданский брак/женат/замужем</td>\n",
       "      <td>0</td>\n",
       "      <td>Кемеровская область север</td>\n",
       "      <td>0</td>\n",
       "      <td>0</td>\n",
       "      <td>9</td>\n",
       "    </tr>\n",
       "    <tr>\n",
       "      <th>29262</th>\n",
       "      <td>29263</td>\n",
       "      <td>Женский</td>\n",
       "      <td>60</td>\n",
       "      <td>0</td>\n",
       "      <td>Собственное</td>\n",
       "      <td>Холост</td>\n",
       "      <td>1</td>\n",
       "      <td>Красноярский край</td>\n",
       "      <td>1</td>\n",
       "      <td>0</td>\n",
       "      <td>29</td>\n",
       "    </tr>\n",
       "    <tr>\n",
       "      <th>17804</th>\n",
       "      <td>17805</td>\n",
       "      <td>Мужской</td>\n",
       "      <td>27</td>\n",
       "      <td>0</td>\n",
       "      <td>Арендуемое</td>\n",
       "      <td>Гражданский брак/женат/замужем</td>\n",
       "      <td>1</td>\n",
       "      <td>Новосибирская область</td>\n",
       "      <td>0</td>\n",
       "      <td>1</td>\n",
       "      <td>14</td>\n",
       "    </tr>\n",
       "    <tr>\n",
       "      <th>...</th>\n",
       "      <td>...</td>\n",
       "      <td>...</td>\n",
       "      <td>...</td>\n",
       "      <td>...</td>\n",
       "      <td>...</td>\n",
       "      <td>...</td>\n",
       "      <td>...</td>\n",
       "      <td>...</td>\n",
       "      <td>...</td>\n",
       "      <td>...</td>\n",
       "      <td>...</td>\n",
       "    </tr>\n",
       "    <tr>\n",
       "      <th>14745</th>\n",
       "      <td>14746</td>\n",
       "      <td>Женский</td>\n",
       "      <td>27</td>\n",
       "      <td>0</td>\n",
       "      <td>Собственное</td>\n",
       "      <td>Холост</td>\n",
       "      <td>1</td>\n",
       "      <td>Алтайский край</td>\n",
       "      <td>1</td>\n",
       "      <td>0</td>\n",
       "      <td>14</td>\n",
       "    </tr>\n",
       "    <tr>\n",
       "      <th>13672</th>\n",
       "      <td>13673</td>\n",
       "      <td>Мужской</td>\n",
       "      <td>31</td>\n",
       "      <td>0</td>\n",
       "      <td>Арендуемое</td>\n",
       "      <td>Разведен</td>\n",
       "      <td>1</td>\n",
       "      <td>Кемеровская область север</td>\n",
       "      <td>0</td>\n",
       "      <td>1</td>\n",
       "      <td>14</td>\n",
       "    </tr>\n",
       "    <tr>\n",
       "      <th>15581</th>\n",
       "      <td>15582</td>\n",
       "      <td>Женский</td>\n",
       "      <td>30</td>\n",
       "      <td>0</td>\n",
       "      <td>Арендуемое</td>\n",
       "      <td>Разведен</td>\n",
       "      <td>1</td>\n",
       "      <td>Кемеровская область юг</td>\n",
       "      <td>0</td>\n",
       "      <td>1</td>\n",
       "      <td>14</td>\n",
       "    </tr>\n",
       "    <tr>\n",
       "      <th>8023</th>\n",
       "      <td>8024</td>\n",
       "      <td>Женский</td>\n",
       "      <td>24</td>\n",
       "      <td>0</td>\n",
       "      <td>Собственное</td>\n",
       "      <td>Холост</td>\n",
       "      <td>0</td>\n",
       "      <td>Алтайский край</td>\n",
       "      <td>1</td>\n",
       "      <td>0</td>\n",
       "      <td>14</td>\n",
       "    </tr>\n",
       "    <tr>\n",
       "      <th>20298</th>\n",
       "      <td>20299</td>\n",
       "      <td>Женский</td>\n",
       "      <td>26</td>\n",
       "      <td>0</td>\n",
       "      <td>Арендуемое</td>\n",
       "      <td>Разведен</td>\n",
       "      <td>1</td>\n",
       "      <td>Кемеровская область юг</td>\n",
       "      <td>1</td>\n",
       "      <td>1</td>\n",
       "      <td>9</td>\n",
       "    </tr>\n",
       "  </tbody>\n",
       "</table>\n",
       "<p>10564 rows × 11 columns</p>\n",
       "</div>"
      ],
      "text/plain": [
       "          id   gender  age  auto      housing                       marstatus  \\\n",
       "5698    5699  Мужской   26     0   Арендуемое                        Разведен   \n",
       "15183  15184  Женский   34     0   Арендуемое                        Разведен   \n",
       "7405    7406  Мужской   47     0  Собственное  Гражданский брак/женат/замужем   \n",
       "29262  29263  Женский   60     0  Собственное                          Холост   \n",
       "17804  17805  Мужской   27     0   Арендуемое  Гражданский брак/женат/замужем   \n",
       "...      ...      ...  ...   ...          ...                             ...   \n",
       "14745  14746  Женский   27     0  Собственное                          Холост   \n",
       "13672  13673  Мужской   31     0   Арендуемое                        Разведен   \n",
       "15581  15582  Женский   30     0   Арендуемое                        Разведен   \n",
       "8023    8024  Женский   24     0  Собственное                          Холост   \n",
       "20298  20299  Женский   26     0   Арендуемое                        Разведен   \n",
       "\n",
       "       regclient                     region  credits  children  delta  \n",
       "5698           0             Алтайский край        1         1     14  \n",
       "15183          1      Новосибирская область        1         1     14  \n",
       "7405           0  Кемеровская область север        0         0      9  \n",
       "29262          1          Красноярский край        1         0     29  \n",
       "17804          1      Новосибирская область        0         1     14  \n",
       "...          ...                        ...      ...       ...    ...  \n",
       "14745          1             Алтайский край        1         0     14  \n",
       "13672          1  Кемеровская область север        0         1     14  \n",
       "15581          1     Кемеровская область юг        0         1     14  \n",
       "8023           0             Алтайский край        1         0     14  \n",
       "20298          1     Кемеровская область юг        1         1      9  \n",
       "\n",
       "[10564 rows x 11 columns]"
      ]
     },
     "execution_count": 66,
     "metadata": {},
     "output_type": "execute_result"
    }
   ],
   "source": [
    "X_test"
   ]
  },
  {
   "cell_type": "code",
   "execution_count": 67,
   "id": "956d5614",
   "metadata": {},
   "outputs": [
    {
     "data": {
      "text/plain": [
       "housing\n",
       "Муниципальное             400\n",
       "Долевая собственность     875\n",
       "Живут с родителями        941\n",
       "Арендуемое               2906\n",
       "Собственное              5442\n",
       "Name: id, dtype: int64"
      ]
     },
     "execution_count": 67,
     "metadata": {},
     "output_type": "execute_result"
    }
   ],
   "source": [
    "X_test.groupby(\"housing\")[\"id\"].count().sort_values()"
   ]
  },
  {
   "cell_type": "code",
   "execution_count": 68,
   "id": "2a9f42da",
   "metadata": {},
   "outputs": [
    {
     "data": {
      "text/plain": [
       "marstatus\n",
       "Вдова/вдовец                       561\n",
       "Холост                            2656\n",
       "Разведен                          3144\n",
       "Гражданский брак/женат/замужем    4203\n",
       "Name: id, dtype: int64"
      ]
     },
     "execution_count": 68,
     "metadata": {},
     "output_type": "execute_result"
    }
   ],
   "source": [
    "X_test.groupby(\"marstatus\")[\"id\"].count().sort_values()"
   ]
  },
  {
   "cell_type": "markdown",
   "id": "c58ccecb",
   "metadata": {},
   "source": [
    "# Закодировать категориальные переменные"
   ]
  },
  {
   "cell_type": "code",
   "execution_count": 69,
   "id": "a53bfe65",
   "metadata": {},
   "outputs": [],
   "source": [
    "X_train = pd.get_dummies(X_train\n",
    "               ,columns = ['gender']\n",
    "               ,prefix = 'gender'\n",
    "               )"
   ]
  },
  {
   "cell_type": "code",
   "execution_count": 70,
   "id": "4a521cb5",
   "metadata": {},
   "outputs": [],
   "source": [
    "X_test = pd.get_dummies(X_test\n",
    "               ,columns = ['gender']\n",
    "               ,prefix = 'gender'\n",
    "               )"
   ]
  },
  {
   "cell_type": "code",
   "execution_count": 71,
   "id": "b86cc7cd",
   "metadata": {},
   "outputs": [],
   "source": [
    "X_train = pd.get_dummies(X_train\n",
    "               ,columns = ['housing']\n",
    "               ,prefix = 'housing'\n",
    "               )"
   ]
  },
  {
   "cell_type": "code",
   "execution_count": 72,
   "id": "b01ac396",
   "metadata": {},
   "outputs": [],
   "source": [
    "X_test = pd.get_dummies(X_test\n",
    "               ,columns = ['housing']\n",
    "               ,prefix = 'housing'\n",
    "               )"
   ]
  },
  {
   "cell_type": "code",
   "execution_count": 73,
   "id": "22989516",
   "metadata": {},
   "outputs": [],
   "source": [
    "X_train = pd.get_dummies(X_train\n",
    "               ,columns = ['region']\n",
    "               ,prefix = 'region'\n",
    "               )"
   ]
  },
  {
   "cell_type": "code",
   "execution_count": 74,
   "id": "2d24397d",
   "metadata": {},
   "outputs": [],
   "source": [
    "X_test = pd.get_dummies(X_test\n",
    "               ,columns = ['region']\n",
    "               ,prefix = 'region'\n",
    "               )"
   ]
  },
  {
   "cell_type": "code",
   "execution_count": 75,
   "id": "7797ad92",
   "metadata": {},
   "outputs": [],
   "source": [
    "X_train = pd.get_dummies(X_train\n",
    "               ,columns = ['marstatus']\n",
    "               ,prefix = 'marstatus'\n",
    "               )"
   ]
  },
  {
   "cell_type": "code",
   "execution_count": 76,
   "id": "5cd95d29",
   "metadata": {},
   "outputs": [],
   "source": [
    "X_test = pd.get_dummies(X_test\n",
    "               ,columns = ['marstatus']\n",
    "               ,prefix = 'marstatus'\n",
    "               )"
   ]
  },
  {
   "cell_type": "markdown",
   "id": "3b88c68f",
   "metadata": {},
   "source": [
    "# 3. Построить модель и оценить ее качество"
   ]
  },
  {
   "cell_type": "code",
   "execution_count": 78,
   "id": "7043c6e7",
   "metadata": {},
   "outputs": [
    {
     "data": {
      "text/html": [
       "<div>\n",
       "<style scoped>\n",
       "    .dataframe tbody tr th:only-of-type {\n",
       "        vertical-align: middle;\n",
       "    }\n",
       "\n",
       "    .dataframe tbody tr th {\n",
       "        vertical-align: top;\n",
       "    }\n",
       "\n",
       "    .dataframe thead th {\n",
       "        text-align: right;\n",
       "    }\n",
       "</style>\n",
       "<table border=\"1\" class=\"dataframe\">\n",
       "  <thead>\n",
       "    <tr style=\"text-align: right;\">\n",
       "      <th></th>\n",
       "      <th>delinq60plus</th>\n",
       "    </tr>\n",
       "  </thead>\n",
       "  <tbody>\n",
       "    <tr>\n",
       "      <th>7929</th>\n",
       "      <td>Да</td>\n",
       "    </tr>\n",
       "    <tr>\n",
       "      <th>27978</th>\n",
       "      <td>Нет</td>\n",
       "    </tr>\n",
       "    <tr>\n",
       "      <th>8016</th>\n",
       "      <td>Да</td>\n",
       "    </tr>\n",
       "    <tr>\n",
       "      <th>29404</th>\n",
       "      <td>Нет</td>\n",
       "    </tr>\n",
       "    <tr>\n",
       "      <th>29339</th>\n",
       "      <td>Нет</td>\n",
       "    </tr>\n",
       "    <tr>\n",
       "      <th>...</th>\n",
       "      <td>...</td>\n",
       "    </tr>\n",
       "    <tr>\n",
       "      <th>26418</th>\n",
       "      <td>Нет</td>\n",
       "    </tr>\n",
       "    <tr>\n",
       "      <th>27807</th>\n",
       "      <td>Нет</td>\n",
       "    </tr>\n",
       "    <tr>\n",
       "      <th>1216</th>\n",
       "      <td>Нет</td>\n",
       "    </tr>\n",
       "    <tr>\n",
       "      <th>11556</th>\n",
       "      <td>Да</td>\n",
       "    </tr>\n",
       "    <tr>\n",
       "      <th>9748</th>\n",
       "      <td>Да</td>\n",
       "    </tr>\n",
       "  </tbody>\n",
       "</table>\n",
       "<p>24648 rows × 1 columns</p>\n",
       "</div>"
      ],
      "text/plain": [
       "      delinq60plus\n",
       "7929            Да\n",
       "27978          Нет\n",
       "8016            Да\n",
       "29404          Нет\n",
       "29339          Нет\n",
       "...            ...\n",
       "26418          Нет\n",
       "27807          Нет\n",
       "1216           Нет\n",
       "11556           Да\n",
       "9748            Да\n",
       "\n",
       "[24648 rows x 1 columns]"
      ]
     },
     "execution_count": 78,
     "metadata": {},
     "output_type": "execute_result"
    }
   ],
   "source": [
    "y_train.to_frame()"
   ]
  },
  {
   "cell_type": "code",
   "execution_count": 79,
   "id": "0fe9a103",
   "metadata": {},
   "outputs": [],
   "source": [
    "df = pd.merge(X_train, y_train, left_index=True, right_index=True)"
   ]
  },
  {
   "cell_type": "code",
   "execution_count": 80,
   "id": "bbd87198",
   "metadata": {},
   "outputs": [
    {
     "data": {
      "text/plain": [
       "(19998, 24)"
      ]
     },
     "execution_count": 80,
     "metadata": {},
     "output_type": "execute_result"
    }
   ],
   "source": [
    "df.shape"
   ]
  },
  {
   "cell_type": "code",
   "execution_count": 81,
   "id": "b4ce3a09",
   "metadata": {},
   "outputs": [],
   "source": [
    "y_train = df['delinq60plus']"
   ]
  },
  {
   "cell_type": "code",
   "execution_count": 82,
   "id": "a3d04dcc",
   "metadata": {},
   "outputs": [
    {
     "data": {
      "text/plain": [
       "7929      Да\n",
       "8016      Да\n",
       "29404    Нет\n",
       "29339    Нет\n",
       "9963      Да\n",
       "        ... \n",
       "26418    Нет\n",
       "27807    Нет\n",
       "1216     Нет\n",
       "11556     Да\n",
       "9748      Да\n",
       "Name: delinq60plus, Length: 19998, dtype: object"
      ]
     },
     "execution_count": 82,
     "metadata": {},
     "output_type": "execute_result"
    }
   ],
   "source": [
    "y_train"
   ]
  },
  {
   "cell_type": "markdown",
   "id": "77be31f6",
   "metadata": {},
   "source": [
    "## Скалировать данные"
   ]
  },
  {
   "cell_type": "code",
   "execution_count": 85,
   "id": "36d062ee",
   "metadata": {},
   "outputs": [],
   "source": [
    "from sklearn.preprocessing import MinMaxScaler\n",
    "scaler = MinMaxScaler(feature_range=(-1, 1))\n",
    "\n",
    "train_X_scaled = scaler.fit_transform(X_train)\n",
    "test_X_scaled = scaler.fit_transform(X_test)"
   ]
  },
  {
   "cell_type": "code",
   "execution_count": 86,
   "id": "e0ea3615",
   "metadata": {},
   "outputs": [
    {
     "data": {
      "text/plain": [
       "0.7440363498674745"
      ]
     },
     "execution_count": 86,
     "metadata": {},
     "output_type": "execute_result"
    }
   ],
   "source": [
    "from sklearn.ensemble import RandomForestClassifier\n",
    "rfc = RandomForestClassifier()\n",
    "rfc.fit(X_train, y_train)\n",
    "rfc.score (X_test, y_test)"
   ]
  },
  {
   "cell_type": "code",
   "execution_count": 87,
   "id": "49fe7c11",
   "metadata": {},
   "outputs": [
    {
     "data": {
      "text/plain": [
       "0.8334353041904867"
      ]
     },
     "execution_count": 87,
     "metadata": {},
     "output_type": "execute_result"
    }
   ],
   "source": [
    "y_pred = rfc.predict_proba(X_test)[:, 1]\n",
    "from sklearn.metrics import roc_auc_score\n",
    "roc_auc_score(y_test, y_pred)"
   ]
  },
  {
   "cell_type": "code",
   "execution_count": null,
   "id": "c4224bd2",
   "metadata": {},
   "outputs": [],
   "source": []
  }
 ],
 "metadata": {
  "kernelspec": {
   "display_name": "Python 3 (ipykernel)",
   "language": "python",
   "name": "python3"
  },
  "language_info": {
   "codemirror_mode": {
    "name": "ipython",
    "version": 3
   },
   "file_extension": ".py",
   "mimetype": "text/x-python",
   "name": "python",
   "nbconvert_exporter": "python",
   "pygments_lexer": "ipython3",
   "version": "3.9.12"
  }
 },
 "nbformat": 4,
 "nbformat_minor": 5
}
