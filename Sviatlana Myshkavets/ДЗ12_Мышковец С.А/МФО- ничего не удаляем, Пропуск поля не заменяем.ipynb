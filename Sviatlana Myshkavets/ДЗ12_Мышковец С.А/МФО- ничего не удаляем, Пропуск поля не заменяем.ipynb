{
 "cells": [
  {
   "cell_type": "markdown",
   "id": "0b71bc9a",
   "metadata": {},
   "source": [
    "Мышковец С.А., v.01 30.10.2022\n",
    "\n",
    "Решение задачи: Построить модель машинного обучения для предсказания вероятности того, что клиент уйдет в просрочку более 60 дней (delinq60plus).\n",
    "\n",
    "В данной задаче нам представлены данные в которых ключевое поле — это то, просрочит ли клиент микро-финансовой организации выплату более чем на 60 дней или нет. \n",
    "\n",
    "Задачи:\n",
    "1.  осуществить корректную загрузку данных\n",
    "2.  осуществить разведывательный анализ данных:\n",
    "- разбить выборку на обучающую и тестовую\n",
    "- проанализировать пропуски и решить, что с ними делать\n",
    "- удалить дубликаты\n",
    "- проанализировать выбросы\n",
    "- создать/ удалить переменные\n",
    "- закодировать категориальные переменные\n",
    "- нормализовать числовые переменные (при необходимости)\n",
    "3. построить модель и оценить ее качество\n",
    "4. при необходимости вернуться к предыдущим шагам, чтобы улучшить качество модели\n",
    "\n",
    "\n",
    "Использовать (не везде, а где мы работаем с данными напрямую) SQL запросы. \n",
    "\n",
    "\n",
    "Вывод: \n"
   ]
  },
  {
   "cell_type": "markdown",
   "id": "1cde5203",
   "metadata": {},
   "source": [
    "# 1. Осуществить корректную загрузку данных"
   ]
  },
  {
   "cell_type": "code",
   "execution_count": 1,
   "id": "85780c57",
   "metadata": {},
   "outputs": [],
   "source": [
    "import pandas as pd\n",
    "import numpy as np\n",
    "\n",
    "pd.set_option(\"display.max_columns\", 50)\n",
    "df = pd.read_csv(\"MFOcredit.csv\", sep= ';')"
   ]
  },
  {
   "cell_type": "code",
   "execution_count": 2,
   "id": "dc6793e5",
   "metadata": {},
   "outputs": [
    {
     "data": {
      "text/html": [
       "<div>\n",
       "<style scoped>\n",
       "    .dataframe tbody tr th:only-of-type {\n",
       "        vertical-align: middle;\n",
       "    }\n",
       "\n",
       "    .dataframe tbody tr th {\n",
       "        vertical-align: top;\n",
       "    }\n",
       "\n",
       "    .dataframe thead th {\n",
       "        text-align: right;\n",
       "    }\n",
       "</style>\n",
       "<table border=\"1\" class=\"dataframe\">\n",
       "  <thead>\n",
       "    <tr style=\"text-align: right;\">\n",
       "      <th></th>\n",
       "      <th>id</th>\n",
       "      <th>date_start</th>\n",
       "      <th>date_end</th>\n",
       "      <th>gender</th>\n",
       "      <th>age</th>\n",
       "      <th>auto</th>\n",
       "      <th>housing</th>\n",
       "      <th>marstatus</th>\n",
       "      <th>regclient</th>\n",
       "      <th>jobtype</th>\n",
       "      <th>region</th>\n",
       "      <th>credits</th>\n",
       "      <th>children</th>\n",
       "      <th>delinq60plus</th>\n",
       "    </tr>\n",
       "  </thead>\n",
       "  <tbody>\n",
       "    <tr>\n",
       "      <th>0</th>\n",
       "      <td>1</td>\n",
       "      <td>03-Jan-2013</td>\n",
       "      <td>12-Jan-2013</td>\n",
       "      <td>Мужской</td>\n",
       "      <td>44</td>\n",
       "      <td>Нет</td>\n",
       "      <td>Собственное</td>\n",
       "      <td>Гражданский брак/женат/замужем</td>\n",
       "      <td>Нет</td>\n",
       "      <td>Официальное</td>\n",
       "      <td>Новосибирская область</td>\n",
       "      <td>Нет</td>\n",
       "      <td>Да</td>\n",
       "      <td>Нет</td>\n",
       "    </tr>\n",
       "    <tr>\n",
       "      <th>1</th>\n",
       "      <td>2</td>\n",
       "      <td>03-Jan-2013</td>\n",
       "      <td>17-Jan-2013</td>\n",
       "      <td>Мужской</td>\n",
       "      <td>21</td>\n",
       "      <td>Пропуск поля</td>\n",
       "      <td>Живут с родителями</td>\n",
       "      <td>Холост</td>\n",
       "      <td>Нет</td>\n",
       "      <td>Официальное</td>\n",
       "      <td>Кемеровская область юг</td>\n",
       "      <td>Да</td>\n",
       "      <td>Нет</td>\n",
       "      <td>Нет</td>\n",
       "    </tr>\n",
       "    <tr>\n",
       "      <th>2</th>\n",
       "      <td>3</td>\n",
       "      <td>03-Jan-2013</td>\n",
       "      <td>17-Jan-2013</td>\n",
       "      <td>Мужской</td>\n",
       "      <td>25</td>\n",
       "      <td>Пропуск поля</td>\n",
       "      <td>Собственное</td>\n",
       "      <td>Холост</td>\n",
       "      <td>Да</td>\n",
       "      <td>Официальное</td>\n",
       "      <td>Кемеровская область север</td>\n",
       "      <td>Пропуск поля</td>\n",
       "      <td>Нет</td>\n",
       "      <td>Нет</td>\n",
       "    </tr>\n",
       "    <tr>\n",
       "      <th>3</th>\n",
       "      <td>4</td>\n",
       "      <td>03-Jan-2013</td>\n",
       "      <td>17-Jan-2013</td>\n",
       "      <td>Женский</td>\n",
       "      <td>47</td>\n",
       "      <td>Пропуск поля</td>\n",
       "      <td>Собственное</td>\n",
       "      <td>Гражданский брак/женат/замужем</td>\n",
       "      <td>Да</td>\n",
       "      <td>Официальное</td>\n",
       "      <td>Кемеровская область север</td>\n",
       "      <td>Нет</td>\n",
       "      <td>Нет</td>\n",
       "      <td>Нет</td>\n",
       "    </tr>\n",
       "    <tr>\n",
       "      <th>4</th>\n",
       "      <td>5</td>\n",
       "      <td>03-Jan-2013</td>\n",
       "      <td>17-Jan-2013</td>\n",
       "      <td>Мужской</td>\n",
       "      <td>22</td>\n",
       "      <td>Нет</td>\n",
       "      <td>Арендуемое</td>\n",
       "      <td>Гражданский брак/женат/замужем</td>\n",
       "      <td>Нет</td>\n",
       "      <td>Официальное</td>\n",
       "      <td>Кемеровская область север</td>\n",
       "      <td>Да</td>\n",
       "      <td>Да</td>\n",
       "      <td>Нет</td>\n",
       "    </tr>\n",
       "  </tbody>\n",
       "</table>\n",
       "</div>"
      ],
      "text/plain": [
       "   id   date_start     date_end   gender  age          auto  \\\n",
       "0   1  03-Jan-2013  12-Jan-2013  Мужской   44           Нет   \n",
       "1   2  03-Jan-2013  17-Jan-2013  Мужской   21  Пропуск поля   \n",
       "2   3  03-Jan-2013  17-Jan-2013  Мужской   25  Пропуск поля   \n",
       "3   4  03-Jan-2013  17-Jan-2013  Женский   47  Пропуск поля   \n",
       "4   5  03-Jan-2013  17-Jan-2013  Мужской   22           Нет   \n",
       "\n",
       "              housing                       marstatus regclient      jobtype  \\\n",
       "0         Собственное  Гражданский брак/женат/замужем       Нет  Официальное   \n",
       "1  Живут с родителями                          Холост       Нет  Официальное   \n",
       "2         Собственное                          Холост        Да  Официальное   \n",
       "3         Собственное  Гражданский брак/женат/замужем        Да  Официальное   \n",
       "4          Арендуемое  Гражданский брак/женат/замужем       Нет  Официальное   \n",
       "\n",
       "                      region       credits children delinq60plus  \n",
       "0      Новосибирская область           Нет       Да          Нет  \n",
       "1     Кемеровская область юг            Да      Нет          Нет  \n",
       "2  Кемеровская область север  Пропуск поля      Нет          Нет  \n",
       "3  Кемеровская область север           Нет      Нет          Нет  \n",
       "4  Кемеровская область север            Да       Да          Нет  "
      ]
     },
     "execution_count": 2,
     "metadata": {},
     "output_type": "execute_result"
    }
   ],
   "source": [
    "df.head()"
   ]
  },
  {
   "cell_type": "markdown",
   "id": "ee075b3e",
   "metadata": {},
   "source": [
    "# 2. Осуществить разведывательный анализ данных:"
   ]
  },
  {
   "cell_type": "markdown",
   "id": "9dad4850",
   "metadata": {},
   "source": [
    "## Проанализировать пропуски и решить, что с ними делать"
   ]
  },
  {
   "cell_type": "code",
   "execution_count": 3,
   "id": "d2488aad",
   "metadata": {},
   "outputs": [
    {
     "data": {
      "text/html": [
       "<div>\n",
       "<style scoped>\n",
       "    .dataframe tbody tr th:only-of-type {\n",
       "        vertical-align: middle;\n",
       "    }\n",
       "\n",
       "    .dataframe tbody tr th {\n",
       "        vertical-align: top;\n",
       "    }\n",
       "\n",
       "    .dataframe thead th {\n",
       "        text-align: right;\n",
       "    }\n",
       "</style>\n",
       "<table border=\"1\" class=\"dataframe\">\n",
       "  <thead>\n",
       "    <tr style=\"text-align: right;\">\n",
       "      <th></th>\n",
       "      <th>id</th>\n",
       "      <th>age</th>\n",
       "    </tr>\n",
       "  </thead>\n",
       "  <tbody>\n",
       "    <tr>\n",
       "      <th>count</th>\n",
       "      <td>35212.000000</td>\n",
       "      <td>35212.000000</td>\n",
       "    </tr>\n",
       "    <tr>\n",
       "      <th>mean</th>\n",
       "      <td>17606.500000</td>\n",
       "      <td>37.243525</td>\n",
       "    </tr>\n",
       "    <tr>\n",
       "      <th>std</th>\n",
       "      <td>10164.973176</td>\n",
       "      <td>13.183961</td>\n",
       "    </tr>\n",
       "    <tr>\n",
       "      <th>min</th>\n",
       "      <td>1.000000</td>\n",
       "      <td>18.000000</td>\n",
       "    </tr>\n",
       "    <tr>\n",
       "      <th>25%</th>\n",
       "      <td>8803.750000</td>\n",
       "      <td>26.000000</td>\n",
       "    </tr>\n",
       "    <tr>\n",
       "      <th>50%</th>\n",
       "      <td>17606.500000</td>\n",
       "      <td>34.000000</td>\n",
       "    </tr>\n",
       "    <tr>\n",
       "      <th>75%</th>\n",
       "      <td>26409.250000</td>\n",
       "      <td>48.000000</td>\n",
       "    </tr>\n",
       "    <tr>\n",
       "      <th>max</th>\n",
       "      <td>35212.000000</td>\n",
       "      <td>75.000000</td>\n",
       "    </tr>\n",
       "  </tbody>\n",
       "</table>\n",
       "</div>"
      ],
      "text/plain": [
       "                 id           age\n",
       "count  35212.000000  35212.000000\n",
       "mean   17606.500000     37.243525\n",
       "std    10164.973176     13.183961\n",
       "min        1.000000     18.000000\n",
       "25%     8803.750000     26.000000\n",
       "50%    17606.500000     34.000000\n",
       "75%    26409.250000     48.000000\n",
       "max    35212.000000     75.000000"
      ]
     },
     "execution_count": 3,
     "metadata": {},
     "output_type": "execute_result"
    }
   ],
   "source": [
    "df.describe()"
   ]
  },
  {
   "cell_type": "code",
   "execution_count": 4,
   "id": "e0e5bce2",
   "metadata": {},
   "outputs": [
    {
     "name": "stdout",
     "output_type": "stream",
     "text": [
      "<class 'pandas.core.frame.DataFrame'>\n",
      "RangeIndex: 35212 entries, 0 to 35211\n",
      "Data columns (total 14 columns):\n",
      " #   Column        Non-Null Count  Dtype \n",
      "---  ------        --------------  ----- \n",
      " 0   id            35212 non-null  int64 \n",
      " 1   date_start    35212 non-null  object\n",
      " 2   date_end      35212 non-null  object\n",
      " 3   gender        35212 non-null  object\n",
      " 4   age           35212 non-null  int64 \n",
      " 5   auto          35212 non-null  object\n",
      " 6   housing       35212 non-null  object\n",
      " 7   marstatus     35212 non-null  object\n",
      " 8   regclient     35212 non-null  object\n",
      " 9   jobtype       35212 non-null  object\n",
      " 10  region        35212 non-null  object\n",
      " 11  credits       35212 non-null  object\n",
      " 12  children      35212 non-null  object\n",
      " 13  delinq60plus  35212 non-null  object\n",
      "dtypes: int64(2), object(12)\n",
      "memory usage: 3.8+ MB\n"
     ]
    }
   ],
   "source": [
    "df.info()"
   ]
  },
  {
   "cell_type": "code",
   "execution_count": 5,
   "id": "9190a8b9",
   "metadata": {},
   "outputs": [
    {
     "data": {
      "text/plain": [
       "id              0\n",
       "date_start      0\n",
       "date_end        0\n",
       "gender          0\n",
       "age             0\n",
       "auto            0\n",
       "housing         0\n",
       "marstatus       0\n",
       "regclient       0\n",
       "jobtype         0\n",
       "region          0\n",
       "credits         0\n",
       "children        0\n",
       "delinq60plus    0\n",
       "dtype: int64"
      ]
     },
     "execution_count": 5,
     "metadata": {},
     "output_type": "execute_result"
    }
   ],
   "source": [
    "df.isna().sum()"
   ]
  },
  {
   "cell_type": "markdown",
   "id": "87fd5a4c",
   "metadata": {},
   "source": [
    "**Пропусков, NaN и нулевых значений в БД нет.**"
   ]
  },
  {
   "cell_type": "code",
   "execution_count": 6,
   "id": "754fec6c",
   "metadata": {},
   "outputs": [
    {
     "data": {
      "text/plain": [
       "gender\n",
       "Мужской    16937\n",
       "Женский    18275\n",
       "Name: id, dtype: int64"
      ]
     },
     "execution_count": 6,
     "metadata": {},
     "output_type": "execute_result"
    }
   ],
   "source": [
    "df.groupby(\"gender\")[\"id\"].count().sort_values()"
   ]
  },
  {
   "cell_type": "code",
   "execution_count": 7,
   "id": "167582bb",
   "metadata": {},
   "outputs": [
    {
     "data": {
      "text/plain": [
       "auto\n",
       "Да               3670\n",
       "Пропуск поля    14077\n",
       "Нет             17465\n",
       "Name: id, dtype: int64"
      ]
     },
     "execution_count": 7,
     "metadata": {},
     "output_type": "execute_result"
    }
   ],
   "source": [
    "df.groupby(\"auto\")[\"id\"].count().sort_values()"
   ]
  },
  {
   "cell_type": "code",
   "execution_count": 8,
   "id": "427be91b",
   "metadata": {},
   "outputs": [
    {
     "data": {
      "text/plain": [
       "housing\n",
       "Муниципальное             1358\n",
       "Арендуемое                2020\n",
       "Долевая собственность     2955\n",
       "Живут с родителями        3177\n",
       "Пропуск поля              7603\n",
       "Собственное              18099\n",
       "Name: id, dtype: int64"
      ]
     },
     "execution_count": 8,
     "metadata": {},
     "output_type": "execute_result"
    }
   ],
   "source": [
    "df.groupby(\"housing\")[\"id\"].count().sort_values()"
   ]
  },
  {
   "cell_type": "code",
   "execution_count": 9,
   "id": "febb9c9f",
   "metadata": {},
   "outputs": [
    {
     "data": {
      "text/plain": [
       "marstatus\n",
       "Вдова/вдовец                       1845\n",
       "Разведен                           2871\n",
       "Пропуск поля                       7564\n",
       "Холост                             8833\n",
       "Гражданский брак/женат/замужем    14099\n",
       "Name: id, dtype: int64"
      ]
     },
     "execution_count": 9,
     "metadata": {},
     "output_type": "execute_result"
    }
   ],
   "source": [
    "df.groupby(\"marstatus\")[\"id\"].count().sort_values()"
   ]
  },
  {
   "cell_type": "code",
   "execution_count": 10,
   "id": "0e51d1c5",
   "metadata": {},
   "outputs": [
    {
     "data": {
      "text/plain": [
       "regclient\n",
       "Нет    15479\n",
       "Да     19733\n",
       "Name: id, dtype: int64"
      ]
     },
     "execution_count": 10,
     "metadata": {},
     "output_type": "execute_result"
    }
   ],
   "source": [
    "df.groupby(\"regclient\")[\"id\"].count().sort_values()"
   ]
  },
  {
   "cell_type": "code",
   "execution_count": 11,
   "id": "b0defd8e",
   "metadata": {},
   "outputs": [
    {
     "data": {
      "text/plain": [
       "jobtype\n",
       "Неофициальное     1167\n",
       "Пропуск поля     14457\n",
       "Официальное      19588\n",
       "Name: id, dtype: int64"
      ]
     },
     "execution_count": 11,
     "metadata": {},
     "output_type": "execute_result"
    }
   ],
   "source": [
    "df.groupby(\"jobtype\")[\"id\"].count().sort_values()"
   ]
  },
  {
   "cell_type": "code",
   "execution_count": 12,
   "id": "a3aa89e8",
   "metadata": {},
   "outputs": [
    {
     "data": {
      "text/plain": [
       "region\n",
       "Красноярский край             2244\n",
       "Новосибирская область         4327\n",
       "Алтайский край                5172\n",
       "Кемеровская область юг       11022\n",
       "Кемеровская область север    12447\n",
       "Name: id, dtype: int64"
      ]
     },
     "execution_count": 12,
     "metadata": {},
     "output_type": "execute_result"
    }
   ],
   "source": [
    "df.groupby(\"region\")[\"id\"].count().sort_values()"
   ]
  },
  {
   "cell_type": "code",
   "execution_count": 13,
   "id": "5940a206",
   "metadata": {},
   "outputs": [
    {
     "data": {
      "text/plain": [
       "credits\n",
       "Пропуск поля      946\n",
       "Да              16140\n",
       "Нет             18126\n",
       "Name: id, dtype: int64"
      ]
     },
     "execution_count": 13,
     "metadata": {},
     "output_type": "execute_result"
    }
   ],
   "source": [
    "df.groupby(\"credits\")[\"id\"].count().sort_values()"
   ]
  },
  {
   "cell_type": "code",
   "execution_count": 14,
   "id": "7070575a",
   "metadata": {},
   "outputs": [
    {
     "data": {
      "text/plain": [
       "children\n",
       "Пропуск поля      745\n",
       "Да              13326\n",
       "Нет             21141\n",
       "Name: id, dtype: int64"
      ]
     },
     "execution_count": 14,
     "metadata": {},
     "output_type": "execute_result"
    }
   ],
   "source": [
    "df.groupby(\"children\")[\"id\"].count().sort_values()"
   ]
  },
  {
   "cell_type": "markdown",
   "id": "6e1edfee",
   "metadata": {},
   "source": [
    "**Есть колонки (\"auto\", \"housing\", \"marstatus\", \"jobtype\", \"credits\", \"children\") со значением \"Пропуск поля\"**"
   ]
  },
  {
   "cell_type": "code",
   "execution_count": 15,
   "id": "0e40ec1b",
   "metadata": {},
   "outputs": [
    {
     "data": {
      "text/plain": [
       "<AxesSubplot:>"
      ]
     },
     "execution_count": 15,
     "metadata": {},
     "output_type": "execute_result"
    },
    {
     "data": {
      "image/png": "[encoded data removed]",
      "text/plain": [
       "<Figure size 432x288 with 2 Axes>"
      ]
     },
     "metadata": {
      "needs_background": "light"
     },
     "output_type": "display_data"
    }
   ],
   "source": [
    "import seaborn as sns\n",
    "cols = df.columns\n",
    "# определяем цвета \n",
    "# желтый - пропущенные данные, синий - не пропущенные\n",
    "colours = ['#000099', '#ffff00'] \n",
    "sns.heatmap(df[cols]=='Пропуск поля', cmap=sns.color_palette(colours))"
   ]
  },
  {
   "cell_type": "code",
   "execution_count": 16,
   "id": "f4999393",
   "metadata": {},
   "outputs": [],
   "source": [
    "df_4_Nan = df[(df['auto']=='Пропуск поля') & (df['housing']=='Пропуск поля') & (df['marstatus']=='Пропуск поля') & (df['jobtype']=='Пропуск поля')]"
   ]
  },
  {
   "cell_type": "code",
   "execution_count": 17,
   "id": "fdcab907",
   "metadata": {},
   "outputs": [
    {
     "name": "stdout",
     "output_type": "stream",
     "text": [
      "<class 'pandas.core.frame.DataFrame'>\n",
      "Int64Index: 6422 entries, 8 to 35211\n",
      "Data columns (total 14 columns):\n",
      " #   Column        Non-Null Count  Dtype \n",
      "---  ------        --------------  ----- \n",
      " 0   id            6422 non-null   int64 \n",
      " 1   date_start    6422 non-null   object\n",
      " 2   date_end      6422 non-null   object\n",
      " 3   gender        6422 non-null   object\n",
      " 4   age           6422 non-null   int64 \n",
      " 5   auto          6422 non-null   object\n",
      " 6   housing       6422 non-null   object\n",
      " 7   marstatus     6422 non-null   object\n",
      " 8   regclient     6422 non-null   object\n",
      " 9   jobtype       6422 non-null   object\n",
      " 10  region        6422 non-null   object\n",
      " 11  credits       6422 non-null   object\n",
      " 12  children      6422 non-null   object\n",
      " 13  delinq60plus  6422 non-null   object\n",
      "dtypes: int64(2), object(12)\n",
      "memory usage: 752.6+ KB\n"
     ]
    }
   ],
   "source": [
    "df_4_Nan.info()"
   ]
  },
  {
   "cell_type": "code",
   "execution_count": 18,
   "id": "619b9bbd",
   "metadata": {},
   "outputs": [],
   "source": [
    "# **Удаляем строки, в которых 4 колонки имееют значение \"Пропуск поля\"**"
   ]
  },
  {
   "cell_type": "code",
   "execution_count": 19,
   "id": "c1b1e04f",
   "metadata": {},
   "outputs": [],
   "source": [
    "# df.drop(df[(df['auto']=='Пропуск поля') & (df['housing']=='Пропуск поля') & (df['marstatus']=='Пропуск поля') & (df['jobtype']=='Пропуск поля')].index, inplace = True)"
   ]
  },
  {
   "cell_type": "code",
   "execution_count": 20,
   "id": "9b0ddbee",
   "metadata": {},
   "outputs": [],
   "source": [
    "# df.info()"
   ]
  },
  {
   "cell_type": "code",
   "execution_count": 21,
   "id": "1a46a76f",
   "metadata": {},
   "outputs": [],
   "source": [
    "# df.groupby(\"jobtype\")[\"id\"].count().sort_values()"
   ]
  },
  {
   "cell_type": "code",
   "execution_count": 22,
   "id": "d9502400",
   "metadata": {},
   "outputs": [],
   "source": [
    "# **Удаляем колонку 'jobtype', т.к. 48% данных неизвестны**"
   ]
  },
  {
   "cell_type": "code",
   "execution_count": 23,
   "id": "732694a1",
   "metadata": {},
   "outputs": [],
   "source": [
    "# df = df.drop(['jobtype'], axis=1)"
   ]
  },
  {
   "cell_type": "code",
   "execution_count": 24,
   "id": "dee7a6c3",
   "metadata": {},
   "outputs": [],
   "source": [
    "# df.columns"
   ]
  },
  {
   "cell_type": "code",
   "execution_count": 25,
   "id": "60586c1f",
   "metadata": {},
   "outputs": [],
   "source": [
    "# df.groupby(\"auto\")[\"id\"].count().sort_values()"
   ]
  },
  {
   "cell_type": "markdown",
   "id": "3d8ad4a9",
   "metadata": {},
   "source": [
    "**Учитывая 25% пропусков в колонке 'auto', исходим из худших финансовых гарантий и меняем значение 'Пропуск поля' на 'Нет'**"
   ]
  },
  {
   "cell_type": "code",
   "execution_count": 26,
   "id": "9a8f36e7",
   "metadata": {},
   "outputs": [],
   "source": [
    "# df[\"auto\"] = df[\"auto\"].replace(\"Пропуск поля\", \"Нет\", regex=True)"
   ]
  },
  {
   "cell_type": "markdown",
   "id": "b2f5e416",
   "metadata": {},
   "source": [
    "**Исходим из худших финансовых гарантий и меняем значение колонки \"housing\" с 'Пропуск поля' на 'Арендуемое'**"
   ]
  },
  {
   "cell_type": "code",
   "execution_count": 27,
   "id": "42f966c6",
   "metadata": {},
   "outputs": [],
   "source": [
    "# df[\"housing\"] = df[\"housing\"].replace(\"Пропуск поля\", \"Арендуемое\", regex=True)"
   ]
  },
  {
   "cell_type": "code",
   "execution_count": 28,
   "id": "0d596bea",
   "metadata": {},
   "outputs": [],
   "source": [
    "# df.loc[df[\"children\"] == \"Да\", \"marstatus\"] = \"Гражданский брак/женат/замужем\""
   ]
  },
  {
   "cell_type": "code",
   "execution_count": 29,
   "id": "c5a17364",
   "metadata": {},
   "outputs": [],
   "source": [
    "# df[\"marstatus\"] = df[\"marstatus\"].replace(\"Пропуск поля\", \"Разведен\", regex=True)"
   ]
  },
  {
   "cell_type": "code",
   "execution_count": 30,
   "id": "8e17a6a2",
   "metadata": {},
   "outputs": [],
   "source": [
    "# df[\"credits\"] = df[\"credits\"].replace(\"Пропуск поля\", \"Да\", regex=True)"
   ]
  },
  {
   "cell_type": "code",
   "execution_count": 31,
   "id": "a48e0fcc",
   "metadata": {},
   "outputs": [],
   "source": [
    "# df[\"children\"] = df[\"children\"].replace(\"Пропуск поля\", \"Да\", regex=True)"
   ]
  },
  {
   "cell_type": "code",
   "execution_count": 32,
   "id": "6d5b2bbc",
   "metadata": {},
   "outputs": [],
   "source": [
    "# df[\"credits\"] = df[\"credits\"].replace(\"Да\", 1 , regex=True)\n",
    "# df[\"credits\"] = df[\"credits\"].replace(\"Нет\", 0 , regex=True)"
   ]
  },
  {
   "cell_type": "code",
   "execution_count": 33,
   "id": "899c4ee9",
   "metadata": {},
   "outputs": [],
   "source": [
    "# df[\"regclient\"] = df[\"regclient\"].replace(\"Нет\", 0 , regex=True)\n",
    "# df[\"regclient\"] = df[\"regclient\"].replace(\"Да\", 1 , regex=True)"
   ]
  },
  {
   "cell_type": "code",
   "execution_count": 34,
   "id": "113308af",
   "metadata": {},
   "outputs": [],
   "source": [
    "# df[\"auto\"] = df[\"auto\"].replace(\"Нет\", 0 , regex=True)\n",
    "# df[\"auto\"] = df[\"auto\"].replace(\"Да\", 1 , regex=True)"
   ]
  },
  {
   "cell_type": "code",
   "execution_count": 35,
   "id": "3e92d277",
   "metadata": {},
   "outputs": [],
   "source": [
    "# df[\"children\"] = df[\"children\"].replace(\"Нет\", 0 , regex=True)\n",
    "# df[\"children\"] = df[\"children\"].replace(\"Да\", 1 , regex=True)"
   ]
  },
  {
   "cell_type": "code",
   "execution_count": 36,
   "id": "0f190568",
   "metadata": {},
   "outputs": [],
   "source": [
    "# df.info()"
   ]
  },
  {
   "cell_type": "markdown",
   "id": "3f58cfd9",
   "metadata": {},
   "source": [
    "# Удалить дубликаты"
   ]
  },
  {
   "cell_type": "code",
   "execution_count": 37,
   "id": "15c18c85",
   "metadata": {},
   "outputs": [],
   "source": [
    "column_names = ['date_start', 'date_end', 'gender', 'age', 'auto', 'marstatus', 'housing', 'region', 'regclient', 'credits']"
   ]
  },
  {
   "cell_type": "code",
   "execution_count": 38,
   "id": "a594490b",
   "metadata": {},
   "outputs": [],
   "source": [
    "duplicates = df.duplicated(subset=column_names, keep=False)"
   ]
  },
  {
   "cell_type": "code",
   "execution_count": 39,
   "id": "362a9126",
   "metadata": {},
   "outputs": [
    {
     "data": {
      "text/html": [
       "<div>\n",
       "<style scoped>\n",
       "    .dataframe tbody tr th:only-of-type {\n",
       "        vertical-align: middle;\n",
       "    }\n",
       "\n",
       "    .dataframe tbody tr th {\n",
       "        vertical-align: top;\n",
       "    }\n",
       "\n",
       "    .dataframe thead th {\n",
       "        text-align: right;\n",
       "    }\n",
       "</style>\n",
       "<table border=\"1\" class=\"dataframe\">\n",
       "  <thead>\n",
       "    <tr style=\"text-align: right;\">\n",
       "      <th></th>\n",
       "      <th>id</th>\n",
       "      <th>date_start</th>\n",
       "      <th>date_end</th>\n",
       "      <th>gender</th>\n",
       "      <th>age</th>\n",
       "      <th>auto</th>\n",
       "      <th>housing</th>\n",
       "      <th>marstatus</th>\n",
       "      <th>regclient</th>\n",
       "      <th>jobtype</th>\n",
       "      <th>region</th>\n",
       "      <th>credits</th>\n",
       "      <th>children</th>\n",
       "      <th>delinq60plus</th>\n",
       "    </tr>\n",
       "  </thead>\n",
       "  <tbody>\n",
       "    <tr>\n",
       "      <th>1100</th>\n",
       "      <td>1101</td>\n",
       "      <td>29-Jan-2013</td>\n",
       "      <td>12-Feb-2013</td>\n",
       "      <td>Мужской</td>\n",
       "      <td>26</td>\n",
       "      <td>Пропуск поля</td>\n",
       "      <td>Собственное</td>\n",
       "      <td>Гражданский брак/женат/замужем</td>\n",
       "      <td>Нет</td>\n",
       "      <td>Официальное</td>\n",
       "      <td>Кемеровская область юг</td>\n",
       "      <td>Нет</td>\n",
       "      <td>Да</td>\n",
       "      <td>Да</td>\n",
       "    </tr>\n",
       "    <tr>\n",
       "      <th>1114</th>\n",
       "      <td>1115</td>\n",
       "      <td>29-Jan-2013</td>\n",
       "      <td>12-Feb-2013</td>\n",
       "      <td>Мужской</td>\n",
       "      <td>26</td>\n",
       "      <td>Пропуск поля</td>\n",
       "      <td>Собственное</td>\n",
       "      <td>Гражданский брак/женат/замужем</td>\n",
       "      <td>Нет</td>\n",
       "      <td>Официальное</td>\n",
       "      <td>Кемеровская область юг</td>\n",
       "      <td>Нет</td>\n",
       "      <td>Нет</td>\n",
       "      <td>Да</td>\n",
       "    </tr>\n",
       "    <tr>\n",
       "      <th>2275</th>\n",
       "      <td>2276</td>\n",
       "      <td>21-Feb-2013</td>\n",
       "      <td>07-Mar-2013</td>\n",
       "      <td>Мужской</td>\n",
       "      <td>31</td>\n",
       "      <td>Пропуск поля</td>\n",
       "      <td>Пропуск поля</td>\n",
       "      <td>Пропуск поля</td>\n",
       "      <td>Да</td>\n",
       "      <td>Пропуск поля</td>\n",
       "      <td>Кемеровская область север</td>\n",
       "      <td>Нет</td>\n",
       "      <td>Да</td>\n",
       "      <td>Нет</td>\n",
       "    </tr>\n",
       "    <tr>\n",
       "      <th>2310</th>\n",
       "      <td>2311</td>\n",
       "      <td>21-Feb-2013</td>\n",
       "      <td>07-Mar-2013</td>\n",
       "      <td>Мужской</td>\n",
       "      <td>31</td>\n",
       "      <td>Пропуск поля</td>\n",
       "      <td>Пропуск поля</td>\n",
       "      <td>Пропуск поля</td>\n",
       "      <td>Да</td>\n",
       "      <td>Пропуск поля</td>\n",
       "      <td>Кемеровская область север</td>\n",
       "      <td>Нет</td>\n",
       "      <td>Нет</td>\n",
       "      <td>Да</td>\n",
       "    </tr>\n",
       "    <tr>\n",
       "      <th>2389</th>\n",
       "      <td>2390</td>\n",
       "      <td>23-Feb-2013</td>\n",
       "      <td>09-Mar-2013</td>\n",
       "      <td>Женский</td>\n",
       "      <td>27</td>\n",
       "      <td>Пропуск поля</td>\n",
       "      <td>Пропуск поля</td>\n",
       "      <td>Пропуск поля</td>\n",
       "      <td>Нет</td>\n",
       "      <td>Пропуск поля</td>\n",
       "      <td>Кемеровская область север</td>\n",
       "      <td>Да</td>\n",
       "      <td>Да</td>\n",
       "      <td>Нет</td>\n",
       "    </tr>\n",
       "    <tr>\n",
       "      <th>...</th>\n",
       "      <td>...</td>\n",
       "      <td>...</td>\n",
       "      <td>...</td>\n",
       "      <td>...</td>\n",
       "      <td>...</td>\n",
       "      <td>...</td>\n",
       "      <td>...</td>\n",
       "      <td>...</td>\n",
       "      <td>...</td>\n",
       "      <td>...</td>\n",
       "      <td>...</td>\n",
       "      <td>...</td>\n",
       "      <td>...</td>\n",
       "      <td>...</td>\n",
       "    </tr>\n",
       "    <tr>\n",
       "      <th>35093</th>\n",
       "      <td>35094</td>\n",
       "      <td>03-Jan-2014</td>\n",
       "      <td>17-Jan-2014</td>\n",
       "      <td>Мужской</td>\n",
       "      <td>35</td>\n",
       "      <td>Пропуск поля</td>\n",
       "      <td>Пропуск поля</td>\n",
       "      <td>Пропуск поля</td>\n",
       "      <td>Да</td>\n",
       "      <td>Пропуск поля</td>\n",
       "      <td>Кемеровская область юг</td>\n",
       "      <td>Да</td>\n",
       "      <td>Да</td>\n",
       "      <td>Нет</td>\n",
       "    </tr>\n",
       "    <tr>\n",
       "      <th>35101</th>\n",
       "      <td>35102</td>\n",
       "      <td>03-Jan-2014</td>\n",
       "      <td>17-Jan-2014</td>\n",
       "      <td>Женский</td>\n",
       "      <td>23</td>\n",
       "      <td>Пропуск поля</td>\n",
       "      <td>Пропуск поля</td>\n",
       "      <td>Пропуск поля</td>\n",
       "      <td>Нет</td>\n",
       "      <td>Пропуск поля</td>\n",
       "      <td>Кемеровская область юг</td>\n",
       "      <td>Нет</td>\n",
       "      <td>Нет</td>\n",
       "      <td>Нет</td>\n",
       "    </tr>\n",
       "    <tr>\n",
       "      <th>35122</th>\n",
       "      <td>35123</td>\n",
       "      <td>03-Jan-2014</td>\n",
       "      <td>17-Jan-2014</td>\n",
       "      <td>Женский</td>\n",
       "      <td>63</td>\n",
       "      <td>Пропуск поля</td>\n",
       "      <td>Собственное</td>\n",
       "      <td>Вдова/вдовец</td>\n",
       "      <td>Да</td>\n",
       "      <td>Пропуск поля</td>\n",
       "      <td>Кемеровская область север</td>\n",
       "      <td>Да</td>\n",
       "      <td>Нет</td>\n",
       "      <td>Нет</td>\n",
       "    </tr>\n",
       "    <tr>\n",
       "      <th>35141</th>\n",
       "      <td>35142</td>\n",
       "      <td>03-Jan-2014</td>\n",
       "      <td>17-Jan-2014</td>\n",
       "      <td>Женский</td>\n",
       "      <td>23</td>\n",
       "      <td>Пропуск поля</td>\n",
       "      <td>Пропуск поля</td>\n",
       "      <td>Пропуск поля</td>\n",
       "      <td>Нет</td>\n",
       "      <td>Пропуск поля</td>\n",
       "      <td>Кемеровская область юг</td>\n",
       "      <td>Нет</td>\n",
       "      <td>Нет</td>\n",
       "      <td>Нет</td>\n",
       "    </tr>\n",
       "    <tr>\n",
       "      <th>35193</th>\n",
       "      <td>35194</td>\n",
       "      <td>03-Jan-2014</td>\n",
       "      <td>17-Jan-2014</td>\n",
       "      <td>Женский</td>\n",
       "      <td>63</td>\n",
       "      <td>Пропуск поля</td>\n",
       "      <td>Собственное</td>\n",
       "      <td>Вдова/вдовец</td>\n",
       "      <td>Да</td>\n",
       "      <td>Пропуск поля</td>\n",
       "      <td>Кемеровская область север</td>\n",
       "      <td>Да</td>\n",
       "      <td>Нет</td>\n",
       "      <td>Нет</td>\n",
       "    </tr>\n",
       "  </tbody>\n",
       "</table>\n",
       "<p>445 rows × 14 columns</p>\n",
       "</div>"
      ],
      "text/plain": [
       "          id   date_start     date_end   gender  age          auto  \\\n",
       "1100    1101  29-Jan-2013  12-Feb-2013  Мужской   26  Пропуск поля   \n",
       "1114    1115  29-Jan-2013  12-Feb-2013  Мужской   26  Пропуск поля   \n",
       "2275    2276  21-Feb-2013  07-Mar-2013  Мужской   31  Пропуск поля   \n",
       "2310    2311  21-Feb-2013  07-Mar-2013  Мужской   31  Пропуск поля   \n",
       "2389    2390  23-Feb-2013  09-Mar-2013  Женский   27  Пропуск поля   \n",
       "...      ...          ...          ...      ...  ...           ...   \n",
       "35093  35094  03-Jan-2014  17-Jan-2014  Мужской   35  Пропуск поля   \n",
       "35101  35102  03-Jan-2014  17-Jan-2014  Женский   23  Пропуск поля   \n",
       "35122  35123  03-Jan-2014  17-Jan-2014  Женский   63  Пропуск поля   \n",
       "35141  35142  03-Jan-2014  17-Jan-2014  Женский   23  Пропуск поля   \n",
       "35193  35194  03-Jan-2014  17-Jan-2014  Женский   63  Пропуск поля   \n",
       "\n",
       "            housing                       marstatus regclient       jobtype  \\\n",
       "1100    Собственное  Гражданский брак/женат/замужем       Нет   Официальное   \n",
       "1114    Собственное  Гражданский брак/женат/замужем       Нет   Официальное   \n",
       "2275   Пропуск поля                    Пропуск поля        Да  Пропуск поля   \n",
       "2310   Пропуск поля                    Пропуск поля        Да  Пропуск поля   \n",
       "2389   Пропуск поля                    Пропуск поля       Нет  Пропуск поля   \n",
       "...             ...                             ...       ...           ...   \n",
       "35093  Пропуск поля                    Пропуск поля        Да  Пропуск поля   \n",
       "35101  Пропуск поля                    Пропуск поля       Нет  Пропуск поля   \n",
       "35122   Собственное                    Вдова/вдовец        Да  Пропуск поля   \n",
       "35141  Пропуск поля                    Пропуск поля       Нет  Пропуск поля   \n",
       "35193   Собственное                    Вдова/вдовец        Да  Пропуск поля   \n",
       "\n",
       "                          region credits children delinq60plus  \n",
       "1100      Кемеровская область юг     Нет       Да           Да  \n",
       "1114      Кемеровская область юг     Нет      Нет           Да  \n",
       "2275   Кемеровская область север     Нет       Да          Нет  \n",
       "2310   Кемеровская область север     Нет      Нет           Да  \n",
       "2389   Кемеровская область север      Да       Да          Нет  \n",
       "...                          ...     ...      ...          ...  \n",
       "35093     Кемеровская область юг      Да       Да          Нет  \n",
       "35101     Кемеровская область юг     Нет      Нет          Нет  \n",
       "35122  Кемеровская область север      Да      Нет          Нет  \n",
       "35141     Кемеровская область юг     Нет      Нет          Нет  \n",
       "35193  Кемеровская область север      Да      Нет          Нет  \n",
       "\n",
       "[445 rows x 14 columns]"
      ]
     },
     "execution_count": 39,
     "metadata": {},
     "output_type": "execute_result"
    }
   ],
   "source": [
    "df[duplicates].sort_values(by='id')"
   ]
  },
  {
   "cell_type": "code",
   "execution_count": 40,
   "id": "17387be3",
   "metadata": {},
   "outputs": [],
   "source": [
    "df.drop_duplicates(subset=column_names, keep=False, inplace=True)"
   ]
  },
  {
   "cell_type": "code",
   "execution_count": 41,
   "id": "2bc37376",
   "metadata": {},
   "outputs": [
    {
     "name": "stdout",
     "output_type": "stream",
     "text": [
      "<class 'pandas.core.frame.DataFrame'>\n",
      "Int64Index: 34767 entries, 0 to 35211\n",
      "Data columns (total 14 columns):\n",
      " #   Column        Non-Null Count  Dtype \n",
      "---  ------        --------------  ----- \n",
      " 0   id            34767 non-null  int64 \n",
      " 1   date_start    34767 non-null  object\n",
      " 2   date_end      34767 non-null  object\n",
      " 3   gender        34767 non-null  object\n",
      " 4   age           34767 non-null  int64 \n",
      " 5   auto          34767 non-null  object\n",
      " 6   housing       34767 non-null  object\n",
      " 7   marstatus     34767 non-null  object\n",
      " 8   regclient     34767 non-null  object\n",
      " 9   jobtype       34767 non-null  object\n",
      " 10  region        34767 non-null  object\n",
      " 11  credits       34767 non-null  object\n",
      " 12  children      34767 non-null  object\n",
      " 13  delinq60plus  34767 non-null  object\n",
      "dtypes: int64(2), object(12)\n",
      "memory usage: 4.0+ MB\n"
     ]
    }
   ],
   "source": [
    "df.info()"
   ]
  },
  {
   "cell_type": "markdown",
   "id": "e478ef8c",
   "metadata": {},
   "source": [
    "# Проанализировать выбросы"
   ]
  },
  {
   "cell_type": "code",
   "execution_count": 42,
   "id": "c299da1d",
   "metadata": {},
   "outputs": [
    {
     "data": {
      "text/plain": [
       "<AxesSubplot:>"
      ]
     },
     "execution_count": 42,
     "metadata": {},
     "output_type": "execute_result"
    },
    {
     "data": {
      "image/png": "[encoded data removed]",
      "text/plain": [
       "<Figure size 432x288 with 1 Axes>"
      ]
     },
     "metadata": {
      "needs_background": "light"
     },
     "output_type": "display_data"
    }
   ],
   "source": [
    "sns.boxplot(data=df['age'], width=0.8)"
   ]
  },
  {
   "cell_type": "markdown",
   "id": "8fb32b89",
   "metadata": {},
   "source": [
    "**Выбросов нет**"
   ]
  },
  {
   "cell_type": "markdown",
   "id": "739acc07",
   "metadata": {},
   "source": [
    "# Cоздать/ удалить переменные"
   ]
  },
  {
   "cell_type": "code",
   "execution_count": 43,
   "id": "c964deeb",
   "metadata": {},
   "outputs": [],
   "source": [
    "import datetime as dt"
   ]
  },
  {
   "cell_type": "code",
   "execution_count": 44,
   "id": "7c2b9525",
   "metadata": {},
   "outputs": [],
   "source": [
    "df['date_start'] = pd.to_datetime(df['date_start']).dt.date"
   ]
  },
  {
   "cell_type": "code",
   "execution_count": 45,
   "id": "41092f1a",
   "metadata": {},
   "outputs": [],
   "source": [
    "df['date_end'] = pd.to_datetime(df['date_end']).dt.date"
   ]
  },
  {
   "cell_type": "code",
   "execution_count": 46,
   "id": "1415d27d",
   "metadata": {},
   "outputs": [],
   "source": [
    "df['delta'] = (df['date_end'] - df['date_start']).dt.days"
   ]
  },
  {
   "cell_type": "code",
   "execution_count": 47,
   "id": "0646cbdf",
   "metadata": {},
   "outputs": [],
   "source": [
    "df = df.drop(['date_start'], axis=1)"
   ]
  },
  {
   "cell_type": "code",
   "execution_count": 48,
   "id": "d2c8408d",
   "metadata": {},
   "outputs": [],
   "source": [
    "df = df.drop(['date_end'], axis=1)"
   ]
  },
  {
   "cell_type": "code",
   "execution_count": 49,
   "id": "5fa28dcf",
   "metadata": {},
   "outputs": [
    {
     "data": {
      "text/html": [
       "<div>\n",
       "<style scoped>\n",
       "    .dataframe tbody tr th:only-of-type {\n",
       "        vertical-align: middle;\n",
       "    }\n",
       "\n",
       "    .dataframe tbody tr th {\n",
       "        vertical-align: top;\n",
       "    }\n",
       "\n",
       "    .dataframe thead th {\n",
       "        text-align: right;\n",
       "    }\n",
       "</style>\n",
       "<table border=\"1\" class=\"dataframe\">\n",
       "  <thead>\n",
       "    <tr style=\"text-align: right;\">\n",
       "      <th></th>\n",
       "      <th>id</th>\n",
       "      <th>gender</th>\n",
       "      <th>age</th>\n",
       "      <th>auto</th>\n",
       "      <th>housing</th>\n",
       "      <th>marstatus</th>\n",
       "      <th>regclient</th>\n",
       "      <th>jobtype</th>\n",
       "      <th>region</th>\n",
       "      <th>credits</th>\n",
       "      <th>children</th>\n",
       "      <th>delinq60plus</th>\n",
       "      <th>delta</th>\n",
       "    </tr>\n",
       "  </thead>\n",
       "  <tbody>\n",
       "    <tr>\n",
       "      <th>0</th>\n",
       "      <td>1</td>\n",
       "      <td>Мужской</td>\n",
       "      <td>44</td>\n",
       "      <td>Нет</td>\n",
       "      <td>Собственное</td>\n",
       "      <td>Гражданский брак/женат/замужем</td>\n",
       "      <td>Нет</td>\n",
       "      <td>Официальное</td>\n",
       "      <td>Новосибирская область</td>\n",
       "      <td>Нет</td>\n",
       "      <td>Да</td>\n",
       "      <td>Нет</td>\n",
       "      <td>9</td>\n",
       "    </tr>\n",
       "    <tr>\n",
       "      <th>1</th>\n",
       "      <td>2</td>\n",
       "      <td>Мужской</td>\n",
       "      <td>21</td>\n",
       "      <td>Пропуск поля</td>\n",
       "      <td>Живут с родителями</td>\n",
       "      <td>Холост</td>\n",
       "      <td>Нет</td>\n",
       "      <td>Официальное</td>\n",
       "      <td>Кемеровская область юг</td>\n",
       "      <td>Да</td>\n",
       "      <td>Нет</td>\n",
       "      <td>Нет</td>\n",
       "      <td>14</td>\n",
       "    </tr>\n",
       "    <tr>\n",
       "      <th>2</th>\n",
       "      <td>3</td>\n",
       "      <td>Мужской</td>\n",
       "      <td>25</td>\n",
       "      <td>Пропуск поля</td>\n",
       "      <td>Собственное</td>\n",
       "      <td>Холост</td>\n",
       "      <td>Да</td>\n",
       "      <td>Официальное</td>\n",
       "      <td>Кемеровская область север</td>\n",
       "      <td>Пропуск поля</td>\n",
       "      <td>Нет</td>\n",
       "      <td>Нет</td>\n",
       "      <td>14</td>\n",
       "    </tr>\n",
       "    <tr>\n",
       "      <th>3</th>\n",
       "      <td>4</td>\n",
       "      <td>Женский</td>\n",
       "      <td>47</td>\n",
       "      <td>Пропуск поля</td>\n",
       "      <td>Собственное</td>\n",
       "      <td>Гражданский брак/женат/замужем</td>\n",
       "      <td>Да</td>\n",
       "      <td>Официальное</td>\n",
       "      <td>Кемеровская область север</td>\n",
       "      <td>Нет</td>\n",
       "      <td>Нет</td>\n",
       "      <td>Нет</td>\n",
       "      <td>14</td>\n",
       "    </tr>\n",
       "    <tr>\n",
       "      <th>4</th>\n",
       "      <td>5</td>\n",
       "      <td>Мужской</td>\n",
       "      <td>22</td>\n",
       "      <td>Нет</td>\n",
       "      <td>Арендуемое</td>\n",
       "      <td>Гражданский брак/женат/замужем</td>\n",
       "      <td>Нет</td>\n",
       "      <td>Официальное</td>\n",
       "      <td>Кемеровская область север</td>\n",
       "      <td>Да</td>\n",
       "      <td>Да</td>\n",
       "      <td>Нет</td>\n",
       "      <td>14</td>\n",
       "    </tr>\n",
       "    <tr>\n",
       "      <th>...</th>\n",
       "      <td>...</td>\n",
       "      <td>...</td>\n",
       "      <td>...</td>\n",
       "      <td>...</td>\n",
       "      <td>...</td>\n",
       "      <td>...</td>\n",
       "      <td>...</td>\n",
       "      <td>...</td>\n",
       "      <td>...</td>\n",
       "      <td>...</td>\n",
       "      <td>...</td>\n",
       "      <td>...</td>\n",
       "      <td>...</td>\n",
       "    </tr>\n",
       "    <tr>\n",
       "      <th>35207</th>\n",
       "      <td>35208</td>\n",
       "      <td>Мужской</td>\n",
       "      <td>30</td>\n",
       "      <td>Да</td>\n",
       "      <td>Долевая собственность</td>\n",
       "      <td>Гражданский брак/женат/замужем</td>\n",
       "      <td>Да</td>\n",
       "      <td>Официальное</td>\n",
       "      <td>Алтайский край</td>\n",
       "      <td>Да</td>\n",
       "      <td>Да</td>\n",
       "      <td>Нет</td>\n",
       "      <td>14</td>\n",
       "    </tr>\n",
       "    <tr>\n",
       "      <th>35208</th>\n",
       "      <td>35209</td>\n",
       "      <td>Женский</td>\n",
       "      <td>57</td>\n",
       "      <td>Нет</td>\n",
       "      <td>Собственное</td>\n",
       "      <td>Разведен</td>\n",
       "      <td>Да</td>\n",
       "      <td>Пропуск поля</td>\n",
       "      <td>Алтайский край</td>\n",
       "      <td>Да</td>\n",
       "      <td>Нет</td>\n",
       "      <td>Нет</td>\n",
       "      <td>14</td>\n",
       "    </tr>\n",
       "    <tr>\n",
       "      <th>35209</th>\n",
       "      <td>35210</td>\n",
       "      <td>Женский</td>\n",
       "      <td>38</td>\n",
       "      <td>Пропуск поля</td>\n",
       "      <td>Пропуск поля</td>\n",
       "      <td>Пропуск поля</td>\n",
       "      <td>Да</td>\n",
       "      <td>Пропуск поля</td>\n",
       "      <td>Новосибирская область</td>\n",
       "      <td>Нет</td>\n",
       "      <td>Да</td>\n",
       "      <td>Нет</td>\n",
       "      <td>14</td>\n",
       "    </tr>\n",
       "    <tr>\n",
       "      <th>35210</th>\n",
       "      <td>35211</td>\n",
       "      <td>Женский</td>\n",
       "      <td>19</td>\n",
       "      <td>Пропуск поля</td>\n",
       "      <td>Пропуск поля</td>\n",
       "      <td>Пропуск поля</td>\n",
       "      <td>Да</td>\n",
       "      <td>Пропуск поля</td>\n",
       "      <td>Кемеровская область юг</td>\n",
       "      <td>Нет</td>\n",
       "      <td>Нет</td>\n",
       "      <td>Нет</td>\n",
       "      <td>14</td>\n",
       "    </tr>\n",
       "    <tr>\n",
       "      <th>35211</th>\n",
       "      <td>35212</td>\n",
       "      <td>Мужской</td>\n",
       "      <td>25</td>\n",
       "      <td>Пропуск поля</td>\n",
       "      <td>Пропуск поля</td>\n",
       "      <td>Пропуск поля</td>\n",
       "      <td>Да</td>\n",
       "      <td>Пропуск поля</td>\n",
       "      <td>Кемеровская область север</td>\n",
       "      <td>Нет</td>\n",
       "      <td>Нет</td>\n",
       "      <td>Нет</td>\n",
       "      <td>14</td>\n",
       "    </tr>\n",
       "  </tbody>\n",
       "</table>\n",
       "<p>34767 rows × 13 columns</p>\n",
       "</div>"
      ],
      "text/plain": [
       "          id   gender  age          auto                housing  \\\n",
       "0          1  Мужской   44           Нет            Собственное   \n",
       "1          2  Мужской   21  Пропуск поля     Живут с родителями   \n",
       "2          3  Мужской   25  Пропуск поля            Собственное   \n",
       "3          4  Женский   47  Пропуск поля            Собственное   \n",
       "4          5  Мужской   22           Нет             Арендуемое   \n",
       "...      ...      ...  ...           ...                    ...   \n",
       "35207  35208  Мужской   30            Да  Долевая собственность   \n",
       "35208  35209  Женский   57           Нет            Собственное   \n",
       "35209  35210  Женский   38  Пропуск поля           Пропуск поля   \n",
       "35210  35211  Женский   19  Пропуск поля           Пропуск поля   \n",
       "35211  35212  Мужской   25  Пропуск поля           Пропуск поля   \n",
       "\n",
       "                            marstatus regclient       jobtype  \\\n",
       "0      Гражданский брак/женат/замужем       Нет   Официальное   \n",
       "1                              Холост       Нет   Официальное   \n",
       "2                              Холост        Да   Официальное   \n",
       "3      Гражданский брак/женат/замужем        Да   Официальное   \n",
       "4      Гражданский брак/женат/замужем       Нет   Официальное   \n",
       "...                               ...       ...           ...   \n",
       "35207  Гражданский брак/женат/замужем        Да   Официальное   \n",
       "35208                        Разведен        Да  Пропуск поля   \n",
       "35209                    Пропуск поля        Да  Пропуск поля   \n",
       "35210                    Пропуск поля        Да  Пропуск поля   \n",
       "35211                    Пропуск поля        Да  Пропуск поля   \n",
       "\n",
       "                          region       credits children delinq60plus  delta  \n",
       "0          Новосибирская область           Нет       Да          Нет      9  \n",
       "1         Кемеровская область юг            Да      Нет          Нет     14  \n",
       "2      Кемеровская область север  Пропуск поля      Нет          Нет     14  \n",
       "3      Кемеровская область север           Нет      Нет          Нет     14  \n",
       "4      Кемеровская область север            Да       Да          Нет     14  \n",
       "...                          ...           ...      ...          ...    ...  \n",
       "35207             Алтайский край            Да       Да          Нет     14  \n",
       "35208             Алтайский край            Да      Нет          Нет     14  \n",
       "35209      Новосибирская область           Нет       Да          Нет     14  \n",
       "35210     Кемеровская область юг           Нет      Нет          Нет     14  \n",
       "35211  Кемеровская область север           Нет      Нет          Нет     14  \n",
       "\n",
       "[34767 rows x 13 columns]"
      ]
     },
     "execution_count": 49,
     "metadata": {},
     "output_type": "execute_result"
    }
   ],
   "source": [
    "df"
   ]
  },
  {
   "cell_type": "markdown",
   "id": "3a7d9e6f",
   "metadata": {},
   "source": [
    "# Закодировать категориальные переменные"
   ]
  },
  {
   "cell_type": "code",
   "execution_count": 50,
   "id": "a0a7e3ac",
   "metadata": {},
   "outputs": [],
   "source": [
    "df = pd.get_dummies(df\n",
    "               ,columns = ['gender']\n",
    "               ,prefix = 'gender'\n",
    "               )"
   ]
  },
  {
   "cell_type": "code",
   "execution_count": 51,
   "id": "de803864",
   "metadata": {},
   "outputs": [],
   "source": [
    "df = pd.get_dummies(df\n",
    "               ,columns = ['housing']\n",
    "               ,prefix = 'housing'\n",
    "               )"
   ]
  },
  {
   "cell_type": "code",
   "execution_count": 52,
   "id": "da08f0b6",
   "metadata": {},
   "outputs": [],
   "source": [
    "df = pd.get_dummies(df\n",
    "               ,columns = ['region']\n",
    "               ,prefix = 'region'\n",
    "               )"
   ]
  },
  {
   "cell_type": "code",
   "execution_count": 53,
   "id": "33d1c7fa",
   "metadata": {},
   "outputs": [],
   "source": [
    "df = pd.get_dummies(df\n",
    "               ,columns = ['marstatus']\n",
    "               ,prefix = 'marstatus'\n",
    "               )"
   ]
  },
  {
   "cell_type": "code",
   "execution_count": 54,
   "id": "7a5ec8f8",
   "metadata": {},
   "outputs": [],
   "source": [
    "df = pd.get_dummies(df\n",
    "               ,columns = ['jobtype']\n",
    "               ,prefix = 'jobtype'\n",
    "               )"
   ]
  },
  {
   "cell_type": "code",
   "execution_count": 57,
   "id": "7f4a999b",
   "metadata": {},
   "outputs": [],
   "source": [
    "df = pd.get_dummies(df\n",
    "               ,columns = ['regclient']\n",
    "               ,prefix = 'regclient'\n",
    "               )"
   ]
  },
  {
   "cell_type": "code",
   "execution_count": 61,
   "id": "bc6271ec",
   "metadata": {},
   "outputs": [],
   "source": [
    "df = pd.get_dummies(df\n",
    "               ,columns = ['credits']\n",
    "               ,prefix = 'credits'\n",
    "               )"
   ]
  },
  {
   "cell_type": "code",
   "execution_count": 60,
   "id": "74e3c135",
   "metadata": {},
   "outputs": [],
   "source": [
    "df = pd.get_dummies(df\n",
    "               ,columns = ['children']\n",
    "               ,prefix = 'children'\n",
    "               )"
   ]
  },
  {
   "cell_type": "code",
   "execution_count": 64,
   "id": "af38ef89",
   "metadata": {},
   "outputs": [],
   "source": [
    "df = pd.get_dummies(df\n",
    "               ,columns = ['auto']\n",
    "               ,prefix = 'auto'\n",
    "               )"
   ]
  },
  {
   "cell_type": "markdown",
   "id": "90fbcdcc",
   "metadata": {},
   "source": [
    "## Разбить выборку на обучающую и тестовую"
   ]
  },
  {
   "cell_type": "code",
   "execution_count": 65,
   "id": "483b59b2",
   "metadata": {},
   "outputs": [],
   "source": [
    "from sklearn.model_selection import train_test_split\n",
    "\n",
    "y = df.delinq60plus\n",
    "X = df.drop(['delinq60plus'], axis=1)\n",
    "X_train, X_test, y_train, y_test = train_test_split(X, y, \n",
    "                                                    train_size=0.7, \n",
    "                                                    random_state=42, \n",
    "                                                    stratify=y)"
   ]
  },
  {
   "cell_type": "code",
   "execution_count": 66,
   "id": "d57d257e",
   "metadata": {},
   "outputs": [],
   "source": [
    "from sklearn.preprocessing import MinMaxScaler\n",
    "scaler = MinMaxScaler(feature_range=(-1, 1))\n",
    "\n",
    "train_X_scaled = scaler.fit_transform(X_train)\n",
    "test_X_scaled = scaler.fit_transform(X_test)"
   ]
  },
  {
   "cell_type": "markdown",
   "id": "9786ef2a",
   "metadata": {},
   "source": [
    "## Построить модель и оценить ее качество"
   ]
  },
  {
   "cell_type": "code",
   "execution_count": 67,
   "id": "a58fe22c",
   "metadata": {},
   "outputs": [
    {
     "data": {
      "text/plain": [
       "0.7430735308215894"
      ]
     },
     "execution_count": 67,
     "metadata": {},
     "output_type": "execute_result"
    }
   ],
   "source": [
    "from sklearn.ensemble import RandomForestClassifier\n",
    "rfc = RandomForestClassifier()\n",
    "rfc.fit(X_train, y_train)\n",
    "rfc.score (X_test, y_test)"
   ]
  },
  {
   "cell_type": "code",
   "execution_count": 68,
   "id": "2dc1cd19",
   "metadata": {},
   "outputs": [
    {
     "data": {
      "text/plain": [
       "0.8305423244037445"
      ]
     },
     "execution_count": 68,
     "metadata": {},
     "output_type": "execute_result"
    }
   ],
   "source": [
    "y_pred = rfc.predict_proba(X_test)[:, 1]\n",
    "from sklearn.metrics import roc_auc_score\n",
    "roc_auc_score(y_test, y_pred)"
   ]
  },
  {
   "cell_type": "code",
   "execution_count": null,
   "id": "51196fae",
   "metadata": {},
   "outputs": [],
   "source": []
  }
 ],
 "metadata": {
  "kernelspec": {
   "display_name": "Python 3 (ipykernel)",
   "language": "python",
   "name": "python3"
  },
  "language_info": {
   "codemirror_mode": {
    "name": "ipython",
    "version": 3
   },
   "file_extension": ".py",
   "mimetype": "text/x-python",
   "name": "python",
   "nbconvert_exporter": "python",
   "pygments_lexer": "ipython3",
   "version": "3.9.12"
  }
 },
 "nbformat": 4,
 "nbformat_minor": 5
}
