{
 "cells": [
  {
   "cell_type": "markdown",
   "id": "025927e2",
   "metadata": {},
   "source": [
    "Мышковец С.А., v.01 08.11.2022\n",
    "\n",
    "Решение задачи: В тексте (не менее 20000 символов) уменьшить размерность, используя метод главных компонент, при этом обеспечить сохранение информации не менее 80%.\n",
    "\n",
    "\n",
    "Задачи:\n",
    "\n",
    "\n",
    "- осуществить загрузку текста, токенизацию\n",
    "\n",
    "- почистить данные (числа, знаки препинания, символы, стоп-слова)\n",
    "\n",
    "- осуществить лемматизацию\n",
    "\n",
    "- перевести в векторное представление\n",
    "\n",
    "- применить метод главных компонент таким образом, чтобы потеря информации составила не более 20%\n",
    "\n",
    "https://scikit-learn.org/stable/modules/generated/sklearn.feature_extraction.text.TfidfVectorizer.html\n",
    "\n",
    "- (если есть метки классов) посчитать результаты обучения. \n",
    "- попробуйте построить карту 2D c 10-40 словами что бы посмотреть расположены ли похожие слова рядом или нет.\n",
    "\n",
    "\n",
    "Вывод: Чтобы сохранить не менее 80% иформации требуется не менее 2300 компонент.\n",
    "    "
   ]
  },
  {
   "cell_type": "markdown",
   "id": "2ccf9f72",
   "metadata": {},
   "source": [
    "# Загрузка данных"
   ]
  },
  {
   "cell_type": "markdown",
   "id": "b6e610a4",
   "metadata": {},
   "source": [
    "Открываем файл."
   ]
  },
  {
   "cell_type": "code",
   "execution_count": 2,
   "id": "d04df92d",
   "metadata": {},
   "outputs": [],
   "source": [
    "with open('Tayinaya istoriya.txt', \"r\", encoding=\"utf-8\") as file:\n",
    "    text = file.read()"
   ]
  },
  {
   "cell_type": "markdown",
   "id": "a3a049cf",
   "metadata": {},
   "source": [
    "# Предварительная обрабатка текста (препроцессинг)"
   ]
  },
  {
   "cell_type": "markdown",
   "id": "af60120f",
   "metadata": {},
   "source": [
    "Определяем длину текста."
   ]
  },
  {
   "cell_type": "code",
   "execution_count": 3,
   "id": "01f1c82b",
   "metadata": {},
   "outputs": [
    {
     "data": {
      "text/plain": [
       "88007"
      ]
     },
     "execution_count": 3,
     "metadata": {},
     "output_type": "execute_result"
    }
   ],
   "source": [
    "len(text)"
   ]
  },
  {
   "cell_type": "markdown",
   "id": "174b175e",
   "metadata": {},
   "source": [
    "Приводим символы в единый регистр (нижний)."
   ]
  },
  {
   "cell_type": "code",
   "execution_count": 4,
   "id": "3de74e6b",
   "metadata": {},
   "outputs": [],
   "source": [
    "text = text.lower()"
   ]
  },
  {
   "cell_type": "markdown",
   "id": "83c96183",
   "metadata": {},
   "source": [
    "Очищаем текст от знаков пунктуации, лишних пробельных символов и цифр:\n",
    "\n",
    "- выводим все знаки пунктуации."
   ]
  },
  {
   "cell_type": "code",
   "execution_count": 5,
   "id": "5d614b29",
   "metadata": {},
   "outputs": [
    {
     "name": "stdout",
     "output_type": "stream",
     "text": [
      "!\"#$%&'()*+,-./:;<=>?@[\\]^_`{|}~\n"
     ]
    }
   ],
   "source": [
    "import string\n",
    "print(string.punctuation)"
   ]
  },
  {
   "cell_type": "markdown",
   "id": "0862e6ff",
   "metadata": {},
   "source": [
    "- добавляем к знакам пунктуации символы переноса строки, табуляции и другие символы."
   ]
  },
  {
   "cell_type": "code",
   "execution_count": 6,
   "id": "92848031",
   "metadata": {},
   "outputs": [],
   "source": [
    "spec_chars = string.punctuation + '\\n\\xa0«»\\t—…' "
   ]
  },
  {
   "cell_type": "markdown",
   "id": "931e94cd",
   "metadata": {},
   "source": [
    "- удаляем символы:\n",
    "  - используем поэлементную обработку строки: разделяем исходную строку text на символы,\n",
    "  - оставляем только символы, не входящие в набор spec_chars\n",
    "  - объединяем список символов в строку"
   ]
  },
  {
   "cell_type": "code",
   "execution_count": 7,
   "id": "b20e54b1",
   "metadata": {},
   "outputs": [],
   "source": [
    "def remove_chars_from_text(text, chars):\n",
    "    return \"\".join([ch for ch in text if ch not in chars])"
   ]
  },
  {
   "cell_type": "code",
   "execution_count": 8,
   "id": "f5311267",
   "metadata": {},
   "outputs": [],
   "source": [
    "text = remove_chars_from_text(text, spec_chars)\n",
    "text = remove_chars_from_text(text, string.digits)"
   ]
  },
  {
   "cell_type": "markdown",
   "id": "e513dc0c",
   "metadata": {},
   "source": [
    "# Токенизизация и лемматизация текста"
   ]
  },
  {
   "cell_type": "markdown",
   "id": "fa3d78ae",
   "metadata": {},
   "source": [
    "Разбиваем очищенный текст на составные части – токены. Для задачи частотного анализа необходимо разбить текст на слова. Для этого используем готовый метод библиотеки nltk."
   ]
  },
  {
   "cell_type": "code",
   "execution_count": 9,
   "id": "0cec18e7",
   "metadata": {},
   "outputs": [
    {
     "name": "stderr",
     "output_type": "stream",
     "text": [
      "[nltk_data] Downloading package punkt to\n",
      "[nltk_data]     C:\\Users\\myshk\\AppData\\Roaming\\nltk_data...\n",
      "[nltk_data]   Package punkt is already up-to-date!\n"
     ]
    },
    {
     "data": {
      "text/plain": [
       "True"
      ]
     },
     "execution_count": 9,
     "metadata": {},
     "output_type": "execute_result"
    }
   ],
   "source": [
    "import nltk\n",
    "nltk.download('punkt')"
   ]
  },
  {
   "cell_type": "code",
   "execution_count": 10,
   "id": "02b63355",
   "metadata": {},
   "outputs": [],
   "source": [
    "from nltk import word_tokenize\n",
    "text_tokens = word_tokenize(text)"
   ]
  },
  {
   "cell_type": "code",
   "execution_count": 11,
   "id": "1d96f8f9",
   "metadata": {},
   "outputs": [
    {
     "data": {
      "text/plain": [
       "['в',\n",
       " 'горах',\n",
       " 'начал',\n",
       " 'таять',\n",
       " 'снег',\n",
       " 'а',\n",
       " 'банни',\n",
       " 'не',\n",
       " 'было',\n",
       " 'в',\n",
       " 'живых',\n",
       " 'уже',\n",
       " 'несколько',\n",
       " 'недель',\n",
       " 'когда']"
      ]
     },
     "execution_count": 11,
     "metadata": {},
     "output_type": "execute_result"
    }
   ],
   "source": [
    "text_tokens[:15]"
   ]
  },
  {
   "cell_type": "markdown",
   "id": "7e05b092",
   "metadata": {},
   "source": [
    "Вычисляем количество слов в предобработанном тексте."
   ]
  },
  {
   "cell_type": "code",
   "execution_count": 12,
   "id": "cdeb53f9",
   "metadata": {},
   "outputs": [
    {
     "data": {
      "text/plain": [
       "12900"
      ]
     },
     "execution_count": 12,
     "metadata": {},
     "output_type": "execute_result"
    }
   ],
   "source": [
    "len(text_tokens)"
   ]
  },
  {
   "cell_type": "markdown",
   "id": "7e3ce665",
   "metadata": {},
   "source": [
    "Лемматизируем полученный список слов."
   ]
  },
  {
   "cell_type": "code",
   "execution_count": 13,
   "id": "e9dd4e8c",
   "metadata": {},
   "outputs": [],
   "source": [
    "import pymorphy2\n",
    "morph = pymorphy2.MorphAnalyzer()\n",
    "text_tokens_normal_form = []"
   ]
  },
  {
   "cell_type": "code",
   "execution_count": 14,
   "id": "cc5c671a",
   "metadata": {},
   "outputs": [],
   "source": [
    "for word in text_tokens:\n",
    "    p = morph.parse(word)[0]\n",
    "    text_tokens_normal_form.append(p.normal_form)"
   ]
  },
  {
   "cell_type": "code",
   "execution_count": 15,
   "id": "0eeae5d7",
   "metadata": {},
   "outputs": [
    {
     "data": {
      "text/plain": [
       "['в', 'гора', 'начать', 'таять', 'снег']"
      ]
     },
     "execution_count": 15,
     "metadata": {},
     "output_type": "execute_result"
    }
   ],
   "source": [
    "text_tokens_normal_form[:5]"
   ]
  },
  {
   "cell_type": "markdown",
   "id": "abb56aa6",
   "metadata": {},
   "source": [
    "Преобразовываем список токенов к классу Text библиотеки nltk для применения инструментов частотного анализа."
   ]
  },
  {
   "cell_type": "code",
   "execution_count": 16,
   "id": "cf90f975",
   "metadata": {},
   "outputs": [],
   "source": [
    "text = nltk.Text(text_tokens_normal_form)"
   ]
  },
  {
   "cell_type": "markdown",
   "id": "db63ccc4",
   "metadata": {},
   "source": [
    "# Статистика встречаемости слов в тексте"
   ]
  },
  {
   "cell_type": "markdown",
   "id": "ddd624a9",
   "metadata": {},
   "source": [
    "Для подсчёта статистики распределения частот слов в тексте применяется класс FreqDist (frequency distributions)."
   ]
  },
  {
   "cell_type": "code",
   "execution_count": 17,
   "id": "8a89f835",
   "metadata": {},
   "outputs": [],
   "source": [
    "from nltk.probability import FreqDist\n",
    "fdist = FreqDist(text)"
   ]
  },
  {
   "cell_type": "markdown",
   "id": "e430a541",
   "metadata": {},
   "source": [
    "Выводим переменную fdist (словарь, содержащий токены и их частоты – количество раз, которые эти слова встречаются в тексте)."
   ]
  },
  {
   "cell_type": "code",
   "execution_count": 18,
   "id": "b5e43c73",
   "metadata": {},
   "outputs": [
    {
     "data": {
      "text/plain": [
       "FreqDist({'я': 430, 'и': 418, 'в': 365, 'он': 262, 'не': 222, 'на': 220, 'что': 212, 'быть': 176, 'с': 154, '–': 130, ...})"
      ]
     },
     "execution_count": 18,
     "metadata": {},
     "output_type": "execute_result"
    }
   ],
   "source": [
    "fdist"
   ]
  },
  {
   "cell_type": "markdown",
   "id": "9870067c",
   "metadata": {},
   "source": [
    "Можно воспользоваться методом most_common для получения списка кортежей с наиболее часто встречающимися токенами"
   ]
  },
  {
   "cell_type": "code",
   "execution_count": 19,
   "id": "af3dac95",
   "metadata": {},
   "outputs": [
    {
     "data": {
      "text/plain": [
       "[('я', 430),\n",
       " ('и', 418),\n",
       " ('в', 365),\n",
       " ('он', 262),\n",
       " ('не', 222),\n",
       " ('на', 220),\n",
       " ('что', 212),\n",
       " ('быть', 176),\n",
       " ('с', 154),\n",
       " ('–', 130)]"
      ]
     },
     "execution_count": 19,
     "metadata": {},
     "output_type": "execute_result"
    }
   ],
   "source": [
    "fdist.most_common(10)"
   ]
  },
  {
   "cell_type": "markdown",
   "id": "b76eec8b",
   "metadata": {},
   "source": [
    "# Удаление стоп-слов"
   ]
  },
  {
   "cell_type": "code",
   "execution_count": 20,
   "id": "c1367a9e",
   "metadata": {},
   "outputs": [
    {
     "name": "stderr",
     "output_type": "stream",
     "text": [
      "[nltk_data] Downloading package stopwords to\n",
      "[nltk_data]     C:\\Users\\myshk\\AppData\\Roaming\\nltk_data...\n",
      "[nltk_data]   Package stopwords is already up-to-date!\n"
     ]
    },
    {
     "data": {
      "text/plain": [
       "True"
      ]
     },
     "execution_count": 20,
     "metadata": {},
     "output_type": "execute_result"
    }
   ],
   "source": [
    "import nltk\n",
    "nltk.download('stopwords')"
   ]
  },
  {
   "cell_type": "markdown",
   "id": "8a4e8965",
   "metadata": {},
   "source": [
    "Получаем список стоп-слов для русского языка"
   ]
  },
  {
   "cell_type": "code",
   "execution_count": 21,
   "id": "977eef3e",
   "metadata": {},
   "outputs": [],
   "source": [
    "from nltk.corpus import stopwords\n",
    "russian_stopwords = stopwords.words(\"russian\")"
   ]
  },
  {
   "cell_type": "markdown",
   "id": "0229fa3f",
   "metadata": {},
   "source": [
    "По необходимости расширяем список стоп-слов."
   ]
  },
  {
   "cell_type": "code",
   "execution_count": 22,
   "id": "b9153498",
   "metadata": {},
   "outputs": [],
   "source": [
    "russian_stopwords.extend(['это', 'нею', '–', '“', '”', 'весь', 'который', 'изз', 'лишь', 'ещё', 'поскольку', 'свой', 'наш', 'ваш'])"
   ]
  },
  {
   "cell_type": "markdown",
   "id": "f7bc5a9d",
   "metadata": {},
   "source": [
    "Получаем список слов, не входящих в список стоп-слов."
   ]
  },
  {
   "cell_type": "code",
   "execution_count": 23,
   "id": "3f148137",
   "metadata": {},
   "outputs": [],
   "source": [
    "tokens = [x for x in text_tokens_normal_form if x not in russian_stopwords]"
   ]
  },
  {
   "cell_type": "code",
   "execution_count": 24,
   "id": "3cb1e16b",
   "metadata": {},
   "outputs": [
    {
     "data": {
      "text/plain": [
       "list"
      ]
     },
     "execution_count": 24,
     "metadata": {},
     "output_type": "execute_result"
    }
   ],
   "source": [
    "type(tokens)"
   ]
  },
  {
   "cell_type": "code",
   "execution_count": 25,
   "id": "e4add83a",
   "metadata": {},
   "outputs": [
    {
     "data": {
      "text/plain": [
       "['гора',\n",
       " 'начать',\n",
       " 'таять',\n",
       " 'снег',\n",
       " 'банни',\n",
       " 'живой',\n",
       " 'несколько',\n",
       " 'неделя',\n",
       " 'осознать',\n",
       " 'тяжесть']"
      ]
     },
     "execution_count": 25,
     "metadata": {},
     "output_type": "execute_result"
    }
   ],
   "source": [
    "tokens[:10]"
   ]
  },
  {
   "cell_type": "markdown",
   "id": "6b45d946",
   "metadata": {},
   "source": [
    "Получаем словарь слов, не входящих в список стоп-слов."
   ]
  },
  {
   "cell_type": "code",
   "execution_count": 24,
   "id": "48fe0a61",
   "metadata": {},
   "outputs": [],
   "source": [
    "def no_stop_words(dct):\n",
    "    clean_dct = {}\n",
    "    for key, value in dct.items():\n",
    "        if key not in russian_stopwords:\n",
    "            clean_dct[key] = value\n",
    "    return clean_dct\n",
    "fdist_sw = no_stop_words(fdist)"
   ]
  },
  {
   "cell_type": "markdown",
   "id": "ac2d9478",
   "metadata": {},
   "source": [
    "Приводим словарь к типу FreqDist."
   ]
  },
  {
   "cell_type": "code",
   "execution_count": 25,
   "id": "4a0c82ba",
   "metadata": {},
   "outputs": [],
   "source": [
    "fdist_sw = FreqDist(fdist_sw)"
   ]
  },
  {
   "cell_type": "code",
   "execution_count": 26,
   "id": "fb8cb75d",
   "metadata": {},
   "outputs": [
    {
     "data": {
      "text/plain": [
       "FreqDist({'мочь': 55, 'сказать': 34, 'человек': 33, 'год': 28, 'банни': 25, 'генри': 22, 'просто': 22, 'время': 22, 'лицо': 22, 'ничто': 22, ...})"
      ]
     },
     "execution_count": 26,
     "metadata": {},
     "output_type": "execute_result"
    }
   ],
   "source": [
    "fdist_sw"
   ]
  },
  {
   "cell_type": "markdown",
   "id": "520757f0",
   "metadata": {},
   "source": [
    "Выводим 10 самых часто встречающихся слов в тексте."
   ]
  },
  {
   "cell_type": "code",
   "execution_count": 27,
   "id": "c7c7da08",
   "metadata": {},
   "outputs": [
    {
     "data": {
      "text/plain": [
       "[('мочь', 55),\n",
       " ('сказать', 34),\n",
       " ('человек', 33),\n",
       " ('год', 28),\n",
       " ('банни', 25),\n",
       " ('генри', 22),\n",
       " ('просто', 22),\n",
       " ('время', 22),\n",
       " ('лицо', 22),\n",
       " ('ничто', 22)]"
      ]
     },
     "execution_count": 27,
     "metadata": {},
     "output_type": "execute_result"
    }
   ],
   "source": [
    "fdist_sw.most_common(10)"
   ]
  },
  {
   "cell_type": "markdown",
   "id": "d6351570",
   "metadata": {},
   "source": [
    "Строим график частоты встречаемости слов."
   ]
  },
  {
   "cell_type": "code",
   "execution_count": 28,
   "id": "fda74490",
   "metadata": {},
   "outputs": [
    {
     "data": {
      "image/png": "[encoded data removed]",
      "text/plain": [
       "<Figure size 432x288 with 1 Axes>"
      ]
     },
     "metadata": {
      "needs_background": "light"
     },
     "output_type": "display_data"
    },
    {
     "data": {
      "text/plain": [
       "<AxesSubplot:xlabel='Samples', ylabel='Counts'>"
      ]
     },
     "execution_count": 28,
     "metadata": {},
     "output_type": "execute_result"
    }
   ],
   "source": [
    "fdist_sw.plot(30,cumulative=False)"
   ]
  },
  {
   "cell_type": "markdown",
   "id": "cc73195c",
   "metadata": {},
   "source": [
    "Преобразовываем FreqDist к DataFrame."
   ]
  },
  {
   "cell_type": "code",
   "execution_count": 29,
   "id": "6febedee",
   "metadata": {},
   "outputs": [],
   "source": [
    "import pandas as pd"
   ]
  },
  {
   "cell_type": "code",
   "execution_count": 30,
   "id": "ad91a4a1",
   "metadata": {},
   "outputs": [],
   "source": [
    "df = dict(fdist_sw)"
   ]
  },
  {
   "cell_type": "code",
   "execution_count": 31,
   "id": "217da27f",
   "metadata": {},
   "outputs": [],
   "source": [
    "colNames = ['freq']\n",
    "df = pd.DataFrame.from_dict(df, orient='index', columns=colNames)"
   ]
  },
  {
   "cell_type": "code",
   "execution_count": 32,
   "id": "297e4ddf",
   "metadata": {},
   "outputs": [
    {
     "data": {
      "text/html": [
       "<div>\n",
       "<style scoped>\n",
       "    .dataframe tbody tr th:only-of-type {\n",
       "        vertical-align: middle;\n",
       "    }\n",
       "\n",
       "    .dataframe tbody tr th {\n",
       "        vertical-align: top;\n",
       "    }\n",
       "\n",
       "    .dataframe thead th {\n",
       "        text-align: right;\n",
       "    }\n",
       "</style>\n",
       "<table border=\"1\" class=\"dataframe\">\n",
       "  <thead>\n",
       "    <tr style=\"text-align: right;\">\n",
       "      <th></th>\n",
       "      <th>freq</th>\n",
       "    </tr>\n",
       "  </thead>\n",
       "  <tbody>\n",
       "    <tr>\n",
       "      <th>мочь</th>\n",
       "      <td>55</td>\n",
       "    </tr>\n",
       "    <tr>\n",
       "      <th>сказать</th>\n",
       "      <td>34</td>\n",
       "    </tr>\n",
       "    <tr>\n",
       "      <th>человек</th>\n",
       "      <td>33</td>\n",
       "    </tr>\n",
       "    <tr>\n",
       "      <th>год</th>\n",
       "      <td>28</td>\n",
       "    </tr>\n",
       "    <tr>\n",
       "      <th>банни</th>\n",
       "      <td>25</td>\n",
       "    </tr>\n",
       "    <tr>\n",
       "      <th>генри</th>\n",
       "      <td>22</td>\n",
       "    </tr>\n",
       "    <tr>\n",
       "      <th>просто</th>\n",
       "      <td>22</td>\n",
       "    </tr>\n",
       "    <tr>\n",
       "      <th>ничто</th>\n",
       "      <td>22</td>\n",
       "    </tr>\n",
       "    <tr>\n",
       "      <th>лицо</th>\n",
       "      <td>22</td>\n",
       "    </tr>\n",
       "    <tr>\n",
       "      <th>взгляд</th>\n",
       "      <td>22</td>\n",
       "    </tr>\n",
       "    <tr>\n",
       "      <th>время</th>\n",
       "      <td>22</td>\n",
       "    </tr>\n",
       "    <tr>\n",
       "      <th>джулиан</th>\n",
       "      <td>21</td>\n",
       "    </tr>\n",
       "    <tr>\n",
       "      <th>дело</th>\n",
       "      <td>19</td>\n",
       "    </tr>\n",
       "    <tr>\n",
       "      <th>день</th>\n",
       "      <td>19</td>\n",
       "    </tr>\n",
       "    <tr>\n",
       "      <th>помнить</th>\n",
       "      <td>18</td>\n",
       "    </tr>\n",
       "    <tr>\n",
       "      <th>говорить</th>\n",
       "      <td>18</td>\n",
       "    </tr>\n",
       "    <tr>\n",
       "      <th>глаз</th>\n",
       "      <td>18</td>\n",
       "    </tr>\n",
       "    <tr>\n",
       "      <th>словно</th>\n",
       "      <td>17</td>\n",
       "    </tr>\n",
       "    <tr>\n",
       "      <th>хэмпден</th>\n",
       "      <td>17</td>\n",
       "    </tr>\n",
       "    <tr>\n",
       "      <th>хотя</th>\n",
       "      <td>17</td>\n",
       "    </tr>\n",
       "  </tbody>\n",
       "</table>\n",
       "</div>"
      ],
      "text/plain": [
       "          freq\n",
       "мочь        55\n",
       "сказать     34\n",
       "человек     33\n",
       "год         28\n",
       "банни       25\n",
       "генри       22\n",
       "просто      22\n",
       "ничто       22\n",
       "лицо        22\n",
       "взгляд      22\n",
       "время       22\n",
       "джулиан     21\n",
       "дело        19\n",
       "день        19\n",
       "помнить     18\n",
       "говорить    18\n",
       "глаз        18\n",
       "словно      17\n",
       "хэмпден     17\n",
       "хотя        17"
      ]
     },
     "execution_count": 32,
     "metadata": {},
     "output_type": "execute_result"
    }
   ],
   "source": [
    "df.sort_values('freq', ascending=False).head(20)"
   ]
  },
  {
   "cell_type": "markdown",
   "id": "512f295d",
   "metadata": {},
   "source": [
    "# Перевод в векторное представление"
   ]
  },
  {
   "cell_type": "code",
   "execution_count": 33,
   "id": "4c3aff42",
   "metadata": {},
   "outputs": [
    {
     "data": {
      "text/plain": [
       "(7583, 3883)"
      ]
     },
     "execution_count": 33,
     "metadata": {},
     "output_type": "execute_result"
    }
   ],
   "source": [
    "from sklearn.feature_extraction.text import TfidfVectorizer\n",
    "vectorizer = TfidfVectorizer(use_idf=True)\n",
    "X = vectorizer.fit_transform(tokens)\n",
    "vectorizer.get_feature_names_out()\n",
    "X.shape"
   ]
  },
  {
   "cell_type": "code",
   "execution_count": 34,
   "id": "f75d235c",
   "metadata": {},
   "outputs": [],
   "source": [
    "# first_vector_tfidfvectorizer=vectorizer.fit_transform(tokens)[0]\n",
    "# df = pd.DataFrame(first_vector_tfidfvectorizer.T.todense(), index=vectorizer.get_feature_names(), columns=[\"tfidf\"]) \n",
    "# df.sort_values(by=[\"tfidf\"],ascending=False)\n"
   ]
  },
  {
   "cell_type": "code",
   "execution_count": 35,
   "id": "3ef7c2c6",
   "metadata": {},
   "outputs": [
    {
     "name": "stdout",
     "output_type": "stream",
     "text": [
      "<class 'pandas.core.frame.DataFrame'>\n",
      "Index: 3883 entries, anecdota to ящикпоследующий\n",
      "Columns: 7583 entries, 0 to 7582\n",
      "dtypes: float64(7583)\n",
      "memory usage: 224.7+ MB\n"
     ]
    }
   ],
   "source": [
    "df = pd.DataFrame(X.toarray(), columns = vectorizer.get_feature_names_out()).T\n",
    "df.info()"
   ]
  },
  {
   "cell_type": "code",
   "execution_count": 36,
   "id": "8b94f2fe",
   "metadata": {},
   "outputs": [
    {
     "data": {
      "text/plain": [
       "(3883, 7583)"
      ]
     },
     "execution_count": 36,
     "metadata": {},
     "output_type": "execute_result"
    }
   ],
   "source": [
    "df.shape"
   ]
  },
  {
   "cell_type": "code",
   "execution_count": 41,
   "id": "39d548ac",
   "metadata": {},
   "outputs": [
    {
     "data": {
      "image/png": "[encoded data removed]",
      "text/plain": [
       "<Figure size 432x288 with 1 Axes>"
      ]
     },
     "metadata": {},
     "output_type": "display_data"
    },
    {
     "data": {
      "text/plain": [
       "None"
      ]
     },
     "metadata": {},
     "output_type": "display_data"
    },
    {
     "data": {
      "text/html": [
       "<div>\n",
       "<style scoped>\n",
       "    .dataframe tbody tr th:only-of-type {\n",
       "        vertical-align: middle;\n",
       "    }\n",
       "\n",
       "    .dataframe tbody tr th {\n",
       "        vertical-align: top;\n",
       "    }\n",
       "\n",
       "    .dataframe thead th {\n",
       "        text-align: right;\n",
       "    }\n",
       "</style>\n",
       "<table border=\"1\" class=\"dataframe\">\n",
       "  <thead>\n",
       "    <tr style=\"text-align: right;\">\n",
       "      <th></th>\n",
       "      <th>Cumulative Variance Ratio</th>\n",
       "      <th>Explained Variance Ratio</th>\n",
       "    </tr>\n",
       "  </thead>\n",
       "  <tbody>\n",
       "    <tr>\n",
       "      <th>0</th>\n",
       "      <td>0.007301</td>\n",
       "      <td>0.007301</td>\n",
       "    </tr>\n",
       "    <tr>\n",
       "      <th>1</th>\n",
       "      <td>0.011966</td>\n",
       "      <td>0.004665</td>\n",
       "    </tr>\n",
       "    <tr>\n",
       "      <th>2</th>\n",
       "      <td>0.016324</td>\n",
       "      <td>0.004358</td>\n",
       "    </tr>\n",
       "    <tr>\n",
       "      <th>3</th>\n",
       "      <td>0.020255</td>\n",
       "      <td>0.003931</td>\n",
       "    </tr>\n",
       "    <tr>\n",
       "      <th>4</th>\n",
       "      <td>0.023952</td>\n",
       "      <td>0.003697</td>\n",
       "    </tr>\n",
       "    <tr>\n",
       "      <th>5</th>\n",
       "      <td>0.027616</td>\n",
       "      <td>0.003663</td>\n",
       "    </tr>\n",
       "    <tr>\n",
       "      <th>6</th>\n",
       "      <td>0.031097</td>\n",
       "      <td>0.003482</td>\n",
       "    </tr>\n",
       "    <tr>\n",
       "      <th>7</th>\n",
       "      <td>0.034072</td>\n",
       "      <td>0.002974</td>\n",
       "    </tr>\n",
       "    <tr>\n",
       "      <th>8</th>\n",
       "      <td>0.037045</td>\n",
       "      <td>0.002973</td>\n",
       "    </tr>\n",
       "    <tr>\n",
       "      <th>9</th>\n",
       "      <td>0.039950</td>\n",
       "      <td>0.002906</td>\n",
       "    </tr>\n",
       "  </tbody>\n",
       "</table>\n",
       "</div>"
      ],
      "text/plain": [
       "   Cumulative Variance Ratio  Explained Variance Ratio\n",
       "0                   0.007301                  0.007301\n",
       "1                   0.011966                  0.004665\n",
       "2                   0.016324                  0.004358\n",
       "3                   0.020255                  0.003931\n",
       "4                   0.023952                  0.003697\n",
       "5                   0.027616                  0.003663\n",
       "6                   0.031097                  0.003482\n",
       "7                   0.034072                  0.002974\n",
       "8                   0.037045                  0.002973\n",
       "9                   0.039950                  0.002906"
      ]
     },
     "metadata": {},
     "output_type": "display_data"
    }
   ],
   "source": [
    "import matplotlib.pyplot as plt\n",
    "import numpy as np\n",
    "import seaborn as sns\n",
    "from sklearn.decomposition import PCA\n",
    "pca_test = PCA(n_components=3883)\n",
    "pca_test.fit(df)\n",
    "sns.set(style='whitegrid')\n",
    "plt.plot(np.cumsum(pca_test.explained_variance_ratio_))\n",
    "plt.xlabel('number of components')\n",
    "plt.ylabel('cumulative explained variance')\n",
    "display(plt.show())\n",
    "evr = pca_test.explained_variance_ratio_\n",
    "cvr = np.cumsum(pca_test.explained_variance_ratio_)\n",
    "pca_df = pd.DataFrame()\n",
    "pca_df['Cumulative Variance Ratio'] = cvr\n",
    "pca_df['Explained Variance Ratio'] = evr\n",
    "display(pca_df.head(10))"
   ]
  },
  {
   "cell_type": "markdown",
   "id": "a5837456",
   "metadata": {},
   "source": [
    "Выбор количества компонентов"
   ]
  },
  {
   "cell_type": "markdown",
   "id": "4f70f672",
   "metadata": {},
   "source": [
    "# Применяем метод главных компонент таким образом, чтобы потеря информации составила не более 20%"
   ]
  },
  {
   "cell_type": "code",
   "execution_count": null,
   "id": "1ea34ec7",
   "metadata": {},
   "outputs": [],
   "source": [
    "pca = PCA(2300).fit(df)"
   ]
  }
 ],
 "metadata": {
  "kernelspec": {
   "display_name": "Python 3 (ipykernel)",
   "language": "python",
   "name": "python3"
  },
  "language_info": {
   "codemirror_mode": {
    "name": "ipython",
    "version": 3
   },
   "file_extension": ".py",
   "mimetype": "text/x-python",
   "name": "python",
   "nbconvert_exporter": "python",
   "pygments_lexer": "ipython3",
   "version": "3.9.13"
  }
 },
 "nbformat": 4,
 "nbformat_minor": 5
}
