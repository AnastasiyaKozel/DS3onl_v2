{
 "cells": [
  {
   "cell_type": "markdown",
   "id": "4a93f55e",
   "metadata": {},
   "source": [
    "Мышковец С.А., v.01 02.10.2022\n",
    "\n",
    "Решение задачи: Написать декоратор\n",
    "\n",
    "Напишите декоратор, оптимизирующий работу декорируемой функции. Декоратор должен сохранять результат работы функции на ближайшие три запуска и вместо выполнения функции возвращать сохранённый результат. \n",
    "После трёх запусков функция должна вызываться вновь, а результат работы функции — вновь кешироваться.\n"
   ]
  },
  {
   "cell_type": "code",
   "execution_count": 105,
   "id": "a67f0646",
   "metadata": {},
   "outputs": [],
   "source": [
    "def save_result_ntimes(n):\n",
    "    def save_result(func):\n",
    "        def wrapper(*args, **kwargs):\n",
    "            if wrapper.counter % n == 0:\n",
    "                print('Вызываю функцию')\n",
    "                wrapper.result = func(*args, **kwargs)\n",
    "                wrapper.counter += 1\n",
    "                return wrapper.result\n",
    "            elif wrapper.counter % n != 0:\n",
    "                print('печатаю сохраненный результат')\n",
    "                wrapper.counter += 1\n",
    "                return wrapper.result\n",
    "        wrapper.counter = 0\n",
    "        wrapper.result = None\n",
    "        return wrapper\n",
    "    return save_result"
   ]
  },
  {
   "cell_type": "code",
   "execution_count": 111,
   "id": "2c7b1b41",
   "metadata": {},
   "outputs": [],
   "source": [
    "@save_result_ntimes(4)\n",
    "def say_hello():\n",
    "    return f'Hello'"
   ]
  },
  {
   "cell_type": "code",
   "execution_count": 116,
   "id": "7f118448",
   "metadata": {},
   "outputs": [
    {
     "name": "stdout",
     "output_type": "stream",
     "text": [
      "Вызываю функцию\n"
     ]
    },
    {
     "data": {
      "text/plain": [
       "'Hello'"
      ]
     },
     "execution_count": 116,
     "metadata": {},
     "output_type": "execute_result"
    }
   ],
   "source": [
    "say_hello()"
   ]
  }
 ],
 "metadata": {
  "kernelspec": {
   "display_name": "Python 3 (ipykernel)",
   "language": "python",
   "name": "python3"
  },
  "language_info": {
   "codemirror_mode": {
    "name": "ipython",
    "version": 3
   },
   "file_extension": ".py",
   "mimetype": "text/x-python",
   "name": "python",
   "nbconvert_exporter": "python",
   "pygments_lexer": "ipython3",
   "version": "3.9.12"
  }
 },
 "nbformat": 4,
 "nbformat_minor": 5
}
