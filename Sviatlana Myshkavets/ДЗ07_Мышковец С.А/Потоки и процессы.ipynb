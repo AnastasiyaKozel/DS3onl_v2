{
 "cells": [
  {
   "cell_type": "markdown",
   "id": "ad2e1a11",
   "metadata": {},
   "source": [
    "Мышковец С.А., v.01 03.10.2022\n",
    "\n",
    "Решение задачи: Реализовать с использованием потоков и процессов скачивание файлов из интернета. \n",
    "\n",
    "Список файлов для скачивания подготовить самостоятельно (например изображений, не менее 100 изображений или других объектов). Сравнить производительность с последовательным методом. \n",
    "Сравнивть производительность Thread и multiprocessing решений. Попробовать подобрать оптимальное число потоков/процессов. \n",
    "\n",
    "Вывод:"
   ]
  },
  {
   "cell_type": "code",
   "execution_count": 1,
   "id": "1719c8db",
   "metadata": {},
   "outputs": [
    {
     "name": "stdout",
     "output_type": "stream",
     "text": [
      "Running without threads:\n",
      "https://en.wikipedia.org/wiki/0 - exists\n",
      "https://en.wikipedia.org/wiki/1 - exists\n",
      "https://en.wikipedia.org/wiki/2 - exists\n",
      "https://en.wikipedia.org/wiki/3 - exists\n",
      "https://en.wikipedia.org/wiki/4 - exists\n",
      "https://en.wikipedia.org/wiki/5 - exists\n",
      "https://en.wikipedia.org/wiki/6 - exists\n",
      "https://en.wikipedia.org/wiki/7 - exists\n",
      "https://en.wikipedia.org/wiki/8 - exists\n",
      "https://en.wikipedia.org/wiki/9 - exists\n",
      "https://en.wikipedia.org/wiki/10 - exists\n",
      "https://en.wikipedia.org/wiki/11 - exists\n",
      "https://en.wikipedia.org/wiki/12 - exists\n",
      "https://en.wikipedia.org/wiki/13 - exists\n",
      "https://en.wikipedia.org/wiki/14 - exists\n",
      "https://en.wikipedia.org/wiki/15 - exists\n",
      "https://en.wikipedia.org/wiki/16 - exists\n",
      "https://en.wikipedia.org/wiki/17 - exists\n",
      "https://en.wikipedia.org/wiki/18 - exists\n",
      "https://en.wikipedia.org/wiki/19 - exists\n",
      "https://en.wikipedia.org/wiki/20 - exists\n",
      "https://en.wikipedia.org/wiki/21 - exists\n",
      "https://en.wikipedia.org/wiki/22 - exists\n",
      "https://en.wikipedia.org/wiki/23 - exists\n",
      "https://en.wikipedia.org/wiki/24 - exists\n",
      "https://en.wikipedia.org/wiki/25 - exists\n",
      "https://en.wikipedia.org/wiki/26 - exists\n",
      "https://en.wikipedia.org/wiki/27 - exists\n",
      "https://en.wikipedia.org/wiki/28 - exists\n",
      "https://en.wikipedia.org/wiki/29 - exists\n",
      "https://en.wikipedia.org/wiki/30 - exists\n",
      "https://en.wikipedia.org/wiki/31 - exists\n",
      "https://en.wikipedia.org/wiki/32 - exists\n",
      "https://en.wikipedia.org/wiki/33 - exists\n",
      "https://en.wikipedia.org/wiki/34 - exists\n",
      "https://en.wikipedia.org/wiki/35 - exists\n",
      "https://en.wikipedia.org/wiki/36 - exists\n",
      "https://en.wikipedia.org/wiki/37 - exists\n",
      "https://en.wikipedia.org/wiki/38 - exists\n",
      "https://en.wikipedia.org/wiki/39 - exists\n",
      "https://en.wikipedia.org/wiki/40 - exists\n",
      "https://en.wikipedia.org/wiki/41 - exists\n",
      "https://en.wikipedia.org/wiki/42 - exists\n",
      "https://en.wikipedia.org/wiki/43 - exists\n",
      "https://en.wikipedia.org/wiki/44 - exists\n",
      "https://en.wikipedia.org/wiki/45 - exists\n",
      "https://en.wikipedia.org/wiki/46 - exists\n",
      "https://en.wikipedia.org/wiki/47 - exists\n",
      "https://en.wikipedia.org/wiki/48 - exists\n",
      "https://en.wikipedia.org/wiki/49 - exists\n",
      "Without threads time: 16.279621839523315\n"
     ]
    }
   ],
   "source": [
    "from urllib.request import urlretrieve\n",
    "import time\n",
    "import requests\n",
    "import concurrent.futures\n",
    "\n",
    "\n",
    "def download_wiki_page(wiki_page_url):\n",
    "    urlretrieve(url, 'wiki')\n",
    "    response = requests.get(url=wiki_page_url, timeout=timeout)\n",
    "\n",
    "    page_status = \"unknown\"\n",
    "    if response.status_code == 200:\n",
    "        page_status = \"exists\"\n",
    "    elif response.status_code == 404:\n",
    "        page_status = \"does not exist\"\n",
    "\n",
    "    return wiki_page_url + \" - \" + page_status\n",
    "\n",
    "wiki_page_urls = [\"https://en.wikipedia.org/wiki/\" + str(i) for i in range(50)]\n",
    "\n",
    "print(\"Running without threads:\")\n",
    "without_threads_start = time.time()\n",
    "for url in wiki_page_urls:\n",
    "    print(get_wiki_page_existence(wiki_page_url=url))\n",
    "print(\"Without threads time:\", time.time() - without_threads_start)"
   ]
  },
  {
   "cell_type": "code",
   "execution_count": null,
   "id": "ad742494",
   "metadata": {},
   "outputs": [],
   "source": []
  }
 ],
 "metadata": {
  "kernelspec": {
   "display_name": "Python 3 (ipykernel)",
   "language": "python",
   "name": "python3"
  },
  "language_info": {
   "codemirror_mode": {
    "name": "ipython",
    "version": 3
   },
   "file_extension": ".py",
   "mimetype": "text/x-python",
   "name": "python",
   "nbconvert_exporter": "python",
   "pygments_lexer": "ipython3",
   "version": "3.9.12"
  }
 },
 "nbformat": 4,
 "nbformat_minor": 5
}
