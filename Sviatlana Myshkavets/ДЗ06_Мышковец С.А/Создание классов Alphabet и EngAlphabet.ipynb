{
 "cells": [
  {
   "cell_type": "markdown",
   "id": "ac3321d7",
   "metadata": {},
   "source": [
    "Мышковец С.А., v.01 22.09.2022\n",
    "\n",
    "Решение задачи: Создание классов c наследованием.\n",
    "\n",
    "Вывод: "
   ]
  },
  {
   "cell_type": "markdown",
   "id": "96f3bf26",
   "metadata": {},
   "source": [
    "Класс Alphabet\n",
    "\n",
    "1. Создайте класс Alphabet.\n",
    "2. Создайте метод init(), внутри которого будут определены два динамических свойства: 1) lang - язык и 2) letters - список букв. Начальные значения свойств берутся из входных параметров метода.\n",
    "3. Создайте метод print(), который выведет в консоль буквы алфавита.\n",
    "4. Создайте метод letters_num(), который вернет количество букв в алфавите."
   ]
  },
  {
   "cell_type": "code",
   "execution_count": 384,
   "id": "f2ee5b9f",
   "metadata": {},
   "outputs": [],
   "source": [
    "class Alphabet:\n",
    "    def __init__(self, lang='Ru', letters='АБВГДЕЁЖЗИЙКЛМНОПРСТУФХЦЧШЩЪЫЬЭЮЯ'):\n",
    "        self.lang=lang\n",
    "        self.letters=letters\n",
    "    \n",
    "    def __str__(self):\n",
    "        return f'{self.letters}'\n",
    "    \n",
    "    def print(self):\n",
    "        \"\"\"Возвращает буквы алфавита.\"\"\"\n",
    "        return __str__(self)\n",
    "\n",
    "    def letters_num(self):\n",
    "        \"\"\"Возаращает количество буквы в алфавите.\"\"\"\n",
    "        return len(self.letters)"
   ]
  },
  {
   "cell_type": "code",
   "execution_count": 385,
   "id": "22b1b83b",
   "metadata": {},
   "outputs": [],
   "source": [
    "ru = Alphabet()"
   ]
  },
  {
   "cell_type": "code",
   "execution_count": 386,
   "id": "50e06251",
   "metadata": {},
   "outputs": [
    {
     "name": "stdout",
     "output_type": "stream",
     "text": [
      "АБВГДЕЁЖЗИЙКЛМНОПРСТУФХЦЧШЩЪЫЬЭЮЯ\n"
     ]
    }
   ],
   "source": [
    "print(ru)"
   ]
  },
  {
   "cell_type": "code",
   "execution_count": 387,
   "id": "d69d869f",
   "metadata": {},
   "outputs": [
    {
     "data": {
      "text/plain": [
       "'Ru'"
      ]
     },
     "execution_count": 387,
     "metadata": {},
     "output_type": "execute_result"
    }
   ],
   "source": [
    "ru.lang"
   ]
  },
  {
   "cell_type": "code",
   "execution_count": 388,
   "id": "604cc67d",
   "metadata": {},
   "outputs": [
    {
     "data": {
      "text/plain": [
       "'АБВГДЕЁЖЗИЙКЛМНОПРСТУФХЦЧШЩЪЫЬЭЮЯ'"
      ]
     },
     "execution_count": 388,
     "metadata": {},
     "output_type": "execute_result"
    }
   ],
   "source": [
    "ru.letters"
   ]
  },
  {
   "cell_type": "code",
   "execution_count": 389,
   "id": "cf76ea6d",
   "metadata": {},
   "outputs": [
    {
     "data": {
      "text/plain": [
       "33"
      ]
     },
     "execution_count": 389,
     "metadata": {},
     "output_type": "execute_result"
    }
   ],
   "source": [
    "ru.letters_num()"
   ]
  },
  {
   "cell_type": "markdown",
   "id": "6193accd",
   "metadata": {},
   "source": [
    "Класс EngAlphabet\n",
    "1. Создайте класс EngAlphabet путем наследования от класса Alphabet.\n",
    "2. Создайте метод __init__(), внутри которого будет вызываться родительский метод __init__(). В качестве параметров ему будут передаваться обозначение языка(например, 'En') и строка, состоящая из всех букв алфавита(можно воспользоваться свойством ascii_uppercase из модуля string).\n",
    "3. Добавьте приватное статическое свойство __letters_num, которое будет хранить количество букв в алфавите.\n",
    "4. Создайте метод is_en_letter(), который будет принимать букву в качестве параметра и определять, относится ли эта буква к английскому алфавиту.\n",
    "5. Переопределите метод letters_num() - пусть в текущем классе классе он будет возвращать значение свойства __letters_num.\n",
    "6. Создайте статический метод example(), который будет возвращать пример текста на английском языке."
   ]
  },
  {
   "cell_type": "code",
   "execution_count": 390,
   "id": "7b340aa2",
   "metadata": {},
   "outputs": [],
   "source": [
    "class EngAlphabet(Alphabet):\n",
    "    __letters_num = 'English alphabet has 26 letters.'\n",
    "\n",
    "    def __init__(self, lang='En', letters='ABCDEFGHIJKLMNOPQRSTUVWXYZ'):\n",
    "        self.lang = lang\n",
    "        self.letters = letters\n",
    "        super().__init__(lang, letters)\n",
    "\n",
    "    def is_en_letter(self, letter:str):\n",
    "        \"\"\"Принимать букву в качестве параметра и определяет, является ли эта буква буквой английского алфавита.\"\"\"\n",
    "        if letter.upper() in self.letters:\n",
    "            return f'The letter is in English alphabet.'\n",
    "        else:\n",
    "            return f'The letter is not in English alphabet.'\n",
    "    \n",
    "    def letters_num(self):\n",
    "        \"\"\"Возвращает значение свойства __letters_num.\"\"\"\n",
    "        return self._EngAlphabet__letters_num    \n",
    "    \n",
    "    @staticmethod\n",
    "    def example():\n",
    "        \"\"\"Возвращает пример текста на английском языке.\"\"\"\n",
    "        return f'Here follows an example of some text in English. ' \\\n",
    "               f'London is the capital and largest city of England and the United Kingdom, with a population of just ' \\\n",
    "               f'over 9 million. It stands on the River Thames in south-east England at the head of a 50-mile (80 ' \\\n",
    "               f'km) estuary down to the North Sea, and has been a major settlement for two millennia.'\n",
    "   \n"
   ]
  },
  {
   "cell_type": "code",
   "execution_count": 391,
   "id": "41576e81",
   "metadata": {},
   "outputs": [],
   "source": [
    "en = EngAlphabet()"
   ]
  },
  {
   "cell_type": "code",
   "execution_count": 392,
   "id": "9d777345",
   "metadata": {},
   "outputs": [
    {
     "name": "stdout",
     "output_type": "stream",
     "text": [
      "ABCDEFGHIJKLMNOPQRSTUVWXYZ\n"
     ]
    }
   ],
   "source": [
    "print(en)"
   ]
  },
  {
   "cell_type": "code",
   "execution_count": 393,
   "id": "06b3d540",
   "metadata": {},
   "outputs": [
    {
     "data": {
      "text/plain": [
       "'En'"
      ]
     },
     "execution_count": 393,
     "metadata": {},
     "output_type": "execute_result"
    }
   ],
   "source": [
    "en.lang"
   ]
  },
  {
   "cell_type": "code",
   "execution_count": 394,
   "id": "8970a925",
   "metadata": {},
   "outputs": [
    {
     "data": {
      "text/plain": [
       "'ABCDEFGHIJKLMNOPQRSTUVWXYZ'"
      ]
     },
     "execution_count": 394,
     "metadata": {},
     "output_type": "execute_result"
    }
   ],
   "source": [
    "en.letters"
   ]
  },
  {
   "cell_type": "code",
   "execution_count": 395,
   "id": "2b48a481",
   "metadata": {},
   "outputs": [
    {
     "data": {
      "text/plain": [
       "'English alphabet has 26 letters.'"
      ]
     },
     "execution_count": 395,
     "metadata": {},
     "output_type": "execute_result"
    }
   ],
   "source": [
    "en.letters_num()"
   ]
  },
  {
   "cell_type": "code",
   "execution_count": 396,
   "id": "501f7bcb",
   "metadata": {},
   "outputs": [
    {
     "data": {
      "text/plain": [
       "'The letter is in English alphabet.'"
      ]
     },
     "execution_count": 396,
     "metadata": {},
     "output_type": "execute_result"
    }
   ],
   "source": [
    "en.is_en_letter('b')"
   ]
  },
  {
   "cell_type": "code",
   "execution_count": 397,
   "id": "a35cf9fe",
   "metadata": {},
   "outputs": [
    {
     "data": {
      "text/plain": [
       "'The letter is not in English alphabet.'"
      ]
     },
     "execution_count": 397,
     "metadata": {},
     "output_type": "execute_result"
    }
   ],
   "source": [
    "en.is_en_letter('ь')"
   ]
  },
  {
   "cell_type": "code",
   "execution_count": 398,
   "id": "e2fdb95e",
   "metadata": {},
   "outputs": [
    {
     "data": {
      "text/plain": [
       "'Here follows an example of some text in English. London is the capital and largest city of England and the United Kingdom, with a population of just over 9 million. It stands on the River Thames in south-east England at the head of a 50-mile (80 km) estuary down to the North Sea, and has been a major settlement for two millennia.'"
      ]
     },
     "execution_count": 398,
     "metadata": {},
     "output_type": "execute_result"
    }
   ],
   "source": [
    "en.example()"
   ]
  },
  {
   "cell_type": "code",
   "execution_count": 399,
   "id": "11d45196",
   "metadata": {},
   "outputs": [
    {
     "data": {
      "text/plain": [
       "'English alphabet has 26 letters.'"
      ]
     },
     "execution_count": 399,
     "metadata": {},
     "output_type": "execute_result"
    }
   ],
   "source": [
    "en._EngAlphabet__letters_num"
   ]
  },
  {
   "cell_type": "code",
   "execution_count": 400,
   "id": "fe244fcb",
   "metadata": {},
   "outputs": [
    {
     "data": {
      "text/plain": [
       "'English alphabet has 26 letters.'"
      ]
     },
     "execution_count": 400,
     "metadata": {},
     "output_type": "execute_result"
    }
   ],
   "source": [
    "en.letters_num()"
   ]
  }
 ],
 "metadata": {
  "kernelspec": {
   "display_name": "Python 3 (ipykernel)",
   "language": "python",
   "name": "python3"
  },
  "language_info": {
   "codemirror_mode": {
    "name": "ipython",
    "version": 3
   },
   "file_extension": ".py",
   "mimetype": "text/x-python",
   "name": "python",
   "nbconvert_exporter": "python",
   "pygments_lexer": "ipython3",
   "version": "3.9.12"
  }
 },
 "nbformat": 4,
 "nbformat_minor": 5
}
