{
 "cells": [
  {
   "cell_type": "markdown",
   "id": "977e8142",
   "metadata": {},
   "source": [
    "Мышковец С.А., v.01 30.10.2022\n",
    "\n",
    "Решение задачи: Построить модель машинного обучения для предсказания вероятности того, что клиент уйдет в просрочку более 60 дней (delinq60plus).\n",
    "\n",
    "В данной задаче нам представлены данные в которых ключевое поле — это то, просрочит ли клиент микро-финансовой организации выплату более чем на 60 дней или нет. \n",
    "\n",
    "Задачи:\n",
    "1.  осуществить корректную загрузку данных\n",
    "2.  осуществить разведывательный анализ данных:\n",
    "- разбить выборку на обучающую и тестовую\n",
    "- проанализировать пропуски и решить, что с ними делать\n",
    "- удалить дубликаты\n",
    "- проанализировать выбросы\n",
    "- создать/ удалить переменные\n",
    "- закодировать категориальные переменные\n",
    "- нормализовать числовые переменные (при необходимости)\n",
    "3. построить модель и оценить ее качество\n",
    "4. при необходимости вернуться к предыдущим шагам, чтобы улучшить качество модели\n",
    "5. использовать следующие модели:\n",
    "- GaussianNB\n",
    "- LinearRegression + PolynomialFeatures.При обучении использовать make_pipeline\n",
    "- GridSearchCV для поиска параметров\n",
    "\n",
    "Использовать (не везде, а где мы работаем с данными напрямую) SQL запросы. \n",
    "\n",
    "\n",
    "Вывод: \n",
    "\n",
    "1. Максимальный результат rfc auc на скалированных и нескалированных данных - 0.832\n",
    "2. Очистка БД особых результатов не принесла: разница составила 0.01 в пользу неочищенных данных\n",
    "3. Замена значений \"Пропуск поля\" также знаительно не повялияла на результат (0.830).\n",
    "4. **Максимальный результат rfc auc на скалированных данных - 0.833 при разделе БД на тренировочную и тестовую части до очистки БД.**\n",
    "5. Максимальный результат показал RandomForestClassifier без подбора параметров.\n",
    "\n",
    "\n"
   ]
  },
  {
   "cell_type": "markdown",
   "id": "44d59aaf",
   "metadata": {},
   "source": [
    "# 1. Осуществить корректную загрузку данных"
   ]
  },
  {
   "cell_type": "code",
   "execution_count": 6,
   "id": "85780c57",
   "metadata": {},
   "outputs": [],
   "source": [
    "import pandas as pd\n",
    "import numpy as np\n",
    "\n",
    "pd.set_option(\"display.max_columns\", 50)\n",
    "df = pd.read_csv(\"MFOcredit.csv\", sep= ';')"
   ]
  },
  {
   "cell_type": "code",
   "execution_count": 7,
   "id": "dc6793e5",
   "metadata": {},
   "outputs": [
    {
     "data": {
      "text/html": [
       "<div>\n",
       "<style scoped>\n",
       "    .dataframe tbody tr th:only-of-type {\n",
       "        vertical-align: middle;\n",
       "    }\n",
       "\n",
       "    .dataframe tbody tr th {\n",
       "        vertical-align: top;\n",
       "    }\n",
       "\n",
       "    .dataframe thead th {\n",
       "        text-align: right;\n",
       "    }\n",
       "</style>\n",
       "<table border=\"1\" class=\"dataframe\">\n",
       "  <thead>\n",
       "    <tr style=\"text-align: right;\">\n",
       "      <th></th>\n",
       "      <th>id</th>\n",
       "      <th>date_start</th>\n",
       "      <th>date_end</th>\n",
       "      <th>gender</th>\n",
       "      <th>age</th>\n",
       "      <th>auto</th>\n",
       "      <th>housing</th>\n",
       "      <th>marstatus</th>\n",
       "      <th>regclient</th>\n",
       "      <th>jobtype</th>\n",
       "      <th>region</th>\n",
       "      <th>credits</th>\n",
       "      <th>children</th>\n",
       "      <th>delinq60plus</th>\n",
       "    </tr>\n",
       "  </thead>\n",
       "  <tbody>\n",
       "    <tr>\n",
       "      <th>0</th>\n",
       "      <td>1</td>\n",
       "      <td>03-Jan-2013</td>\n",
       "      <td>12-Jan-2013</td>\n",
       "      <td>Мужской</td>\n",
       "      <td>44</td>\n",
       "      <td>Нет</td>\n",
       "      <td>Собственное</td>\n",
       "      <td>Гражданский брак/женат/замужем</td>\n",
       "      <td>Нет</td>\n",
       "      <td>Официальное</td>\n",
       "      <td>Новосибирская область</td>\n",
       "      <td>Нет</td>\n",
       "      <td>Да</td>\n",
       "      <td>Нет</td>\n",
       "    </tr>\n",
       "    <tr>\n",
       "      <th>1</th>\n",
       "      <td>2</td>\n",
       "      <td>03-Jan-2013</td>\n",
       "      <td>17-Jan-2013</td>\n",
       "      <td>Мужской</td>\n",
       "      <td>21</td>\n",
       "      <td>Пропуск поля</td>\n",
       "      <td>Живут с родителями</td>\n",
       "      <td>Холост</td>\n",
       "      <td>Нет</td>\n",
       "      <td>Официальное</td>\n",
       "      <td>Кемеровская область юг</td>\n",
       "      <td>Да</td>\n",
       "      <td>Нет</td>\n",
       "      <td>Нет</td>\n",
       "    </tr>\n",
       "    <tr>\n",
       "      <th>2</th>\n",
       "      <td>3</td>\n",
       "      <td>03-Jan-2013</td>\n",
       "      <td>17-Jan-2013</td>\n",
       "      <td>Мужской</td>\n",
       "      <td>25</td>\n",
       "      <td>Пропуск поля</td>\n",
       "      <td>Собственное</td>\n",
       "      <td>Холост</td>\n",
       "      <td>Да</td>\n",
       "      <td>Официальное</td>\n",
       "      <td>Кемеровская область север</td>\n",
       "      <td>Пропуск поля</td>\n",
       "      <td>Нет</td>\n",
       "      <td>Нет</td>\n",
       "    </tr>\n",
       "    <tr>\n",
       "      <th>3</th>\n",
       "      <td>4</td>\n",
       "      <td>03-Jan-2013</td>\n",
       "      <td>17-Jan-2013</td>\n",
       "      <td>Женский</td>\n",
       "      <td>47</td>\n",
       "      <td>Пропуск поля</td>\n",
       "      <td>Собственное</td>\n",
       "      <td>Гражданский брак/женат/замужем</td>\n",
       "      <td>Да</td>\n",
       "      <td>Официальное</td>\n",
       "      <td>Кемеровская область север</td>\n",
       "      <td>Нет</td>\n",
       "      <td>Нет</td>\n",
       "      <td>Нет</td>\n",
       "    </tr>\n",
       "    <tr>\n",
       "      <th>4</th>\n",
       "      <td>5</td>\n",
       "      <td>03-Jan-2013</td>\n",
       "      <td>17-Jan-2013</td>\n",
       "      <td>Мужской</td>\n",
       "      <td>22</td>\n",
       "      <td>Нет</td>\n",
       "      <td>Арендуемое</td>\n",
       "      <td>Гражданский брак/женат/замужем</td>\n",
       "      <td>Нет</td>\n",
       "      <td>Официальное</td>\n",
       "      <td>Кемеровская область север</td>\n",
       "      <td>Да</td>\n",
       "      <td>Да</td>\n",
       "      <td>Нет</td>\n",
       "    </tr>\n",
       "  </tbody>\n",
       "</table>\n",
       "</div>"
      ],
      "text/plain": [
       "   id   date_start     date_end   gender  age          auto  \\\n",
       "0   1  03-Jan-2013  12-Jan-2013  Мужской   44           Нет   \n",
       "1   2  03-Jan-2013  17-Jan-2013  Мужской   21  Пропуск поля   \n",
       "2   3  03-Jan-2013  17-Jan-2013  Мужской   25  Пропуск поля   \n",
       "3   4  03-Jan-2013  17-Jan-2013  Женский   47  Пропуск поля   \n",
       "4   5  03-Jan-2013  17-Jan-2013  Мужской   22           Нет   \n",
       "\n",
       "              housing                       marstatus regclient      jobtype  \\\n",
       "0         Собственное  Гражданский брак/женат/замужем       Нет  Официальное   \n",
       "1  Живут с родителями                          Холост       Нет  Официальное   \n",
       "2         Собственное                          Холост        Да  Официальное   \n",
       "3         Собственное  Гражданский брак/женат/замужем        Да  Официальное   \n",
       "4          Арендуемое  Гражданский брак/женат/замужем       Нет  Официальное   \n",
       "\n",
       "                      region       credits children delinq60plus  \n",
       "0      Новосибирская область           Нет       Да          Нет  \n",
       "1     Кемеровская область юг            Да      Нет          Нет  \n",
       "2  Кемеровская область север  Пропуск поля      Нет          Нет  \n",
       "3  Кемеровская область север           Нет      Нет          Нет  \n",
       "4  Кемеровская область север            Да       Да          Нет  "
      ]
     },
     "execution_count": 7,
     "metadata": {},
     "output_type": "execute_result"
    }
   ],
   "source": [
    "df.head()"
   ]
  },
  {
   "cell_type": "markdown",
   "id": "ee075b3e",
   "metadata": {},
   "source": [
    "# 2. Осуществить разведывательный анализ данных:"
   ]
  },
  {
   "cell_type": "markdown",
   "id": "a9b47613",
   "metadata": {},
   "source": [
    "## Проанализировать пропуски и решить, что с ними делать"
   ]
  },
  {
   "cell_type": "code",
   "execution_count": 8,
   "id": "d2488aad",
   "metadata": {},
   "outputs": [
    {
     "data": {
      "text/html": [
       "<div>\n",
       "<style scoped>\n",
       "    .dataframe tbody tr th:only-of-type {\n",
       "        vertical-align: middle;\n",
       "    }\n",
       "\n",
       "    .dataframe tbody tr th {\n",
       "        vertical-align: top;\n",
       "    }\n",
       "\n",
       "    .dataframe thead th {\n",
       "        text-align: right;\n",
       "    }\n",
       "</style>\n",
       "<table border=\"1\" class=\"dataframe\">\n",
       "  <thead>\n",
       "    <tr style=\"text-align: right;\">\n",
       "      <th></th>\n",
       "      <th>id</th>\n",
       "      <th>age</th>\n",
       "    </tr>\n",
       "  </thead>\n",
       "  <tbody>\n",
       "    <tr>\n",
       "      <th>count</th>\n",
       "      <td>35212.000000</td>\n",
       "      <td>35212.000000</td>\n",
       "    </tr>\n",
       "    <tr>\n",
       "      <th>mean</th>\n",
       "      <td>17606.500000</td>\n",
       "      <td>37.243525</td>\n",
       "    </tr>\n",
       "    <tr>\n",
       "      <th>std</th>\n",
       "      <td>10164.973176</td>\n",
       "      <td>13.183961</td>\n",
       "    </tr>\n",
       "    <tr>\n",
       "      <th>min</th>\n",
       "      <td>1.000000</td>\n",
       "      <td>18.000000</td>\n",
       "    </tr>\n",
       "    <tr>\n",
       "      <th>25%</th>\n",
       "      <td>8803.750000</td>\n",
       "      <td>26.000000</td>\n",
       "    </tr>\n",
       "    <tr>\n",
       "      <th>50%</th>\n",
       "      <td>17606.500000</td>\n",
       "      <td>34.000000</td>\n",
       "    </tr>\n",
       "    <tr>\n",
       "      <th>75%</th>\n",
       "      <td>26409.250000</td>\n",
       "      <td>48.000000</td>\n",
       "    </tr>\n",
       "    <tr>\n",
       "      <th>max</th>\n",
       "      <td>35212.000000</td>\n",
       "      <td>75.000000</td>\n",
       "    </tr>\n",
       "  </tbody>\n",
       "</table>\n",
       "</div>"
      ],
      "text/plain": [
       "                 id           age\n",
       "count  35212.000000  35212.000000\n",
       "mean   17606.500000     37.243525\n",
       "std    10164.973176     13.183961\n",
       "min        1.000000     18.000000\n",
       "25%     8803.750000     26.000000\n",
       "50%    17606.500000     34.000000\n",
       "75%    26409.250000     48.000000\n",
       "max    35212.000000     75.000000"
      ]
     },
     "execution_count": 8,
     "metadata": {},
     "output_type": "execute_result"
    }
   ],
   "source": [
    "df.describe()"
   ]
  },
  {
   "cell_type": "code",
   "execution_count": 9,
   "id": "e0e5bce2",
   "metadata": {},
   "outputs": [
    {
     "name": "stdout",
     "output_type": "stream",
     "text": [
      "<class 'pandas.core.frame.DataFrame'>\n",
      "RangeIndex: 35212 entries, 0 to 35211\n",
      "Data columns (total 14 columns):\n",
      " #   Column        Non-Null Count  Dtype \n",
      "---  ------        --------------  ----- \n",
      " 0   id            35212 non-null  int64 \n",
      " 1   date_start    35212 non-null  object\n",
      " 2   date_end      35212 non-null  object\n",
      " 3   gender        35212 non-null  object\n",
      " 4   age           35212 non-null  int64 \n",
      " 5   auto          35212 non-null  object\n",
      " 6   housing       35212 non-null  object\n",
      " 7   marstatus     35212 non-null  object\n",
      " 8   regclient     35212 non-null  object\n",
      " 9   jobtype       35212 non-null  object\n",
      " 10  region        35212 non-null  object\n",
      " 11  credits       35212 non-null  object\n",
      " 12  children      35212 non-null  object\n",
      " 13  delinq60plus  35212 non-null  object\n",
      "dtypes: int64(2), object(12)\n",
      "memory usage: 3.8+ MB\n"
     ]
    }
   ],
   "source": [
    "df.info()"
   ]
  },
  {
   "cell_type": "code",
   "execution_count": 10,
   "id": "9190a8b9",
   "metadata": {},
   "outputs": [
    {
     "data": {
      "text/plain": [
       "id              0\n",
       "date_start      0\n",
       "date_end        0\n",
       "gender          0\n",
       "age             0\n",
       "auto            0\n",
       "housing         0\n",
       "marstatus       0\n",
       "regclient       0\n",
       "jobtype         0\n",
       "region          0\n",
       "credits         0\n",
       "children        0\n",
       "delinq60plus    0\n",
       "dtype: int64"
      ]
     },
     "execution_count": 10,
     "metadata": {},
     "output_type": "execute_result"
    }
   ],
   "source": [
    "df.isna().sum()"
   ]
  },
  {
   "cell_type": "markdown",
   "id": "87fd5a4c",
   "metadata": {},
   "source": [
    "**Пропусков, NaN и нулевых значений в БД нет.**"
   ]
  },
  {
   "cell_type": "code",
   "execution_count": 11,
   "id": "754fec6c",
   "metadata": {},
   "outputs": [
    {
     "data": {
      "text/plain": [
       "gender\n",
       "Мужской    16937\n",
       "Женский    18275\n",
       "Name: id, dtype: int64"
      ]
     },
     "execution_count": 11,
     "metadata": {},
     "output_type": "execute_result"
    }
   ],
   "source": [
    "df.groupby(\"gender\")[\"id\"].count().sort_values()"
   ]
  },
  {
   "cell_type": "code",
   "execution_count": 12,
   "id": "167582bb",
   "metadata": {},
   "outputs": [
    {
     "data": {
      "text/plain": [
       "auto\n",
       "Да               3670\n",
       "Пропуск поля    14077\n",
       "Нет             17465\n",
       "Name: id, dtype: int64"
      ]
     },
     "execution_count": 12,
     "metadata": {},
     "output_type": "execute_result"
    }
   ],
   "source": [
    "df.groupby(\"auto\")[\"id\"].count().sort_values()"
   ]
  },
  {
   "cell_type": "code",
   "execution_count": 13,
   "id": "427be91b",
   "metadata": {},
   "outputs": [
    {
     "data": {
      "text/plain": [
       "housing\n",
       "Муниципальное             1358\n",
       "Арендуемое                2020\n",
       "Долевая собственность     2955\n",
       "Живут с родителями        3177\n",
       "Пропуск поля              7603\n",
       "Собственное              18099\n",
       "Name: id, dtype: int64"
      ]
     },
     "execution_count": 13,
     "metadata": {},
     "output_type": "execute_result"
    }
   ],
   "source": [
    "df.groupby(\"housing\")[\"id\"].count().sort_values()"
   ]
  },
  {
   "cell_type": "code",
   "execution_count": 14,
   "id": "febb9c9f",
   "metadata": {},
   "outputs": [
    {
     "data": {
      "text/plain": [
       "marstatus\n",
       "Вдова/вдовец                       1845\n",
       "Разведен                           2871\n",
       "Пропуск поля                       7564\n",
       "Холост                             8833\n",
       "Гражданский брак/женат/замужем    14099\n",
       "Name: id, dtype: int64"
      ]
     },
     "execution_count": 14,
     "metadata": {},
     "output_type": "execute_result"
    }
   ],
   "source": [
    "df.groupby(\"marstatus\")[\"id\"].count().sort_values()"
   ]
  },
  {
   "cell_type": "code",
   "execution_count": 15,
   "id": "0e51d1c5",
   "metadata": {},
   "outputs": [
    {
     "data": {
      "text/plain": [
       "regclient\n",
       "Нет    15479\n",
       "Да     19733\n",
       "Name: id, dtype: int64"
      ]
     },
     "execution_count": 15,
     "metadata": {},
     "output_type": "execute_result"
    }
   ],
   "source": [
    "df.groupby(\"regclient\")[\"id\"].count().sort_values()"
   ]
  },
  {
   "cell_type": "code",
   "execution_count": 16,
   "id": "b0defd8e",
   "metadata": {},
   "outputs": [
    {
     "data": {
      "text/plain": [
       "jobtype\n",
       "Неофициальное     1167\n",
       "Пропуск поля     14457\n",
       "Официальное      19588\n",
       "Name: id, dtype: int64"
      ]
     },
     "execution_count": 16,
     "metadata": {},
     "output_type": "execute_result"
    }
   ],
   "source": [
    "df.groupby(\"jobtype\")[\"id\"].count().sort_values()"
   ]
  },
  {
   "cell_type": "code",
   "execution_count": 17,
   "id": "a3aa89e8",
   "metadata": {},
   "outputs": [
    {
     "data": {
      "text/plain": [
       "region\n",
       "Красноярский край             2244\n",
       "Новосибирская область         4327\n",
       "Алтайский край                5172\n",
       "Кемеровская область юг       11022\n",
       "Кемеровская область север    12447\n",
       "Name: id, dtype: int64"
      ]
     },
     "execution_count": 17,
     "metadata": {},
     "output_type": "execute_result"
    }
   ],
   "source": [
    "df.groupby(\"region\")[\"id\"].count().sort_values()"
   ]
  },
  {
   "cell_type": "code",
   "execution_count": 18,
   "id": "5940a206",
   "metadata": {},
   "outputs": [
    {
     "data": {
      "text/plain": [
       "credits\n",
       "Пропуск поля      946\n",
       "Да              16140\n",
       "Нет             18126\n",
       "Name: id, dtype: int64"
      ]
     },
     "execution_count": 18,
     "metadata": {},
     "output_type": "execute_result"
    }
   ],
   "source": [
    "df.groupby(\"credits\")[\"id\"].count().sort_values()"
   ]
  },
  {
   "cell_type": "code",
   "execution_count": 19,
   "id": "7070575a",
   "metadata": {},
   "outputs": [
    {
     "data": {
      "text/plain": [
       "children\n",
       "Пропуск поля      745\n",
       "Да              13326\n",
       "Нет             21141\n",
       "Name: id, dtype: int64"
      ]
     },
     "execution_count": 19,
     "metadata": {},
     "output_type": "execute_result"
    }
   ],
   "source": [
    "df.groupby(\"children\")[\"id\"].count().sort_values()"
   ]
  },
  {
   "cell_type": "markdown",
   "id": "6e1edfee",
   "metadata": {},
   "source": [
    "**Есть колонки (\"auto\", \"housing\", \"marstatus\", \"jobtype\", \"credits\", \"children\") со значением \"Пропуск поля\"**"
   ]
  },
  {
   "cell_type": "code",
   "execution_count": 20,
   "id": "0e40ec1b",
   "metadata": {},
   "outputs": [
    {
     "data": {
      "text/plain": [
       "<AxesSubplot:>"
      ]
     },
     "execution_count": 20,
     "metadata": {},
     "output_type": "execute_result"
    },
    {
     "data": {
      "image/png": "[encoded data removed]",
      "text/plain": [
       "<Figure size 640x480 with 2 Axes>"
      ]
     },
     "metadata": {},
     "output_type": "display_data"
    }
   ],
   "source": [
    "import seaborn as sns\n",
    "cols = df.columns\n",
    "# определяем цвета \n",
    "# желтый - пропущенные данные, синий - не пропущенные\n",
    "colours = ['#000099', '#ffff00'] \n",
    "sns.heatmap(df[cols]=='Пропуск поля', cmap=sns.color_palette(colours))"
   ]
  },
  {
   "cell_type": "code",
   "execution_count": 21,
   "id": "f4999393",
   "metadata": {},
   "outputs": [],
   "source": [
    "df_4_Nan = df[(df['auto']=='Пропуск поля') & (df['housing']=='Пропуск поля') & (df['marstatus']=='Пропуск поля') & (df['jobtype']=='Пропуск поля')]"
   ]
  },
  {
   "cell_type": "code",
   "execution_count": 22,
   "id": "fdcab907",
   "metadata": {},
   "outputs": [
    {
     "name": "stdout",
     "output_type": "stream",
     "text": [
      "<class 'pandas.core.frame.DataFrame'>\n",
      "Int64Index: 6422 entries, 8 to 35211\n",
      "Data columns (total 14 columns):\n",
      " #   Column        Non-Null Count  Dtype \n",
      "---  ------        --------------  ----- \n",
      " 0   id            6422 non-null   int64 \n",
      " 1   date_start    6422 non-null   object\n",
      " 2   date_end      6422 non-null   object\n",
      " 3   gender        6422 non-null   object\n",
      " 4   age           6422 non-null   int64 \n",
      " 5   auto          6422 non-null   object\n",
      " 6   housing       6422 non-null   object\n",
      " 7   marstatus     6422 non-null   object\n",
      " 8   regclient     6422 non-null   object\n",
      " 9   jobtype       6422 non-null   object\n",
      " 10  region        6422 non-null   object\n",
      " 11  credits       6422 non-null   object\n",
      " 12  children      6422 non-null   object\n",
      " 13  delinq60plus  6422 non-null   object\n",
      "dtypes: int64(2), object(12)\n",
      "memory usage: 752.6+ KB\n"
     ]
    }
   ],
   "source": [
    "df_4_Nan.info()"
   ]
  },
  {
   "cell_type": "code",
   "execution_count": 23,
   "id": "b1a7a65f",
   "metadata": {},
   "outputs": [],
   "source": [
    "# **Удаляем строки, в которых 4 колонки имееют значение \"Пропуск поля\"**"
   ]
  },
  {
   "cell_type": "code",
   "execution_count": 24,
   "id": "c1b1e04f",
   "metadata": {},
   "outputs": [],
   "source": [
    "# df.drop(df[(df['auto']=='Пропуск поля') & (df['housing']=='Пропуск поля') & (df['marstatus']=='Пропуск поля') & (df['jobtype']=='Пропуск поля')].index, inplace = True)"
   ]
  },
  {
   "cell_type": "code",
   "execution_count": 25,
   "id": "9b0ddbee",
   "metadata": {},
   "outputs": [],
   "source": [
    "# df.info()"
   ]
  },
  {
   "cell_type": "code",
   "execution_count": 26,
   "id": "1a46a76f",
   "metadata": {},
   "outputs": [],
   "source": [
    "# df.groupby(\"jobtype\")[\"id\"].count().sort_values()"
   ]
  },
  {
   "cell_type": "code",
   "execution_count": 27,
   "id": "1ef7a2e2",
   "metadata": {},
   "outputs": [],
   "source": [
    "# **Удаляем колонку 'jobtype', т.к. 48% данных неизвестны**"
   ]
  },
  {
   "cell_type": "code",
   "execution_count": 28,
   "id": "732694a1",
   "metadata": {},
   "outputs": [],
   "source": [
    "# df = df.drop(['jobtype'], axis=1)"
   ]
  },
  {
   "cell_type": "code",
   "execution_count": 29,
   "id": "dee7a6c3",
   "metadata": {},
   "outputs": [],
   "source": [
    "# df.columns"
   ]
  },
  {
   "cell_type": "code",
   "execution_count": 30,
   "id": "60586c1f",
   "metadata": {},
   "outputs": [],
   "source": [
    "# df.groupby(\"auto\")[\"id\"].count().sort_values()"
   ]
  },
  {
   "cell_type": "markdown",
   "id": "3d8ad4a9",
   "metadata": {},
   "source": [
    "**Учитывая 25% пропусков в колонке 'auto', исходим из худших финансовых гарантий и меняем значение 'Пропуск поля' на 'Нет'**"
   ]
  },
  {
   "cell_type": "code",
   "execution_count": 31,
   "id": "9a8f36e7",
   "metadata": {},
   "outputs": [],
   "source": [
    "df[\"auto\"] = df[\"auto\"].replace(\"Пропуск поля\", \"Нет\", regex=True)"
   ]
  },
  {
   "cell_type": "markdown",
   "id": "b2f5e416",
   "metadata": {},
   "source": [
    "**Исходим из худших финансовых гарантий и меняем значение колонки \"housing\" с 'Пропуск поля' на 'Арендуемое'**"
   ]
  },
  {
   "cell_type": "code",
   "execution_count": 32,
   "id": "42f966c6",
   "metadata": {},
   "outputs": [],
   "source": [
    "df[\"housing\"] = df[\"housing\"].replace(\"Пропуск поля\", \"Арендуемое\", regex=True)"
   ]
  },
  {
   "cell_type": "code",
   "execution_count": 33,
   "id": "0d596bea",
   "metadata": {},
   "outputs": [],
   "source": [
    "df.loc[df[\"children\"] == \"Да\", \"marstatus\"] = \"Гражданский брак/женат/замужем\""
   ]
  },
  {
   "cell_type": "code",
   "execution_count": 34,
   "id": "c5a17364",
   "metadata": {},
   "outputs": [],
   "source": [
    "df[\"marstatus\"] = df[\"marstatus\"].replace(\"Пропуск поля\", \"Разведен\", regex=True)"
   ]
  },
  {
   "cell_type": "code",
   "execution_count": 35,
   "id": "8e17a6a2",
   "metadata": {},
   "outputs": [],
   "source": [
    "df[\"credits\"] = df[\"credits\"].replace(\"Пропуск поля\", \"Да\", regex=True)"
   ]
  },
  {
   "cell_type": "code",
   "execution_count": 36,
   "id": "a48e0fcc",
   "metadata": {},
   "outputs": [],
   "source": [
    "df[\"children\"] = df[\"children\"].replace(\"Пропуск поля\", \"Да\", regex=True)"
   ]
  },
  {
   "cell_type": "code",
   "execution_count": 37,
   "id": "6d5b2bbc",
   "metadata": {},
   "outputs": [],
   "source": [
    "df[\"credits\"] = df[\"credits\"].replace(\"Да\", 1 , regex=True)\n",
    "df[\"credits\"] = df[\"credits\"].replace(\"Нет\", 0 , regex=True)"
   ]
  },
  {
   "cell_type": "code",
   "execution_count": 38,
   "id": "899c4ee9",
   "metadata": {},
   "outputs": [],
   "source": [
    "df[\"regclient\"] = df[\"regclient\"].replace(\"Нет\", 0 , regex=True)\n",
    "df[\"regclient\"] = df[\"regclient\"].replace(\"Да\", 1 , regex=True)"
   ]
  },
  {
   "cell_type": "code",
   "execution_count": 39,
   "id": "113308af",
   "metadata": {},
   "outputs": [],
   "source": [
    "df[\"auto\"] = df[\"auto\"].replace(\"Нет\", 0 , regex=True)\n",
    "df[\"auto\"] = df[\"auto\"].replace(\"Да\", 1 , regex=True)"
   ]
  },
  {
   "cell_type": "code",
   "execution_count": 40,
   "id": "3e92d277",
   "metadata": {},
   "outputs": [],
   "source": [
    "df[\"children\"] = df[\"children\"].replace(\"Нет\", 0 , regex=True)\n",
    "df[\"children\"] = df[\"children\"].replace(\"Да\", 1 , regex=True)"
   ]
  },
  {
   "cell_type": "code",
   "execution_count": 41,
   "id": "0f190568",
   "metadata": {},
   "outputs": [
    {
     "name": "stdout",
     "output_type": "stream",
     "text": [
      "<class 'pandas.core.frame.DataFrame'>\n",
      "RangeIndex: 35212 entries, 0 to 35211\n",
      "Data columns (total 14 columns):\n",
      " #   Column        Non-Null Count  Dtype \n",
      "---  ------        --------------  ----- \n",
      " 0   id            35212 non-null  int64 \n",
      " 1   date_start    35212 non-null  object\n",
      " 2   date_end      35212 non-null  object\n",
      " 3   gender        35212 non-null  object\n",
      " 4   age           35212 non-null  int64 \n",
      " 5   auto          35212 non-null  int64 \n",
      " 6   housing       35212 non-null  object\n",
      " 7   marstatus     35212 non-null  object\n",
      " 8   regclient     35212 non-null  int64 \n",
      " 9   jobtype       35212 non-null  object\n",
      " 10  region        35212 non-null  object\n",
      " 11  credits       35212 non-null  int64 \n",
      " 12  children      35212 non-null  int64 \n",
      " 13  delinq60plus  35212 non-null  object\n",
      "dtypes: int64(6), object(8)\n",
      "memory usage: 3.8+ MB\n"
     ]
    }
   ],
   "source": [
    "df.info()"
   ]
  },
  {
   "cell_type": "markdown",
   "id": "3f58cfd9",
   "metadata": {},
   "source": [
    "# Удалить дубликаты"
   ]
  },
  {
   "cell_type": "code",
   "execution_count": 42,
   "id": "15c18c85",
   "metadata": {},
   "outputs": [],
   "source": [
    "column_names = ['date_start', 'date_end', 'gender', 'age', 'auto', 'marstatus', 'region', 'housing', 'regclient', 'credits']"
   ]
  },
  {
   "cell_type": "code",
   "execution_count": 43,
   "id": "a594490b",
   "metadata": {},
   "outputs": [],
   "source": [
    "duplicates = df.duplicated(subset=column_names, keep=False)"
   ]
  },
  {
   "cell_type": "code",
   "execution_count": 44,
   "id": "362a9126",
   "metadata": {},
   "outputs": [
    {
     "data": {
      "text/html": [
       "<div>\n",
       "<style scoped>\n",
       "    .dataframe tbody tr th:only-of-type {\n",
       "        vertical-align: middle;\n",
       "    }\n",
       "\n",
       "    .dataframe tbody tr th {\n",
       "        vertical-align: top;\n",
       "    }\n",
       "\n",
       "    .dataframe thead th {\n",
       "        text-align: right;\n",
       "    }\n",
       "</style>\n",
       "<table border=\"1\" class=\"dataframe\">\n",
       "  <thead>\n",
       "    <tr style=\"text-align: right;\">\n",
       "      <th></th>\n",
       "      <th>id</th>\n",
       "      <th>date_start</th>\n",
       "      <th>date_end</th>\n",
       "      <th>gender</th>\n",
       "      <th>age</th>\n",
       "      <th>auto</th>\n",
       "      <th>housing</th>\n",
       "      <th>marstatus</th>\n",
       "      <th>regclient</th>\n",
       "      <th>jobtype</th>\n",
       "      <th>region</th>\n",
       "      <th>credits</th>\n",
       "      <th>children</th>\n",
       "      <th>delinq60plus</th>\n",
       "    </tr>\n",
       "  </thead>\n",
       "  <tbody>\n",
       "    <tr>\n",
       "      <th>91</th>\n",
       "      <td>92</td>\n",
       "      <td>05-Jan-2013</td>\n",
       "      <td>19-Jan-2013</td>\n",
       "      <td>Женский</td>\n",
       "      <td>38</td>\n",
       "      <td>0</td>\n",
       "      <td>Собственное</td>\n",
       "      <td>Гражданский брак/женат/замужем</td>\n",
       "      <td>0</td>\n",
       "      <td>Официальное</td>\n",
       "      <td>Кемеровская область север</td>\n",
       "      <td>1</td>\n",
       "      <td>1</td>\n",
       "      <td>Да</td>\n",
       "    </tr>\n",
       "    <tr>\n",
       "      <th>99</th>\n",
       "      <td>100</td>\n",
       "      <td>05-Jan-2013</td>\n",
       "      <td>19-Jan-2013</td>\n",
       "      <td>Женский</td>\n",
       "      <td>38</td>\n",
       "      <td>0</td>\n",
       "      <td>Собственное</td>\n",
       "      <td>Гражданский брак/женат/замужем</td>\n",
       "      <td>0</td>\n",
       "      <td>Пропуск поля</td>\n",
       "      <td>Кемеровская область север</td>\n",
       "      <td>1</td>\n",
       "      <td>1</td>\n",
       "      <td>Да</td>\n",
       "    </tr>\n",
       "    <tr>\n",
       "      <th>1100</th>\n",
       "      <td>1101</td>\n",
       "      <td>29-Jan-2013</td>\n",
       "      <td>12-Feb-2013</td>\n",
       "      <td>Мужской</td>\n",
       "      <td>26</td>\n",
       "      <td>0</td>\n",
       "      <td>Собственное</td>\n",
       "      <td>Гражданский брак/женат/замужем</td>\n",
       "      <td>0</td>\n",
       "      <td>Официальное</td>\n",
       "      <td>Кемеровская область юг</td>\n",
       "      <td>0</td>\n",
       "      <td>1</td>\n",
       "      <td>Да</td>\n",
       "    </tr>\n",
       "    <tr>\n",
       "      <th>1114</th>\n",
       "      <td>1115</td>\n",
       "      <td>29-Jan-2013</td>\n",
       "      <td>12-Feb-2013</td>\n",
       "      <td>Мужской</td>\n",
       "      <td>26</td>\n",
       "      <td>0</td>\n",
       "      <td>Собственное</td>\n",
       "      <td>Гражданский брак/женат/замужем</td>\n",
       "      <td>0</td>\n",
       "      <td>Официальное</td>\n",
       "      <td>Кемеровская область юг</td>\n",
       "      <td>0</td>\n",
       "      <td>0</td>\n",
       "      <td>Да</td>\n",
       "    </tr>\n",
       "    <tr>\n",
       "      <th>1501</th>\n",
       "      <td>1502</td>\n",
       "      <td>06-Feb-2013</td>\n",
       "      <td>20-Feb-2013</td>\n",
       "      <td>Женский</td>\n",
       "      <td>33</td>\n",
       "      <td>0</td>\n",
       "      <td>Собственное</td>\n",
       "      <td>Гражданский брак/женат/замужем</td>\n",
       "      <td>1</td>\n",
       "      <td>Пропуск поля</td>\n",
       "      <td>Кемеровская область север</td>\n",
       "      <td>0</td>\n",
       "      <td>1</td>\n",
       "      <td>Да</td>\n",
       "    </tr>\n",
       "    <tr>\n",
       "      <th>...</th>\n",
       "      <td>...</td>\n",
       "      <td>...</td>\n",
       "      <td>...</td>\n",
       "      <td>...</td>\n",
       "      <td>...</td>\n",
       "      <td>...</td>\n",
       "      <td>...</td>\n",
       "      <td>...</td>\n",
       "      <td>...</td>\n",
       "      <td>...</td>\n",
       "      <td>...</td>\n",
       "      <td>...</td>\n",
       "      <td>...</td>\n",
       "      <td>...</td>\n",
       "    </tr>\n",
       "    <tr>\n",
       "      <th>35101</th>\n",
       "      <td>35102</td>\n",
       "      <td>03-Jan-2014</td>\n",
       "      <td>17-Jan-2014</td>\n",
       "      <td>Женский</td>\n",
       "      <td>23</td>\n",
       "      <td>0</td>\n",
       "      <td>Арендуемое</td>\n",
       "      <td>Разведен</td>\n",
       "      <td>0</td>\n",
       "      <td>Пропуск поля</td>\n",
       "      <td>Кемеровская область юг</td>\n",
       "      <td>0</td>\n",
       "      <td>0</td>\n",
       "      <td>Нет</td>\n",
       "    </tr>\n",
       "    <tr>\n",
       "      <th>35114</th>\n",
       "      <td>35115</td>\n",
       "      <td>03-Jan-2014</td>\n",
       "      <td>17-Jan-2014</td>\n",
       "      <td>Женский</td>\n",
       "      <td>35</td>\n",
       "      <td>0</td>\n",
       "      <td>Собственное</td>\n",
       "      <td>Гражданский брак/женат/замужем</td>\n",
       "      <td>1</td>\n",
       "      <td>Пропуск поля</td>\n",
       "      <td>Кемеровская область север</td>\n",
       "      <td>0</td>\n",
       "      <td>1</td>\n",
       "      <td>Нет</td>\n",
       "    </tr>\n",
       "    <tr>\n",
       "      <th>35122</th>\n",
       "      <td>35123</td>\n",
       "      <td>03-Jan-2014</td>\n",
       "      <td>17-Jan-2014</td>\n",
       "      <td>Женский</td>\n",
       "      <td>63</td>\n",
       "      <td>0</td>\n",
       "      <td>Собственное</td>\n",
       "      <td>Вдова/вдовец</td>\n",
       "      <td>1</td>\n",
       "      <td>Пропуск поля</td>\n",
       "      <td>Кемеровская область север</td>\n",
       "      <td>1</td>\n",
       "      <td>0</td>\n",
       "      <td>Нет</td>\n",
       "    </tr>\n",
       "    <tr>\n",
       "      <th>35141</th>\n",
       "      <td>35142</td>\n",
       "      <td>03-Jan-2014</td>\n",
       "      <td>17-Jan-2014</td>\n",
       "      <td>Женский</td>\n",
       "      <td>23</td>\n",
       "      <td>0</td>\n",
       "      <td>Арендуемое</td>\n",
       "      <td>Разведен</td>\n",
       "      <td>0</td>\n",
       "      <td>Пропуск поля</td>\n",
       "      <td>Кемеровская область юг</td>\n",
       "      <td>0</td>\n",
       "      <td>0</td>\n",
       "      <td>Нет</td>\n",
       "    </tr>\n",
       "    <tr>\n",
       "      <th>35193</th>\n",
       "      <td>35194</td>\n",
       "      <td>03-Jan-2014</td>\n",
       "      <td>17-Jan-2014</td>\n",
       "      <td>Женский</td>\n",
       "      <td>63</td>\n",
       "      <td>0</td>\n",
       "      <td>Собственное</td>\n",
       "      <td>Вдова/вдовец</td>\n",
       "      <td>1</td>\n",
       "      <td>Пропуск поля</td>\n",
       "      <td>Кемеровская область север</td>\n",
       "      <td>1</td>\n",
       "      <td>0</td>\n",
       "      <td>Нет</td>\n",
       "    </tr>\n",
       "  </tbody>\n",
       "</table>\n",
       "<p>552 rows × 14 columns</p>\n",
       "</div>"
      ],
      "text/plain": [
       "          id   date_start     date_end   gender  age  auto      housing  \\\n",
       "91        92  05-Jan-2013  19-Jan-2013  Женский   38     0  Собственное   \n",
       "99       100  05-Jan-2013  19-Jan-2013  Женский   38     0  Собственное   \n",
       "1100    1101  29-Jan-2013  12-Feb-2013  Мужской   26     0  Собственное   \n",
       "1114    1115  29-Jan-2013  12-Feb-2013  Мужской   26     0  Собственное   \n",
       "1501    1502  06-Feb-2013  20-Feb-2013  Женский   33     0  Собственное   \n",
       "...      ...          ...          ...      ...  ...   ...          ...   \n",
       "35101  35102  03-Jan-2014  17-Jan-2014  Женский   23     0   Арендуемое   \n",
       "35114  35115  03-Jan-2014  17-Jan-2014  Женский   35     0  Собственное   \n",
       "35122  35123  03-Jan-2014  17-Jan-2014  Женский   63     0  Собственное   \n",
       "35141  35142  03-Jan-2014  17-Jan-2014  Женский   23     0   Арендуемое   \n",
       "35193  35194  03-Jan-2014  17-Jan-2014  Женский   63     0  Собственное   \n",
       "\n",
       "                            marstatus  regclient       jobtype  \\\n",
       "91     Гражданский брак/женат/замужем          0   Официальное   \n",
       "99     Гражданский брак/женат/замужем          0  Пропуск поля   \n",
       "1100   Гражданский брак/женат/замужем          0   Официальное   \n",
       "1114   Гражданский брак/женат/замужем          0   Официальное   \n",
       "1501   Гражданский брак/женат/замужем          1  Пропуск поля   \n",
       "...                               ...        ...           ...   \n",
       "35101                        Разведен          0  Пропуск поля   \n",
       "35114  Гражданский брак/женат/замужем          1  Пропуск поля   \n",
       "35122                    Вдова/вдовец          1  Пропуск поля   \n",
       "35141                        Разведен          0  Пропуск поля   \n",
       "35193                    Вдова/вдовец          1  Пропуск поля   \n",
       "\n",
       "                          region  credits  children delinq60plus  \n",
       "91     Кемеровская область север        1         1           Да  \n",
       "99     Кемеровская область север        1         1           Да  \n",
       "1100      Кемеровская область юг        0         1           Да  \n",
       "1114      Кемеровская область юг        0         0           Да  \n",
       "1501   Кемеровская область север        0         1           Да  \n",
       "...                          ...      ...       ...          ...  \n",
       "35101     Кемеровская область юг        0         0          Нет  \n",
       "35114  Кемеровская область север        0         1          Нет  \n",
       "35122  Кемеровская область север        1         0          Нет  \n",
       "35141     Кемеровская область юг        0         0          Нет  \n",
       "35193  Кемеровская область север        1         0          Нет  \n",
       "\n",
       "[552 rows x 14 columns]"
      ]
     },
     "execution_count": 44,
     "metadata": {},
     "output_type": "execute_result"
    }
   ],
   "source": [
    "df[duplicates].sort_values(by='id')"
   ]
  },
  {
   "cell_type": "code",
   "execution_count": 45,
   "id": "17387be3",
   "metadata": {},
   "outputs": [],
   "source": [
    "df.drop_duplicates(subset=column_names, keep=False, inplace=True)"
   ]
  },
  {
   "cell_type": "code",
   "execution_count": 46,
   "id": "2bc37376",
   "metadata": {},
   "outputs": [
    {
     "name": "stdout",
     "output_type": "stream",
     "text": [
      "<class 'pandas.core.frame.DataFrame'>\n",
      "Int64Index: 34660 entries, 0 to 35211\n",
      "Data columns (total 14 columns):\n",
      " #   Column        Non-Null Count  Dtype \n",
      "---  ------        --------------  ----- \n",
      " 0   id            34660 non-null  int64 \n",
      " 1   date_start    34660 non-null  object\n",
      " 2   date_end      34660 non-null  object\n",
      " 3   gender        34660 non-null  object\n",
      " 4   age           34660 non-null  int64 \n",
      " 5   auto          34660 non-null  int64 \n",
      " 6   housing       34660 non-null  object\n",
      " 7   marstatus     34660 non-null  object\n",
      " 8   regclient     34660 non-null  int64 \n",
      " 9   jobtype       34660 non-null  object\n",
      " 10  region        34660 non-null  object\n",
      " 11  credits       34660 non-null  int64 \n",
      " 12  children      34660 non-null  int64 \n",
      " 13  delinq60plus  34660 non-null  object\n",
      "dtypes: int64(6), object(8)\n",
      "memory usage: 4.0+ MB\n"
     ]
    }
   ],
   "source": [
    "df.info()"
   ]
  },
  {
   "cell_type": "markdown",
   "id": "e478ef8c",
   "metadata": {},
   "source": [
    "# Проанализировать выбросы"
   ]
  },
  {
   "cell_type": "code",
   "execution_count": 47,
   "id": "c299da1d",
   "metadata": {},
   "outputs": [
    {
     "data": {
      "text/plain": [
       "<AxesSubplot:>"
      ]
     },
     "execution_count": 47,
     "metadata": {},
     "output_type": "execute_result"
    },
    {
     "data": {
      "image/png": "[encoded data removed]",
      "text/plain": [
       "<Figure size 640x480 with 1 Axes>"
      ]
     },
     "metadata": {},
     "output_type": "display_data"
    }
   ],
   "source": [
    "sns.boxplot(data=df['age'], width=0.8)"
   ]
  },
  {
   "cell_type": "markdown",
   "id": "8fb32b89",
   "metadata": {},
   "source": [
    "**Выбросов нет**"
   ]
  },
  {
   "cell_type": "markdown",
   "id": "739acc07",
   "metadata": {},
   "source": [
    "# Cоздать/ удалить переменные"
   ]
  },
  {
   "cell_type": "code",
   "execution_count": 48,
   "id": "c964deeb",
   "metadata": {},
   "outputs": [],
   "source": [
    "import datetime as dt"
   ]
  },
  {
   "cell_type": "code",
   "execution_count": 49,
   "id": "7c2b9525",
   "metadata": {},
   "outputs": [],
   "source": [
    "df['date_start'] = pd.to_datetime(df['date_start']).dt.date"
   ]
  },
  {
   "cell_type": "code",
   "execution_count": 50,
   "id": "41092f1a",
   "metadata": {},
   "outputs": [],
   "source": [
    "df['date_end'] = pd.to_datetime(df['date_end']).dt.date"
   ]
  },
  {
   "cell_type": "code",
   "execution_count": 51,
   "id": "1415d27d",
   "metadata": {},
   "outputs": [],
   "source": [
    "df['delta'] = (df['date_end'] - df['date_start']).dt.days"
   ]
  },
  {
   "cell_type": "code",
   "execution_count": 52,
   "id": "24b1bed5",
   "metadata": {},
   "outputs": [],
   "source": [
    "df['dow_start'] = df['date_start'].apply(lambda x: x.isoweekday()) "
   ]
  },
  {
   "cell_type": "code",
   "execution_count": 53,
   "id": "f0768dee",
   "metadata": {},
   "outputs": [],
   "source": [
    "df['day_start'] = df['date_start'].apply(lambda x: x.day) "
   ]
  },
  {
   "cell_type": "code",
   "execution_count": 54,
   "id": "58831de5",
   "metadata": {},
   "outputs": [],
   "source": [
    "df['month_start'] = df['date_start'].apply(lambda x: x.month) "
   ]
  },
  {
   "cell_type": "code",
   "execution_count": 55,
   "id": "f35b61ad",
   "metadata": {},
   "outputs": [],
   "source": [
    "df['year_start'] = df['date_start'].apply(lambda x: x.year) "
   ]
  },
  {
   "cell_type": "code",
   "execution_count": 56,
   "id": "bae7d46c",
   "metadata": {},
   "outputs": [],
   "source": [
    "df['dow_end'] = df['date_end'].apply(lambda x: x.isoweekday()) "
   ]
  },
  {
   "cell_type": "code",
   "execution_count": 57,
   "id": "3c034606",
   "metadata": {},
   "outputs": [],
   "source": [
    "df['day_end'] = df['date_end'].apply(lambda x: x.day) "
   ]
  },
  {
   "cell_type": "code",
   "execution_count": 58,
   "id": "850c5250",
   "metadata": {},
   "outputs": [],
   "source": [
    "df['month_end'] = df['date_end'].apply(lambda x: x.month) "
   ]
  },
  {
   "cell_type": "code",
   "execution_count": 59,
   "id": "0c0952b5",
   "metadata": {},
   "outputs": [],
   "source": [
    "df['year_end'] = df['date_end'].apply(lambda x: x.year) "
   ]
  },
  {
   "cell_type": "code",
   "execution_count": 60,
   "id": "0646cbdf",
   "metadata": {},
   "outputs": [],
   "source": [
    "df = df.drop(['date_start'], axis=1)"
   ]
  },
  {
   "cell_type": "code",
   "execution_count": 61,
   "id": "d2c8408d",
   "metadata": {},
   "outputs": [],
   "source": [
    "df = df.drop(['date_end'], axis=1)"
   ]
  },
  {
   "cell_type": "code",
   "execution_count": 62,
   "id": "6d5fdc72",
   "metadata": {},
   "outputs": [],
   "source": [
    "df = df.drop(['id'], axis=1)"
   ]
  },
  {
   "cell_type": "code",
   "execution_count": 63,
   "id": "5fa28dcf",
   "metadata": {},
   "outputs": [
    {
     "data": {
      "text/html": [
       "<div>\n",
       "<style scoped>\n",
       "    .dataframe tbody tr th:only-of-type {\n",
       "        vertical-align: middle;\n",
       "    }\n",
       "\n",
       "    .dataframe tbody tr th {\n",
       "        vertical-align: top;\n",
       "    }\n",
       "\n",
       "    .dataframe thead th {\n",
       "        text-align: right;\n",
       "    }\n",
       "</style>\n",
       "<table border=\"1\" class=\"dataframe\">\n",
       "  <thead>\n",
       "    <tr style=\"text-align: right;\">\n",
       "      <th></th>\n",
       "      <th>gender</th>\n",
       "      <th>age</th>\n",
       "      <th>auto</th>\n",
       "      <th>housing</th>\n",
       "      <th>marstatus</th>\n",
       "      <th>regclient</th>\n",
       "      <th>jobtype</th>\n",
       "      <th>region</th>\n",
       "      <th>credits</th>\n",
       "      <th>children</th>\n",
       "      <th>delinq60plus</th>\n",
       "      <th>delta</th>\n",
       "      <th>dow_start</th>\n",
       "      <th>day_start</th>\n",
       "      <th>month_start</th>\n",
       "      <th>year_start</th>\n",
       "      <th>dow_end</th>\n",
       "      <th>day_end</th>\n",
       "      <th>month_end</th>\n",
       "      <th>year_end</th>\n",
       "    </tr>\n",
       "  </thead>\n",
       "  <tbody>\n",
       "    <tr>\n",
       "      <th>0</th>\n",
       "      <td>Мужской</td>\n",
       "      <td>44</td>\n",
       "      <td>0</td>\n",
       "      <td>Собственное</td>\n",
       "      <td>Гражданский брак/женат/замужем</td>\n",
       "      <td>0</td>\n",
       "      <td>Официальное</td>\n",
       "      <td>Новосибирская область</td>\n",
       "      <td>0</td>\n",
       "      <td>1</td>\n",
       "      <td>Нет</td>\n",
       "      <td>9</td>\n",
       "      <td>4</td>\n",
       "      <td>3</td>\n",
       "      <td>1</td>\n",
       "      <td>2013</td>\n",
       "      <td>6</td>\n",
       "      <td>12</td>\n",
       "      <td>1</td>\n",
       "      <td>2013</td>\n",
       "    </tr>\n",
       "    <tr>\n",
       "      <th>1</th>\n",
       "      <td>Мужской</td>\n",
       "      <td>21</td>\n",
       "      <td>0</td>\n",
       "      <td>Живут с родителями</td>\n",
       "      <td>Холост</td>\n",
       "      <td>0</td>\n",
       "      <td>Официальное</td>\n",
       "      <td>Кемеровская область юг</td>\n",
       "      <td>1</td>\n",
       "      <td>0</td>\n",
       "      <td>Нет</td>\n",
       "      <td>14</td>\n",
       "      <td>4</td>\n",
       "      <td>3</td>\n",
       "      <td>1</td>\n",
       "      <td>2013</td>\n",
       "      <td>4</td>\n",
       "      <td>17</td>\n",
       "      <td>1</td>\n",
       "      <td>2013</td>\n",
       "    </tr>\n",
       "    <tr>\n",
       "      <th>2</th>\n",
       "      <td>Мужской</td>\n",
       "      <td>25</td>\n",
       "      <td>0</td>\n",
       "      <td>Собственное</td>\n",
       "      <td>Холост</td>\n",
       "      <td>1</td>\n",
       "      <td>Официальное</td>\n",
       "      <td>Кемеровская область север</td>\n",
       "      <td>1</td>\n",
       "      <td>0</td>\n",
       "      <td>Нет</td>\n",
       "      <td>14</td>\n",
       "      <td>4</td>\n",
       "      <td>3</td>\n",
       "      <td>1</td>\n",
       "      <td>2013</td>\n",
       "      <td>4</td>\n",
       "      <td>17</td>\n",
       "      <td>1</td>\n",
       "      <td>2013</td>\n",
       "    </tr>\n",
       "    <tr>\n",
       "      <th>3</th>\n",
       "      <td>Женский</td>\n",
       "      <td>47</td>\n",
       "      <td>0</td>\n",
       "      <td>Собственное</td>\n",
       "      <td>Гражданский брак/женат/замужем</td>\n",
       "      <td>1</td>\n",
       "      <td>Официальное</td>\n",
       "      <td>Кемеровская область север</td>\n",
       "      <td>0</td>\n",
       "      <td>0</td>\n",
       "      <td>Нет</td>\n",
       "      <td>14</td>\n",
       "      <td>4</td>\n",
       "      <td>3</td>\n",
       "      <td>1</td>\n",
       "      <td>2013</td>\n",
       "      <td>4</td>\n",
       "      <td>17</td>\n",
       "      <td>1</td>\n",
       "      <td>2013</td>\n",
       "    </tr>\n",
       "    <tr>\n",
       "      <th>4</th>\n",
       "      <td>Мужской</td>\n",
       "      <td>22</td>\n",
       "      <td>0</td>\n",
       "      <td>Арендуемое</td>\n",
       "      <td>Гражданский брак/женат/замужем</td>\n",
       "      <td>0</td>\n",
       "      <td>Официальное</td>\n",
       "      <td>Кемеровская область север</td>\n",
       "      <td>1</td>\n",
       "      <td>1</td>\n",
       "      <td>Нет</td>\n",
       "      <td>14</td>\n",
       "      <td>4</td>\n",
       "      <td>3</td>\n",
       "      <td>1</td>\n",
       "      <td>2013</td>\n",
       "      <td>4</td>\n",
       "      <td>17</td>\n",
       "      <td>1</td>\n",
       "      <td>2013</td>\n",
       "    </tr>\n",
       "  </tbody>\n",
       "</table>\n",
       "</div>"
      ],
      "text/plain": [
       "    gender  age  auto             housing                       marstatus  \\\n",
       "0  Мужской   44     0         Собственное  Гражданский брак/женат/замужем   \n",
       "1  Мужской   21     0  Живут с родителями                          Холост   \n",
       "2  Мужской   25     0         Собственное                          Холост   \n",
       "3  Женский   47     0         Собственное  Гражданский брак/женат/замужем   \n",
       "4  Мужской   22     0          Арендуемое  Гражданский брак/женат/замужем   \n",
       "\n",
       "   regclient      jobtype                     region  credits  children  \\\n",
       "0          0  Официальное      Новосибирская область        0         1   \n",
       "1          0  Официальное     Кемеровская область юг        1         0   \n",
       "2          1  Официальное  Кемеровская область север        1         0   \n",
       "3          1  Официальное  Кемеровская область север        0         0   \n",
       "4          0  Официальное  Кемеровская область север        1         1   \n",
       "\n",
       "  delinq60plus  delta  dow_start  day_start  month_start  year_start  dow_end  \\\n",
       "0          Нет      9          4          3            1        2013        6   \n",
       "1          Нет     14          4          3            1        2013        4   \n",
       "2          Нет     14          4          3            1        2013        4   \n",
       "3          Нет     14          4          3            1        2013        4   \n",
       "4          Нет     14          4          3            1        2013        4   \n",
       "\n",
       "   day_end  month_end  year_end  \n",
       "0       12          1      2013  \n",
       "1       17          1      2013  \n",
       "2       17          1      2013  \n",
       "3       17          1      2013  \n",
       "4       17          1      2013  "
      ]
     },
     "execution_count": 63,
     "metadata": {},
     "output_type": "execute_result"
    }
   ],
   "source": [
    "df.head()"
   ]
  },
  {
   "cell_type": "markdown",
   "id": "3a7d9e6f",
   "metadata": {},
   "source": [
    "# Закодировать категориальные переменные"
   ]
  },
  {
   "cell_type": "code",
   "execution_count": 64,
   "id": "a0a7e3ac",
   "metadata": {},
   "outputs": [],
   "source": [
    "df = pd.get_dummies(df\n",
    "               ,columns = ['gender']\n",
    "               ,prefix = 'gender'\n",
    "               )"
   ]
  },
  {
   "cell_type": "code",
   "execution_count": 65,
   "id": "de803864",
   "metadata": {},
   "outputs": [],
   "source": [
    "df = pd.get_dummies(df\n",
    "               ,columns = ['housing']\n",
    "               ,prefix = 'housing'\n",
    "               )"
   ]
  },
  {
   "cell_type": "code",
   "execution_count": 66,
   "id": "da08f0b6",
   "metadata": {},
   "outputs": [],
   "source": [
    "df = pd.get_dummies(df\n",
    "               ,columns = ['region']\n",
    "               ,prefix = 'region'\n",
    "               )"
   ]
  },
  {
   "cell_type": "code",
   "execution_count": 67,
   "id": "33d1c7fa",
   "metadata": {},
   "outputs": [],
   "source": [
    "df = pd.get_dummies(df\n",
    "               ,columns = ['marstatus']\n",
    "               ,prefix = 'marstatus'\n",
    "               )"
   ]
  },
  {
   "cell_type": "code",
   "execution_count": 68,
   "id": "ca55c031",
   "metadata": {},
   "outputs": [],
   "source": [
    "df = pd.get_dummies(df\n",
    "               ,columns = ['jobtype']\n",
    "               ,prefix = 'jobtype'\n",
    "               )"
   ]
  },
  {
   "cell_type": "markdown",
   "id": "90fbcdcc",
   "metadata": {},
   "source": [
    "## Разбить выборку на обучающую и тестовую"
   ]
  },
  {
   "cell_type": "code",
   "execution_count": 69,
   "id": "483b59b2",
   "metadata": {},
   "outputs": [],
   "source": [
    "from sklearn.model_selection import train_test_split\n",
    "\n",
    "y = df.delinq60plus\n",
    "X = df.drop(['delinq60plus'], axis=1)\n",
    "X_train, X_test, y_train, y_test = train_test_split(X, y, \n",
    "                                                    train_size=0.7, \n",
    "                                                    random_state=42, \n",
    "                                                    stratify=y)"
   ]
  },
  {
   "cell_type": "code",
   "execution_count": 70,
   "id": "d57d257e",
   "metadata": {},
   "outputs": [],
   "source": [
    "from sklearn.preprocessing import MinMaxScaler\n",
    "scaler = MinMaxScaler(feature_range=(-1, 1))\n",
    "\n",
    "train_X_scaled = scaler.fit_transform(X_train)\n",
    "test_X_scaled = scaler.fit_transform(X_test)"
   ]
  },
  {
   "cell_type": "code",
   "execution_count": 71,
   "id": "2e863aa2",
   "metadata": {},
   "outputs": [
    {
     "data": {
      "text/plain": [
       "(24262, 33)"
      ]
     },
     "execution_count": 71,
     "metadata": {},
     "output_type": "execute_result"
    }
   ],
   "source": [
    "train_X_scaled. shape"
   ]
  },
  {
   "cell_type": "code",
   "execution_count": 72,
   "id": "85936865",
   "metadata": {},
   "outputs": [
    {
     "data": {
      "text/plain": [
       "(10398, 33)"
      ]
     },
     "execution_count": 72,
     "metadata": {},
     "output_type": "execute_result"
    }
   ],
   "source": [
    "test_X_scaled.shape"
   ]
  },
  {
   "cell_type": "code",
   "execution_count": 136,
   "id": "0e3f0c62",
   "metadata": {},
   "outputs": [],
   "source": [
    "y_train = y_train.replace(\"Да\", 1 , regex=True)\n",
    "y_train = y_train.replace(\"Нет\", 0 , regex=True)"
   ]
  },
  {
   "cell_type": "code",
   "execution_count": 129,
   "id": "e28e4268",
   "metadata": {},
   "outputs": [],
   "source": [
    "y_test = y_test.replace(\"Да\", 1 , regex=True)\n",
    "y_test = y_test.replace(\"Нет\", 0 , regex=True)"
   ]
  },
  {
   "cell_type": "markdown",
   "id": "bb84453d",
   "metadata": {},
   "source": [
    "# Построить базовую модель и оценить ее качество"
   ]
  },
  {
   "cell_type": "code",
   "execution_count": 138,
   "id": "a58fe22c",
   "metadata": {},
   "outputs": [
    {
     "data": {
      "text/plain": [
       "0.759184458549721"
      ]
     },
     "execution_count": 138,
     "metadata": {},
     "output_type": "execute_result"
    }
   ],
   "source": [
    "from sklearn.ensemble import RandomForestClassifier\n",
    "rfc1 = RandomForestClassifier()\n",
    "rfc1.fit(X_train, y_train)\n",
    "rfc1.score (X_test, y_test)"
   ]
  },
  {
   "cell_type": "code",
   "execution_count": 139,
   "id": "2dc1cd19",
   "metadata": {},
   "outputs": [
    {
     "data": {
      "text/plain": [
       "0.8435242023337615"
      ]
     },
     "execution_count": 139,
     "metadata": {},
     "output_type": "execute_result"
    }
   ],
   "source": [
    "y_pred = rfc1.predict_proba(X_test)[:, 1]\n",
    "from sklearn.metrics import roc_auc_score\n",
    "roc_auc_score(y_test, y_pred)"
   ]
  },
  {
   "cell_type": "code",
   "execution_count": 140,
   "id": "15000f9c",
   "metadata": {},
   "outputs": [],
   "source": [
    "import matplotlib.pyplot as plt"
   ]
  },
  {
   "cell_type": "code",
   "execution_count": 141,
   "id": "22fa8848",
   "metadata": {},
   "outputs": [
    {
     "data": {
      "image/png": "[encoded data removed]",
      "text/plain": [
       "<Figure size 3000x1500 with 1 Axes>"
      ]
     },
     "metadata": {},
     "output_type": "display_data"
    },
    {
     "data": {
      "text/plain": [
       "None"
      ]
     },
     "metadata": {},
     "output_type": "display_data"
    },
    {
     "data": {
      "text/html": [
       "<div>\n",
       "<style scoped>\n",
       "    .dataframe tbody tr th:only-of-type {\n",
       "        vertical-align: middle;\n",
       "    }\n",
       "\n",
       "    .dataframe tbody tr th {\n",
       "        vertical-align: top;\n",
       "    }\n",
       "\n",
       "    .dataframe thead th {\n",
       "        text-align: right;\n",
       "    }\n",
       "</style>\n",
       "<table border=\"1\" class=\"dataframe\">\n",
       "  <thead>\n",
       "    <tr style=\"text-align: right;\">\n",
       "      <th></th>\n",
       "      <th>Features</th>\n",
       "      <th>Importance</th>\n",
       "    </tr>\n",
       "  </thead>\n",
       "  <tbody>\n",
       "    <tr>\n",
       "      <th>0</th>\n",
       "      <td>day_start</td>\n",
       "      <td>0.175478</td>\n",
       "    </tr>\n",
       "    <tr>\n",
       "      <th>1</th>\n",
       "      <td>day_end</td>\n",
       "      <td>0.134404</td>\n",
       "    </tr>\n",
       "    <tr>\n",
       "      <th>2</th>\n",
       "      <td>age</td>\n",
       "      <td>0.131681</td>\n",
       "    </tr>\n",
       "    <tr>\n",
       "      <th>3</th>\n",
       "      <td>dow_end</td>\n",
       "      <td>0.077076</td>\n",
       "    </tr>\n",
       "    <tr>\n",
       "      <th>4</th>\n",
       "      <td>dow_start</td>\n",
       "      <td>0.076388</td>\n",
       "    </tr>\n",
       "    <tr>\n",
       "      <th>5</th>\n",
       "      <td>delta</td>\n",
       "      <td>0.046134</td>\n",
       "    </tr>\n",
       "    <tr>\n",
       "      <th>6</th>\n",
       "      <td>year_start</td>\n",
       "      <td>0.045908</td>\n",
       "    </tr>\n",
       "    <tr>\n",
       "      <th>7</th>\n",
       "      <td>month_end</td>\n",
       "      <td>0.032320</td>\n",
       "    </tr>\n",
       "    <tr>\n",
       "      <th>8</th>\n",
       "      <td>delinq60plus</td>\n",
       "      <td>0.029648</td>\n",
       "    </tr>\n",
       "    <tr>\n",
       "      <th>9</th>\n",
       "      <td>credits</td>\n",
       "      <td>0.022989</td>\n",
       "    </tr>\n",
       "    <tr>\n",
       "      <th>10</th>\n",
       "      <td>regclient</td>\n",
       "      <td>0.019872</td>\n",
       "    </tr>\n",
       "    <tr>\n",
       "      <th>11</th>\n",
       "      <td>children</td>\n",
       "      <td>0.015749</td>\n",
       "    </tr>\n",
       "    <tr>\n",
       "      <th>12</th>\n",
       "      <td>region_Алтайский край</td>\n",
       "      <td>0.014021</td>\n",
       "    </tr>\n",
       "    <tr>\n",
       "      <th>13</th>\n",
       "      <td>housing_Муниципальное</td>\n",
       "      <td>0.014001</td>\n",
       "    </tr>\n",
       "    <tr>\n",
       "      <th>14</th>\n",
       "      <td>region_Кемеровская область север</td>\n",
       "      <td>0.012835</td>\n",
       "    </tr>\n",
       "    <tr>\n",
       "      <th>15</th>\n",
       "      <td>gender_Женский</td>\n",
       "      <td>0.012219</td>\n",
       "    </tr>\n",
       "    <tr>\n",
       "      <th>16</th>\n",
       "      <td>year_end</td>\n",
       "      <td>0.011927</td>\n",
       "    </tr>\n",
       "    <tr>\n",
       "      <th>17</th>\n",
       "      <td>marstatus_Вдова/вдовец</td>\n",
       "      <td>0.011834</td>\n",
       "    </tr>\n",
       "    <tr>\n",
       "      <th>18</th>\n",
       "      <td>gender_Мужской</td>\n",
       "      <td>0.010976</td>\n",
       "    </tr>\n",
       "    <tr>\n",
       "      <th>19</th>\n",
       "      <td>auto</td>\n",
       "      <td>0.010834</td>\n",
       "    </tr>\n",
       "    <tr>\n",
       "      <th>20</th>\n",
       "      <td>marstatus_Разведен</td>\n",
       "      <td>0.010325</td>\n",
       "    </tr>\n",
       "    <tr>\n",
       "      <th>21</th>\n",
       "      <td>jobtype_Официальное</td>\n",
       "      <td>0.010049</td>\n",
       "    </tr>\n",
       "    <tr>\n",
       "      <th>22</th>\n",
       "      <td>jobtype_Неофициальное</td>\n",
       "      <td>0.009976</td>\n",
       "    </tr>\n",
       "    <tr>\n",
       "      <th>23</th>\n",
       "      <td>region_Красноярский край</td>\n",
       "      <td>0.009549</td>\n",
       "    </tr>\n",
       "    <tr>\n",
       "      <th>24</th>\n",
       "      <td>housing_Собственное</td>\n",
       "      <td>0.009162</td>\n",
       "    </tr>\n",
       "    <tr>\n",
       "      <th>25</th>\n",
       "      <td>marstatus_Гражданский брак/женат/замужем</td>\n",
       "      <td>0.008431</td>\n",
       "    </tr>\n",
       "    <tr>\n",
       "      <th>26</th>\n",
       "      <td>housing_Долевая собственность</td>\n",
       "      <td>0.007879</td>\n",
       "    </tr>\n",
       "    <tr>\n",
       "      <th>27</th>\n",
       "      <td>housing_Арендуемое</td>\n",
       "      <td>0.007584</td>\n",
       "    </tr>\n",
       "    <tr>\n",
       "      <th>28</th>\n",
       "      <td>region_Кемеровская область юг</td>\n",
       "      <td>0.006051</td>\n",
       "    </tr>\n",
       "    <tr>\n",
       "      <th>29</th>\n",
       "      <td>housing_Живут с родителями</td>\n",
       "      <td>0.005038</td>\n",
       "    </tr>\n",
       "    <tr>\n",
       "      <th>30</th>\n",
       "      <td>marstatus_Холост</td>\n",
       "      <td>0.004173</td>\n",
       "    </tr>\n",
       "    <tr>\n",
       "      <th>31</th>\n",
       "      <td>region_Новосибирская область</td>\n",
       "      <td>0.003689</td>\n",
       "    </tr>\n",
       "    <tr>\n",
       "      <th>32</th>\n",
       "      <td>month_start</td>\n",
       "      <td>0.001800</td>\n",
       "    </tr>\n",
       "  </tbody>\n",
       "</table>\n",
       "</div>"
      ],
      "text/plain": [
       "                                    Features  Importance\n",
       "0                                  day_start    0.175478\n",
       "1                                    day_end    0.134404\n",
       "2                                        age    0.131681\n",
       "3                                    dow_end    0.077076\n",
       "4                                  dow_start    0.076388\n",
       "5                                      delta    0.046134\n",
       "6                                 year_start    0.045908\n",
       "7                                  month_end    0.032320\n",
       "8                               delinq60plus    0.029648\n",
       "9                                    credits    0.022989\n",
       "10                                 regclient    0.019872\n",
       "11                                  children    0.015749\n",
       "12                     region_Алтайский край    0.014021\n",
       "13                     housing_Муниципальное    0.014001\n",
       "14          region_Кемеровская область север    0.012835\n",
       "15                            gender_Женский    0.012219\n",
       "16                                  year_end    0.011927\n",
       "17                    marstatus_Вдова/вдовец    0.011834\n",
       "18                            gender_Мужской    0.010976\n",
       "19                                      auto    0.010834\n",
       "20                        marstatus_Разведен    0.010325\n",
       "21                       jobtype_Официальное    0.010049\n",
       "22                     jobtype_Неофициальное    0.009976\n",
       "23                  region_Красноярский край    0.009549\n",
       "24                       housing_Собственное    0.009162\n",
       "25  marstatus_Гражданский брак/женат/замужем    0.008431\n",
       "26             housing_Долевая собственность    0.007879\n",
       "27                        housing_Арендуемое    0.007584\n",
       "28             region_Кемеровская область юг    0.006051\n",
       "29                housing_Живут с родителями    0.005038\n",
       "30                          marstatus_Холост    0.004173\n",
       "31              region_Новосибирская область    0.003689\n",
       "32                               month_start    0.001800"
      ]
     },
     "metadata": {},
     "output_type": "display_data"
    }
   ],
   "source": [
    "feats = {}\n",
    "for feature, importance in zip(df.columns, rfc1.feature_importances_):\n",
    "    feats[feature] = importance\n",
    "importances = pd.DataFrame.from_dict(feats, orient='index').rename(columns={0: 'Importance'})\n",
    "importances = importances.sort_values(by='Importance', ascending=False)\n",
    "importances = importances.reset_index()\n",
    "importances = importances.rename(columns={'index': 'Features'})\n",
    "sns.set(font_scale = 5)\n",
    "sns.set(style=\"whitegrid\", color_codes=True, font_scale = 1.7)\n",
    "fig, ax = plt.subplots()\n",
    "fig.set_size_inches(30,15)\n",
    "sns.barplot(x=importances['Importance'], y=importances['Features'], data=importances, color='skyblue')\n",
    "plt.xlabel('Importance', fontsize=25, weight = 'bold')\n",
    "plt.ylabel('Features', fontsize=25, weight = 'bold')\n",
    "plt.title('Feature Importance', fontsize=25, weight = 'bold')\n",
    "display(plt.show())\n",
    "display(importances)"
   ]
  },
  {
   "cell_type": "markdown",
   "id": "48a8b4ad",
   "metadata": {},
   "source": [
    "# Метод главных компонент"
   ]
  },
  {
   "cell_type": "code",
   "execution_count": 142,
   "id": "5181980d",
   "metadata": {},
   "outputs": [
    {
     "data": {
      "image/png": "[encoded data removed]",
      "text/plain": [
       "<Figure size 640x480 with 1 Axes>"
      ]
     },
     "metadata": {},
     "output_type": "display_data"
    },
    {
     "data": {
      "text/plain": [
       "None"
      ]
     },
     "metadata": {},
     "output_type": "display_data"
    },
    {
     "data": {
      "text/html": [
       "<div>\n",
       "<style scoped>\n",
       "    .dataframe tbody tr th:only-of-type {\n",
       "        vertical-align: middle;\n",
       "    }\n",
       "\n",
       "    .dataframe tbody tr th {\n",
       "        vertical-align: top;\n",
       "    }\n",
       "\n",
       "    .dataframe thead th {\n",
       "        text-align: right;\n",
       "    }\n",
       "</style>\n",
       "<table border=\"1\" class=\"dataframe\">\n",
       "  <thead>\n",
       "    <tr style=\"text-align: right;\">\n",
       "      <th></th>\n",
       "      <th>Cumulative Variance Ratio</th>\n",
       "      <th>Explained Variance Ratio</th>\n",
       "    </tr>\n",
       "  </thead>\n",
       "  <tbody>\n",
       "    <tr>\n",
       "      <th>0</th>\n",
       "      <td>0.158016</td>\n",
       "      <td>0.158016</td>\n",
       "    </tr>\n",
       "    <tr>\n",
       "      <th>1</th>\n",
       "      <td>0.281124</td>\n",
       "      <td>0.123108</td>\n",
       "    </tr>\n",
       "    <tr>\n",
       "      <th>2</th>\n",
       "      <td>0.377757</td>\n",
       "      <td>0.096634</td>\n",
       "    </tr>\n",
       "    <tr>\n",
       "      <th>3</th>\n",
       "      <td>0.454698</td>\n",
       "      <td>0.076940</td>\n",
       "    </tr>\n",
       "    <tr>\n",
       "      <th>4</th>\n",
       "      <td>0.518816</td>\n",
       "      <td>0.064118</td>\n",
       "    </tr>\n",
       "    <tr>\n",
       "      <th>5</th>\n",
       "      <td>0.573665</td>\n",
       "      <td>0.054849</td>\n",
       "    </tr>\n",
       "    <tr>\n",
       "      <th>6</th>\n",
       "      <td>0.617331</td>\n",
       "      <td>0.043666</td>\n",
       "    </tr>\n",
       "    <tr>\n",
       "      <th>7</th>\n",
       "      <td>0.658507</td>\n",
       "      <td>0.041176</td>\n",
       "    </tr>\n",
       "    <tr>\n",
       "      <th>8</th>\n",
       "      <td>0.698183</td>\n",
       "      <td>0.039675</td>\n",
       "    </tr>\n",
       "    <tr>\n",
       "      <th>9</th>\n",
       "      <td>0.735727</td>\n",
       "      <td>0.037544</td>\n",
       "    </tr>\n",
       "  </tbody>\n",
       "</table>\n",
       "</div>"
      ],
      "text/plain": [
       "   Cumulative Variance Ratio  Explained Variance Ratio\n",
       "0                   0.158016                  0.158016\n",
       "1                   0.281124                  0.123108\n",
       "2                   0.377757                  0.096634\n",
       "3                   0.454698                  0.076940\n",
       "4                   0.518816                  0.064118\n",
       "5                   0.573665                  0.054849\n",
       "6                   0.617331                  0.043666\n",
       "7                   0.658507                  0.041176\n",
       "8                   0.698183                  0.039675\n",
       "9                   0.735727                  0.037544"
      ]
     },
     "metadata": {},
     "output_type": "display_data"
    }
   ],
   "source": [
    "import matplotlib.pyplot as plt\n",
    "import seaborn as sns\n",
    "from sklearn.decomposition import PCA\n",
    "pca_test = PCA(n_components=30)\n",
    "pca_test.fit(train_X_scaled)\n",
    "sns.set(style='whitegrid')\n",
    "plt.plot(np.cumsum(pca_test.explained_variance_ratio_))\n",
    "plt.xlabel('number of components')\n",
    "plt.ylabel('cumulative explained variance')\n",
    "plt.axvline(linewidth=4, color='r', linestyle = '--', x=10, ymin=0, ymax=1)\n",
    "display(plt.show())\n",
    "evr = pca_test.explained_variance_ratio_\n",
    "cvr = np.cumsum(pca_test.explained_variance_ratio_)\n",
    "pca_df = pd.DataFrame()\n",
    "pca_df['Cumulative Variance Ratio'] = cvr\n",
    "pca_df['Explained Variance Ratio'] = evr\n",
    "display(pca_df.head(10))"
   ]
  },
  {
   "cell_type": "code",
   "execution_count": 143,
   "id": "d5abb0c6",
   "metadata": {},
   "outputs": [],
   "source": [
    "pca = PCA(n_components=10)\n",
    "pca.fit(train_X_scaled)\n",
    "X_train_scaled_pca = pca.transform(train_X_scaled)\n",
    "X_test_scaled_pca = pca.transform(test_X_scaled)"
   ]
  },
  {
   "cell_type": "code",
   "execution_count": 144,
   "id": "f9d32815",
   "metadata": {},
   "outputs": [
    {
     "data": {
      "text/html": [
       "<div>\n",
       "<style scoped>\n",
       "    .dataframe tbody tr th:only-of-type {\n",
       "        vertical-align: middle;\n",
       "    }\n",
       "\n",
       "    .dataframe tbody tr th {\n",
       "        vertical-align: top;\n",
       "    }\n",
       "\n",
       "    .dataframe thead th {\n",
       "        text-align: right;\n",
       "    }\n",
       "</style>\n",
       "<table border=\"1\" class=\"dataframe\">\n",
       "  <thead>\n",
       "    <tr style=\"text-align: right;\">\n",
       "      <th></th>\n",
       "      <th>PCA Component 0</th>\n",
       "      <th>PCA Component 1</th>\n",
       "      <th>PCA Component 2</th>\n",
       "      <th>PCA Component 3</th>\n",
       "      <th>PCA Component 4</th>\n",
       "      <th>PCA Component 5</th>\n",
       "      <th>PCA Component 6</th>\n",
       "      <th>PCA Component 7</th>\n",
       "      <th>PCA Component 8</th>\n",
       "      <th>PCA Component 9</th>\n",
       "    </tr>\n",
       "  </thead>\n",
       "  <tbody>\n",
       "    <tr>\n",
       "      <th>age</th>\n",
       "      <td>0.071368</td>\n",
       "      <td>-0.082855</td>\n",
       "      <td>-0.082089</td>\n",
       "      <td>-0.057980</td>\n",
       "      <td>0.113987</td>\n",
       "      <td>0.040538</td>\n",
       "      <td>0.058939</td>\n",
       "      <td>0.083756</td>\n",
       "      <td>-0.081207</td>\n",
       "      <td>-0.025635</td>\n",
       "    </tr>\n",
       "    <tr>\n",
       "      <th>auto</th>\n",
       "      <td>-0.086943</td>\n",
       "      <td>0.046470</td>\n",
       "      <td>0.049872</td>\n",
       "      <td>-0.058311</td>\n",
       "      <td>0.020872</td>\n",
       "      <td>0.057110</td>\n",
       "      <td>0.067159</td>\n",
       "      <td>0.048960</td>\n",
       "      <td>-0.023877</td>\n",
       "      <td>0.005577</td>\n",
       "    </tr>\n",
       "    <tr>\n",
       "      <th>regclient</th>\n",
       "      <td>0.329346</td>\n",
       "      <td>-0.069756</td>\n",
       "      <td>0.146600</td>\n",
       "      <td>-0.138525</td>\n",
       "      <td>0.175865</td>\n",
       "      <td>0.083162</td>\n",
       "      <td>0.228298</td>\n",
       "      <td>-0.597589</td>\n",
       "      <td>0.472212</td>\n",
       "      <td>0.148836</td>\n",
       "    </tr>\n",
       "    <tr>\n",
       "      <th>credits</th>\n",
       "      <td>0.001618</td>\n",
       "      <td>-0.094568</td>\n",
       "      <td>0.050925</td>\n",
       "      <td>0.030483</td>\n",
       "      <td>-0.021464</td>\n",
       "      <td>0.969908</td>\n",
       "      <td>-0.108949</td>\n",
       "      <td>0.127282</td>\n",
       "      <td>-0.008711</td>\n",
       "      <td>0.061492</td>\n",
       "    </tr>\n",
       "    <tr>\n",
       "      <th>children</th>\n",
       "      <td>-0.159277</td>\n",
       "      <td>-0.277241</td>\n",
       "      <td>0.509434</td>\n",
       "      <td>0.046794</td>\n",
       "      <td>-0.087710</td>\n",
       "      <td>-0.078596</td>\n",
       "      <td>-0.099744</td>\n",
       "      <td>-0.074832</td>\n",
       "      <td>0.096141</td>\n",
       "      <td>0.045056</td>\n",
       "    </tr>\n",
       "    <tr>\n",
       "      <th>delta</th>\n",
       "      <td>-0.001285</td>\n",
       "      <td>-0.000996</td>\n",
       "      <td>-0.000369</td>\n",
       "      <td>0.004933</td>\n",
       "      <td>0.001223</td>\n",
       "      <td>-0.002163</td>\n",
       "      <td>-0.001607</td>\n",
       "      <td>0.004627</td>\n",
       "      <td>-0.001594</td>\n",
       "      <td>0.003623</td>\n",
       "    </tr>\n",
       "    <tr>\n",
       "      <th>dow_start</th>\n",
       "      <td>0.005956</td>\n",
       "      <td>0.006807</td>\n",
       "      <td>0.012183</td>\n",
       "      <td>-0.002394</td>\n",
       "      <td>0.015221</td>\n",
       "      <td>0.018090</td>\n",
       "      <td>0.005140</td>\n",
       "      <td>-0.369832</td>\n",
       "      <td>-0.536690</td>\n",
       "      <td>0.231357</td>\n",
       "    </tr>\n",
       "    <tr>\n",
       "      <th>day_start</th>\n",
       "      <td>0.010231</td>\n",
       "      <td>-0.007108</td>\n",
       "      <td>0.001278</td>\n",
       "      <td>-0.001699</td>\n",
       "      <td>0.010747</td>\n",
       "      <td>-0.003760</td>\n",
       "      <td>-0.024122</td>\n",
       "      <td>0.034397</td>\n",
       "      <td>0.094495</td>\n",
       "      <td>0.342682</td>\n",
       "    </tr>\n",
       "    <tr>\n",
       "      <th>month_start</th>\n",
       "      <td>0.056998</td>\n",
       "      <td>-0.037843</td>\n",
       "      <td>0.019239</td>\n",
       "      <td>-0.019394</td>\n",
       "      <td>0.030816</td>\n",
       "      <td>0.090984</td>\n",
       "      <td>0.344356</td>\n",
       "      <td>-0.154845</td>\n",
       "      <td>0.069319</td>\n",
       "      <td>-0.084151</td>\n",
       "    </tr>\n",
       "    <tr>\n",
       "      <th>year_start</th>\n",
       "      <td>0.002681</td>\n",
       "      <td>0.000295</td>\n",
       "      <td>0.001710</td>\n",
       "      <td>0.000172</td>\n",
       "      <td>0.001654</td>\n",
       "      <td>-0.001516</td>\n",
       "      <td>-0.011555</td>\n",
       "      <td>-0.002071</td>\n",
       "      <td>-0.003418</td>\n",
       "      <td>0.023845</td>\n",
       "    </tr>\n",
       "    <tr>\n",
       "      <th>dow_end</th>\n",
       "      <td>0.004635</td>\n",
       "      <td>0.001216</td>\n",
       "      <td>0.011051</td>\n",
       "      <td>-0.003719</td>\n",
       "      <td>0.006457</td>\n",
       "      <td>0.022568</td>\n",
       "      <td>-0.008038</td>\n",
       "      <td>-0.361743</td>\n",
       "      <td>-0.560825</td>\n",
       "      <td>0.227405</td>\n",
       "    </tr>\n",
       "    <tr>\n",
       "      <th>day_end</th>\n",
       "      <td>-0.004141</td>\n",
       "      <td>0.004101</td>\n",
       "      <td>0.004923</td>\n",
       "      <td>0.002929</td>\n",
       "      <td>-0.005651</td>\n",
       "      <td>0.005282</td>\n",
       "      <td>0.030661</td>\n",
       "      <td>-0.054930</td>\n",
       "      <td>-0.067419</td>\n",
       "      <td>-0.289088</td>\n",
       "    </tr>\n",
       "    <tr>\n",
       "      <th>month_end</th>\n",
       "      <td>0.023870</td>\n",
       "      <td>-0.026962</td>\n",
       "      <td>0.016025</td>\n",
       "      <td>-0.018292</td>\n",
       "      <td>-0.003657</td>\n",
       "      <td>0.087181</td>\n",
       "      <td>0.379999</td>\n",
       "      <td>-0.156800</td>\n",
       "      <td>-0.059179</td>\n",
       "      <td>-0.497697</td>\n",
       "    </tr>\n",
       "    <tr>\n",
       "      <th>year_end</th>\n",
       "      <td>0.033530</td>\n",
       "      <td>-0.011069</td>\n",
       "      <td>0.004149</td>\n",
       "      <td>0.001245</td>\n",
       "      <td>0.035165</td>\n",
       "      <td>0.000126</td>\n",
       "      <td>-0.049666</td>\n",
       "      <td>0.009406</td>\n",
       "      <td>0.126651</td>\n",
       "      <td>0.455997</td>\n",
       "    </tr>\n",
       "    <tr>\n",
       "      <th>gender_Женский</th>\n",
       "      <td>0.066981</td>\n",
       "      <td>-0.566511</td>\n",
       "      <td>-0.328953</td>\n",
       "      <td>0.190698</td>\n",
       "      <td>-0.106546</td>\n",
       "      <td>-0.047705</td>\n",
       "      <td>-0.033833</td>\n",
       "      <td>-0.046908</td>\n",
       "      <td>0.030599</td>\n",
       "      <td>0.012069</td>\n",
       "    </tr>\n",
       "    <tr>\n",
       "      <th>gender_Мужской</th>\n",
       "      <td>-0.066981</td>\n",
       "      <td>0.566511</td>\n",
       "      <td>0.328953</td>\n",
       "      <td>-0.190698</td>\n",
       "      <td>0.106546</td>\n",
       "      <td>0.047705</td>\n",
       "      <td>0.033833</td>\n",
       "      <td>0.046908</td>\n",
       "      <td>-0.030599</td>\n",
       "      <td>-0.012069</td>\n",
       "    </tr>\n",
       "    <tr>\n",
       "      <th>housing_Арендуемое</th>\n",
       "      <td>0.336112</td>\n",
       "      <td>0.081065</td>\n",
       "      <td>0.187296</td>\n",
       "      <td>0.249482</td>\n",
       "      <td>-0.295659</td>\n",
       "      <td>0.000045</td>\n",
       "      <td>0.022824</td>\n",
       "      <td>-0.049642</td>\n",
       "      <td>-0.040254</td>\n",
       "      <td>-0.051915</td>\n",
       "    </tr>\n",
       "    <tr>\n",
       "      <th>housing_Долевая собственность</th>\n",
       "      <td>-0.057849</td>\n",
       "      <td>0.037305</td>\n",
       "      <td>0.007695</td>\n",
       "      <td>0.123943</td>\n",
       "      <td>-0.069429</td>\n",
       "      <td>-0.005043</td>\n",
       "      <td>-0.020200</td>\n",
       "      <td>0.030726</td>\n",
       "      <td>0.030773</td>\n",
       "      <td>0.027274</td>\n",
       "    </tr>\n",
       "    <tr>\n",
       "      <th>housing_Живут с родителями</th>\n",
       "      <td>-0.056829</td>\n",
       "      <td>0.083855</td>\n",
       "      <td>-0.024766</td>\n",
       "      <td>0.079716</td>\n",
       "      <td>-0.120549</td>\n",
       "      <td>-0.015382</td>\n",
       "      <td>-0.011929</td>\n",
       "      <td>0.009303</td>\n",
       "      <td>0.079133</td>\n",
       "      <td>0.093534</td>\n",
       "    </tr>\n",
       "    <tr>\n",
       "      <th>housing_Муниципальное</th>\n",
       "      <td>-0.003519</td>\n",
       "      <td>-0.003700</td>\n",
       "      <td>-0.005206</td>\n",
       "      <td>0.021783</td>\n",
       "      <td>-0.036488</td>\n",
       "      <td>-0.001741</td>\n",
       "      <td>0.009170</td>\n",
       "      <td>0.012797</td>\n",
       "      <td>0.005327</td>\n",
       "      <td>0.011706</td>\n",
       "    </tr>\n",
       "    <tr>\n",
       "      <th>housing_Собственное</th>\n",
       "      <td>-0.217915</td>\n",
       "      <td>-0.198524</td>\n",
       "      <td>-0.165019</td>\n",
       "      <td>-0.474924</td>\n",
       "      <td>0.522125</td>\n",
       "      <td>0.022121</td>\n",
       "      <td>0.000134</td>\n",
       "      <td>-0.003183</td>\n",
       "      <td>-0.074979</td>\n",
       "      <td>-0.080599</td>\n",
       "    </tr>\n",
       "    <tr>\n",
       "      <th>region_Алтайский край</th>\n",
       "      <td>-0.084285</td>\n",
       "      <td>-0.011890</td>\n",
       "      <td>-0.025341</td>\n",
       "      <td>0.044197</td>\n",
       "      <td>-0.062046</td>\n",
       "      <td>0.019828</td>\n",
       "      <td>0.464174</td>\n",
       "      <td>0.174199</td>\n",
       "      <td>-0.017937</td>\n",
       "      <td>0.248076</td>\n",
       "    </tr>\n",
       "    <tr>\n",
       "      <th>region_Кемеровская область север</th>\n",
       "      <td>0.151045</td>\n",
       "      <td>-0.072282</td>\n",
       "      <td>0.028310</td>\n",
       "      <td>-0.555842</td>\n",
       "      <td>-0.413040</td>\n",
       "      <td>-0.007097</td>\n",
       "      <td>-0.424102</td>\n",
       "      <td>-0.124986</td>\n",
       "      <td>0.025549</td>\n",
       "      <td>-0.136809</td>\n",
       "    </tr>\n",
       "    <tr>\n",
       "      <th>region_Кемеровская область юг</th>\n",
       "      <td>0.014815</td>\n",
       "      <td>0.091777</td>\n",
       "      <td>0.043335</td>\n",
       "      <td>0.489966</td>\n",
       "      <td>0.504628</td>\n",
       "      <td>0.003326</td>\n",
       "      <td>-0.407538</td>\n",
       "      <td>-0.175403</td>\n",
       "      <td>0.059402</td>\n",
       "      <td>-0.164280</td>\n",
       "    </tr>\n",
       "    <tr>\n",
       "      <th>region_Красноярский край</th>\n",
       "      <td>-0.040877</td>\n",
       "      <td>-0.010941</td>\n",
       "      <td>-0.029167</td>\n",
       "      <td>-0.008487</td>\n",
       "      <td>0.009278</td>\n",
       "      <td>0.011179</td>\n",
       "      <td>0.106868</td>\n",
       "      <td>-0.000898</td>\n",
       "      <td>-0.004541</td>\n",
       "      <td>-0.014754</td>\n",
       "    </tr>\n",
       "    <tr>\n",
       "      <th>region_Новосибирская область</th>\n",
       "      <td>-0.040698</td>\n",
       "      <td>0.003335</td>\n",
       "      <td>-0.017137</td>\n",
       "      <td>0.030166</td>\n",
       "      <td>-0.038820</td>\n",
       "      <td>-0.027237</td>\n",
       "      <td>0.260598</td>\n",
       "      <td>0.127089</td>\n",
       "      <td>-0.062473</td>\n",
       "      <td>0.067766</td>\n",
       "    </tr>\n",
       "    <tr>\n",
       "      <th>marstatus_Вдова/вдовец</th>\n",
       "      <td>0.021076</td>\n",
       "      <td>-0.036427</td>\n",
       "      <td>-0.082618</td>\n",
       "      <td>-0.030125</td>\n",
       "      <td>0.050898</td>\n",
       "      <td>0.007598</td>\n",
       "      <td>0.002859</td>\n",
       "      <td>0.053745</td>\n",
       "      <td>-0.038413</td>\n",
       "      <td>-0.001804</td>\n",
       "    </tr>\n",
       "    <tr>\n",
       "      <th>marstatus_Гражданский брак/женат/замужем</th>\n",
       "      <td>-0.246554</td>\n",
       "      <td>-0.315030</td>\n",
       "      <td>0.517030</td>\n",
       "      <td>-0.002114</td>\n",
       "      <td>0.048414</td>\n",
       "      <td>-0.061855</td>\n",
       "      <td>0.031549</td>\n",
       "      <td>0.071585</td>\n",
       "      <td>-0.037831</td>\n",
       "      <td>0.003899</td>\n",
       "    </tr>\n",
       "    <tr>\n",
       "      <th>marstatus_Разведен</th>\n",
       "      <td>0.280540</td>\n",
       "      <td>0.093044</td>\n",
       "      <td>-0.101525</td>\n",
       "      <td>0.101452</td>\n",
       "      <td>-0.091532</td>\n",
       "      <td>0.060404</td>\n",
       "      <td>0.029946</td>\n",
       "      <td>-0.029771</td>\n",
       "      <td>-0.142417</td>\n",
       "      <td>-0.175240</td>\n",
       "    </tr>\n",
       "    <tr>\n",
       "      <th>marstatus_Холост</th>\n",
       "      <td>-0.055062</td>\n",
       "      <td>0.258413</td>\n",
       "      <td>-0.332888</td>\n",
       "      <td>-0.069214</td>\n",
       "      <td>-0.007780</td>\n",
       "      <td>-0.006147</td>\n",
       "      <td>-0.064355</td>\n",
       "      <td>-0.095559</td>\n",
       "      <td>0.218662</td>\n",
       "      <td>0.173146</td>\n",
       "    </tr>\n",
       "    <tr>\n",
       "      <th>jobtype_Неофициальное</th>\n",
       "      <td>-0.007194</td>\n",
       "      <td>0.004044</td>\n",
       "      <td>-0.003402</td>\n",
       "      <td>0.001308</td>\n",
       "      <td>-0.006063</td>\n",
       "      <td>-0.026638</td>\n",
       "      <td>0.020881</td>\n",
       "      <td>0.075323</td>\n",
       "      <td>-0.036772</td>\n",
       "      <td>0.027888</td>\n",
       "    </tr>\n",
       "    <tr>\n",
       "      <th>jobtype_Официальное</th>\n",
       "      <td>-0.494322</td>\n",
       "      <td>0.074358</td>\n",
       "      <td>-0.114577</td>\n",
       "      <td>0.098052</td>\n",
       "      <td>-0.217566</td>\n",
       "      <td>0.081344</td>\n",
       "      <td>-0.009816</td>\n",
       "      <td>-0.323727</td>\n",
       "      <td>0.124040</td>\n",
       "      <td>-0.080145</td>\n",
       "    </tr>\n",
       "    <tr>\n",
       "      <th>jobtype_Пропуск поля</th>\n",
       "      <td>0.501516</td>\n",
       "      <td>-0.078401</td>\n",
       "      <td>0.117979</td>\n",
       "      <td>-0.099360</td>\n",
       "      <td>0.223628</td>\n",
       "      <td>-0.054706</td>\n",
       "      <td>-0.011065</td>\n",
       "      <td>0.248404</td>\n",
       "      <td>-0.087268</td>\n",
       "      <td>0.052257</td>\n",
       "    </tr>\n",
       "  </tbody>\n",
       "</table>\n",
       "</div>"
      ],
      "text/plain": [
       "                                          PCA Component 0  PCA Component 1  \\\n",
       "age                                              0.071368        -0.082855   \n",
       "auto                                            -0.086943         0.046470   \n",
       "regclient                                        0.329346        -0.069756   \n",
       "credits                                          0.001618        -0.094568   \n",
       "children                                        -0.159277        -0.277241   \n",
       "delta                                           -0.001285        -0.000996   \n",
       "dow_start                                        0.005956         0.006807   \n",
       "day_start                                        0.010231        -0.007108   \n",
       "month_start                                      0.056998        -0.037843   \n",
       "year_start                                       0.002681         0.000295   \n",
       "dow_end                                          0.004635         0.001216   \n",
       "day_end                                         -0.004141         0.004101   \n",
       "month_end                                        0.023870        -0.026962   \n",
       "year_end                                         0.033530        -0.011069   \n",
       "gender_Женский                                   0.066981        -0.566511   \n",
       "gender_Мужской                                  -0.066981         0.566511   \n",
       "housing_Арендуемое                               0.336112         0.081065   \n",
       "housing_Долевая собственность                   -0.057849         0.037305   \n",
       "housing_Живут с родителями                      -0.056829         0.083855   \n",
       "housing_Муниципальное                           -0.003519        -0.003700   \n",
       "housing_Собственное                             -0.217915        -0.198524   \n",
       "region_Алтайский край                           -0.084285        -0.011890   \n",
       "region_Кемеровская область север                 0.151045        -0.072282   \n",
       "region_Кемеровская область юг                    0.014815         0.091777   \n",
       "region_Красноярский край                        -0.040877        -0.010941   \n",
       "region_Новосибирская область                    -0.040698         0.003335   \n",
       "marstatus_Вдова/вдовец                           0.021076        -0.036427   \n",
       "marstatus_Гражданский брак/женат/замужем        -0.246554        -0.315030   \n",
       "marstatus_Разведен                               0.280540         0.093044   \n",
       "marstatus_Холост                                -0.055062         0.258413   \n",
       "jobtype_Неофициальное                           -0.007194         0.004044   \n",
       "jobtype_Официальное                             -0.494322         0.074358   \n",
       "jobtype_Пропуск поля                             0.501516        -0.078401   \n",
       "\n",
       "                                          PCA Component 2  PCA Component 3  \\\n",
       "age                                             -0.082089        -0.057980   \n",
       "auto                                             0.049872        -0.058311   \n",
       "regclient                                        0.146600        -0.138525   \n",
       "credits                                          0.050925         0.030483   \n",
       "children                                         0.509434         0.046794   \n",
       "delta                                           -0.000369         0.004933   \n",
       "dow_start                                        0.012183        -0.002394   \n",
       "day_start                                        0.001278        -0.001699   \n",
       "month_start                                      0.019239        -0.019394   \n",
       "year_start                                       0.001710         0.000172   \n",
       "dow_end                                          0.011051        -0.003719   \n",
       "day_end                                          0.004923         0.002929   \n",
       "month_end                                        0.016025        -0.018292   \n",
       "year_end                                         0.004149         0.001245   \n",
       "gender_Женский                                  -0.328953         0.190698   \n",
       "gender_Мужской                                   0.328953        -0.190698   \n",
       "housing_Арендуемое                               0.187296         0.249482   \n",
       "housing_Долевая собственность                    0.007695         0.123943   \n",
       "housing_Живут с родителями                      -0.024766         0.079716   \n",
       "housing_Муниципальное                           -0.005206         0.021783   \n",
       "housing_Собственное                             -0.165019        -0.474924   \n",
       "region_Алтайский край                           -0.025341         0.044197   \n",
       "region_Кемеровская область север                 0.028310        -0.555842   \n",
       "region_Кемеровская область юг                    0.043335         0.489966   \n",
       "region_Красноярский край                        -0.029167        -0.008487   \n",
       "region_Новосибирская область                    -0.017137         0.030166   \n",
       "marstatus_Вдова/вдовец                          -0.082618        -0.030125   \n",
       "marstatus_Гражданский брак/женат/замужем         0.517030        -0.002114   \n",
       "marstatus_Разведен                              -0.101525         0.101452   \n",
       "marstatus_Холост                                -0.332888        -0.069214   \n",
       "jobtype_Неофициальное                           -0.003402         0.001308   \n",
       "jobtype_Официальное                             -0.114577         0.098052   \n",
       "jobtype_Пропуск поля                             0.117979        -0.099360   \n",
       "\n",
       "                                          PCA Component 4  PCA Component 5  \\\n",
       "age                                              0.113987         0.040538   \n",
       "auto                                             0.020872         0.057110   \n",
       "regclient                                        0.175865         0.083162   \n",
       "credits                                         -0.021464         0.969908   \n",
       "children                                        -0.087710        -0.078596   \n",
       "delta                                            0.001223        -0.002163   \n",
       "dow_start                                        0.015221         0.018090   \n",
       "day_start                                        0.010747        -0.003760   \n",
       "month_start                                      0.030816         0.090984   \n",
       "year_start                                       0.001654        -0.001516   \n",
       "dow_end                                          0.006457         0.022568   \n",
       "day_end                                         -0.005651         0.005282   \n",
       "month_end                                       -0.003657         0.087181   \n",
       "year_end                                         0.035165         0.000126   \n",
       "gender_Женский                                  -0.106546        -0.047705   \n",
       "gender_Мужской                                   0.106546         0.047705   \n",
       "housing_Арендуемое                              -0.295659         0.000045   \n",
       "housing_Долевая собственность                   -0.069429        -0.005043   \n",
       "housing_Живут с родителями                      -0.120549        -0.015382   \n",
       "housing_Муниципальное                           -0.036488        -0.001741   \n",
       "housing_Собственное                              0.522125         0.022121   \n",
       "region_Алтайский край                           -0.062046         0.019828   \n",
       "region_Кемеровская область север                -0.413040        -0.007097   \n",
       "region_Кемеровская область юг                    0.504628         0.003326   \n",
       "region_Красноярский край                         0.009278         0.011179   \n",
       "region_Новосибирская область                    -0.038820        -0.027237   \n",
       "marstatus_Вдова/вдовец                           0.050898         0.007598   \n",
       "marstatus_Гражданский брак/женат/замужем         0.048414        -0.061855   \n",
       "marstatus_Разведен                              -0.091532         0.060404   \n",
       "marstatus_Холост                                -0.007780        -0.006147   \n",
       "jobtype_Неофициальное                           -0.006063        -0.026638   \n",
       "jobtype_Официальное                             -0.217566         0.081344   \n",
       "jobtype_Пропуск поля                             0.223628        -0.054706   \n",
       "\n",
       "                                          PCA Component 6  PCA Component 7  \\\n",
       "age                                              0.058939         0.083756   \n",
       "auto                                             0.067159         0.048960   \n",
       "regclient                                        0.228298        -0.597589   \n",
       "credits                                         -0.108949         0.127282   \n",
       "children                                        -0.099744        -0.074832   \n",
       "delta                                           -0.001607         0.004627   \n",
       "dow_start                                        0.005140        -0.369832   \n",
       "day_start                                       -0.024122         0.034397   \n",
       "month_start                                      0.344356        -0.154845   \n",
       "year_start                                      -0.011555        -0.002071   \n",
       "dow_end                                         -0.008038        -0.361743   \n",
       "day_end                                          0.030661        -0.054930   \n",
       "month_end                                        0.379999        -0.156800   \n",
       "year_end                                        -0.049666         0.009406   \n",
       "gender_Женский                                  -0.033833        -0.046908   \n",
       "gender_Мужской                                   0.033833         0.046908   \n",
       "housing_Арендуемое                               0.022824        -0.049642   \n",
       "housing_Долевая собственность                   -0.020200         0.030726   \n",
       "housing_Живут с родителями                      -0.011929         0.009303   \n",
       "housing_Муниципальное                            0.009170         0.012797   \n",
       "housing_Собственное                              0.000134        -0.003183   \n",
       "region_Алтайский край                            0.464174         0.174199   \n",
       "region_Кемеровская область север                -0.424102        -0.124986   \n",
       "region_Кемеровская область юг                   -0.407538        -0.175403   \n",
       "region_Красноярский край                         0.106868        -0.000898   \n",
       "region_Новосибирская область                     0.260598         0.127089   \n",
       "marstatus_Вдова/вдовец                           0.002859         0.053745   \n",
       "marstatus_Гражданский брак/женат/замужем         0.031549         0.071585   \n",
       "marstatus_Разведен                               0.029946        -0.029771   \n",
       "marstatus_Холост                                -0.064355        -0.095559   \n",
       "jobtype_Неофициальное                            0.020881         0.075323   \n",
       "jobtype_Официальное                             -0.009816        -0.323727   \n",
       "jobtype_Пропуск поля                            -0.011065         0.248404   \n",
       "\n",
       "                                          PCA Component 8  PCA Component 9  \n",
       "age                                             -0.081207        -0.025635  \n",
       "auto                                            -0.023877         0.005577  \n",
       "regclient                                        0.472212         0.148836  \n",
       "credits                                         -0.008711         0.061492  \n",
       "children                                         0.096141         0.045056  \n",
       "delta                                           -0.001594         0.003623  \n",
       "dow_start                                       -0.536690         0.231357  \n",
       "day_start                                        0.094495         0.342682  \n",
       "month_start                                      0.069319        -0.084151  \n",
       "year_start                                      -0.003418         0.023845  \n",
       "dow_end                                         -0.560825         0.227405  \n",
       "day_end                                         -0.067419        -0.289088  \n",
       "month_end                                       -0.059179        -0.497697  \n",
       "year_end                                         0.126651         0.455997  \n",
       "gender_Женский                                   0.030599         0.012069  \n",
       "gender_Мужской                                  -0.030599        -0.012069  \n",
       "housing_Арендуемое                              -0.040254        -0.051915  \n",
       "housing_Долевая собственность                    0.030773         0.027274  \n",
       "housing_Живут с родителями                       0.079133         0.093534  \n",
       "housing_Муниципальное                            0.005327         0.011706  \n",
       "housing_Собственное                             -0.074979        -0.080599  \n",
       "region_Алтайский край                           -0.017937         0.248076  \n",
       "region_Кемеровская область север                 0.025549        -0.136809  \n",
       "region_Кемеровская область юг                    0.059402        -0.164280  \n",
       "region_Красноярский край                        -0.004541        -0.014754  \n",
       "region_Новосибирская область                    -0.062473         0.067766  \n",
       "marstatus_Вдова/вдовец                          -0.038413        -0.001804  \n",
       "marstatus_Гражданский брак/женат/замужем        -0.037831         0.003899  \n",
       "marstatus_Разведен                              -0.142417        -0.175240  \n",
       "marstatus_Холост                                 0.218662         0.173146  \n",
       "jobtype_Неофициальное                           -0.036772         0.027888  \n",
       "jobtype_Официальное                              0.124040        -0.080145  \n",
       "jobtype_Пропуск поля                            -0.087268         0.052257  "
      ]
     },
     "execution_count": 144,
     "metadata": {},
     "output_type": "execute_result"
    }
   ],
   "source": [
    "pca_dims = []\n",
    "columns = X_train.columns\n",
    "for x in range(0, len(pca_df)):\n",
    "    pca_dims.append('PCA Component {}'.format(x))\n",
    "pca_test_df = pd.DataFrame(pca_test.components_, columns=columns, index=pca_dims)\n",
    "pca_test_df.head(10).T"
   ]
  },
  {
   "cell_type": "markdown",
   "id": "62ea618d",
   "metadata": {},
   "source": [
    "# Обучить базовую RF-модель после применения к данным метода главных компонент "
   ]
  },
  {
   "cell_type": "code",
   "execution_count": 145,
   "id": "d5a3bc44",
   "metadata": {},
   "outputs": [
    {
     "data": {
      "text/plain": [
       "1.0"
      ]
     },
     "metadata": {},
     "output_type": "display_data"
    }
   ],
   "source": [
    "rfc = RandomForestClassifier()\n",
    "rfc.fit(X_train_scaled_pca, y_train)\n",
    "display(rfc.score(X_train_scaled_pca, y_train))"
   ]
  },
  {
   "cell_type": "markdown",
   "id": "ac920cf2",
   "metadata": {},
   "source": [
    "# Оптимизировать гиперпараметры: RandomizedSearchCV"
   ]
  },
  {
   "cell_type": "code",
   "execution_count": 146,
   "id": "0881e960",
   "metadata": {},
   "outputs": [
    {
     "name": "stdout",
     "output_type": "stream",
     "text": [
      "Fitting 3 folds for each of 100 candidates, totalling 300 fits\n"
     ]
    },
    {
     "data": {
      "text/plain": [
       "{'n_estimators': 600,\n",
       " 'min_samples_split': 23,\n",
       " 'min_samples_leaf': 2,\n",
       " 'max_features': 'sqrt',\n",
       " 'max_depth': 15,\n",
       " 'bootstrap': False}"
      ]
     },
     "execution_count": 146,
     "metadata": {},
     "output_type": "execute_result"
    }
   ],
   "source": [
    "from sklearn.model_selection import RandomizedSearchCV\n",
    "n_estimators = [int(x) for x in np.linspace(start = 100, stop = 1000, num = 10)]\n",
    "max_features = ['log2', 'sqrt']\n",
    "max_depth = [int(x) for x in np.linspace(start = 1, stop = 15, num = 15)]\n",
    "min_samples_split = [int(x) for x in np.linspace(start = 2, stop = 50, num = 10)]\n",
    "min_samples_leaf = [int(x) for x in np.linspace(start = 2, stop = 50, num = 10)]\n",
    "bootstrap = [True, False]\n",
    "param_dist = {'n_estimators': n_estimators,\n",
    "               'max_features': max_features,\n",
    "               'max_depth': max_depth,\n",
    "               'min_samples_split': min_samples_split,\n",
    "               'min_samples_leaf': min_samples_leaf,\n",
    "               'bootstrap': bootstrap}\n",
    "rs = RandomizedSearchCV(rfc, \n",
    "                        param_dist, \n",
    "                        n_iter = 100, \n",
    "                        cv = 3, \n",
    "                        verbose = 1, \n",
    "                        n_jobs=-1, \n",
    "                        random_state=0)\n",
    "rs.fit(X_train_scaled_pca, y_train)\n",
    "rs.best_params_"
   ]
  },
  {
   "cell_type": "code",
   "execution_count": 147,
   "id": "967d750d",
   "metadata": {},
   "outputs": [
    {
     "data": {
      "text/html": [
       "<div>\n",
       "<style scoped>\n",
       "    .dataframe tbody tr th:only-of-type {\n",
       "        vertical-align: middle;\n",
       "    }\n",
       "\n",
       "    .dataframe tbody tr th {\n",
       "        vertical-align: top;\n",
       "    }\n",
       "\n",
       "    .dataframe thead th {\n",
       "        text-align: right;\n",
       "    }\n",
       "</style>\n",
       "<table border=\"1\" class=\"dataframe\">\n",
       "  <thead>\n",
       "    <tr style=\"text-align: right;\">\n",
       "      <th></th>\n",
       "      <th>param_n_estimators</th>\n",
       "      <th>param_min_samples_split</th>\n",
       "      <th>param_min_samples_leaf</th>\n",
       "      <th>param_max_features</th>\n",
       "      <th>param_max_depth</th>\n",
       "      <th>param_bootstrap</th>\n",
       "      <th>mean_test_score</th>\n",
       "      <th>rank_test_score</th>\n",
       "    </tr>\n",
       "  </thead>\n",
       "  <tbody>\n",
       "    <tr>\n",
       "      <th>0</th>\n",
       "      <td>600</td>\n",
       "      <td>23</td>\n",
       "      <td>2</td>\n",
       "      <td>sqrt</td>\n",
       "      <td>15</td>\n",
       "      <td>False</td>\n",
       "      <td>0.731762</td>\n",
       "      <td>1</td>\n",
       "    </tr>\n",
       "    <tr>\n",
       "      <th>1</th>\n",
       "      <td>100</td>\n",
       "      <td>2</td>\n",
       "      <td>18</td>\n",
       "      <td>sqrt</td>\n",
       "      <td>15</td>\n",
       "      <td>False</td>\n",
       "      <td>0.731638</td>\n",
       "      <td>2</td>\n",
       "    </tr>\n",
       "    <tr>\n",
       "      <th>2</th>\n",
       "      <td>700</td>\n",
       "      <td>12</td>\n",
       "      <td>2</td>\n",
       "      <td>sqrt</td>\n",
       "      <td>13</td>\n",
       "      <td>False</td>\n",
       "      <td>0.731638</td>\n",
       "      <td>3</td>\n",
       "    </tr>\n",
       "    <tr>\n",
       "      <th>3</th>\n",
       "      <td>700</td>\n",
       "      <td>23</td>\n",
       "      <td>7</td>\n",
       "      <td>log2</td>\n",
       "      <td>15</td>\n",
       "      <td>False</td>\n",
       "      <td>0.731226</td>\n",
       "      <td>4</td>\n",
       "    </tr>\n",
       "    <tr>\n",
       "      <th>4</th>\n",
       "      <td>800</td>\n",
       "      <td>28</td>\n",
       "      <td>12</td>\n",
       "      <td>sqrt</td>\n",
       "      <td>14</td>\n",
       "      <td>True</td>\n",
       "      <td>0.731144</td>\n",
       "      <td>5</td>\n",
       "    </tr>\n",
       "    <tr>\n",
       "      <th>5</th>\n",
       "      <td>400</td>\n",
       "      <td>23</td>\n",
       "      <td>2</td>\n",
       "      <td>sqrt</td>\n",
       "      <td>14</td>\n",
       "      <td>False</td>\n",
       "      <td>0.730608</td>\n",
       "      <td>6</td>\n",
       "    </tr>\n",
       "    <tr>\n",
       "      <th>6</th>\n",
       "      <td>500</td>\n",
       "      <td>12</td>\n",
       "      <td>18</td>\n",
       "      <td>sqrt</td>\n",
       "      <td>13</td>\n",
       "      <td>False</td>\n",
       "      <td>0.730566</td>\n",
       "      <td>7</td>\n",
       "    </tr>\n",
       "    <tr>\n",
       "      <th>7</th>\n",
       "      <td>700</td>\n",
       "      <td>2</td>\n",
       "      <td>2</td>\n",
       "      <td>log2</td>\n",
       "      <td>11</td>\n",
       "      <td>True</td>\n",
       "      <td>0.730237</td>\n",
       "      <td>8</td>\n",
       "    </tr>\n",
       "    <tr>\n",
       "      <th>8</th>\n",
       "      <td>300</td>\n",
       "      <td>28</td>\n",
       "      <td>7</td>\n",
       "      <td>log2</td>\n",
       "      <td>13</td>\n",
       "      <td>True</td>\n",
       "      <td>0.730031</td>\n",
       "      <td>9</td>\n",
       "    </tr>\n",
       "    <tr>\n",
       "      <th>9</th>\n",
       "      <td>400</td>\n",
       "      <td>23</td>\n",
       "      <td>12</td>\n",
       "      <td>sqrt</td>\n",
       "      <td>11</td>\n",
       "      <td>True</td>\n",
       "      <td>0.729742</td>\n",
       "      <td>10</td>\n",
       "    </tr>\n",
       "  </tbody>\n",
       "</table>\n",
       "</div>"
      ],
      "text/plain": [
       "  param_n_estimators param_min_samples_split param_min_samples_leaf  \\\n",
       "0                600                      23                      2   \n",
       "1                100                       2                     18   \n",
       "2                700                      12                      2   \n",
       "3                700                      23                      7   \n",
       "4                800                      28                     12   \n",
       "5                400                      23                      2   \n",
       "6                500                      12                     18   \n",
       "7                700                       2                      2   \n",
       "8                300                      28                      7   \n",
       "9                400                      23                     12   \n",
       "\n",
       "  param_max_features param_max_depth param_bootstrap  mean_test_score  \\\n",
       "0               sqrt              15           False         0.731762   \n",
       "1               sqrt              15           False         0.731638   \n",
       "2               sqrt              13           False         0.731638   \n",
       "3               log2              15           False         0.731226   \n",
       "4               sqrt              14            True         0.731144   \n",
       "5               sqrt              14           False         0.730608   \n",
       "6               sqrt              13           False         0.730566   \n",
       "7               log2              11            True         0.730237   \n",
       "8               log2              13            True         0.730031   \n",
       "9               sqrt              11            True         0.729742   \n",
       "\n",
       "   rank_test_score  \n",
       "0                1  \n",
       "1                2  \n",
       "2                3  \n",
       "3                4  \n",
       "4                5  \n",
       "5                6  \n",
       "6                7  \n",
       "7                8  \n",
       "8                9  \n",
       "9               10  "
      ]
     },
     "execution_count": 147,
     "metadata": {},
     "output_type": "execute_result"
    }
   ],
   "source": [
    "rs_df = pd.DataFrame(rs.cv_results_).sort_values('rank_test_score').reset_index(drop=True)\n",
    "rs_df = rs_df.drop([\n",
    "            'mean_fit_time', \n",
    "            'std_fit_time', \n",
    "            'mean_score_time',\n",
    "            'std_score_time', \n",
    "            'params', \n",
    "            'split0_test_score', \n",
    "            'split1_test_score', \n",
    "            'split2_test_score', \n",
    "            'std_test_score'],\n",
    "            axis=1)\n",
    "rs_df.head(10)"
   ]
  },
  {
   "cell_type": "code",
   "execution_count": 148,
   "id": "a35d7899",
   "metadata": {},
   "outputs": [
    {
     "data": {
      "image/png": "[encoded data removed]",
      "text/plain": [
       "<Figure size 3000x2500 with 6 Axes>"
      ]
     },
     "metadata": {},
     "output_type": "display_data"
    }
   ],
   "source": [
    "fig, axs = plt.subplots(ncols=3, nrows=2)\n",
    "sns.set(style=\"whitegrid\", color_codes=True, font_scale = 2)\n",
    "fig.set_size_inches(30,25)\n",
    "sns.barplot(x='param_n_estimators', y='mean_test_score', data=rs_df, ax=axs[0,0], color='lightgrey')\n",
    "axs[0,0].set_ylim([.6,.93])\n",
    "axs[0,0].set_title(label = 'n_estimators', size=30, weight='bold')\n",
    "sns.barplot(x='param_min_samples_split', y='mean_test_score', data=rs_df, ax=axs[0,1], color='coral')\n",
    "axs[0,1].set_ylim([.6,.93])\n",
    "axs[0,1].set_title(label = 'min_samples_split', size=30, weight='bold')\n",
    "sns.barplot(x='param_min_samples_leaf', y='mean_test_score', data=rs_df, ax=axs[0,2], color='lightgreen')\n",
    "axs[0,2].set_ylim([.6,.93])\n",
    "axs[0,2].set_title(label = 'min_samples_leaf', size=30, weight='bold')\n",
    "sns.barplot(x='param_max_features', y='mean_test_score', data=rs_df, ax=axs[1,0], color='wheat')\n",
    "axs[1,0].set_ylim([.6,.92])\n",
    "axs[1,0].set_title(label = 'max_features', size=30, weight='bold')\n",
    "sns.barplot(x='param_max_depth', y='mean_test_score', data=rs_df, ax=axs[1,1], color='lightpink')\n",
    "axs[1,1].set_ylim([.6,.93])\n",
    "axs[1,1].set_title(label = 'max_depth', size=30, weight='bold')\n",
    "sns.barplot(x='param_bootstrap',y='mean_test_score', data=rs_df, ax=axs[1,2], color='skyblue')\n",
    "axs[1,2].set_ylim([.6,.92])\n",
    "axs[1,2].set_title(label = 'bootstrap', size=30, weight='bold')\n",
    "plt.show()"
   ]
  },
  {
   "cell_type": "markdown",
   "id": "ffea230f",
   "metadata": {},
   "source": [
    "# Оптимизировать гиперпараметры: GridSearchCV (окончательная подготовка параметров для модели)"
   ]
  },
  {
   "cell_type": "code",
   "execution_count": 149,
   "id": "a03a7d2c",
   "metadata": {},
   "outputs": [
    {
     "name": "stdout",
     "output_type": "stream",
     "text": [
      "Fitting 3 folds for each of 216 candidates, totalling 648 fits\n"
     ]
    },
    {
     "data": {
      "text/plain": [
       "{'bootstrap': False,\n",
       " 'max_depth': 15,\n",
       " 'max_features': 'sqrt',\n",
       " 'min_samples_leaf': 18,\n",
       " 'min_samples_split': 28,\n",
       " 'n_estimators': 500}"
      ]
     },
     "execution_count": 149,
     "metadata": {},
     "output_type": "execute_result"
    }
   ],
   "source": [
    "from sklearn.model_selection import GridSearchCV\n",
    "n_estimators = [500,700,900]\n",
    "max_features = ['sqrt']\n",
    "max_depth = [13,14,15]\n",
    "min_samples_split = [2, 23, 28,44]\n",
    "min_samples_leaf = [18,19,31,32,33,34]\n",
    "bootstrap = [False]\n",
    "param_grid = {'n_estimators': n_estimators,\n",
    "               'max_features': max_features,\n",
    "               'max_depth': max_depth,\n",
    "               'min_samples_split': min_samples_split,\n",
    "               'min_samples_leaf': min_samples_leaf,\n",
    "               'bootstrap': bootstrap}\n",
    "gs = GridSearchCV(rfc, param_grid, cv = 3, verbose = 1, n_jobs=-1)\n",
    "gs.fit(X_train_scaled_pca, y_train)\n",
    "rfc_3 = gs.best_estimator_\n",
    "gs.best_params_"
   ]
  },
  {
   "cell_type": "markdown",
   "id": "76a460b4",
   "metadata": {},
   "source": [
    "# Оценить качество работы моделей на проверочных данных"
   ]
  },
  {
   "cell_type": "code",
   "execution_count": 150,
   "id": "9727cff7",
   "metadata": {},
   "outputs": [
    {
     "name": "stderr",
     "output_type": "stream",
     "text": [
      "C:\\Users\\dmysc\\anaconda3\\lib\\site-packages\\sklearn\\base.py:450: UserWarning: X does not have valid feature names, but RandomForestClassifier was fitted with feature names\n",
      "  warnings.warn(\n"
     ]
    }
   ],
   "source": [
    "y_pred = rfc1.predict(test_X_scaled)\n",
    "y_pred_pca = rfc.predict(X_test_scaled_pca)\n",
    "y_pred_gs = gs.best_estimator_.predict(X_test_scaled_pca)"
   ]
  },
  {
   "cell_type": "code",
   "execution_count": 154,
   "id": "e1e8f8c3",
   "metadata": {},
   "outputs": [
    {
     "data": {
      "text/html": [
       "<div>\n",
       "<style scoped>\n",
       "    .dataframe tbody tr th:only-of-type {\n",
       "        vertical-align: middle;\n",
       "    }\n",
       "\n",
       "    .dataframe tbody tr th {\n",
       "        vertical-align: top;\n",
       "    }\n",
       "\n",
       "    .dataframe thead th {\n",
       "        text-align: right;\n",
       "    }\n",
       "</style>\n",
       "<table border=\"1\" class=\"dataframe\">\n",
       "  <thead>\n",
       "    <tr style=\"text-align: right;\">\n",
       "      <th></th>\n",
       "      <th>predicted 0</th>\n",
       "      <th>predicted 1</th>\n",
       "    </tr>\n",
       "  </thead>\n",
       "  <tbody>\n",
       "    <tr>\n",
       "      <th>actual 0</th>\n",
       "      <td>804</td>\n",
       "      <td>5585</td>\n",
       "    </tr>\n",
       "    <tr>\n",
       "      <th>actual 1</th>\n",
       "      <td>435</td>\n",
       "      <td>3574</td>\n",
       "    </tr>\n",
       "  </tbody>\n",
       "</table>\n",
       "</div>"
      ],
      "text/plain": [
       "          predicted 0  predicted 1\n",
       "actual 0          804         5585\n",
       "actual 1          435         3574"
      ]
     },
     "metadata": {},
     "output_type": "display_data"
    },
    {
     "name": "stdout",
     "output_type": "stream",
     "text": [
      "Baseline Random Forest recall score 0.8914941381890746\n"
     ]
    },
    {
     "data": {
      "text/html": [
       "<div>\n",
       "<style scoped>\n",
       "    .dataframe tbody tr th:only-of-type {\n",
       "        vertical-align: middle;\n",
       "    }\n",
       "\n",
       "    .dataframe tbody tr th {\n",
       "        vertical-align: top;\n",
       "    }\n",
       "\n",
       "    .dataframe thead th {\n",
       "        text-align: right;\n",
       "    }\n",
       "</style>\n",
       "<table border=\"1\" class=\"dataframe\">\n",
       "  <thead>\n",
       "    <tr style=\"text-align: right;\">\n",
       "      <th></th>\n",
       "      <th>predicted 0</th>\n",
       "      <th>predicted 1</th>\n",
       "    </tr>\n",
       "  </thead>\n",
       "  <tbody>\n",
       "    <tr>\n",
       "      <th>actual 0</th>\n",
       "      <td>5125</td>\n",
       "      <td>1264</td>\n",
       "    </tr>\n",
       "    <tr>\n",
       "      <th>actual 1</th>\n",
       "      <td>1527</td>\n",
       "      <td>2482</td>\n",
       "    </tr>\n",
       "  </tbody>\n",
       "</table>\n",
       "</div>"
      ],
      "text/plain": [
       "          predicted 0  predicted 1\n",
       "actual 0         5125         1264\n",
       "actual 1         1527         2482"
      ]
     },
     "metadata": {},
     "output_type": "display_data"
    },
    {
     "name": "stdout",
     "output_type": "stream",
     "text": [
      "Baseline Random Forest With PCA recall score 0.6191070092292342\n"
     ]
    },
    {
     "data": {
      "text/html": [
       "<div>\n",
       "<style scoped>\n",
       "    .dataframe tbody tr th:only-of-type {\n",
       "        vertical-align: middle;\n",
       "    }\n",
       "\n",
       "    .dataframe tbody tr th {\n",
       "        vertical-align: top;\n",
       "    }\n",
       "\n",
       "    .dataframe thead th {\n",
       "        text-align: right;\n",
       "    }\n",
       "</style>\n",
       "<table border=\"1\" class=\"dataframe\">\n",
       "  <thead>\n",
       "    <tr style=\"text-align: right;\">\n",
       "      <th></th>\n",
       "      <th>predicted 0</th>\n",
       "      <th>predicted 1</th>\n",
       "    </tr>\n",
       "  </thead>\n",
       "  <tbody>\n",
       "    <tr>\n",
       "      <th>actual 0</th>\n",
       "      <td>5172</td>\n",
       "      <td>1217</td>\n",
       "    </tr>\n",
       "    <tr>\n",
       "      <th>actual 1</th>\n",
       "      <td>1509</td>\n",
       "      <td>2500</td>\n",
       "    </tr>\n",
       "  </tbody>\n",
       "</table>\n",
       "</div>"
      ],
      "text/plain": [
       "          predicted 0  predicted 1\n",
       "actual 0         5172         1217\n",
       "actual 1         1509         2500"
      ]
     },
     "metadata": {},
     "output_type": "display_data"
    },
    {
     "name": "stdout",
     "output_type": "stream",
     "text": [
      "Hyperparameter Tuned Random Forest With PCA Reduced Dimensionality recall score 0.6235969069593414\n"
     ]
    }
   ],
   "source": [
    "from sklearn.metrics import confusion_matrix\n",
    "from sklearn.metrics import recall_score\n",
    "\n",
    "conf_matrix_baseline = pd.DataFrame(confusion_matrix(y_test, y_pred), index = ['actual 0', 'actual 1'], columns = ['predicted 0', 'predicted 1'])\n",
    "conf_matrix_baseline_pca = pd.DataFrame(confusion_matrix(y_test, y_pred_pca), index = ['actual 0', 'actual 1'], columns = ['predicted 0', 'predicted 1'])\n",
    "conf_matrix_tuned_pca = pd.DataFrame(confusion_matrix(y_test, y_pred_gs), index = ['actual 0', 'actual 1'], columns = ['predicted 0', 'predicted 1'])\n",
    "display(conf_matrix_baseline)\n",
    "print('Baseline Random Forest recall score', recall_score(y_test, y_pred))\n",
    "display(conf_matrix_baseline_pca)\n",
    "print('Baseline Random Forest With PCA recall score', recall_score(y_test, y_pred_pca))\n",
    "display(conf_matrix_tuned_pca)\n",
    "print('Hyperparameter Tuned Random Forest With PCA Reduced Dimensionality recall score', recall_score(y_test, y_pred_gs))"
   ]
  },
  {
   "cell_type": "markdown",
   "id": "81710fa0",
   "metadata": {},
   "source": [
    "# Применить наивный байесовский алгоритм классификации"
   ]
  },
  {
   "cell_type": "code",
   "execution_count": 155,
   "id": "a92d0ad6",
   "metadata": {},
   "outputs": [
    {
     "name": "stdout",
     "output_type": "stream",
     "text": [
      "0.5035583766108868\n"
     ]
    }
   ],
   "source": [
    "from sklearn.naive_bayes import GaussianNB\n",
    "from sklearn.metrics import accuracy_score\n",
    "\n",
    "model = GaussianNB()\n",
    "model.fit(X_train, y_train)\n",
    "accuracy = accuracy_score(y_test, model.predict(X_test))\n",
    "\n",
    "print(accuracy)"
   ]
  },
  {
   "cell_type": "markdown",
   "id": "74e0c514",
   "metadata": {},
   "source": [
    "# Реализовать логистическую регрессию"
   ]
  },
  {
   "cell_type": "code",
   "execution_count": 156,
   "id": "0fd652b2",
   "metadata": {},
   "outputs": [
    {
     "data": {
      "text/plain": [
       "0.7492787074437391"
      ]
     },
     "execution_count": 156,
     "metadata": {},
     "output_type": "execute_result"
    }
   ],
   "source": [
    "from sklearn.linear_model import LogisticRegression\n",
    "from sklearn.pipeline import make_pipeline\n",
    "from sklearn.preprocessing import StandardScaler\n",
    "\n",
    "pipe = make_pipeline(StandardScaler(), LogisticRegression())\n",
    "pipe.fit(X_train, y_train)  # apply scaling on training data\n",
    "pipe.score(X_test, y_test)  # apply scaling on testing data, without leaking training data."
   ]
  },
  {
   "cell_type": "code",
   "execution_count": 167,
   "id": "a86d6143",
   "metadata": {},
   "outputs": [
    {
     "name": "stderr",
     "output_type": "stream",
     "text": [
      "C:\\Users\\dmysc\\anaconda3\\lib\\site-packages\\sklearn\\linear_model\\_logistic.py:814: ConvergenceWarning: lbfgs failed to converge (status=1):\n",
      "STOP: TOTAL NO. of ITERATIONS REACHED LIMIT.\n",
      "\n",
      "Increase the number of iterations (max_iter) or scale the data as shown in:\n",
      "    https://scikit-learn.org/stable/modules/preprocessing.html\n",
      "Please also refer to the documentation for alternative solver options:\n",
      "    https://scikit-learn.org/stable/modules/linear_model.html#logistic-regression\n",
      "  n_iter_i = _check_optimize_result(\n",
      "C:\\Users\\dmysc\\anaconda3\\lib\\site-packages\\sklearn\\linear_model\\_logistic.py:814: ConvergenceWarning: lbfgs failed to converge (status=1):\n",
      "STOP: TOTAL NO. of ITERATIONS REACHED LIMIT.\n",
      "\n",
      "Increase the number of iterations (max_iter) or scale the data as shown in:\n",
      "    https://scikit-learn.org/stable/modules/preprocessing.html\n",
      "Please also refer to the documentation for alternative solver options:\n",
      "    https://scikit-learn.org/stable/modules/linear_model.html#logistic-regression\n",
      "  n_iter_i = _check_optimize_result(\n",
      "C:\\Users\\dmysc\\anaconda3\\lib\\site-packages\\sklearn\\linear_model\\_logistic.py:814: ConvergenceWarning: lbfgs failed to converge (status=1):\n",
      "STOP: TOTAL NO. of ITERATIONS REACHED LIMIT.\n",
      "\n",
      "Increase the number of iterations (max_iter) or scale the data as shown in:\n",
      "    https://scikit-learn.org/stable/modules/preprocessing.html\n",
      "Please also refer to the documentation for alternative solver options:\n",
      "    https://scikit-learn.org/stable/modules/linear_model.html#logistic-regression\n",
      "  n_iter_i = _check_optimize_result(\n",
      "C:\\Users\\dmysc\\anaconda3\\lib\\site-packages\\sklearn\\linear_model\\_logistic.py:814: ConvergenceWarning: lbfgs failed to converge (status=1):\n",
      "STOP: TOTAL NO. of ITERATIONS REACHED LIMIT.\n",
      "\n",
      "Increase the number of iterations (max_iter) or scale the data as shown in:\n",
      "    https://scikit-learn.org/stable/modules/preprocessing.html\n",
      "Please also refer to the documentation for alternative solver options:\n",
      "    https://scikit-learn.org/stable/modules/linear_model.html#logistic-regression\n",
      "  n_iter_i = _check_optimize_result(\n",
      "C:\\Users\\dmysc\\anaconda3\\lib\\site-packages\\sklearn\\linear_model\\_logistic.py:814: ConvergenceWarning: lbfgs failed to converge (status=1):\n",
      "STOP: TOTAL NO. of ITERATIONS REACHED LIMIT.\n",
      "\n",
      "Increase the number of iterations (max_iter) or scale the data as shown in:\n",
      "    https://scikit-learn.org/stable/modules/preprocessing.html\n",
      "Please also refer to the documentation for alternative solver options:\n",
      "    https://scikit-learn.org/stable/modules/linear_model.html#logistic-regression\n",
      "  n_iter_i = _check_optimize_result(\n"
     ]
    },
    {
     "name": "stdout",
     "output_type": "stream",
     "text": [
      "Accuracy: 0.76 (+/- 0.01) [Logistic Regression]\n",
      "Accuracy: 0.75 (+/- 0.00) [Random Forest]\n",
      "Accuracy: 0.49 (+/- 0.00) [naive Bayes]\n"
     ]
    },
    {
     "name": "stderr",
     "output_type": "stream",
     "text": [
      "C:\\Users\\dmysc\\anaconda3\\lib\\site-packages\\sklearn\\linear_model\\_logistic.py:814: ConvergenceWarning: lbfgs failed to converge (status=1):\n",
      "STOP: TOTAL NO. of ITERATIONS REACHED LIMIT.\n",
      "\n",
      "Increase the number of iterations (max_iter) or scale the data as shown in:\n",
      "    https://scikit-learn.org/stable/modules/preprocessing.html\n",
      "Please also refer to the documentation for alternative solver options:\n",
      "    https://scikit-learn.org/stable/modules/linear_model.html#logistic-regression\n",
      "  n_iter_i = _check_optimize_result(\n",
      "C:\\Users\\dmysc\\anaconda3\\lib\\site-packages\\sklearn\\linear_model\\_logistic.py:814: ConvergenceWarning: lbfgs failed to converge (status=1):\n",
      "STOP: TOTAL NO. of ITERATIONS REACHED LIMIT.\n",
      "\n",
      "Increase the number of iterations (max_iter) or scale the data as shown in:\n",
      "    https://scikit-learn.org/stable/modules/preprocessing.html\n",
      "Please also refer to the documentation for alternative solver options:\n",
      "    https://scikit-learn.org/stable/modules/linear_model.html#logistic-regression\n",
      "  n_iter_i = _check_optimize_result(\n",
      "C:\\Users\\dmysc\\anaconda3\\lib\\site-packages\\sklearn\\linear_model\\_logistic.py:814: ConvergenceWarning: lbfgs failed to converge (status=1):\n",
      "STOP: TOTAL NO. of ITERATIONS REACHED LIMIT.\n",
      "\n",
      "Increase the number of iterations (max_iter) or scale the data as shown in:\n",
      "    https://scikit-learn.org/stable/modules/preprocessing.html\n",
      "Please also refer to the documentation for alternative solver options:\n",
      "    https://scikit-learn.org/stable/modules/linear_model.html#logistic-regression\n",
      "  n_iter_i = _check_optimize_result(\n",
      "C:\\Users\\dmysc\\anaconda3\\lib\\site-packages\\sklearn\\linear_model\\_logistic.py:814: ConvergenceWarning: lbfgs failed to converge (status=1):\n",
      "STOP: TOTAL NO. of ITERATIONS REACHED LIMIT.\n",
      "\n",
      "Increase the number of iterations (max_iter) or scale the data as shown in:\n",
      "    https://scikit-learn.org/stable/modules/preprocessing.html\n",
      "Please also refer to the documentation for alternative solver options:\n",
      "    https://scikit-learn.org/stable/modules/linear_model.html#logistic-regression\n",
      "  n_iter_i = _check_optimize_result(\n",
      "C:\\Users\\dmysc\\anaconda3\\lib\\site-packages\\sklearn\\linear_model\\_logistic.py:814: ConvergenceWarning: lbfgs failed to converge (status=1):\n",
      "STOP: TOTAL NO. of ITERATIONS REACHED LIMIT.\n",
      "\n",
      "Increase the number of iterations (max_iter) or scale the data as shown in:\n",
      "    https://scikit-learn.org/stable/modules/preprocessing.html\n",
      "Please also refer to the documentation for alternative solver options:\n",
      "    https://scikit-learn.org/stable/modules/linear_model.html#logistic-regression\n",
      "  n_iter_i = _check_optimize_result(\n"
     ]
    },
    {
     "name": "stdout",
     "output_type": "stream",
     "text": [
      "Accuracy: 0.76 (+/- 0.01) [Ensemble]\n"
     ]
    }
   ],
   "source": [
    "from sklearn.model_selection import cross_val_score\n",
    "from sklearn.linear_model import LogisticRegression\n",
    "from sklearn.naive_bayes import GaussianNB\n",
    "from sklearn.ensemble import RandomForestClassifier\n",
    "from sklearn.ensemble import VotingClassifier\n",
    "\n",
    "clf1 = LogisticRegression(random_state=1)\n",
    "clf2 = RandomForestClassifier(n_estimators=50, random_state=1)\n",
    "clf3 = GaussianNB()\n",
    "eclf = VotingClassifier(\n",
    "    estimators=[('lr', clf1), ('rf', clf2), ('gnb', clf3)],\n",
    "    voting='hard')\n",
    "\n",
    "for clf, label in zip([clf1, clf2, clf3, eclf], ['Logistic Regression', 'Random Forest', 'naive Bayes', 'Ensemble']):\n",
    "    scores = cross_val_score(clf, train_X_scaled, y_train, scoring='accuracy', cv=5)\n",
    "    print(\"Accuracy: %0.2f (+/- %0.2f) [%s]\" % (scores.mean(), scores.std(), label))"
   ]
  },
  {
   "cell_type": "markdown",
   "id": "f4bd27f3",
   "metadata": {},
   "source": [
    "# Реализовать линейную регрессию"
   ]
  },
  {
   "cell_type": "code",
   "execution_count": 164,
   "id": "fa480acd",
   "metadata": {},
   "outputs": [
    {
     "data": {
      "text/plain": [
       "array([ 2.47464120e-01, -1.51950957e-03, -3.93784729e-02, ...,\n",
       "        0.00000000e+00,  0.00000000e+00, -8.25538136e-05])"
      ]
     },
     "execution_count": 164,
     "metadata": {},
     "output_type": "execute_result"
    }
   ],
   "source": [
    "from sklearn.preprocessing import PolynomialFeatures\n",
    "from sklearn.linear_model import LinearRegression\n",
    "from sklearn.pipeline import Pipeline\n",
    "import numpy as np\n",
    "model = Pipeline([('poly', PolynomialFeatures(degree=3)),\n",
    "    ('linear', LinearRegression(fit_intercept=False))])\n",
    "# fit to an order-3 polynomial data\n",
    "model = model.fit(X_train, y_train)\n",
    "model.named_steps['linear'].coef_"
   ]
  },
  {
   "cell_type": "code",
   "execution_count": 165,
   "id": "70c7e5d2",
   "metadata": {},
   "outputs": [
    {
     "data": {
      "text/plain": [
       "0.4508131859129191"
      ]
     },
     "execution_count": 165,
     "metadata": {},
     "output_type": "execute_result"
    }
   ],
   "source": [
    "model.score(X_train, y_train)"
   ]
  },
  {
   "cell_type": "code",
   "execution_count": 166,
   "id": "ce27bec0",
   "metadata": {},
   "outputs": [
    {
     "data": {
      "text/plain": [
       "array([ 0.64206505,  0.81815147,  0.51429677, ...,  0.56607628,\n",
       "       -0.18118054,  0.34525633])"
      ]
     },
     "execution_count": 166,
     "metadata": {},
     "output_type": "execute_result"
    }
   ],
   "source": [
    "model.predict(X_test)"
   ]
  },
  {
   "cell_type": "code",
   "execution_count": null,
   "id": "561a8537",
   "metadata": {},
   "outputs": [],
   "source": []
  }
 ],
 "metadata": {
  "kernelspec": {
   "display_name": "Python 3 (ipykernel)",
   "language": "python",
   "name": "python3"
  },
  "language_info": {
   "codemirror_mode": {
    "name": "ipython",
    "version": 3
   },
   "file_extension": ".py",
   "mimetype": "text/x-python",
   "name": "python",
   "nbconvert_exporter": "python",
   "pygments_lexer": "ipython3",
   "version": "3.9.13"
  }
 },
 "nbformat": 4,
 "nbformat_minor": 5
}
