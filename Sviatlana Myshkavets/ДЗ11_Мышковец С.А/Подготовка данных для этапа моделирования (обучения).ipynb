{
 "cells": [
  {
   "cell_type": "markdown",
   "id": "feafe623",
   "metadata": {},
   "source": [
    "Мышковец С.А., v.01 16.10.2022\n",
    "\n",
    "Решение задачи: Подготовить данные для этапа моделирования (обучения)\n",
    "\n",
    "1. Анализ данных, необходимые корректировки. \n",
    "2. Обработать пропуски. \n",
    "3. Оценить выбросы. \n",
    "4. Корреляция. \n",
    "5. Тест на нормальность распределения.\n",
    "6. Масштабировать и стандартизировать данные.\n",
    "7. Разделите данные на тренировочную и тестовую выборку.\n",
    "8. При обработке пропусков/выбросов/скалировании тестовую и тренировачную выборку обрабатывать отдельно.\n",
    "\n",
    "Вывод:\n",
    "    1. Чистить категориальные данные проще в Excel.\n",
    "    2. Ярко выраженных связей между атрибутами БД не выявлено.\n"
   ]
  },
  {
   "cell_type": "markdown",
   "id": "c9fc6f9f",
   "metadata": {},
   "source": [
    "Замечания преподавателя:\n",
    "    \n",
    "    1. В процессе обучения (а это можно выяснить только обучив модель) мы выяснили что очистку делать не нужно \n",
    "    2. Редко встречаемые данные можно заменить по порогу на одно значение (например города которые встречаются реже чем 70 раз) \n",
    "    3. Скалирование тут так же спорное решение \n",
    "    4. Не нашел про дубликаты (их обработку) \n",
    "    5. В конце перед разбивкой стоит делать например get_dummies (pandas) или то что я сбросил так как модели не работают с категориальными данными (текстом). "
   ]
  },
  {
   "cell_type": "markdown",
   "id": "3dc2c771",
   "metadata": {},
   "source": [
    "# Анализ данных, необходимые корректировки."
   ]
  },
  {
   "cell_type": "code",
   "execution_count": 4,
   "id": "f2768d19",
   "metadata": {},
   "outputs": [],
   "source": [
    "import pandas as pd\n",
    "import numpy as np\n",
    "\n",
    "pd.set_option(\"display.max_columns\", 50)\n",
    "df = pd.read_csv(\"credit_train.csv\", sep= ';')"
   ]
  },
  {
   "cell_type": "code",
   "execution_count": 5,
   "id": "0286e45d",
   "metadata": {},
   "outputs": [
    {
     "data": {
      "text/html": [
       "<div>\n",
       "<style scoped>\n",
       "    .dataframe tbody tr th:only-of-type {\n",
       "        vertical-align: middle;\n",
       "    }\n",
       "\n",
       "    .dataframe tbody tr th {\n",
       "        vertical-align: top;\n",
       "    }\n",
       "\n",
       "    .dataframe thead th {\n",
       "        text-align: right;\n",
       "    }\n",
       "</style>\n",
       "<table border=\"1\" class=\"dataframe\">\n",
       "  <thead>\n",
       "    <tr style=\"text-align: right;\">\n",
       "      <th></th>\n",
       "      <th>client_id</th>\n",
       "      <th>gender</th>\n",
       "      <th>age</th>\n",
       "      <th>marital_status</th>\n",
       "      <th>job_position</th>\n",
       "      <th>credit_sum</th>\n",
       "      <th>credit_month</th>\n",
       "      <th>tariff_id</th>\n",
       "      <th>score_shk</th>\n",
       "      <th>education</th>\n",
       "      <th>living_region</th>\n",
       "      <th>monthly_income</th>\n",
       "      <th>credit_count</th>\n",
       "      <th>overdue_credit_count</th>\n",
       "      <th>open_account_flg</th>\n",
       "    </tr>\n",
       "  </thead>\n",
       "  <tbody>\n",
       "    <tr>\n",
       "      <th>0</th>\n",
       "      <td>1</td>\n",
       "      <td>M</td>\n",
       "      <td>NaN</td>\n",
       "      <td>NaN</td>\n",
       "      <td>UMN</td>\n",
       "      <td>59998,00</td>\n",
       "      <td>10</td>\n",
       "      <td>1.6</td>\n",
       "      <td>NaN</td>\n",
       "      <td>GRD</td>\n",
       "      <td>КРАСНОДАРСКИЙ КРАЙ</td>\n",
       "      <td>30000.0</td>\n",
       "      <td>1.0</td>\n",
       "      <td>1.0</td>\n",
       "      <td>0</td>\n",
       "    </tr>\n",
       "    <tr>\n",
       "      <th>1</th>\n",
       "      <td>2</td>\n",
       "      <td>F</td>\n",
       "      <td>NaN</td>\n",
       "      <td>MAR</td>\n",
       "      <td>UMN</td>\n",
       "      <td>10889,00</td>\n",
       "      <td>6</td>\n",
       "      <td>1.1</td>\n",
       "      <td>NaN</td>\n",
       "      <td>NaN</td>\n",
       "      <td>МОСКВА</td>\n",
       "      <td>NaN</td>\n",
       "      <td>2.0</td>\n",
       "      <td>0.0</td>\n",
       "      <td>0</td>\n",
       "    </tr>\n",
       "    <tr>\n",
       "      <th>2</th>\n",
       "      <td>3</td>\n",
       "      <td>M</td>\n",
       "      <td>32.0</td>\n",
       "      <td>MAR</td>\n",
       "      <td>SPC</td>\n",
       "      <td>10728,00</td>\n",
       "      <td>12</td>\n",
       "      <td>1.1</td>\n",
       "      <td>NaN</td>\n",
       "      <td>NaN</td>\n",
       "      <td>ОБЛ САРАТОВСКАЯ</td>\n",
       "      <td>NaN</td>\n",
       "      <td>5.0</td>\n",
       "      <td>0.0</td>\n",
       "      <td>0</td>\n",
       "    </tr>\n",
       "    <tr>\n",
       "      <th>3</th>\n",
       "      <td>4</td>\n",
       "      <td>F</td>\n",
       "      <td>27.0</td>\n",
       "      <td>NaN</td>\n",
       "      <td>SPC</td>\n",
       "      <td>12009,09</td>\n",
       "      <td>12</td>\n",
       "      <td>1.1</td>\n",
       "      <td>NaN</td>\n",
       "      <td>NaN</td>\n",
       "      <td>ОБЛ ВОЛГОГРАДСКАЯ</td>\n",
       "      <td>NaN</td>\n",
       "      <td>2.0</td>\n",
       "      <td>0.0</td>\n",
       "      <td>0</td>\n",
       "    </tr>\n",
       "    <tr>\n",
       "      <th>4</th>\n",
       "      <td>5</td>\n",
       "      <td>M</td>\n",
       "      <td>45.0</td>\n",
       "      <td>NaN</td>\n",
       "      <td>SPC</td>\n",
       "      <td>NaN</td>\n",
       "      <td>10</td>\n",
       "      <td>1.1</td>\n",
       "      <td>0,421385</td>\n",
       "      <td>SCH</td>\n",
       "      <td>ЧЕЛЯБИНСКАЯ ОБЛАСТЬ</td>\n",
       "      <td>NaN</td>\n",
       "      <td>1.0</td>\n",
       "      <td>0.0</td>\n",
       "      <td>0</td>\n",
       "    </tr>\n",
       "  </tbody>\n",
       "</table>\n",
       "</div>"
      ],
      "text/plain": [
       "   client_id gender   age marital_status job_position credit_sum  \\\n",
       "0          1      M   NaN            NaN          UMN   59998,00   \n",
       "1          2      F   NaN            MAR          UMN   10889,00   \n",
       "2          3      M  32.0            MAR          SPC   10728,00   \n",
       "3          4      F  27.0            NaN          SPC   12009,09   \n",
       "4          5      M  45.0            NaN          SPC        NaN   \n",
       "\n",
       "   credit_month  tariff_id score_shk education        living_region  \\\n",
       "0            10        1.6       NaN       GRD   КРАСНОДАРСКИЙ КРАЙ   \n",
       "1             6        1.1       NaN       NaN               МОСКВА   \n",
       "2            12        1.1       NaN       NaN      ОБЛ САРАТОВСКАЯ   \n",
       "3            12        1.1       NaN       NaN    ОБЛ ВОЛГОГРАДСКАЯ   \n",
       "4            10        1.1  0,421385       SCH  ЧЕЛЯБИНСКАЯ ОБЛАСТЬ   \n",
       "\n",
       "   monthly_income  credit_count  overdue_credit_count  open_account_flg  \n",
       "0         30000.0           1.0                   1.0                 0  \n",
       "1             NaN           2.0                   0.0                 0  \n",
       "2             NaN           5.0                   0.0                 0  \n",
       "3             NaN           2.0                   0.0                 0  \n",
       "4             NaN           1.0                   0.0                 0  "
      ]
     },
     "execution_count": 5,
     "metadata": {},
     "output_type": "execute_result"
    }
   ],
   "source": [
    "df.head()"
   ]
  },
  {
   "cell_type": "code",
   "execution_count": 6,
   "id": "cedcf104",
   "metadata": {},
   "outputs": [
    {
     "data": {
      "text/html": [
       "<div>\n",
       "<style scoped>\n",
       "    .dataframe tbody tr th:only-of-type {\n",
       "        vertical-align: middle;\n",
       "    }\n",
       "\n",
       "    .dataframe tbody tr th {\n",
       "        vertical-align: top;\n",
       "    }\n",
       "\n",
       "    .dataframe thead th {\n",
       "        text-align: right;\n",
       "    }\n",
       "</style>\n",
       "<table border=\"1\" class=\"dataframe\">\n",
       "  <thead>\n",
       "    <tr style=\"text-align: right;\">\n",
       "      <th></th>\n",
       "      <th>client_id</th>\n",
       "      <th>age</th>\n",
       "      <th>credit_month</th>\n",
       "      <th>tariff_id</th>\n",
       "      <th>monthly_income</th>\n",
       "      <th>credit_count</th>\n",
       "      <th>overdue_credit_count</th>\n",
       "      <th>open_account_flg</th>\n",
       "    </tr>\n",
       "  </thead>\n",
       "  <tbody>\n",
       "    <tr>\n",
       "      <th>count</th>\n",
       "      <td>170746.000000</td>\n",
       "      <td>170743.000000</td>\n",
       "      <td>170746.000000</td>\n",
       "      <td>170746.000000</td>\n",
       "      <td>170741.000000</td>\n",
       "      <td>161516.000000</td>\n",
       "      <td>161516.000000</td>\n",
       "      <td>170746.000000</td>\n",
       "    </tr>\n",
       "    <tr>\n",
       "      <th>mean</th>\n",
       "      <td>85373.500000</td>\n",
       "      <td>36.497262</td>\n",
       "      <td>10.980749</td>\n",
       "      <td>1.323900</td>\n",
       "      <td>40138.596149</td>\n",
       "      <td>2.107308</td>\n",
       "      <td>0.046070</td>\n",
       "      <td>0.176028</td>\n",
       "    </tr>\n",
       "    <tr>\n",
       "      <th>std</th>\n",
       "      <td>49290.268869</td>\n",
       "      <td>10.546044</td>\n",
       "      <td>3.536698</td>\n",
       "      <td>0.235813</td>\n",
       "      <td>25044.373992</td>\n",
       "      <td>1.777128</td>\n",
       "      <td>0.211548</td>\n",
       "      <td>0.380845</td>\n",
       "    </tr>\n",
       "    <tr>\n",
       "      <th>min</th>\n",
       "      <td>1.000000</td>\n",
       "      <td>18.000000</td>\n",
       "      <td>3.000000</td>\n",
       "      <td>1.000000</td>\n",
       "      <td>5000.000000</td>\n",
       "      <td>0.000000</td>\n",
       "      <td>0.000000</td>\n",
       "      <td>0.000000</td>\n",
       "    </tr>\n",
       "    <tr>\n",
       "      <th>25%</th>\n",
       "      <td>42687.250000</td>\n",
       "      <td>28.000000</td>\n",
       "      <td>10.000000</td>\n",
       "      <td>1.100000</td>\n",
       "      <td>25000.000000</td>\n",
       "      <td>1.000000</td>\n",
       "      <td>0.000000</td>\n",
       "      <td>0.000000</td>\n",
       "    </tr>\n",
       "    <tr>\n",
       "      <th>50%</th>\n",
       "      <td>85373.500000</td>\n",
       "      <td>34.000000</td>\n",
       "      <td>10.000000</td>\n",
       "      <td>1.320000</td>\n",
       "      <td>35000.000000</td>\n",
       "      <td>2.000000</td>\n",
       "      <td>0.000000</td>\n",
       "      <td>0.000000</td>\n",
       "    </tr>\n",
       "    <tr>\n",
       "      <th>75%</th>\n",
       "      <td>128059.750000</td>\n",
       "      <td>43.000000</td>\n",
       "      <td>12.000000</td>\n",
       "      <td>1.600000</td>\n",
       "      <td>50000.000000</td>\n",
       "      <td>3.000000</td>\n",
       "      <td>0.000000</td>\n",
       "      <td>0.000000</td>\n",
       "    </tr>\n",
       "    <tr>\n",
       "      <th>max</th>\n",
       "      <td>170746.000000</td>\n",
       "      <td>71.000000</td>\n",
       "      <td>36.000000</td>\n",
       "      <td>1.960000</td>\n",
       "      <td>950000.000000</td>\n",
       "      <td>21.000000</td>\n",
       "      <td>3.000000</td>\n",
       "      <td>1.000000</td>\n",
       "    </tr>\n",
       "  </tbody>\n",
       "</table>\n",
       "</div>"
      ],
      "text/plain": [
       "           client_id            age   credit_month      tariff_id  \\\n",
       "count  170746.000000  170743.000000  170746.000000  170746.000000   \n",
       "mean    85373.500000      36.497262      10.980749       1.323900   \n",
       "std     49290.268869      10.546044       3.536698       0.235813   \n",
       "min         1.000000      18.000000       3.000000       1.000000   \n",
       "25%     42687.250000      28.000000      10.000000       1.100000   \n",
       "50%     85373.500000      34.000000      10.000000       1.320000   \n",
       "75%    128059.750000      43.000000      12.000000       1.600000   \n",
       "max    170746.000000      71.000000      36.000000       1.960000   \n",
       "\n",
       "       monthly_income   credit_count  overdue_credit_count  open_account_flg  \n",
       "count   170741.000000  161516.000000         161516.000000     170746.000000  \n",
       "mean     40138.596149       2.107308              0.046070          0.176028  \n",
       "std      25044.373992       1.777128              0.211548          0.380845  \n",
       "min       5000.000000       0.000000              0.000000          0.000000  \n",
       "25%      25000.000000       1.000000              0.000000          0.000000  \n",
       "50%      35000.000000       2.000000              0.000000          0.000000  \n",
       "75%      50000.000000       3.000000              0.000000          0.000000  \n",
       "max     950000.000000      21.000000              3.000000          1.000000  "
      ]
     },
     "execution_count": 6,
     "metadata": {},
     "output_type": "execute_result"
    }
   ],
   "source": [
    "df.describe()"
   ]
  },
  {
   "cell_type": "code",
   "execution_count": 7,
   "id": "97149a70",
   "metadata": {},
   "outputs": [
    {
     "name": "stdout",
     "output_type": "stream",
     "text": [
      "<class 'pandas.core.frame.DataFrame'>\n",
      "RangeIndex: 170746 entries, 0 to 170745\n",
      "Data columns (total 15 columns):\n",
      " #   Column                Non-Null Count   Dtype  \n",
      "---  ------                --------------   -----  \n",
      " 0   client_id             170746 non-null  int64  \n",
      " 1   gender                170746 non-null  object \n",
      " 2   age                   170743 non-null  float64\n",
      " 3   marital_status        170743 non-null  object \n",
      " 4   job_position          170746 non-null  object \n",
      " 5   credit_sum            170744 non-null  object \n",
      " 6   credit_month          170746 non-null  int64  \n",
      " 7   tariff_id             170746 non-null  float64\n",
      " 8   score_shk             170739 non-null  object \n",
      " 9   education             170741 non-null  object \n",
      " 10  living_region         170554 non-null  object \n",
      " 11  monthly_income        170741 non-null  float64\n",
      " 12  credit_count          161516 non-null  float64\n",
      " 13  overdue_credit_count  161516 non-null  float64\n",
      " 14  open_account_flg      170746 non-null  int64  \n",
      "dtypes: float64(5), int64(3), object(7)\n",
      "memory usage: 19.5+ MB\n"
     ]
    }
   ],
   "source": [
    "df.info()"
   ]
  },
  {
   "cell_type": "code",
   "execution_count": 8,
   "id": "65ac84b9",
   "metadata": {},
   "outputs": [
    {
     "data": {
      "text/plain": [
       "client_id                  0\n",
       "gender                     0\n",
       "age                        3\n",
       "marital_status             3\n",
       "job_position               0\n",
       "credit_sum                 2\n",
       "credit_month               0\n",
       "tariff_id                  0\n",
       "score_shk                  7\n",
       "education                  5\n",
       "living_region            192\n",
       "monthly_income             5\n",
       "credit_count            9230\n",
       "overdue_credit_count    9230\n",
       "open_account_flg           0\n",
       "dtype: int64"
      ]
     },
     "execution_count": 8,
     "metadata": {},
     "output_type": "execute_result"
    }
   ],
   "source": [
    "df.isna().sum()"
   ]
  },
  {
   "cell_type": "code",
   "execution_count": 9,
   "id": "0bd3f40d",
   "metadata": {},
   "outputs": [],
   "source": [
    "df = df.dropna(subset=['age','marital_status', 'education', 'score_shk', 'living_region', 'monthly_income'])\n",
    "df = df.reset_index(drop=True)"
   ]
  },
  {
   "cell_type": "code",
   "execution_count": 10,
   "id": "a183acb5",
   "metadata": {},
   "outputs": [
    {
     "name": "stdout",
     "output_type": "stream",
     "text": [
      "<class 'pandas.core.frame.DataFrame'>\n",
      "RangeIndex: 170543 entries, 0 to 170542\n",
      "Data columns (total 15 columns):\n",
      " #   Column                Non-Null Count   Dtype  \n",
      "---  ------                --------------   -----  \n",
      " 0   client_id             170543 non-null  int64  \n",
      " 1   gender                170543 non-null  object \n",
      " 2   age                   170543 non-null  float64\n",
      " 3   marital_status        170543 non-null  object \n",
      " 4   job_position          170543 non-null  object \n",
      " 5   credit_sum            170543 non-null  object \n",
      " 6   credit_month          170543 non-null  int64  \n",
      " 7   tariff_id             170543 non-null  float64\n",
      " 8   score_shk             170543 non-null  object \n",
      " 9   education             170543 non-null  object \n",
      " 10  living_region         170543 non-null  object \n",
      " 11  monthly_income        170543 non-null  float64\n",
      " 12  credit_count          161331 non-null  float64\n",
      " 13  overdue_credit_count  161331 non-null  float64\n",
      " 14  open_account_flg      170543 non-null  int64  \n",
      "dtypes: float64(5), int64(3), object(7)\n",
      "memory usage: 19.5+ MB\n"
     ]
    }
   ],
   "source": [
    "df.info()"
   ]
  },
  {
   "cell_type": "code",
   "execution_count": 11,
   "id": "f7a09744",
   "metadata": {},
   "outputs": [
    {
     "data": {
      "text/html": [
       "<div>\n",
       "<style scoped>\n",
       "    .dataframe tbody tr th:only-of-type {\n",
       "        vertical-align: middle;\n",
       "    }\n",
       "\n",
       "    .dataframe tbody tr th {\n",
       "        vertical-align: top;\n",
       "    }\n",
       "\n",
       "    .dataframe thead th {\n",
       "        text-align: right;\n",
       "    }\n",
       "</style>\n",
       "<table border=\"1\" class=\"dataframe\">\n",
       "  <thead>\n",
       "    <tr style=\"text-align: right;\">\n",
       "      <th></th>\n",
       "      <th>client_id</th>\n",
       "      <th>age</th>\n",
       "      <th>credit_month</th>\n",
       "      <th>tariff_id</th>\n",
       "      <th>monthly_income</th>\n",
       "      <th>credit_count</th>\n",
       "      <th>overdue_credit_count</th>\n",
       "      <th>open_account_flg</th>\n",
       "    </tr>\n",
       "  </thead>\n",
       "  <tbody>\n",
       "    <tr>\n",
       "      <th>count</th>\n",
       "      <td>170543.000000</td>\n",
       "      <td>170543.000000</td>\n",
       "      <td>170543.000000</td>\n",
       "      <td>170543.000000</td>\n",
       "      <td>170543.000000</td>\n",
       "      <td>161331.000000</td>\n",
       "      <td>161331.000000</td>\n",
       "      <td>170543.000000</td>\n",
       "    </tr>\n",
       "    <tr>\n",
       "      <th>mean</th>\n",
       "      <td>85380.561143</td>\n",
       "      <td>36.499845</td>\n",
       "      <td>10.980990</td>\n",
       "      <td>1.323910</td>\n",
       "      <td>40136.940508</td>\n",
       "      <td>2.107537</td>\n",
       "      <td>0.046061</td>\n",
       "      <td>0.176237</td>\n",
       "    </tr>\n",
       "    <tr>\n",
       "      <th>std</th>\n",
       "      <td>49287.246838</td>\n",
       "      <td>10.547081</td>\n",
       "      <td>3.537248</td>\n",
       "      <td>0.235824</td>\n",
       "      <td>25046.924003</td>\n",
       "      <td>1.777382</td>\n",
       "      <td>0.211501</td>\n",
       "      <td>0.381023</td>\n",
       "    </tr>\n",
       "    <tr>\n",
       "      <th>min</th>\n",
       "      <td>8.000000</td>\n",
       "      <td>18.000000</td>\n",
       "      <td>3.000000</td>\n",
       "      <td>1.000000</td>\n",
       "      <td>5000.000000</td>\n",
       "      <td>0.000000</td>\n",
       "      <td>0.000000</td>\n",
       "      <td>0.000000</td>\n",
       "    </tr>\n",
       "    <tr>\n",
       "      <th>25%</th>\n",
       "      <td>42701.500000</td>\n",
       "      <td>28.000000</td>\n",
       "      <td>10.000000</td>\n",
       "      <td>1.100000</td>\n",
       "      <td>25000.000000</td>\n",
       "      <td>1.000000</td>\n",
       "      <td>0.000000</td>\n",
       "      <td>0.000000</td>\n",
       "    </tr>\n",
       "    <tr>\n",
       "      <th>50%</th>\n",
       "      <td>85377.000000</td>\n",
       "      <td>34.000000</td>\n",
       "      <td>10.000000</td>\n",
       "      <td>1.320000</td>\n",
       "      <td>35000.000000</td>\n",
       "      <td>2.000000</td>\n",
       "      <td>0.000000</td>\n",
       "      <td>0.000000</td>\n",
       "    </tr>\n",
       "    <tr>\n",
       "      <th>75%</th>\n",
       "      <td>128066.500000</td>\n",
       "      <td>43.000000</td>\n",
       "      <td>12.000000</td>\n",
       "      <td>1.600000</td>\n",
       "      <td>50000.000000</td>\n",
       "      <td>3.000000</td>\n",
       "      <td>0.000000</td>\n",
       "      <td>0.000000</td>\n",
       "    </tr>\n",
       "    <tr>\n",
       "      <th>max</th>\n",
       "      <td>170746.000000</td>\n",
       "      <td>71.000000</td>\n",
       "      <td>36.000000</td>\n",
       "      <td>1.960000</td>\n",
       "      <td>950000.000000</td>\n",
       "      <td>21.000000</td>\n",
       "      <td>3.000000</td>\n",
       "      <td>1.000000</td>\n",
       "    </tr>\n",
       "  </tbody>\n",
       "</table>\n",
       "</div>"
      ],
      "text/plain": [
       "           client_id            age   credit_month      tariff_id  \\\n",
       "count  170543.000000  170543.000000  170543.000000  170543.000000   \n",
       "mean    85380.561143      36.499845      10.980990       1.323910   \n",
       "std     49287.246838      10.547081       3.537248       0.235824   \n",
       "min         8.000000      18.000000       3.000000       1.000000   \n",
       "25%     42701.500000      28.000000      10.000000       1.100000   \n",
       "50%     85377.000000      34.000000      10.000000       1.320000   \n",
       "75%    128066.500000      43.000000      12.000000       1.600000   \n",
       "max    170746.000000      71.000000      36.000000       1.960000   \n",
       "\n",
       "       monthly_income   credit_count  overdue_credit_count  open_account_flg  \n",
       "count   170543.000000  161331.000000         161331.000000     170543.000000  \n",
       "mean     40136.940508       2.107537              0.046061          0.176237  \n",
       "std      25046.924003       1.777382              0.211501          0.381023  \n",
       "min       5000.000000       0.000000              0.000000          0.000000  \n",
       "25%      25000.000000       1.000000              0.000000          0.000000  \n",
       "50%      35000.000000       2.000000              0.000000          0.000000  \n",
       "75%      50000.000000       3.000000              0.000000          0.000000  \n",
       "max     950000.000000      21.000000              3.000000          1.000000  "
      ]
     },
     "execution_count": 11,
     "metadata": {},
     "output_type": "execute_result"
    }
   ],
   "source": [
    "df.describe()"
   ]
  },
  {
   "cell_type": "code",
   "execution_count": 12,
   "id": "72448f80",
   "metadata": {},
   "outputs": [],
   "source": [
    "df['credit_sum'] = df['credit_sum'].apply(lambda x: x.replace(',','.'))\n",
    "df['credit_sum'] = df['credit_sum'].astype(float)"
   ]
  },
  {
   "cell_type": "code",
   "execution_count": 13,
   "id": "81159319",
   "metadata": {},
   "outputs": [],
   "source": [
    "df['score_shk'] = df['score_shk'].apply(lambda x: x.replace(',','.'))\n",
    "df['score_shk'] = df['score_shk'].astype(float)"
   ]
  },
  {
   "cell_type": "code",
   "execution_count": 14,
   "id": "12c67277",
   "metadata": {},
   "outputs": [
    {
     "data": {
      "text/html": [
       "<div>\n",
       "<style scoped>\n",
       "    .dataframe tbody tr th:only-of-type {\n",
       "        vertical-align: middle;\n",
       "    }\n",
       "\n",
       "    .dataframe tbody tr th {\n",
       "        vertical-align: top;\n",
       "    }\n",
       "\n",
       "    .dataframe thead th {\n",
       "        text-align: right;\n",
       "    }\n",
       "</style>\n",
       "<table border=\"1\" class=\"dataframe\">\n",
       "  <thead>\n",
       "    <tr style=\"text-align: right;\">\n",
       "      <th></th>\n",
       "      <th>client_id</th>\n",
       "      <th>gender</th>\n",
       "      <th>age</th>\n",
       "      <th>marital_status</th>\n",
       "      <th>job_position</th>\n",
       "      <th>credit_sum</th>\n",
       "      <th>credit_month</th>\n",
       "      <th>tariff_id</th>\n",
       "      <th>score_shk</th>\n",
       "      <th>education</th>\n",
       "      <th>living_region</th>\n",
       "      <th>monthly_income</th>\n",
       "      <th>credit_count</th>\n",
       "      <th>overdue_credit_count</th>\n",
       "      <th>open_account_flg</th>\n",
       "    </tr>\n",
       "  </thead>\n",
       "  <tbody>\n",
       "    <tr>\n",
       "      <th>0</th>\n",
       "      <td>8</td>\n",
       "      <td>F</td>\n",
       "      <td>26.0</td>\n",
       "      <td>UNM</td>\n",
       "      <td>SPC</td>\n",
       "      <td>47878.0</td>\n",
       "      <td>10</td>\n",
       "      <td>1.1</td>\n",
       "      <td>0.512525</td>\n",
       "      <td>GRD</td>\n",
       "      <td>МОСКОВСКАЯ ОБЛ</td>\n",
       "      <td>60000.0</td>\n",
       "      <td>3.0</td>\n",
       "      <td>0.0</td>\n",
       "      <td>0</td>\n",
       "    </tr>\n",
       "    <tr>\n",
       "      <th>1</th>\n",
       "      <td>10</td>\n",
       "      <td>F</td>\n",
       "      <td>32.0</td>\n",
       "      <td>UNM</td>\n",
       "      <td>SPC</td>\n",
       "      <td>26268.0</td>\n",
       "      <td>10</td>\n",
       "      <td>1.1</td>\n",
       "      <td>0.465026</td>\n",
       "      <td>GRD</td>\n",
       "      <td>КРАЙ СТАВРОПОЛЬСКИЙ</td>\n",
       "      <td>39500.0</td>\n",
       "      <td>7.0</td>\n",
       "      <td>0.0</td>\n",
       "      <td>0</td>\n",
       "    </tr>\n",
       "  </tbody>\n",
       "</table>\n",
       "</div>"
      ],
      "text/plain": [
       "   client_id gender   age marital_status job_position  credit_sum  \\\n",
       "0          8      F  26.0            UNM          SPC     47878.0   \n",
       "1         10      F  32.0            UNM          SPC     26268.0   \n",
       "\n",
       "   credit_month  tariff_id  score_shk education        living_region  \\\n",
       "0            10        1.1   0.512525       GRD       МОСКОВСКАЯ ОБЛ   \n",
       "1            10        1.1   0.465026       GRD  КРАЙ СТАВРОПОЛЬСКИЙ   \n",
       "\n",
       "   monthly_income  credit_count  overdue_credit_count  open_account_flg  \n",
       "0         60000.0           3.0                   0.0                 0  \n",
       "1         39500.0           7.0                   0.0                 0  "
      ]
     },
     "execution_count": 14,
     "metadata": {},
     "output_type": "execute_result"
    }
   ],
   "source": [
    "df.head(2)"
   ]
  },
  {
   "cell_type": "code",
   "execution_count": 15,
   "id": "4aaf7077",
   "metadata": {},
   "outputs": [
    {
     "name": "stdout",
     "output_type": "stream",
     "text": [
      "<class 'pandas.core.frame.DataFrame'>\n",
      "RangeIndex: 170543 entries, 0 to 170542\n",
      "Data columns (total 15 columns):\n",
      " #   Column                Non-Null Count   Dtype  \n",
      "---  ------                --------------   -----  \n",
      " 0   client_id             170543 non-null  int64  \n",
      " 1   gender                170543 non-null  object \n",
      " 2   age                   170543 non-null  float64\n",
      " 3   marital_status        170543 non-null  object \n",
      " 4   job_position          170543 non-null  object \n",
      " 5   credit_sum            170543 non-null  float64\n",
      " 6   credit_month          170543 non-null  int64  \n",
      " 7   tariff_id             170543 non-null  float64\n",
      " 8   score_shk             170543 non-null  float64\n",
      " 9   education             170543 non-null  object \n",
      " 10  living_region         170543 non-null  object \n",
      " 11  monthly_income        170543 non-null  float64\n",
      " 12  credit_count          161331 non-null  float64\n",
      " 13  overdue_credit_count  161331 non-null  float64\n",
      " 14  open_account_flg      170543 non-null  int64  \n",
      "dtypes: float64(7), int64(3), object(5)\n",
      "memory usage: 19.5+ MB\n"
     ]
    }
   ],
   "source": [
    "df.info()"
   ]
  },
  {
   "cell_type": "code",
   "execution_count": 16,
   "id": "f52d5a54",
   "metadata": {},
   "outputs": [
    {
     "data": {
      "text/plain": [
       "301"
      ]
     },
     "execution_count": 16,
     "metadata": {},
     "output_type": "execute_result"
    }
   ],
   "source": [
    "len(df['living_region'].sort_values().unique())"
   ]
  },
  {
   "cell_type": "code",
   "execution_count": 17,
   "id": "6cddeaa8",
   "metadata": {},
   "outputs": [],
   "source": [
    "df1 = pd.read_excel(\"Субъекты РФ.xlsx\")"
   ]
  },
  {
   "cell_type": "code",
   "execution_count": 18,
   "id": "43163ca2",
   "metadata": {},
   "outputs": [],
   "source": [
    "df1['Плотность населения'] = df1['Население']/df1['Площадь']"
   ]
  },
  {
   "cell_type": "code",
   "execution_count": 19,
   "id": "e49b16b1",
   "metadata": {},
   "outputs": [
    {
     "data": {
      "text/html": [
       "<div>\n",
       "<style scoped>\n",
       "    .dataframe tbody tr th:only-of-type {\n",
       "        vertical-align: middle;\n",
       "    }\n",
       "\n",
       "    .dataframe tbody tr th {\n",
       "        vertical-align: top;\n",
       "    }\n",
       "\n",
       "    .dataframe thead th {\n",
       "        text-align: right;\n",
       "    }\n",
       "</style>\n",
       "<table border=\"1\" class=\"dataframe\">\n",
       "  <thead>\n",
       "    <tr style=\"text-align: right;\">\n",
       "      <th></th>\n",
       "      <th>№</th>\n",
       "      <th>Субъект РФ</th>\n",
       "      <th>Субъект РФ кратко</th>\n",
       "      <th>Вид субъекта</th>\n",
       "      <th>Площадь</th>\n",
       "      <th>Население</th>\n",
       "      <th>Административный центр</th>\n",
       "      <th>Расстояние до Москвы, км</th>\n",
       "      <th>Федеральный округ</th>\n",
       "      <th>Плотность населения</th>\n",
       "    </tr>\n",
       "  </thead>\n",
       "  <tbody>\n",
       "    <tr>\n",
       "      <th>0</th>\n",
       "      <td>1</td>\n",
       "      <td>Республика Адыгея</td>\n",
       "      <td>Адыгея</td>\n",
       "      <td>Республика</td>\n",
       "      <td>7792.0</td>\n",
       "      <td>496934.0</td>\n",
       "      <td>Майкоп</td>\n",
       "      <td>1409.0</td>\n",
       "      <td>Южный федеральный округ</td>\n",
       "      <td>63.774897</td>\n",
       "    </tr>\n",
       "    <tr>\n",
       "      <th>1</th>\n",
       "      <td>2</td>\n",
       "      <td>Республика Алтай</td>\n",
       "      <td>Алтай</td>\n",
       "      <td>Республика</td>\n",
       "      <td>92903.0</td>\n",
       "      <td>210924.0</td>\n",
       "      <td>Горно-Алтайск</td>\n",
       "      <td>3851.0</td>\n",
       "      <td>Сибирский федеральный округ</td>\n",
       "      <td>2.270368</td>\n",
       "    </tr>\n",
       "    <tr>\n",
       "      <th>2</th>\n",
       "      <td>3</td>\n",
       "      <td>Республика Башкортостан</td>\n",
       "      <td>Башкортостан</td>\n",
       "      <td>Республика</td>\n",
       "      <td>142947.0</td>\n",
       "      <td>4091423.0</td>\n",
       "      <td>Уфа</td>\n",
       "      <td>1391.0</td>\n",
       "      <td>Приволжский федеральный округ</td>\n",
       "      <td>28.621958</td>\n",
       "    </tr>\n",
       "    <tr>\n",
       "      <th>3</th>\n",
       "      <td>4</td>\n",
       "      <td>Республика Бурятия</td>\n",
       "      <td>Бурятия</td>\n",
       "      <td>Республика</td>\n",
       "      <td>351334.0</td>\n",
       "      <td>978588.0</td>\n",
       "      <td>Улан-Удэ</td>\n",
       "      <td>6555.0</td>\n",
       "      <td>Дальневосточный федеральный округ</td>\n",
       "      <td>2.785350</td>\n",
       "    </tr>\n",
       "    <tr>\n",
       "      <th>4</th>\n",
       "      <td>5</td>\n",
       "      <td>Республика Дагестан</td>\n",
       "      <td>Дагестан</td>\n",
       "      <td>Республика</td>\n",
       "      <td>50270.0</td>\n",
       "      <td>3182054.0</td>\n",
       "      <td>Махачкала</td>\n",
       "      <td>1899.0</td>\n",
       "      <td>Северо-Кавказский федеральный округ</td>\n",
       "      <td>63.299264</td>\n",
       "    </tr>\n",
       "    <tr>\n",
       "      <th>...</th>\n",
       "      <td>...</td>\n",
       "      <td>...</td>\n",
       "      <td>...</td>\n",
       "      <td>...</td>\n",
       "      <td>...</td>\n",
       "      <td>...</td>\n",
       "      <td>...</td>\n",
       "      <td>...</td>\n",
       "      <td>...</td>\n",
       "      <td>...</td>\n",
       "    </tr>\n",
       "    <tr>\n",
       "      <th>84</th>\n",
       "      <td>85</td>\n",
       "      <td>Ямало-Ненецкий автономный округ</td>\n",
       "      <td>Ямало-Ненецкий</td>\n",
       "      <td>АО</td>\n",
       "      <td>769250.0</td>\n",
       "      <td>510490.0</td>\n",
       "      <td>Салехард</td>\n",
       "      <td>1933.0</td>\n",
       "      <td>Уральский федеральный округ</td>\n",
       "      <td>0.663620</td>\n",
       "    </tr>\n",
       "    <tr>\n",
       "      <th>85</th>\n",
       "      <td>86</td>\n",
       "      <td>Еврейская автономная область</td>\n",
       "      <td>Еврейская</td>\n",
       "      <td>АО</td>\n",
       "      <td>36266.0</td>\n",
       "      <td>150453.0</td>\n",
       "      <td>Биробиджан</td>\n",
       "      <td>8228.0</td>\n",
       "      <td>Дальневосточный федеральный округ</td>\n",
       "      <td>4.148596</td>\n",
       "    </tr>\n",
       "    <tr>\n",
       "      <th>86</th>\n",
       "      <td>87</td>\n",
       "      <td>Москва</td>\n",
       "      <td>Москва</td>\n",
       "      <td>Город федерального значения</td>\n",
       "      <td>2511.0</td>\n",
       "      <td>13010112.0</td>\n",
       "      <td>Москва</td>\n",
       "      <td>0.0</td>\n",
       "      <td>Центральный федеральный округ</td>\n",
       "      <td>5181.247312</td>\n",
       "    </tr>\n",
       "    <tr>\n",
       "      <th>87</th>\n",
       "      <td>88</td>\n",
       "      <td>Санкт-Петербург</td>\n",
       "      <td>Санкт-Петербург</td>\n",
       "      <td>Город федерального значения</td>\n",
       "      <td>1399.0</td>\n",
       "      <td>5601911.0</td>\n",
       "      <td>Санкт-Петербург</td>\n",
       "      <td>703.0</td>\n",
       "      <td>Северо-Западный федеральный округ</td>\n",
       "      <td>4004.225161</td>\n",
       "    </tr>\n",
       "    <tr>\n",
       "      <th>88</th>\n",
       "      <td>89</td>\n",
       "      <td>Севастополь</td>\n",
       "      <td>Севастополь</td>\n",
       "      <td>Город федерального значения</td>\n",
       "      <td>1080.0</td>\n",
       "      <td>547820.0</td>\n",
       "      <td>Севастополь</td>\n",
       "      <td>1877.0</td>\n",
       "      <td>Южный федеральный округ</td>\n",
       "      <td>507.240741</td>\n",
       "    </tr>\n",
       "  </tbody>\n",
       "</table>\n",
       "<p>89 rows × 10 columns</p>\n",
       "</div>"
      ],
      "text/plain": [
       "     №                       Субъект РФ Субъект РФ кратко  \\\n",
       "0    1                Республика Адыгея            Адыгея   \n",
       "1    2                 Республика Алтай             Алтай   \n",
       "2    3          Республика Башкортостан      Башкортостан   \n",
       "3    4               Республика Бурятия           Бурятия   \n",
       "4    5              Республика Дагестан          Дагестан   \n",
       "..  ..                              ...               ...   \n",
       "84  85  Ямало-Ненецкий автономный округ   Ямало-Ненецкий    \n",
       "85  86     Еврейская автономная область        Еврейская    \n",
       "86  87                           Москва            Москва   \n",
       "87  88                  Санкт-Петербург   Санкт-Петербург   \n",
       "88  89                      Севастополь       Севастополь   \n",
       "\n",
       "                   Вид субъекта   Площадь   Население Административный центр  \\\n",
       "0                    Республика    7792.0    496934.0                 Майкоп   \n",
       "1                    Республика   92903.0    210924.0          Горно-Алтайск   \n",
       "2                    Республика  142947.0   4091423.0                    Уфа   \n",
       "3                    Республика  351334.0    978588.0               Улан-Удэ   \n",
       "4                    Республика   50270.0   3182054.0              Махачкала   \n",
       "..                          ...       ...         ...                    ...   \n",
       "84                           АО  769250.0    510490.0               Салехард   \n",
       "85                           АО   36266.0    150453.0             Биробиджан   \n",
       "86  Город федерального значения    2511.0  13010112.0                 Москва   \n",
       "87  Город федерального значения    1399.0   5601911.0        Санкт-Петербург   \n",
       "88  Город федерального значения    1080.0    547820.0            Севастополь   \n",
       "\n",
       "    Расстояние до Москвы, км                    Федеральный округ  \\\n",
       "0                     1409.0              Южный федеральный округ   \n",
       "1                     3851.0          Сибирский федеральный округ   \n",
       "2                     1391.0        Приволжский федеральный округ   \n",
       "3                     6555.0    Дальневосточный федеральный округ   \n",
       "4                     1899.0  Северо-Кавказский федеральный округ   \n",
       "..                       ...                                  ...   \n",
       "84                    1933.0          Уральский федеральный округ   \n",
       "85                    8228.0    Дальневосточный федеральный округ   \n",
       "86                       0.0        Центральный федеральный округ   \n",
       "87                     703.0    Северо-Западный федеральный округ   \n",
       "88                    1877.0              Южный федеральный округ   \n",
       "\n",
       "    Плотность населения  \n",
       "0             63.774897  \n",
       "1              2.270368  \n",
       "2             28.621958  \n",
       "3              2.785350  \n",
       "4             63.299264  \n",
       "..                  ...  \n",
       "84             0.663620  \n",
       "85             4.148596  \n",
       "86          5181.247312  \n",
       "87          4004.225161  \n",
       "88           507.240741  \n",
       "\n",
       "[89 rows x 10 columns]"
      ]
     },
     "execution_count": 19,
     "metadata": {},
     "output_type": "execute_result"
    }
   ],
   "source": [
    "df1"
   ]
  },
  {
   "cell_type": "code",
   "execution_count": 20,
   "id": "4e50e1c8",
   "metadata": {},
   "outputs": [
    {
     "data": {
      "text/plain": [
       "living_region\n",
       "74                         1\n",
       "РЕСПУБЛИКА ХАКАСИЯ         1\n",
       "РЕСПУБЛИКАТАТАРСТАН        1\n",
       "МАГАДАНСКАЯ ОБЛАСТЬ        1\n",
       "САХА /ЯКУТИЯ/              1\n",
       "                       ...  \n",
       "ТАТАРСТАН РЕСП          5187\n",
       "МОСКВА                  5528\n",
       "САНКТ-ПЕТЕРБУРГ         5632\n",
       "КРАСНОДАРСКИЙ КРАЙ      7456\n",
       "ОБЛ МОСКОВСКАЯ         12228\n",
       "Name: client_id, Length: 301, dtype: int64"
      ]
     },
     "execution_count": 20,
     "metadata": {},
     "output_type": "execute_result"
    }
   ],
   "source": [
    "df.groupby(\"living_region\")[\"client_id\"].count().sort_values()"
   ]
  },
  {
   "cell_type": "code",
   "execution_count": 21,
   "id": "4fef9c16",
   "metadata": {},
   "outputs": [],
   "source": [
    "df.drop(df[df[\"living_region\"] == '74'].index, inplace = True)"
   ]
  },
  {
   "cell_type": "code",
   "execution_count": 22,
   "id": "9155fd0c",
   "metadata": {},
   "outputs": [],
   "source": [
    "df.drop(df[df[\"living_region\"] == '98'].index, inplace = True)"
   ]
  },
  {
   "cell_type": "code",
   "execution_count": 23,
   "id": "905050a3",
   "metadata": {},
   "outputs": [],
   "source": [
    "df[\"living_region\"] = df[\"living_region\"].replace(\"ОБЛАСТЬ\", \"ОБЛ\", regex=True)"
   ]
  },
  {
   "cell_type": "code",
   "execution_count": 24,
   "id": "11755f74",
   "metadata": {},
   "outputs": [
    {
     "data": {
      "text/plain": [
       "array(['АДЫГЕЯ РЕСП', 'АЛТАЙСКИЙ', 'АЛТАЙСКИЙ КРАЙ', 'АМУРСКАЯ ОБЛ',\n",
       "       'АО НЕНЕЦКИЙ', 'АО ХАНТЫ-МАНСИЙСКИЙ АВТОНОМНЫЙ ОКРУГ - Ю',\n",
       "       'АО ЯМАЛО-НЕНЕЦКИЙ', 'АОБЛ ЕВРЕЙСКАЯ', 'АРХАНГЕЛЬСКАЯ',\n",
       "       'АРХАНГЕЛЬСКАЯ ОБЛ', 'АСТРАХАНСКАЯ', 'АСТРАХАНСКАЯ ОБЛ',\n",
       "       'БАШКОРТОСТАН', 'БАШКОРТОСТАН РЕСП', 'БЕЛГОРОДСКАЯ ОБЛ',\n",
       "       'БРЯНСКАЯ ОБЛ', 'БРЯНСКИЙ', 'БУРЯТИЯ', 'БУРЯТИЯ РЕСП',\n",
       "       'ВЛАДИМИРСКАЯ ОБЛ', 'ВОЛГОГРАДСКАЯ ОБЛ', 'ВОЛОГОДСКАЯ',\n",
       "       'ВОЛОГОДСКАЯ ОБЛ', 'ВОЛОГОДСКАЯ ОБЛ.', 'ВОРОНЕЖСКАЯ ОБЛ',\n",
       "       'Г МОСКВА', 'Г. МОСКВА', 'Г. САНКТ-ПЕТЕРБУРГ', 'Г.МОСКВА',\n",
       "       'Г.ОДИНЦОВО МОСКОВСКАЯ ОБЛ', 'ГОРЬКОВСКАЯ ОБЛ',\n",
       "       'ГУСЬ-ХРУСТАЛЬНЫЙ Р-Н', 'ДАГЕСТАН РЕСП', 'ДАЛЬНИЙ ВОСТОК',\n",
       "       'ЕВРЕЙСКАЯ АВТОНОМНАЯ', 'ЕВРЕЙСКАЯ АОБЛ', 'ЗАБАЙКАЛЬСКИЙ КРАЙ',\n",
       "       'ИВАНОВСКАЯ ОБЛ', 'ИНГУШЕТИЯ РЕСП', 'ИРКУТСКАЯ ОБЛ',\n",
       "       'КАБАРДИНО-БАЛКАРСКАЯ', 'КАБАРДИНО-БАЛКАРСКАЯ РЕСП',\n",
       "       'КАЛИНИНГРАДСКАЯ ОБЛ', 'КАЛИНИНГРАДСКАЯ ОБЛ.', 'КАЛМЫКИЯ',\n",
       "       'КАЛМЫКИЯ РЕСП', 'КАЛУЖСКАЯ', 'КАЛУЖСКАЯ ОБЛ', 'КАМЧАТСКАЯ ОБЛ',\n",
       "       'КАМЧАТСКИЙ КРАЙ', 'КАРАЧАЕВО-ЧЕРКЕССКАЯ',\n",
       "       'КАРАЧАЕВО-ЧЕРКЕССКАЯ РЕСП', 'КАРЕЛИЯ', 'КАРЕЛИЯ РЕСП',\n",
       "       'КЕМЕРОВСКАЯ', 'КЕМЕРОВСКАЯ ОБЛ', 'КИРОВСКАЯ ОБЛ', 'КОМИ',\n",
       "       'КОМИ РЕСП', 'КОСТРОМСКАЯ ОБЛ', 'КРАЙ АЛТАЙСКИЙ',\n",
       "       'КРАЙ ЗАБАЙКАЛЬСКИЙ', 'КРАЙ КАМЧАТСКИЙ', 'КРАЙ КРАСНОДАРСКИЙ',\n",
       "       'КРАЙ КРАСНОЯРСКИЙ', 'КРАЙ ПЕРМСКИЙ', 'КРАЙ ПРИМОРСКИЙ',\n",
       "       'КРАЙ СТАВРОПОЛЬСКИЙ', 'КРАЙ ХАБАРОВСКИЙ', 'КРАЙ. КРАСНОЯРСКИЙ',\n",
       "       'КРАЙ. ПЕРМСКИЙ', 'КРАЙ. СТАВРОПОЛЬСКИЙ', 'КРАЙ.ПЕРМСКИЙ',\n",
       "       'КРАСНОДАРСКИЙ', 'КРАСНОДАРСКИЙ КРАЙ', 'КРАСНОЯРСКИЙ КРАЙ',\n",
       "       'КУРГАНСКАЯ ОБЛ', 'КУРСКАЯ ОБЛ', 'ЛЕНИНГРАДСКАЯ',\n",
       "       'ЛЕНИНГРАДСКАЯ ОБЛ', 'ЛИПЕЦКАЯ ОБЛ', 'МАГАДАНСКАЯ ОБЛ',\n",
       "       'МАРИЙ ЭЛ РЕСП', 'МОРДОВИЯ РЕСП', 'МОСКВА', 'МОСКВА Г',\n",
       "       'МОСКВОСКАЯ ОБЛ', 'МОСКОВСКАЯ', 'МОСКОВСКАЯ ОБЛ', 'МУРМАНСКАЯ ОБЛ',\n",
       "       'МЫТИЩИНСКИЙ Р-Н', 'НЕНЕЦКИЙ АО', 'НИЖЕГОРОДСКАЯ ОБЛ',\n",
       "       'НОВГОРОДСКАЯ ОБЛ', 'НОВОСИБИРСКАЯ', 'НОВОСИБИРСКАЯ ОБЛ',\n",
       "       'ОБЛ АМУРСКАЯ', 'ОБЛ АРХАНГЕЛЬСКАЯ', 'ОБЛ АСТРАХАНСКАЯ',\n",
       "       'ОБЛ БЕЛГОРОДСКАЯ', 'ОБЛ БРЯНСКАЯ', 'ОБЛ ВЛАДИМИРСКАЯ',\n",
       "       'ОБЛ ВОЛГОГРАДСКАЯ', 'ОБЛ ВОЛОГОДСКАЯ', 'ОБЛ ВОРОНЕЖСКАЯ',\n",
       "       'ОБЛ ИВАНОВСКАЯ', 'ОБЛ ИРКУТСКАЯ', 'ОБЛ КАЛИНИНГРАДСКАЯ',\n",
       "       'ОБЛ КАЛУЖСКАЯ', 'ОБЛ КЕМЕРОВСКАЯ', 'ОБЛ КИРОВСКАЯ',\n",
       "       'ОБЛ КОСТРОМСКАЯ', 'ОБЛ КУРГАНСКАЯ', 'ОБЛ КУРСКАЯ',\n",
       "       'ОБЛ ЛЕНИНГРАДСКАЯ', 'ОБЛ ЛИПЕЦКАЯ', 'ОБЛ МАГАДАНСКАЯ',\n",
       "       'ОБЛ МОСКОВСКАЯ', 'ОБЛ МУРМАНСКАЯ', 'ОБЛ НИЖЕГОРОДСКАЯ',\n",
       "       'ОБЛ НОВГОРОДСКАЯ', 'ОБЛ НОВОСИБИРСКАЯ', 'ОБЛ ОМСКАЯ',\n",
       "       'ОБЛ ОРЕНБУРГСКАЯ', 'ОБЛ ОРЛОВСКАЯ', 'ОБЛ ПЕНЗЕНСКАЯ',\n",
       "       'ОБЛ ПСКОВСКАЯ', 'ОБЛ РОСТОВСКАЯ', 'ОБЛ РЯЗАНСКАЯ',\n",
       "       'ОБЛ САМАРСКАЯ', 'ОБЛ САРАТОВСКАЯ', 'ОБЛ САХАЛИНСКАЯ',\n",
       "       'ОБЛ СВЕРДЛОВСКАЯ', 'ОБЛ СМОЛЕНСКАЯ', 'ОБЛ ТАМБОВСКАЯ',\n",
       "       'ОБЛ ТВЕРСКАЯ', 'ОБЛ ТОМСКАЯ', 'ОБЛ ТУЛЬСКАЯ', 'ОБЛ ТЮМЕНСКАЯ',\n",
       "       'ОБЛ УЛЬЯНОВСКАЯ', 'ОБЛ ЧЕЛЯБИНСКАЯ', 'ОБЛ ЯРОСЛАВСКАЯ',\n",
       "       'ОБЛ. БЕЛГОРОДСКАЯ', 'ОБЛ. ВЛАДИМИРСКАЯ', 'ОБЛ. КИРОВСКАЯ',\n",
       "       'ОБЛ. КУРГАНСКАЯ', 'ОБЛ. ЛИПЕЦКАЯ', 'ОБЛ. МУРМАНСКАЯ',\n",
       "       'ОБЛ. НОВОСИБИРСКАЯ', 'ОБЛ. СВЕРДЛОВСКАЯ', 'ОБЛ. ЧЕЛЯБИНСКАЯ',\n",
       "       'ОБЛ.МОСКОВСКАЯ', 'ОБЛ.НИЖЕГОРОДСКАЯ', 'ОБЛ.РОСТОВСКАЯ',\n",
       "       'ОБЛ.САРАТОВСКАЯ', 'ОМСКАЯ', 'ОМСКАЯ ОБЛ', 'ОРЁЛ',\n",
       "       'ОРЕНБУРГСКАЯ ОБЛ', 'ОРЛОВСКАЯ ОБЛ', 'ПЕНЗЕНСКАЯ ОБЛ',\n",
       "       'ПЕРМСКАЯ ОБЛ', 'ПЕРМСКИЙ', 'ПЕРМСКИЙ КРАЙ',\n",
       "       'ПРИВОЛЖСКИЙ ФЕДЕРАЛЬНЫЙ ОКРУГ', 'ПРИМОРСКИЙ КРАЙ',\n",
       "       'ПСКОВСКАЯ ОБЛ', 'РЕСП АДЫГЕЯ', 'РЕСП АЛТАЙ', 'РЕСП БАШКОРТОСТАН',\n",
       "       'РЕСП БУРЯТИЯ', 'РЕСП ДАГЕСТАН', 'РЕСП ИНГУШЕТИЯ',\n",
       "       'РЕСП КАБАРДИНО-БАЛКАРСКАЯ', 'РЕСП КАЛМЫКИЯ',\n",
       "       'РЕСП КАРАЧАЕВО-ЧЕРКЕССКАЯ', 'РЕСП КАРЕЛИЯ', 'РЕСП КОМИ',\n",
       "       'РЕСП МАРИЙ ЭЛ', 'РЕСП МОРДОВИЯ', 'РЕСП САХА /ЯКУТИЯ/',\n",
       "       'РЕСП СЕВЕРНАЯ ОСЕТИЯ - АЛАНИЯ', 'РЕСП ТАТАРСТАН', 'РЕСП ТЫВА',\n",
       "       'РЕСП УДМУРТСКАЯ', 'РЕСП ХАКАСИЯ', 'РЕСП ЧЕЧЕНСКАЯ',\n",
       "       'РЕСП ЧУВАШСКАЯ - ЧУВАШИЯ', 'РЕСП. БАШКОРТОСТАН', 'РЕСП. КОМИ',\n",
       "       'РЕСП. САХА (ЯКУТИЯ)', 'РЕСП.БАШКОРТОСТАН', 'РЕСПУБЛИКА АДЫГЕЯ',\n",
       "       'РЕСПУБЛИКА АЛТАЙ', 'РЕСПУБЛИКА БУРЯТИЯ', 'РЕСПУБЛИКА ДАГЕСТАН',\n",
       "       'РЕСПУБЛИКА КАЛМЫКИЯ', 'РЕСПУБЛИКА КАРЕЛИЯ', 'РЕСПУБЛИКА КОМИ',\n",
       "       'РЕСПУБЛИКА МАРИЙ ЭЛ', 'РЕСПУБЛИКА МОРДОВИЯ', 'РЕСПУБЛИКА САХА',\n",
       "       'РЕСПУБЛИКА ТАТАРСТАН', 'РЕСПУБЛИКА ТЫВА', 'РЕСПУБЛИКА ХАКАСИЯ',\n",
       "       'РЕСПУБЛИКАТАТАРСТАН', 'РОССИЯ', 'РОСТОВСКАЯ', 'РОСТОВСКАЯ ОБЛ',\n",
       "       'РЯЗАНСКАЯ ОБЛ', 'САМАРСКАЯ', 'САМАРСКАЯ ОБЛ', 'САНКТ-ПЕТЕРБУРГ',\n",
       "       'САНКТ-ПЕТЕРБУРГ Г', 'САРАТОВСКАЯ ОБЛ', 'САХА /ЯКУТИЯ/',\n",
       "       'САХА /ЯКУТИЯ/ РЕСП', 'САХАЛИНСКАЯ ОБЛ', 'СВЕРДЛОВСКАЯ',\n",
       "       'СВЕРДЛОВСКАЯ ОБЛ', 'СЕВ. ОСЕТИЯ - АЛАНИЯ',\n",
       "       'СЕВЕРНАЯ ОСЕТИЯ - АЛАНИЯ РЕСП', 'СМОЛЕНСКАЯ ОБЛ',\n",
       "       'СТАВРОПОЛЬСКИЙ', 'СТАВРОПОЛЬСКИЙ КРАЙ', 'ТАМБОВСКАЯ ОБЛ',\n",
       "       'ТАТАРСТАН РЕСП', 'ТВЕРСКАЯ ОБЛ', 'ТОМСКАЯ', 'ТОМСКАЯ ОБЛ',\n",
       "       'ТУЛЬСКАЯ ОБЛ', 'ТЫВА РЕСП', 'ТЮМЕНСКАЯ', 'ТЮМЕНСКАЯ ОБЛ',\n",
       "       'УДМУРТСКАЯ РЕСП', 'УДМУРТСКАЯ РЕСПУБЛИКА', 'УЛЬЯНОВСКАЯ ОБЛ',\n",
       "       'ХАБАРОВСКИЙ КРАЙ', 'ХАКАСИЯ', 'ХАКАСИЯ РЕСП',\n",
       "       'ХАНТЫ-МАНСИЙСКИЙ АВТОНОМНЫЙ ОКРУГ - ЮГРА', 'ХАНТЫ-МАНСИЙСКИЙ АО',\n",
       "       'ЧЕЛЯБИНСКАЯ ОБЛ', 'ЧЕЧЕНСКАЯ РЕСП', 'ЧЕЧЕНСКАЯ РЕСПУБЛИКА',\n",
       "       'ЧИТИНСКАЯ ОБЛ', 'ЧУВАШИЯ ЧУВАШСКАЯ РЕСПУБЛИКА -',\n",
       "       'ЧУВАШСКАЯ - ЧУВАШИЯ РЕСП', 'ЧУВАШСКАЯ РЕСП',\n",
       "       'ЧУВАШСКАЯ РЕСПУБЛИКА', 'ЧУВАШСКАЯ РЕСПУБЛИКА - ЧУВАШИЯ',\n",
       "       'ЧУКОТСКИЙ АО', 'ЭВЕНКИЙСКИЙ АО', 'ЯМАЛО-НЕНЕЦКИЙ АО',\n",
       "       'ЯРОСЛАВСКАЯ ОБЛ'], dtype=object)"
      ]
     },
     "execution_count": 24,
     "metadata": {},
     "output_type": "execute_result"
    }
   ],
   "source": [
    "df['living_region'].sort_values().unique()"
   ]
  },
  {
   "cell_type": "code",
   "execution_count": 25,
   "id": "c05b0c60",
   "metadata": {},
   "outputs": [],
   "source": [
    "df[\"living_region\"] = df[\"living_region\"].replace(\"РЕСПУБЛИКА\", \"РЕСП\", regex=True)"
   ]
  },
  {
   "cell_type": "code",
   "execution_count": 26,
   "id": "42107b6b",
   "metadata": {},
   "outputs": [],
   "source": [
    "df[\"living_region\"] = df[\"living_region\"].replace(\"МЫТИЩИНСКИЙ Р-Н\", \"МОСКОВСКАЯ ОБЛ\", regex=True)"
   ]
  },
  {
   "cell_type": "code",
   "execution_count": 27,
   "id": "2d5b74d5",
   "metadata": {},
   "outputs": [],
   "source": [
    "df[\"living_region\"] = df[\"living_region\"].replace(\"Г.ОДИНЦОВО МОСКОВСКАЯ ОБЛ\", \"МОСКОВСКАЯ ОБЛ\", regex=True)"
   ]
  },
  {
   "cell_type": "code",
   "execution_count": 28,
   "id": "b9c1e3b9",
   "metadata": {},
   "outputs": [],
   "source": [
    "df[\"living_region\"] = df[\"living_region\"].replace(\"ГУСЬ-ХРУСТАЛЬНЫЙ Р-Н\", \"МОСКОВСКАЯ ОБЛ\", regex=True)"
   ]
  },
  {
   "cell_type": "code",
   "execution_count": 29,
   "id": "8c5d7262",
   "metadata": {},
   "outputs": [],
   "source": [
    "df[\"living_region\"] = df[\"living_region\"].replace(\"РЕСПТАТАРСТАН\", \"ТАТАРСТАН\", regex=True)"
   ]
  },
  {
   "cell_type": "code",
   "execution_count": 30,
   "id": "90d61f41",
   "metadata": {},
   "outputs": [],
   "source": [
    "for a in df['living_region']:\n",
    "    if 'ОБЛ' in a and a[0:3] == 'ОБЛ':\n",
    "        a_new = a[4:] + ' ОБЛ'\n",
    "        df['living_region'].replace(to_replace=a, value = a_new, inplace= True)"
   ]
  },
  {
   "cell_type": "code",
   "execution_count": 31,
   "id": "736fbc7b",
   "metadata": {},
   "outputs": [],
   "source": [
    "for a in df['living_region']:\n",
    "    if 'РЕСП' in a and a[0:4] == 'РЕСП':\n",
    "        a_new = a[5:] + ' РЕСП'\n",
    "        df['living_region'].replace(to_replace=a, value = a_new, inplace= True)"
   ]
  },
  {
   "cell_type": "code",
   "execution_count": 32,
   "id": "cae83939",
   "metadata": {},
   "outputs": [],
   "source": [
    "for a in df['living_region']:\n",
    "    if 'АО' in a and a[0:2] == 'АО':\n",
    "        a_new = a[3:] + ' АО'\n",
    "        df['living_region'].replace(to_replace=a, value = a_new, inplace= True)"
   ]
  },
  {
   "cell_type": "code",
   "execution_count": 33,
   "id": "9140f90b",
   "metadata": {},
   "outputs": [],
   "source": [
    "for a in df['living_region']:\n",
    "    if 'КРАЙ' in a and a[0:4] == 'КРАЙ':\n",
    "        a_new = a[5:] + ' КРАЙ'\n",
    "        df['living_region'].replace(to_replace=a, value = a_new, inplace= True)"
   ]
  },
  {
   "cell_type": "code",
   "execution_count": 34,
   "id": "829f204e",
   "metadata": {},
   "outputs": [],
   "source": [
    "for a in df['living_region']:\n",
    "    if 'Г.' in a and a[0:2] == 'Г.':\n",
    "        a_new = a[2:]\n",
    "        df['living_region'].replace(to_replace=a, value = a_new, inplace= True)\n",
    "    if 'Г.' in a.rstrip() and a[-2:] == 'Г.':\n",
    "        a_new = a[:-2]\n",
    "        df['living_region'].replace(to_replace=a, value = a_new, inplace= True)\n",
    "    if 'Г ' in a and a[0:2] == 'Г ':\n",
    "        a_new = a[2:]\n",
    "        df['living_region'].replace(to_replace=a, value = a_new, inplace= True)\n",
    "    if 'Г' in a.strip() and a[-1] == 'Г':\n",
    "        a_new = a[:-1]\n",
    "        df['living_region'].replace(to_replace=a, value = a_new, inplace= True)  "
   ]
  },
  {
   "cell_type": "code",
   "execution_count": 35,
   "id": "6536d66e",
   "metadata": {},
   "outputs": [],
   "source": [
    "for a in df['living_region']:\n",
    "    if a[0] == ' ' or a[-1]== ' ':\n",
    "        df['living_region'].replace(to_replace=a, value = a.strip(), inplace= True)"
   ]
  },
  {
   "cell_type": "code",
   "execution_count": 36,
   "id": "66bb42b4",
   "metadata": {},
   "outputs": [],
   "source": [
    "for a in df['living_region']:\n",
    "    if 'РЕСП' in a:\n",
    "        a_new = a[:-4]\n",
    "        df['living_region'].replace(to_replace=a, value = a_new, inplace= True)\n",
    "    if 'ОБЛ' in a:\n",
    "        a_new = a[:-3]\n",
    "        df['living_region'].replace(to_replace=a, value = a_new, inplace= True)\n",
    "    if 'АО' in a:\n",
    "        a_new = a[:-2]\n",
    "        df['living_region'].replace(to_replace=a, value = a_new, inplace= True)\n",
    "    if 'КРАЙ' in a:\n",
    "        a_new = (a[:-4])\n",
    "        df['living_region'].replace(to_replace=a, value = a_new, inplace= True)\n",
    "    if 'АО' in a:\n",
    "        a_new = (a[:-2])\n",
    "        df['living_region'].replace(to_replace=a, value = a_new, inplace= True)"
   ]
  },
  {
   "cell_type": "code",
   "execution_count": 37,
   "id": "c7b7cb25",
   "metadata": {},
   "outputs": [],
   "source": [
    "for a in df['living_region']:\n",
    "    if a[0] == ' ' or a[-1]== ' ':\n",
    "        df['living_region'].replace(to_replace=a, value = a.strip(), inplace= True)"
   ]
  },
  {
   "cell_type": "code",
   "execution_count": 38,
   "id": "cef02085",
   "metadata": {},
   "outputs": [
    {
     "data": {
      "text/plain": [
       "array(['АДЫГЕЯ', 'АЛТАЙ', 'АЛТАЙСКИЙ', 'АМУРСКАЯ', 'АРХАНГЕЛЬСКАЯ',\n",
       "       'АСТРАХАНСКАЯ', 'БАШКОРТОСТАН', 'БЕЛГОРОДСКАЯ', 'БРЯНСКАЯ',\n",
       "       'БРЯНСКИЙ', 'БУРЯТИЯ', 'ВЛАДИМИРСКАЯ', 'ВОЛГОГРАДСКАЯ',\n",
       "       'ВОЛОГОДСКАЯ', 'ВОЛОГОДСКАЯ О', 'ВОРОНЕЖСКАЯ', 'ГОРЬКОВСКАЯ',\n",
       "       'ДАГЕСТАН', 'ДАЛЬНИЙ ВОСТОК', 'ЕВРЕЙСКАЯ А',\n",
       "       'ЕВРЕЙСКАЯ АВТОНОМНАЯ', 'ЗАБАЙКАЛЬСКИЙ', 'ИВАНОВСКАЯ', 'ИНГУШЕТИЯ',\n",
       "       'ИРКУТСКАЯ', 'КАБАРДИНО-БАЛКАРСКАЯ', 'КАЛИНИНГРАДСКАЯ',\n",
       "       'КАЛИНИНГРАДСКАЯ О', 'КАЛМЫКИЯ', 'КАЛУЖСКАЯ', 'КАМЧАТСКАЯ',\n",
       "       'КАМЧАТСКИЙ', 'КАРАЧАЕВО-ЧЕРКЕССКАЯ', 'КАРЕЛИЯ', 'КЕМЕРОВСКАЯ',\n",
       "       'КИРОВСКАЯ', 'КОМИ', 'КОСТРОМСКАЯ', 'КРАСНОДАРСКИЙ',\n",
       "       'КРАСНОЯРСКИЙ', 'КУРГАНСКАЯ', 'КУРСКАЯ', 'Л ЕВРЕЙСКАЯ',\n",
       "       'ЛЕНИНГРАДСКАЯ', 'ЛИПЕЦКАЯ', 'МАГАДАНСКАЯ', 'МАРИЙ ЭЛ', 'МОРДОВИЯ',\n",
       "       'МОСКВА', 'МОСКВОСКАЯ', 'МОСКОВСКАЯ', 'МУРМАНСКАЯ', 'НЕНЕЦКИЙ',\n",
       "       'НИЖЕГОРОДСКАЯ', 'НОВГОРОДСКАЯ', 'НОВОСИБИРСКАЯ', 'ОМСКАЯ', 'ОРЁЛ',\n",
       "       'ОРЕНБУРГСКАЯ', 'ОРЛОВСКАЯ', 'ПЕНЗЕНСКАЯ', 'ПЕРМСКАЯ', 'ПЕРМСКИЙ',\n",
       "       'ПРИВОЛЖСКИЙ ФЕДЕРАЛЬНЫЙ ОКРУ', 'ПРИМОРСКИЙ', 'ПСКОВСКАЯ',\n",
       "       'РОССИЯ', 'РОСТОВСКАЯ', 'РЯЗАНСКАЯ', 'САМАРСКАЯ', 'САНКТ-ПЕТЕРБУР',\n",
       "       'САНКТ-ПЕТЕРБУРГ', 'САРАТОВСКАЯ', 'САХА', 'САХА (ЯКУТИЯ)',\n",
       "       'САХА /ЯКУТИЯ/', 'САХАЛИНСКАЯ', 'СВЕРДЛОВСКАЯ',\n",
       "       'СЕВ. ОСЕТИЯ - АЛАНИЯ', 'СЕВЕРНАЯ ОСЕТИЯ - АЛАНИЯ', 'СМОЛЕНСКАЯ',\n",
       "       'СТАВРОПОЛЬСКИЙ', 'ТАМБОВСКАЯ', 'ТАТАРСТАН', 'ТВЕРСКАЯ', 'ТОМСКАЯ',\n",
       "       'ТУЛЬСКАЯ', 'ТЫВА', 'ТЮМЕНСКАЯ', 'УДМУРТСКАЯ', 'УЛЬЯНОВСКАЯ',\n",
       "       'ХАБАРОВСКИЙ', 'ХАКАСИЯ', 'ХАНТЫ-МАНСИЙСКИЙ',\n",
       "       'ХАНТЫ-МАНСИЙСКИЙ АВТОНОМНЫЙ ОКРУГ - Ю',\n",
       "       'ХАНТЫ-МАНСИЙСКИЙ АВТОНОМНЫЙ ОКРУГ - ЮГРА', 'ЧЕЛЯБИНСКАЯ',\n",
       "       'ЧЕЧЕНСКАЯ', 'ЧИТИНСКАЯ', 'ЧУВАШИЯ ЧУВАШСКАЯ РЕ', 'ЧУВАШСКАЯ',\n",
       "       'ЧУВАШСКАЯ - ЧУВАШИЯ', 'ЧУВАШСКАЯ РЕ', 'ЧУКОТСКИЙ', 'ЭВЕНКИЙСКИЙ',\n",
       "       'ЯМАЛО-НЕНЕЦКИЙ', 'ЯРОСЛАВСКАЯ'], dtype=object)"
      ]
     },
     "execution_count": 38,
     "metadata": {},
     "output_type": "execute_result"
    }
   ],
   "source": [
    "df['living_region'].sort_values().unique()"
   ]
  },
  {
   "cell_type": "code",
   "execution_count": 39,
   "id": "ea71d700",
   "metadata": {},
   "outputs": [],
   "source": [
    "df[\"living_region\"] = df[\"living_region\"].replace(\"БРЯНСКИЙ\", \"БРЯНСКАЯ\", regex=True)\n",
    "df[\"living_region\"] = df[\"living_region\"].replace(\"ВОЛОГОДСКАЯ О\", \"ВОЛОГОДСКАЯ\", regex=True)\n",
    "df[\"living_region\"] = df[\"living_region\"].replace(\"ГОРЬКОВСКАЯ\", \"НИЖЕГОРОДСКАЯ\", regex=True)\n",
    "df[\"living_region\"] = df[\"living_region\"].replace(\"ЕВРЕЙСКАЯ А\", \"ЕВРЕЙСКАЯ\", regex=True)\n",
    "df[\"living_region\"] = df[\"living_region\"].replace(\"ЕВРЕЙСКАЯВТОНОМНАЯ\", \"ЕВРЕЙСКАЯ\", regex=True)\n",
    "df[\"living_region\"] = df[\"living_region\"].replace(\"КАЛИНИНГРАДСКАЯ О\", \"КАЛИНИНГРАДСКАЯ\", regex=True)\n",
    "df[\"living_region\"] = df[\"living_region\"].replace(\"КАМЧАТСКАЯ\", \"КАМЧАТСКИЙ\", regex=True)\n",
    "df[\"living_region\"] = df[\"living_region\"].replace(\"Л ЕВРЕЙСКАЯ\", \"ЕВРЕЙСКАЯ\", regex=True)\n",
    "df[\"living_region\"] = df[\"living_region\"].replace(\"МОСКВОСКАЯ\", \"МОСКОВСКАЯ\", regex=True)\n",
    "df[\"living_region\"] = df[\"living_region\"].replace(\"ОРЁЛ\", \"ОРЛОВСКАЯ\", regex=True)\n",
    "df[\"living_region\"] = df[\"living_region\"].replace(\"ПЕРМСКАЯ\", \"ПЕРМСКИЙ\", regex=True)\n",
    "df[\"living_region\"] = df[\"living_region\"].replace(\"САНКТ-ПЕТЕРБУР\", \"САНКТ-ПЕТЕРБУРГ\", regex=True)\n",
    "df[\"living_region\"] = df[\"living_region\"].replace('САХА (ЯКУТИЯ)', 'САХА (ЯКУТИЯ)', regex=True)\n",
    "df[\"living_region\"] = df[\"living_region\"].replace('САХА /ЯКУТИЯ/', 'САХА (ЯКУТИЯ)', regex=True)\n",
    "df[\"living_region\"] = df[\"living_region\"].replace(\"СЕВ. ОСЕТИЯ - АЛАНИЯ\", 'АЛАНИЯ', regex=True)\n",
    "df[\"living_region\"] = df[\"living_region\"].replace('СЕВЕРНАЯ ОСЕТИЯ - АЛАНИЯ', 'АЛАНИЯ', regex=True)\n",
    "df[\"living_region\"] = df[\"living_region\"].replace(\"ЧУВАШИЯ ЧУВАШСКАЯ РЕ\", \"ЧУВАШСКАЯ\", regex=True)\n",
    "df[\"living_region\"] = df[\"living_region\"].replace(\"ЧУВАШСКАЯ РЕ\", \"ЧУВАШСКАЯ\", regex=True)\n",
    "df[\"living_region\"] = df[\"living_region\"].replace(\"ЧУВАШСКАЯ - ЧУВАШИЯ\", \"ЧУВАШСКАЯ\", regex=True)\n",
    "df[\"living_region\"] = df[\"living_region\"].replace(\"ХАНТЫ-МАНСИЙСКИЙ АВТОНОМНЫЙ ОКРУГ - Ю\", \"ХАНТЫ-МАНСИЙСКИЙ\", regex=True)\n",
    "df[\"living_region\"] = df[\"living_region\"].replace(\"ХАНТЫ-МАНСИЙСКИЙ АВТОНОМНЫЙГРА\", \"ХАНТЫ-МАНСИЙСКИЙ\", regex=True)\n",
    "df[\"living_region\"] = df[\"living_region\"].replace(\"ХАНТЫ-МАНСИЙСКИЙГРА\", \"ХАНТЫ-МАНСИЙСКИЙ\", regex=True)\n",
    "df[\"living_region\"] = df[\"living_region\"].replace(\"САНКТ-ПЕТЕРБУРГГ\", \"САНКТ-ПЕТЕРБУРГ\", regex=True)\n",
    "df[\"living_region\"] = df[\"living_region\"].replace(\"ЧИТИНСКАЯ\", \"ЗАБАЙКАЛЬСКИЙ\", regex=True)\n",
    "df[\"living_region\"] = df[\"living_region\"].replace(\"ЭВЕНКИЙСКИЙ\", \"КРАСНОЯРСКИЙ\", regex=True)"
   ]
  },
  {
   "cell_type": "code",
   "execution_count": 40,
   "id": "413dd820",
   "metadata": {},
   "outputs": [],
   "source": [
    "df.drop(df[df[\"living_region\"] == 'РОССИЯ'].index, inplace = True)\n",
    "df.drop(df[df[\"living_region\"] == 'ПРИВОЛЖСКИЙ ФЕДЕРАЛЬНЫЙ ОКРУ'].index, inplace = True)\n",
    "df.drop(df[df[\"living_region\"] == 'ДАЛЬНИЙ ВОСТОК'].index, inplace = True)"
   ]
  },
  {
   "cell_type": "code",
   "execution_count": 41,
   "id": "0ca1f8ab",
   "metadata": {},
   "outputs": [
    {
     "data": {
      "text/plain": [
       "array(['АДЫГЕЯ', 'АЛАНИЯ', 'АЛТАЙ', 'АЛТАЙСКИЙ', 'АМУРСКАЯ',\n",
       "       'АРХАНГЕЛЬСКАЯ', 'АСТРАХАНСКАЯ', 'БАШКОРТОСТАН', 'БЕЛГОРОДСКАЯ',\n",
       "       'БРЯНСКАЯ', 'БУРЯТИЯ', 'ВЛАДИМИРСКАЯ', 'ВОЛГОГРАДСКАЯ',\n",
       "       'ВОЛОГОДСКАЯ', 'ВОРОНЕЖСКАЯ', 'ДАГЕСТАН', 'ЕВРЕЙСКАЯ',\n",
       "       'ЗАБАЙКАЛЬСКИЙ', 'ИВАНОВСКАЯ', 'ИНГУШЕТИЯ', 'ИРКУТСКАЯ',\n",
       "       'КАБАРДИНО-БАЛКАРСКАЯ', 'КАЛИНИНГРАДСКАЯ', 'КАЛМЫКИЯ', 'КАЛУЖСКАЯ',\n",
       "       'КАМЧАТСКИЙ', 'КАРАЧАЕВО-ЧЕРКЕССКАЯ', 'КАРЕЛИЯ', 'КЕМЕРОВСКАЯ',\n",
       "       'КИРОВСКАЯ', 'КОМИ', 'КОСТРОМСКАЯ', 'КРАСНОДАРСКИЙ',\n",
       "       'КРАСНОЯРСКИЙ', 'КУРГАНСКАЯ', 'КУРСКАЯ', 'ЛЕНИНГРАДСКАЯ',\n",
       "       'ЛИПЕЦКАЯ', 'МАГАДАНСКАЯ', 'МАРИЙ ЭЛ', 'МОРДОВИЯ', 'МОСКВА',\n",
       "       'МОСКОВСКАЯ', 'МУРМАНСКАЯ', 'НЕНЕЦКИЙ', 'НИЖЕГОРОДСКАЯ',\n",
       "       'НОВГОРОДСКАЯ', 'НОВОСИБИРСКАЯ', 'ОМСКАЯ', 'ОРЕНБУРГСКАЯ',\n",
       "       'ОРЛОВСКАЯ', 'ПЕНЗЕНСКАЯ', 'ПЕРМСКИЙ', 'ПРИМОРСКИЙ', 'ПСКОВСКАЯ',\n",
       "       'РОСТОВСКАЯ', 'РЯЗАНСКАЯ', 'САМАРСКАЯ', 'САНКТ-ПЕТЕРБУРГ',\n",
       "       'САРАТОВСКАЯ', 'САХА', 'САХА (ЯКУТИЯ)', 'САХАЛИНСКАЯ',\n",
       "       'СВЕРДЛОВСКАЯ', 'СМОЛЕНСКАЯ', 'СТАВРОПОЛЬСКИЙ', 'ТАМБОВСКАЯ',\n",
       "       'ТАТАРСТАН', 'ТВЕРСКАЯ', 'ТОМСКАЯ', 'ТУЛЬСКАЯ', 'ТЫВА',\n",
       "       'ТЮМЕНСКАЯ', 'УДМУРТСКАЯ', 'УЛЬЯНОВСКАЯ', 'ХАБАРОВСКИЙ', 'ХАКАСИЯ',\n",
       "       'ХАНТЫ-МАНСИЙСКИЙ', 'ЧЕЛЯБИНСКАЯ', 'ЧЕЧЕНСКАЯ', 'ЧУВАШСКАЯ',\n",
       "       'ЧУКОТСКИЙ', 'ЯМАЛО-НЕНЕЦКИЙ', 'ЯРОСЛАВСКАЯ'], dtype=object)"
      ]
     },
     "execution_count": 41,
     "metadata": {},
     "output_type": "execute_result"
    }
   ],
   "source": [
    "df['living_region'].sort_values().unique()"
   ]
  },
  {
   "cell_type": "code",
   "execution_count": 42,
   "id": "93b61604",
   "metadata": {},
   "outputs": [
    {
     "data": {
      "text/plain": [
       "84"
      ]
     },
     "execution_count": 42,
     "metadata": {},
     "output_type": "execute_result"
    }
   ],
   "source": [
    "len(df['living_region'].sort_values().unique())"
   ]
  },
  {
   "cell_type": "markdown",
   "id": "fcb6015b",
   "metadata": {},
   "source": [
    "# Обработать пропуски."
   ]
  },
  {
   "cell_type": "code",
   "execution_count": 43,
   "id": "95926043",
   "metadata": {},
   "outputs": [],
   "source": [
    "df['credit_count'] = df['credit_count'].fillna(0)"
   ]
  },
  {
   "cell_type": "code",
   "execution_count": 44,
   "id": "667e6973",
   "metadata": {},
   "outputs": [],
   "source": [
    "df['overdue_credit_count'] = df['overdue_credit_count'].fillna(0)"
   ]
  },
  {
   "cell_type": "code",
   "execution_count": 45,
   "id": "b4de7fa4",
   "metadata": {},
   "outputs": [
    {
     "data": {
      "text/html": [
       "<div>\n",
       "<style scoped>\n",
       "    .dataframe tbody tr th:only-of-type {\n",
       "        vertical-align: middle;\n",
       "    }\n",
       "\n",
       "    .dataframe tbody tr th {\n",
       "        vertical-align: top;\n",
       "    }\n",
       "\n",
       "    .dataframe thead th {\n",
       "        text-align: right;\n",
       "    }\n",
       "</style>\n",
       "<table border=\"1\" class=\"dataframe\">\n",
       "  <thead>\n",
       "    <tr style=\"text-align: right;\">\n",
       "      <th></th>\n",
       "      <th>client_id</th>\n",
       "      <th>age</th>\n",
       "      <th>credit_sum</th>\n",
       "      <th>credit_month</th>\n",
       "      <th>tariff_id</th>\n",
       "      <th>score_shk</th>\n",
       "      <th>monthly_income</th>\n",
       "      <th>credit_count</th>\n",
       "      <th>overdue_credit_count</th>\n",
       "      <th>open_account_flg</th>\n",
       "    </tr>\n",
       "  </thead>\n",
       "  <tbody>\n",
       "    <tr>\n",
       "      <th>count</th>\n",
       "      <td>170537.000000</td>\n",
       "      <td>170537.000000</td>\n",
       "      <td>170537.000000</td>\n",
       "      <td>170537.000000</td>\n",
       "      <td>170537.000000</td>\n",
       "      <td>170537.000000</td>\n",
       "      <td>170537.000000</td>\n",
       "      <td>170537.000000</td>\n",
       "      <td>170537.000000</td>\n",
       "      <td>170537.000000</td>\n",
       "    </tr>\n",
       "    <tr>\n",
       "      <th>mean</th>\n",
       "      <td>85381.758903</td>\n",
       "      <td>36.499909</td>\n",
       "      <td>26093.930353</td>\n",
       "      <td>10.981013</td>\n",
       "      <td>1.323911</td>\n",
       "      <td>0.469450</td>\n",
       "      <td>40136.757683</td>\n",
       "      <td>1.993726</td>\n",
       "      <td>0.043574</td>\n",
       "      <td>0.176226</td>\n",
       "    </tr>\n",
       "    <tr>\n",
       "      <th>std</th>\n",
       "      <td>49286.823904</td>\n",
       "      <td>10.547185</td>\n",
       "      <td>16233.307795</td>\n",
       "      <td>3.537086</td>\n",
       "      <td>0.235826</td>\n",
       "      <td>0.124252</td>\n",
       "      <td>25047.033889</td>\n",
       "      <td>1.793173</td>\n",
       "      <td>0.205976</td>\n",
       "      <td>0.381013</td>\n",
       "    </tr>\n",
       "    <tr>\n",
       "      <th>min</th>\n",
       "      <td>8.000000</td>\n",
       "      <td>18.000000</td>\n",
       "      <td>2736.000000</td>\n",
       "      <td>3.000000</td>\n",
       "      <td>1.000000</td>\n",
       "      <td>0.000000</td>\n",
       "      <td>5000.000000</td>\n",
       "      <td>0.000000</td>\n",
       "      <td>0.000000</td>\n",
       "      <td>0.000000</td>\n",
       "    </tr>\n",
       "    <tr>\n",
       "      <th>25%</th>\n",
       "      <td>42704.000000</td>\n",
       "      <td>28.000000</td>\n",
       "      <td>14908.000000</td>\n",
       "      <td>10.000000</td>\n",
       "      <td>1.100000</td>\n",
       "      <td>0.379495</td>\n",
       "      <td>25000.000000</td>\n",
       "      <td>1.000000</td>\n",
       "      <td>0.000000</td>\n",
       "      <td>0.000000</td>\n",
       "    </tr>\n",
       "    <tr>\n",
       "      <th>50%</th>\n",
       "      <td>85378.000000</td>\n",
       "      <td>34.000000</td>\n",
       "      <td>21229.000000</td>\n",
       "      <td>10.000000</td>\n",
       "      <td>1.320000</td>\n",
       "      <td>0.461599</td>\n",
       "      <td>35000.000000</td>\n",
       "      <td>2.000000</td>\n",
       "      <td>0.000000</td>\n",
       "      <td>0.000000</td>\n",
       "    </tr>\n",
       "    <tr>\n",
       "      <th>75%</th>\n",
       "      <td>128067.000000</td>\n",
       "      <td>43.000000</td>\n",
       "      <td>32068.000000</td>\n",
       "      <td>12.000000</td>\n",
       "      <td>1.600000</td>\n",
       "      <td>0.552366</td>\n",
       "      <td>50000.000000</td>\n",
       "      <td>3.000000</td>\n",
       "      <td>0.000000</td>\n",
       "      <td>0.000000</td>\n",
       "    </tr>\n",
       "    <tr>\n",
       "      <th>max</th>\n",
       "      <td>170746.000000</td>\n",
       "      <td>71.000000</td>\n",
       "      <td>200000.000000</td>\n",
       "      <td>36.000000</td>\n",
       "      <td>1.960000</td>\n",
       "      <td>1.128291</td>\n",
       "      <td>950000.000000</td>\n",
       "      <td>21.000000</td>\n",
       "      <td>3.000000</td>\n",
       "      <td>1.000000</td>\n",
       "    </tr>\n",
       "  </tbody>\n",
       "</table>\n",
       "</div>"
      ],
      "text/plain": [
       "           client_id            age     credit_sum   credit_month  \\\n",
       "count  170537.000000  170537.000000  170537.000000  170537.000000   \n",
       "mean    85381.758903      36.499909   26093.930353      10.981013   \n",
       "std     49286.823904      10.547185   16233.307795       3.537086   \n",
       "min         8.000000      18.000000    2736.000000       3.000000   \n",
       "25%     42704.000000      28.000000   14908.000000      10.000000   \n",
       "50%     85378.000000      34.000000   21229.000000      10.000000   \n",
       "75%    128067.000000      43.000000   32068.000000      12.000000   \n",
       "max    170746.000000      71.000000  200000.000000      36.000000   \n",
       "\n",
       "           tariff_id      score_shk  monthly_income   credit_count  \\\n",
       "count  170537.000000  170537.000000   170537.000000  170537.000000   \n",
       "mean        1.323911       0.469450    40136.757683       1.993726   \n",
       "std         0.235826       0.124252    25047.033889       1.793173   \n",
       "min         1.000000       0.000000     5000.000000       0.000000   \n",
       "25%         1.100000       0.379495    25000.000000       1.000000   \n",
       "50%         1.320000       0.461599    35000.000000       2.000000   \n",
       "75%         1.600000       0.552366    50000.000000       3.000000   \n",
       "max         1.960000       1.128291   950000.000000      21.000000   \n",
       "\n",
       "       overdue_credit_count  open_account_flg  \n",
       "count         170537.000000     170537.000000  \n",
       "mean               0.043574          0.176226  \n",
       "std                0.205976          0.381013  \n",
       "min                0.000000          0.000000  \n",
       "25%                0.000000          0.000000  \n",
       "50%                0.000000          0.000000  \n",
       "75%                0.000000          0.000000  \n",
       "max                3.000000          1.000000  "
      ]
     },
     "execution_count": 45,
     "metadata": {},
     "output_type": "execute_result"
    }
   ],
   "source": [
    "df.describe()"
   ]
  },
  {
   "cell_type": "code",
   "execution_count": 46,
   "id": "4e5bb5d3",
   "metadata": {},
   "outputs": [],
   "source": [
    "df1['Субъект РФ кратко'] = df1['Субъект РФ кратко'].str.upper()"
   ]
  },
  {
   "cell_type": "code",
   "execution_count": 47,
   "id": "d950a561",
   "metadata": {},
   "outputs": [],
   "source": [
    "df1['Субъект РФ кратко'] = df1['Субъект РФ кратко'].str.strip()"
   ]
  },
  {
   "cell_type": "code",
   "execution_count": 48,
   "id": "10ded579",
   "metadata": {},
   "outputs": [],
   "source": [
    "df = df.merge(df1, how = 'left', left_on='living_region', right_on='Субъект РФ кратко')"
   ]
  },
  {
   "cell_type": "code",
   "execution_count": 49,
   "id": "a6d75fb2",
   "metadata": {},
   "outputs": [],
   "source": [
    "df = df.drop(columns=['№', 'Вид субъекта', 'Площадь', 'Население', 'Административный центр', 'Субъект РФ кратко', 'living_region'])"
   ]
  },
  {
   "cell_type": "code",
   "execution_count": 50,
   "id": "ae090df1",
   "metadata": {},
   "outputs": [],
   "source": [
    "df = df.dropna()"
   ]
  },
  {
   "cell_type": "markdown",
   "id": "0d19c9e3",
   "metadata": {},
   "source": [
    "# Оценить выбросы."
   ]
  },
  {
   "cell_type": "code",
   "execution_count": 51,
   "id": "cb16c6b2",
   "metadata": {},
   "outputs": [
    {
     "data": {
      "text/plain": [
       "<AxesSubplot:>"
      ]
     },
     "execution_count": 51,
     "metadata": {},
     "output_type": "execute_result"
    },
    {
     "data": {
      "image/png": "[encoded data removed]",
      "text/plain": [
       "<Figure size 432x288 with 1 Axes>"
      ]
     },
     "metadata": {
      "needs_background": "light"
     },
     "output_type": "display_data"
    }
   ],
   "source": [
    "import seaborn as sns\n",
    "sns.boxplot(data=df['age'], width=0.8)"
   ]
  },
  {
   "cell_type": "code",
   "execution_count": 52,
   "id": "62c99397",
   "metadata": {},
   "outputs": [
    {
     "data": {
      "text/plain": [
       "<AxesSubplot:>"
      ]
     },
     "execution_count": 52,
     "metadata": {},
     "output_type": "execute_result"
    },
    {
     "data": {
      "image/png": "[encoded data removed]",
      "text/plain": [
       "<Figure size 432x288 with 1 Axes>"
      ]
     },
     "metadata": {
      "needs_background": "light"
     },
     "output_type": "display_data"
    }
   ],
   "source": [
    "sns.boxplot(data=df['credit_sum'], width=0.8)"
   ]
  },
  {
   "cell_type": "code",
   "execution_count": 53,
   "id": "957494cc",
   "metadata": {},
   "outputs": [
    {
     "data": {
      "text/plain": [
       "<AxesSubplot:>"
      ]
     },
     "execution_count": 53,
     "metadata": {},
     "output_type": "execute_result"
    },
    {
     "data": {
      "image/png": "[encoded data removed]",
      "text/plain": [
       "<Figure size 432x288 with 1 Axes>"
      ]
     },
     "metadata": {
      "needs_background": "light"
     },
     "output_type": "display_data"
    }
   ],
   "source": [
    "sns.boxplot(data=df['monthly_income'], width=0.8)"
   ]
  },
  {
   "cell_type": "code",
   "execution_count": 54,
   "id": "88b5e417",
   "metadata": {},
   "outputs": [
    {
     "data": {
      "image/png": "[encoded data removed]",
      "text/plain": [
       "<Figure size 432x288 with 1 Axes>"
      ]
     },
     "metadata": {
      "needs_background": "light"
     },
     "output_type": "display_data"
    }
   ],
   "source": [
    "ax = df['monthly_income'].plot.hist(bins=40, alpha=0.8)"
   ]
  },
  {
   "cell_type": "code",
   "execution_count": 55,
   "id": "2cae22ac",
   "metadata": {},
   "outputs": [
    {
     "data": {
      "text/plain": [
       "<AxesSubplot:>"
      ]
     },
     "execution_count": 55,
     "metadata": {},
     "output_type": "execute_result"
    },
    {
     "data": {
      "image/png": "[encoded data removed]",
      "text/plain": [
       "<Figure size 432x288 with 1 Axes>"
      ]
     },
     "metadata": {
      "needs_background": "light"
     },
     "output_type": "display_data"
    }
   ],
   "source": [
    "sns.boxplot(data=df['credit_count'], width=0.8)"
   ]
  },
  {
   "cell_type": "code",
   "execution_count": 56,
   "id": "5e2b8c3f",
   "metadata": {},
   "outputs": [
    {
     "data": {
      "text/plain": [
       "<AxesSubplot:>"
      ]
     },
     "execution_count": 56,
     "metadata": {},
     "output_type": "execute_result"
    },
    {
     "data": {
      "image/png": "[encoded data removed]",
      "text/plain": [
       "<Figure size 432x288 with 1 Axes>"
      ]
     },
     "metadata": {
      "needs_background": "light"
     },
     "output_type": "display_data"
    }
   ],
   "source": [
    "sns.boxplot(data=df['overdue_credit_count'], width=0.8)"
   ]
  },
  {
   "cell_type": "markdown",
   "id": "ec64bb04",
   "metadata": {},
   "source": [
    "Выбираем колонки для удаления выбросов (данных, которые не находятся в пределах 3х стандартных отклонений)."
   ]
  },
  {
   "cell_type": "code",
   "execution_count": 57,
   "id": "2ac37ff1",
   "metadata": {},
   "outputs": [],
   "source": [
    "from scipy import stats"
   ]
  },
  {
   "cell_type": "code",
   "execution_count": 58,
   "id": "39320427",
   "metadata": {},
   "outputs": [
    {
     "data": {
      "text/plain": [
       "Index(['client_id', 'gender', 'age', 'marital_status', 'job_position',\n",
       "       'credit_sum', 'credit_month', 'tariff_id', 'score_shk', 'education',\n",
       "       'monthly_income', 'credit_count', 'overdue_credit_count',\n",
       "       'open_account_flg', 'Субъект РФ', 'Расстояние до Москвы, км',\n",
       "       'Федеральный округ', 'Плотность населения'],\n",
       "      dtype='object')"
      ]
     },
     "execution_count": 58,
     "metadata": {},
     "output_type": "execute_result"
    }
   ],
   "source": [
    "df.columns"
   ]
  },
  {
   "cell_type": "code",
   "execution_count": 59,
   "id": "a0fd6a75",
   "metadata": {},
   "outputs": [],
   "source": [
    "df_no_objects = df.drop(['client_id', 'age', 'gender', 'marital_status', 'credit_sum', 'credit_month', 'job_position', 'tariff_id', 'score_shk', 'education', 'overdue_credit_count', 'open_account_flg', 'Субъект РФ', 'Федеральный округ'], axis=1)\n"
   ]
  },
  {
   "cell_type": "code",
   "execution_count": 60,
   "id": "4113e213",
   "metadata": {},
   "outputs": [],
   "source": [
    "z = np.abs(stats.zscore(df_no_objects))"
   ]
  },
  {
   "cell_type": "code",
   "execution_count": 61,
   "id": "70ce0d8d",
   "metadata": {},
   "outputs": [],
   "source": [
    "data_clean = df_no_objects[(z<3).all(axis=1)]"
   ]
  },
  {
   "cell_type": "code",
   "execution_count": 62,
   "id": "7a86cb79",
   "metadata": {},
   "outputs": [
    {
     "data": {
      "text/plain": [
       "<AxesSubplot:>"
      ]
     },
     "execution_count": 62,
     "metadata": {},
     "output_type": "execute_result"
    },
    {
     "data": {
      "image/png": "[encoded data removed]",
      "text/plain": [
       "<Figure size 432x288 with 1 Axes>"
      ]
     },
     "metadata": {
      "needs_background": "light"
     },
     "output_type": "display_data"
    }
   ],
   "source": [
    "sns.boxplot(data=data_clean['credit_count'], width=0.8)"
   ]
  },
  {
   "cell_type": "code",
   "execution_count": 63,
   "id": "72eca725",
   "metadata": {},
   "outputs": [
    {
     "data": {
      "image/png": "[encoded data removed]",
      "text/plain": [
       "<Figure size 432x288 with 1 Axes>"
      ]
     },
     "metadata": {
      "needs_background": "light"
     },
     "output_type": "display_data"
    }
   ],
   "source": [
    "ax = data_clean['monthly_income'].plot.hist(bins=10, alpha=0.8)"
   ]
  },
  {
   "cell_type": "code",
   "execution_count": 64,
   "id": "50ffd8e0",
   "metadata": {},
   "outputs": [
    {
     "data": {
      "image/png": "[encoded data removed]",
      "text/plain": [
       "<Figure size 432x288 with 1 Axes>"
      ]
     },
     "metadata": {
      "needs_background": "light"
     },
     "output_type": "display_data"
    }
   ],
   "source": [
    "ax = data_clean['credit_count'].plot.hist(bins=7, alpha=0.8)"
   ]
  },
  {
   "cell_type": "code",
   "execution_count": 65,
   "id": "53785300",
   "metadata": {},
   "outputs": [
    {
     "name": "stdout",
     "output_type": "stream",
     "text": [
      "<class 'pandas.core.frame.DataFrame'>\n",
      "Int64Index: 166944 entries, 0 to 170536\n",
      "Data columns (total 18 columns):\n",
      " #   Column                    Non-Null Count   Dtype  \n",
      "---  ------                    --------------   -----  \n",
      " 0   client_id                 166944 non-null  int64  \n",
      " 1   gender                    166944 non-null  object \n",
      " 2   age                       166944 non-null  float64\n",
      " 3   marital_status            166944 non-null  object \n",
      " 4   job_position              166944 non-null  object \n",
      " 5   credit_sum                166944 non-null  float64\n",
      " 6   credit_month              166944 non-null  int64  \n",
      " 7   tariff_id                 166944 non-null  float64\n",
      " 8   score_shk                 166944 non-null  float64\n",
      " 9   education                 166944 non-null  object \n",
      " 10  monthly_income            166944 non-null  float64\n",
      " 11  credit_count              166944 non-null  float64\n",
      " 12  overdue_credit_count      166944 non-null  float64\n",
      " 13  open_account_flg          166944 non-null  int64  \n",
      " 14  Субъект РФ                166944 non-null  object \n",
      " 15  Расстояние до Москвы, км  166944 non-null  float64\n",
      " 16  Федеральный округ         166944 non-null  object \n",
      " 17  Плотность населения       166944 non-null  float64\n",
      "dtypes: float64(9), int64(3), object(6)\n",
      "memory usage: 24.2+ MB\n"
     ]
    }
   ],
   "source": [
    "# delete all rows with column 'credit_count' overe 7 and  'monthly_income' over 120000\n",
    "rows_to_drop = df[ (df['credit_count'] > 7) | (df['monthly_income'] > 120000) ].index\n",
    "df.drop(rows_to_drop , inplace=True)\n",
    "df.info()"
   ]
  },
  {
   "cell_type": "code",
   "execution_count": 66,
   "id": "78d2b91b",
   "metadata": {},
   "outputs": [],
   "source": [
    "from sklearn.preprocessing import OrdinalEncoder\n",
    "\n",
    "ord_enc = OrdinalEncoder()\n",
    "ord_enc = ord_enc.fit(df[[\"gender\"]])\n",
    "ord_enc.categories_\n",
    "df[\"gender\"] = ord_enc.transform(df[[\"gender\"]])\n"
   ]
  },
  {
   "cell_type": "code",
   "execution_count": 67,
   "id": "c8368703",
   "metadata": {},
   "outputs": [
    {
     "data": {
      "text/html": [
       "<div>\n",
       "<style scoped>\n",
       "    .dataframe tbody tr th:only-of-type {\n",
       "        vertical-align: middle;\n",
       "    }\n",
       "\n",
       "    .dataframe tbody tr th {\n",
       "        vertical-align: top;\n",
       "    }\n",
       "\n",
       "    .dataframe thead th {\n",
       "        text-align: right;\n",
       "    }\n",
       "</style>\n",
       "<table border=\"1\" class=\"dataframe\">\n",
       "  <thead>\n",
       "    <tr style=\"text-align: right;\">\n",
       "      <th></th>\n",
       "      <th>client_id</th>\n",
       "      <th>gender</th>\n",
       "      <th>age</th>\n",
       "      <th>marital_status</th>\n",
       "      <th>job_position</th>\n",
       "      <th>credit_sum</th>\n",
       "      <th>credit_month</th>\n",
       "      <th>tariff_id</th>\n",
       "      <th>score_shk</th>\n",
       "      <th>education</th>\n",
       "      <th>monthly_income</th>\n",
       "      <th>credit_count</th>\n",
       "      <th>overdue_credit_count</th>\n",
       "      <th>open_account_flg</th>\n",
       "      <th>Субъект РФ</th>\n",
       "      <th>Расстояние до Москвы, км</th>\n",
       "      <th>Федеральный округ</th>\n",
       "      <th>Плотность населения</th>\n",
       "    </tr>\n",
       "  </thead>\n",
       "  <tbody>\n",
       "    <tr>\n",
       "      <th>0</th>\n",
       "      <td>8</td>\n",
       "      <td>0.0</td>\n",
       "      <td>26.0</td>\n",
       "      <td>UNM</td>\n",
       "      <td>SPC</td>\n",
       "      <td>47878.0</td>\n",
       "      <td>10</td>\n",
       "      <td>1.1</td>\n",
       "      <td>0.512525</td>\n",
       "      <td>GRD</td>\n",
       "      <td>60000.0</td>\n",
       "      <td>3.0</td>\n",
       "      <td>0.0</td>\n",
       "      <td>0</td>\n",
       "      <td>Московская область</td>\n",
       "      <td>0.0</td>\n",
       "      <td>Центральный федеральный округ</td>\n",
       "      <td>192.087812</td>\n",
       "    </tr>\n",
       "    <tr>\n",
       "      <th>1</th>\n",
       "      <td>10</td>\n",
       "      <td>0.0</td>\n",
       "      <td>32.0</td>\n",
       "      <td>UNM</td>\n",
       "      <td>SPC</td>\n",
       "      <td>26268.0</td>\n",
       "      <td>10</td>\n",
       "      <td>1.1</td>\n",
       "      <td>0.465026</td>\n",
       "      <td>GRD</td>\n",
       "      <td>39500.0</td>\n",
       "      <td>7.0</td>\n",
       "      <td>0.0</td>\n",
       "      <td>0</td>\n",
       "      <td>Ставропольский край</td>\n",
       "      <td>1411.0</td>\n",
       "      <td>Северо-Кавказский федеральный округ</td>\n",
       "      <td>43.947899</td>\n",
       "    </tr>\n",
       "    <tr>\n",
       "      <th>2</th>\n",
       "      <td>11</td>\n",
       "      <td>1.0</td>\n",
       "      <td>26.0</td>\n",
       "      <td>MAR</td>\n",
       "      <td>SPC</td>\n",
       "      <td>16793.0</td>\n",
       "      <td>14</td>\n",
       "      <td>1.0</td>\n",
       "      <td>0.445430</td>\n",
       "      <td>SCH</td>\n",
       "      <td>36000.0</td>\n",
       "      <td>2.0</td>\n",
       "      <td>0.0</td>\n",
       "      <td>0</td>\n",
       "      <td>Санкт-Петербург</td>\n",
       "      <td>703.0</td>\n",
       "      <td>Северо-Западный федеральный округ</td>\n",
       "      <td>4004.225161</td>\n",
       "    </tr>\n",
       "    <tr>\n",
       "      <th>3</th>\n",
       "      <td>13</td>\n",
       "      <td>1.0</td>\n",
       "      <td>37.0</td>\n",
       "      <td>MAR</td>\n",
       "      <td>SPC</td>\n",
       "      <td>42289.0</td>\n",
       "      <td>10</td>\n",
       "      <td>1.6</td>\n",
       "      <td>0.691609</td>\n",
       "      <td>SCH</td>\n",
       "      <td>70000.0</td>\n",
       "      <td>1.0</td>\n",
       "      <td>0.0</td>\n",
       "      <td>0</td>\n",
       "      <td>Архангельская область</td>\n",
       "      <td>1250.0</td>\n",
       "      <td>Северо-Западный федеральный округ</td>\n",
       "      <td>1.729589</td>\n",
       "    </tr>\n",
       "    <tr>\n",
       "      <th>4</th>\n",
       "      <td>14</td>\n",
       "      <td>1.0</td>\n",
       "      <td>43.0</td>\n",
       "      <td>MAR</td>\n",
       "      <td>INP</td>\n",
       "      <td>57567.0</td>\n",
       "      <td>10</td>\n",
       "      <td>1.1</td>\n",
       "      <td>0.341164</td>\n",
       "      <td>GRD</td>\n",
       "      <td>60000.0</td>\n",
       "      <td>7.0</td>\n",
       "      <td>0.0</td>\n",
       "      <td>0</td>\n",
       "      <td>Ханты-Мансийский автономный округ – Югра</td>\n",
       "      <td>2622.0</td>\n",
       "      <td>Уральский федеральный округ</td>\n",
       "      <td>3.200218</td>\n",
       "    </tr>\n",
       "  </tbody>\n",
       "</table>\n",
       "</div>"
      ],
      "text/plain": [
       "   client_id  gender   age marital_status job_position  credit_sum  \\\n",
       "0          8     0.0  26.0            UNM          SPC     47878.0   \n",
       "1         10     0.0  32.0            UNM          SPC     26268.0   \n",
       "2         11     1.0  26.0            MAR          SPC     16793.0   \n",
       "3         13     1.0  37.0            MAR          SPC     42289.0   \n",
       "4         14     1.0  43.0            MAR          INP     57567.0   \n",
       "\n",
       "   credit_month  tariff_id  score_shk education  monthly_income  credit_count  \\\n",
       "0            10        1.1   0.512525       GRD         60000.0           3.0   \n",
       "1            10        1.1   0.465026       GRD         39500.0           7.0   \n",
       "2            14        1.0   0.445430       SCH         36000.0           2.0   \n",
       "3            10        1.6   0.691609       SCH         70000.0           1.0   \n",
       "4            10        1.1   0.341164       GRD         60000.0           7.0   \n",
       "\n",
       "   overdue_credit_count  open_account_flg  \\\n",
       "0                   0.0                 0   \n",
       "1                   0.0                 0   \n",
       "2                   0.0                 0   \n",
       "3                   0.0                 0   \n",
       "4                   0.0                 0   \n",
       "\n",
       "                                 Субъект РФ  Расстояние до Москвы, км  \\\n",
       "0                        Московская область                       0.0   \n",
       "1                       Ставропольский край                    1411.0   \n",
       "2                           Санкт-Петербург                     703.0   \n",
       "3                     Архангельская область                    1250.0   \n",
       "4  Ханты-Мансийский автономный округ – Югра                    2622.0   \n",
       "\n",
       "                     Федеральный округ  Плотность населения  \n",
       "0        Центральный федеральный округ           192.087812  \n",
       "1  Северо-Кавказский федеральный округ            43.947899  \n",
       "2    Северо-Западный федеральный округ          4004.225161  \n",
       "3    Северо-Западный федеральный округ             1.729589  \n",
       "4          Уральский федеральный округ             3.200218  "
      ]
     },
     "execution_count": 67,
     "metadata": {},
     "output_type": "execute_result"
    }
   ],
   "source": [
    "df.head()"
   ]
  },
  {
   "cell_type": "code",
   "execution_count": 68,
   "id": "fa4600d8",
   "metadata": {},
   "outputs": [],
   "source": [
    "df.loc[df[\"marital_status\"] == 'CIV', \"marital_status\"] = 'IN_REL'"
   ]
  },
  {
   "cell_type": "code",
   "execution_count": 69,
   "id": "8e9f5375",
   "metadata": {},
   "outputs": [],
   "source": [
    "df.loc[df[\"marital_status\"] == 'MAR', \"marital_status\"] = 'IN_REL'"
   ]
  },
  {
   "cell_type": "code",
   "execution_count": 70,
   "id": "2acefe8b",
   "metadata": {},
   "outputs": [],
   "source": [
    "df.loc[df[\"marital_status\"] == 'DIV', \"marital_status\"] = 'NO_REL'"
   ]
  },
  {
   "cell_type": "code",
   "execution_count": 71,
   "id": "3b9335da",
   "metadata": {},
   "outputs": [],
   "source": [
    "df.loc[df[\"marital_status\"] == 'UNM', \"marital_status\"] = 'NO_REL'"
   ]
  },
  {
   "cell_type": "code",
   "execution_count": 72,
   "id": "4e2f5886",
   "metadata": {},
   "outputs": [],
   "source": [
    "df.loc[df[\"marital_status\"] == 'WID', \"marital_status\"] = 'NO_REL'"
   ]
  },
  {
   "cell_type": "code",
   "execution_count": 73,
   "id": "53eaf490",
   "metadata": {},
   "outputs": [],
   "source": [
    "ord_enc1 = OrdinalEncoder()\n",
    "ord_enc1 = ord_enc1.fit(df[[\"marital_status\"]])\n",
    "df[\"marital_status\"] = ord_enc1.transform(df[[\"marital_status\"]])"
   ]
  },
  {
   "cell_type": "code",
   "execution_count": 74,
   "id": "988811c9",
   "metadata": {},
   "outputs": [
    {
     "data": {
      "text/plain": [
       "[array(['IN_REL', 'NO_REL'], dtype=object)]"
      ]
     },
     "execution_count": 74,
     "metadata": {},
     "output_type": "execute_result"
    }
   ],
   "source": [
    "ord_enc1.categories_"
   ]
  },
  {
   "cell_type": "code",
   "execution_count": 75,
   "id": "2c2c4f82",
   "metadata": {},
   "outputs": [],
   "source": [
    "ord_enc2 = OrdinalEncoder()\n",
    "ord_enc2 = ord_enc2.fit(df[[\"job_position\"]])\n",
    "ord_enc2.categories_\n",
    "df[\"job_position\"] = ord_enc2.transform(df[[\"job_position\"]])"
   ]
  },
  {
   "cell_type": "code",
   "execution_count": 76,
   "id": "aca23543",
   "metadata": {},
   "outputs": [],
   "source": [
    "df['education'] = np.where((df['education']=='\"SCH\"') | (df['education']=='UGR'), \"NO_EDU\", \"EDU\")"
   ]
  },
  {
   "cell_type": "code",
   "execution_count": 77,
   "id": "f188b953",
   "metadata": {},
   "outputs": [],
   "source": [
    "ord_enc3 = OrdinalEncoder()\n",
    "ord_enc3 = ord_enc3.fit(df[[\"education\"]])\n",
    "ord_enc3.categories_\n",
    "df[\"education\"] = ord_enc3.transform(df[[\"education\"]])"
   ]
  },
  {
   "cell_type": "code",
   "execution_count": 78,
   "id": "54b54c4c",
   "metadata": {},
   "outputs": [
    {
     "data": {
      "text/plain": [
       "[array(['EDU', 'NO_EDU'], dtype=object)]"
      ]
     },
     "execution_count": 78,
     "metadata": {},
     "output_type": "execute_result"
    }
   ],
   "source": [
    "ord_enc3.categories_"
   ]
  },
  {
   "cell_type": "code",
   "execution_count": 79,
   "id": "f272f565",
   "metadata": {},
   "outputs": [],
   "source": [
    "ord_enc4 = OrdinalEncoder()\n",
    "ord_enc4 = ord_enc4.fit(df[[\"Субъект РФ\"]])\n",
    "ord_enc4.categories_\n",
    "df[\"Субъект РФ\"] = ord_enc4.transform(df[[\"Субъект РФ\"]])"
   ]
  },
  {
   "cell_type": "code",
   "execution_count": 80,
   "id": "43dec80c",
   "metadata": {},
   "outputs": [],
   "source": [
    "ord_enc5 = OrdinalEncoder()\n",
    "ord_enc5 = ord_enc5.fit(df[[\"Федеральный округ\"]])\n",
    "ord_enc5.categories_\n",
    "df['Федеральный округ'] = ord_enc5.transform(df[[\"Федеральный округ\"]])"
   ]
  },
  {
   "cell_type": "code",
   "execution_count": 81,
   "id": "73bfbf04",
   "metadata": {},
   "outputs": [
    {
     "data": {
      "text/html": [
       "<div>\n",
       "<style scoped>\n",
       "    .dataframe tbody tr th:only-of-type {\n",
       "        vertical-align: middle;\n",
       "    }\n",
       "\n",
       "    .dataframe tbody tr th {\n",
       "        vertical-align: top;\n",
       "    }\n",
       "\n",
       "    .dataframe thead th {\n",
       "        text-align: right;\n",
       "    }\n",
       "</style>\n",
       "<table border=\"1\" class=\"dataframe\">\n",
       "  <thead>\n",
       "    <tr style=\"text-align: right;\">\n",
       "      <th></th>\n",
       "      <th>client_id</th>\n",
       "      <th>gender</th>\n",
       "      <th>age</th>\n",
       "      <th>marital_status</th>\n",
       "      <th>job_position</th>\n",
       "      <th>credit_sum</th>\n",
       "      <th>credit_month</th>\n",
       "      <th>tariff_id</th>\n",
       "      <th>score_shk</th>\n",
       "      <th>education</th>\n",
       "      <th>monthly_income</th>\n",
       "      <th>credit_count</th>\n",
       "      <th>overdue_credit_count</th>\n",
       "      <th>open_account_flg</th>\n",
       "      <th>Субъект РФ</th>\n",
       "      <th>Расстояние до Москвы, км</th>\n",
       "      <th>Федеральный округ</th>\n",
       "      <th>Плотность населения</th>\n",
       "    </tr>\n",
       "  </thead>\n",
       "  <tbody>\n",
       "    <tr>\n",
       "      <th>0</th>\n",
       "      <td>8</td>\n",
       "      <td>0.0</td>\n",
       "      <td>26.0</td>\n",
       "      <td>1.0</td>\n",
       "      <td>13.0</td>\n",
       "      <td>47878.0</td>\n",
       "      <td>10</td>\n",
       "      <td>1.1</td>\n",
       "      <td>0.512525</td>\n",
       "      <td>0.0</td>\n",
       "      <td>60000.0</td>\n",
       "      <td>3.0</td>\n",
       "      <td>0.0</td>\n",
       "      <td>0</td>\n",
       "      <td>30.0</td>\n",
       "      <td>0.0</td>\n",
       "      <td>6.0</td>\n",
       "      <td>192.087812</td>\n",
       "    </tr>\n",
       "    <tr>\n",
       "      <th>1</th>\n",
       "      <td>10</td>\n",
       "      <td>0.0</td>\n",
       "      <td>32.0</td>\n",
       "      <td>1.0</td>\n",
       "      <td>13.0</td>\n",
       "      <td>26268.0</td>\n",
       "      <td>10</td>\n",
       "      <td>1.1</td>\n",
       "      <td>0.465026</td>\n",
       "      <td>0.0</td>\n",
       "      <td>39500.0</td>\n",
       "      <td>7.0</td>\n",
       "      <td>0.0</td>\n",
       "      <td>0</td>\n",
       "      <td>67.0</td>\n",
       "      <td>1411.0</td>\n",
       "      <td>3.0</td>\n",
       "      <td>43.947899</td>\n",
       "    </tr>\n",
       "    <tr>\n",
       "      <th>2</th>\n",
       "      <td>11</td>\n",
       "      <td>1.0</td>\n",
       "      <td>26.0</td>\n",
       "      <td>0.0</td>\n",
       "      <td>13.0</td>\n",
       "      <td>16793.0</td>\n",
       "      <td>14</td>\n",
       "      <td>1.0</td>\n",
       "      <td>0.445430</td>\n",
       "      <td>0.0</td>\n",
       "      <td>36000.0</td>\n",
       "      <td>2.0</td>\n",
       "      <td>0.0</td>\n",
       "      <td>0</td>\n",
       "      <td>62.0</td>\n",
       "      <td>703.0</td>\n",
       "      <td>2.0</td>\n",
       "      <td>4004.225161</td>\n",
       "    </tr>\n",
       "    <tr>\n",
       "      <th>3</th>\n",
       "      <td>13</td>\n",
       "      <td>1.0</td>\n",
       "      <td>37.0</td>\n",
       "      <td>0.0</td>\n",
       "      <td>13.0</td>\n",
       "      <td>42289.0</td>\n",
       "      <td>10</td>\n",
       "      <td>1.6</td>\n",
       "      <td>0.691609</td>\n",
       "      <td>0.0</td>\n",
       "      <td>70000.0</td>\n",
       "      <td>1.0</td>\n",
       "      <td>0.0</td>\n",
       "      <td>0</td>\n",
       "      <td>2.0</td>\n",
       "      <td>1250.0</td>\n",
       "      <td>2.0</td>\n",
       "      <td>1.729589</td>\n",
       "    </tr>\n",
       "    <tr>\n",
       "      <th>4</th>\n",
       "      <td>14</td>\n",
       "      <td>1.0</td>\n",
       "      <td>43.0</td>\n",
       "      <td>0.0</td>\n",
       "      <td>5.0</td>\n",
       "      <td>57567.0</td>\n",
       "      <td>10</td>\n",
       "      <td>1.1</td>\n",
       "      <td>0.341164</td>\n",
       "      <td>0.0</td>\n",
       "      <td>60000.0</td>\n",
       "      <td>7.0</td>\n",
       "      <td>0.0</td>\n",
       "      <td>0</td>\n",
       "      <td>76.0</td>\n",
       "      <td>2622.0</td>\n",
       "      <td>5.0</td>\n",
       "      <td>3.200218</td>\n",
       "    </tr>\n",
       "  </tbody>\n",
       "</table>\n",
       "</div>"
      ],
      "text/plain": [
       "   client_id  gender   age  marital_status  job_position  credit_sum  \\\n",
       "0          8     0.0  26.0             1.0          13.0     47878.0   \n",
       "1         10     0.0  32.0             1.0          13.0     26268.0   \n",
       "2         11     1.0  26.0             0.0          13.0     16793.0   \n",
       "3         13     1.0  37.0             0.0          13.0     42289.0   \n",
       "4         14     1.0  43.0             0.0           5.0     57567.0   \n",
       "\n",
       "   credit_month  tariff_id  score_shk  education  monthly_income  \\\n",
       "0            10        1.1   0.512525        0.0         60000.0   \n",
       "1            10        1.1   0.465026        0.0         39500.0   \n",
       "2            14        1.0   0.445430        0.0         36000.0   \n",
       "3            10        1.6   0.691609        0.0         70000.0   \n",
       "4            10        1.1   0.341164        0.0         60000.0   \n",
       "\n",
       "   credit_count  overdue_credit_count  open_account_flg  Субъект РФ  \\\n",
       "0           3.0                   0.0                 0        30.0   \n",
       "1           7.0                   0.0                 0        67.0   \n",
       "2           2.0                   0.0                 0        62.0   \n",
       "3           1.0                   0.0                 0         2.0   \n",
       "4           7.0                   0.0                 0        76.0   \n",
       "\n",
       "   Расстояние до Москвы, км  Федеральный округ  Плотность населения  \n",
       "0                       0.0                6.0           192.087812  \n",
       "1                    1411.0                3.0            43.947899  \n",
       "2                     703.0                2.0          4004.225161  \n",
       "3                    1250.0                2.0             1.729589  \n",
       "4                    2622.0                5.0             3.200218  "
      ]
     },
     "execution_count": 81,
     "metadata": {},
     "output_type": "execute_result"
    }
   ],
   "source": [
    "df.head()"
   ]
  },
  {
   "cell_type": "markdown",
   "id": "8289fdb2",
   "metadata": {},
   "source": [
    "# Корреляция."
   ]
  },
  {
   "cell_type": "code",
   "execution_count": 82,
   "id": "01007aae",
   "metadata": {},
   "outputs": [],
   "source": [
    "df_inco = df.drop(['client_id', 'tariff_id', 'Федеральный округ', 'Субъект РФ'], axis=1)"
   ]
  },
  {
   "cell_type": "code",
   "execution_count": 83,
   "id": "61ab6fb4",
   "metadata": {},
   "outputs": [
    {
     "data": {
      "text/html": [
       "<div>\n",
       "<style scoped>\n",
       "    .dataframe tbody tr th:only-of-type {\n",
       "        vertical-align: middle;\n",
       "    }\n",
       "\n",
       "    .dataframe tbody tr th {\n",
       "        vertical-align: top;\n",
       "    }\n",
       "\n",
       "    .dataframe thead th {\n",
       "        text-align: right;\n",
       "    }\n",
       "</style>\n",
       "<table border=\"1\" class=\"dataframe\">\n",
       "  <thead>\n",
       "    <tr style=\"text-align: right;\">\n",
       "      <th></th>\n",
       "      <th>gender</th>\n",
       "      <th>age</th>\n",
       "      <th>marital_status</th>\n",
       "      <th>job_position</th>\n",
       "      <th>credit_sum</th>\n",
       "      <th>credit_month</th>\n",
       "      <th>score_shk</th>\n",
       "      <th>education</th>\n",
       "      <th>monthly_income</th>\n",
       "      <th>credit_count</th>\n",
       "      <th>overdue_credit_count</th>\n",
       "      <th>open_account_flg</th>\n",
       "      <th>Расстояние до Москвы, км</th>\n",
       "      <th>Плотность населения</th>\n",
       "    </tr>\n",
       "  </thead>\n",
       "  <tbody>\n",
       "    <tr>\n",
       "      <th>gender</th>\n",
       "      <td>1.000000</td>\n",
       "      <td>-0.124855</td>\n",
       "      <td>-0.083290</td>\n",
       "      <td>-0.020944</td>\n",
       "      <td>0.027877</td>\n",
       "      <td>0.001860</td>\n",
       "      <td>-0.009565</td>\n",
       "      <td>0.019688</td>\n",
       "      <td>0.237161</td>\n",
       "      <td>-0.013204</td>\n",
       "      <td>0.001551</td>\n",
       "      <td>0.045469</td>\n",
       "      <td>-0.028634</td>\n",
       "      <td>0.022404</td>\n",
       "    </tr>\n",
       "    <tr>\n",
       "      <th>age</th>\n",
       "      <td>-0.124855</td>\n",
       "      <td>1.000000</td>\n",
       "      <td>-0.128533</td>\n",
       "      <td>-0.110707</td>\n",
       "      <td>-0.101367</td>\n",
       "      <td>0.006513</td>\n",
       "      <td>-0.168046</td>\n",
       "      <td>-0.127015</td>\n",
       "      <td>-0.032569</td>\n",
       "      <td>0.156792</td>\n",
       "      <td>0.015848</td>\n",
       "      <td>-0.033652</td>\n",
       "      <td>0.016392</td>\n",
       "      <td>-0.023011</td>\n",
       "    </tr>\n",
       "    <tr>\n",
       "      <th>marital_status</th>\n",
       "      <td>-0.083290</td>\n",
       "      <td>-0.128533</td>\n",
       "      <td>1.000000</td>\n",
       "      <td>0.021989</td>\n",
       "      <td>0.040044</td>\n",
       "      <td>0.001965</td>\n",
       "      <td>0.144999</td>\n",
       "      <td>0.061829</td>\n",
       "      <td>-0.062265</td>\n",
       "      <td>-0.093465</td>\n",
       "      <td>-0.020370</td>\n",
       "      <td>0.065037</td>\n",
       "      <td>0.001628</td>\n",
       "      <td>0.046887</td>\n",
       "    </tr>\n",
       "    <tr>\n",
       "      <th>job_position</th>\n",
       "      <td>-0.020944</td>\n",
       "      <td>-0.110707</td>\n",
       "      <td>0.021989</td>\n",
       "      <td>1.000000</td>\n",
       "      <td>-0.037604</td>\n",
       "      <td>-0.009419</td>\n",
       "      <td>0.000617</td>\n",
       "      <td>0.009987</td>\n",
       "      <td>-0.079493</td>\n",
       "      <td>0.004562</td>\n",
       "      <td>-0.001424</td>\n",
       "      <td>-0.029879</td>\n",
       "      <td>0.004030</td>\n",
       "      <td>0.008001</td>\n",
       "    </tr>\n",
       "    <tr>\n",
       "      <th>credit_sum</th>\n",
       "      <td>0.027877</td>\n",
       "      <td>-0.101367</td>\n",
       "      <td>0.040044</td>\n",
       "      <td>-0.037604</td>\n",
       "      <td>1.000000</td>\n",
       "      <td>0.230509</td>\n",
       "      <td>0.062531</td>\n",
       "      <td>0.021335</td>\n",
       "      <td>0.370635</td>\n",
       "      <td>-0.005891</td>\n",
       "      <td>-0.008627</td>\n",
       "      <td>-0.072193</td>\n",
       "      <td>-0.007224</td>\n",
       "      <td>0.151442</td>\n",
       "    </tr>\n",
       "    <tr>\n",
       "      <th>credit_month</th>\n",
       "      <td>0.001860</td>\n",
       "      <td>0.006513</td>\n",
       "      <td>0.001965</td>\n",
       "      <td>-0.009419</td>\n",
       "      <td>0.230509</td>\n",
       "      <td>1.000000</td>\n",
       "      <td>0.041770</td>\n",
       "      <td>-0.004687</td>\n",
       "      <td>0.006369</td>\n",
       "      <td>0.045706</td>\n",
       "      <td>0.006948</td>\n",
       "      <td>0.024218</td>\n",
       "      <td>0.010157</td>\n",
       "      <td>0.009173</td>\n",
       "    </tr>\n",
       "    <tr>\n",
       "      <th>score_shk</th>\n",
       "      <td>-0.009565</td>\n",
       "      <td>-0.168046</td>\n",
       "      <td>0.144999</td>\n",
       "      <td>0.000617</td>\n",
       "      <td>0.062531</td>\n",
       "      <td>0.041770</td>\n",
       "      <td>1.000000</td>\n",
       "      <td>0.059410</td>\n",
       "      <td>-0.105102</td>\n",
       "      <td>-0.141833</td>\n",
       "      <td>0.155198</td>\n",
       "      <td>0.049515</td>\n",
       "      <td>0.039941</td>\n",
       "      <td>-0.056580</td>\n",
       "    </tr>\n",
       "    <tr>\n",
       "      <th>education</th>\n",
       "      <td>0.019688</td>\n",
       "      <td>-0.127015</td>\n",
       "      <td>0.061829</td>\n",
       "      <td>0.009987</td>\n",
       "      <td>0.021335</td>\n",
       "      <td>-0.004687</td>\n",
       "      <td>0.059410</td>\n",
       "      <td>1.000000</td>\n",
       "      <td>0.030117</td>\n",
       "      <td>-0.034454</td>\n",
       "      <td>-0.007627</td>\n",
       "      <td>0.005707</td>\n",
       "      <td>-0.023952</td>\n",
       "      <td>0.048404</td>\n",
       "    </tr>\n",
       "    <tr>\n",
       "      <th>monthly_income</th>\n",
       "      <td>0.237161</td>\n",
       "      <td>-0.032569</td>\n",
       "      <td>-0.062265</td>\n",
       "      <td>-0.079493</td>\n",
       "      <td>0.370635</td>\n",
       "      <td>0.006369</td>\n",
       "      <td>-0.105102</td>\n",
       "      <td>0.030117</td>\n",
       "      <td>1.000000</td>\n",
       "      <td>0.147607</td>\n",
       "      <td>0.031754</td>\n",
       "      <td>-0.026381</td>\n",
       "      <td>-0.001424</td>\n",
       "      <td>0.261316</td>\n",
       "    </tr>\n",
       "    <tr>\n",
       "      <th>credit_count</th>\n",
       "      <td>-0.013204</td>\n",
       "      <td>0.156792</td>\n",
       "      <td>-0.093465</td>\n",
       "      <td>0.004562</td>\n",
       "      <td>-0.005891</td>\n",
       "      <td>0.045706</td>\n",
       "      <td>-0.141833</td>\n",
       "      <td>-0.034454</td>\n",
       "      <td>0.147607</td>\n",
       "      <td>1.000000</td>\n",
       "      <td>0.179291</td>\n",
       "      <td>-0.010110</td>\n",
       "      <td>0.060619</td>\n",
       "      <td>-0.031624</td>\n",
       "    </tr>\n",
       "    <tr>\n",
       "      <th>overdue_credit_count</th>\n",
       "      <td>0.001551</td>\n",
       "      <td>0.015848</td>\n",
       "      <td>-0.020370</td>\n",
       "      <td>-0.001424</td>\n",
       "      <td>-0.008627</td>\n",
       "      <td>0.006948</td>\n",
       "      <td>0.155198</td>\n",
       "      <td>-0.007627</td>\n",
       "      <td>0.031754</td>\n",
       "      <td>0.179291</td>\n",
       "      <td>1.000000</td>\n",
       "      <td>0.015005</td>\n",
       "      <td>0.019382</td>\n",
       "      <td>-0.000269</td>\n",
       "    </tr>\n",
       "    <tr>\n",
       "      <th>open_account_flg</th>\n",
       "      <td>0.045469</td>\n",
       "      <td>-0.033652</td>\n",
       "      <td>0.065037</td>\n",
       "      <td>-0.029879</td>\n",
       "      <td>-0.072193</td>\n",
       "      <td>0.024218</td>\n",
       "      <td>0.049515</td>\n",
       "      <td>0.005707</td>\n",
       "      <td>-0.026381</td>\n",
       "      <td>-0.010110</td>\n",
       "      <td>0.015005</td>\n",
       "      <td>1.000000</td>\n",
       "      <td>0.032125</td>\n",
       "      <td>0.004764</td>\n",
       "    </tr>\n",
       "    <tr>\n",
       "      <th>Расстояние до Москвы, км</th>\n",
       "      <td>-0.028634</td>\n",
       "      <td>0.016392</td>\n",
       "      <td>0.001628</td>\n",
       "      <td>0.004030</td>\n",
       "      <td>-0.007224</td>\n",
       "      <td>0.010157</td>\n",
       "      <td>0.039941</td>\n",
       "      <td>-0.023952</td>\n",
       "      <td>-0.001424</td>\n",
       "      <td>0.060619</td>\n",
       "      <td>0.019382</td>\n",
       "      <td>0.032125</td>\n",
       "      <td>1.000000</td>\n",
       "      <td>-0.252548</td>\n",
       "    </tr>\n",
       "    <tr>\n",
       "      <th>Плотность населения</th>\n",
       "      <td>0.022404</td>\n",
       "      <td>-0.023011</td>\n",
       "      <td>0.046887</td>\n",
       "      <td>0.008001</td>\n",
       "      <td>0.151442</td>\n",
       "      <td>0.009173</td>\n",
       "      <td>-0.056580</td>\n",
       "      <td>0.048404</td>\n",
       "      <td>0.261316</td>\n",
       "      <td>-0.031624</td>\n",
       "      <td>-0.000269</td>\n",
       "      <td>0.004764</td>\n",
       "      <td>-0.252548</td>\n",
       "      <td>1.000000</td>\n",
       "    </tr>\n",
       "  </tbody>\n",
       "</table>\n",
       "</div>"
      ],
      "text/plain": [
       "                            gender       age  marital_status  job_position  \\\n",
       "gender                    1.000000 -0.124855       -0.083290     -0.020944   \n",
       "age                      -0.124855  1.000000       -0.128533     -0.110707   \n",
       "marital_status           -0.083290 -0.128533        1.000000      0.021989   \n",
       "job_position             -0.020944 -0.110707        0.021989      1.000000   \n",
       "credit_sum                0.027877 -0.101367        0.040044     -0.037604   \n",
       "credit_month              0.001860  0.006513        0.001965     -0.009419   \n",
       "score_shk                -0.009565 -0.168046        0.144999      0.000617   \n",
       "education                 0.019688 -0.127015        0.061829      0.009987   \n",
       "monthly_income            0.237161 -0.032569       -0.062265     -0.079493   \n",
       "credit_count             -0.013204  0.156792       -0.093465      0.004562   \n",
       "overdue_credit_count      0.001551  0.015848       -0.020370     -0.001424   \n",
       "open_account_flg          0.045469 -0.033652        0.065037     -0.029879   \n",
       "Расстояние до Москвы, км -0.028634  0.016392        0.001628      0.004030   \n",
       "Плотность населения       0.022404 -0.023011        0.046887      0.008001   \n",
       "\n",
       "                          credit_sum  credit_month  score_shk  education  \\\n",
       "gender                      0.027877      0.001860  -0.009565   0.019688   \n",
       "age                        -0.101367      0.006513  -0.168046  -0.127015   \n",
       "marital_status              0.040044      0.001965   0.144999   0.061829   \n",
       "job_position               -0.037604     -0.009419   0.000617   0.009987   \n",
       "credit_sum                  1.000000      0.230509   0.062531   0.021335   \n",
       "credit_month                0.230509      1.000000   0.041770  -0.004687   \n",
       "score_shk                   0.062531      0.041770   1.000000   0.059410   \n",
       "education                   0.021335     -0.004687   0.059410   1.000000   \n",
       "monthly_income              0.370635      0.006369  -0.105102   0.030117   \n",
       "credit_count               -0.005891      0.045706  -0.141833  -0.034454   \n",
       "overdue_credit_count       -0.008627      0.006948   0.155198  -0.007627   \n",
       "open_account_flg           -0.072193      0.024218   0.049515   0.005707   \n",
       "Расстояние до Москвы, км   -0.007224      0.010157   0.039941  -0.023952   \n",
       "Плотность населения         0.151442      0.009173  -0.056580   0.048404   \n",
       "\n",
       "                          monthly_income  credit_count  overdue_credit_count  \\\n",
       "gender                          0.237161     -0.013204              0.001551   \n",
       "age                            -0.032569      0.156792              0.015848   \n",
       "marital_status                 -0.062265     -0.093465             -0.020370   \n",
       "job_position                   -0.079493      0.004562             -0.001424   \n",
       "credit_sum                      0.370635     -0.005891             -0.008627   \n",
       "credit_month                    0.006369      0.045706              0.006948   \n",
       "score_shk                      -0.105102     -0.141833              0.155198   \n",
       "education                       0.030117     -0.034454             -0.007627   \n",
       "monthly_income                  1.000000      0.147607              0.031754   \n",
       "credit_count                    0.147607      1.000000              0.179291   \n",
       "overdue_credit_count            0.031754      0.179291              1.000000   \n",
       "open_account_flg               -0.026381     -0.010110              0.015005   \n",
       "Расстояние до Москвы, км       -0.001424      0.060619              0.019382   \n",
       "Плотность населения             0.261316     -0.031624             -0.000269   \n",
       "\n",
       "                          open_account_flg  Расстояние до Москвы, км  \\\n",
       "gender                            0.045469                 -0.028634   \n",
       "age                              -0.033652                  0.016392   \n",
       "marital_status                    0.065037                  0.001628   \n",
       "job_position                     -0.029879                  0.004030   \n",
       "credit_sum                       -0.072193                 -0.007224   \n",
       "credit_month                      0.024218                  0.010157   \n",
       "score_shk                         0.049515                  0.039941   \n",
       "education                         0.005707                 -0.023952   \n",
       "monthly_income                   -0.026381                 -0.001424   \n",
       "credit_count                     -0.010110                  0.060619   \n",
       "overdue_credit_count              0.015005                  0.019382   \n",
       "open_account_flg                  1.000000                  0.032125   \n",
       "Расстояние до Москвы, км          0.032125                  1.000000   \n",
       "Плотность населения               0.004764                 -0.252548   \n",
       "\n",
       "                          Плотность населения  \n",
       "gender                               0.022404  \n",
       "age                                 -0.023011  \n",
       "marital_status                       0.046887  \n",
       "job_position                         0.008001  \n",
       "credit_sum                           0.151442  \n",
       "credit_month                         0.009173  \n",
       "score_shk                           -0.056580  \n",
       "education                            0.048404  \n",
       "monthly_income                       0.261316  \n",
       "credit_count                        -0.031624  \n",
       "overdue_credit_count                -0.000269  \n",
       "open_account_flg                     0.004764  \n",
       "Расстояние до Москвы, км            -0.252548  \n",
       "Плотность населения                  1.000000  "
      ]
     },
     "execution_count": 83,
     "metadata": {},
     "output_type": "execute_result"
    }
   ],
   "source": [
    "corr_matrix = df_inco.corr()\n",
    "corr_matrix"
   ]
  },
  {
   "cell_type": "code",
   "execution_count": 84,
   "id": "5112671d",
   "metadata": {},
   "outputs": [
    {
     "data": {
      "image/png": "[encoded data removed]",
      "text/plain": [
       "<Figure size 1152x720 with 2 Axes>"
      ]
     },
     "metadata": {
      "needs_background": "light"
     },
     "output_type": "display_data"
    }
   ],
   "source": [
    "import matplotlib.pyplot as plt\n",
    "plt.figure(figsize = (16,10))\n",
    "sns.heatmap(corr_matrix, annot=True, fmt='.1g', cmap= 'coolwarm', linewidths=3);"
   ]
  },
  {
   "cell_type": "markdown",
   "id": "c5eb25f7",
   "metadata": {},
   "source": [
    "Ярко выраженных связей не выявлено."
   ]
  },
  {
   "cell_type": "markdown",
   "id": "defa9b02",
   "metadata": {},
   "source": [
    "# Тест на нормальность распределения."
   ]
  },
  {
   "cell_type": "markdown",
   "id": "25c599e9",
   "metadata": {},
   "source": [
    "Тест Шапиро-Уилк"
   ]
  },
  {
   "cell_type": "code",
   "execution_count": 85,
   "id": "a3983041",
   "metadata": {},
   "outputs": [
    {
     "name": "stdout",
     "output_type": "stream",
     "text": [
      "Statistics=0.955, p-value=0.000\n",
      "client_id: 'Отклонить гипотезу о нормальности'\n",
      "Statistics=0.636, p-value=0.000\n",
      "gender: 'Отклонить гипотезу о нормальности'\n",
      "Statistics=0.949, p-value=0.000\n",
      "age: 'Отклонить гипотезу о нормальности'\n",
      "Statistics=0.629, p-value=0.000\n",
      "marital_status: 'Отклонить гипотезу о нормальности'\n",
      "Statistics=0.405, p-value=0.000\n",
      "job_position: 'Отклонить гипотезу о нормальности'\n",
      "Statistics=0.878, p-value=0.000\n",
      "credit_sum: 'Отклонить гипотезу о нормальности'\n",
      "Statistics=0.646, p-value=0.000\n",
      "credit_month: 'Отклонить гипотезу о нормальности'\n",
      "Statistics=0.841, p-value=0.000\n",
      "tariff_id: 'Отклонить гипотезу о нормальности'\n",
      "Statistics=0.994, p-value=0.000\n",
      "score_shk: 'Отклонить гипотезу о нормальности'\n",
      "Statistics=0.248, p-value=0.000\n",
      "education: 'Отклонить гипотезу о нормальности'\n",
      "Statistics=0.903, p-value=0.000\n",
      "monthly_income: 'Отклонить гипотезу о нормальности'\n",
      "Statistics=0.896, p-value=0.000\n",
      "credit_count: 'Отклонить гипотезу о нормальности'\n",
      "Statistics=0.199, p-value=0.000\n",
      "overdue_credit_count: 'Отклонить гипотезу о нормальности'\n",
      "Statistics=0.461, p-value=0.000\n",
      "open_account_flg: 'Отклонить гипотезу о нормальности'\n",
      "Statistics=0.949, p-value=0.000\n",
      "Субъект РФ: 'Отклонить гипотезу о нормальности'\n",
      "Statistics=0.726, p-value=0.000\n",
      "Расстояние до Москвы, км: 'Отклонить гипотезу о нормальности'\n",
      "Statistics=0.883, p-value=0.000\n",
      "Федеральный округ: 'Отклонить гипотезу о нормальности'\n",
      "Statistics=0.378, p-value=0.000\n",
      "Плотность населения: 'Отклонить гипотезу о нормальности'\n"
     ]
    },
    {
     "name": "stderr",
     "output_type": "stream",
     "text": [
      "C:\\Users\\myshk\\anaconda3\\lib\\site-packages\\scipy\\stats\\morestats.py:1760: UserWarning: p-value may not be accurate for N > 5000.\n",
      "  warnings.warn(\"p-value may not be accurate for N > 5000.\")\n"
     ]
    }
   ],
   "source": [
    "from scipy import stats\n",
    "import scipy\n",
    "for a in df.columns:\n",
    "    stat, p = stats.shapiro(df[a])\n",
    "    print('Statistics=%.3f, p-value=%.3f' % (stat, p))\n",
    "\n",
    "    alpha = 0.05\n",
    "    if p > alpha:\n",
    "        print(f\"{a}: 'Принять гипотезу о нормальности'\")\n",
    "    else:\n",
    "        print(f\"{a}: 'Отклонить гипотезу о нормальности'\")"
   ]
  },
  {
   "cell_type": "markdown",
   "id": "aec6485e",
   "metadata": {},
   "source": [
    "Критерий согласия Пирсона"
   ]
  },
  {
   "cell_type": "code",
   "execution_count": 86,
   "id": "c07f8934",
   "metadata": {
    "scrolled": true
   },
   "outputs": [
    {
     "name": "stdout",
     "output_type": "stream",
     "text": [
      "Statistics=148475.720, p-value=0.000\n",
      "client_id: 'Отклонить гипотезу о нормальности'\n",
      "Statistics=571120.503, p-value=0.000\n",
      "gender: 'Отклонить гипотезу о нормальности'\n",
      "Statistics=12233.688, p-value=0.000\n",
      "age: 'Отклонить гипотезу о нормальности'\n",
      "Statistics=601680.170, p-value=0.000\n",
      "marital_status: 'Отклонить гипотезу о нормальности'\n",
      "Statistics=103004.895, p-value=0.000\n",
      "job_position: 'Отклонить гипотезу о нормальности'\n",
      "Statistics=42291.649, p-value=0.000\n",
      "credit_sum: 'Отклонить гипотезу о нормальности'\n",
      "Statistics=98844.128, p-value=0.000\n",
      "credit_month: 'Отклонить гипотезу о нормальности'\n",
      "Statistics=21540.359, p-value=0.000\n",
      "tariff_id: 'Отклонить гипотезу о нормальности'\n",
      "Statistics=2330.188, p-value=0.000\n",
      "score_shk: 'Отклонить гипотезу о нормальности'\n",
      "Statistics=124588.834, p-value=0.000\n",
      "education: 'Отклонить гипотезу о нормальности'\n",
      "Statistics=36708.947, p-value=0.000\n",
      "monthly_income: 'Отклонить гипотезу о нормальности'\n",
      "Statistics=16769.051, p-value=0.000\n",
      "credit_count: 'Отклонить гипотезу о нормальности'\n",
      "Statistics=153255.315, p-value=0.000\n",
      "overdue_credit_count: 'Отклонить гипотезу о нормальности'\n",
      "Statistics=43571.340, p-value=0.000\n",
      "open_account_flg: 'Отклонить гипотезу о нормальности'\n",
      "Statistics=161580.742, p-value=0.000\n",
      "Субъект РФ: 'Отклонить гипотезу о нормальности'\n",
      "Statistics=73160.125, p-value=0.000\n",
      "Расстояние до Москвы, км: 'Отклонить гипотезу о нормальности'\n",
      "Statistics=1006833.598, p-value=0.000\n",
      "Федеральный округ: 'Отклонить гипотезу о нормальности'\n",
      "Statistics=88659.858, p-value=0.000\n",
      "Плотность населения: 'Отклонить гипотезу о нормальности'\n"
     ]
    }
   ],
   "source": [
    "for a in df.columns:\n",
    "    stat, p = stats.normaltest(df[a])\n",
    "    print('Statistics=%.3f, p-value=%.3f' % (stat, p))\n",
    "\n",
    "    alpha = 0.05\n",
    "    if p > alpha:\n",
    "        print(f\"{a}: 'Принять гипотезу о нормальности'\")\n",
    "    else:\n",
    "        print(f\"{a}: 'Отклонить гипотезу о нормальности'\")"
   ]
  },
  {
   "cell_type": "markdown",
   "id": "2072c815",
   "metadata": {},
   "source": [
    "# Масштабировать и стандартизировать данные."
   ]
  },
  {
   "cell_type": "code",
   "execution_count": 87,
   "id": "0d1884bc",
   "metadata": {},
   "outputs": [],
   "source": [
    "from sklearn.preprocessing import StandardScaler, MinMaxScaler\n",
    "scaler = StandardScaler()\n",
    "scalerminmax = MinMaxScaler(feature_range=(-1,1)) \n",
    "scaled_df = scaler.fit_transform(df)"
   ]
  },
  {
   "cell_type": "code",
   "execution_count": 88,
   "id": "18a3e0ac",
   "metadata": {},
   "outputs": [
    {
     "data": {
      "text/plain": [
       "array([[-1.73219845, -0.95968442, -0.98746364, ..., -0.86738459,\n",
       "         0.97189465, -0.22433473],\n",
       "       [-1.73215787, -0.95968442, -0.4189801 , ..., -0.13714206,\n",
       "        -0.32302719, -0.3308517 ],\n",
       "       [-1.73213758,  1.0420092 , -0.98746364, ..., -0.50355717,\n",
       "        -0.75466781,  2.51670448],\n",
       "       ...,\n",
       "       [ 1.73154746, -0.95968442, -0.51372736, ...,  3.88462598,\n",
       "        -1.61794903, -0.35439479],\n",
       "       [ 1.73156775, -0.95968442,  1.57071228, ..., -0.53409176,\n",
       "        -1.18630842, -0.34144808],\n",
       "       [ 1.73158804,  1.0420092 ,  1.19172325, ..., -0.86738459,\n",
       "         0.97189465, -0.22433473]])"
      ]
     },
     "execution_count": 88,
     "metadata": {},
     "output_type": "execute_result"
    }
   ],
   "source": [
    "scaled_df"
   ]
  },
  {
   "cell_type": "code",
   "execution_count": 89,
   "id": "11682f04",
   "metadata": {},
   "outputs": [
    {
     "name": "stderr",
     "output_type": "stream",
     "text": [
      "C:\\Users\\myshk\\anaconda3\\lib\\site-packages\\seaborn\\distributions.py:2619: FutureWarning: `distplot` is a deprecated function and will be removed in a future version. Please adapt your code to use either `displot` (a figure-level function with similar flexibility) or `histplot` (an axes-level function for histograms).\n",
      "  warnings.warn(msg, FutureWarning)\n"
     ]
    },
    {
     "data": {
      "image/png": "[encoded data removed]",
      "text/plain": [
       "<Figure size 432x288 with 1 Axes>"
      ]
     },
     "metadata": {
      "needs_background": "light"
     },
     "output_type": "display_data"
    }
   ],
   "source": [
    "from scipy.stats import norm\n",
    "sns.distplot(scaled_df[:,2], fit=norm, bins = 10);\n",
    "# AGE"
   ]
  },
  {
   "cell_type": "code",
   "execution_count": 90,
   "id": "d9bbbaf1",
   "metadata": {},
   "outputs": [
    {
     "name": "stderr",
     "output_type": "stream",
     "text": [
      "C:\\Users\\myshk\\anaconda3\\lib\\site-packages\\seaborn\\distributions.py:2619: FutureWarning: `distplot` is a deprecated function and will be removed in a future version. Please adapt your code to use either `displot` (a figure-level function with similar flexibility) or `histplot` (an axes-level function for histograms).\n",
      "  warnings.warn(msg, FutureWarning)\n"
     ]
    },
    {
     "data": {
      "image/png": "[encoded data removed]",
      "text/plain": [
       "<Figure size 432x288 with 1 Axes>"
      ]
     },
     "metadata": {
      "needs_background": "light"
     },
     "output_type": "display_data"
    }
   ],
   "source": [
    "from scipy.stats import norm\n",
    "sns.distplot(scaled_df[:,5], fit=norm, bins = 10);\n",
    "# CREDIT_SUM"
   ]
  },
  {
   "cell_type": "code",
   "execution_count": 91,
   "id": "cb3464aa",
   "metadata": {},
   "outputs": [
    {
     "name": "stderr",
     "output_type": "stream",
     "text": [
      "C:\\Users\\myshk\\anaconda3\\lib\\site-packages\\seaborn\\distributions.py:2619: FutureWarning: `distplot` is a deprecated function and will be removed in a future version. Please adapt your code to use either `displot` (a figure-level function with similar flexibility) or `histplot` (an axes-level function for histograms).\n",
      "  warnings.warn(msg, FutureWarning)\n"
     ]
    },
    {
     "data": {
      "image/png": "[encoded data removed]",
      "text/plain": [
       "<Figure size 432x288 with 1 Axes>"
      ]
     },
     "metadata": {
      "needs_background": "light"
     },
     "output_type": "display_data"
    }
   ],
   "source": [
    "from scipy.stats import norm\n",
    "sns.distplot(scaled_df[:,10], fit=norm, bins = 10);\n",
    "# MONTHLY_INCOME"
   ]
  },
  {
   "cell_type": "code",
   "execution_count": 92,
   "id": "a3fa6e89",
   "metadata": {},
   "outputs": [
    {
     "name": "stderr",
     "output_type": "stream",
     "text": [
      "C:\\Users\\myshk\\anaconda3\\lib\\site-packages\\seaborn\\distributions.py:2619: FutureWarning: `distplot` is a deprecated function and will be removed in a future version. Please adapt your code to use either `displot` (a figure-level function with similar flexibility) or `histplot` (an axes-level function for histograms).\n",
      "  warnings.warn(msg, FutureWarning)\n"
     ]
    },
    {
     "data": {
      "image/png": "[encoded data removed]",
      "text/plain": [
       "<Figure size 432x288 with 1 Axes>"
      ]
     },
     "metadata": {
      "needs_background": "light"
     },
     "output_type": "display_data"
    }
   ],
   "source": [
    "from scipy.stats import norm\n",
    "sns.distplot(scaled_df[:,11], fit=norm, bins = 7);\n",
    "# CREDIT_COUNT"
   ]
  },
  {
   "cell_type": "markdown",
   "id": "35b05770",
   "metadata": {},
   "source": [
    "# Разделить данные на тренировочную и тестовую выборку."
   ]
  },
  {
   "cell_type": "code",
   "execution_count": 93,
   "id": "7f92b09f",
   "metadata": {},
   "outputs": [],
   "source": [
    "from sklearn.model_selection import train_test_split\n",
    "\n",
    "y = df.open_account_flg\n",
    "X = df.drop(['open_account_flg'], axis=1)\n",
    "X_train, X_test, y_train, y_test = train_test_split(X, y, \n",
    "                                                    train_size=0.7, \n",
    "                                                    random_state=42, \n",
    "                                                    stratify=y)"
   ]
  }
 ],
 "metadata": {
  "kernelspec": {
   "display_name": "Python 3 (ipykernel)",
   "language": "python",
   "name": "python3"
  },
  "language_info": {
   "codemirror_mode": {
    "name": "ipython",
    "version": 3
   },
   "file_extension": ".py",
   "mimetype": "text/x-python",
   "name": "python",
   "nbconvert_exporter": "python",
   "pygments_lexer": "ipython3",
   "version": "3.9.12"
  }
 },
 "nbformat": 4,
 "nbformat_minor": 5
}
