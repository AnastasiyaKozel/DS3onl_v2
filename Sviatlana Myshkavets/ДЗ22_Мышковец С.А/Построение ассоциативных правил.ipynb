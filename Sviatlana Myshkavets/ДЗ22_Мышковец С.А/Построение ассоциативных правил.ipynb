{
 "cells": [
  {
   "cell_type": "markdown",
   "metadata": {},
   "source": [
    "Мышковец С.А., v.1 10.01.2023\n",
    "\n",
    "Решение задачи:\n",
    "\n",
    "Построение ассоциативных правил для датасета :\n",
    "\n",
    "1. Применение алгоритмов apriori и fpgrowth.\n",
    "2. Применение коллаборативных фильтров.\n",
    "\n",
    "\n",
    "Вывод:\n",
    "    \n",
    "1. Алгоритм apriori от mlxtend (Wall time: 8.82 ms) сработал быстрее, чем apriori от apyori (Wall time: 226 ms (скорее глюк: были случаи 13.6 ms) и алгоритм FP-Growth (Wall time: 17.7 ms ms), хотя документация утверждает обратное. Эти алгоритмы скорее помогают извлечь часто встречаемые позиции для дальнейшего исследования правил ассоциаций. чем предложить применимые на практике рекомендации. На мой взгляд, все они проигрывают в практичности и наглядности более сложными алгоритмам. \n",
    "\n",
    "                                                                                             \n",
    "2. Алгоритм apriori от apyori сработал в 3 раза медленнее (1min 59s) apriori от mlxtend (37.3 ms)  на одинаковых параметрах. Вывод результата плохо читаем, надо дописывать код для извлечения результатов, пригодных для дальнейшего применения.\n",
    "\n",
    "                                                                                             \n",
    "Результаты коллаборативных фильтров:\n",
    "\n",
    "\n",
    "| Method  based on | Recommendations\n",
    "| :----------- | :----------- \n",
    "| На основе ключевых слов (cosine_similarity, new feature engineering)| sandwich loaves, paper towels, eggs, dinner rolls\n",
    "| Для нового покупателя, основанные на предпочтения других покупателей (popularity)| poultry, bagels, lunch meat, ice cream, soda\n",
    "| На схожести покупателей (cosine_similarity) | poultry, bagels, lunch meat, cereals, flour\n",
    "| На схожести товаров (cosine_similarity)| bagels, poultry, flour, cereals, lunch meat\n",
    "| Surprise.SVD | vegetables, lunch meat, waffles, soap, toilet paper\n",
    "| LightFM | fruits, pasta, ice cream, paper towels, spaghetti sauce                                                                                              \\\n",
    "                                                                                             \n",
    "3. Алгоритмы на основе коллаборативных фильтров выдают более информативные рекомендации.\n",
    "            \n",
    "                                                                                             \n",
    "4. Явный недостаток модели Surprise.SVD - отсутсвие 0 предсказаний.\n",
    "                                                                                             \n",
    "                                                                                             \n",
    "5. Модель LightFM явно выделяется своим результатом по сравнению с остальными моделями.                                                                                             \n",
    "                                                                                                                                                        "
   ]
  },
  {
   "cell_type": "markdown",
   "metadata": {},
   "source": [
    "---"
   ]
  },
  {
   "cell_type": "markdown",
   "metadata": {},
   "source": [
    "# Алгоритм  apriori от mlxtend.frequent_patterns"
   ]
  },
  {
   "cell_type": "markdown",
   "metadata": {},
   "source": [
    "Датасет представляет собой информацию о товарах, купленных в магазине. Строка - отдельный чек."
   ]
  },
  {
   "cell_type": "code",
   "execution_count": 13,
   "metadata": {},
   "outputs": [],
   "source": [
    "import pandas as pd\n",
    "import numpy as np \n",
    "import matplotlib.pyplot as plt\n",
    "import seaborn as sns\n",
    "import re\n",
    "from mlxtend.frequent_patterns import apriori\n",
    "from mlxtend.frequent_patterns import association_rules\n",
    "from mlxtend.preprocessing import TransactionEncoder\n",
    "from mpl_toolkits.mplot3d import Axes3D\n",
    "import networkx as nx\n",
    "import collections\n",
    "import warnings\n",
    "warnings.simplefilter(action='ignore', category=Warning)"
   ]
  },
  {
   "cell_type": "markdown",
   "metadata": {},
   "source": [
    "**Загружаем данные.**"
   ]
  },
  {
   "cell_type": "code",
   "execution_count": 2,
   "metadata": {},
   "outputs": [
    {
     "data": {
      "text/html": [
       "<div>\n",
       "<style scoped>\n",
       "    .dataframe tbody tr th:only-of-type {\n",
       "        vertical-align: middle;\n",
       "    }\n",
       "\n",
       "    .dataframe tbody tr th {\n",
       "        vertical-align: top;\n",
       "    }\n",
       "\n",
       "    .dataframe thead th {\n",
       "        text-align: right;\n",
       "    }\n",
       "</style>\n",
       "<table border=\"1\" class=\"dataframe\">\n",
       "  <thead>\n",
       "    <tr style=\"text-align: right;\">\n",
       "      <th></th>\n",
       "      <th>0</th>\n",
       "      <th>1</th>\n",
       "      <th>2</th>\n",
       "      <th>3</th>\n",
       "      <th>4</th>\n",
       "      <th>5</th>\n",
       "      <th>6</th>\n",
       "      <th>7</th>\n",
       "      <th>8</th>\n",
       "      <th>9</th>\n",
       "      <th>10</th>\n",
       "      <th>11</th>\n",
       "      <th>12</th>\n",
       "      <th>13</th>\n",
       "    </tr>\n",
       "  </thead>\n",
       "  <tbody>\n",
       "    <tr>\n",
       "      <th>0</th>\n",
       "      <td>pork</td>\n",
       "      <td>sandwich bags</td>\n",
       "      <td>lunch meat</td>\n",
       "      <td>all- purpose</td>\n",
       "      <td>flour</td>\n",
       "      <td>soda</td>\n",
       "      <td>butter</td>\n",
       "      <td>vegetables</td>\n",
       "      <td>beef</td>\n",
       "      <td>aluminum foil</td>\n",
       "      <td>all- purpose</td>\n",
       "      <td>dinner rolls</td>\n",
       "      <td>shampoo</td>\n",
       "      <td>all- purpose</td>\n",
       "    </tr>\n",
       "    <tr>\n",
       "      <th>1</th>\n",
       "      <td>shampoo</td>\n",
       "      <td>hand soap</td>\n",
       "      <td>waffles</td>\n",
       "      <td>vegetables</td>\n",
       "      <td>cheeses</td>\n",
       "      <td>mixes</td>\n",
       "      <td>milk</td>\n",
       "      <td>sandwich bags</td>\n",
       "      <td>laundry detergent</td>\n",
       "      <td>dishwashing liquid/detergent</td>\n",
       "      <td>waffles</td>\n",
       "      <td>individual meals</td>\n",
       "      <td>hand soap</td>\n",
       "      <td>vegetables</td>\n",
       "    </tr>\n",
       "    <tr>\n",
       "      <th>2</th>\n",
       "      <td>pork</td>\n",
       "      <td>soap</td>\n",
       "      <td>ice cream</td>\n",
       "      <td>toilet paper</td>\n",
       "      <td>dinner rolls</td>\n",
       "      <td>hand soap</td>\n",
       "      <td>spaghetti sauce</td>\n",
       "      <td>milk</td>\n",
       "      <td>ketchup</td>\n",
       "      <td>sandwich loaves</td>\n",
       "      <td>poultry</td>\n",
       "      <td>toilet paper</td>\n",
       "      <td>ice cream</td>\n",
       "      <td>ketchup</td>\n",
       "    </tr>\n",
       "    <tr>\n",
       "      <th>3</th>\n",
       "      <td>juice</td>\n",
       "      <td>lunch meat</td>\n",
       "      <td>soda</td>\n",
       "      <td>toilet paper</td>\n",
       "      <td>all- purpose</td>\n",
       "      <td>NaN</td>\n",
       "      <td>NaN</td>\n",
       "      <td>NaN</td>\n",
       "      <td>NaN</td>\n",
       "      <td>NaN</td>\n",
       "      <td>NaN</td>\n",
       "      <td>NaN</td>\n",
       "      <td>NaN</td>\n",
       "      <td>NaN</td>\n",
       "    </tr>\n",
       "    <tr>\n",
       "      <th>4</th>\n",
       "      <td>pasta</td>\n",
       "      <td>tortillas</td>\n",
       "      <td>mixes</td>\n",
       "      <td>hand soap</td>\n",
       "      <td>toilet paper</td>\n",
       "      <td>vegetables</td>\n",
       "      <td>vegetables</td>\n",
       "      <td>paper towels</td>\n",
       "      <td>vegetables</td>\n",
       "      <td>flour</td>\n",
       "      <td>vegetables</td>\n",
       "      <td>pork</td>\n",
       "      <td>poultry</td>\n",
       "      <td>eggs</td>\n",
       "    </tr>\n",
       "  </tbody>\n",
       "</table>\n",
       "</div>"
      ],
      "text/plain": [
       "        0              1           2             3             4           5   \\\n",
       "0     pork  sandwich bags  lunch meat  all- purpose         flour        soda   \n",
       "1  shampoo      hand soap     waffles    vegetables       cheeses       mixes   \n",
       "2     pork           soap   ice cream  toilet paper  dinner rolls   hand soap   \n",
       "3    juice     lunch meat        soda  toilet paper  all- purpose         NaN   \n",
       "4    pasta      tortillas       mixes     hand soap  toilet paper  vegetables   \n",
       "\n",
       "                6              7                  8   \\\n",
       "0           butter     vegetables               beef   \n",
       "1             milk  sandwich bags  laundry detergent   \n",
       "2  spaghetti sauce           milk            ketchup   \n",
       "3              NaN            NaN                NaN   \n",
       "4       vegetables   paper towels         vegetables   \n",
       "\n",
       "                             9             10                11         12  \\\n",
       "0                 aluminum foil  all- purpose      dinner rolls    shampoo   \n",
       "1  dishwashing liquid/detergent       waffles  individual meals  hand soap   \n",
       "2               sandwich loaves       poultry      toilet paper  ice cream   \n",
       "3                           NaN           NaN               NaN        NaN   \n",
       "4                         flour    vegetables              pork    poultry   \n",
       "\n",
       "             13  \n",
       "0  all- purpose  \n",
       "1    vegetables  \n",
       "2       ketchup  \n",
       "3           NaN  \n",
       "4          eggs  "
      ]
     },
     "metadata": {},
     "output_type": "display_data"
    }
   ],
   "source": [
    "basket = pd.read_csv(\"dataset.csv\", skipinitialspace=True, header=None)\n",
    "display(basket.head())"
   ]
  },
  {
   "cell_type": "markdown",
   "metadata": {},
   "source": [
    "Удаляем пропуски."
   ]
  },
  {
   "cell_type": "code",
   "execution_count": 3,
   "metadata": {},
   "outputs": [],
   "source": [
    "basket = basket.fillna (' ')"
   ]
  },
  {
   "cell_type": "markdown",
   "metadata": {},
   "source": [
    "Объединяем все покупки по чеку в одну ячейку."
   ]
  },
  {
   "cell_type": "code",
   "execution_count": 4,
   "metadata": {},
   "outputs": [
    {
     "data": {
      "text/plain": [
       "Int64Index([0, 1, 2, 3, 4, 5, 6, 7, 8, 9, 10, 11, 12, 13], dtype='int64')"
      ]
     },
     "execution_count": 4,
     "metadata": {},
     "output_type": "execute_result"
    }
   ],
   "source": [
    "basket.columns"
   ]
  },
  {
   "cell_type": "code",
   "execution_count": 5,
   "metadata": {},
   "outputs": [],
   "source": [
    "basket_columns = [0, 1, 2, 3, 4, 5, 6, 7, 8, 9, 10, 11, 12, 13]"
   ]
  },
  {
   "cell_type": "code",
   "execution_count": 6,
   "metadata": {},
   "outputs": [],
   "source": [
    "basket1 = basket[[0, 1, 2, 3, 4, 5, 6, 7, 8, 9, 10, 11, 12, 13]].T.agg(', '.join)"
   ]
  },
  {
   "cell_type": "code",
   "execution_count": 7,
   "metadata": {},
   "outputs": [],
   "source": [
    "basket_new = basket1.to_frame()"
   ]
  },
  {
   "cell_type": "code",
   "execution_count": 8,
   "metadata": {},
   "outputs": [],
   "source": [
    "basket_new = basket_new.rename(columns={0: 'itemDescription'})"
   ]
  },
  {
   "cell_type": "code",
   "execution_count": 9,
   "metadata": {},
   "outputs": [
    {
     "data": {
      "text/plain": [
       "0       pork, sandwich bags, lunch meat, all- purpose,...\n",
       "1       shampoo, hand soap, waffles, vegetables, chees...\n",
       "2       pork, soap, ice cream, toilet paper, dinner ro...\n",
       "3       juice, lunch meat, soda, toilet paper, all- pu...\n",
       "4       pasta, tortillas, mixes, hand soap, toilet pap...\n",
       "                              ...                        \n",
       "1494    beef, sandwich bags, hand soap, paper towels, ...\n",
       "1495    dinner rolls, lunch meat, spaghetti sauce, pas...\n",
       "1496    lunch meat, eggs, poultry, vegetables, tortill...\n",
       "1497    ketchup, milk, poultry, cheeses, soap, toilet ...\n",
       "1498    laundry detergent, vegetables, shampoo, vegeta...\n",
       "Name: itemDescription, Length: 1499, dtype: object"
      ]
     },
     "execution_count": 9,
     "metadata": {},
     "output_type": "execute_result"
    }
   ],
   "source": [
    "basket_new.itemDescription"
   ]
  },
  {
   "cell_type": "code",
   "execution_count": 10,
   "metadata": {},
   "outputs": [
    {
     "data": {
      "text/html": [
       "<div>\n",
       "<style scoped>\n",
       "    .dataframe tbody tr th:only-of-type {\n",
       "        vertical-align: middle;\n",
       "    }\n",
       "\n",
       "    .dataframe tbody tr th {\n",
       "        vertical-align: top;\n",
       "    }\n",
       "\n",
       "    .dataframe thead th {\n",
       "        text-align: right;\n",
       "    }\n",
       "</style>\n",
       "<table border=\"1\" class=\"dataframe\">\n",
       "  <thead>\n",
       "    <tr style=\"text-align: right;\">\n",
       "      <th></th>\n",
       "      <th>itemDescription</th>\n",
       "    </tr>\n",
       "  </thead>\n",
       "  <tbody>\n",
       "    <tr>\n",
       "      <th>0</th>\n",
       "      <td>pork, sandwich bags, lunch meat, all- purpose,...</td>\n",
       "    </tr>\n",
       "    <tr>\n",
       "      <th>1</th>\n",
       "      <td>shampoo, hand soap, waffles, vegetables, chees...</td>\n",
       "    </tr>\n",
       "    <tr>\n",
       "      <th>2</th>\n",
       "      <td>pork, soap, ice cream, toilet paper, dinner ro...</td>\n",
       "    </tr>\n",
       "    <tr>\n",
       "      <th>3</th>\n",
       "      <td>juice, lunch meat, soda, toilet paper, all- pu...</td>\n",
       "    </tr>\n",
       "    <tr>\n",
       "      <th>4</th>\n",
       "      <td>pasta, tortillas, mixes, hand soap, toilet pap...</td>\n",
       "    </tr>\n",
       "    <tr>\n",
       "      <th>...</th>\n",
       "      <td>...</td>\n",
       "    </tr>\n",
       "    <tr>\n",
       "      <th>1494</th>\n",
       "      <td>beef, sandwich bags, hand soap, paper towels, ...</td>\n",
       "    </tr>\n",
       "    <tr>\n",
       "      <th>1495</th>\n",
       "      <td>dinner rolls, lunch meat, spaghetti sauce, pas...</td>\n",
       "    </tr>\n",
       "    <tr>\n",
       "      <th>1496</th>\n",
       "      <td>lunch meat, eggs, poultry, vegetables, tortill...</td>\n",
       "    </tr>\n",
       "    <tr>\n",
       "      <th>1497</th>\n",
       "      <td>ketchup, milk, poultry, cheeses, soap, toilet ...</td>\n",
       "    </tr>\n",
       "    <tr>\n",
       "      <th>1498</th>\n",
       "      <td>laundry detergent, vegetables, shampoo, vegeta...</td>\n",
       "    </tr>\n",
       "  </tbody>\n",
       "</table>\n",
       "<p>1499 rows × 1 columns</p>\n",
       "</div>"
      ],
      "text/plain": [
       "                                        itemDescription\n",
       "0     pork, sandwich bags, lunch meat, all- purpose,...\n",
       "1     shampoo, hand soap, waffles, vegetables, chees...\n",
       "2     pork, soap, ice cream, toilet paper, dinner ro...\n",
       "3     juice, lunch meat, soda, toilet paper, all- pu...\n",
       "4     pasta, tortillas, mixes, hand soap, toilet pap...\n",
       "...                                                 ...\n",
       "1494  beef, sandwich bags, hand soap, paper towels, ...\n",
       "1495  dinner rolls, lunch meat, spaghetti sauce, pas...\n",
       "1496  lunch meat, eggs, poultry, vegetables, tortill...\n",
       "1497  ketchup, milk, poultry, cheeses, soap, toilet ...\n",
       "1498  laundry detergent, vegetables, shampoo, vegeta...\n",
       "\n",
       "[1499 rows x 1 columns]"
      ]
     },
     "execution_count": 10,
     "metadata": {},
     "output_type": "execute_result"
    }
   ],
   "source": [
    "basket_new"
   ]
  },
  {
   "cell_type": "markdown",
   "metadata": {},
   "source": [
    "С помощью TransactionEncoder закодируем транзакции в формат, подходящий для функции  apriori."
   ]
  },
  {
   "cell_type": "code",
   "execution_count": 11,
   "metadata": {},
   "outputs": [],
   "source": [
    "basket_new.itemDescription = basket_new.itemDescription.transform(lambda x: x.split(\", \"))"
   ]
  },
  {
   "cell_type": "code",
   "execution_count": 12,
   "metadata": {},
   "outputs": [],
   "source": [
    "basket = basket_new.itemDescription"
   ]
  },
  {
   "cell_type": "code",
   "execution_count": 13,
   "metadata": {},
   "outputs": [
    {
     "data": {
      "text/plain": [
       "['pork',\n",
       " 'sandwich bags',\n",
       " 'lunch meat',\n",
       " 'all- purpose',\n",
       " 'flour',\n",
       " 'soda',\n",
       " 'butter',\n",
       " 'vegetables',\n",
       " 'beef',\n",
       " 'aluminum foil',\n",
       " 'all- purpose',\n",
       " 'dinner rolls',\n",
       " 'shampoo',\n",
       " 'all- purpose']"
      ]
     },
     "execution_count": 13,
     "metadata": {},
     "output_type": "execute_result"
    }
   ],
   "source": [
    "basket[0]"
   ]
  },
  {
   "cell_type": "code",
   "execution_count": 14,
   "metadata": {},
   "outputs": [
    {
     "data": {
      "text/html": [
       "<div>\n",
       "<style scoped>\n",
       "    .dataframe tbody tr th:only-of-type {\n",
       "        vertical-align: middle;\n",
       "    }\n",
       "\n",
       "    .dataframe tbody tr th {\n",
       "        vertical-align: top;\n",
       "    }\n",
       "\n",
       "    .dataframe thead th {\n",
       "        text-align: right;\n",
       "    }\n",
       "</style>\n",
       "<table border=\"1\" class=\"dataframe\">\n",
       "  <thead>\n",
       "    <tr style=\"text-align: right;\">\n",
       "      <th></th>\n",
       "      <th></th>\n",
       "      <th>all- purpose</th>\n",
       "      <th>aluminum foil</th>\n",
       "      <th>bagels</th>\n",
       "      <th>beef</th>\n",
       "      <th>butter</th>\n",
       "      <th>cereals</th>\n",
       "      <th>cheeses</th>\n",
       "      <th>coffee/tea</th>\n",
       "      <th>dinner rolls</th>\n",
       "      <th>...</th>\n",
       "      <th>shampoo</th>\n",
       "      <th>soap</th>\n",
       "      <th>soda</th>\n",
       "      <th>spaghetti sauce</th>\n",
       "      <th>sugar</th>\n",
       "      <th>toilet paper</th>\n",
       "      <th>tortillas</th>\n",
       "      <th>vegetables</th>\n",
       "      <th>waffles</th>\n",
       "      <th>yogurt</th>\n",
       "    </tr>\n",
       "  </thead>\n",
       "  <tbody>\n",
       "    <tr>\n",
       "      <th>0</th>\n",
       "      <td>False</td>\n",
       "      <td>True</td>\n",
       "      <td>True</td>\n",
       "      <td>False</td>\n",
       "      <td>True</td>\n",
       "      <td>True</td>\n",
       "      <td>False</td>\n",
       "      <td>False</td>\n",
       "      <td>False</td>\n",
       "      <td>True</td>\n",
       "      <td>...</td>\n",
       "      <td>True</td>\n",
       "      <td>False</td>\n",
       "      <td>True</td>\n",
       "      <td>False</td>\n",
       "      <td>False</td>\n",
       "      <td>False</td>\n",
       "      <td>False</td>\n",
       "      <td>True</td>\n",
       "      <td>False</td>\n",
       "      <td>False</td>\n",
       "    </tr>\n",
       "    <tr>\n",
       "      <th>1</th>\n",
       "      <td>False</td>\n",
       "      <td>False</td>\n",
       "      <td>False</td>\n",
       "      <td>False</td>\n",
       "      <td>False</td>\n",
       "      <td>False</td>\n",
       "      <td>False</td>\n",
       "      <td>True</td>\n",
       "      <td>False</td>\n",
       "      <td>False</td>\n",
       "      <td>...</td>\n",
       "      <td>True</td>\n",
       "      <td>False</td>\n",
       "      <td>False</td>\n",
       "      <td>False</td>\n",
       "      <td>False</td>\n",
       "      <td>False</td>\n",
       "      <td>False</td>\n",
       "      <td>True</td>\n",
       "      <td>True</td>\n",
       "      <td>False</td>\n",
       "    </tr>\n",
       "    <tr>\n",
       "      <th>2</th>\n",
       "      <td>False</td>\n",
       "      <td>False</td>\n",
       "      <td>False</td>\n",
       "      <td>False</td>\n",
       "      <td>False</td>\n",
       "      <td>False</td>\n",
       "      <td>False</td>\n",
       "      <td>False</td>\n",
       "      <td>False</td>\n",
       "      <td>True</td>\n",
       "      <td>...</td>\n",
       "      <td>False</td>\n",
       "      <td>True</td>\n",
       "      <td>False</td>\n",
       "      <td>True</td>\n",
       "      <td>False</td>\n",
       "      <td>True</td>\n",
       "      <td>False</td>\n",
       "      <td>False</td>\n",
       "      <td>False</td>\n",
       "      <td>False</td>\n",
       "    </tr>\n",
       "    <tr>\n",
       "      <th>3</th>\n",
       "      <td>True</td>\n",
       "      <td>True</td>\n",
       "      <td>False</td>\n",
       "      <td>False</td>\n",
       "      <td>False</td>\n",
       "      <td>False</td>\n",
       "      <td>False</td>\n",
       "      <td>False</td>\n",
       "      <td>False</td>\n",
       "      <td>False</td>\n",
       "      <td>...</td>\n",
       "      <td>False</td>\n",
       "      <td>False</td>\n",
       "      <td>True</td>\n",
       "      <td>False</td>\n",
       "      <td>False</td>\n",
       "      <td>True</td>\n",
       "      <td>False</td>\n",
       "      <td>False</td>\n",
       "      <td>False</td>\n",
       "      <td>False</td>\n",
       "    </tr>\n",
       "    <tr>\n",
       "      <th>4</th>\n",
       "      <td>False</td>\n",
       "      <td>False</td>\n",
       "      <td>False</td>\n",
       "      <td>False</td>\n",
       "      <td>False</td>\n",
       "      <td>False</td>\n",
       "      <td>False</td>\n",
       "      <td>False</td>\n",
       "      <td>False</td>\n",
       "      <td>False</td>\n",
       "      <td>...</td>\n",
       "      <td>False</td>\n",
       "      <td>False</td>\n",
       "      <td>False</td>\n",
       "      <td>False</td>\n",
       "      <td>False</td>\n",
       "      <td>True</td>\n",
       "      <td>True</td>\n",
       "      <td>True</td>\n",
       "      <td>False</td>\n",
       "      <td>False</td>\n",
       "    </tr>\n",
       "  </tbody>\n",
       "</table>\n",
       "<p>5 rows × 39 columns</p>\n",
       "</div>"
      ],
      "text/plain": [
       "          all- purpose  aluminum foil  bagels   beef  butter  cereals  \\\n",
       "0  False          True           True   False   True    True    False   \n",
       "1  False         False          False   False  False   False    False   \n",
       "2  False         False          False   False  False   False    False   \n",
       "3   True          True          False   False  False   False    False   \n",
       "4  False         False          False   False  False   False    False   \n",
       "\n",
       "   cheeses  coffee/tea  dinner rolls  ...  shampoo   soap   soda  \\\n",
       "0    False       False          True  ...     True  False   True   \n",
       "1     True       False         False  ...     True  False  False   \n",
       "2    False       False          True  ...    False   True  False   \n",
       "3    False       False         False  ...    False  False   True   \n",
       "4    False       False         False  ...    False  False  False   \n",
       "\n",
       "   spaghetti sauce  sugar  toilet paper  tortillas  vegetables  waffles  \\\n",
       "0            False  False         False      False        True    False   \n",
       "1            False  False         False      False        True     True   \n",
       "2             True  False          True      False       False    False   \n",
       "3            False  False          True      False       False    False   \n",
       "4            False  False          True       True        True    False   \n",
       "\n",
       "   yogurt  \n",
       "0   False  \n",
       "1   False  \n",
       "2   False  \n",
       "3   False  \n",
       "4   False  \n",
       "\n",
       "[5 rows x 39 columns]"
      ]
     },
     "metadata": {},
     "output_type": "display_data"
    }
   ],
   "source": [
    "encoder = TransactionEncoder()\n",
    "transactions = pd.DataFrame(encoder.fit(basket).transform(basket), columns=encoder.columns_)\n",
    "display(transactions.head())"
   ]
  },
  {
   "cell_type": "code",
   "execution_count": 15,
   "metadata": {},
   "outputs": [
    {
     "data": {
      "text/plain": [
       "Index([' ', 'all- purpose', 'aluminum foil', 'bagels', 'beef', 'butter',\n",
       "       'cereals', 'cheeses', 'coffee/tea', 'dinner rolls',\n",
       "       'dishwashing liquid/detergent', 'eggs', 'flour', 'fruits', 'hand soap',\n",
       "       'ice cream', 'individual meals', 'juice', 'ketchup',\n",
       "       'laundry detergent', 'lunch meat', 'milk', 'mixes', 'paper towels',\n",
       "       'pasta', 'pork', 'poultry', 'sandwich bags', 'sandwich loaves',\n",
       "       'shampoo', 'soap', 'soda', 'spaghetti sauce', 'sugar', 'toilet paper',\n",
       "       'tortillas', 'vegetables', 'waffles', 'yogurt'],\n",
       "      dtype='object')"
      ]
     },
     "execution_count": 15,
     "metadata": {},
     "output_type": "execute_result"
    }
   ],
   "source": [
    "transactions.columns"
   ]
  },
  {
   "cell_type": "markdown",
   "metadata": {},
   "source": [
    "Примечание: датафрейм записывает каждую строку как транзакцию, а товары, которые были куплены в ходе транзакции, будут записаны как True."
   ]
  },
  {
   "cell_type": "markdown",
   "metadata": {},
   "source": [
    "Удаляем столбец с пустыми полями."
   ]
  },
  {
   "cell_type": "code",
   "execution_count": 16,
   "metadata": {},
   "outputs": [],
   "source": [
    "transactions = transactions.drop(' ' , axis=1)"
   ]
  },
  {
   "cell_type": "markdown",
   "metadata": {},
   "source": [
    "Алгоритм Apriori будет использоваться для генерации частых наборов элементов. Зададаем минимальную поддержку в размере 4 из общего числа транзакций. Генерируем правила ассоциаций, и отфильтровываем значения Lift > 1,15.\n",
    "Эти параметры подобраны опытным путем. Более высокие пороги не дают результатов. Лифт можно увеличить, увеличив максимальную длину, но практичность результатов сразу падает. Датасет не подходит для целей рекомендаций этим способом."
   ]
  },
  {
   "cell_type": "code",
   "execution_count": 17,
   "metadata": {},
   "outputs": [
    {
     "data": {
      "text/html": [
       "<div>\n",
       "<style scoped>\n",
       "    .dataframe tbody tr th:only-of-type {\n",
       "        vertical-align: middle;\n",
       "    }\n",
       "\n",
       "    .dataframe tbody tr th {\n",
       "        vertical-align: top;\n",
       "    }\n",
       "\n",
       "    .dataframe thead th {\n",
       "        text-align: right;\n",
       "    }\n",
       "</style>\n",
       "<table border=\"1\" class=\"dataframe\">\n",
       "  <thead>\n",
       "    <tr style=\"text-align: right;\">\n",
       "      <th></th>\n",
       "      <th>antecedents</th>\n",
       "      <th>consequents</th>\n",
       "      <th>antecedent support</th>\n",
       "      <th>consequent support</th>\n",
       "      <th>support</th>\n",
       "      <th>confidence</th>\n",
       "      <th>lift</th>\n",
       "      <th>leverage</th>\n",
       "      <th>conviction</th>\n",
       "    </tr>\n",
       "  </thead>\n",
       "  <tbody>\n",
       "    <tr>\n",
       "      <th>0</th>\n",
       "      <td>(all- purpose)</td>\n",
       "      <td>(fruits)</td>\n",
       "      <td>0.263509</td>\n",
       "      <td>0.263509</td>\n",
       "      <td>0.080720</td>\n",
       "      <td>0.306329</td>\n",
       "      <td>1.162500</td>\n",
       "      <td>0.011283</td>\n",
       "      <td>1.061730</td>\n",
       "    </tr>\n",
       "    <tr>\n",
       "      <th>1</th>\n",
       "      <td>(fruits)</td>\n",
       "      <td>(all- purpose)</td>\n",
       "      <td>0.263509</td>\n",
       "      <td>0.263509</td>\n",
       "      <td>0.080720</td>\n",
       "      <td>0.306329</td>\n",
       "      <td>1.162500</td>\n",
       "      <td>0.011283</td>\n",
       "      <td>1.061730</td>\n",
       "    </tr>\n",
       "    <tr>\n",
       "      <th>2</th>\n",
       "      <td>(sandwich loaves)</td>\n",
       "      <td>(butter)</td>\n",
       "      <td>0.248833</td>\n",
       "      <td>0.261508</td>\n",
       "      <td>0.078719</td>\n",
       "      <td>0.316354</td>\n",
       "      <td>1.209731</td>\n",
       "      <td>0.013648</td>\n",
       "      <td>1.080226</td>\n",
       "    </tr>\n",
       "    <tr>\n",
       "      <th>3</th>\n",
       "      <td>(butter)</td>\n",
       "      <td>(sandwich loaves)</td>\n",
       "      <td>0.261508</td>\n",
       "      <td>0.248833</td>\n",
       "      <td>0.078719</td>\n",
       "      <td>0.301020</td>\n",
       "      <td>1.209731</td>\n",
       "      <td>0.013648</td>\n",
       "      <td>1.074663</td>\n",
       "    </tr>\n",
       "    <tr>\n",
       "      <th>4</th>\n",
       "      <td>(cheeses)</td>\n",
       "      <td>(sandwich bags)</td>\n",
       "      <td>0.260173</td>\n",
       "      <td>0.250167</td>\n",
       "      <td>0.075384</td>\n",
       "      <td>0.289744</td>\n",
       "      <td>1.158202</td>\n",
       "      <td>0.010297</td>\n",
       "      <td>1.055722</td>\n",
       "    </tr>\n",
       "    <tr>\n",
       "      <th>5</th>\n",
       "      <td>(sandwich bags)</td>\n",
       "      <td>(cheeses)</td>\n",
       "      <td>0.250167</td>\n",
       "      <td>0.260173</td>\n",
       "      <td>0.075384</td>\n",
       "      <td>0.301333</td>\n",
       "      <td>1.158202</td>\n",
       "      <td>0.010297</td>\n",
       "      <td>1.058912</td>\n",
       "    </tr>\n",
       "    <tr>\n",
       "      <th>6</th>\n",
       "      <td>(dishwashing liquid/detergent)</td>\n",
       "      <td>(fruits)</td>\n",
       "      <td>0.268179</td>\n",
       "      <td>0.263509</td>\n",
       "      <td>0.084056</td>\n",
       "      <td>0.313433</td>\n",
       "      <td>1.189458</td>\n",
       "      <td>0.013389</td>\n",
       "      <td>1.072715</td>\n",
       "    </tr>\n",
       "    <tr>\n",
       "      <th>7</th>\n",
       "      <td>(fruits)</td>\n",
       "      <td>(dishwashing liquid/detergent)</td>\n",
       "      <td>0.263509</td>\n",
       "      <td>0.268179</td>\n",
       "      <td>0.084056</td>\n",
       "      <td>0.318987</td>\n",
       "      <td>1.189458</td>\n",
       "      <td>0.013389</td>\n",
       "      <td>1.074607</td>\n",
       "    </tr>\n",
       "    <tr>\n",
       "      <th>8</th>\n",
       "      <td>(dishwashing liquid/detergent)</td>\n",
       "      <td>(individual meals)</td>\n",
       "      <td>0.268179</td>\n",
       "      <td>0.271514</td>\n",
       "      <td>0.084056</td>\n",
       "      <td>0.313433</td>\n",
       "      <td>1.154388</td>\n",
       "      <td>0.011242</td>\n",
       "      <td>1.061055</td>\n",
       "    </tr>\n",
       "    <tr>\n",
       "      <th>9</th>\n",
       "      <td>(individual meals)</td>\n",
       "      <td>(dishwashing liquid/detergent)</td>\n",
       "      <td>0.271514</td>\n",
       "      <td>0.268179</td>\n",
       "      <td>0.084056</td>\n",
       "      <td>0.309582</td>\n",
       "      <td>1.154388</td>\n",
       "      <td>0.011242</td>\n",
       "      <td>1.059969</td>\n",
       "    </tr>\n",
       "    <tr>\n",
       "      <th>10</th>\n",
       "      <td>(hand soap)</td>\n",
       "      <td>(mixes)</td>\n",
       "      <td>0.237492</td>\n",
       "      <td>0.273516</td>\n",
       "      <td>0.076051</td>\n",
       "      <td>0.320225</td>\n",
       "      <td>1.170773</td>\n",
       "      <td>0.011093</td>\n",
       "      <td>1.068712</td>\n",
       "    </tr>\n",
       "    <tr>\n",
       "      <th>11</th>\n",
       "      <td>(mixes)</td>\n",
       "      <td>(hand soap)</td>\n",
       "      <td>0.273516</td>\n",
       "      <td>0.237492</td>\n",
       "      <td>0.076051</td>\n",
       "      <td>0.278049</td>\n",
       "      <td>1.170773</td>\n",
       "      <td>0.011093</td>\n",
       "      <td>1.056177</td>\n",
       "    </tr>\n",
       "    <tr>\n",
       "      <th>12</th>\n",
       "      <td>(ketchup)</td>\n",
       "      <td>(soap)</td>\n",
       "      <td>0.250167</td>\n",
       "      <td>0.265510</td>\n",
       "      <td>0.077385</td>\n",
       "      <td>0.309333</td>\n",
       "      <td>1.165052</td>\n",
       "      <td>0.010963</td>\n",
       "      <td>1.063450</td>\n",
       "    </tr>\n",
       "    <tr>\n",
       "      <th>13</th>\n",
       "      <td>(soap)</td>\n",
       "      <td>(ketchup)</td>\n",
       "      <td>0.265510</td>\n",
       "      <td>0.250167</td>\n",
       "      <td>0.077385</td>\n",
       "      <td>0.291457</td>\n",
       "      <td>1.165052</td>\n",
       "      <td>0.010963</td>\n",
       "      <td>1.058275</td>\n",
       "    </tr>\n",
       "    <tr>\n",
       "      <th>14</th>\n",
       "      <td>(sandwich loaves)</td>\n",
       "      <td>(shampoo)</td>\n",
       "      <td>0.248833</td>\n",
       "      <td>0.248165</td>\n",
       "      <td>0.071381</td>\n",
       "      <td>0.286863</td>\n",
       "      <td>1.155936</td>\n",
       "      <td>0.009629</td>\n",
       "      <td>1.054264</td>\n",
       "    </tr>\n",
       "    <tr>\n",
       "      <th>15</th>\n",
       "      <td>(shampoo)</td>\n",
       "      <td>(sandwich loaves)</td>\n",
       "      <td>0.248165</td>\n",
       "      <td>0.248833</td>\n",
       "      <td>0.071381</td>\n",
       "      <td>0.287634</td>\n",
       "      <td>1.155936</td>\n",
       "      <td>0.009629</td>\n",
       "      <td>1.054469</td>\n",
       "    </tr>\n",
       "  </tbody>\n",
       "</table>\n",
       "</div>"
      ],
      "text/plain": [
       "                       antecedents                     consequents  \\\n",
       "0                   (all- purpose)                        (fruits)   \n",
       "1                         (fruits)                  (all- purpose)   \n",
       "2                (sandwich loaves)                        (butter)   \n",
       "3                         (butter)               (sandwich loaves)   \n",
       "4                        (cheeses)                 (sandwich bags)   \n",
       "5                  (sandwich bags)                       (cheeses)   \n",
       "6   (dishwashing liquid/detergent)                        (fruits)   \n",
       "7                         (fruits)  (dishwashing liquid/detergent)   \n",
       "8   (dishwashing liquid/detergent)              (individual meals)   \n",
       "9               (individual meals)  (dishwashing liquid/detergent)   \n",
       "10                     (hand soap)                         (mixes)   \n",
       "11                         (mixes)                     (hand soap)   \n",
       "12                       (ketchup)                          (soap)   \n",
       "13                          (soap)                       (ketchup)   \n",
       "14               (sandwich loaves)                       (shampoo)   \n",
       "15                       (shampoo)               (sandwich loaves)   \n",
       "\n",
       "    antecedent support  consequent support   support  confidence      lift  \\\n",
       "0             0.263509            0.263509  0.080720    0.306329  1.162500   \n",
       "1             0.263509            0.263509  0.080720    0.306329  1.162500   \n",
       "2             0.248833            0.261508  0.078719    0.316354  1.209731   \n",
       "3             0.261508            0.248833  0.078719    0.301020  1.209731   \n",
       "4             0.260173            0.250167  0.075384    0.289744  1.158202   \n",
       "5             0.250167            0.260173  0.075384    0.301333  1.158202   \n",
       "6             0.268179            0.263509  0.084056    0.313433  1.189458   \n",
       "7             0.263509            0.268179  0.084056    0.318987  1.189458   \n",
       "8             0.268179            0.271514  0.084056    0.313433  1.154388   \n",
       "9             0.271514            0.268179  0.084056    0.309582  1.154388   \n",
       "10            0.237492            0.273516  0.076051    0.320225  1.170773   \n",
       "11            0.273516            0.237492  0.076051    0.278049  1.170773   \n",
       "12            0.250167            0.265510  0.077385    0.309333  1.165052   \n",
       "13            0.265510            0.250167  0.077385    0.291457  1.165052   \n",
       "14            0.248833            0.248165  0.071381    0.286863  1.155936   \n",
       "15            0.248165            0.248833  0.071381    0.287634  1.155936   \n",
       "\n",
       "    leverage  conviction  \n",
       "0   0.011283    1.061730  \n",
       "1   0.011283    1.061730  \n",
       "2   0.013648    1.080226  \n",
       "3   0.013648    1.074663  \n",
       "4   0.010297    1.055722  \n",
       "5   0.010297    1.058912  \n",
       "6   0.013389    1.072715  \n",
       "7   0.013389    1.074607  \n",
       "8   0.011242    1.061055  \n",
       "9   0.011242    1.059969  \n",
       "10  0.011093    1.068712  \n",
       "11  0.011093    1.056177  \n",
       "12  0.010963    1.063450  \n",
       "13  0.010963    1.058275  \n",
       "14  0.009629    1.054264  \n",
       "15  0.009629    1.054469  "
      ]
     },
     "metadata": {},
     "output_type": "display_data"
    },
    {
     "name": "stdout",
     "output_type": "stream",
     "text": [
      "Rules identified:  16\n",
      "CPU times: user 31.4 ms, sys: 3.74 ms, total: 35.2 ms\n",
      "Wall time: 33.6 ms\n"
     ]
    }
   ],
   "source": [
    "%%time\n",
    "\n",
    "frequent_itemsets = apriori(transactions, min_support= 4/len(basket), use_colnames=True, max_len = 2)\n",
    "rules = association_rules(frequent_itemsets, metric=\"lift\",  min_threshold = 1.15)\n",
    "display(rules.head(20))\n",
    "print(\"Rules identified: \", len(rules))"
   ]
  },
  {
   "cell_type": "markdown",
   "metadata": {},
   "source": [
    "Выясним быстродействие на минимальной подержке 0.5. Ниже можно найти аналогичные данные в других реализациях алгоритма."
   ]
  },
  {
   "cell_type": "code",
   "execution_count": 18,
   "metadata": {},
   "outputs": [
    {
     "name": "stdout",
     "output_type": "stream",
     "text": [
      "CPU times: user 7.59 ms, sys: 644 µs, total: 8.24 ms\n",
      "Wall time: 7.87 ms\n"
     ]
    },
    {
     "data": {
      "text/html": [
       "<div>\n",
       "<style scoped>\n",
       "    .dataframe tbody tr th:only-of-type {\n",
       "        vertical-align: middle;\n",
       "    }\n",
       "\n",
       "    .dataframe tbody tr th {\n",
       "        vertical-align: top;\n",
       "    }\n",
       "\n",
       "    .dataframe thead th {\n",
       "        text-align: right;\n",
       "    }\n",
       "</style>\n",
       "<table border=\"1\" class=\"dataframe\">\n",
       "  <thead>\n",
       "    <tr style=\"text-align: right;\">\n",
       "      <th></th>\n",
       "      <th>support</th>\n",
       "      <th>itemsets</th>\n",
       "    </tr>\n",
       "  </thead>\n",
       "  <tbody>\n",
       "    <tr>\n",
       "      <th>0</th>\n",
       "      <td>0.597065</td>\n",
       "      <td>(35)</td>\n",
       "    </tr>\n",
       "  </tbody>\n",
       "</table>\n",
       "</div>"
      ],
      "text/plain": [
       "    support itemsets\n",
       "0  0.597065     (35)"
      ]
     },
     "execution_count": 18,
     "metadata": {},
     "output_type": "execute_result"
    }
   ],
   "source": [
    "%%time\n",
    "\n",
    "apriori(transactions, min_support=0.5, low_memory=True)"
   ]
  },
  {
   "cell_type": "markdown",
   "metadata": {},
   "source": [
    "Выясним быстродействие на минимальной подержке 0.27. "
   ]
  },
  {
   "cell_type": "code",
   "execution_count": 19,
   "metadata": {},
   "outputs": [
    {
     "name": "stdout",
     "output_type": "stream",
     "text": [
      "CPU times: user 9.13 ms, sys: 3.31 ms, total: 12.4 ms\n",
      "Wall time: 10.6 ms\n"
     ]
    },
    {
     "data": {
      "text/html": [
       "<div>\n",
       "<style scoped>\n",
       "    .dataframe tbody tr th:only-of-type {\n",
       "        vertical-align: middle;\n",
       "    }\n",
       "\n",
       "    .dataframe tbody tr th {\n",
       "        vertical-align: top;\n",
       "    }\n",
       "\n",
       "    .dataframe thead th {\n",
       "        text-align: right;\n",
       "    }\n",
       "</style>\n",
       "<table border=\"1\" class=\"dataframe\">\n",
       "  <thead>\n",
       "    <tr style=\"text-align: right;\">\n",
       "      <th></th>\n",
       "      <th>support</th>\n",
       "      <th>itemsets</th>\n",
       "    </tr>\n",
       "  </thead>\n",
       "  <tbody>\n",
       "    <tr>\n",
       "      <th>0</th>\n",
       "      <td>0.278185</td>\n",
       "      <td>(2)</td>\n",
       "    </tr>\n",
       "    <tr>\n",
       "      <th>1</th>\n",
       "      <td>0.273516</td>\n",
       "      <td>(5)</td>\n",
       "    </tr>\n",
       "    <tr>\n",
       "      <th>2</th>\n",
       "      <td>0.274850</td>\n",
       "      <td>(14)</td>\n",
       "    </tr>\n",
       "    <tr>\n",
       "      <th>3</th>\n",
       "      <td>0.271514</td>\n",
       "      <td>(15)</td>\n",
       "    </tr>\n",
       "    <tr>\n",
       "      <th>4</th>\n",
       "      <td>0.276184</td>\n",
       "      <td>(19)</td>\n",
       "    </tr>\n",
       "    <tr>\n",
       "      <th>5</th>\n",
       "      <td>0.270847</td>\n",
       "      <td>(20)</td>\n",
       "    </tr>\n",
       "    <tr>\n",
       "      <th>6</th>\n",
       "      <td>0.273516</td>\n",
       "      <td>(21)</td>\n",
       "    </tr>\n",
       "    <tr>\n",
       "      <th>7</th>\n",
       "      <td>0.271514</td>\n",
       "      <td>(23)</td>\n",
       "    </tr>\n",
       "    <tr>\n",
       "      <th>8</th>\n",
       "      <td>0.287525</td>\n",
       "      <td>(25)</td>\n",
       "    </tr>\n",
       "    <tr>\n",
       "      <th>9</th>\n",
       "      <td>0.274183</td>\n",
       "      <td>(30)</td>\n",
       "    </tr>\n",
       "    <tr>\n",
       "      <th>10</th>\n",
       "      <td>0.270180</td>\n",
       "      <td>(33)</td>\n",
       "    </tr>\n",
       "    <tr>\n",
       "      <th>11</th>\n",
       "      <td>0.597065</td>\n",
       "      <td>(35)</td>\n",
       "    </tr>\n",
       "    <tr>\n",
       "      <th>12</th>\n",
       "      <td>0.278853</td>\n",
       "      <td>(36)</td>\n",
       "    </tr>\n",
       "  </tbody>\n",
       "</table>\n",
       "</div>"
      ],
      "text/plain": [
       "     support itemsets\n",
       "0   0.278185      (2)\n",
       "1   0.273516      (5)\n",
       "2   0.274850     (14)\n",
       "3   0.271514     (15)\n",
       "4   0.276184     (19)\n",
       "5   0.270847     (20)\n",
       "6   0.273516     (21)\n",
       "7   0.271514     (23)\n",
       "8   0.287525     (25)\n",
       "9   0.274183     (30)\n",
       "10  0.270180     (33)\n",
       "11  0.597065     (35)\n",
       "12  0.278853     (36)"
      ]
     },
     "execution_count": 19,
     "metadata": {},
     "output_type": "execute_result"
    }
   ],
   "source": [
    "%%time\n",
    "\n",
    "apriori(transactions, min_support=0.27, low_memory=True)"
   ]
  },
  {
   "cell_type": "markdown",
   "metadata": {},
   "source": [
    "---"
   ]
  },
  {
   "cell_type": "markdown",
   "metadata": {},
   "source": [
    "# Алгоритм apriori от apyori"
   ]
  },
  {
   "cell_type": "code",
   "execution_count": 72,
   "metadata": {},
   "outputs": [],
   "source": [
    " from apyori import apriori"
   ]
  },
  {
   "cell_type": "code",
   "execution_count": 73,
   "metadata": {},
   "outputs": [],
   "source": [
    "all_cheques = []\n",
    "for i in basket_new['itemDescription_no_dupl']:\n",
    "    i = [a for a in set(i)]\n",
    "    all_cheques.append(i)"
   ]
  },
  {
   "cell_type": "markdown",
   "metadata": {},
   "source": [
    "Сравним быстродействие на параметрах, использованных выше в алгорите aprioiri от apyori."
   ]
  },
  {
   "cell_type": "code",
   "execution_count": 74,
   "metadata": {},
   "outputs": [
    {
     "name": "stdout",
     "output_type": "stream",
     "text": [
      "CPU times: user 1min 57s, sys: 527 ms, total: 1min 57s\n",
      "Wall time: 1min 57s\n"
     ]
    }
   ],
   "source": [
    "%%time\n",
    "\n",
    "assosiation_rules = apriori(all_cheques, min_support=4/len(basket), min_lift=1.15, min_length=2)\n",
    "assosiation_results = list(assosiation_rules)"
   ]
  },
  {
   "cell_type": "code",
   "execution_count": 75,
   "metadata": {},
   "outputs": [
    {
     "data": {
      "text/plain": [
       "90792"
      ]
     },
     "execution_count": 75,
     "metadata": {},
     "output_type": "execute_result"
    }
   ],
   "source": [
    "len(assosiation_results)"
   ]
  },
  {
   "cell_type": "code",
   "execution_count": 76,
   "metadata": {},
   "outputs": [
    {
     "data": {
      "text/plain": [
       "RelationRecord(items=frozenset({'all- purpose', 'fruits'}), support=0.08072048032021348, ordered_statistics=[OrderedStatistic(items_base=frozenset({'all- purpose'}), items_add=frozenset({'fruits'}), confidence=0.30632911392405066, lift=1.1624995994231695), OrderedStatistic(items_base=frozenset({'fruits'}), items_add=frozenset({'all- purpose'}), confidence=0.30632911392405066, lift=1.1624995994231695)])"
      ]
     },
     "execution_count": 76,
     "metadata": {},
     "output_type": "execute_result"
    }
   ],
   "source": [
    "assosiation_results[0]"
   ]
  },
  {
   "cell_type": "markdown",
   "metadata": {},
   "source": [
    "Выясним быстродействие при минимальной подержке 0.5."
   ]
  },
  {
   "cell_type": "code",
   "execution_count": 77,
   "metadata": {},
   "outputs": [
    {
     "name": "stdout",
     "output_type": "stream",
     "text": [
      "CPU times: user 219 ms, sys: 8.56 ms, total: 228 ms\n",
      "Wall time: 226 ms\n"
     ]
    }
   ],
   "source": [
    "%%time\n",
    "\n",
    "assosiation_rules = apriori(all_cheques, min_support=0.5)\n",
    "assosiation_results = list(assosiation_rules)"
   ]
  },
  {
   "cell_type": "code",
   "execution_count": 78,
   "metadata": {},
   "outputs": [
    {
     "data": {
      "text/plain": [
       "[RelationRecord(items=frozenset({'vegetables'}), support=0.5970647098065377, ordered_statistics=[OrderedStatistic(items_base=frozenset(), items_add=frozenset({'vegetables'}), confidence=0.5970647098065377, lift=1.0)])]"
      ]
     },
     "execution_count": 78,
     "metadata": {},
     "output_type": "execute_result"
    }
   ],
   "source": [
    "assosiation_results"
   ]
  },
  {
   "cell_type": "markdown",
   "metadata": {},
   "source": [
    "---"
   ]
  },
  {
   "cell_type": "markdown",
   "metadata": {},
   "source": [
    "# FP-Growth алгоритм"
   ]
  },
  {
   "cell_type": "code",
   "execution_count": 79,
   "metadata": {},
   "outputs": [],
   "source": [
    "all_cheques = []\n",
    "for i in basket_new['itemDescription_no_dupl']:\n",
    "    i = [a for a in set(i)]\n",
    "    all_cheques.append(i)"
   ]
  },
  {
   "cell_type": "code",
   "execution_count": 80,
   "metadata": {},
   "outputs": [],
   "source": [
    "import pandas as pd\n",
    "from mlxtend.preprocessing import TransactionEncoder\n",
    "\n",
    "te = TransactionEncoder()\n",
    "te_ary = te.fit(all_cheques).transform(all_cheques)\n",
    "df = pd.DataFrame(te_ary, columns=te.columns_)"
   ]
  },
  {
   "cell_type": "code",
   "execution_count": 81,
   "metadata": {},
   "outputs": [
    {
     "data": {
      "text/html": [
       "<div>\n",
       "<style scoped>\n",
       "    .dataframe tbody tr th:only-of-type {\n",
       "        vertical-align: middle;\n",
       "    }\n",
       "\n",
       "    .dataframe tbody tr th {\n",
       "        vertical-align: top;\n",
       "    }\n",
       "\n",
       "    .dataframe thead th {\n",
       "        text-align: right;\n",
       "    }\n",
       "</style>\n",
       "<table border=\"1\" class=\"dataframe\">\n",
       "  <thead>\n",
       "    <tr style=\"text-align: right;\">\n",
       "      <th></th>\n",
       "      <th>all- purpose</th>\n",
       "      <th>aluminum foil</th>\n",
       "      <th>bagels</th>\n",
       "      <th>beef</th>\n",
       "      <th>butter</th>\n",
       "      <th>cereals</th>\n",
       "      <th>cheeses</th>\n",
       "      <th>coffee/tea</th>\n",
       "      <th>dinner rolls</th>\n",
       "      <th>dishwashing liquid/detergent</th>\n",
       "      <th>...</th>\n",
       "      <th>shampoo</th>\n",
       "      <th>soap</th>\n",
       "      <th>soda</th>\n",
       "      <th>spaghetti sauce</th>\n",
       "      <th>sugar</th>\n",
       "      <th>toilet paper</th>\n",
       "      <th>tortillas</th>\n",
       "      <th>vegetables</th>\n",
       "      <th>waffles</th>\n",
       "      <th>yogurt</th>\n",
       "    </tr>\n",
       "  </thead>\n",
       "  <tbody>\n",
       "    <tr>\n",
       "      <th>0</th>\n",
       "      <td>True</td>\n",
       "      <td>True</td>\n",
       "      <td>False</td>\n",
       "      <td>True</td>\n",
       "      <td>True</td>\n",
       "      <td>False</td>\n",
       "      <td>False</td>\n",
       "      <td>False</td>\n",
       "      <td>True</td>\n",
       "      <td>False</td>\n",
       "      <td>...</td>\n",
       "      <td>True</td>\n",
       "      <td>False</td>\n",
       "      <td>True</td>\n",
       "      <td>False</td>\n",
       "      <td>False</td>\n",
       "      <td>False</td>\n",
       "      <td>False</td>\n",
       "      <td>True</td>\n",
       "      <td>False</td>\n",
       "      <td>False</td>\n",
       "    </tr>\n",
       "    <tr>\n",
       "      <th>1</th>\n",
       "      <td>False</td>\n",
       "      <td>False</td>\n",
       "      <td>False</td>\n",
       "      <td>False</td>\n",
       "      <td>False</td>\n",
       "      <td>False</td>\n",
       "      <td>True</td>\n",
       "      <td>False</td>\n",
       "      <td>False</td>\n",
       "      <td>True</td>\n",
       "      <td>...</td>\n",
       "      <td>True</td>\n",
       "      <td>False</td>\n",
       "      <td>False</td>\n",
       "      <td>False</td>\n",
       "      <td>False</td>\n",
       "      <td>False</td>\n",
       "      <td>False</td>\n",
       "      <td>True</td>\n",
       "      <td>True</td>\n",
       "      <td>False</td>\n",
       "    </tr>\n",
       "    <tr>\n",
       "      <th>2</th>\n",
       "      <td>False</td>\n",
       "      <td>False</td>\n",
       "      <td>False</td>\n",
       "      <td>False</td>\n",
       "      <td>False</td>\n",
       "      <td>False</td>\n",
       "      <td>False</td>\n",
       "      <td>False</td>\n",
       "      <td>True</td>\n",
       "      <td>False</td>\n",
       "      <td>...</td>\n",
       "      <td>False</td>\n",
       "      <td>True</td>\n",
       "      <td>False</td>\n",
       "      <td>True</td>\n",
       "      <td>False</td>\n",
       "      <td>True</td>\n",
       "      <td>False</td>\n",
       "      <td>False</td>\n",
       "      <td>False</td>\n",
       "      <td>False</td>\n",
       "    </tr>\n",
       "    <tr>\n",
       "      <th>3</th>\n",
       "      <td>True</td>\n",
       "      <td>False</td>\n",
       "      <td>False</td>\n",
       "      <td>False</td>\n",
       "      <td>False</td>\n",
       "      <td>False</td>\n",
       "      <td>False</td>\n",
       "      <td>False</td>\n",
       "      <td>False</td>\n",
       "      <td>False</td>\n",
       "      <td>...</td>\n",
       "      <td>False</td>\n",
       "      <td>False</td>\n",
       "      <td>True</td>\n",
       "      <td>False</td>\n",
       "      <td>False</td>\n",
       "      <td>True</td>\n",
       "      <td>False</td>\n",
       "      <td>False</td>\n",
       "      <td>False</td>\n",
       "      <td>False</td>\n",
       "    </tr>\n",
       "    <tr>\n",
       "      <th>4</th>\n",
       "      <td>False</td>\n",
       "      <td>False</td>\n",
       "      <td>False</td>\n",
       "      <td>False</td>\n",
       "      <td>False</td>\n",
       "      <td>False</td>\n",
       "      <td>False</td>\n",
       "      <td>False</td>\n",
       "      <td>False</td>\n",
       "      <td>False</td>\n",
       "      <td>...</td>\n",
       "      <td>False</td>\n",
       "      <td>False</td>\n",
       "      <td>False</td>\n",
       "      <td>False</td>\n",
       "      <td>False</td>\n",
       "      <td>True</td>\n",
       "      <td>True</td>\n",
       "      <td>True</td>\n",
       "      <td>False</td>\n",
       "      <td>False</td>\n",
       "    </tr>\n",
       "  </tbody>\n",
       "</table>\n",
       "<p>5 rows × 38 columns</p>\n",
       "</div>"
      ],
      "text/plain": [
       "   all- purpose  aluminum foil  bagels   beef  butter  cereals  cheeses  \\\n",
       "0          True           True   False   True    True    False    False   \n",
       "1         False          False   False  False   False    False     True   \n",
       "2         False          False   False  False   False    False    False   \n",
       "3          True          False   False  False   False    False    False   \n",
       "4         False          False   False  False   False    False    False   \n",
       "\n",
       "   coffee/tea  dinner rolls  dishwashing liquid/detergent  ...  shampoo  \\\n",
       "0       False          True                         False  ...     True   \n",
       "1       False         False                          True  ...     True   \n",
       "2       False          True                         False  ...    False   \n",
       "3       False         False                         False  ...    False   \n",
       "4       False         False                         False  ...    False   \n",
       "\n",
       "    soap   soda  spaghetti sauce  sugar  toilet paper  tortillas  vegetables  \\\n",
       "0  False   True            False  False         False      False        True   \n",
       "1  False  False            False  False         False      False        True   \n",
       "2   True  False             True  False          True      False       False   \n",
       "3  False   True            False  False          True      False       False   \n",
       "4  False  False            False  False          True       True        True   \n",
       "\n",
       "   waffles  yogurt  \n",
       "0    False   False  \n",
       "1     True   False  \n",
       "2    False   False  \n",
       "3    False   False  \n",
       "4    False   False  \n",
       "\n",
       "[5 rows x 38 columns]"
      ]
     },
     "execution_count": 81,
     "metadata": {},
     "output_type": "execute_result"
    }
   ],
   "source": [
    "df.head()"
   ]
  },
  {
   "cell_type": "code",
   "execution_count": 82,
   "metadata": {},
   "outputs": [],
   "source": [
    "from mlxtend.frequent_patterns import fpgrowth"
   ]
  },
  {
   "cell_type": "markdown",
   "metadata": {},
   "source": [
    "Вернем товары и наборы товаров. Выясним быстродействие при минимальной подержке 0.5."
   ]
  },
  {
   "cell_type": "code",
   "execution_count": 83,
   "metadata": {},
   "outputs": [
    {
     "name": "stdout",
     "output_type": "stream",
     "text": [
      "CPU times: user 15.2 ms, sys: 2.18 ms, total: 17.3 ms\n",
      "Wall time: 17.7 ms\n"
     ]
    },
    {
     "data": {
      "text/html": [
       "<div>\n",
       "<style scoped>\n",
       "    .dataframe tbody tr th:only-of-type {\n",
       "        vertical-align: middle;\n",
       "    }\n",
       "\n",
       "    .dataframe tbody tr th {\n",
       "        vertical-align: top;\n",
       "    }\n",
       "\n",
       "    .dataframe thead th {\n",
       "        text-align: right;\n",
       "    }\n",
       "</style>\n",
       "<table border=\"1\" class=\"dataframe\">\n",
       "  <thead>\n",
       "    <tr style=\"text-align: right;\">\n",
       "      <th></th>\n",
       "      <th>support</th>\n",
       "      <th>itemsets</th>\n",
       "    </tr>\n",
       "  </thead>\n",
       "  <tbody>\n",
       "    <tr>\n",
       "      <th>0</th>\n",
       "      <td>0.597065</td>\n",
       "      <td>(35)</td>\n",
       "    </tr>\n",
       "  </tbody>\n",
       "</table>\n",
       "</div>"
      ],
      "text/plain": [
       "    support itemsets\n",
       "0  0.597065     (35)"
      ]
     },
     "execution_count": 83,
     "metadata": {},
     "output_type": "execute_result"
    }
   ],
   "source": [
    "%%time\n",
    "\n",
    "fpgrowth(df, min_support=0.5)"
   ]
  },
  {
   "cell_type": "markdown",
   "metadata": {},
   "source": [
    "По умолчанию fpgrowth возвращает индексы колонок товаров, что может быть полезно для дальнейшего исследования правил ассоциаций. Для лучшей читабельности установим параметр use_colnames=True, чтобы получить соответствующие названия товаров."
   ]
  },
  {
   "cell_type": "code",
   "execution_count": 84,
   "metadata": {},
   "outputs": [
    {
     "name": "stdout",
     "output_type": "stream",
     "text": [
      "CPU times: user 24.1 ms, sys: 978 µs, total: 25.1 ms\n",
      "Wall time: 24.7 ms\n"
     ]
    },
    {
     "data": {
      "text/html": [
       "<div>\n",
       "<style scoped>\n",
       "    .dataframe tbody tr th:only-of-type {\n",
       "        vertical-align: middle;\n",
       "    }\n",
       "\n",
       "    .dataframe tbody tr th {\n",
       "        vertical-align: top;\n",
       "    }\n",
       "\n",
       "    .dataframe thead th {\n",
       "        text-align: right;\n",
       "    }\n",
       "</style>\n",
       "<table border=\"1\" class=\"dataframe\">\n",
       "  <thead>\n",
       "    <tr style=\"text-align: right;\">\n",
       "      <th></th>\n",
       "      <th>support</th>\n",
       "      <th>itemsets</th>\n",
       "    </tr>\n",
       "  </thead>\n",
       "  <tbody>\n",
       "    <tr>\n",
       "      <th>0</th>\n",
       "      <td>0.597065</td>\n",
       "      <td>(vegetables)</td>\n",
       "    </tr>\n",
       "    <tr>\n",
       "      <th>1</th>\n",
       "      <td>0.276184</td>\n",
       "      <td>(lunch meat)</td>\n",
       "    </tr>\n",
       "    <tr>\n",
       "      <th>2</th>\n",
       "      <td>0.274183</td>\n",
       "      <td>(soda)</td>\n",
       "    </tr>\n",
       "    <tr>\n",
       "      <th>3</th>\n",
       "      <td>0.278853</td>\n",
       "      <td>(waffles)</td>\n",
       "    </tr>\n",
       "    <tr>\n",
       "      <th>4</th>\n",
       "      <td>0.273516</td>\n",
       "      <td>(mixes)</td>\n",
       "    </tr>\n",
       "    <tr>\n",
       "      <th>5</th>\n",
       "      <td>0.271514</td>\n",
       "      <td>(individual meals)</td>\n",
       "    </tr>\n",
       "    <tr>\n",
       "      <th>6</th>\n",
       "      <td>0.270847</td>\n",
       "      <td>(milk)</td>\n",
       "    </tr>\n",
       "    <tr>\n",
       "      <th>7</th>\n",
       "      <td>0.287525</td>\n",
       "      <td>(poultry)</td>\n",
       "    </tr>\n",
       "    <tr>\n",
       "      <th>8</th>\n",
       "      <td>0.274850</td>\n",
       "      <td>(ice cream)</td>\n",
       "    </tr>\n",
       "    <tr>\n",
       "      <th>9</th>\n",
       "      <td>0.270180</td>\n",
       "      <td>(toilet paper)</td>\n",
       "    </tr>\n",
       "    <tr>\n",
       "      <th>10</th>\n",
       "      <td>0.271514</td>\n",
       "      <td>(pasta)</td>\n",
       "    </tr>\n",
       "    <tr>\n",
       "      <th>11</th>\n",
       "      <td>0.278185</td>\n",
       "      <td>(bagels)</td>\n",
       "    </tr>\n",
       "    <tr>\n",
       "      <th>12</th>\n",
       "      <td>0.273516</td>\n",
       "      <td>(cereals)</td>\n",
       "    </tr>\n",
       "  </tbody>\n",
       "</table>\n",
       "</div>"
      ],
      "text/plain": [
       "     support            itemsets\n",
       "0   0.597065        (vegetables)\n",
       "1   0.276184        (lunch meat)\n",
       "2   0.274183              (soda)\n",
       "3   0.278853           (waffles)\n",
       "4   0.273516             (mixes)\n",
       "5   0.271514  (individual meals)\n",
       "6   0.270847              (milk)\n",
       "7   0.287525           (poultry)\n",
       "8   0.274850         (ice cream)\n",
       "9   0.270180      (toilet paper)\n",
       "10  0.271514             (pasta)\n",
       "11  0.278185            (bagels)\n",
       "12  0.273516           (cereals)"
      ]
     },
     "execution_count": 84,
     "metadata": {},
     "output_type": "execute_result"
    }
   ],
   "source": [
    "%%time\n",
    "\n",
    "fpgrowth(df, min_support=0.27, use_colnames=True)"
   ]
  },
  {
   "cell_type": "markdown",
   "metadata": {},
   "source": [
    "---"
   ]
  },
  {
   "cell_type": "markdown",
   "metadata": {},
   "source": [
    "# **Рекомендации на основе ключевых слов.**"
   ]
  },
  {
   "cell_type": "markdown",
   "metadata": {},
   "source": [
    "**Загружаем данные.**"
   ]
  },
  {
   "cell_type": "code",
   "execution_count": 20,
   "metadata": {
    "scrolled": true
   },
   "outputs": [
    {
     "data": {
      "text/html": [
       "<div>\n",
       "<style scoped>\n",
       "    .dataframe tbody tr th:only-of-type {\n",
       "        vertical-align: middle;\n",
       "    }\n",
       "\n",
       "    .dataframe tbody tr th {\n",
       "        vertical-align: top;\n",
       "    }\n",
       "\n",
       "    .dataframe thead th {\n",
       "        text-align: right;\n",
       "    }\n",
       "</style>\n",
       "<table border=\"1\" class=\"dataframe\">\n",
       "  <thead>\n",
       "    <tr style=\"text-align: right;\">\n",
       "      <th></th>\n",
       "      <th>0</th>\n",
       "      <th>1</th>\n",
       "      <th>2</th>\n",
       "      <th>3</th>\n",
       "      <th>4</th>\n",
       "      <th>5</th>\n",
       "      <th>6</th>\n",
       "      <th>7</th>\n",
       "      <th>8</th>\n",
       "      <th>9</th>\n",
       "      <th>10</th>\n",
       "      <th>11</th>\n",
       "      <th>12</th>\n",
       "      <th>13</th>\n",
       "    </tr>\n",
       "  </thead>\n",
       "  <tbody>\n",
       "    <tr>\n",
       "      <th>0</th>\n",
       "      <td>pork</td>\n",
       "      <td>sandwich bags</td>\n",
       "      <td>lunch meat</td>\n",
       "      <td>all- purpose</td>\n",
       "      <td>flour</td>\n",
       "      <td>soda</td>\n",
       "      <td>butter</td>\n",
       "      <td>vegetables</td>\n",
       "      <td>beef</td>\n",
       "      <td>aluminum foil</td>\n",
       "      <td>all- purpose</td>\n",
       "      <td>dinner rolls</td>\n",
       "      <td>shampoo</td>\n",
       "      <td>all- purpose</td>\n",
       "    </tr>\n",
       "    <tr>\n",
       "      <th>1</th>\n",
       "      <td>shampoo</td>\n",
       "      <td>hand soap</td>\n",
       "      <td>waffles</td>\n",
       "      <td>vegetables</td>\n",
       "      <td>cheeses</td>\n",
       "      <td>mixes</td>\n",
       "      <td>milk</td>\n",
       "      <td>sandwich bags</td>\n",
       "      <td>laundry detergent</td>\n",
       "      <td>dishwashing liquid/detergent</td>\n",
       "      <td>waffles</td>\n",
       "      <td>individual meals</td>\n",
       "      <td>hand soap</td>\n",
       "      <td>vegetables</td>\n",
       "    </tr>\n",
       "    <tr>\n",
       "      <th>2</th>\n",
       "      <td>pork</td>\n",
       "      <td>soap</td>\n",
       "      <td>ice cream</td>\n",
       "      <td>toilet paper</td>\n",
       "      <td>dinner rolls</td>\n",
       "      <td>hand soap</td>\n",
       "      <td>spaghetti sauce</td>\n",
       "      <td>milk</td>\n",
       "      <td>ketchup</td>\n",
       "      <td>sandwich loaves</td>\n",
       "      <td>poultry</td>\n",
       "      <td>toilet paper</td>\n",
       "      <td>ice cream</td>\n",
       "      <td>ketchup</td>\n",
       "    </tr>\n",
       "    <tr>\n",
       "      <th>3</th>\n",
       "      <td>juice</td>\n",
       "      <td>lunch meat</td>\n",
       "      <td>soda</td>\n",
       "      <td>toilet paper</td>\n",
       "      <td>all- purpose</td>\n",
       "      <td>NaN</td>\n",
       "      <td>NaN</td>\n",
       "      <td>NaN</td>\n",
       "      <td>NaN</td>\n",
       "      <td>NaN</td>\n",
       "      <td>NaN</td>\n",
       "      <td>NaN</td>\n",
       "      <td>NaN</td>\n",
       "      <td>NaN</td>\n",
       "    </tr>\n",
       "    <tr>\n",
       "      <th>4</th>\n",
       "      <td>pasta</td>\n",
       "      <td>tortillas</td>\n",
       "      <td>mixes</td>\n",
       "      <td>hand soap</td>\n",
       "      <td>toilet paper</td>\n",
       "      <td>vegetables</td>\n",
       "      <td>vegetables</td>\n",
       "      <td>paper towels</td>\n",
       "      <td>vegetables</td>\n",
       "      <td>flour</td>\n",
       "      <td>vegetables</td>\n",
       "      <td>pork</td>\n",
       "      <td>poultry</td>\n",
       "      <td>eggs</td>\n",
       "    </tr>\n",
       "  </tbody>\n",
       "</table>\n",
       "</div>"
      ],
      "text/plain": [
       "        0              1           2             3             4           5   \\\n",
       "0     pork  sandwich bags  lunch meat  all- purpose         flour        soda   \n",
       "1  shampoo      hand soap     waffles    vegetables       cheeses       mixes   \n",
       "2     pork           soap   ice cream  toilet paper  dinner rolls   hand soap   \n",
       "3    juice     lunch meat        soda  toilet paper  all- purpose         NaN   \n",
       "4    pasta      tortillas       mixes     hand soap  toilet paper  vegetables   \n",
       "\n",
       "                6              7                  8   \\\n",
       "0           butter     vegetables               beef   \n",
       "1             milk  sandwich bags  laundry detergent   \n",
       "2  spaghetti sauce           milk            ketchup   \n",
       "3              NaN            NaN                NaN   \n",
       "4       vegetables   paper towels         vegetables   \n",
       "\n",
       "                             9             10                11         12  \\\n",
       "0                 aluminum foil  all- purpose      dinner rolls    shampoo   \n",
       "1  dishwashing liquid/detergent       waffles  individual meals  hand soap   \n",
       "2               sandwich loaves       poultry      toilet paper  ice cream   \n",
       "3                           NaN           NaN               NaN        NaN   \n",
       "4                         flour    vegetables              pork    poultry   \n",
       "\n",
       "             13  \n",
       "0  all- purpose  \n",
       "1    vegetables  \n",
       "2       ketchup  \n",
       "3           NaN  \n",
       "4          eggs  "
      ]
     },
     "metadata": {},
     "output_type": "display_data"
    }
   ],
   "source": [
    "basket = pd.read_csv(\"dataset.csv\", skipinitialspace=True, header=None)\n",
    "display(basket.head(5))"
   ]
  },
  {
   "cell_type": "markdown",
   "metadata": {},
   "source": [
    "Удаляем пропуски."
   ]
  },
  {
   "cell_type": "code",
   "execution_count": 21,
   "metadata": {},
   "outputs": [],
   "source": [
    "basket = basket.fillna (' ')"
   ]
  },
  {
   "cell_type": "markdown",
   "metadata": {},
   "source": [
    "Объединяем все продукты в 1 ячейку."
   ]
  },
  {
   "cell_type": "code",
   "execution_count": 22,
   "metadata": {},
   "outputs": [],
   "source": [
    "basket1 = basket[[0, 1, 2, 3, 4, 5, 6, 7, 8, 9, 10, 11, 12, 13]].T.agg(', '.join)"
   ]
  },
  {
   "cell_type": "code",
   "execution_count": 23,
   "metadata": {},
   "outputs": [],
   "source": [
    "basket_new = basket1.to_frame()"
   ]
  },
  {
   "cell_type": "code",
   "execution_count": 24,
   "metadata": {},
   "outputs": [],
   "source": [
    "basket_new = basket_new.rename(columns={0: 'itemDescription'})"
   ]
  },
  {
   "cell_type": "code",
   "execution_count": 25,
   "metadata": {},
   "outputs": [
    {
     "data": {
      "text/html": [
       "<div>\n",
       "<style scoped>\n",
       "    .dataframe tbody tr th:only-of-type {\n",
       "        vertical-align: middle;\n",
       "    }\n",
       "\n",
       "    .dataframe tbody tr th {\n",
       "        vertical-align: top;\n",
       "    }\n",
       "\n",
       "    .dataframe thead th {\n",
       "        text-align: right;\n",
       "    }\n",
       "</style>\n",
       "<table border=\"1\" class=\"dataframe\">\n",
       "  <thead>\n",
       "    <tr style=\"text-align: right;\">\n",
       "      <th></th>\n",
       "      <th>itemDescription</th>\n",
       "    </tr>\n",
       "  </thead>\n",
       "  <tbody>\n",
       "    <tr>\n",
       "      <th>0</th>\n",
       "      <td>pork, sandwich bags, lunch meat, all- purpose,...</td>\n",
       "    </tr>\n",
       "    <tr>\n",
       "      <th>1</th>\n",
       "      <td>shampoo, hand soap, waffles, vegetables, chees...</td>\n",
       "    </tr>\n",
       "    <tr>\n",
       "      <th>2</th>\n",
       "      <td>pork, soap, ice cream, toilet paper, dinner ro...</td>\n",
       "    </tr>\n",
       "    <tr>\n",
       "      <th>3</th>\n",
       "      <td>juice, lunch meat, soda, toilet paper, all- pu...</td>\n",
       "    </tr>\n",
       "    <tr>\n",
       "      <th>4</th>\n",
       "      <td>pasta, tortillas, mixes, hand soap, toilet pap...</td>\n",
       "    </tr>\n",
       "    <tr>\n",
       "      <th>...</th>\n",
       "      <td>...</td>\n",
       "    </tr>\n",
       "    <tr>\n",
       "      <th>1494</th>\n",
       "      <td>beef, sandwich bags, hand soap, paper towels, ...</td>\n",
       "    </tr>\n",
       "    <tr>\n",
       "      <th>1495</th>\n",
       "      <td>dinner rolls, lunch meat, spaghetti sauce, pas...</td>\n",
       "    </tr>\n",
       "    <tr>\n",
       "      <th>1496</th>\n",
       "      <td>lunch meat, eggs, poultry, vegetables, tortill...</td>\n",
       "    </tr>\n",
       "    <tr>\n",
       "      <th>1497</th>\n",
       "      <td>ketchup, milk, poultry, cheeses, soap, toilet ...</td>\n",
       "    </tr>\n",
       "    <tr>\n",
       "      <th>1498</th>\n",
       "      <td>laundry detergent, vegetables, shampoo, vegeta...</td>\n",
       "    </tr>\n",
       "  </tbody>\n",
       "</table>\n",
       "<p>1499 rows × 1 columns</p>\n",
       "</div>"
      ],
      "text/plain": [
       "                                        itemDescription\n",
       "0     pork, sandwich bags, lunch meat, all- purpose,...\n",
       "1     shampoo, hand soap, waffles, vegetables, chees...\n",
       "2     pork, soap, ice cream, toilet paper, dinner ro...\n",
       "3     juice, lunch meat, soda, toilet paper, all- pu...\n",
       "4     pasta, tortillas, mixes, hand soap, toilet pap...\n",
       "...                                                 ...\n",
       "1494  beef, sandwich bags, hand soap, paper towels, ...\n",
       "1495  dinner rolls, lunch meat, spaghetti sauce, pas...\n",
       "1496  lunch meat, eggs, poultry, vegetables, tortill...\n",
       "1497  ketchup, milk, poultry, cheeses, soap, toilet ...\n",
       "1498  laundry detergent, vegetables, shampoo, vegeta...\n",
       "\n",
       "[1499 rows x 1 columns]"
      ]
     },
     "execution_count": 25,
     "metadata": {},
     "output_type": "execute_result"
    }
   ],
   "source": [
    "basket_new"
   ]
  },
  {
   "cell_type": "code",
   "execution_count": 26,
   "metadata": {},
   "outputs": [],
   "source": [
    "basket_new.itemDescription = basket_new.itemDescription.transform(lambda x: x.split(\", \"))"
   ]
  },
  {
   "cell_type": "code",
   "execution_count": 27,
   "metadata": {},
   "outputs": [
    {
     "data": {
      "text/plain": [
       "0       [pork, sandwich bags, lunch meat, all- purpose...\n",
       "1       [shampoo, hand soap, waffles, vegetables, chee...\n",
       "2       [pork, soap, ice cream, toilet paper, dinner r...\n",
       "3       [juice, lunch meat, soda, toilet paper, all- p...\n",
       "4       [pasta, tortillas, mixes, hand soap, toilet pa...\n",
       "                              ...                        \n",
       "1494    [beef, sandwich bags, hand soap, paper towels,...\n",
       "1495    [dinner rolls, lunch meat, spaghetti sauce, pa...\n",
       "1496    [lunch meat, eggs, poultry, vegetables, tortil...\n",
       "1497    [ketchup, milk, poultry, cheeses, soap, toilet...\n",
       "1498    [laundry detergent, vegetables, shampoo, veget...\n",
       "Name: itemDescription, Length: 1499, dtype: object"
      ]
     },
     "execution_count": 27,
     "metadata": {},
     "output_type": "execute_result"
    }
   ],
   "source": [
    "basket_new.itemDescription"
   ]
  },
  {
   "cell_type": "code",
   "execution_count": 28,
   "metadata": {},
   "outputs": [
    {
     "data": {
      "text/html": [
       "<div>\n",
       "<style scoped>\n",
       "    .dataframe tbody tr th:only-of-type {\n",
       "        vertical-align: middle;\n",
       "    }\n",
       "\n",
       "    .dataframe tbody tr th {\n",
       "        vertical-align: top;\n",
       "    }\n",
       "\n",
       "    .dataframe thead th {\n",
       "        text-align: right;\n",
       "    }\n",
       "</style>\n",
       "<table border=\"1\" class=\"dataframe\">\n",
       "  <thead>\n",
       "    <tr style=\"text-align: right;\">\n",
       "      <th></th>\n",
       "      <th>itemDescription</th>\n",
       "    </tr>\n",
       "  </thead>\n",
       "  <tbody>\n",
       "    <tr>\n",
       "      <th>0</th>\n",
       "      <td>[pork, sandwich bags, lunch meat, all- purpose...</td>\n",
       "    </tr>\n",
       "  </tbody>\n",
       "</table>\n",
       "</div>"
      ],
      "text/plain": [
       "                                     itemDescription\n",
       "0  [pork, sandwich bags, lunch meat, all- purpose..."
      ]
     },
     "execution_count": 28,
     "metadata": {},
     "output_type": "execute_result"
    }
   ],
   "source": [
    "basket_new.iloc[0:1]"
   ]
  },
  {
   "cell_type": "markdown",
   "metadata": {},
   "source": [
    "**Генерируем новые признаки на основе имеющихся.**"
   ]
  },
  {
   "cell_type": "markdown",
   "metadata": {},
   "source": [
    "Все продукты в выборке:"
   ]
  },
  {
   "cell_type": "code",
   "execution_count": 266,
   "metadata": {},
   "outputs": [],
   "source": [
    "all_pr = ['all- purpose',\n",
    " 'aluminum foil',\n",
    " 'bagels',\n",
    " 'beef',\n",
    " 'butter',\n",
    " 'cereals',\n",
    " 'cheeses',\n",
    " 'coffee/tea',\n",
    " 'dinner rolls',\n",
    " 'dishwashing liquid/detergent',\n",
    " 'eggs',\n",
    " 'flour',\n",
    " 'fruits',\n",
    " 'hand soap',\n",
    " 'ice cream',\n",
    " 'individual meals',\n",
    " 'juice',\n",
    " 'ketchup',\n",
    " 'laundry detergent',\n",
    " 'lunch meat',\n",
    " 'milk',\n",
    " 'mixes',\n",
    " 'paper towels',\n",
    " 'pasta',\n",
    " 'pork',\n",
    " 'poultry',\n",
    " 'sandwich bags',\n",
    " 'sandwich loaves',\n",
    " 'shampoo',\n",
    " 'soap',\n",
    " 'soda',\n",
    " 'spaghetti sauce',\n",
    " 'sugar',\n",
    " 'toilet paper',\n",
    " 'tortillas',\n",
    " 'vegetables',\n",
    " 'waffles',\n",
    " 'yogurt']"
   ]
  },
  {
   "cell_type": "code",
   "execution_count": 30,
   "metadata": {},
   "outputs": [],
   "source": [
    "departments = {\"fruits_vegetables\":['fruits', 'vegetables'], \n",
    "\"beverage\" : 'juice', \n",
    "\"dairy\":['ice cream', 'butter', 'cheeses', 'milk', 'yogurt', 'eggs'], \n",
    "\"dry_goods\": ['pasta', 'coffee/tea', 'sugar', 'cereals', 'flour', 'soda', 'mixes'], \n",
    "\"cleaning_products\": ['dishwashing liquid/detergent', 'aluminum foil', 'laundry detergent', 'soap'], \n",
    "\"paper_products\": ['toilet paper', 'paper towels', 'sandwich bags'], \n",
    "\"canned_goods\": ['spaghetti sauce', 'ketchup'], \n",
    "\"meat\": ['pork', 'poultry', 'lunch meat', 'beef'], \n",
    "\"health_beauty\":['shampoo', 'hand soap'], \n",
    "\"deli\": ['dinner rolls', 'individual meals'], \n",
    "\"bread\": ['tortillas', 'sandwich loaves', 'bagels', 'waffles'], \n",
    "'all- purpose': 'all- purpose'}"
   ]
  },
  {
   "cell_type": "code",
   "execution_count": 31,
   "metadata": {},
   "outputs": [],
   "source": [
    "department = []\n",
    "for i in basket_new['itemDescription']:\n",
    "    dep = []\n",
    "    for a in i:\n",
    "        for key, value in departments.items():\n",
    "            if a in value:\n",
    "                dep.append(key)\n",
    "    dep = list(set(dep))\n",
    "    department.append(dep)\n",
    "basket_new['department'] = department"
   ]
  },
  {
   "cell_type": "code",
   "execution_count": 32,
   "metadata": {},
   "outputs": [],
   "source": [
    "keywords = {\n",
    "    \"lunch\":['sandwich loaves', 'bagels', 'fruits', 'juice', 'butter', 'cheeses', 'yogurt', 'paper towels', 'dinner rolls', 'individual meals', 'sandwich bags', 'lunch meat'], \n",
    "    \"baking\":['ice cream', 'all- purpose', 'fruits', 'butter', 'eggs', 'sugar', 'flour', 'soda', 'mixes', 'paper towels'],\n",
    "    \"cooking\":['all- purpose', 'tortillas', 'pork', 'poultry', 'beef', 'vegetables', 'cheeses', 'butter', 'eggs', 'flour', 'paper towels', 'spaghetti sauce', 'ketchup'],\n",
    "    \"cleaning\":['all- purpose', 'shampoo', 'hand soap', 'dishwashing liquid/detergent', 'aluminum foil', 'laundry detergent', 'soap', 'toilet paper', 'paper towels'],\n",
    "    \"breakfast\":['milk', 'juice', 'sandwich loaves', 'waffles', 'fruits', \n",
    "                 'butter', 'cheeses', 'yogurt', 'eggs', 'coffee/tea', 'cereals']\n",
    "}"
   ]
  },
  {
   "cell_type": "code",
   "execution_count": 33,
   "metadata": {},
   "outputs": [],
   "source": [
    "key_words = []\n",
    "for i in basket_new['itemDescription']:\n",
    "    kw = []\n",
    "    for a in i:\n",
    "        for key, value in keywords.items():\n",
    "            if a in value:\n",
    "                kw.append(key)\n",
    "    kw = list(set(kw))\n",
    "    key_words.append(kw)\n",
    "basket_new['key_words'] = key_words"
   ]
  },
  {
   "cell_type": "markdown",
   "metadata": {},
   "source": [
    "Создаем колонку 'itemDescription_no_dupl' на основе 'itemDescription', исключая дубликаты продуктов в каждом чеке."
   ]
  },
  {
   "cell_type": "code",
   "execution_count": 34,
   "metadata": {},
   "outputs": [],
   "source": [
    "itemDescription_no_dupl = []\n",
    "for i in basket_new['itemDescription']:\n",
    "    i = set(i)\n",
    "    id = [a for a in i if a!= ' ']\n",
    "    itemDescription_no_dupl.append(id)\n",
    "basket_new['itemDescription_no_dupl'] = itemDescription_no_dupl"
   ]
  },
  {
   "cell_type": "markdown",
   "metadata": {},
   "source": [
    "Создаем 'soup'."
   ]
  },
  {
   "cell_type": "code",
   "execution_count": 35,
   "metadata": {},
   "outputs": [],
   "source": [
    "def create_soup(x):\n",
    "    return ' '.join(x['department']) + ' ' + ' '.join(x['key_words'])\n",
    "basket_new['soup'] = basket_new.apply(create_soup, axis=1)"
   ]
  },
  {
   "cell_type": "code",
   "execution_count": 36,
   "metadata": {},
   "outputs": [
    {
     "data": {
      "text/plain": [
       "'dry_goods health_beauty cleaning_products deli meat fruits_vegetables paper_products dairy all- purpose breakfast lunch cooking baking cleaning'"
      ]
     },
     "execution_count": 36,
     "metadata": {},
     "output_type": "execute_result"
    }
   ],
   "source": [
    "basket_new['soup'][0]"
   ]
  },
  {
   "cell_type": "markdown",
   "metadata": {},
   "source": [
    "**Используем косинусное сходство для вычисления числовой величины, обозначающей сходство между двумя чеками.**"
   ]
  },
  {
   "cell_type": "code",
   "execution_count": 37,
   "metadata": {},
   "outputs": [],
   "source": [
    "# Import CountVectorizer and create the count matrix\n",
    "from sklearn.feature_extraction.text import CountVectorizer\n",
    "\n",
    "count = CountVectorizer(stop_words='english')\n",
    "count_matrix = count.fit_transform(basket_new['soup'])"
   ]
  },
  {
   "cell_type": "code",
   "execution_count": 38,
   "metadata": {},
   "outputs": [
    {
     "data": {
      "text/plain": [
       "array([1, 1, 1, ..., 1, 1, 1])"
      ]
     },
     "execution_count": 38,
     "metadata": {},
     "output_type": "execute_result"
    }
   ],
   "source": [
    "count_matrix.data"
   ]
  },
  {
   "cell_type": "code",
   "execution_count": 39,
   "metadata": {},
   "outputs": [],
   "source": [
    "# Compute the Cosine Similarity matrix based on the count_matrix\n",
    "from sklearn.metrics.pairwise import cosine_similarity\n",
    "\n",
    "cosine_sim = cosine_similarity(count_matrix, count_matrix)"
   ]
  },
  {
   "cell_type": "code",
   "execution_count": 40,
   "metadata": {},
   "outputs": [],
   "source": [
    "# Reset index of our main DataFrame and construct reverse mapping as before\n",
    "basket_new = basket_new.reset_index()\n",
    "indices = pd.Series(basket_new.index, index=basket_new['itemDescription'])"
   ]
  },
  {
   "cell_type": "code",
   "execution_count": 41,
   "metadata": {},
   "outputs": [
    {
     "data": {
      "text/plain": [
       "array([[1.        , 0.88949918, 0.81537425, ..., 0.88949918, 0.81537425,\n",
       "        0.65465367],\n",
       "       [0.88949918, 1.        , 0.84615385, ..., 0.92307692, 0.76923077,\n",
       "        0.56613852],\n",
       "       [0.81537425, 0.84615385, 1.        , ..., 0.84615385, 0.84615385,\n",
       "        0.45291081],\n",
       "       ...,\n",
       "       [0.88949918, 0.92307692, 0.84615385, ..., 1.        , 0.76923077,\n",
       "        0.56613852],\n",
       "       [0.81537425, 0.76923077, 0.84615385, ..., 0.76923077, 1.        ,\n",
       "        0.45291081],\n",
       "       [0.65465367, 0.56613852, 0.45291081, ..., 0.56613852, 0.45291081,\n",
       "        1.        ]])"
      ]
     },
     "execution_count": 41,
     "metadata": {},
     "output_type": "execute_result"
    }
   ],
   "source": [
    "cosine_sim"
   ]
  },
  {
   "cell_type": "markdown",
   "metadata": {},
   "source": [
    "**Определяем функцию, которая принимает индекс чека в качестве входных данных и выводит разницу продуктов в этом чеке и 10 наиболее часто покупаемых продуктов в 10 наиболее похожих чеках.**"
   ]
  },
  {
   "cell_type": "code",
   "execution_count": 42,
   "metadata": {},
   "outputs": [],
   "source": [
    "# Function that takes in shopping list index as input and outputs most often bought products in similar shopping lists\n",
    "\n",
    "def get_recommendations(index, cosine_sim=cosine_sim):\n",
    "    # Get the index of the shopping list that matches the index column\n",
    "    idx = indices[index]\n",
    "\n",
    "    # Get the pairwsie similarity scores of all shopping lists with that shopping list\n",
    "    sim_scores = list(enumerate(cosine_sim[idx]))\n",
    "\n",
    "    # Sort the shopping lists based on the similarity scores\n",
    "    sim_scores = sorted(sim_scores, key=lambda x: x[1], reverse=True)\n",
    "\n",
    "    # Get the scores of the 10 most similar shopping lists\n",
    "    sim_scores = sim_scores[1:11]\n",
    "\n",
    "    # Get the shopping lists indices\n",
    "    shopping_lists_indices = [i[0] for i in sim_scores]\n",
    "\n",
    "    # Return the top 10 most often bought products in 10 most similar shopping lists\n",
    "    result = basket_new['itemDescription_no_dupl'].iloc[shopping_lists_indices]\n",
    "    result_list = []\n",
    "    for i in result:\n",
    "        result_list.extend(i)\n",
    "    result_s = collections.Counter(result_list)\n",
    "    res_most_common = [key for key, value in result_s.most_common(10)]\n",
    "    res_most_common = set(res_most_common)\n",
    "    print('your cheque: ', basket_new['itemDescription_no_dupl'][index])\n",
    "    print('most commom cheques: ', res_most_common)\n",
    "    \n",
    "    # Return the difference between 10 most often bought products in similar shopping lists\n",
    "    final_recommendation = res_most_common.difference(set(basket_new['itemDescription_no_dupl'][index]))\n",
    "    \n",
    "    return print('recommendation:', final_recommendation)\n",
    "    "
   ]
  },
  {
   "cell_type": "code",
   "execution_count": 43,
   "metadata": {},
   "outputs": [
    {
     "name": "stdout",
     "output_type": "stream",
     "text": [
      "your cheque:  ['dishwashing liquid/detergent', 'mixes', 'waffles', 'cheeses', 'individual meals', 'vegetables', 'shampoo', 'sandwich bags', 'hand soap', 'laundry detergent', 'milk']\n",
      "most commom cheques:  {'dishwashing liquid/detergent', 'sandwich loaves', 'individual meals', 'cheeses', 'eggs', 'vegetables', 'dinner rolls', 'shampoo', 'paper towels', 'waffles'}\n",
      "recommendation: {'sandwich loaves', 'paper towels', 'eggs', 'dinner rolls'}\n",
      "CPU times: user 1.58 ms, sys: 22 µs, total: 1.6 ms\n",
      "Wall time: 1.59 ms\n"
     ]
    }
   ],
   "source": [
    "%%time\n",
    "\n",
    "get_recommendations(1, cosine_sim)"
   ]
  },
  {
   "cell_type": "markdown",
   "metadata": {},
   "source": [
    "---"
   ]
  },
  {
   "cell_type": "markdown",
   "metadata": {},
   "source": [
    "#  Рекомендации для нового покупателя, основанные на предпочтения других покупателей"
   ]
  },
  {
   "cell_type": "code",
   "execution_count": 44,
   "metadata": {},
   "outputs": [],
   "source": [
    "import math, random\n",
    "import numpy as np\n",
    "from collections import defaultdict, Counter\n",
    "from numpy import dot"
   ]
  },
  {
   "cell_type": "code",
   "execution_count": 45,
   "metadata": {},
   "outputs": [],
   "source": [
    "all_cheques = []\n",
    "for i in basket_new['itemDescription_no_dupl']:\n",
    "    i = [a for a in set(i)]\n",
    "    all_cheques.append(i)"
   ]
  },
  {
   "cell_type": "markdown",
   "metadata": {},
   "source": [
    "Простейший подход заключается в рекомендации на основе популярности продуктов:"
   ]
  },
  {
   "cell_type": "code",
   "execution_count": 46,
   "metadata": {},
   "outputs": [],
   "source": [
    "popular_products = Counter(product\n",
    "                            for all_cheques in all_cheques\n",
    "                            for product in all_cheques).most_common()"
   ]
  },
  {
   "cell_type": "markdown",
   "metadata": {},
   "source": [
    "После их вычисления может оказаться, что предложенные покупателю наиболее популярные продукты его уже не интересуют:"
   ]
  },
  {
   "cell_type": "code",
   "execution_count": 47,
   "metadata": {},
   "outputs": [],
   "source": [
    "def most_popular_new_products(all_cheques, max_results=5):\n",
    "    suggestions = [(product, frequency)\n",
    "                   for product, frequency in popular_products\n",
    "                   if product not in all_cheques]\n",
    "    return suggestions[:max_results]"
   ]
  },
  {
   "cell_type": "markdown",
   "metadata": {},
   "source": [
    "Так, для покупателя 1, который приобрел:"
   ]
  },
  {
   "cell_type": "code",
   "execution_count": 48,
   "metadata": {},
   "outputs": [
    {
     "data": {
      "text/plain": [
       "['dishwashing liquid/detergent',\n",
       " 'mixes',\n",
       " 'cheeses',\n",
       " 'individual meals',\n",
       " 'vegetables',\n",
       " 'shampoo',\n",
       " 'sandwich bags',\n",
       " 'waffles',\n",
       " 'laundry detergent',\n",
       " 'hand soap',\n",
       " 'milk']"
      ]
     },
     "execution_count": 48,
     "metadata": {},
     "output_type": "execute_result"
    }
   ],
   "source": [
    "all_cheques[1]"
   ]
  },
  {
   "cell_type": "markdown",
   "metadata": {},
   "source": [
    "рекомендация пяти других товаров будет выглядеть следующим образом:"
   ]
  },
  {
   "cell_type": "code",
   "execution_count": 49,
   "metadata": {},
   "outputs": [
    {
     "data": {
      "text/plain": [
       "[('poultry', 431),\n",
       " ('bagels', 417),\n",
       " ('lunch meat', 414),\n",
       " ('ice cream', 412),\n",
       " ('soda', 411)]"
      ]
     },
     "execution_count": 49,
     "metadata": {},
     "output_type": "execute_result"
    }
   ],
   "source": [
    "most_popular_new_products(all_cheques[1], max_results=5)"
   ]
  },
  {
   "cell_type": "markdown",
   "metadata": {},
   "source": [
    "# Коллаборативная фильтрация. Рекомендации, основанные на схожести покупателей."
   ]
  },
  {
   "cell_type": "code",
   "execution_count": 50,
   "metadata": {},
   "outputs": [],
   "source": [
    "# косинусный коэффициент подобия \n",
    "\n",
    "def cosine_similarity(v, w):\n",
    "    return dot(v, w) / math.sqrt(dot(v, v) * dot(w, w))"
   ]
  },
  {
   "cell_type": "code",
   "execution_count": 51,
   "metadata": {},
   "outputs": [],
   "source": [
    "# список интересующих товаров без повторов \n",
    "unique_products = sorted(list({ product\n",
    "                                 for all_cheques in all_cheques\n",
    "                                 for product in all_cheques }))"
   ]
  },
  {
   "cell_type": "markdown",
   "metadata": {},
   "source": [
    "Далее для каждого покупателя следует создать вектор интересующих его тем из О и 1. Для этого надо лишь просмотреть список уникальных продуктов unique_products, назначая 1, если покупатель заинтересован в товаре, и 0 — если нет:"
   ]
  },
  {
   "cell_type": "code",
   "execution_count": 52,
   "metadata": {},
   "outputs": [],
   "source": [
    "# создаем список интересующих покупателя товаров\n",
    "def make_user_product_vector(all_cheques):\n",
    "    \"\"\"при заданном списке купленных покупателем товаров создать вектор,\n",
    "    чей i-й элемент равен 1, если unique_products[i] есть в списке,\n",
    "    и 0 в противном случае\"\"\"\n",
    "    return [1 if product in all_cheques else 0\n",
    "            for product in unique_products]"
   ]
  },
  {
   "cell_type": "markdown",
   "metadata": {},
   "source": [
    "Затем можно создать матрицу товаров покупателей, отобразив эту функцию на каждый элемент списка списков товаров (т. е. применив ее к каждому элементу списка при помощи функции map:"
   ]
  },
  {
   "cell_type": "code",
   "execution_count": 53,
   "metadata": {},
   "outputs": [],
   "source": [
    "# матрица товаров в формате (покупатель, продукты),\n",
    "# где список товаров для каждого покупателя преобразован в 0 и 1 "
   ]
  },
  {
   "cell_type": "code",
   "execution_count": 54,
   "metadata": {},
   "outputs": [],
   "source": [
    "user_product_matrix = list(map(make_user_product_vector, all_cheques))"
   ]
  },
  {
   "cell_type": "code",
   "execution_count": 55,
   "metadata": {},
   "outputs": [
    {
     "data": {
      "text/plain": [
       "array(<function make_user_product_vector at 0x7f8a201bb820>, dtype=object)"
      ]
     },
     "execution_count": 55,
     "metadata": {},
     "output_type": "execute_result"
    }
   ],
   "source": [
    "np.array(make_user_product_vector )"
   ]
  },
  {
   "cell_type": "code",
   "execution_count": 56,
   "metadata": {},
   "outputs": [],
   "source": [
    "# матрица сходств между покупателями"
   ]
  },
  {
   "cell_type": "code",
   "execution_count": 57,
   "metadata": {},
   "outputs": [],
   "source": [
    "user_similarities = [[cosine_similarity(product_vector_i, product_vector_j)\n",
    "                      for product_vector_j in user_product_matrix]\n",
    "                     for product_vector_i in user_product_matrix]"
   ]
  },
  {
   "cell_type": "code",
   "execution_count": 58,
   "metadata": {},
   "outputs": [],
   "source": [
    "# пользователи наиболее похожие на пользователя user__id "
   ]
  },
  {
   "cell_type": "code",
   "execution_count": 59,
   "metadata": {},
   "outputs": [],
   "source": [
    "def most_similar_users_to(user_id):\n",
    "    pairs = [(other_user_id, similarity)                      # find other\n",
    "             for other_user_id, similarity in                 # users with\n",
    "                enumerate(user_similarities[user_id])         # nonzero\n",
    "             if user_id != other_user_id and similarity > 0]  # similarity\n",
    "\n",
    "    return sorted(pairs,                                      # sort them\n",
    "                  key=lambda pair: pair[1],                   # most similar\n",
    "                  reverse=True)                               # first"
   ]
  },
  {
   "cell_type": "code",
   "execution_count": 60,
   "metadata": {},
   "outputs": [],
   "source": [
    "# рекомендации на основе пользователя"
   ]
  },
  {
   "cell_type": "code",
   "execution_count": 61,
   "metadata": {},
   "outputs": [],
   "source": [
    "def user_based_suggestions(user_id, include_current_products=False):\n",
    "    # sum up the similarities\n",
    "    suggestions = defaultdict(float)\n",
    "    for other_user_id, similarity in most_similar_users_to(user_id):\n",
    "        for product in all_cheques[other_user_id]:\n",
    "            suggestions[product] += similarity\n",
    "\n",
    "    # convert them to a sorted list\n",
    "    suggestions = sorted(suggestions.items(),\n",
    "                         key=lambda pair: pair[1],\n",
    "                         reverse=True)\n",
    "\n",
    "    # and (maybe) exclude already-interests\n",
    "    if include_current_products:\n",
    "        return suggestions\n",
    "    else:\n",
    "        return [(suggestion, weight)\n",
    "                for suggestion, weight in suggestions\n",
    "                if suggestion not in all_cheques[user_id]]"
   ]
  },
  {
   "cell_type": "code",
   "execution_count": 62,
   "metadata": {},
   "outputs": [
    {
     "data": {
      "text/plain": [
       "[('poultry', 125.19797960634497),\n",
       " ('bagels', 124.22008227556728),\n",
       " ('lunch meat', 121.84506224844571),\n",
       " ('cereals', 120.94284831075132),\n",
       " ('flour', 118.01524044581322)]"
      ]
     },
     "execution_count": 62,
     "metadata": {},
     "output_type": "execute_result"
    }
   ],
   "source": [
    "user_based_suggestions(1)[:5]"
   ]
  },
  {
   "cell_type": "markdown",
   "metadata": {},
   "source": [
    "# Коллаборативная фильтрация. Рекомендации, основанные на схожести товаров."
   ]
  },
  {
   "cell_type": "markdown",
   "metadata": {},
   "source": [
    "Альтернативный подход заключается в вычислении сходства непосредственно между купленными товарами."
   ]
  },
  {
   "cell_type": "code",
   "execution_count": 63,
   "metadata": {},
   "outputs": [],
   "source": [
    "# коллаборационная фильтрация на основе товара\n",
    "\n",
    "product_user_matrix = [[user_product_vector[j]\n",
    "                         for user_product_vector in user_product_matrix]\n",
    "                        for j, _ in enumerate(unique_products)]"
   ]
  },
  {
   "cell_type": "code",
   "execution_count": 64,
   "metadata": {},
   "outputs": [],
   "source": [
    "# сходство товаров"
   ]
  },
  {
   "cell_type": "code",
   "execution_count": 65,
   "metadata": {},
   "outputs": [],
   "source": [
    "product_similarities = [[cosine_similarity(user_vector_i, user_vector_j)\n",
    "                          for user_vector_j in product_user_matrix]\n",
    "                         for user_vector_i in product_user_matrix]"
   ]
  },
  {
   "cell_type": "code",
   "execution_count": 66,
   "metadata": {},
   "outputs": [],
   "source": [
    "# товары, максимально похожие на интересующий товар"
   ]
  },
  {
   "cell_type": "code",
   "execution_count": 67,
   "metadata": {},
   "outputs": [],
   "source": [
    "def most_similar_products_to(product_id):\n",
    "    similarities = product_similarities[product_id]\n",
    "    pairs = [(unique_products[other_products_id], similarity)\n",
    "             for other_products_id, similarity in enumerate(similarities)\n",
    "             if product_id != other_products_id and similarity > 0]\n",
    "    return sorted(pairs,\n",
    "                  key=lambda pair: pair[1],\n",
    "                  reverse=True)"
   ]
  },
  {
   "cell_type": "code",
   "execution_count": 68,
   "metadata": {},
   "outputs": [
    {
     "data": {
      "text/plain": [
       "[('vegetables', 0.4019646258405418),\n",
       " ('fruits', 0.30632911392405066),\n",
       " ('waffles', 0.2903991351274259),\n",
       " ('laundry detergent', 0.28318606701032967),\n",
       " ('soap', 0.279951561959288)]"
      ]
     },
     "execution_count": 68,
     "metadata": {},
     "output_type": "execute_result"
    }
   ],
   "source": [
    "most_similar_products_to(0)[:5]"
   ]
  },
  {
   "cell_type": "code",
   "execution_count": 69,
   "metadata": {},
   "outputs": [],
   "source": [
    "# рекомендации на основе  товаров"
   ]
  },
  {
   "cell_type": "code",
   "execution_count": 70,
   "metadata": {},
   "outputs": [],
   "source": [
    "def product_based_suggestions(user_id, include_current_products=False):\n",
    "    # список рекомендаций, где суммируются похожие товары\n",
    "    suggestions = defaultdict(float)\n",
    "    # вектор товаров, интересующих покупателя user_id \n",
    "    user_product_vector = user_product_matrix[user_id]\n",
    "    for product_id, is_interested in enumerate(user_product_vector):\n",
    "        if is_interested == 1:\n",
    "            # товары, похожие на интересующий товар\n",
    "            similar_products = most_similar_products_to(product_id)\n",
    "            for product, similarity in similar_products:\n",
    "                suggestions[product] += similarity\n",
    "    # упорядочить по весу\n",
    "    suggestions = sorted(suggestions.items(),\n",
    "                         key=lambda pair: pair[1],\n",
    "                         reverse=True)\n",
    "\n",
    "    if include_current_products:\n",
    "        return suggestions\n",
    "    else:\n",
    "        return [(suggestion, weight)\n",
    "                for suggestion, weight in suggestions\n",
    "                if suggestion not in all_cheques[user_id]]"
   ]
  },
  {
   "cell_type": "code",
   "execution_count": 71,
   "metadata": {},
   "outputs": [
    {
     "data": {
      "text/plain": [
       "[('bagels', 3.2005396457094326),\n",
       " ('poultry', 3.1553868130056553),\n",
       " ('flour', 3.14933674333341),\n",
       " ('cereals', 3.1255225872574686),\n",
       " ('lunch meat', 3.116662043304796)]"
      ]
     },
     "execution_count": 71,
     "metadata": {},
     "output_type": "execute_result"
    }
   ],
   "source": [
    "product_based_suggestions(1)[:5]"
   ]
  },
  {
   "cell_type": "markdown",
   "metadata": {},
   "source": [
    "---"
   ]
  },
  {
   "cell_type": "markdown",
   "metadata": {},
   "source": [
    "# Surprise"
   ]
  },
  {
   "cell_type": "code",
   "execution_count": 1,
   "metadata": {},
   "outputs": [],
   "source": [
    "import pandas as pd\n",
    "import numpy as np\n",
    "from surprise import Reader, Dataset, SVD\n",
    "from surprise.model_selection import cross_validate\n",
    "from collections import Counter\n",
    "reader = Reader()"
   ]
  },
  {
   "cell_type": "markdown",
   "metadata": {},
   "source": [
    "Загрузим данные"
   ]
  },
  {
   "cell_type": "code",
   "execution_count": 2,
   "metadata": {},
   "outputs": [
    {
     "data": {
      "text/html": [
       "<div>\n",
       "<style scoped>\n",
       "    .dataframe tbody tr th:only-of-type {\n",
       "        vertical-align: middle;\n",
       "    }\n",
       "\n",
       "    .dataframe tbody tr th {\n",
       "        vertical-align: top;\n",
       "    }\n",
       "\n",
       "    .dataframe thead th {\n",
       "        text-align: right;\n",
       "    }\n",
       "</style>\n",
       "<table border=\"1\" class=\"dataframe\">\n",
       "  <thead>\n",
       "    <tr style=\"text-align: right;\">\n",
       "      <th></th>\n",
       "      <th>0</th>\n",
       "      <th>1</th>\n",
       "      <th>2</th>\n",
       "      <th>3</th>\n",
       "      <th>4</th>\n",
       "      <th>5</th>\n",
       "      <th>6</th>\n",
       "      <th>7</th>\n",
       "      <th>8</th>\n",
       "      <th>9</th>\n",
       "      <th>10</th>\n",
       "      <th>11</th>\n",
       "      <th>12</th>\n",
       "      <th>13</th>\n",
       "    </tr>\n",
       "  </thead>\n",
       "  <tbody>\n",
       "    <tr>\n",
       "      <th>0</th>\n",
       "      <td>pork</td>\n",
       "      <td>sandwich bags</td>\n",
       "      <td>lunch meat</td>\n",
       "      <td>all- purpose</td>\n",
       "      <td>flour</td>\n",
       "      <td>soda</td>\n",
       "      <td>butter</td>\n",
       "      <td>vegetables</td>\n",
       "      <td>beef</td>\n",
       "      <td>aluminum foil</td>\n",
       "      <td>all- purpose</td>\n",
       "      <td>dinner rolls</td>\n",
       "      <td>shampoo</td>\n",
       "      <td>all- purpose</td>\n",
       "    </tr>\n",
       "    <tr>\n",
       "      <th>1</th>\n",
       "      <td>shampoo</td>\n",
       "      <td>hand soap</td>\n",
       "      <td>waffles</td>\n",
       "      <td>vegetables</td>\n",
       "      <td>cheeses</td>\n",
       "      <td>mixes</td>\n",
       "      <td>milk</td>\n",
       "      <td>sandwich bags</td>\n",
       "      <td>laundry detergent</td>\n",
       "      <td>dishwashing liquid/detergent</td>\n",
       "      <td>waffles</td>\n",
       "      <td>individual meals</td>\n",
       "      <td>hand soap</td>\n",
       "      <td>vegetables</td>\n",
       "    </tr>\n",
       "    <tr>\n",
       "      <th>2</th>\n",
       "      <td>pork</td>\n",
       "      <td>soap</td>\n",
       "      <td>ice cream</td>\n",
       "      <td>toilet paper</td>\n",
       "      <td>dinner rolls</td>\n",
       "      <td>hand soap</td>\n",
       "      <td>spaghetti sauce</td>\n",
       "      <td>milk</td>\n",
       "      <td>ketchup</td>\n",
       "      <td>sandwich loaves</td>\n",
       "      <td>poultry</td>\n",
       "      <td>toilet paper</td>\n",
       "      <td>ice cream</td>\n",
       "      <td>ketchup</td>\n",
       "    </tr>\n",
       "    <tr>\n",
       "      <th>3</th>\n",
       "      <td>juice</td>\n",
       "      <td>lunch meat</td>\n",
       "      <td>soda</td>\n",
       "      <td>toilet paper</td>\n",
       "      <td>all- purpose</td>\n",
       "      <td>NaN</td>\n",
       "      <td>NaN</td>\n",
       "      <td>NaN</td>\n",
       "      <td>NaN</td>\n",
       "      <td>NaN</td>\n",
       "      <td>NaN</td>\n",
       "      <td>NaN</td>\n",
       "      <td>NaN</td>\n",
       "      <td>NaN</td>\n",
       "    </tr>\n",
       "    <tr>\n",
       "      <th>4</th>\n",
       "      <td>pasta</td>\n",
       "      <td>tortillas</td>\n",
       "      <td>mixes</td>\n",
       "      <td>hand soap</td>\n",
       "      <td>toilet paper</td>\n",
       "      <td>vegetables</td>\n",
       "      <td>vegetables</td>\n",
       "      <td>paper towels</td>\n",
       "      <td>vegetables</td>\n",
       "      <td>flour</td>\n",
       "      <td>vegetables</td>\n",
       "      <td>pork</td>\n",
       "      <td>poultry</td>\n",
       "      <td>eggs</td>\n",
       "    </tr>\n",
       "  </tbody>\n",
       "</table>\n",
       "</div>"
      ],
      "text/plain": [
       "        0              1           2             3             4           5   \\\n",
       "0     pork  sandwich bags  lunch meat  all- purpose         flour        soda   \n",
       "1  shampoo      hand soap     waffles    vegetables       cheeses       mixes   \n",
       "2     pork           soap   ice cream  toilet paper  dinner rolls   hand soap   \n",
       "3    juice     lunch meat        soda  toilet paper  all- purpose         NaN   \n",
       "4    pasta      tortillas       mixes     hand soap  toilet paper  vegetables   \n",
       "\n",
       "                6              7                  8   \\\n",
       "0           butter     vegetables               beef   \n",
       "1             milk  sandwich bags  laundry detergent   \n",
       "2  spaghetti sauce           milk            ketchup   \n",
       "3              NaN            NaN                NaN   \n",
       "4       vegetables   paper towels         vegetables   \n",
       "\n",
       "                             9             10                11         12  \\\n",
       "0                 aluminum foil  all- purpose      dinner rolls    shampoo   \n",
       "1  dishwashing liquid/detergent       waffles  individual meals  hand soap   \n",
       "2               sandwich loaves       poultry      toilet paper  ice cream   \n",
       "3                           NaN           NaN               NaN        NaN   \n",
       "4                         flour    vegetables              pork    poultry   \n",
       "\n",
       "             13  \n",
       "0  all- purpose  \n",
       "1    vegetables  \n",
       "2       ketchup  \n",
       "3           NaN  \n",
       "4          eggs  "
      ]
     },
     "metadata": {},
     "output_type": "display_data"
    }
   ],
   "source": [
    "basket = pd.read_csv(\"dataset.csv\", skipinitialspace=True, header=None)\n",
    "display(basket.head())"
   ]
  },
  {
   "cell_type": "markdown",
   "metadata": {},
   "source": [
    "Удалим пропуски."
   ]
  },
  {
   "cell_type": "code",
   "execution_count": 3,
   "metadata": {},
   "outputs": [],
   "source": [
    "basket = basket.fillna (' ')"
   ]
  },
  {
   "cell_type": "markdown",
   "metadata": {},
   "source": [
    "Объединим все покупки по чеку в 1 ячейку."
   ]
  },
  {
   "cell_type": "code",
   "execution_count": 4,
   "metadata": {},
   "outputs": [],
   "source": [
    "basket1 = basket[[0, 1, 2, 3, 4, 5, 6, 7, 8, 9, 10, 11, 12, 13]].T.agg(', '.join)"
   ]
  },
  {
   "cell_type": "code",
   "execution_count": 5,
   "metadata": {},
   "outputs": [],
   "source": [
    "basket_new = basket1.to_frame()"
   ]
  },
  {
   "cell_type": "code",
   "execution_count": 6,
   "metadata": {},
   "outputs": [],
   "source": [
    "basket_new = basket_new.rename(columns={0: 'itemDescription'})"
   ]
  },
  {
   "cell_type": "code",
   "execution_count": 7,
   "metadata": {},
   "outputs": [],
   "source": [
    "basket_new.itemDescription = basket_new.itemDescription.transform(lambda x: x.split(\", \"))"
   ]
  },
  {
   "cell_type": "code",
   "execution_count": 8,
   "metadata": {},
   "outputs": [
    {
     "data": {
      "text/plain": [
       "0       [pork, sandwich bags, lunch meat, all- purpose...\n",
       "1       [shampoo, hand soap, waffles, vegetables, chee...\n",
       "2       [pork, soap, ice cream, toilet paper, dinner r...\n",
       "3       [juice, lunch meat, soda, toilet paper, all- p...\n",
       "4       [pasta, tortillas, mixes, hand soap, toilet pa...\n",
       "                              ...                        \n",
       "1494    [beef, sandwich bags, hand soap, paper towels,...\n",
       "1495    [dinner rolls, lunch meat, spaghetti sauce, pa...\n",
       "1496    [lunch meat, eggs, poultry, vegetables, tortil...\n",
       "1497    [ketchup, milk, poultry, cheeses, soap, toilet...\n",
       "1498    [laundry detergent, vegetables, shampoo, veget...\n",
       "Name: itemDescription, Length: 1499, dtype: object"
      ]
     },
     "execution_count": 8,
     "metadata": {},
     "output_type": "execute_result"
    }
   ],
   "source": [
    "basket_new.itemDescription"
   ]
  },
  {
   "cell_type": "code",
   "execution_count": 9,
   "metadata": {},
   "outputs": [],
   "source": [
    "basket_new['id'] = [i for i in range(0, len(basket_new))]"
   ]
  },
  {
   "cell_type": "code",
   "execution_count": 10,
   "metadata": {},
   "outputs": [
    {
     "data": {
      "text/html": [
       "<div>\n",
       "<style scoped>\n",
       "    .dataframe tbody tr th:only-of-type {\n",
       "        vertical-align: middle;\n",
       "    }\n",
       "\n",
       "    .dataframe tbody tr th {\n",
       "        vertical-align: top;\n",
       "    }\n",
       "\n",
       "    .dataframe thead th {\n",
       "        text-align: right;\n",
       "    }\n",
       "</style>\n",
       "<table border=\"1\" class=\"dataframe\">\n",
       "  <thead>\n",
       "    <tr style=\"text-align: right;\">\n",
       "      <th></th>\n",
       "      <th>itemDescription</th>\n",
       "      <th>id</th>\n",
       "    </tr>\n",
       "  </thead>\n",
       "  <tbody>\n",
       "    <tr>\n",
       "      <th>0</th>\n",
       "      <td>[pork, sandwich bags, lunch meat, all- purpose...</td>\n",
       "      <td>0</td>\n",
       "    </tr>\n",
       "    <tr>\n",
       "      <th>1</th>\n",
       "      <td>[shampoo, hand soap, waffles, vegetables, chee...</td>\n",
       "      <td>1</td>\n",
       "    </tr>\n",
       "    <tr>\n",
       "      <th>2</th>\n",
       "      <td>[pork, soap, ice cream, toilet paper, dinner r...</td>\n",
       "      <td>2</td>\n",
       "    </tr>\n",
       "    <tr>\n",
       "      <th>3</th>\n",
       "      <td>[juice, lunch meat, soda, toilet paper, all- p...</td>\n",
       "      <td>3</td>\n",
       "    </tr>\n",
       "    <tr>\n",
       "      <th>4</th>\n",
       "      <td>[pasta, tortillas, mixes, hand soap, toilet pa...</td>\n",
       "      <td>4</td>\n",
       "    </tr>\n",
       "    <tr>\n",
       "      <th>...</th>\n",
       "      <td>...</td>\n",
       "      <td>...</td>\n",
       "    </tr>\n",
       "    <tr>\n",
       "      <th>1494</th>\n",
       "      <td>[beef, sandwich bags, hand soap, paper towels,...</td>\n",
       "      <td>1494</td>\n",
       "    </tr>\n",
       "    <tr>\n",
       "      <th>1495</th>\n",
       "      <td>[dinner rolls, lunch meat, spaghetti sauce, pa...</td>\n",
       "      <td>1495</td>\n",
       "    </tr>\n",
       "    <tr>\n",
       "      <th>1496</th>\n",
       "      <td>[lunch meat, eggs, poultry, vegetables, tortil...</td>\n",
       "      <td>1496</td>\n",
       "    </tr>\n",
       "    <tr>\n",
       "      <th>1497</th>\n",
       "      <td>[ketchup, milk, poultry, cheeses, soap, toilet...</td>\n",
       "      <td>1497</td>\n",
       "    </tr>\n",
       "    <tr>\n",
       "      <th>1498</th>\n",
       "      <td>[laundry detergent, vegetables, shampoo, veget...</td>\n",
       "      <td>1498</td>\n",
       "    </tr>\n",
       "  </tbody>\n",
       "</table>\n",
       "<p>1499 rows × 2 columns</p>\n",
       "</div>"
      ],
      "text/plain": [
       "                                        itemDescription    id\n",
       "0     [pork, sandwich bags, lunch meat, all- purpose...     0\n",
       "1     [shampoo, hand soap, waffles, vegetables, chee...     1\n",
       "2     [pork, soap, ice cream, toilet paper, dinner r...     2\n",
       "3     [juice, lunch meat, soda, toilet paper, all- p...     3\n",
       "4     [pasta, tortillas, mixes, hand soap, toilet pa...     4\n",
       "...                                                 ...   ...\n",
       "1494  [beef, sandwich bags, hand soap, paper towels,...  1494\n",
       "1495  [dinner rolls, lunch meat, spaghetti sauce, pa...  1495\n",
       "1496  [lunch meat, eggs, poultry, vegetables, tortil...  1496\n",
       "1497  [ketchup, milk, poultry, cheeses, soap, toilet...  1497\n",
       "1498  [laundry detergent, vegetables, shampoo, veget...  1498\n",
       "\n",
       "[1499 rows x 2 columns]"
      ]
     },
     "execution_count": 10,
     "metadata": {},
     "output_type": "execute_result"
    }
   ],
   "source": [
    "basket_new"
   ]
  },
  {
   "cell_type": "markdown",
   "metadata": {},
   "source": [
    "Сформируем список словарей для создания нового датафрейма, где кол-во купленного товара равно его рейтигу у покупателя."
   ]
  },
  {
   "cell_type": "code",
   "execution_count": 84,
   "metadata": {},
   "outputs": [],
   "source": [
    "lst = []\n",
    "for ind, i in enumerate(basket_new['itemDescription']):\n",
    "    i = Counter(i)\n",
    "    for el in i.elements():\n",
    "        if el != ' ':\n",
    "            dct = {}\n",
    "            dct['id'] = ind\n",
    "            dct['item'] = el\n",
    "            dct['rating'] = i[el]\n",
    "            lst.append(dct)"
   ]
  },
  {
   "cell_type": "code",
   "execution_count": 43,
   "metadata": {},
   "outputs": [],
   "source": [
    "basket_from_lst = pd.DataFrame(lst)"
   ]
  },
  {
   "cell_type": "code",
   "execution_count": 65,
   "metadata": {},
   "outputs": [],
   "source": [
    "basket_from_lst = basket_from_lst.drop_duplicates()"
   ]
  },
  {
   "cell_type": "code",
   "execution_count": 68,
   "metadata": {},
   "outputs": [
    {
     "data": {
      "text/html": [
       "<div>\n",
       "<style scoped>\n",
       "    .dataframe tbody tr th:only-of-type {\n",
       "        vertical-align: middle;\n",
       "    }\n",
       "\n",
       "    .dataframe tbody tr th {\n",
       "        vertical-align: top;\n",
       "    }\n",
       "\n",
       "    .dataframe thead th {\n",
       "        text-align: right;\n",
       "    }\n",
       "</style>\n",
       "<table border=\"1\" class=\"dataframe\">\n",
       "  <thead>\n",
       "    <tr style=\"text-align: right;\">\n",
       "      <th></th>\n",
       "      <th>id</th>\n",
       "      <th>item</th>\n",
       "      <th>rating</th>\n",
       "    </tr>\n",
       "  </thead>\n",
       "  <tbody>\n",
       "    <tr>\n",
       "      <th>0</th>\n",
       "      <td>0</td>\n",
       "      <td>pork</td>\n",
       "      <td>1</td>\n",
       "    </tr>\n",
       "    <tr>\n",
       "      <th>1</th>\n",
       "      <td>0</td>\n",
       "      <td>sandwich bags</td>\n",
       "      <td>1</td>\n",
       "    </tr>\n",
       "    <tr>\n",
       "      <th>2</th>\n",
       "      <td>0</td>\n",
       "      <td>lunch meat</td>\n",
       "      <td>1</td>\n",
       "    </tr>\n",
       "    <tr>\n",
       "      <th>3</th>\n",
       "      <td>0</td>\n",
       "      <td>all- purpose</td>\n",
       "      <td>3</td>\n",
       "    </tr>\n",
       "    <tr>\n",
       "      <th>6</th>\n",
       "      <td>0</td>\n",
       "      <td>flour</td>\n",
       "      <td>1</td>\n",
       "    </tr>\n",
       "    <tr>\n",
       "      <th>7</th>\n",
       "      <td>0</td>\n",
       "      <td>soda</td>\n",
       "      <td>1</td>\n",
       "    </tr>\n",
       "    <tr>\n",
       "      <th>8</th>\n",
       "      <td>0</td>\n",
       "      <td>butter</td>\n",
       "      <td>1</td>\n",
       "    </tr>\n",
       "    <tr>\n",
       "      <th>9</th>\n",
       "      <td>0</td>\n",
       "      <td>vegetables</td>\n",
       "      <td>1</td>\n",
       "    </tr>\n",
       "    <tr>\n",
       "      <th>10</th>\n",
       "      <td>0</td>\n",
       "      <td>beef</td>\n",
       "      <td>1</td>\n",
       "    </tr>\n",
       "    <tr>\n",
       "      <th>11</th>\n",
       "      <td>0</td>\n",
       "      <td>aluminum foil</td>\n",
       "      <td>1</td>\n",
       "    </tr>\n",
       "    <tr>\n",
       "      <th>12</th>\n",
       "      <td>0</td>\n",
       "      <td>dinner rolls</td>\n",
       "      <td>1</td>\n",
       "    </tr>\n",
       "    <tr>\n",
       "      <th>13</th>\n",
       "      <td>0</td>\n",
       "      <td>shampoo</td>\n",
       "      <td>1</td>\n",
       "    </tr>\n",
       "  </tbody>\n",
       "</table>\n",
       "</div>"
      ],
      "text/plain": [
       "    id           item  rating\n",
       "0    0           pork       1\n",
       "1    0  sandwich bags       1\n",
       "2    0     lunch meat       1\n",
       "3    0   all- purpose       3\n",
       "6    0          flour       1\n",
       "7    0           soda       1\n",
       "8    0         butter       1\n",
       "9    0     vegetables       1\n",
       "10   0           beef       1\n",
       "11   0  aluminum foil       1\n",
       "12   0   dinner rolls       1\n",
       "13   0        shampoo       1"
      ]
     },
     "execution_count": 68,
     "metadata": {},
     "output_type": "execute_result"
    }
   ],
   "source": [
    "basket_from_lst.head(12)"
   ]
  },
  {
   "cell_type": "code",
   "execution_count": 129,
   "metadata": {},
   "outputs": [
    {
     "data": {
      "text/plain": [
       "1.1769900096680632"
      ]
     },
     "execution_count": 129,
     "metadata": {},
     "output_type": "execute_result"
    }
   ],
   "source": [
    "basket_from_lst['rating'].mean()"
   ]
  },
  {
   "cell_type": "code",
   "execution_count": 69,
   "metadata": {},
   "outputs": [],
   "source": [
    "data = Dataset.load_from_df(basket_from_lst[['id', 'item', 'rating']], reader)"
   ]
  },
  {
   "cell_type": "code",
   "execution_count": 70,
   "metadata": {},
   "outputs": [],
   "source": [
    "svd = SVD()\n",
    "result = cross_validate(svd, data, measures=['RMSE', 'MAE','FCP'],cv=5)"
   ]
  },
  {
   "cell_type": "code",
   "execution_count": 71,
   "metadata": {},
   "outputs": [
    {
     "data": {
      "text/plain": [
       "{'test_rmse': array([0.45658001, 0.44126099, 0.44953024, 0.44843765, 0.46309999]),\n",
       " 'test_mae': array([0.29385654, 0.28785092, 0.29111226, 0.29191363, 0.29587958]),\n",
       " 'test_fcp': array([0.51181812, 0.49858624, 0.51108557, 0.50223576, 0.50029944]),\n",
       " 'fit_time': (0.07422995567321777,\n",
       "  0.05759286880493164,\n",
       "  0.057917118072509766,\n",
       "  0.0574803352355957,\n",
       "  0.05740094184875488),\n",
       " 'test_time': (0.01223897933959961,\n",
       "  0.011510133743286133,\n",
       "  0.011508941650390625,\n",
       "  0.011366844177246094,\n",
       "  0.01137089729309082)}"
      ]
     },
     "execution_count": 71,
     "metadata": {},
     "output_type": "execute_result"
    }
   ],
   "source": [
    "result"
   ]
  },
  {
   "cell_type": "markdown",
   "metadata": {},
   "source": [
    "RMSE достаточно высокий. Учитывая, что средний рейтинг около 1."
   ]
  },
  {
   "cell_type": "code",
   "execution_count": 72,
   "metadata": {},
   "outputs": [
    {
     "data": {
      "text/plain": [
       "0.4517817762752697"
      ]
     },
     "execution_count": 72,
     "metadata": {},
     "output_type": "execute_result"
    }
   ],
   "source": [
    "result['test_rmse'].mean()"
   ]
  },
  {
   "cell_type": "code",
   "execution_count": 73,
   "metadata": {},
   "outputs": [
    {
     "data": {
      "text/plain": [
       "0.2921225873218526"
      ]
     },
     "execution_count": 73,
     "metadata": {},
     "output_type": "execute_result"
    }
   ],
   "source": [
    "result['test_mae'].mean()"
   ]
  },
  {
   "cell_type": "code",
   "execution_count": 74,
   "metadata": {},
   "outputs": [
    {
     "data": {
      "text/plain": [
       "0.5048050250496938"
      ]
     },
     "execution_count": 74,
     "metadata": {},
     "output_type": "execute_result"
    }
   ],
   "source": [
    "result['test_fcp'].mean()"
   ]
  },
  {
   "cell_type": "markdown",
   "metadata": {},
   "source": [
    "Обучим модель на трейне."
   ]
  },
  {
   "cell_type": "code",
   "execution_count": 75,
   "metadata": {},
   "outputs": [
    {
     "data": {
      "text/plain": [
       "<surprise.prediction_algorithms.matrix_factorization.SVD at 0x7f9c301d1d90>"
      ]
     },
     "execution_count": 75,
     "metadata": {},
     "output_type": "execute_result"
    }
   ],
   "source": [
    "trainset = data.build_full_trainset()\n",
    "svd.fit(trainset)"
   ]
  },
  {
   "cell_type": "markdown",
   "metadata": {},
   "source": [
    "Посмотрим реальные рейтинги покупателя 1."
   ]
  },
  {
   "cell_type": "code",
   "execution_count": 76,
   "metadata": {},
   "outputs": [
    {
     "data": {
      "text/html": [
       "<div>\n",
       "<style scoped>\n",
       "    .dataframe tbody tr th:only-of-type {\n",
       "        vertical-align: middle;\n",
       "    }\n",
       "\n",
       "    .dataframe tbody tr th {\n",
       "        vertical-align: top;\n",
       "    }\n",
       "\n",
       "    .dataframe thead th {\n",
       "        text-align: right;\n",
       "    }\n",
       "</style>\n",
       "<table border=\"1\" class=\"dataframe\">\n",
       "  <thead>\n",
       "    <tr style=\"text-align: right;\">\n",
       "      <th></th>\n",
       "      <th>id</th>\n",
       "      <th>item</th>\n",
       "      <th>rating</th>\n",
       "    </tr>\n",
       "  </thead>\n",
       "  <tbody>\n",
       "    <tr>\n",
       "      <th>14</th>\n",
       "      <td>1</td>\n",
       "      <td>shampoo</td>\n",
       "      <td>1</td>\n",
       "    </tr>\n",
       "    <tr>\n",
       "      <th>15</th>\n",
       "      <td>1</td>\n",
       "      <td>hand soap</td>\n",
       "      <td>2</td>\n",
       "    </tr>\n",
       "    <tr>\n",
       "      <th>17</th>\n",
       "      <td>1</td>\n",
       "      <td>waffles</td>\n",
       "      <td>2</td>\n",
       "    </tr>\n",
       "    <tr>\n",
       "      <th>19</th>\n",
       "      <td>1</td>\n",
       "      <td>vegetables</td>\n",
       "      <td>2</td>\n",
       "    </tr>\n",
       "    <tr>\n",
       "      <th>21</th>\n",
       "      <td>1</td>\n",
       "      <td>cheeses</td>\n",
       "      <td>1</td>\n",
       "    </tr>\n",
       "    <tr>\n",
       "      <th>22</th>\n",
       "      <td>1</td>\n",
       "      <td>mixes</td>\n",
       "      <td>1</td>\n",
       "    </tr>\n",
       "    <tr>\n",
       "      <th>23</th>\n",
       "      <td>1</td>\n",
       "      <td>milk</td>\n",
       "      <td>1</td>\n",
       "    </tr>\n",
       "    <tr>\n",
       "      <th>24</th>\n",
       "      <td>1</td>\n",
       "      <td>sandwich bags</td>\n",
       "      <td>1</td>\n",
       "    </tr>\n",
       "    <tr>\n",
       "      <th>25</th>\n",
       "      <td>1</td>\n",
       "      <td>laundry detergent</td>\n",
       "      <td>1</td>\n",
       "    </tr>\n",
       "    <tr>\n",
       "      <th>26</th>\n",
       "      <td>1</td>\n",
       "      <td>dishwashing liquid/detergent</td>\n",
       "      <td>1</td>\n",
       "    </tr>\n",
       "    <tr>\n",
       "      <th>27</th>\n",
       "      <td>1</td>\n",
       "      <td>individual meals</td>\n",
       "      <td>1</td>\n",
       "    </tr>\n",
       "  </tbody>\n",
       "</table>\n",
       "</div>"
      ],
      "text/plain": [
       "    id                          item  rating\n",
       "14   1                       shampoo       1\n",
       "15   1                     hand soap       2\n",
       "17   1                       waffles       2\n",
       "19   1                    vegetables       2\n",
       "21   1                       cheeses       1\n",
       "22   1                         mixes       1\n",
       "23   1                          milk       1\n",
       "24   1                 sandwich bags       1\n",
       "25   1             laundry detergent       1\n",
       "26   1  dishwashing liquid/detergent       1\n",
       "27   1              individual meals       1"
      ]
     },
     "execution_count": 76,
     "metadata": {},
     "output_type": "execute_result"
    }
   ],
   "source": [
    "basket_from_lst[basket_from_lst['id'] == 1]"
   ]
  },
  {
   "cell_type": "code",
   "execution_count": 123,
   "metadata": {},
   "outputs": [],
   "source": [
    "# result = svd.predict(uid= 0, iid='vegetables') # uid =userId;  iid = item  # r_ui - истинный рейтинг"
   ]
  },
  {
   "cell_type": "code",
   "execution_count": 124,
   "metadata": {},
   "outputs": [
    {
     "data": {
      "text/plain": [
       "Prediction(uid=0, iid='vegetables', r_ui=None, est=1.131529340274289, details={'was_impossible': False})"
      ]
     },
     "execution_count": 124,
     "metadata": {},
     "output_type": "execute_result"
    }
   ],
   "source": [
    "# result"
   ]
  },
  {
   "cell_type": "markdown",
   "metadata": {},
   "source": [
    "Сформируем рекомендации для покупателя 1."
   ]
  },
  {
   "cell_type": "code",
   "execution_count": 127,
   "metadata": {},
   "outputs": [],
   "source": [
    "fg = []\n",
    "for i in basket_from_lst['item'].unique():\n",
    "     result = svd.predict(1, i, None)\n",
    "     fg.append([i,result.est])"
   ]
  },
  {
   "cell_type": "code",
   "execution_count": 128,
   "metadata": {},
   "outputs": [
    {
     "name": "stdout",
     "output_type": "stream",
     "text": [
      "[['lunch meat', 1.3048651455326725], ['vegetables', 1.6520979284688864], ['waffles', 1.2896178205511286], ['soap', 1.2924538193829127], ['toilet paper', 1.2854850281232133]]\n"
     ]
    }
   ],
   "source": [
    "res = []\n",
    "for i in fg:\n",
    "    res.append(i[1])\n",
    "    res.sort(reverse=True)\n",
    "    best_5 = res[:5]\n",
    "recommendation = []\n",
    "for i in fg:\n",
    "    if i[1] in best_5:\n",
    "        recommendation.append(i)\n",
    "print(recommendation)"
   ]
  },
  {
   "cell_type": "markdown",
   "metadata": {},
   "source": [
    "**Явный недостаток модели - отсутсвие 0 предсказаний.**"
   ]
  },
  {
   "cell_type": "markdown",
   "metadata": {},
   "source": [
    "---"
   ]
  },
  {
   "cell_type": "markdown",
   "metadata": {},
   "source": [
    "# lightfm"
   ]
  },
  {
   "cell_type": "code",
   "execution_count": 199,
   "metadata": {},
   "outputs": [],
   "source": [
    "import numpy as np\n",
    "import warnings\n",
    "warnings.simplefilter(action='ignore', category=Warning)\n",
    "from lightfm.datasets import fetch_movielens\n",
    "from lightfm import LightFM\n",
    "from recsys import *\n",
    "from sklearn import preprocessing\n",
    "from scipy.sparse import coo_matrix\n",
    "from scipy import sparse"
   ]
  },
  {
   "cell_type": "code",
   "execution_count": 193,
   "metadata": {},
   "outputs": [],
   "source": [
    "def create_interaction_matrix(df,user_col, item_col, rating_col, norm= False, threshold = None):\n",
    "    '''\n",
    "    Function to create an interaction matrix dataframe from transactional type interactions\n",
    "    Required Input -\n",
    "        - df = Pandas DataFrame containing user-item interactions\n",
    "        - user_col = column name containing user's identifier\n",
    "        - item_col = column name containing item's identifier\n",
    "        - rating col = column name containing user feedback on interaction with a given item\n",
    "        - norm (optional) = True if a normalization of ratings is needed\n",
    "        - threshold (required if norm = True) = value above which the rating is favorable\n",
    "    Expected output - \n",
    "        - Pandas dataframe with user-item interactions ready to be fed in a recommendation algorithm\n",
    "    '''\n",
    "    interactions = df.groupby([user_col, item_col])[rating_col] \\\n",
    "            .sum().unstack().reset_index(). \\\n",
    "            fillna(0).set_index(user_col)\n",
    "    if norm:\n",
    "        interactions = interactions.applymap(lambda x: 1 if x > threshold else 0)\n",
    "    return interactions"
   ]
  },
  {
   "cell_type": "code",
   "execution_count": 264,
   "metadata": {},
   "outputs": [
    {
     "data": {
      "text/html": [
       "<div>\n",
       "<style scoped>\n",
       "    .dataframe tbody tr th:only-of-type {\n",
       "        vertical-align: middle;\n",
       "    }\n",
       "\n",
       "    .dataframe tbody tr th {\n",
       "        vertical-align: top;\n",
       "    }\n",
       "\n",
       "    .dataframe thead th {\n",
       "        text-align: right;\n",
       "    }\n",
       "</style>\n",
       "<table border=\"1\" class=\"dataframe\">\n",
       "  <thead>\n",
       "    <tr style=\"text-align: right;\">\n",
       "      <th></th>\n",
       "      <th>id</th>\n",
       "      <th>item</th>\n",
       "      <th>rating</th>\n",
       "    </tr>\n",
       "  </thead>\n",
       "  <tbody>\n",
       "    <tr>\n",
       "      <th>0</th>\n",
       "      <td>0</td>\n",
       "      <td>pork</td>\n",
       "      <td>1</td>\n",
       "    </tr>\n",
       "    <tr>\n",
       "      <th>1</th>\n",
       "      <td>0</td>\n",
       "      <td>sandwich bags</td>\n",
       "      <td>1</td>\n",
       "    </tr>\n",
       "    <tr>\n",
       "      <th>2</th>\n",
       "      <td>0</td>\n",
       "      <td>lunch meat</td>\n",
       "      <td>1</td>\n",
       "    </tr>\n",
       "    <tr>\n",
       "      <th>3</th>\n",
       "      <td>0</td>\n",
       "      <td>all- purpose</td>\n",
       "      <td>3</td>\n",
       "    </tr>\n",
       "    <tr>\n",
       "      <th>6</th>\n",
       "      <td>0</td>\n",
       "      <td>flour</td>\n",
       "      <td>1</td>\n",
       "    </tr>\n",
       "    <tr>\n",
       "      <th>...</th>\n",
       "      <td>...</td>\n",
       "      <td>...</td>\n",
       "      <td>...</td>\n",
       "    </tr>\n",
       "    <tr>\n",
       "      <th>18255</th>\n",
       "      <td>1497</td>\n",
       "      <td>all- purpose</td>\n",
       "      <td>1</td>\n",
       "    </tr>\n",
       "    <tr>\n",
       "      <th>18256</th>\n",
       "      <td>1497</td>\n",
       "      <td>sandwich bags</td>\n",
       "      <td>1</td>\n",
       "    </tr>\n",
       "    <tr>\n",
       "      <th>18257</th>\n",
       "      <td>1498</td>\n",
       "      <td>laundry detergent</td>\n",
       "      <td>1</td>\n",
       "    </tr>\n",
       "    <tr>\n",
       "      <th>18258</th>\n",
       "      <td>1498</td>\n",
       "      <td>vegetables</td>\n",
       "      <td>2</td>\n",
       "    </tr>\n",
       "    <tr>\n",
       "      <th>18260</th>\n",
       "      <td>1498</td>\n",
       "      <td>shampoo</td>\n",
       "      <td>1</td>\n",
       "    </tr>\n",
       "  </tbody>\n",
       "</table>\n",
       "<p>15515 rows × 3 columns</p>\n",
       "</div>"
      ],
      "text/plain": [
       "         id               item  rating\n",
       "0         0               pork       1\n",
       "1         0      sandwich bags       1\n",
       "2         0         lunch meat       1\n",
       "3         0       all- purpose       3\n",
       "6         0              flour       1\n",
       "...     ...                ...     ...\n",
       "18255  1497       all- purpose       1\n",
       "18256  1497      sandwich bags       1\n",
       "18257  1498  laundry detergent       1\n",
       "18258  1498         vegetables       2\n",
       "18260  1498            shampoo       1\n",
       "\n",
       "[15515 rows x 3 columns]"
      ]
     },
     "execution_count": 264,
     "metadata": {},
     "output_type": "execute_result"
    }
   ],
   "source": [
    "basket_from_lst"
   ]
  },
  {
   "cell_type": "markdown",
   "metadata": {},
   "source": [
    "Надо преобразовать список в NumPy array, чтобы позже использовать его в multi-dimensional NumPy indexing. "
   ]
  },
  {
   "cell_type": "code",
   "execution_count": 292,
   "metadata": {},
   "outputs": [],
   "source": [
    "all_pr = np.array(all_pr)"
   ]
  },
  {
   "cell_type": "markdown",
   "metadata": {},
   "source": [
    "Закодируем название товаров."
   ]
  },
  {
   "cell_type": "code",
   "execution_count": 293,
   "metadata": {},
   "outputs": [],
   "source": [
    "from sklearn import preprocessing\n",
    "le = preprocessing.LabelEncoder()\n",
    "le.fit(all_pr)\n",
    "\n",
    "items = [i for i in basket_from_lst.item]\n",
    "items_le = le.transform(items)"
   ]
  },
  {
   "cell_type": "code",
   "execution_count": 294,
   "metadata": {},
   "outputs": [],
   "source": [
    "basket_from_lst['items_le'] = items_le"
   ]
  },
  {
   "cell_type": "code",
   "execution_count": 295,
   "metadata": {},
   "outputs": [],
   "source": [
    "basket_from_lst_le = basket_from_lst.drop('item', axis=1 )"
   ]
  },
  {
   "cell_type": "code",
   "execution_count": 296,
   "metadata": {},
   "outputs": [
    {
     "data": {
      "text/html": [
       "<div>\n",
       "<style scoped>\n",
       "    .dataframe tbody tr th:only-of-type {\n",
       "        vertical-align: middle;\n",
       "    }\n",
       "\n",
       "    .dataframe tbody tr th {\n",
       "        vertical-align: top;\n",
       "    }\n",
       "\n",
       "    .dataframe thead th {\n",
       "        text-align: right;\n",
       "    }\n",
       "</style>\n",
       "<table border=\"1\" class=\"dataframe\">\n",
       "  <thead>\n",
       "    <tr style=\"text-align: right;\">\n",
       "      <th></th>\n",
       "      <th>id</th>\n",
       "      <th>rating</th>\n",
       "      <th>items_le</th>\n",
       "    </tr>\n",
       "  </thead>\n",
       "  <tbody>\n",
       "    <tr>\n",
       "      <th>0</th>\n",
       "      <td>0</td>\n",
       "      <td>1</td>\n",
       "      <td>24</td>\n",
       "    </tr>\n",
       "    <tr>\n",
       "      <th>1</th>\n",
       "      <td>0</td>\n",
       "      <td>1</td>\n",
       "      <td>26</td>\n",
       "    </tr>\n",
       "    <tr>\n",
       "      <th>2</th>\n",
       "      <td>0</td>\n",
       "      <td>1</td>\n",
       "      <td>19</td>\n",
       "    </tr>\n",
       "    <tr>\n",
       "      <th>3</th>\n",
       "      <td>0</td>\n",
       "      <td>3</td>\n",
       "      <td>0</td>\n",
       "    </tr>\n",
       "    <tr>\n",
       "      <th>6</th>\n",
       "      <td>0</td>\n",
       "      <td>1</td>\n",
       "      <td>11</td>\n",
       "    </tr>\n",
       "    <tr>\n",
       "      <th>...</th>\n",
       "      <td>...</td>\n",
       "      <td>...</td>\n",
       "      <td>...</td>\n",
       "    </tr>\n",
       "    <tr>\n",
       "      <th>18255</th>\n",
       "      <td>1497</td>\n",
       "      <td>1</td>\n",
       "      <td>0</td>\n",
       "    </tr>\n",
       "    <tr>\n",
       "      <th>18256</th>\n",
       "      <td>1497</td>\n",
       "      <td>1</td>\n",
       "      <td>26</td>\n",
       "    </tr>\n",
       "    <tr>\n",
       "      <th>18257</th>\n",
       "      <td>1498</td>\n",
       "      <td>1</td>\n",
       "      <td>18</td>\n",
       "    </tr>\n",
       "    <tr>\n",
       "      <th>18258</th>\n",
       "      <td>1498</td>\n",
       "      <td>2</td>\n",
       "      <td>35</td>\n",
       "    </tr>\n",
       "    <tr>\n",
       "      <th>18260</th>\n",
       "      <td>1498</td>\n",
       "      <td>1</td>\n",
       "      <td>28</td>\n",
       "    </tr>\n",
       "  </tbody>\n",
       "</table>\n",
       "<p>15515 rows × 3 columns</p>\n",
       "</div>"
      ],
      "text/plain": [
       "         id  rating  items_le\n",
       "0         0       1        24\n",
       "1         0       1        26\n",
       "2         0       1        19\n",
       "3         0       3         0\n",
       "6         0       1        11\n",
       "...     ...     ...       ...\n",
       "18255  1497       1         0\n",
       "18256  1497       1        26\n",
       "18257  1498       1        18\n",
       "18258  1498       2        35\n",
       "18260  1498       1        28\n",
       "\n",
       "[15515 rows x 3 columns]"
      ]
     },
     "execution_count": 296,
     "metadata": {},
     "output_type": "execute_result"
    }
   ],
   "source": [
    "basket_from_lst_le"
   ]
  },
  {
   "cell_type": "markdown",
   "metadata": {},
   "source": [
    "Изменим датафейм для дальнейшего его преобразования в разряженную матрицу."
   ]
  },
  {
   "cell_type": "code",
   "execution_count": 297,
   "metadata": {},
   "outputs": [
    {
     "data": {
      "text/html": [
       "<div>\n",
       "<style scoped>\n",
       "    .dataframe tbody tr th:only-of-type {\n",
       "        vertical-align: middle;\n",
       "    }\n",
       "\n",
       "    .dataframe tbody tr th {\n",
       "        vertical-align: top;\n",
       "    }\n",
       "\n",
       "    .dataframe thead th {\n",
       "        text-align: right;\n",
       "    }\n",
       "</style>\n",
       "<table border=\"1\" class=\"dataframe\">\n",
       "  <thead>\n",
       "    <tr style=\"text-align: right;\">\n",
       "      <th>items_le</th>\n",
       "      <th>0</th>\n",
       "      <th>1</th>\n",
       "      <th>2</th>\n",
       "      <th>3</th>\n",
       "      <th>4</th>\n",
       "      <th>5</th>\n",
       "      <th>6</th>\n",
       "      <th>7</th>\n",
       "      <th>8</th>\n",
       "      <th>9</th>\n",
       "      <th>...</th>\n",
       "      <th>28</th>\n",
       "      <th>29</th>\n",
       "      <th>30</th>\n",
       "      <th>31</th>\n",
       "      <th>32</th>\n",
       "      <th>33</th>\n",
       "      <th>34</th>\n",
       "      <th>35</th>\n",
       "      <th>36</th>\n",
       "      <th>37</th>\n",
       "    </tr>\n",
       "    <tr>\n",
       "      <th>id</th>\n",
       "      <th></th>\n",
       "      <th></th>\n",
       "      <th></th>\n",
       "      <th></th>\n",
       "      <th></th>\n",
       "      <th></th>\n",
       "      <th></th>\n",
       "      <th></th>\n",
       "      <th></th>\n",
       "      <th></th>\n",
       "      <th></th>\n",
       "      <th></th>\n",
       "      <th></th>\n",
       "      <th></th>\n",
       "      <th></th>\n",
       "      <th></th>\n",
       "      <th></th>\n",
       "      <th></th>\n",
       "      <th></th>\n",
       "      <th></th>\n",
       "      <th></th>\n",
       "    </tr>\n",
       "  </thead>\n",
       "  <tbody>\n",
       "    <tr>\n",
       "      <th>0</th>\n",
       "      <td>3.0</td>\n",
       "      <td>1.0</td>\n",
       "      <td>0.0</td>\n",
       "      <td>1.0</td>\n",
       "      <td>1.0</td>\n",
       "      <td>0.0</td>\n",
       "      <td>0.0</td>\n",
       "      <td>0.0</td>\n",
       "      <td>1.0</td>\n",
       "      <td>0.0</td>\n",
       "      <td>...</td>\n",
       "      <td>1.0</td>\n",
       "      <td>0.0</td>\n",
       "      <td>1.0</td>\n",
       "      <td>0.0</td>\n",
       "      <td>0.0</td>\n",
       "      <td>0.0</td>\n",
       "      <td>0.0</td>\n",
       "      <td>1.0</td>\n",
       "      <td>0.0</td>\n",
       "      <td>0.0</td>\n",
       "    </tr>\n",
       "    <tr>\n",
       "      <th>1</th>\n",
       "      <td>0.0</td>\n",
       "      <td>0.0</td>\n",
       "      <td>0.0</td>\n",
       "      <td>0.0</td>\n",
       "      <td>0.0</td>\n",
       "      <td>0.0</td>\n",
       "      <td>1.0</td>\n",
       "      <td>0.0</td>\n",
       "      <td>0.0</td>\n",
       "      <td>1.0</td>\n",
       "      <td>...</td>\n",
       "      <td>1.0</td>\n",
       "      <td>0.0</td>\n",
       "      <td>0.0</td>\n",
       "      <td>0.0</td>\n",
       "      <td>0.0</td>\n",
       "      <td>0.0</td>\n",
       "      <td>0.0</td>\n",
       "      <td>2.0</td>\n",
       "      <td>2.0</td>\n",
       "      <td>0.0</td>\n",
       "    </tr>\n",
       "    <tr>\n",
       "      <th>2</th>\n",
       "      <td>0.0</td>\n",
       "      <td>0.0</td>\n",
       "      <td>0.0</td>\n",
       "      <td>0.0</td>\n",
       "      <td>0.0</td>\n",
       "      <td>0.0</td>\n",
       "      <td>0.0</td>\n",
       "      <td>0.0</td>\n",
       "      <td>1.0</td>\n",
       "      <td>0.0</td>\n",
       "      <td>...</td>\n",
       "      <td>0.0</td>\n",
       "      <td>1.0</td>\n",
       "      <td>0.0</td>\n",
       "      <td>1.0</td>\n",
       "      <td>0.0</td>\n",
       "      <td>2.0</td>\n",
       "      <td>0.0</td>\n",
       "      <td>0.0</td>\n",
       "      <td>0.0</td>\n",
       "      <td>0.0</td>\n",
       "    </tr>\n",
       "    <tr>\n",
       "      <th>3</th>\n",
       "      <td>1.0</td>\n",
       "      <td>0.0</td>\n",
       "      <td>0.0</td>\n",
       "      <td>0.0</td>\n",
       "      <td>0.0</td>\n",
       "      <td>0.0</td>\n",
       "      <td>0.0</td>\n",
       "      <td>0.0</td>\n",
       "      <td>0.0</td>\n",
       "      <td>0.0</td>\n",
       "      <td>...</td>\n",
       "      <td>0.0</td>\n",
       "      <td>0.0</td>\n",
       "      <td>1.0</td>\n",
       "      <td>0.0</td>\n",
       "      <td>0.0</td>\n",
       "      <td>1.0</td>\n",
       "      <td>0.0</td>\n",
       "      <td>0.0</td>\n",
       "      <td>0.0</td>\n",
       "      <td>0.0</td>\n",
       "    </tr>\n",
       "    <tr>\n",
       "      <th>4</th>\n",
       "      <td>0.0</td>\n",
       "      <td>0.0</td>\n",
       "      <td>0.0</td>\n",
       "      <td>0.0</td>\n",
       "      <td>0.0</td>\n",
       "      <td>0.0</td>\n",
       "      <td>0.0</td>\n",
       "      <td>0.0</td>\n",
       "      <td>0.0</td>\n",
       "      <td>0.0</td>\n",
       "      <td>...</td>\n",
       "      <td>0.0</td>\n",
       "      <td>0.0</td>\n",
       "      <td>0.0</td>\n",
       "      <td>0.0</td>\n",
       "      <td>0.0</td>\n",
       "      <td>1.0</td>\n",
       "      <td>1.0</td>\n",
       "      <td>4.0</td>\n",
       "      <td>0.0</td>\n",
       "      <td>0.0</td>\n",
       "    </tr>\n",
       "  </tbody>\n",
       "</table>\n",
       "<p>5 rows × 38 columns</p>\n",
       "</div>"
      ],
      "text/plain": [
       "items_le   0    1    2    3    4    5    6    7    8    9   ...   28   29  \\\n",
       "id                                                          ...             \n",
       "0         3.0  1.0  0.0  1.0  1.0  0.0  0.0  0.0  1.0  0.0  ...  1.0  0.0   \n",
       "1         0.0  0.0  0.0  0.0  0.0  0.0  1.0  0.0  0.0  1.0  ...  1.0  0.0   \n",
       "2         0.0  0.0  0.0  0.0  0.0  0.0  0.0  0.0  1.0  0.0  ...  0.0  1.0   \n",
       "3         1.0  0.0  0.0  0.0  0.0  0.0  0.0  0.0  0.0  0.0  ...  0.0  0.0   \n",
       "4         0.0  0.0  0.0  0.0  0.0  0.0  0.0  0.0  0.0  0.0  ...  0.0  0.0   \n",
       "\n",
       "items_le   30   31   32   33   34   35   36   37  \n",
       "id                                                \n",
       "0         1.0  0.0  0.0  0.0  0.0  1.0  0.0  0.0  \n",
       "1         0.0  0.0  0.0  0.0  0.0  2.0  2.0  0.0  \n",
       "2         0.0  1.0  0.0  2.0  0.0  0.0  0.0  0.0  \n",
       "3         1.0  0.0  0.0  1.0  0.0  0.0  0.0  0.0  \n",
       "4         0.0  0.0  0.0  1.0  1.0  4.0  0.0  0.0  \n",
       "\n",
       "[5 rows x 38 columns]"
      ]
     },
     "execution_count": 297,
     "metadata": {},
     "output_type": "execute_result"
    }
   ],
   "source": [
    "interactions = create_interaction_matrix(df = basket_from_lst_le,\n",
    "                                         user_col = 'id',\n",
    "                                         item_col = 'items_le',\n",
    "                                         rating_col = 'rating')\n",
    "interactions.head()"
   ]
  },
  {
   "cell_type": "markdown",
   "metadata": {},
   "source": [
    "Преобразуем датафрейм в разряженную матрицу."
   ]
  },
  {
   "cell_type": "code",
   "execution_count": 298,
   "metadata": {},
   "outputs": [],
   "source": [
    "from scipy.sparse import csr_matrix\n",
    "\n",
    "csr_matrix = csr_matrix(interactions.astype(pd.SparseDtype(\"float64\",0)).sparse.to_coo())"
   ]
  },
  {
   "cell_type": "markdown",
   "metadata": {},
   "source": [
    "Разделим на трейн и тест."
   ]
  },
  {
   "cell_type": "code",
   "execution_count": 299,
   "metadata": {},
   "outputs": [],
   "source": [
    "interactions_train = csr_matrix[:749]"
   ]
  },
  {
   "cell_type": "code",
   "execution_count": 300,
   "metadata": {},
   "outputs": [
    {
     "data": {
      "text/plain": [
       "<749x38 sparse matrix of type '<class 'numpy.float64'>'\n",
       "\twith 7783 stored elements in Compressed Sparse Row format>"
      ]
     },
     "execution_count": 300,
     "metadata": {},
     "output_type": "execute_result"
    }
   ],
   "source": [
    "interactions_train"
   ]
  },
  {
   "cell_type": "code",
   "execution_count": 301,
   "metadata": {},
   "outputs": [],
   "source": [
    "interactions_test = csr_matrix[749:1498]"
   ]
  },
  {
   "cell_type": "code",
   "execution_count": 302,
   "metadata": {},
   "outputs": [
    {
     "data": {
      "text/plain": [
       "<749x38 sparse matrix of type '<class 'numpy.float64'>'\n",
       "\twith 7729 stored elements in Compressed Sparse Row format>"
      ]
     },
     "execution_count": 302,
     "metadata": {},
     "output_type": "execute_result"
    }
   ],
   "source": [
    "interactions_test"
   ]
  },
  {
   "cell_type": "markdown",
   "metadata": {},
   "source": [
    "**Почему размеры train и test должны быть одинаковыми (из stackoverflow.com)?**\n",
    "\n",
    "Often in ML, the rows are the samples and in this interpretation your single row-sample is a tuple or something similar (user, item, value). The number of rows in test and train surely has no limitation! But there is one in terms of dimensions. So only in terms of dimensions (which users and which items are observed) those datasets need a 1:1 correspondence. That's maybe a strong assumption, but you can imagine the problem predicting user 11, where there was no user 11 in training (there is no latent-vector which was build)."
   ]
  },
  {
   "cell_type": "markdown",
   "metadata": {},
   "source": [
    "Обучим модель на трейне."
   ]
  },
  {
   "cell_type": "code",
   "execution_count": 303,
   "metadata": {},
   "outputs": [
    {
     "data": {
      "text/plain": [
       "<lightfm.lightfm.LightFM at 0x7f9c0871c220>"
      ]
     },
     "execution_count": 303,
     "metadata": {},
     "output_type": "execute_result"
    }
   ],
   "source": [
    "model = LightFM(loss='warp')\n",
    "model.fit(interactions_train, epochs=30, num_threads=8)"
   ]
  },
  {
   "cell_type": "markdown",
   "metadata": {},
   "source": [
    "Посчитаем метрики precision_at_k и auc_score."
   ]
  },
  {
   "cell_type": "code",
   "execution_count": 304,
   "metadata": {},
   "outputs": [],
   "source": [
    "from lightfm.evaluation import precision_at_k\n",
    "from lightfm.evaluation import auc_score"
   ]
  },
  {
   "cell_type": "code",
   "execution_count": 305,
   "metadata": {},
   "outputs": [
    {
     "name": "stdout",
     "output_type": "stream",
     "text": [
      "Train precision: 0.79\n",
      "Test precision: 0.30\n"
     ]
    }
   ],
   "source": [
    "print(\"Train precision: %.2f\" % precision_at_k(model, interactions_train, k=5).mean())\n",
    "print(\"Test precision: %.2f\" % precision_at_k(model, interactions_test, k=5).mean())"
   ]
  },
  {
   "cell_type": "code",
   "execution_count": 306,
   "metadata": {},
   "outputs": [
    {
     "name": "stdout",
     "output_type": "stream",
     "text": [
      "Train precision: 0.86\n",
      "Test precision: 0.52\n"
     ]
    }
   ],
   "source": [
    "print(\"Train precision: %.2f\" % auc_score(model, interactions_train).mean())\n",
    "print(\"Test precision: %.2f\" % auc_score(model, interactions_test).mean())"
   ]
  },
  {
   "cell_type": "markdown",
   "metadata": {},
   "source": [
    "Метрики на тесте довольно слабые."
   ]
  },
  {
   "cell_type": "code",
   "execution_count": 319,
   "metadata": {},
   "outputs": [],
   "source": [
    "def sample_recommendation(model, data, user_ids):\n",
    "    \n",
    "\n",
    "    n_users, n_items = interactions_train.shape\n",
    "\n",
    "    for user_id in user_ids:\n",
    "        known_positives = all_pr[interactions_train.tocsr()[user_id].indices]\n",
    "        \n",
    "        scores = model.predict(user_id, np.arange(n_items))\n",
    "        top_items = all_pr[np.argsort(-scores)]\n",
    "        \n",
    "        top_items_to_reccomend = set(top_items).difference(set(known_positives))\n",
    "        reccom = [i for i in top_items_to_reccomend]\n",
    "\n",
    "        \n",
    "        print(\"User %s\" % user_id)\n",
    "        print(\"     Known positives:\")\n",
    "        \n",
    "        for x in known_positives[:3]:\n",
    "            print(\"        %s\" % x)\n",
    "\n",
    "        print(\"     Recommended:\")\n",
    "        \n",
    "        for x in reccom[:5]:\n",
    "            print(\"        %s\" % x)"
   ]
  },
  {
   "cell_type": "markdown",
   "metadata": {},
   "source": [
    "Сформируем предсказания для покупателя 1."
   ]
  },
  {
   "cell_type": "code",
   "execution_count": 320,
   "metadata": {},
   "outputs": [
    {
     "name": "stdout",
     "output_type": "stream",
     "text": [
      "User 1\n",
      "     Known positives:\n",
      "        cheeses\n",
      "        dishwashing liquid/detergent\n",
      "        hand soap\n",
      "     Recommended:\n",
      "        fruits\n",
      "        pasta\n",
      "        ice cream\n",
      "        paper towels\n",
      "        spaghetti sauce\n"
     ]
    }
   ],
   "source": [
    "sample_recommendation(model, interactions, [1]) "
   ]
  },
  {
   "cell_type": "code",
   "execution_count": null,
   "metadata": {},
   "outputs": [],
   "source": []
  }
 ],
 "metadata": {
  "kernelspec": {
   "display_name": "Python 3 (ipykernel)",
   "language": "python",
   "name": "python3"
  },
  "language_info": {
   "codemirror_mode": {
    "name": "ipython",
    "version": 3
   },
   "file_extension": ".py",
   "mimetype": "text/x-python",
   "name": "python",
   "nbconvert_exporter": "python",
   "pygments_lexer": "ipython3",
   "version": "3.9.13"
  },
  "vscode": {
   "interpreter": {
    "hash": "cceda5113f07d4047741cabbb211c044d7f16bbd82324456effbfb8d7e8a3a9e"
   }
  }
 },
 "nbformat": 4,
 "nbformat_minor": 2
}
