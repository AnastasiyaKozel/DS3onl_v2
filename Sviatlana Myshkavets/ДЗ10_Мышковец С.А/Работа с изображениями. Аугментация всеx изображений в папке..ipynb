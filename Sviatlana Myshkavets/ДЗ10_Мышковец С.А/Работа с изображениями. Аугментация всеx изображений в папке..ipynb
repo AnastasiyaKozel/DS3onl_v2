{
 "cells": [
  {
   "cell_type": "markdown",
   "id": "0aef3ad6",
   "metadata": {},
   "source": [
    "Мышковец С.А., v.01 16.10.2022\n",
    "\n",
    "Решение задачи: Работа с изображениями. Аугментация.\n",
    "\n",
    "1. Изображения, на которых автомобили есть или нет. 100 изображений целевого класса и 100 нецелевого. Размер 256x256px.\n",
    "2. Библиотеки: OpenCV, pillow, scikit-image, tf.image. \n",
    "3. Аугментация (вращение, растяжение/сжатие, увеличение/уменьшение). Количество изображений должно увеличиться минимум в 3 раза.\n",
    "\n",
    "Вывод:\n",
    "1. Перед началом работы переименовать файлы и привести в 1 формат.\n",
    "2. Важно! Пусть к файлам и папкам должен быть правильно сформирован.\n",
    "3. Проверять типы возвращаемых файлов.\n",
    "4. При изменении размера изображения путем увеличения его части, обрезании участока, выходящих за границы, и последующем приведении этой части к общему размеру можно потерять на изображении целевой объект.\n"
   ]
  },
  {
   "cell_type": "markdown",
   "id": "85c4d80a",
   "metadata": {},
   "source": [
    "# Переименовать все файлы в папке."
   ]
  },
  {
   "cell_type": "code",
   "execution_count": 1,
   "id": "0ad898c0",
   "metadata": {},
   "outputs": [],
   "source": [
    "# import os\n",
    "path = r'no auto'\n",
    "# files = os.listdir(path)\n",
    "\n",
    "\n",
    "# for index, file in enumerate(files):\n",
    "#     os.rename(os.path.join(path, file), os.path.join(path, ''.join([str(index), '.jpg'])))"
   ]
  },
  {
   "cell_type": "code",
   "execution_count": 3,
   "id": "336fc46b",
   "metadata": {},
   "outputs": [],
   "source": [
    "from os import listdir\n",
    "from os.path import isfile, join\n",
    "onlyfiles = [f for f in listdir(path) if isfile(join(path, f)) and f.endswith('.png')]"
   ]
  },
  {
   "cell_type": "markdown",
   "id": "0aef0803",
   "metadata": {},
   "source": [
    "# Кол-во файлов до аугментации."
   ]
  },
  {
   "cell_type": "code",
   "execution_count": 3,
   "id": "ca1b0695",
   "metadata": {},
   "outputs": [
    {
     "data": {
      "text/plain": [
       "9"
      ]
     },
     "execution_count": 3,
     "metadata": {},
     "output_type": "execute_result"
    }
   ],
   "source": [
    "len(onlyfiles)"
   ]
  },
  {
   "cell_type": "markdown",
   "id": "73483e61",
   "metadata": {},
   "source": [
    "# Приводим изображения к размеру 256x256px и аугментируем все изображения в папке."
   ]
  },
  {
   "cell_type": "code",
   "execution_count": 4,
   "id": "761c9bea",
   "metadata": {},
   "outputs": [],
   "source": [
    "import tensorflow as tf\n",
    "from PIL import Image\n",
    "import os\n",
    "import cv2\n",
    "import numpy as np\n",
    "import matplotlib.pyplot as plt"
   ]
  },
  {
   "cell_type": "code",
   "execution_count": 5,
   "id": "ae7609e8",
   "metadata": {},
   "outputs": [],
   "source": [
    "path = r'no auto'\n",
    "\n",
    "for filename in os.listdir(path):\n",
    "    path_to_file = path + '\\\\' + filename\n",
    "    img = cv2.imread(path_to_file)\n",
    "    res = cv2.resize(img,(256, 256), interpolation = cv2.INTER_LINEAR)\n",
    "    img_resized = Image.fromarray(res)\n",
    "    filename1 = '256_' + filename\n",
    "    img_resized.save(fr\"C:\\Users\\myshk\\DS TMS\\DS3onl\\DS3onl\\Sviatlana Myshkavets\\ДЗ10_Мышковец С.А\\no auto 256\\{filename1}\")\n",
    "    \n",
    "    path_256 = r'no auto 256'\n",
    "    path_to_file_256 = path_256 +'\\\\' + filename1\n",
    "    img1_ = cv2.imread(path_to_file_256)\n",
    "    (h, w) = img1_.shape[0:2]\n",
    "    center = (w // 2, h // 2)\n",
    "    M = cv2.getRotationMatrix2D(center, 10, 1.0)\n",
    "    img2 = cv2.warpAffine(img1_, M, (w, h))\n",
    "    img2 = Image.fromarray(img2.astype(np.uint8))\n",
    "    filename2 ='rot_15_' + filename\n",
    "    img2.save(fr\"C:\\Users\\myshk\\DS TMS\\DS3onl\\DS3onl\\Sviatlana Myshkavets\\ДЗ10_Мышковец С.А\\no auto 256\\{filename2}\")\n",
    "    \n",
    "    img2_ = cv2.imread(path_to_file_256)\n",
    "    (h, w) = img2_.shape[0:2]\n",
    "    center = (w // 2, h // 2)\n",
    "    M = cv2.getRotationMatrix2D(center, 90, 1.0)\n",
    "    img3 = cv2.warpAffine(img2_, M, (w, h))\n",
    "    img3 = Image.fromarray(img3.astype(np.uint8))\n",
    "    filename3 ='rot_90_' + filename\n",
    "    img3.save(fr\"C:\\Users\\myshk\\DS TMS\\DS3onl\\DS3onl\\Sviatlana Myshkavets\\ДЗ10_Мышковец С.А\\no auto 256\\{filename3}\")\n",
    "    \n",
    "    img3_ = cv2.imread(path_to_file_256)\n",
    "    rows,cols,ch = img3_.shape\n",
    "    pts1 = np.float32([[50,50],[200,50],[50,200]])\n",
    "    pts2 = np.float32([[10,100],[200,50],[100,250]])\n",
    "    M = cv2.getAffineTransform(pts1,pts2)\n",
    "    dst = cv2.warpAffine(img3_,M,(cols,rows))\n",
    "    dst = Image.fromarray(dst.astype(np.uint8))\n",
    "    filename4 ='af_tr_' + filename\n",
    "    dst.save(fr\"C:\\Users\\myshk\\DS TMS\\DS3onl\\DS3onl\\Sviatlana Myshkavets\\ДЗ10_Мышковец С.А\\no auto 256\\{filename4}\")\n",
    "    \n",
    "    img4 = cv2.imread(path_to_file_256)\n",
    "    rows,cols,ch = img4.shape\n",
    "    pts1 = np.float32([[20,25],[100,50],[20,200],[100,150]])\n",
    "    pts2 = np.float32([[0,0],[300,0],[0,300],[300,300]])\n",
    "    M = cv2.getPerspectiveTransform(pts1,pts2)\n",
    "    dst = cv2.warpPerspective(img4,M,(300,300))\n",
    "    dst = Image.fromarray(dst.astype(np.uint8))\n",
    "    filename5 ='persp_tr_' + filename\n",
    "    dst.save(fr\"C:\\Users\\myshk\\DS TMS\\DS3onl\\DS3onl\\Sviatlana Myshkavets\\ДЗ10_Мышковец С.А\\no auto 256\\{filename5}\")\n",
    "    \n",
    "    img5_ = cv2.imread(path_to_file_256)\n",
    "    def horizontal_flip(img5_, flag):\n",
    "        if flag:\n",
    "            return cv2.flip(img5_, 1)\n",
    "        else:\n",
    "            return img5_\n",
    "    img5 = horizontal_flip(img5_, True)\n",
    "    img5 = Image.fromarray(img5)\n",
    "    filename6 ='hor_flip_' + filename\n",
    "    img5.save(fr\"C:\\Users\\myshk\\DS TMS\\DS3onl\\DS3onl\\Sviatlana Myshkavets\\ДЗ10_Мышковец С.А\\no auto 256\\{filename6}\")"
   ]
  },
  {
   "cell_type": "markdown",
   "id": "b03d7a85",
   "metadata": {},
   "source": [
    "# Кол-во файлов после аугментации."
   ]
  },
  {
   "cell_type": "code",
   "execution_count": 6,
   "id": "eb33e861",
   "metadata": {},
   "outputs": [
    {
     "data": {
      "text/plain": [
       "54"
      ]
     },
     "execution_count": 6,
     "metadata": {},
     "output_type": "execute_result"
    }
   ],
   "source": [
    "path = r'no auto 256'\n",
    "from os import listdir\n",
    "from os.path import isfile, join\n",
    "onlyfiles = [f for f in listdir(path) if isfile(join(path, f))]\n",
    "len(onlyfiles)"
   ]
  },
  {
   "cell_type": "markdown",
   "id": "de7604cb",
   "metadata": {},
   "source": [
    "# Ссылка на google disk"
   ]
  },
  {
   "cell_type": "markdown",
   "id": "9ed800d2",
   "metadata": {},
   "source": [
    "https://drive.google.com/drive/folders/1E_EjDNgzmPDh9YQPKEL_tcwDDwtaQynD?usp=sharing"
   ]
  }
 ],
 "metadata": {
  "kernelspec": {
   "display_name": "Python 3 (ipykernel)",
   "language": "python",
   "name": "python3"
  },
  "language_info": {
   "codemirror_mode": {
    "name": "ipython",
    "version": 3
   },
   "file_extension": ".py",
   "mimetype": "text/x-python",
   "name": "python",
   "nbconvert_exporter": "python",
   "pygments_lexer": "ipython3",
   "version": "3.9.12"
  }
 },
 "nbformat": 4,
 "nbformat_minor": 5
}
