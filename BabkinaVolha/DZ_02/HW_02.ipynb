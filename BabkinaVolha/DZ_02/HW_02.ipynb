{
 "cells": [
  {
   "cell_type": "markdown",
   "id": "5deb2134",
   "metadata": {},
   "source": [
    "# Домашнее задание № 2"
   ]
  },
  {
   "cell_type": "markdown",
   "id": "cb46e8e1",
   "metadata": {},
   "source": [
    "## Задание № 1: \n",
    "### Напишите программу, которая рассчитывает расход топлива маршрута, на вход подается длина маршрута и расход топлива на 100 километров. Используйте try catch (проверка что пользователь ввел число>0). "
   ]
  },
  {
   "cell_type": "code",
   "execution_count": 6,
   "id": "5b495799",
   "metadata": {},
   "outputs": [
    {
     "name": "stdout",
     "output_type": "stream",
     "text": [
      "Enter length of the route: \n",
      "450\n",
      "Fuel consumption: \n",
      "3\n",
      "Fuel consumption on the route 13.5\n"
     ]
    }
   ],
   "source": [
    "def enter_parametrs():\n",
    "    inp_flag = True\n",
    "    while inp_flag:\n",
    "        try:\n",
    "            inp_parametr = int(input())\n",
    "            if inp_parametr > 0:\n",
    "                inp_flag = False\n",
    "            else:\n",
    "                print('Error, please enter positive value!')\n",
    "        except:\n",
    "            print('Error, please enter numeric value!')\n",
    "            continue\n",
    "    return inp_parametr\n",
    "\n",
    "def fuel_consumption_calc(route_length, fuel_consumption):\n",
    "    return (route_length/100)*fuel_consumption\n",
    "\n",
    "print('Enter length of the route: ')\n",
    "route_length = enter_parametrs()\n",
    "\n",
    "print('Fuel consumption: ')\n",
    "fuel_consumption = enter_parametrs()\n",
    "\n",
    "result = fuel_consumption_calc(route_length, fuel_consumption)\n",
    "\n",
    "print(\"Fuel consumption on the route %g\" % (result))"
   ]
  },
  {
   "cell_type": "markdown",
   "id": "2506a96e",
   "metadata": {},
   "source": [
    "## Задание № 2:\n",
    "\n",
    "### Напишите программу, которая ищет корни квадратного уравнения вида a*x^{2} +b*x+c. На вход программы подаются a,b,c. Результатом работы программы – действительные корни или сообщение что корней нет."
   ]
  },
  {
   "cell_type": "code",
   "execution_count": null,
   "id": "f2bc3407",
   "metadata": {},
   "outputs": [],
   "source": [
    "def enter_coef():\n",
    "    inp_flag = True\n",
    "    while inp_flag:\n",
    "        try:\n",
    "            inp_parametr = int(input())\n",
    "            inp_flag = False\n",
    "        except:\n",
    "            print('Error, please enter numeric value!')\n",
    "            continue\n",
    "    return inp_parametr\n",
    "\n",
    "def calc_discriminant(coef_a, coef_b, coef_c):\n",
    "    discriminant = coef_b**2 - 4*coef_a*coef_c\n",
    "    if discriminant > 0:\n",
    "        x1 = (-coef_b + discriminant** (0.5))/2*coef_a\n",
    "        x2 = (-coef_b - discriminant** (0.5))/2*coef_a\n",
    "        print(\"У данного уровнения два корня %f\" % (x1, x2))\n",
    "    elif discriminant == 0:\n",
    "        x = -coef_b/2*coef_a\n",
    "        print(\"У данного уровнения один корень %g\" % (x))\n",
    "    else:\n",
    "        print(\"У данного уравнения нет корней\")\n",
    "\n",
    "coef_a = enter_coef()\n",
    "coef_b = enter_coef()\n",
    "coef_c = enter_coef()\n",
    "\n",
    "calc_discriminant(coef_a, coef_b, coef_c)\n"
   ]
  },
  {
   "cell_type": "markdown",
   "id": "66ac0e53",
   "metadata": {},
   "source": [
    "## Задание № 3:\n",
    "\n",
    "### Напишите программу, находящую наибольшее и наименьшее значение функции y = -26*x**2+25*x-9 на отрезке [-5,5]. Для решения и используйте while и какой то шаг (например 0.1)"
   ]
  },
  {
   "cell_type": "code",
   "execution_count": 12,
   "id": "672ff129",
   "metadata": {},
   "outputs": [
    {
     "name": "stdout",
     "output_type": "stream",
     "text": [
      "Максимальное значение функции на отрезке от -5 до 5: 0.5, минимальное -  -784\n"
     ]
    }
   ],
   "source": [
    "#у квадратного уравнения можнет быть одна точка экстремума, для его нахождения необходимо посчитать корень \n",
    "#производной данной функции, приравненной к нулю. В данном случае производная будет равна: -52x + 25. Корнем такого уравнения\n",
    "#будет значение 0.5, т.е. на отрезке от -5 до 5 у нас уже есть или точка максимума функции, или точка минимум, равная 0.5\n",
    "\n",
    "extremum_of_function = 0.5\n",
    "\n",
    "function_step = 0.1\n",
    "\n",
    "i = -5\n",
    "\n",
    "y_min = y_max = extremum_of_function\n",
    "\n",
    "while i <= 5:\n",
    "    y = - 26*i**2 + 25*i - 9\n",
    "    if y > y_max:\n",
    "        y_max = y\n",
    "    elif y < y_min:\n",
    "        y_min = y\n",
    "    i += function_step\n",
    "\n",
    "print(\"Максимальное значение функции на отрезке от -5 до 5: %g, минимальное -  %g\" % (y_max, y_min))"
   ]
  }
 ],
 "metadata": {
  "kernelspec": {
   "display_name": "Python 3 (ipykernel)",
   "language": "python",
   "name": "python3"
  },
  "language_info": {
   "codemirror_mode": {
    "name": "ipython",
    "version": 3
   },
   "file_extension": ".py",
   "mimetype": "text/x-python",
   "name": "python",
   "nbconvert_exporter": "python",
   "pygments_lexer": "ipython3",
   "version": "3.9.7"
  }
 },
 "nbformat": 4,
 "nbformat_minor": 5
}
