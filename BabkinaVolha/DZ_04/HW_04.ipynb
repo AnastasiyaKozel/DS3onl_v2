{
 "cells": [
  {
   "cell_type": "markdown",
   "id": "8f7bb8e0",
   "metadata": {},
   "source": [
    "# Домашнее задание № 4:\n",
    "\n",
    "С использованием библиотек Numpy и Pandas написать программу реализующую:\n",
    "\n",
    "1. Загрузку текстового файла из корневого каталога объемом не менее 20000 символов включая пробелы и все символы.\n",
    "2. Подсчет частоты встречаемости слов в загруженном файле (критерий схожести слов выбрать самостоятельно).\n",
    "3. Подсчет длин предложений и их количества.\n",
    "4. Ввод полученных данных в объект DataFrame и Series, а также отображение полученных результатов в виде таблицы \"объекты - признаки\".\n",
    "5. Построение гистограммы частоты встречаемости слов.\n",
    "\n",
    "Перед тем, как приступить к подсчету частоты встречаемости слов необходимо предварительно обработать текс, а именно: \n",
    "1) Удалить цифры, знаки пунктуации и лишние пробелы. Для это реализации данного пункта использована библиотека re.\n",
    "2) Лемматизация; Для лемматизации(приведению слова к словарной форме — лемме) используется библиотека pymorphy2, поскольку текст на русском языке).\n",
    "3) Удаление стоп слов; В качестве списка стоп слов выбраны спиок стоп слов библиотеки spacy, который в последствии расширен."
   ]
  },
  {
   "cell_type": "code",
   "execution_count": 116,
   "id": "4662fc0f",
   "metadata": {},
   "outputs": [
    {
     "name": "stdout",
     "output_type": "stream",
     "text": [
      "Количество уникальных слов в тексте: 1901.\n",
      "\n"
     ]
    },
    {
     "data": {
      "text/plain": [
       "<AxesSubplot:title={'center':'Частота встречаемости слов в тексте'}, xlabel='Слово', ylabel='Word'>"
      ]
     },
     "execution_count": 116,
     "metadata": {},
     "output_type": "execute_result"
    },
    {
     "data": {
      "image/png": "[encoded data removed]",
      "text/plain": [
       "<Figure size 1440x720 with 1 Axes>"
      ]
     },
     "metadata": {
      "needs_background": "light"
     },
     "output_type": "display_data"
    }
   ],
   "source": [
    "import numpy as np\n",
    "import pandas as pd\n",
    "import re\n",
    "\n",
    "import pymorphy2\n",
    "morph = pymorphy2.MorphAnalyzer() #добавление анализатора для морфологического анализа текста\n",
    "\n",
    "from collections import Counter\n",
    "\n",
    "import spacy \n",
    "from spacy.lang.ru import Russian\n",
    "from spacy.lang.ru.stop_words import STOP_WORDS\n",
    "nlp = spacy.load(\"ru_core_news_sm\")\n",
    "\n",
    "import matplotlib.pyplot as plt\n",
    "%matplotlib inline\n",
    "import seaborn as sns\n",
    "\n",
    "SW = STOP_WORDS\n",
    "SW |= {\"ни\", \"ибо\", \"лишь\", \"хотя\", \"какой\", \"более\", \"много\", \"столь\", \"однако\", \"под\", \"подобный\"}\n",
    "\n",
    "most_common_words = 20  # Переменная для определения, частоту скольких первых слов отобразить на графике\n",
    "\n",
    "def clean_data(str):\n",
    "#убираем римские цифры\n",
    "    str = re.sub('I', '', str)\n",
    "    str = re.sub('V', '', str)\n",
    "#начнем чистить файл от мусора(символы табудяции, переноса текста, знаки препинания и тд) \n",
    "#для подсчета частоты встречаемости слов\n",
    "    clean_string = re.sub('[\\d+\\t\\r\\n{}()//.,!;?:«»[\\]––-]', ' ', str)\n",
    "#убираем лишние пробелы\n",
    "    clean_string = \" \".join(clean_string.split())\n",
    "    clean_string = clean_string.lower()\n",
    "    return clean_string\n",
    "\n",
    "\n",
    "inp = open('Padenie_Doma_Asherov.txt')\n",
    "book = inp.read() #оригинальный загруженный файл\n",
    "\n",
    "clean_book = clean_data(book)#очищенные от лишнего мусора файл\n",
    "\n",
    "list_of_clean_data = clean_book.split() #разбиваем строку на список для возможности преобразования слов в им. падеж\n",
    "\n",
    "lemm_text = []\n",
    "\n",
    "for item in list_of_clean_data:\n",
    "        lemm_text.append(morph.parse(item)[0].normal_form) #лемматизация текста\n",
    "        \n",
    "lemm_text_without_sw= [word for word in lemm_text if not word in SW] #удаление стоп слов\n",
    "\n",
    "count_words = Counter(lemm_text_without_sw)\n",
    "print('Количество уникальных слов в тексте: '\n",
    "      '{}.\\n'.format(len(count_words)))\n",
    "\n",
    "Word_Data=pd.DataFrame({\"Word\": lemm_text_without_sw})\n",
    "\n",
    "mf = Word_Data['Word'].value_counts()\n",
    "mf.head(20)\n",
    "\n",
    "## настройки графика\n",
    "\n",
    "plt.figure(figsize=(20,10))\n",
    "plt.title(\"Частота встречаемости слов в тексте\")\n",
    "plt.ylabel(\"Число упоминаний\")\n",
    "plt.xlabel(\"Слово\")\n",
    "\n",
    "sns.barplot(x=mf.head(most_common_words).index, y=mf.head(most_common_words))"
   ]
  },
  {
   "cell_type": "markdown",
   "id": "f38b61fe",
   "metadata": {},
   "source": [
    "Перед посчетом предложений ориигнальный текст был предварительно очищен от знаков табуляции, исходя из предположения, что предложение может заканчиваться либо точкой, либо восклицательным или вопросительным знаками, последние были заменены в тексте на точки. "
   ]
  },
  {
   "cell_type": "code",
   "execution_count": 111,
   "id": "36f465ad",
   "metadata": {},
   "outputs": [
    {
     "data": {
      "text/plain": [
       "247"
      ]
     },
     "execution_count": 111,
     "metadata": {},
     "output_type": "execute_result"
    }
   ],
   "source": [
    "inp = open('Padenie_Doma_Asherov.txt')\n",
    "text = inp.read() #оригинальный загруженный файл\n",
    "text = re.sub('[\\t\\r\\n\\xa0{}(),;//[\\]––-]', ' ', text)\n",
    "text = re.sub('I', '', text)\n",
    "text = re.sub('V', '', text)\n",
    "text = text.replace('?', '.')\n",
    "text = text.replace('!', '.')\n",
    "doc = nlp(text)\n",
    "doc_sentences = list(doc.sents)\n",
    "len(doc_sentences)"
   ]
  },
  {
   "cell_type": "code",
   "execution_count": 113,
   "id": "6df52a63",
   "metadata": {},
   "outputs": [
    {
     "data": {
      "text/html": [
       "<div>\n",
       "<style scoped>\n",
       "    .dataframe tbody tr th:only-of-type {\n",
       "        vertical-align: middle;\n",
       "    }\n",
       "\n",
       "    .dataframe tbody tr th {\n",
       "        vertical-align: top;\n",
       "    }\n",
       "\n",
       "    .dataframe thead th {\n",
       "        text-align: right;\n",
       "    }\n",
       "</style>\n",
       "<table border=\"1\" class=\"dataframe\">\n",
       "  <thead>\n",
       "    <tr style=\"text-align: right;\">\n",
       "      <th></th>\n",
       "      <th>Предложение</th>\n",
       "      <th>длина предложенией</th>\n",
       "    </tr>\n",
       "  </thead>\n",
       "  <tbody>\n",
       "    <tr>\n",
       "      <th>0</th>\n",
       "      <td>(Son, coeur, est, un, luth, suspendu,   , Sitt...</td>\n",
       "      <td>14</td>\n",
       "    </tr>\n",
       "    <tr>\n",
       "      <th>1</th>\n",
       "      <td>(     , De, Bеranger, 1,   , Его, сердце,   , ...</td>\n",
       "      <td>11</td>\n",
       "    </tr>\n",
       "    <tr>\n",
       "      <th>2</th>\n",
       "      <td>(   , Коснешься,   , и, она, зазвучит, .)</td>\n",
       "      <td>7</td>\n",
       "    </tr>\n",
       "    <tr>\n",
       "      <th>3</th>\n",
       "      <td>(   , Де, Беранже,  , франц, .)</td>\n",
       "      <td>6</td>\n",
       "    </tr>\n",
       "    <tr>\n",
       "      <th>4</th>\n",
       "      <td>(   , В, течение, всего, унылого,  , темного, ...</td>\n",
       "      <td>43</td>\n",
       "    </tr>\n",
       "    <tr>\n",
       "      <th>...</th>\n",
       "      <td>...</td>\n",
       "      <td>...</td>\n",
       "    </tr>\n",
       "    <tr>\n",
       "      <th>242</th>\n",
       "      <td>( , Охваченный, страхом,  , бежал, я, из, того...</td>\n",
       "      <td>14</td>\n",
       "    </tr>\n",
       "    <tr>\n",
       "      <th>243</th>\n",
       "      <td>(Гроза, еще, бушевала, во, всю, мочь,  , когда...</td>\n",
       "      <td>18</td>\n",
       "    </tr>\n",
       "    <tr>\n",
       "      <th>244</th>\n",
       "      <td>(Вдруг, ее, пронизал, жуткий, свет,  , и, я, о...</td>\n",
       "      <td>28</td>\n",
       "    </tr>\n",
       "    <tr>\n",
       "      <th>245</th>\n",
       "      <td>(Сияла, полная,  , заходящая,  , кроваво, крас...</td>\n",
       "      <td>39</td>\n",
       "    </tr>\n",
       "    <tr>\n",
       "      <th>246</th>\n",
       "      <td>(Пока, я, смотрел,  , трещина, стремительно, р...</td>\n",
       "      <td>65</td>\n",
       "    </tr>\n",
       "  </tbody>\n",
       "</table>\n",
       "<p>247 rows × 2 columns</p>\n",
       "</div>"
      ],
      "text/plain": [
       "                                           Предложение  длина предложенией\n",
       "0    (Son, coeur, est, un, luth, suspendu,   , Sitt...                  14\n",
       "1    (     , De, Bеranger, 1,   , Его, сердце,   , ...                  11\n",
       "2            (   , Коснешься,   , и, она, зазвучит, .)                   7\n",
       "3                      (   , Де, Беранже,  , франц, .)                   6\n",
       "4    (   , В, течение, всего, унылого,  , темного, ...                  43\n",
       "..                                                 ...                 ...\n",
       "242  ( , Охваченный, страхом,  , бежал, я, из, того...                  14\n",
       "243  (Гроза, еще, бушевала, во, всю, мочь,  , когда...                  18\n",
       "244  (Вдруг, ее, пронизал, жуткий, свет,  , и, я, о...                  28\n",
       "245  (Сияла, полная,  , заходящая,  , кроваво, крас...                  39\n",
       "246  (Пока, я, смотрел,  , трещина, стремительно, р...                  65\n",
       "\n",
       "[247 rows x 2 columns]"
      ]
     },
     "execution_count": 113,
     "metadata": {},
     "output_type": "execute_result"
    }
   ],
   "source": [
    "counter = pd.DataFrame(\n",
    "            {'Предложение': b , \n",
    "             'длина предложенией': (list(map(len,b)))})\n",
    "counter"
   ]
  },
  {
   "cell_type": "code",
   "execution_count": null,
   "id": "705e80f0",
   "metadata": {},
   "outputs": [],
   "source": []
  }
 ],
 "metadata": {
  "kernelspec": {
   "display_name": "Python 3 (ipykernel)",
   "language": "python",
   "name": "python3"
  },
  "language_info": {
   "codemirror_mode": {
    "name": "ipython",
    "version": 3
   },
   "file_extension": ".py",
   "mimetype": "text/x-python",
   "name": "python",
   "nbconvert_exporter": "python",
   "pygments_lexer": "ipython3",
   "version": "3.9.7"
  }
 },
 "nbformat": 4,
 "nbformat_minor": 5
}
