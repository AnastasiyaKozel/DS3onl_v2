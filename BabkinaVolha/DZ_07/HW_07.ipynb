{
 "cells": [
  {
   "cell_type": "markdown",
   "id": "abcc3dca",
   "metadata": {},
   "source": [
    "# Домашнее задание № 7\n",
    "\n",
    "Напишите декоратор, оптимизирующий работу декорируемой функции. Декоратор должен сохранять результат работы функции на ближайшие три запуска и вместо выполнения функции возвращать сохранённый результат. \n",
    "После трёх запусков функция должна вызываться вновь, а результат работы функции — вновь кешироваться."
   ]
  },
  {
   "cell_type": "markdown",
   "id": "1e249be2",
   "metadata": {},
   "source": [
    "В качестве функции, которую будут обертывать в декоратор испрользуетися функция Square, которая возвращает квадрат плжанного на вход числа. Для хранения кешированных данных и счетчика, которые должны сбрасываться после трех вызовов функции используеются словари cashed_counter - для хранения данных, сколько раз вызываласт функция с конкретным числом, и cashed_data - для хранения результата работы функции Square(квадрата поданного на вход числа). В обоих словарях в качестве ключа используется число, квадрат которого мы хотим получить."
   ]
  },
  {
   "cell_type": "code",
   "execution_count": 3,
   "id": "0fafe391",
   "metadata": {},
   "outputs": [],
   "source": [
    "function_counter = 0\n",
    "cashed_counter = dict() #словарь для хранения счетчика\n",
    "cashed_data = dict()    #словарь для хранения квадрата числа\n",
    "\n",
    "#декоратор\n",
    "def my_decorator(func):\n",
    "    def wrapper(n):\n",
    "        if n in cashed_data.keys(): #если функция уже вызывалась, увеличиваем счетчик в cashed_counter, а результат по ключу берем из cashed_data \n",
    "            print(\"this data is cashed!\")\n",
    "            cashed_counter[n] = cashed_counter.get(n, 0) + 1\n",
    "            result = cashed_data[n]\n",
    "            if cashed_counter[n] > 2: #если функция вызывается в третий раз, то возвращаем данные из cashed_data и удаляем данные из кеша\n",
    "                del cashed_counter[n]\n",
    "                del cashed_data[n]\n",
    "            return result\n",
    "        else:\n",
    "            print(\"this data is not cashed!\") #если функция не вызывалась, вызываем Square() и записываем данные в cashed_data и cashed_counter\n",
    "            result = func(n)\n",
    "            cashed_data[n] = result\n",
    "            cashed_counter[n] = cashed_counter.get(n, 0) + 1\n",
    "        return result\n",
    "    return wrapper\n",
    "\n",
    "\n",
    "@my_decorator\n",
    "def Square(n):\n",
    "    return n*n"
   ]
  },
  {
   "cell_type": "markdown",
   "id": "b34b620c",
   "metadata": {},
   "source": [
    "## Тестирование функции с декоратором\n",
    "### Первый вызов(функция не кеширована)"
   ]
  },
  {
   "cell_type": "code",
   "execution_count": 4,
   "id": "20aa8b60",
   "metadata": {},
   "outputs": [
    {
     "name": "stdout",
     "output_type": "stream",
     "text": [
      "this data is not cashed!\n",
      "49\n",
      "{7: 49}\n",
      "{7: 1}\n"
     ]
    }
   ],
   "source": [
    "print(Square(7)) #функция должна вернуть квадрат семи\n",
    "\n",
    "print(cashed_data) #декоратор должен записать результат квадрата семи в кеш\n",
    "print(cashed_counter) #счетчик должен увеличиться на один и быть равным единице"
   ]
  },
  {
   "cell_type": "markdown",
   "id": "e037c99d",
   "metadata": {},
   "source": [
    "### Второй вызов(функция кеширована)"
   ]
  },
  {
   "cell_type": "code",
   "execution_count": 5,
   "id": "86f797b9",
   "metadata": {},
   "outputs": [
    {
     "name": "stdout",
     "output_type": "stream",
     "text": [
      "this data is cashed!\n",
      "49\n",
      "{7: 49}\n",
      "{7: 2}\n"
     ]
    }
   ],
   "source": [
    "print(Square(7)) #функция вызываться не должна, квадрат семи должен вернуться из cashed_data \n",
    "\n",
    "print(cashed_data) #данные в кэше должны остаться без изменений\n",
    "print(cashed_counter) #счетчик должен увеличиться на один и быть равным двум"
   ]
  },
  {
   "cell_type": "markdown",
   "id": "e902c5a9",
   "metadata": {},
   "source": [
    "### Третий вызов(функция кеширована)"
   ]
  },
  {
   "cell_type": "code",
   "execution_count": 6,
   "id": "a0dfb0a9",
   "metadata": {},
   "outputs": [
    {
     "name": "stdout",
     "output_type": "stream",
     "text": [
      "this data is cashed!\n",
      "49\n",
      "{}\n",
      "{}\n"
     ]
    }
   ],
   "source": [
    "print(Square(7)) #функция вызываться не должна, квадрат семи должен вернуться из cashed_data \n",
    "\n",
    "print(cashed_data) #кеш должен очиститься, чтобы при следующем вызове функции данные брались непосредственно из функции Square()\n",
    "print(cashed_counter) #счетчик должен сброситься"
   ]
  },
  {
   "cell_type": "markdown",
   "id": "a513f577",
   "metadata": {},
   "source": [
    "### Четвертый вызов(функция вновь не кеширована)"
   ]
  },
  {
   "cell_type": "code",
   "execution_count": 7,
   "id": "b5b01961",
   "metadata": {},
   "outputs": [
    {
     "name": "stdout",
     "output_type": "stream",
     "text": [
      "this data is not cashed!\n",
      "49\n",
      "{7: 49}\n",
      "{7: 1}\n"
     ]
    }
   ],
   "source": [
    "print(Square(7)) \n",
    "\n",
    "print(cashed_data)\n",
    "print(cashed_counter)"
   ]
  }
 ],
 "metadata": {
  "kernelspec": {
   "display_name": "Python 3 (ipykernel)",
   "language": "python",
   "name": "python3"
  },
  "language_info": {
   "codemirror_mode": {
    "name": "ipython",
    "version": 3
   },
   "file_extension": ".py",
   "mimetype": "text/x-python",
   "name": "python",
   "nbconvert_exporter": "python",
   "pygments_lexer": "ipython3",
   "version": "3.9.7"
  }
 },
 "nbformat": 4,
 "nbformat_minor": 5
}
