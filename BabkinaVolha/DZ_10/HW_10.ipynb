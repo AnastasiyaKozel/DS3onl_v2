{
 "cells": [
  {
   "cell_type": "markdown",
   "id": "6f11a982",
   "metadata": {},
   "source": [
    "# Подготовить данные для этапа моделирования (обучения)\n",
    "1. Анализ данных, необходимые корректировки. \n",
    "2. Обработать пропуски. \n",
    "3. Оценить выбросы. \n",
    "4. Корреляция. \n",
    "5. Тест на нормальность распределения.\n",
    "6. Масштабировать и стандартизировать данные.\n",
    "7. Разделите данные на тренрровачную и тестовую выборку.\n",
    "8. При обработке пропусков/выбросов/скалировании тестовую и тренировачную выборку обрабатывать отдельно."
   ]
  },
  {
   "cell_type": "code",
   "execution_count": 1,
   "id": "32337da0",
   "metadata": {},
   "outputs": [
    {
     "data": {
      "text/html": [
       "<div>\n",
       "<style scoped>\n",
       "    .dataframe tbody tr th:only-of-type {\n",
       "        vertical-align: middle;\n",
       "    }\n",
       "\n",
       "    .dataframe tbody tr th {\n",
       "        vertical-align: top;\n",
       "    }\n",
       "\n",
       "    .dataframe thead th {\n",
       "        text-align: right;\n",
       "    }\n",
       "</style>\n",
       "<table border=\"1\" class=\"dataframe\">\n",
       "  <thead>\n",
       "    <tr style=\"text-align: right;\">\n",
       "      <th></th>\n",
       "      <th>client_id</th>\n",
       "      <th>gender</th>\n",
       "      <th>age</th>\n",
       "      <th>marital_status</th>\n",
       "      <th>job_position</th>\n",
       "      <th>credit_sum</th>\n",
       "      <th>credit_month</th>\n",
       "      <th>tariff_id</th>\n",
       "      <th>score_shk</th>\n",
       "      <th>education</th>\n",
       "      <th>living_region</th>\n",
       "      <th>monthly_income</th>\n",
       "      <th>credit_count</th>\n",
       "      <th>overdue_credit_count</th>\n",
       "      <th>open_account_flg</th>\n",
       "    </tr>\n",
       "  </thead>\n",
       "  <tbody>\n",
       "    <tr>\n",
       "      <th>0</th>\n",
       "      <td>1</td>\n",
       "      <td>M</td>\n",
       "      <td>NaN</td>\n",
       "      <td>NaN</td>\n",
       "      <td>UMN</td>\n",
       "      <td>59998.00</td>\n",
       "      <td>10</td>\n",
       "      <td>1.6</td>\n",
       "      <td>NaN</td>\n",
       "      <td>GRD</td>\n",
       "      <td>КРАСНОДАРСКИЙ КРАЙ</td>\n",
       "      <td>30000.0</td>\n",
       "      <td>1.0</td>\n",
       "      <td>1.0</td>\n",
       "      <td>0</td>\n",
       "    </tr>\n",
       "    <tr>\n",
       "      <th>1</th>\n",
       "      <td>2</td>\n",
       "      <td>F</td>\n",
       "      <td>NaN</td>\n",
       "      <td>MAR</td>\n",
       "      <td>UMN</td>\n",
       "      <td>10889.00</td>\n",
       "      <td>6</td>\n",
       "      <td>1.1</td>\n",
       "      <td>NaN</td>\n",
       "      <td>NaN</td>\n",
       "      <td>МОСКВА</td>\n",
       "      <td>NaN</td>\n",
       "      <td>2.0</td>\n",
       "      <td>0.0</td>\n",
       "      <td>0</td>\n",
       "    </tr>\n",
       "    <tr>\n",
       "      <th>2</th>\n",
       "      <td>3</td>\n",
       "      <td>M</td>\n",
       "      <td>32.0</td>\n",
       "      <td>MAR</td>\n",
       "      <td>SPC</td>\n",
       "      <td>10728.00</td>\n",
       "      <td>12</td>\n",
       "      <td>1.1</td>\n",
       "      <td>NaN</td>\n",
       "      <td>NaN</td>\n",
       "      <td>ОБЛ САРАТОВСКАЯ</td>\n",
       "      <td>NaN</td>\n",
       "      <td>5.0</td>\n",
       "      <td>0.0</td>\n",
       "      <td>0</td>\n",
       "    </tr>\n",
       "    <tr>\n",
       "      <th>3</th>\n",
       "      <td>4</td>\n",
       "      <td>F</td>\n",
       "      <td>27.0</td>\n",
       "      <td>NaN</td>\n",
       "      <td>SPC</td>\n",
       "      <td>12009.09</td>\n",
       "      <td>12</td>\n",
       "      <td>1.1</td>\n",
       "      <td>NaN</td>\n",
       "      <td>NaN</td>\n",
       "      <td>ОБЛ ВОЛГОГРАДСКАЯ</td>\n",
       "      <td>NaN</td>\n",
       "      <td>2.0</td>\n",
       "      <td>0.0</td>\n",
       "      <td>0</td>\n",
       "    </tr>\n",
       "    <tr>\n",
       "      <th>4</th>\n",
       "      <td>5</td>\n",
       "      <td>M</td>\n",
       "      <td>45.0</td>\n",
       "      <td>NaN</td>\n",
       "      <td>SPC</td>\n",
       "      <td>NaN</td>\n",
       "      <td>10</td>\n",
       "      <td>1.1</td>\n",
       "      <td>0.421385</td>\n",
       "      <td>SCH</td>\n",
       "      <td>ЧЕЛЯБИНСКАЯ ОБЛАСТЬ</td>\n",
       "      <td>NaN</td>\n",
       "      <td>1.0</td>\n",
       "      <td>0.0</td>\n",
       "      <td>0</td>\n",
       "    </tr>\n",
       "  </tbody>\n",
       "</table>\n",
       "</div>"
      ],
      "text/plain": [
       "   client_id gender   age marital_status job_position  credit_sum  \\\n",
       "0          1      M   NaN            NaN          UMN    59998.00   \n",
       "1          2      F   NaN            MAR          UMN    10889.00   \n",
       "2          3      M  32.0            MAR          SPC    10728.00   \n",
       "3          4      F  27.0            NaN          SPC    12009.09   \n",
       "4          5      M  45.0            NaN          SPC         NaN   \n",
       "\n",
       "   credit_month tariff_id  score_shk education        living_region  \\\n",
       "0            10       1.6        NaN       GRD   КРАСНОДАРСКИЙ КРАЙ   \n",
       "1             6       1.1        NaN       NaN               МОСКВА   \n",
       "2            12       1.1        NaN       NaN      ОБЛ САРАТОВСКАЯ   \n",
       "3            12       1.1        NaN       NaN    ОБЛ ВОЛГОГРАДСКАЯ   \n",
       "4            10       1.1   0.421385       SCH  ЧЕЛЯБИНСКАЯ ОБЛАСТЬ   \n",
       "\n",
       "   monthly_income  credit_count  overdue_credit_count  open_account_flg  \n",
       "0         30000.0           1.0                   1.0                 0  \n",
       "1             NaN           2.0                   0.0                 0  \n",
       "2             NaN           5.0                   0.0                 0  \n",
       "3             NaN           2.0                   0.0                 0  \n",
       "4             NaN           1.0                   0.0                 0  "
      ]
     },
     "execution_count": 1,
     "metadata": {},
     "output_type": "execute_result"
    }
   ],
   "source": [
    "import numpy as np\n",
    "import pandas as pd\n",
    "import seaborn as sns\n",
    "import re\n",
    "import statistics \n",
    "import matplotlib.pyplot as plt\n",
    "\n",
    "from sklearn.model_selection import train_test_split\n",
    "from sklearn.compose import ColumnTransformer\n",
    "from sklearn.preprocessing import StandardScaler\n",
    "\n",
    "df = pd.read_csv(\"df_credit_train.csv\", delimiter = ';', decimal= ',')\n",
    "\n",
    "df.head()"
   ]
  },
  {
   "cell_type": "markdown",
   "id": "0acf4785",
   "metadata": {},
   "source": [
    "## Анализ данных и необходимые корректировки"
   ]
  },
  {
   "cell_type": "code",
   "execution_count": 2,
   "id": "f340ffb0",
   "metadata": {},
   "outputs": [
    {
     "name": "stdout",
     "output_type": "stream",
     "text": [
      "Размерность датасета составляет: (170746, 14) \n",
      "\n",
      "<class 'pandas.core.frame.DataFrame'>\n",
      "RangeIndex: 170746 entries, 0 to 170745\n",
      "Data columns (total 14 columns):\n",
      " #   Column                Non-Null Count   Dtype  \n",
      "---  ------                --------------   -----  \n",
      " 0   gender                170746 non-null  object \n",
      " 1   age                   170743 non-null  float64\n",
      " 2   marital_status        170743 non-null  object \n",
      " 3   job_position          170746 non-null  object \n",
      " 4   credit_sum            170744 non-null  float64\n",
      " 5   credit_month          170746 non-null  int64  \n",
      " 6   tariff_id             170746 non-null  object \n",
      " 7   score_shk             170739 non-null  float64\n",
      " 8   education             170741 non-null  object \n",
      " 9   living_region         170554 non-null  object \n",
      " 10  monthly_income        170741 non-null  float64\n",
      " 11  credit_count          161516 non-null  float64\n",
      " 12  overdue_credit_count  161516 non-null  float64\n",
      " 13  open_account_flg      170746 non-null  int64  \n",
      "dtypes: float64(6), int64(2), object(6)\n",
      "memory usage: 18.2+ MB\n"
     ]
    }
   ],
   "source": [
    "#Поскольку столбец client_id является обозначением номера клиента и не несет в себе никакой больше информации, удаляем его\n",
    "data_set = df.drop(df.columns[[0]], axis = 1)\n",
    "\n",
    "# Отразим общую размерность нашего датасета, а так же общую информацию по кажжому из столбцов:\n",
    "print(\"Размерность датасета составляет: {0} \\n\".format(data_set.shape))\n",
    "data_set.info()"
   ]
  },
  {
   "cell_type": "markdown",
   "id": "840a2756",
   "metadata": {},
   "source": [
    "Исходя из представленного выше, имеем следующее: в данном датасете 14 столбцов и 170746 строк. Поскольку количество ненулевых значений от столбца к столбцу разнится, в некоторых столбцах имеют место быть пропуски. А именно: age, marital_status, credit_sum, score_shk, education, living_region, monthly_income, credit_count, overdue_credit_count. Для каждого из столбцов пропуски будет обрабатывать отдельно."
   ]
  },
  {
   "cell_type": "code",
   "execution_count": 3,
   "id": "797bcf7d",
   "metadata": {},
   "outputs": [],
   "source": [
    "#строки с пропусками в столбцах с категориальными данными - а именно living_region, education, marital_status - удалим. \n",
    "drop_columns = ['living_region', 'education', 'marital_status']\n",
    "\n",
    "data_set.dropna(subset=drop_columns, inplace=True)"
   ]
  },
  {
   "cell_type": "markdown",
   "id": "d50590e8",
   "metadata": {},
   "source": [
    "###  Обработка пропусков столбца с количественными данными\n",
    "После удаления пропусков в столбцах с категориальными значениями, обработаем пропуски в столбцах с количественными значениями. Для этого сначала запустим отразим статистику по датасету. Исходя из этой статистики будет проводиться заполнение пропусков в тестовой и тренировочной выборках."
   ]
  },
  {
   "cell_type": "code",
   "execution_count": 4,
   "id": "a6d8a62f",
   "metadata": {},
   "outputs": [
    {
     "data": {
      "text/html": [
       "<div>\n",
       "<style scoped>\n",
       "    .dataframe tbody tr th:only-of-type {\n",
       "        vertical-align: middle;\n",
       "    }\n",
       "\n",
       "    .dataframe tbody tr th {\n",
       "        vertical-align: top;\n",
       "    }\n",
       "\n",
       "    .dataframe thead th {\n",
       "        text-align: right;\n",
       "    }\n",
       "</style>\n",
       "<table border=\"1\" class=\"dataframe\">\n",
       "  <thead>\n",
       "    <tr style=\"text-align: right;\">\n",
       "      <th></th>\n",
       "      <th>age</th>\n",
       "      <th>credit_sum</th>\n",
       "      <th>credit_month</th>\n",
       "      <th>score_shk</th>\n",
       "      <th>monthly_income</th>\n",
       "      <th>credit_count</th>\n",
       "      <th>overdue_credit_count</th>\n",
       "      <th>open_account_flg</th>\n",
       "    </tr>\n",
       "  </thead>\n",
       "  <tbody>\n",
       "    <tr>\n",
       "      <th>count</th>\n",
       "      <td>170546.000000</td>\n",
       "      <td>170546.000000</td>\n",
       "      <td>170547.000000</td>\n",
       "      <td>170544.000000</td>\n",
       "      <td>170546.000000</td>\n",
       "      <td>161335.000000</td>\n",
       "      <td>161335.000000</td>\n",
       "      <td>170547.000000</td>\n",
       "    </tr>\n",
       "    <tr>\n",
       "      <th>mean</th>\n",
       "      <td>36.499730</td>\n",
       "      <td>26093.569569</td>\n",
       "      <td>10.980955</td>\n",
       "      <td>0.469446</td>\n",
       "      <td>40136.867737</td>\n",
       "      <td>2.107534</td>\n",
       "      <td>0.046059</td>\n",
       "      <td>0.176233</td>\n",
       "    </tr>\n",
       "    <tr>\n",
       "      <th>std</th>\n",
       "      <td>10.547044</td>\n",
       "      <td>16233.140012</td>\n",
       "      <td>3.537229</td>\n",
       "      <td>0.124255</td>\n",
       "      <td>25046.744363</td>\n",
       "      <td>1.777370</td>\n",
       "      <td>0.211499</td>\n",
       "      <td>0.381019</td>\n",
       "    </tr>\n",
       "    <tr>\n",
       "      <th>min</th>\n",
       "      <td>18.000000</td>\n",
       "      <td>2736.000000</td>\n",
       "      <td>3.000000</td>\n",
       "      <td>0.000000</td>\n",
       "      <td>5000.000000</td>\n",
       "      <td>0.000000</td>\n",
       "      <td>0.000000</td>\n",
       "      <td>0.000000</td>\n",
       "    </tr>\n",
       "    <tr>\n",
       "      <th>25%</th>\n",
       "      <td>28.000000</td>\n",
       "      <td>14908.000000</td>\n",
       "      <td>10.000000</td>\n",
       "      <td>0.379495</td>\n",
       "      <td>25000.000000</td>\n",
       "      <td>1.000000</td>\n",
       "      <td>0.000000</td>\n",
       "      <td>0.000000</td>\n",
       "    </tr>\n",
       "    <tr>\n",
       "      <th>50%</th>\n",
       "      <td>34.000000</td>\n",
       "      <td>21229.000000</td>\n",
       "      <td>10.000000</td>\n",
       "      <td>0.461579</td>\n",
       "      <td>35000.000000</td>\n",
       "      <td>2.000000</td>\n",
       "      <td>0.000000</td>\n",
       "      <td>0.000000</td>\n",
       "    </tr>\n",
       "    <tr>\n",
       "      <th>75%</th>\n",
       "      <td>43.000000</td>\n",
       "      <td>32068.000000</td>\n",
       "      <td>12.000000</td>\n",
       "      <td>0.552366</td>\n",
       "      <td>50000.000000</td>\n",
       "      <td>3.000000</td>\n",
       "      <td>0.000000</td>\n",
       "      <td>0.000000</td>\n",
       "    </tr>\n",
       "    <tr>\n",
       "      <th>max</th>\n",
       "      <td>71.000000</td>\n",
       "      <td>200000.000000</td>\n",
       "      <td>36.000000</td>\n",
       "      <td>1.128291</td>\n",
       "      <td>950000.000000</td>\n",
       "      <td>21.000000</td>\n",
       "      <td>3.000000</td>\n",
       "      <td>1.000000</td>\n",
       "    </tr>\n",
       "  </tbody>\n",
       "</table>\n",
       "</div>"
      ],
      "text/plain": [
       "                 age     credit_sum   credit_month      score_shk  \\\n",
       "count  170546.000000  170546.000000  170547.000000  170544.000000   \n",
       "mean       36.499730   26093.569569      10.980955       0.469446   \n",
       "std        10.547044   16233.140012       3.537229       0.124255   \n",
       "min        18.000000    2736.000000       3.000000       0.000000   \n",
       "25%        28.000000   14908.000000      10.000000       0.379495   \n",
       "50%        34.000000   21229.000000      10.000000       0.461579   \n",
       "75%        43.000000   32068.000000      12.000000       0.552366   \n",
       "max        71.000000  200000.000000      36.000000       1.128291   \n",
       "\n",
       "       monthly_income   credit_count  overdue_credit_count  open_account_flg  \n",
       "count   170546.000000  161335.000000         161335.000000     170547.000000  \n",
       "mean     40136.867737       2.107534              0.046059          0.176233  \n",
       "std      25046.744363       1.777370              0.211499          0.381019  \n",
       "min       5000.000000       0.000000              0.000000          0.000000  \n",
       "25%      25000.000000       1.000000              0.000000          0.000000  \n",
       "50%      35000.000000       2.000000              0.000000          0.000000  \n",
       "75%      50000.000000       3.000000              0.000000          0.000000  \n",
       "max     950000.000000      21.000000              3.000000          1.000000  "
      ]
     },
     "execution_count": 4,
     "metadata": {},
     "output_type": "execute_result"
    }
   ],
   "source": [
    "data_set.describe(exclude = 'object')"
   ]
  },
  {
   "cell_type": "markdown",
   "id": "a6916940",
   "metadata": {},
   "source": [
    "## Разбивка на тестовую и тренировочную выборки"
   ]
  },
  {
   "cell_type": "code",
   "execution_count": 5,
   "id": "f06ae5cd",
   "metadata": {},
   "outputs": [],
   "source": [
    "train, test = train_test_split(data_set, test_size=0.3, random_state = 1)\n",
    "\n",
    "#обновим индексы выборок\n",
    "train.set_index(np.arange(len(train)), inplace=True)\n",
    "test.set_index(np.arange(len(test)), inplace=True)"
   ]
  },
  {
   "cell_type": "markdown",
   "id": "5ff650f4",
   "metadata": {},
   "source": [
    "## Обработка пропусков столбца с количественными данными\n",
    "#### 1) Обработка столбца age\n",
    "Из статистики видно, что наименьшее и наибольшее значения корректны(нет отрицательных или невозможных значений, например возраст равный нулю). Исходя из этого пропуска считаем незаполненные данные(NAN), которые будем заполнять средними значениями"
   ]
  },
  {
   "cell_type": "code",
   "execution_count": 6,
   "id": "386520e8",
   "metadata": {},
   "outputs": [],
   "source": [
    "cleaned_train = train.copy(deep = True)\n",
    "cleaned_test = test.copy(deep = True) \n",
    "\n",
    "cleaned_train[\"age\"].fillna(cleaned_train[\"age\"].mean(), inplace=True)\n",
    "cleaned_test[\"age\"].fillna(cleaned_test[\"age\"].mean(), inplace=True)"
   ]
  },
  {
   "cell_type": "markdown",
   "id": "bb689718",
   "metadata": {},
   "source": [
    "#### 2) Обработка столбца credit_sum\n",
    "Из статистики видно, что наименьшее и наибольшее значения корректны(нет отрицательных или невозможных значений, например возраст равный нулю). Исходя из этого пропуска считаем незаполненные данные(NAN), которые будем заполнять средними значениями"
   ]
  },
  {
   "cell_type": "code",
   "execution_count": 7,
   "id": "2d8fa9bf",
   "metadata": {},
   "outputs": [],
   "source": [
    "cleaned_train[\"credit_sum\"].fillna(cleaned_train[\"credit_sum\"].mean(), inplace=True)\n",
    "cleaned_test[\"credit_sum\"].fillna(cleaned_test[\"credit_sum\"].mean(), inplace=True)"
   ]
  },
  {
   "cell_type": "markdown",
   "id": "ba91423b",
   "metadata": {},
   "source": [
    "#### 3) Обработка столбца score_shk\n",
    "Из статистики видно, что наименьшим значением в столбце является 0. Исходя из гипотезы, что этот столбец является отражением шкалы риска, считаем пропусками незаполненные ячейки и ячейки, равные нулю(при кредитовании точно нулевым риск быть не может)."
   ]
  },
  {
   "cell_type": "code",
   "execution_count": 8,
   "id": "c3a16294",
   "metadata": {},
   "outputs": [],
   "source": [
    "#заполним пустые ячейки\n",
    "cleaned_train[\"score_shk\"].fillna(cleaned_train[\"score_shk\"].mean(), inplace=True)\n",
    "cleaned_test[\"score_shk\"].fillna(cleaned_test[\"score_shk\"].mean(), inplace=True)\n",
    "\n",
    "#заполним нулевые ячейки средним значением\n",
    "score_mean_train = statistics.median(cleaned_train[\"score_shk\"])\n",
    "score_mean_test = statistics.median(cleaned_test[\"score_shk\"])\n",
    "\n",
    "cleaned_train.loc[(cleaned_train[\"score_shk\"] == 0), \"score_shk\"] = score_mean_train\n",
    "cleaned_test.loc[(cleaned_test[\"score_shk\"] == 0), \"score_shk\"] = score_mean_test"
   ]
  },
  {
   "cell_type": "markdown",
   "id": "d292b346",
   "metadata": {},
   "source": [
    "#### 4) Обработка столбца monthly_income\n",
    "Из статистики видно, что наименьшее и наибольшее значения корректны(нет отрицательных или невозможных значений, например возраст равный нулю). Исходя из этого пропуска считаем незаполненные данные(NAN), которые будем заполнять средними значениями."
   ]
  },
  {
   "cell_type": "code",
   "execution_count": 9,
   "id": "dc8480e9",
   "metadata": {},
   "outputs": [],
   "source": [
    "cleaned_train[\"monthly_income\"].fillna(cleaned_train[\"monthly_income\"].mean(), inplace=True)\n",
    "cleaned_test[\"monthly_income\"].fillna(cleaned_test[\"monthly_income\"].mean(), inplace=True)"
   ]
  },
  {
   "cell_type": "markdown",
   "id": "c7c4d58d",
   "metadata": {},
   "source": [
    "#### 5) Обработка столбца credit_count\n",
    "Из статистики видно, что наименьшим значением в столбце является 0. Исходя из гипотезы, что этот столбец является отражением числа кредитов по работнику, считаем пропусками незаполненные ячейки и ячейки, равные нулю(если работник в этой таблице отражается, то у него должен быть как минимум один кредит). Пропуски заполняем модой по данному столбцу"
   ]
  },
  {
   "cell_type": "code",
   "execution_count": 10,
   "id": "a007b7f2",
   "metadata": {},
   "outputs": [],
   "source": [
    "cleaned_train[\"credit_count\"].fillna(statistics.mode(cleaned_train[\"credit_count\"]), inplace=True)\n",
    "cleaned_test[\"credit_count\"].fillna(statistics.mode(cleaned_test[\"credit_count\"]), inplace=True)\n",
    "\n",
    "mode_train = statistics.mode(cleaned_train[\"credit_count\"])\n",
    "mode_test = statistics.mode(cleaned_test[\"credit_count\"])\n",
    "\n",
    "cleaned_train.loc[(cleaned_train[\"credit_count\"] == 0), \"credit_count\"] = mode_train\n",
    "cleaned_test.loc[(cleaned_test[\"credit_count\"] == 0), \"credit_count\"] = mode_test"
   ]
  },
  {
   "cell_type": "markdown",
   "id": "3d04d6bf",
   "metadata": {},
   "source": [
    "#### 6) Обработка столбца overdue_credit_count\n",
    "Из статистики видно, что наименьшее и наибольшее значения корректны(нет отрицательных или невозможных значений, поскольку количество просроченых кредитов вполне может быть равно нулю). Исходя из этого пропуска считаем незаполненные данные(NAN). Пропуски заполняем модой по данному столбцу"
   ]
  },
  {
   "cell_type": "code",
   "execution_count": 11,
   "id": "c36e1077",
   "metadata": {},
   "outputs": [],
   "source": [
    "cleaned_train[\"overdue_credit_count\"].fillna(statistics.mode(cleaned_train[\"overdue_credit_count\"]), inplace=True)\n",
    "cleaned_test[\"overdue_credit_count\"].fillna(statistics.mode(cleaned_test[\"overdue_credit_count\"]), inplace=True)"
   ]
  },
  {
   "cell_type": "markdown",
   "id": "bde55b32",
   "metadata": {},
   "source": [
    "## Нормализируем данные\n",
    "Нормализируем данные только по количественным признакам"
   ]
  },
  {
   "cell_type": "code",
   "execution_count": 14,
   "id": "b2932cd7",
   "metadata": {},
   "outputs": [],
   "source": [
    "normilized_columns = [\"age\", \"credit_sum\", \"credit_month\", \"score_shk\", \"monthly_income\"]\n",
    "\n",
    "not_normilized_columns = list(data_set.columns)\n",
    "\n",
    "for col in normilized_columns:\n",
    "    not_normilized_columns.remove(col)\n",
    "#регион будем обрабатывать отдельно   \n",
    "train_region = cleaned_train['living_region'].copy()\n",
    "test_region = cleaned_test['living_region'].copy()\n",
    "not_normilized_columns.remove('living_region')\n",
    "\n",
    "train_norm_copy = cleaned_train[normilized_columns].copy()\n",
    "test_norm_copy = cleaned_test[normilized_columns].copy()\n",
    "\n",
    "train_not_copy = cleaned_train[not_normilized_columns].copy()\n",
    "test_not_copy = cleaned_test[not_normilized_columns].copy()\n",
    "\n",
    "scaler = StandardScaler()\n",
    "\n",
    "d = scaler.fit_transform(train_norm_copy)\n",
    "train_norm_copy = pd.DataFrame(d, columns = normilized_columns)\n",
    "\n",
    "d = scaler.fit_transform(test_norm_copy)\n",
    "test_norm_copy = pd.DataFrame(d, columns = normilized_columns)"
   ]
  },
  {
   "cell_type": "markdown",
   "id": "7a76aa18",
   "metadata": {},
   "source": [
    "## Обработаем регионы, приведя их к обещму шаблону"
   ]
  },
  {
   "cell_type": "code",
   "execution_count": 15,
   "id": "cac2c011",
   "metadata": {},
   "outputs": [],
   "source": [
    "#Список слов, от которых будем избавляться\n",
    "trash_words = {\"ОБЛ\", \"ОБЛАСТЬ\", \"РЕСП\", \"РЕСПУБЛИКА\", \"АО\", \"АОБЛ\", \"Г\", \"Г.\", \"Р-Н\", \"КРАЙ\", \n",
    "               \"РЕСП.\", \"АВТОНОМНЫЙ\", \"ФЕДЕРАЛЬНЫЙ\", \"ОКРУГ\", \"АВТОНОМНАЯ\", \"СЕВ\", \"СЕВЕРНАЯ\"} \n",
    "\n",
    "train_living_region = train_region.tolist()\n",
    "test_living_region = test_region.tolist()\n",
    "\n",
    "def replacing_name(str):\n",
    "    if str == 'РЕСПУБЛИКАТАТАРСТАН':\n",
    "        str = 'РЕСПУБЛИКА ТАТАРСТАН'\n",
    "    elif \"98\" in str:\n",
    "        str = 'САНКТ-ПЕТЕРБУРГ'\n",
    "    elif \"74\" in str:\n",
    "        str = 'ЧЕЛЯБИНСКАЯ ОБЛ'\n",
    "    elif \"МОСКВОСКАЯ\" in str:\n",
    "        str = 'МОСКОВСКАЯ ОБЛ'\n",
    "    elif \"АЛТАЙСКИЙ\" in str:\n",
    "        str = 'АЛТАЙСКИЙ КРАЙ'\n",
    "    elif \"АРХАНГЕЛЬСКАЯ\" in str:\n",
    "        str = 'АРХАНГЕЛЬСКАЯ ОБЛАСТЬ'\n",
    "    elif \"АСТРАХАНСКАЯ\" in str:\n",
    "        str = 'АСТРАХАНСКАЯ ОБЛАСТЬ'\n",
    "    elif \"АСТРАХАНСКАЯ\" in str:\n",
    "        str = 'АСТРАХАНСКАЯ ОБЛАСТЬ'\n",
    "    elif \"ВОЛОГОДСКАЯ\" in str:\n",
    "        str = 'ВОЛОГОДСКАЯ ОБЛАСТЬ'\n",
    "    elif \"БАШКОРТОСТАН\" in str:\n",
    "        str = 'РЕСПУБЛИКА БАШКОРТОСТАН'\n",
    "    elif \"БРЯНСКИЙ\" in str:\n",
    "        str = 'БРЯНСКИЙ РАЙОН'\n",
    "    elif \"БУРЯТИЯ\" in str:\n",
    "        str = 'РЕСПУБЛИКА БУРЯТИЯ'\n",
    "    elif \"МОСКВА\" in str:\n",
    "        str = 'МОСКВА'\n",
    "    elif \"САНКТ-ПЕТЕРБУРГ\" in str:\n",
    "        str = 'САНКТ-ПЕТЕРБУРГ'\n",
    "    elif \"ЕВРЕЙСКАЯ\" in str:\n",
    "        str = 'ЕВРЕЙСКАЯ ОБЛАСТЬ'\n",
    "    elif \"КАЛМЫКИЯ\" in str:\n",
    "        str = 'РЕСПУБЛИКА КАЛМЫКИЯ'\n",
    "    elif \"КАЛУЖСКАЯ\" in str:\n",
    "        str = 'КАЛУЖСКАЯ ОБЛАСТЬ'\n",
    "    elif \"КАРАЧАЕВО-ЧЕРКЕССКАЯ\" in str:\n",
    "        str = 'КАРАЧАЕВО-ЧЕРКЕССКАЯ ОБЛАСТЬ'\n",
    "    elif \"КАРЕЛИЯ\" in str:\n",
    "        str = 'РЕСПУБЛИКА КАРЕЛИЯ'\n",
    "    elif \"КАБАРДИНО-БАЛКАРСКАЯ\" in str:\n",
    "        str = 'КАБАРДИНО-БАЛКАРСКАЯ ОБЛАСТЬ'\n",
    "    elif \"КЕМЕРОВСКАЯ\" in str:\n",
    "        str = 'КЕМЕРОВСКАЯ ОБЛАСТЬ'\n",
    "    elif \"КОМИ\" in str:\n",
    "        str = 'РЕСПУБЛИКА КОМИ'\n",
    "    elif \"КРАСНОДАРСКИЙ\" in str:\n",
    "        str = 'КРАСНОДАРСКИЙ КРАЙ'\n",
    "    elif \"ЛЕНИНГРАДСКАЯ\" in str:\n",
    "        str = 'ЛЕНИНГРАДСКАЯ ОБЛАСТЬ'\n",
    "    elif \"МОСКОВСКАЯ\" in str:\n",
    "        str = 'МОСКОВСКАЯ ОБЛАСТЬ'\n",
    "    elif \"НОВОСИБИРСКАЯ\" in str:\n",
    "        str = 'НОВОСИБИРСКАЯ ОБЛАСТЬ'\n",
    "    elif \"ОМСКАЯ\" in str:\n",
    "        str = 'ОМСКАЯ ОБЛАСТЬ'\n",
    "    elif \"ПЕРМСКИЙ\" in str:\n",
    "        str = 'ПЕРМСКИЙ КРАЙ'\n",
    "    elif \"САХА\" in str:\n",
    "        str = 'РЕСПУБЛИКА САХА'\n",
    "    elif \"ЧУВАШСКАЯ\" in str:\n",
    "        str = 'РЕСПУБЛИКА ЧУВАШСКАЯ - ЧУВАШИЯ'\n",
    "    elif \"РОСТОВСКАЯ\" in str:\n",
    "        str = 'РОСТОВСКАЯ ОБЛАСТЬ'\n",
    "    elif \"САМАРСКАЯ\" in str:\n",
    "        str = 'САМАРСКАЯ ОБЛАСТЬ'\n",
    "    elif \"СВЕРДЛОВСКАЯ\" in str:\n",
    "        str = 'СВЕРДЛОВСКАЯ ОБЛАСТЬ'\n",
    "    elif \"ОСЕТИЯ\" in str:\n",
    "        str = 'РЕСПУБЛИКА ОСЕТИЯ - АЛАНИЯ'\n",
    "    elif \"СТАВРОПОЛЬСКИЙ\" in str:\n",
    "        str = 'СТАВРОПОЛЬСКИЙ КРАЙ'\n",
    "    elif \"ТЮМЕНСКАЯ\" in str:\n",
    "        str = 'ТЮМЕНСКАЯ ОБЛАСТЬ'\n",
    "    elif \"ХАКАСИЯ\" in str:\n",
    "        str = 'РЕСПУБЛИКА ХАКАСИЯ'\n",
    "    elif \"ХАНТЫ-МАНСИЙСКИЙ\" in str:\n",
    "        str = 'ХАНТЫ-МАНСИЙСКИЙ АВТОНОМНЫЙ ОКРУГ'\n",
    "    return str\n",
    "\n",
    "def split_string(word):\n",
    "    words = word.split(' ')\n",
    "    new_words = []\n",
    "    new_words= [i for i in words if not i in trash_words]\n",
    "    buff = list(filter(None, new_words))\n",
    "    word = ' '.join(buff)\n",
    "    return word\n",
    "\n",
    "def clean_string(word):\n",
    "    word = replacing_name(word)\n",
    "    word = word.upper()#большинство данных в столбце находятся в верхнем регистре, поэтому все приводим к общей форме\n",
    "    word = re.sub('[\\d+\\t\\r\\n{}//.,!;?:]', ' ', word)\n",
    "    if \"ОБЛ\" in word:\n",
    "        word = split_string(word)\n",
    "        word = word + \" ОБЛАСТЬ\"\n",
    "    elif \"РЕСП\" in word:\n",
    "        word = split_string(word)\n",
    "        word = \"РЕСПУБЛИКА \" + word\n",
    "    elif \"АО\" in word:\n",
    "        word = split_string(word)\n",
    "        word = word + \" АВТОНОМНЫЙ ОКРУГ\"\n",
    "    elif \"Р-Н\" in word:\n",
    "        word = split_string(word)\n",
    "        word = word + \" РАЙОН\"\n",
    "    elif \"КРАЙ\" in word:\n",
    "        word = split_string(word)\n",
    "        word = word + \" КРАЙ\"\n",
    "    return word\n",
    "\n",
    "train_counter = 0\n",
    "\n",
    "for word in train_living_region:\n",
    "    cleaned_word = clean_string(word)\n",
    "    train_living_region[train_counter]= cleaned_word\n",
    "    train_counter +=1\n",
    "\n",
    "test_counter = 0\n",
    "    \n",
    "for word in test_living_region:\n",
    "    cleaned_word = clean_string(word)\n",
    "    test_living_region[test_counter]= cleaned_word\n",
    "    test_counter +=1 "
   ]
  },
  {
   "cell_type": "code",
   "execution_count": 16,
   "id": "6acc812b",
   "metadata": {},
   "outputs": [],
   "source": [
    "#соберем выборки вместе и оценим выбросы по каждой из них\n",
    "\n",
    "normilized_train = pd.concat([train_norm_copy, train_not_copy], axis=1)\n",
    "normilized_train.insert(loc= 10 , column='living_region', value=train_living_region)\n",
    "\n",
    "normilized_test = pd.concat([test_norm_copy, test_not_copy], axis=1)\n",
    "normilized_test.insert (loc= 10 , column='living_region', value=test_living_region)"
   ]
  },
  {
   "cell_type": "markdown",
   "id": "db0854b7",
   "metadata": {},
   "source": [
    "## Определим выбросы по каждой из выборок"
   ]
  },
  {
   "cell_type": "code",
   "execution_count": 18,
   "id": "7bc03417",
   "metadata": {},
   "outputs": [
    {
     "data": {
      "text/plain": [
       "<AxesSubplot:>"
      ]
     },
     "execution_count": 18,
     "metadata": {},
     "output_type": "execute_result"
    },
    {
     "data": {
      "image/png": "[encoded data removed]",
      "text/plain": [
       "<Figure size 1440x720 with 1 Axes>"
      ]
     },
     "metadata": {},
     "output_type": "display_data"
    }
   ],
   "source": [
    "#выбросы по тренировочной выборке\n",
    "sns.set_theme(style=\"ticks\", palette=\"pastel\")\n",
    "plt.figure (figsize=(20,10))\n",
    "sns.boxplot(data=normilized_train)"
   ]
  },
  {
   "cell_type": "code",
   "execution_count": 19,
   "id": "cd9e59eb",
   "metadata": {},
   "outputs": [],
   "source": [
    "#удалим выбросы в тренировочной выборке\n",
    "\n",
    "cleaned_columns = [\"age\", \"credit_sum\", \"credit_month\", \"score_shk\", \"monthly_income\", \"credit_count\", \"overdue_credit_count\"]\n",
    "\n",
    "for col in cleaned_columns:\n",
    "    Q_1 = normilized_train[col].quantile(q = 0.25)\n",
    "    Q_3 = normilized_train[col].quantile(q = 0.75)\n",
    "    IQR = Q_3 - Q_1\n",
    "    normilized_train = normilized_train.loc[~((normilized_train[col] < (Q_1-1.5*IQR))|(normilized_train[col] > (Q_3+1.5*IQR)))]"
   ]
  },
  {
   "cell_type": "code",
   "execution_count": 20,
   "id": "9e1c8801",
   "metadata": {},
   "outputs": [
    {
     "data": {
      "image/png": "[encoded data removed]",
      "text/plain": [
       "<Figure size 432x288 with 2 Axes>"
      ]
     },
     "metadata": {},
     "output_type": "display_data"
    }
   ],
   "source": [
    "#сделаем матрицу корреляции по трнировочной выборке\n",
    "corr_matrix = normilized_train.corr()\n",
    "sns.heatmap(corr_matrix, annot=True);"
   ]
  },
  {
   "cell_type": "code",
   "execution_count": 21,
   "id": "d082b157",
   "metadata": {},
   "outputs": [
    {
     "name": "stdout",
     "output_type": "stream",
     "text": [
      "age: Распределение НЕ СООТВЕТСТВУЕТ нормальному\n",
      "credit_sum: Распределение НЕ СООТВЕТСТВУЕТ нормальному\n",
      "credit_month: Распределение НЕ СООТВЕТСТВУЕТ нормальному\n",
      "tariff_id: Распределение НЕ СООТВЕТСТВУЕТ нормальному\n",
      "score_shk: Распределение НЕ СООТВЕТСТВУЕТ нормальному\n",
      "monthly_income: Распределение НЕ СООТВЕТСТВУЕТ нормальному\n",
      "credit_count: Распределение НЕ СООТВЕТСТВУЕТ нормальному\n",
      "overdue_credit_count: Распределение НЕ СООТВЕТСТВУЕТ нормальному\n",
      "open_account_flg: Распределение НЕ СООТВЕТСТВУЕТ нормальному\n"
     ]
    }
   ],
   "source": [
    "from scipy.stats import normaltest\n",
    "\n",
    "numberic_postions = ['age', 'credit_sum', 'credit_month', 'tariff_id', 'score_shk', 'monthly_income', 'credit_count', \n",
    "                     'overdue_credit_count','open_account_flg']\n",
    "for pos in numberic_postions:\n",
    "    print (pos,end=': ')\n",
    "    if normaltest(normilized_train[pos].astype(np.float32).values).pvalue>0.05:\n",
    "        print (\"Распределение СООТВЕТСТВУЕТ нормальному\")\n",
    "    else:\n",
    "        print (\"Распределение НЕ СООТВЕТСТВУЕТ нормальному\")"
   ]
  },
  {
   "cell_type": "code",
   "execution_count": 22,
   "id": "631f2b31",
   "metadata": {},
   "outputs": [
    {
     "data": {
      "text/plain": [
       "<AxesSubplot:>"
      ]
     },
     "execution_count": 22,
     "metadata": {},
     "output_type": "execute_result"
    },
    {
     "data": {
      "image/png": "[encoded data removed]",
      "text/plain": [
       "<Figure size 1440x720 with 1 Axes>"
      ]
     },
     "metadata": {},
     "output_type": "display_data"
    }
   ],
   "source": [
    "#выбросы по тестовой выборке\n",
    "sns.set_theme(style=\"ticks\", palette=\"pastel\")\n",
    "plt.figure (figsize=(20,10))\n",
    "sns.boxplot (data=normilized_test)"
   ]
  },
  {
   "cell_type": "code",
   "execution_count": 23,
   "id": "135e31a7",
   "metadata": {},
   "outputs": [],
   "source": [
    "#удалим выбросы в тестовой выборке\n",
    "\n",
    "for col in cleaned_columns:\n",
    "    Q_1 = normilized_train[col].quantile(q = 0.25)\n",
    "    Q_3 = normilized_train[col].quantile(q = 0.75)\n",
    "    IQR = Q_3 - Q_1\n",
    "    normilized_test = normilized_test.loc[~((normilized_test[col] < (Q_1-1.5*IQR))|(normilized_test[col] > (Q_3+1.5*IQR)))]"
   ]
  },
  {
   "cell_type": "code",
   "execution_count": 25,
   "id": "1f59081d",
   "metadata": {},
   "outputs": [
    {
     "data": {
      "image/png": "[encoded data removed]",
      "text/plain": [
       "<Figure size 432x288 with 2 Axes>"
      ]
     },
     "metadata": {},
     "output_type": "display_data"
    }
   ],
   "source": [
    "#сделаем матрицу корреляции по тестовой выборке\n",
    "corr_matrix = normilized_test.corr()\n",
    "sns.heatmap(corr_matrix, annot=True);"
   ]
  },
  {
   "cell_type": "code",
   "execution_count": 26,
   "id": "a8d9f173",
   "metadata": {},
   "outputs": [
    {
     "name": "stdout",
     "output_type": "stream",
     "text": [
      "age: Распределение НЕ СООТВЕТСТВУЕТ нормальному\n",
      "credit_sum: Распределение НЕ СООТВЕТСТВУЕТ нормальному\n",
      "credit_month: Распределение НЕ СООТВЕТСТВУЕТ нормальному\n",
      "tariff_id: Распределение НЕ СООТВЕТСТВУЕТ нормальному\n",
      "score_shk: Распределение НЕ СООТВЕТСТВУЕТ нормальному\n",
      "monthly_income: Распределение НЕ СООТВЕТСТВУЕТ нормальному\n",
      "credit_count: Распределение НЕ СООТВЕТСТВУЕТ нормальному\n",
      "overdue_credit_count: Распределение НЕ СООТВЕТСТВУЕТ нормальному\n",
      "open_account_flg: Распределение НЕ СООТВЕТСТВУЕТ нормальному\n"
     ]
    }
   ],
   "source": [
    "for pos in numberic_postions:\n",
    "    print (pos,end=': ')\n",
    "    if normaltest(normilized_test[pos].astype(np.float32).values).pvalue>0.05:\n",
    "        print (\"Распределение СООТВЕТСТВУЕТ нормальному\")\n",
    "    else:\n",
    "        print (\"Распределение НЕ СООТВЕТСТВУЕТ нормальному\")"
   ]
  }
 ],
 "metadata": {
  "kernelspec": {
   "display_name": "Python 3 (ipykernel)",
   "language": "python",
   "name": "python3"
  },
  "language_info": {
   "codemirror_mode": {
    "name": "ipython",
    "version": 3
   },
   "file_extension": ".py",
   "mimetype": "text/x-python",
   "name": "python",
   "nbconvert_exporter": "python",
   "pygments_lexer": "ipython3",
   "version": "3.9.7"
  }
 },
 "nbformat": 4,
 "nbformat_minor": 5
}
