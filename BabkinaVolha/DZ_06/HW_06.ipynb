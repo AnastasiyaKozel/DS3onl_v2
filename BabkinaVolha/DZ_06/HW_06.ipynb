{
 "cells": [
  {
   "cell_type": "markdown",
   "id": "81e2cdb4",
   "metadata": {},
   "source": [
    "# Домашнее задание № 6\n",
    "\n",
    "1. Реализовать с использованием потоков и процессов скачивание файлов из интернета. \n",
    "2. Список файлов для скачивания подготовить самостоятельно (например изображений, не менее 100 изображений или других объектов). Сравнить производительность с последовательным методом. \n",
    "3. Сравнивть производительность Thread и multiprocessing решений. Попробовать подобрать оптимальное число потоков/процессов. \n",
    "\n",
    "    "
   ]
  },
  {
   "cell_type": "markdown",
   "id": "19f66ebe",
   "metadata": {},
   "source": [
    "## Подготовка данных для скачивания"
   ]
  },
  {
   "cell_type": "code",
   "execution_count": 1,
   "id": "3d67abc0",
   "metadata": {},
   "outputs": [
    {
     "name": "stdout",
     "output_type": "stream",
     "text": [
      "135\n"
     ]
    }
   ],
   "source": [
    "import time\n",
    "import requests\n",
    "from bs4 import BeautifulSoup\n",
    "import os\n",
    "import shutil\n",
    "\n",
    "list_url = [\"https://www.onliner.by/\"]\n",
    "images = []\n",
    "for url in list_url:\n",
    "    response = requests.get(url)\n",
    "    soup = BeautifulSoup(response.text, features=\"html.parser\")\n",
    "    for img in soup.findAll('img'):\n",
    "        images.append(img.get('src'))\n",
    "\n",
    "cleaned_img = []\n",
    "for i in range(len(images)):\n",
    "    if images[i]==None or images[i].startswith('//'):\n",
    "        continue\n",
    "    elif images[i].endswith('jpg'):\n",
    "        cleaned_img.append(images[i])\n",
    "\n",
    "print(len(cleaned_img))#количество скачанных изображений"
   ]
  },
  {
   "cell_type": "markdown",
   "id": "b06170d3",
   "metadata": {},
   "source": [
    "## Cкачивание изображений последовательно"
   ]
  },
  {
   "cell_type": "code",
   "execution_count": 2,
   "id": "953ee017",
   "metadata": {},
   "outputs": [
    {
     "name": "stdout",
     "output_type": "stream",
     "text": [
      "Running without threads:\n",
      "На загрузку потрачено -  8.147306680679321  секунд\n",
      "Скачано -  135  файлов\n"
     ]
    }
   ],
   "source": [
    "def download_image_without_thread(download_list_url, number, dir_name):\n",
    "    file_path=dir_name+'\\\\image'+str(number)+'.jpg'\n",
    "    img=requests.get(download_list_url)\n",
    "    open(file_path,\"wb\").write(img.content)\n",
    "    \n",
    "    \n",
    "try: \n",
    "    os.mkdir('Images')\n",
    "except FileExistsError:\n",
    "    shutil.rmtree ('Images')\n",
    "    os.mkdir ('Images')\n",
    "    \n",
    "print(\"Running without threads:\")\n",
    "start=time.time()\n",
    "\n",
    "for i in cleaned_img:\n",
    "    download_image_without_thread(i,cleaned_img.index(i),'Images')\n",
    "end = time.time()\n",
    "\n",
    "print (\"На загрузку потрачено - \", end-start, ' секунд')\n",
    "print (\"Скачано - \", len(cleaned_img), \" файлов\")"
   ]
  },
  {
   "cell_type": "markdown",
   "id": "70889858",
   "metadata": {},
   "source": [
    "## Использование потоков при скачивании изображений \n",
    "## из интернета с использованием ThreadPoolExecutor()"
   ]
  },
  {
   "cell_type": "code",
   "execution_count": 6,
   "id": "8b4db695",
   "metadata": {},
   "outputs": [
    {
     "name": "stdout",
     "output_type": "stream",
     "text": [
      "Running threaded:\n",
      "На загрузку потрачено -  2.2037434577941895  секунд\n",
      "Скачано -  135  файлов\n"
     ]
    }
   ],
   "source": [
    "import concurrent.futures\n",
    "\n",
    "try: \n",
    "    os.mkdir('ImagesThreads')\n",
    "except FileExistsError:\n",
    "    shutil.rmtree ('ImagesThreads')\n",
    "    os.mkdir ('ImagesThreads')\n",
    "\n",
    "    \n",
    "def download_with_ThreadPoolExecutor(download_list_url, number, dir_name):\n",
    "    file_path=dir_name+'\\\\image'+str(number)+'.jpg'\n",
    "    img=requests.get(download_list_url)\n",
    "    open(file_path,\"wb\").write(img.content)\n",
    "    \n",
    "print(\"Running threaded:\")\n",
    "threaded_start = time.time()\n",
    "\n",
    "with concurrent.futures.ThreadPoolExecutor() as executor:\n",
    "    futures = []\n",
    "    for url in cleaned_img:\n",
    "        futures.append(executor.submit(download_with_ThreadPoolExecutor, \n",
    "                                       download_list_url = url, \n",
    "                                       number = cleaned_img.index(url), \n",
    "                                       dir_name = 'ImagesThreads'))\n",
    "\n",
    "threaded_end = time.time()\n",
    "\n",
    "print (\"На загрузку потрачено - \", threaded_end - threaded_start, ' секунд')\n",
    "print (\"Скачано - \", len(cleaned_img), \" файлов\")"
   ]
  },
  {
   "cell_type": "markdown",
   "id": "65974a26",
   "metadata": {},
   "source": [
    "## Использование мультипроцессинга"
   ]
  },
  {
   "cell_type": "code",
   "execution_count": null,
   "id": "12300213",
   "metadata": {},
   "outputs": [],
   "source": [
    "from multiprocessing import Pool, cpu_count\n",
    "\n",
    "try: \n",
    "    os.mkdir('MultyProcess')\n",
    "except FileExistsError:\n",
    "    shutil.rmtree ('MultyProcess')\n",
    "    os.mkdir('MultyProcess')\n",
    "\n",
    "def img_downl_mult(url):\n",
    "    file_path='MultyProcess\\\\image' + str(cleaned_img.index(url)) + '.jpg'\n",
    "    img=requests.get(url)\n",
    "    open(file_path,\"wb\").write(img.content)\n",
    "\n",
    "if __name__ == '__main__':\n",
    "    pool = Pool(15)\n",
    "    start = time.time()\n",
    "    results = pool.map(img_downl_mult, cleaned_img)\n",
    "    pool.close()\n",
    "    pool.join()\n",
    "    end = time.time()\n",
    "    print('Time taken in seconds -', end - start)"
   ]
  },
  {
   "cell_type": "markdown",
   "id": "3926753f",
   "metadata": {},
   "source": [
    "### Скачивание изображений с помощью мультипроцессинга запускалось через командную строку. Для это код программы был отдельно вынесен в файл HW_06_with_multyprocess.py, который так же находится в папке с шестым домашним заданием. Результаты запуска программы:"
   ]
  },
  {
   "cell_type": "markdown",
   "id": "f930474a",
   "metadata": {},
   "source": [
    "![jupyter](./download_with_multyprocess.png)"
   ]
  },
  {
   "cell_type": "markdown",
   "id": "6fa9d2f5",
   "metadata": {},
   "source": [
    "## Вывод:\n",
    "\n",
    "Таким образом наиболее неэффективным вариантом скачивания изображения из интернета является последовательное скачивание изображений(8 с), следом идет использование мультипроцессинга(4 с), а наиболее эффективным вариантом скачивания изобрадений стал многопоточный вариант с использованием ThreadPoolExecutor()."
   ]
  }
 ],
 "metadata": {
  "kernelspec": {
   "display_name": "Python 3 (ipykernel)",
   "language": "python",
   "name": "python3"
  },
  "language_info": {
   "codemirror_mode": {
    "name": "ipython",
    "version": 3
   },
   "file_extension": ".py",
   "mimetype": "text/x-python",
   "name": "python",
   "nbconvert_exporter": "python",
   "pygments_lexer": "ipython3",
   "version": "3.9.7"
  }
 },
 "nbformat": 4,
 "nbformat_minor": 5
}
