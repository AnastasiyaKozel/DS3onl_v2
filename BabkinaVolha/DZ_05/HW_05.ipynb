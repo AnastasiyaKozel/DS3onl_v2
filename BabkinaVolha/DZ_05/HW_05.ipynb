{
 "cells": [
  {
   "cell_type": "markdown",
   "id": "079986cb",
   "metadata": {},
   "source": [
    "# Определение класса Alphabet:\n",
    "1. Создайте класс Alphabet\n",
    "2. Создайте метод __init__(), внутри которого будут определены два динамических свойства: \n",
    "    2.1 lang - язык и \n",
    "    2.2 letters - список букв. Начальные значения свойств берутся из входных параметров метода.\n",
    "3. Создайте метод print(), который выведет в консоль буквы алфавита\n",
    "4. Создайте метод letters_num(), который вернет количество букв в алфавите"
   ]
  },
  {
   "cell_type": "code",
   "execution_count": 131,
   "id": "acbcee89",
   "metadata": {},
   "outputs": [],
   "source": [
    "import string\n",
    "\n",
    "class Alphabet():\n",
    "    def __init__(self, lang = \"RU\", *args, **kwargs):\n",
    "        if len(args) > 0 :\n",
    "            self.letters = args[0] #принимает те буквы, которые ввели при определении объекта\n",
    "            self.lang = lang #определение языка, по умолчанию русский\n",
    "        else:\n",
    "            letters = []                #если при определении объекта буквы не заданы, по умоланию будет использован русский алфавит\n",
    "            for i in range(1040, 1072): #для определения букв используется таблица кодов символов кирилицы UTF-8\n",
    "                x = chr(i)\n",
    "                letters.append(x)\n",
    "            self.letters = letters\n",
    "    def print(self):\n",
    "        print(self.letters)\n",
    "    def letters_num(self):\n",
    "        print(len(self.letters))"
   ]
  },
  {
   "cell_type": "markdown",
   "id": "7751feda",
   "metadata": {},
   "source": [
    "# Определение класса EngAlphabet:\n",
    "1. Создайте класс EngAlphabet путем наследования от класса Alphabet\n",
    "2. Создайте метод __init__(), внутри которого будет вызываться родительский метод __init__(). В качестве параметров ему будут передаваться обозначение языка(например, 'En') и строка, состоящая из всех букв алфавита(можно воспользоваться свойством ascii_uppercase из модуля string).\n",
    "3. Добавьте приватное статическое свойство __letters_num, которое будет хранить количество букв в алфавите.\n",
    "4. Создайте метод is_en_letter(), который будет принимать букву в качестве параметра и определять, относится ли эта буква к английскому алфавиту.\n",
    "5. Переопределите метод letters_num() - пусть в текущем классе классе он будет возвращать значение свойства __letters_num.\n",
    "6. Создайте статический метод example(), который будет возвращать пример текста на английском языке."
   ]
  },
  {
   "cell_type": "code",
   "execution_count": 132,
   "id": "7bea13b5",
   "metadata": {},
   "outputs": [],
   "source": [
    "class EngAlphabet(Alphabet):\n",
    "    __letters_num = 26\n",
    "    def __init__(self):\n",
    "        super().__init__('EN', string.ascii_uppercase)\n",
    "    def is_en_letter(self, letter):\n",
    "        return letter in self.letters\n",
    "    def letters_num(self):\n",
    "        return self.__letters_num\n",
    "    @staticmethod    \n",
    "    def example():\n",
    "        print(\"Example of english text\")\n",
    "    "
   ]
  },
  {
   "cell_type": "markdown",
   "id": "1cbf0970",
   "metadata": {},
   "source": [
    "# Тесты:\n",
    "1. Создайте объект класса EngAlphabet\n",
    "2. Напечатайте буквы алфавита для этого объекта\n",
    "3. Выведите количество букв в алфавите\n",
    "4. Проверьте, относится ли буква F к английскому алфавиту\n",
    "5. Проверьте, относится ли буква Щ к английскому алфавиту\n",
    "6. Выведите пример текста на английском языке"
   ]
  },
  {
   "cell_type": "code",
   "execution_count": 133,
   "id": "ea69ecf3",
   "metadata": {},
   "outputs": [
    {
     "name": "stdout",
     "output_type": "stream",
     "text": [
      "Буквы алфавита:\n",
      "ABCDEFGHIJKLMNOPQRSTUVWXYZ\n",
      "Количество букв в алфавите:  26\n",
      "Относится ли F к английскому алфавиту?  True\n",
      "Относится ли Щ к английскому алфавиту?  False\n",
      "Пример текста на английском языке:\n",
      "Example of english text\n"
     ]
    }
   ],
   "source": [
    "Eng_Alph = EngAlphabet()\n",
    "#буквы алфавита\n",
    "print(\"Буквы алфавита:\")\n",
    "Eng_Alph.print()\n",
    "#вывод количества букв в алфавите\n",
    "print(\"Количество букв в алфавите: \", Eng_Alph.letters_num())\n",
    "#проверка, относится ли буква F к английскому алфавиту\n",
    "print(\"Относится ли F к английскому алфавиту? \", Eng_Alph.is_en_letter(\"F\"))\n",
    "#проверка, относится ли буква Щ к английскому алфавиту\n",
    "print(\"Относится ли Щ к английскому алфавиту? \", Eng_Alph.is_en_letter(\"Щ\"))\n",
    "#Вывед примера текста на английском языке\n",
    "print(\"Пример текста на английском языке:\")\n",
    "Eng_Alph.example()"
   ]
  }
 ],
 "metadata": {
  "kernelspec": {
   "display_name": "Python 3 (ipykernel)",
   "language": "python",
   "name": "python3"
  },
  "language_info": {
   "codemirror_mode": {
    "name": "ipython",
    "version": 3
   },
   "file_extension": ".py",
   "mimetype": "text/x-python",
   "name": "python",
   "nbconvert_exporter": "python",
   "pygments_lexer": "ipython3",
   "version": "3.9.7"
  }
 },
 "nbformat": 4,
 "nbformat_minor": 5
}
