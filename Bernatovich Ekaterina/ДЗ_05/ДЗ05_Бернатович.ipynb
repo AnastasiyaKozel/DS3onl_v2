{
 "cells": [
  {
   "cell_type": "markdown",
   "id": "f9798738",
   "metadata": {},
   "source": [
    "ДЗ_05 Бернатович 25.09.2022"
   ]
  },
  {
   "cell_type": "markdown",
   "id": "3b361109",
   "metadata": {},
   "source": [
    "Класс Alphabet\n",
    "1. Создайте класс Alphabet\n",
    "2. Создайте метод __init__(), внутри которого будут определены два динамических свойства: 1) lang - язык и 2) letters - список букв. Начальные значения свойств берутся из входных параметров метода.\n",
    "3. Создайте метод print(), который выведет в консоль буквы алфавита\n",
    "4. Создайте метод letters_num(), который вернет количество букв в алфавите"
   ]
  },
  {
   "cell_type": "code",
   "execution_count": 87,
   "id": "79809ea1",
   "metadata": {},
   "outputs": [],
   "source": [
    "class Alphabet():\n",
    "    def __init__(self,lang,letters):\n",
    "        self.lang=lang\n",
    "        self.letters=letters\n",
    "    \n",
    "    def print(self):\n",
    "        print(self.letters)\n",
    "        \n",
    "    def letters_num(self):\n",
    "        len(letters)  \n"
   ]
  },
  {
   "cell_type": "markdown",
   "id": "3e8c02ba",
   "metadata": {},
   "source": [
    "Класс EngAlphabet\n",
    "1. Создайте класс EngAlphabet путем наследования от класса Alphabet\n",
    "2. Создайте метод __init__(), внутри которого будет вызываться родительский метод __init__(). В качестве параметров ему будут передаваться обозначение языка(например, 'En') и строка, состоящая из всех букв алфавита(можно воспользоваться свойством ascii_uppercase из модуля string).\n",
    "3. Добавьте приватное статическое свойство __letters_num, которое будет хранить количество букв в алфавите.\n",
    "4. Создайте метод is_en_letter(), который будет принимать букву в качестве параметра и определять, относится ли эта буква к английскому алфавиту.\n",
    "5. Переопределите метод letters_num() - пусть в текущем классе классе он будет возвращать значение свойства __letters_num.\n",
    "6. Создайте статический метод example(), который будет возвращать пример текста на английском языке.\n"
   ]
  },
  {
   "cell_type": "code",
   "execution_count": 41,
   "id": "17c02f1d",
   "metadata": {},
   "outputs": [],
   "source": [
    "import string"
   ]
  },
  {
   "cell_type": "code",
   "execution_count": 111,
   "id": "107ca56e",
   "metadata": {},
   "outputs": [],
   "source": [
    "class EngAlphabet(Alphabet):\n",
    "    __letters_num = 26\n",
    "    \n",
    "    def __init__(self):\n",
    "        super().__init__(\"En\", string.ascii_uppercase)\n",
    "        \n",
    "    def is_en_letter(self,letter):\n",
    "        if letter.upper() in set(self.letters):\n",
    "            return f'Буква {letter} относится к английскому алфавиту'\n",
    "        else:\n",
    "            return f'Буква {letter} не относится к английскому алфавиту'\n",
    "        \n",
    "    def letters_num(self):\n",
    "        return EngAlphabet.__letters_num\n",
    "    \n",
    "    @staticmethod\n",
    "    def example():\n",
    "        print(\"Oh, it's just like magic\")\n",
    "    \n",
    "    "
   ]
  },
  {
   "cell_type": "markdown",
   "id": "ada7c8a3",
   "metadata": {},
   "source": [
    "Тесты:\n",
    "1. Создайте объект класса EngAlphabet\n",
    "2. Напечатайте буквы алфавита для этого объекта\n",
    "3. Выведите количество букв в алфавите\n",
    "4. Проверьте, относится ли буква F к английскому алфавиту\n",
    "5. Проверьте, относится ли буква Щ к английскому алфавиту\n",
    "6. Выведите пример текста на английском языке"
   ]
  },
  {
   "cell_type": "code",
   "execution_count": 112,
   "id": "314d110e",
   "metadata": {},
   "outputs": [],
   "source": [
    "abc=EngAlphabet()"
   ]
  },
  {
   "cell_type": "code",
   "execution_count": 113,
   "id": "57a72db5",
   "metadata": {},
   "outputs": [
    {
     "name": "stdout",
     "output_type": "stream",
     "text": [
      "ABCDEFGHIJKLMNOPQRSTUVWXYZ\n"
     ]
    }
   ],
   "source": [
    "abc.print()"
   ]
  },
  {
   "cell_type": "code",
   "execution_count": 114,
   "id": "51f33a9d",
   "metadata": {},
   "outputs": [
    {
     "data": {
      "text/plain": [
       "26"
      ]
     },
     "execution_count": 114,
     "metadata": {},
     "output_type": "execute_result"
    }
   ],
   "source": [
    "abc.letters_num()"
   ]
  },
  {
   "cell_type": "code",
   "execution_count": 115,
   "id": "f9babb78",
   "metadata": {},
   "outputs": [
    {
     "data": {
      "text/plain": [
       "'Буква f относится к английскому алфавиту'"
      ]
     },
     "execution_count": 115,
     "metadata": {},
     "output_type": "execute_result"
    }
   ],
   "source": [
    "abc.is_en_letter(\"f\")"
   ]
  },
  {
   "cell_type": "code",
   "execution_count": 116,
   "id": "9e5b014f",
   "metadata": {},
   "outputs": [
    {
     "data": {
      "text/plain": [
       "'Буква щ не относится к английскому алфавиту'"
      ]
     },
     "execution_count": 116,
     "metadata": {},
     "output_type": "execute_result"
    }
   ],
   "source": [
    "abc.is_en_letter(\"щ\")"
   ]
  },
  {
   "cell_type": "code",
   "execution_count": 117,
   "id": "0e7f6b5e",
   "metadata": {},
   "outputs": [
    {
     "name": "stdout",
     "output_type": "stream",
     "text": [
      "Oh, it's just like magic\n"
     ]
    }
   ],
   "source": [
    "abc.example()"
   ]
  },
  {
   "cell_type": "code",
   "execution_count": null,
   "id": "6e686c70",
   "metadata": {},
   "outputs": [],
   "source": []
  },
  {
   "cell_type": "code",
   "execution_count": null,
   "id": "0d98a09e",
   "metadata": {},
   "outputs": [],
   "source": []
  }
 ],
 "metadata": {
  "kernelspec": {
   "display_name": "Python 3 (ipykernel)",
   "language": "python",
   "name": "python3"
  },
  "language_info": {
   "codemirror_mode": {
    "name": "ipython",
    "version": 3
   },
   "file_extension": ".py",
   "mimetype": "text/x-python",
   "name": "python",
   "nbconvert_exporter": "python",
   "pygments_lexer": "ipython3",
   "version": "3.9.12"
  }
 },
 "nbformat": 4,
 "nbformat_minor": 5
}
