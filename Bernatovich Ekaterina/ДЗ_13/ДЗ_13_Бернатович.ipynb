{
 "cells": [
  {
   "cell_type": "markdown",
   "id": "198f35c8",
   "metadata": {},
   "source": [
    "ДЗ 13 Бернатович 09.11.2022\n",
    "# Цель\n",
    "\n",
    "Не менее 20000 символов.\n",
    "уменьшить размерность текста, используя метод главных компонент, при этом обеспечить сохранение информации не менее 80%\n",
    "\n",
    "\n",
    "# Задачи:\n",
    "\n",
    "- осуществить загрузку текста, токенизацию\n",
    "\n",
    "- почистить данные (числа, знаки препинания, символы, стоп-слова)\n",
    "\n",
    "- осуществить лемматизацию\n",
    "\n",
    "- перевести в векторное представление\n",
    "\n",
    "- применить метод главных компонент таким образом, чтобы потеря информации составила не более 20%\n",
    "\n",
    "https://scikit-learn.org/stable/modules/generated/sklearn.feature_extraction.text.TfidfVectorizer.html\n",
    "\n",
    "- (если есть метки классов) посчитать результаты обучения. \n"
   ]
  },
  {
   "cell_type": "code",
   "execution_count": 1,
   "id": "a39bb16c",
   "metadata": {},
   "outputs": [],
   "source": [
    "import pandas as pd\n",
    "import numpy as np\n",
    "import seaborn as sns\n",
    "import matplotlib.pyplot as plt"
   ]
  },
  {
   "cell_type": "markdown",
   "id": "f2339a08",
   "metadata": {},
   "source": [
    "Загрузим данные\n",
    "https://data.world/crowdflower/2015-new-years-resolutions"
   ]
  },
  {
   "cell_type": "code",
   "execution_count": 2,
   "id": "2ccbca24",
   "metadata": {},
   "outputs": [],
   "source": [
    "df = pd.read_csv('New-years-resolutions-DFE.csv', encoding='cp1251')"
   ]
  },
  {
   "cell_type": "code",
   "execution_count": 3,
   "id": "03fd7923",
   "metadata": {},
   "outputs": [
    {
     "data": {
      "text/html": [
       "<div>\n",
       "<style scoped>\n",
       "    .dataframe tbody tr th:only-of-type {\n",
       "        vertical-align: middle;\n",
       "    }\n",
       "\n",
       "    .dataframe tbody tr th {\n",
       "        vertical-align: top;\n",
       "    }\n",
       "\n",
       "    .dataframe thead th {\n",
       "        text-align: right;\n",
       "    }\n",
       "</style>\n",
       "<table border=\"1\" class=\"dataframe\">\n",
       "  <thead>\n",
       "    <tr style=\"text-align: right;\">\n",
       "      <th></th>\n",
       "      <th>other_topic</th>\n",
       "      <th>resolution_topics</th>\n",
       "      <th>gender</th>\n",
       "      <th>name</th>\n",
       "      <th>Resolution_Category</th>\n",
       "      <th>retweet_count</th>\n",
       "      <th>text</th>\n",
       "      <th>tweet_coord</th>\n",
       "      <th>tweet_created</th>\n",
       "      <th>tweet_date</th>\n",
       "      <th>tweet_id</th>\n",
       "      <th>tweet_location</th>\n",
       "      <th>tweet_state</th>\n",
       "      <th>user_timezone</th>\n",
       "      <th>tweet_region</th>\n",
       "    </tr>\n",
       "  </thead>\n",
       "  <tbody>\n",
       "    <tr>\n",
       "      <th>0</th>\n",
       "      <td>Read moore books, read less facebook.</td>\n",
       "      <td>Eat healthier</td>\n",
       "      <td>female</td>\n",
       "      <td>Dena_Marina</td>\n",
       "      <td>Health &amp; Fitness</td>\n",
       "      <td>0.0</td>\n",
       "      <td>#NewYearsResolution :: Read more books, No scr...</td>\n",
       "      <td>NaN</td>\n",
       "      <td>12/31/14 10:48</td>\n",
       "      <td>12/31/14</td>\n",
       "      <td>5.503630e+17</td>\n",
       "      <td>Southern California</td>\n",
       "      <td>CA</td>\n",
       "      <td>Pacific Time (US &amp; Canada)</td>\n",
       "      <td>West</td>\n",
       "    </tr>\n",
       "    <tr>\n",
       "      <th>1</th>\n",
       "      <td>NaN</td>\n",
       "      <td>Humor about Personal Growth and Interests Reso...</td>\n",
       "      <td>female</td>\n",
       "      <td>ninjagirl325</td>\n",
       "      <td>Humor</td>\n",
       "      <td>1.0</td>\n",
       "      <td>#NewYearsResolution Finally master @ZJ10 's pa...</td>\n",
       "      <td>NaN</td>\n",
       "      <td>12/31/14 10:47</td>\n",
       "      <td>12/31/14</td>\n",
       "      <td>5.503630e+17</td>\n",
       "      <td>New Jersey</td>\n",
       "      <td>NJ</td>\n",
       "      <td>Central Time (US &amp; Canada)</td>\n",
       "      <td>Northeast</td>\n",
       "    </tr>\n",
       "    <tr>\n",
       "      <th>2</th>\n",
       "      <td>NaN</td>\n",
       "      <td>Be More Confident</td>\n",
       "      <td>male</td>\n",
       "      <td>RickyDelReyy</td>\n",
       "      <td>Personal Growth</td>\n",
       "      <td>0.0</td>\n",
       "      <td>#NewYearsResolution to stop being so damn perf...</td>\n",
       "      <td>NaN</td>\n",
       "      <td>12/31/14 10:46</td>\n",
       "      <td>12/31/14</td>\n",
       "      <td>5.503620e+17</td>\n",
       "      <td>Hollywood</td>\n",
       "      <td>CA</td>\n",
       "      <td>Eastern Time (US &amp; Canada)</td>\n",
       "      <td>West</td>\n",
       "    </tr>\n",
       "    <tr>\n",
       "      <th>3</th>\n",
       "      <td>Help More\\nspread pet therapy|helping other</td>\n",
       "      <td>Other</td>\n",
       "      <td>male</td>\n",
       "      <td>CalmareNJ</td>\n",
       "      <td>Philanthropic</td>\n",
       "      <td>0.0</td>\n",
       "      <td>My #NewYearsResolution is to help my disabled ...</td>\n",
       "      <td>NaN</td>\n",
       "      <td>12/31/14 10:45</td>\n",
       "      <td>12/31/14</td>\n",
       "      <td>5.503620e+17</td>\n",
       "      <td>Metro NYC</td>\n",
       "      <td>NY</td>\n",
       "      <td>NaN</td>\n",
       "      <td>Northeast</td>\n",
       "    </tr>\n",
       "    <tr>\n",
       "      <th>4</th>\n",
       "      <td>NaN</td>\n",
       "      <td>Be more positive</td>\n",
       "      <td>female</td>\n",
       "      <td>welovatoyoudemi</td>\n",
       "      <td>Personal Growth</td>\n",
       "      <td>0.0</td>\n",
       "      <td>#NewYearsResolution #2015Goals #2015bucketlist...</td>\n",
       "      <td>NaN</td>\n",
       "      <td>12/31/14 10:44</td>\n",
       "      <td>12/31/14</td>\n",
       "      <td>5.503620e+17</td>\n",
       "      <td>Pittsburgh, Pennsylvania</td>\n",
       "      <td>PA</td>\n",
       "      <td>Eastern Time (US &amp; Canada)</td>\n",
       "      <td>Northeast</td>\n",
       "    </tr>\n",
       "  </tbody>\n",
       "</table>\n",
       "</div>"
      ],
      "text/plain": [
       "                                   other_topic  \\\n",
       "0        Read moore books, read less facebook.   \n",
       "1                                          NaN   \n",
       "2                                          NaN   \n",
       "3  Help More\\nspread pet therapy|helping other   \n",
       "4                                          NaN   \n",
       "\n",
       "                                   resolution_topics  gender             name  \\\n",
       "0                                      Eat healthier  female      Dena_Marina   \n",
       "1  Humor about Personal Growth and Interests Reso...  female     ninjagirl325   \n",
       "2                                  Be More Confident    male     RickyDelReyy   \n",
       "3                                              Other    male        CalmareNJ   \n",
       "4                                   Be more positive  female  welovatoyoudemi   \n",
       "\n",
       "  Resolution_Category  retweet_count  \\\n",
       "0    Health & Fitness            0.0   \n",
       "1               Humor            1.0   \n",
       "2     Personal Growth            0.0   \n",
       "3       Philanthropic            0.0   \n",
       "4     Personal Growth            0.0   \n",
       "\n",
       "                                                text tweet_coord  \\\n",
       "0  #NewYearsResolution :: Read more books, No scr...         NaN   \n",
       "1  #NewYearsResolution Finally master @ZJ10 's pa...         NaN   \n",
       "2  #NewYearsResolution to stop being so damn perf...         NaN   \n",
       "3  My #NewYearsResolution is to help my disabled ...         NaN   \n",
       "4  #NewYearsResolution #2015Goals #2015bucketlist...         NaN   \n",
       "\n",
       "    tweet_created tweet_date      tweet_id             tweet_location  \\\n",
       "0  12/31/14 10:48   12/31/14  5.503630e+17        Southern California   \n",
       "1  12/31/14 10:47   12/31/14  5.503630e+17                 New Jersey   \n",
       "2  12/31/14 10:46   12/31/14  5.503620e+17                  Hollywood   \n",
       "3  12/31/14 10:45   12/31/14  5.503620e+17                  Metro NYC   \n",
       "4  12/31/14 10:44   12/31/14  5.503620e+17  Pittsburgh, Pennsylvania    \n",
       "\n",
       "  tweet_state               user_timezone tweet_region  \n",
       "0          CA  Pacific Time (US & Canada)         West  \n",
       "1          NJ  Central Time (US & Canada)    Northeast  \n",
       "2          CA  Eastern Time (US & Canada)         West  \n",
       "3          NY                         NaN    Northeast  \n",
       "4          PA  Eastern Time (US & Canada)    Northeast  "
      ]
     },
     "execution_count": 3,
     "metadata": {},
     "output_type": "execute_result"
    }
   ],
   "source": [
    "df.head()"
   ]
  },
  {
   "cell_type": "code",
   "execution_count": 4,
   "id": "edd2406e",
   "metadata": {},
   "outputs": [
    {
     "data": {
      "text/plain": [
       "<AxesSubplot:xlabel='gender', ylabel='count'>"
      ]
     },
     "execution_count": 4,
     "metadata": {},
     "output_type": "execute_result"
    },
    {
     "data": {
      "image/png": "[encoded data removed]",
      "text/plain": [
       "<Figure size 432x288 with 1 Axes>"
      ]
     },
     "metadata": {
      "needs_background": "light"
     },
     "output_type": "display_data"
    }
   ],
   "source": [
    "sns.countplot(data=df,x='gender',hue='Resolution_Category')"
   ]
  },
  {
   "cell_type": "code",
   "execution_count": 5,
   "id": "0a0023cc",
   "metadata": {},
   "outputs": [
    {
     "data": {
      "text/plain": [
       "Personal Growth                 1781\n",
       "Humor                           1010\n",
       "Health & Fitness                 840\n",
       "Recreation & Leisure             467\n",
       "Family/Friends/Relationships     351\n",
       "Finance                          176\n",
       "Career                           126\n",
       "Education/Training                89\n",
       "Time Management/Organization      87\n",
       "Philanthropic                     84\n",
       "Name: Resolution_Category, dtype: int64"
      ]
     },
     "execution_count": 5,
     "metadata": {},
     "output_type": "execute_result"
    }
   ],
   "source": [
    "df['Resolution_Category'].value_counts()"
   ]
  },
  {
   "cell_type": "code",
   "execution_count": 6,
   "id": "4d7de3e9",
   "metadata": {},
   "outputs": [
    {
     "data": {
      "text/plain": [
       "0       #NewYearsResolution :: Read more books, No scr...\n",
       "1       #NewYearsResolution Finally master @ZJ10 's pa...\n",
       "2       #NewYearsResolution to stop being so damn perf...\n",
       "3       My #NewYearsResolution is to help my disabled ...\n",
       "4       #NewYearsResolution #2015Goals #2015bucketlist...\n",
       "                              ...                        \n",
       "5006    Tomorrow I start @JustifiedFX because @natalie...\n",
       "5007    holy crap, people. EYES OPEN WHEN DRIVING. #Ne...\n",
       "5008    RT @moJO_SHabby: Start parody of her blog #NYR...\n",
       "5009    RT @kscmaghirang: To have an excellent job bef...\n",
       "5010    RT @tompycan: #NewYearsResolution on Jan1: \"I'...\n",
       "Name: text, Length: 5011, dtype: object"
      ]
     },
     "execution_count": 6,
     "metadata": {},
     "output_type": "execute_result"
    }
   ],
   "source": [
    "df['text']"
   ]
  },
  {
   "cell_type": "raw",
   "id": "72a42763",
   "metadata": {},
   "source": [
    "Почистим данные (числа, знаки препинания, символы, стоп-слова)"
   ]
  },
  {
   "cell_type": "code",
   "execution_count": 7,
   "id": "bd12a884",
   "metadata": {},
   "outputs": [],
   "source": [
    "import re\n",
    "\n",
    "from pymorphy2 import MorphAnalyzer\n",
    "from nltk.corpus import stopwords\n",
    "\n",
    "away = \"[А-Яа-я0-9!#$%&'()*©®»«–+,./:;<=>?@[\\]^_`{|}~—\\\"\\-]+\"\n",
    "stopwords_ru = stopwords.words(\"english\")\n",
    "morph = MorphAnalyzer()\n",
    "\n",
    "def lem(doc):\n",
    "    doc = re.sub(away, ' ', doc)\n",
    "    words = []\n",
    "    for word in doc.split():\n",
    "        if word and word not in stopwords_ru:\n",
    "            word = word.strip()\n",
    "            word = morph.normal_forms(word)[0]\n",
    "            words.append(word)\n",
    "    return words"
   ]
  },
  {
   "cell_type": "code",
   "execution_count": 8,
   "id": "9492c7a4",
   "metadata": {},
   "outputs": [],
   "source": [
    "#df['text'] = df['text'].apply(lem) "
   ]
  },
  {
   "cell_type": "code",
   "execution_count": 9,
   "id": "57cf891e",
   "metadata": {},
   "outputs": [
    {
     "data": {
      "text/plain": [
       "0       #NewYearsResolution :: Read more books, No scr...\n",
       "1       #NewYearsResolution Finally master @ZJ10 's pa...\n",
       "2       #NewYearsResolution to stop being so damn perf...\n",
       "3       My #NewYearsResolution is to help my disabled ...\n",
       "4       #NewYearsResolution #2015Goals #2015bucketlist...\n",
       "                              ...                        \n",
       "5006    Tomorrow I start @JustifiedFX because @natalie...\n",
       "5007    holy crap, people. EYES OPEN WHEN DRIVING. #Ne...\n",
       "5008    RT @moJO_SHabby: Start parody of her blog #NYR...\n",
       "5009    RT @kscmaghirang: To have an excellent job bef...\n",
       "5010    RT @tompycan: #NewYearsResolution on Jan1: \"I'...\n",
       "Name: text, Length: 5011, dtype: object"
      ]
     },
     "execution_count": 9,
     "metadata": {},
     "output_type": "execute_result"
    }
   ],
   "source": [
    "df['text']"
   ]
  },
  {
   "cell_type": "markdown",
   "id": "bb80996c",
   "metadata": {},
   "source": [
    "Проверим, есть ли какие-то строки с пустым текстом"
   ]
  },
  {
   "cell_type": "code",
   "execution_count": 10,
   "id": "3b916edd",
   "metadata": {},
   "outputs": [
    {
     "data": {
      "text/plain": [
       "0"
      ]
     },
     "execution_count": 10,
     "metadata": {},
     "output_type": "execute_result"
    }
   ],
   "source": [
    "df['text'].str.isspace().sum()"
   ]
  },
  {
   "cell_type": "markdown",
   "id": "82302014",
   "metadata": {},
   "source": [
    "Признаки и целевая переменная"
   ]
  },
  {
   "cell_type": "code",
   "execution_count": 11,
   "id": "51816a96",
   "metadata": {},
   "outputs": [],
   "source": [
    "data = df[['Resolution_Category','text']]"
   ]
  },
  {
   "cell_type": "code",
   "execution_count": 12,
   "id": "3d7cbc0c",
   "metadata": {},
   "outputs": [
    {
     "data": {
      "text/html": [
       "<div>\n",
       "<style scoped>\n",
       "    .dataframe tbody tr th:only-of-type {\n",
       "        vertical-align: middle;\n",
       "    }\n",
       "\n",
       "    .dataframe tbody tr th {\n",
       "        vertical-align: top;\n",
       "    }\n",
       "\n",
       "    .dataframe thead th {\n",
       "        text-align: right;\n",
       "    }\n",
       "</style>\n",
       "<table border=\"1\" class=\"dataframe\">\n",
       "  <thead>\n",
       "    <tr style=\"text-align: right;\">\n",
       "      <th></th>\n",
       "      <th>Resolution_Category</th>\n",
       "      <th>text</th>\n",
       "    </tr>\n",
       "  </thead>\n",
       "  <tbody>\n",
       "    <tr>\n",
       "      <th>0</th>\n",
       "      <td>Health &amp; Fitness</td>\n",
       "      <td>#NewYearsResolution :: Read more books, No scr...</td>\n",
       "    </tr>\n",
       "    <tr>\n",
       "      <th>1</th>\n",
       "      <td>Humor</td>\n",
       "      <td>#NewYearsResolution Finally master @ZJ10 's pa...</td>\n",
       "    </tr>\n",
       "    <tr>\n",
       "      <th>2</th>\n",
       "      <td>Personal Growth</td>\n",
       "      <td>#NewYearsResolution to stop being so damn perf...</td>\n",
       "    </tr>\n",
       "    <tr>\n",
       "      <th>3</th>\n",
       "      <td>Philanthropic</td>\n",
       "      <td>My #NewYearsResolution is to help my disabled ...</td>\n",
       "    </tr>\n",
       "    <tr>\n",
       "      <th>4</th>\n",
       "      <td>Personal Growth</td>\n",
       "      <td>#NewYearsResolution #2015Goals #2015bucketlist...</td>\n",
       "    </tr>\n",
       "    <tr>\n",
       "      <th>5</th>\n",
       "      <td>Health &amp; Fitness</td>\n",
       "      <td>#NewYearsResolution 1. Eat less.\\n2.quit lying.</td>\n",
       "    </tr>\n",
       "  </tbody>\n",
       "</table>\n",
       "</div>"
      ],
      "text/plain": [
       "  Resolution_Category                                               text\n",
       "0    Health & Fitness  #NewYearsResolution :: Read more books, No scr...\n",
       "1               Humor  #NewYearsResolution Finally master @ZJ10 's pa...\n",
       "2     Personal Growth  #NewYearsResolution to stop being so damn perf...\n",
       "3       Philanthropic  My #NewYearsResolution is to help my disabled ...\n",
       "4     Personal Growth  #NewYearsResolution #2015Goals #2015bucketlist...\n",
       "5    Health & Fitness    #NewYearsResolution 1. Eat less.\\n2.quit lying."
      ]
     },
     "execution_count": 12,
     "metadata": {},
     "output_type": "execute_result"
    }
   ],
   "source": [
    "data.head(6)"
   ]
  },
  {
   "cell_type": "markdown",
   "id": "ac215636",
   "metadata": {},
   "source": [
    "Разделим данные на признаки X и целевую переменную y, а также выполним разбиение на обучающий и тестовый наборы данных (train/test split)."
   ]
  },
  {
   "cell_type": "code",
   "execution_count": 13,
   "id": "1eee9fac",
   "metadata": {},
   "outputs": [],
   "source": [
    "y = df['Resolution_Category']\n",
    "X = df['text']"
   ]
  },
  {
   "cell_type": "markdown",
   "id": "43f49082",
   "metadata": {},
   "source": [
    "Разбиение на обучающий и тестовый наборы данных - Train Test Split"
   ]
  },
  {
   "cell_type": "code",
   "execution_count": 14,
   "id": "caeac483",
   "metadata": {},
   "outputs": [],
   "source": [
    "from sklearn.model_selection import train_test_split"
   ]
  },
  {
   "cell_type": "code",
   "execution_count": 15,
   "id": "28da15cd",
   "metadata": {},
   "outputs": [],
   "source": [
    "X_train, X_test, y_train, y_test = train_test_split(X, y, test_size=0.2, random_state=101)"
   ]
  },
  {
   "cell_type": "code",
   "execution_count": 16,
   "id": "41acc985",
   "metadata": {},
   "outputs": [
    {
     "data": {
      "text/plain": [
       "4037    You can't outrun your fork! #health #nutrition...\n",
       "1889    \"@chrisbrown: Supper club right now!!!! #NewYe...\n",
       "490     I didn't fuck with any fuck niggas this year, ...\n",
       "2009     #NewYearsResolution : lite sum illegal fireworks\n",
       "2266    my only New Years resolution is to not spend m...\n",
       "                              ...                        \n",
       "4171    #NewYearsResolution\\n\\nLove her\\nHang w/family...\n",
       "599     RT @OnlyOneSilletti: #NewYearsResolution is to...\n",
       "1361    RT @Jawdann_: #NewYearsResolution Get Bigger A...\n",
       "1547    The people that keep me positive will follow m...\n",
       "4959                #NewYearsResolution stop being washed\n",
       "Name: text, Length: 4008, dtype: object"
      ]
     },
     "execution_count": 16,
     "metadata": {},
     "output_type": "execute_result"
    }
   ],
   "source": [
    "X_train"
   ]
  },
  {
   "cell_type": "markdown",
   "id": "b6c4a5c5",
   "metadata": {},
   "source": [
    "Векторизация"
   ]
  },
  {
   "cell_type": "code",
   "execution_count": 17,
   "id": "39283bc8",
   "metadata": {},
   "outputs": [],
   "source": [
    "from sklearn.feature_extraction.text import CountVectorizer"
   ]
  },
  {
   "cell_type": "code",
   "execution_count": 18,
   "id": "3c8f40cc",
   "metadata": {},
   "outputs": [],
   "source": [
    "cv = CountVectorizer(stop_words='english')"
   ]
  },
  {
   "cell_type": "code",
   "execution_count": 19,
   "id": "0d3e1d6e",
   "metadata": {},
   "outputs": [
    {
     "name": "stdout",
     "output_type": "stream",
     "text": [
      "Top 20 words used\n",
      "[('newyearsresolution', 3957), ('new', 1589), ('resolution', 1308), ('years', 1248), ('2015', 756), ('rt', 681), ('http', 650), ('year', 619), ('stop', 358), ('make', 312), ('amp', 254), ('time', 221), ('people', 205), ('don', 188), ('like', 186), ('start', 184), ('better', 180), ('going', 180), ('just', 174), ('ы_', 173)]\n"
     ]
    },
    {
     "name": "stderr",
     "output_type": "stream",
     "text": [
      "C:\\ProgramData\\Anaconda3\\lib\\site-packages\\sklearn\\utils\\deprecation.py:87: FutureWarning: Function get_feature_names is deprecated; get_feature_names is deprecated in 1.0 and will be removed in 1.2. Please use get_feature_names_out instead.\n",
      "  warnings.warn(msg, category=FutureWarning)\n"
     ]
    }
   ],
   "source": [
    "matrix = cv.fit_transform(df['text'])\n",
    "freqs = zip(cv.get_feature_names(), matrix.sum(axis=0).tolist()[0])    \n",
    "# Сортируем от больших к меньшим\n",
    "print(\"Top 20 words used\")\n",
    "print(sorted(freqs, key=lambda x: -x[1])[:20])\n",
    "dn=sorted(freqs, key=lambda x: -x[1])[:20]"
   ]
  },
  {
   "cell_type": "code",
   "execution_count": 20,
   "id": "e44fbf11",
   "metadata": {},
   "outputs": [],
   "source": [
    "from sklearn.feature_extraction.text import TfidfVectorizer"
   ]
  },
  {
   "cell_type": "code",
   "execution_count": 21,
   "id": "38517254",
   "metadata": {},
   "outputs": [],
   "source": [
    "tfidf = TfidfVectorizer(stop_words='english')"
   ]
  },
  {
   "cell_type": "code",
   "execution_count": 22,
   "id": "fc232df9",
   "metadata": {},
   "outputs": [
    {
     "data": {
      "text/plain": [
       "TfidfVectorizer(stop_words='english')"
      ]
     },
     "execution_count": 22,
     "metadata": {},
     "output_type": "execute_result"
    }
   ],
   "source": [
    "tfidf.fit(X_train)"
   ]
  },
  {
   "cell_type": "code",
   "execution_count": 23,
   "id": "4050f1a8",
   "metadata": {},
   "outputs": [],
   "source": [
    "X_train_tfidf = tfidf.transform(X_train)\n",
    "X_test_tfidf = tfidf.transform(X_test)"
   ]
  },
  {
   "cell_type": "code",
   "execution_count": 24,
   "id": "1e7785be",
   "metadata": {},
   "outputs": [
    {
     "data": {
      "text/plain": [
       "<4008x8114 sparse matrix of type '<class 'numpy.float64'>'\n",
       "\twith 32210 stored elements in Compressed Sparse Row format>"
      ]
     },
     "execution_count": 24,
     "metadata": {},
     "output_type": "execute_result"
    }
   ],
   "source": [
    "X_train_tfidf"
   ]
  },
  {
   "cell_type": "code",
   "execution_count": 25,
   "id": "40bfb8af",
   "metadata": {},
   "outputs": [],
   "source": [
    "from sklearn.decomposition import PCA"
   ]
  },
  {
   "cell_type": "code",
   "execution_count": 26,
   "id": "00986a5b",
   "metadata": {},
   "outputs": [],
   "source": [
    "model = PCA() #создание экземпляра класса анализа главных компонент"
   ]
  },
  {
   "cell_type": "code",
   "execution_count": 27,
   "id": "7c748b81",
   "metadata": {},
   "outputs": [
    {
     "ename": "ValueError",
     "evalue": "could not convert string to float: \"#NewYearsResolution :: Read more books, No scrolling FB/checking email b4 breakfast, stay dedicated to PT/yoga to squash my achin' back!\"",
     "output_type": "error",
     "traceback": [
      "\u001b[1;31m---------------------------------------------------------------------------\u001b[0m",
      "\u001b[1;31mValueError\u001b[0m                                Traceback (most recent call last)",
      "Input \u001b[1;32mIn [27]\u001b[0m, in \u001b[0;36m<cell line: 1>\u001b[1;34m()\u001b[0m\n\u001b[1;32m----> 1\u001b[0m results \u001b[38;5;241m=\u001b[39m \u001b[43mmodel\u001b[49m\u001b[38;5;241;43m.\u001b[39;49m\u001b[43mfit\u001b[49m\u001b[43m(\u001b[49m\u001b[43mX\u001b[49m\u001b[43m)\u001b[49m\n",
      "File \u001b[1;32mC:\\ProgramData\\Anaconda3\\lib\\site-packages\\sklearn\\decomposition\\_pca.py:382\u001b[0m, in \u001b[0;36mPCA.fit\u001b[1;34m(self, X, y)\u001b[0m\n\u001b[0;32m    365\u001b[0m \u001b[38;5;28;01mdef\u001b[39;00m \u001b[38;5;21mfit\u001b[39m(\u001b[38;5;28mself\u001b[39m, X, y\u001b[38;5;241m=\u001b[39m\u001b[38;5;28;01mNone\u001b[39;00m):\n\u001b[0;32m    366\u001b[0m     \u001b[38;5;124;03m\"\"\"Fit the model with X.\u001b[39;00m\n\u001b[0;32m    367\u001b[0m \n\u001b[0;32m    368\u001b[0m \u001b[38;5;124;03m    Parameters\u001b[39;00m\n\u001b[1;32m   (...)\u001b[0m\n\u001b[0;32m    380\u001b[0m \u001b[38;5;124;03m        Returns the instance itself.\u001b[39;00m\n\u001b[0;32m    381\u001b[0m \u001b[38;5;124;03m    \"\"\"\u001b[39;00m\n\u001b[1;32m--> 382\u001b[0m     \u001b[38;5;28;43mself\u001b[39;49m\u001b[38;5;241;43m.\u001b[39;49m\u001b[43m_fit\u001b[49m\u001b[43m(\u001b[49m\u001b[43mX\u001b[49m\u001b[43m)\u001b[49m\n\u001b[0;32m    383\u001b[0m     \u001b[38;5;28;01mreturn\u001b[39;00m \u001b[38;5;28mself\u001b[39m\n",
      "File \u001b[1;32mC:\\ProgramData\\Anaconda3\\lib\\site-packages\\sklearn\\decomposition\\_pca.py:430\u001b[0m, in \u001b[0;36mPCA._fit\u001b[1;34m(self, X)\u001b[0m\n\u001b[0;32m    424\u001b[0m \u001b[38;5;28;01mif\u001b[39;00m issparse(X):\n\u001b[0;32m    425\u001b[0m     \u001b[38;5;28;01mraise\u001b[39;00m \u001b[38;5;167;01mTypeError\u001b[39;00m(\n\u001b[0;32m    426\u001b[0m         \u001b[38;5;124m\"\u001b[39m\u001b[38;5;124mPCA does not support sparse input. See \u001b[39m\u001b[38;5;124m\"\u001b[39m\n\u001b[0;32m    427\u001b[0m         \u001b[38;5;124m\"\u001b[39m\u001b[38;5;124mTruncatedSVD for a possible alternative.\u001b[39m\u001b[38;5;124m\"\u001b[39m\n\u001b[0;32m    428\u001b[0m     )\n\u001b[1;32m--> 430\u001b[0m X \u001b[38;5;241m=\u001b[39m \u001b[38;5;28;43mself\u001b[39;49m\u001b[38;5;241;43m.\u001b[39;49m\u001b[43m_validate_data\u001b[49m\u001b[43m(\u001b[49m\n\u001b[0;32m    431\u001b[0m \u001b[43m    \u001b[49m\u001b[43mX\u001b[49m\u001b[43m,\u001b[49m\u001b[43m \u001b[49m\u001b[43mdtype\u001b[49m\u001b[38;5;241;43m=\u001b[39;49m\u001b[43m[\u001b[49m\u001b[43mnp\u001b[49m\u001b[38;5;241;43m.\u001b[39;49m\u001b[43mfloat64\u001b[49m\u001b[43m,\u001b[49m\u001b[43m \u001b[49m\u001b[43mnp\u001b[49m\u001b[38;5;241;43m.\u001b[39;49m\u001b[43mfloat32\u001b[49m\u001b[43m]\u001b[49m\u001b[43m,\u001b[49m\u001b[43m \u001b[49m\u001b[43mensure_2d\u001b[49m\u001b[38;5;241;43m=\u001b[39;49m\u001b[38;5;28;43;01mTrue\u001b[39;49;00m\u001b[43m,\u001b[49m\u001b[43m \u001b[49m\u001b[43mcopy\u001b[49m\u001b[38;5;241;43m=\u001b[39;49m\u001b[38;5;28;43mself\u001b[39;49m\u001b[38;5;241;43m.\u001b[39;49m\u001b[43mcopy\u001b[49m\n\u001b[0;32m    432\u001b[0m \u001b[43m\u001b[49m\u001b[43m)\u001b[49m\n\u001b[0;32m    434\u001b[0m \u001b[38;5;66;03m# Handle n_components==None\u001b[39;00m\n\u001b[0;32m    435\u001b[0m \u001b[38;5;28;01mif\u001b[39;00m \u001b[38;5;28mself\u001b[39m\u001b[38;5;241m.\u001b[39mn_components \u001b[38;5;129;01mis\u001b[39;00m \u001b[38;5;28;01mNone\u001b[39;00m:\n",
      "File \u001b[1;32mC:\\ProgramData\\Anaconda3\\lib\\site-packages\\sklearn\\base.py:566\u001b[0m, in \u001b[0;36mBaseEstimator._validate_data\u001b[1;34m(self, X, y, reset, validate_separately, **check_params)\u001b[0m\n\u001b[0;32m    564\u001b[0m     \u001b[38;5;28;01mraise\u001b[39;00m \u001b[38;5;167;01mValueError\u001b[39;00m(\u001b[38;5;124m\"\u001b[39m\u001b[38;5;124mValidation should be done on X, y or both.\u001b[39m\u001b[38;5;124m\"\u001b[39m)\n\u001b[0;32m    565\u001b[0m \u001b[38;5;28;01melif\u001b[39;00m \u001b[38;5;129;01mnot\u001b[39;00m no_val_X \u001b[38;5;129;01mand\u001b[39;00m no_val_y:\n\u001b[1;32m--> 566\u001b[0m     X \u001b[38;5;241m=\u001b[39m check_array(X, \u001b[38;5;241m*\u001b[39m\u001b[38;5;241m*\u001b[39mcheck_params)\n\u001b[0;32m    567\u001b[0m     out \u001b[38;5;241m=\u001b[39m X\n\u001b[0;32m    568\u001b[0m \u001b[38;5;28;01melif\u001b[39;00m no_val_X \u001b[38;5;129;01mand\u001b[39;00m \u001b[38;5;129;01mnot\u001b[39;00m no_val_y:\n",
      "File \u001b[1;32mC:\\ProgramData\\Anaconda3\\lib\\site-packages\\sklearn\\utils\\validation.py:746\u001b[0m, in \u001b[0;36mcheck_array\u001b[1;34m(array, accept_sparse, accept_large_sparse, dtype, order, copy, force_all_finite, ensure_2d, allow_nd, ensure_min_samples, ensure_min_features, estimator)\u001b[0m\n\u001b[0;32m    744\u001b[0m         array \u001b[38;5;241m=\u001b[39m array\u001b[38;5;241m.\u001b[39mastype(dtype, casting\u001b[38;5;241m=\u001b[39m\u001b[38;5;124m\"\u001b[39m\u001b[38;5;124munsafe\u001b[39m\u001b[38;5;124m\"\u001b[39m, copy\u001b[38;5;241m=\u001b[39m\u001b[38;5;28;01mFalse\u001b[39;00m)\n\u001b[0;32m    745\u001b[0m     \u001b[38;5;28;01melse\u001b[39;00m:\n\u001b[1;32m--> 746\u001b[0m         array \u001b[38;5;241m=\u001b[39m \u001b[43mnp\u001b[49m\u001b[38;5;241;43m.\u001b[39;49m\u001b[43masarray\u001b[49m\u001b[43m(\u001b[49m\u001b[43marray\u001b[49m\u001b[43m,\u001b[49m\u001b[43m \u001b[49m\u001b[43morder\u001b[49m\u001b[38;5;241;43m=\u001b[39;49m\u001b[43morder\u001b[49m\u001b[43m,\u001b[49m\u001b[43m \u001b[49m\u001b[43mdtype\u001b[49m\u001b[38;5;241;43m=\u001b[39;49m\u001b[43mdtype\u001b[49m\u001b[43m)\u001b[49m\n\u001b[0;32m    747\u001b[0m \u001b[38;5;28;01mexcept\u001b[39;00m ComplexWarning \u001b[38;5;28;01mas\u001b[39;00m complex_warning:\n\u001b[0;32m    748\u001b[0m     \u001b[38;5;28;01mraise\u001b[39;00m \u001b[38;5;167;01mValueError\u001b[39;00m(\n\u001b[0;32m    749\u001b[0m         \u001b[38;5;124m\"\u001b[39m\u001b[38;5;124mComplex data not supported\u001b[39m\u001b[38;5;130;01m\\n\u001b[39;00m\u001b[38;5;132;01m{}\u001b[39;00m\u001b[38;5;130;01m\\n\u001b[39;00m\u001b[38;5;124m\"\u001b[39m\u001b[38;5;241m.\u001b[39mformat(array)\n\u001b[0;32m    750\u001b[0m     ) \u001b[38;5;28;01mfrom\u001b[39;00m \u001b[38;5;21;01mcomplex_warning\u001b[39;00m\n",
      "File \u001b[1;32mC:\\ProgramData\\Anaconda3\\lib\\site-packages\\pandas\\core\\series.py:872\u001b[0m, in \u001b[0;36mSeries.__array__\u001b[1;34m(self, dtype)\u001b[0m\n\u001b[0;32m    825\u001b[0m \u001b[38;5;28;01mdef\u001b[39;00m \u001b[38;5;21m__array__\u001b[39m(\u001b[38;5;28mself\u001b[39m, dtype: npt\u001b[38;5;241m.\u001b[39mDTypeLike \u001b[38;5;241m|\u001b[39m \u001b[38;5;28;01mNone\u001b[39;00m \u001b[38;5;241m=\u001b[39m \u001b[38;5;28;01mNone\u001b[39;00m) \u001b[38;5;241m-\u001b[39m\u001b[38;5;241m>\u001b[39m np\u001b[38;5;241m.\u001b[39mndarray:\n\u001b[0;32m    826\u001b[0m     \u001b[38;5;124;03m\"\"\"\u001b[39;00m\n\u001b[0;32m    827\u001b[0m \u001b[38;5;124;03m    Return the values as a NumPy array.\u001b[39;00m\n\u001b[0;32m    828\u001b[0m \n\u001b[1;32m   (...)\u001b[0m\n\u001b[0;32m    870\u001b[0m \u001b[38;5;124;03m          dtype='datetime64[ns]')\u001b[39;00m\n\u001b[0;32m    871\u001b[0m \u001b[38;5;124;03m    \"\"\"\u001b[39;00m\n\u001b[1;32m--> 872\u001b[0m     \u001b[38;5;28;01mreturn\u001b[39;00m \u001b[43mnp\u001b[49m\u001b[38;5;241;43m.\u001b[39;49m\u001b[43masarray\u001b[49m\u001b[43m(\u001b[49m\u001b[38;5;28;43mself\u001b[39;49m\u001b[38;5;241;43m.\u001b[39;49m\u001b[43m_values\u001b[49m\u001b[43m,\u001b[49m\u001b[43m \u001b[49m\u001b[43mdtype\u001b[49m\u001b[43m)\u001b[49m\n",
      "\u001b[1;31mValueError\u001b[0m: could not convert string to float: \"#NewYearsResolution :: Read more books, No scrolling FB/checking email b4 breakfast, stay dedicated to PT/yoga to squash my achin' back!\""
     ]
    }
   ],
   "source": [
    "results = model.fit(X)"
   ]
  },
  {
   "cell_type": "code",
   "execution_count": null,
   "id": "74bc70b1",
   "metadata": {},
   "outputs": [],
   "source": []
  },
  {
   "cell_type": "code",
   "execution_count": null,
   "id": "2f89113d",
   "metadata": {},
   "outputs": [],
   "source": []
  },
  {
   "cell_type": "code",
   "execution_count": null,
   "id": "ea6cdb5a",
   "metadata": {},
   "outputs": [],
   "source": []
  },
  {
   "cell_type": "code",
   "execution_count": null,
   "id": "b5259cd9",
   "metadata": {},
   "outputs": [],
   "source": []
  },
  {
   "cell_type": "code",
   "execution_count": null,
   "id": "6938bbc6",
   "metadata": {},
   "outputs": [],
   "source": []
  }
 ],
 "metadata": {
  "kernelspec": {
   "display_name": "Python 3 (ipykernel)",
   "language": "python",
   "name": "python3"
  },
  "language_info": {
   "codemirror_mode": {
    "name": "ipython",
    "version": 3
   },
   "file_extension": ".py",
   "mimetype": "text/x-python",
   "name": "python",
   "nbconvert_exporter": "python",
   "pygments_lexer": "ipython3",
   "version": "3.9.12"
  }
 },
 "nbformat": 4,
 "nbformat_minor": 5
}
