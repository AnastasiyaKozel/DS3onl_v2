{
 "cells": [
  {
   "cell_type": "markdown",
   "id": "2e5cb9c3",
   "metadata": {},
   "source": [
    "ДЗ02 Бернатович 11.09.2022\n"
   ]
  },
  {
   "cell_type": "markdown",
   "id": "5ad3d5b4",
   "metadata": {},
   "source": [
    "1 рассчитаем расход топлива маршрута"
   ]
  },
  {
   "cell_type": "code",
   "execution_count": 3,
   "id": "7cfa30ff",
   "metadata": {},
   "outputs": [
    {
     "name": "stdout",
     "output_type": "stream",
     "text": [
      "Введите длину маршрута:\n",
      "11.2\n"
     ]
    }
   ],
   "source": [
    "print(\"Введите длину маршрута:\")\n",
    "l=float(input())\n"
   ]
  },
  {
   "cell_type": "code",
   "execution_count": 5,
   "id": "d6f9946f",
   "metadata": {},
   "outputs": [
    {
     "name": "stdout",
     "output_type": "stream",
     "text": [
      "Расход топлива на 100 километров:\n",
      "8.9\n"
     ]
    }
   ],
   "source": [
    "print(\"Расход топлива на 100 километров:\")\n",
    "cr=float(input())"
   ]
  },
  {
   "cell_type": "code",
   "execution_count": 6,
   "id": "e13e9541",
   "metadata": {},
   "outputs": [],
   "source": [
    "res=cr*l/100"
   ]
  },
  {
   "cell_type": "code",
   "execution_count": 7,
   "id": "a8349d12",
   "metadata": {},
   "outputs": [],
   "source": [
    "class Neg_num(Exception):\n",
    "    pass"
   ]
  },
  {
   "cell_type": "code",
   "execution_count": 8,
   "id": "cd5bd0ec",
   "metadata": {},
   "outputs": [
    {
     "name": "stdout",
     "output_type": "stream",
     "text": [
      "Рассход топлива на маршрут: 0.9967999999999999 л.\n"
     ]
    }
   ],
   "source": [
    "try:\n",
    "    if res>0:\n",
    "        print(\"Рассход топлива на маршрут:\", res, \"л.\")\n",
    "    else:\n",
    "        raise Neg_num\n",
    "except Neg_num as e:\n",
    "    print(\"Введите число >0\") "
   ]
  },
  {
   "cell_type": "markdown",
   "id": "e8ca5826",
   "metadata": {},
   "source": [
    "2 найдем корни квадратного уравнения "
   ]
  },
  {
   "cell_type": "code",
   "execution_count": 9,
   "id": "8b87a0f1",
   "metadata": {},
   "outputs": [
    {
     "name": "stdout",
     "output_type": "stream",
     "text": [
      "Введите коэффициенты a, b, c квадратного уравнения ax^2+bx+c=0\n",
      "-2\n",
      "-5\n",
      "-1.1\n"
     ]
    }
   ],
   "source": [
    "print(\"Введите коэффициенты a, b, c квадратного уравнения ax^2+bx+c=0\")\n",
    "a, b, c = float(input()), float(input()), float(input()) #коэффициенты квадратного уравнения a*x*x+b*x+c"
   ]
  },
  {
   "cell_type": "code",
   "execution_count": 10,
   "id": "d0996651",
   "metadata": {},
   "outputs": [],
   "source": [
    "from math import *"
   ]
  },
  {
   "cell_type": "code",
   "execution_count": 11,
   "id": "21ad8d87",
   "metadata": {},
   "outputs": [],
   "source": [
    "d=pow(b,2)-4*a*c #дискриминант квадратного уравнения"
   ]
  },
  {
   "cell_type": "code",
   "execution_count": 12,
   "id": "f2508b6e",
   "metadata": {},
   "outputs": [
    {
     "name": "stdout",
     "output_type": "stream",
     "text": [
      "Корни уравнения: -0.24376941012509468, -2.2562305898749053\n"
     ]
    }
   ],
   "source": [
    "if d<0:\n",
    "  print(\"Нет корней\")\n",
    "elif d==0:\n",
    "  print(\"Уравнение имеет один корень\", -b/(2*a))\n",
    "else:\n",
    "  x1=(-b-sqrt(d))/(2*a)\n",
    "  x2=(-b+sqrt(d))/(2*a)\n",
    "  print(f\"Корни уравнения: {x1}, {x2}\")\n"
   ]
  },
  {
   "cell_type": "markdown",
   "id": "e62134eb",
   "metadata": {},
   "source": [
    "3 найдём находящую наибольшее и наименьшее значение функции y = -26*x^2+25*x-9 на отрезке [-5,5]"
   ]
  },
  {
   "cell_type": "code",
   "execution_count": 13,
   "id": "cf1f54e6",
   "metadata": {},
   "outputs": [],
   "source": [
    "min_y=0\n",
    "max_y=0"
   ]
  },
  {
   "cell_type": "code",
   "execution_count": 14,
   "id": "0ea1e93e",
   "metadata": {},
   "outputs": [],
   "source": [
    "x=-5\n",
    "res_y=[]\n",
    "while x<=5:\n",
    "    y=-26*x*x+25*x-9\n",
    "    res_y.append(y)\n",
    "    x+=0.1        "
   ]
  },
  {
   "cell_type": "code",
   "execution_count": 15,
   "id": "714d3a3a",
   "metadata": {},
   "outputs": [
    {
     "name": "stdout",
     "output_type": "stream",
     "text": [
      "наименьшее значение функции: -784, наибольшее значение функции: -2.9999999999999982\n"
     ]
    }
   ],
   "source": [
    "print(f\"наименьшее значение функции: {min(res_y)}, наибольшее значение функции: {max(res_y)}\")"
   ]
  },
  {
   "cell_type": "code",
   "execution_count": null,
   "id": "3767fc9a",
   "metadata": {},
   "outputs": [],
   "source": []
  }
 ],
 "metadata": {
  "kernelspec": {
   "display_name": "Python 3 (ipykernel)",
   "language": "python",
   "name": "python3"
  },
  "language_info": {
   "codemirror_mode": {
    "name": "ipython",
    "version": 3
   },
   "file_extension": ".py",
   "mimetype": "text/x-python",
   "name": "python",
   "nbconvert_exporter": "python",
   "pygments_lexer": "ipython3",
   "version": "3.9.12"
  }
 },
 "nbformat": 4,
 "nbformat_minor": 5
}
